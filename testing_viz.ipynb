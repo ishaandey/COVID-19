{
 "cells": [
  {
   "cell_type": "markdown",
   "metadata": {},
   "source": [
    "## Imports and Cleaning"
   ]
  },
  {
   "cell_type": "code",
   "execution_count": 2,
   "metadata": {
    "scrolled": true
   },
   "outputs": [],
   "source": [
    "# CD over to local directory to access helper functions in the interactive notebook\n",
    "!cd ~/Documents/Data_Projects/COVID/COVID-19"
   ]
  },
  {
   "cell_type": "code",
   "execution_count": 3,
   "metadata": {},
   "outputs": [],
   "source": [
    "# Change default display options of pandas\n",
    "import pandas as pd\n",
    "import numpy as np\n",
    "pd.set_option('display.max_columns', 150)\n",
    "pd.set_option('display.max_rows', 150)\n",
    "\n",
    "from datetime import timedelta\n",
    "import math\n",
    "\n",
    "# Use seaborn styling\n",
    "import matplotlib.pyplot as plt\n",
    "import matplotlib as mpl\n",
    "import seaborn as sns\n",
    "mpl.rcParams['figure.dpi']= 600\n",
    "sns.set()\n",
    "\n",
    "# Interactive visualizations\n",
    "import plotly\n",
    "import plotly.express as px\n",
    "import plotly.io as pio\n",
    "import plotly.graph_objects as go\n",
    "\n",
    "# Pull auxillary functions for data processing\n",
    "from data_clean import *\n",
    "from viz_helper import *\n",
    "%load_ext autoreload\n",
    "%autoreload 10"
   ]
  },
  {
   "cell_type": "markdown",
   "metadata": {},
   "source": [
    "### Live data\n",
    "For this project, data is read in live from Johns Hopkins CSSE, the New York Times, and the Covid Tracking Project (associated with The Atlantic). The update times for each source differ across the sources, but are typically fully updated by the next day. \n",
    "Their sources, on the other hand, are from a collection of government agencies for international cases, and often state health department websites for county and state level information. The COVID Tracking Project provides a grade for each state depending on the reliability of testing data: https://covidtracking.com/about-data.\n",
    "For quick dashboards, check out the Hopkins CSSE dash: https://coronavirus.jhu.edu/map.html.\n"
   ]
  },
  {
   "cell_type": "code",
   "execution_count": 4,
   "metadata": {},
   "outputs": [],
   "source": [
    "# Countries from Johns Hopkins, State & Local from NYT, and Testing from the Covid Tracking Project\n",
    "countries = pd.read_csv('https://raw.githubusercontent.com/CSSEGISandData/COVID-19/master/csse_covid_19_data/csse_covid_19_time_series/time_series_covid19_confirmed_global.csv')\n",
    "states = pd.read_csv('https://raw.githubusercontent.com/nytimes/covid-19-data/master/us-states.csv')\n",
    "local = pd.read_csv('https://raw.githubusercontent.com/nytimes/covid-19-data/master/us-counties.csv')"
   ]
  },
  {
   "cell_type": "code",
   "execution_count": 5,
   "metadata": {},
   "outputs": [
    {
     "name": "stderr",
     "output_type": "stream",
     "text": [
      "/anaconda3/envs/covid/lib/python3.7/site-packages/pandas/core/series.py:679: RuntimeWarning:\n",
      "\n",
      "divide by zero encountered in log\n",
      "\n",
      "/anaconda3/envs/covid/lib/python3.7/site-packages/pandas/core/series.py:679: RuntimeWarning:\n",
      "\n",
      "invalid value encountered in log\n",
      "\n"
     ]
    }
   ],
   "source": [
    "df_country = clean_data_hopkins(countries, country='all')\n",
    "df_state = clean_data_nyt(states, level='state')\n",
    "df_local = clean_data_nyt(local, level='local')"
   ]
  },
  {
   "cell_type": "code",
   "execution_count": 6,
   "metadata": {},
   "outputs": [],
   "source": [
    "testing = pd.read_json('https://covidtracking.com/api/v1/states/daily.json')\n",
    "df_testing = clean_data_trackingproject(testing)"
   ]
  },
  {
   "cell_type": "code",
   "execution_count": 7,
   "metadata": {},
   "outputs": [
    {
     "data": {
      "text/html": [
       "<div>\n",
       "<style scoped>\n",
       "    .dataframe tbody tr th:only-of-type {\n",
       "        vertical-align: middle;\n",
       "    }\n",
       "\n",
       "    .dataframe tbody tr th {\n",
       "        vertical-align: top;\n",
       "    }\n",
       "\n",
       "    .dataframe thead th {\n",
       "        text-align: right;\n",
       "    }\n",
       "</style>\n",
       "<table border=\"1\" class=\"dataframe\">\n",
       "  <thead>\n",
       "    <tr style=\"text-align: right;\">\n",
       "      <th></th>\n",
       "      <th>State</th>\n",
       "      <th>Date</th>\n",
       "    </tr>\n",
       "  </thead>\n",
       "  <tbody>\n",
       "    <tr>\n",
       "      <th>0</th>\n",
       "      <td>Alabama</td>\n",
       "      <td>2020-03-27</td>\n",
       "    </tr>\n",
       "    <tr>\n",
       "      <th>15</th>\n",
       "      <td>Kentucky</td>\n",
       "      <td>2020-03-27</td>\n",
       "    </tr>\n",
       "    <tr>\n",
       "      <th>12</th>\n",
       "      <td>Illinois</td>\n",
       "      <td>2020-03-22</td>\n",
       "    </tr>\n",
       "  </tbody>\n",
       "</table>\n",
       "</div>"
      ],
      "text/plain": [
       "       State        Date\n",
       "0    Alabama  2020-03-27\n",
       "15  Kentucky  2020-03-27\n",
       "12  Illinois  2020-03-22"
      ]
     },
     "execution_count": 7,
     "metadata": {},
     "output_type": "execute_result"
    }
   ],
   "source": [
    "# Quick list of dates when US states entered into some form of containment or lockdown\n",
    "containment = pd.read_csv('containment.txt')\n",
    "containment.columns = ['State', 'Date']\n",
    "containment = containment.sort_values(by='Date').groupby(by='State').agg('last').reset_index()\n",
    "containment.sample(3)"
   ]
  },
  {
   "cell_type": "code",
   "execution_count": 8,
   "metadata": {},
   "outputs": [],
   "source": [
    "# US population census data \n",
    "# us_census = pd.read_csv(\"../input/us-census-demographic-data/acs2017_county_data.csv\")\n",
    "# state_abbr = pd.read_csv(\"https://raw.githubusercontent.com/jasonong/List-of-US-States/master/states.csv\")"
   ]
  },
  {
   "cell_type": "code",
   "execution_count": 9,
   "metadata": {},
   "outputs": [
    {
     "data": {
      "text/html": [
       "<div>\n",
       "<style scoped>\n",
       "    .dataframe tbody tr th:only-of-type {\n",
       "        vertical-align: middle;\n",
       "    }\n",
       "\n",
       "    .dataframe tbody tr th {\n",
       "        vertical-align: top;\n",
       "    }\n",
       "\n",
       "    .dataframe thead th {\n",
       "        text-align: right;\n",
       "    }\n",
       "</style>\n",
       "<table border=\"1\" class=\"dataframe\">\n",
       "  <thead>\n",
       "    <tr style=\"text-align: right;\">\n",
       "      <th></th>\n",
       "      <th>Country</th>\n",
       "      <th>Date</th>\n",
       "      <th>Confirmed</th>\n",
       "      <th>EpidemicStartDate</th>\n",
       "      <th>DaysElapsed</th>\n",
       "      <th>NewConfirmed</th>\n",
       "      <th>DaysElapsed_Log</th>\n",
       "      <th>Confirmed_Log</th>\n",
       "      <th>NewConfirmed_Log</th>\n",
       "    </tr>\n",
       "  </thead>\n",
       "  <tbody>\n",
       "    <tr>\n",
       "      <th>14416</th>\n",
       "      <td>US</td>\n",
       "      <td>2020-04-08</td>\n",
       "      <td>429052</td>\n",
       "      <td>2020-01-24</td>\n",
       "      <td>76</td>\n",
       "      <td>32829.0</td>\n",
       "      <td>4.330733</td>\n",
       "      <td>12.969333</td>\n",
       "      <td>10.399068</td>\n",
       "    </tr>\n",
       "    <tr>\n",
       "      <th>14601</th>\n",
       "      <td>US</td>\n",
       "      <td>2020-04-09</td>\n",
       "      <td>461437</td>\n",
       "      <td>2020-01-24</td>\n",
       "      <td>77</td>\n",
       "      <td>32385.0</td>\n",
       "      <td>4.343805</td>\n",
       "      <td>13.042101</td>\n",
       "      <td>10.385451</td>\n",
       "    </tr>\n",
       "    <tr>\n",
       "      <th>14786</th>\n",
       "      <td>US</td>\n",
       "      <td>2020-04-10</td>\n",
       "      <td>496535</td>\n",
       "      <td>2020-01-24</td>\n",
       "      <td>78</td>\n",
       "      <td>35098.0</td>\n",
       "      <td>4.356709</td>\n",
       "      <td>13.115409</td>\n",
       "      <td>10.465899</td>\n",
       "    </tr>\n",
       "  </tbody>\n",
       "</table>\n",
       "</div>"
      ],
      "text/plain": [
       "      Country        Date  Confirmed EpidemicStartDate  DaysElapsed  \\\n",
       "14416      US  2020-04-08     429052        2020-01-24           76   \n",
       "14601      US  2020-04-09     461437        2020-01-24           77   \n",
       "14786      US  2020-04-10     496535        2020-01-24           78   \n",
       "\n",
       "       NewConfirmed  DaysElapsed_Log  Confirmed_Log  NewConfirmed_Log  \n",
       "14416       32829.0         4.330733      12.969333         10.399068  \n",
       "14601       32385.0         4.343805      13.042101         10.385451  \n",
       "14786       35098.0         4.356709      13.115409         10.465899  "
      ]
     },
     "execution_count": 9,
     "metadata": {},
     "output_type": "execute_result"
    }
   ],
   "source": [
    "df_country[df_country.Country.isin(['US'])].tail(3)"
   ]
  },
  {
   "cell_type": "code",
   "execution_count": 10,
   "metadata": {},
   "outputs": [
    {
     "data": {
      "text/html": [
       "<div>\n",
       "<style scoped>\n",
       "    .dataframe tbody tr th:only-of-type {\n",
       "        vertical-align: middle;\n",
       "    }\n",
       "\n",
       "    .dataframe tbody tr th {\n",
       "        vertical-align: top;\n",
       "    }\n",
       "\n",
       "    .dataframe thead th {\n",
       "        text-align: right;\n",
       "    }\n",
       "</style>\n",
       "<table border=\"1\" class=\"dataframe\">\n",
       "  <thead>\n",
       "    <tr style=\"text-align: right;\">\n",
       "      <th></th>\n",
       "      <th>Confirmed</th>\n",
       "    </tr>\n",
       "    <tr>\n",
       "      <th>Date</th>\n",
       "      <th></th>\n",
       "    </tr>\n",
       "  </thead>\n",
       "  <tbody>\n",
       "    <tr>\n",
       "      <th>2020-04-03</th>\n",
       "      <td>915.0</td>\n",
       "    </tr>\n",
       "    <tr>\n",
       "      <th>2020-04-04</th>\n",
       "      <td>2683.0</td>\n",
       "    </tr>\n",
       "    <tr>\n",
       "      <th>2020-04-05</th>\n",
       "      <td>-298.0</td>\n",
       "    </tr>\n",
       "    <tr>\n",
       "      <th>2020-04-06</th>\n",
       "      <td>-429.0</td>\n",
       "    </tr>\n",
       "    <tr>\n",
       "      <th>2020-04-07</th>\n",
       "      <td>1531.0</td>\n",
       "    </tr>\n",
       "    <tr>\n",
       "      <th>2020-04-08</th>\n",
       "      <td>267.0</td>\n",
       "    </tr>\n",
       "    <tr>\n",
       "      <th>2020-04-09</th>\n",
       "      <td>2247.0</td>\n",
       "    </tr>\n",
       "  </tbody>\n",
       "</table>\n",
       "</div>"
      ],
      "text/plain": [
       "            Confirmed\n",
       "Date                 \n",
       "2020-04-03      915.0\n",
       "2020-04-04     2683.0\n",
       "2020-04-05     -298.0\n",
       "2020-04-06     -429.0\n",
       "2020-04-07     1531.0\n",
       "2020-04-08      267.0\n",
       "2020-04-09     2247.0"
      ]
     },
     "execution_count": 10,
     "metadata": {},
     "output_type": "execute_result"
    }
   ],
   "source": [
    "# NYT aggregated state counts differ somewhat from hopkins (Usually within 1% error)\n",
    "pd.DataFrame(df_state.groupby('Date').sum().Confirmed - df_country[df_country.Country=='US'].groupby('Date').sum().Confirmed).dropna().tail(7)"
   ]
  },
  {
   "cell_type": "markdown",
   "metadata": {},
   "source": [
    "## Are we flattening the curve?"
   ]
  },
  {
   "cell_type": "markdown",
   "metadata": {},
   "source": [
    "### New confirmed cases vs cumulatative cases\n",
    "\n",
    "For an exponential growth function, the slope of the curve, or daily increase in cases should always remain proportional to the total number of cases in a given region. With that expectation, we would expect regions experiencing exponential growth to exhibit linearity when plotting log of new cases against log of current cases. Countries that have moved past this plateau, such as South Korea and China (as of 4/05), should taper off, as described in the following video by Henry Reich and Aashish B: https://www.youtube.com/watch?v=54XLXg4fYsc"
   ]
  },
  {
   "cell_type": "markdown",
   "metadata": {},
   "source": [
    "Why does this work?\n",
    "If a given infected individual passes on the virus to a rate of $k$ other people, we can model the rate of change of the number of infected as $dY/dt=kY$, where k is is that rate of transmission, and Y is the current number of infected individuals. By integrating this function, we get a simple exponential model in the form of $Y = Ae^{rt}$. \n",
    "\n",
    "As long as we operate under the assumption of exponential growth, we would expect that the slope of the curve is proportional to the current value of the curve at a point in time. In other words, we should expect that regardless of what exact time along the curve we're looking at (and thus what the current case count for that day is), the daily increase in case counts from the previous day (roughly the derivative in the discrete case) should be at the same proportion. When we plot that out here, using `NewConfirmed` and `Confirmed` counts for various countries, we can see that countries who have plateaued start to fall off that line quite rapidly. This makes it an incredibly powerful and visual tool to see where we are in the long-term trajectory. \n",
    "\n",
    "<!-- However, a virus can't simply be growing exponentially for perpetuity, as we'll eventually hit some upper ceiling, which is quite literally just the number of people in the population. We can then adjust our previous model by adding in a factor for how far we are away from that limit, or $Y/L$, where L is the population limit: $dy/dt = kY(1-Y/L)$. This corresponds to our logistic curve. Note that when $Y$ is much smaller than $L$, the ratio of $Y/L$ goes to zero, and the rate of change looks a lot like the exponential.  -->"
   ]
  },
  {
   "cell_type": "code",
   "execution_count": 16,
   "metadata": {},
   "outputs": [
    {
     "data": {
      "application/vnd.plotly.v1+json": {
       "config": {
        "plotlyServerURL": "https://plot.ly"
       },
       "data": [
        {
         "customdata": [
          [
           null,
           548,
           "2020-01-22",
           "2020-01-22"
          ],
          [
           95,
           643,
           "2020-01-23",
           "2020-01-22"
          ],
          [
           277,
           920,
           "2020-01-24",
           "2020-01-22"
          ],
          [
           486,
           1406,
           "2020-01-25",
           "2020-01-22"
          ],
          [
           669,
           2075,
           "2020-01-26",
           "2020-01-22"
          ],
          [
           802,
           2877,
           "2020-01-27",
           "2020-01-22"
          ],
          [
           2632,
           5509,
           "2020-01-28",
           "2020-01-22"
          ],
          [
           578,
           6087,
           "2020-01-29",
           "2020-01-22"
          ],
          [
           2054,
           8141,
           "2020-01-30",
           "2020-01-22"
          ],
          [
           1661,
           9802,
           "2020-01-31",
           "2020-01-22"
          ],
          [
           2089,
           11891,
           "2020-02-01",
           "2020-01-22"
          ],
          [
           4739,
           16630,
           "2020-02-02",
           "2020-01-22"
          ],
          [
           3086,
           19716,
           "2020-02-03",
           "2020-01-22"
          ],
          [
           3991,
           23707,
           "2020-02-04",
           "2020-01-22"
          ],
          [
           3733,
           27440,
           "2020-02-05",
           "2020-01-22"
          ],
          [
           3147,
           30587,
           "2020-02-06",
           "2020-01-22"
          ],
          [
           3523,
           34110,
           "2020-02-07",
           "2020-01-22"
          ],
          [
           2704,
           36814,
           "2020-02-08",
           "2020-01-22"
          ],
          [
           3015,
           39829,
           "2020-02-09",
           "2020-01-22"
          ],
          [
           2525,
           42354,
           "2020-02-10",
           "2020-01-22"
          ],
          [
           2032,
           44386,
           "2020-02-11",
           "2020-01-22"
          ],
          [
           373,
           44759,
           "2020-02-12",
           "2020-01-22"
          ],
          [
           15136,
           59895,
           "2020-02-13",
           "2020-01-22"
          ],
          [
           6463,
           66358,
           "2020-02-14",
           "2020-01-22"
          ],
          [
           2055,
           68413,
           "2020-02-15",
           "2020-01-22"
          ],
          [
           2100,
           70513,
           "2020-02-16",
           "2020-01-22"
          ],
          [
           1921,
           72434,
           "2020-02-17",
           "2020-01-22"
          ],
          [
           1777,
           74211,
           "2020-02-18",
           "2020-01-22"
          ],
          [
           408,
           74619,
           "2020-02-19",
           "2020-01-22"
          ],
          [
           458,
           75077,
           "2020-02-20",
           "2020-01-22"
          ],
          [
           473,
           75550,
           "2020-02-21",
           "2020-01-22"
          ],
          [
           1451,
           77001,
           "2020-02-22",
           "2020-01-22"
          ],
          [
           21,
           77022,
           "2020-02-23",
           "2020-01-22"
          ],
          [
           219,
           77241,
           "2020-02-24",
           "2020-01-22"
          ],
          [
           513,
           77754,
           "2020-02-25",
           "2020-01-22"
          ],
          [
           412,
           78166,
           "2020-02-26",
           "2020-01-22"
          ],
          [
           434,
           78600,
           "2020-02-27",
           "2020-01-22"
          ],
          [
           328,
           78928,
           "2020-02-28",
           "2020-01-22"
          ],
          [
           428,
           79356,
           "2020-02-29",
           "2020-01-22"
          ],
          [
           576,
           79932,
           "2020-03-01",
           "2020-01-22"
          ],
          [
           204,
           80136,
           "2020-03-02",
           "2020-01-22"
          ],
          [
           125,
           80261,
           "2020-03-03",
           "2020-01-22"
          ],
          [
           125,
           80386,
           "2020-03-04",
           "2020-01-22"
          ],
          [
           151,
           80537,
           "2020-03-05",
           "2020-01-22"
          ],
          [
           153,
           80690,
           "2020-03-06",
           "2020-01-22"
          ],
          [
           80,
           80770,
           "2020-03-07",
           "2020-01-22"
          ],
          [
           53,
           80823,
           "2020-03-08",
           "2020-01-22"
          ],
          [
           37,
           80860,
           "2020-03-09",
           "2020-01-22"
          ],
          [
           27,
           80887,
           "2020-03-10",
           "2020-01-22"
          ],
          [
           34,
           80921,
           "2020-03-11",
           "2020-01-22"
          ],
          [
           11,
           80932,
           "2020-03-12",
           "2020-01-22"
          ],
          [
           13,
           80945,
           "2020-03-13",
           "2020-01-22"
          ],
          [
           32,
           80977,
           "2020-03-14",
           "2020-01-22"
          ],
          [
           26,
           81003,
           "2020-03-15",
           "2020-01-22"
          ],
          [
           30,
           81033,
           "2020-03-16",
           "2020-01-22"
          ],
          [
           25,
           81058,
           "2020-03-17",
           "2020-01-22"
          ],
          [
           44,
           81102,
           "2020-03-18",
           "2020-01-22"
          ],
          [
           54,
           81156,
           "2020-03-19",
           "2020-01-22"
          ],
          [
           94,
           81250,
           "2020-03-20",
           "2020-01-22"
          ],
          [
           55,
           81305,
           "2020-03-21",
           "2020-01-22"
          ],
          [
           130,
           81435,
           "2020-03-22",
           "2020-01-22"
          ],
          [
           63,
           81498,
           "2020-03-23",
           "2020-01-22"
          ],
          [
           93,
           81591,
           "2020-03-24",
           "2020-01-22"
          ],
          [
           70,
           81661,
           "2020-03-25",
           "2020-01-22"
          ],
          [
           121,
           81782,
           "2020-03-26",
           "2020-01-22"
          ],
          [
           115,
           81897,
           "2020-03-27",
           "2020-01-22"
          ],
          [
           102,
           81999,
           "2020-03-28",
           "2020-01-22"
          ],
          [
           123,
           82122,
           "2020-03-29",
           "2020-01-22"
          ],
          [
           76,
           82198,
           "2020-03-30",
           "2020-01-22"
          ],
          [
           81,
           82279,
           "2020-03-31",
           "2020-01-22"
          ],
          [
           82,
           82361,
           "2020-04-01",
           "2020-01-22"
          ],
          [
           71,
           82432,
           "2020-04-02",
           "2020-01-22"
          ],
          [
           79,
           82511,
           "2020-04-03",
           "2020-01-22"
          ],
          [
           32,
           82543,
           "2020-04-04",
           "2020-01-22"
          ],
          [
           59,
           82602,
           "2020-04-05",
           "2020-01-22"
          ],
          [
           63,
           82665,
           "2020-04-06",
           "2020-01-22"
          ],
          [
           53,
           82718,
           "2020-04-07",
           "2020-01-22"
          ],
          [
           91,
           82809,
           "2020-04-08",
           "2020-01-22"
          ],
          [
           74,
           82883,
           "2020-04-09",
           "2020-01-22"
          ],
          [
           58,
           82941,
           "2020-04-10",
           "2020-01-22"
          ]
         ],
         "hovertemplate": "<b>%{hovertext}</b><br><br>Country=China<br>Confirmed=%{customdata[1]}<br>NewConfirmed=%{customdata[0]}<br>Date=%{customdata[2]}<br>EpidemicStartDate=%{customdata[3]}<extra></extra>",
         "hovertext": [
          "2020-01-22",
          "2020-01-23",
          "2020-01-24",
          "2020-01-25",
          "2020-01-26",
          "2020-01-27",
          "2020-01-28",
          "2020-01-29",
          "2020-01-30",
          "2020-01-31",
          "2020-02-01",
          "2020-02-02",
          "2020-02-03",
          "2020-02-04",
          "2020-02-05",
          "2020-02-06",
          "2020-02-07",
          "2020-02-08",
          "2020-02-09",
          "2020-02-10",
          "2020-02-11",
          "2020-02-12",
          "2020-02-13",
          "2020-02-14",
          "2020-02-15",
          "2020-02-16",
          "2020-02-17",
          "2020-02-18",
          "2020-02-19",
          "2020-02-20",
          "2020-02-21",
          "2020-02-22",
          "2020-02-23",
          "2020-02-24",
          "2020-02-25",
          "2020-02-26",
          "2020-02-27",
          "2020-02-28",
          "2020-02-29",
          "2020-03-01",
          "2020-03-02",
          "2020-03-03",
          "2020-03-04",
          "2020-03-05",
          "2020-03-06",
          "2020-03-07",
          "2020-03-08",
          "2020-03-09",
          "2020-03-10",
          "2020-03-11",
          "2020-03-12",
          "2020-03-13",
          "2020-03-14",
          "2020-03-15",
          "2020-03-16",
          "2020-03-17",
          "2020-03-18",
          "2020-03-19",
          "2020-03-20",
          "2020-03-21",
          "2020-03-22",
          "2020-03-23",
          "2020-03-24",
          "2020-03-25",
          "2020-03-26",
          "2020-03-27",
          "2020-03-28",
          "2020-03-29",
          "2020-03-30",
          "2020-03-31",
          "2020-04-01",
          "2020-04-02",
          "2020-04-03",
          "2020-04-04",
          "2020-04-05",
          "2020-04-06",
          "2020-04-07",
          "2020-04-08",
          "2020-04-09",
          "2020-04-10"
         ],
         "legendgroup": "China",
         "marker": {
          "color": "#4C78A8",
          "opacity": 0.9,
          "symbol": "circle"
         },
         "mode": "markers",
         "name": "China",
         "showlegend": true,
         "type": "scatter",
         "x": [
          548,
          643,
          920,
          1406,
          2075,
          2877,
          5509,
          6087,
          8141,
          9802,
          11891,
          16630,
          19716,
          23707,
          27440,
          30587,
          34110,
          36814,
          39829,
          42354,
          44386,
          44759,
          59895,
          66358,
          68413,
          70513,
          72434,
          74211,
          74619,
          75077,
          75550,
          77001,
          77022,
          77241,
          77754,
          78166,
          78600,
          78928,
          79356,
          79932,
          80136,
          80261,
          80386,
          80537,
          80690,
          80770,
          80823,
          80860,
          80887,
          80921,
          80932,
          80945,
          80977,
          81003,
          81033,
          81058,
          81102,
          81156,
          81250,
          81305,
          81435,
          81498,
          81591,
          81661,
          81782,
          81897,
          81999,
          82122,
          82198,
          82279,
          82361,
          82432,
          82511,
          82543,
          82602,
          82665,
          82718,
          82809,
          82883,
          82941
         ],
         "xaxis": "x",
         "y": [
          null,
          95,
          277,
          486,
          669,
          802,
          2632,
          578,
          2054,
          1661,
          2089,
          4739,
          3086,
          3991,
          3733,
          3147,
          3523,
          2704,
          3015,
          2525,
          2032,
          373,
          15136,
          6463,
          2055,
          2100,
          1921,
          1777,
          408,
          458,
          473,
          1451,
          21,
          219,
          513,
          412,
          434,
          328,
          428,
          576,
          204,
          125,
          125,
          151,
          153,
          80,
          53,
          37,
          27,
          34,
          11,
          13,
          32,
          26,
          30,
          25,
          44,
          54,
          94,
          55,
          130,
          63,
          93,
          70,
          121,
          115,
          102,
          123,
          76,
          81,
          82,
          71,
          79,
          32,
          59,
          63,
          53,
          91,
          74,
          58
         ],
         "yaxis": "y"
        },
        {
         "customdata": [
          [
           73,
           104,
           "2020-02-20",
           "2020-01-24"
          ],
          [
           100,
           204,
           "2020-02-21",
           "2020-01-24"
          ],
          [
           229,
           433,
           "2020-02-22",
           "2020-01-24"
          ],
          [
           169,
           602,
           "2020-02-23",
           "2020-01-24"
          ],
          [
           231,
           833,
           "2020-02-24",
           "2020-01-24"
          ],
          [
           144,
           977,
           "2020-02-25",
           "2020-01-24"
          ],
          [
           284,
           1261,
           "2020-02-26",
           "2020-01-24"
          ],
          [
           505,
           1766,
           "2020-02-27",
           "2020-01-24"
          ],
          [
           571,
           2337,
           "2020-02-28",
           "2020-01-24"
          ],
          [
           813,
           3150,
           "2020-02-29",
           "2020-01-24"
          ],
          [
           586,
           3736,
           "2020-03-01",
           "2020-01-24"
          ],
          [
           599,
           4335,
           "2020-03-02",
           "2020-01-24"
          ],
          [
           851,
           5186,
           "2020-03-03",
           "2020-01-24"
          ],
          [
           435,
           5621,
           "2020-03-04",
           "2020-01-24"
          ],
          [
           467,
           6088,
           "2020-03-05",
           "2020-01-24"
          ],
          [
           505,
           6593,
           "2020-03-06",
           "2020-01-24"
          ],
          [
           448,
           7041,
           "2020-03-07",
           "2020-01-24"
          ],
          [
           273,
           7314,
           "2020-03-08",
           "2020-01-24"
          ],
          [
           164,
           7478,
           "2020-03-09",
           "2020-01-24"
          ],
          [
           35,
           7513,
           "2020-03-10",
           "2020-01-24"
          ],
          [
           242,
           7755,
           "2020-03-11",
           "2020-01-24"
          ],
          [
           114,
           7869,
           "2020-03-12",
           "2020-01-24"
          ],
          [
           110,
           7979,
           "2020-03-13",
           "2020-01-24"
          ],
          [
           107,
           8086,
           "2020-03-14",
           "2020-01-24"
          ],
          [
           76,
           8162,
           "2020-03-15",
           "2020-01-24"
          ],
          [
           74,
           8236,
           "2020-03-16",
           "2020-01-24"
          ],
          [
           84,
           8320,
           "2020-03-17",
           "2020-01-24"
          ],
          [
           93,
           8413,
           "2020-03-18",
           "2020-01-24"
          ],
          [
           152,
           8565,
           "2020-03-19",
           "2020-01-24"
          ],
          [
           87,
           8652,
           "2020-03-20",
           "2020-01-24"
          ],
          [
           147,
           8799,
           "2020-03-21",
           "2020-01-24"
          ],
          [
           162,
           8961,
           "2020-03-22",
           "2020-01-24"
          ],
          [
           0,
           8961,
           "2020-03-23",
           "2020-01-24"
          ],
          [
           76,
           9037,
           "2020-03-24",
           "2020-01-24"
          ],
          [
           100,
           9137,
           "2020-03-25",
           "2020-01-24"
          ],
          [
           104,
           9241,
           "2020-03-26",
           "2020-01-24"
          ],
          [
           91,
           9332,
           "2020-03-27",
           "2020-01-24"
          ],
          [
           146,
           9478,
           "2020-03-28",
           "2020-01-24"
          ],
          [
           105,
           9583,
           "2020-03-29",
           "2020-01-24"
          ],
          [
           78,
           9661,
           "2020-03-30",
           "2020-01-24"
          ],
          [
           125,
           9786,
           "2020-03-31",
           "2020-01-24"
          ],
          [
           101,
           9887,
           "2020-04-01",
           "2020-01-24"
          ],
          [
           89,
           9976,
           "2020-04-02",
           "2020-01-24"
          ],
          [
           86,
           10062,
           "2020-04-03",
           "2020-01-24"
          ],
          [
           94,
           10156,
           "2020-04-04",
           "2020-01-24"
          ],
          [
           81,
           10237,
           "2020-04-05",
           "2020-01-24"
          ],
          [
           47,
           10284,
           "2020-04-06",
           "2020-01-24"
          ],
          [
           47,
           10331,
           "2020-04-07",
           "2020-01-24"
          ],
          [
           53,
           10384,
           "2020-04-08",
           "2020-01-24"
          ],
          [
           39,
           10423,
           "2020-04-09",
           "2020-01-24"
          ],
          [
           27,
           10450,
           "2020-04-10",
           "2020-01-24"
          ]
         ],
         "hovertemplate": "<b>%{hovertext}</b><br><br>Country=Korea, South<br>Confirmed=%{customdata[1]}<br>NewConfirmed=%{customdata[0]}<br>Date=%{customdata[2]}<br>EpidemicStartDate=%{customdata[3]}<extra></extra>",
         "hovertext": [
          "2020-02-20",
          "2020-02-21",
          "2020-02-22",
          "2020-02-23",
          "2020-02-24",
          "2020-02-25",
          "2020-02-26",
          "2020-02-27",
          "2020-02-28",
          "2020-02-29",
          "2020-03-01",
          "2020-03-02",
          "2020-03-03",
          "2020-03-04",
          "2020-03-05",
          "2020-03-06",
          "2020-03-07",
          "2020-03-08",
          "2020-03-09",
          "2020-03-10",
          "2020-03-11",
          "2020-03-12",
          "2020-03-13",
          "2020-03-14",
          "2020-03-15",
          "2020-03-16",
          "2020-03-17",
          "2020-03-18",
          "2020-03-19",
          "2020-03-20",
          "2020-03-21",
          "2020-03-22",
          "2020-03-23",
          "2020-03-24",
          "2020-03-25",
          "2020-03-26",
          "2020-03-27",
          "2020-03-28",
          "2020-03-29",
          "2020-03-30",
          "2020-03-31",
          "2020-04-01",
          "2020-04-02",
          "2020-04-03",
          "2020-04-04",
          "2020-04-05",
          "2020-04-06",
          "2020-04-07",
          "2020-04-08",
          "2020-04-09",
          "2020-04-10"
         ],
         "legendgroup": "Korea, South",
         "marker": {
          "color": "#F58518",
          "opacity": 0.9,
          "symbol": "diamond"
         },
         "mode": "markers",
         "name": "Korea, South",
         "showlegend": true,
         "type": "scatter",
         "x": [
          104,
          204,
          433,
          602,
          833,
          977,
          1261,
          1766,
          2337,
          3150,
          3736,
          4335,
          5186,
          5621,
          6088,
          6593,
          7041,
          7314,
          7478,
          7513,
          7755,
          7869,
          7979,
          8086,
          8162,
          8236,
          8320,
          8413,
          8565,
          8652,
          8799,
          8961,
          8961,
          9037,
          9137,
          9241,
          9332,
          9478,
          9583,
          9661,
          9786,
          9887,
          9976,
          10062,
          10156,
          10237,
          10284,
          10331,
          10384,
          10423,
          10450
         ],
         "xaxis": "x",
         "y": [
          73,
          100,
          229,
          169,
          231,
          144,
          284,
          505,
          571,
          813,
          586,
          599,
          851,
          435,
          467,
          505,
          448,
          273,
          164,
          35,
          242,
          114,
          110,
          107,
          76,
          74,
          84,
          93,
          152,
          87,
          147,
          162,
          0,
          76,
          100,
          104,
          91,
          146,
          105,
          78,
          125,
          101,
          89,
          86,
          94,
          81,
          47,
          47,
          53,
          39,
          27
         ],
         "yaxis": "y"
        },
        {
         "customdata": [
          [
           42,
           62,
           "2020-02-22",
           "2020-01-31"
          ],
          [
           93,
           155,
           "2020-02-23",
           "2020-01-31"
          ],
          [
           74,
           229,
           "2020-02-24",
           "2020-01-31"
          ],
          [
           93,
           322,
           "2020-02-25",
           "2020-01-31"
          ],
          [
           131,
           453,
           "2020-02-26",
           "2020-01-31"
          ],
          [
           202,
           655,
           "2020-02-27",
           "2020-01-31"
          ],
          [
           233,
           888,
           "2020-02-28",
           "2020-01-31"
          ],
          [
           240,
           1128,
           "2020-02-29",
           "2020-01-31"
          ],
          [
           566,
           1694,
           "2020-03-01",
           "2020-01-31"
          ],
          [
           342,
           2036,
           "2020-03-02",
           "2020-01-31"
          ],
          [
           466,
           2502,
           "2020-03-03",
           "2020-01-31"
          ],
          [
           587,
           3089,
           "2020-03-04",
           "2020-01-31"
          ],
          [
           769,
           3858,
           "2020-03-05",
           "2020-01-31"
          ],
          [
           778,
           4636,
           "2020-03-06",
           "2020-01-31"
          ],
          [
           1247,
           5883,
           "2020-03-07",
           "2020-01-31"
          ],
          [
           1492,
           7375,
           "2020-03-08",
           "2020-01-31"
          ],
          [
           1797,
           9172,
           "2020-03-09",
           "2020-01-31"
          ],
          [
           977,
           10149,
           "2020-03-10",
           "2020-01-31"
          ],
          [
           2313,
           12462,
           "2020-03-11",
           "2020-01-31"
          ],
          [
           0,
           12462,
           "2020-03-12",
           "2020-01-31"
          ],
          [
           5198,
           17660,
           "2020-03-13",
           "2020-01-31"
          ],
          [
           3497,
           21157,
           "2020-03-14",
           "2020-01-31"
          ],
          [
           3590,
           24747,
           "2020-03-15",
           "2020-01-31"
          ],
          [
           3233,
           27980,
           "2020-03-16",
           "2020-01-31"
          ],
          [
           3526,
           31506,
           "2020-03-17",
           "2020-01-31"
          ],
          [
           4207,
           35713,
           "2020-03-18",
           "2020-01-31"
          ],
          [
           5322,
           41035,
           "2020-03-19",
           "2020-01-31"
          ],
          [
           5986,
           47021,
           "2020-03-20",
           "2020-01-31"
          ],
          [
           6557,
           53578,
           "2020-03-21",
           "2020-01-31"
          ],
          [
           5560,
           59138,
           "2020-03-22",
           "2020-01-31"
          ],
          [
           4789,
           63927,
           "2020-03-23",
           "2020-01-31"
          ],
          [
           5249,
           69176,
           "2020-03-24",
           "2020-01-31"
          ],
          [
           5210,
           74386,
           "2020-03-25",
           "2020-01-31"
          ],
          [
           6203,
           80589,
           "2020-03-26",
           "2020-01-31"
          ],
          [
           5909,
           86498,
           "2020-03-27",
           "2020-01-31"
          ],
          [
           5974,
           92472,
           "2020-03-28",
           "2020-01-31"
          ],
          [
           5217,
           97689,
           "2020-03-29",
           "2020-01-31"
          ],
          [
           4050,
           101739,
           "2020-03-30",
           "2020-01-31"
          ],
          [
           4053,
           105792,
           "2020-03-31",
           "2020-01-31"
          ],
          [
           4782,
           110574,
           "2020-04-01",
           "2020-01-31"
          ],
          [
           4668,
           115242,
           "2020-04-02",
           "2020-01-31"
          ],
          [
           4585,
           119827,
           "2020-04-03",
           "2020-01-31"
          ],
          [
           4805,
           124632,
           "2020-04-04",
           "2020-01-31"
          ],
          [
           4316,
           128948,
           "2020-04-05",
           "2020-01-31"
          ],
          [
           3599,
           132547,
           "2020-04-06",
           "2020-01-31"
          ],
          [
           3039,
           135586,
           "2020-04-07",
           "2020-01-31"
          ],
          [
           3836,
           139422,
           "2020-04-08",
           "2020-01-31"
          ],
          [
           4204,
           143626,
           "2020-04-09",
           "2020-01-31"
          ],
          [
           3951,
           147577,
           "2020-04-10",
           "2020-01-31"
          ]
         ],
         "hovertemplate": "<b>%{hovertext}</b><br><br>Country=Italy<br>Confirmed=%{customdata[1]}<br>NewConfirmed=%{customdata[0]}<br>Date=%{customdata[2]}<br>EpidemicStartDate=%{customdata[3]}<extra></extra>",
         "hovertext": [
          "2020-02-22",
          "2020-02-23",
          "2020-02-24",
          "2020-02-25",
          "2020-02-26",
          "2020-02-27",
          "2020-02-28",
          "2020-02-29",
          "2020-03-01",
          "2020-03-02",
          "2020-03-03",
          "2020-03-04",
          "2020-03-05",
          "2020-03-06",
          "2020-03-07",
          "2020-03-08",
          "2020-03-09",
          "2020-03-10",
          "2020-03-11",
          "2020-03-12",
          "2020-03-13",
          "2020-03-14",
          "2020-03-15",
          "2020-03-16",
          "2020-03-17",
          "2020-03-18",
          "2020-03-19",
          "2020-03-20",
          "2020-03-21",
          "2020-03-22",
          "2020-03-23",
          "2020-03-24",
          "2020-03-25",
          "2020-03-26",
          "2020-03-27",
          "2020-03-28",
          "2020-03-29",
          "2020-03-30",
          "2020-03-31",
          "2020-04-01",
          "2020-04-02",
          "2020-04-03",
          "2020-04-04",
          "2020-04-05",
          "2020-04-06",
          "2020-04-07",
          "2020-04-08",
          "2020-04-09",
          "2020-04-10"
         ],
         "legendgroup": "Italy",
         "marker": {
          "color": "#E45756",
          "opacity": 0.9,
          "symbol": "square"
         },
         "mode": "markers",
         "name": "Italy",
         "showlegend": true,
         "type": "scatter",
         "x": [
          62,
          155,
          229,
          322,
          453,
          655,
          888,
          1128,
          1694,
          2036,
          2502,
          3089,
          3858,
          4636,
          5883,
          7375,
          9172,
          10149,
          12462,
          12462,
          17660,
          21157,
          24747,
          27980,
          31506,
          35713,
          41035,
          47021,
          53578,
          59138,
          63927,
          69176,
          74386,
          80589,
          86498,
          92472,
          97689,
          101739,
          105792,
          110574,
          115242,
          119827,
          124632,
          128948,
          132547,
          135586,
          139422,
          143626,
          147577
         ],
         "xaxis": "x",
         "y": [
          42,
          93,
          74,
          93,
          131,
          202,
          233,
          240,
          566,
          342,
          466,
          587,
          769,
          778,
          1247,
          1492,
          1797,
          977,
          2313,
          0,
          5198,
          3497,
          3590,
          3233,
          3526,
          4207,
          5322,
          5986,
          6557,
          5560,
          4789,
          5249,
          5210,
          6203,
          5909,
          5974,
          5217,
          4050,
          4053,
          4782,
          4668,
          4585,
          4805,
          4316,
          3599,
          3039,
          3836,
          4204,
          3951
         ],
         "yaxis": "y"
        },
        {
         "customdata": [
          [
           36,
           51,
           "2020-02-24",
           "2020-01-24"
          ],
          [
           0,
           51,
           "2020-02-25",
           "2020-01-24"
          ],
          [
           6,
           57,
           "2020-02-26",
           "2020-01-24"
          ],
          [
           1,
           58,
           "2020-02-27",
           "2020-01-24"
          ],
          [
           2,
           60,
           "2020-02-28",
           "2020-01-24"
          ],
          [
           8,
           68,
           "2020-02-29",
           "2020-01-24"
          ],
          [
           6,
           74,
           "2020-03-01",
           "2020-01-24"
          ],
          [
           24,
           98,
           "2020-03-02",
           "2020-01-24"
          ],
          [
           20,
           118,
           "2020-03-03",
           "2020-01-24"
          ],
          [
           31,
           149,
           "2020-03-04",
           "2020-01-24"
          ],
          [
           68,
           217,
           "2020-03-05",
           "2020-01-24"
          ],
          [
           45,
           262,
           "2020-03-06",
           "2020-01-24"
          ],
          [
           140,
           402,
           "2020-03-07",
           "2020-01-24"
          ],
          [
           116,
           518,
           "2020-03-08",
           "2020-01-24"
          ],
          [
           65,
           583,
           "2020-03-09",
           "2020-01-24"
          ],
          [
           376,
           959,
           "2020-03-10",
           "2020-01-24"
          ],
          [
           322,
           1281,
           "2020-03-11",
           "2020-01-24"
          ],
          [
           382,
           1663,
           "2020-03-12",
           "2020-01-24"
          ],
          [
           516,
           2179,
           "2020-03-13",
           "2020-01-24"
          ],
          [
           548,
           2727,
           "2020-03-14",
           "2020-01-24"
          ],
          [
           772,
           3499,
           "2020-03-15",
           "2020-01-24"
          ],
          [
           1133,
           4632,
           "2020-03-16",
           "2020-01-24"
          ],
          [
           1789,
           6421,
           "2020-03-17",
           "2020-01-24"
          ],
          [
           1362,
           7783,
           "2020-03-18",
           "2020-01-24"
          ],
          [
           5964,
           13747,
           "2020-03-19",
           "2020-01-24"
          ],
          [
           5526,
           19273,
           "2020-03-20",
           "2020-01-24"
          ],
          [
           6327,
           25600,
           "2020-03-21",
           "2020-01-24"
          ],
          [
           7676,
           33276,
           "2020-03-22",
           "2020-01-24"
          ],
          [
           10571,
           43847,
           "2020-03-23",
           "2020-01-24"
          ],
          [
           9893,
           53740,
           "2020-03-24",
           "2020-01-24"
          ],
          [
           12038,
           65778,
           "2020-03-25",
           "2020-01-24"
          ],
          [
           18058,
           83836,
           "2020-03-26",
           "2020-01-24"
          ],
          [
           17821,
           101657,
           "2020-03-27",
           "2020-01-24"
          ],
          [
           19808,
           121465,
           "2020-03-28",
           "2020-01-24"
          ],
          [
           19444,
           140909,
           "2020-03-29",
           "2020-01-24"
          ],
          [
           20922,
           161831,
           "2020-03-30",
           "2020-01-24"
          ],
          [
           26341,
           188172,
           "2020-03-31",
           "2020-01-24"
          ],
          [
           25200,
           213372,
           "2020-04-01",
           "2020-01-24"
          ],
          [
           30390,
           243762,
           "2020-04-02",
           "2020-01-24"
          ],
          [
           31824,
           275586,
           "2020-04-03",
           "2020-01-24"
          ],
          [
           33267,
           308853,
           "2020-04-04",
           "2020-01-24"
          ],
          [
           28219,
           337072,
           "2020-04-05",
           "2020-01-24"
          ],
          [
           29595,
           366667,
           "2020-04-06",
           "2020-01-24"
          ],
          [
           29556,
           396223,
           "2020-04-07",
           "2020-01-24"
          ],
          [
           32829,
           429052,
           "2020-04-08",
           "2020-01-24"
          ],
          [
           32385,
           461437,
           "2020-04-09",
           "2020-01-24"
          ],
          [
           35098,
           496535,
           "2020-04-10",
           "2020-01-24"
          ]
         ],
         "hovertemplate": "<b>%{hovertext}</b><br><br>Country=US<br>Confirmed=%{customdata[1]}<br>NewConfirmed=%{customdata[0]}<br>Date=%{customdata[2]}<br>EpidemicStartDate=%{customdata[3]}<extra></extra>",
         "hovertext": [
          "2020-02-24",
          "2020-02-25",
          "2020-02-26",
          "2020-02-27",
          "2020-02-28",
          "2020-02-29",
          "2020-03-01",
          "2020-03-02",
          "2020-03-03",
          "2020-03-04",
          "2020-03-05",
          "2020-03-06",
          "2020-03-07",
          "2020-03-08",
          "2020-03-09",
          "2020-03-10",
          "2020-03-11",
          "2020-03-12",
          "2020-03-13",
          "2020-03-14",
          "2020-03-15",
          "2020-03-16",
          "2020-03-17",
          "2020-03-18",
          "2020-03-19",
          "2020-03-20",
          "2020-03-21",
          "2020-03-22",
          "2020-03-23",
          "2020-03-24",
          "2020-03-25",
          "2020-03-26",
          "2020-03-27",
          "2020-03-28",
          "2020-03-29",
          "2020-03-30",
          "2020-03-31",
          "2020-04-01",
          "2020-04-02",
          "2020-04-03",
          "2020-04-04",
          "2020-04-05",
          "2020-04-06",
          "2020-04-07",
          "2020-04-08",
          "2020-04-09",
          "2020-04-10"
         ],
         "legendgroup": "US",
         "marker": {
          "color": "#72B7B2",
          "opacity": 0.9,
          "symbol": "x"
         },
         "mode": "markers",
         "name": "US",
         "showlegend": true,
         "type": "scatter",
         "x": [
          51,
          51,
          57,
          58,
          60,
          68,
          74,
          98,
          118,
          149,
          217,
          262,
          402,
          518,
          583,
          959,
          1281,
          1663,
          2179,
          2727,
          3499,
          4632,
          6421,
          7783,
          13747,
          19273,
          25600,
          33276,
          43847,
          53740,
          65778,
          83836,
          101657,
          121465,
          140909,
          161831,
          188172,
          213372,
          243762,
          275586,
          308853,
          337072,
          366667,
          396223,
          429052,
          461437,
          496535
         ],
         "xaxis": "x",
         "y": [
          36,
          0,
          6,
          1,
          2,
          8,
          6,
          24,
          20,
          31,
          68,
          45,
          140,
          116,
          65,
          376,
          322,
          382,
          516,
          548,
          772,
          1133,
          1789,
          1362,
          5964,
          5526,
          6327,
          7676,
          10571,
          9893,
          12038,
          18058,
          17821,
          19808,
          19444,
          20922,
          26341,
          25200,
          30390,
          31824,
          33267,
          28219,
          29595,
          29556,
          32829,
          32385,
          35098
         ],
         "yaxis": "y"
        }
       ],
       "layout": {
        "legend": {
         "title": {
          "text": "Country"
         },
         "tracegroupgap": 0
        },
        "template": {
         "data": {
          "bar": [
           {
            "error_x": {
             "color": "rgb(51,51,51)"
            },
            "error_y": {
             "color": "rgb(51,51,51)"
            },
            "marker": {
             "line": {
              "color": "rgb(237,237,237)",
              "width": 0.5
             }
            },
            "type": "bar"
           }
          ],
          "barpolar": [
           {
            "marker": {
             "line": {
              "color": "rgb(237,237,237)",
              "width": 0.5
             }
            },
            "type": "barpolar"
           }
          ],
          "carpet": [
           {
            "aaxis": {
             "endlinecolor": "rgb(51,51,51)",
             "gridcolor": "white",
             "linecolor": "white",
             "minorgridcolor": "white",
             "startlinecolor": "rgb(51,51,51)"
            },
            "baxis": {
             "endlinecolor": "rgb(51,51,51)",
             "gridcolor": "white",
             "linecolor": "white",
             "minorgridcolor": "white",
             "startlinecolor": "rgb(51,51,51)"
            },
            "type": "carpet"
           }
          ],
          "choropleth": [
           {
            "colorbar": {
             "outlinewidth": 0,
             "tickcolor": "rgb(237,237,237)",
             "ticklen": 6,
             "ticks": "inside"
            },
            "type": "choropleth"
           }
          ],
          "contour": [
           {
            "colorbar": {
             "outlinewidth": 0,
             "tickcolor": "rgb(237,237,237)",
             "ticklen": 6,
             "ticks": "inside"
            },
            "colorscale": [
             [
              0,
              "rgb(20,44,66)"
             ],
             [
              1,
              "rgb(90,179,244)"
             ]
            ],
            "type": "contour"
           }
          ],
          "contourcarpet": [
           {
            "colorbar": {
             "outlinewidth": 0,
             "tickcolor": "rgb(237,237,237)",
             "ticklen": 6,
             "ticks": "inside"
            },
            "type": "contourcarpet"
           }
          ],
          "heatmap": [
           {
            "colorbar": {
             "outlinewidth": 0,
             "tickcolor": "rgb(237,237,237)",
             "ticklen": 6,
             "ticks": "inside"
            },
            "colorscale": [
             [
              0,
              "rgb(20,44,66)"
             ],
             [
              1,
              "rgb(90,179,244)"
             ]
            ],
            "type": "heatmap"
           }
          ],
          "heatmapgl": [
           {
            "colorbar": {
             "outlinewidth": 0,
             "tickcolor": "rgb(237,237,237)",
             "ticklen": 6,
             "ticks": "inside"
            },
            "colorscale": [
             [
              0,
              "rgb(20,44,66)"
             ],
             [
              1,
              "rgb(90,179,244)"
             ]
            ],
            "type": "heatmapgl"
           }
          ],
          "histogram": [
           {
            "marker": {
             "colorbar": {
              "outlinewidth": 0,
              "tickcolor": "rgb(237,237,237)",
              "ticklen": 6,
              "ticks": "inside"
             }
            },
            "type": "histogram"
           }
          ],
          "histogram2d": [
           {
            "colorbar": {
             "outlinewidth": 0,
             "tickcolor": "rgb(237,237,237)",
             "ticklen": 6,
             "ticks": "inside"
            },
            "colorscale": [
             [
              0,
              "rgb(20,44,66)"
             ],
             [
              1,
              "rgb(90,179,244)"
             ]
            ],
            "type": "histogram2d"
           }
          ],
          "histogram2dcontour": [
           {
            "colorbar": {
             "outlinewidth": 0,
             "tickcolor": "rgb(237,237,237)",
             "ticklen": 6,
             "ticks": "inside"
            },
            "colorscale": [
             [
              0,
              "rgb(20,44,66)"
             ],
             [
              1,
              "rgb(90,179,244)"
             ]
            ],
            "type": "histogram2dcontour"
           }
          ],
          "mesh3d": [
           {
            "colorbar": {
             "outlinewidth": 0,
             "tickcolor": "rgb(237,237,237)",
             "ticklen": 6,
             "ticks": "inside"
            },
            "type": "mesh3d"
           }
          ],
          "parcoords": [
           {
            "line": {
             "colorbar": {
              "outlinewidth": 0,
              "tickcolor": "rgb(237,237,237)",
              "ticklen": 6,
              "ticks": "inside"
             }
            },
            "type": "parcoords"
           }
          ],
          "pie": [
           {
            "automargin": true,
            "type": "pie"
           }
          ],
          "scatter": [
           {
            "marker": {
             "colorbar": {
              "outlinewidth": 0,
              "tickcolor": "rgb(237,237,237)",
              "ticklen": 6,
              "ticks": "inside"
             }
            },
            "type": "scatter"
           }
          ],
          "scatter3d": [
           {
            "line": {
             "colorbar": {
              "outlinewidth": 0,
              "tickcolor": "rgb(237,237,237)",
              "ticklen": 6,
              "ticks": "inside"
             }
            },
            "marker": {
             "colorbar": {
              "outlinewidth": 0,
              "tickcolor": "rgb(237,237,237)",
              "ticklen": 6,
              "ticks": "inside"
             }
            },
            "type": "scatter3d"
           }
          ],
          "scattercarpet": [
           {
            "marker": {
             "colorbar": {
              "outlinewidth": 0,
              "tickcolor": "rgb(237,237,237)",
              "ticklen": 6,
              "ticks": "inside"
             }
            },
            "type": "scattercarpet"
           }
          ],
          "scattergeo": [
           {
            "marker": {
             "colorbar": {
              "outlinewidth": 0,
              "tickcolor": "rgb(237,237,237)",
              "ticklen": 6,
              "ticks": "inside"
             }
            },
            "type": "scattergeo"
           }
          ],
          "scattergl": [
           {
            "marker": {
             "colorbar": {
              "outlinewidth": 0,
              "tickcolor": "rgb(237,237,237)",
              "ticklen": 6,
              "ticks": "inside"
             }
            },
            "type": "scattergl"
           }
          ],
          "scattermapbox": [
           {
            "marker": {
             "colorbar": {
              "outlinewidth": 0,
              "tickcolor": "rgb(237,237,237)",
              "ticklen": 6,
              "ticks": "inside"
             }
            },
            "type": "scattermapbox"
           }
          ],
          "scatterpolar": [
           {
            "marker": {
             "colorbar": {
              "outlinewidth": 0,
              "tickcolor": "rgb(237,237,237)",
              "ticklen": 6,
              "ticks": "inside"
             }
            },
            "type": "scatterpolar"
           }
          ],
          "scatterpolargl": [
           {
            "marker": {
             "colorbar": {
              "outlinewidth": 0,
              "tickcolor": "rgb(237,237,237)",
              "ticklen": 6,
              "ticks": "inside"
             }
            },
            "type": "scatterpolargl"
           }
          ],
          "scatterternary": [
           {
            "marker": {
             "colorbar": {
              "outlinewidth": 0,
              "tickcolor": "rgb(237,237,237)",
              "ticklen": 6,
              "ticks": "inside"
             }
            },
            "type": "scatterternary"
           }
          ],
          "surface": [
           {
            "colorbar": {
             "outlinewidth": 0,
             "tickcolor": "rgb(237,237,237)",
             "ticklen": 6,
             "ticks": "inside"
            },
            "colorscale": [
             [
              0,
              "rgb(20,44,66)"
             ],
             [
              1,
              "rgb(90,179,244)"
             ]
            ],
            "type": "surface"
           }
          ],
          "table": [
           {
            "cells": {
             "fill": {
              "color": "rgb(237,237,237)"
             },
             "line": {
              "color": "white"
             }
            },
            "header": {
             "fill": {
              "color": "rgb(217,217,217)"
             },
             "line": {
              "color": "white"
             }
            },
            "type": "table"
           }
          ]
         },
         "layout": {
          "annotationdefaults": {
           "arrowhead": 0,
           "arrowwidth": 1
          },
          "coloraxis": {
           "colorbar": {
            "outlinewidth": 0,
            "tickcolor": "rgb(237,237,237)",
            "ticklen": 6,
            "ticks": "inside"
           }
          },
          "colorscale": {
           "sequential": [
            [
             0,
             "rgb(20,44,66)"
            ],
            [
             1,
             "rgb(90,179,244)"
            ]
           ],
           "sequentialminus": [
            [
             0,
             "rgb(20,44,66)"
            ],
            [
             1,
             "rgb(90,179,244)"
            ]
           ]
          },
          "colorway": [
           "#F8766D",
           "#A3A500",
           "#00BF7D",
           "#00B0F6",
           "#E76BF3"
          ],
          "font": {
           "color": "rgb(51,51,51)"
          },
          "geo": {
           "bgcolor": "white",
           "lakecolor": "white",
           "landcolor": "rgb(237,237,237)",
           "showlakes": true,
           "showland": true,
           "subunitcolor": "white"
          },
          "hoverlabel": {
           "align": "left"
          },
          "hovermode": "closest",
          "paper_bgcolor": "white",
          "plot_bgcolor": "rgb(237,237,237)",
          "polar": {
           "angularaxis": {
            "gridcolor": "white",
            "linecolor": "white",
            "showgrid": true,
            "tickcolor": "rgb(51,51,51)",
            "ticks": "outside"
           },
           "bgcolor": "rgb(237,237,237)",
           "radialaxis": {
            "gridcolor": "white",
            "linecolor": "white",
            "showgrid": true,
            "tickcolor": "rgb(51,51,51)",
            "ticks": "outside"
           }
          },
          "scene": {
           "xaxis": {
            "backgroundcolor": "rgb(237,237,237)",
            "gridcolor": "white",
            "gridwidth": 2,
            "linecolor": "white",
            "showbackground": true,
            "showgrid": true,
            "tickcolor": "rgb(51,51,51)",
            "ticks": "outside",
            "zerolinecolor": "white"
           },
           "yaxis": {
            "backgroundcolor": "rgb(237,237,237)",
            "gridcolor": "white",
            "gridwidth": 2,
            "linecolor": "white",
            "showbackground": true,
            "showgrid": true,
            "tickcolor": "rgb(51,51,51)",
            "ticks": "outside",
            "zerolinecolor": "white"
           },
           "zaxis": {
            "backgroundcolor": "rgb(237,237,237)",
            "gridcolor": "white",
            "gridwidth": 2,
            "linecolor": "white",
            "showbackground": true,
            "showgrid": true,
            "tickcolor": "rgb(51,51,51)",
            "ticks": "outside",
            "zerolinecolor": "white"
           }
          },
          "shapedefaults": {
           "fillcolor": "black",
           "line": {
            "width": 0
           },
           "opacity": 0.3
          },
          "ternary": {
           "aaxis": {
            "gridcolor": "white",
            "linecolor": "white",
            "showgrid": true,
            "tickcolor": "rgb(51,51,51)",
            "ticks": "outside"
           },
           "baxis": {
            "gridcolor": "white",
            "linecolor": "white",
            "showgrid": true,
            "tickcolor": "rgb(51,51,51)",
            "ticks": "outside"
           },
           "bgcolor": "rgb(237,237,237)",
           "caxis": {
            "gridcolor": "white",
            "linecolor": "white",
            "showgrid": true,
            "tickcolor": "rgb(51,51,51)",
            "ticks": "outside"
           }
          },
          "xaxis": {
           "automargin": true,
           "gridcolor": "white",
           "linecolor": "white",
           "showgrid": true,
           "tickcolor": "rgb(51,51,51)",
           "ticks": "outside",
           "title": {
            "standoff": 15
           },
           "zerolinecolor": "white"
          },
          "yaxis": {
           "automargin": true,
           "gridcolor": "white",
           "linecolor": "white",
           "showgrid": true,
           "tickcolor": "rgb(51,51,51)",
           "ticks": "outside",
           "title": {
            "standoff": 15
           },
           "zerolinecolor": "white"
          }
         }
        },
        "title": {
         "text": "New Confirmed Cases vs Cumulative Cases Per Day (Logged, International)"
        },
        "xaxis": {
         "anchor": "y",
         "domain": [
          0,
          1
         ],
         "title": {
          "text": "Confirmed"
         },
         "type": "log"
        },
        "yaxis": {
         "anchor": "x",
         "domain": [
          0,
          1
         ],
         "title": {
          "text": "NewConfirmed"
         },
         "type": "log"
        }
       }
      },
      "text/html": [
       "<div>\n",
       "        \n",
       "        \n",
       "            <div id=\"427e6509-aec6-4239-bc54-ff0d25592348\" class=\"plotly-graph-div\" style=\"height:525px; width:100%;\"></div>\n",
       "            <script type=\"text/javascript\">\n",
       "                require([\"plotly\"], function(Plotly) {\n",
       "                    window.PLOTLYENV=window.PLOTLYENV || {};\n",
       "                    \n",
       "                if (document.getElementById(\"427e6509-aec6-4239-bc54-ff0d25592348\")) {\n",
       "                    Plotly.newPlot(\n",
       "                        '427e6509-aec6-4239-bc54-ff0d25592348',\n",
       "                        [{\"customdata\": [[null, 548.0, \"2020-01-22\", \"2020-01-22\"], [95.0, 643.0, \"2020-01-23\", \"2020-01-22\"], [277.0, 920.0, \"2020-01-24\", \"2020-01-22\"], [486.0, 1406.0, \"2020-01-25\", \"2020-01-22\"], [669.0, 2075.0, \"2020-01-26\", \"2020-01-22\"], [802.0, 2877.0, \"2020-01-27\", \"2020-01-22\"], [2632.0, 5509.0, \"2020-01-28\", \"2020-01-22\"], [578.0, 6087.0, \"2020-01-29\", \"2020-01-22\"], [2054.0, 8141.0, \"2020-01-30\", \"2020-01-22\"], [1661.0, 9802.0, \"2020-01-31\", \"2020-01-22\"], [2089.0, 11891.0, \"2020-02-01\", \"2020-01-22\"], [4739.0, 16630.0, \"2020-02-02\", \"2020-01-22\"], [3086.0, 19716.0, \"2020-02-03\", \"2020-01-22\"], [3991.0, 23707.0, \"2020-02-04\", \"2020-01-22\"], [3733.0, 27440.0, \"2020-02-05\", \"2020-01-22\"], [3147.0, 30587.0, \"2020-02-06\", \"2020-01-22\"], [3523.0, 34110.0, \"2020-02-07\", \"2020-01-22\"], [2704.0, 36814.0, \"2020-02-08\", \"2020-01-22\"], [3015.0, 39829.0, \"2020-02-09\", \"2020-01-22\"], [2525.0, 42354.0, \"2020-02-10\", \"2020-01-22\"], [2032.0, 44386.0, \"2020-02-11\", \"2020-01-22\"], [373.0, 44759.0, \"2020-02-12\", \"2020-01-22\"], [15136.0, 59895.0, \"2020-02-13\", \"2020-01-22\"], [6463.0, 66358.0, \"2020-02-14\", \"2020-01-22\"], [2055.0, 68413.0, \"2020-02-15\", \"2020-01-22\"], [2100.0, 70513.0, \"2020-02-16\", \"2020-01-22\"], [1921.0, 72434.0, \"2020-02-17\", \"2020-01-22\"], [1777.0, 74211.0, \"2020-02-18\", \"2020-01-22\"], [408.0, 74619.0, \"2020-02-19\", \"2020-01-22\"], [458.0, 75077.0, \"2020-02-20\", \"2020-01-22\"], [473.0, 75550.0, \"2020-02-21\", \"2020-01-22\"], [1451.0, 77001.0, \"2020-02-22\", \"2020-01-22\"], [21.0, 77022.0, \"2020-02-23\", \"2020-01-22\"], [219.0, 77241.0, \"2020-02-24\", \"2020-01-22\"], [513.0, 77754.0, \"2020-02-25\", \"2020-01-22\"], [412.0, 78166.0, \"2020-02-26\", \"2020-01-22\"], [434.0, 78600.0, \"2020-02-27\", \"2020-01-22\"], [328.0, 78928.0, \"2020-02-28\", \"2020-01-22\"], [428.0, 79356.0, \"2020-02-29\", \"2020-01-22\"], [576.0, 79932.0, \"2020-03-01\", \"2020-01-22\"], [204.0, 80136.0, \"2020-03-02\", \"2020-01-22\"], [125.0, 80261.0, \"2020-03-03\", \"2020-01-22\"], [125.0, 80386.0, \"2020-03-04\", \"2020-01-22\"], [151.0, 80537.0, \"2020-03-05\", \"2020-01-22\"], [153.0, 80690.0, \"2020-03-06\", \"2020-01-22\"], [80.0, 80770.0, \"2020-03-07\", \"2020-01-22\"], [53.0, 80823.0, \"2020-03-08\", \"2020-01-22\"], [37.0, 80860.0, \"2020-03-09\", \"2020-01-22\"], [27.0, 80887.0, \"2020-03-10\", \"2020-01-22\"], [34.0, 80921.0, \"2020-03-11\", \"2020-01-22\"], [11.0, 80932.0, \"2020-03-12\", \"2020-01-22\"], [13.0, 80945.0, \"2020-03-13\", \"2020-01-22\"], [32.0, 80977.0, \"2020-03-14\", \"2020-01-22\"], [26.0, 81003.0, \"2020-03-15\", \"2020-01-22\"], [30.0, 81033.0, \"2020-03-16\", \"2020-01-22\"], [25.0, 81058.0, \"2020-03-17\", \"2020-01-22\"], [44.0, 81102.0, \"2020-03-18\", \"2020-01-22\"], [54.0, 81156.0, \"2020-03-19\", \"2020-01-22\"], [94.0, 81250.0, \"2020-03-20\", \"2020-01-22\"], [55.0, 81305.0, \"2020-03-21\", \"2020-01-22\"], [130.0, 81435.0, \"2020-03-22\", \"2020-01-22\"], [63.0, 81498.0, \"2020-03-23\", \"2020-01-22\"], [93.0, 81591.0, \"2020-03-24\", \"2020-01-22\"], [70.0, 81661.0, \"2020-03-25\", \"2020-01-22\"], [121.0, 81782.0, \"2020-03-26\", \"2020-01-22\"], [115.0, 81897.0, \"2020-03-27\", \"2020-01-22\"], [102.0, 81999.0, \"2020-03-28\", \"2020-01-22\"], [123.0, 82122.0, \"2020-03-29\", \"2020-01-22\"], [76.0, 82198.0, \"2020-03-30\", \"2020-01-22\"], [81.0, 82279.0, \"2020-03-31\", \"2020-01-22\"], [82.0, 82361.0, \"2020-04-01\", \"2020-01-22\"], [71.0, 82432.0, \"2020-04-02\", \"2020-01-22\"], [79.0, 82511.0, \"2020-04-03\", \"2020-01-22\"], [32.0, 82543.0, \"2020-04-04\", \"2020-01-22\"], [59.0, 82602.0, \"2020-04-05\", \"2020-01-22\"], [63.0, 82665.0, \"2020-04-06\", \"2020-01-22\"], [53.0, 82718.0, \"2020-04-07\", \"2020-01-22\"], [91.0, 82809.0, \"2020-04-08\", \"2020-01-22\"], [74.0, 82883.0, \"2020-04-09\", \"2020-01-22\"], [58.0, 82941.0, \"2020-04-10\", \"2020-01-22\"]], \"hovertemplate\": \"<b>%{hovertext}</b><br><br>Country=China<br>Confirmed=%{customdata[1]}<br>NewConfirmed=%{customdata[0]}<br>Date=%{customdata[2]}<br>EpidemicStartDate=%{customdata[3]}<extra></extra>\", \"hovertext\": [\"2020-01-22\", \"2020-01-23\", \"2020-01-24\", \"2020-01-25\", \"2020-01-26\", \"2020-01-27\", \"2020-01-28\", \"2020-01-29\", \"2020-01-30\", \"2020-01-31\", \"2020-02-01\", \"2020-02-02\", \"2020-02-03\", \"2020-02-04\", \"2020-02-05\", \"2020-02-06\", \"2020-02-07\", \"2020-02-08\", \"2020-02-09\", \"2020-02-10\", \"2020-02-11\", \"2020-02-12\", \"2020-02-13\", \"2020-02-14\", \"2020-02-15\", \"2020-02-16\", \"2020-02-17\", \"2020-02-18\", \"2020-02-19\", \"2020-02-20\", \"2020-02-21\", \"2020-02-22\", \"2020-02-23\", \"2020-02-24\", \"2020-02-25\", \"2020-02-26\", \"2020-02-27\", \"2020-02-28\", \"2020-02-29\", \"2020-03-01\", \"2020-03-02\", \"2020-03-03\", \"2020-03-04\", \"2020-03-05\", \"2020-03-06\", \"2020-03-07\", \"2020-03-08\", \"2020-03-09\", \"2020-03-10\", \"2020-03-11\", \"2020-03-12\", \"2020-03-13\", \"2020-03-14\", \"2020-03-15\", \"2020-03-16\", \"2020-03-17\", \"2020-03-18\", \"2020-03-19\", \"2020-03-20\", \"2020-03-21\", \"2020-03-22\", \"2020-03-23\", \"2020-03-24\", \"2020-03-25\", \"2020-03-26\", \"2020-03-27\", \"2020-03-28\", \"2020-03-29\", \"2020-03-30\", \"2020-03-31\", \"2020-04-01\", \"2020-04-02\", \"2020-04-03\", \"2020-04-04\", \"2020-04-05\", \"2020-04-06\", \"2020-04-07\", \"2020-04-08\", \"2020-04-09\", \"2020-04-10\"], \"legendgroup\": \"China\", \"marker\": {\"color\": \"#4C78A8\", \"opacity\": 0.9, \"symbol\": \"circle\"}, \"mode\": \"markers\", \"name\": \"China\", \"showlegend\": true, \"type\": \"scatter\", \"x\": [548, 643, 920, 1406, 2075, 2877, 5509, 6087, 8141, 9802, 11891, 16630, 19716, 23707, 27440, 30587, 34110, 36814, 39829, 42354, 44386, 44759, 59895, 66358, 68413, 70513, 72434, 74211, 74619, 75077, 75550, 77001, 77022, 77241, 77754, 78166, 78600, 78928, 79356, 79932, 80136, 80261, 80386, 80537, 80690, 80770, 80823, 80860, 80887, 80921, 80932, 80945, 80977, 81003, 81033, 81058, 81102, 81156, 81250, 81305, 81435, 81498, 81591, 81661, 81782, 81897, 81999, 82122, 82198, 82279, 82361, 82432, 82511, 82543, 82602, 82665, 82718, 82809, 82883, 82941], \"xaxis\": \"x\", \"y\": [null, 95.0, 277.0, 486.0, 669.0, 802.0, 2632.0, 578.0, 2054.0, 1661.0, 2089.0, 4739.0, 3086.0, 3991.0, 3733.0, 3147.0, 3523.0, 2704.0, 3015.0, 2525.0, 2032.0, 373.0, 15136.0, 6463.0, 2055.0, 2100.0, 1921.0, 1777.0, 408.0, 458.0, 473.0, 1451.0, 21.0, 219.0, 513.0, 412.0, 434.0, 328.0, 428.0, 576.0, 204.0, 125.0, 125.0, 151.0, 153.0, 80.0, 53.0, 37.0, 27.0, 34.0, 11.0, 13.0, 32.0, 26.0, 30.0, 25.0, 44.0, 54.0, 94.0, 55.0, 130.0, 63.0, 93.0, 70.0, 121.0, 115.0, 102.0, 123.0, 76.0, 81.0, 82.0, 71.0, 79.0, 32.0, 59.0, 63.0, 53.0, 91.0, 74.0, 58.0], \"yaxis\": \"y\"}, {\"customdata\": [[73.0, 104.0, \"2020-02-20\", \"2020-01-24\"], [100.0, 204.0, \"2020-02-21\", \"2020-01-24\"], [229.0, 433.0, \"2020-02-22\", \"2020-01-24\"], [169.0, 602.0, \"2020-02-23\", \"2020-01-24\"], [231.0, 833.0, \"2020-02-24\", \"2020-01-24\"], [144.0, 977.0, \"2020-02-25\", \"2020-01-24\"], [284.0, 1261.0, \"2020-02-26\", \"2020-01-24\"], [505.0, 1766.0, \"2020-02-27\", \"2020-01-24\"], [571.0, 2337.0, \"2020-02-28\", \"2020-01-24\"], [813.0, 3150.0, \"2020-02-29\", \"2020-01-24\"], [586.0, 3736.0, \"2020-03-01\", \"2020-01-24\"], [599.0, 4335.0, \"2020-03-02\", \"2020-01-24\"], [851.0, 5186.0, \"2020-03-03\", \"2020-01-24\"], [435.0, 5621.0, \"2020-03-04\", \"2020-01-24\"], [467.0, 6088.0, \"2020-03-05\", \"2020-01-24\"], [505.0, 6593.0, \"2020-03-06\", \"2020-01-24\"], [448.0, 7041.0, \"2020-03-07\", \"2020-01-24\"], [273.0, 7314.0, \"2020-03-08\", \"2020-01-24\"], [164.0, 7478.0, \"2020-03-09\", \"2020-01-24\"], [35.0, 7513.0, \"2020-03-10\", \"2020-01-24\"], [242.0, 7755.0, \"2020-03-11\", \"2020-01-24\"], [114.0, 7869.0, \"2020-03-12\", \"2020-01-24\"], [110.0, 7979.0, \"2020-03-13\", \"2020-01-24\"], [107.0, 8086.0, \"2020-03-14\", \"2020-01-24\"], [76.0, 8162.0, \"2020-03-15\", \"2020-01-24\"], [74.0, 8236.0, \"2020-03-16\", \"2020-01-24\"], [84.0, 8320.0, \"2020-03-17\", \"2020-01-24\"], [93.0, 8413.0, \"2020-03-18\", \"2020-01-24\"], [152.0, 8565.0, \"2020-03-19\", \"2020-01-24\"], [87.0, 8652.0, \"2020-03-20\", \"2020-01-24\"], [147.0, 8799.0, \"2020-03-21\", \"2020-01-24\"], [162.0, 8961.0, \"2020-03-22\", \"2020-01-24\"], [0.0, 8961.0, \"2020-03-23\", \"2020-01-24\"], [76.0, 9037.0, \"2020-03-24\", \"2020-01-24\"], [100.0, 9137.0, \"2020-03-25\", \"2020-01-24\"], [104.0, 9241.0, \"2020-03-26\", \"2020-01-24\"], [91.0, 9332.0, \"2020-03-27\", \"2020-01-24\"], [146.0, 9478.0, \"2020-03-28\", \"2020-01-24\"], [105.0, 9583.0, \"2020-03-29\", \"2020-01-24\"], [78.0, 9661.0, \"2020-03-30\", \"2020-01-24\"], [125.0, 9786.0, \"2020-03-31\", \"2020-01-24\"], [101.0, 9887.0, \"2020-04-01\", \"2020-01-24\"], [89.0, 9976.0, \"2020-04-02\", \"2020-01-24\"], [86.0, 10062.0, \"2020-04-03\", \"2020-01-24\"], [94.0, 10156.0, \"2020-04-04\", \"2020-01-24\"], [81.0, 10237.0, \"2020-04-05\", \"2020-01-24\"], [47.0, 10284.0, \"2020-04-06\", \"2020-01-24\"], [47.0, 10331.0, \"2020-04-07\", \"2020-01-24\"], [53.0, 10384.0, \"2020-04-08\", \"2020-01-24\"], [39.0, 10423.0, \"2020-04-09\", \"2020-01-24\"], [27.0, 10450.0, \"2020-04-10\", \"2020-01-24\"]], \"hovertemplate\": \"<b>%{hovertext}</b><br><br>Country=Korea, South<br>Confirmed=%{customdata[1]}<br>NewConfirmed=%{customdata[0]}<br>Date=%{customdata[2]}<br>EpidemicStartDate=%{customdata[3]}<extra></extra>\", \"hovertext\": [\"2020-02-20\", \"2020-02-21\", \"2020-02-22\", \"2020-02-23\", \"2020-02-24\", \"2020-02-25\", \"2020-02-26\", \"2020-02-27\", \"2020-02-28\", \"2020-02-29\", \"2020-03-01\", \"2020-03-02\", \"2020-03-03\", \"2020-03-04\", \"2020-03-05\", \"2020-03-06\", \"2020-03-07\", \"2020-03-08\", \"2020-03-09\", \"2020-03-10\", \"2020-03-11\", \"2020-03-12\", \"2020-03-13\", \"2020-03-14\", \"2020-03-15\", \"2020-03-16\", \"2020-03-17\", \"2020-03-18\", \"2020-03-19\", \"2020-03-20\", \"2020-03-21\", \"2020-03-22\", \"2020-03-23\", \"2020-03-24\", \"2020-03-25\", \"2020-03-26\", \"2020-03-27\", \"2020-03-28\", \"2020-03-29\", \"2020-03-30\", \"2020-03-31\", \"2020-04-01\", \"2020-04-02\", \"2020-04-03\", \"2020-04-04\", \"2020-04-05\", \"2020-04-06\", \"2020-04-07\", \"2020-04-08\", \"2020-04-09\", \"2020-04-10\"], \"legendgroup\": \"Korea, South\", \"marker\": {\"color\": \"#F58518\", \"opacity\": 0.9, \"symbol\": \"diamond\"}, \"mode\": \"markers\", \"name\": \"Korea, South\", \"showlegend\": true, \"type\": \"scatter\", \"x\": [104, 204, 433, 602, 833, 977, 1261, 1766, 2337, 3150, 3736, 4335, 5186, 5621, 6088, 6593, 7041, 7314, 7478, 7513, 7755, 7869, 7979, 8086, 8162, 8236, 8320, 8413, 8565, 8652, 8799, 8961, 8961, 9037, 9137, 9241, 9332, 9478, 9583, 9661, 9786, 9887, 9976, 10062, 10156, 10237, 10284, 10331, 10384, 10423, 10450], \"xaxis\": \"x\", \"y\": [73.0, 100.0, 229.0, 169.0, 231.0, 144.0, 284.0, 505.0, 571.0, 813.0, 586.0, 599.0, 851.0, 435.0, 467.0, 505.0, 448.0, 273.0, 164.0, 35.0, 242.0, 114.0, 110.0, 107.0, 76.0, 74.0, 84.0, 93.0, 152.0, 87.0, 147.0, 162.0, 0.0, 76.0, 100.0, 104.0, 91.0, 146.0, 105.0, 78.0, 125.0, 101.0, 89.0, 86.0, 94.0, 81.0, 47.0, 47.0, 53.0, 39.0, 27.0], \"yaxis\": \"y\"}, {\"customdata\": [[42.0, 62.0, \"2020-02-22\", \"2020-01-31\"], [93.0, 155.0, \"2020-02-23\", \"2020-01-31\"], [74.0, 229.0, \"2020-02-24\", \"2020-01-31\"], [93.0, 322.0, \"2020-02-25\", \"2020-01-31\"], [131.0, 453.0, \"2020-02-26\", \"2020-01-31\"], [202.0, 655.0, \"2020-02-27\", \"2020-01-31\"], [233.0, 888.0, \"2020-02-28\", \"2020-01-31\"], [240.0, 1128.0, \"2020-02-29\", \"2020-01-31\"], [566.0, 1694.0, \"2020-03-01\", \"2020-01-31\"], [342.0, 2036.0, \"2020-03-02\", \"2020-01-31\"], [466.0, 2502.0, \"2020-03-03\", \"2020-01-31\"], [587.0, 3089.0, \"2020-03-04\", \"2020-01-31\"], [769.0, 3858.0, \"2020-03-05\", \"2020-01-31\"], [778.0, 4636.0, \"2020-03-06\", \"2020-01-31\"], [1247.0, 5883.0, \"2020-03-07\", \"2020-01-31\"], [1492.0, 7375.0, \"2020-03-08\", \"2020-01-31\"], [1797.0, 9172.0, \"2020-03-09\", \"2020-01-31\"], [977.0, 10149.0, \"2020-03-10\", \"2020-01-31\"], [2313.0, 12462.0, \"2020-03-11\", \"2020-01-31\"], [0.0, 12462.0, \"2020-03-12\", \"2020-01-31\"], [5198.0, 17660.0, \"2020-03-13\", \"2020-01-31\"], [3497.0, 21157.0, \"2020-03-14\", \"2020-01-31\"], [3590.0, 24747.0, \"2020-03-15\", \"2020-01-31\"], [3233.0, 27980.0, \"2020-03-16\", \"2020-01-31\"], [3526.0, 31506.0, \"2020-03-17\", \"2020-01-31\"], [4207.0, 35713.0, \"2020-03-18\", \"2020-01-31\"], [5322.0, 41035.0, \"2020-03-19\", \"2020-01-31\"], [5986.0, 47021.0, \"2020-03-20\", \"2020-01-31\"], [6557.0, 53578.0, \"2020-03-21\", \"2020-01-31\"], [5560.0, 59138.0, \"2020-03-22\", \"2020-01-31\"], [4789.0, 63927.0, \"2020-03-23\", \"2020-01-31\"], [5249.0, 69176.0, \"2020-03-24\", \"2020-01-31\"], [5210.0, 74386.0, \"2020-03-25\", \"2020-01-31\"], [6203.0, 80589.0, \"2020-03-26\", \"2020-01-31\"], [5909.0, 86498.0, \"2020-03-27\", \"2020-01-31\"], [5974.0, 92472.0, \"2020-03-28\", \"2020-01-31\"], [5217.0, 97689.0, \"2020-03-29\", \"2020-01-31\"], [4050.0, 101739.0, \"2020-03-30\", \"2020-01-31\"], [4053.0, 105792.0, \"2020-03-31\", \"2020-01-31\"], [4782.0, 110574.0, \"2020-04-01\", \"2020-01-31\"], [4668.0, 115242.0, \"2020-04-02\", \"2020-01-31\"], [4585.0, 119827.0, \"2020-04-03\", \"2020-01-31\"], [4805.0, 124632.0, \"2020-04-04\", \"2020-01-31\"], [4316.0, 128948.0, \"2020-04-05\", \"2020-01-31\"], [3599.0, 132547.0, \"2020-04-06\", \"2020-01-31\"], [3039.0, 135586.0, \"2020-04-07\", \"2020-01-31\"], [3836.0, 139422.0, \"2020-04-08\", \"2020-01-31\"], [4204.0, 143626.0, \"2020-04-09\", \"2020-01-31\"], [3951.0, 147577.0, \"2020-04-10\", \"2020-01-31\"]], \"hovertemplate\": \"<b>%{hovertext}</b><br><br>Country=Italy<br>Confirmed=%{customdata[1]}<br>NewConfirmed=%{customdata[0]}<br>Date=%{customdata[2]}<br>EpidemicStartDate=%{customdata[3]}<extra></extra>\", \"hovertext\": [\"2020-02-22\", \"2020-02-23\", \"2020-02-24\", \"2020-02-25\", \"2020-02-26\", \"2020-02-27\", \"2020-02-28\", \"2020-02-29\", \"2020-03-01\", \"2020-03-02\", \"2020-03-03\", \"2020-03-04\", \"2020-03-05\", \"2020-03-06\", \"2020-03-07\", \"2020-03-08\", \"2020-03-09\", \"2020-03-10\", \"2020-03-11\", \"2020-03-12\", \"2020-03-13\", \"2020-03-14\", \"2020-03-15\", \"2020-03-16\", \"2020-03-17\", \"2020-03-18\", \"2020-03-19\", \"2020-03-20\", \"2020-03-21\", \"2020-03-22\", \"2020-03-23\", \"2020-03-24\", \"2020-03-25\", \"2020-03-26\", \"2020-03-27\", \"2020-03-28\", \"2020-03-29\", \"2020-03-30\", \"2020-03-31\", \"2020-04-01\", \"2020-04-02\", \"2020-04-03\", \"2020-04-04\", \"2020-04-05\", \"2020-04-06\", \"2020-04-07\", \"2020-04-08\", \"2020-04-09\", \"2020-04-10\"], \"legendgroup\": \"Italy\", \"marker\": {\"color\": \"#E45756\", \"opacity\": 0.9, \"symbol\": \"square\"}, \"mode\": \"markers\", \"name\": \"Italy\", \"showlegend\": true, \"type\": \"scatter\", \"x\": [62, 155, 229, 322, 453, 655, 888, 1128, 1694, 2036, 2502, 3089, 3858, 4636, 5883, 7375, 9172, 10149, 12462, 12462, 17660, 21157, 24747, 27980, 31506, 35713, 41035, 47021, 53578, 59138, 63927, 69176, 74386, 80589, 86498, 92472, 97689, 101739, 105792, 110574, 115242, 119827, 124632, 128948, 132547, 135586, 139422, 143626, 147577], \"xaxis\": \"x\", \"y\": [42.0, 93.0, 74.0, 93.0, 131.0, 202.0, 233.0, 240.0, 566.0, 342.0, 466.0, 587.0, 769.0, 778.0, 1247.0, 1492.0, 1797.0, 977.0, 2313.0, 0.0, 5198.0, 3497.0, 3590.0, 3233.0, 3526.0, 4207.0, 5322.0, 5986.0, 6557.0, 5560.0, 4789.0, 5249.0, 5210.0, 6203.0, 5909.0, 5974.0, 5217.0, 4050.0, 4053.0, 4782.0, 4668.0, 4585.0, 4805.0, 4316.0, 3599.0, 3039.0, 3836.0, 4204.0, 3951.0], \"yaxis\": \"y\"}, {\"customdata\": [[36.0, 51.0, \"2020-02-24\", \"2020-01-24\"], [0.0, 51.0, \"2020-02-25\", \"2020-01-24\"], [6.0, 57.0, \"2020-02-26\", \"2020-01-24\"], [1.0, 58.0, \"2020-02-27\", \"2020-01-24\"], [2.0, 60.0, \"2020-02-28\", \"2020-01-24\"], [8.0, 68.0, \"2020-02-29\", \"2020-01-24\"], [6.0, 74.0, \"2020-03-01\", \"2020-01-24\"], [24.0, 98.0, \"2020-03-02\", \"2020-01-24\"], [20.0, 118.0, \"2020-03-03\", \"2020-01-24\"], [31.0, 149.0, \"2020-03-04\", \"2020-01-24\"], [68.0, 217.0, \"2020-03-05\", \"2020-01-24\"], [45.0, 262.0, \"2020-03-06\", \"2020-01-24\"], [140.0, 402.0, \"2020-03-07\", \"2020-01-24\"], [116.0, 518.0, \"2020-03-08\", \"2020-01-24\"], [65.0, 583.0, \"2020-03-09\", \"2020-01-24\"], [376.0, 959.0, \"2020-03-10\", \"2020-01-24\"], [322.0, 1281.0, \"2020-03-11\", \"2020-01-24\"], [382.0, 1663.0, \"2020-03-12\", \"2020-01-24\"], [516.0, 2179.0, \"2020-03-13\", \"2020-01-24\"], [548.0, 2727.0, \"2020-03-14\", \"2020-01-24\"], [772.0, 3499.0, \"2020-03-15\", \"2020-01-24\"], [1133.0, 4632.0, \"2020-03-16\", \"2020-01-24\"], [1789.0, 6421.0, \"2020-03-17\", \"2020-01-24\"], [1362.0, 7783.0, \"2020-03-18\", \"2020-01-24\"], [5964.0, 13747.0, \"2020-03-19\", \"2020-01-24\"], [5526.0, 19273.0, \"2020-03-20\", \"2020-01-24\"], [6327.0, 25600.0, \"2020-03-21\", \"2020-01-24\"], [7676.0, 33276.0, \"2020-03-22\", \"2020-01-24\"], [10571.0, 43847.0, \"2020-03-23\", \"2020-01-24\"], [9893.0, 53740.0, \"2020-03-24\", \"2020-01-24\"], [12038.0, 65778.0, \"2020-03-25\", \"2020-01-24\"], [18058.0, 83836.0, \"2020-03-26\", \"2020-01-24\"], [17821.0, 101657.0, \"2020-03-27\", \"2020-01-24\"], [19808.0, 121465.0, \"2020-03-28\", \"2020-01-24\"], [19444.0, 140909.0, \"2020-03-29\", \"2020-01-24\"], [20922.0, 161831.0, \"2020-03-30\", \"2020-01-24\"], [26341.0, 188172.0, \"2020-03-31\", \"2020-01-24\"], [25200.0, 213372.0, \"2020-04-01\", \"2020-01-24\"], [30390.0, 243762.0, \"2020-04-02\", \"2020-01-24\"], [31824.0, 275586.0, \"2020-04-03\", \"2020-01-24\"], [33267.0, 308853.0, \"2020-04-04\", \"2020-01-24\"], [28219.0, 337072.0, \"2020-04-05\", \"2020-01-24\"], [29595.0, 366667.0, \"2020-04-06\", \"2020-01-24\"], [29556.0, 396223.0, \"2020-04-07\", \"2020-01-24\"], [32829.0, 429052.0, \"2020-04-08\", \"2020-01-24\"], [32385.0, 461437.0, \"2020-04-09\", \"2020-01-24\"], [35098.0, 496535.0, \"2020-04-10\", \"2020-01-24\"]], \"hovertemplate\": \"<b>%{hovertext}</b><br><br>Country=US<br>Confirmed=%{customdata[1]}<br>NewConfirmed=%{customdata[0]}<br>Date=%{customdata[2]}<br>EpidemicStartDate=%{customdata[3]}<extra></extra>\", \"hovertext\": [\"2020-02-24\", \"2020-02-25\", \"2020-02-26\", \"2020-02-27\", \"2020-02-28\", \"2020-02-29\", \"2020-03-01\", \"2020-03-02\", \"2020-03-03\", \"2020-03-04\", \"2020-03-05\", \"2020-03-06\", \"2020-03-07\", \"2020-03-08\", \"2020-03-09\", \"2020-03-10\", \"2020-03-11\", \"2020-03-12\", \"2020-03-13\", \"2020-03-14\", \"2020-03-15\", \"2020-03-16\", \"2020-03-17\", \"2020-03-18\", \"2020-03-19\", \"2020-03-20\", \"2020-03-21\", \"2020-03-22\", \"2020-03-23\", \"2020-03-24\", \"2020-03-25\", \"2020-03-26\", \"2020-03-27\", \"2020-03-28\", \"2020-03-29\", \"2020-03-30\", \"2020-03-31\", \"2020-04-01\", \"2020-04-02\", \"2020-04-03\", \"2020-04-04\", \"2020-04-05\", \"2020-04-06\", \"2020-04-07\", \"2020-04-08\", \"2020-04-09\", \"2020-04-10\"], \"legendgroup\": \"US\", \"marker\": {\"color\": \"#72B7B2\", \"opacity\": 0.9, \"symbol\": \"x\"}, \"mode\": \"markers\", \"name\": \"US\", \"showlegend\": true, \"type\": \"scatter\", \"x\": [51, 51, 57, 58, 60, 68, 74, 98, 118, 149, 217, 262, 402, 518, 583, 959, 1281, 1663, 2179, 2727, 3499, 4632, 6421, 7783, 13747, 19273, 25600, 33276, 43847, 53740, 65778, 83836, 101657, 121465, 140909, 161831, 188172, 213372, 243762, 275586, 308853, 337072, 366667, 396223, 429052, 461437, 496535], \"xaxis\": \"x\", \"y\": [36.0, 0.0, 6.0, 1.0, 2.0, 8.0, 6.0, 24.0, 20.0, 31.0, 68.0, 45.0, 140.0, 116.0, 65.0, 376.0, 322.0, 382.0, 516.0, 548.0, 772.0, 1133.0, 1789.0, 1362.0, 5964.0, 5526.0, 6327.0, 7676.0, 10571.0, 9893.0, 12038.0, 18058.0, 17821.0, 19808.0, 19444.0, 20922.0, 26341.0, 25200.0, 30390.0, 31824.0, 33267.0, 28219.0, 29595.0, 29556.0, 32829.0, 32385.0, 35098.0], \"yaxis\": \"y\"}],\n",
       "                        {\"legend\": {\"title\": {\"text\": \"Country\"}, \"tracegroupgap\": 0}, \"template\": {\"data\": {\"bar\": [{\"error_x\": {\"color\": \"rgb(51,51,51)\"}, \"error_y\": {\"color\": \"rgb(51,51,51)\"}, \"marker\": {\"line\": {\"color\": \"rgb(237,237,237)\", \"width\": 0.5}}, \"type\": \"bar\"}], \"barpolar\": [{\"marker\": {\"line\": {\"color\": \"rgb(237,237,237)\", \"width\": 0.5}}, \"type\": \"barpolar\"}], \"carpet\": [{\"aaxis\": {\"endlinecolor\": \"rgb(51,51,51)\", \"gridcolor\": \"white\", \"linecolor\": \"white\", \"minorgridcolor\": \"white\", \"startlinecolor\": \"rgb(51,51,51)\"}, \"baxis\": {\"endlinecolor\": \"rgb(51,51,51)\", \"gridcolor\": \"white\", \"linecolor\": \"white\", \"minorgridcolor\": \"white\", \"startlinecolor\": \"rgb(51,51,51)\"}, \"type\": \"carpet\"}], \"choropleth\": [{\"colorbar\": {\"outlinewidth\": 0, \"tickcolor\": \"rgb(237,237,237)\", \"ticklen\": 6, \"ticks\": \"inside\"}, \"type\": \"choropleth\"}], \"contour\": [{\"colorbar\": {\"outlinewidth\": 0, \"tickcolor\": \"rgb(237,237,237)\", \"ticklen\": 6, \"ticks\": \"inside\"}, \"colorscale\": [[0, \"rgb(20,44,66)\"], [1, \"rgb(90,179,244)\"]], \"type\": \"contour\"}], \"contourcarpet\": [{\"colorbar\": {\"outlinewidth\": 0, \"tickcolor\": \"rgb(237,237,237)\", \"ticklen\": 6, \"ticks\": \"inside\"}, \"type\": \"contourcarpet\"}], \"heatmap\": [{\"colorbar\": {\"outlinewidth\": 0, \"tickcolor\": \"rgb(237,237,237)\", \"ticklen\": 6, \"ticks\": \"inside\"}, \"colorscale\": [[0, \"rgb(20,44,66)\"], [1, \"rgb(90,179,244)\"]], \"type\": \"heatmap\"}], \"heatmapgl\": [{\"colorbar\": {\"outlinewidth\": 0, \"tickcolor\": \"rgb(237,237,237)\", \"ticklen\": 6, \"ticks\": \"inside\"}, \"colorscale\": [[0, \"rgb(20,44,66)\"], [1, \"rgb(90,179,244)\"]], \"type\": \"heatmapgl\"}], \"histogram\": [{\"marker\": {\"colorbar\": {\"outlinewidth\": 0, \"tickcolor\": \"rgb(237,237,237)\", \"ticklen\": 6, \"ticks\": \"inside\"}}, \"type\": \"histogram\"}], \"histogram2d\": [{\"colorbar\": {\"outlinewidth\": 0, \"tickcolor\": \"rgb(237,237,237)\", \"ticklen\": 6, \"ticks\": \"inside\"}, \"colorscale\": [[0, \"rgb(20,44,66)\"], [1, \"rgb(90,179,244)\"]], \"type\": \"histogram2d\"}], \"histogram2dcontour\": [{\"colorbar\": {\"outlinewidth\": 0, \"tickcolor\": \"rgb(237,237,237)\", \"ticklen\": 6, \"ticks\": \"inside\"}, \"colorscale\": [[0, \"rgb(20,44,66)\"], [1, \"rgb(90,179,244)\"]], \"type\": \"histogram2dcontour\"}], \"mesh3d\": [{\"colorbar\": {\"outlinewidth\": 0, \"tickcolor\": \"rgb(237,237,237)\", \"ticklen\": 6, \"ticks\": \"inside\"}, \"type\": \"mesh3d\"}], \"parcoords\": [{\"line\": {\"colorbar\": {\"outlinewidth\": 0, \"tickcolor\": \"rgb(237,237,237)\", \"ticklen\": 6, \"ticks\": \"inside\"}}, \"type\": \"parcoords\"}], \"pie\": [{\"automargin\": true, \"type\": \"pie\"}], \"scatter\": [{\"marker\": {\"colorbar\": {\"outlinewidth\": 0, \"tickcolor\": \"rgb(237,237,237)\", \"ticklen\": 6, \"ticks\": \"inside\"}}, \"type\": \"scatter\"}], \"scatter3d\": [{\"line\": {\"colorbar\": {\"outlinewidth\": 0, \"tickcolor\": \"rgb(237,237,237)\", \"ticklen\": 6, \"ticks\": \"inside\"}}, \"marker\": {\"colorbar\": {\"outlinewidth\": 0, \"tickcolor\": \"rgb(237,237,237)\", \"ticklen\": 6, \"ticks\": \"inside\"}}, \"type\": \"scatter3d\"}], \"scattercarpet\": [{\"marker\": {\"colorbar\": {\"outlinewidth\": 0, \"tickcolor\": \"rgb(237,237,237)\", \"ticklen\": 6, \"ticks\": \"inside\"}}, \"type\": \"scattercarpet\"}], \"scattergeo\": [{\"marker\": {\"colorbar\": {\"outlinewidth\": 0, \"tickcolor\": \"rgb(237,237,237)\", \"ticklen\": 6, \"ticks\": \"inside\"}}, \"type\": \"scattergeo\"}], \"scattergl\": [{\"marker\": {\"colorbar\": {\"outlinewidth\": 0, \"tickcolor\": \"rgb(237,237,237)\", \"ticklen\": 6, \"ticks\": \"inside\"}}, \"type\": \"scattergl\"}], \"scattermapbox\": [{\"marker\": {\"colorbar\": {\"outlinewidth\": 0, \"tickcolor\": \"rgb(237,237,237)\", \"ticklen\": 6, \"ticks\": \"inside\"}}, \"type\": \"scattermapbox\"}], \"scatterpolar\": [{\"marker\": {\"colorbar\": {\"outlinewidth\": 0, \"tickcolor\": \"rgb(237,237,237)\", \"ticklen\": 6, \"ticks\": \"inside\"}}, \"type\": \"scatterpolar\"}], \"scatterpolargl\": [{\"marker\": {\"colorbar\": {\"outlinewidth\": 0, \"tickcolor\": \"rgb(237,237,237)\", \"ticklen\": 6, \"ticks\": \"inside\"}}, \"type\": \"scatterpolargl\"}], \"scatterternary\": [{\"marker\": {\"colorbar\": {\"outlinewidth\": 0, \"tickcolor\": \"rgb(237,237,237)\", \"ticklen\": 6, \"ticks\": \"inside\"}}, \"type\": \"scatterternary\"}], \"surface\": [{\"colorbar\": {\"outlinewidth\": 0, \"tickcolor\": \"rgb(237,237,237)\", \"ticklen\": 6, \"ticks\": \"inside\"}, \"colorscale\": [[0, \"rgb(20,44,66)\"], [1, \"rgb(90,179,244)\"]], \"type\": \"surface\"}], \"table\": [{\"cells\": {\"fill\": {\"color\": \"rgb(237,237,237)\"}, \"line\": {\"color\": \"white\"}}, \"header\": {\"fill\": {\"color\": \"rgb(217,217,217)\"}, \"line\": {\"color\": \"white\"}}, \"type\": \"table\"}]}, \"layout\": {\"annotationdefaults\": {\"arrowhead\": 0, \"arrowwidth\": 1}, \"coloraxis\": {\"colorbar\": {\"outlinewidth\": 0, \"tickcolor\": \"rgb(237,237,237)\", \"ticklen\": 6, \"ticks\": \"inside\"}}, \"colorscale\": {\"sequential\": [[0, \"rgb(20,44,66)\"], [1, \"rgb(90,179,244)\"]], \"sequentialminus\": [[0, \"rgb(20,44,66)\"], [1, \"rgb(90,179,244)\"]]}, \"colorway\": [\"#F8766D\", \"#A3A500\", \"#00BF7D\", \"#00B0F6\", \"#E76BF3\"], \"font\": {\"color\": \"rgb(51,51,51)\"}, \"geo\": {\"bgcolor\": \"white\", \"lakecolor\": \"white\", \"landcolor\": \"rgb(237,237,237)\", \"showlakes\": true, \"showland\": true, \"subunitcolor\": \"white\"}, \"hoverlabel\": {\"align\": \"left\"}, \"hovermode\": \"closest\", \"paper_bgcolor\": \"white\", \"plot_bgcolor\": \"rgb(237,237,237)\", \"polar\": {\"angularaxis\": {\"gridcolor\": \"white\", \"linecolor\": \"white\", \"showgrid\": true, \"tickcolor\": \"rgb(51,51,51)\", \"ticks\": \"outside\"}, \"bgcolor\": \"rgb(237,237,237)\", \"radialaxis\": {\"gridcolor\": \"white\", \"linecolor\": \"white\", \"showgrid\": true, \"tickcolor\": \"rgb(51,51,51)\", \"ticks\": \"outside\"}}, \"scene\": {\"xaxis\": {\"backgroundcolor\": \"rgb(237,237,237)\", \"gridcolor\": \"white\", \"gridwidth\": 2, \"linecolor\": \"white\", \"showbackground\": true, \"showgrid\": true, \"tickcolor\": \"rgb(51,51,51)\", \"ticks\": \"outside\", \"zerolinecolor\": \"white\"}, \"yaxis\": {\"backgroundcolor\": \"rgb(237,237,237)\", \"gridcolor\": \"white\", \"gridwidth\": 2, \"linecolor\": \"white\", \"showbackground\": true, \"showgrid\": true, \"tickcolor\": \"rgb(51,51,51)\", \"ticks\": \"outside\", \"zerolinecolor\": \"white\"}, \"zaxis\": {\"backgroundcolor\": \"rgb(237,237,237)\", \"gridcolor\": \"white\", \"gridwidth\": 2, \"linecolor\": \"white\", \"showbackground\": true, \"showgrid\": true, \"tickcolor\": \"rgb(51,51,51)\", \"ticks\": \"outside\", \"zerolinecolor\": \"white\"}}, \"shapedefaults\": {\"fillcolor\": \"black\", \"line\": {\"width\": 0}, \"opacity\": 0.3}, \"ternary\": {\"aaxis\": {\"gridcolor\": \"white\", \"linecolor\": \"white\", \"showgrid\": true, \"tickcolor\": \"rgb(51,51,51)\", \"ticks\": \"outside\"}, \"baxis\": {\"gridcolor\": \"white\", \"linecolor\": \"white\", \"showgrid\": true, \"tickcolor\": \"rgb(51,51,51)\", \"ticks\": \"outside\"}, \"bgcolor\": \"rgb(237,237,237)\", \"caxis\": {\"gridcolor\": \"white\", \"linecolor\": \"white\", \"showgrid\": true, \"tickcolor\": \"rgb(51,51,51)\", \"ticks\": \"outside\"}}, \"xaxis\": {\"automargin\": true, \"gridcolor\": \"white\", \"linecolor\": \"white\", \"showgrid\": true, \"tickcolor\": \"rgb(51,51,51)\", \"ticks\": \"outside\", \"title\": {\"standoff\": 15}, \"zerolinecolor\": \"white\"}, \"yaxis\": {\"automargin\": true, \"gridcolor\": \"white\", \"linecolor\": \"white\", \"showgrid\": true, \"tickcolor\": \"rgb(51,51,51)\", \"ticks\": \"outside\", \"title\": {\"standoff\": 15}, \"zerolinecolor\": \"white\"}}}, \"title\": {\"text\": \"New Confirmed Cases vs Cumulative Cases Per Day (Logged, International)\"}, \"xaxis\": {\"anchor\": \"y\", \"domain\": [0.0, 1.0], \"title\": {\"text\": \"Confirmed\"}, \"type\": \"log\"}, \"yaxis\": {\"anchor\": \"x\", \"domain\": [0.0, 1.0], \"title\": {\"text\": \"NewConfirmed\"}, \"type\": \"log\"}},\n",
       "                        {\"responsive\": true}\n",
       "                    ).then(function(){\n",
       "                            \n",
       "var gd = document.getElementById('427e6509-aec6-4239-bc54-ff0d25592348');\n",
       "var x = new MutationObserver(function (mutations, observer) {{\n",
       "        var display = window.getComputedStyle(gd).display;\n",
       "        if (!display || display === 'none') {{\n",
       "            console.log([gd, 'removed!']);\n",
       "            Plotly.purge(gd);\n",
       "            observer.disconnect();\n",
       "        }}\n",
       "}});\n",
       "\n",
       "// Listen for the removal of the full notebook cells\n",
       "var notebookContainer = gd.closest('#notebook-container');\n",
       "if (notebookContainer) {{\n",
       "    x.observe(notebookContainer, {childList: true});\n",
       "}}\n",
       "\n",
       "// Listen for the clearing of the current output cell\n",
       "var outputEl = gd.closest('.output');\n",
       "if (outputEl) {{\n",
       "    x.observe(outputEl, {childList: true});\n",
       "}}\n",
       "\n",
       "                        })\n",
       "                };\n",
       "                });\n",
       "            </script>\n",
       "        </div>"
      ]
     },
     "metadata": {},
     "output_type": "display_data"
    }
   ],
   "source": [
    "countriesToPlot = ['US', 'Korea, South', 'Italy', 'China']\n",
    "fig =   px.scatter(data_frame=df_country[df_country.Country.isin(countriesToPlot)].loc[df_country.Confirmed > 50], \n",
    "                   x='Confirmed', y='NewConfirmed', color='Country', symbol='Country', opacity=0.9,\n",
    "                   log_x=True,log_y=True, \n",
    "                   hover_name='Date', hover_data=['NewConfirmed','Confirmed','Date','EpidemicStartDate'],\n",
    "                   title='New Confirmed Cases vs Cumulative Cases Per Day (Logged, International)', template='ggplot2', \n",
    "                   color_discrete_sequence= px.colors.qualitative.T10, \n",
    "                  )\n",
    "fig.show(width=1000, height=600,\n",
    "#          renderer='svg', # Leave this commented out for an interactive plot\n",
    "        )"
   ]
  },
  {
   "cell_type": "markdown",
   "metadata": {},
   "source": [
    "From this plot, it appears that China and South Korea have defintely been able to plateau out, while Italy is nearing the end of the tunnel. (04/10/20)"
   ]
  },
  {
   "cell_type": "code",
   "execution_count": 12,
   "metadata": {},
   "outputs": [],
   "source": [
    "# To Do: Animated scatter against date"
   ]
  },
  {
   "cell_type": "markdown",
   "metadata": {},
   "source": [
    "Applying the same visualizations onto select US states:"
   ]
  },
  {
   "cell_type": "code",
   "execution_count": 20,
   "metadata": {},
   "outputs": [
    {
     "data": {
      "image/svg+xml": [
       "<svg class=\"main-svg\" xmlns=\"http://www.w3.org/2000/svg\" xmlns:xlink=\"http://www.w3.org/1999/xlink\" width=\"1000\" height=\"600\" style=\"\" viewBox=\"0 0 1000 600\"><rect x=\"0\" y=\"0\" width=\"1000\" height=\"600\" style=\"fill: rgb(255, 255, 255); fill-opacity: 1;\"/><defs id=\"defs-3cca6e\"><g class=\"clips\"><clipPath id=\"clip3cca6exyplot\" class=\"plotclip\"><rect width=\"776\" height=\"420\"/></clipPath><clipPath class=\"axesclip\" id=\"clip3cca6ex\"><rect x=\"80\" y=\"0\" width=\"776\" height=\"600\"/></clipPath><clipPath class=\"axesclip\" id=\"clip3cca6ey\"><rect x=\"0\" y=\"100\" width=\"1000\" height=\"420\"/></clipPath><clipPath class=\"axesclip\" id=\"clip3cca6exy\"><rect x=\"80\" y=\"100\" width=\"776\" height=\"420\"/></clipPath></g><g class=\"gradients\"/></defs><g class=\"bglayer\"><rect class=\"bg\" x=\"80\" y=\"100\" width=\"776\" height=\"420\" style=\"fill: rgb(237, 237, 237); fill-opacity: 1; stroke-width: 0;\"/></g><g class=\"layer-below\"><g class=\"imagelayer\"/><g class=\"shapelayer\"/></g><g class=\"cartesianlayer\"><g class=\"subplot xy\"><g class=\"layer-subplot\"><g class=\"shapelayer\"/><g class=\"imagelayer\"/></g><g class=\"gridlayer\"><g class=\"x\"><path class=\"xgrid crisp\" transform=\"translate(120.85,0)\" d=\"M0,100v420\" style=\"stroke: rgb(255, 255, 255); stroke-opacity: 1; stroke-width: 1px;\"/><path class=\"xgrid crisp\" transform=\"translate(180.34,0)\" d=\"M0,100v420\" style=\"stroke: rgb(255, 255, 255); stroke-opacity: 1; stroke-width: 1px;\"/><path class=\"xgrid crisp\" transform=\"translate(239.82,0)\" d=\"M0,100v420\" style=\"stroke: rgb(255, 255, 255); stroke-opacity: 1; stroke-width: 1px;\"/><path class=\"xgrid crisp\" transform=\"translate(318.46000000000004,0)\" d=\"M0,100v420\" style=\"stroke: rgb(255, 255, 255); stroke-opacity: 1; stroke-width: 1px;\"/><path class=\"xgrid crisp\" transform=\"translate(377.94,0)\" d=\"M0,100v420\" style=\"stroke: rgb(255, 255, 255); stroke-opacity: 1; stroke-width: 1px;\"/><path class=\"xgrid crisp\" transform=\"translate(437.42,0)\" d=\"M0,100v420\" style=\"stroke: rgb(255, 255, 255); stroke-opacity: 1; stroke-width: 1px;\"/><path class=\"xgrid crisp\" transform=\"translate(516.06,0)\" d=\"M0,100v420\" style=\"stroke: rgb(255, 255, 255); stroke-opacity: 1; stroke-width: 1px;\"/><path class=\"xgrid crisp\" transform=\"translate(575.54,0)\" d=\"M0,100v420\" style=\"stroke: rgb(255, 255, 255); stroke-opacity: 1; stroke-width: 1px;\"/><path class=\"xgrid crisp\" transform=\"translate(635.03,0)\" d=\"M0,100v420\" style=\"stroke: rgb(255, 255, 255); stroke-opacity: 1; stroke-width: 1px;\"/><path class=\"xgrid crisp\" transform=\"translate(713.66,0)\" d=\"M0,100v420\" style=\"stroke: rgb(255, 255, 255); stroke-opacity: 1; stroke-width: 1px;\"/><path class=\"xgrid crisp\" transform=\"translate(773.15,0)\" d=\"M0,100v420\" style=\"stroke: rgb(255, 255, 255); stroke-opacity: 1; stroke-width: 1px;\"/><path class=\"xgrid crisp\" transform=\"translate(832.63,0)\" d=\"M0,100v420\" style=\"stroke: rgb(255, 255, 255); stroke-opacity: 1; stroke-width: 1px;\"/></g><g class=\"y\"><path class=\"ygrid crisp\" transform=\"translate(0,495.25)\" d=\"M80,0h776\" style=\"stroke: rgb(255, 255, 255); stroke-opacity: 1; stroke-width: 1px;\"/><path class=\"ygrid crisp\" transform=\"translate(0,456.27)\" d=\"M80,0h776\" style=\"stroke: rgb(255, 255, 255); stroke-opacity: 1; stroke-width: 1px;\"/><path class=\"ygrid crisp\" transform=\"translate(0,426.79)\" d=\"M80,0h776\" style=\"stroke: rgb(255, 255, 255); stroke-opacity: 1; stroke-width: 1px;\"/><path class=\"ygrid crisp\" transform=\"translate(0,397.3)\" d=\"M80,0h776\" style=\"stroke: rgb(255, 255, 255); stroke-opacity: 1; stroke-width: 1px;\"/><path class=\"ygrid crisp\" transform=\"translate(0,358.33)\" d=\"M80,0h776\" style=\"stroke: rgb(255, 255, 255); stroke-opacity: 1; stroke-width: 1px;\"/><path class=\"ygrid crisp\" transform=\"translate(0,328.84000000000003)\" d=\"M80,0h776\" style=\"stroke: rgb(255, 255, 255); stroke-opacity: 1; stroke-width: 1px;\"/><path class=\"ygrid crisp\" transform=\"translate(0,299.36)\" d=\"M80,0h776\" style=\"stroke: rgb(255, 255, 255); stroke-opacity: 1; stroke-width: 1px;\"/><path class=\"ygrid crisp\" transform=\"translate(0,260.38)\" d=\"M80,0h776\" style=\"stroke: rgb(255, 255, 255); stroke-opacity: 1; stroke-width: 1px;\"/><path class=\"ygrid crisp\" transform=\"translate(0,230.9)\" d=\"M80,0h776\" style=\"stroke: rgb(255, 255, 255); stroke-opacity: 1; stroke-width: 1px;\"/><path class=\"ygrid crisp\" transform=\"translate(0,201.41)\" d=\"M80,0h776\" style=\"stroke: rgb(255, 255, 255); stroke-opacity: 1; stroke-width: 1px;\"/><path class=\"ygrid crisp\" transform=\"translate(0,162.43)\" d=\"M80,0h776\" style=\"stroke: rgb(255, 255, 255); stroke-opacity: 1; stroke-width: 1px;\"/><path class=\"ygrid crisp\" transform=\"translate(0,132.95)\" d=\"M80,0h776\" style=\"stroke: rgb(255, 255, 255); stroke-opacity: 1; stroke-width: 1px;\"/><path class=\"ygrid crisp\" transform=\"translate(0,103.47)\" d=\"M80,0h776\" style=\"stroke: rgb(255, 255, 255); stroke-opacity: 1; stroke-width: 1px;\"/></g></g><g class=\"zerolinelayer\"/><path class=\"xlines-below\"/><path class=\"ylines-below\"/><g class=\"overlines-below\"/><g class=\"xaxislayer-below\"/><g class=\"yaxislayer-below\"/><g class=\"overaxes-below\"/><g class=\"plot\" transform=\"translate(80, 100)\" clip-path=\"url('#clip3cca6exyplot')\"><g class=\"scatterlayer mlayer\"><g class=\"trace scatter trace914e9a\" style=\"stroke-miterlimit: 2; opacity: 1;\"><g class=\"fills\"/><g class=\"errorbars\"/><g class=\"lines\"/><g class=\"points\"><path class=\"point plotly-customdata\" transform=\"translate(69.73,289.55)\" d=\"M3,0A3,3 0 1,1 0,-3A3,3 0 0,1 3,0Z\" style=\"opacity: 0.9; stroke-width: 0px; fill: rgb(76, 120, 168); fill-opacity: 1;\"/><path class=\"point plotly-customdata\" transform=\"translate(107.73,268.9)\" d=\"M3,0A3,3 0 1,1 0,-3A3,3 0 0,1 3,0Z\" style=\"opacity: 0.9; stroke-width: 0px; fill: rgb(76, 120, 168); fill-opacity: 1;\"/><path class=\"point plotly-customdata\" transform=\"translate(129.82,277.31)\" d=\"M3,0A3,3 0 1,1 0,-3A3,3 0 0,1 3,0Z\" style=\"opacity: 0.9; stroke-width: 0px; fill: rgb(76, 120, 168); fill-opacity: 1;\"/><path class=\"point plotly-customdata\" transform=\"translate(164.01,244.63)\" d=\"M3,0A3,3 0 1,1 0,-3A3,3 0 0,1 3,0Z\" style=\"opacity: 0.9; stroke-width: 0px; fill: rgb(76, 120, 168); fill-opacity: 1;\"/><path class=\"point plotly-customdata\" transform=\"translate(201.75,222.53)\" d=\"M3,0A3,3 0 1,1 0,-3A3,3 0 0,1 3,0Z\" style=\"opacity: 0.9; stroke-width: 0px; fill: rgb(76, 120, 168); fill-opacity: 1;\"/><path class=\"point plotly-customdata\" transform=\"translate(226.31,225.57)\" d=\"M3,0A3,3 0 1,1 0,-3A3,3 0 0,1 3,0Z\" style=\"opacity: 0.9; stroke-width: 0px; fill: rgb(76, 120, 168); fill-opacity: 1;\"/><path class=\"point plotly-customdata\" transform=\"translate(248.79,217.68)\" d=\"M3,0A3,3 0 1,1 0,-3A3,3 0 0,1 3,0Z\" style=\"opacity: 0.9; stroke-width: 0px; fill: rgb(76, 120, 168); fill-opacity: 1;\"/><path class=\"point plotly-customdata\" transform=\"translate(274.84,199.36)\" d=\"M3,0A3,3 0 1,1 0,-3A3,3 0 0,1 3,0Z\" style=\"opacity: 0.9; stroke-width: 0px; fill: rgb(76, 120, 168); fill-opacity: 1;\"/><path class=\"point plotly-customdata\" transform=\"translate(297.94,192.32)\" d=\"M3,0A3,3 0 1,1 0,-3A3,3 0 0,1 3,0Z\" style=\"opacity: 0.9; stroke-width: 0px; fill: rgb(76, 120, 168); fill-opacity: 1;\"/><path class=\"point plotly-customdata\" transform=\"translate(315.15,194.92)\" d=\"M3,0A3,3 0 1,1 0,-3A3,3 0 0,1 3,0Z\" style=\"opacity: 0.9; stroke-width: 0px; fill: rgb(76, 120, 168); fill-opacity: 1;\"/><path class=\"point plotly-customdata\" transform=\"translate(330.83,190.72)\" d=\"M3,0A3,3 0 1,1 0,-3A3,3 0 0,1 3,0Z\" style=\"opacity: 0.9; stroke-width: 0px; fill: rgb(76, 120, 168); fill-opacity: 1;\"/><path class=\"point plotly-customdata\" transform=\"translate(355.91,160.55)\" d=\"M3,0A3,3 0 1,1 0,-3A3,3 0 0,1 3,0Z\" style=\"opacity: 0.9; stroke-width: 0px; fill: rgb(76, 120, 168); fill-opacity: 1;\"/><path class=\"point plotly-customdata\" transform=\"translate(375.78,159.37)\" d=\"M3,0A3,3 0 1,1 0,-3A3,3 0 0,1 3,0Z\" style=\"opacity: 0.9; stroke-width: 0px; fill: rgb(76, 120, 168); fill-opacity: 1;\"/><path class=\"point plotly-customdata\" transform=\"translate(397.71,144.81)\" d=\"M3,0A3,3 0 1,1 0,-3A3,3 0 0,1 3,0Z\" style=\"opacity: 0.9; stroke-width: 0px; fill: rgb(76, 120, 168); fill-opacity: 1;\"/><path class=\"point plotly-customdata\" transform=\"translate(417.72,138.31)\" d=\"M3,0A3,3 0 1,1 0,-3A3,3 0 0,1 3,0Z\" style=\"opacity: 0.9; stroke-width: 0px; fill: rgb(76, 120, 168); fill-opacity: 1;\"/><path class=\"point plotly-customdata\" transform=\"translate(435.06,135.19)\" d=\"M3,0A3,3 0 1,1 0,-3A3,3 0 0,1 3,0Z\" style=\"opacity: 0.9; stroke-width: 0px; fill: rgb(76, 120, 168); fill-opacity: 1;\"/><path class=\"point plotly-customdata\" transform=\"translate(447.21,143.02)\" d=\"M3,0A3,3 0 1,1 0,-3A3,3 0 0,1 3,0Z\" style=\"opacity: 0.9; stroke-width: 0px; fill: rgb(76, 120, 168); fill-opacity: 1;\"/><path class=\"point plotly-customdata\" transform=\"translate(461.7,128.94)\" d=\"M3,0A3,3 0 1,1 0,-3A3,3 0 0,1 3,0Z\" style=\"opacity: 0.9; stroke-width: 0px; fill: rgb(76, 120, 168); fill-opacity: 1;\"/><path class=\"point plotly-customdata\" transform=\"translate(473.84,129.89)\" d=\"M3,0A3,3 0 1,1 0,-3A3,3 0 0,1 3,0Z\" style=\"opacity: 0.9; stroke-width: 0px; fill: rgb(76, 120, 168); fill-opacity: 1;\"/><path class=\"point plotly-customdata\" transform=\"translate(486.5,121.92)\" d=\"M3,0A3,3 0 1,1 0,-3A3,3 0 0,1 3,0Z\" style=\"opacity: 0.9; stroke-width: 0px; fill: rgb(76, 120, 168); fill-opacity: 1;\"/><path class=\"point plotly-customdata\" transform=\"translate(497.75,121.07)\" d=\"M3,0A3,3 0 1,1 0,-3A3,3 0 0,1 3,0Z\" style=\"opacity: 0.9; stroke-width: 0px; fill: rgb(76, 120, 168); fill-opacity: 1;\"/><path class=\"point plotly-customdata\" transform=\"translate(507.81,120.5)\" d=\"M3,0A3,3 0 1,1 0,-3A3,3 0 0,1 3,0Z\" style=\"opacity: 0.9; stroke-width: 0px; fill: rgb(76, 120, 168); fill-opacity: 1;\"/><path class=\"point plotly-customdata\" transform=\"translate(513.6,140.12)\" d=\"M3,0A3,3 0 1,1 0,-3A3,3 0 0,1 3,0Z\" style=\"opacity: 0.9; stroke-width: 0px; fill: rgb(76, 120, 168); fill-opacity: 1;\"/><path class=\"point plotly-customdata\" transform=\"translate(522.06,120.43)\" d=\"M3,0A3,3 0 1,1 0,-3A3,3 0 0,1 3,0Z\" style=\"opacity: 0.9; stroke-width: 0px; fill: rgb(76, 120, 168); fill-opacity: 1;\"/><path class=\"point plotly-customdata\" transform=\"translate(528.83,126.15)\" d=\"M3,0A3,3 0 1,1 0,-3A3,3 0 0,1 3,0Z\" style=\"opacity: 0.9; stroke-width: 0px; fill: rgb(76, 120, 168); fill-opacity: 1;\"/><path class=\"point plotly-customdata\" transform=\"translate(534.2,133.03)\" d=\"M3,0A3,3 0 1,1 0,-3A3,3 0 0,1 3,0Z\" style=\"opacity: 0.9; stroke-width: 0px; fill: rgb(76, 120, 168); fill-opacity: 1;\"/><path class=\"point plotly-customdata\" transform=\"translate(540.16,125.73)\" d=\"M3,0A3,3 0 1,1 0,-3A3,3 0 0,1 3,0Z\" style=\"opacity: 0.9; stroke-width: 0px; fill: rgb(76, 120, 168); fill-opacity: 1;\"/></g><g class=\"text\"/></g><g class=\"trace scatter tracecb1ab2\" style=\"stroke-miterlimit: 2; opacity: 1;\"><g class=\"fills\"/><g class=\"errorbars\"/><g class=\"lines\"/><g class=\"points\"><path class=\"point plotly-customdata\" transform=\"translate(75.65,287.81)\" d=\"M3.9,0L0,3.9L-3.9,0L0,-3.9Z\" style=\"opacity: 0.9; stroke-width: 0px; fill: rgb(245, 133, 24); fill-opacity: 1;\"/><path class=\"point plotly-customdata\" transform=\"translate(98.6,291.36)\" d=\"M3.9,0L0,3.9L-3.9,0L0,-3.9Z\" style=\"opacity: 0.9; stroke-width: 0px; fill: rgb(245, 133, 24); fill-opacity: 1;\"/><path class=\"point plotly-customdata\" transform=\"translate(148.85,239.41)\" d=\"M3.9,0L0,3.9L-3.9,0L0,-3.9Z\" style=\"opacity: 0.9; stroke-width: 0px; fill: rgb(245, 133, 24); fill-opacity: 1;\"/><path class=\"point plotly-customdata\" transform=\"translate(184.94,232.39)\" d=\"M3.9,0L0,3.9L-3.9,0L0,-3.9Z\" style=\"opacity: 0.9; stroke-width: 0px; fill: rgb(245, 133, 24); fill-opacity: 1;\"/><path class=\"point plotly-customdata\" transform=\"translate(224.91,209.12)\" d=\"M3.9,0L0,3.9L-3.9,0L0,-3.9Z\" style=\"opacity: 0.9; stroke-width: 0px; fill: rgb(245, 133, 24); fill-opacity: 1;\"/><path class=\"point plotly-customdata\" transform=\"translate(271.52,180.99)\" d=\"M3.9,0L0,3.9L-3.9,0L0,-3.9Z\" style=\"opacity: 0.9; stroke-width: 0px; fill: rgb(245, 133, 24); fill-opacity: 1;\"/><path class=\"point plotly-customdata\" transform=\"translate(288.52,208.58)\" d=\"M3.9,0L0,3.9L-3.9,0L0,-3.9Z\" style=\"opacity: 0.9; stroke-width: 0px; fill: rgb(245, 133, 24); fill-opacity: 1;\"/><path class=\"point plotly-customdata\" transform=\"translate(322.8,165.82)\" d=\"M3.9,0L0,3.9L-3.9,0L0,-3.9Z\" style=\"opacity: 0.9; stroke-width: 0px; fill: rgb(245, 133, 24); fill-opacity: 1;\"/><path class=\"point plotly-customdata\" transform=\"translate(353.65,154.21)\" d=\"M3.9,0L0,3.9L-3.9,0L0,-3.9Z\" style=\"opacity: 0.9; stroke-width: 0px; fill: rgb(245, 133, 24); fill-opacity: 1;\"/><path class=\"point plotly-customdata\" transform=\"translate(387.64,133.98)\" d=\"M3.9,0L0,3.9L-3.9,0L0,-3.9Z\" style=\"opacity: 0.9; stroke-width: 0px; fill: rgb(245, 133, 24); fill-opacity: 1;\"/><path class=\"point plotly-customdata\" transform=\"translate(409.64,138.77)\" d=\"M3.9,0L0,3.9L-3.9,0L0,-3.9Z\" style=\"opacity: 0.9; stroke-width: 0px; fill: rgb(245, 133, 24); fill-opacity: 1;\"/><path class=\"point plotly-customdata\" transform=\"translate(425.13,144.46)\" d=\"M3.9,0L0,3.9L-3.9,0L0,-3.9Z\" style=\"opacity: 0.9; stroke-width: 0px; fill: rgb(245, 133, 24); fill-opacity: 1;\"/><path class=\"point plotly-customdata\" transform=\"translate(463.4,92.36)\" d=\"M3.9,0L0,3.9L-3.9,0L0,-3.9Z\" style=\"opacity: 0.9; stroke-width: 0px; fill: rgb(245, 133, 24); fill-opacity: 1;\"/><path class=\"point plotly-customdata\" transform=\"translate(484.82,102.51)\" d=\"M3.9,0L0,3.9L-3.9,0L0,-3.9Z\" style=\"opacity: 0.9; stroke-width: 0px; fill: rgb(245, 133, 24); fill-opacity: 1;\"/><path class=\"point plotly-customdata\" transform=\"translate(504.69,95.48)\" d=\"M3.9,0L0,3.9L-3.9,0L0,-3.9Z\" style=\"opacity: 0.9; stroke-width: 0px; fill: rgb(245, 133, 24); fill-opacity: 1;\"/><path class=\"point plotly-customdata\" transform=\"translate(520.57,96.17)\" d=\"M3.9,0L0,3.9L-3.9,0L0,-3.9Z\" style=\"opacity: 0.9; stroke-width: 0px; fill: rgb(245, 133, 24); fill-opacity: 1;\"/><path class=\"point plotly-customdata\" transform=\"translate(539.22,80.76)\" d=\"M3.9,0L0,3.9L-3.9,0L0,-3.9Z\" style=\"opacity: 0.9; stroke-width: 0px; fill: rgb(245, 133, 24); fill-opacity: 1;\"/><path class=\"point plotly-customdata\" transform=\"translate(549.24,100.15)\" d=\"M3.9,0L0,3.9L-3.9,0L0,-3.9Z\" style=\"opacity: 0.9; stroke-width: 0px; fill: rgb(245, 133, 24); fill-opacity: 1;\"/><path class=\"point plotly-customdata\" transform=\"translate(564.2,76.9)\" d=\"M3.9,0L0,3.9L-3.9,0L0,-3.9Z\" style=\"opacity: 0.9; stroke-width: 0px; fill: rgb(245, 133, 24); fill-opacity: 1;\"/><path class=\"point plotly-customdata\" transform=\"translate(576.18,79.66)\" d=\"M3.9,0L0,3.9L-3.9,0L0,-3.9Z\" style=\"opacity: 0.9; stroke-width: 0px; fill: rgb(245, 133, 24); fill-opacity: 1;\"/><path class=\"point plotly-customdata\" transform=\"translate(589.52,68.8)\" d=\"M3.9,0L0,3.9L-3.9,0L0,-3.9Z\" style=\"opacity: 0.9; stroke-width: 0px; fill: rgb(245, 133, 24); fill-opacity: 1;\"/><path class=\"point plotly-customdata\" transform=\"translate(600.88,69.56)\" d=\"M3.9,0L0,3.9L-3.9,0L0,-3.9Z\" style=\"opacity: 0.9; stroke-width: 0px; fill: rgb(245, 133, 24); fill-opacity: 1;\"/><path class=\"point plotly-customdata\" transform=\"translate(608.99,79.08)\" d=\"M3.9,0L0,3.9L-3.9,0L0,-3.9Z\" style=\"opacity: 0.9; stroke-width: 0px; fill: rgb(245, 133, 24); fill-opacity: 1;\"/><path class=\"point plotly-customdata\" transform=\"translate(616.82,76.59)\" d=\"M3.9,0L0,3.9L-3.9,0L0,-3.9Z\" style=\"opacity: 0.9; stroke-width: 0px; fill: rgb(245, 133, 24); fill-opacity: 1;\"/><path class=\"point plotly-customdata\" transform=\"translate(623.5,79.78)\" d=\"M3.9,0L0,3.9L-3.9,0L0,-3.9Z\" style=\"opacity: 0.9; stroke-width: 0px; fill: rgb(245, 133, 24); fill-opacity: 1;\"/><path class=\"point plotly-customdata\" transform=\"translate(629.15,83.87)\" d=\"M3.9,0L0,3.9L-3.9,0L0,-3.9Z\" style=\"opacity: 0.9; stroke-width: 0px; fill: rgb(245, 133, 24); fill-opacity: 1;\"/><path class=\"point plotly-customdata\" transform=\"translate(635.41,76.53)\" d=\"M3.9,0L0,3.9L-3.9,0L0,-3.9Z\" style=\"opacity: 0.9; stroke-width: 0px; fill: rgb(245, 133, 24); fill-opacity: 1;\"/></g><g class=\"text\"/></g><g class=\"trace scatter traceef2345\" style=\"stroke-miterlimit: 2; opacity: 1;\"><g class=\"fills\"/><g class=\"errorbars\"/><g class=\"lines\"/><g class=\"points\"><path class=\"point plotly-customdata\" transform=\"translate(90.33,262.81)\" d=\"M3,3H-3V-3H3Z\" style=\"opacity: 0.9; stroke-width: 0px; fill: rgb(228, 87, 86); fill-opacity: 1;\"/><path class=\"point plotly-customdata\" transform=\"translate(105.34,304.22)\" d=\"M3,3H-3V-3H3Z\" style=\"opacity: 0.9; stroke-width: 0px; fill: rgb(228, 87, 86); fill-opacity: 1;\"/><path class=\"point plotly-customdata\" transform=\"translate(130.43,272.3)\" d=\"M3,3H-3V-3H3Z\" style=\"opacity: 0.9; stroke-width: 0px; fill: rgb(228, 87, 86); fill-opacity: 1;\"/><path class=\"point plotly-customdata\" transform=\"translate(147.37,278.66)\" d=\"M3,3H-3V-3H3Z\" style=\"opacity: 0.9; stroke-width: 0px; fill: rgb(228, 87, 86); fill-opacity: 1;\"/><path class=\"point plotly-customdata\" transform=\"translate(166.82,263.76)\" d=\"M3,3H-3V-3H3Z\" style=\"opacity: 0.9; stroke-width: 0px; fill: rgb(228, 87, 86); fill-opacity: 1;\"/><path class=\"point plotly-customdata\" transform=\"translate(201.75,225.18)\" d=\"M3,3H-3V-3H3Z\" style=\"opacity: 0.9; stroke-width: 0px; fill: rgb(228, 87, 86); fill-opacity: 1;\"/><path class=\"point plotly-customdata\" transform=\"translate(223.7,231.02)\" d=\"M3,3H-3V-3H3Z\" style=\"opacity: 0.9; stroke-width: 0px; fill: rgb(228, 87, 86); fill-opacity: 1;\"/><path class=\"point plotly-customdata\" transform=\"translate(255.52,201.76)\" d=\"M3,3H-3V-3H3Z\" style=\"opacity: 0.9; stroke-width: 0px; fill: rgb(228, 87, 86); fill-opacity: 1;\"/><path class=\"point plotly-customdata\" transform=\"translate(271.17,220.38)\" d=\"M3,3H-3V-3H3Z\" style=\"opacity: 0.9; stroke-width: 0px; fill: rgb(228, 87, 86); fill-opacity: 1;\"/><path class=\"point plotly-customdata\" transform=\"translate(293.54,195.69)\" d=\"M3,3H-3V-3H3Z\" style=\"opacity: 0.9; stroke-width: 0px; fill: rgb(228, 87, 86); fill-opacity: 1;\"/><path class=\"point plotly-customdata\" transform=\"translate(325.21,167.39)\" d=\"M3,3H-3V-3H3Z\" style=\"opacity: 0.9; stroke-width: 0px; fill: rgb(228, 87, 86); fill-opacity: 1;\"/><path class=\"point plotly-customdata\" transform=\"translate(372.43,130.56)\" d=\"M3,3H-3V-3H3Z\" style=\"opacity: 0.9; stroke-width: 0px; fill: rgb(228, 87, 86); fill-opacity: 1;\"/><path class=\"point plotly-customdata\" transform=\"translate(420.11,106.61)\" d=\"M3,3H-3V-3H3Z\" style=\"opacity: 0.9; stroke-width: 0px; fill: rgb(228, 87, 86); fill-opacity: 1;\"/><path class=\"point plotly-customdata\" transform=\"translate(466.18,84.88)\" d=\"M3,3H-3V-3H3Z\" style=\"opacity: 0.9; stroke-width: 0px; fill: rgb(228, 87, 86); fill-opacity: 1;\"/><path class=\"point plotly-customdata\" transform=\"translate(498.55,80.71)\" d=\"M3,3H-3V-3H3Z\" style=\"opacity: 0.9; stroke-width: 0px; fill: rgb(228, 87, 86); fill-opacity: 1;\"/><path class=\"point plotly-customdata\" transform=\"translate(531.3,64.06)\" d=\"M3,3H-3V-3H3Z\" style=\"opacity: 0.9; stroke-width: 0px; fill: rgb(228, 87, 86); fill-opacity: 1;\"/><path class=\"point plotly-customdata\" transform=\"translate(558.7,56.81)\" d=\"M3,3H-3V-3H3Z\" style=\"opacity: 0.9; stroke-width: 0px; fill: rgb(228, 87, 86); fill-opacity: 1;\"/><path class=\"point plotly-customdata\" transform=\"translate(576.43,64.26)\" d=\"M3,3H-3V-3H3Z\" style=\"opacity: 0.9; stroke-width: 0px; fill: rgb(228, 87, 86); fill-opacity: 1;\"/><path class=\"point plotly-customdata\" transform=\"translate(598.18,45.75)\" d=\"M3,3H-3V-3H3Z\" style=\"opacity: 0.9; stroke-width: 0px; fill: rgb(228, 87, 86); fill-opacity: 1;\"/><path class=\"point plotly-customdata\" transform=\"translate(612.31,55.24)\" d=\"M3,3H-3V-3H3Z\" style=\"opacity: 0.9; stroke-width: 0px; fill: rgb(228, 87, 86); fill-opacity: 1;\"/><path class=\"point plotly-customdata\" transform=\"translate(623.92,57.25)\" d=\"M3,3H-3V-3H3Z\" style=\"opacity: 0.9; stroke-width: 0px; fill: rgb(228, 87, 86); fill-opacity: 1;\"/><path class=\"point plotly-customdata\" transform=\"translate(639.25,38.74)\" d=\"M3,3H-3V-3H3Z\" style=\"opacity: 0.9; stroke-width: 0px; fill: rgb(228, 87, 86); fill-opacity: 1;\"/><path class=\"point plotly-customdata\" transform=\"translate(648.69,53.25)\" d=\"M3,3H-3V-3H3Z\" style=\"opacity: 0.9; stroke-width: 0px; fill: rgb(228, 87, 86); fill-opacity: 1;\"/><path class=\"point plotly-customdata\" transform=\"translate(659,44.59)\" d=\"M3,3H-3V-3H3Z\" style=\"opacity: 0.9; stroke-width: 0px; fill: rgb(228, 87, 86); fill-opacity: 1;\"/><path class=\"point plotly-customdata\" transform=\"translate(669.41,39.08)\" d=\"M3,3H-3V-3H3Z\" style=\"opacity: 0.9; stroke-width: 0px; fill: rgb(228, 87, 86); fill-opacity: 1;\"/><path class=\"point plotly-customdata\" transform=\"translate(678.07,42.14)\" d=\"M3,3H-3V-3H3Z\" style=\"opacity: 0.9; stroke-width: 0px; fill: rgb(228, 87, 86); fill-opacity: 1;\"/><path class=\"point plotly-customdata\" transform=\"translate(686.71,38)\" d=\"M3,3H-3V-3H3Z\" style=\"opacity: 0.9; stroke-width: 0px; fill: rgb(228, 87, 86); fill-opacity: 1;\"/><path class=\"point plotly-customdata\" transform=\"translate(695.58,32.53)\" d=\"M3,3H-3V-3H3Z\" style=\"opacity: 0.9; stroke-width: 0px; fill: rgb(228, 87, 86); fill-opacity: 1;\"/><path class=\"point plotly-customdata\" transform=\"translate(705.14,24.75)\" d=\"M3,3H-3V-3H3Z\" style=\"opacity: 0.9; stroke-width: 0px; fill: rgb(228, 87, 86); fill-opacity: 1;\"/><path class=\"point plotly-customdata\" transform=\"translate(710.85,42.9)\" d=\"M3,3H-3V-3H3Z\" style=\"opacity: 0.9; stroke-width: 0px; fill: rgb(228, 87, 86); fill-opacity: 1;\"/><path class=\"point plotly-customdata\" transform=\"translate(716.13,43.56)\" d=\"M3,3H-3V-3H3Z\" style=\"opacity: 0.9; stroke-width: 0px; fill: rgb(228, 87, 86); fill-opacity: 1;\"/><path class=\"point plotly-customdata\" transform=\"translate(722.07,35.68)\" d=\"M3,3H-3V-3H3Z\" style=\"opacity: 0.9; stroke-width: 0px; fill: rgb(228, 87, 86); fill-opacity: 1;\"/><path class=\"point plotly-customdata\" transform=\"translate(727.6,35.95)\" d=\"M3,3H-3V-3H3Z\" style=\"opacity: 0.9; stroke-width: 0px; fill: rgb(228, 87, 86); fill-opacity: 1;\"/><path class=\"point plotly-customdata\" transform=\"translate(733.45,30.73)\" d=\"M3,3H-3V-3H3Z\" style=\"opacity: 0.9; stroke-width: 0px; fill: rgb(228, 87, 86); fill-opacity: 1;\"/></g><g class=\"text\"/></g><g class=\"trace scatter tracea652f8\" style=\"stroke-miterlimit: 2; opacity: 1;\"><g class=\"fills\"/><g class=\"errorbars\"/><g class=\"lines\"/><g class=\"points\"><path class=\"point plotly-customdata\" transform=\"translate(42.55,348.52)\" d=\"M0,1.7l1.7,1.7l1.7,-1.7l-1.7,-1.7l1.7,-1.7l-1.7,-1.7l-1.7,1.7l-1.7,-1.7l-1.7,1.7l1.7,1.7l-1.7,1.7l1.7,1.7Z\" style=\"opacity: 0.9; stroke-width: 0px; fill: rgb(114, 183, 178); fill-opacity: 1;\"/><path class=\"point plotly-customdata\" transform=\"translate(65.97,306.8)\" d=\"M0,1.7l1.7,1.7l1.7,-1.7l-1.7,-1.7l1.7,-1.7l-1.7,-1.7l-1.7,1.7l-1.7,-1.7l-1.7,1.7l1.7,1.7l-1.7,1.7l1.7,1.7Z\" style=\"opacity: 0.9; stroke-width: 0px; fill: rgb(114, 183, 178); fill-opacity: 1;\"/><path class=\"point plotly-customdata\" transform=\"translate(79.01,322.73)\" d=\"M0,1.7l1.7,1.7l1.7,-1.7l-1.7,-1.7l1.7,-1.7l-1.7,-1.7l-1.7,1.7l-1.7,-1.7l-1.7,1.7l1.7,1.7l-1.7,1.7l1.7,1.7Z\" style=\"opacity: 0.9; stroke-width: 0px; fill: rgb(114, 183, 178); fill-opacity: 1;\"/><path class=\"point plotly-customdata\" transform=\"translate(95.03,306.8)\" d=\"M0,1.7l1.7,1.7l1.7,-1.7l-1.7,-1.7l1.7,-1.7l-1.7,-1.7l-1.7,1.7l-1.7,-1.7l-1.7,1.7l1.7,1.7l-1.7,1.7l1.7,1.7Z\" style=\"opacity: 0.9; stroke-width: 0px; fill: rgb(114, 183, 178); fill-opacity: 1;\"/><path class=\"point plotly-customdata\" transform=\"translate(112.33,295.23)\" d=\"M0,1.7l1.7,1.7l1.7,-1.7l-1.7,-1.7l1.7,-1.7l-1.7,-1.7l-1.7,1.7l-1.7,-1.7l-1.7,1.7l1.7,1.7l-1.7,1.7l1.7,1.7Z\" style=\"opacity: 0.9; stroke-width: 0px; fill: rgb(114, 183, 178); fill-opacity: 1;\"/><path class=\"point plotly-customdata\" transform=\"translate(136.27,271.14)\" d=\"M0,1.7l1.7,1.7l1.7,-1.7l-1.7,-1.7l1.7,-1.7l-1.7,-1.7l-1.7,1.7l-1.7,-1.7l-1.7,1.7l1.7,1.7l-1.7,1.7l1.7,1.7Z\" style=\"opacity: 0.9; stroke-width: 0px; fill: rgb(114, 183, 178); fill-opacity: 1;\"/><path class=\"point plotly-customdata\" transform=\"translate(167.61,245.88)\" d=\"M0,1.7l1.7,1.7l1.7,-1.7l-1.7,-1.7l1.7,-1.7l-1.7,-1.7l-1.7,1.7l-1.7,-1.7l-1.7,1.7l1.7,1.7l-1.7,1.7l1.7,1.7Z\" style=\"opacity: 0.9; stroke-width: 0px; fill: rgb(114, 183, 178); fill-opacity: 1;\"/><path class=\"point plotly-customdata\" transform=\"translate(180.33,273.5)\" d=\"M0,1.7l1.7,1.7l1.7,-1.7l-1.7,-1.7l1.7,-1.7l-1.7,-1.7l-1.7,1.7l-1.7,-1.7l-1.7,1.7l1.7,1.7l-1.7,1.7l1.7,1.7Z\" style=\"opacity: 0.9; stroke-width: 0px; fill: rgb(114, 183, 178); fill-opacity: 1;\"/><path class=\"point plotly-customdata\" transform=\"translate(191.71,272.3)\" d=\"M0,1.7l1.7,1.7l1.7,-1.7l-1.7,-1.7l1.7,-1.7l-1.7,-1.7l-1.7,1.7l-1.7,-1.7l-1.7,1.7l1.7,1.7l-1.7,1.7l1.7,1.7Z\" style=\"opacity: 0.9; stroke-width: 0px; fill: rgb(114, 183, 178); fill-opacity: 1;\"/><path class=\"point plotly-customdata\" transform=\"translate(217.35,228.42)\" d=\"M0,1.7l1.7,1.7l1.7,-1.7l-1.7,-1.7l1.7,-1.7l-1.7,-1.7l-1.7,1.7l-1.7,-1.7l-1.7,1.7l1.7,1.7l-1.7,1.7l1.7,1.7Z\" style=\"opacity: 0.9; stroke-width: 0px; fill: rgb(114, 183, 178); fill-opacity: 1;\"/><path class=\"point plotly-customdata\" transform=\"translate(254.67,196.68)\" d=\"M0,1.7l1.7,1.7l1.7,-1.7l-1.7,-1.7l1.7,-1.7l-1.7,-1.7l-1.7,1.7l-1.7,-1.7l-1.7,1.7l1.7,1.7l-1.7,1.7l1.7,1.7Z\" style=\"opacity: 0.9; stroke-width: 0px; fill: rgb(114, 183, 178); fill-opacity: 1;\"/><path class=\"point plotly-customdata\" transform=\"translate(254.96,395.25)\" d=\"M0,1.7l1.7,1.7l1.7,-1.7l-1.7,-1.7l1.7,-1.7l-1.7,-1.7l-1.7,1.7l-1.7,-1.7l-1.7,1.7l1.7,1.7l-1.7,1.7l1.7,1.7Z\" style=\"opacity: 0.9; stroke-width: 0px; fill: rgb(114, 183, 178); fill-opacity: 1;\"/><path class=\"point plotly-customdata\" transform=\"translate(272.1,216.39)\" d=\"M0,1.7l1.7,1.7l1.7,-1.7l-1.7,-1.7l1.7,-1.7l-1.7,-1.7l-1.7,1.7l-1.7,-1.7l-1.7,1.7l1.7,1.7l-1.7,1.7l1.7,1.7Z\" style=\"opacity: 0.9; stroke-width: 0px; fill: rgb(114, 183, 178); fill-opacity: 1;\"/><path class=\"point plotly-customdata\" transform=\"translate(287.94,211.59)\" d=\"M0,1.7l1.7,1.7l1.7,-1.7l-1.7,-1.7l1.7,-1.7l-1.7,-1.7l-1.7,1.7l-1.7,-1.7l-1.7,1.7l1.7,1.7l-1.7,1.7l1.7,1.7Z\" style=\"opacity: 0.9; stroke-width: 0px; fill: rgb(114, 183, 178); fill-opacity: 1;\"/><path class=\"point plotly-customdata\" transform=\"translate(299.72,217.36)\" d=\"M0,1.7l1.7,1.7l1.7,-1.7l-1.7,-1.7l1.7,-1.7l-1.7,-1.7l-1.7,1.7l-1.7,-1.7l-1.7,1.7l1.7,1.7l-1.7,1.7l1.7,1.7Z\" style=\"opacity: 0.9; stroke-width: 0px; fill: rgb(114, 183, 178); fill-opacity: 1;\"/><path class=\"point plotly-customdata\" transform=\"translate(317.09,193.6)\" d=\"M0,1.7l1.7,1.7l1.7,-1.7l-1.7,-1.7l1.7,-1.7l-1.7,-1.7l-1.7,1.7l-1.7,-1.7l-1.7,1.7l1.7,1.7l-1.7,1.7l1.7,1.7Z\" style=\"opacity: 0.9; stroke-width: 0px; fill: rgb(114, 183, 178); fill-opacity: 1;\"/><path class=\"point plotly-customdata\" transform=\"translate(333.36,188.03)\" d=\"M0,1.7l1.7,1.7l1.7,-1.7l-1.7,-1.7l1.7,-1.7l-1.7,-1.7l-1.7,1.7l-1.7,-1.7l-1.7,1.7l1.7,1.7l-1.7,1.7l1.7,1.7Z\" style=\"opacity: 0.9; stroke-width: 0px; fill: rgb(114, 183, 178); fill-opacity: 1;\"/><path class=\"point plotly-customdata\" transform=\"translate(343.78,200.43)\" d=\"M0,1.7l1.7,1.7l1.7,-1.7l-1.7,-1.7l1.7,-1.7l-1.7,-1.7l-1.7,1.7l-1.7,-1.7l-1.7,1.7l1.7,1.7l-1.7,1.7l1.7,1.7Z\" style=\"opacity: 0.9; stroke-width: 0px; fill: rgb(114, 183, 178); fill-opacity: 1;\"/><path class=\"point plotly-customdata\" transform=\"translate(357.94,181.27)\" d=\"M0,1.7l1.7,1.7l1.7,-1.7l-1.7,-1.7l1.7,-1.7l-1.7,-1.7l-1.7,1.7l-1.7,-1.7l-1.7,1.7l1.7,1.7l-1.7,1.7l1.7,1.7Z\" style=\"opacity: 0.9; stroke-width: 0px; fill: rgb(114, 183, 178); fill-opacity: 1;\"/><path class=\"point plotly-customdata\" transform=\"translate(373.32,170.41)\" d=\"M0,1.7l1.7,1.7l1.7,-1.7l-1.7,-1.7l1.7,-1.7l-1.7,-1.7l-1.7,1.7l-1.7,-1.7l-1.7,1.7l1.7,1.7l-1.7,1.7l1.7,1.7Z\" style=\"opacity: 0.9; stroke-width: 0px; fill: rgb(114, 183, 178); fill-opacity: 1;\"/><path class=\"point plotly-customdata\" transform=\"translate(381.15,193.41)\" d=\"M0,1.7l1.7,1.7l1.7,-1.7l-1.7,-1.7l1.7,-1.7l-1.7,-1.7l-1.7,1.7l-1.7,-1.7l-1.7,1.7l1.7,1.7l-1.7,1.7l1.7,1.7Z\" style=\"opacity: 0.9; stroke-width: 0px; fill: rgb(114, 183, 178); fill-opacity: 1;\"/><path class=\"point plotly-customdata\" transform=\"translate(388.66,191.43)\" d=\"M0,1.7l1.7,1.7l1.7,-1.7l-1.7,-1.7l1.7,-1.7l-1.7,-1.7l-1.7,1.7l-1.7,-1.7l-1.7,1.7l1.7,1.7l-1.7,1.7l1.7,1.7Z\" style=\"opacity: 0.9; stroke-width: 0px; fill: rgb(114, 183, 178); fill-opacity: 1;\"/><path class=\"point plotly-customdata\" transform=\"translate(401.25,164.39)\" d=\"M0,1.7l1.7,1.7l1.7,-1.7l-1.7,-1.7l1.7,-1.7l-1.7,-1.7l-1.7,1.7l-1.7,-1.7l-1.7,1.7l1.7,1.7l-1.7,1.7l1.7,1.7Z\" style=\"opacity: 0.9; stroke-width: 0px; fill: rgb(114, 183, 178); fill-opacity: 1;\"/><path class=\"point plotly-customdata\" transform=\"translate(408.93,180.44)\" d=\"M0,1.7l1.7,1.7l1.7,-1.7l-1.7,-1.7l1.7,-1.7l-1.7,-1.7l-1.7,1.7l-1.7,-1.7l-1.7,1.7l1.7,1.7l-1.7,1.7l1.7,1.7Z\" style=\"opacity: 0.9; stroke-width: 0px; fill: rgb(114, 183, 178); fill-opacity: 1;\"/><path class=\"point plotly-customdata\" transform=\"translate(417.81,170.19)\" d=\"M0,1.7l1.7,1.7l1.7,-1.7l-1.7,-1.7l1.7,-1.7l-1.7,-1.7l-1.7,1.7l-1.7,-1.7l-1.7,1.7l1.7,1.7l-1.7,1.7l1.7,1.7Z\" style=\"opacity: 0.9; stroke-width: 0px; fill: rgb(114, 183, 178); fill-opacity: 1;\"/></g><g class=\"text\"/></g><g class=\"trace scatter tracea18a4d\" style=\"stroke-miterlimit: 2; opacity: 1;\"><g class=\"fills\"/><g class=\"errorbars\"/><g class=\"lines\"/><g class=\"points\"><path class=\"point plotly-customdata\" transform=\"translate(75.65,282.99)\" d=\"M3.6,1.2H1.2V3.6H-1.2V1.2H-3.6V-1.2H-1.2V-3.6H1.2V-1.2H3.6Z\" style=\"opacity: 0.9; stroke-width: 0px; fill: rgb(84, 162, 75); fill-opacity: 1;\"/><path class=\"point plotly-customdata\" transform=\"translate(87.39,322.73)\" d=\"M3.6,1.2H1.2V3.6H-1.2V1.2H-3.6V-1.2H-1.2V-3.6H1.2V-1.2H3.6Z\" style=\"opacity: 0.9; stroke-width: 0px; fill: rgb(84, 162, 75); fill-opacity: 1;\"/><path class=\"point plotly-customdata\" transform=\"translate(108.51,289.55)\" d=\"M3.6,1.2H1.2V3.6H-1.2V1.2H-3.6V-1.2H-1.2V-3.6H1.2V-1.2H3.6Z\" style=\"opacity: 0.9; stroke-width: 0px; fill: rgb(84, 162, 75); fill-opacity: 1;\"/><path class=\"point plotly-customdata\" transform=\"translate(129.82,278.66)\" d=\"M3.6,1.2H1.2V3.6H-1.2V1.2H-3.6V-1.2H-1.2V-3.6H1.2V-1.2H3.6Z\" style=\"opacity: 0.9; stroke-width: 0px; fill: rgb(84, 162, 75); fill-opacity: 1;\"/><path class=\"point plotly-customdata\" transform=\"translate(150.3,270)\" d=\"M3.6,1.2H1.2V3.6H-1.2V1.2H-3.6V-1.2H-1.2V-3.6H1.2V-1.2H3.6Z\" style=\"opacity: 0.9; stroke-width: 0px; fill: rgb(84, 162, 75); fill-opacity: 1;\"/><path class=\"point plotly-customdata\" transform=\"translate(188.39,228.84)\" d=\"M3.6,1.2H1.2V3.6H-1.2V1.2H-3.6V-1.2H-1.2V-3.6H1.2V-1.2H3.6Z\" style=\"opacity: 0.9; stroke-width: 0px; fill: rgb(84, 162, 75); fill-opacity: 1;\"/><path class=\"point plotly-customdata\" transform=\"translate(204.85,251.29)\" d=\"M3.6,1.2H1.2V3.6H-1.2V1.2H-3.6V-1.2H-1.2V-3.6H1.2V-1.2H3.6Z\" style=\"opacity: 0.9; stroke-width: 0px; fill: rgb(84, 162, 75); fill-opacity: 1;\"/><path class=\"point plotly-customdata\" transform=\"translate(223.29,237.81)\" d=\"M3.6,1.2H1.2V3.6H-1.2V1.2H-3.6V-1.2H-1.2V-3.6H1.2V-1.2H3.6Z\" style=\"opacity: 0.9; stroke-width: 0px; fill: rgb(84, 162, 75); fill-opacity: 1;\"/><path class=\"point plotly-customdata\" transform=\"translate(240.32,232.39)\" d=\"M3.6,1.2H1.2V3.6H-1.2V1.2H-3.6V-1.2H-1.2V-3.6H1.2V-1.2H3.6Z\" style=\"opacity: 0.9; stroke-width: 0px; fill: rgb(84, 162, 75); fill-opacity: 1;\"/><path class=\"point plotly-customdata\" transform=\"translate(255.38,229.7)\" d=\"M3.6,1.2H1.2V3.6H-1.2V1.2H-3.6V-1.2H-1.2V-3.6H1.2V-1.2H3.6Z\" style=\"opacity: 0.9; stroke-width: 0px; fill: rgb(84, 162, 75); fill-opacity: 1;\"/><path class=\"point plotly-customdata\" transform=\"translate(264.21,246.52)\" d=\"M3.6,1.2H1.2V3.6H-1.2V1.2H-3.6V-1.2H-1.2V-3.6H1.2V-1.2H3.6Z\" style=\"opacity: 0.9; stroke-width: 0px; fill: rgb(84, 162, 75); fill-opacity: 1;\"/><path class=\"point plotly-customdata\" transform=\"translate(278.14,221.44)\" d=\"M3.6,1.2H1.2V3.6H-1.2V1.2H-3.6V-1.2H-1.2V-3.6H1.2V-1.2H3.6Z\" style=\"opacity: 0.9; stroke-width: 0px; fill: rgb(84, 162, 75); fill-opacity: 1;\"/><path class=\"point plotly-customdata\" transform=\"translate(289.66,223.27)\" d=\"M3.6,1.2H1.2V3.6H-1.2V1.2H-3.6V-1.2H-1.2V-3.6H1.2V-1.2H3.6Z\" style=\"opacity: 0.9; stroke-width: 0px; fill: rgb(84, 162, 75); fill-opacity: 1;\"/><path class=\"point plotly-customdata\" transform=\"translate(300.14,221.8)\" d=\"M3.6,1.2H1.2V3.6H-1.2V1.2H-3.6V-1.2H-1.2V-3.6H1.2V-1.2H3.6Z\" style=\"opacity: 0.9; stroke-width: 0px; fill: rgb(84, 162, 75); fill-opacity: 1;\"/><path class=\"point plotly-customdata\" transform=\"translate(315.57,198.93)\" d=\"M3.6,1.2H1.2V3.6H-1.2V1.2H-3.6V-1.2H-1.2V-3.6H1.2V-1.2H3.6Z\" style=\"opacity: 0.9; stroke-width: 0px; fill: rgb(84, 162, 75); fill-opacity: 1;\"/><path class=\"point plotly-customdata\" transform=\"translate(327.06,204.8)\" d=\"M3.6,1.2H1.2V3.6H-1.2V1.2H-3.6V-1.2H-1.2V-3.6H1.2V-1.2H3.6Z\" style=\"opacity: 0.9; stroke-width: 0px; fill: rgb(84, 162, 75); fill-opacity: 1;\"/><path class=\"point plotly-customdata\" transform=\"translate(341.18,189.7)\" d=\"M3.6,1.2H1.2V3.6H-1.2V1.2H-3.6V-1.2H-1.2V-3.6H1.2V-1.2H3.6Z\" style=\"opacity: 0.9; stroke-width: 0px; fill: rgb(84, 162, 75); fill-opacity: 1;\"/><path class=\"point plotly-customdata\" transform=\"translate(350.46,201.76)\" d=\"M3.6,1.2H1.2V3.6H-1.2V1.2H-3.6V-1.2H-1.2V-3.6H1.2V-1.2H3.6Z\" style=\"opacity: 0.9; stroke-width: 0px; fill: rgb(84, 162, 75); fill-opacity: 1;\"/><path class=\"point plotly-customdata\" transform=\"translate(361.65,188.69)\" d=\"M3.6,1.2H1.2V3.6H-1.2V1.2H-3.6V-1.2H-1.2V-3.6H1.2V-1.2H3.6Z\" style=\"opacity: 0.9; stroke-width: 0px; fill: rgb(84, 162, 75); fill-opacity: 1;\"/><path class=\"point plotly-customdata\" transform=\"translate(375.5,173.42)\" d=\"M3.6,1.2H1.2V3.6H-1.2V1.2H-3.6V-1.2H-1.2V-3.6H1.2V-1.2H3.6Z\" style=\"opacity: 0.9; stroke-width: 0px; fill: rgb(84, 162, 75); fill-opacity: 1;\"/><path class=\"point plotly-customdata\" transform=\"translate(379.44,222.53)\" d=\"M3.6,1.2H1.2V3.6H-1.2V1.2H-3.6V-1.2H-1.2V-3.6H1.2V-1.2H3.6Z\" style=\"opacity: 0.9; stroke-width: 0px; fill: rgb(84, 162, 75); fill-opacity: 1;\"/><path class=\"point plotly-customdata\" transform=\"translate(397.97,151.03)\" d=\"M3.6,1.2H1.2V3.6H-1.2V1.2H-3.6V-1.2H-1.2V-3.6H1.2V-1.2H3.6Z\" style=\"opacity: 0.9; stroke-width: 0px; fill: rgb(84, 162, 75); fill-opacity: 1;\"/><path class=\"point plotly-customdata\" transform=\"translate(411.83,155.41)\" d=\"M3.6,1.2H1.2V3.6H-1.2V1.2H-3.6V-1.2H-1.2V-3.6H1.2V-1.2H3.6Z\" style=\"opacity: 0.9; stroke-width: 0px; fill: rgb(84, 162, 75); fill-opacity: 1;\"/><path class=\"point plotly-customdata\" transform=\"translate(423.34,157.03)\" d=\"M3.6,1.2H1.2V3.6H-1.2V1.2H-3.6V-1.2H-1.2V-3.6H1.2V-1.2H3.6Z\" style=\"opacity: 0.9; stroke-width: 0px; fill: rgb(84, 162, 75); fill-opacity: 1;\"/><path class=\"point plotly-customdata\" transform=\"translate(434.26,153.7)\" d=\"M3.6,1.2H1.2V3.6H-1.2V1.2H-3.6V-1.2H-1.2V-3.6H1.2V-1.2H3.6Z\" style=\"opacity: 0.9; stroke-width: 0px; fill: rgb(84, 162, 75); fill-opacity: 1;\"/><path class=\"point plotly-customdata\" transform=\"translate(439.08,184.59)\" d=\"M3.6,1.2H1.2V3.6H-1.2V1.2H-3.6V-1.2H-1.2V-3.6H1.2V-1.2H3.6Z\" style=\"opacity: 0.9; stroke-width: 0px; fill: rgb(84, 162, 75); fill-opacity: 1;\"/><path class=\"point plotly-customdata\" transform=\"translate(440.93,223.64)\" d=\"M3.6,1.2H1.2V3.6H-1.2V1.2H-3.6V-1.2H-1.2V-3.6H1.2V-1.2H3.6Z\" style=\"opacity: 0.9; stroke-width: 0px; fill: rgb(84, 162, 75); fill-opacity: 1;\"/><path class=\"point plotly-customdata\" transform=\"translate(445.6,182.68)\" d=\"M3.6,1.2H1.2V3.6H-1.2V1.2H-3.6V-1.2H-1.2V-3.6H1.2V-1.2H3.6Z\" style=\"opacity: 0.9; stroke-width: 0px; fill: rgb(84, 162, 75); fill-opacity: 1;\"/><path class=\"point plotly-customdata\" transform=\"translate(459.69,131.02)\" d=\"M3.6,1.2H1.2V3.6H-1.2V1.2H-3.6V-1.2H-1.2V-3.6H1.2V-1.2H3.6Z\" style=\"opacity: 0.9; stroke-width: 0px; fill: rgb(84, 162, 75); fill-opacity: 1;\"/><path class=\"point plotly-customdata\" transform=\"translate(464.52,171.94)\" d=\"M3.6,1.2H1.2V3.6H-1.2V1.2H-3.6V-1.2H-1.2V-3.6H1.2V-1.2H3.6Z\" style=\"opacity: 0.9; stroke-width: 0px; fill: rgb(84, 162, 75); fill-opacity: 1;\"/><path class=\"point plotly-customdata\" transform=\"translate(470.83,157.74)\" d=\"M3.6,1.2H1.2V3.6H-1.2V1.2H-3.6V-1.2H-1.2V-3.6H1.2V-1.2H3.6Z\" style=\"opacity: 0.9; stroke-width: 0px; fill: rgb(84, 162, 75); fill-opacity: 1;\"/><path class=\"point plotly-customdata\" transform=\"translate(476.22,161.59)\" d=\"M3.6,1.2H1.2V3.6H-1.2V1.2H-3.6V-1.2H-1.2V-3.6H1.2V-1.2H3.6Z\" style=\"opacity: 0.9; stroke-width: 0px; fill: rgb(84, 162, 75); fill-opacity: 1;\"/><path class=\"point plotly-customdata\" transform=\"translate(480.42,169.87)\" d=\"M3.6,1.2H1.2V3.6H-1.2V1.2H-3.6V-1.2H-1.2V-3.6H1.2V-1.2H3.6Z\" style=\"opacity: 0.9; stroke-width: 0px; fill: rgb(84, 162, 75); fill-opacity: 1;\"/><path class=\"point plotly-customdata\" transform=\"translate(483.42,182.39)\" d=\"M3.6,1.2H1.2V3.6H-1.2V1.2H-3.6V-1.2H-1.2V-3.6H1.2V-1.2H3.6Z\" style=\"opacity: 0.9; stroke-width: 0px; fill: rgb(84, 162, 75); fill-opacity: 1;\"/><path class=\"point plotly-customdata\" transform=\"translate(487.42,168.31)\" d=\"M3.6,1.2H1.2V3.6H-1.2V1.2H-3.6V-1.2H-1.2V-3.6H1.2V-1.2H3.6Z\" style=\"opacity: 0.9; stroke-width: 0px; fill: rgb(84, 162, 75); fill-opacity: 1;\"/><path class=\"point plotly-customdata\" transform=\"translate(492.11,159.46)\" d=\"M3.6,1.2H1.2V3.6H-1.2V1.2H-3.6V-1.2H-1.2V-3.6H1.2V-1.2H3.6Z\" style=\"opacity: 0.9; stroke-width: 0px; fill: rgb(84, 162, 75); fill-opacity: 1;\"/></g><g class=\"text\"/></g></g></g><g class=\"overplot\"/><path class=\"xlines-above crisp\" style=\"fill: none; stroke-width: 1px; stroke: rgb(0, 0, 0); stroke-opacity: 0;\" d=\"\"/><path class=\"ylines-above crisp\" style=\"fill: none; stroke-width: 1px; stroke: rgb(0, 0, 0); stroke-opacity: 0;\" d=\"\"/><g class=\"overlines-above\"/><g class=\"xaxislayer-above\"><path class=\"xtick ticks crisp\" d=\"M0,521v5\" transform=\"translate(120.85,0)\" style=\"stroke: rgb(51, 51, 51); stroke-opacity: 1; stroke-width: 1px;\"/><path class=\"xtick ticks crisp\" d=\"M0,521v5\" transform=\"translate(180.34,0)\" style=\"stroke: rgb(51, 51, 51); stroke-opacity: 1; stroke-width: 1px;\"/><path class=\"xtick ticks crisp\" d=\"M0,521v5\" transform=\"translate(239.82,0)\" style=\"stroke: rgb(51, 51, 51); stroke-opacity: 1; stroke-width: 1px;\"/><path class=\"xtick ticks crisp\" d=\"M0,521v5\" transform=\"translate(318.46000000000004,0)\" style=\"stroke: rgb(51, 51, 51); stroke-opacity: 1; stroke-width: 1px;\"/><path class=\"xtick ticks crisp\" d=\"M0,521v5\" transform=\"translate(377.94,0)\" style=\"stroke: rgb(51, 51, 51); stroke-opacity: 1; stroke-width: 1px;\"/><path class=\"xtick ticks crisp\" d=\"M0,521v5\" transform=\"translate(437.42,0)\" style=\"stroke: rgb(51, 51, 51); stroke-opacity: 1; stroke-width: 1px;\"/><path class=\"xtick ticks crisp\" d=\"M0,521v5\" transform=\"translate(516.06,0)\" style=\"stroke: rgb(51, 51, 51); stroke-opacity: 1; stroke-width: 1px;\"/><path class=\"xtick ticks crisp\" d=\"M0,521v5\" transform=\"translate(575.54,0)\" style=\"stroke: rgb(51, 51, 51); stroke-opacity: 1; stroke-width: 1px;\"/><path class=\"xtick ticks crisp\" d=\"M0,521v5\" transform=\"translate(635.03,0)\" style=\"stroke: rgb(51, 51, 51); stroke-opacity: 1; stroke-width: 1px;\"/><path class=\"xtick ticks crisp\" d=\"M0,521v5\" transform=\"translate(713.66,0)\" style=\"stroke: rgb(51, 51, 51); stroke-opacity: 1; stroke-width: 1px;\"/><path class=\"xtick ticks crisp\" d=\"M0,521v5\" transform=\"translate(773.15,0)\" style=\"stroke: rgb(51, 51, 51); stroke-opacity: 1; stroke-width: 1px;\"/><path class=\"xtick ticks crisp\" d=\"M0,521v5\" transform=\"translate(832.63,0)\" style=\"stroke: rgb(51, 51, 51); stroke-opacity: 1; stroke-width: 1px;\"/><g class=\"xtick\"><text text-anchor=\"middle\" x=\"0\" y=\"537.4\" transform=\"translate(120.85,0)\" style=\"font-family: 'Open Sans', verdana, arial, sans-serif; font-size: 9px; fill: rgb(51, 51, 51); fill-opacity: 1; white-space: pre;\">5</text></g><g class=\"xtick\"><text text-anchor=\"middle\" x=\"0\" y=\"540.4\" transform=\"translate(180.34,0)\" style=\"font-family: 'Open Sans', verdana, arial, sans-serif; font-size: 12px; fill: rgb(51, 51, 51); fill-opacity: 1; white-space: pre;\">100</text></g><g class=\"xtick\"><text text-anchor=\"middle\" x=\"0\" y=\"537.4\" transform=\"translate(239.82,0)\" style=\"font-family: 'Open Sans', verdana, arial, sans-serif; font-size: 9px; fill: rgb(51, 51, 51); fill-opacity: 1; white-space: pre;\">2</text></g><g class=\"xtick\"><text text-anchor=\"middle\" x=\"0\" y=\"537.4\" transform=\"translate(318.46000000000004,0)\" style=\"font-family: 'Open Sans', verdana, arial, sans-serif; font-size: 9px; fill: rgb(51, 51, 51); fill-opacity: 1; white-space: pre;\">5</text></g><g class=\"xtick\"><text text-anchor=\"middle\" x=\"0\" y=\"540.4\" transform=\"translate(377.94,0)\" style=\"font-family: 'Open Sans', verdana, arial, sans-serif; font-size: 12px; fill: rgb(51, 51, 51); fill-opacity: 1; white-space: pre;\">1000</text></g><g class=\"xtick\"><text text-anchor=\"middle\" x=\"0\" y=\"537.4\" transform=\"translate(437.42,0)\" style=\"font-family: 'Open Sans', verdana, arial, sans-serif; font-size: 9px; fill: rgb(51, 51, 51); fill-opacity: 1; white-space: pre;\">2</text></g><g class=\"xtick\"><text text-anchor=\"middle\" x=\"0\" y=\"537.4\" transform=\"translate(516.06,0)\" style=\"font-family: 'Open Sans', verdana, arial, sans-serif; font-size: 9px; fill: rgb(51, 51, 51); fill-opacity: 1; white-space: pre;\">5</text></g><g class=\"xtick\"><text text-anchor=\"middle\" x=\"0\" y=\"540.4\" transform=\"translate(575.54,0)\" style=\"font-family: 'Open Sans', verdana, arial, sans-serif; font-size: 12px; fill: rgb(51, 51, 51); fill-opacity: 1; white-space: pre;\">10k</text></g><g class=\"xtick\"><text text-anchor=\"middle\" x=\"0\" y=\"537.4\" transform=\"translate(635.03,0)\" style=\"font-family: 'Open Sans', verdana, arial, sans-serif; font-size: 9px; fill: rgb(51, 51, 51); fill-opacity: 1; white-space: pre;\">2</text></g><g class=\"xtick\"><text text-anchor=\"middle\" x=\"0\" y=\"537.4\" transform=\"translate(713.66,0)\" style=\"font-family: 'Open Sans', verdana, arial, sans-serif; font-size: 9px; fill: rgb(51, 51, 51); fill-opacity: 1; white-space: pre;\">5</text></g><g class=\"xtick\"><text text-anchor=\"middle\" x=\"0\" y=\"540.4\" transform=\"translate(773.15,0)\" style=\"font-family: 'Open Sans', verdana, arial, sans-serif; font-size: 12px; fill: rgb(51, 51, 51); fill-opacity: 1; white-space: pre;\">100k</text></g><g class=\"xtick\"><text text-anchor=\"middle\" x=\"0\" y=\"537.4\" transform=\"translate(832.63,0)\" style=\"font-family: 'Open Sans', verdana, arial, sans-serif; font-size: 9px; fill: rgb(51, 51, 51); fill-opacity: 1; white-space: pre;\">2</text></g></g><g class=\"yaxislayer-above\"><path class=\"ytick ticks crisp\" d=\"M79,0h-5\" transform=\"translate(0,495.25)\" style=\"stroke: rgb(51, 51, 51); stroke-opacity: 1; stroke-width: 1px;\"/><path class=\"ytick ticks crisp\" d=\"M79,0h-5\" transform=\"translate(0,456.27)\" style=\"stroke: rgb(51, 51, 51); stroke-opacity: 1; stroke-width: 1px;\"/><path class=\"ytick ticks crisp\" d=\"M79,0h-5\" transform=\"translate(0,426.79)\" style=\"stroke: rgb(51, 51, 51); stroke-opacity: 1; stroke-width: 1px;\"/><path class=\"ytick ticks crisp\" d=\"M79,0h-5\" transform=\"translate(0,397.3)\" style=\"stroke: rgb(51, 51, 51); stroke-opacity: 1; stroke-width: 1px;\"/><path class=\"ytick ticks crisp\" d=\"M79,0h-5\" transform=\"translate(0,358.33)\" style=\"stroke: rgb(51, 51, 51); stroke-opacity: 1; stroke-width: 1px;\"/><path class=\"ytick ticks crisp\" d=\"M79,0h-5\" transform=\"translate(0,328.84000000000003)\" style=\"stroke: rgb(51, 51, 51); stroke-opacity: 1; stroke-width: 1px;\"/><path class=\"ytick ticks crisp\" d=\"M79,0h-5\" transform=\"translate(0,299.36)\" style=\"stroke: rgb(51, 51, 51); stroke-opacity: 1; stroke-width: 1px;\"/><path class=\"ytick ticks crisp\" d=\"M79,0h-5\" transform=\"translate(0,260.38)\" style=\"stroke: rgb(51, 51, 51); stroke-opacity: 1; stroke-width: 1px;\"/><path class=\"ytick ticks crisp\" d=\"M79,0h-5\" transform=\"translate(0,230.9)\" style=\"stroke: rgb(51, 51, 51); stroke-opacity: 1; stroke-width: 1px;\"/><path class=\"ytick ticks crisp\" d=\"M79,0h-5\" transform=\"translate(0,201.41)\" style=\"stroke: rgb(51, 51, 51); stroke-opacity: 1; stroke-width: 1px;\"/><path class=\"ytick ticks crisp\" d=\"M79,0h-5\" transform=\"translate(0,162.43)\" style=\"stroke: rgb(51, 51, 51); stroke-opacity: 1; stroke-width: 1px;\"/><path class=\"ytick ticks crisp\" d=\"M79,0h-5\" transform=\"translate(0,132.95)\" style=\"stroke: rgb(51, 51, 51); stroke-opacity: 1; stroke-width: 1px;\"/><path class=\"ytick ticks crisp\" d=\"M79,0h-5\" transform=\"translate(0,103.47)\" style=\"stroke: rgb(51, 51, 51); stroke-opacity: 1; stroke-width: 1px;\"/><g class=\"ytick\"><text text-anchor=\"end\" x=\"71.6\" y=\"3.15\" transform=\"translate(0,495.25)\" style=\"font-family: 'Open Sans', verdana, arial, sans-serif; font-size: 9px; fill: rgb(51, 51, 51); fill-opacity: 1; white-space: pre;\">2</text></g><g class=\"ytick\"><text text-anchor=\"end\" x=\"71.6\" y=\"3.15\" transform=\"translate(0,456.27)\" style=\"font-family: 'Open Sans', verdana, arial, sans-serif; font-size: 9px; fill: rgb(51, 51, 51); fill-opacity: 1; white-space: pre;\">5</text></g><g class=\"ytick\"><text text-anchor=\"end\" x=\"71.6\" y=\"4.199999999999999\" transform=\"translate(0,426.79)\" style=\"font-family: 'Open Sans', verdana, arial, sans-serif; font-size: 12px; fill: rgb(51, 51, 51); fill-opacity: 1; white-space: pre;\">10</text></g><g class=\"ytick\"><text text-anchor=\"end\" x=\"71.6\" y=\"3.15\" transform=\"translate(0,397.3)\" style=\"font-family: 'Open Sans', verdana, arial, sans-serif; font-size: 9px; fill: rgb(51, 51, 51); fill-opacity: 1; white-space: pre;\">2</text></g><g class=\"ytick\"><text text-anchor=\"end\" x=\"71.6\" y=\"3.15\" transform=\"translate(0,358.33)\" style=\"font-family: 'Open Sans', verdana, arial, sans-serif; font-size: 9px; fill: rgb(51, 51, 51); fill-opacity: 1; white-space: pre;\">5</text></g><g class=\"ytick\"><text text-anchor=\"end\" x=\"71.6\" y=\"4.199999999999999\" transform=\"translate(0,328.84000000000003)\" style=\"font-family: 'Open Sans', verdana, arial, sans-serif; font-size: 12px; fill: rgb(51, 51, 51); fill-opacity: 1; white-space: pre;\">100</text></g><g class=\"ytick\"><text text-anchor=\"end\" x=\"71.6\" y=\"3.15\" transform=\"translate(0,299.36)\" style=\"font-family: 'Open Sans', verdana, arial, sans-serif; font-size: 9px; fill: rgb(51, 51, 51); fill-opacity: 1; white-space: pre;\">2</text></g><g class=\"ytick\"><text text-anchor=\"end\" x=\"71.6\" y=\"3.15\" transform=\"translate(0,260.38)\" style=\"font-family: 'Open Sans', verdana, arial, sans-serif; font-size: 9px; fill: rgb(51, 51, 51); fill-opacity: 1; white-space: pre;\">5</text></g><g class=\"ytick\"><text text-anchor=\"end\" x=\"71.6\" y=\"4.199999999999999\" transform=\"translate(0,230.9)\" style=\"font-family: 'Open Sans', verdana, arial, sans-serif; font-size: 12px; fill: rgb(51, 51, 51); fill-opacity: 1; white-space: pre;\">1000</text></g><g class=\"ytick\"><text text-anchor=\"end\" x=\"71.6\" y=\"3.15\" transform=\"translate(0,201.41)\" style=\"font-family: 'Open Sans', verdana, arial, sans-serif; font-size: 9px; fill: rgb(51, 51, 51); fill-opacity: 1; white-space: pre;\">2</text></g><g class=\"ytick\"><text text-anchor=\"end\" x=\"71.6\" y=\"3.15\" transform=\"translate(0,162.43)\" style=\"font-family: 'Open Sans', verdana, arial, sans-serif; font-size: 9px; fill: rgb(51, 51, 51); fill-opacity: 1; white-space: pre;\">5</text></g><g class=\"ytick\"><text text-anchor=\"end\" x=\"71.6\" y=\"4.199999999999999\" transform=\"translate(0,132.95)\" style=\"font-family: 'Open Sans', verdana, arial, sans-serif; font-size: 12px; fill: rgb(51, 51, 51); fill-opacity: 1; white-space: pre;\">10k</text></g><g class=\"ytick\"><text text-anchor=\"end\" x=\"71.6\" y=\"3.15\" transform=\"translate(0,103.47)\" style=\"font-family: 'Open Sans', verdana, arial, sans-serif; font-size: 9px; fill: rgb(51, 51, 51); fill-opacity: 1; white-space: pre;\">2</text></g></g><g class=\"overaxes-above\"/></g></g><g class=\"polarlayer\"/><g class=\"ternarylayer\"/><g class=\"geolayer\"/><g class=\"funnelarealayer\"/><g class=\"pielayer\"/><g class=\"treemaplayer\"/><g class=\"sunburstlayer\"/><g class=\"glimages\"/><defs id=\"topdefs-3cca6e\"><g class=\"clips\"/><clipPath id=\"legend3cca6e\"><rect width=\"116\" height=\"121\" x=\"0\" y=\"0\"/></clipPath></defs><g class=\"layer-above\"><g class=\"imagelayer\"/><g class=\"shapelayer\"/></g><g class=\"infolayer\"><g class=\"legend\" pointer-events=\"all\" transform=\"translate(871.52, 100)\"><rect class=\"bg\" shape-rendering=\"crispEdges\" style=\"stroke: rgb(68, 68, 68); stroke-opacity: 1; fill: rgb(255, 255, 255); fill-opacity: 1; stroke-width: 0px;\" width=\"116\" height=\"121\" x=\"0\" y=\"0\"/><g class=\"scrollbox\" transform=\"translate(0, 0)\" clip-path=\"url('#legend3cca6e')\"><text class=\"legendtitletext user-select-none\" text-anchor=\"start\" x=\"2\" y=\"15.600000000000001\" style=\"font-family: 'Open Sans', verdana, arial, sans-serif; font-size: 12px; fill: rgb(51, 51, 51); fill-opacity: 1; white-space: pre;\">State</text><g class=\"groups\" transform=\"translate(0, 0)\"><g class=\"traces\" style=\"opacity: 1;\" transform=\"translate(0, 30.1)\"><text class=\"legendtext user-select-none\" text-anchor=\"start\" x=\"40\" y=\"4.680000000000001\" style=\"font-family: 'Open Sans', verdana, arial, sans-serif; font-size: 12px; fill: rgb(51, 51, 51); fill-opacity: 1; white-space: pre;\">Florida</text><g class=\"layers\" style=\"opacity: 1;\"><g class=\"legendfill\"/><g class=\"legendlines\"/><g class=\"legendsymbols\"><g class=\"legendpoints\"><path class=\"scatterpts\" transform=\"translate(20,0)\" d=\"M3,0A3,3 0 1,1 0,-3A3,3 0 0,1 3,0Z\" style=\"opacity: 0.9; stroke-width: 0px; fill: rgb(76, 120, 168); fill-opacity: 1;\"/></g></g></g><rect class=\"legendtoggle\" pointer-events=\"all\" x=\"0\" y=\"-9.5\" width=\"110.890625\" height=\"19\" style=\"cursor: pointer; fill: rgb(0, 0, 0); fill-opacity: 0;\"/></g></g><g class=\"groups\" transform=\"translate(0, 0)\"><g class=\"traces\" style=\"opacity: 1;\" transform=\"translate(0, 49.1)\"><text class=\"legendtext user-select-none\" text-anchor=\"start\" x=\"40\" y=\"4.680000000000001\" style=\"font-family: 'Open Sans', verdana, arial, sans-serif; font-size: 12px; fill: rgb(51, 51, 51); fill-opacity: 1; white-space: pre;\">New Jersey</text><g class=\"layers\" style=\"opacity: 1;\"><g class=\"legendfill\"/><g class=\"legendlines\"/><g class=\"legendsymbols\"><g class=\"legendpoints\"><path class=\"scatterpts\" transform=\"translate(20,0)\" d=\"M3.9,0L0,3.9L-3.9,0L0,-3.9Z\" style=\"opacity: 0.9; stroke-width: 0px; fill: rgb(245, 133, 24); fill-opacity: 1;\"/></g></g></g><rect class=\"legendtoggle\" pointer-events=\"all\" x=\"0\" y=\"-9.5\" width=\"110.890625\" height=\"19\" style=\"cursor: pointer; fill: rgb(0, 0, 0); fill-opacity: 0;\"/></g></g><g class=\"groups\" transform=\"translate(0, 0)\"><g class=\"traces\" style=\"opacity: 1;\" transform=\"translate(0, 68.1)\"><text class=\"legendtext user-select-none\" text-anchor=\"start\" x=\"40\" y=\"4.680000000000001\" style=\"font-family: 'Open Sans', verdana, arial, sans-serif; font-size: 12px; fill: rgb(51, 51, 51); fill-opacity: 1; white-space: pre;\">New York</text><g class=\"layers\" style=\"opacity: 1;\"><g class=\"legendfill\"/><g class=\"legendlines\"/><g class=\"legendsymbols\"><g class=\"legendpoints\"><path class=\"scatterpts\" transform=\"translate(20,0)\" d=\"M3,3H-3V-3H3Z\" style=\"opacity: 0.9; stroke-width: 0px; fill: rgb(228, 87, 86); fill-opacity: 1;\"/></g></g></g><rect class=\"legendtoggle\" pointer-events=\"all\" x=\"0\" y=\"-9.5\" width=\"110.890625\" height=\"19\" style=\"cursor: pointer; fill: rgb(0, 0, 0); fill-opacity: 0;\"/></g></g><g class=\"groups\" transform=\"translate(0, 0)\"><g class=\"traces\" style=\"opacity: 1;\" transform=\"translate(0, 87.1)\"><text class=\"legendtext user-select-none\" text-anchor=\"start\" x=\"40\" y=\"4.680000000000001\" style=\"font-family: 'Open Sans', verdana, arial, sans-serif; font-size: 12px; fill: rgb(51, 51, 51); fill-opacity: 1; white-space: pre;\">Virginia</text><g class=\"layers\" style=\"opacity: 1;\"><g class=\"legendfill\"/><g class=\"legendlines\"/><g class=\"legendsymbols\"><g class=\"legendpoints\"><path class=\"scatterpts\" transform=\"translate(20,0)\" d=\"M0,1.7l1.7,1.7l1.7,-1.7l-1.7,-1.7l1.7,-1.7l-1.7,-1.7l-1.7,1.7l-1.7,-1.7l-1.7,1.7l1.7,1.7l-1.7,1.7l1.7,1.7Z\" style=\"opacity: 0.9; stroke-width: 0px; fill: rgb(114, 183, 178); fill-opacity: 1;\"/></g></g></g><rect class=\"legendtoggle\" pointer-events=\"all\" x=\"0\" y=\"-9.5\" width=\"110.890625\" height=\"19\" style=\"cursor: pointer; fill: rgb(0, 0, 0); fill-opacity: 0;\"/></g></g><g class=\"groups\" transform=\"translate(0, 0)\"><g class=\"traces\" style=\"opacity: 1;\" transform=\"translate(0, 106.1)\"><text class=\"legendtext user-select-none\" text-anchor=\"start\" x=\"40\" y=\"4.680000000000001\" style=\"font-family: 'Open Sans', verdana, arial, sans-serif; font-size: 12px; fill: rgb(51, 51, 51); fill-opacity: 1; white-space: pre;\">Washington</text><g class=\"layers\" style=\"opacity: 1;\"><g class=\"legendfill\"/><g class=\"legendlines\"/><g class=\"legendsymbols\"><g class=\"legendpoints\"><path class=\"scatterpts\" transform=\"translate(20,0)\" d=\"M3.6,1.2H1.2V3.6H-1.2V1.2H-3.6V-1.2H-1.2V-3.6H1.2V-1.2H3.6Z\" style=\"opacity: 0.9; stroke-width: 0px; fill: rgb(84, 162, 75); fill-opacity: 1;\"/></g></g></g><rect class=\"legendtoggle\" pointer-events=\"all\" x=\"0\" y=\"-9.5\" width=\"110.890625\" height=\"19\" style=\"cursor: pointer; fill: rgb(0, 0, 0); fill-opacity: 0;\"/></g></g></g><rect class=\"scrollbar\" rx=\"20\" ry=\"3\" width=\"0\" height=\"0\" style=\"fill: rgb(128, 139, 164); fill-opacity: 1;\" x=\"0\" y=\"0\"/></g><g class=\"g-gtitle\"><text class=\"gtitle\" x=\"500\" y=\"50\" text-anchor=\"middle\" dy=\"0em\" style=\"font-family: 'Open Sans', verdana, arial, sans-serif; font-size: 17px; fill: rgb(51, 51, 51); opacity: 1; font-weight: normal; white-space: pre;\">New Confirmed Cases vs Cumulative Cases Per Day (Logged, US States)</text></g><g class=\"g-xtitle\"><text class=\"xtitle\" x=\"468\" y=\"567.70625\" text-anchor=\"middle\" style=\"font-family: 'Open Sans', verdana, arial, sans-serif; font-size: 14px; fill: rgb(51, 51, 51); opacity: 1; font-weight: normal; white-space: pre;\">Confirmed</text></g><g class=\"g-ytitle\"><text class=\"ytitle\" transform=\"rotate(-90,16.278125000000003,310)\" x=\"16.278125000000003\" y=\"310\" text-anchor=\"middle\" style=\"font-family: 'Open Sans', verdana, arial, sans-serif; font-size: 14px; fill: rgb(51, 51, 51); opacity: 1; font-weight: normal; white-space: pre;\">NewConfirmed</text></g></g></svg>"
      ]
     },
     "metadata": {},
     "output_type": "display_data"
    }
   ],
   "source": [
    "statesToPlot = ['New York', 'New Jersey', 'Washington', 'Lousiana', 'Virginia', 'Florida']\n",
    "fig =   px.scatter(data_frame=df_state[df_state.State.isin(statesToPlot)].loc[df_state.Confirmed>50], \n",
    "                   x='Confirmed', y='NewConfirmed', color='State', symbol='State',\n",
    "                   log_x=True,log_y=True, labels={'y':'Daily New Cases', 'x':'Cumulative Confirmed Cases'},\n",
    "                   hover_name='Date', hover_data=['State','DaysElapsed','Date','EpidemicStartDate'],\n",
    "                   title='New Confirmed Cases vs Cumulative Cases Per Day (Logged, US States)', template='ggplot2', \n",
    "                   color_discrete_sequence= px.colors.qualitative.T10, opacity=0.9\n",
    "#                    color_continuous_scale='Teal_r', \n",
    "                  )\n",
    "# Add smoothed lines\n",
    "fig.update(layout_coloraxis_showscale=False)\n",
    "fig.show(width=1000, height=600,\n",
    "         renderer='svg'\n",
    "        )"
   ]
  },
  {
   "cell_type": "markdown",
   "metadata": {},
   "source": [
    "## Some time series plots"
   ]
  },
  {
   "cell_type": "markdown",
   "metadata": {},
   "source": [
    "### Confirmed cases in US States with governor lockdown measures \n",
    "Containment is a critical measure in reducing effective reproductive number of the virus. Most early-stage growth models can be viewed as a piecewise composition of a basic reproduction number ($R_0$) and a second effective reproduction number($R_e$). A team at the University of Toronto has a great article and corresponding dashboard explaining this concept: https://annals.org/aim/fullarticle/2760912/reporting-epidemic-growth-reproduction-numbers-2019-novel-coronavirus-2019-ncov. \n",
    "\n",
    "US states have undergone containment measures along different timelines. Assuming a delay comprised of a biological incubation, delay for testing & recording, we can expect to see tangible changes to ($R_e$) roughly 1.5 - 2 weeks following an intervention. However, the gradual change in rate, as opposed to a piecewise shift we'd expect following the containment reflects the fact that lockdowns in the US have not been as stringent as in China, for example, and may only slow the growth, instead of dropping the rate down below 1."
   ]
  },
  {
   "cell_type": "code",
   "execution_count": 25,
   "metadata": {
    "scrolled": false
   },
   "outputs": [
    {
     "name": "stdout",
     "output_type": "stream",
     "text": [
      "New Jersey entered containment on 2020-03-22\n",
      "New York entered containment on 2020-03-23\n",
      "Virginia entered containment on 2020-03-30\n",
      "Washington entered containment on 2020-03-23\n"
     ]
    },
    {
     "data": {
      "image/svg+xml": [
       "<svg class=\"main-svg\" xmlns=\"http://www.w3.org/2000/svg\" xmlns:xlink=\"http://www.w3.org/1999/xlink\" width=\"1000\" height=\"600\" style=\"\" viewBox=\"0 0 1000 600\"><rect x=\"0\" y=\"0\" width=\"1000\" height=\"600\" style=\"fill: rgb(255, 255, 255); fill-opacity: 1;\"/><defs id=\"defs-eb3613\"><g class=\"clips\"><clipPath id=\"clipeb3613xyplot\" class=\"plotclip\"><rect width=\"776\" height=\"420\"/></clipPath><clipPath class=\"axesclip\" id=\"clipeb3613x\"><rect x=\"80\" y=\"0\" width=\"776\" height=\"600\"/></clipPath><clipPath class=\"axesclip\" id=\"clipeb3613y\"><rect x=\"0\" y=\"100\" width=\"1000\" height=\"420\"/></clipPath><clipPath class=\"axesclip\" id=\"clipeb3613xy\"><rect x=\"80\" y=\"100\" width=\"776\" height=\"420\"/></clipPath></g><g class=\"gradients\"/></defs><g class=\"bglayer\"><rect class=\"bg\" x=\"80\" y=\"100\" width=\"776\" height=\"420\" style=\"fill: rgb(237, 237, 237); fill-opacity: 1; stroke-width: 0;\"/></g><g class=\"layer-below\"><g class=\"imagelayer\"/><g class=\"shapelayer\"/></g><g class=\"cartesianlayer\"><g class=\"subplot xy\"><g class=\"layer-subplot\"><g class=\"shapelayer\"/><g class=\"imagelayer\"/></g><g class=\"gridlayer\"><g class=\"x\"><path class=\"xgrid crisp\" transform=\"translate(122.55,0)\" d=\"M0,100v420\" style=\"stroke: rgb(255, 255, 255); stroke-opacity: 1; stroke-width: 1px;\"/><path class=\"xgrid crisp\" transform=\"translate(246.56,0)\" d=\"M0,100v420\" style=\"stroke: rgb(255, 255, 255); stroke-opacity: 1; stroke-width: 1px;\"/><path class=\"xgrid crisp\" transform=\"translate(370.57,0)\" d=\"M0,100v420\" style=\"stroke: rgb(255, 255, 255); stroke-opacity: 1; stroke-width: 1px;\"/><path class=\"xgrid crisp\" transform=\"translate(494.57,0)\" d=\"M0,100v420\" style=\"stroke: rgb(255, 255, 255); stroke-opacity: 1; stroke-width: 1px;\"/><path class=\"xgrid crisp\" transform=\"translate(618.58,0)\" d=\"M0,100v420\" style=\"stroke: rgb(255, 255, 255); stroke-opacity: 1; stroke-width: 1px;\"/><path class=\"xgrid crisp\" transform=\"translate(742.59,0)\" d=\"M0,100v420\" style=\"stroke: rgb(255, 255, 255); stroke-opacity: 1; stroke-width: 1px;\"/></g><g class=\"y\"><path class=\"ygrid crisp\" transform=\"translate(0,518.5)\" d=\"M80,0h776\" style=\"stroke: rgb(255, 255, 255); stroke-opacity: 1; stroke-width: 1px;\"/><path class=\"ygrid crisp\" transform=\"translate(0,495.72)\" d=\"M80,0h776\" style=\"stroke: rgb(255, 255, 255); stroke-opacity: 1; stroke-width: 1px;\"/><path class=\"ygrid crisp\" transform=\"translate(0,465.61)\" d=\"M80,0h776\" style=\"stroke: rgb(255, 255, 255); stroke-opacity: 1; stroke-width: 1px;\"/><path class=\"ygrid crisp\" transform=\"translate(0,442.84)\" d=\"M80,0h776\" style=\"stroke: rgb(255, 255, 255); stroke-opacity: 1; stroke-width: 1px;\"/><path class=\"ygrid crisp\" transform=\"translate(0,420.06)\" d=\"M80,0h776\" style=\"stroke: rgb(255, 255, 255); stroke-opacity: 1; stroke-width: 1px;\"/><path class=\"ygrid crisp\" transform=\"translate(0,389.95)\" d=\"M80,0h776\" style=\"stroke: rgb(255, 255, 255); stroke-opacity: 1; stroke-width: 1px;\"/><path class=\"ygrid crisp\" transform=\"translate(0,367.17)\" d=\"M80,0h776\" style=\"stroke: rgb(255, 255, 255); stroke-opacity: 1; stroke-width: 1px;\"/><path class=\"ygrid crisp\" transform=\"translate(0,344.4)\" d=\"M80,0h776\" style=\"stroke: rgb(255, 255, 255); stroke-opacity: 1; stroke-width: 1px;\"/><path class=\"ygrid crisp\" transform=\"translate(0,314.28999999999996)\" d=\"M80,0h776\" style=\"stroke: rgb(255, 255, 255); stroke-opacity: 1; stroke-width: 1px;\"/><path class=\"ygrid crisp\" transform=\"translate(0,291.51)\" d=\"M80,0h776\" style=\"stroke: rgb(255, 255, 255); stroke-opacity: 1; stroke-width: 1px;\"/><path class=\"ygrid crisp\" transform=\"translate(0,268.73)\" d=\"M80,0h776\" style=\"stroke: rgb(255, 255, 255); stroke-opacity: 1; stroke-width: 1px;\"/><path class=\"ygrid crisp\" transform=\"translate(0,238.62)\" d=\"M80,0h776\" style=\"stroke: rgb(255, 255, 255); stroke-opacity: 1; stroke-width: 1px;\"/><path class=\"ygrid crisp\" transform=\"translate(0,215.85)\" d=\"M80,0h776\" style=\"stroke: rgb(255, 255, 255); stroke-opacity: 1; stroke-width: 1px;\"/><path class=\"ygrid crisp\" transform=\"translate(0,193.07)\" d=\"M80,0h776\" style=\"stroke: rgb(255, 255, 255); stroke-opacity: 1; stroke-width: 1px;\"/><path class=\"ygrid crisp\" transform=\"translate(0,162.96)\" d=\"M80,0h776\" style=\"stroke: rgb(255, 255, 255); stroke-opacity: 1; stroke-width: 1px;\"/><path class=\"ygrid crisp\" transform=\"translate(0,140.18)\" d=\"M80,0h776\" style=\"stroke: rgb(255, 255, 255); stroke-opacity: 1; stroke-width: 1px;\"/><path class=\"ygrid crisp\" transform=\"translate(0,117.4)\" d=\"M80,0h776\" style=\"stroke: rgb(255, 255, 255); stroke-opacity: 1; stroke-width: 1px;\"/></g></g><g class=\"zerolinelayer\"/><path class=\"xlines-below\"/><path class=\"ylines-below\"/><g class=\"overlines-below\"/><g class=\"xaxislayer-below\"/><g class=\"yaxislayer-below\"/><g class=\"overaxes-below\"/><g class=\"plot\" transform=\"translate(80, 100)\" clip-path=\"url('#clipeb3613xyplot')\"><g class=\"scatterlayer mlayer\"><g class=\"trace scatter trace2ec191\" style=\"stroke-miterlimit: 2; opacity: 1;\"><g class=\"fills\"/><g class=\"errorbars\"/><g class=\"lines\"/><g class=\"points\"><path class=\"point plotly-customdata\" transform=\"translate(184.27,339.7)\" d=\"M3,0A3,3 0 1,1 0,-3A3,3 0 0,1 3,0Z\" style=\"opacity: 1; stroke-width: 0px; fill: rgb(76, 120, 168); fill-opacity: 1;\"/><path class=\"point plotly-customdata\" transform=\"translate(201.99,329.51)\" d=\"M3,0A3,3 0 1,1 0,-3A3,3 0 0,1 3,0Z\" style=\"opacity: 1; stroke-width: 0px; fill: rgb(76, 120, 168); fill-opacity: 1;\"/><path class=\"point plotly-customdata\" transform=\"translate(219.7,315.47)\" d=\"M3,0A3,3 0 1,1 0,-3A3,3 0 0,1 3,0Z\" style=\"opacity: 1; stroke-width: 0px; fill: rgb(76, 120, 168); fill-opacity: 1;\"/><path class=\"point plotly-customdata\" transform=\"translate(237.42,307.85)\" d=\"M3,0A3,3 0 1,1 0,-3A3,3 0 0,1 3,0Z\" style=\"opacity: 1; stroke-width: 0px; fill: rgb(76, 120, 168); fill-opacity: 1;\"/><path class=\"point plotly-customdata\" transform=\"translate(255.13,289.95)\" d=\"M3,0A3,3 0 1,1 0,-3A3,3 0 0,1 3,0Z\" style=\"opacity: 1; stroke-width: 0px; fill: rgb(76, 120, 168); fill-opacity: 1;\"/><path class=\"point plotly-customdata\" transform=\"translate(272.85,276.63)\" d=\"M3,0A3,3 0 1,1 0,-3A3,3 0 0,1 3,0Z\" style=\"opacity: 1; stroke-width: 0px; fill: rgb(76, 120, 168); fill-opacity: 1;\"/><path class=\"point plotly-customdata\" transform=\"translate(290.57,267.84)\" d=\"M3,0A3,3 0 1,1 0,-3A3,3 0 0,1 3,0Z\" style=\"opacity: 1; stroke-width: 0px; fill: rgb(76, 120, 168); fill-opacity: 1;\"/><path class=\"point plotly-customdata\" transform=\"translate(308.28,248.6)\" d=\"M3,0A3,3 0 1,1 0,-3A3,3 0 0,1 3,0Z\" style=\"opacity: 1; stroke-width: 0px; fill: rgb(76, 120, 168); fill-opacity: 1;\"/><path class=\"point plotly-customdata\" transform=\"translate(326,234.78)\" d=\"M3,0A3,3 0 1,1 0,-3A3,3 0 0,1 3,0Z\" style=\"opacity: 1; stroke-width: 0px; fill: rgb(76, 120, 168); fill-opacity: 1;\"/><path class=\"point plotly-customdata\" transform=\"translate(343.71,219.47)\" d=\"M3,0A3,3 0 1,1 0,-3A3,3 0 0,1 3,0Z\" style=\"opacity: 1; stroke-width: 0px; fill: rgb(76, 120, 168); fill-opacity: 1;\"/><path class=\"point plotly-customdata\" transform=\"translate(361.43,201.63)\" d=\"M3,0A3,3 0 1,1 0,-3A3,3 0 0,1 3,0Z\" style=\"opacity: 1; stroke-width: 0px; fill: rgb(76, 120, 168); fill-opacity: 1;\"/><path class=\"point plotly-customdata\" transform=\"translate(379.14,195.12)\" d=\"M3,0A3,3 0 1,1 0,-3A3,3 0 0,1 3,0Z\" style=\"opacity: 1; stroke-width: 0px; fill: rgb(76, 120, 168); fill-opacity: 1;\"/><path class=\"point plotly-customdata\" transform=\"translate(396.86,181.99)\" d=\"M3,0A3,3 0 1,1 0,-3A3,3 0 0,1 3,0Z\" style=\"opacity: 1; stroke-width: 0px; fill: rgb(76, 120, 168); fill-opacity: 1;\"/><path class=\"point plotly-customdata\" transform=\"translate(414.57,170.18)\" d=\"M3,0A3,3 0 1,1 0,-3A3,3 0 0,1 3,0Z\" style=\"opacity: 1; stroke-width: 0px; fill: rgb(76, 120, 168); fill-opacity: 1;\"/><path class=\"point plotly-customdata\" transform=\"translate(432.29,157.16)\" d=\"M3,0A3,3 0 1,1 0,-3A3,3 0 0,1 3,0Z\" style=\"opacity: 1; stroke-width: 0px; fill: rgb(76, 120, 168); fill-opacity: 1;\"/><path class=\"point plotly-customdata\" transform=\"translate(450,148.74)\" d=\"M3,0A3,3 0 1,1 0,-3A3,3 0 0,1 3,0Z\" style=\"opacity: 1; stroke-width: 0px; fill: rgb(76, 120, 168); fill-opacity: 1;\"/><path class=\"point plotly-customdata\" transform=\"translate(467.72,142.81)\" d=\"M3,0A3,3 0 1,1 0,-3A3,3 0 0,1 3,0Z\" style=\"opacity: 1; stroke-width: 0px; fill: rgb(76, 120, 168); fill-opacity: 1;\"/><path class=\"point plotly-customdata\" transform=\"translate(485.43,128.15)\" d=\"M3,0A3,3 0 1,1 0,-3A3,3 0 0,1 3,0Z\" style=\"opacity: 1; stroke-width: 0px; fill: rgb(76, 120, 168); fill-opacity: 1;\"/><path class=\"point plotly-customdata\" transform=\"translate(503.15,119.95)\" d=\"M3,0A3,3 0 1,1 0,-3A3,3 0 0,1 3,0Z\" style=\"opacity: 1; stroke-width: 0px; fill: rgb(76, 120, 168); fill-opacity: 1;\"/><path class=\"point plotly-customdata\" transform=\"translate(520.87,112.34)\" d=\"M3,0A3,3 0 1,1 0,-3A3,3 0 0,1 3,0Z\" style=\"opacity: 1; stroke-width: 0px; fill: rgb(76, 120, 168); fill-opacity: 1;\"/><path class=\"point plotly-customdata\" transform=\"translate(538.58,106.26)\" d=\"M3,0A3,3 0 1,1 0,-3A3,3 0 0,1 3,0Z\" style=\"opacity: 1; stroke-width: 0px; fill: rgb(76, 120, 168); fill-opacity: 1;\"/><path class=\"point plotly-customdata\" transform=\"translate(556.3,99.12)\" d=\"M3,0A3,3 0 1,1 0,-3A3,3 0 0,1 3,0Z\" style=\"opacity: 1; stroke-width: 0px; fill: rgb(76, 120, 168); fill-opacity: 1;\"/><path class=\"point plotly-customdata\" transform=\"translate(574.01,95.28)\" d=\"M3,0A3,3 0 1,1 0,-3A3,3 0 0,1 3,0Z\" style=\"opacity: 1; stroke-width: 0px; fill: rgb(76, 120, 168); fill-opacity: 1;\"/><path class=\"point plotly-customdata\" transform=\"translate(591.73,89.56)\" d=\"M3,0A3,3 0 1,1 0,-3A3,3 0 0,1 3,0Z\" style=\"opacity: 1; stroke-width: 0px; fill: rgb(76, 120, 168); fill-opacity: 1;\"/><path class=\"point plotly-customdata\" transform=\"translate(609.44,84.97)\" d=\"M3,0A3,3 0 1,1 0,-3A3,3 0 0,1 3,0Z\" style=\"opacity: 1; stroke-width: 0px; fill: rgb(76, 120, 168); fill-opacity: 1;\"/><path class=\"point plotly-customdata\" transform=\"translate(627.16,79.86)\" d=\"M3,0A3,3 0 1,1 0,-3A3,3 0 0,1 3,0Z\" style=\"opacity: 1; stroke-width: 0px; fill: rgb(76, 120, 168); fill-opacity: 1;\"/><path class=\"point plotly-customdata\" transform=\"translate(644.87,75.51)\" d=\"M3,0A3,3 0 1,1 0,-3A3,3 0 0,1 3,0Z\" style=\"opacity: 1; stroke-width: 0px; fill: rgb(76, 120, 168); fill-opacity: 1;\"/><path class=\"point plotly-customdata\" transform=\"translate(662.59,72.41)\" d=\"M3,0A3,3 0 1,1 0,-3A3,3 0 0,1 3,0Z\" style=\"opacity: 1; stroke-width: 0px; fill: rgb(76, 120, 168); fill-opacity: 1;\"/><path class=\"point plotly-customdata\" transform=\"translate(680.3,69.41)\" d=\"M3,0A3,3 0 1,1 0,-3A3,3 0 0,1 3,0Z\" style=\"opacity: 1; stroke-width: 0px; fill: rgb(76, 120, 168); fill-opacity: 1;\"/><path class=\"point plotly-customdata\" transform=\"translate(698.02,66.85)\" d=\"M3,0A3,3 0 1,1 0,-3A3,3 0 0,1 3,0Z\" style=\"opacity: 1; stroke-width: 0px; fill: rgb(76, 120, 168); fill-opacity: 1;\"/><path class=\"point plotly-customdata\" transform=\"translate(715.73,64.69)\" d=\"M3,0A3,3 0 1,1 0,-3A3,3 0 0,1 3,0Z\" style=\"opacity: 1; stroke-width: 0px; fill: rgb(76, 120, 168); fill-opacity: 1;\"/><path class=\"point plotly-customdata\" transform=\"translate(733.45,62.29)\" d=\"M3,0A3,3 0 1,1 0,-3A3,3 0 0,1 3,0Z\" style=\"opacity: 1; stroke-width: 0px; fill: rgb(76, 120, 168); fill-opacity: 1;\"/></g><g class=\"text\"/></g><g class=\"trace scatter tracea08b1f\" style=\"stroke-miterlimit: 2; opacity: 1;\"><g class=\"fills\"/><g class=\"errorbars\"/><g class=\"lines\"/><g class=\"points\"><path class=\"point plotly-customdata\" transform=\"translate(95.7,339.7)\" d=\"M3.9,0L0,3.9L-3.9,0L0,-3.9Z\" style=\"opacity: 1; stroke-width: 0px; fill: rgb(245, 133, 24); fill-opacity: 1;\"/><path class=\"point plotly-customdata\" transform=\"translate(113.41,316.93)\" d=\"M3.9,0L0,3.9L-3.9,0L0,-3.9Z\" style=\"opacity: 1; stroke-width: 0px; fill: rgb(245, 133, 24); fill-opacity: 1;\"/><path class=\"point plotly-customdata\" transform=\"translate(131.13,294.15)\" d=\"M3.9,0L0,3.9L-3.9,0L0,-3.9Z\" style=\"opacity: 1; stroke-width: 0px; fill: rgb(245, 133, 24); fill-opacity: 1;\"/><path class=\"point plotly-customdata\" transform=\"translate(148.84,271)\" d=\"M3.9,0L0,3.9L-3.9,0L0,-3.9Z\" style=\"opacity: 1; stroke-width: 0px; fill: rgb(245, 133, 24); fill-opacity: 1;\"/><path class=\"point plotly-customdata\" transform=\"translate(166.56,265.26)\" d=\"M3.9,0L0,3.9L-3.9,0L0,-3.9Z\" style=\"opacity: 1; stroke-width: 0px; fill: rgb(245, 133, 24); fill-opacity: 1;\"/><path class=\"point plotly-customdata\" transform=\"translate(184.27,255.65)\" d=\"M3.9,0L0,3.9L-3.9,0L0,-3.9Z\" style=\"opacity: 1; stroke-width: 0px; fill: rgb(245, 133, 24); fill-opacity: 1;\"/><path class=\"point plotly-customdata\" transform=\"translate(201.99,249.16)\" d=\"M3.9,0L0,3.9L-3.9,0L0,-3.9Z\" style=\"opacity: 1; stroke-width: 0px; fill: rgb(245, 133, 24); fill-opacity: 1;\"/><path class=\"point plotly-customdata\" transform=\"translate(219.7,241.71)\" d=\"M3.9,0L0,3.9L-3.9,0L0,-3.9Z\" style=\"opacity: 1; stroke-width: 0px; fill: rgb(245, 133, 24); fill-opacity: 1;\"/><path class=\"point plotly-customdata\" transform=\"translate(237.42,228.34)\" d=\"M3.9,0L0,3.9L-3.9,0L0,-3.9Z\" style=\"opacity: 1; stroke-width: 0px; fill: rgb(245, 133, 24); fill-opacity: 1;\"/><path class=\"point plotly-customdata\" transform=\"translate(255.13,219.94)\" d=\"M3.9,0L0,3.9L-3.9,0L0,-3.9Z\" style=\"opacity: 1; stroke-width: 0px; fill: rgb(245, 133, 24); fill-opacity: 1;\"/><path class=\"point plotly-customdata\" transform=\"translate(272.85,207.75)\" d=\"M3.9,0L0,3.9L-3.9,0L0,-3.9Z\" style=\"opacity: 1; stroke-width: 0px; fill: rgb(245, 133, 24); fill-opacity: 1;\"/><path class=\"point plotly-customdata\" transform=\"translate(290.57,201.76)\" d=\"M3.9,0L0,3.9L-3.9,0L0,-3.9Z\" style=\"opacity: 1; stroke-width: 0px; fill: rgb(245, 133, 24); fill-opacity: 1;\"/><path class=\"point plotly-customdata\" transform=\"translate(308.28,193.19)\" d=\"M3.9,0L0,3.9L-3.9,0L0,-3.9Z\" style=\"opacity: 1; stroke-width: 0px; fill: rgb(245, 133, 24); fill-opacity: 1;\"/><path class=\"point plotly-customdata\" transform=\"translate(326,181.07)\" d=\"M3.9,0L0,3.9L-3.9,0L0,-3.9Z\" style=\"opacity: 1; stroke-width: 0px; fill: rgb(245, 133, 24); fill-opacity: 1;\"/><path class=\"point plotly-customdata\" transform=\"translate(343.71,162.99)\" d=\"M3.9,0L0,3.9L-3.9,0L0,-3.9Z\" style=\"opacity: 1; stroke-width: 0px; fill: rgb(245, 133, 24); fill-opacity: 1;\"/><path class=\"point plotly-customdata\" transform=\"translate(361.43,144.73)\" d=\"M3.9,0L0,3.9L-3.9,0L0,-3.9Z\" style=\"opacity: 1; stroke-width: 0px; fill: rgb(245, 133, 24); fill-opacity: 1;\"/><path class=\"point plotly-customdata\" transform=\"translate(379.14,127.09)\" d=\"M3.9,0L0,3.9L-3.9,0L0,-3.9Z\" style=\"opacity: 1; stroke-width: 0px; fill: rgb(245, 133, 24); fill-opacity: 1;\"/><path class=\"point plotly-customdata\" transform=\"translate(396.86,114.7)\" d=\"M3.9,0L0,3.9L-3.9,0L0,-3.9Z\" style=\"opacity: 1; stroke-width: 0px; fill: rgb(245, 133, 24); fill-opacity: 1;\"/><path class=\"point plotly-customdata\" transform=\"translate(414.57,102.16)\" d=\"M3.9,0L0,3.9L-3.9,0L0,-3.9Z\" style=\"opacity: 1; stroke-width: 0px; fill: rgb(245, 133, 24); fill-opacity: 1;\"/><path class=\"point plotly-customdata\" transform=\"translate(432.29,91.66)\" d=\"M3.9,0L0,3.9L-3.9,0L0,-3.9Z\" style=\"opacity: 1; stroke-width: 0px; fill: rgb(245, 133, 24); fill-opacity: 1;\"/><path class=\"point plotly-customdata\" transform=\"translate(450,84.87)\" d=\"M3.9,0L0,3.9L-3.9,0L0,-3.9Z\" style=\"opacity: 1; stroke-width: 0px; fill: rgb(245, 133, 24); fill-opacity: 1;\"/><path class=\"point plotly-customdata\" transform=\"translate(467.72,76.55)\" d=\"M3.9,0L0,3.9L-3.9,0L0,-3.9Z\" style=\"opacity: 1; stroke-width: 0px; fill: rgb(245, 133, 24); fill-opacity: 1;\"/><path class=\"point plotly-customdata\" transform=\"translate(485.43,71.13)\" d=\"M3.9,0L0,3.9L-3.9,0L0,-3.9Z\" style=\"opacity: 1; stroke-width: 0px; fill: rgb(245, 133, 24); fill-opacity: 1;\"/><path class=\"point plotly-customdata\" transform=\"translate(503.15,66.69)\" d=\"M3.9,0L0,3.9L-3.9,0L0,-3.9Z\" style=\"opacity: 1; stroke-width: 0px; fill: rgb(245, 133, 24); fill-opacity: 1;\"/><path class=\"point plotly-customdata\" transform=\"translate(520.87,60.82)\" d=\"M3.9,0L0,3.9L-3.9,0L0,-3.9Z\" style=\"opacity: 1; stroke-width: 0px; fill: rgb(245, 133, 24); fill-opacity: 1;\"/><path class=\"point plotly-customdata\" transform=\"translate(538.58,57.2)\" d=\"M3.9,0L0,3.9L-3.9,0L0,-3.9Z\" style=\"opacity: 1; stroke-width: 0px; fill: rgb(245, 133, 24); fill-opacity: 1;\"/><path class=\"point plotly-customdata\" transform=\"translate(556.3,53.26)\" d=\"M3.9,0L0,3.9L-3.9,0L0,-3.9Z\" style=\"opacity: 1; stroke-width: 0px; fill: rgb(245, 133, 24); fill-opacity: 1;\"/><path class=\"point plotly-customdata\" transform=\"translate(574.01,49.27)\" d=\"M3.9,0L0,3.9L-3.9,0L0,-3.9Z\" style=\"opacity: 1; stroke-width: 0px; fill: rgb(245, 133, 24); fill-opacity: 1;\"/><path class=\"point plotly-customdata\" transform=\"translate(591.73,45.95)\" d=\"M3.9,0L0,3.9L-3.9,0L0,-3.9Z\" style=\"opacity: 1; stroke-width: 0px; fill: rgb(245, 133, 24); fill-opacity: 1;\"/><path class=\"point plotly-customdata\" transform=\"translate(609.44,42.65)\" d=\"M3.9,0L0,3.9L-3.9,0L0,-3.9Z\" style=\"opacity: 1; stroke-width: 0px; fill: rgb(245, 133, 24); fill-opacity: 1;\"/><path class=\"point plotly-customdata\" transform=\"translate(627.16,39.25)\" d=\"M3.9,0L0,3.9L-3.9,0L0,-3.9Z\" style=\"opacity: 1; stroke-width: 0px; fill: rgb(245, 133, 24); fill-opacity: 1;\"/><path class=\"point plotly-customdata\" transform=\"translate(644.87,35.59)\" d=\"M3.9,0L0,3.9L-3.9,0L0,-3.9Z\" style=\"opacity: 1; stroke-width: 0px; fill: rgb(245, 133, 24); fill-opacity: 1;\"/><path class=\"point plotly-customdata\" transform=\"translate(662.59,33.4)\" d=\"M3.9,0L0,3.9L-3.9,0L0,-3.9Z\" style=\"opacity: 1; stroke-width: 0px; fill: rgb(245, 133, 24); fill-opacity: 1;\"/><path class=\"point plotly-customdata\" transform=\"translate(680.3,31.38)\" d=\"M3.9,0L0,3.9L-3.9,0L0,-3.9Z\" style=\"opacity: 1; stroke-width: 0px; fill: rgb(245, 133, 24); fill-opacity: 1;\"/><path class=\"point plotly-customdata\" transform=\"translate(698.02,29.11)\" d=\"M3.9,0L0,3.9L-3.9,0L0,-3.9Z\" style=\"opacity: 1; stroke-width: 0px; fill: rgb(245, 133, 24); fill-opacity: 1;\"/><path class=\"point plotly-customdata\" transform=\"translate(715.73,26.99)\" d=\"M3.9,0L0,3.9L-3.9,0L0,-3.9Z\" style=\"opacity: 1; stroke-width: 0px; fill: rgb(245, 133, 24); fill-opacity: 1;\"/><path class=\"point plotly-customdata\" transform=\"translate(733.45,24.75)\" d=\"M3.9,0L0,3.9L-3.9,0L0,-3.9Z\" style=\"opacity: 1; stroke-width: 0px; fill: rgb(245, 133, 24); fill-opacity: 1;\"/></g><g class=\"text\"/></g><g class=\"trace scatter trace86abcc\" style=\"stroke-miterlimit: 2; opacity: 1;\"><g class=\"fills\"/><g class=\"errorbars\"/><g class=\"lines\"/><g class=\"points\"><path class=\"point plotly-customdata\" transform=\"translate(237.42,325.4)\" d=\"M3,3H-3V-3H3Z\" style=\"opacity: 1; stroke-width: 0px; fill: rgb(228, 87, 86); fill-opacity: 1;\"/><path class=\"point plotly-customdata\" transform=\"translate(255.13,306.74)\" d=\"M3,3H-3V-3H3Z\" style=\"opacity: 1; stroke-width: 0px; fill: rgb(228, 87, 86); fill-opacity: 1;\"/><path class=\"point plotly-customdata\" transform=\"translate(272.85,295.68)\" d=\"M3,3H-3V-3H3Z\" style=\"opacity: 1; stroke-width: 0px; fill: rgb(228, 87, 86); fill-opacity: 1;\"/><path class=\"point plotly-customdata\" transform=\"translate(290.57,293.41)\" d=\"M3,3H-3V-3H3Z\" style=\"opacity: 1; stroke-width: 0px; fill: rgb(228, 87, 86); fill-opacity: 1;\"/><path class=\"point plotly-customdata\" transform=\"translate(308.28,289.3)\" d=\"M3,3H-3V-3H3Z\" style=\"opacity: 1; stroke-width: 0px; fill: rgb(228, 87, 86); fill-opacity: 1;\"/><path class=\"point plotly-customdata\" transform=\"translate(326,280.33)\" d=\"M3,3H-3V-3H3Z\" style=\"opacity: 1; stroke-width: 0px; fill: rgb(228, 87, 86); fill-opacity: 1;\"/><path class=\"point plotly-customdata\" transform=\"translate(343.71,275.34)\" d=\"M3,3H-3V-3H3Z\" style=\"opacity: 1; stroke-width: 0px; fill: rgb(228, 87, 86); fill-opacity: 1;\"/><path class=\"point plotly-customdata\" transform=\"translate(361.43,269.21)\" d=\"M3,3H-3V-3H3Z\" style=\"opacity: 1; stroke-width: 0px; fill: rgb(228, 87, 86); fill-opacity: 1;\"/><path class=\"point plotly-customdata\" transform=\"translate(379.14,262.58)\" d=\"M3,3H-3V-3H3Z\" style=\"opacity: 1; stroke-width: 0px; fill: rgb(228, 87, 86); fill-opacity: 1;\"/><path class=\"point plotly-customdata\" transform=\"translate(396.86,253.41)\" d=\"M3,3H-3V-3H3Z\" style=\"opacity: 1; stroke-width: 0px; fill: rgb(228, 87, 86); fill-opacity: 1;\"/><path class=\"point plotly-customdata\" transform=\"translate(414.57,241.41)\" d=\"M3,3H-3V-3H3Z\" style=\"opacity: 1; stroke-width: 0px; fill: rgb(228, 87, 86); fill-opacity: 1;\"/><path class=\"point plotly-customdata\" transform=\"translate(432.29,236.54)\" d=\"M3,3H-3V-3H3Z\" style=\"opacity: 1; stroke-width: 0px; fill: rgb(228, 87, 86); fill-opacity: 1;\"/><path class=\"point plotly-customdata\" transform=\"translate(450,232.19)\" d=\"M3,3H-3V-3H3Z\" style=\"opacity: 1; stroke-width: 0px; fill: rgb(228, 87, 86); fill-opacity: 1;\"/><path class=\"point plotly-customdata\" transform=\"translate(467.72,222.37)\" d=\"M3,3H-3V-3H3Z\" style=\"opacity: 1; stroke-width: 0px; fill: rgb(228, 87, 86); fill-opacity: 1;\"/><path class=\"point plotly-customdata\" transform=\"translate(485.43,208.08)\" d=\"M3,3H-3V-3H3Z\" style=\"opacity: 1; stroke-width: 0px; fill: rgb(228, 87, 86); fill-opacity: 1;\"/><path class=\"point plotly-customdata\" transform=\"translate(503.15,207.97)\" d=\"M3,3H-3V-3H3Z\" style=\"opacity: 1; stroke-width: 0px; fill: rgb(228, 87, 86); fill-opacity: 1;\"/><path class=\"point plotly-customdata\" transform=\"translate(520.87,201.4)\" d=\"M3,3H-3V-3H3Z\" style=\"opacity: 1; stroke-width: 0px; fill: rgb(228, 87, 86); fill-opacity: 1;\"/><path class=\"point plotly-customdata\" transform=\"translate(538.58,195.34)\" d=\"M3,3H-3V-3H3Z\" style=\"opacity: 1; stroke-width: 0px; fill: rgb(228, 87, 86); fill-opacity: 1;\"/><path class=\"point plotly-customdata\" transform=\"translate(556.3,190.83)\" d=\"M3,3H-3V-3H3Z\" style=\"opacity: 1; stroke-width: 0px; fill: rgb(228, 87, 86); fill-opacity: 1;\"/><path class=\"point plotly-customdata\" transform=\"translate(574.01,184.18)\" d=\"M3,3H-3V-3H3Z\" style=\"opacity: 1; stroke-width: 0px; fill: rgb(228, 87, 86); fill-opacity: 1;\"/><path class=\"point plotly-customdata\" transform=\"translate(591.73,177.95)\" d=\"M3,3H-3V-3H3Z\" style=\"opacity: 1; stroke-width: 0px; fill: rgb(228, 87, 86); fill-opacity: 1;\"/><path class=\"point plotly-customdata\" transform=\"translate(609.44,173.96)\" d=\"M3,3H-3V-3H3Z\" style=\"opacity: 1; stroke-width: 0px; fill: rgb(228, 87, 86); fill-opacity: 1;\"/><path class=\"point plotly-customdata\" transform=\"translate(627.16,168.54)\" d=\"M3,3H-3V-3H3Z\" style=\"opacity: 1; stroke-width: 0px; fill: rgb(228, 87, 86); fill-opacity: 1;\"/><path class=\"point plotly-customdata\" transform=\"translate(644.87,162.65)\" d=\"M3,3H-3V-3H3Z\" style=\"opacity: 1; stroke-width: 0px; fill: rgb(228, 87, 86); fill-opacity: 1;\"/><path class=\"point plotly-customdata\" transform=\"translate(662.59,159.65)\" d=\"M3,3H-3V-3H3Z\" style=\"opacity: 1; stroke-width: 0px; fill: rgb(228, 87, 86); fill-opacity: 1;\"/><path class=\"point plotly-customdata\" transform=\"translate(680.3,156.77)\" d=\"M3,3H-3V-3H3Z\" style=\"opacity: 1; stroke-width: 0px; fill: rgb(228, 87, 86); fill-opacity: 1;\"/><path class=\"point plotly-customdata\" transform=\"translate(698.02,151.95)\" d=\"M3,3H-3V-3H3Z\" style=\"opacity: 1; stroke-width: 0px; fill: rgb(228, 87, 86); fill-opacity: 1;\"/><path class=\"point plotly-customdata\" transform=\"translate(715.73,149.01)\" d=\"M3,3H-3V-3H3Z\" style=\"opacity: 1; stroke-width: 0px; fill: rgb(228, 87, 86); fill-opacity: 1;\"/><path class=\"point plotly-customdata\" transform=\"translate(733.45,145.61)\" d=\"M3,3H-3V-3H3Z\" style=\"opacity: 1; stroke-width: 0px; fill: rgb(228, 87, 86); fill-opacity: 1;\"/></g><g class=\"text\"/></g><g class=\"trace scatter trace01bc1b\" style=\"stroke-miterlimit: 2; opacity: 1;\"><g class=\"fills\"/><g class=\"errorbars\"/><g class=\"lines\"/><g class=\"points\"><path class=\"point plotly-customdata\" transform=\"translate(42.55,325.4)\" d=\"M0,1.7l1.7,1.7l1.7,-1.7l-1.7,-1.7l1.7,-1.7l-1.7,-1.7l-1.7,1.7l-1.7,-1.7l-1.7,1.7l1.7,1.7l-1.7,1.7l1.7,1.7Z\" style=\"opacity: 1; stroke-width: 0px; fill: rgb(114, 183, 178); fill-opacity: 1;\"/><path class=\"point plotly-customdata\" transform=\"translate(60.27,315.47)\" d=\"M0,1.7l1.7,1.7l1.7,-1.7l-1.7,-1.7l1.7,-1.7l-1.7,-1.7l-1.7,1.7l-1.7,-1.7l-1.7,1.7l1.7,1.7l-1.7,1.7l1.7,1.7Z\" style=\"opacity: 1; stroke-width: 0px; fill: rgb(114, 183, 178); fill-opacity: 1;\"/><path class=\"point plotly-customdata\" transform=\"translate(77.98,304.61)\" d=\"M0,1.7l1.7,1.7l1.7,-1.7l-1.7,-1.7l1.7,-1.7l-1.7,-1.7l-1.7,1.7l-1.7,-1.7l-1.7,1.7l1.7,1.7l-1.7,1.7l1.7,1.7Z\" style=\"opacity: 1; stroke-width: 0px; fill: rgb(114, 183, 178); fill-opacity: 1;\"/><path class=\"point plotly-customdata\" transform=\"translate(95.7,291.98)\" d=\"M0,1.7l1.7,1.7l1.7,-1.7l-1.7,-1.7l1.7,-1.7l-1.7,-1.7l-1.7,1.7l-1.7,-1.7l-1.7,1.7l1.7,1.7l-1.7,1.7l1.7,1.7Z\" style=\"opacity: 1; stroke-width: 0px; fill: rgb(114, 183, 178); fill-opacity: 1;\"/><path class=\"point plotly-customdata\" transform=\"translate(113.41,276.63)\" d=\"M0,1.7l1.7,1.7l1.7,-1.7l-1.7,-1.7l1.7,-1.7l-1.7,-1.7l-1.7,1.7l-1.7,-1.7l-1.7,1.7l1.7,1.7l-1.7,1.7l1.7,1.7Z\" style=\"opacity: 1; stroke-width: 0px; fill: rgb(114, 183, 178); fill-opacity: 1;\"/><path class=\"point plotly-customdata\" transform=\"translate(131.13,272.13)\" d=\"M0,1.7l1.7,1.7l1.7,-1.7l-1.7,-1.7l1.7,-1.7l-1.7,-1.7l-1.7,1.7l-1.7,-1.7l-1.7,1.7l1.7,1.7l-1.7,1.7l1.7,1.7Z\" style=\"opacity: 1; stroke-width: 0px; fill: rgb(114, 183, 178); fill-opacity: 1;\"/><path class=\"point plotly-customdata\" transform=\"translate(148.84,264.04)\" d=\"M0,1.7l1.7,1.7l1.7,-1.7l-1.7,-1.7l1.7,-1.7l-1.7,-1.7l-1.7,1.7l-1.7,-1.7l-1.7,1.7l1.7,1.7l-1.7,1.7l1.7,1.7Z\" style=\"opacity: 1; stroke-width: 0px; fill: rgb(114, 183, 178); fill-opacity: 1;\"/><path class=\"point plotly-customdata\" transform=\"translate(166.56,255.88)\" d=\"M0,1.7l1.7,1.7l1.7,-1.7l-1.7,-1.7l1.7,-1.7l-1.7,-1.7l-1.7,1.7l-1.7,-1.7l-1.7,1.7l1.7,1.7l-1.7,1.7l1.7,1.7Z\" style=\"opacity: 1; stroke-width: 0px; fill: rgb(114, 183, 178); fill-opacity: 1;\"/><path class=\"point plotly-customdata\" transform=\"translate(184.27,248.04)\" d=\"M0,1.7l1.7,1.7l1.7,-1.7l-1.7,-1.7l1.7,-1.7l-1.7,-1.7l-1.7,1.7l-1.7,-1.7l-1.7,1.7l1.7,1.7l-1.7,1.7l1.7,1.7Z\" style=\"opacity: 1; stroke-width: 0px; fill: rgb(114, 183, 178); fill-opacity: 1;\"/><path class=\"point plotly-customdata\" transform=\"translate(201.99,233.46)\" d=\"M0,1.7l1.7,1.7l1.7,-1.7l-1.7,-1.7l1.7,-1.7l-1.7,-1.7l-1.7,1.7l-1.7,-1.7l-1.7,1.7l1.7,1.7l-1.7,1.7l1.7,1.7Z\" style=\"opacity: 1; stroke-width: 0px; fill: rgb(114, 183, 178); fill-opacity: 1;\"/><path class=\"point plotly-customdata\" transform=\"translate(219.7,227.15)\" d=\"M0,1.7l1.7,1.7l1.7,-1.7l-1.7,-1.7l1.7,-1.7l-1.7,-1.7l-1.7,1.7l-1.7,-1.7l-1.7,1.7l1.7,1.7l-1.7,1.7l1.7,1.7Z\" style=\"opacity: 1; stroke-width: 0px; fill: rgb(114, 183, 178); fill-opacity: 1;\"/><path class=\"point plotly-customdata\" transform=\"translate(237.42,220.09)\" d=\"M0,1.7l1.7,1.7l1.7,-1.7l-1.7,-1.7l1.7,-1.7l-1.7,-1.7l-1.7,1.7l-1.7,-1.7l-1.7,1.7l1.7,1.7l-1.7,1.7l1.7,1.7Z\" style=\"opacity: 1; stroke-width: 0px; fill: rgb(114, 183, 178); fill-opacity: 1;\"/><path class=\"point plotly-customdata\" transform=\"translate(255.13,213.57)\" d=\"M0,1.7l1.7,1.7l1.7,-1.7l-1.7,-1.7l1.7,-1.7l-1.7,-1.7l-1.7,1.7l-1.7,-1.7l-1.7,1.7l1.7,1.7l-1.7,1.7l1.7,1.7Z\" style=\"opacity: 1; stroke-width: 0px; fill: rgb(114, 183, 178); fill-opacity: 1;\"/><path class=\"point plotly-customdata\" transform=\"translate(272.85,207.81)\" d=\"M0,1.7l1.7,1.7l1.7,-1.7l-1.7,-1.7l1.7,-1.7l-1.7,-1.7l-1.7,1.7l-1.7,-1.7l-1.7,1.7l1.7,1.7l-1.7,1.7l1.7,1.7Z\" style=\"opacity: 1; stroke-width: 0px; fill: rgb(114, 183, 178); fill-opacity: 1;\"/><path class=\"point plotly-customdata\" transform=\"translate(290.57,204.42)\" d=\"M0,1.7l1.7,1.7l1.7,-1.7l-1.7,-1.7l1.7,-1.7l-1.7,-1.7l-1.7,1.7l-1.7,-1.7l-1.7,1.7l1.7,1.7l-1.7,1.7l1.7,1.7Z\" style=\"opacity: 1; stroke-width: 0px; fill: rgb(114, 183, 178); fill-opacity: 1;\"/><path class=\"point plotly-customdata\" transform=\"translate(308.28,199.09)\" d=\"M0,1.7l1.7,1.7l1.7,-1.7l-1.7,-1.7l1.7,-1.7l-1.7,-1.7l-1.7,1.7l-1.7,-1.7l-1.7,1.7l1.7,1.7l-1.7,1.7l1.7,1.7Z\" style=\"opacity: 1; stroke-width: 0px; fill: rgb(114, 183, 178); fill-opacity: 1;\"/><path class=\"point plotly-customdata\" transform=\"translate(326,194.68)\" d=\"M0,1.7l1.7,1.7l1.7,-1.7l-1.7,-1.7l1.7,-1.7l-1.7,-1.7l-1.7,1.7l-1.7,-1.7l-1.7,1.7l1.7,1.7l-1.7,1.7l1.7,1.7Z\" style=\"opacity: 1; stroke-width: 0px; fill: rgb(114, 183, 178); fill-opacity: 1;\"/><path class=\"point plotly-customdata\" transform=\"translate(343.71,190.67)\" d=\"M0,1.7l1.7,1.7l1.7,-1.7l-1.7,-1.7l1.7,-1.7l-1.7,-1.7l-1.7,1.7l-1.7,-1.7l-1.7,1.7l1.7,1.7l-1.7,1.7l1.7,1.7Z\" style=\"opacity: 1; stroke-width: 0px; fill: rgb(114, 183, 178); fill-opacity: 1;\"/><path class=\"point plotly-customdata\" transform=\"translate(361.43,184.76)\" d=\"M0,1.7l1.7,1.7l1.7,-1.7l-1.7,-1.7l1.7,-1.7l-1.7,-1.7l-1.7,1.7l-1.7,-1.7l-1.7,1.7l1.7,1.7l-1.7,1.7l1.7,1.7Z\" style=\"opacity: 1; stroke-width: 0px; fill: rgb(114, 183, 178); fill-opacity: 1;\"/><path class=\"point plotly-customdata\" transform=\"translate(379.14,180.36)\" d=\"M0,1.7l1.7,1.7l1.7,-1.7l-1.7,-1.7l1.7,-1.7l-1.7,-1.7l-1.7,1.7l-1.7,-1.7l-1.7,1.7l1.7,1.7l-1.7,1.7l1.7,1.7Z\" style=\"opacity: 1; stroke-width: 0px; fill: rgb(114, 183, 178); fill-opacity: 1;\"/><path class=\"point plotly-customdata\" transform=\"translate(396.86,174.95)\" d=\"M0,1.7l1.7,1.7l1.7,-1.7l-1.7,-1.7l1.7,-1.7l-1.7,-1.7l-1.7,1.7l-1.7,-1.7l-1.7,1.7l1.7,1.7l-1.7,1.7l1.7,1.7Z\" style=\"opacity: 1; stroke-width: 0px; fill: rgb(114, 183, 178); fill-opacity: 1;\"/><path class=\"point plotly-customdata\" transform=\"translate(414.57,171.4)\" d=\"M0,1.7l1.7,1.7l1.7,-1.7l-1.7,-1.7l1.7,-1.7l-1.7,-1.7l-1.7,1.7l-1.7,-1.7l-1.7,1.7l1.7,1.7l-1.7,1.7l1.7,1.7Z\" style=\"opacity: 1; stroke-width: 0px; fill: rgb(114, 183, 178); fill-opacity: 1;\"/><path class=\"point plotly-customdata\" transform=\"translate(432.29,167.11)\" d=\"M0,1.7l1.7,1.7l1.7,-1.7l-1.7,-1.7l1.7,-1.7l-1.7,-1.7l-1.7,1.7l-1.7,-1.7l-1.7,1.7l1.7,1.7l-1.7,1.7l1.7,1.7Z\" style=\"opacity: 1; stroke-width: 0px; fill: rgb(114, 183, 178); fill-opacity: 1;\"/><path class=\"point plotly-customdata\" transform=\"translate(450,161.81)\" d=\"M0,1.7l1.7,1.7l1.7,-1.7l-1.7,-1.7l1.7,-1.7l-1.7,-1.7l-1.7,1.7l-1.7,-1.7l-1.7,1.7l1.7,1.7l-1.7,1.7l1.7,1.7Z\" style=\"opacity: 1; stroke-width: 0px; fill: rgb(114, 183, 178); fill-opacity: 1;\"/><path class=\"point plotly-customdata\" transform=\"translate(467.72,160.3)\" d=\"M0,1.7l1.7,1.7l1.7,-1.7l-1.7,-1.7l1.7,-1.7l-1.7,-1.7l-1.7,1.7l-1.7,-1.7l-1.7,1.7l1.7,1.7l-1.7,1.7l1.7,1.7Z\" style=\"opacity: 1; stroke-width: 0px; fill: rgb(114, 183, 178); fill-opacity: 1;\"/><path class=\"point plotly-customdata\" transform=\"translate(485.43,153.21)\" d=\"M0,1.7l1.7,1.7l1.7,-1.7l-1.7,-1.7l1.7,-1.7l-1.7,-1.7l-1.7,1.7l-1.7,-1.7l-1.7,1.7l1.7,1.7l-1.7,1.7l1.7,1.7Z\" style=\"opacity: 1; stroke-width: 0px; fill: rgb(114, 183, 178); fill-opacity: 1;\"/><path class=\"point plotly-customdata\" transform=\"translate(503.15,147.9)\" d=\"M0,1.7l1.7,1.7l1.7,-1.7l-1.7,-1.7l1.7,-1.7l-1.7,-1.7l-1.7,1.7l-1.7,-1.7l-1.7,1.7l1.7,1.7l-1.7,1.7l1.7,1.7Z\" style=\"opacity: 1; stroke-width: 0px; fill: rgb(114, 183, 178); fill-opacity: 1;\"/><path class=\"point plotly-customdata\" transform=\"translate(520.87,143.49)\" d=\"M0,1.7l1.7,1.7l1.7,-1.7l-1.7,-1.7l1.7,-1.7l-1.7,-1.7l-1.7,1.7l-1.7,-1.7l-1.7,1.7l1.7,1.7l-1.7,1.7l1.7,1.7Z\" style=\"opacity: 1; stroke-width: 0px; fill: rgb(114, 183, 178); fill-opacity: 1;\"/><path class=\"point plotly-customdata\" transform=\"translate(538.58,139.31)\" d=\"M0,1.7l1.7,1.7l1.7,-1.7l-1.7,-1.7l1.7,-1.7l-1.7,-1.7l-1.7,1.7l-1.7,-1.7l-1.7,1.7l1.7,1.7l-1.7,1.7l1.7,1.7Z\" style=\"opacity: 1; stroke-width: 0px; fill: rgb(114, 183, 178); fill-opacity: 1;\"/><path class=\"point plotly-customdata\" transform=\"translate(556.3,137.47)\" d=\"M0,1.7l1.7,1.7l1.7,-1.7l-1.7,-1.7l1.7,-1.7l-1.7,-1.7l-1.7,1.7l-1.7,-1.7l-1.7,1.7l1.7,1.7l-1.7,1.7l1.7,1.7Z\" style=\"opacity: 1; stroke-width: 0px; fill: rgb(114, 183, 178); fill-opacity: 1;\"/><path class=\"point plotly-customdata\" transform=\"translate(574.01,136.76)\" d=\"M0,1.7l1.7,1.7l1.7,-1.7l-1.7,-1.7l1.7,-1.7l-1.7,-1.7l-1.7,1.7l-1.7,-1.7l-1.7,1.7l1.7,1.7l-1.7,1.7l1.7,1.7Z\" style=\"opacity: 1; stroke-width: 0px; fill: rgb(114, 183, 178); fill-opacity: 1;\"/><path class=\"point plotly-customdata\" transform=\"translate(591.73,134.97)\" d=\"M0,1.7l1.7,1.7l1.7,-1.7l-1.7,-1.7l1.7,-1.7l-1.7,-1.7l-1.7,1.7l-1.7,-1.7l-1.7,1.7l1.7,1.7l-1.7,1.7l1.7,1.7Z\" style=\"opacity: 1; stroke-width: 0px; fill: rgb(114, 183, 178); fill-opacity: 1;\"/><path class=\"point plotly-customdata\" transform=\"translate(609.44,129.57)\" d=\"M0,1.7l1.7,1.7l1.7,-1.7l-1.7,-1.7l1.7,-1.7l-1.7,-1.7l-1.7,1.7l-1.7,-1.7l-1.7,1.7l1.7,1.7l-1.7,1.7l1.7,1.7Z\" style=\"opacity: 1; stroke-width: 0px; fill: rgb(114, 183, 178); fill-opacity: 1;\"/><path class=\"point plotly-customdata\" transform=\"translate(627.16,127.73)\" d=\"M0,1.7l1.7,1.7l1.7,-1.7l-1.7,-1.7l1.7,-1.7l-1.7,-1.7l-1.7,1.7l-1.7,-1.7l-1.7,1.7l1.7,1.7l-1.7,1.7l1.7,1.7Z\" style=\"opacity: 1; stroke-width: 0px; fill: rgb(114, 183, 178); fill-opacity: 1;\"/><path class=\"point plotly-customdata\" transform=\"translate(644.87,125.31)\" d=\"M0,1.7l1.7,1.7l1.7,-1.7l-1.7,-1.7l1.7,-1.7l-1.7,-1.7l-1.7,1.7l-1.7,-1.7l-1.7,1.7l1.7,1.7l-1.7,1.7l1.7,1.7Z\" style=\"opacity: 1; stroke-width: 0px; fill: rgb(114, 183, 178); fill-opacity: 1;\"/><path class=\"point plotly-customdata\" transform=\"translate(662.59,123.24)\" d=\"M0,1.7l1.7,1.7l1.7,-1.7l-1.7,-1.7l1.7,-1.7l-1.7,-1.7l-1.7,1.7l-1.7,-1.7l-1.7,1.7l1.7,1.7l-1.7,1.7l1.7,1.7Z\" style=\"opacity: 1; stroke-width: 0px; fill: rgb(114, 183, 178); fill-opacity: 1;\"/><path class=\"point plotly-customdata\" transform=\"translate(680.3,121.64)\" d=\"M0,1.7l1.7,1.7l1.7,-1.7l-1.7,-1.7l1.7,-1.7l-1.7,-1.7l-1.7,1.7l-1.7,-1.7l-1.7,1.7l1.7,1.7l-1.7,1.7l1.7,1.7Z\" style=\"opacity: 1; stroke-width: 0px; fill: rgb(114, 183, 178); fill-opacity: 1;\"/><path class=\"point plotly-customdata\" transform=\"translate(698.02,120.49)\" d=\"M0,1.7l1.7,1.7l1.7,-1.7l-1.7,-1.7l1.7,-1.7l-1.7,-1.7l-1.7,1.7l-1.7,-1.7l-1.7,1.7l1.7,1.7l-1.7,1.7l1.7,1.7Z\" style=\"opacity: 1; stroke-width: 0px; fill: rgb(114, 183, 178); fill-opacity: 1;\"/><path class=\"point plotly-customdata\" transform=\"translate(715.73,118.96)\" d=\"M0,1.7l1.7,1.7l1.7,-1.7l-1.7,-1.7l1.7,-1.7l-1.7,-1.7l-1.7,1.7l-1.7,-1.7l-1.7,1.7l1.7,1.7l-1.7,1.7l1.7,1.7Z\" style=\"opacity: 1; stroke-width: 0px; fill: rgb(114, 183, 178); fill-opacity: 1;\"/><path class=\"point plotly-customdata\" transform=\"translate(733.45,117.16)\" d=\"M0,1.7l1.7,1.7l1.7,-1.7l-1.7,-1.7l1.7,-1.7l-1.7,-1.7l-1.7,1.7l-1.7,-1.7l-1.7,1.7l1.7,1.7l-1.7,1.7l1.7,1.7Z\" style=\"opacity: 1; stroke-width: 0px; fill: rgb(114, 183, 178); fill-opacity: 1;\"/></g><g class=\"text\"/></g></g></g><g class=\"overplot\"/><path class=\"xlines-above crisp\" d=\"\" style=\"fill: none; stroke-width: 1px; stroke: rgb(0, 0, 0); stroke-opacity: 0;\"/><path class=\"ylines-above crisp\" d=\"\" style=\"fill: none; stroke-width: 1px; stroke: rgb(0, 0, 0); stroke-opacity: 0;\"/><g class=\"overlines-above\"/><g class=\"xaxislayer-above\"><path class=\"xtick ticks crisp\" d=\"M0,521v5\" transform=\"translate(122.55,0)\" style=\"stroke: rgb(51, 51, 51); stroke-opacity: 1; stroke-width: 1px;\"/><path class=\"xtick ticks crisp\" d=\"M0,521v5\" transform=\"translate(246.56,0)\" style=\"stroke: rgb(51, 51, 51); stroke-opacity: 1; stroke-width: 1px;\"/><path class=\"xtick ticks crisp\" d=\"M0,521v5\" transform=\"translate(370.57,0)\" style=\"stroke: rgb(51, 51, 51); stroke-opacity: 1; stroke-width: 1px;\"/><path class=\"xtick ticks crisp\" d=\"M0,521v5\" transform=\"translate(494.57,0)\" style=\"stroke: rgb(51, 51, 51); stroke-opacity: 1; stroke-width: 1px;\"/><path class=\"xtick ticks crisp\" d=\"M0,521v5\" transform=\"translate(618.58,0)\" style=\"stroke: rgb(51, 51, 51); stroke-opacity: 1; stroke-width: 1px;\"/><path class=\"xtick ticks crisp\" d=\"M0,521v5\" transform=\"translate(742.59,0)\" style=\"stroke: rgb(51, 51, 51); stroke-opacity: 1; stroke-width: 1px;\"/><g class=\"xtick\"><text text-anchor=\"middle\" x=\"0\" y=\"540.4\" transform=\"translate(122.55,0)\" style=\"font-family: 'Open Sans', verdana, arial, sans-serif; font-size: 12px; fill: rgb(51, 51, 51); fill-opacity: 1; white-space: pre;\"><tspan class=\"line\" dy=\"0em\" x=\"0\" y=\"540.4\">Mar 1</tspan><tspan class=\"line\" dy=\"1.3em\" x=\"0\" y=\"540.4\">2020</tspan></text></g><g class=\"xtick\"><text text-anchor=\"middle\" x=\"0\" y=\"540.4\" transform=\"translate(246.56,0)\" style=\"font-family: 'Open Sans', verdana, arial, sans-serif; font-size: 12px; fill: rgb(51, 51, 51); fill-opacity: 1; white-space: pre;\">Mar 8</text></g><g class=\"xtick\"><text text-anchor=\"middle\" x=\"0\" y=\"540.4\" transform=\"translate(370.57,0)\" style=\"font-family: 'Open Sans', verdana, arial, sans-serif; font-size: 12px; fill: rgb(51, 51, 51); fill-opacity: 1; white-space: pre;\">Mar 15</text></g><g class=\"xtick\"><text text-anchor=\"middle\" x=\"0\" y=\"540.4\" transform=\"translate(494.57,0)\" style=\"font-family: 'Open Sans', verdana, arial, sans-serif; font-size: 12px; fill: rgb(51, 51, 51); fill-opacity: 1; white-space: pre;\">Mar 22</text></g><g class=\"xtick\"><text text-anchor=\"middle\" x=\"0\" y=\"540.4\" transform=\"translate(618.58,0)\" style=\"font-family: 'Open Sans', verdana, arial, sans-serif; font-size: 12px; fill: rgb(51, 51, 51); fill-opacity: 1; white-space: pre;\">Mar 29</text></g><g class=\"xtick\"><text text-anchor=\"middle\" x=\"0\" y=\"540.4\" transform=\"translate(742.59,0)\" style=\"font-family: 'Open Sans', verdana, arial, sans-serif; font-size: 12px; fill: rgb(51, 51, 51); fill-opacity: 1; white-space: pre;\">Apr 5</text></g></g><g class=\"yaxislayer-above\"><path class=\"ytick ticks crisp\" d=\"M79,0h-5\" transform=\"translate(0,518.5)\" style=\"stroke: rgb(51, 51, 51); stroke-opacity: 1; stroke-width: 1px;\"/><path class=\"ytick ticks crisp\" d=\"M79,0h-5\" transform=\"translate(0,495.72)\" style=\"stroke: rgb(51, 51, 51); stroke-opacity: 1; stroke-width: 1px;\"/><path class=\"ytick ticks crisp\" d=\"M79,0h-5\" transform=\"translate(0,465.61)\" style=\"stroke: rgb(51, 51, 51); stroke-opacity: 1; stroke-width: 1px;\"/><path class=\"ytick ticks crisp\" d=\"M79,0h-5\" transform=\"translate(0,442.84)\" style=\"stroke: rgb(51, 51, 51); stroke-opacity: 1; stroke-width: 1px;\"/><path class=\"ytick ticks crisp\" d=\"M79,0h-5\" transform=\"translate(0,420.06)\" style=\"stroke: rgb(51, 51, 51); stroke-opacity: 1; stroke-width: 1px;\"/><path class=\"ytick ticks crisp\" d=\"M79,0h-5\" transform=\"translate(0,389.95)\" style=\"stroke: rgb(51, 51, 51); stroke-opacity: 1; stroke-width: 1px;\"/><path class=\"ytick ticks crisp\" d=\"M79,0h-5\" transform=\"translate(0,367.17)\" style=\"stroke: rgb(51, 51, 51); stroke-opacity: 1; stroke-width: 1px;\"/><path class=\"ytick ticks crisp\" d=\"M79,0h-5\" transform=\"translate(0,344.4)\" style=\"stroke: rgb(51, 51, 51); stroke-opacity: 1; stroke-width: 1px;\"/><path class=\"ytick ticks crisp\" d=\"M79,0h-5\" transform=\"translate(0,314.28999999999996)\" style=\"stroke: rgb(51, 51, 51); stroke-opacity: 1; stroke-width: 1px;\"/><path class=\"ytick ticks crisp\" d=\"M79,0h-5\" transform=\"translate(0,291.51)\" style=\"stroke: rgb(51, 51, 51); stroke-opacity: 1; stroke-width: 1px;\"/><path class=\"ytick ticks crisp\" d=\"M79,0h-5\" transform=\"translate(0,268.73)\" style=\"stroke: rgb(51, 51, 51); stroke-opacity: 1; stroke-width: 1px;\"/><path class=\"ytick ticks crisp\" d=\"M79,0h-5\" transform=\"translate(0,238.62)\" style=\"stroke: rgb(51, 51, 51); stroke-opacity: 1; stroke-width: 1px;\"/><path class=\"ytick ticks crisp\" d=\"M79,0h-5\" transform=\"translate(0,215.85)\" style=\"stroke: rgb(51, 51, 51); stroke-opacity: 1; stroke-width: 1px;\"/><path class=\"ytick ticks crisp\" d=\"M79,0h-5\" transform=\"translate(0,193.07)\" style=\"stroke: rgb(51, 51, 51); stroke-opacity: 1; stroke-width: 1px;\"/><path class=\"ytick ticks crisp\" d=\"M79,0h-5\" transform=\"translate(0,162.96)\" style=\"stroke: rgb(51, 51, 51); stroke-opacity: 1; stroke-width: 1px;\"/><path class=\"ytick ticks crisp\" d=\"M79,0h-5\" transform=\"translate(0,140.18)\" style=\"stroke: rgb(51, 51, 51); stroke-opacity: 1; stroke-width: 1px;\"/><path class=\"ytick ticks crisp\" d=\"M79,0h-5\" transform=\"translate(0,117.4)\" style=\"stroke: rgb(51, 51, 51); stroke-opacity: 1; stroke-width: 1px;\"/><g class=\"ytick\"><text text-anchor=\"end\" x=\"71.6\" y=\"4.199999999999999\" transform=\"translate(0,518.5)\" style=\"font-family: 'Open Sans', verdana, arial, sans-serif; font-size: 12px; fill: rgb(51, 51, 51); fill-opacity: 1; white-space: pre;\">1</text></g><g class=\"ytick\"><text text-anchor=\"end\" x=\"71.6\" y=\"3.15\" transform=\"translate(0,495.72)\" style=\"font-family: 'Open Sans', verdana, arial, sans-serif; font-size: 9px; fill: rgb(51, 51, 51); fill-opacity: 1; white-space: pre;\">2</text></g><g class=\"ytick\"><text text-anchor=\"end\" x=\"71.6\" y=\"3.15\" transform=\"translate(0,465.61)\" style=\"font-family: 'Open Sans', verdana, arial, sans-serif; font-size: 9px; fill: rgb(51, 51, 51); fill-opacity: 1; white-space: pre;\">5</text></g><g class=\"ytick\"><text text-anchor=\"end\" x=\"71.6\" y=\"4.199999999999999\" transform=\"translate(0,442.84)\" style=\"font-family: 'Open Sans', verdana, arial, sans-serif; font-size: 12px; fill: rgb(51, 51, 51); fill-opacity: 1; white-space: pre;\">10</text></g><g class=\"ytick\"><text text-anchor=\"end\" x=\"71.6\" y=\"3.15\" transform=\"translate(0,420.06)\" style=\"font-family: 'Open Sans', verdana, arial, sans-serif; font-size: 9px; fill: rgb(51, 51, 51); fill-opacity: 1; white-space: pre;\">2</text></g><g class=\"ytick\"><text text-anchor=\"end\" x=\"71.6\" y=\"3.15\" transform=\"translate(0,389.95)\" style=\"font-family: 'Open Sans', verdana, arial, sans-serif; font-size: 9px; fill: rgb(51, 51, 51); fill-opacity: 1; white-space: pre;\">5</text></g><g class=\"ytick\"><text text-anchor=\"end\" x=\"71.6\" y=\"4.199999999999999\" transform=\"translate(0,367.17)\" style=\"font-family: 'Open Sans', verdana, arial, sans-serif; font-size: 12px; fill: rgb(51, 51, 51); fill-opacity: 1; white-space: pre;\">100</text></g><g class=\"ytick\"><text text-anchor=\"end\" x=\"71.6\" y=\"3.15\" transform=\"translate(0,344.4)\" style=\"font-family: 'Open Sans', verdana, arial, sans-serif; font-size: 9px; fill: rgb(51, 51, 51); fill-opacity: 1; white-space: pre;\">2</text></g><g class=\"ytick\"><text text-anchor=\"end\" x=\"71.6\" y=\"3.15\" transform=\"translate(0,314.28999999999996)\" style=\"font-family: 'Open Sans', verdana, arial, sans-serif; font-size: 9px; fill: rgb(51, 51, 51); fill-opacity: 1; white-space: pre;\">5</text></g><g class=\"ytick\"><text text-anchor=\"end\" x=\"71.6\" y=\"4.199999999999999\" transform=\"translate(0,291.51)\" style=\"font-family: 'Open Sans', verdana, arial, sans-serif; font-size: 12px; fill: rgb(51, 51, 51); fill-opacity: 1; white-space: pre;\">1000</text></g><g class=\"ytick\"><text text-anchor=\"end\" x=\"71.6\" y=\"3.15\" transform=\"translate(0,268.73)\" style=\"font-family: 'Open Sans', verdana, arial, sans-serif; font-size: 9px; fill: rgb(51, 51, 51); fill-opacity: 1; white-space: pre;\">2</text></g><g class=\"ytick\"><text text-anchor=\"end\" x=\"71.6\" y=\"3.15\" transform=\"translate(0,238.62)\" style=\"font-family: 'Open Sans', verdana, arial, sans-serif; font-size: 9px; fill: rgb(51, 51, 51); fill-opacity: 1; white-space: pre;\">5</text></g><g class=\"ytick\"><text text-anchor=\"end\" x=\"71.6\" y=\"4.199999999999999\" transform=\"translate(0,215.85)\" style=\"font-family: 'Open Sans', verdana, arial, sans-serif; font-size: 12px; fill: rgb(51, 51, 51); fill-opacity: 1; white-space: pre;\">10k</text></g><g class=\"ytick\"><text text-anchor=\"end\" x=\"71.6\" y=\"3.15\" transform=\"translate(0,193.07)\" style=\"font-family: 'Open Sans', verdana, arial, sans-serif; font-size: 9px; fill: rgb(51, 51, 51); fill-opacity: 1; white-space: pre;\">2</text></g><g class=\"ytick\"><text text-anchor=\"end\" x=\"71.6\" y=\"3.15\" transform=\"translate(0,162.96)\" style=\"font-family: 'Open Sans', verdana, arial, sans-serif; font-size: 9px; fill: rgb(51, 51, 51); fill-opacity: 1; white-space: pre;\">5</text></g><g class=\"ytick\"><text text-anchor=\"end\" x=\"71.6\" y=\"4.199999999999999\" transform=\"translate(0,140.18)\" style=\"font-family: 'Open Sans', verdana, arial, sans-serif; font-size: 12px; fill: rgb(51, 51, 51); fill-opacity: 1; white-space: pre;\">100k</text></g><g class=\"ytick\"><text text-anchor=\"end\" x=\"71.6\" y=\"3.15\" transform=\"translate(0,117.4)\" style=\"font-family: 'Open Sans', verdana, arial, sans-serif; font-size: 9px; fill: rgb(51, 51, 51); fill-opacity: 1; white-space: pre;\">2</text></g></g><g class=\"overaxes-above\"/></g></g><g class=\"polarlayer\"/><g class=\"ternarylayer\"/><g class=\"geolayer\"/><g class=\"funnelarealayer\"/><g class=\"pielayer\"/><g class=\"treemaplayer\"/><g class=\"sunburstlayer\"/><g class=\"glimages\"/><defs id=\"topdefs-eb3613\"><g class=\"clips\"/><clipPath id=\"legendeb3613\"><rect width=\"116\" height=\"102\" x=\"0\" y=\"0\"/></clipPath></defs><g class=\"layer-above\"><g class=\"imagelayer\"/><g class=\"shapelayer\"><path data-index=\"0\" fill-rule=\"evenodd\" d=\"M494.57,518.5L494.57,215.85\" clip-path=\"url('#clipeb3613xy')\" style=\"opacity: 0.3; stroke: rgb(76, 120, 168); stroke-opacity: 1; fill: rgb(0, 0, 0); fill-opacity: 1; stroke-width: 3px;\"/><path data-index=\"1\" fill-rule=\"evenodd\" d=\"M512.29,518.5L512.29,215.85\" clip-path=\"url('#clipeb3613xy')\" style=\"opacity: 0.3; stroke: rgb(245, 133, 24); stroke-opacity: 1; fill: rgb(0, 0, 0); fill-opacity: 1; stroke-width: 3px;\"/><path data-index=\"2\" fill-rule=\"evenodd\" d=\"M636.3,518.5L636.3,215.85\" clip-path=\"url('#clipeb3613xy')\" style=\"opacity: 0.3; stroke: rgb(228, 87, 86); stroke-opacity: 1; fill: rgb(0, 0, 0); fill-opacity: 1; stroke-width: 3px;\"/><path data-index=\"3\" fill-rule=\"evenodd\" d=\"M512.29,518.5L512.29,215.85\" clip-path=\"url('#clipeb3613xy')\" style=\"opacity: 0.3; stroke: rgb(114, 183, 178); stroke-opacity: 1; fill: rgb(0, 0, 0); fill-opacity: 1; stroke-width: 3px;\"/></g></g><g class=\"infolayer\"><g class=\"legend\" pointer-events=\"all\" transform=\"translate(871.52, 100)\"><rect class=\"bg\" shape-rendering=\"crispEdges\" width=\"116\" height=\"102\" x=\"0\" y=\"0\" style=\"stroke: rgb(68, 68, 68); stroke-opacity: 1; fill: rgb(255, 255, 255); fill-opacity: 1; stroke-width: 0px;\"/><g class=\"scrollbox\" transform=\"translate(0, 0)\" clip-path=\"url('#legendeb3613')\"><text class=\"legendtitletext user-select-none\" text-anchor=\"start\" x=\"2\" y=\"15.600000000000001\" style=\"font-family: 'Open Sans', verdana, arial, sans-serif; font-size: 12px; fill: rgb(51, 51, 51); fill-opacity: 1; white-space: pre;\">State</text><g class=\"groups\" transform=\"translate(0, 0)\"><g class=\"traces\" transform=\"translate(0, 30.1)\" style=\"opacity: 1;\"><text class=\"legendtext user-select-none\" text-anchor=\"start\" x=\"40\" y=\"4.680000000000001\" style=\"font-family: 'Open Sans', verdana, arial, sans-serif; font-size: 12px; fill: rgb(51, 51, 51); fill-opacity: 1; white-space: pre;\">New Jersey</text><g class=\"layers\" style=\"opacity: 1;\"><g class=\"legendfill\"/><g class=\"legendlines\"/><g class=\"legendsymbols\"><g class=\"legendpoints\"><path class=\"scatterpts\" transform=\"translate(20,0)\" d=\"M3,0A3,3 0 1,1 0,-3A3,3 0 0,1 3,0Z\" style=\"opacity: 1; stroke-width: 0px; fill: rgb(76, 120, 168); fill-opacity: 1;\"/></g></g></g><rect class=\"legendtoggle\" pointer-events=\"all\" x=\"0\" y=\"-9.5\" width=\"110.890625\" height=\"19\" style=\"cursor: pointer; fill: rgb(0, 0, 0); fill-opacity: 0;\"/></g></g><g class=\"groups\" transform=\"translate(0, 0)\"><g class=\"traces\" transform=\"translate(0, 49.1)\" style=\"opacity: 1;\"><text class=\"legendtext user-select-none\" text-anchor=\"start\" x=\"40\" y=\"4.680000000000001\" style=\"font-family: 'Open Sans', verdana, arial, sans-serif; font-size: 12px; fill: rgb(51, 51, 51); fill-opacity: 1; white-space: pre;\">New York</text><g class=\"layers\" style=\"opacity: 1;\"><g class=\"legendfill\"/><g class=\"legendlines\"/><g class=\"legendsymbols\"><g class=\"legendpoints\"><path class=\"scatterpts\" transform=\"translate(20,0)\" d=\"M3.9,0L0,3.9L-3.9,0L0,-3.9Z\" style=\"opacity: 1; stroke-width: 0px; fill: rgb(245, 133, 24); fill-opacity: 1;\"/></g></g></g><rect class=\"legendtoggle\" pointer-events=\"all\" x=\"0\" y=\"-9.5\" width=\"110.890625\" height=\"19\" style=\"cursor: pointer; fill: rgb(0, 0, 0); fill-opacity: 0;\"/></g></g><g class=\"groups\" transform=\"translate(0, 0)\"><g class=\"traces\" transform=\"translate(0, 68.1)\" style=\"opacity: 1;\"><text class=\"legendtext user-select-none\" text-anchor=\"start\" x=\"40\" y=\"4.680000000000001\" style=\"font-family: 'Open Sans', verdana, arial, sans-serif; font-size: 12px; fill: rgb(51, 51, 51); fill-opacity: 1; white-space: pre;\">Virginia</text><g class=\"layers\" style=\"opacity: 1;\"><g class=\"legendfill\"/><g class=\"legendlines\"/><g class=\"legendsymbols\"><g class=\"legendpoints\"><path class=\"scatterpts\" transform=\"translate(20,0)\" d=\"M3,3H-3V-3H3Z\" style=\"opacity: 1; stroke-width: 0px; fill: rgb(228, 87, 86); fill-opacity: 1;\"/></g></g></g><rect class=\"legendtoggle\" pointer-events=\"all\" x=\"0\" y=\"-9.5\" width=\"110.890625\" height=\"19\" style=\"cursor: pointer; fill: rgb(0, 0, 0); fill-opacity: 0;\"/></g></g><g class=\"groups\" transform=\"translate(0, 0)\"><g class=\"traces\" transform=\"translate(0, 87.1)\" style=\"opacity: 1;\"><text class=\"legendtext user-select-none\" text-anchor=\"start\" x=\"40\" y=\"4.680000000000001\" style=\"font-family: 'Open Sans', verdana, arial, sans-serif; font-size: 12px; fill: rgb(51, 51, 51); fill-opacity: 1; white-space: pre;\">Washington</text><g class=\"layers\" style=\"opacity: 1;\"><g class=\"legendfill\"/><g class=\"legendlines\"/><g class=\"legendsymbols\"><g class=\"legendpoints\"><path class=\"scatterpts\" transform=\"translate(20,0)\" d=\"M0,1.7l1.7,1.7l1.7,-1.7l-1.7,-1.7l1.7,-1.7l-1.7,-1.7l-1.7,1.7l-1.7,-1.7l-1.7,1.7l1.7,1.7l-1.7,1.7l1.7,1.7Z\" style=\"opacity: 1; stroke-width: 0px; fill: rgb(114, 183, 178); fill-opacity: 1;\"/></g></g></g><rect class=\"legendtoggle\" pointer-events=\"all\" x=\"0\" y=\"-9.5\" width=\"110.890625\" height=\"19\" style=\"cursor: pointer; fill: rgb(0, 0, 0); fill-opacity: 0;\"/></g></g></g><rect class=\"scrollbar\" rx=\"20\" ry=\"3\" width=\"0\" height=\"0\" x=\"0\" y=\"0\" style=\"fill: rgb(128, 139, 164); fill-opacity: 1;\"/></g><g class=\"g-gtitle\"><text class=\"gtitle\" x=\"500\" y=\"50\" text-anchor=\"middle\" dy=\"0em\" style=\"font-family: 'Open Sans', verdana, arial, sans-serif; font-size: 17px; fill: rgb(51, 51, 51); opacity: 1; font-weight: normal; white-space: pre;\">Confirmed Cases in Select States</text></g><g class=\"g-xtitle\"><text class=\"xtitle\" x=\"468\" y=\"583.3\" text-anchor=\"middle\" style=\"font-family: 'Open Sans', verdana, arial, sans-serif; font-size: 14px; fill: rgb(51, 51, 51); opacity: 1; font-weight: normal; white-space: pre;\">Date</text></g><g class=\"g-ytitle\"><text class=\"ytitle\" transform=\"rotate(-90,16.278125000000003,310)\" x=\"16.278125000000003\" y=\"310\" text-anchor=\"middle\" style=\"font-family: 'Open Sans', verdana, arial, sans-serif; font-size: 14px; fill: rgb(51, 51, 51); opacity: 1; font-weight: normal; white-space: pre;\">Confirmed</text></g></g></svg>"
      ]
     },
     "metadata": {},
     "output_type": "display_data"
    }
   ],
   "source": [
    "states = ['New York', 'New Jersey', 'Washington', 'Virginia']\n",
    "fig =px.scatter(data_frame=df_state[df_state.State.isin(states)].loc[df_state.Confirmed > 10], \n",
    "                x='Date', y='Confirmed', color='State', symbol='State',\n",
    "                log_x=False,log_y=True, labels={'y':'Daily New Cases', 'x':'Cumulative Confirmed Cases'},\n",
    "                hover_name='Date', hover_data=['NewConfirmed','Confirmed','DaysElapsed'],\n",
    "                title='Confirmed Cases in Select States', template='ggplot2', \n",
    "                color_discrete_sequence=px.colors.qualitative.T10,\n",
    "               )\n",
    "\n",
    "c = 0\n",
    "for s in sorted(states):\n",
    "    containment_date = containment[containment.State==s].Date.values[0]\n",
    "    fig.add_shape(dict(type=\"line\", \n",
    "                       x0=containment_date, y0=1, x1=containment_date, y1=10000, \n",
    "                       line=dict(color=px.colors.qualitative.T10[c],\n",
    "                                 width=3, dash='solid'\n",
    "                                )))\n",
    "    c += 1\n",
    "    print('{} entered containment on {}'.format(s, containment_date))\n",
    "    \n",
    "fig.update_shapes(dict(xref='x', yref='y'))\n",
    "\n",
    "fig.show(width=1000, height=600,\n",
    "         renderer='svg'\n",
    "        )"
   ]
  },
  {
   "cell_type": "markdown",
   "metadata": {},
   "source": [
    "## Testing, testing, testing "
   ]
  },
  {
   "cell_type": "markdown",
   "metadata": {},
   "source": [
    "### Tests vs. Cases\n",
    "As seen in the Wall Street Journal: https://www.wsj.com/articles/how-the-cdcs-restrictive-testing-guidelines-hid-the-coronavirus-epidemic-11584882001.\n",
    "The biggest issue with any modelling is reliabilty of data. Without comprehensive data on the number of infected, recovered, and susceptible individuals in a community, it becomes incredibly hard for policy makers to make decisions to reopen parts of the economy confidently. \n",
    "\n",
    "(As per my knowledge) These tests are almost all RT-PCR tests, which test for viral nucleic acid (the instructions needed to replicate). An actively infected (or exposed) individual will have this in their body fluids, but those who have been exposed and successfully recovered (that is, they've developed antibodies to excise the virus from their system), will no longer have these strands of RNA and subsequently test negative. (That's where serological tests come in, but that's another issue).\n",
    "\n",
    "As availability of testing kits have been rather scarce, one way to better estimate the number of infected patients in a commmunity may be to look at the proportion of tests administered that come up positive. The higher the ratio, the greater one could \"weight\" the confirmed case counts from that day– if almost every test administered comes back positive, it means that there's probably a lot of folks who haven't gotten tested yet and defintely should. "
   ]
  },
  {
   "cell_type": "code",
   "execution_count": 37,
   "metadata": {
    "scrolled": true
   },
   "outputs": [
    {
     "data": {
      "text/html": [
       "<div>\n",
       "<style scoped>\n",
       "    .dataframe tbody tr th:only-of-type {\n",
       "        vertical-align: middle;\n",
       "    }\n",
       "\n",
       "    .dataframe tbody tr th {\n",
       "        vertical-align: top;\n",
       "    }\n",
       "\n",
       "    .dataframe thead th {\n",
       "        text-align: right;\n",
       "    }\n",
       "</style>\n",
       "<table border=\"1\" class=\"dataframe\">\n",
       "  <thead>\n",
       "    <tr style=\"text-align: right;\">\n",
       "      <th></th>\n",
       "      <th>State</th>\n",
       "      <th>Date</th>\n",
       "      <th>Positive</th>\n",
       "      <th>Negative</th>\n",
       "      <th>Pending</th>\n",
       "      <th>HospitalizedCurrently</th>\n",
       "      <th>HospitalizedCumulative</th>\n",
       "      <th>InIcuCurrently</th>\n",
       "      <th>InIcuCumulative</th>\n",
       "      <th>OnVentilatorCurrently</th>\n",
       "      <th>OnVentilatorCumulative</th>\n",
       "      <th>Recovered</th>\n",
       "      <th>Death</th>\n",
       "      <th>Hospitalized</th>\n",
       "      <th>Total</th>\n",
       "      <th>TotalTestResults</th>\n",
       "      <th>PosNeg</th>\n",
       "      <th>DeathIncrease</th>\n",
       "      <th>HospitalizedIncrease</th>\n",
       "      <th>NegativeIncrease</th>\n",
       "      <th>PositiveIncrease</th>\n",
       "      <th>TotalTestResultsIncrease</th>\n",
       "    </tr>\n",
       "  </thead>\n",
       "  <tbody>\n",
       "    <tr>\n",
       "      <th>39</th>\n",
       "      <td>OK</td>\n",
       "      <td>2020-04-09</td>\n",
       "      <td>1684.0</td>\n",
       "      <td>18595.0</td>\n",
       "      <td>102.0</td>\n",
       "      <td>188.0</td>\n",
       "      <td>415.0</td>\n",
       "      <td>120.0</td>\n",
       "      <td>NaN</td>\n",
       "      <td>NaN</td>\n",
       "      <td>NaN</td>\n",
       "      <td>686.0</td>\n",
       "      <td>80.0</td>\n",
       "      <td>415.0</td>\n",
       "      <td>20279</td>\n",
       "      <td>20279</td>\n",
       "      <td>20279</td>\n",
       "      <td>1.0</td>\n",
       "      <td>25.0</td>\n",
       "      <td>6774.0</td>\n",
       "      <td>160.0</td>\n",
       "      <td>6934.0</td>\n",
       "    </tr>\n",
       "    <tr>\n",
       "      <th>0</th>\n",
       "      <td>AK</td>\n",
       "      <td>2020-04-09</td>\n",
       "      <td>235.0</td>\n",
       "      <td>6988.0</td>\n",
       "      <td>13.0</td>\n",
       "      <td>NaN</td>\n",
       "      <td>27.0</td>\n",
       "      <td>NaN</td>\n",
       "      <td>NaN</td>\n",
       "      <td>NaN</td>\n",
       "      <td>NaN</td>\n",
       "      <td>49.0</td>\n",
       "      <td>7.0</td>\n",
       "      <td>27.0</td>\n",
       "      <td>7223</td>\n",
       "      <td>7223</td>\n",
       "      <td>7223</td>\n",
       "      <td>0.0</td>\n",
       "      <td>0.0</td>\n",
       "      <td>146.0</td>\n",
       "      <td>9.0</td>\n",
       "      <td>155.0</td>\n",
       "    </tr>\n",
       "    <tr>\n",
       "      <th>37</th>\n",
       "      <td>NY</td>\n",
       "      <td>2020-04-09</td>\n",
       "      <td>159937.0</td>\n",
       "      <td>231612.0</td>\n",
       "      <td>236.0</td>\n",
       "      <td>18279.0</td>\n",
       "      <td>32869.0</td>\n",
       "      <td>4925.0</td>\n",
       "      <td>NaN</td>\n",
       "      <td>NaN</td>\n",
       "      <td>NaN</td>\n",
       "      <td>14590.0</td>\n",
       "      <td>7067.0</td>\n",
       "      <td>32869.0</td>\n",
       "      <td>391549</td>\n",
       "      <td>391549</td>\n",
       "      <td>391549</td>\n",
       "      <td>799.0</td>\n",
       "      <td>200.0</td>\n",
       "      <td>15775.0</td>\n",
       "      <td>10621.0</td>\n",
       "      <td>26396.0</td>\n",
       "    </tr>\n",
       "  </tbody>\n",
       "</table>\n",
       "</div>"
      ],
      "text/plain": [
       "   State        Date  Positive  Negative  Pending  HospitalizedCurrently  \\\n",
       "39    OK  2020-04-09    1684.0   18595.0    102.0                  188.0   \n",
       "0     AK  2020-04-09     235.0    6988.0     13.0                    NaN   \n",
       "37    NY  2020-04-09  159937.0  231612.0    236.0                18279.0   \n",
       "\n",
       "    HospitalizedCumulative  InIcuCurrently  InIcuCumulative  \\\n",
       "39                   415.0           120.0              NaN   \n",
       "0                     27.0             NaN              NaN   \n",
       "37                 32869.0          4925.0              NaN   \n",
       "\n",
       "    OnVentilatorCurrently  OnVentilatorCumulative  Recovered   Death  \\\n",
       "39                    NaN                     NaN      686.0    80.0   \n",
       "0                     NaN                     NaN       49.0     7.0   \n",
       "37                    NaN                     NaN    14590.0  7067.0   \n",
       "\n",
       "    Hospitalized   Total  TotalTestResults  PosNeg  DeathIncrease  \\\n",
       "39         415.0   20279             20279   20279            1.0   \n",
       "0           27.0    7223              7223    7223            0.0   \n",
       "37       32869.0  391549            391549  391549          799.0   \n",
       "\n",
       "    HospitalizedIncrease  NegativeIncrease  PositiveIncrease  \\\n",
       "39                  25.0            6774.0             160.0   \n",
       "0                    0.0             146.0               9.0   \n",
       "37                 200.0           15775.0           10621.0   \n",
       "\n",
       "    TotalTestResultsIncrease  \n",
       "39                    6934.0  \n",
       "0                      155.0  \n",
       "37                   26396.0  "
      ]
     },
     "execution_count": 37,
     "metadata": {},
     "output_type": "execute_result"
    }
   ],
   "source": [
    "df_testing.sort_values(by='Date').groupby(['State']).agg('last').reset_index().sample(3)"
   ]
  },
  {
   "cell_type": "code",
   "execution_count": 32,
   "metadata": {},
   "outputs": [
    {
     "data": {
      "image/svg+xml": [
       "<svg class=\"main-svg\" xmlns=\"http://www.w3.org/2000/svg\" xmlns:xlink=\"http://www.w3.org/1999/xlink\" width=\"1000\" height=\"600\" style=\"\" viewBox=\"0 0 1000 600\"><rect x=\"0\" y=\"0\" width=\"1000\" height=\"600\" style=\"fill: rgb(255, 255, 255); fill-opacity: 1;\"/><defs id=\"defs-e7f7d3\"><g class=\"clips\"><clipPath id=\"clipe7f7d3xyplot\" class=\"plotclip\"><rect width=\"825\" height=\"420\"/></clipPath><clipPath class=\"axesclip\" id=\"clipe7f7d3x\"><rect x=\"80\" y=\"0\" width=\"825\" height=\"600\"/></clipPath><clipPath class=\"axesclip\" id=\"clipe7f7d3y\"><rect x=\"0\" y=\"100\" width=\"1000\" height=\"420\"/></clipPath><clipPath class=\"axesclip\" id=\"clipe7f7d3xy\"><rect x=\"80\" y=\"100\" width=\"825\" height=\"420\"/></clipPath></g><g class=\"gradients\"/></defs><g class=\"bglayer\"><rect class=\"bg\" x=\"80\" y=\"100\" width=\"825\" height=\"420\" style=\"fill: rgb(237, 237, 237); fill-opacity: 1; stroke-width: 0;\"/></g><g class=\"layer-below\"><g class=\"imagelayer\"/><g class=\"shapelayer\"/></g><g class=\"cartesianlayer\"><g class=\"subplot xy\"><g class=\"layer-subplot\"><g class=\"shapelayer\"/><g class=\"imagelayer\"/></g><g class=\"gridlayer\"><g class=\"x\"><path class=\"xgrid crisp\" transform=\"translate(85.64,0)\" d=\"M0,100v420\" style=\"stroke: rgb(255, 255, 255); stroke-opacity: 1; stroke-width: 1px;\"/><path class=\"xgrid crisp\" transform=\"translate(125,0)\" d=\"M0,100v420\" style=\"stroke: rgb(255, 255, 255); stroke-opacity: 1; stroke-width: 1px;\"/><path class=\"xgrid crisp\" transform=\"translate(164.36,0)\" d=\"M0,100v420\" style=\"stroke: rgb(255, 255, 255); stroke-opacity: 1; stroke-width: 1px;\"/><path class=\"xgrid crisp\" transform=\"translate(216.4,0)\" d=\"M0,100v420\" style=\"stroke: rgb(255, 255, 255); stroke-opacity: 1; stroke-width: 1px;\"/><path class=\"xgrid crisp\" transform=\"translate(255.76,0)\" d=\"M0,100v420\" style=\"stroke: rgb(255, 255, 255); stroke-opacity: 1; stroke-width: 1px;\"/><path class=\"xgrid crisp\" transform=\"translate(295.12,0)\" d=\"M0,100v420\" style=\"stroke: rgb(255, 255, 255); stroke-opacity: 1; stroke-width: 1px;\"/><path class=\"xgrid crisp\" transform=\"translate(347.15,0)\" d=\"M0,100v420\" style=\"stroke: rgb(255, 255, 255); stroke-opacity: 1; stroke-width: 1px;\"/><path class=\"xgrid crisp\" transform=\"translate(386.52,0)\" d=\"M0,100v420\" style=\"stroke: rgb(255, 255, 255); stroke-opacity: 1; stroke-width: 1px;\"/><path class=\"xgrid crisp\" transform=\"translate(425.88,0)\" d=\"M0,100v420\" style=\"stroke: rgb(255, 255, 255); stroke-opacity: 1; stroke-width: 1px;\"/><path class=\"xgrid crisp\" transform=\"translate(477.91,0)\" d=\"M0,100v420\" style=\"stroke: rgb(255, 255, 255); stroke-opacity: 1; stroke-width: 1px;\"/><path class=\"xgrid crisp\" transform=\"translate(517.27,0)\" d=\"M0,100v420\" style=\"stroke: rgb(255, 255, 255); stroke-opacity: 1; stroke-width: 1px;\"/><path class=\"xgrid crisp\" transform=\"translate(556.64,0)\" d=\"M0,100v420\" style=\"stroke: rgb(255, 255, 255); stroke-opacity: 1; stroke-width: 1px;\"/><path class=\"xgrid crisp\" transform=\"translate(608.67,0)\" d=\"M0,100v420\" style=\"stroke: rgb(255, 255, 255); stroke-opacity: 1; stroke-width: 1px;\"/><path class=\"xgrid crisp\" transform=\"translate(648.03,0)\" d=\"M0,100v420\" style=\"stroke: rgb(255, 255, 255); stroke-opacity: 1; stroke-width: 1px;\"/><path class=\"xgrid crisp\" transform=\"translate(687.4,0)\" d=\"M0,100v420\" style=\"stroke: rgb(255, 255, 255); stroke-opacity: 1; stroke-width: 1px;\"/><path class=\"xgrid crisp\" transform=\"translate(739.43,0)\" d=\"M0,100v420\" style=\"stroke: rgb(255, 255, 255); stroke-opacity: 1; stroke-width: 1px;\"/><path class=\"xgrid crisp\" transform=\"translate(778.79,0)\" d=\"M0,100v420\" style=\"stroke: rgb(255, 255, 255); stroke-opacity: 1; stroke-width: 1px;\"/><path class=\"xgrid crisp\" transform=\"translate(818.15,0)\" d=\"M0,100v420\" style=\"stroke: rgb(255, 255, 255); stroke-opacity: 1; stroke-width: 1px;\"/><path class=\"xgrid crisp\" transform=\"translate(870.19,0)\" d=\"M0,100v420\" style=\"stroke: rgb(255, 255, 255); stroke-opacity: 1; stroke-width: 1px;\"/></g><g class=\"y\"><path class=\"ygrid crisp\" transform=\"translate(0,516.5699999999999)\" d=\"M80,0h825\" style=\"stroke: rgb(255, 255, 255); stroke-opacity: 1; stroke-width: 1px;\"/><path class=\"ygrid crisp\" transform=\"translate(0,495.25)\" d=\"M80,0h825\" style=\"stroke: rgb(255, 255, 255); stroke-opacity: 1; stroke-width: 1px;\"/><path class=\"ygrid crisp\" transform=\"translate(0,473.93)\" d=\"M80,0h825\" style=\"stroke: rgb(255, 255, 255); stroke-opacity: 1; stroke-width: 1px;\"/><path class=\"ygrid crisp\" transform=\"translate(0,445.75)\" d=\"M80,0h825\" style=\"stroke: rgb(255, 255, 255); stroke-opacity: 1; stroke-width: 1px;\"/><path class=\"ygrid crisp\" transform=\"translate(0,424.43)\" d=\"M80,0h825\" style=\"stroke: rgb(255, 255, 255); stroke-opacity: 1; stroke-width: 1px;\"/><path class=\"ygrid crisp\" transform=\"translate(0,403.11)\" d=\"M80,0h825\" style=\"stroke: rgb(255, 255, 255); stroke-opacity: 1; stroke-width: 1px;\"/><path class=\"ygrid crisp\" transform=\"translate(0,374.93)\" d=\"M80,0h825\" style=\"stroke: rgb(255, 255, 255); stroke-opacity: 1; stroke-width: 1px;\"/><path class=\"ygrid crisp\" transform=\"translate(0,353.61)\" d=\"M80,0h825\" style=\"stroke: rgb(255, 255, 255); stroke-opacity: 1; stroke-width: 1px;\"/><path class=\"ygrid crisp\" transform=\"translate(0,332.3)\" d=\"M80,0h825\" style=\"stroke: rgb(255, 255, 255); stroke-opacity: 1; stroke-width: 1px;\"/><path class=\"ygrid crisp\" transform=\"translate(0,304.12)\" d=\"M80,0h825\" style=\"stroke: rgb(255, 255, 255); stroke-opacity: 1; stroke-width: 1px;\"/><path class=\"ygrid crisp\" transform=\"translate(0,282.8)\" d=\"M80,0h825\" style=\"stroke: rgb(255, 255, 255); stroke-opacity: 1; stroke-width: 1px;\"/><path class=\"ygrid crisp\" transform=\"translate(0,261.48)\" d=\"M80,0h825\" style=\"stroke: rgb(255, 255, 255); stroke-opacity: 1; stroke-width: 1px;\"/><path class=\"ygrid crisp\" transform=\"translate(0,233.3)\" d=\"M80,0h825\" style=\"stroke: rgb(255, 255, 255); stroke-opacity: 1; stroke-width: 1px;\"/><path class=\"ygrid crisp\" transform=\"translate(0,211.98000000000002)\" d=\"M80,0h825\" style=\"stroke: rgb(255, 255, 255); stroke-opacity: 1; stroke-width: 1px;\"/><path class=\"ygrid crisp\" transform=\"translate(0,190.66)\" d=\"M80,0h825\" style=\"stroke: rgb(255, 255, 255); stroke-opacity: 1; stroke-width: 1px;\"/><path class=\"ygrid crisp\" transform=\"translate(0,162.48)\" d=\"M80,0h825\" style=\"stroke: rgb(255, 255, 255); stroke-opacity: 1; stroke-width: 1px;\"/><path class=\"ygrid crisp\" transform=\"translate(0,141.16)\" d=\"M80,0h825\" style=\"stroke: rgb(255, 255, 255); stroke-opacity: 1; stroke-width: 1px;\"/><path class=\"ygrid crisp\" transform=\"translate(0,119.84)\" d=\"M80,0h825\" style=\"stroke: rgb(255, 255, 255); stroke-opacity: 1; stroke-width: 1px;\"/></g></g><g class=\"zerolinelayer\"/><path class=\"xlines-below\"/><path class=\"ylines-below\"/><g class=\"overlines-below\"/><g class=\"xaxislayer-below\"/><g class=\"yaxislayer-below\"/><g class=\"overaxes-below\"/><g class=\"plot\" transform=\"translate(80, 100)\" clip-path=\"url('#clipe7f7d3xyplot')\"><g class=\"scatterlayer mlayer\"><g class=\"trace scatter tracea2122d\" style=\"stroke-miterlimit: 2; opacity: 1;\"><g class=\"fills\"/><g class=\"errorbars\"/><g class=\"lines\"/><g class=\"points\"><path class=\"point plotly-customdata\" transform=\"translate(257.25,373.93)\" d=\"M3,0A3,3 0 1,1 0,-3A3,3 0 0,1 3,0Z\" style=\"opacity: 0.9; stroke-width: 0px; fill: rgb(76, 120, 168); fill-opacity: 1;\"/><path class=\"point plotly-customdata\" transform=\"translate(311.41,327.67)\" d=\"M3,0A3,3 0 1,1 0,-3A3,3 0 0,1 3,0Z\" style=\"opacity: 0.9; stroke-width: 0px; fill: rgb(76, 120, 168); fill-opacity: 1;\"/><path class=\"point plotly-customdata\" transform=\"translate(314.45,327.67)\" d=\"M3,0A3,3 0 1,1 0,-3A3,3 0 0,1 3,0Z\" style=\"opacity: 0.9; stroke-width: 0px; fill: rgb(76, 120, 168); fill-opacity: 1;\"/><path class=\"point plotly-customdata\" transform=\"translate(346.44,314.08)\" d=\"M3,0A3,3 0 1,1 0,-3A3,3 0 0,1 3,0Z\" style=\"opacity: 0.9; stroke-width: 0px; fill: rgb(76, 120, 168); fill-opacity: 1;\"/><path class=\"point plotly-customdata\" transform=\"translate(356.94,308.11)\" d=\"M3,0A3,3 0 1,1 0,-3A3,3 0 0,1 3,0Z\" style=\"opacity: 0.9; stroke-width: 0px; fill: rgb(76, 120, 168); fill-opacity: 1;\"/><path class=\"point plotly-customdata\" transform=\"translate(363.55,306.35)\" d=\"M3,0A3,3 0 1,1 0,-3A3,3 0 0,1 3,0Z\" style=\"opacity: 0.9; stroke-width: 0px; fill: rgb(76, 120, 168); fill-opacity: 1;\"/><path class=\"point plotly-customdata\" transform=\"translate(384.67,304.69)\" d=\"M3,0A3,3 0 1,1 0,-3A3,3 0 0,1 3,0Z\" style=\"opacity: 0.9; stroke-width: 0px; fill: rgb(76, 120, 168); fill-opacity: 1;\"/><path class=\"point plotly-customdata\" transform=\"translate(395.12,292.77)\" d=\"M3,0A3,3 0 1,1 0,-3A3,3 0 0,1 3,0Z\" style=\"opacity: 0.9; stroke-width: 0px; fill: rgb(76, 120, 168); fill-opacity: 1;\"/><path class=\"point plotly-customdata\" transform=\"translate(395.59,288.66)\" d=\"M3,0A3,3 0 1,1 0,-3A3,3 0 0,1 3,0Z\" style=\"opacity: 0.9; stroke-width: 0px; fill: rgb(76, 120, 168); fill-opacity: 1;\"/><path class=\"point plotly-customdata\" transform=\"translate(420.86,274.93)\" d=\"M3,0A3,3 0 1,1 0,-3A3,3 0 0,1 3,0Z\" style=\"opacity: 0.9; stroke-width: 0px; fill: rgb(76, 120, 168); fill-opacity: 1;\"/><path class=\"point plotly-customdata\" transform=\"translate(422.87,261.65)\" d=\"M3,0A3,3 0 1,1 0,-3A3,3 0 0,1 3,0Z\" style=\"opacity: 0.9; stroke-width: 0px; fill: rgb(76, 120, 168); fill-opacity: 1;\"/><path class=\"point plotly-customdata\" transform=\"translate(449.86,249.05)\" d=\"M3,0A3,3 0 1,1 0,-3A3,3 0 0,1 3,0Z\" style=\"opacity: 0.9; stroke-width: 0px; fill: rgb(76, 120, 168); fill-opacity: 1;\"/><path class=\"point plotly-customdata\" transform=\"translate(453.85,243.05)\" d=\"M3,0A3,3 0 1,1 0,-3A3,3 0 0,1 3,0Z\" style=\"opacity: 0.9; stroke-width: 0px; fill: rgb(76, 120, 168); fill-opacity: 1;\"/><path class=\"point plotly-customdata\" transform=\"translate(476.58,234.53)\" d=\"M3,0A3,3 0 1,1 0,-3A3,3 0 0,1 3,0Z\" style=\"opacity: 0.9; stroke-width: 0px; fill: rgb(76, 120, 168); fill-opacity: 1;\"/><path class=\"point plotly-customdata\" transform=\"translate(489.15,218.42)\" d=\"M3,0A3,3 0 1,1 0,-3A3,3 0 0,1 3,0Z\" style=\"opacity: 0.9; stroke-width: 0px; fill: rgb(76, 120, 168); fill-opacity: 1;\"/><path class=\"point plotly-customdata\" transform=\"translate(498.55,211.76)\" d=\"M3,0A3,3 0 1,1 0,-3A3,3 0 0,1 3,0Z\" style=\"opacity: 0.9; stroke-width: 0px; fill: rgb(76, 120, 168); fill-opacity: 1;\"/><path class=\"point plotly-customdata\" transform=\"translate(507.04,202.91)\" d=\"M3,0A3,3 0 1,1 0,-3A3,3 0 0,1 3,0Z\" style=\"opacity: 0.9; stroke-width: 0px; fill: rgb(76, 120, 168); fill-opacity: 1;\"/><path class=\"point plotly-customdata\" transform=\"translate(557.03,195.67)\" d=\"M3,0A3,3 0 1,1 0,-3A3,3 0 0,1 3,0Z\" style=\"opacity: 0.9; stroke-width: 0px; fill: rgb(76, 120, 168); fill-opacity: 1;\"/><path class=\"point plotly-customdata\" transform=\"translate(566.79,188.53)\" d=\"M3,0A3,3 0 1,1 0,-3A3,3 0 0,1 3,0Z\" style=\"opacity: 0.9; stroke-width: 0px; fill: rgb(76, 120, 168); fill-opacity: 1;\"/><path class=\"point plotly-customdata\" transform=\"translate(583.34,177.94)\" d=\"M3,0A3,3 0 1,1 0,-3A3,3 0 0,1 3,0Z\" style=\"opacity: 0.9; stroke-width: 0px; fill: rgb(76, 120, 168); fill-opacity: 1;\"/><path class=\"point plotly-customdata\" transform=\"translate(593.09,172.19)\" d=\"M3,0A3,3 0 1,1 0,-3A3,3 0 0,1 3,0Z\" style=\"opacity: 0.9; stroke-width: 0px; fill: rgb(76, 120, 168); fill-opacity: 1;\"/><path class=\"point plotly-customdata\" transform=\"translate(602.32,166.8)\" d=\"M3,0A3,3 0 1,1 0,-3A3,3 0 0,1 3,0Z\" style=\"opacity: 0.9; stroke-width: 0px; fill: rgb(76, 120, 168); fill-opacity: 1;\"/><path class=\"point plotly-customdata\" transform=\"translate(625.56,156.45)\" d=\"M3,0A3,3 0 1,1 0,-3A3,3 0 0,1 3,0Z\" style=\"opacity: 0.9; stroke-width: 0px; fill: rgb(76, 120, 168); fill-opacity: 1;\"/><path class=\"point plotly-customdata\" transform=\"translate(634.91,151.52)\" d=\"M3,0A3,3 0 1,1 0,-3A3,3 0 0,1 3,0Z\" style=\"opacity: 0.9; stroke-width: 0px; fill: rgb(76, 120, 168); fill-opacity: 1;\"/><path class=\"point plotly-customdata\" transform=\"translate(645.51,142.04)\" d=\"M3,0A3,3 0 1,1 0,-3A3,3 0 0,1 3,0Z\" style=\"opacity: 0.9; stroke-width: 0px; fill: rgb(76, 120, 168); fill-opacity: 1;\"/><path class=\"point plotly-customdata\" transform=\"translate(651.28,138.33)\" d=\"M3,0A3,3 0 1,1 0,-3A3,3 0 0,1 3,0Z\" style=\"opacity: 0.9; stroke-width: 0px; fill: rgb(76, 120, 168); fill-opacity: 1;\"/><path class=\"point plotly-customdata\" transform=\"translate(663.48,130.52)\" d=\"M3,0A3,3 0 1,1 0,-3A3,3 0 0,1 3,0Z\" style=\"opacity: 0.9; stroke-width: 0px; fill: rgb(76, 120, 168); fill-opacity: 1;\"/><path class=\"point plotly-customdata\" transform=\"translate(671.45,126.01)\" d=\"M3,0A3,3 0 1,1 0,-3A3,3 0 0,1 3,0Z\" style=\"opacity: 0.9; stroke-width: 0px; fill: rgb(76, 120, 168); fill-opacity: 1;\"/><path class=\"point plotly-customdata\" transform=\"translate(676.66,123.15)\" d=\"M3,0A3,3 0 1,1 0,-3A3,3 0 0,1 3,0Z\" style=\"opacity: 0.9; stroke-width: 0px; fill: rgb(76, 120, 168); fill-opacity: 1;\"/><path class=\"point plotly-customdata\" transform=\"translate(685.1,118.8)\" d=\"M3,0A3,3 0 1,1 0,-3A3,3 0 0,1 3,0Z\" style=\"opacity: 0.9; stroke-width: 0px; fill: rgb(76, 120, 168); fill-opacity: 1;\"/><path class=\"point plotly-customdata\" transform=\"translate(694.64,113.28)\" d=\"M3,0A3,3 0 1,1 0,-3A3,3 0 0,1 3,0Z\" style=\"opacity: 0.9; stroke-width: 0px; fill: rgb(76, 120, 168); fill-opacity: 1;\"/><path class=\"point plotly-customdata\" transform=\"translate(700.66,108.74)\" d=\"M3,0A3,3 0 1,1 0,-3A3,3 0 0,1 3,0Z\" style=\"opacity: 0.9; stroke-width: 0px; fill: rgb(76, 120, 168); fill-opacity: 1;\"/><path class=\"point plotly-customdata\" transform=\"translate(706.5,105.99)\" d=\"M3,0A3,3 0 1,1 0,-3A3,3 0 0,1 3,0Z\" style=\"opacity: 0.9; stroke-width: 0px; fill: rgb(76, 120, 168); fill-opacity: 1;\"/><path class=\"point plotly-customdata\" transform=\"translate(711.2,103.15)\" d=\"M3,0A3,3 0 1,1 0,-3A3,3 0 0,1 3,0Z\" style=\"opacity: 0.9; stroke-width: 0px; fill: rgb(76, 120, 168); fill-opacity: 1;\"/><path class=\"point plotly-customdata\" transform=\"translate(717.72,100.03)\" d=\"M3,0A3,3 0 1,1 0,-3A3,3 0 0,1 3,0Z\" style=\"opacity: 0.9; stroke-width: 0px; fill: rgb(76, 120, 168); fill-opacity: 1;\"/><path class=\"point plotly-customdata\" transform=\"translate(719.68,98.59)\" d=\"M3,0A3,3 0 1,1 0,-3A3,3 0 0,1 3,0Z\" style=\"opacity: 0.9; stroke-width: 0px; fill: rgb(76, 120, 168); fill-opacity: 1;\"/><path class=\"point plotly-customdata\" transform=\"translate(723.29,96.83)\" d=\"M3,0A3,3 0 1,1 0,-3A3,3 0 0,1 3,0Z\" style=\"opacity: 0.9; stroke-width: 0px; fill: rgb(76, 120, 168); fill-opacity: 1;\"/><path class=\"point plotly-customdata\" transform=\"translate(726.97,94.71)\" d=\"M3,0A3,3 0 1,1 0,-3A3,3 0 0,1 3,0Z\" style=\"opacity: 0.9; stroke-width: 0px; fill: rgb(76, 120, 168); fill-opacity: 1;\"/></g><g class=\"text\"/></g><g class=\"trace scatter trace18010b\" style=\"stroke-miterlimit: 2; opacity: 1;\"><g class=\"fills\"/><g class=\"errorbars\"/><g class=\"lines\"/><g class=\"points\"><path class=\"point plotly-customdata\" transform=\"translate(146.75,395.25)\" d=\"M3.9,0L0,3.9L-3.9,0L0,-3.9Z\" style=\"opacity: 0.9; stroke-width: 0px; fill: rgb(245, 133, 24); fill-opacity: 1;\"/><path class=\"point plotly-customdata\" transform=\"translate(186.11,395.25)\" d=\"M3.9,0L0,3.9L-3.9,0L0,-3.9Z\" style=\"opacity: 0.9; stroke-width: 0px; fill: rgb(245, 133, 24); fill-opacity: 1;\"/><path class=\"point plotly-customdata\" transform=\"translate(258.59,340.14)\" d=\"M3.9,0L0,3.9L-3.9,0L0,-3.9Z\" style=\"opacity: 0.9; stroke-width: 0px; fill: rgb(245, 133, 24); fill-opacity: 1;\"/><path class=\"point plotly-customdata\" transform=\"translate(268.28,314.08)\" d=\"M3.9,0L0,3.9L-3.9,0L0,-3.9Z\" style=\"opacity: 0.9; stroke-width: 0px; fill: rgb(245, 133, 24); fill-opacity: 1;\"/><path class=\"point plotly-customdata\" transform=\"translate(288.64,285.04)\" d=\"M3.9,0L0,3.9L-3.9,0L0,-3.9Z\" style=\"opacity: 0.9; stroke-width: 0px; fill: rgb(245, 133, 24); fill-opacity: 1;\"/><path class=\"point plotly-customdata\" transform=\"translate(339.26,265.03)\" d=\"M3.9,0L0,3.9L-3.9,0L0,-3.9Z\" style=\"opacity: 0.9; stroke-width: 0px; fill: rgb(245, 133, 24); fill-opacity: 1;\"/><path class=\"point plotly-customdata\" transform=\"translate(357.87,256.52)\" d=\"M3.9,0L0,3.9L-3.9,0L0,-3.9Z\" style=\"opacity: 0.9; stroke-width: 0px; fill: rgb(245, 133, 24); fill-opacity: 1;\"/><path class=\"point plotly-customdata\" transform=\"translate(369.28,249.59)\" d=\"M3.9,0L0,3.9L-3.9,0L0,-3.9Z\" style=\"opacity: 0.9; stroke-width: 0px; fill: rgb(245, 133, 24); fill-opacity: 1;\"/><path class=\"point plotly-customdata\" transform=\"translate(392.81,237.11)\" d=\"M3.9,0L0,3.9L-3.9,0L0,-3.9Z\" style=\"opacity: 0.9; stroke-width: 0px; fill: rgb(245, 133, 24); fill-opacity: 1;\"/><path class=\"point plotly-customdata\" transform=\"translate(405.85,226.69)\" d=\"M3.9,0L0,3.9L-3.9,0L0,-3.9Z\" style=\"opacity: 0.9; stroke-width: 0px; fill: rgb(245, 133, 24); fill-opacity: 1;\"/><path class=\"point plotly-customdata\" transform=\"translate(424.96,215.35)\" d=\"M3.9,0L0,3.9L-3.9,0L0,-3.9Z\" style=\"opacity: 0.9; stroke-width: 0px; fill: rgb(245, 133, 24); fill-opacity: 1;\"/><path class=\"point plotly-customdata\" transform=\"translate(439.88,205.44)\" d=\"M3.9,0L0,3.9L-3.9,0L0,-3.9Z\" style=\"opacity: 0.9; stroke-width: 0px; fill: rgb(245, 133, 24); fill-opacity: 1;\"/><path class=\"point plotly-customdata\" transform=\"translate(495.03,199.29)\" d=\"M3.9,0L0,3.9L-3.9,0L0,-3.9Z\" style=\"opacity: 0.9; stroke-width: 0px; fill: rgb(245, 133, 24); fill-opacity: 1;\"/><path class=\"point plotly-customdata\" transform=\"translate(508.38,188.27)\" d=\"M3.9,0L0,3.9L-3.9,0L0,-3.9Z\" style=\"opacity: 0.9; stroke-width: 0px; fill: rgb(245, 133, 24); fill-opacity: 1;\"/><path class=\"point plotly-customdata\" transform=\"translate(538.53,177.92)\" d=\"M3.9,0L0,3.9L-3.9,0L0,-3.9Z\" style=\"opacity: 0.9; stroke-width: 0px; fill: rgb(245, 133, 24); fill-opacity: 1;\"/><path class=\"point plotly-customdata\" transform=\"translate(559.49,172.71)\" d=\"M3.9,0L0,3.9L-3.9,0L0,-3.9Z\" style=\"opacity: 0.9; stroke-width: 0px; fill: rgb(245, 133, 24); fill-opacity: 1;\"/><path class=\"point plotly-customdata\" transform=\"translate(575.73,164.81)\" d=\"M3.9,0L0,3.9L-3.9,0L0,-3.9Z\" style=\"opacity: 0.9; stroke-width: 0px; fill: rgb(245, 133, 24); fill-opacity: 1;\"/><path class=\"point plotly-customdata\" transform=\"translate(601.5,157.11)\" d=\"M3.9,0L0,3.9L-3.9,0L0,-3.9Z\" style=\"opacity: 0.9; stroke-width: 0px; fill: rgb(245, 133, 24); fill-opacity: 1;\"/><path class=\"point plotly-customdata\" transform=\"translate(611.13,151.73)\" d=\"M3.9,0L0,3.9L-3.9,0L0,-3.9Z\" style=\"opacity: 0.9; stroke-width: 0px; fill: rgb(245, 133, 24); fill-opacity: 1;\"/><path class=\"point plotly-customdata\" transform=\"translate(620.43,145.94)\" d=\"M3.9,0L0,3.9L-3.9,0L0,-3.9Z\" style=\"opacity: 0.9; stroke-width: 0px; fill: rgb(245, 133, 24); fill-opacity: 1;\"/><path class=\"point plotly-customdata\" transform=\"translate(626.24,143.92)\" d=\"M3.9,0L0,3.9L-3.9,0L0,-3.9Z\" style=\"opacity: 0.9; stroke-width: 0px; fill: rgb(245, 133, 24); fill-opacity: 1;\"/><path class=\"point plotly-customdata\" transform=\"translate(637.58,139.97)\" d=\"M3.9,0L0,3.9L-3.9,0L0,-3.9Z\" style=\"opacity: 0.9; stroke-width: 0px; fill: rgb(245, 133, 24); fill-opacity: 1;\"/><path class=\"point plotly-customdata\" transform=\"translate(645.27,131.87)\" d=\"M3.9,0L0,3.9L-3.9,0L0,-3.9Z\" style=\"opacity: 0.9; stroke-width: 0px; fill: rgb(245, 133, 24); fill-opacity: 1;\"/><path class=\"point plotly-customdata\" transform=\"translate(654.42,125.59)\" d=\"M3.9,0L0,3.9L-3.9,0L0,-3.9Z\" style=\"opacity: 0.9; stroke-width: 0px; fill: rgb(245, 133, 24); fill-opacity: 1;\"/><path class=\"point plotly-customdata\" transform=\"translate(660.65,114.71)\" d=\"M3.9,0L0,3.9L-3.9,0L0,-3.9Z\" style=\"opacity: 0.9; stroke-width: 0px; fill: rgb(245, 133, 24); fill-opacity: 1;\"/><path class=\"point plotly-customdata\" transform=\"translate(663.43,111.08)\" d=\"M3.9,0L0,3.9L-3.9,0L0,-3.9Z\" style=\"opacity: 0.9; stroke-width: 0px; fill: rgb(245, 133, 24); fill-opacity: 1;\"/><path class=\"point plotly-customdata\" transform=\"translate(668.34,105.13)\" d=\"M3.9,0L0,3.9L-3.9,0L0,-3.9Z\" style=\"opacity: 0.9; stroke-width: 0px; fill: rgb(245, 133, 24); fill-opacity: 1;\"/><path class=\"point plotly-customdata\" transform=\"translate(670.09,103.89)\" d=\"M3.9,0L0,3.9L-3.9,0L0,-3.9Z\" style=\"opacity: 0.9; stroke-width: 0px; fill: rgb(245, 133, 24); fill-opacity: 1;\"/><path class=\"point plotly-customdata\" transform=\"translate(677.86,99.78)\" d=\"M3.9,0L0,3.9L-3.9,0L0,-3.9Z\" style=\"opacity: 0.9; stroke-width: 0px; fill: rgb(245, 133, 24); fill-opacity: 1;\"/><path class=\"point plotly-customdata\" transform=\"translate(682.19,96.98)\" d=\"M3.9,0L0,3.9L-3.9,0L0,-3.9Z\" style=\"opacity: 0.9; stroke-width: 0px; fill: rgb(245, 133, 24); fill-opacity: 1;\"/><path class=\"point plotly-customdata\" transform=\"translate(687.11,95.61)\" d=\"M3.9,0L0,3.9L-3.9,0L0,-3.9Z\" style=\"opacity: 0.9; stroke-width: 0px; fill: rgb(245, 133, 24); fill-opacity: 1;\"/><path class=\"point plotly-customdata\" transform=\"translate(690.83,93.42)\" d=\"M3.9,0L0,3.9L-3.9,0L0,-3.9Z\" style=\"opacity: 0.9; stroke-width: 0px; fill: rgb(245, 133, 24); fill-opacity: 1;\"/><path class=\"point plotly-customdata\" transform=\"translate(694.23,91.83)\" d=\"M3.9,0L0,3.9L-3.9,0L0,-3.9Z\" style=\"opacity: 0.9; stroke-width: 0px; fill: rgb(245, 133, 24); fill-opacity: 1;\"/></g><g class=\"text\"/></g><g class=\"trace scatter trace9ba1af\" style=\"stroke-miterlimit: 2; opacity: 1;\"><g class=\"fills\"/><g class=\"errorbars\"/><g class=\"lines\"/><g class=\"points\"><path class=\"point plotly-customdata\" transform=\"translate(45,395.25)\" d=\"M3,3H-3V-3H3Z\" style=\"opacity: 0.9; stroke-width: 0px; fill: rgb(228, 87, 86); fill-opacity: 1;\"/><path class=\"point plotly-customdata\" transform=\"translate(45,395.25)\" d=\"M3,3H-3V-3H3Z\" style=\"opacity: 0.9; stroke-width: 0px; fill: rgb(228, 87, 86); fill-opacity: 1;\"/><path class=\"point plotly-customdata\" transform=\"translate(136.4,352.61)\" d=\"M3,3H-3V-3H3Z\" style=\"opacity: 0.9; stroke-width: 0px; fill: rgb(228, 87, 86); fill-opacity: 1;\"/><path class=\"point plotly-customdata\" transform=\"translate(250.06,340.14)\" d=\"M3,3H-3V-3H3Z\" style=\"opacity: 0.9; stroke-width: 0px; fill: rgb(228, 87, 86); fill-opacity: 1;\"/><path class=\"point plotly-customdata\" transform=\"translate(277.51,321.5)\" d=\"M3,3H-3V-3H3Z\" style=\"opacity: 0.9; stroke-width: 0px; fill: rgb(228, 87, 86); fill-opacity: 1;\"/><path class=\"point plotly-customdata\" transform=\"translate(293.13,311.96)\" d=\"M3,3H-3V-3H3Z\" style=\"opacity: 0.9; stroke-width: 0px; fill: rgb(228, 87, 86); fill-opacity: 1;\"/><path class=\"point plotly-customdata\" transform=\"translate(307.08,297.51)\" d=\"M3,3H-3V-3H3Z\" style=\"opacity: 0.9; stroke-width: 0px; fill: rgb(228, 87, 86); fill-opacity: 1;\"/><path class=\"point plotly-customdata\" transform=\"translate(318.73,290.64)\" d=\"M3,3H-3V-3H3Z\" style=\"opacity: 0.9; stroke-width: 0px; fill: rgb(228, 87, 86); fill-opacity: 1;\"/><path class=\"point plotly-customdata\" transform=\"translate(353.07,274.93)\" d=\"M3,3H-3V-3H3Z\" style=\"opacity: 0.9; stroke-width: 0px; fill: rgb(228, 87, 86); fill-opacity: 1;\"/><path class=\"point plotly-customdata\" transform=\"translate(353.07,274.93)\" d=\"M3,3H-3V-3H3Z\" style=\"opacity: 0.9; stroke-width: 0px; fill: rgb(228, 87, 86); fill-opacity: 1;\"/><path class=\"point plotly-customdata\" transform=\"translate(359,254.24)\" d=\"M3,3H-3V-3H3Z\" style=\"opacity: 0.9; stroke-width: 0px; fill: rgb(228, 87, 86); fill-opacity: 1;\"/><path class=\"point plotly-customdata\" transform=\"translate(372.21,235.88)\" d=\"M3,3H-3V-3H3Z\" style=\"opacity: 0.9; stroke-width: 0px; fill: rgb(228, 87, 86); fill-opacity: 1;\"/><path class=\"point plotly-customdata\" transform=\"translate(396.18,223.41)\" d=\"M3,3H-3V-3H3Z\" style=\"opacity: 0.9; stroke-width: 0px; fill: rgb(228, 87, 86); fill-opacity: 1;\"/><path class=\"point plotly-customdata\" transform=\"translate(411.75,208.97)\" d=\"M3,3H-3V-3H3Z\" style=\"opacity: 0.9; stroke-width: 0px; fill: rgb(228, 87, 86); fill-opacity: 1;\"/><path class=\"point plotly-customdata\" transform=\"translate(438.73,191.98)\" d=\"M3,3H-3V-3H3Z\" style=\"opacity: 0.9; stroke-width: 0px; fill: rgb(228, 87, 86); fill-opacity: 1;\"/><path class=\"point plotly-customdata\" transform=\"translate(449.49,186.38)\" d=\"M3,3H-3V-3H3Z\" style=\"opacity: 0.9; stroke-width: 0px; fill: rgb(228, 87, 86); fill-opacity: 1;\"/><path class=\"point plotly-customdata\" transform=\"translate(466.09,174.1)\" d=\"M3,3H-3V-3H3Z\" style=\"opacity: 0.9; stroke-width: 0px; fill: rgb(228, 87, 86); fill-opacity: 1;\"/><path class=\"point plotly-customdata\" transform=\"translate(484.33,162.83)\" d=\"M3,3H-3V-3H3Z\" style=\"opacity: 0.9; stroke-width: 0px; fill: rgb(228, 87, 86); fill-opacity: 1;\"/><path class=\"point plotly-customdata\" transform=\"translate(505.02,150.65)\" d=\"M3,3H-3V-3H3Z\" style=\"opacity: 0.9; stroke-width: 0px; fill: rgb(228, 87, 86); fill-opacity: 1;\"/><path class=\"point plotly-customdata\" transform=\"translate(578.6,142.77)\" d=\"M3,3H-3V-3H3Z\" style=\"opacity: 0.9; stroke-width: 0px; fill: rgb(228, 87, 86); fill-opacity: 1;\"/><path class=\"point plotly-customdata\" transform=\"translate(590.5,137.22)\" d=\"M3,3H-3V-3H3Z\" style=\"opacity: 0.9; stroke-width: 0px; fill: rgb(228, 87, 86); fill-opacity: 1;\"/><path class=\"point plotly-customdata\" transform=\"translate(608.9,123.5)\" d=\"M3,3H-3V-3H3Z\" style=\"opacity: 0.9; stroke-width: 0px; fill: rgb(228, 87, 86); fill-opacity: 1;\"/><path class=\"point plotly-customdata\" transform=\"translate(620.91,115.82)\" d=\"M3,3H-3V-3H3Z\" style=\"opacity: 0.9; stroke-width: 0px; fill: rgb(228, 87, 86); fill-opacity: 1;\"/><path class=\"point plotly-customdata\" transform=\"translate(631.38,108.7)\" d=\"M3,3H-3V-3H3Z\" style=\"opacity: 0.9; stroke-width: 0px; fill: rgb(228, 87, 86); fill-opacity: 1;\"/><path class=\"point plotly-customdata\" transform=\"translate(640.14,103.01)\" d=\"M3,3H-3V-3H3Z\" style=\"opacity: 0.9; stroke-width: 0px; fill: rgb(228, 87, 86); fill-opacity: 1;\"/><path class=\"point plotly-customdata\" transform=\"translate(649.34,96.33)\" d=\"M3,3H-3V-3H3Z\" style=\"opacity: 0.9; stroke-width: 0px; fill: rgb(228, 87, 86); fill-opacity: 1;\"/><path class=\"point plotly-customdata\" transform=\"translate(654.41,92.74)\" d=\"M3,3H-3V-3H3Z\" style=\"opacity: 0.9; stroke-width: 0px; fill: rgb(228, 87, 86); fill-opacity: 1;\"/><path class=\"point plotly-customdata\" transform=\"translate(662.35,87.38)\" d=\"M3,3H-3V-3H3Z\" style=\"opacity: 0.9; stroke-width: 0px; fill: rgb(228, 87, 86); fill-opacity: 1;\"/><path class=\"point plotly-customdata\" transform=\"translate(668.93,83.08)\" d=\"M3,3H-3V-3H3Z\" style=\"opacity: 0.9; stroke-width: 0px; fill: rgb(228, 87, 86); fill-opacity: 1;\"/><path class=\"point plotly-customdata\" transform=\"translate(676.47,78.3)\" d=\"M3,3H-3V-3H3Z\" style=\"opacity: 0.9; stroke-width: 0px; fill: rgb(228, 87, 86); fill-opacity: 1;\"/><path class=\"point plotly-customdata\" transform=\"translate(682.72,74.23)\" d=\"M3,3H-3V-3H3Z\" style=\"opacity: 0.9; stroke-width: 0px; fill: rgb(228, 87, 86); fill-opacity: 1;\"/><path class=\"point plotly-customdata\" transform=\"translate(687.64,71.32)\" d=\"M3,3H-3V-3H3Z\" style=\"opacity: 0.9; stroke-width: 0px; fill: rgb(228, 87, 86); fill-opacity: 1;\"/><path class=\"point plotly-customdata\" transform=\"translate(692.19,68.52)\" d=\"M3,3H-3V-3H3Z\" style=\"opacity: 0.9; stroke-width: 0px; fill: rgb(228, 87, 86); fill-opacity: 1;\"/><path class=\"point plotly-customdata\" transform=\"translate(695.86,66.12)\" d=\"M3,3H-3V-3H3Z\" style=\"opacity: 0.9; stroke-width: 0px; fill: rgb(228, 87, 86); fill-opacity: 1;\"/><path class=\"point plotly-customdata\" transform=\"translate(699.03,64.1)\" d=\"M3,3H-3V-3H3Z\" style=\"opacity: 0.9; stroke-width: 0px; fill: rgb(228, 87, 86); fill-opacity: 1;\"/><path class=\"point plotly-customdata\" transform=\"translate(702.74,61.86)\" d=\"M3,3H-3V-3H3Z\" style=\"opacity: 0.9; stroke-width: 0px; fill: rgb(228, 87, 86); fill-opacity: 1;\"/><path class=\"point plotly-customdata\" transform=\"translate(705.99,59.78)\" d=\"M3,3H-3V-3H3Z\" style=\"opacity: 0.9; stroke-width: 0px; fill: rgb(228, 87, 86); fill-opacity: 1;\"/></g><g class=\"text\"/></g><g class=\"trace scatter tracea28504\" style=\"stroke-miterlimit: 2; opacity: 1;\"><g class=\"fills\"/><g class=\"errorbars\"/><g class=\"lines\"/><g class=\"points\"><path class=\"point plotly-customdata\" transform=\"translate(292.41,340.14)\" d=\"M0,1.7l1.7,1.7l1.7,-1.7l-1.7,-1.7l1.7,-1.7l-1.7,-1.7l-1.7,1.7l-1.7,-1.7l-1.7,1.7l1.7,1.7l-1.7,1.7l1.7,1.7Z\" style=\"opacity: 0.9; stroke-width: 0px; fill: rgb(114, 183, 178); fill-opacity: 1;\"/><path class=\"point plotly-customdata\" transform=\"translate(317.81,300.18)\" d=\"M0,1.7l1.7,1.7l1.7,-1.7l-1.7,-1.7l1.7,-1.7l-1.7,-1.7l-1.7,1.7l-1.7,-1.7l-1.7,1.7l1.7,1.7l-1.7,1.7l1.7,1.7Z\" style=\"opacity: 0.9; stroke-width: 0px; fill: rgb(114, 183, 178); fill-opacity: 1;\"/><path class=\"point plotly-customdata\" transform=\"translate(379.42,287.71)\" d=\"M0,1.7l1.7,1.7l1.7,-1.7l-1.7,-1.7l1.7,-1.7l-1.7,-1.7l-1.7,1.7l-1.7,-1.7l-1.7,1.7l1.7,1.7l-1.7,1.7l1.7,1.7Z\" style=\"opacity: 0.9; stroke-width: 0px; fill: rgb(114, 183, 178); fill-opacity: 1;\"/><path class=\"point plotly-customdata\" transform=\"translate(385.81,262.06)\" d=\"M0,1.7l1.7,1.7l1.7,-1.7l-1.7,-1.7l1.7,-1.7l-1.7,-1.7l-1.7,1.7l-1.7,-1.7l-1.7,1.7l1.7,1.7l-1.7,1.7l1.7,1.7Z\" style=\"opacity: 0.9; stroke-width: 0px; fill: rgb(114, 183, 178); fill-opacity: 1;\"/><path class=\"point plotly-customdata\" transform=\"translate(345.02,252.11)\" d=\"M0,1.7l1.7,1.7l1.7,-1.7l-1.7,-1.7l1.7,-1.7l-1.7,-1.7l-1.7,1.7l-1.7,-1.7l-1.7,1.7l1.7,1.7l-1.7,1.7l1.7,1.7Z\" style=\"opacity: 0.9; stroke-width: 0px; fill: rgb(114, 183, 178); fill-opacity: 1;\"/><path class=\"point plotly-customdata\" transform=\"translate(354.79,242.83)\" d=\"M0,1.7l1.7,1.7l1.7,-1.7l-1.7,-1.7l1.7,-1.7l-1.7,-1.7l-1.7,1.7l-1.7,-1.7l-1.7,1.7l1.7,1.7l-1.7,1.7l1.7,1.7Z\" style=\"opacity: 0.9; stroke-width: 0px; fill: rgb(114, 183, 178); fill-opacity: 1;\"/><path class=\"point plotly-customdata\" transform=\"translate(361.86,236.76)\" d=\"M0,1.7l1.7,1.7l1.7,-1.7l-1.7,-1.7l1.7,-1.7l-1.7,-1.7l-1.7,1.7l-1.7,-1.7l-1.7,1.7l1.7,1.7l-1.7,1.7l1.7,1.7Z\" style=\"opacity: 0.9; stroke-width: 0px; fill: rgb(114, 183, 178); fill-opacity: 1;\"/><path class=\"point plotly-customdata\" transform=\"translate(370.4,229.93)\" d=\"M0,1.7l1.7,1.7l1.7,-1.7l-1.7,-1.7l1.7,-1.7l-1.7,-1.7l-1.7,1.7l-1.7,-1.7l-1.7,1.7l1.7,1.7l-1.7,1.7l1.7,1.7Z\" style=\"opacity: 0.9; stroke-width: 0px; fill: rgb(114, 183, 178); fill-opacity: 1;\"/><path class=\"point plotly-customdata\" transform=\"translate(370.4,229.93)\" d=\"M0,1.7l1.7,1.7l1.7,-1.7l-1.7,-1.7l1.7,-1.7l-1.7,-1.7l-1.7,1.7l-1.7,-1.7l-1.7,1.7l1.7,1.7l-1.7,1.7l1.7,1.7Z\" style=\"opacity: 0.9; stroke-width: 0px; fill: rgb(114, 183, 178); fill-opacity: 1;\"/><path class=\"point plotly-customdata\" transform=\"translate(503.33,209.4)\" d=\"M0,1.7l1.7,1.7l1.7,-1.7l-1.7,-1.7l1.7,-1.7l-1.7,-1.7l-1.7,1.7l-1.7,-1.7l-1.7,1.7l1.7,1.7l-1.7,1.7l1.7,1.7Z\" style=\"opacity: 0.9; stroke-width: 0px; fill: rgb(114, 183, 178); fill-opacity: 1;\"/><path class=\"point plotly-customdata\" transform=\"translate(505.13,202.67)\" d=\"M0,1.7l1.7,1.7l1.7,-1.7l-1.7,-1.7l1.7,-1.7l-1.7,-1.7l-1.7,1.7l-1.7,-1.7l-1.7,1.7l1.7,1.7l-1.7,1.7l1.7,1.7Z\" style=\"opacity: 0.9; stroke-width: 0px; fill: rgb(114, 183, 178); fill-opacity: 1;\"/><path class=\"point plotly-customdata\" transform=\"translate(531.68,192.52)\" d=\"M0,1.7l1.7,1.7l1.7,-1.7l-1.7,-1.7l1.7,-1.7l-1.7,-1.7l-1.7,1.7l-1.7,-1.7l-1.7,1.7l1.7,1.7l-1.7,1.7l1.7,1.7Z\" style=\"opacity: 0.9; stroke-width: 0px; fill: rgb(114, 183, 178); fill-opacity: 1;\"/><path class=\"point plotly-customdata\" transform=\"translate(534.01,184.37)\" d=\"M0,1.7l1.7,1.7l1.7,-1.7l-1.7,-1.7l1.7,-1.7l-1.7,-1.7l-1.7,1.7l-1.7,-1.7l-1.7,1.7l1.7,1.7l-1.7,1.7l1.7,1.7Z\" style=\"opacity: 0.9; stroke-width: 0px; fill: rgb(114, 183, 178); fill-opacity: 1;\"/><path class=\"point plotly-customdata\" transform=\"translate(549.43,166.48)\" d=\"M0,1.7l1.7,1.7l1.7,-1.7l-1.7,-1.7l1.7,-1.7l-1.7,-1.7l-1.7,1.7l-1.7,-1.7l-1.7,1.7l1.7,1.7l-1.7,1.7l1.7,1.7Z\" style=\"opacity: 0.9; stroke-width: 0px; fill: rgb(114, 183, 178); fill-opacity: 1;\"/><path class=\"point plotly-customdata\" transform=\"translate(589.51,156.1)\" d=\"M0,1.7l1.7,1.7l1.7,-1.7l-1.7,-1.7l1.7,-1.7l-1.7,-1.7l-1.7,1.7l-1.7,-1.7l-1.7,1.7l1.7,1.7l-1.7,1.7l1.7,1.7Z\" style=\"opacity: 0.9; stroke-width: 0px; fill: rgb(114, 183, 178); fill-opacity: 1;\"/><path class=\"point plotly-customdata\" transform=\"translate(613.54,139.01)\" d=\"M0,1.7l1.7,1.7l1.7,-1.7l-1.7,-1.7l1.7,-1.7l-1.7,-1.7l-1.7,1.7l-1.7,-1.7l-1.7,1.7l1.7,1.7l-1.7,1.7l1.7,1.7Z\" style=\"opacity: 0.9; stroke-width: 0px; fill: rgb(114, 183, 178); fill-opacity: 1;\"/><path class=\"point plotly-customdata\" transform=\"translate(634.84,122.5)\" d=\"M0,1.7l1.7,1.7l1.7,-1.7l-1.7,-1.7l1.7,-1.7l-1.7,-1.7l-1.7,1.7l-1.7,-1.7l-1.7,1.7l1.7,1.7l-1.7,1.7l1.7,1.7Z\" style=\"opacity: 0.9; stroke-width: 0px; fill: rgb(114, 183, 178); fill-opacity: 1;\"/><path class=\"point plotly-customdata\" transform=\"translate(654,110.9)\" d=\"M0,1.7l1.7,1.7l1.7,-1.7l-1.7,-1.7l1.7,-1.7l-1.7,-1.7l-1.7,1.7l-1.7,-1.7l-1.7,1.7l1.7,1.7l-1.7,1.7l1.7,1.7Z\" style=\"opacity: 0.9; stroke-width: 0px; fill: rgb(114, 183, 178); fill-opacity: 1;\"/><path class=\"point plotly-customdata\" transform=\"translate(671.09,99.17)\" d=\"M0,1.7l1.7,1.7l1.7,-1.7l-1.7,-1.7l1.7,-1.7l-1.7,-1.7l-1.7,1.7l-1.7,-1.7l-1.7,1.7l1.7,1.7l-1.7,1.7l1.7,1.7Z\" style=\"opacity: 0.9; stroke-width: 0px; fill: rgb(114, 183, 178); fill-opacity: 1;\"/><path class=\"point plotly-customdata\" transform=\"translate(684.89,89.34)\" d=\"M0,1.7l1.7,1.7l1.7,-1.7l-1.7,-1.7l1.7,-1.7l-1.7,-1.7l-1.7,1.7l-1.7,-1.7l-1.7,1.7l1.7,1.7l-1.7,1.7l1.7,1.7Z\" style=\"opacity: 0.9; stroke-width: 0px; fill: rgb(114, 183, 178); fill-opacity: 1;\"/><path class=\"point plotly-customdata\" transform=\"translate(693.6,82.99)\" d=\"M0,1.7l1.7,1.7l1.7,-1.7l-1.7,-1.7l1.7,-1.7l-1.7,-1.7l-1.7,1.7l-1.7,-1.7l-1.7,1.7l1.7,1.7l-1.7,1.7l1.7,1.7Z\" style=\"opacity: 0.9; stroke-width: 0px; fill: rgb(114, 183, 178); fill-opacity: 1;\"/><path class=\"point plotly-customdata\" transform=\"translate(700.73,77.37)\" d=\"M0,1.7l1.7,1.7l1.7,-1.7l-1.7,-1.7l1.7,-1.7l-1.7,-1.7l-1.7,1.7l-1.7,-1.7l-1.7,1.7l1.7,1.7l-1.7,1.7l1.7,1.7Z\" style=\"opacity: 0.9; stroke-width: 0px; fill: rgb(114, 183, 178); fill-opacity: 1;\"/><path class=\"point plotly-customdata\" transform=\"translate(710.13,71.53)\" d=\"M0,1.7l1.7,1.7l1.7,-1.7l-1.7,-1.7l1.7,-1.7l-1.7,-1.7l-1.7,1.7l-1.7,-1.7l-1.7,1.7l1.7,1.7l-1.7,1.7l1.7,1.7Z\" style=\"opacity: 0.9; stroke-width: 0px; fill: rgb(114, 183, 178); fill-opacity: 1;\"/><path class=\"point plotly-customdata\" transform=\"translate(720.19,65.97)\" d=\"M0,1.7l1.7,1.7l1.7,-1.7l-1.7,-1.7l1.7,-1.7l-1.7,-1.7l-1.7,1.7l-1.7,-1.7l-1.7,1.7l1.7,1.7l-1.7,1.7l1.7,1.7Z\" style=\"opacity: 0.9; stroke-width: 0px; fill: rgb(114, 183, 178); fill-opacity: 1;\"/><path class=\"point plotly-customdata\" transform=\"translate(724.02,61.09)\" d=\"M0,1.7l1.7,1.7l1.7,-1.7l-1.7,-1.7l1.7,-1.7l-1.7,-1.7l-1.7,1.7l-1.7,-1.7l-1.7,1.7l1.7,1.7l-1.7,1.7l1.7,1.7Z\" style=\"opacity: 0.9; stroke-width: 0px; fill: rgb(114, 183, 178); fill-opacity: 1;\"/><path class=\"point plotly-customdata\" transform=\"translate(729.71,57.12)\" d=\"M0,1.7l1.7,1.7l1.7,-1.7l-1.7,-1.7l1.7,-1.7l-1.7,-1.7l-1.7,1.7l-1.7,-1.7l-1.7,1.7l1.7,1.7l-1.7,1.7l1.7,1.7Z\" style=\"opacity: 0.9; stroke-width: 0px; fill: rgb(114, 183, 178); fill-opacity: 1;\"/><path class=\"point plotly-customdata\" transform=\"translate(734.18,53.71)\" d=\"M0,1.7l1.7,1.7l1.7,-1.7l-1.7,-1.7l1.7,-1.7l-1.7,-1.7l-1.7,1.7l-1.7,-1.7l-1.7,1.7l1.7,1.7l-1.7,1.7l1.7,1.7Z\" style=\"opacity: 0.9; stroke-width: 0px; fill: rgb(114, 183, 178); fill-opacity: 1;\"/><path class=\"point plotly-customdata\" transform=\"translate(739.61,49.69)\" d=\"M0,1.7l1.7,1.7l1.7,-1.7l-1.7,-1.7l1.7,-1.7l-1.7,-1.7l-1.7,1.7l-1.7,-1.7l-1.7,1.7l1.7,1.7l-1.7,1.7l1.7,1.7Z\" style=\"opacity: 0.9; stroke-width: 0px; fill: rgb(114, 183, 178); fill-opacity: 1;\"/><path class=\"point plotly-customdata\" transform=\"translate(743.79,46.63)\" d=\"M0,1.7l1.7,1.7l1.7,-1.7l-1.7,-1.7l1.7,-1.7l-1.7,-1.7l-1.7,1.7l-1.7,-1.7l-1.7,1.7l1.7,1.7l-1.7,1.7l1.7,1.7Z\" style=\"opacity: 0.9; stroke-width: 0px; fill: rgb(114, 183, 178); fill-opacity: 1;\"/><path class=\"point plotly-customdata\" transform=\"translate(748.26,43.6)\" d=\"M0,1.7l1.7,1.7l1.7,-1.7l-1.7,-1.7l1.7,-1.7l-1.7,-1.7l-1.7,1.7l-1.7,-1.7l-1.7,1.7l1.7,1.7l-1.7,1.7l1.7,1.7Z\" style=\"opacity: 0.9; stroke-width: 0px; fill: rgb(114, 183, 178); fill-opacity: 1;\"/><path class=\"point plotly-customdata\" transform=\"translate(753.17,40.29)\" d=\"M0,1.7l1.7,1.7l1.7,-1.7l-1.7,-1.7l1.7,-1.7l-1.7,-1.7l-1.7,1.7l-1.7,-1.7l-1.7,1.7l1.7,1.7l-1.7,1.7l1.7,1.7Z\" style=\"opacity: 0.9; stroke-width: 0px; fill: rgb(114, 183, 178); fill-opacity: 1;\"/><path class=\"point plotly-customdata\" transform=\"translate(757.99,37.21)\" d=\"M0,1.7l1.7,1.7l1.7,-1.7l-1.7,-1.7l1.7,-1.7l-1.7,-1.7l-1.7,1.7l-1.7,-1.7l-1.7,1.7l1.7,1.7l-1.7,1.7l1.7,1.7Z\" style=\"opacity: 0.9; stroke-width: 0px; fill: rgb(114, 183, 178); fill-opacity: 1;\"/><path class=\"point plotly-customdata\" transform=\"translate(761.61,35.04)\" d=\"M0,1.7l1.7,1.7l1.7,-1.7l-1.7,-1.7l1.7,-1.7l-1.7,-1.7l-1.7,1.7l-1.7,-1.7l-1.7,1.7l1.7,1.7l-1.7,1.7l1.7,1.7Z\" style=\"opacity: 0.9; stroke-width: 0px; fill: rgb(114, 183, 178); fill-opacity: 1;\"/><path class=\"point plotly-customdata\" transform=\"translate(764.99,32.93)\" d=\"M0,1.7l1.7,1.7l1.7,-1.7l-1.7,-1.7l1.7,-1.7l-1.7,-1.7l-1.7,1.7l-1.7,-1.7l-1.7,1.7l1.7,1.7l-1.7,1.7l1.7,1.7Z\" style=\"opacity: 0.9; stroke-width: 0px; fill: rgb(114, 183, 178); fill-opacity: 1;\"/><path class=\"point plotly-customdata\" transform=\"translate(768.3,31.06)\" d=\"M0,1.7l1.7,1.7l1.7,-1.7l-1.7,-1.7l1.7,-1.7l-1.7,-1.7l-1.7,1.7l-1.7,-1.7l-1.7,1.7l1.7,1.7l-1.7,1.7l1.7,1.7Z\" style=\"opacity: 0.9; stroke-width: 0px; fill: rgb(114, 183, 178); fill-opacity: 1;\"/><path class=\"point plotly-customdata\" transform=\"translate(772.34,28.83)\" d=\"M0,1.7l1.7,1.7l1.7,-1.7l-1.7,-1.7l1.7,-1.7l-1.7,-1.7l-1.7,1.7l-1.7,-1.7l-1.7,1.7l1.7,1.7l-1.7,1.7l1.7,1.7Z\" style=\"opacity: 0.9; stroke-width: 0px; fill: rgb(114, 183, 178); fill-opacity: 1;\"/><path class=\"point plotly-customdata\" transform=\"translate(776.3,26.72)\" d=\"M0,1.7l1.7,1.7l1.7,-1.7l-1.7,-1.7l1.7,-1.7l-1.7,-1.7l-1.7,1.7l-1.7,-1.7l-1.7,1.7l1.7,1.7l-1.7,1.7l1.7,1.7Z\" style=\"opacity: 0.9; stroke-width: 0px; fill: rgb(114, 183, 178); fill-opacity: 1;\"/><path class=\"point plotly-customdata\" transform=\"translate(780,24.75)\" d=\"M0,1.7l1.7,1.7l1.7,-1.7l-1.7,-1.7l1.7,-1.7l-1.7,-1.7l-1.7,1.7l-1.7,-1.7l-1.7,1.7l1.7,1.7l-1.7,1.7l1.7,1.7Z\" style=\"opacity: 0.9; stroke-width: 0px; fill: rgb(114, 183, 178); fill-opacity: 1;\"/></g><g class=\"text\"/></g><g class=\"trace scatter trace8bb4c8\" style=\"stroke-miterlimit: 2; opacity: 1;\"><g class=\"fills\"/><g class=\"errorbars\"/><g class=\"lines\"/><g class=\"points\"><path class=\"point plotly-customdata\" transform=\"translate(259.9,373.93)\" d=\"M3.6,1.2H1.2V3.6H-1.2V1.2H-3.6V-1.2H-1.2V-3.6H1.2V-1.2H3.6Z\" style=\"opacity: 0.9; stroke-width: 0px; fill: rgb(84, 162, 75); fill-opacity: 1;\"/><path class=\"point plotly-customdata\" transform=\"translate(267.15,361.46)\" d=\"M3.6,1.2H1.2V3.6H-1.2V1.2H-3.6V-1.2H-1.2V-3.6H1.2V-1.2H3.6Z\" style=\"opacity: 0.9; stroke-width: 0px; fill: rgb(84, 162, 75); fill-opacity: 1;\"/><path class=\"point plotly-customdata\" transform=\"translate(278.45,331.3)\" d=\"M3.6,1.2H1.2V3.6H-1.2V1.2H-3.6V-1.2H-1.2V-3.6H1.2V-1.2H3.6Z\" style=\"opacity: 0.9; stroke-width: 0px; fill: rgb(84, 162, 75); fill-opacity: 1;\"/><path class=\"point plotly-customdata\" transform=\"translate(285.44,327.67)\" d=\"M3.6,1.2H1.2V3.6H-1.2V1.2H-3.6V-1.2H-1.2V-3.6H1.2V-1.2H3.6Z\" style=\"opacity: 0.9; stroke-width: 0px; fill: rgb(84, 162, 75); fill-opacity: 1;\"/><path class=\"point plotly-customdata\" transform=\"translate(323.14,308.11)\" d=\"M3.6,1.2H1.2V3.6H-1.2V1.2H-3.6V-1.2H-1.2V-3.6H1.2V-1.2H3.6Z\" style=\"opacity: 0.9; stroke-width: 0px; fill: rgb(84, 162, 75); fill-opacity: 1;\"/><path class=\"point plotly-customdata\" transform=\"translate(328.39,290.64)\" d=\"M3.6,1.2H1.2V3.6H-1.2V1.2H-3.6V-1.2H-1.2V-3.6H1.2V-1.2H3.6Z\" style=\"opacity: 0.9; stroke-width: 0px; fill: rgb(84, 162, 75); fill-opacity: 1;\"/><path class=\"point plotly-customdata\" transform=\"translate(328.39,290.64)\" d=\"M3.6,1.2H1.2V3.6H-1.2V1.2H-3.6V-1.2H-1.2V-3.6H1.2V-1.2H3.6Z\" style=\"opacity: 0.9; stroke-width: 0px; fill: rgb(84, 162, 75); fill-opacity: 1;\"/><path class=\"point plotly-customdata\" transform=\"translate(386.37,278.17)\" d=\"M3.6,1.2H1.2V3.6H-1.2V1.2H-3.6V-1.2H-1.2V-3.6H1.2V-1.2H3.6Z\" style=\"opacity: 0.9; stroke-width: 0px; fill: rgb(84, 162, 75); fill-opacity: 1;\"/><path class=\"point plotly-customdata\" transform=\"translate(396.65,274.32)\" d=\"M3.6,1.2H1.2V3.6H-1.2V1.2H-3.6V-1.2H-1.2V-3.6H1.2V-1.2H3.6Z\" style=\"opacity: 0.9; stroke-width: 0px; fill: rgb(84, 162, 75); fill-opacity: 1;\"/><path class=\"point plotly-customdata\" transform=\"translate(438.84,265.93)\" d=\"M3.6,1.2H1.2V3.6H-1.2V1.2H-3.6V-1.2H-1.2V-3.6H1.2V-1.2H3.6Z\" style=\"opacity: 0.9; stroke-width: 0px; fill: rgb(84, 162, 75); fill-opacity: 1;\"/><path class=\"point plotly-customdata\" transform=\"translate(451.2,261.65)\" d=\"M3.6,1.2H1.2V3.6H-1.2V1.2H-3.6V-1.2H-1.2V-3.6H1.2V-1.2H3.6Z\" style=\"opacity: 0.9; stroke-width: 0px; fill: rgb(84, 162, 75); fill-opacity: 1;\"/><path class=\"point plotly-customdata\" transform=\"translate(474.41,255.52)\" d=\"M3.6,1.2H1.2V3.6H-1.2V1.2H-3.6V-1.2H-1.2V-3.6H1.2V-1.2H3.6Z\" style=\"opacity: 0.9; stroke-width: 0px; fill: rgb(84, 162, 75); fill-opacity: 1;\"/><path class=\"point plotly-customdata\" transform=\"translate(485.19,249.59)\" d=\"M3.6,1.2H1.2V3.6H-1.2V1.2H-3.6V-1.2H-1.2V-3.6H1.2V-1.2H3.6Z\" style=\"opacity: 0.9; stroke-width: 0px; fill: rgb(84, 162, 75); fill-opacity: 1;\"/><path class=\"point plotly-customdata\" transform=\"translate(495.54,240.74)\" d=\"M3.6,1.2H1.2V3.6H-1.2V1.2H-3.6V-1.2H-1.2V-3.6H1.2V-1.2H3.6Z\" style=\"opacity: 0.9; stroke-width: 0px; fill: rgb(84, 162, 75); fill-opacity: 1;\"/><path class=\"point plotly-customdata\" transform=\"translate(505.71,229.51)\" d=\"M3.6,1.2H1.2V3.6H-1.2V1.2H-3.6V-1.2H-1.2V-3.6H1.2V-1.2H3.6Z\" style=\"opacity: 0.9; stroke-width: 0px; fill: rgb(84, 162, 75); fill-opacity: 1;\"/><path class=\"point plotly-customdata\" transform=\"translate(511.53,224.95)\" d=\"M3.6,1.2H1.2V3.6H-1.2V1.2H-3.6V-1.2H-1.2V-3.6H1.2V-1.2H3.6Z\" style=\"opacity: 0.9; stroke-width: 0px; fill: rgb(84, 162, 75); fill-opacity: 1;\"/><path class=\"point plotly-customdata\" transform=\"translate(522.31,220.87)\" d=\"M3.6,1.2H1.2V3.6H-1.2V1.2H-3.6V-1.2H-1.2V-3.6H1.2V-1.2H3.6Z\" style=\"opacity: 0.9; stroke-width: 0px; fill: rgb(84, 162, 75); fill-opacity: 1;\"/><path class=\"point plotly-customdata\" transform=\"translate(532.73,211.68)\" d=\"M3.6,1.2H1.2V3.6H-1.2V1.2H-3.6V-1.2H-1.2V-3.6H1.2V-1.2H3.6Z\" style=\"opacity: 0.9; stroke-width: 0px; fill: rgb(84, 162, 75); fill-opacity: 1;\"/><path class=\"point plotly-customdata\" transform=\"translate(540.79,206.68)\" d=\"M3.6,1.2H1.2V3.6H-1.2V1.2H-3.6V-1.2H-1.2V-3.6H1.2V-1.2H3.6Z\" style=\"opacity: 0.9; stroke-width: 0px; fill: rgb(84, 162, 75); fill-opacity: 1;\"/><path class=\"point plotly-customdata\" transform=\"translate(550.45,198.3)\" d=\"M3.6,1.2H1.2V3.6H-1.2V1.2H-3.6V-1.2H-1.2V-3.6H1.2V-1.2H3.6Z\" style=\"opacity: 0.9; stroke-width: 0px; fill: rgb(84, 162, 75); fill-opacity: 1;\"/><path class=\"point plotly-customdata\" transform=\"translate(563.09,192.1)\" d=\"M3.6,1.2H1.2V3.6H-1.2V1.2H-3.6V-1.2H-1.2V-3.6H1.2V-1.2H3.6Z\" style=\"opacity: 0.9; stroke-width: 0px; fill: rgb(84, 162, 75); fill-opacity: 1;\"/><path class=\"point plotly-customdata\" transform=\"translate(571.39,186.38)\" d=\"M3.6,1.2H1.2V3.6H-1.2V1.2H-3.6V-1.2H-1.2V-3.6H1.2V-1.2H3.6Z\" style=\"opacity: 0.9; stroke-width: 0px; fill: rgb(84, 162, 75); fill-opacity: 1;\"/><path class=\"point plotly-customdata\" transform=\"translate(578.57,182.19)\" d=\"M3.6,1.2H1.2V3.6H-1.2V1.2H-3.6V-1.2H-1.2V-3.6H1.2V-1.2H3.6Z\" style=\"opacity: 0.9; stroke-width: 0px; fill: rgb(84, 162, 75); fill-opacity: 1;\"/><path class=\"point plotly-customdata\" transform=\"translate(584.66,175.93)\" d=\"M3.6,1.2H1.2V3.6H-1.2V1.2H-3.6V-1.2H-1.2V-3.6H1.2V-1.2H3.6Z\" style=\"opacity: 0.9; stroke-width: 0px; fill: rgb(84, 162, 75); fill-opacity: 1;\"/><path class=\"point plotly-customdata\" transform=\"translate(592.35,170.66)\" d=\"M3.6,1.2H1.2V3.6H-1.2V1.2H-3.6V-1.2H-1.2V-3.6H1.2V-1.2H3.6Z\" style=\"opacity: 0.9; stroke-width: 0px; fill: rgb(84, 162, 75); fill-opacity: 1;\"/><path class=\"point plotly-customdata\" transform=\"translate(600.1,166.37)\" d=\"M3.6,1.2H1.2V3.6H-1.2V1.2H-3.6V-1.2H-1.2V-3.6H1.2V-1.2H3.6Z\" style=\"opacity: 0.9; stroke-width: 0px; fill: rgb(84, 162, 75); fill-opacity: 1;\"/><path class=\"point plotly-customdata\" transform=\"translate(604.5,161.3)\" d=\"M3.6,1.2H1.2V3.6H-1.2V1.2H-3.6V-1.2H-1.2V-3.6H1.2V-1.2H3.6Z\" style=\"opacity: 0.9; stroke-width: 0px; fill: rgb(84, 162, 75); fill-opacity: 1;\"/><path class=\"point plotly-customdata\" transform=\"translate(611.64,155.78)\" d=\"M3.6,1.2H1.2V3.6H-1.2V1.2H-3.6V-1.2H-1.2V-3.6H1.2V-1.2H3.6Z\" style=\"opacity: 0.9; stroke-width: 0px; fill: rgb(84, 162, 75); fill-opacity: 1;\"/><path class=\"point plotly-customdata\" transform=\"translate(616.97,152.98)\" d=\"M3.6,1.2H1.2V3.6H-1.2V1.2H-3.6V-1.2H-1.2V-3.6H1.2V-1.2H3.6Z\" style=\"opacity: 0.9; stroke-width: 0px; fill: rgb(84, 162, 75); fill-opacity: 1;\"/><path class=\"point plotly-customdata\" transform=\"translate(618.97,150.29)\" d=\"M3.6,1.2H1.2V3.6H-1.2V1.2H-3.6V-1.2H-1.2V-3.6H1.2V-1.2H3.6Z\" style=\"opacity: 0.9; stroke-width: 0px; fill: rgb(84, 162, 75); fill-opacity: 1;\"/><path class=\"point plotly-customdata\" transform=\"translate(627.8,145.77)\" d=\"M3.6,1.2H1.2V3.6H-1.2V1.2H-3.6V-1.2H-1.2V-3.6H1.2V-1.2H3.6Z\" style=\"opacity: 0.9; stroke-width: 0px; fill: rgb(84, 162, 75); fill-opacity: 1;\"/><path class=\"point plotly-customdata\" transform=\"translate(631.63,143.02)\" d=\"M3.6,1.2H1.2V3.6H-1.2V1.2H-3.6V-1.2H-1.2V-3.6H1.2V-1.2H3.6Z\" style=\"opacity: 0.9; stroke-width: 0px; fill: rgb(84, 162, 75); fill-opacity: 1;\"/><path class=\"point plotly-customdata\" transform=\"translate(636.95,139.84)\" d=\"M3.6,1.2H1.2V3.6H-1.2V1.2H-3.6V-1.2H-1.2V-3.6H1.2V-1.2H3.6Z\" style=\"opacity: 0.9; stroke-width: 0px; fill: rgb(84, 162, 75); fill-opacity: 1;\"/><path class=\"point plotly-customdata\" transform=\"translate(640.74,136.48)\" d=\"M3.6,1.2H1.2V3.6H-1.2V1.2H-3.6V-1.2H-1.2V-3.6H1.2V-1.2H3.6Z\" style=\"opacity: 0.9; stroke-width: 0px; fill: rgb(84, 162, 75); fill-opacity: 1;\"/></g><g class=\"text\"/></g><g class=\"trace scatter trace84b9e3\" style=\"stroke-miterlimit: 2; opacity: 1;\"><g class=\"fills\"/><g class=\"errorbars\"/><g class=\"lines\"/><g class=\"points\"><path class=\"point plotly-customdata\" transform=\"translate(245.25,286.79)\" d=\"M3,0A3,3 0 1,1 0,-3A3,3 0 0,1 3,0Z\" style=\"opacity: 0.9; stroke-width: 0px; fill: rgb(238, 202, 59); fill-opacity: 1;\"/><path class=\"point plotly-customdata\" transform=\"translate(275.58,270.37)\" d=\"M3,0A3,3 0 1,1 0,-3A3,3 0 0,1 3,0Z\" style=\"opacity: 0.9; stroke-width: 0px; fill: rgb(238, 202, 59); fill-opacity: 1;\"/><path class=\"point plotly-customdata\" transform=\"translate(290.93,262.06)\" d=\"M3,0A3,3 0 1,1 0,-3A3,3 0 0,1 3,0Z\" style=\"opacity: 0.9; stroke-width: 0px; fill: rgb(238, 202, 59); fill-opacity: 1;\"/><path class=\"point plotly-customdata\" transform=\"translate(304.2,254.87)\" d=\"M3,0A3,3 0 1,1 0,-3A3,3 0 0,1 3,0Z\" style=\"opacity: 0.9; stroke-width: 0px; fill: rgb(238, 202, 59); fill-opacity: 1;\"/><path class=\"point plotly-customdata\" transform=\"translate(400.03,241.35)\" d=\"M3,0A3,3 0 1,1 0,-3A3,3 0 0,1 3,0Z\" style=\"opacity: 0.9; stroke-width: 0px; fill: rgb(238, 202, 59); fill-opacity: 1;\"/><path class=\"point plotly-customdata\" transform=\"translate(409.76,235.54)\" d=\"M3,0A3,3 0 1,1 0,-3A3,3 0 0,1 3,0Z\" style=\"opacity: 0.9; stroke-width: 0px; fill: rgb(238, 202, 59); fill-opacity: 1;\"/><path class=\"point plotly-customdata\" transform=\"translate(434.06,226.06)\" d=\"M3,0A3,3 0 1,1 0,-3A3,3 0 0,1 3,0Z\" style=\"opacity: 0.9; stroke-width: 0px; fill: rgb(238, 202, 59); fill-opacity: 1;\"/><path class=\"point plotly-customdata\" transform=\"translate(458.45,215.8)\" d=\"M3,0A3,3 0 1,1 0,-3A3,3 0 0,1 3,0Z\" style=\"opacity: 0.9; stroke-width: 0px; fill: rgb(238, 202, 59); fill-opacity: 1;\"/><path class=\"point plotly-customdata\" transform=\"translate(460.26,211.84)\" d=\"M3,0A3,3 0 1,1 0,-3A3,3 0 0,1 3,0Z\" style=\"opacity: 0.9; stroke-width: 0px; fill: rgb(238, 202, 59); fill-opacity: 1;\"/><path class=\"point plotly-customdata\" transform=\"translate(492.55,205.89)\" d=\"M3,0A3,3 0 1,1 0,-3A3,3 0 0,1 3,0Z\" style=\"opacity: 0.9; stroke-width: 0px; fill: rgb(238, 202, 59); fill-opacity: 1;\"/><path class=\"point plotly-customdata\" transform=\"translate(509.67,201.69)\" d=\"M3,0A3,3 0 1,1 0,-3A3,3 0 0,1 3,0Z\" style=\"opacity: 0.9; stroke-width: 0px; fill: rgb(238, 202, 59); fill-opacity: 1;\"/><path class=\"point plotly-customdata\" transform=\"translate(529.13,194.17)\" d=\"M3,0A3,3 0 1,1 0,-3A3,3 0 0,1 3,0Z\" style=\"opacity: 0.9; stroke-width: 0px; fill: rgb(238, 202, 59); fill-opacity: 1;\"/><path class=\"point plotly-customdata\" transform=\"translate(546.06,190.05)\" d=\"M3,0A3,3 0 1,1 0,-3A3,3 0 0,1 3,0Z\" style=\"opacity: 0.9; stroke-width: 0px; fill: rgb(238, 202, 59); fill-opacity: 1;\"/><path class=\"point plotly-customdata\" transform=\"translate(555.67,185.33)\" d=\"M3,0A3,3 0 1,1 0,-3A3,3 0 0,1 3,0Z\" style=\"opacity: 0.9; stroke-width: 0px; fill: rgb(238, 202, 59); fill-opacity: 1;\"/><path class=\"point plotly-customdata\" transform=\"translate(570.8,181.36)\" d=\"M3,0A3,3 0 1,1 0,-3A3,3 0 0,1 3,0Z\" style=\"opacity: 0.9; stroke-width: 0px; fill: rgb(238, 202, 59); fill-opacity: 1;\"/><path class=\"point plotly-customdata\" transform=\"translate(582.02,176.91)\" d=\"M3,0A3,3 0 1,1 0,-3A3,3 0 0,1 3,0Z\" style=\"opacity: 0.9; stroke-width: 0px; fill: rgb(238, 202, 59); fill-opacity: 1;\"/><path class=\"point plotly-customdata\" transform=\"translate(589.12,172.89)\" d=\"M3,0A3,3 0 1,1 0,-3A3,3 0 0,1 3,0Z\" style=\"opacity: 0.9; stroke-width: 0px; fill: rgb(238, 202, 59); fill-opacity: 1;\"/><path class=\"point plotly-customdata\" transform=\"translate(599.63,169.78)\" d=\"M3,0A3,3 0 1,1 0,-3A3,3 0 0,1 3,0Z\" style=\"opacity: 0.9; stroke-width: 0px; fill: rgb(238, 202, 59); fill-opacity: 1;\"/><path class=\"point plotly-customdata\" transform=\"translate(610.44,165.32)\" d=\"M3,0A3,3 0 1,1 0,-3A3,3 0 0,1 3,0Z\" style=\"opacity: 0.9; stroke-width: 0px; fill: rgb(238, 202, 59); fill-opacity: 1;\"/><path class=\"point plotly-customdata\" transform=\"translate(617.07,161.53)\" d=\"M3,0A3,3 0 1,1 0,-3A3,3 0 0,1 3,0Z\" style=\"opacity: 0.9; stroke-width: 0px; fill: rgb(238, 202, 59); fill-opacity: 1;\"/><path class=\"point plotly-customdata\" transform=\"translate(625.61,158.09)\" d=\"M3,0A3,3 0 1,1 0,-3A3,3 0 0,1 3,0Z\" style=\"opacity: 0.9; stroke-width: 0px; fill: rgb(238, 202, 59); fill-opacity: 1;\"/><path class=\"point plotly-customdata\" transform=\"translate(632.86,155.36)\" d=\"M3,0A3,3 0 1,1 0,-3A3,3 0 0,1 3,0Z\" style=\"opacity: 0.9; stroke-width: 0px; fill: rgb(238, 202, 59); fill-opacity: 1;\"/><path class=\"point plotly-customdata\" transform=\"translate(638.39,151.02)\" d=\"M3,0A3,3 0 1,1 0,-3A3,3 0 0,1 3,0Z\" style=\"opacity: 0.9; stroke-width: 0px; fill: rgb(238, 202, 59); fill-opacity: 1;\"/><path class=\"point plotly-customdata\" transform=\"translate(639.13,146.46)\" d=\"M3,0A3,3 0 1,1 0,-3A3,3 0 0,1 3,0Z\" style=\"opacity: 0.9; stroke-width: 0px; fill: rgb(238, 202, 59); fill-opacity: 1;\"/><path class=\"point plotly-customdata\" transform=\"translate(639.88,142.34)\" d=\"M3,0A3,3 0 1,1 0,-3A3,3 0 0,1 3,0Z\" style=\"opacity: 0.9; stroke-width: 0px; fill: rgb(238, 202, 59); fill-opacity: 1;\"/><path class=\"point plotly-customdata\" transform=\"translate(656.4,138.46)\" d=\"M3,0A3,3 0 1,1 0,-3A3,3 0 0,1 3,0Z\" style=\"opacity: 0.9; stroke-width: 0px; fill: rgb(238, 202, 59); fill-opacity: 1;\"/><path class=\"point plotly-customdata\" transform=\"translate(663.52,135.07)\" d=\"M3,0A3,3 0 1,1 0,-3A3,3 0 0,1 3,0Z\" style=\"opacity: 0.9; stroke-width: 0px; fill: rgb(238, 202, 59); fill-opacity: 1;\"/><path class=\"point plotly-customdata\" transform=\"translate(669.79,132.59)\" d=\"M3,0A3,3 0 1,1 0,-3A3,3 0 0,1 3,0Z\" style=\"opacity: 0.9; stroke-width: 0px; fill: rgb(238, 202, 59); fill-opacity: 1;\"/><path class=\"point plotly-customdata\" transform=\"translate(675.31,130)\" d=\"M3,0A3,3 0 1,1 0,-3A3,3 0 0,1 3,0Z\" style=\"opacity: 0.9; stroke-width: 0px; fill: rgb(238, 202, 59); fill-opacity: 1;\"/><path class=\"point plotly-customdata\" transform=\"translate(675.72,127.45)\" d=\"M3,0A3,3 0 1,1 0,-3A3,3 0 0,1 3,0Z\" style=\"opacity: 0.9; stroke-width: 0px; fill: rgb(238, 202, 59); fill-opacity: 1;\"/><path class=\"point plotly-customdata\" transform=\"translate(676.23,124.55)\" d=\"M3,0A3,3 0 1,1 0,-3A3,3 0 0,1 3,0Z\" style=\"opacity: 0.9; stroke-width: 0px; fill: rgb(238, 202, 59); fill-opacity: 1;\"/><path class=\"point plotly-customdata\" transform=\"translate(683.08,122.86)\" d=\"M3,0A3,3 0 1,1 0,-3A3,3 0 0,1 3,0Z\" style=\"opacity: 0.9; stroke-width: 0px; fill: rgb(238, 202, 59); fill-opacity: 1;\"/><path class=\"point plotly-customdata\" transform=\"translate(686.45,120.29)\" d=\"M3,0A3,3 0 1,1 0,-3A3,3 0 0,1 3,0Z\" style=\"opacity: 0.9; stroke-width: 0px; fill: rgb(238, 202, 59); fill-opacity: 1;\"/><path class=\"point plotly-customdata\" transform=\"translate(688.67,118.7)\" d=\"M3,0A3,3 0 1,1 0,-3A3,3 0 0,1 3,0Z\" style=\"opacity: 0.9; stroke-width: 0px; fill: rgb(238, 202, 59); fill-opacity: 1;\"/><path class=\"point plotly-customdata\" transform=\"translate(692.02,117.22)\" d=\"M3,0A3,3 0 1,1 0,-3A3,3 0 0,1 3,0Z\" style=\"opacity: 0.9; stroke-width: 0px; fill: rgb(238, 202, 59); fill-opacity: 1;\"/><path class=\"point plotly-customdata\" transform=\"translate(694.16,116)\" d=\"M3,0A3,3 0 1,1 0,-3A3,3 0 0,1 3,0Z\" style=\"opacity: 0.9; stroke-width: 0px; fill: rgb(238, 202, 59); fill-opacity: 1;\"/><path class=\"point plotly-customdata\" transform=\"translate(694.37,114.82)\" d=\"M3,0A3,3 0 1,1 0,-3A3,3 0 0,1 3,0Z\" style=\"opacity: 0.9; stroke-width: 0px; fill: rgb(238, 202, 59); fill-opacity: 1;\"/><path class=\"point plotly-customdata\" transform=\"translate(694.67,113.21)\" d=\"M3,0A3,3 0 1,1 0,-3A3,3 0 0,1 3,0Z\" style=\"opacity: 0.9; stroke-width: 0px; fill: rgb(238, 202, 59); fill-opacity: 1;\"/><path class=\"point plotly-customdata\" transform=\"translate(694.67,113.21)\" d=\"M3,0A3,3 0 1,1 0,-3A3,3 0 0,1 3,0Z\" style=\"opacity: 0.9; stroke-width: 0px; fill: rgb(238, 202, 59); fill-opacity: 1;\"/><path class=\"point plotly-customdata\" transform=\"translate(694.67,113.21)\" d=\"M3,0A3,3 0 1,1 0,-3A3,3 0 0,1 3,0Z\" style=\"opacity: 0.9; stroke-width: 0px; fill: rgb(238, 202, 59); fill-opacity: 1;\"/></g><g class=\"text\"/></g></g></g><g class=\"overplot\"/><path class=\"xlines-above crisp\" d=\"\" style=\"fill: none; stroke-width: 1px; stroke: rgb(0, 0, 0); stroke-opacity: 0;\"/><path class=\"ylines-above crisp\" d=\"\" style=\"fill: none; stroke-width: 1px; stroke: rgb(0, 0, 0); stroke-opacity: 0;\"/><g class=\"overlines-above\"/><g class=\"xaxislayer-above\"><path class=\"xtick ticks crisp\" d=\"M0,521v5\" transform=\"translate(85.64,0)\" style=\"stroke: rgb(51, 51, 51); stroke-opacity: 1; stroke-width: 1px;\"/><path class=\"xtick ticks crisp\" d=\"M0,521v5\" transform=\"translate(125,0)\" style=\"stroke: rgb(51, 51, 51); stroke-opacity: 1; stroke-width: 1px;\"/><path class=\"xtick ticks crisp\" d=\"M0,521v5\" transform=\"translate(164.36,0)\" style=\"stroke: rgb(51, 51, 51); stroke-opacity: 1; stroke-width: 1px;\"/><path class=\"xtick ticks crisp\" d=\"M0,521v5\" transform=\"translate(216.4,0)\" style=\"stroke: rgb(51, 51, 51); stroke-opacity: 1; stroke-width: 1px;\"/><path class=\"xtick ticks crisp\" d=\"M0,521v5\" transform=\"translate(255.76,0)\" style=\"stroke: rgb(51, 51, 51); stroke-opacity: 1; stroke-width: 1px;\"/><path class=\"xtick ticks crisp\" d=\"M0,521v5\" transform=\"translate(295.12,0)\" style=\"stroke: rgb(51, 51, 51); stroke-opacity: 1; stroke-width: 1px;\"/><path class=\"xtick ticks crisp\" d=\"M0,521v5\" transform=\"translate(347.15,0)\" style=\"stroke: rgb(51, 51, 51); stroke-opacity: 1; stroke-width: 1px;\"/><path class=\"xtick ticks crisp\" d=\"M0,521v5\" transform=\"translate(386.52,0)\" style=\"stroke: rgb(51, 51, 51); stroke-opacity: 1; stroke-width: 1px;\"/><path class=\"xtick ticks crisp\" d=\"M0,521v5\" transform=\"translate(425.88,0)\" style=\"stroke: rgb(51, 51, 51); stroke-opacity: 1; stroke-width: 1px;\"/><path class=\"xtick ticks crisp\" d=\"M0,521v5\" transform=\"translate(477.91,0)\" style=\"stroke: rgb(51, 51, 51); stroke-opacity: 1; stroke-width: 1px;\"/><path class=\"xtick ticks crisp\" d=\"M0,521v5\" transform=\"translate(517.27,0)\" style=\"stroke: rgb(51, 51, 51); stroke-opacity: 1; stroke-width: 1px;\"/><path class=\"xtick ticks crisp\" d=\"M0,521v5\" transform=\"translate(556.64,0)\" style=\"stroke: rgb(51, 51, 51); stroke-opacity: 1; stroke-width: 1px;\"/><path class=\"xtick ticks crisp\" d=\"M0,521v5\" transform=\"translate(608.67,0)\" style=\"stroke: rgb(51, 51, 51); stroke-opacity: 1; stroke-width: 1px;\"/><path class=\"xtick ticks crisp\" d=\"M0,521v5\" transform=\"translate(648.03,0)\" style=\"stroke: rgb(51, 51, 51); stroke-opacity: 1; stroke-width: 1px;\"/><path class=\"xtick ticks crisp\" d=\"M0,521v5\" transform=\"translate(687.4,0)\" style=\"stroke: rgb(51, 51, 51); stroke-opacity: 1; stroke-width: 1px;\"/><path class=\"xtick ticks crisp\" d=\"M0,521v5\" transform=\"translate(739.43,0)\" style=\"stroke: rgb(51, 51, 51); stroke-opacity: 1; stroke-width: 1px;\"/><path class=\"xtick ticks crisp\" d=\"M0,521v5\" transform=\"translate(778.79,0)\" style=\"stroke: rgb(51, 51, 51); stroke-opacity: 1; stroke-width: 1px;\"/><path class=\"xtick ticks crisp\" d=\"M0,521v5\" transform=\"translate(818.15,0)\" style=\"stroke: rgb(51, 51, 51); stroke-opacity: 1; stroke-width: 1px;\"/><path class=\"xtick ticks crisp\" d=\"M0,521v5\" transform=\"translate(870.19,0)\" style=\"stroke: rgb(51, 51, 51); stroke-opacity: 1; stroke-width: 1px;\"/><g class=\"xtick\"><text text-anchor=\"middle\" x=\"0\" y=\"537.4\" transform=\"translate(85.64,0)\" style=\"font-family: 'Open Sans', verdana, arial, sans-serif; font-size: 9px; fill: rgb(51, 51, 51); fill-opacity: 1; white-space: pre;\">5</text></g><g class=\"xtick\"><text text-anchor=\"middle\" x=\"0\" y=\"540.4\" transform=\"translate(125,0)\" style=\"font-family: 'Open Sans', verdana, arial, sans-serif; font-size: 12px; fill: rgb(51, 51, 51); fill-opacity: 1; white-space: pre;\">1</text></g><g class=\"xtick\"><text text-anchor=\"middle\" x=\"0\" y=\"537.4\" transform=\"translate(164.36,0)\" style=\"font-family: 'Open Sans', verdana, arial, sans-serif; font-size: 9px; fill: rgb(51, 51, 51); fill-opacity: 1; white-space: pre;\">2</text></g><g class=\"xtick\"><text text-anchor=\"middle\" x=\"0\" y=\"537.4\" transform=\"translate(216.4,0)\" style=\"font-family: 'Open Sans', verdana, arial, sans-serif; font-size: 9px; fill: rgb(51, 51, 51); fill-opacity: 1; white-space: pre;\">5</text></g><g class=\"xtick\"><text text-anchor=\"middle\" x=\"0\" y=\"540.4\" transform=\"translate(255.76,0)\" style=\"font-family: 'Open Sans', verdana, arial, sans-serif; font-size: 12px; fill: rgb(51, 51, 51); fill-opacity: 1; white-space: pre;\">10</text></g><g class=\"xtick\"><text text-anchor=\"middle\" x=\"0\" y=\"537.4\" transform=\"translate(295.12,0)\" style=\"font-family: 'Open Sans', verdana, arial, sans-serif; font-size: 9px; fill: rgb(51, 51, 51); fill-opacity: 1; white-space: pre;\">2</text></g><g class=\"xtick\"><text text-anchor=\"middle\" x=\"0\" y=\"537.4\" transform=\"translate(347.15,0)\" style=\"font-family: 'Open Sans', verdana, arial, sans-serif; font-size: 9px; fill: rgb(51, 51, 51); fill-opacity: 1; white-space: pre;\">5</text></g><g class=\"xtick\"><text text-anchor=\"middle\" x=\"0\" y=\"540.4\" transform=\"translate(386.52,0)\" style=\"font-family: 'Open Sans', verdana, arial, sans-serif; font-size: 12px; fill: rgb(51, 51, 51); fill-opacity: 1; white-space: pre;\">100</text></g><g class=\"xtick\"><text text-anchor=\"middle\" x=\"0\" y=\"537.4\" transform=\"translate(425.88,0)\" style=\"font-family: 'Open Sans', verdana, arial, sans-serif; font-size: 9px; fill: rgb(51, 51, 51); fill-opacity: 1; white-space: pre;\">2</text></g><g class=\"xtick\"><text text-anchor=\"middle\" x=\"0\" y=\"537.4\" transform=\"translate(477.91,0)\" style=\"font-family: 'Open Sans', verdana, arial, sans-serif; font-size: 9px; fill: rgb(51, 51, 51); fill-opacity: 1; white-space: pre;\">5</text></g><g class=\"xtick\"><text text-anchor=\"middle\" x=\"0\" y=\"540.4\" transform=\"translate(517.27,0)\" style=\"font-family: 'Open Sans', verdana, arial, sans-serif; font-size: 12px; fill: rgb(51, 51, 51); fill-opacity: 1; white-space: pre;\">1000</text></g><g class=\"xtick\"><text text-anchor=\"middle\" x=\"0\" y=\"537.4\" transform=\"translate(556.64,0)\" style=\"font-family: 'Open Sans', verdana, arial, sans-serif; font-size: 9px; fill: rgb(51, 51, 51); fill-opacity: 1; white-space: pre;\">2</text></g><g class=\"xtick\"><text text-anchor=\"middle\" x=\"0\" y=\"537.4\" transform=\"translate(608.67,0)\" style=\"font-family: 'Open Sans', verdana, arial, sans-serif; font-size: 9px; fill: rgb(51, 51, 51); fill-opacity: 1; white-space: pre;\">5</text></g><g class=\"xtick\"><text text-anchor=\"middle\" x=\"0\" y=\"540.4\" transform=\"translate(648.03,0)\" style=\"font-family: 'Open Sans', verdana, arial, sans-serif; font-size: 12px; fill: rgb(51, 51, 51); fill-opacity: 1; white-space: pre;\">10k</text></g><g class=\"xtick\"><text text-anchor=\"middle\" x=\"0\" y=\"537.4\" transform=\"translate(687.4,0)\" style=\"font-family: 'Open Sans', verdana, arial, sans-serif; font-size: 9px; fill: rgb(51, 51, 51); fill-opacity: 1; white-space: pre;\">2</text></g><g class=\"xtick\"><text text-anchor=\"middle\" x=\"0\" y=\"537.4\" transform=\"translate(739.43,0)\" style=\"font-family: 'Open Sans', verdana, arial, sans-serif; font-size: 9px; fill: rgb(51, 51, 51); fill-opacity: 1; white-space: pre;\">5</text></g><g class=\"xtick\"><text text-anchor=\"middle\" x=\"0\" y=\"540.4\" transform=\"translate(778.79,0)\" style=\"font-family: 'Open Sans', verdana, arial, sans-serif; font-size: 12px; fill: rgb(51, 51, 51); fill-opacity: 1; white-space: pre;\">100k</text></g><g class=\"xtick\"><text text-anchor=\"middle\" x=\"0\" y=\"537.4\" transform=\"translate(818.15,0)\" style=\"font-family: 'Open Sans', verdana, arial, sans-serif; font-size: 9px; fill: rgb(51, 51, 51); fill-opacity: 1; white-space: pre;\">2</text></g><g class=\"xtick\"><text text-anchor=\"middle\" x=\"0\" y=\"537.4\" transform=\"translate(870.19,0)\" style=\"font-family: 'Open Sans', verdana, arial, sans-serif; font-size: 9px; fill: rgb(51, 51, 51); fill-opacity: 1; white-space: pre;\">5</text></g></g><g class=\"yaxislayer-above\"><path class=\"ytick ticks crisp\" d=\"M79,0h-5\" transform=\"translate(0,516.5699999999999)\" style=\"stroke: rgb(51, 51, 51); stroke-opacity: 1; stroke-width: 1px;\"/><path class=\"ytick ticks crisp\" d=\"M79,0h-5\" transform=\"translate(0,495.25)\" style=\"stroke: rgb(51, 51, 51); stroke-opacity: 1; stroke-width: 1px;\"/><path class=\"ytick ticks crisp\" d=\"M79,0h-5\" transform=\"translate(0,473.93)\" style=\"stroke: rgb(51, 51, 51); stroke-opacity: 1; stroke-width: 1px;\"/><path class=\"ytick ticks crisp\" d=\"M79,0h-5\" transform=\"translate(0,445.75)\" style=\"stroke: rgb(51, 51, 51); stroke-opacity: 1; stroke-width: 1px;\"/><path class=\"ytick ticks crisp\" d=\"M79,0h-5\" transform=\"translate(0,424.43)\" style=\"stroke: rgb(51, 51, 51); stroke-opacity: 1; stroke-width: 1px;\"/><path class=\"ytick ticks crisp\" d=\"M79,0h-5\" transform=\"translate(0,403.11)\" style=\"stroke: rgb(51, 51, 51); stroke-opacity: 1; stroke-width: 1px;\"/><path class=\"ytick ticks crisp\" d=\"M79,0h-5\" transform=\"translate(0,374.93)\" style=\"stroke: rgb(51, 51, 51); stroke-opacity: 1; stroke-width: 1px;\"/><path class=\"ytick ticks crisp\" d=\"M79,0h-5\" transform=\"translate(0,353.61)\" style=\"stroke: rgb(51, 51, 51); stroke-opacity: 1; stroke-width: 1px;\"/><path class=\"ytick ticks crisp\" d=\"M79,0h-5\" transform=\"translate(0,332.3)\" style=\"stroke: rgb(51, 51, 51); stroke-opacity: 1; stroke-width: 1px;\"/><path class=\"ytick ticks crisp\" d=\"M79,0h-5\" transform=\"translate(0,304.12)\" style=\"stroke: rgb(51, 51, 51); stroke-opacity: 1; stroke-width: 1px;\"/><path class=\"ytick ticks crisp\" d=\"M79,0h-5\" transform=\"translate(0,282.8)\" style=\"stroke: rgb(51, 51, 51); stroke-opacity: 1; stroke-width: 1px;\"/><path class=\"ytick ticks crisp\" d=\"M79,0h-5\" transform=\"translate(0,261.48)\" style=\"stroke: rgb(51, 51, 51); stroke-opacity: 1; stroke-width: 1px;\"/><path class=\"ytick ticks crisp\" d=\"M79,0h-5\" transform=\"translate(0,233.3)\" style=\"stroke: rgb(51, 51, 51); stroke-opacity: 1; stroke-width: 1px;\"/><path class=\"ytick ticks crisp\" d=\"M79,0h-5\" transform=\"translate(0,211.98000000000002)\" style=\"stroke: rgb(51, 51, 51); stroke-opacity: 1; stroke-width: 1px;\"/><path class=\"ytick ticks crisp\" d=\"M79,0h-5\" transform=\"translate(0,190.66)\" style=\"stroke: rgb(51, 51, 51); stroke-opacity: 1; stroke-width: 1px;\"/><path class=\"ytick ticks crisp\" d=\"M79,0h-5\" transform=\"translate(0,162.48)\" style=\"stroke: rgb(51, 51, 51); stroke-opacity: 1; stroke-width: 1px;\"/><path class=\"ytick ticks crisp\" d=\"M79,0h-5\" transform=\"translate(0,141.16)\" style=\"stroke: rgb(51, 51, 51); stroke-opacity: 1; stroke-width: 1px;\"/><path class=\"ytick ticks crisp\" d=\"M79,0h-5\" transform=\"translate(0,119.84)\" style=\"stroke: rgb(51, 51, 51); stroke-opacity: 1; stroke-width: 1px;\"/><g class=\"ytick\"><text text-anchor=\"end\" x=\"71.6\" y=\"3.15\" transform=\"translate(0,516.5699999999999)\" style=\"font-family: 'Open Sans', verdana, arial, sans-serif; font-size: 9px; fill: rgb(51, 51, 51); fill-opacity: 1; white-space: pre;\">5</text></g><g class=\"ytick\"><text text-anchor=\"end\" x=\"71.6\" y=\"4.199999999999999\" transform=\"translate(0,495.25)\" style=\"font-family: 'Open Sans', verdana, arial, sans-serif; font-size: 12px; fill: rgb(51, 51, 51); fill-opacity: 1; white-space: pre;\">1</text></g><g class=\"ytick\"><text text-anchor=\"end\" x=\"71.6\" y=\"3.15\" transform=\"translate(0,473.93)\" style=\"font-family: 'Open Sans', verdana, arial, sans-serif; font-size: 9px; fill: rgb(51, 51, 51); fill-opacity: 1; white-space: pre;\">2</text></g><g class=\"ytick\"><text text-anchor=\"end\" x=\"71.6\" y=\"3.15\" transform=\"translate(0,445.75)\" style=\"font-family: 'Open Sans', verdana, arial, sans-serif; font-size: 9px; fill: rgb(51, 51, 51); fill-opacity: 1; white-space: pre;\">5</text></g><g class=\"ytick\"><text text-anchor=\"end\" x=\"71.6\" y=\"4.199999999999999\" transform=\"translate(0,424.43)\" style=\"font-family: 'Open Sans', verdana, arial, sans-serif; font-size: 12px; fill: rgb(51, 51, 51); fill-opacity: 1; white-space: pre;\">10</text></g><g class=\"ytick\"><text text-anchor=\"end\" x=\"71.6\" y=\"3.15\" transform=\"translate(0,403.11)\" style=\"font-family: 'Open Sans', verdana, arial, sans-serif; font-size: 9px; fill: rgb(51, 51, 51); fill-opacity: 1; white-space: pre;\">2</text></g><g class=\"ytick\"><text text-anchor=\"end\" x=\"71.6\" y=\"3.15\" transform=\"translate(0,374.93)\" style=\"font-family: 'Open Sans', verdana, arial, sans-serif; font-size: 9px; fill: rgb(51, 51, 51); fill-opacity: 1; white-space: pre;\">5</text></g><g class=\"ytick\"><text text-anchor=\"end\" x=\"71.6\" y=\"4.199999999999999\" transform=\"translate(0,353.61)\" style=\"font-family: 'Open Sans', verdana, arial, sans-serif; font-size: 12px; fill: rgb(51, 51, 51); fill-opacity: 1; white-space: pre;\">100</text></g><g class=\"ytick\"><text text-anchor=\"end\" x=\"71.6\" y=\"3.15\" transform=\"translate(0,332.3)\" style=\"font-family: 'Open Sans', verdana, arial, sans-serif; font-size: 9px; fill: rgb(51, 51, 51); fill-opacity: 1; white-space: pre;\">2</text></g><g class=\"ytick\"><text text-anchor=\"end\" x=\"71.6\" y=\"3.15\" transform=\"translate(0,304.12)\" style=\"font-family: 'Open Sans', verdana, arial, sans-serif; font-size: 9px; fill: rgb(51, 51, 51); fill-opacity: 1; white-space: pre;\">5</text></g><g class=\"ytick\"><text text-anchor=\"end\" x=\"71.6\" y=\"4.199999999999999\" transform=\"translate(0,282.8)\" style=\"font-family: 'Open Sans', verdana, arial, sans-serif; font-size: 12px; fill: rgb(51, 51, 51); fill-opacity: 1; white-space: pre;\">1000</text></g><g class=\"ytick\"><text text-anchor=\"end\" x=\"71.6\" y=\"3.15\" transform=\"translate(0,261.48)\" style=\"font-family: 'Open Sans', verdana, arial, sans-serif; font-size: 9px; fill: rgb(51, 51, 51); fill-opacity: 1; white-space: pre;\">2</text></g><g class=\"ytick\"><text text-anchor=\"end\" x=\"71.6\" y=\"3.15\" transform=\"translate(0,233.3)\" style=\"font-family: 'Open Sans', verdana, arial, sans-serif; font-size: 9px; fill: rgb(51, 51, 51); fill-opacity: 1; white-space: pre;\">5</text></g><g class=\"ytick\"><text text-anchor=\"end\" x=\"71.6\" y=\"4.199999999999999\" transform=\"translate(0,211.98000000000002)\" style=\"font-family: 'Open Sans', verdana, arial, sans-serif; font-size: 12px; fill: rgb(51, 51, 51); fill-opacity: 1; white-space: pre;\">10k</text></g><g class=\"ytick\"><text text-anchor=\"end\" x=\"71.6\" y=\"3.15\" transform=\"translate(0,190.66)\" style=\"font-family: 'Open Sans', verdana, arial, sans-serif; font-size: 9px; fill: rgb(51, 51, 51); fill-opacity: 1; white-space: pre;\">2</text></g><g class=\"ytick\"><text text-anchor=\"end\" x=\"71.6\" y=\"3.15\" transform=\"translate(0,162.48)\" style=\"font-family: 'Open Sans', verdana, arial, sans-serif; font-size: 9px; fill: rgb(51, 51, 51); fill-opacity: 1; white-space: pre;\">5</text></g><g class=\"ytick\"><text text-anchor=\"end\" x=\"71.6\" y=\"4.199999999999999\" transform=\"translate(0,141.16)\" style=\"font-family: 'Open Sans', verdana, arial, sans-serif; font-size: 12px; fill: rgb(51, 51, 51); fill-opacity: 1; white-space: pre;\">100k</text></g><g class=\"ytick\"><text text-anchor=\"end\" x=\"71.6\" y=\"3.15\" transform=\"translate(0,119.84)\" style=\"font-family: 'Open Sans', verdana, arial, sans-serif; font-size: 9px; fill: rgb(51, 51, 51); fill-opacity: 1; white-space: pre;\">2</text></g></g><g class=\"overaxes-above\"/></g></g><g class=\"polarlayer\"/><g class=\"ternarylayer\"/><g class=\"geolayer\"/><g class=\"funnelarealayer\"/><g class=\"pielayer\"/><g class=\"treemaplayer\"/><g class=\"sunburstlayer\"/><g class=\"glimages\"/><defs id=\"topdefs-e7f7d3\"><g class=\"clips\"/><clipPath id=\"legende7f7d3\"><rect width=\"66\" height=\"140\" x=\"0\" y=\"0\"/></clipPath></defs><g class=\"layer-above\"><g class=\"imagelayer\"/><g class=\"shapelayer\"/></g><g class=\"infolayer\"><g class=\"legend\" pointer-events=\"all\" transform=\"translate(921.5, 100)\"><rect class=\"bg\" shape-rendering=\"crispEdges\" width=\"66\" height=\"140\" x=\"0\" y=\"0\" style=\"stroke: rgb(68, 68, 68); stroke-opacity: 1; fill: rgb(255, 255, 255); fill-opacity: 1; stroke-width: 0px;\"/><g class=\"scrollbox\" transform=\"translate(0, 0)\" clip-path=\"url('#legende7f7d3')\"><text class=\"legendtitletext user-select-none\" text-anchor=\"start\" x=\"2\" y=\"15.600000000000001\" style=\"font-family: 'Open Sans', verdana, arial, sans-serif; font-size: 12px; fill: rgb(51, 51, 51); fill-opacity: 1; white-space: pre;\">State</text><g class=\"groups\" transform=\"translate(0, 0)\"><g class=\"traces\" transform=\"translate(0, 30.1)\" style=\"opacity: 1;\"><text class=\"legendtext user-select-none\" text-anchor=\"start\" x=\"40\" y=\"4.680000000000001\" style=\"font-family: 'Open Sans', verdana, arial, sans-serif; font-size: 12px; fill: rgb(51, 51, 51); fill-opacity: 1; white-space: pre;\">FL</text><g class=\"layers\" style=\"opacity: 1;\"><g class=\"legendfill\"/><g class=\"legendlines\"/><g class=\"legendsymbols\"><g class=\"legendpoints\"><path class=\"scatterpts\" transform=\"translate(20,0)\" d=\"M3,0A3,3 0 1,1 0,-3A3,3 0 0,1 3,0Z\" style=\"opacity: 0.9; stroke-width: 0px; fill: rgb(76, 120, 168); fill-opacity: 1;\"/></g></g></g><rect class=\"legendtoggle\" pointer-events=\"all\" x=\"0\" y=\"-9.5\" width=\"60.078125\" height=\"19\" style=\"cursor: pointer; fill: rgb(0, 0, 0); fill-opacity: 0;\"/></g></g><g class=\"groups\" transform=\"translate(0, 0)\"><g class=\"traces\" transform=\"translate(0, 49.1)\" style=\"opacity: 1;\"><text class=\"legendtext user-select-none\" text-anchor=\"start\" x=\"40\" y=\"4.680000000000001\" style=\"font-family: 'Open Sans', verdana, arial, sans-serif; font-size: 12px; fill: rgb(51, 51, 51); fill-opacity: 1; white-space: pre;\">LA</text><g class=\"layers\" style=\"opacity: 1;\"><g class=\"legendfill\"/><g class=\"legendlines\"/><g class=\"legendsymbols\"><g class=\"legendpoints\"><path class=\"scatterpts\" transform=\"translate(20,0)\" d=\"M3.9,0L0,3.9L-3.9,0L0,-3.9Z\" style=\"opacity: 0.9; stroke-width: 0px; fill: rgb(245, 133, 24); fill-opacity: 1;\"/></g></g></g><rect class=\"legendtoggle\" pointer-events=\"all\" x=\"0\" y=\"-9.5\" width=\"60.078125\" height=\"19\" style=\"cursor: pointer; fill: rgb(0, 0, 0); fill-opacity: 0;\"/></g></g><g class=\"groups\" transform=\"translate(0, 0)\"><g class=\"traces\" transform=\"translate(0, 68.1)\" style=\"opacity: 1;\"><text class=\"legendtext user-select-none\" text-anchor=\"start\" x=\"40\" y=\"4.680000000000001\" style=\"font-family: 'Open Sans', verdana, arial, sans-serif; font-size: 12px; fill: rgb(51, 51, 51); fill-opacity: 1; white-space: pre;\">NJ</text><g class=\"layers\" style=\"opacity: 1;\"><g class=\"legendfill\"/><g class=\"legendlines\"/><g class=\"legendsymbols\"><g class=\"legendpoints\"><path class=\"scatterpts\" transform=\"translate(20,0)\" d=\"M3,3H-3V-3H3Z\" style=\"opacity: 0.9; stroke-width: 0px; fill: rgb(228, 87, 86); fill-opacity: 1;\"/></g></g></g><rect class=\"legendtoggle\" pointer-events=\"all\" x=\"0\" y=\"-9.5\" width=\"60.078125\" height=\"19\" style=\"cursor: pointer; fill: rgb(0, 0, 0); fill-opacity: 0;\"/></g></g><g class=\"groups\" transform=\"translate(0, 0)\"><g class=\"traces\" transform=\"translate(0, 87.1)\" style=\"opacity: 1;\"><text class=\"legendtext user-select-none\" text-anchor=\"start\" x=\"40\" y=\"4.680000000000001\" style=\"font-family: 'Open Sans', verdana, arial, sans-serif; font-size: 12px; fill: rgb(51, 51, 51); fill-opacity: 1; white-space: pre;\">NY</text><g class=\"layers\" style=\"opacity: 1;\"><g class=\"legendfill\"/><g class=\"legendlines\"/><g class=\"legendsymbols\"><g class=\"legendpoints\"><path class=\"scatterpts\" transform=\"translate(20,0)\" d=\"M0,1.7l1.7,1.7l1.7,-1.7l-1.7,-1.7l1.7,-1.7l-1.7,-1.7l-1.7,1.7l-1.7,-1.7l-1.7,1.7l1.7,1.7l-1.7,1.7l1.7,1.7Z\" style=\"opacity: 0.9; stroke-width: 0px; fill: rgb(114, 183, 178); fill-opacity: 1;\"/></g></g></g><rect class=\"legendtoggle\" pointer-events=\"all\" x=\"0\" y=\"-9.5\" width=\"60.078125\" height=\"19\" style=\"cursor: pointer; fill: rgb(0, 0, 0); fill-opacity: 0;\"/></g></g><g class=\"groups\" transform=\"translate(0, 0)\"><g class=\"traces\" transform=\"translate(0, 106.1)\" style=\"opacity: 1;\"><text class=\"legendtext user-select-none\" text-anchor=\"start\" x=\"40\" y=\"4.680000000000001\" style=\"font-family: 'Open Sans', verdana, arial, sans-serif; font-size: 12px; fill: rgb(51, 51, 51); fill-opacity: 1; white-space: pre;\">VA</text><g class=\"layers\" style=\"opacity: 1;\"><g class=\"legendfill\"/><g class=\"legendlines\"/><g class=\"legendsymbols\"><g class=\"legendpoints\"><path class=\"scatterpts\" transform=\"translate(20,0)\" d=\"M3.6,1.2H1.2V3.6H-1.2V1.2H-3.6V-1.2H-1.2V-3.6H1.2V-1.2H3.6Z\" style=\"opacity: 0.9; stroke-width: 0px; fill: rgb(84, 162, 75); fill-opacity: 1;\"/></g></g></g><rect class=\"legendtoggle\" pointer-events=\"all\" x=\"0\" y=\"-9.5\" width=\"60.078125\" height=\"19\" style=\"cursor: pointer; fill: rgb(0, 0, 0); fill-opacity: 0;\"/></g></g><g class=\"groups\" transform=\"translate(0, 0)\"><g class=\"traces\" transform=\"translate(0, 125.1)\" style=\"opacity: 1;\"><text class=\"legendtext user-select-none\" text-anchor=\"start\" x=\"40\" y=\"4.680000000000001\" style=\"font-family: 'Open Sans', verdana, arial, sans-serif; font-size: 12px; fill: rgb(51, 51, 51); fill-opacity: 1; white-space: pre;\">WA</text><g class=\"layers\" style=\"opacity: 1;\"><g class=\"legendfill\"/><g class=\"legendlines\"/><g class=\"legendsymbols\"><g class=\"legendpoints\"><path class=\"scatterpts\" transform=\"translate(20,0)\" d=\"M3,0A3,3 0 1,1 0,-3A3,3 0 0,1 3,0Z\" style=\"opacity: 0.9; stroke-width: 0px; fill: rgb(238, 202, 59); fill-opacity: 1;\"/></g></g></g><rect class=\"legendtoggle\" pointer-events=\"all\" x=\"0\" y=\"-9.5\" width=\"60.078125\" height=\"19\" style=\"cursor: pointer; fill: rgb(0, 0, 0); fill-opacity: 0;\"/></g></g></g><rect class=\"scrollbar\" rx=\"20\" ry=\"3\" width=\"0\" height=\"0\" x=\"0\" y=\"0\" style=\"fill: rgb(128, 139, 164); fill-opacity: 1;\"/></g><g class=\"g-gtitle\"><text class=\"gtitle\" x=\"500\" y=\"50\" text-anchor=\"middle\" dy=\"0em\" style=\"font-family: 'Open Sans', verdana, arial, sans-serif; font-size: 17px; fill: rgb(51, 51, 51); opacity: 1; font-weight: normal; white-space: pre;\">Cumulative Positive to Total RT-PCR Test Ratio</text></g><g class=\"g-xtitle\"><text class=\"xtitle\" x=\"492.5\" y=\"567.70625\" text-anchor=\"middle\" style=\"font-family: 'Open Sans', verdana, arial, sans-serif; font-size: 14px; fill: rgb(51, 51, 51); opacity: 1; font-weight: normal; white-space: pre;\">Total</text></g><g class=\"g-ytitle\"><text class=\"ytitle\" transform=\"rotate(-90,16.278125000000003,310)\" x=\"16.278125000000003\" y=\"310\" text-anchor=\"middle\" style=\"font-family: 'Open Sans', verdana, arial, sans-serif; font-size: 14px; fill: rgb(51, 51, 51); opacity: 1; font-weight: normal; white-space: pre;\">Positive</text></g></g></svg>"
      ]
     },
     "metadata": {},
     "output_type": "display_data"
    }
   ],
   "source": [
    "states = ['NY', 'NJ', 'WA', 'VA', 'FL', 'LA']\n",
    "fig = px.scatter(data_frame=df_testing.loc[df_testing.State.isin(states)].loc[df_testing.Date > pd.to_datetime('2020-03-01')],\n",
    "                 x='Total', y='Positive', color='State', symbol='State', opacity=.9, \n",
    "                 color_discrete_sequence=px.colors.qualitative.T10,\n",
    "                 log_x=True, log_y=True, \n",
    "                 title='Cumulative Positive to Total RT-PCR Test Ratio',\n",
    "                 hover_name='Date', hover_data=['Positive','Total', 'Negative', 'State'],\n",
    "                 template='ggplot2', \n",
    "                )\n",
    "fig.show(width=1000, height=600,\n",
    "         renderer='svg', # Leave this commented out for an interactive plot\n",
    "        )"
   ]
  },
  {
   "cell_type": "markdown",
   "metadata": {},
   "source": [
    "We could also look at the first difference of the cumulative positive and total test data (think derivative, but instead of $dy/dt$, we've got $y_t - y_{t-1}$. This may be a lot more sensitive to noise at the lower value counts, but can still be helpful in showing how the positive detection for a state has changed over time."
   ]
  },
  {
   "cell_type": "code",
   "execution_count": 36,
   "metadata": {
    "scrolled": false
   },
   "outputs": [
    {
     "data": {
      "image/svg+xml": [
       "<svg class=\"main-svg\" xmlns=\"http://www.w3.org/2000/svg\" xmlns:xlink=\"http://www.w3.org/1999/xlink\" width=\"1000\" height=\"600\" style=\"\" viewBox=\"0 0 1000 600\"><rect x=\"0\" y=\"0\" width=\"1000\" height=\"600\" style=\"fill: rgb(255, 255, 255); fill-opacity: 1;\"/><defs id=\"defs-67ea0a\"><g class=\"clips\"><clipPath id=\"clip67ea0axyplot\" class=\"plotclip\"><rect width=\"825\" height=\"420\"/></clipPath><clipPath class=\"axesclip\" id=\"clip67ea0ax\"><rect x=\"80\" y=\"0\" width=\"825\" height=\"600\"/></clipPath><clipPath class=\"axesclip\" id=\"clip67ea0ay\"><rect x=\"0\" y=\"100\" width=\"1000\" height=\"420\"/></clipPath><clipPath class=\"axesclip\" id=\"clip67ea0axy\"><rect x=\"80\" y=\"100\" width=\"825\" height=\"420\"/></clipPath></g><g class=\"gradients\"/></defs><g class=\"bglayer\"><rect class=\"bg\" x=\"80\" y=\"100\" width=\"825\" height=\"420\" style=\"fill: rgb(237, 237, 237); fill-opacity: 1; stroke-width: 0;\"/></g><g class=\"layer-below\"><g class=\"imagelayer\"/><g class=\"shapelayer\"/></g><g class=\"cartesianlayer\"><g class=\"subplot xy\"><g class=\"layer-subplot\"><g class=\"shapelayer\"/><g class=\"imagelayer\"/></g><g class=\"gridlayer\"><g class=\"x\"><path class=\"xgrid crisp\" transform=\"translate(125,0)\" d=\"M0,100v420\" style=\"stroke: rgb(255, 255, 255); stroke-opacity: 1; stroke-width: 1px;\"/><path class=\"xgrid crisp\" transform=\"translate(175.04000000000002,0)\" d=\"M0,100v420\" style=\"stroke: rgb(255, 255, 255); stroke-opacity: 1; stroke-width: 1px;\"/><path class=\"xgrid crisp\" transform=\"translate(241.19,0)\" d=\"M0,100v420\" style=\"stroke: rgb(255, 255, 255); stroke-opacity: 1; stroke-width: 1px;\"/><path class=\"xgrid crisp\" transform=\"translate(291.23,0)\" d=\"M0,100v420\" style=\"stroke: rgb(255, 255, 255); stroke-opacity: 1; stroke-width: 1px;\"/><path class=\"xgrid crisp\" transform=\"translate(341.27,0)\" d=\"M0,100v420\" style=\"stroke: rgb(255, 255, 255); stroke-opacity: 1; stroke-width: 1px;\"/><path class=\"xgrid crisp\" transform=\"translate(407.42,0)\" d=\"M0,100v420\" style=\"stroke: rgb(255, 255, 255); stroke-opacity: 1; stroke-width: 1px;\"/><path class=\"xgrid crisp\" transform=\"translate(457.46,0)\" d=\"M0,100v420\" style=\"stroke: rgb(255, 255, 255); stroke-opacity: 1; stroke-width: 1px;\"/><path class=\"xgrid crisp\" transform=\"translate(507.5,0)\" d=\"M0,100v420\" style=\"stroke: rgb(255, 255, 255); stroke-opacity: 1; stroke-width: 1px;\"/><path class=\"xgrid crisp\" transform=\"translate(573.65,0)\" d=\"M0,100v420\" style=\"stroke: rgb(255, 255, 255); stroke-opacity: 1; stroke-width: 1px;\"/><path class=\"xgrid crisp\" transform=\"translate(623.7,0)\" d=\"M0,100v420\" style=\"stroke: rgb(255, 255, 255); stroke-opacity: 1; stroke-width: 1px;\"/><path class=\"xgrid crisp\" transform=\"translate(673.74,0)\" d=\"M0,100v420\" style=\"stroke: rgb(255, 255, 255); stroke-opacity: 1; stroke-width: 1px;\"/><path class=\"xgrid crisp\" transform=\"translate(739.89,0)\" d=\"M0,100v420\" style=\"stroke: rgb(255, 255, 255); stroke-opacity: 1; stroke-width: 1px;\"/><path class=\"xgrid crisp\" transform=\"translate(789.93,0)\" d=\"M0,100v420\" style=\"stroke: rgb(255, 255, 255); stroke-opacity: 1; stroke-width: 1px;\"/><path class=\"xgrid crisp\" transform=\"translate(839.97,0)\" d=\"M0,100v420\" style=\"stroke: rgb(255, 255, 255); stroke-opacity: 1; stroke-width: 1px;\"/></g><g class=\"y\"><path class=\"ygrid crisp\" transform=\"translate(0,495.25)\" d=\"M80,0h825\" style=\"stroke: rgb(255, 255, 255); stroke-opacity: 1; stroke-width: 1px;\"/><path class=\"ygrid crisp\" transform=\"translate(0,467.61)\" d=\"M80,0h825\" style=\"stroke: rgb(255, 255, 255); stroke-opacity: 1; stroke-width: 1px;\"/><path class=\"ygrid crisp\" transform=\"translate(0,431.07)\" d=\"M80,0h825\" style=\"stroke: rgb(255, 255, 255); stroke-opacity: 1; stroke-width: 1px;\"/><path class=\"ygrid crisp\" transform=\"translate(0,403.43)\" d=\"M80,0h825\" style=\"stroke: rgb(255, 255, 255); stroke-opacity: 1; stroke-width: 1px;\"/><path class=\"ygrid crisp\" transform=\"translate(0,375.79)\" d=\"M80,0h825\" style=\"stroke: rgb(255, 255, 255); stroke-opacity: 1; stroke-width: 1px;\"/><path class=\"ygrid crisp\" transform=\"translate(0,339.25)\" d=\"M80,0h825\" style=\"stroke: rgb(255, 255, 255); stroke-opacity: 1; stroke-width: 1px;\"/><path class=\"ygrid crisp\" transform=\"translate(0,311.61)\" d=\"M80,0h825\" style=\"stroke: rgb(255, 255, 255); stroke-opacity: 1; stroke-width: 1px;\"/><path class=\"ygrid crisp\" transform=\"translate(0,283.97)\" d=\"M80,0h825\" style=\"stroke: rgb(255, 255, 255); stroke-opacity: 1; stroke-width: 1px;\"/><path class=\"ygrid crisp\" transform=\"translate(0,247.43)\" d=\"M80,0h825\" style=\"stroke: rgb(255, 255, 255); stroke-opacity: 1; stroke-width: 1px;\"/><path class=\"ygrid crisp\" transform=\"translate(0,219.79000000000002)\" d=\"M80,0h825\" style=\"stroke: rgb(255, 255, 255); stroke-opacity: 1; stroke-width: 1px;\"/><path class=\"ygrid crisp\" transform=\"translate(0,192.15)\" d=\"M80,0h825\" style=\"stroke: rgb(255, 255, 255); stroke-opacity: 1; stroke-width: 1px;\"/><path class=\"ygrid crisp\" transform=\"translate(0,155.61)\" d=\"M80,0h825\" style=\"stroke: rgb(255, 255, 255); stroke-opacity: 1; stroke-width: 1px;\"/><path class=\"ygrid crisp\" transform=\"translate(0,127.97)\" d=\"M80,0h825\" style=\"stroke: rgb(255, 255, 255); stroke-opacity: 1; stroke-width: 1px;\"/></g></g><g class=\"zerolinelayer\"/><path class=\"xlines-below\"/><path class=\"ylines-below\"/><g class=\"overlines-below\"/><g class=\"xaxislayer-below\"/><g class=\"yaxislayer-below\"/><g class=\"overaxes-below\"/><g class=\"plot\" transform=\"translate(80, 100)\" clip-path=\"url('#clip67ea0axyplot')\"><g class=\"scatterlayer mlayer\"><g class=\"trace scatter trace64d86b\" style=\"stroke-miterlimit: 2; opacity: 1;\"><g class=\"fills\"/><g class=\"errorbars\"/><g class=\"lines\"/><g class=\"points\"><path class=\"point plotly-customdata\" transform=\"translate(235.52,317.65)\" d=\"M3,0A3,3 0 1,1 0,-3A3,3 0 0,1 3,0Z\" style=\"opacity: 0.9; stroke-width: 0px; fill: rgb(76, 120, 168); fill-opacity: 1;\"/><path class=\"point plotly-customdata\" transform=\"translate(327.42,331.07)\" d=\"M3,0A3,3 0 1,1 0,-3A3,3 0 0,1 3,0Z\" style=\"opacity: 0.9; stroke-width: 0px; fill: rgb(76, 120, 168); fill-opacity: 1;\"/><path class=\"point plotly-customdata\" transform=\"translate(264.79,351.44)\" d=\"M3,0A3,3 0 1,1 0,-3A3,3 0 0,1 3,0Z\" style=\"opacity: 0.9; stroke-width: 0px; fill: rgb(76, 120, 168); fill-opacity: 1;\"/><path class=\"point plotly-customdata\" transform=\"translate(271.36,395.25)\" d=\"M3,0A3,3 0 1,1 0,-3A3,3 0 0,1 3,0Z\" style=\"opacity: 0.9; stroke-width: 0px; fill: rgb(76, 120, 168); fill-opacity: 1;\"/><path class=\"point plotly-customdata\" transform=\"translate(364.01,395.25)\" d=\"M3,0A3,3 0 1,1 0,-3A3,3 0 0,1 3,0Z\" style=\"opacity: 0.9; stroke-width: 0px; fill: rgb(76, 120, 168); fill-opacity: 1;\"/><path class=\"point plotly-customdata\" transform=\"translate(368.23,307.63)\" d=\"M3,0A3,3 0 1,1 0,-3A3,3 0 0,1 3,0Z\" style=\"opacity: 0.9; stroke-width: 0px; fill: rgb(76, 120, 168); fill-opacity: 1;\"/><path class=\"point plotly-customdata\" transform=\"translate(145.08,339.97)\" d=\"M3,0A3,3 0 1,1 0,-3A3,3 0 0,1 3,0Z\" style=\"opacity: 0.9; stroke-width: 0px; fill: rgb(76, 120, 168); fill-opacity: 1;\"/><path class=\"point plotly-customdata\" transform=\"translate(425.68,279.99)\" d=\"M3,0A3,3 0 1,1 0,-3A3,3 0 0,1 3,0Z\" style=\"opacity: 0.9; stroke-width: 0px; fill: rgb(76, 120, 168); fill-opacity: 1;\"/><path class=\"point plotly-customdata\" transform=\"translate(282.94,263.82)\" d=\"M3,0A3,3 0 1,1 0,-3A3,3 0 0,1 3,0Z\" style=\"opacity: 0.9; stroke-width: 0px; fill: rgb(76, 120, 168); fill-opacity: 1;\"/><path class=\"point plotly-customdata\" transform=\"translate(440.37,249.16)\" d=\"M3,0A3,3 0 1,1 0,-3A3,3 0 0,1 3,0Z\" style=\"opacity: 0.9; stroke-width: 0px; fill: rgb(76, 120, 168); fill-opacity: 1;\"/><path class=\"point plotly-customdata\" transform=\"translate(292.91,266.89)\" d=\"M3,0A3,3 0 1,1 0,-3A3,3 0 0,1 3,0Z\" style=\"opacity: 0.9; stroke-width: 0px; fill: rgb(76, 120, 168); fill-opacity: 1;\"/><path class=\"point plotly-customdata\" transform=\"translate(457.02,243.45)\" d=\"M3,0A3,3 0 1,1 0,-3A3,3 0 0,1 3,0Z\" style=\"opacity: 0.9; stroke-width: 0px; fill: rgb(76, 120, 168); fill-opacity: 1;\"/><path class=\"point plotly-customdata\" transform=\"translate(479.85,201.77)\" d=\"M3,0A3,3 0 1,1 0,-3A3,3 0 0,1 3,0Z\" style=\"opacity: 0.9; stroke-width: 0px; fill: rgb(76, 120, 168); fill-opacity: 1;\"/><path class=\"point plotly-customdata\" transform=\"translate(474.6,222.55)\" d=\"M3,0A3,3 0 1,1 0,-3A3,3 0 0,1 3,0Z\" style=\"opacity: 0.9; stroke-width: 0px; fill: rgb(76, 120, 168); fill-opacity: 1;\"/><path class=\"point plotly-customdata\" transform=\"translate(488.73,201.15)\" d=\"M3,0A3,3 0 1,1 0,-3A3,3 0 0,1 3,0Z\" style=\"opacity: 0.9; stroke-width: 0px; fill: rgb(76, 120, 168); fill-opacity: 1;\"/><path class=\"point plotly-customdata\" transform=\"translate(657.64,198.77)\" d=\"M3,0A3,3 0 1,1 0,-3A3,3 0 0,1 3,0Z\" style=\"opacity: 0.9; stroke-width: 0px; fill: rgb(76, 120, 168); fill-opacity: 1;\"/><path class=\"point plotly-customdata\" transform=\"translate(576.86,189.98)\" d=\"M3,0A3,3 0 1,1 0,-3A3,3 0 0,1 3,0Z\" style=\"opacity: 0.9; stroke-width: 0px; fill: rgb(76, 120, 168); fill-opacity: 1;\"/><path class=\"point plotly-customdata\" transform=\"translate(632.34,162.69)\" d=\"M3,0A3,3 0 1,1 0,-3A3,3 0 0,1 3,0Z\" style=\"opacity: 0.9; stroke-width: 0px; fill: rgb(76, 120, 168); fill-opacity: 1;\"/><path class=\"point plotly-customdata\" transform=\"translate(603.98,176.53)\" d=\"M3,0A3,3 0 1,1 0,-3A3,3 0 0,1 3,0Z\" style=\"opacity: 0.9; stroke-width: 0px; fill: rgb(76, 120, 168); fill-opacity: 1;\"/><path class=\"point plotly-customdata\" transform=\"translate(610.33,172)\" d=\"M3,0A3,3 0 1,1 0,-3A3,3 0 0,1 3,0Z\" style=\"opacity: 0.9; stroke-width: 0px; fill: rgb(76, 120, 168); fill-opacity: 1;\"/><path class=\"point plotly-customdata\" transform=\"translate(702.64,135.58)\" d=\"M3,0A3,3 0 1,1 0,-3A3,3 0 0,1 3,0Z\" style=\"opacity: 0.9; stroke-width: 0px; fill: rgb(76, 120, 168); fill-opacity: 1;\"/><path class=\"point plotly-customdata\" transform=\"translate(657.76,155.34)\" d=\"M3,0A3,3 0 1,1 0,-3A3,3 0 0,1 3,0Z\" style=\"opacity: 0.9; stroke-width: 0px; fill: rgb(76, 120, 168); fill-opacity: 1;\"/><path class=\"point plotly-customdata\" transform=\"translate(695.41,119.87)\" d=\"M3,0A3,3 0 1,1 0,-3A3,3 0 0,1 3,0Z\" style=\"opacity: 0.9; stroke-width: 0px; fill: rgb(76, 120, 168); fill-opacity: 1;\"/><path class=\"point plotly-customdata\" transform=\"translate(647.08,148.81)\" d=\"M3,0A3,3 0 1,1 0,-3A3,3 0 0,1 3,0Z\" style=\"opacity: 0.9; stroke-width: 0px; fill: rgb(76, 120, 168); fill-opacity: 1;\"/><path class=\"point plotly-customdata\" transform=\"translate(712.63,111.63)\" d=\"M3,0A3,3 0 1,1 0,-3A3,3 0 0,1 3,0Z\" style=\"opacity: 0.9; stroke-width: 0px; fill: rgb(76, 120, 168); fill-opacity: 1;\"/><path class=\"point plotly-customdata\" transform=\"translate(683.4,125.57)\" d=\"M3,0A3,3 0 1,1 0,-3A3,3 0 0,1 3,0Z\" style=\"opacity: 0.9; stroke-width: 0px; fill: rgb(76, 120, 168); fill-opacity: 1;\"/><path class=\"point plotly-customdata\" transform=\"translate(671.36,139.05)\" d=\"M3,0A3,3 0 1,1 0,-3A3,3 0 0,1 3,0Z\" style=\"opacity: 0.9; stroke-width: 0px; fill: rgb(76, 120, 168); fill-opacity: 1;\"/><path class=\"point plotly-customdata\" transform=\"translate(715.56,117.66)\" d=\"M3,0A3,3 0 1,1 0,-3A3,3 0 0,1 3,0Z\" style=\"opacity: 0.9; stroke-width: 0px; fill: rgb(76, 120, 168); fill-opacity: 1;\"/><path class=\"point plotly-customdata\" transform=\"translate(736.38,101.68)\" d=\"M3,0A3,3 0 1,1 0,-3A3,3 0 0,1 3,0Z\" style=\"opacity: 0.9; stroke-width: 0px; fill: rgb(76, 120, 168); fill-opacity: 1;\"/><path class=\"point plotly-customdata\" transform=\"translate(712.38,102.94)\" d=\"M3,0A3,3 0 1,1 0,-3A3,3 0 0,1 3,0Z\" style=\"opacity: 0.9; stroke-width: 0px; fill: rgb(76, 120, 168); fill-opacity: 1;\"/><path class=\"point plotly-customdata\" transform=\"translate(718.99,118.23)\" d=\"M3,0A3,3 0 1,1 0,-3A3,3 0 0,1 3,0Z\" style=\"opacity: 0.9; stroke-width: 0px; fill: rgb(76, 120, 168); fill-opacity: 1;\"/><path class=\"point plotly-customdata\" transform=\"translate(708.98,113.43)\" d=\"M3,0A3,3 0 1,1 0,-3A3,3 0 0,1 3,0Z\" style=\"opacity: 0.9; stroke-width: 0px; fill: rgb(76, 120, 168); fill-opacity: 1;\"/><path class=\"point plotly-customdata\" transform=\"translate(738.66,105.72)\" d=\"M3,0A3,3 0 1,1 0,-3A3,3 0 0,1 3,0Z\" style=\"opacity: 0.9; stroke-width: 0px; fill: rgb(76, 120, 168); fill-opacity: 1;\"/><path class=\"point plotly-customdata\" transform=\"translate(659.48,133.56)\" d=\"M3,0A3,3 0 1,1 0,-3A3,3 0 0,1 3,0Z\" style=\"opacity: 0.9; stroke-width: 0px; fill: rgb(76, 120, 168); fill-opacity: 1;\"/><path class=\"point plotly-customdata\" transform=\"translate(705.58,123.59)\" d=\"M3,0A3,3 0 1,1 0,-3A3,3 0 0,1 3,0Z\" style=\"opacity: 0.9; stroke-width: 0px; fill: rgb(76, 120, 168); fill-opacity: 1;\"/><path class=\"point plotly-customdata\" transform=\"translate(711.93,113.63)\" d=\"M3,0A3,3 0 1,1 0,-3A3,3 0 0,1 3,0Z\" style=\"opacity: 0.9; stroke-width: 0px; fill: rgb(76, 120, 168); fill-opacity: 1;\"/></g><g class=\"text\"/></g><g class=\"trace scatter trace954c3b\" style=\"stroke-miterlimit: 2; opacity: 1;\"><g class=\"fills\"/><g class=\"errorbars\"/><g class=\"lines\"/><g class=\"points\"><path class=\"point plotly-customdata\" transform=\"translate(45,395.25)\" d=\"M3.9,0L0,3.9L-3.9,0L0,-3.9Z\" style=\"opacity: 0.9; stroke-width: 0px; fill: rgb(245, 133, 24); fill-opacity: 1;\"/><path class=\"point plotly-customdata\" transform=\"translate(292.91,331.07)\" d=\"M3.9,0L0,3.9L-3.9,0L0,-3.9Z\" style=\"opacity: 0.9; stroke-width: 0px; fill: rgb(245, 133, 24); fill-opacity: 1;\"/><path class=\"point plotly-customdata\" transform=\"translate(195.12,312.33)\" d=\"M3.9,0L0,3.9L-3.9,0L0,-3.9Z\" style=\"opacity: 0.9; stroke-width: 0px; fill: rgb(245, 133, 24); fill-opacity: 1;\"/><path class=\"point plotly-customdata\" transform=\"translate(268.15,271.99)\" d=\"M3.9,0L0,3.9L-3.9,0L0,-3.9Z\" style=\"opacity: 0.9; stroke-width: 0px; fill: rgb(245, 133, 24); fill-opacity: 1;\"/><path class=\"point plotly-customdata\" transform=\"translate(380.99,255.82)\" d=\"M3.9,0L0,3.9L-3.9,0L0,-3.9Z\" style=\"opacity: 0.9; stroke-width: 0px; fill: rgb(245, 133, 24); fill-opacity: 1;\"/><path class=\"point plotly-customdata\" transform=\"translate(350.68,271.99)\" d=\"M3.9,0L0,3.9L-3.9,0L0,-3.9Z\" style=\"opacity: 0.9; stroke-width: 0px; fill: rgb(245, 133, 24); fill-opacity: 1;\"/><path class=\"point plotly-customdata\" transform=\"translate(334.3,270.22)\" d=\"M3.9,0L0,3.9L-3.9,0L0,-3.9Z\" style=\"opacity: 0.9; stroke-width: 0px; fill: rgb(245, 133, 24); fill-opacity: 1;\"/><path class=\"point plotly-customdata\" transform=\"translate(409.1,234.03)\" d=\"M3.9,0L0,3.9L-3.9,0L0,-3.9Z\" style=\"opacity: 0.9; stroke-width: 0px; fill: rgb(245, 133, 24); fill-opacity: 1;\"/><path class=\"point plotly-customdata\" transform=\"translate(389.41,226.41)\" d=\"M3.9,0L0,3.9L-3.9,0L0,-3.9Z\" style=\"opacity: 0.9; stroke-width: 0px; fill: rgb(245, 133, 24); fill-opacity: 1;\"/><path class=\"point plotly-customdata\" transform=\"translate(437.59,208.91)\" d=\"M3.9,0L0,3.9L-3.9,0L0,-3.9Z\" style=\"opacity: 0.9; stroke-width: 0px; fill: rgb(245, 133, 24); fill-opacity: 1;\"/><path class=\"point plotly-customdata\" transform=\"translate(441.27,200.54)\" d=\"M3.9,0L0,3.9L-3.9,0L0,-3.9Z\" style=\"opacity: 0.9; stroke-width: 0px; fill: rgb(245, 133, 24); fill-opacity: 1;\"/><path class=\"point plotly-customdata\" transform=\"translate(582.76,209.29)\" d=\"M3.9,0L0,3.9L-3.9,0L0,-3.9Z\" style=\"opacity: 0.9; stroke-width: 0px; fill: rgb(245, 133, 24); fill-opacity: 1;\"/><path class=\"point plotly-customdata\" transform=\"translate(521.27,174.75)\" d=\"M3.9,0L0,3.9L-3.9,0L0,-3.9Z\" style=\"opacity: 0.9; stroke-width: 0px; fill: rgb(245, 133, 24); fill-opacity: 1;\"/><path class=\"point plotly-customdata\" transform=\"translate(608.39,163.4)\" d=\"M3.9,0L0,3.9L-3.9,0L0,-3.9Z\" style=\"opacity: 0.9; stroke-width: 0px; fill: rgb(245, 133, 24); fill-opacity: 1;\"/><path class=\"point plotly-customdata\" transform=\"translate(614.19,180.9)\" d=\"M3.9,0L0,3.9L-3.9,0L0,-3.9Z\" style=\"opacity: 0.9; stroke-width: 0px; fill: rgb(245, 133, 24); fill-opacity: 1;\"/><path class=\"point plotly-customdata\" transform=\"translate(619.25,155.64)\" d=\"M3.9,0L0,3.9L-3.9,0L0,-3.9Z\" style=\"opacity: 0.9; stroke-width: 0px; fill: rgb(245, 133, 24); fill-opacity: 1;\"/><path class=\"point plotly-customdata\" transform=\"translate(679.69,146.64)\" d=\"M3.9,0L0,3.9L-3.9,0L0,-3.9Z\" style=\"opacity: 0.9; stroke-width: 0px; fill: rgb(245, 133, 24); fill-opacity: 1;\"/><path class=\"point plotly-customdata\" transform=\"translate(630.54,152.44)\" d=\"M3.9,0L0,3.9L-3.9,0L0,-3.9Z\" style=\"opacity: 0.9; stroke-width: 0px; fill: rgb(245, 133, 24); fill-opacity: 1;\"/><path class=\"point plotly-customdata\" transform=\"translate(640.11,142.28)\" d=\"M3.9,0L0,3.9L-3.9,0L0,-3.9Z\" style=\"opacity: 0.9; stroke-width: 0px; fill: rgb(245, 133, 24); fill-opacity: 1;\"/><path class=\"point plotly-customdata\" transform=\"translate(615.67,179.27)\" d=\"M3.9,0L0,3.9L-3.9,0L0,-3.9Z\" style=\"opacity: 0.9; stroke-width: 0px; fill: rgb(245, 133, 24); fill-opacity: 1;\"/><path class=\"point plotly-customdata\" transform=\"translate(674.97,148.65)\" d=\"M3.9,0L0,3.9L-3.9,0L0,-3.9Z\" style=\"opacity: 0.9; stroke-width: 0px; fill: rgb(245, 133, 24); fill-opacity: 1;\"/><path class=\"point plotly-customdata\" transform=\"translate(658.93,112.12)\" d=\"M3.9,0L0,3.9L-3.9,0L0,-3.9Z\" style=\"opacity: 0.9; stroke-width: 0px; fill: rgb(245, 133, 24); fill-opacity: 1;\"/><path class=\"point plotly-customdata\" transform=\"translate(682.18,112.95)\" d=\"M3.9,0L0,3.9L-3.9,0L0,-3.9Z\" style=\"opacity: 0.9; stroke-width: 0px; fill: rgb(245, 133, 24); fill-opacity: 1;\"/><path class=\"point plotly-customdata\" transform=\"translate(664.23,79.8)\" d=\"M3.9,0L0,3.9L-3.9,0L0,-3.9Z\" style=\"opacity: 0.9; stroke-width: 0px; fill: rgb(245, 133, 24); fill-opacity: 1;\"/><path class=\"point plotly-customdata\" transform=\"translate(611.53,114.32)\" d=\"M3.9,0L0,3.9L-3.9,0L0,-3.9Z\" style=\"opacity: 0.9; stroke-width: 0px; fill: rgb(245, 133, 24); fill-opacity: 1;\"/><path class=\"point plotly-customdata\" transform=\"translate(657.73,88.37)\" d=\"M3.9,0L0,3.9L-3.9,0L0,-3.9Z\" style=\"opacity: 0.9; stroke-width: 0px; fill: rgb(245, 133, 24); fill-opacity: 1;\"/><path class=\"point plotly-customdata\" transform=\"translate(587.2,146.33)\" d=\"M3.9,0L0,3.9L-3.9,0L0,-3.9Z\" style=\"opacity: 0.9; stroke-width: 0px; fill: rgb(245, 133, 24); fill-opacity: 1;\"/><path class=\"point plotly-customdata\" transform=\"translate(701.03,95.11)\" d=\"M3.9,0L0,3.9L-3.9,0L0,-3.9Z\" style=\"opacity: 0.9; stroke-width: 0px; fill: rgb(245, 133, 24); fill-opacity: 1;\"/><path class=\"point plotly-customdata\" transform=\"translate(666.62,105.89)\" d=\"M3.9,0L0,3.9L-3.9,0L0,-3.9Z\" style=\"opacity: 0.9; stroke-width: 0px; fill: rgb(245, 133, 24); fill-opacity: 1;\"/><path class=\"point plotly-customdata\" transform=\"translate(681.56,131.48)\" d=\"M3.9,0L0,3.9L-3.9,0L0,-3.9Z\" style=\"opacity: 0.9; stroke-width: 0px; fill: rgb(245, 133, 24); fill-opacity: 1;\"/><path class=\"point plotly-customdata\" transform=\"translate(666.94,110.8)\" d=\"M3.9,0L0,3.9L-3.9,0L0,-3.9Z\" style=\"opacity: 0.9; stroke-width: 0px; fill: rgb(245, 133, 24); fill-opacity: 1;\"/><path class=\"point plotly-customdata\" transform=\"translate(664.92,121)\" d=\"M3.9,0L0,3.9L-3.9,0L0,-3.9Z\" style=\"opacity: 0.9; stroke-width: 0px; fill: rgb(245, 133, 24); fill-opacity: 1;\"/></g><g class=\"text\"/></g><g class=\"trace scatter trace77b7db\" style=\"stroke-miterlimit: 2; opacity: 1;\"><g class=\"fills\"/><g class=\"errorbars\"/><g class=\"lines\"/><g class=\"points\"><path class=\"point plotly-customdata\" transform=\"translate(124.31,351.44)\" d=\"M3,3H-3V-3H3Z\" style=\"opacity: 0.9; stroke-width: 0px; fill: rgb(228, 87, 86); fill-opacity: 1;\"/><path class=\"point plotly-customdata\" transform=\"translate(297.43,367.61)\" d=\"M3,3H-3V-3H3Z\" style=\"opacity: 0.9; stroke-width: 0px; fill: rgb(228, 87, 86); fill-opacity: 1;\"/><path class=\"point plotly-customdata\" transform=\"translate(203.63,331.07)\" d=\"M3,3H-3V-3H3Z\" style=\"opacity: 0.9; stroke-width: 0px; fill: rgb(228, 87, 86); fill-opacity: 1;\"/><path class=\"point plotly-customdata\" transform=\"translate(230.17,339.97)\" d=\"M3,3H-3V-3H3Z\" style=\"opacity: 0.9; stroke-width: 0px; fill: rgb(228, 87, 86); fill-opacity: 1;\"/><path class=\"point plotly-customdata\" transform=\"translate(268.15,307.63)\" d=\"M3,3H-3V-3H3Z\" style=\"opacity: 0.9; stroke-width: 0px; fill: rgb(228, 87, 86); fill-opacity: 1;\"/><path class=\"point plotly-customdata\" transform=\"translate(271.36,323.8)\" d=\"M3,3H-3V-3H3Z\" style=\"opacity: 0.9; stroke-width: 0px; fill: rgb(228, 87, 86); fill-opacity: 1;\"/><path class=\"point plotly-customdata\" transform=\"translate(316.53,275.79)\" d=\"M3,3H-3V-3H3Z\" style=\"opacity: 0.9; stroke-width: 0px; fill: rgb(228, 87, 86); fill-opacity: 1;\"/><path class=\"point plotly-customdata\" transform=\"translate(352.74,240.88)\" d=\"M3,3H-3V-3H3Z\" style=\"opacity: 0.9; stroke-width: 0px; fill: rgb(228, 87, 86); fill-opacity: 1;\"/><path class=\"point plotly-customdata\" transform=\"translate(361.35,220.51)\" d=\"M3,3H-3V-3H3Z\" style=\"opacity: 0.9; stroke-width: 0px; fill: rgb(228, 87, 86); fill-opacity: 1;\"/><path class=\"point plotly-customdata\" transform=\"translate(397.51,216.26)\" d=\"M3,3H-3V-3H3Z\" style=\"opacity: 0.9; stroke-width: 0px; fill: rgb(228, 87, 86); fill-opacity: 1;\"/><path class=\"point plotly-customdata\" transform=\"translate(422.65,192.87)\" d=\"M3,3H-3V-3H3Z\" style=\"opacity: 0.9; stroke-width: 0px; fill: rgb(228, 87, 86); fill-opacity: 1;\"/><path class=\"point plotly-customdata\" transform=\"translate(464.74,165.86)\" d=\"M3,3H-3V-3H3Z\" style=\"opacity: 0.9; stroke-width: 0px; fill: rgb(228, 87, 86); fill-opacity: 1;\"/><path class=\"point plotly-customdata\" transform=\"translate(428.22,195.98)\" d=\"M3,3H-3V-3H3Z\" style=\"opacity: 0.9; stroke-width: 0px; fill: rgb(228, 87, 86); fill-opacity: 1;\"/><path class=\"point plotly-customdata\" transform=\"translate(488.73,152.8)\" d=\"M3,3H-3V-3H3Z\" style=\"opacity: 0.9; stroke-width: 0px; fill: rgb(228, 87, 86); fill-opacity: 1;\"/><path class=\"point plotly-customdata\" transform=\"translate(509.18,141.03)\" d=\"M3,3H-3V-3H3Z\" style=\"opacity: 0.9; stroke-width: 0px; fill: rgb(228, 87, 86); fill-opacity: 1;\"/><path class=\"point plotly-customdata\" transform=\"translate(540.9,122.68)\" d=\"M3,3H-3V-3H3Z\" style=\"opacity: 0.9; stroke-width: 0px; fill: rgb(228, 87, 86); fill-opacity: 1;\"/><path class=\"point plotly-customdata\" transform=\"translate(700.67,127.17)\" d=\"M3,3H-3V-3H3Z\" style=\"opacity: 0.9; stroke-width: 0px; fill: rgb(228, 87, 86); fill-opacity: 1;\"/><path class=\"point plotly-customdata\" transform=\"translate(619.41,132.5)\" d=\"M3,3H-3V-3H3Z\" style=\"opacity: 0.9; stroke-width: 0px; fill: rgb(228, 87, 86); fill-opacity: 1;\"/><path class=\"point plotly-customdata\" transform=\"translate(669.13,83.67)\" d=\"M3,3H-3V-3H3Z\" style=\"opacity: 0.9; stroke-width: 0px; fill: rgb(228, 87, 86); fill-opacity: 1;\"/><path class=\"point plotly-customdata\" transform=\"translate(657.46,93.18)\" d=\"M3,3H-3V-3H3Z\" style=\"opacity: 0.9; stroke-width: 0px; fill: rgb(228, 87, 86); fill-opacity: 1;\"/><path class=\"point plotly-customdata\" transform=\"translate(661.85,86.59)\" d=\"M3,3H-3V-3H3Z\" style=\"opacity: 0.9; stroke-width: 0px; fill: rgb(228, 87, 86); fill-opacity: 1;\"/><path class=\"point plotly-customdata\" transform=\"translate(661.2,87.24)\" d=\"M3,3H-3V-3H3Z\" style=\"opacity: 0.9; stroke-width: 0px; fill: rgb(228, 87, 86); fill-opacity: 1;\"/><path class=\"point plotly-customdata\" transform=\"translate(676.09,72.79)\" d=\"M3,3H-3V-3H3Z\" style=\"opacity: 0.9; stroke-width: 0px; fill: rgb(228, 87, 86); fill-opacity: 1;\"/><path class=\"point plotly-customdata\" transform=\"translate(642.19,90.97)\" d=\"M3,3H-3V-3H3Z\" style=\"opacity: 0.9; stroke-width: 0px; fill: rgb(228, 87, 86); fill-opacity: 1;\"/><path class=\"point plotly-customdata\" transform=\"translate(682.81,69.17)\" d=\"M3,3H-3V-3H3Z\" style=\"opacity: 0.9; stroke-width: 0px; fill: rgb(228, 87, 86); fill-opacity: 1;\"/><path class=\"point plotly-customdata\" transform=\"translate(678.47,71.76)\" d=\"M3,3H-3V-3H3Z\" style=\"opacity: 0.9; stroke-width: 0px; fill: rgb(228, 87, 86); fill-opacity: 1;\"/><path class=\"point plotly-customdata\" transform=\"translate(697.28,61.58)\" d=\"M3,3H-3V-3H3Z\" style=\"opacity: 0.9; stroke-width: 0px; fill: rgb(228, 87, 86); fill-opacity: 1;\"/><path class=\"point plotly-customdata\" transform=\"translate(692.48,62.29)\" d=\"M3,3H-3V-3H3Z\" style=\"opacity: 0.9; stroke-width: 0px; fill: rgb(228, 87, 86); fill-opacity: 1;\"/><path class=\"point plotly-customdata\" transform=\"translate(682.19,71.21)\" d=\"M3,3H-3V-3H3Z\" style=\"opacity: 0.9; stroke-width: 0px; fill: rgb(228, 87, 86); fill-opacity: 1;\"/><path class=\"point plotly-customdata\" transform=\"translate(682.78,68.88)\" d=\"M3,3H-3V-3H3Z\" style=\"opacity: 0.9; stroke-width: 0px; fill: rgb(228, 87, 86); fill-opacity: 1;\"/><path class=\"point plotly-customdata\" transform=\"translate(672.35,71.87)\" d=\"M3,3H-3V-3H3Z\" style=\"opacity: 0.9; stroke-width: 0px; fill: rgb(228, 87, 86); fill-opacity: 1;\"/><path class=\"point plotly-customdata\" transform=\"translate(666,75.7)\" d=\"M3,3H-3V-3H3Z\" style=\"opacity: 0.9; stroke-width: 0px; fill: rgb(228, 87, 86); fill-opacity: 1;\"/><path class=\"point plotly-customdata\" transform=\"translate(681.83,68.82)\" d=\"M3,3H-3V-3H3Z\" style=\"opacity: 0.9; stroke-width: 0px; fill: rgb(228, 87, 86); fill-opacity: 1;\"/><path class=\"point plotly-customdata\" transform=\"translate(676.93,69.14)\" d=\"M3,3H-3V-3H3Z\" style=\"opacity: 0.9; stroke-width: 0px; fill: rgb(228, 87, 86); fill-opacity: 1;\"/></g><g class=\"text\"/></g><g class=\"trace scatter tracee498f3\" style=\"stroke-miterlimit: 2; opacity: 1;\"><g class=\"fills\"/><g class=\"errorbars\"/><g class=\"lines\"/><g class=\"points\"><path class=\"point plotly-customdata\" transform=\"translate(318.19,284.69)\" d=\"M0,1.7l1.7,1.7l1.7,-1.7l-1.7,-1.7l1.7,-1.7l-1.7,-1.7l-1.7,1.7l-1.7,-1.7l-1.7,1.7l1.7,1.7l-1.7,1.7l1.7,1.7Z\" style=\"opacity: 0.9; stroke-width: 0px; fill: rgb(114, 183, 178); fill-opacity: 1;\"/><path class=\"point plotly-customdata\" transform=\"translate(282.94,299.63)\" d=\"M0,1.7l1.7,1.7l1.7,-1.7l-1.7,-1.7l1.7,-1.7l-1.7,-1.7l-1.7,1.7l-1.7,-1.7l-1.7,1.7l1.7,1.7l-1.7,1.7l1.7,1.7Z\" style=\"opacity: 0.9; stroke-width: 0px; fill: rgb(114, 183, 178); fill-opacity: 1;\"/><path class=\"point plotly-customdata\" transform=\"translate(316.53,245.26)\" d=\"M0,1.7l1.7,1.7l1.7,-1.7l-1.7,-1.7l1.7,-1.7l-1.7,-1.7l-1.7,1.7l-1.7,-1.7l-1.7,1.7l1.7,1.7l-1.7,1.7l1.7,1.7Z\" style=\"opacity: 0.9; stroke-width: 0px; fill: rgb(114, 183, 178); fill-opacity: 1;\"/><path class=\"point plotly-customdata\" transform=\"translate(288.1,260.97)\" d=\"M0,1.7l1.7,1.7l1.7,-1.7l-1.7,-1.7l1.7,-1.7l-1.7,-1.7l-1.7,1.7l-1.7,-1.7l-1.7,1.7l1.7,1.7l-1.7,1.7l1.7,1.7Z\" style=\"opacity: 0.9; stroke-width: 0px; fill: rgb(114, 183, 178); fill-opacity: 1;\"/><path class=\"point plotly-customdata\" transform=\"translate(305.68,251.26)\" d=\"M0,1.7l1.7,1.7l1.7,-1.7l-1.7,-1.7l1.7,-1.7l-1.7,-1.7l-1.7,1.7l-1.7,-1.7l-1.7,1.7l1.7,1.7l-1.7,1.7l1.7,1.7Z\" style=\"opacity: 0.9; stroke-width: 0px; fill: rgb(114, 183, 178); fill-opacity: 1;\"/><path class=\"point plotly-customdata\" transform=\"translate(292.91,258.31)\" d=\"M0,1.7l1.7,1.7l1.7,-1.7l-1.7,-1.7l1.7,-1.7l-1.7,-1.7l-1.7,1.7l-1.7,-1.7l-1.7,1.7l1.7,1.7l-1.7,1.7l1.7,1.7Z\" style=\"opacity: 0.9; stroke-width: 0px; fill: rgb(114, 183, 178); fill-opacity: 1;\"/><path class=\"point plotly-customdata\" transform=\"translate(316.53,245.26)\" d=\"M0,1.7l1.7,1.7l1.7,-1.7l-1.7,-1.7l1.7,-1.7l-1.7,-1.7l-1.7,1.7l-1.7,-1.7l-1.7,1.7l1.7,1.7l-1.7,1.7l1.7,1.7Z\" style=\"opacity: 0.9; stroke-width: 0px; fill: rgb(114, 183, 178); fill-opacity: 1;\"/><path class=\"point plotly-customdata\" transform=\"translate(620.36,182.98)\" d=\"M0,1.7l1.7,1.7l1.7,-1.7l-1.7,-1.7l1.7,-1.7l-1.7,-1.7l-1.7,1.7l-1.7,-1.7l-1.7,1.7l1.7,1.7l-1.7,1.7l1.7,1.7Z\" style=\"opacity: 0.9; stroke-width: 0px; fill: rgb(114, 183, 178); fill-opacity: 1;\"/><path class=\"point plotly-customdata\" transform=\"translate(379.6,210.43)\" d=\"M0,1.7l1.7,1.7l1.7,-1.7l-1.7,-1.7l1.7,-1.7l-1.7,-1.7l-1.7,1.7l-1.7,-1.7l-1.7,1.7l1.7,1.7l-1.7,1.7l1.7,1.7Z\" style=\"opacity: 0.9; stroke-width: 0px; fill: rgb(114, 183, 178); fill-opacity: 1;\"/><path class=\"point plotly-customdata\" transform=\"translate(592.61,182.98)\" d=\"M0,1.7l1.7,1.7l1.7,-1.7l-1.7,-1.7l1.7,-1.7l-1.7,-1.7l-1.7,1.7l-1.7,-1.7l-1.7,1.7l1.7,1.7l-1.7,1.7l1.7,1.7Z\" style=\"opacity: 0.9; stroke-width: 0px; fill: rgb(114, 183, 178); fill-opacity: 1;\"/><path class=\"point plotly-customdata\" transform=\"translate(434.71,179.99)\" d=\"M0,1.7l1.7,1.7l1.7,-1.7l-1.7,-1.7l1.7,-1.7l-1.7,-1.7l-1.7,1.7l-1.7,-1.7l-1.7,1.7l1.7,1.7l-1.7,1.7l1.7,1.7Z\" style=\"opacity: 0.9; stroke-width: 0px; fill: rgb(114, 183, 178); fill-opacity: 1;\"/><path class=\"point plotly-customdata\" transform=\"translate(582.55,131.26)\" d=\"M0,1.7l1.7,1.7l1.7,-1.7l-1.7,-1.7l1.7,-1.7l-1.7,-1.7l-1.7,1.7l-1.7,-1.7l-1.7,1.7l1.7,1.7l-1.7,1.7l1.7,1.7Z\" style=\"opacity: 0.9; stroke-width: 0px; fill: rgb(114, 183, 178); fill-opacity: 1;\"/><path class=\"point plotly-customdata\" transform=\"translate(688.1,135.05)\" d=\"M0,1.7l1.7,1.7l1.7,-1.7l-1.7,-1.7l1.7,-1.7l-1.7,-1.7l-1.7,1.7l-1.7,-1.7l-1.7,1.7l1.7,1.7l-1.7,1.7l1.7,1.7Z\" style=\"opacity: 0.9; stroke-width: 0px; fill: rgb(114, 183, 178); fill-opacity: 1;\"/><path class=\"point plotly-customdata\" transform=\"translate(690.94,97.02)\" d=\"M0,1.7l1.7,1.7l1.7,-1.7l-1.7,-1.7l1.7,-1.7l-1.7,-1.7l-1.7,1.7l-1.7,-1.7l-1.7,1.7l1.7,1.7l-1.7,1.7l1.7,1.7Z\" style=\"opacity: 0.9; stroke-width: 0px; fill: rgb(114, 183, 178); fill-opacity: 1;\"/><path class=\"point plotly-customdata\" transform=\"translate(710.95,76.65)\" d=\"M0,1.7l1.7,1.7l1.7,-1.7l-1.7,-1.7l1.7,-1.7l-1.7,-1.7l-1.7,1.7l-1.7,-1.7l-1.7,1.7l1.7,1.7l-1.7,1.7l1.7,1.7Z\" style=\"opacity: 0.9; stroke-width: 0px; fill: rgb(114, 183, 178); fill-opacity: 1;\"/><path class=\"point plotly-customdata\" transform=\"translate(728.92,72.74)\" d=\"M0,1.7l1.7,1.7l1.7,-1.7l-1.7,-1.7l1.7,-1.7l-1.7,-1.7l-1.7,1.7l-1.7,-1.7l-1.7,1.7l1.7,1.7l-1.7,1.7l1.7,1.7Z\" style=\"opacity: 0.9; stroke-width: 0px; fill: rgb(114, 183, 178); fill-opacity: 1;\"/><path class=\"point plotly-customdata\" transform=\"translate(743.7,57.14)\" d=\"M0,1.7l1.7,1.7l1.7,-1.7l-1.7,-1.7l1.7,-1.7l-1.7,-1.7l-1.7,1.7l-1.7,-1.7l-1.7,1.7l1.7,1.7l-1.7,1.7l1.7,1.7Z\" style=\"opacity: 0.9; stroke-width: 0px; fill: rgb(114, 183, 178); fill-opacity: 1;\"/><path class=\"point plotly-customdata\" transform=\"translate(747.76,50.34)\" d=\"M0,1.7l1.7,1.7l1.7,-1.7l-1.7,-1.7l1.7,-1.7l-1.7,-1.7l-1.7,1.7l-1.7,-1.7l-1.7,1.7l1.7,1.7l-1.7,1.7l1.7,1.7Z\" style=\"opacity: 0.9; stroke-width: 0px; fill: rgb(114, 183, 178); fill-opacity: 1;\"/><path class=\"point plotly-customdata\" transform=\"translate(728.76,57.32)\" d=\"M0,1.7l1.7,1.7l1.7,-1.7l-1.7,-1.7l1.7,-1.7l-1.7,-1.7l-1.7,1.7l-1.7,-1.7l-1.7,1.7l1.7,1.7l-1.7,1.7l1.7,1.7Z\" style=\"opacity: 0.9; stroke-width: 0px; fill: rgb(114, 183, 178); fill-opacity: 1;\"/><path class=\"point plotly-customdata\" transform=\"translate(724.34,54.46)\" d=\"M0,1.7l1.7,1.7l1.7,-1.7l-1.7,-1.7l1.7,-1.7l-1.7,-1.7l-1.7,1.7l-1.7,-1.7l-1.7,1.7l1.7,1.7l-1.7,1.7l1.7,1.7Z\" style=\"opacity: 0.9; stroke-width: 0px; fill: rgb(114, 183, 178); fill-opacity: 1;\"/><path class=\"point plotly-customdata\" transform=\"translate(754.83,45.47)\" d=\"M0,1.7l1.7,1.7l1.7,-1.7l-1.7,-1.7l1.7,-1.7l-1.7,-1.7l-1.7,1.7l-1.7,-1.7l-1.7,1.7l1.7,1.7l-1.7,1.7l1.7,1.7Z\" style=\"opacity: 0.9; stroke-width: 0px; fill: rgb(114, 183, 178); fill-opacity: 1;\"/><path class=\"point plotly-customdata\" transform=\"translate(772.07,40.1)\" d=\"M0,1.7l1.7,1.7l1.7,-1.7l-1.7,-1.7l1.7,-1.7l-1.7,-1.7l-1.7,1.7l-1.7,-1.7l-1.7,1.7l1.7,1.7l-1.7,1.7l1.7,1.7Z\" style=\"opacity: 0.9; stroke-width: 0px; fill: rgb(114, 183, 178); fill-opacity: 1;\"/><path class=\"point plotly-customdata\" transform=\"translate(711.22,38.48)\" d=\"M0,1.7l1.7,1.7l1.7,-1.7l-1.7,-1.7l1.7,-1.7l-1.7,-1.7l-1.7,1.7l-1.7,-1.7l-1.7,1.7l1.7,1.7l-1.7,1.7l1.7,1.7Z\" style=\"opacity: 0.9; stroke-width: 0px; fill: rgb(114, 183, 178); fill-opacity: 1;\"/><path class=\"point plotly-customdata\" transform=\"translate(745.76,41.1)\" d=\"M0,1.7l1.7,1.7l1.7,-1.7l-1.7,-1.7l1.7,-1.7l-1.7,-1.7l-1.7,1.7l-1.7,-1.7l-1.7,1.7l1.7,1.7l-1.7,1.7l1.7,1.7Z\" style=\"opacity: 0.9; stroke-width: 0px; fill: rgb(114, 183, 178); fill-opacity: 1;\"/><path class=\"point plotly-customdata\" transform=\"translate(734.77,42.28)\" d=\"M0,1.7l1.7,1.7l1.7,-1.7l-1.7,-1.7l1.7,-1.7l-1.7,-1.7l-1.7,1.7l-1.7,-1.7l-1.7,1.7l1.7,1.7l-1.7,1.7l1.7,1.7Z\" style=\"opacity: 0.9; stroke-width: 0px; fill: rgb(114, 183, 178); fill-opacity: 1;\"/><path class=\"point plotly-customdata\" transform=\"translate(755.19,30.87)\" d=\"M0,1.7l1.7,1.7l1.7,-1.7l-1.7,-1.7l1.7,-1.7l-1.7,-1.7l-1.7,1.7l-1.7,-1.7l-1.7,1.7l1.7,1.7l-1.7,1.7l1.7,1.7Z\" style=\"opacity: 0.9; stroke-width: 0px; fill: rgb(114, 183, 178); fill-opacity: 1;\"/><path class=\"point plotly-customdata\" transform=\"translate(742.46,37.28)\" d=\"M0,1.7l1.7,1.7l1.7,-1.7l-1.7,-1.7l1.7,-1.7l-1.7,-1.7l-1.7,1.7l-1.7,-1.7l-1.7,1.7l1.7,1.7l-1.7,1.7l1.7,1.7Z\" style=\"opacity: 0.9; stroke-width: 0px; fill: rgb(114, 183, 178); fill-opacity: 1;\"/><path class=\"point plotly-customdata\" transform=\"translate(752.7,33.67)\" d=\"M0,1.7l1.7,1.7l1.7,-1.7l-1.7,-1.7l1.7,-1.7l-1.7,-1.7l-1.7,1.7l-1.7,-1.7l-1.7,1.7l1.7,1.7l-1.7,1.7l1.7,1.7Z\" style=\"opacity: 0.9; stroke-width: 0px; fill: rgb(114, 183, 178); fill-opacity: 1;\"/><path class=\"point plotly-customdata\" transform=\"translate(765.37,26.09)\" d=\"M0,1.7l1.7,1.7l1.7,-1.7l-1.7,-1.7l1.7,-1.7l-1.7,-1.7l-1.7,1.7l-1.7,-1.7l-1.7,1.7l1.7,1.7l-1.7,1.7l1.7,1.7Z\" style=\"opacity: 0.9; stroke-width: 0px; fill: rgb(114, 183, 178); fill-opacity: 1;\"/><path class=\"point plotly-customdata\" transform=\"translate(770.37,24.75)\" d=\"M0,1.7l1.7,1.7l1.7,-1.7l-1.7,-1.7l1.7,-1.7l-1.7,-1.7l-1.7,1.7l-1.7,-1.7l-1.7,1.7l1.7,1.7l-1.7,1.7l1.7,1.7Z\" style=\"opacity: 0.9; stroke-width: 0px; fill: rgb(114, 183, 178); fill-opacity: 1;\"/><path class=\"point plotly-customdata\" transform=\"translate(754.96,35.27)\" d=\"M0,1.7l1.7,1.7l1.7,-1.7l-1.7,-1.7l1.7,-1.7l-1.7,-1.7l-1.7,1.7l-1.7,-1.7l-1.7,1.7l1.7,1.7l-1.7,1.7l1.7,1.7Z\" style=\"opacity: 0.9; stroke-width: 0px; fill: rgb(114, 183, 178); fill-opacity: 1;\"/><path class=\"point plotly-customdata\" transform=\"translate(754.46,33.72)\" d=\"M0,1.7l1.7,1.7l1.7,-1.7l-1.7,-1.7l1.7,-1.7l-1.7,-1.7l-1.7,1.7l-1.7,-1.7l-1.7,1.7l1.7,1.7l-1.7,1.7l1.7,1.7Z\" style=\"opacity: 0.9; stroke-width: 0px; fill: rgb(114, 183, 178); fill-opacity: 1;\"/><path class=\"point plotly-customdata\" transform=\"translate(757.2,36.01)\" d=\"M0,1.7l1.7,1.7l1.7,-1.7l-1.7,-1.7l1.7,-1.7l-1.7,-1.7l-1.7,1.7l-1.7,-1.7l-1.7,1.7l1.7,1.7l-1.7,1.7l1.7,1.7Z\" style=\"opacity: 0.9; stroke-width: 0px; fill: rgb(114, 183, 178); fill-opacity: 1;\"/><path class=\"point plotly-customdata\" transform=\"translate(776.35,26.2)\" d=\"M0,1.7l1.7,1.7l1.7,-1.7l-1.7,-1.7l1.7,-1.7l-1.7,-1.7l-1.7,1.7l-1.7,-1.7l-1.7,1.7l1.7,1.7l-1.7,1.7l1.7,1.7Z\" style=\"opacity: 0.9; stroke-width: 0px; fill: rgb(114, 183, 178); fill-opacity: 1;\"/><path class=\"point plotly-customdata\" transform=\"translate(780,25.57)\" d=\"M0,1.7l1.7,1.7l1.7,-1.7l-1.7,-1.7l1.7,-1.7l-1.7,-1.7l-1.7,1.7l-1.7,-1.7l-1.7,1.7l1.7,1.7l-1.7,1.7l1.7,1.7Z\" style=\"opacity: 0.9; stroke-width: 0px; fill: rgb(114, 183, 178); fill-opacity: 1;\"/><path class=\"point plotly-customdata\" transform=\"translate(779.84,25.74)\" d=\"M0,1.7l1.7,1.7l1.7,-1.7l-1.7,-1.7l1.7,-1.7l-1.7,-1.7l-1.7,1.7l-1.7,-1.7l-1.7,1.7l1.7,1.7l-1.7,1.7l1.7,1.7Z\" style=\"opacity: 0.9; stroke-width: 0px; fill: rgb(114, 183, 178); fill-opacity: 1;\"/></g><g class=\"text\"/></g><g class=\"trace scatter trace278208\" style=\"stroke-miterlimit: 2; opacity: 1;\"><g class=\"fills\"/><g class=\"errorbars\"/><g class=\"lines\"/><g class=\"points\"><path class=\"point plotly-customdata\" transform=\"translate(185.48,367.61)\" d=\"M3.6,1.2H1.2V3.6H-1.2V1.2H-3.6V-1.2H-1.2V-3.6H1.2V-1.2H3.6Z\" style=\"opacity: 0.9; stroke-width: 0px; fill: rgb(84, 162, 75); fill-opacity: 1;\"/><path class=\"point plotly-customdata\" transform=\"translate(124.31,395.25)\" d=\"M3.6,1.2H1.2V3.6H-1.2V1.2H-3.6V-1.2H-1.2V-3.6H1.2V-1.2H3.6Z\" style=\"opacity: 0.9; stroke-width: 0px; fill: rgb(84, 162, 75); fill-opacity: 1;\"/><path class=\"point plotly-customdata\" transform=\"translate(261.27,331.07)\" d=\"M3.6,1.2H1.2V3.6H-1.2V1.2H-3.6V-1.2H-1.2V-3.6H1.2V-1.2H3.6Z\" style=\"opacity: 0.9; stroke-width: 0px; fill: rgb(84, 162, 75); fill-opacity: 1;\"/><path class=\"point plotly-customdata\" transform=\"translate(195.12,395.25)\" d=\"M3.6,1.2H1.2V3.6H-1.2V1.2H-3.6V-1.2H-1.2V-3.6H1.2V-1.2H3.6Z\" style=\"opacity: 0.9; stroke-width: 0px; fill: rgb(84, 162, 75); fill-opacity: 1;\"/><path class=\"point plotly-customdata\" transform=\"translate(346.36,312.33)\" d=\"M3.6,1.2H1.2V3.6H-1.2V1.2H-3.6V-1.2H-1.2V-3.6H1.2V-1.2H3.6Z\" style=\"opacity: 0.9; stroke-width: 0px; fill: rgb(84, 162, 75); fill-opacity: 1;\"/><path class=\"point plotly-customdata\" transform=\"translate(230.17,292.97)\" d=\"M3.6,1.2H1.2V3.6H-1.2V1.2H-3.6V-1.2H-1.2V-3.6H1.2V-1.2H3.6Z\" style=\"opacity: 0.9; stroke-width: 0px; fill: rgb(84, 162, 75); fill-opacity: 1;\"/><path class=\"point plotly-customdata\" transform=\"translate(446.72,287.26)\" d=\"M3.6,1.2H1.2V3.6H-1.2V1.2H-3.6V-1.2H-1.2V-3.6H1.2V-1.2H3.6Z\" style=\"opacity: 0.9; stroke-width: 0px; fill: rgb(84, 162, 75); fill-opacity: 1;\"/><path class=\"point plotly-customdata\" transform=\"translate(362.25,323.8)\" d=\"M3.6,1.2H1.2V3.6H-1.2V1.2H-3.6V-1.2H-1.2V-3.6H1.2V-1.2H3.6Z\" style=\"opacity: 0.9; stroke-width: 0px; fill: rgb(84, 162, 75); fill-opacity: 1;\"/><path class=\"point plotly-customdata\" transform=\"translate(499.08,284.69)\" d=\"M3.6,1.2H1.2V3.6H-1.2V1.2H-3.6V-1.2H-1.2V-3.6H1.2V-1.2H3.6Z\" style=\"opacity: 0.9; stroke-width: 0px; fill: rgb(84, 162, 75); fill-opacity: 1;\"/><path class=\"point plotly-customdata\" transform=\"translate(443.61,303.43)\" d=\"M3.6,1.2H1.2V3.6H-1.2V1.2H-3.6V-1.2H-1.2V-3.6H1.2V-1.2H3.6Z\" style=\"opacity: 0.9; stroke-width: 0px; fill: rgb(84, 162, 75); fill-opacity: 1;\"/><path class=\"point plotly-customdata\" transform=\"translate(512.04,282.27)\" d=\"M3.6,1.2H1.2V3.6H-1.2V1.2H-3.6V-1.2H-1.2V-3.6H1.2V-1.2H3.6Z\" style=\"opacity: 0.9; stroke-width: 0px; fill: rgb(84, 162, 75); fill-opacity: 1;\"/><path class=\"point plotly-customdata\" transform=\"translate(477.91,275.79)\" d=\"M3.6,1.2H1.2V3.6H-1.2V1.2H-3.6V-1.2H-1.2V-3.6H1.2V-1.2H3.6Z\" style=\"opacity: 0.9; stroke-width: 0px; fill: rgb(84, 162, 75); fill-opacity: 1;\"/><path class=\"point plotly-customdata\" transform=\"translate(488.42,250.19)\" d=\"M3.6,1.2H1.2V3.6H-1.2V1.2H-3.6V-1.2H-1.2V-3.6H1.2V-1.2H3.6Z\" style=\"opacity: 0.9; stroke-width: 0px; fill: rgb(84, 162, 75); fill-opacity: 1;\"/><path class=\"point plotly-customdata\" transform=\"translate(500.14,227.58)\" d=\"M3.6,1.2H1.2V3.6H-1.2V1.2H-3.6V-1.2H-1.2V-3.6H1.2V-1.2H3.6Z\" style=\"opacity: 0.9; stroke-width: 0px; fill: rgb(84, 162, 75); fill-opacity: 1;\"/><path class=\"point plotly-customdata\" transform=\"translate(469.94,253.47)\" d=\"M3.6,1.2H1.2V3.6H-1.2V1.2H-3.6V-1.2H-1.2V-3.6H1.2V-1.2H3.6Z\" style=\"opacity: 0.9; stroke-width: 0px; fill: rgb(84, 162, 75); fill-opacity: 1;\"/><path class=\"point plotly-customdata\" transform=\"translate(525.11,252.35)\" d=\"M3.6,1.2H1.2V3.6H-1.2V1.2H-3.6V-1.2H-1.2V-3.6H1.2V-1.2H3.6Z\" style=\"opacity: 0.9; stroke-width: 0px; fill: rgb(84, 162, 75); fill-opacity: 1;\"/><path class=\"point plotly-customdata\" transform=\"translate(536.09,211.21)\" d=\"M3.6,1.2H1.2V3.6H-1.2V1.2H-3.6V-1.2H-1.2V-3.6H1.2V-1.2H3.6Z\" style=\"opacity: 0.9; stroke-width: 0px; fill: rgb(84, 162, 75); fill-opacity: 1;\"/><path class=\"point plotly-customdata\" transform=\"translate(529.28,226.41)\" d=\"M3.6,1.2H1.2V3.6H-1.2V1.2H-3.6V-1.2H-1.2V-3.6H1.2V-1.2H3.6Z\" style=\"opacity: 0.9; stroke-width: 0px; fill: rgb(84, 162, 75); fill-opacity: 1;\"/><path class=\"point plotly-customdata\" transform=\"translate(553.66,197.07)\" d=\"M3.6,1.2H1.2V3.6H-1.2V1.2H-3.6V-1.2H-1.2V-3.6H1.2V-1.2H3.6Z\" style=\"opacity: 0.9; stroke-width: 0px; fill: rgb(84, 162, 75); fill-opacity: 1;\"/><path class=\"point plotly-customdata\" transform=\"translate(587.28,199.64)\" d=\"M3.6,1.2H1.2V3.6H-1.2V1.2H-3.6V-1.2H-1.2V-3.6H1.2V-1.2H3.6Z\" style=\"opacity: 0.9; stroke-width: 0px; fill: rgb(84, 162, 75); fill-opacity: 1;\"/><path class=\"point plotly-customdata\" transform=\"translate(570.17,195.18)\" d=\"M3.6,1.2H1.2V3.6H-1.2V1.2H-3.6V-1.2H-1.2V-3.6H1.2V-1.2H3.6Z\" style=\"opacity: 0.9; stroke-width: 0px; fill: rgb(84, 162, 75); fill-opacity: 1;\"/><path class=\"point plotly-customdata\" transform=\"translate(569.47,201.15)\" d=\"M3.6,1.2H1.2V3.6H-1.2V1.2H-3.6V-1.2H-1.2V-3.6H1.2V-1.2H3.6Z\" style=\"opacity: 0.9; stroke-width: 0px; fill: rgb(84, 162, 75); fill-opacity: 1;\"/><path class=\"point plotly-customdata\" transform=\"translate(566.05,178.4)\" d=\"M3.6,1.2H1.2V3.6H-1.2V1.2H-3.6V-1.2H-1.2V-3.6H1.2V-1.2H3.6Z\" style=\"opacity: 0.9; stroke-width: 0px; fill: rgb(84, 162, 75); fill-opacity: 1;\"/><path class=\"point plotly-customdata\" transform=\"translate(591.65,177.71)\" d=\"M3.6,1.2H1.2V3.6H-1.2V1.2H-3.6V-1.2H-1.2V-3.6H1.2V-1.2H3.6Z\" style=\"opacity: 0.9; stroke-width: 0px; fill: rgb(84, 162, 75); fill-opacity: 1;\"/><path class=\"point plotly-customdata\" transform=\"translate(602.08,179.81)\" d=\"M3.6,1.2H1.2V3.6H-1.2V1.2H-3.6V-1.2H-1.2V-3.6H1.2V-1.2H3.6Z\" style=\"opacity: 0.9; stroke-width: 0px; fill: rgb(84, 162, 75); fill-opacity: 1;\"/><path class=\"point plotly-customdata\" transform=\"translate(568.81,167.01)\" d=\"M3.6,1.2H1.2V3.6H-1.2V1.2H-3.6V-1.2H-1.2V-3.6H1.2V-1.2H3.6Z\" style=\"opacity: 0.9; stroke-width: 0px; fill: rgb(84, 162, 75); fill-opacity: 1;\"/><path class=\"point plotly-customdata\" transform=\"translate(611.19,156.83)\" d=\"M3.6,1.2H1.2V3.6H-1.2V1.2H-3.6V-1.2H-1.2V-3.6H1.2V-1.2H3.6Z\" style=\"opacity: 0.9; stroke-width: 0px; fill: rgb(84, 162, 75); fill-opacity: 1;\"/><path class=\"point plotly-customdata\" transform=\"translate(597.91,178.4)\" d=\"M3.6,1.2H1.2V3.6H-1.2V1.2H-3.6V-1.2H-1.2V-3.6H1.2V-1.2H3.6Z\" style=\"opacity: 0.9; stroke-width: 0px; fill: rgb(84, 162, 75); fill-opacity: 1;\"/><path class=\"point plotly-customdata\" transform=\"translate(531.96,176.53)\" d=\"M3.6,1.2H1.2V3.6H-1.2V1.2H-3.6V-1.2H-1.2V-3.6H1.2V-1.2H3.6Z\" style=\"opacity: 0.9; stroke-width: 0px; fill: rgb(84, 162, 75); fill-opacity: 1;\"/><path class=\"point plotly-customdata\" transform=\"translate(645.98,151.19)\" d=\"M3.6,1.2H1.2V3.6H-1.2V1.2H-3.6V-1.2H-1.2V-3.6H1.2V-1.2H3.6Z\" style=\"opacity: 0.9; stroke-width: 0px; fill: rgb(84, 162, 75); fill-opacity: 1;\"/><path class=\"point plotly-customdata\" transform=\"translate(593.74,166.24)\" d=\"M3.6,1.2H1.2V3.6H-1.2V1.2H-3.6V-1.2H-1.2V-3.6H1.2V-1.2H3.6Z\" style=\"opacity: 0.9; stroke-width: 0px; fill: rgb(84, 162, 75); fill-opacity: 1;\"/><path class=\"point plotly-customdata\" transform=\"translate(606.32,156.63)\" d=\"M3.6,1.2H1.2V3.6H-1.2V1.2H-3.6V-1.2H-1.2V-3.6H1.2V-1.2H3.6Z\" style=\"opacity: 0.9; stroke-width: 0px; fill: rgb(84, 162, 75); fill-opacity: 1;\"/><path class=\"point plotly-customdata\" transform=\"translate(607.88,150.15)\" d=\"M3.6,1.2H1.2V3.6H-1.2V1.2H-3.6V-1.2H-1.2V-3.6H1.2V-1.2H3.6Z\" style=\"opacity: 0.9; stroke-width: 0px; fill: rgb(84, 162, 75); fill-opacity: 1;\"/></g><g class=\"text\"/></g><g class=\"trace scatter trace2ababc\" style=\"stroke-miterlimit: 2; opacity: 1;\"><g class=\"fills\"/><g class=\"errorbars\"/><g class=\"lines\"/><g class=\"points\"><path class=\"point plotly-customdata\" transform=\"translate(145.08,339.97)\" d=\"M3,0A3,3 0 1,1 0,-3A3,3 0 0,1 3,0Z\" style=\"opacity: 0.9; stroke-width: 0px; fill: rgb(238, 202, 59); fill-opacity: 1;\"/><path class=\"point plotly-customdata\" transform=\"translate(274.43,268.52)\" d=\"M3,0A3,3 0 1,1 0,-3A3,3 0 0,1 3,0Z\" style=\"opacity: 0.9; stroke-width: 0px; fill: rgb(238, 202, 59); fill-opacity: 1;\"/><path class=\"point plotly-customdata\" transform=\"translate(253.67,279.99)\" d=\"M3,0A3,3 0 1,1 0,-3A3,3 0 0,1 3,0Z\" style=\"opacity: 0.9; stroke-width: 0px; fill: rgb(238, 202, 59); fill-opacity: 1;\"/><path class=\"point plotly-customdata\" transform=\"translate(261.27,275.79)\" d=\"M3,0A3,3 0 1,1 0,-3A3,3 0 0,1 3,0Z\" style=\"opacity: 0.9; stroke-width: 0px; fill: rgb(238, 202, 59); fill-opacity: 1;\"/><path class=\"point plotly-customdata\" transform=\"translate(481.58,236.93)\" d=\"M3,0A3,3 0 1,1 0,-3A3,3 0 0,1 3,0Z\" style=\"opacity: 0.9; stroke-width: 0px; fill: rgb(238, 202, 59); fill-opacity: 1;\"/><path class=\"point plotly-customdata\" transform=\"translate(292.91,258.31)\" d=\"M3,0A3,3 0 1,1 0,-3A3,3 0 0,1 3,0Z\" style=\"opacity: 0.9; stroke-width: 0px; fill: rgb(238, 202, 59); fill-opacity: 1;\"/><path class=\"point plotly-customdata\" transform=\"translate(464.74,228.79)\" d=\"M3,0A3,3 0 1,1 0,-3A3,3 0 0,1 3,0Z\" style=\"opacity: 0.9; stroke-width: 0px; fill: rgb(238, 202, 59); fill-opacity: 1;\"/><path class=\"point plotly-customdata\" transform=\"translate(502.73,212.82)\" d=\"M3,0A3,3 0 1,1 0,-3A3,3 0 0,1 3,0Z\" style=\"opacity: 0.9; stroke-width: 0px; fill: rgb(238, 202, 59); fill-opacity: 1;\"/><path class=\"point plotly-customdata\" transform=\"translate(322.96,241.72)\" d=\"M3,0A3,3 0 1,1 0,-3A3,3 0 0,1 3,0Z\" style=\"opacity: 0.9; stroke-width: 0px; fill: rgb(238, 202, 59); fill-opacity: 1;\"/><path class=\"point plotly-customdata\" transform=\"translate(553.66,219.04)\" d=\"M3,0A3,3 0 1,1 0,-3A3,3 0 0,1 3,0Z\" style=\"opacity: 0.9; stroke-width: 0px; fill: rgb(238, 202, 59); fill-opacity: 1;\"/><path class=\"point plotly-customdata\" transform=\"translate(538.53,226.41)\" d=\"M3,0A3,3 0 1,1 0,-3A3,3 0 0,1 3,0Z\" style=\"opacity: 0.9; stroke-width: 0px; fill: rgb(238, 202, 59); fill-opacity: 1;\"/><path class=\"point plotly-customdata\" transform=\"translate(571.16,195.44)\" d=\"M3,0A3,3 0 1,1 0,-3A3,3 0 0,1 3,0Z\" style=\"opacity: 0.9; stroke-width: 0px; fill: rgb(238, 202, 59); fill-opacity: 1;\"/><path class=\"point plotly-customdata\" transform=\"translate(584.1,212.01)\" d=\"M3,0A3,3 0 1,1 0,-3A3,3 0 0,1 3,0Z\" style=\"opacity: 0.9; stroke-width: 0px; fill: rgb(238, 202, 59); fill-opacity: 1;\"/><path class=\"point plotly-customdata\" transform=\"translate(559.92,200.84)\" d=\"M3,0A3,3 0 1,1 0,-3A3,3 0 0,1 3,0Z\" style=\"opacity: 0.9; stroke-width: 0px; fill: rgb(238, 202, 59); fill-opacity: 1;\"/><path class=\"point plotly-customdata\" transform=\"translate(608.56,202.08)\" d=\"M3,0A3,3 0 1,1 0,-3A3,3 0 0,1 3,0Z\" style=\"opacity: 0.9; stroke-width: 0px; fill: rgb(238, 202, 59); fill-opacity: 1;\"/><path class=\"point plotly-customdata\" transform=\"translate(603.64,192.13)\" d=\"M3,0A3,3 0 1,1 0,-3A3,3 0 0,1 3,0Z\" style=\"opacity: 0.9; stroke-width: 0px; fill: rgb(238, 202, 59); fill-opacity: 1;\"/><path class=\"point plotly-customdata\" transform=\"translate(582.17,190.69)\" d=\"M3,0A3,3 0 1,1 0,-3A3,3 0 0,1 3,0Z\" style=\"opacity: 0.9; stroke-width: 0px; fill: rgb(238, 202, 59); fill-opacity: 1;\"/><path class=\"point plotly-customdata\" transform=\"translate(621.75,196.25)\" d=\"M3,0A3,3 0 1,1 0,-3A3,3 0 0,1 3,0Z\" style=\"opacity: 0.9; stroke-width: 0px; fill: rgb(238, 202, 59); fill-opacity: 1;\"/><path class=\"point plotly-customdata\" transform=\"translate(637.28,177.03)\" d=\"M3,0A3,3 0 1,1 0,-3A3,3 0 0,1 3,0Z\" style=\"opacity: 0.9; stroke-width: 0px; fill: rgb(238, 202, 59); fill-opacity: 1;\"/><path class=\"point plotly-customdata\" transform=\"translate(613.09,178.05)\" d=\"M3,0A3,3 0 1,1 0,-3A3,3 0 0,1 3,0Z\" style=\"opacity: 0.9; stroke-width: 0px; fill: rgb(238, 202, 59); fill-opacity: 1;\"/><path class=\"point plotly-customdata\" transform=\"translate(640.92,177.37)\" d=\"M3,0A3,3 0 1,1 0,-3A3,3 0 0,1 3,0Z\" style=\"opacity: 0.9; stroke-width: 0px; fill: rgb(238, 202, 59); fill-opacity: 1;\"/><path class=\"point plotly-customdata\" transform=\"translate(639.27,182.6)\" d=\"M3,0A3,3 0 1,1 0,-3A3,3 0 0,1 3,0Z\" style=\"opacity: 0.9; stroke-width: 0px; fill: rgb(238, 202, 59); fill-opacity: 1;\"/><path class=\"point plotly-customdata\" transform=\"translate(627.73,159.44)\" d=\"M3,0A3,3 0 1,1 0,-3A3,3 0 0,1 3,0Z\" style=\"opacity: 0.9; stroke-width: 0px; fill: rgb(238, 202, 59); fill-opacity: 1;\"/><path class=\"point plotly-customdata\" transform=\"translate(485.89,151.72)\" d=\"M3,0A3,3 0 1,1 0,-3A3,3 0 0,1 3,0Z\" style=\"opacity: 0.9; stroke-width: 0px; fill: rgb(238, 202, 59); fill-opacity: 1;\"/><path class=\"point plotly-customdata\" transform=\"translate(488.88,150.07)\" d=\"M3,0A3,3 0 1,1 0,-3A3,3 0 0,1 3,0Z\" style=\"opacity: 0.9; stroke-width: 0px; fill: rgb(238, 202, 59); fill-opacity: 1;\"/><path class=\"point plotly-customdata\" transform=\"translate(722.86,147.35)\" d=\"M3,0A3,3 0 1,1 0,-3A3,3 0 0,1 3,0Z\" style=\"opacity: 0.9; stroke-width: 0px; fill: rgb(238, 202, 59); fill-opacity: 1;\"/><path class=\"point plotly-customdata\" transform=\"translate(676.96,148.07)\" d=\"M3,0A3,3 0 1,1 0,-3A3,3 0 0,1 3,0Z\" style=\"opacity: 0.9; stroke-width: 0px; fill: rgb(238, 202, 59); fill-opacity: 1;\"/><path class=\"point plotly-customdata\" transform=\"translate(676.31,156.73)\" d=\"M3,0A3,3 0 1,1 0,-3A3,3 0 0,1 3,0Z\" style=\"opacity: 0.9; stroke-width: 0px; fill: rgb(238, 202, 59); fill-opacity: 1;\"/><path class=\"point plotly-customdata\" transform=\"translate(674.48,151.63)\" d=\"M3,0A3,3 0 1,1 0,-3A3,3 0 0,1 3,0Z\" style=\"opacity: 0.9; stroke-width: 0px; fill: rgb(238, 202, 59); fill-opacity: 1;\"/><path class=\"point plotly-customdata\" transform=\"translate(491.01,148.89)\" d=\"M3,0A3,3 0 1,1 0,-3A3,3 0 0,1 3,0Z\" style=\"opacity: 0.9; stroke-width: 0px; fill: rgb(238, 202, 59); fill-opacity: 1;\"/><path class=\"point plotly-customdata\" transform=\"translate(506.46,140.36)\" d=\"M3,0A3,3 0 1,1 0,-3A3,3 0 0,1 3,0Z\" style=\"opacity: 0.9; stroke-width: 0px; fill: rgb(238, 202, 59); fill-opacity: 1;\"/><path class=\"point plotly-customdata\" transform=\"translate(699.24,158.8)\" d=\"M3,0A3,3 0 1,1 0,-3A3,3 0 0,1 3,0Z\" style=\"opacity: 0.9; stroke-width: 0px; fill: rgb(238, 202, 59); fill-opacity: 1;\"/><path class=\"point plotly-customdata\" transform=\"translate(654.35,139.37)\" d=\"M3,0A3,3 0 1,1 0,-3A3,3 0 0,1 3,0Z\" style=\"opacity: 0.9; stroke-width: 0px; fill: rgb(238, 202, 59); fill-opacity: 1;\"/><path class=\"point plotly-customdata\" transform=\"translate(627.78,155.83)\" d=\"M3,0A3,3 0 1,1 0,-3A3,3 0 0,1 3,0Z\" style=\"opacity: 0.9; stroke-width: 0px; fill: rgb(238, 202, 59); fill-opacity: 1;\"/><path class=\"point plotly-customdata\" transform=\"translate(661.17,156.73)\" d=\"M3,0A3,3 0 1,1 0,-3A3,3 0 0,1 3,0Z\" style=\"opacity: 0.9; stroke-width: 0px; fill: rgb(238, 202, 59); fill-opacity: 1;\"/><path class=\"point plotly-customdata\" transform=\"translate(632.15,162.69)\" d=\"M3,0A3,3 0 1,1 0,-3A3,3 0 0,1 3,0Z\" style=\"opacity: 0.9; stroke-width: 0px; fill: rgb(238, 202, 59); fill-opacity: 1;\"/><path class=\"point plotly-customdata\" transform=\"translate(466.24,162.58)\" d=\"M3,0A3,3 0 1,1 0,-3A3,3 0 0,1 3,0Z\" style=\"opacity: 0.9; stroke-width: 0px; fill: rgb(238, 202, 59); fill-opacity: 1;\"/><path class=\"point plotly-customdata\" transform=\"translate(492.34,148.15)\" d=\"M3,0A3,3 0 1,1 0,-3A3,3 0 0,1 3,0Z\" style=\"opacity: 0.9; stroke-width: 0px; fill: rgb(238, 202, 59); fill-opacity: 1;\"/></g><g class=\"text\"/></g></g></g><g class=\"overplot\"/><path class=\"xlines-above crisp\" d=\"\" style=\"fill: none; stroke-width: 1px; stroke: rgb(0, 0, 0); stroke-opacity: 0;\"/><path class=\"ylines-above crisp\" d=\"\" style=\"fill: none; stroke-width: 1px; stroke: rgb(0, 0, 0); stroke-opacity: 0;\"/><g class=\"overlines-above\"/><g class=\"xaxislayer-above\"><path class=\"xtick ticks crisp\" d=\"M0,521v5\" transform=\"translate(125,0)\" style=\"stroke: rgb(51, 51, 51); stroke-opacity: 1; stroke-width: 1px;\"/><path class=\"xtick ticks crisp\" d=\"M0,521v5\" transform=\"translate(175.04000000000002,0)\" style=\"stroke: rgb(51, 51, 51); stroke-opacity: 1; stroke-width: 1px;\"/><path class=\"xtick ticks crisp\" d=\"M0,521v5\" transform=\"translate(241.19,0)\" style=\"stroke: rgb(51, 51, 51); stroke-opacity: 1; stroke-width: 1px;\"/><path class=\"xtick ticks crisp\" d=\"M0,521v5\" transform=\"translate(291.23,0)\" style=\"stroke: rgb(51, 51, 51); stroke-opacity: 1; stroke-width: 1px;\"/><path class=\"xtick ticks crisp\" d=\"M0,521v5\" transform=\"translate(341.27,0)\" style=\"stroke: rgb(51, 51, 51); stroke-opacity: 1; stroke-width: 1px;\"/><path class=\"xtick ticks crisp\" d=\"M0,521v5\" transform=\"translate(407.42,0)\" style=\"stroke: rgb(51, 51, 51); stroke-opacity: 1; stroke-width: 1px;\"/><path class=\"xtick ticks crisp\" d=\"M0,521v5\" transform=\"translate(457.46,0)\" style=\"stroke: rgb(51, 51, 51); stroke-opacity: 1; stroke-width: 1px;\"/><path class=\"xtick ticks crisp\" d=\"M0,521v5\" transform=\"translate(507.5,0)\" style=\"stroke: rgb(51, 51, 51); stroke-opacity: 1; stroke-width: 1px;\"/><path class=\"xtick ticks crisp\" d=\"M0,521v5\" transform=\"translate(573.65,0)\" style=\"stroke: rgb(51, 51, 51); stroke-opacity: 1; stroke-width: 1px;\"/><path class=\"xtick ticks crisp\" d=\"M0,521v5\" transform=\"translate(623.7,0)\" style=\"stroke: rgb(51, 51, 51); stroke-opacity: 1; stroke-width: 1px;\"/><path class=\"xtick ticks crisp\" d=\"M0,521v5\" transform=\"translate(673.74,0)\" style=\"stroke: rgb(51, 51, 51); stroke-opacity: 1; stroke-width: 1px;\"/><path class=\"xtick ticks crisp\" d=\"M0,521v5\" transform=\"translate(739.89,0)\" style=\"stroke: rgb(51, 51, 51); stroke-opacity: 1; stroke-width: 1px;\"/><path class=\"xtick ticks crisp\" d=\"M0,521v5\" transform=\"translate(789.93,0)\" style=\"stroke: rgb(51, 51, 51); stroke-opacity: 1; stroke-width: 1px;\"/><path class=\"xtick ticks crisp\" d=\"M0,521v5\" transform=\"translate(839.97,0)\" style=\"stroke: rgb(51, 51, 51); stroke-opacity: 1; stroke-width: 1px;\"/><g class=\"xtick\"><text text-anchor=\"middle\" x=\"0\" y=\"540.4\" transform=\"translate(125,0)\" style=\"font-family: 'Open Sans', verdana, arial, sans-serif; font-size: 12px; fill: rgb(51, 51, 51); fill-opacity: 1; white-space: pre;\">1</text></g><g class=\"xtick\"><text text-anchor=\"middle\" x=\"0\" y=\"537.4\" transform=\"translate(175.04000000000002,0)\" style=\"font-family: 'Open Sans', verdana, arial, sans-serif; font-size: 9px; fill: rgb(51, 51, 51); fill-opacity: 1; white-space: pre;\">2</text></g><g class=\"xtick\"><text text-anchor=\"middle\" x=\"0\" y=\"537.4\" transform=\"translate(241.19,0)\" style=\"font-family: 'Open Sans', verdana, arial, sans-serif; font-size: 9px; fill: rgb(51, 51, 51); fill-opacity: 1; white-space: pre;\">5</text></g><g class=\"xtick\"><text text-anchor=\"middle\" x=\"0\" y=\"540.4\" transform=\"translate(291.23,0)\" style=\"font-family: 'Open Sans', verdana, arial, sans-serif; font-size: 12px; fill: rgb(51, 51, 51); fill-opacity: 1; white-space: pre;\">10</text></g><g class=\"xtick\"><text text-anchor=\"middle\" x=\"0\" y=\"537.4\" transform=\"translate(341.27,0)\" style=\"font-family: 'Open Sans', verdana, arial, sans-serif; font-size: 9px; fill: rgb(51, 51, 51); fill-opacity: 1; white-space: pre;\">2</text></g><g class=\"xtick\"><text text-anchor=\"middle\" x=\"0\" y=\"537.4\" transform=\"translate(407.42,0)\" style=\"font-family: 'Open Sans', verdana, arial, sans-serif; font-size: 9px; fill: rgb(51, 51, 51); fill-opacity: 1; white-space: pre;\">5</text></g><g class=\"xtick\"><text text-anchor=\"middle\" x=\"0\" y=\"540.4\" transform=\"translate(457.46,0)\" style=\"font-family: 'Open Sans', verdana, arial, sans-serif; font-size: 12px; fill: rgb(51, 51, 51); fill-opacity: 1; white-space: pre;\">100</text></g><g class=\"xtick\"><text text-anchor=\"middle\" x=\"0\" y=\"537.4\" transform=\"translate(507.5,0)\" style=\"font-family: 'Open Sans', verdana, arial, sans-serif; font-size: 9px; fill: rgb(51, 51, 51); fill-opacity: 1; white-space: pre;\">2</text></g><g class=\"xtick\"><text text-anchor=\"middle\" x=\"0\" y=\"537.4\" transform=\"translate(573.65,0)\" style=\"font-family: 'Open Sans', verdana, arial, sans-serif; font-size: 9px; fill: rgb(51, 51, 51); fill-opacity: 1; white-space: pre;\">5</text></g><g class=\"xtick\"><text text-anchor=\"middle\" x=\"0\" y=\"540.4\" transform=\"translate(623.7,0)\" style=\"font-family: 'Open Sans', verdana, arial, sans-serif; font-size: 12px; fill: rgb(51, 51, 51); fill-opacity: 1; white-space: pre;\">1000</text></g><g class=\"xtick\"><text text-anchor=\"middle\" x=\"0\" y=\"537.4\" transform=\"translate(673.74,0)\" style=\"font-family: 'Open Sans', verdana, arial, sans-serif; font-size: 9px; fill: rgb(51, 51, 51); fill-opacity: 1; white-space: pre;\">2</text></g><g class=\"xtick\"><text text-anchor=\"middle\" x=\"0\" y=\"537.4\" transform=\"translate(739.89,0)\" style=\"font-family: 'Open Sans', verdana, arial, sans-serif; font-size: 9px; fill: rgb(51, 51, 51); fill-opacity: 1; white-space: pre;\">5</text></g><g class=\"xtick\"><text text-anchor=\"middle\" x=\"0\" y=\"540.4\" transform=\"translate(789.93,0)\" style=\"font-family: 'Open Sans', verdana, arial, sans-serif; font-size: 12px; fill: rgb(51, 51, 51); fill-opacity: 1; white-space: pre;\">10k</text></g><g class=\"xtick\"><text text-anchor=\"middle\" x=\"0\" y=\"537.4\" transform=\"translate(839.97,0)\" style=\"font-family: 'Open Sans', verdana, arial, sans-serif; font-size: 9px; fill: rgb(51, 51, 51); fill-opacity: 1; white-space: pre;\">2</text></g></g><g class=\"yaxislayer-above\"><path class=\"ytick ticks crisp\" d=\"M79,0h-5\" transform=\"translate(0,495.25)\" style=\"stroke: rgb(51, 51, 51); stroke-opacity: 1; stroke-width: 1px;\"/><path class=\"ytick ticks crisp\" d=\"M79,0h-5\" transform=\"translate(0,467.61)\" style=\"stroke: rgb(51, 51, 51); stroke-opacity: 1; stroke-width: 1px;\"/><path class=\"ytick ticks crisp\" d=\"M79,0h-5\" transform=\"translate(0,431.07)\" style=\"stroke: rgb(51, 51, 51); stroke-opacity: 1; stroke-width: 1px;\"/><path class=\"ytick ticks crisp\" d=\"M79,0h-5\" transform=\"translate(0,403.43)\" style=\"stroke: rgb(51, 51, 51); stroke-opacity: 1; stroke-width: 1px;\"/><path class=\"ytick ticks crisp\" d=\"M79,0h-5\" transform=\"translate(0,375.79)\" style=\"stroke: rgb(51, 51, 51); stroke-opacity: 1; stroke-width: 1px;\"/><path class=\"ytick ticks crisp\" d=\"M79,0h-5\" transform=\"translate(0,339.25)\" style=\"stroke: rgb(51, 51, 51); stroke-opacity: 1; stroke-width: 1px;\"/><path class=\"ytick ticks crisp\" d=\"M79,0h-5\" transform=\"translate(0,311.61)\" style=\"stroke: rgb(51, 51, 51); stroke-opacity: 1; stroke-width: 1px;\"/><path class=\"ytick ticks crisp\" d=\"M79,0h-5\" transform=\"translate(0,283.97)\" style=\"stroke: rgb(51, 51, 51); stroke-opacity: 1; stroke-width: 1px;\"/><path class=\"ytick ticks crisp\" d=\"M79,0h-5\" transform=\"translate(0,247.43)\" style=\"stroke: rgb(51, 51, 51); stroke-opacity: 1; stroke-width: 1px;\"/><path class=\"ytick ticks crisp\" d=\"M79,0h-5\" transform=\"translate(0,219.79000000000002)\" style=\"stroke: rgb(51, 51, 51); stroke-opacity: 1; stroke-width: 1px;\"/><path class=\"ytick ticks crisp\" d=\"M79,0h-5\" transform=\"translate(0,192.15)\" style=\"stroke: rgb(51, 51, 51); stroke-opacity: 1; stroke-width: 1px;\"/><path class=\"ytick ticks crisp\" d=\"M79,0h-5\" transform=\"translate(0,155.61)\" style=\"stroke: rgb(51, 51, 51); stroke-opacity: 1; stroke-width: 1px;\"/><path class=\"ytick ticks crisp\" d=\"M79,0h-5\" transform=\"translate(0,127.97)\" style=\"stroke: rgb(51, 51, 51); stroke-opacity: 1; stroke-width: 1px;\"/><path class=\"ytick ticks crisp\" d=\"M79,0h-5\" transform=\"translate(0,100.33)\" style=\"stroke: rgb(51, 51, 51); stroke-opacity: 1; stroke-width: 1px;\"/><g class=\"ytick\"><text text-anchor=\"end\" x=\"71.6\" y=\"4.199999999999999\" transform=\"translate(0,495.25)\" style=\"font-family: 'Open Sans', verdana, arial, sans-serif; font-size: 12px; fill: rgb(51, 51, 51); fill-opacity: 1; white-space: pre;\">1</text></g><g class=\"ytick\"><text text-anchor=\"end\" x=\"71.6\" y=\"3.15\" transform=\"translate(0,467.61)\" style=\"font-family: 'Open Sans', verdana, arial, sans-serif; font-size: 9px; fill: rgb(51, 51, 51); fill-opacity: 1; white-space: pre;\">2</text></g><g class=\"ytick\"><text text-anchor=\"end\" x=\"71.6\" y=\"3.15\" transform=\"translate(0,431.07)\" style=\"font-family: 'Open Sans', verdana, arial, sans-serif; font-size: 9px; fill: rgb(51, 51, 51); fill-opacity: 1; white-space: pre;\">5</text></g><g class=\"ytick\"><text text-anchor=\"end\" x=\"71.6\" y=\"4.199999999999999\" transform=\"translate(0,403.43)\" style=\"font-family: 'Open Sans', verdana, arial, sans-serif; font-size: 12px; fill: rgb(51, 51, 51); fill-opacity: 1; white-space: pre;\">10</text></g><g class=\"ytick\"><text text-anchor=\"end\" x=\"71.6\" y=\"3.15\" transform=\"translate(0,375.79)\" style=\"font-family: 'Open Sans', verdana, arial, sans-serif; font-size: 9px; fill: rgb(51, 51, 51); fill-opacity: 1; white-space: pre;\">2</text></g><g class=\"ytick\"><text text-anchor=\"end\" x=\"71.6\" y=\"3.15\" transform=\"translate(0,339.25)\" style=\"font-family: 'Open Sans', verdana, arial, sans-serif; font-size: 9px; fill: rgb(51, 51, 51); fill-opacity: 1; white-space: pre;\">5</text></g><g class=\"ytick\"><text text-anchor=\"end\" x=\"71.6\" y=\"4.199999999999999\" transform=\"translate(0,311.61)\" style=\"font-family: 'Open Sans', verdana, arial, sans-serif; font-size: 12px; fill: rgb(51, 51, 51); fill-opacity: 1; white-space: pre;\">100</text></g><g class=\"ytick\"><text text-anchor=\"end\" x=\"71.6\" y=\"3.15\" transform=\"translate(0,283.97)\" style=\"font-family: 'Open Sans', verdana, arial, sans-serif; font-size: 9px; fill: rgb(51, 51, 51); fill-opacity: 1; white-space: pre;\">2</text></g><g class=\"ytick\"><text text-anchor=\"end\" x=\"71.6\" y=\"3.15\" transform=\"translate(0,247.43)\" style=\"font-family: 'Open Sans', verdana, arial, sans-serif; font-size: 9px; fill: rgb(51, 51, 51); fill-opacity: 1; white-space: pre;\">5</text></g><g class=\"ytick\"><text text-anchor=\"end\" x=\"71.6\" y=\"4.199999999999999\" transform=\"translate(0,219.79000000000002)\" style=\"font-family: 'Open Sans', verdana, arial, sans-serif; font-size: 12px; fill: rgb(51, 51, 51); fill-opacity: 1; white-space: pre;\">1000</text></g><g class=\"ytick\"><text text-anchor=\"end\" x=\"71.6\" y=\"3.15\" transform=\"translate(0,192.15)\" style=\"font-family: 'Open Sans', verdana, arial, sans-serif; font-size: 9px; fill: rgb(51, 51, 51); fill-opacity: 1; white-space: pre;\">2</text></g><g class=\"ytick\"><text text-anchor=\"end\" x=\"71.6\" y=\"3.15\" transform=\"translate(0,155.61)\" style=\"font-family: 'Open Sans', verdana, arial, sans-serif; font-size: 9px; fill: rgb(51, 51, 51); fill-opacity: 1; white-space: pre;\">5</text></g><g class=\"ytick\"><text text-anchor=\"end\" x=\"71.6\" y=\"4.199999999999999\" transform=\"translate(0,127.97)\" style=\"font-family: 'Open Sans', verdana, arial, sans-serif; font-size: 12px; fill: rgb(51, 51, 51); fill-opacity: 1; white-space: pre;\">10k</text></g><g class=\"ytick\"><text text-anchor=\"end\" x=\"71.6\" y=\"3.15\" transform=\"translate(0,100.33)\" style=\"font-family: 'Open Sans', verdana, arial, sans-serif; font-size: 9px; fill: rgb(51, 51, 51); fill-opacity: 1; white-space: pre;\">2</text></g></g><g class=\"overaxes-above\"/></g></g><g class=\"polarlayer\"/><g class=\"ternarylayer\"/><g class=\"geolayer\"/><g class=\"funnelarealayer\"/><g class=\"pielayer\"/><g class=\"treemaplayer\"/><g class=\"sunburstlayer\"/><g class=\"glimages\"/><defs id=\"topdefs-67ea0a\"><g class=\"clips\"/><clipPath id=\"legend67ea0a\"><rect width=\"66\" height=\"140\" x=\"0\" y=\"0\"/></clipPath></defs><g class=\"layer-above\"><g class=\"imagelayer\"/><g class=\"shapelayer\"/></g><g class=\"infolayer\"><g class=\"legend\" pointer-events=\"all\" transform=\"translate(921.5, 100)\"><rect class=\"bg\" shape-rendering=\"crispEdges\" width=\"66\" height=\"140\" x=\"0\" y=\"0\" style=\"stroke: rgb(68, 68, 68); stroke-opacity: 1; fill: rgb(255, 255, 255); fill-opacity: 1; stroke-width: 0px;\"/><g class=\"scrollbox\" transform=\"translate(0, 0)\" clip-path=\"url('#legend67ea0a')\"><text class=\"legendtitletext user-select-none\" text-anchor=\"start\" x=\"2\" y=\"15.600000000000001\" style=\"font-family: 'Open Sans', verdana, arial, sans-serif; font-size: 12px; fill: rgb(51, 51, 51); fill-opacity: 1; white-space: pre;\">State</text><g class=\"groups\" transform=\"translate(0, 0)\"><g class=\"traces\" transform=\"translate(0, 30.1)\" style=\"opacity: 1;\"><text class=\"legendtext user-select-none\" text-anchor=\"start\" x=\"40\" y=\"4.680000000000001\" style=\"font-family: 'Open Sans', verdana, arial, sans-serif; font-size: 12px; fill: rgb(51, 51, 51); fill-opacity: 1; white-space: pre;\">FL</text><g class=\"layers\" style=\"opacity: 1;\"><g class=\"legendfill\"/><g class=\"legendlines\"/><g class=\"legendsymbols\"><g class=\"legendpoints\"><path class=\"scatterpts\" transform=\"translate(20,0)\" d=\"M3,0A3,3 0 1,1 0,-3A3,3 0 0,1 3,0Z\" style=\"opacity: 0.9; stroke-width: 0px; fill: rgb(76, 120, 168); fill-opacity: 1;\"/></g></g></g><rect class=\"legendtoggle\" pointer-events=\"all\" x=\"0\" y=\"-9.5\" width=\"60.078125\" height=\"19\" style=\"cursor: pointer; fill: rgb(0, 0, 0); fill-opacity: 0;\"/></g></g><g class=\"groups\" transform=\"translate(0, 0)\"><g class=\"traces\" transform=\"translate(0, 49.1)\" style=\"opacity: 1;\"><text class=\"legendtext user-select-none\" text-anchor=\"start\" x=\"40\" y=\"4.680000000000001\" style=\"font-family: 'Open Sans', verdana, arial, sans-serif; font-size: 12px; fill: rgb(51, 51, 51); fill-opacity: 1; white-space: pre;\">LA</text><g class=\"layers\" style=\"opacity: 1;\"><g class=\"legendfill\"/><g class=\"legendlines\"/><g class=\"legendsymbols\"><g class=\"legendpoints\"><path class=\"scatterpts\" transform=\"translate(20,0)\" d=\"M3.9,0L0,3.9L-3.9,0L0,-3.9Z\" style=\"opacity: 0.9; stroke-width: 0px; fill: rgb(245, 133, 24); fill-opacity: 1;\"/></g></g></g><rect class=\"legendtoggle\" pointer-events=\"all\" x=\"0\" y=\"-9.5\" width=\"60.078125\" height=\"19\" style=\"cursor: pointer; fill: rgb(0, 0, 0); fill-opacity: 0;\"/></g></g><g class=\"groups\" transform=\"translate(0, 0)\"><g class=\"traces\" transform=\"translate(0, 68.1)\" style=\"opacity: 1;\"><text class=\"legendtext user-select-none\" text-anchor=\"start\" x=\"40\" y=\"4.680000000000001\" style=\"font-family: 'Open Sans', verdana, arial, sans-serif; font-size: 12px; fill: rgb(51, 51, 51); fill-opacity: 1; white-space: pre;\">NJ</text><g class=\"layers\" style=\"opacity: 1;\"><g class=\"legendfill\"/><g class=\"legendlines\"/><g class=\"legendsymbols\"><g class=\"legendpoints\"><path class=\"scatterpts\" transform=\"translate(20,0)\" d=\"M3,3H-3V-3H3Z\" style=\"opacity: 0.9; stroke-width: 0px; fill: rgb(228, 87, 86); fill-opacity: 1;\"/></g></g></g><rect class=\"legendtoggle\" pointer-events=\"all\" x=\"0\" y=\"-9.5\" width=\"60.078125\" height=\"19\" style=\"cursor: pointer; fill: rgb(0, 0, 0); fill-opacity: 0;\"/></g></g><g class=\"groups\" transform=\"translate(0, 0)\"><g class=\"traces\" transform=\"translate(0, 87.1)\" style=\"opacity: 1;\"><text class=\"legendtext user-select-none\" text-anchor=\"start\" x=\"40\" y=\"4.680000000000001\" style=\"font-family: 'Open Sans', verdana, arial, sans-serif; font-size: 12px; fill: rgb(51, 51, 51); fill-opacity: 1; white-space: pre;\">NY</text><g class=\"layers\" style=\"opacity: 1;\"><g class=\"legendfill\"/><g class=\"legendlines\"/><g class=\"legendsymbols\"><g class=\"legendpoints\"><path class=\"scatterpts\" transform=\"translate(20,0)\" d=\"M0,1.7l1.7,1.7l1.7,-1.7l-1.7,-1.7l1.7,-1.7l-1.7,-1.7l-1.7,1.7l-1.7,-1.7l-1.7,1.7l1.7,1.7l-1.7,1.7l1.7,1.7Z\" style=\"opacity: 0.9; stroke-width: 0px; fill: rgb(114, 183, 178); fill-opacity: 1;\"/></g></g></g><rect class=\"legendtoggle\" pointer-events=\"all\" x=\"0\" y=\"-9.5\" width=\"60.078125\" height=\"19\" style=\"cursor: pointer; fill: rgb(0, 0, 0); fill-opacity: 0;\"/></g></g><g class=\"groups\" transform=\"translate(0, 0)\"><g class=\"traces\" transform=\"translate(0, 106.1)\" style=\"opacity: 1;\"><text class=\"legendtext user-select-none\" text-anchor=\"start\" x=\"40\" y=\"4.680000000000001\" style=\"font-family: 'Open Sans', verdana, arial, sans-serif; font-size: 12px; fill: rgb(51, 51, 51); fill-opacity: 1; white-space: pre;\">VA</text><g class=\"layers\" style=\"opacity: 1;\"><g class=\"legendfill\"/><g class=\"legendlines\"/><g class=\"legendsymbols\"><g class=\"legendpoints\"><path class=\"scatterpts\" transform=\"translate(20,0)\" d=\"M3.6,1.2H1.2V3.6H-1.2V1.2H-3.6V-1.2H-1.2V-3.6H1.2V-1.2H3.6Z\" style=\"opacity: 0.9; stroke-width: 0px; fill: rgb(84, 162, 75); fill-opacity: 1;\"/></g></g></g><rect class=\"legendtoggle\" pointer-events=\"all\" x=\"0\" y=\"-9.5\" width=\"60.078125\" height=\"19\" style=\"cursor: pointer; fill: rgb(0, 0, 0); fill-opacity: 0;\"/></g></g><g class=\"groups\" transform=\"translate(0, 0)\"><g class=\"traces\" transform=\"translate(0, 125.1)\" style=\"opacity: 1;\"><text class=\"legendtext user-select-none\" text-anchor=\"start\" x=\"40\" y=\"4.680000000000001\" style=\"font-family: 'Open Sans', verdana, arial, sans-serif; font-size: 12px; fill: rgb(51, 51, 51); fill-opacity: 1; white-space: pre;\">WA</text><g class=\"layers\" style=\"opacity: 1;\"><g class=\"legendfill\"/><g class=\"legendlines\"/><g class=\"legendsymbols\"><g class=\"legendpoints\"><path class=\"scatterpts\" transform=\"translate(20,0)\" d=\"M3,0A3,3 0 1,1 0,-3A3,3 0 0,1 3,0Z\" style=\"opacity: 0.9; stroke-width: 0px; fill: rgb(238, 202, 59); fill-opacity: 1;\"/></g></g></g><rect class=\"legendtoggle\" pointer-events=\"all\" x=\"0\" y=\"-9.5\" width=\"60.078125\" height=\"19\" style=\"cursor: pointer; fill: rgb(0, 0, 0); fill-opacity: 0;\"/></g></g></g><rect class=\"scrollbar\" rx=\"20\" ry=\"3\" width=\"0\" height=\"0\" x=\"0\" y=\"0\" style=\"fill: rgb(128, 139, 164); fill-opacity: 1;\"/></g><g class=\"g-gtitle\"><text class=\"gtitle\" x=\"500\" y=\"50\" text-anchor=\"middle\" dy=\"0em\" style=\"font-family: 'Open Sans', verdana, arial, sans-serif; font-size: 17px; fill: rgb(51, 51, 51); opacity: 1; font-weight: normal; white-space: pre;\">Daily Increase Positive to Total RT-PCR Tests</text></g><g class=\"g-xtitle\"><text class=\"xtitle\" x=\"492.5\" y=\"567.70625\" text-anchor=\"middle\" style=\"font-family: 'Open Sans', verdana, arial, sans-serif; font-size: 14px; fill: rgb(51, 51, 51); opacity: 1; font-weight: normal; white-space: pre;\">TotalTestResultsIncrease</text></g><g class=\"g-ytitle\"><text class=\"ytitle\" transform=\"rotate(-90,16.278125000000003,310)\" x=\"16.278125000000003\" y=\"310\" text-anchor=\"middle\" style=\"font-family: 'Open Sans', verdana, arial, sans-serif; font-size: 14px; fill: rgb(51, 51, 51); opacity: 1; font-weight: normal; white-space: pre;\">PositiveIncrease</text></g></g></svg>"
      ]
     },
     "metadata": {},
     "output_type": "display_data"
    }
   ],
   "source": [
    "states = ['NY', 'NJ', 'WA', 'VA', 'FL', 'LA']\n",
    "fig = px.scatter(data_frame=df_testing.loc[df_testing.State.isin(states)].loc[df_testing.Date > pd.to_datetime('2020-03-01')],\n",
    "                 x='TotalTestResultsIncrease', y='PositiveIncrease', color='State', symbol='State', opacity=.9, \n",
    "                 color_discrete_sequence=px.colors.qualitative.T10,\n",
    "                 log_x=True, log_y=True, \n",
    "                 title='Daily Increase Positive to Total RT-PCR Tests',\n",
    "                 hover_name='Date', hover_data=['Positive','Total', 'Negative', 'State'],\n",
    "                 template='ggplot2', \n",
    "                )\n",
    "fig.show(width=1000, height=600,\n",
    "         renderer='svg', # Leave this commented out for an interactive plot\n",
    "        )"
   ]
  },
  {
   "cell_type": "code",
   "execution_count": 41,
   "metadata": {},
   "outputs": [],
   "source": [
    "# fig = px.scatter(data_frame=df_testing.sort_values(by='Date').groupby(['State']).agg('last').reset_index(),\n",
    "#                  x='Positive', y='Total', color='State', \n",
    "#                  log_x=False, log_y=False, template='ggplot2',\n",
    "#                 )\n",
    "# fig.show()\n",
    "\n",
    "# ## Animate this over time"
   ]
  },
  {
   "cell_type": "markdown",
   "metadata": {},
   "source": [
    "## Hospitalizations & Burden on Healthcare"
   ]
  },
  {
   "cell_type": "code",
   "execution_count": 42,
   "metadata": {},
   "outputs": [
    {
     "data": {
      "text/plain": [
       "'\\n# Adapted from https://www.kaggle.com/hrmello/us-health-care-system-dive-into-ny\\nicu_facilities = pd.read_csv(\"/kaggle/input/uncover/hifld/hifld/urgent-care-facilities.csv\")\\nus_census = pd.read_csv(\"../input/us-census-demographic-data/acs2017_county_data.csv\")\\nstate_abbr = pd.read_csv(\"https://raw.githubusercontent.com/jasonong/List-of-US-States/master/states.csv\")\\n\\n\\nicus_per_state = pd.DataFrame(icu_facilities.groupby([\"state\"])[\"id\"].nunique()).reset_index()\\n\\nus_census = us_census.merge(states_abbr, on = \"State\")\\nus_census = us_census.rename(columns = {\"State\": \"fullState\", \"Abbreviation\": \"state\"})\\n\\npopState = us_census.groupby(\"state\")[\"TotalPop\"].sum().reset_index()\\n\\nicupopdf = icus_per_state.merge(popState, on = \"state\")\\nicupopdf[\"ICUPopRatio\"] = icupopdf[\"id\"]/icupopdf[\"TotalPop\"] * 100000\\n'"
      ]
     },
     "execution_count": 42,
     "metadata": {},
     "output_type": "execute_result"
    }
   ],
   "source": [
    "\"\"\"\n",
    "# Adapted from https://www.kaggle.com/hrmello/us-health-care-system-dive-into-ny\n",
    "icu_facilities = pd.read_csv(\"/kaggle/input/uncover/hifld/hifld/urgent-care-facilities.csv\")\n",
    "us_census = pd.read_csv(\"../input/us-census-demographic-data/acs2017_county_data.csv\")\n",
    "state_abbr = pd.read_csv(\"https://raw.githubusercontent.com/jasonong/List-of-US-States/master/states.csv\")\n",
    "\n",
    "\n",
    "icus_per_state = pd.DataFrame(icu_facilities.groupby([\"state\"])[\"id\"].nunique()).reset_index()\n",
    "\n",
    "us_census = us_census.merge(states_abbr, on = \"State\")\n",
    "us_census = us_census.rename(columns = {\"State\": \"fullState\", \"Abbreviation\": \"state\"})\n",
    "\n",
    "popState = us_census.groupby(\"state\")[\"TotalPop\"].sum().reset_index()\n",
    "\n",
    "icupopdf = icus_per_state.merge(popState, on = \"state\")\n",
    "icupopdf[\"ICUPopRatio\"] = icupopdf[\"id\"]/icupopdf[\"TotalPop\"] * 100000\n",
    "\"\"\""
   ]
  },
  {
   "cell_type": "markdown",
   "metadata": {},
   "source": [
    "## Geographic distribution of cases"
   ]
  },
  {
   "cell_type": "code",
   "execution_count": 21,
   "metadata": {},
   "outputs": [],
   "source": [
    "# px.choropleth(data_frame=df_country[df_country.Country.isin(['US', 'Korea, South', 'Italy'])],\n",
    "#               lat='Lat', lon='Long',\n",
    "#              )"
   ]
  },
  {
   "cell_type": "code",
   "execution_count": null,
   "metadata": {},
   "outputs": [],
   "source": []
  }
 ],
 "metadata": {
  "kernelspec": {
   "display_name": "Python 3",
   "language": "python",
   "name": "python3"
  },
  "language_info": {
   "codemirror_mode": {
    "name": "ipython",
    "version": 3
   },
   "file_extension": ".py",
   "mimetype": "text/x-python",
   "name": "python",
   "nbconvert_exporter": "python",
   "pygments_lexer": "ipython3",
   "version": "3.7.7"
  }
 },
 "nbformat": 4,
 "nbformat_minor": 4
}

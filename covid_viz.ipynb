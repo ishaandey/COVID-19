{
 "cells": [
  {
   "cell_type": "markdown",
   "metadata": {},
   "source": [
    "## Imports and Cleaning"
   ]
  },
  {
   "cell_type": "code",
   "execution_count": 1,
   "metadata": {
    "scrolled": true
   },
   "outputs": [],
   "source": [
    "#!/usr/bin/env python3\n",
    "# -*- coding: utf-8 -*-\n",
    "!cd ~/Documents/Data_Projects/COVID/COVID-19"
   ]
  },
  {
   "cell_type": "code",
   "execution_count": 35,
   "metadata": {},
   "outputs": [
    {
     "name": "stdout",
     "output_type": "stream",
     "text": [
      "The autoreload extension is already loaded. To reload it, use:\n",
      "  %reload_ext autoreload\n"
     ]
    }
   ],
   "source": [
    "import pandas as pd\n",
    "import numpy as np\n",
    "pd.set_option('display.max_columns', 150)\n",
    "pd.set_option('display.max_rows', 150)\n",
    "\n",
    "from datetime import timedelta\n",
    "import math\n",
    "\n",
    "import matplotlib.pyplot as plt\n",
    "import matplotlib as mpl\n",
    "import seaborn as sns\n",
    "mpl.rcParams['figure.dpi']= 600\n",
    "sns.set()\n",
    "\n",
    "import plotly\n",
    "import plotly.express as px\n",
    "import plotly.io as pio\n",
    "import plotly.graph_objects as go\n",
    "\n",
    "from data_clean import *\n",
    "from viz_helper import *\n",
    "%load_ext autoreload\n",
    "%autoreload 10"
   ]
  },
  {
   "cell_type": "markdown",
   "metadata": {},
   "source": [
    "### Live data\n",
    "For this project, data is read in live from Johns Hopkins CSSE, the New York Times, and the Covid Tracking Project (associated with The Atlantic). The update times for each source differ across the sources, but are typically fully updated by the next day. \n",
    "Their sources, on the other hand, are from a collection of government agencies for international cases, and often state health department websites for county and state level information. The COVID Tracking Project provides a grade for each state depending on the reliability of testing data: https://covidtracking.com/about-data.\n",
    "For quick dashboards, check out the Hopkins CSSE dash: https://coronavirus.jhu.edu/map.html.\n"
   ]
  },
  {
   "cell_type": "code",
   "execution_count": 3,
   "metadata": {},
   "outputs": [],
   "source": [
    "# Countries from Johns Hopkins, State & Local from NYT, and Testing from the Covid Tracking Project\n",
    "countries = pd.read_csv('https://raw.githubusercontent.com/CSSEGISandData/COVID-19/master/csse_covid_19_data/csse_covid_19_time_series/time_series_covid19_confirmed_global.csv')\n",
    "states = pd.read_csv('https://raw.githubusercontent.com/nytimes/covid-19-data/master/us-states.csv')\n",
    "local = pd.read_csv('https://raw.githubusercontent.com/nytimes/covid-19-data/master/us-counties.csv')"
   ]
  },
  {
   "cell_type": "code",
   "execution_count": 4,
   "metadata": {},
   "outputs": [
    {
     "name": "stderr",
     "output_type": "stream",
     "text": [
      "/anaconda3/envs/covid/lib/python3.7/site-packages/pandas/core/series.py:679: RuntimeWarning:\n",
      "\n",
      "divide by zero encountered in log\n",
      "\n",
      "/anaconda3/envs/covid/lib/python3.7/site-packages/pandas/core/series.py:679: RuntimeWarning:\n",
      "\n",
      "invalid value encountered in log\n",
      "\n"
     ]
    }
   ],
   "source": [
    "df_country = clean_data_hopkins(countries, country='all')\n",
    "df_state = clean_data_nyt(states, level='state')\n",
    "df_local = clean_data_nyt(local, level='local')"
   ]
  },
  {
   "cell_type": "code",
   "execution_count": 5,
   "metadata": {},
   "outputs": [],
   "source": [
    "testing = pd.read_json('https://covidtracking.com/api/v1/states/daily.json')\n",
    "df_testing = clean_data_trackingproject(testing)"
   ]
  },
  {
   "cell_type": "code",
   "execution_count": 6,
   "metadata": {},
   "outputs": [
    {
     "data": {
      "text/html": [
       "<div>\n",
       "<style scoped>\n",
       "    .dataframe tbody tr th:only-of-type {\n",
       "        vertical-align: middle;\n",
       "    }\n",
       "\n",
       "    .dataframe tbody tr th {\n",
       "        vertical-align: top;\n",
       "    }\n",
       "\n",
       "    .dataframe thead th {\n",
       "        text-align: right;\n",
       "    }\n",
       "</style>\n",
       "<table border=\"1\" class=\"dataframe\">\n",
       "  <thead>\n",
       "    <tr style=\"text-align: right;\">\n",
       "      <th></th>\n",
       "      <th>State</th>\n",
       "      <th>Date</th>\n",
       "    </tr>\n",
       "  </thead>\n",
       "  <tbody>\n",
       "    <tr>\n",
       "      <th>31</th>\n",
       "      <td>Oregon</td>\n",
       "      <td>2020-03-23</td>\n",
       "    </tr>\n",
       "    <tr>\n",
       "      <th>10</th>\n",
       "      <td>Hawaii</td>\n",
       "      <td>2020-03-25</td>\n",
       "    </tr>\n",
       "    <tr>\n",
       "      <th>16</th>\n",
       "      <td>Louisiana</td>\n",
       "      <td>2020-03-24</td>\n",
       "    </tr>\n",
       "    <tr>\n",
       "      <th>15</th>\n",
       "      <td>Kentucky</td>\n",
       "      <td>2020-03-27</td>\n",
       "    </tr>\n",
       "    <tr>\n",
       "      <th>34</th>\n",
       "      <td>Rhode Island</td>\n",
       "      <td>2020-03-28</td>\n",
       "    </tr>\n",
       "  </tbody>\n",
       "</table>\n",
       "</div>"
      ],
      "text/plain": [
       "           State        Date\n",
       "31        Oregon  2020-03-23\n",
       "10        Hawaii  2020-03-25\n",
       "16     Louisiana  2020-03-24\n",
       "15      Kentucky  2020-03-27\n",
       "34  Rhode Island  2020-03-28"
      ]
     },
     "execution_count": 6,
     "metadata": {},
     "output_type": "execute_result"
    }
   ],
   "source": [
    "# Quick list of dates when US states entered into some form of containment or lockdown\n",
    "containment = pd.read_csv('containment.txt')\n",
    "containment.columns = ['State', 'Date']\n",
    "containment = containment.sort_values(by='Date').groupby(by='State').agg('last').reset_index()\n",
    "containment.sample(5)"
   ]
  },
  {
   "cell_type": "code",
   "execution_count": 7,
   "metadata": {},
   "outputs": [],
   "source": [
    "# us_census = pd.read_csv(\"../input/us-census-demographic-data/acs2017_county_data.csv\")\n",
    "# state_abbr = pd.read_csv(\"https://raw.githubusercontent.com/jasonong/List-of-US-States/master/states.csv\")"
   ]
  },
  {
   "cell_type": "code",
   "execution_count": 8,
   "metadata": {},
   "outputs": [
    {
     "data": {
      "text/html": [
       "<div>\n",
       "<style scoped>\n",
       "    .dataframe tbody tr th:only-of-type {\n",
       "        vertical-align: middle;\n",
       "    }\n",
       "\n",
       "    .dataframe tbody tr th {\n",
       "        vertical-align: top;\n",
       "    }\n",
       "\n",
       "    .dataframe thead th {\n",
       "        text-align: right;\n",
       "    }\n",
       "</style>\n",
       "<table border=\"1\" class=\"dataframe\">\n",
       "  <thead>\n",
       "    <tr style=\"text-align: right;\">\n",
       "      <th></th>\n",
       "      <th>Country</th>\n",
       "      <th>Date</th>\n",
       "      <th>Confirmed</th>\n",
       "      <th>EpidemicStartDate</th>\n",
       "      <th>DaysElapsed</th>\n",
       "      <th>NewConfirmed</th>\n",
       "      <th>DaysElapsed_Log</th>\n",
       "      <th>Confirmed_Log</th>\n",
       "      <th>NewConfirmed_Log</th>\n",
       "    </tr>\n",
       "  </thead>\n",
       "  <tbody>\n",
       "    <tr>\n",
       "      <th>13603</th>\n",
       "      <td>US</td>\n",
       "      <td>2020-04-04</td>\n",
       "      <td>308850</td>\n",
       "      <td>2020-01-22</td>\n",
       "      <td>74</td>\n",
       "      <td>33264.0</td>\n",
       "      <td>4.304065</td>\n",
       "      <td>12.640611</td>\n",
       "      <td>10.412231</td>\n",
       "    </tr>\n",
       "    <tr>\n",
       "      <th>13787</th>\n",
       "      <td>US</td>\n",
       "      <td>2020-04-05</td>\n",
       "      <td>337072</td>\n",
       "      <td>2020-01-22</td>\n",
       "      <td>75</td>\n",
       "      <td>28222.0</td>\n",
       "      <td>4.317488</td>\n",
       "      <td>12.728052</td>\n",
       "      <td>10.247857</td>\n",
       "    </tr>\n",
       "    <tr>\n",
       "      <th>13971</th>\n",
       "      <td>US</td>\n",
       "      <td>2020-04-06</td>\n",
       "      <td>366667</td>\n",
       "      <td>2020-01-22</td>\n",
       "      <td>76</td>\n",
       "      <td>29595.0</td>\n",
       "      <td>4.330733</td>\n",
       "      <td>12.812209</td>\n",
       "      <td>10.295361</td>\n",
       "    </tr>\n",
       "    <tr>\n",
       "      <th>14155</th>\n",
       "      <td>US</td>\n",
       "      <td>2020-04-07</td>\n",
       "      <td>396223</td>\n",
       "      <td>2020-01-22</td>\n",
       "      <td>77</td>\n",
       "      <td>29556.0</td>\n",
       "      <td>4.343805</td>\n",
       "      <td>12.889732</td>\n",
       "      <td>10.294042</td>\n",
       "    </tr>\n",
       "    <tr>\n",
       "      <th>14339</th>\n",
       "      <td>US</td>\n",
       "      <td>2020-04-08</td>\n",
       "      <td>429052</td>\n",
       "      <td>2020-01-22</td>\n",
       "      <td>78</td>\n",
       "      <td>32829.0</td>\n",
       "      <td>4.356709</td>\n",
       "      <td>12.969333</td>\n",
       "      <td>10.399068</td>\n",
       "    </tr>\n",
       "  </tbody>\n",
       "</table>\n",
       "</div>"
      ],
      "text/plain": [
       "      Country        Date  Confirmed EpidemicStartDate  DaysElapsed  \\\n",
       "13603      US  2020-04-04     308850        2020-01-22           74   \n",
       "13787      US  2020-04-05     337072        2020-01-22           75   \n",
       "13971      US  2020-04-06     366667        2020-01-22           76   \n",
       "14155      US  2020-04-07     396223        2020-01-22           77   \n",
       "14339      US  2020-04-08     429052        2020-01-22           78   \n",
       "\n",
       "       NewConfirmed  DaysElapsed_Log  Confirmed_Log  NewConfirmed_Log  \n",
       "13603       33264.0         4.304065      12.640611         10.412231  \n",
       "13787       28222.0         4.317488      12.728052         10.247857  \n",
       "13971       29595.0         4.330733      12.812209         10.295361  \n",
       "14155       29556.0         4.343805      12.889732         10.294042  \n",
       "14339       32829.0         4.356709      12.969333         10.399068  "
      ]
     },
     "execution_count": 8,
     "metadata": {},
     "output_type": "execute_result"
    }
   ],
   "source": [
    "df_country[df_country.Country.isin(['US'])].tail()"
   ]
  },
  {
   "cell_type": "code",
   "execution_count": 9,
   "metadata": {},
   "outputs": [
    {
     "data": {
      "text/html": [
       "<div>\n",
       "<style scoped>\n",
       "    .dataframe tbody tr th:only-of-type {\n",
       "        vertical-align: middle;\n",
       "    }\n",
       "\n",
       "    .dataframe tbody tr th {\n",
       "        vertical-align: top;\n",
       "    }\n",
       "\n",
       "    .dataframe thead th {\n",
       "        text-align: right;\n",
       "    }\n",
       "</style>\n",
       "<table border=\"1\" class=\"dataframe\">\n",
       "  <thead>\n",
       "    <tr style=\"text-align: right;\">\n",
       "      <th></th>\n",
       "      <th>County</th>\n",
       "      <th>State</th>\n",
       "      <th>Date</th>\n",
       "      <th>Confirmed</th>\n",
       "      <th>EpidemicStartDate</th>\n",
       "      <th>DaysElapsed</th>\n",
       "      <th>NewConfirmed</th>\n",
       "      <th>DaysElapsed_Log</th>\n",
       "      <th>Confirmed_Log</th>\n",
       "      <th>NewConfirmed_Log</th>\n",
       "    </tr>\n",
       "  </thead>\n",
       "  <tbody>\n",
       "    <tr>\n",
       "      <th>521</th>\n",
       "      <td>Albemarle</td>\n",
       "      <td>Virginia</td>\n",
       "      <td>2020-04-04</td>\n",
       "      <td>27</td>\n",
       "      <td>2020-03-07</td>\n",
       "      <td>29</td>\n",
       "      <td>1.0</td>\n",
       "      <td>3.367296</td>\n",
       "      <td>3.295837</td>\n",
       "      <td>0.000000</td>\n",
       "    </tr>\n",
       "    <tr>\n",
       "      <th>522</th>\n",
       "      <td>Albemarle</td>\n",
       "      <td>Virginia</td>\n",
       "      <td>2020-04-05</td>\n",
       "      <td>32</td>\n",
       "      <td>2020-03-07</td>\n",
       "      <td>30</td>\n",
       "      <td>5.0</td>\n",
       "      <td>3.401197</td>\n",
       "      <td>3.465736</td>\n",
       "      <td>1.609438</td>\n",
       "    </tr>\n",
       "    <tr>\n",
       "      <th>523</th>\n",
       "      <td>Albemarle</td>\n",
       "      <td>Virginia</td>\n",
       "      <td>2020-04-06</td>\n",
       "      <td>34</td>\n",
       "      <td>2020-03-07</td>\n",
       "      <td>31</td>\n",
       "      <td>2.0</td>\n",
       "      <td>3.433987</td>\n",
       "      <td>3.526361</td>\n",
       "      <td>0.693147</td>\n",
       "    </tr>\n",
       "    <tr>\n",
       "      <th>524</th>\n",
       "      <td>Albemarle</td>\n",
       "      <td>Virginia</td>\n",
       "      <td>2020-04-07</td>\n",
       "      <td>38</td>\n",
       "      <td>2020-03-07</td>\n",
       "      <td>32</td>\n",
       "      <td>4.0</td>\n",
       "      <td>3.465736</td>\n",
       "      <td>3.637586</td>\n",
       "      <td>1.386294</td>\n",
       "    </tr>\n",
       "    <tr>\n",
       "      <th>525</th>\n",
       "      <td>Albemarle</td>\n",
       "      <td>Virginia</td>\n",
       "      <td>2020-04-08</td>\n",
       "      <td>41</td>\n",
       "      <td>2020-03-07</td>\n",
       "      <td>33</td>\n",
       "      <td>3.0</td>\n",
       "      <td>3.496508</td>\n",
       "      <td>3.713572</td>\n",
       "      <td>1.098612</td>\n",
       "    </tr>\n",
       "  </tbody>\n",
       "</table>\n",
       "</div>"
      ],
      "text/plain": [
       "        County     State        Date  Confirmed EpidemicStartDate  \\\n",
       "521  Albemarle  Virginia  2020-04-04         27        2020-03-07   \n",
       "522  Albemarle  Virginia  2020-04-05         32        2020-03-07   \n",
       "523  Albemarle  Virginia  2020-04-06         34        2020-03-07   \n",
       "524  Albemarle  Virginia  2020-04-07         38        2020-03-07   \n",
       "525  Albemarle  Virginia  2020-04-08         41        2020-03-07   \n",
       "\n",
       "     DaysElapsed  NewConfirmed  DaysElapsed_Log  Confirmed_Log  \\\n",
       "521           29           1.0         3.367296       3.295837   \n",
       "522           30           5.0         3.401197       3.465736   \n",
       "523           31           2.0         3.433987       3.526361   \n",
       "524           32           4.0         3.465736       3.637586   \n",
       "525           33           3.0         3.496508       3.713572   \n",
       "\n",
       "     NewConfirmed_Log  \n",
       "521          0.000000  \n",
       "522          1.609438  \n",
       "523          0.693147  \n",
       "524          1.386294  \n",
       "525          1.098612  "
      ]
     },
     "execution_count": 9,
     "metadata": {},
     "output_type": "execute_result"
    }
   ],
   "source": [
    "df_local[df_local.County=='Albemarle'].tail()"
   ]
  },
  {
   "cell_type": "code",
   "execution_count": 10,
   "metadata": {},
   "outputs": [
    {
     "data": {
      "text/html": [
       "<div>\n",
       "<style scoped>\n",
       "    .dataframe tbody tr th:only-of-type {\n",
       "        vertical-align: middle;\n",
       "    }\n",
       "\n",
       "    .dataframe tbody tr th {\n",
       "        vertical-align: top;\n",
       "    }\n",
       "\n",
       "    .dataframe thead th {\n",
       "        text-align: right;\n",
       "    }\n",
       "</style>\n",
       "<table border=\"1\" class=\"dataframe\">\n",
       "  <thead>\n",
       "    <tr style=\"text-align: right;\">\n",
       "      <th></th>\n",
       "      <th>Confirmed</th>\n",
       "    </tr>\n",
       "    <tr>\n",
       "      <th>Date</th>\n",
       "      <th></th>\n",
       "    </tr>\n",
       "  </thead>\n",
       "  <tbody>\n",
       "    <tr>\n",
       "      <th>2020-04-02</th>\n",
       "      <td>807.0</td>\n",
       "    </tr>\n",
       "    <tr>\n",
       "      <th>2020-04-03</th>\n",
       "      <td>915.0</td>\n",
       "    </tr>\n",
       "    <tr>\n",
       "      <th>2020-04-04</th>\n",
       "      <td>2686.0</td>\n",
       "    </tr>\n",
       "    <tr>\n",
       "      <th>2020-04-05</th>\n",
       "      <td>-298.0</td>\n",
       "    </tr>\n",
       "    <tr>\n",
       "      <th>2020-04-06</th>\n",
       "      <td>-429.0</td>\n",
       "    </tr>\n",
       "    <tr>\n",
       "      <th>2020-04-07</th>\n",
       "      <td>1531.0</td>\n",
       "    </tr>\n",
       "    <tr>\n",
       "      <th>2020-04-08</th>\n",
       "      <td>267.0</td>\n",
       "    </tr>\n",
       "  </tbody>\n",
       "</table>\n",
       "</div>"
      ],
      "text/plain": [
       "            Confirmed\n",
       "Date                 \n",
       "2020-04-02      807.0\n",
       "2020-04-03      915.0\n",
       "2020-04-04     2686.0\n",
       "2020-04-05     -298.0\n",
       "2020-04-06     -429.0\n",
       "2020-04-07     1531.0\n",
       "2020-04-08      267.0"
      ]
     },
     "execution_count": 10,
     "metadata": {},
     "output_type": "execute_result"
    }
   ],
   "source": [
    "# NYT aggregated state counts have recently been higher than the daily reports from Hopkins\n",
    "pd.DataFrame(df_state.groupby('Date').sum().Confirmed - df_country[df_country.Country=='US'].groupby('Date').sum().Confirmed).dropna().tail(7)"
   ]
  },
  {
   "cell_type": "markdown",
   "metadata": {},
   "source": [
    "## Are we flattening the curve?"
   ]
  },
  {
   "cell_type": "markdown",
   "metadata": {},
   "source": [
    "### New confirmed cases vs cumulatative cases\n",
    "\n",
    "For an exponential growth function, the slope of the curve, or daily increase in cases should remain proportional to the total number of cases in a given region. With that expectation, we would expect regions experiencing exponential growth to exhibit linearity when plotting log of new cases against log of current cases. Countries that have moved past this plateau, such as South Korea and China (as of 4/05), should taper off, as described in the following video by Henry Reich and Aashish B: https://www.youtube.com/watch?v=54XLXg4fYsc"
   ]
  },
  {
   "cell_type": "markdown",
   "metadata": {},
   "source": [
    "Why does this work?\n",
    "\n",
    "Lets assume that the the virus grows at a rate proportional to its current value, which intuitively makes sense as each person who has the disease can spread it onto that many more people $dy/dt=kY$. In otherwords, the rate of change of the spread is proportional to the current number of folks who have it. This corresponds to the exponential functional form $Y = Ae^{rt}$. \n",
    "\n",
    "$dy/dt = kY(1-Y/L)$\n",
    "\n",
    "Let's keep this aside for now. The daily increase in new cases is simply $Y_t - Y_{t-1}$, here we've labelled it as `NewConfirmed`. \n",
    "\n",
    "Another way to think about this is that the current day's case count will be the previous day's count plus some proportion of that count."
   ]
  },
  {
   "cell_type": "code",
   "execution_count": 34,
   "metadata": {},
   "outputs": [
    {
     "data": {
      "application/vnd.plotly.v1+json": {
       "config": {
        "plotlyServerURL": "https://plot.ly"
       },
       "data": [
        {
         "customdata": [
          [
           null,
           548,
           "2020-01-22",
           "2020-01-22"
          ],
          [
           95,
           643,
           "2020-01-23",
           "2020-01-22"
          ],
          [
           277,
           920,
           "2020-01-24",
           "2020-01-22"
          ],
          [
           486,
           1406,
           "2020-01-25",
           "2020-01-22"
          ],
          [
           669,
           2075,
           "2020-01-26",
           "2020-01-22"
          ],
          [
           802,
           2877,
           "2020-01-27",
           "2020-01-22"
          ],
          [
           2632,
           5509,
           "2020-01-28",
           "2020-01-22"
          ],
          [
           578,
           6087,
           "2020-01-29",
           "2020-01-22"
          ],
          [
           2054,
           8141,
           "2020-01-30",
           "2020-01-22"
          ],
          [
           1661,
           9802,
           "2020-01-31",
           "2020-01-22"
          ],
          [
           2089,
           11891,
           "2020-02-01",
           "2020-01-22"
          ],
          [
           4739,
           16630,
           "2020-02-02",
           "2020-01-22"
          ],
          [
           3086,
           19716,
           "2020-02-03",
           "2020-01-22"
          ],
          [
           3991,
           23707,
           "2020-02-04",
           "2020-01-22"
          ],
          [
           3733,
           27440,
           "2020-02-05",
           "2020-01-22"
          ],
          [
           3147,
           30587,
           "2020-02-06",
           "2020-01-22"
          ],
          [
           3523,
           34110,
           "2020-02-07",
           "2020-01-22"
          ],
          [
           2704,
           36814,
           "2020-02-08",
           "2020-01-22"
          ],
          [
           3015,
           39829,
           "2020-02-09",
           "2020-01-22"
          ],
          [
           2525,
           42354,
           "2020-02-10",
           "2020-01-22"
          ],
          [
           2032,
           44386,
           "2020-02-11",
           "2020-01-22"
          ],
          [
           373,
           44759,
           "2020-02-12",
           "2020-01-22"
          ],
          [
           15136,
           59895,
           "2020-02-13",
           "2020-01-22"
          ],
          [
           6463,
           66358,
           "2020-02-14",
           "2020-01-22"
          ],
          [
           2055,
           68413,
           "2020-02-15",
           "2020-01-22"
          ],
          [
           2100,
           70513,
           "2020-02-16",
           "2020-01-22"
          ],
          [
           1921,
           72434,
           "2020-02-17",
           "2020-01-22"
          ],
          [
           1777,
           74211,
           "2020-02-18",
           "2020-01-22"
          ],
          [
           408,
           74619,
           "2020-02-19",
           "2020-01-22"
          ],
          [
           458,
           75077,
           "2020-02-20",
           "2020-01-22"
          ],
          [
           473,
           75550,
           "2020-02-21",
           "2020-01-22"
          ],
          [
           1451,
           77001,
           "2020-02-22",
           "2020-01-22"
          ],
          [
           21,
           77022,
           "2020-02-23",
           "2020-01-22"
          ],
          [
           219,
           77241,
           "2020-02-24",
           "2020-01-22"
          ],
          [
           513,
           77754,
           "2020-02-25",
           "2020-01-22"
          ],
          [
           412,
           78166,
           "2020-02-26",
           "2020-01-22"
          ],
          [
           434,
           78600,
           "2020-02-27",
           "2020-01-22"
          ],
          [
           328,
           78928,
           "2020-02-28",
           "2020-01-22"
          ],
          [
           428,
           79356,
           "2020-02-29",
           "2020-01-22"
          ],
          [
           576,
           79932,
           "2020-03-01",
           "2020-01-22"
          ],
          [
           204,
           80136,
           "2020-03-02",
           "2020-01-22"
          ],
          [
           125,
           80261,
           "2020-03-03",
           "2020-01-22"
          ],
          [
           125,
           80386,
           "2020-03-04",
           "2020-01-22"
          ],
          [
           151,
           80537,
           "2020-03-05",
           "2020-01-22"
          ],
          [
           153,
           80690,
           "2020-03-06",
           "2020-01-22"
          ],
          [
           80,
           80770,
           "2020-03-07",
           "2020-01-22"
          ],
          [
           53,
           80823,
           "2020-03-08",
           "2020-01-22"
          ],
          [
           37,
           80860,
           "2020-03-09",
           "2020-01-22"
          ],
          [
           27,
           80887,
           "2020-03-10",
           "2020-01-22"
          ],
          [
           34,
           80921,
           "2020-03-11",
           "2020-01-22"
          ],
          [
           11,
           80932,
           "2020-03-12",
           "2020-01-22"
          ],
          [
           13,
           80945,
           "2020-03-13",
           "2020-01-22"
          ],
          [
           32,
           80977,
           "2020-03-14",
           "2020-01-22"
          ],
          [
           26,
           81003,
           "2020-03-15",
           "2020-01-22"
          ],
          [
           30,
           81033,
           "2020-03-16",
           "2020-01-22"
          ],
          [
           25,
           81058,
           "2020-03-17",
           "2020-01-22"
          ],
          [
           44,
           81102,
           "2020-03-18",
           "2020-01-22"
          ],
          [
           54,
           81156,
           "2020-03-19",
           "2020-01-22"
          ],
          [
           94,
           81250,
           "2020-03-20",
           "2020-01-22"
          ],
          [
           55,
           81305,
           "2020-03-21",
           "2020-01-22"
          ],
          [
           130,
           81435,
           "2020-03-22",
           "2020-01-22"
          ],
          [
           63,
           81498,
           "2020-03-23",
           "2020-01-22"
          ],
          [
           93,
           81591,
           "2020-03-24",
           "2020-01-22"
          ],
          [
           70,
           81661,
           "2020-03-25",
           "2020-01-22"
          ],
          [
           121,
           81782,
           "2020-03-26",
           "2020-01-22"
          ],
          [
           115,
           81897,
           "2020-03-27",
           "2020-01-22"
          ],
          [
           102,
           81999,
           "2020-03-28",
           "2020-01-22"
          ],
          [
           123,
           82122,
           "2020-03-29",
           "2020-01-22"
          ],
          [
           76,
           82198,
           "2020-03-30",
           "2020-01-22"
          ],
          [
           81,
           82279,
           "2020-03-31",
           "2020-01-22"
          ],
          [
           82,
           82361,
           "2020-04-01",
           "2020-01-22"
          ],
          [
           71,
           82432,
           "2020-04-02",
           "2020-01-22"
          ],
          [
           79,
           82511,
           "2020-04-03",
           "2020-01-22"
          ],
          [
           32,
           82543,
           "2020-04-04",
           "2020-01-22"
          ],
          [
           59,
           82602,
           "2020-04-05",
           "2020-01-22"
          ],
          [
           63,
           82665,
           "2020-04-06",
           "2020-01-22"
          ],
          [
           53,
           82718,
           "2020-04-07",
           "2020-01-22"
          ],
          [
           91,
           82809,
           "2020-04-08",
           "2020-01-22"
          ]
         ],
         "hovertemplate": "<b>%{hovertext}</b><br><br>Country=China<br>Confirmed=%{customdata[1]}<br>NewConfirmed=%{customdata[0]}<br>Date=%{customdata[2]}<br>EpidemicStartDate=%{customdata[3]}<extra></extra>",
         "hovertext": [
          "2020-01-22",
          "2020-01-23",
          "2020-01-24",
          "2020-01-25",
          "2020-01-26",
          "2020-01-27",
          "2020-01-28",
          "2020-01-29",
          "2020-01-30",
          "2020-01-31",
          "2020-02-01",
          "2020-02-02",
          "2020-02-03",
          "2020-02-04",
          "2020-02-05",
          "2020-02-06",
          "2020-02-07",
          "2020-02-08",
          "2020-02-09",
          "2020-02-10",
          "2020-02-11",
          "2020-02-12",
          "2020-02-13",
          "2020-02-14",
          "2020-02-15",
          "2020-02-16",
          "2020-02-17",
          "2020-02-18",
          "2020-02-19",
          "2020-02-20",
          "2020-02-21",
          "2020-02-22",
          "2020-02-23",
          "2020-02-24",
          "2020-02-25",
          "2020-02-26",
          "2020-02-27",
          "2020-02-28",
          "2020-02-29",
          "2020-03-01",
          "2020-03-02",
          "2020-03-03",
          "2020-03-04",
          "2020-03-05",
          "2020-03-06",
          "2020-03-07",
          "2020-03-08",
          "2020-03-09",
          "2020-03-10",
          "2020-03-11",
          "2020-03-12",
          "2020-03-13",
          "2020-03-14",
          "2020-03-15",
          "2020-03-16",
          "2020-03-17",
          "2020-03-18",
          "2020-03-19",
          "2020-03-20",
          "2020-03-21",
          "2020-03-22",
          "2020-03-23",
          "2020-03-24",
          "2020-03-25",
          "2020-03-26",
          "2020-03-27",
          "2020-03-28",
          "2020-03-29",
          "2020-03-30",
          "2020-03-31",
          "2020-04-01",
          "2020-04-02",
          "2020-04-03",
          "2020-04-04",
          "2020-04-05",
          "2020-04-06",
          "2020-04-07",
          "2020-04-08"
         ],
         "legendgroup": "China",
         "marker": {
          "color": "#4C78A8",
          "opacity": 0.9,
          "symbol": "circle"
         },
         "mode": "markers",
         "name": "China",
         "showlegend": true,
         "type": "scatter",
         "x": [
          548,
          643,
          920,
          1406,
          2075,
          2877,
          5509,
          6087,
          8141,
          9802,
          11891,
          16630,
          19716,
          23707,
          27440,
          30587,
          34110,
          36814,
          39829,
          42354,
          44386,
          44759,
          59895,
          66358,
          68413,
          70513,
          72434,
          74211,
          74619,
          75077,
          75550,
          77001,
          77022,
          77241,
          77754,
          78166,
          78600,
          78928,
          79356,
          79932,
          80136,
          80261,
          80386,
          80537,
          80690,
          80770,
          80823,
          80860,
          80887,
          80921,
          80932,
          80945,
          80977,
          81003,
          81033,
          81058,
          81102,
          81156,
          81250,
          81305,
          81435,
          81498,
          81591,
          81661,
          81782,
          81897,
          81999,
          82122,
          82198,
          82279,
          82361,
          82432,
          82511,
          82543,
          82602,
          82665,
          82718,
          82809
         ],
         "xaxis": "x",
         "y": [
          null,
          95,
          277,
          486,
          669,
          802,
          2632,
          578,
          2054,
          1661,
          2089,
          4739,
          3086,
          3991,
          3733,
          3147,
          3523,
          2704,
          3015,
          2525,
          2032,
          373,
          15136,
          6463,
          2055,
          2100,
          1921,
          1777,
          408,
          458,
          473,
          1451,
          21,
          219,
          513,
          412,
          434,
          328,
          428,
          576,
          204,
          125,
          125,
          151,
          153,
          80,
          53,
          37,
          27,
          34,
          11,
          13,
          32,
          26,
          30,
          25,
          44,
          54,
          94,
          55,
          130,
          63,
          93,
          70,
          121,
          115,
          102,
          123,
          76,
          81,
          82,
          71,
          79,
          32,
          59,
          63,
          53,
          91
         ],
         "yaxis": "y"
        },
        {
         "customdata": [
          [
           73,
           104,
           "2020-02-20",
           "2020-01-22"
          ],
          [
           100,
           204,
           "2020-02-21",
           "2020-01-22"
          ],
          [
           229,
           433,
           "2020-02-22",
           "2020-01-22"
          ],
          [
           169,
           602,
           "2020-02-23",
           "2020-01-22"
          ],
          [
           231,
           833,
           "2020-02-24",
           "2020-01-22"
          ],
          [
           144,
           977,
           "2020-02-25",
           "2020-01-22"
          ],
          [
           284,
           1261,
           "2020-02-26",
           "2020-01-22"
          ],
          [
           505,
           1766,
           "2020-02-27",
           "2020-01-22"
          ],
          [
           571,
           2337,
           "2020-02-28",
           "2020-01-22"
          ],
          [
           813,
           3150,
           "2020-02-29",
           "2020-01-22"
          ],
          [
           586,
           3736,
           "2020-03-01",
           "2020-01-22"
          ],
          [
           599,
           4335,
           "2020-03-02",
           "2020-01-22"
          ],
          [
           851,
           5186,
           "2020-03-03",
           "2020-01-22"
          ],
          [
           435,
           5621,
           "2020-03-04",
           "2020-01-22"
          ],
          [
           467,
           6088,
           "2020-03-05",
           "2020-01-22"
          ],
          [
           505,
           6593,
           "2020-03-06",
           "2020-01-22"
          ],
          [
           448,
           7041,
           "2020-03-07",
           "2020-01-22"
          ],
          [
           273,
           7314,
           "2020-03-08",
           "2020-01-22"
          ],
          [
           164,
           7478,
           "2020-03-09",
           "2020-01-22"
          ],
          [
           35,
           7513,
           "2020-03-10",
           "2020-01-22"
          ],
          [
           242,
           7755,
           "2020-03-11",
           "2020-01-22"
          ],
          [
           114,
           7869,
           "2020-03-12",
           "2020-01-22"
          ],
          [
           110,
           7979,
           "2020-03-13",
           "2020-01-22"
          ],
          [
           107,
           8086,
           "2020-03-14",
           "2020-01-22"
          ],
          [
           76,
           8162,
           "2020-03-15",
           "2020-01-22"
          ],
          [
           74,
           8236,
           "2020-03-16",
           "2020-01-22"
          ],
          [
           84,
           8320,
           "2020-03-17",
           "2020-01-22"
          ],
          [
           93,
           8413,
           "2020-03-18",
           "2020-01-22"
          ],
          [
           152,
           8565,
           "2020-03-19",
           "2020-01-22"
          ],
          [
           87,
           8652,
           "2020-03-20",
           "2020-01-22"
          ],
          [
           147,
           8799,
           "2020-03-21",
           "2020-01-22"
          ],
          [
           162,
           8961,
           "2020-03-22",
           "2020-01-22"
          ],
          [
           0,
           8961,
           "2020-03-23",
           "2020-01-22"
          ],
          [
           76,
           9037,
           "2020-03-24",
           "2020-01-22"
          ],
          [
           100,
           9137,
           "2020-03-25",
           "2020-01-22"
          ],
          [
           104,
           9241,
           "2020-03-26",
           "2020-01-22"
          ],
          [
           91,
           9332,
           "2020-03-27",
           "2020-01-22"
          ],
          [
           146,
           9478,
           "2020-03-28",
           "2020-01-22"
          ],
          [
           105,
           9583,
           "2020-03-29",
           "2020-01-22"
          ],
          [
           78,
           9661,
           "2020-03-30",
           "2020-01-22"
          ],
          [
           125,
           9786,
           "2020-03-31",
           "2020-01-22"
          ],
          [
           101,
           9887,
           "2020-04-01",
           "2020-01-22"
          ],
          [
           89,
           9976,
           "2020-04-02",
           "2020-01-22"
          ],
          [
           86,
           10062,
           "2020-04-03",
           "2020-01-22"
          ],
          [
           94,
           10156,
           "2020-04-04",
           "2020-01-22"
          ],
          [
           81,
           10237,
           "2020-04-05",
           "2020-01-22"
          ],
          [
           47,
           10284,
           "2020-04-06",
           "2020-01-22"
          ],
          [
           47,
           10331,
           "2020-04-07",
           "2020-01-22"
          ],
          [
           53,
           10384,
           "2020-04-08",
           "2020-01-22"
          ]
         ],
         "hovertemplate": "<b>%{hovertext}</b><br><br>Country=Korea, South<br>Confirmed=%{customdata[1]}<br>NewConfirmed=%{customdata[0]}<br>Date=%{customdata[2]}<br>EpidemicStartDate=%{customdata[3]}<extra></extra>",
         "hovertext": [
          "2020-02-20",
          "2020-02-21",
          "2020-02-22",
          "2020-02-23",
          "2020-02-24",
          "2020-02-25",
          "2020-02-26",
          "2020-02-27",
          "2020-02-28",
          "2020-02-29",
          "2020-03-01",
          "2020-03-02",
          "2020-03-03",
          "2020-03-04",
          "2020-03-05",
          "2020-03-06",
          "2020-03-07",
          "2020-03-08",
          "2020-03-09",
          "2020-03-10",
          "2020-03-11",
          "2020-03-12",
          "2020-03-13",
          "2020-03-14",
          "2020-03-15",
          "2020-03-16",
          "2020-03-17",
          "2020-03-18",
          "2020-03-19",
          "2020-03-20",
          "2020-03-21",
          "2020-03-22",
          "2020-03-23",
          "2020-03-24",
          "2020-03-25",
          "2020-03-26",
          "2020-03-27",
          "2020-03-28",
          "2020-03-29",
          "2020-03-30",
          "2020-03-31",
          "2020-04-01",
          "2020-04-02",
          "2020-04-03",
          "2020-04-04",
          "2020-04-05",
          "2020-04-06",
          "2020-04-07",
          "2020-04-08"
         ],
         "legendgroup": "Korea, South",
         "marker": {
          "color": "#F58518",
          "opacity": 0.9,
          "symbol": "diamond"
         },
         "mode": "markers",
         "name": "Korea, South",
         "showlegend": true,
         "type": "scatter",
         "x": [
          104,
          204,
          433,
          602,
          833,
          977,
          1261,
          1766,
          2337,
          3150,
          3736,
          4335,
          5186,
          5621,
          6088,
          6593,
          7041,
          7314,
          7478,
          7513,
          7755,
          7869,
          7979,
          8086,
          8162,
          8236,
          8320,
          8413,
          8565,
          8652,
          8799,
          8961,
          8961,
          9037,
          9137,
          9241,
          9332,
          9478,
          9583,
          9661,
          9786,
          9887,
          9976,
          10062,
          10156,
          10237,
          10284,
          10331,
          10384
         ],
         "xaxis": "x",
         "y": [
          73,
          100,
          229,
          169,
          231,
          144,
          284,
          505,
          571,
          813,
          586,
          599,
          851,
          435,
          467,
          505,
          448,
          273,
          164,
          35,
          242,
          114,
          110,
          107,
          76,
          74,
          84,
          93,
          152,
          87,
          147,
          162,
          0,
          76,
          100,
          104,
          91,
          146,
          105,
          78,
          125,
          101,
          89,
          86,
          94,
          81,
          47,
          47,
          53
         ],
         "yaxis": "y"
        },
        {
         "customdata": [
          [
           42,
           62,
           "2020-02-22",
           "2020-01-31"
          ],
          [
           93,
           155,
           "2020-02-23",
           "2020-01-31"
          ],
          [
           74,
           229,
           "2020-02-24",
           "2020-01-31"
          ],
          [
           93,
           322,
           "2020-02-25",
           "2020-01-31"
          ],
          [
           131,
           453,
           "2020-02-26",
           "2020-01-31"
          ],
          [
           202,
           655,
           "2020-02-27",
           "2020-01-31"
          ],
          [
           233,
           888,
           "2020-02-28",
           "2020-01-31"
          ],
          [
           240,
           1128,
           "2020-02-29",
           "2020-01-31"
          ],
          [
           566,
           1694,
           "2020-03-01",
           "2020-01-31"
          ],
          [
           342,
           2036,
           "2020-03-02",
           "2020-01-31"
          ],
          [
           466,
           2502,
           "2020-03-03",
           "2020-01-31"
          ],
          [
           587,
           3089,
           "2020-03-04",
           "2020-01-31"
          ],
          [
           769,
           3858,
           "2020-03-05",
           "2020-01-31"
          ],
          [
           778,
           4636,
           "2020-03-06",
           "2020-01-31"
          ],
          [
           1247,
           5883,
           "2020-03-07",
           "2020-01-31"
          ],
          [
           1492,
           7375,
           "2020-03-08",
           "2020-01-31"
          ],
          [
           1797,
           9172,
           "2020-03-09",
           "2020-01-31"
          ],
          [
           977,
           10149,
           "2020-03-10",
           "2020-01-31"
          ],
          [
           2313,
           12462,
           "2020-03-11",
           "2020-01-31"
          ],
          [
           0,
           12462,
           "2020-03-12",
           "2020-01-31"
          ],
          [
           5198,
           17660,
           "2020-03-13",
           "2020-01-31"
          ],
          [
           3497,
           21157,
           "2020-03-14",
           "2020-01-31"
          ],
          [
           3590,
           24747,
           "2020-03-15",
           "2020-01-31"
          ],
          [
           3233,
           27980,
           "2020-03-16",
           "2020-01-31"
          ],
          [
           3526,
           31506,
           "2020-03-17",
           "2020-01-31"
          ],
          [
           4207,
           35713,
           "2020-03-18",
           "2020-01-31"
          ],
          [
           5322,
           41035,
           "2020-03-19",
           "2020-01-31"
          ],
          [
           5986,
           47021,
           "2020-03-20",
           "2020-01-31"
          ],
          [
           6557,
           53578,
           "2020-03-21",
           "2020-01-31"
          ],
          [
           5560,
           59138,
           "2020-03-22",
           "2020-01-31"
          ],
          [
           4789,
           63927,
           "2020-03-23",
           "2020-01-31"
          ],
          [
           5249,
           69176,
           "2020-03-24",
           "2020-01-31"
          ],
          [
           5210,
           74386,
           "2020-03-25",
           "2020-01-31"
          ],
          [
           6203,
           80589,
           "2020-03-26",
           "2020-01-31"
          ],
          [
           5909,
           86498,
           "2020-03-27",
           "2020-01-31"
          ],
          [
           5974,
           92472,
           "2020-03-28",
           "2020-01-31"
          ],
          [
           5217,
           97689,
           "2020-03-29",
           "2020-01-31"
          ],
          [
           4050,
           101739,
           "2020-03-30",
           "2020-01-31"
          ],
          [
           4053,
           105792,
           "2020-03-31",
           "2020-01-31"
          ],
          [
           4782,
           110574,
           "2020-04-01",
           "2020-01-31"
          ],
          [
           4668,
           115242,
           "2020-04-02",
           "2020-01-31"
          ],
          [
           4585,
           119827,
           "2020-04-03",
           "2020-01-31"
          ],
          [
           4805,
           124632,
           "2020-04-04",
           "2020-01-31"
          ],
          [
           4316,
           128948,
           "2020-04-05",
           "2020-01-31"
          ],
          [
           3599,
           132547,
           "2020-04-06",
           "2020-01-31"
          ],
          [
           3039,
           135586,
           "2020-04-07",
           "2020-01-31"
          ],
          [
           3836,
           139422,
           "2020-04-08",
           "2020-01-31"
          ]
         ],
         "hovertemplate": "<b>%{hovertext}</b><br><br>Country=Italy<br>Confirmed=%{customdata[1]}<br>NewConfirmed=%{customdata[0]}<br>Date=%{customdata[2]}<br>EpidemicStartDate=%{customdata[3]}<extra></extra>",
         "hovertext": [
          "2020-02-22",
          "2020-02-23",
          "2020-02-24",
          "2020-02-25",
          "2020-02-26",
          "2020-02-27",
          "2020-02-28",
          "2020-02-29",
          "2020-03-01",
          "2020-03-02",
          "2020-03-03",
          "2020-03-04",
          "2020-03-05",
          "2020-03-06",
          "2020-03-07",
          "2020-03-08",
          "2020-03-09",
          "2020-03-10",
          "2020-03-11",
          "2020-03-12",
          "2020-03-13",
          "2020-03-14",
          "2020-03-15",
          "2020-03-16",
          "2020-03-17",
          "2020-03-18",
          "2020-03-19",
          "2020-03-20",
          "2020-03-21",
          "2020-03-22",
          "2020-03-23",
          "2020-03-24",
          "2020-03-25",
          "2020-03-26",
          "2020-03-27",
          "2020-03-28",
          "2020-03-29",
          "2020-03-30",
          "2020-03-31",
          "2020-04-01",
          "2020-04-02",
          "2020-04-03",
          "2020-04-04",
          "2020-04-05",
          "2020-04-06",
          "2020-04-07",
          "2020-04-08"
         ],
         "legendgroup": "Italy",
         "marker": {
          "color": "#E45756",
          "opacity": 0.9,
          "symbol": "square"
         },
         "mode": "markers",
         "name": "Italy",
         "showlegend": true,
         "type": "scatter",
         "x": [
          62,
          155,
          229,
          322,
          453,
          655,
          888,
          1128,
          1694,
          2036,
          2502,
          3089,
          3858,
          4636,
          5883,
          7375,
          9172,
          10149,
          12462,
          12462,
          17660,
          21157,
          24747,
          27980,
          31506,
          35713,
          41035,
          47021,
          53578,
          59138,
          63927,
          69176,
          74386,
          80589,
          86498,
          92472,
          97689,
          101739,
          105792,
          110574,
          115242,
          119827,
          124632,
          128948,
          132547,
          135586,
          139422
         ],
         "xaxis": "x",
         "y": [
          42,
          93,
          74,
          93,
          131,
          202,
          233,
          240,
          566,
          342,
          466,
          587,
          769,
          778,
          1247,
          1492,
          1797,
          977,
          2313,
          0,
          5198,
          3497,
          3590,
          3233,
          3526,
          4207,
          5322,
          5986,
          6557,
          5560,
          4789,
          5249,
          5210,
          6203,
          5909,
          5974,
          5217,
          4050,
          4053,
          4782,
          4668,
          4585,
          4805,
          4316,
          3599,
          3039,
          3836
         ],
         "yaxis": "y"
        },
        {
         "customdata": [
          [
           36,
           51,
           "2020-02-24",
           "2020-01-22"
          ],
          [
           0,
           51,
           "2020-02-25",
           "2020-01-22"
          ],
          [
           6,
           57,
           "2020-02-26",
           "2020-01-22"
          ],
          [
           1,
           58,
           "2020-02-27",
           "2020-01-22"
          ],
          [
           2,
           60,
           "2020-02-28",
           "2020-01-22"
          ],
          [
           8,
           68,
           "2020-02-29",
           "2020-01-22"
          ],
          [
           6,
           74,
           "2020-03-01",
           "2020-01-22"
          ],
          [
           24,
           98,
           "2020-03-02",
           "2020-01-22"
          ],
          [
           20,
           118,
           "2020-03-03",
           "2020-01-22"
          ],
          [
           31,
           149,
           "2020-03-04",
           "2020-01-22"
          ],
          [
           68,
           217,
           "2020-03-05",
           "2020-01-22"
          ],
          [
           45,
           262,
           "2020-03-06",
           "2020-01-22"
          ],
          [
           140,
           402,
           "2020-03-07",
           "2020-01-22"
          ],
          [
           116,
           518,
           "2020-03-08",
           "2020-01-22"
          ],
          [
           65,
           583,
           "2020-03-09",
           "2020-01-22"
          ],
          [
           376,
           959,
           "2020-03-10",
           "2020-01-22"
          ],
          [
           322,
           1281,
           "2020-03-11",
           "2020-01-22"
          ],
          [
           382,
           1663,
           "2020-03-12",
           "2020-01-22"
          ],
          [
           516,
           2179,
           "2020-03-13",
           "2020-01-22"
          ],
          [
           548,
           2727,
           "2020-03-14",
           "2020-01-22"
          ],
          [
           772,
           3499,
           "2020-03-15",
           "2020-01-22"
          ],
          [
           1133,
           4632,
           "2020-03-16",
           "2020-01-22"
          ],
          [
           1789,
           6421,
           "2020-03-17",
           "2020-01-22"
          ],
          [
           1362,
           7783,
           "2020-03-18",
           "2020-01-22"
          ],
          [
           5964,
           13747,
           "2020-03-19",
           "2020-01-22"
          ],
          [
           5526,
           19273,
           "2020-03-20",
           "2020-01-22"
          ],
          [
           6327,
           25600,
           "2020-03-21",
           "2020-01-22"
          ],
          [
           7676,
           33276,
           "2020-03-22",
           "2020-01-22"
          ],
          [
           10571,
           43847,
           "2020-03-23",
           "2020-01-22"
          ],
          [
           9893,
           53740,
           "2020-03-24",
           "2020-01-22"
          ],
          [
           12038,
           65778,
           "2020-03-25",
           "2020-01-22"
          ],
          [
           18058,
           83836,
           "2020-03-26",
           "2020-01-22"
          ],
          [
           17821,
           101657,
           "2020-03-27",
           "2020-01-22"
          ],
          [
           19821,
           121478,
           "2020-03-28",
           "2020-01-22"
          ],
          [
           19431,
           140909,
           "2020-03-29",
           "2020-01-22"
          ],
          [
           20928,
           161837,
           "2020-03-30",
           "2020-01-22"
          ],
          [
           26335,
           188172,
           "2020-03-31",
           "2020-01-22"
          ],
          [
           25200,
           213372,
           "2020-04-01",
           "2020-01-22"
          ],
          [
           30244,
           243616,
           "2020-04-02",
           "2020-01-22"
          ],
          [
           31970,
           275586,
           "2020-04-03",
           "2020-01-22"
          ],
          [
           33264,
           308850,
           "2020-04-04",
           "2020-01-22"
          ],
          [
           28222,
           337072,
           "2020-04-05",
           "2020-01-22"
          ],
          [
           29595,
           366667,
           "2020-04-06",
           "2020-01-22"
          ],
          [
           29556,
           396223,
           "2020-04-07",
           "2020-01-22"
          ],
          [
           32829,
           429052,
           "2020-04-08",
           "2020-01-22"
          ]
         ],
         "hovertemplate": "<b>%{hovertext}</b><br><br>Country=US<br>Confirmed=%{customdata[1]}<br>NewConfirmed=%{customdata[0]}<br>Date=%{customdata[2]}<br>EpidemicStartDate=%{customdata[3]}<extra></extra>",
         "hovertext": [
          "2020-02-24",
          "2020-02-25",
          "2020-02-26",
          "2020-02-27",
          "2020-02-28",
          "2020-02-29",
          "2020-03-01",
          "2020-03-02",
          "2020-03-03",
          "2020-03-04",
          "2020-03-05",
          "2020-03-06",
          "2020-03-07",
          "2020-03-08",
          "2020-03-09",
          "2020-03-10",
          "2020-03-11",
          "2020-03-12",
          "2020-03-13",
          "2020-03-14",
          "2020-03-15",
          "2020-03-16",
          "2020-03-17",
          "2020-03-18",
          "2020-03-19",
          "2020-03-20",
          "2020-03-21",
          "2020-03-22",
          "2020-03-23",
          "2020-03-24",
          "2020-03-25",
          "2020-03-26",
          "2020-03-27",
          "2020-03-28",
          "2020-03-29",
          "2020-03-30",
          "2020-03-31",
          "2020-04-01",
          "2020-04-02",
          "2020-04-03",
          "2020-04-04",
          "2020-04-05",
          "2020-04-06",
          "2020-04-07",
          "2020-04-08"
         ],
         "legendgroup": "US",
         "marker": {
          "color": "#72B7B2",
          "opacity": 0.9,
          "symbol": "x"
         },
         "mode": "markers",
         "name": "US",
         "showlegend": true,
         "type": "scatter",
         "x": [
          51,
          51,
          57,
          58,
          60,
          68,
          74,
          98,
          118,
          149,
          217,
          262,
          402,
          518,
          583,
          959,
          1281,
          1663,
          2179,
          2727,
          3499,
          4632,
          6421,
          7783,
          13747,
          19273,
          25600,
          33276,
          43847,
          53740,
          65778,
          83836,
          101657,
          121478,
          140909,
          161837,
          188172,
          213372,
          243616,
          275586,
          308850,
          337072,
          366667,
          396223,
          429052
         ],
         "xaxis": "x",
         "y": [
          36,
          0,
          6,
          1,
          2,
          8,
          6,
          24,
          20,
          31,
          68,
          45,
          140,
          116,
          65,
          376,
          322,
          382,
          516,
          548,
          772,
          1133,
          1789,
          1362,
          5964,
          5526,
          6327,
          7676,
          10571,
          9893,
          12038,
          18058,
          17821,
          19821,
          19431,
          20928,
          26335,
          25200,
          30244,
          31970,
          33264,
          28222,
          29595,
          29556,
          32829
         ],
         "yaxis": "y"
        }
       ],
       "layout": {
        "legend": {
         "title": {
          "text": "Country"
         },
         "tracegroupgap": 0
        },
        "template": {
         "data": {
          "bar": [
           {
            "error_x": {
             "color": "rgb(51,51,51)"
            },
            "error_y": {
             "color": "rgb(51,51,51)"
            },
            "marker": {
             "line": {
              "color": "rgb(237,237,237)",
              "width": 0.5
             }
            },
            "type": "bar"
           }
          ],
          "barpolar": [
           {
            "marker": {
             "line": {
              "color": "rgb(237,237,237)",
              "width": 0.5
             }
            },
            "type": "barpolar"
           }
          ],
          "carpet": [
           {
            "aaxis": {
             "endlinecolor": "rgb(51,51,51)",
             "gridcolor": "white",
             "linecolor": "white",
             "minorgridcolor": "white",
             "startlinecolor": "rgb(51,51,51)"
            },
            "baxis": {
             "endlinecolor": "rgb(51,51,51)",
             "gridcolor": "white",
             "linecolor": "white",
             "minorgridcolor": "white",
             "startlinecolor": "rgb(51,51,51)"
            },
            "type": "carpet"
           }
          ],
          "choropleth": [
           {
            "colorbar": {
             "outlinewidth": 0,
             "tickcolor": "rgb(237,237,237)",
             "ticklen": 6,
             "ticks": "inside"
            },
            "type": "choropleth"
           }
          ],
          "contour": [
           {
            "colorbar": {
             "outlinewidth": 0,
             "tickcolor": "rgb(237,237,237)",
             "ticklen": 6,
             "ticks": "inside"
            },
            "colorscale": [
             [
              0,
              "rgb(20,44,66)"
             ],
             [
              1,
              "rgb(90,179,244)"
             ]
            ],
            "type": "contour"
           }
          ],
          "contourcarpet": [
           {
            "colorbar": {
             "outlinewidth": 0,
             "tickcolor": "rgb(237,237,237)",
             "ticklen": 6,
             "ticks": "inside"
            },
            "type": "contourcarpet"
           }
          ],
          "heatmap": [
           {
            "colorbar": {
             "outlinewidth": 0,
             "tickcolor": "rgb(237,237,237)",
             "ticklen": 6,
             "ticks": "inside"
            },
            "colorscale": [
             [
              0,
              "rgb(20,44,66)"
             ],
             [
              1,
              "rgb(90,179,244)"
             ]
            ],
            "type": "heatmap"
           }
          ],
          "heatmapgl": [
           {
            "colorbar": {
             "outlinewidth": 0,
             "tickcolor": "rgb(237,237,237)",
             "ticklen": 6,
             "ticks": "inside"
            },
            "colorscale": [
             [
              0,
              "rgb(20,44,66)"
             ],
             [
              1,
              "rgb(90,179,244)"
             ]
            ],
            "type": "heatmapgl"
           }
          ],
          "histogram": [
           {
            "marker": {
             "colorbar": {
              "outlinewidth": 0,
              "tickcolor": "rgb(237,237,237)",
              "ticklen": 6,
              "ticks": "inside"
             }
            },
            "type": "histogram"
           }
          ],
          "histogram2d": [
           {
            "colorbar": {
             "outlinewidth": 0,
             "tickcolor": "rgb(237,237,237)",
             "ticklen": 6,
             "ticks": "inside"
            },
            "colorscale": [
             [
              0,
              "rgb(20,44,66)"
             ],
             [
              1,
              "rgb(90,179,244)"
             ]
            ],
            "type": "histogram2d"
           }
          ],
          "histogram2dcontour": [
           {
            "colorbar": {
             "outlinewidth": 0,
             "tickcolor": "rgb(237,237,237)",
             "ticklen": 6,
             "ticks": "inside"
            },
            "colorscale": [
             [
              0,
              "rgb(20,44,66)"
             ],
             [
              1,
              "rgb(90,179,244)"
             ]
            ],
            "type": "histogram2dcontour"
           }
          ],
          "mesh3d": [
           {
            "colorbar": {
             "outlinewidth": 0,
             "tickcolor": "rgb(237,237,237)",
             "ticklen": 6,
             "ticks": "inside"
            },
            "type": "mesh3d"
           }
          ],
          "parcoords": [
           {
            "line": {
             "colorbar": {
              "outlinewidth": 0,
              "tickcolor": "rgb(237,237,237)",
              "ticklen": 6,
              "ticks": "inside"
             }
            },
            "type": "parcoords"
           }
          ],
          "pie": [
           {
            "automargin": true,
            "type": "pie"
           }
          ],
          "scatter": [
           {
            "marker": {
             "colorbar": {
              "outlinewidth": 0,
              "tickcolor": "rgb(237,237,237)",
              "ticklen": 6,
              "ticks": "inside"
             }
            },
            "type": "scatter"
           }
          ],
          "scatter3d": [
           {
            "line": {
             "colorbar": {
              "outlinewidth": 0,
              "tickcolor": "rgb(237,237,237)",
              "ticklen": 6,
              "ticks": "inside"
             }
            },
            "marker": {
             "colorbar": {
              "outlinewidth": 0,
              "tickcolor": "rgb(237,237,237)",
              "ticklen": 6,
              "ticks": "inside"
             }
            },
            "type": "scatter3d"
           }
          ],
          "scattercarpet": [
           {
            "marker": {
             "colorbar": {
              "outlinewidth": 0,
              "tickcolor": "rgb(237,237,237)",
              "ticklen": 6,
              "ticks": "inside"
             }
            },
            "type": "scattercarpet"
           }
          ],
          "scattergeo": [
           {
            "marker": {
             "colorbar": {
              "outlinewidth": 0,
              "tickcolor": "rgb(237,237,237)",
              "ticklen": 6,
              "ticks": "inside"
             }
            },
            "type": "scattergeo"
           }
          ],
          "scattergl": [
           {
            "marker": {
             "colorbar": {
              "outlinewidth": 0,
              "tickcolor": "rgb(237,237,237)",
              "ticklen": 6,
              "ticks": "inside"
             }
            },
            "type": "scattergl"
           }
          ],
          "scattermapbox": [
           {
            "marker": {
             "colorbar": {
              "outlinewidth": 0,
              "tickcolor": "rgb(237,237,237)",
              "ticklen": 6,
              "ticks": "inside"
             }
            },
            "type": "scattermapbox"
           }
          ],
          "scatterpolar": [
           {
            "marker": {
             "colorbar": {
              "outlinewidth": 0,
              "tickcolor": "rgb(237,237,237)",
              "ticklen": 6,
              "ticks": "inside"
             }
            },
            "type": "scatterpolar"
           }
          ],
          "scatterpolargl": [
           {
            "marker": {
             "colorbar": {
              "outlinewidth": 0,
              "tickcolor": "rgb(237,237,237)",
              "ticklen": 6,
              "ticks": "inside"
             }
            },
            "type": "scatterpolargl"
           }
          ],
          "scatterternary": [
           {
            "marker": {
             "colorbar": {
              "outlinewidth": 0,
              "tickcolor": "rgb(237,237,237)",
              "ticklen": 6,
              "ticks": "inside"
             }
            },
            "type": "scatterternary"
           }
          ],
          "surface": [
           {
            "colorbar": {
             "outlinewidth": 0,
             "tickcolor": "rgb(237,237,237)",
             "ticklen": 6,
             "ticks": "inside"
            },
            "colorscale": [
             [
              0,
              "rgb(20,44,66)"
             ],
             [
              1,
              "rgb(90,179,244)"
             ]
            ],
            "type": "surface"
           }
          ],
          "table": [
           {
            "cells": {
             "fill": {
              "color": "rgb(237,237,237)"
             },
             "line": {
              "color": "white"
             }
            },
            "header": {
             "fill": {
              "color": "rgb(217,217,217)"
             },
             "line": {
              "color": "white"
             }
            },
            "type": "table"
           }
          ]
         },
         "layout": {
          "annotationdefaults": {
           "arrowhead": 0,
           "arrowwidth": 1
          },
          "coloraxis": {
           "colorbar": {
            "outlinewidth": 0,
            "tickcolor": "rgb(237,237,237)",
            "ticklen": 6,
            "ticks": "inside"
           }
          },
          "colorscale": {
           "sequential": [
            [
             0,
             "rgb(20,44,66)"
            ],
            [
             1,
             "rgb(90,179,244)"
            ]
           ],
           "sequentialminus": [
            [
             0,
             "rgb(20,44,66)"
            ],
            [
             1,
             "rgb(90,179,244)"
            ]
           ]
          },
          "colorway": [
           "#F8766D",
           "#A3A500",
           "#00BF7D",
           "#00B0F6",
           "#E76BF3"
          ],
          "font": {
           "color": "rgb(51,51,51)"
          },
          "geo": {
           "bgcolor": "white",
           "lakecolor": "white",
           "landcolor": "rgb(237,237,237)",
           "showlakes": true,
           "showland": true,
           "subunitcolor": "white"
          },
          "hoverlabel": {
           "align": "left"
          },
          "hovermode": "closest",
          "paper_bgcolor": "white",
          "plot_bgcolor": "rgb(237,237,237)",
          "polar": {
           "angularaxis": {
            "gridcolor": "white",
            "linecolor": "white",
            "showgrid": true,
            "tickcolor": "rgb(51,51,51)",
            "ticks": "outside"
           },
           "bgcolor": "rgb(237,237,237)",
           "radialaxis": {
            "gridcolor": "white",
            "linecolor": "white",
            "showgrid": true,
            "tickcolor": "rgb(51,51,51)",
            "ticks": "outside"
           }
          },
          "scene": {
           "xaxis": {
            "backgroundcolor": "rgb(237,237,237)",
            "gridcolor": "white",
            "gridwidth": 2,
            "linecolor": "white",
            "showbackground": true,
            "showgrid": true,
            "tickcolor": "rgb(51,51,51)",
            "ticks": "outside",
            "zerolinecolor": "white"
           },
           "yaxis": {
            "backgroundcolor": "rgb(237,237,237)",
            "gridcolor": "white",
            "gridwidth": 2,
            "linecolor": "white",
            "showbackground": true,
            "showgrid": true,
            "tickcolor": "rgb(51,51,51)",
            "ticks": "outside",
            "zerolinecolor": "white"
           },
           "zaxis": {
            "backgroundcolor": "rgb(237,237,237)",
            "gridcolor": "white",
            "gridwidth": 2,
            "linecolor": "white",
            "showbackground": true,
            "showgrid": true,
            "tickcolor": "rgb(51,51,51)",
            "ticks": "outside",
            "zerolinecolor": "white"
           }
          },
          "shapedefaults": {
           "fillcolor": "black",
           "line": {
            "width": 0
           },
           "opacity": 0.3
          },
          "ternary": {
           "aaxis": {
            "gridcolor": "white",
            "linecolor": "white",
            "showgrid": true,
            "tickcolor": "rgb(51,51,51)",
            "ticks": "outside"
           },
           "baxis": {
            "gridcolor": "white",
            "linecolor": "white",
            "showgrid": true,
            "tickcolor": "rgb(51,51,51)",
            "ticks": "outside"
           },
           "bgcolor": "rgb(237,237,237)",
           "caxis": {
            "gridcolor": "white",
            "linecolor": "white",
            "showgrid": true,
            "tickcolor": "rgb(51,51,51)",
            "ticks": "outside"
           }
          },
          "xaxis": {
           "automargin": true,
           "gridcolor": "white",
           "linecolor": "white",
           "showgrid": true,
           "tickcolor": "rgb(51,51,51)",
           "ticks": "outside",
           "title": {
            "standoff": 15
           },
           "zerolinecolor": "white"
          },
          "yaxis": {
           "automargin": true,
           "gridcolor": "white",
           "linecolor": "white",
           "showgrid": true,
           "tickcolor": "rgb(51,51,51)",
           "ticks": "outside",
           "title": {
            "standoff": 15
           },
           "zerolinecolor": "white"
          }
         }
        },
        "title": {
         "text": "New Confirmed Cases vs Cumulative Cases Per Day (Logged, International)"
        },
        "xaxis": {
         "anchor": "y",
         "domain": [
          0,
          1
         ],
         "title": {
          "text": "Confirmed"
         },
         "type": "log"
        },
        "yaxis": {
         "anchor": "x",
         "domain": [
          0,
          1
         ],
         "title": {
          "text": "NewConfirmed"
         },
         "type": "log"
        }
       }
      },
      "text/html": [
       "<div>\n",
       "        \n",
       "        \n",
       "            <div id=\"89522135-9404-493f-aafb-78dbc7dfe0ea\" class=\"plotly-graph-div\" style=\"height:525px; width:100%;\"></div>\n",
       "            <script type=\"text/javascript\">\n",
       "                require([\"plotly\"], function(Plotly) {\n",
       "                    window.PLOTLYENV=window.PLOTLYENV || {};\n",
       "                    \n",
       "                if (document.getElementById(\"89522135-9404-493f-aafb-78dbc7dfe0ea\")) {\n",
       "                    Plotly.newPlot(\n",
       "                        '89522135-9404-493f-aafb-78dbc7dfe0ea',\n",
       "                        [{\"customdata\": [[null, 548.0, \"2020-01-22\", \"2020-01-22\"], [95.0, 643.0, \"2020-01-23\", \"2020-01-22\"], [277.0, 920.0, \"2020-01-24\", \"2020-01-22\"], [486.0, 1406.0, \"2020-01-25\", \"2020-01-22\"], [669.0, 2075.0, \"2020-01-26\", \"2020-01-22\"], [802.0, 2877.0, \"2020-01-27\", \"2020-01-22\"], [2632.0, 5509.0, \"2020-01-28\", \"2020-01-22\"], [578.0, 6087.0, \"2020-01-29\", \"2020-01-22\"], [2054.0, 8141.0, \"2020-01-30\", \"2020-01-22\"], [1661.0, 9802.0, \"2020-01-31\", \"2020-01-22\"], [2089.0, 11891.0, \"2020-02-01\", \"2020-01-22\"], [4739.0, 16630.0, \"2020-02-02\", \"2020-01-22\"], [3086.0, 19716.0, \"2020-02-03\", \"2020-01-22\"], [3991.0, 23707.0, \"2020-02-04\", \"2020-01-22\"], [3733.0, 27440.0, \"2020-02-05\", \"2020-01-22\"], [3147.0, 30587.0, \"2020-02-06\", \"2020-01-22\"], [3523.0, 34110.0, \"2020-02-07\", \"2020-01-22\"], [2704.0, 36814.0, \"2020-02-08\", \"2020-01-22\"], [3015.0, 39829.0, \"2020-02-09\", \"2020-01-22\"], [2525.0, 42354.0, \"2020-02-10\", \"2020-01-22\"], [2032.0, 44386.0, \"2020-02-11\", \"2020-01-22\"], [373.0, 44759.0, \"2020-02-12\", \"2020-01-22\"], [15136.0, 59895.0, \"2020-02-13\", \"2020-01-22\"], [6463.0, 66358.0, \"2020-02-14\", \"2020-01-22\"], [2055.0, 68413.0, \"2020-02-15\", \"2020-01-22\"], [2100.0, 70513.0, \"2020-02-16\", \"2020-01-22\"], [1921.0, 72434.0, \"2020-02-17\", \"2020-01-22\"], [1777.0, 74211.0, \"2020-02-18\", \"2020-01-22\"], [408.0, 74619.0, \"2020-02-19\", \"2020-01-22\"], [458.0, 75077.0, \"2020-02-20\", \"2020-01-22\"], [473.0, 75550.0, \"2020-02-21\", \"2020-01-22\"], [1451.0, 77001.0, \"2020-02-22\", \"2020-01-22\"], [21.0, 77022.0, \"2020-02-23\", \"2020-01-22\"], [219.0, 77241.0, \"2020-02-24\", \"2020-01-22\"], [513.0, 77754.0, \"2020-02-25\", \"2020-01-22\"], [412.0, 78166.0, \"2020-02-26\", \"2020-01-22\"], [434.0, 78600.0, \"2020-02-27\", \"2020-01-22\"], [328.0, 78928.0, \"2020-02-28\", \"2020-01-22\"], [428.0, 79356.0, \"2020-02-29\", \"2020-01-22\"], [576.0, 79932.0, \"2020-03-01\", \"2020-01-22\"], [204.0, 80136.0, \"2020-03-02\", \"2020-01-22\"], [125.0, 80261.0, \"2020-03-03\", \"2020-01-22\"], [125.0, 80386.0, \"2020-03-04\", \"2020-01-22\"], [151.0, 80537.0, \"2020-03-05\", \"2020-01-22\"], [153.0, 80690.0, \"2020-03-06\", \"2020-01-22\"], [80.0, 80770.0, \"2020-03-07\", \"2020-01-22\"], [53.0, 80823.0, \"2020-03-08\", \"2020-01-22\"], [37.0, 80860.0, \"2020-03-09\", \"2020-01-22\"], [27.0, 80887.0, \"2020-03-10\", \"2020-01-22\"], [34.0, 80921.0, \"2020-03-11\", \"2020-01-22\"], [11.0, 80932.0, \"2020-03-12\", \"2020-01-22\"], [13.0, 80945.0, \"2020-03-13\", \"2020-01-22\"], [32.0, 80977.0, \"2020-03-14\", \"2020-01-22\"], [26.0, 81003.0, \"2020-03-15\", \"2020-01-22\"], [30.0, 81033.0, \"2020-03-16\", \"2020-01-22\"], [25.0, 81058.0, \"2020-03-17\", \"2020-01-22\"], [44.0, 81102.0, \"2020-03-18\", \"2020-01-22\"], [54.0, 81156.0, \"2020-03-19\", \"2020-01-22\"], [94.0, 81250.0, \"2020-03-20\", \"2020-01-22\"], [55.0, 81305.0, \"2020-03-21\", \"2020-01-22\"], [130.0, 81435.0, \"2020-03-22\", \"2020-01-22\"], [63.0, 81498.0, \"2020-03-23\", \"2020-01-22\"], [93.0, 81591.0, \"2020-03-24\", \"2020-01-22\"], [70.0, 81661.0, \"2020-03-25\", \"2020-01-22\"], [121.0, 81782.0, \"2020-03-26\", \"2020-01-22\"], [115.0, 81897.0, \"2020-03-27\", \"2020-01-22\"], [102.0, 81999.0, \"2020-03-28\", \"2020-01-22\"], [123.0, 82122.0, \"2020-03-29\", \"2020-01-22\"], [76.0, 82198.0, \"2020-03-30\", \"2020-01-22\"], [81.0, 82279.0, \"2020-03-31\", \"2020-01-22\"], [82.0, 82361.0, \"2020-04-01\", \"2020-01-22\"], [71.0, 82432.0, \"2020-04-02\", \"2020-01-22\"], [79.0, 82511.0, \"2020-04-03\", \"2020-01-22\"], [32.0, 82543.0, \"2020-04-04\", \"2020-01-22\"], [59.0, 82602.0, \"2020-04-05\", \"2020-01-22\"], [63.0, 82665.0, \"2020-04-06\", \"2020-01-22\"], [53.0, 82718.0, \"2020-04-07\", \"2020-01-22\"], [91.0, 82809.0, \"2020-04-08\", \"2020-01-22\"]], \"hovertemplate\": \"<b>%{hovertext}</b><br><br>Country=China<br>Confirmed=%{customdata[1]}<br>NewConfirmed=%{customdata[0]}<br>Date=%{customdata[2]}<br>EpidemicStartDate=%{customdata[3]}<extra></extra>\", \"hovertext\": [\"2020-01-22\", \"2020-01-23\", \"2020-01-24\", \"2020-01-25\", \"2020-01-26\", \"2020-01-27\", \"2020-01-28\", \"2020-01-29\", \"2020-01-30\", \"2020-01-31\", \"2020-02-01\", \"2020-02-02\", \"2020-02-03\", \"2020-02-04\", \"2020-02-05\", \"2020-02-06\", \"2020-02-07\", \"2020-02-08\", \"2020-02-09\", \"2020-02-10\", \"2020-02-11\", \"2020-02-12\", \"2020-02-13\", \"2020-02-14\", \"2020-02-15\", \"2020-02-16\", \"2020-02-17\", \"2020-02-18\", \"2020-02-19\", \"2020-02-20\", \"2020-02-21\", \"2020-02-22\", \"2020-02-23\", \"2020-02-24\", \"2020-02-25\", \"2020-02-26\", \"2020-02-27\", \"2020-02-28\", \"2020-02-29\", \"2020-03-01\", \"2020-03-02\", \"2020-03-03\", \"2020-03-04\", \"2020-03-05\", \"2020-03-06\", \"2020-03-07\", \"2020-03-08\", \"2020-03-09\", \"2020-03-10\", \"2020-03-11\", \"2020-03-12\", \"2020-03-13\", \"2020-03-14\", \"2020-03-15\", \"2020-03-16\", \"2020-03-17\", \"2020-03-18\", \"2020-03-19\", \"2020-03-20\", \"2020-03-21\", \"2020-03-22\", \"2020-03-23\", \"2020-03-24\", \"2020-03-25\", \"2020-03-26\", \"2020-03-27\", \"2020-03-28\", \"2020-03-29\", \"2020-03-30\", \"2020-03-31\", \"2020-04-01\", \"2020-04-02\", \"2020-04-03\", \"2020-04-04\", \"2020-04-05\", \"2020-04-06\", \"2020-04-07\", \"2020-04-08\"], \"legendgroup\": \"China\", \"marker\": {\"color\": \"#4C78A8\", \"opacity\": 0.9, \"symbol\": \"circle\"}, \"mode\": \"markers\", \"name\": \"China\", \"showlegend\": true, \"type\": \"scatter\", \"x\": [548, 643, 920, 1406, 2075, 2877, 5509, 6087, 8141, 9802, 11891, 16630, 19716, 23707, 27440, 30587, 34110, 36814, 39829, 42354, 44386, 44759, 59895, 66358, 68413, 70513, 72434, 74211, 74619, 75077, 75550, 77001, 77022, 77241, 77754, 78166, 78600, 78928, 79356, 79932, 80136, 80261, 80386, 80537, 80690, 80770, 80823, 80860, 80887, 80921, 80932, 80945, 80977, 81003, 81033, 81058, 81102, 81156, 81250, 81305, 81435, 81498, 81591, 81661, 81782, 81897, 81999, 82122, 82198, 82279, 82361, 82432, 82511, 82543, 82602, 82665, 82718, 82809], \"xaxis\": \"x\", \"y\": [null, 95.0, 277.0, 486.0, 669.0, 802.0, 2632.0, 578.0, 2054.0, 1661.0, 2089.0, 4739.0, 3086.0, 3991.0, 3733.0, 3147.0, 3523.0, 2704.0, 3015.0, 2525.0, 2032.0, 373.0, 15136.0, 6463.0, 2055.0, 2100.0, 1921.0, 1777.0, 408.0, 458.0, 473.0, 1451.0, 21.0, 219.0, 513.0, 412.0, 434.0, 328.0, 428.0, 576.0, 204.0, 125.0, 125.0, 151.0, 153.0, 80.0, 53.0, 37.0, 27.0, 34.0, 11.0, 13.0, 32.0, 26.0, 30.0, 25.0, 44.0, 54.0, 94.0, 55.0, 130.0, 63.0, 93.0, 70.0, 121.0, 115.0, 102.0, 123.0, 76.0, 81.0, 82.0, 71.0, 79.0, 32.0, 59.0, 63.0, 53.0, 91.0], \"yaxis\": \"y\"}, {\"customdata\": [[73.0, 104.0, \"2020-02-20\", \"2020-01-22\"], [100.0, 204.0, \"2020-02-21\", \"2020-01-22\"], [229.0, 433.0, \"2020-02-22\", \"2020-01-22\"], [169.0, 602.0, \"2020-02-23\", \"2020-01-22\"], [231.0, 833.0, \"2020-02-24\", \"2020-01-22\"], [144.0, 977.0, \"2020-02-25\", \"2020-01-22\"], [284.0, 1261.0, \"2020-02-26\", \"2020-01-22\"], [505.0, 1766.0, \"2020-02-27\", \"2020-01-22\"], [571.0, 2337.0, \"2020-02-28\", \"2020-01-22\"], [813.0, 3150.0, \"2020-02-29\", \"2020-01-22\"], [586.0, 3736.0, \"2020-03-01\", \"2020-01-22\"], [599.0, 4335.0, \"2020-03-02\", \"2020-01-22\"], [851.0, 5186.0, \"2020-03-03\", \"2020-01-22\"], [435.0, 5621.0, \"2020-03-04\", \"2020-01-22\"], [467.0, 6088.0, \"2020-03-05\", \"2020-01-22\"], [505.0, 6593.0, \"2020-03-06\", \"2020-01-22\"], [448.0, 7041.0, \"2020-03-07\", \"2020-01-22\"], [273.0, 7314.0, \"2020-03-08\", \"2020-01-22\"], [164.0, 7478.0, \"2020-03-09\", \"2020-01-22\"], [35.0, 7513.0, \"2020-03-10\", \"2020-01-22\"], [242.0, 7755.0, \"2020-03-11\", \"2020-01-22\"], [114.0, 7869.0, \"2020-03-12\", \"2020-01-22\"], [110.0, 7979.0, \"2020-03-13\", \"2020-01-22\"], [107.0, 8086.0, \"2020-03-14\", \"2020-01-22\"], [76.0, 8162.0, \"2020-03-15\", \"2020-01-22\"], [74.0, 8236.0, \"2020-03-16\", \"2020-01-22\"], [84.0, 8320.0, \"2020-03-17\", \"2020-01-22\"], [93.0, 8413.0, \"2020-03-18\", \"2020-01-22\"], [152.0, 8565.0, \"2020-03-19\", \"2020-01-22\"], [87.0, 8652.0, \"2020-03-20\", \"2020-01-22\"], [147.0, 8799.0, \"2020-03-21\", \"2020-01-22\"], [162.0, 8961.0, \"2020-03-22\", \"2020-01-22\"], [0.0, 8961.0, \"2020-03-23\", \"2020-01-22\"], [76.0, 9037.0, \"2020-03-24\", \"2020-01-22\"], [100.0, 9137.0, \"2020-03-25\", \"2020-01-22\"], [104.0, 9241.0, \"2020-03-26\", \"2020-01-22\"], [91.0, 9332.0, \"2020-03-27\", \"2020-01-22\"], [146.0, 9478.0, \"2020-03-28\", \"2020-01-22\"], [105.0, 9583.0, \"2020-03-29\", \"2020-01-22\"], [78.0, 9661.0, \"2020-03-30\", \"2020-01-22\"], [125.0, 9786.0, \"2020-03-31\", \"2020-01-22\"], [101.0, 9887.0, \"2020-04-01\", \"2020-01-22\"], [89.0, 9976.0, \"2020-04-02\", \"2020-01-22\"], [86.0, 10062.0, \"2020-04-03\", \"2020-01-22\"], [94.0, 10156.0, \"2020-04-04\", \"2020-01-22\"], [81.0, 10237.0, \"2020-04-05\", \"2020-01-22\"], [47.0, 10284.0, \"2020-04-06\", \"2020-01-22\"], [47.0, 10331.0, \"2020-04-07\", \"2020-01-22\"], [53.0, 10384.0, \"2020-04-08\", \"2020-01-22\"]], \"hovertemplate\": \"<b>%{hovertext}</b><br><br>Country=Korea, South<br>Confirmed=%{customdata[1]}<br>NewConfirmed=%{customdata[0]}<br>Date=%{customdata[2]}<br>EpidemicStartDate=%{customdata[3]}<extra></extra>\", \"hovertext\": [\"2020-02-20\", \"2020-02-21\", \"2020-02-22\", \"2020-02-23\", \"2020-02-24\", \"2020-02-25\", \"2020-02-26\", \"2020-02-27\", \"2020-02-28\", \"2020-02-29\", \"2020-03-01\", \"2020-03-02\", \"2020-03-03\", \"2020-03-04\", \"2020-03-05\", \"2020-03-06\", \"2020-03-07\", \"2020-03-08\", \"2020-03-09\", \"2020-03-10\", \"2020-03-11\", \"2020-03-12\", \"2020-03-13\", \"2020-03-14\", \"2020-03-15\", \"2020-03-16\", \"2020-03-17\", \"2020-03-18\", \"2020-03-19\", \"2020-03-20\", \"2020-03-21\", \"2020-03-22\", \"2020-03-23\", \"2020-03-24\", \"2020-03-25\", \"2020-03-26\", \"2020-03-27\", \"2020-03-28\", \"2020-03-29\", \"2020-03-30\", \"2020-03-31\", \"2020-04-01\", \"2020-04-02\", \"2020-04-03\", \"2020-04-04\", \"2020-04-05\", \"2020-04-06\", \"2020-04-07\", \"2020-04-08\"], \"legendgroup\": \"Korea, South\", \"marker\": {\"color\": \"#F58518\", \"opacity\": 0.9, \"symbol\": \"diamond\"}, \"mode\": \"markers\", \"name\": \"Korea, South\", \"showlegend\": true, \"type\": \"scatter\", \"x\": [104, 204, 433, 602, 833, 977, 1261, 1766, 2337, 3150, 3736, 4335, 5186, 5621, 6088, 6593, 7041, 7314, 7478, 7513, 7755, 7869, 7979, 8086, 8162, 8236, 8320, 8413, 8565, 8652, 8799, 8961, 8961, 9037, 9137, 9241, 9332, 9478, 9583, 9661, 9786, 9887, 9976, 10062, 10156, 10237, 10284, 10331, 10384], \"xaxis\": \"x\", \"y\": [73.0, 100.0, 229.0, 169.0, 231.0, 144.0, 284.0, 505.0, 571.0, 813.0, 586.0, 599.0, 851.0, 435.0, 467.0, 505.0, 448.0, 273.0, 164.0, 35.0, 242.0, 114.0, 110.0, 107.0, 76.0, 74.0, 84.0, 93.0, 152.0, 87.0, 147.0, 162.0, 0.0, 76.0, 100.0, 104.0, 91.0, 146.0, 105.0, 78.0, 125.0, 101.0, 89.0, 86.0, 94.0, 81.0, 47.0, 47.0, 53.0], \"yaxis\": \"y\"}, {\"customdata\": [[42.0, 62.0, \"2020-02-22\", \"2020-01-31\"], [93.0, 155.0, \"2020-02-23\", \"2020-01-31\"], [74.0, 229.0, \"2020-02-24\", \"2020-01-31\"], [93.0, 322.0, \"2020-02-25\", \"2020-01-31\"], [131.0, 453.0, \"2020-02-26\", \"2020-01-31\"], [202.0, 655.0, \"2020-02-27\", \"2020-01-31\"], [233.0, 888.0, \"2020-02-28\", \"2020-01-31\"], [240.0, 1128.0, \"2020-02-29\", \"2020-01-31\"], [566.0, 1694.0, \"2020-03-01\", \"2020-01-31\"], [342.0, 2036.0, \"2020-03-02\", \"2020-01-31\"], [466.0, 2502.0, \"2020-03-03\", \"2020-01-31\"], [587.0, 3089.0, \"2020-03-04\", \"2020-01-31\"], [769.0, 3858.0, \"2020-03-05\", \"2020-01-31\"], [778.0, 4636.0, \"2020-03-06\", \"2020-01-31\"], [1247.0, 5883.0, \"2020-03-07\", \"2020-01-31\"], [1492.0, 7375.0, \"2020-03-08\", \"2020-01-31\"], [1797.0, 9172.0, \"2020-03-09\", \"2020-01-31\"], [977.0, 10149.0, \"2020-03-10\", \"2020-01-31\"], [2313.0, 12462.0, \"2020-03-11\", \"2020-01-31\"], [0.0, 12462.0, \"2020-03-12\", \"2020-01-31\"], [5198.0, 17660.0, \"2020-03-13\", \"2020-01-31\"], [3497.0, 21157.0, \"2020-03-14\", \"2020-01-31\"], [3590.0, 24747.0, \"2020-03-15\", \"2020-01-31\"], [3233.0, 27980.0, \"2020-03-16\", \"2020-01-31\"], [3526.0, 31506.0, \"2020-03-17\", \"2020-01-31\"], [4207.0, 35713.0, \"2020-03-18\", \"2020-01-31\"], [5322.0, 41035.0, \"2020-03-19\", \"2020-01-31\"], [5986.0, 47021.0, \"2020-03-20\", \"2020-01-31\"], [6557.0, 53578.0, \"2020-03-21\", \"2020-01-31\"], [5560.0, 59138.0, \"2020-03-22\", \"2020-01-31\"], [4789.0, 63927.0, \"2020-03-23\", \"2020-01-31\"], [5249.0, 69176.0, \"2020-03-24\", \"2020-01-31\"], [5210.0, 74386.0, \"2020-03-25\", \"2020-01-31\"], [6203.0, 80589.0, \"2020-03-26\", \"2020-01-31\"], [5909.0, 86498.0, \"2020-03-27\", \"2020-01-31\"], [5974.0, 92472.0, \"2020-03-28\", \"2020-01-31\"], [5217.0, 97689.0, \"2020-03-29\", \"2020-01-31\"], [4050.0, 101739.0, \"2020-03-30\", \"2020-01-31\"], [4053.0, 105792.0, \"2020-03-31\", \"2020-01-31\"], [4782.0, 110574.0, \"2020-04-01\", \"2020-01-31\"], [4668.0, 115242.0, \"2020-04-02\", \"2020-01-31\"], [4585.0, 119827.0, \"2020-04-03\", \"2020-01-31\"], [4805.0, 124632.0, \"2020-04-04\", \"2020-01-31\"], [4316.0, 128948.0, \"2020-04-05\", \"2020-01-31\"], [3599.0, 132547.0, \"2020-04-06\", \"2020-01-31\"], [3039.0, 135586.0, \"2020-04-07\", \"2020-01-31\"], [3836.0, 139422.0, \"2020-04-08\", \"2020-01-31\"]], \"hovertemplate\": \"<b>%{hovertext}</b><br><br>Country=Italy<br>Confirmed=%{customdata[1]}<br>NewConfirmed=%{customdata[0]}<br>Date=%{customdata[2]}<br>EpidemicStartDate=%{customdata[3]}<extra></extra>\", \"hovertext\": [\"2020-02-22\", \"2020-02-23\", \"2020-02-24\", \"2020-02-25\", \"2020-02-26\", \"2020-02-27\", \"2020-02-28\", \"2020-02-29\", \"2020-03-01\", \"2020-03-02\", \"2020-03-03\", \"2020-03-04\", \"2020-03-05\", \"2020-03-06\", \"2020-03-07\", \"2020-03-08\", \"2020-03-09\", \"2020-03-10\", \"2020-03-11\", \"2020-03-12\", \"2020-03-13\", \"2020-03-14\", \"2020-03-15\", \"2020-03-16\", \"2020-03-17\", \"2020-03-18\", \"2020-03-19\", \"2020-03-20\", \"2020-03-21\", \"2020-03-22\", \"2020-03-23\", \"2020-03-24\", \"2020-03-25\", \"2020-03-26\", \"2020-03-27\", \"2020-03-28\", \"2020-03-29\", \"2020-03-30\", \"2020-03-31\", \"2020-04-01\", \"2020-04-02\", \"2020-04-03\", \"2020-04-04\", \"2020-04-05\", \"2020-04-06\", \"2020-04-07\", \"2020-04-08\"], \"legendgroup\": \"Italy\", \"marker\": {\"color\": \"#E45756\", \"opacity\": 0.9, \"symbol\": \"square\"}, \"mode\": \"markers\", \"name\": \"Italy\", \"showlegend\": true, \"type\": \"scatter\", \"x\": [62, 155, 229, 322, 453, 655, 888, 1128, 1694, 2036, 2502, 3089, 3858, 4636, 5883, 7375, 9172, 10149, 12462, 12462, 17660, 21157, 24747, 27980, 31506, 35713, 41035, 47021, 53578, 59138, 63927, 69176, 74386, 80589, 86498, 92472, 97689, 101739, 105792, 110574, 115242, 119827, 124632, 128948, 132547, 135586, 139422], \"xaxis\": \"x\", \"y\": [42.0, 93.0, 74.0, 93.0, 131.0, 202.0, 233.0, 240.0, 566.0, 342.0, 466.0, 587.0, 769.0, 778.0, 1247.0, 1492.0, 1797.0, 977.0, 2313.0, 0.0, 5198.0, 3497.0, 3590.0, 3233.0, 3526.0, 4207.0, 5322.0, 5986.0, 6557.0, 5560.0, 4789.0, 5249.0, 5210.0, 6203.0, 5909.0, 5974.0, 5217.0, 4050.0, 4053.0, 4782.0, 4668.0, 4585.0, 4805.0, 4316.0, 3599.0, 3039.0, 3836.0], \"yaxis\": \"y\"}, {\"customdata\": [[36.0, 51.0, \"2020-02-24\", \"2020-01-22\"], [0.0, 51.0, \"2020-02-25\", \"2020-01-22\"], [6.0, 57.0, \"2020-02-26\", \"2020-01-22\"], [1.0, 58.0, \"2020-02-27\", \"2020-01-22\"], [2.0, 60.0, \"2020-02-28\", \"2020-01-22\"], [8.0, 68.0, \"2020-02-29\", \"2020-01-22\"], [6.0, 74.0, \"2020-03-01\", \"2020-01-22\"], [24.0, 98.0, \"2020-03-02\", \"2020-01-22\"], [20.0, 118.0, \"2020-03-03\", \"2020-01-22\"], [31.0, 149.0, \"2020-03-04\", \"2020-01-22\"], [68.0, 217.0, \"2020-03-05\", \"2020-01-22\"], [45.0, 262.0, \"2020-03-06\", \"2020-01-22\"], [140.0, 402.0, \"2020-03-07\", \"2020-01-22\"], [116.0, 518.0, \"2020-03-08\", \"2020-01-22\"], [65.0, 583.0, \"2020-03-09\", \"2020-01-22\"], [376.0, 959.0, \"2020-03-10\", \"2020-01-22\"], [322.0, 1281.0, \"2020-03-11\", \"2020-01-22\"], [382.0, 1663.0, \"2020-03-12\", \"2020-01-22\"], [516.0, 2179.0, \"2020-03-13\", \"2020-01-22\"], [548.0, 2727.0, \"2020-03-14\", \"2020-01-22\"], [772.0, 3499.0, \"2020-03-15\", \"2020-01-22\"], [1133.0, 4632.0, \"2020-03-16\", \"2020-01-22\"], [1789.0, 6421.0, \"2020-03-17\", \"2020-01-22\"], [1362.0, 7783.0, \"2020-03-18\", \"2020-01-22\"], [5964.0, 13747.0, \"2020-03-19\", \"2020-01-22\"], [5526.0, 19273.0, \"2020-03-20\", \"2020-01-22\"], [6327.0, 25600.0, \"2020-03-21\", \"2020-01-22\"], [7676.0, 33276.0, \"2020-03-22\", \"2020-01-22\"], [10571.0, 43847.0, \"2020-03-23\", \"2020-01-22\"], [9893.0, 53740.0, \"2020-03-24\", \"2020-01-22\"], [12038.0, 65778.0, \"2020-03-25\", \"2020-01-22\"], [18058.0, 83836.0, \"2020-03-26\", \"2020-01-22\"], [17821.0, 101657.0, \"2020-03-27\", \"2020-01-22\"], [19821.0, 121478.0, \"2020-03-28\", \"2020-01-22\"], [19431.0, 140909.0, \"2020-03-29\", \"2020-01-22\"], [20928.0, 161837.0, \"2020-03-30\", \"2020-01-22\"], [26335.0, 188172.0, \"2020-03-31\", \"2020-01-22\"], [25200.0, 213372.0, \"2020-04-01\", \"2020-01-22\"], [30244.0, 243616.0, \"2020-04-02\", \"2020-01-22\"], [31970.0, 275586.0, \"2020-04-03\", \"2020-01-22\"], [33264.0, 308850.0, \"2020-04-04\", \"2020-01-22\"], [28222.0, 337072.0, \"2020-04-05\", \"2020-01-22\"], [29595.0, 366667.0, \"2020-04-06\", \"2020-01-22\"], [29556.0, 396223.0, \"2020-04-07\", \"2020-01-22\"], [32829.0, 429052.0, \"2020-04-08\", \"2020-01-22\"]], \"hovertemplate\": \"<b>%{hovertext}</b><br><br>Country=US<br>Confirmed=%{customdata[1]}<br>NewConfirmed=%{customdata[0]}<br>Date=%{customdata[2]}<br>EpidemicStartDate=%{customdata[3]}<extra></extra>\", \"hovertext\": [\"2020-02-24\", \"2020-02-25\", \"2020-02-26\", \"2020-02-27\", \"2020-02-28\", \"2020-02-29\", \"2020-03-01\", \"2020-03-02\", \"2020-03-03\", \"2020-03-04\", \"2020-03-05\", \"2020-03-06\", \"2020-03-07\", \"2020-03-08\", \"2020-03-09\", \"2020-03-10\", \"2020-03-11\", \"2020-03-12\", \"2020-03-13\", \"2020-03-14\", \"2020-03-15\", \"2020-03-16\", \"2020-03-17\", \"2020-03-18\", \"2020-03-19\", \"2020-03-20\", \"2020-03-21\", \"2020-03-22\", \"2020-03-23\", \"2020-03-24\", \"2020-03-25\", \"2020-03-26\", \"2020-03-27\", \"2020-03-28\", \"2020-03-29\", \"2020-03-30\", \"2020-03-31\", \"2020-04-01\", \"2020-04-02\", \"2020-04-03\", \"2020-04-04\", \"2020-04-05\", \"2020-04-06\", \"2020-04-07\", \"2020-04-08\"], \"legendgroup\": \"US\", \"marker\": {\"color\": \"#72B7B2\", \"opacity\": 0.9, \"symbol\": \"x\"}, \"mode\": \"markers\", \"name\": \"US\", \"showlegend\": true, \"type\": \"scatter\", \"x\": [51, 51, 57, 58, 60, 68, 74, 98, 118, 149, 217, 262, 402, 518, 583, 959, 1281, 1663, 2179, 2727, 3499, 4632, 6421, 7783, 13747, 19273, 25600, 33276, 43847, 53740, 65778, 83836, 101657, 121478, 140909, 161837, 188172, 213372, 243616, 275586, 308850, 337072, 366667, 396223, 429052], \"xaxis\": \"x\", \"y\": [36.0, 0.0, 6.0, 1.0, 2.0, 8.0, 6.0, 24.0, 20.0, 31.0, 68.0, 45.0, 140.0, 116.0, 65.0, 376.0, 322.0, 382.0, 516.0, 548.0, 772.0, 1133.0, 1789.0, 1362.0, 5964.0, 5526.0, 6327.0, 7676.0, 10571.0, 9893.0, 12038.0, 18058.0, 17821.0, 19821.0, 19431.0, 20928.0, 26335.0, 25200.0, 30244.0, 31970.0, 33264.0, 28222.0, 29595.0, 29556.0, 32829.0], \"yaxis\": \"y\"}],\n",
       "                        {\"legend\": {\"title\": {\"text\": \"Country\"}, \"tracegroupgap\": 0}, \"template\": {\"data\": {\"bar\": [{\"error_x\": {\"color\": \"rgb(51,51,51)\"}, \"error_y\": {\"color\": \"rgb(51,51,51)\"}, \"marker\": {\"line\": {\"color\": \"rgb(237,237,237)\", \"width\": 0.5}}, \"type\": \"bar\"}], \"barpolar\": [{\"marker\": {\"line\": {\"color\": \"rgb(237,237,237)\", \"width\": 0.5}}, \"type\": \"barpolar\"}], \"carpet\": [{\"aaxis\": {\"endlinecolor\": \"rgb(51,51,51)\", \"gridcolor\": \"white\", \"linecolor\": \"white\", \"minorgridcolor\": \"white\", \"startlinecolor\": \"rgb(51,51,51)\"}, \"baxis\": {\"endlinecolor\": \"rgb(51,51,51)\", \"gridcolor\": \"white\", \"linecolor\": \"white\", \"minorgridcolor\": \"white\", \"startlinecolor\": \"rgb(51,51,51)\"}, \"type\": \"carpet\"}], \"choropleth\": [{\"colorbar\": {\"outlinewidth\": 0, \"tickcolor\": \"rgb(237,237,237)\", \"ticklen\": 6, \"ticks\": \"inside\"}, \"type\": \"choropleth\"}], \"contour\": [{\"colorbar\": {\"outlinewidth\": 0, \"tickcolor\": \"rgb(237,237,237)\", \"ticklen\": 6, \"ticks\": \"inside\"}, \"colorscale\": [[0, \"rgb(20,44,66)\"], [1, \"rgb(90,179,244)\"]], \"type\": \"contour\"}], \"contourcarpet\": [{\"colorbar\": {\"outlinewidth\": 0, \"tickcolor\": \"rgb(237,237,237)\", \"ticklen\": 6, \"ticks\": \"inside\"}, \"type\": \"contourcarpet\"}], \"heatmap\": [{\"colorbar\": {\"outlinewidth\": 0, \"tickcolor\": \"rgb(237,237,237)\", \"ticklen\": 6, \"ticks\": \"inside\"}, \"colorscale\": [[0, \"rgb(20,44,66)\"], [1, \"rgb(90,179,244)\"]], \"type\": \"heatmap\"}], \"heatmapgl\": [{\"colorbar\": {\"outlinewidth\": 0, \"tickcolor\": \"rgb(237,237,237)\", \"ticklen\": 6, \"ticks\": \"inside\"}, \"colorscale\": [[0, \"rgb(20,44,66)\"], [1, \"rgb(90,179,244)\"]], \"type\": \"heatmapgl\"}], \"histogram\": [{\"marker\": {\"colorbar\": {\"outlinewidth\": 0, \"tickcolor\": \"rgb(237,237,237)\", \"ticklen\": 6, \"ticks\": \"inside\"}}, \"type\": \"histogram\"}], \"histogram2d\": [{\"colorbar\": {\"outlinewidth\": 0, \"tickcolor\": \"rgb(237,237,237)\", \"ticklen\": 6, \"ticks\": \"inside\"}, \"colorscale\": [[0, \"rgb(20,44,66)\"], [1, \"rgb(90,179,244)\"]], \"type\": \"histogram2d\"}], \"histogram2dcontour\": [{\"colorbar\": {\"outlinewidth\": 0, \"tickcolor\": \"rgb(237,237,237)\", \"ticklen\": 6, \"ticks\": \"inside\"}, \"colorscale\": [[0, \"rgb(20,44,66)\"], [1, \"rgb(90,179,244)\"]], \"type\": \"histogram2dcontour\"}], \"mesh3d\": [{\"colorbar\": {\"outlinewidth\": 0, \"tickcolor\": \"rgb(237,237,237)\", \"ticklen\": 6, \"ticks\": \"inside\"}, \"type\": \"mesh3d\"}], \"parcoords\": [{\"line\": {\"colorbar\": {\"outlinewidth\": 0, \"tickcolor\": \"rgb(237,237,237)\", \"ticklen\": 6, \"ticks\": \"inside\"}}, \"type\": \"parcoords\"}], \"pie\": [{\"automargin\": true, \"type\": \"pie\"}], \"scatter\": [{\"marker\": {\"colorbar\": {\"outlinewidth\": 0, \"tickcolor\": \"rgb(237,237,237)\", \"ticklen\": 6, \"ticks\": \"inside\"}}, \"type\": \"scatter\"}], \"scatter3d\": [{\"line\": {\"colorbar\": {\"outlinewidth\": 0, \"tickcolor\": \"rgb(237,237,237)\", \"ticklen\": 6, \"ticks\": \"inside\"}}, \"marker\": {\"colorbar\": {\"outlinewidth\": 0, \"tickcolor\": \"rgb(237,237,237)\", \"ticklen\": 6, \"ticks\": \"inside\"}}, \"type\": \"scatter3d\"}], \"scattercarpet\": [{\"marker\": {\"colorbar\": {\"outlinewidth\": 0, \"tickcolor\": \"rgb(237,237,237)\", \"ticklen\": 6, \"ticks\": \"inside\"}}, \"type\": \"scattercarpet\"}], \"scattergeo\": [{\"marker\": {\"colorbar\": {\"outlinewidth\": 0, \"tickcolor\": \"rgb(237,237,237)\", \"ticklen\": 6, \"ticks\": \"inside\"}}, \"type\": \"scattergeo\"}], \"scattergl\": [{\"marker\": {\"colorbar\": {\"outlinewidth\": 0, \"tickcolor\": \"rgb(237,237,237)\", \"ticklen\": 6, \"ticks\": \"inside\"}}, \"type\": \"scattergl\"}], \"scattermapbox\": [{\"marker\": {\"colorbar\": {\"outlinewidth\": 0, \"tickcolor\": \"rgb(237,237,237)\", \"ticklen\": 6, \"ticks\": \"inside\"}}, \"type\": \"scattermapbox\"}], \"scatterpolar\": [{\"marker\": {\"colorbar\": {\"outlinewidth\": 0, \"tickcolor\": \"rgb(237,237,237)\", \"ticklen\": 6, \"ticks\": \"inside\"}}, \"type\": \"scatterpolar\"}], \"scatterpolargl\": [{\"marker\": {\"colorbar\": {\"outlinewidth\": 0, \"tickcolor\": \"rgb(237,237,237)\", \"ticklen\": 6, \"ticks\": \"inside\"}}, \"type\": \"scatterpolargl\"}], \"scatterternary\": [{\"marker\": {\"colorbar\": {\"outlinewidth\": 0, \"tickcolor\": \"rgb(237,237,237)\", \"ticklen\": 6, \"ticks\": \"inside\"}}, \"type\": \"scatterternary\"}], \"surface\": [{\"colorbar\": {\"outlinewidth\": 0, \"tickcolor\": \"rgb(237,237,237)\", \"ticklen\": 6, \"ticks\": \"inside\"}, \"colorscale\": [[0, \"rgb(20,44,66)\"], [1, \"rgb(90,179,244)\"]], \"type\": \"surface\"}], \"table\": [{\"cells\": {\"fill\": {\"color\": \"rgb(237,237,237)\"}, \"line\": {\"color\": \"white\"}}, \"header\": {\"fill\": {\"color\": \"rgb(217,217,217)\"}, \"line\": {\"color\": \"white\"}}, \"type\": \"table\"}]}, \"layout\": {\"annotationdefaults\": {\"arrowhead\": 0, \"arrowwidth\": 1}, \"coloraxis\": {\"colorbar\": {\"outlinewidth\": 0, \"tickcolor\": \"rgb(237,237,237)\", \"ticklen\": 6, \"ticks\": \"inside\"}}, \"colorscale\": {\"sequential\": [[0, \"rgb(20,44,66)\"], [1, \"rgb(90,179,244)\"]], \"sequentialminus\": [[0, \"rgb(20,44,66)\"], [1, \"rgb(90,179,244)\"]]}, \"colorway\": [\"#F8766D\", \"#A3A500\", \"#00BF7D\", \"#00B0F6\", \"#E76BF3\"], \"font\": {\"color\": \"rgb(51,51,51)\"}, \"geo\": {\"bgcolor\": \"white\", \"lakecolor\": \"white\", \"landcolor\": \"rgb(237,237,237)\", \"showlakes\": true, \"showland\": true, \"subunitcolor\": \"white\"}, \"hoverlabel\": {\"align\": \"left\"}, \"hovermode\": \"closest\", \"paper_bgcolor\": \"white\", \"plot_bgcolor\": \"rgb(237,237,237)\", \"polar\": {\"angularaxis\": {\"gridcolor\": \"white\", \"linecolor\": \"white\", \"showgrid\": true, \"tickcolor\": \"rgb(51,51,51)\", \"ticks\": \"outside\"}, \"bgcolor\": \"rgb(237,237,237)\", \"radialaxis\": {\"gridcolor\": \"white\", \"linecolor\": \"white\", \"showgrid\": true, \"tickcolor\": \"rgb(51,51,51)\", \"ticks\": \"outside\"}}, \"scene\": {\"xaxis\": {\"backgroundcolor\": \"rgb(237,237,237)\", \"gridcolor\": \"white\", \"gridwidth\": 2, \"linecolor\": \"white\", \"showbackground\": true, \"showgrid\": true, \"tickcolor\": \"rgb(51,51,51)\", \"ticks\": \"outside\", \"zerolinecolor\": \"white\"}, \"yaxis\": {\"backgroundcolor\": \"rgb(237,237,237)\", \"gridcolor\": \"white\", \"gridwidth\": 2, \"linecolor\": \"white\", \"showbackground\": true, \"showgrid\": true, \"tickcolor\": \"rgb(51,51,51)\", \"ticks\": \"outside\", \"zerolinecolor\": \"white\"}, \"zaxis\": {\"backgroundcolor\": \"rgb(237,237,237)\", \"gridcolor\": \"white\", \"gridwidth\": 2, \"linecolor\": \"white\", \"showbackground\": true, \"showgrid\": true, \"tickcolor\": \"rgb(51,51,51)\", \"ticks\": \"outside\", \"zerolinecolor\": \"white\"}}, \"shapedefaults\": {\"fillcolor\": \"black\", \"line\": {\"width\": 0}, \"opacity\": 0.3}, \"ternary\": {\"aaxis\": {\"gridcolor\": \"white\", \"linecolor\": \"white\", \"showgrid\": true, \"tickcolor\": \"rgb(51,51,51)\", \"ticks\": \"outside\"}, \"baxis\": {\"gridcolor\": \"white\", \"linecolor\": \"white\", \"showgrid\": true, \"tickcolor\": \"rgb(51,51,51)\", \"ticks\": \"outside\"}, \"bgcolor\": \"rgb(237,237,237)\", \"caxis\": {\"gridcolor\": \"white\", \"linecolor\": \"white\", \"showgrid\": true, \"tickcolor\": \"rgb(51,51,51)\", \"ticks\": \"outside\"}}, \"xaxis\": {\"automargin\": true, \"gridcolor\": \"white\", \"linecolor\": \"white\", \"showgrid\": true, \"tickcolor\": \"rgb(51,51,51)\", \"ticks\": \"outside\", \"title\": {\"standoff\": 15}, \"zerolinecolor\": \"white\"}, \"yaxis\": {\"automargin\": true, \"gridcolor\": \"white\", \"linecolor\": \"white\", \"showgrid\": true, \"tickcolor\": \"rgb(51,51,51)\", \"ticks\": \"outside\", \"title\": {\"standoff\": 15}, \"zerolinecolor\": \"white\"}}}, \"title\": {\"text\": \"New Confirmed Cases vs Cumulative Cases Per Day (Logged, International)\"}, \"xaxis\": {\"anchor\": \"y\", \"domain\": [0.0, 1.0], \"title\": {\"text\": \"Confirmed\"}, \"type\": \"log\"}, \"yaxis\": {\"anchor\": \"x\", \"domain\": [0.0, 1.0], \"title\": {\"text\": \"NewConfirmed\"}, \"type\": \"log\"}},\n",
       "                        {\"responsive\": true}\n",
       "                    ).then(function(){\n",
       "                            \n",
       "var gd = document.getElementById('89522135-9404-493f-aafb-78dbc7dfe0ea');\n",
       "var x = new MutationObserver(function (mutations, observer) {{\n",
       "        var display = window.getComputedStyle(gd).display;\n",
       "        if (!display || display === 'none') {{\n",
       "            console.log([gd, 'removed!']);\n",
       "            Plotly.purge(gd);\n",
       "            observer.disconnect();\n",
       "        }}\n",
       "}});\n",
       "\n",
       "// Listen for the removal of the full notebook cells\n",
       "var notebookContainer = gd.closest('#notebook-container');\n",
       "if (notebookContainer) {{\n",
       "    x.observe(notebookContainer, {childList: true});\n",
       "}}\n",
       "\n",
       "// Listen for the clearing of the current output cell\n",
       "var outputEl = gd.closest('.output');\n",
       "if (outputEl) {{\n",
       "    x.observe(outputEl, {childList: true});\n",
       "}}\n",
       "\n",
       "                        })\n",
       "                };\n",
       "                });\n",
       "            </script>\n",
       "        </div>"
      ]
     },
     "metadata": {},
     "output_type": "display_data"
    }
   ],
   "source": [
    "# Appears that China and South Korea have defintely been able to \"flatten\" the curve, while Italy is nearing the end of the tunnel. \n",
    "countriesToPlot = ['US', 'Korea, South', 'Italy', 'China']\n",
    "fig =   px.scatter(data_frame=df_country[df_country.Country.isin(countriesToPlot)].loc[df_country.Confirmed > 50], \n",
    "                   x='Confirmed', y='NewConfirmed', color='Country', symbol='Country',\n",
    "                   log_x=True,log_y=True, \n",
    "                   hover_name='Date', hover_data=['NewConfirmed','Confirmed','Date','EpidemicStartDate'],\n",
    "                   title='New Confirmed Cases vs Cumulative Cases Per Day (Logged, International)', template='ggplot2', \n",
    "                   color_discrete_sequence= px.colors.qualitative.T10, opacity=0.9\n",
    "                  )\n",
    "fig.show(width=1000, height=600,\n",
    "#          renderer='svg'\n",
    "        )"
   ]
  },
  {
   "cell_type": "code",
   "execution_count": 12,
   "metadata": {},
   "outputs": [],
   "source": [
    "# To Do: Animated scatter against date"
   ]
  },
  {
   "cell_type": "code",
   "execution_count": 17,
   "metadata": {},
   "outputs": [
    {
     "data": {
      "application/vnd.plotly.v1+json": {
       "config": {
        "plotlyServerURL": "https://plot.ly"
       },
       "data": [
        {
         "customdata": [
          [
           "Florida",
           13,
           "2020-03-13",
           "2020-03-01"
          ],
          [
           "Florida",
           14,
           "2020-03-14",
           "2020-03-01"
          ],
          [
           "Florida",
           15,
           "2020-03-15",
           "2020-03-01"
          ],
          [
           "Florida",
           16,
           "2020-03-16",
           "2020-03-01"
          ],
          [
           "Florida",
           17,
           "2020-03-17",
           "2020-03-01"
          ],
          [
           "Florida",
           18,
           "2020-03-18",
           "2020-03-01"
          ],
          [
           "Florida",
           19,
           "2020-03-19",
           "2020-03-01"
          ],
          [
           "Florida",
           20,
           "2020-03-20",
           "2020-03-01"
          ],
          [
           "Florida",
           21,
           "2020-03-21",
           "2020-03-01"
          ],
          [
           "Florida",
           22,
           "2020-03-22",
           "2020-03-01"
          ],
          [
           "Florida",
           23,
           "2020-03-23",
           "2020-03-01"
          ],
          [
           "Florida",
           24,
           "2020-03-24",
           "2020-03-01"
          ],
          [
           "Florida",
           25,
           "2020-03-25",
           "2020-03-01"
          ],
          [
           "Florida",
           26,
           "2020-03-26",
           "2020-03-01"
          ],
          [
           "Florida",
           27,
           "2020-03-27",
           "2020-03-01"
          ],
          [
           "Florida",
           28,
           "2020-03-28",
           "2020-03-01"
          ],
          [
           "Florida",
           29,
           "2020-03-29",
           "2020-03-01"
          ],
          [
           "Florida",
           30,
           "2020-03-30",
           "2020-03-01"
          ],
          [
           "Florida",
           31,
           "2020-03-31",
           "2020-03-01"
          ],
          [
           "Florida",
           32,
           "2020-04-01",
           "2020-03-01"
          ],
          [
           "Florida",
           33,
           "2020-04-02",
           "2020-03-01"
          ],
          [
           "Florida",
           34,
           "2020-04-03",
           "2020-03-01"
          ],
          [
           "Florida",
           35,
           "2020-04-04",
           "2020-03-01"
          ],
          [
           "Florida",
           36,
           "2020-04-05",
           "2020-03-01"
          ],
          [
           "Florida",
           37,
           "2020-04-06",
           "2020-03-01"
          ],
          [
           "Florida",
           38,
           "2020-04-07",
           "2020-03-01"
          ],
          [
           "Florida",
           39,
           "2020-04-08",
           "2020-03-01"
          ]
         ],
         "hovertemplate": "<b>%{hovertext}</b><br><br>State=%{customdata[0]}<br>Confirmed=%{x}<br>NewConfirmed=%{y}<br>DaysElapsed=%{customdata[1]}<br>Date=%{customdata[2]}<br>EpidemicStartDate=%{customdata[3]}<extra></extra>",
         "hovertext": [
          "2020-03-13",
          "2020-03-14",
          "2020-03-15",
          "2020-03-16",
          "2020-03-17",
          "2020-03-18",
          "2020-03-19",
          "2020-03-20",
          "2020-03-21",
          "2020-03-22",
          "2020-03-23",
          "2020-03-24",
          "2020-03-25",
          "2020-03-26",
          "2020-03-27",
          "2020-03-28",
          "2020-03-29",
          "2020-03-30",
          "2020-03-31",
          "2020-04-01",
          "2020-04-02",
          "2020-04-03",
          "2020-04-04",
          "2020-04-05",
          "2020-04-06",
          "2020-04-07",
          "2020-04-08"
         ],
         "legendgroup": "Florida",
         "marker": {
          "color": "#4C78A8",
          "opacity": 0.9,
          "symbol": "circle"
         },
         "mode": "markers",
         "name": "Florida",
         "showlegend": true,
         "type": "scatter",
         "x": [
          70,
          70,
          109,
          141,
          210,
          326,
          434,
          564,
          764,
          1000,
          1222,
          1467,
          1965,
          2477,
          3198,
          4038,
          4942,
          5694,
          6741,
          7765,
          9000,
          10260,
          11537,
          12342,
          13621,
          14739,
          15690
         ],
         "xaxis": "x",
         "y": [
          24,
          0,
          39,
          32,
          69,
          116,
          108,
          130,
          200,
          236,
          222,
          245,
          498,
          512,
          721,
          840,
          904,
          752,
          1047,
          1024,
          1235,
          1260,
          1277,
          805,
          1279,
          1118,
          951
         ],
         "yaxis": "y"
        },
        {
         "customdata": [
          [
           "New York",
           7,
           "2020-03-07",
           "2020-03-01"
          ],
          [
           "New York",
           8,
           "2020-03-08",
           "2020-03-01"
          ],
          [
           "New York",
           9,
           "2020-03-09",
           "2020-03-01"
          ],
          [
           "New York",
           10,
           "2020-03-10",
           "2020-03-01"
          ],
          [
           "New York",
           11,
           "2020-03-11",
           "2020-03-01"
          ],
          [
           "New York",
           12,
           "2020-03-12",
           "2020-03-01"
          ],
          [
           "New York",
           13,
           "2020-03-13",
           "2020-03-01"
          ],
          [
           "New York",
           14,
           "2020-03-14",
           "2020-03-01"
          ],
          [
           "New York",
           15,
           "2020-03-15",
           "2020-03-01"
          ],
          [
           "New York",
           16,
           "2020-03-16",
           "2020-03-01"
          ],
          [
           "New York",
           17,
           "2020-03-17",
           "2020-03-01"
          ],
          [
           "New York",
           18,
           "2020-03-18",
           "2020-03-01"
          ],
          [
           "New York",
           19,
           "2020-03-19",
           "2020-03-01"
          ],
          [
           "New York",
           20,
           "2020-03-20",
           "2020-03-01"
          ],
          [
           "New York",
           21,
           "2020-03-21",
           "2020-03-01"
          ],
          [
           "New York",
           22,
           "2020-03-22",
           "2020-03-01"
          ],
          [
           "New York",
           23,
           "2020-03-23",
           "2020-03-01"
          ],
          [
           "New York",
           24,
           "2020-03-24",
           "2020-03-01"
          ],
          [
           "New York",
           25,
           "2020-03-25",
           "2020-03-01"
          ],
          [
           "New York",
           26,
           "2020-03-26",
           "2020-03-01"
          ],
          [
           "New York",
           27,
           "2020-03-27",
           "2020-03-01"
          ],
          [
           "New York",
           28,
           "2020-03-28",
           "2020-03-01"
          ],
          [
           "New York",
           29,
           "2020-03-29",
           "2020-03-01"
          ],
          [
           "New York",
           30,
           "2020-03-30",
           "2020-03-01"
          ],
          [
           "New York",
           31,
           "2020-03-31",
           "2020-03-01"
          ],
          [
           "New York",
           32,
           "2020-04-01",
           "2020-03-01"
          ],
          [
           "New York",
           33,
           "2020-04-02",
           "2020-03-01"
          ],
          [
           "New York",
           34,
           "2020-04-03",
           "2020-03-01"
          ],
          [
           "New York",
           35,
           "2020-04-04",
           "2020-03-01"
          ],
          [
           "New York",
           36,
           "2020-04-05",
           "2020-03-01"
          ],
          [
           "New York",
           37,
           "2020-04-06",
           "2020-03-01"
          ],
          [
           "New York",
           38,
           "2020-04-07",
           "2020-03-01"
          ],
          [
           "New York",
           39,
           "2020-04-08",
           "2020-03-01"
          ]
         ],
         "hovertemplate": "<b>%{hovertext}</b><br><br>State=%{customdata[0]}<br>Confirmed=%{x}<br>NewConfirmed=%{y}<br>DaysElapsed=%{customdata[1]}<br>Date=%{customdata[2]}<br>EpidemicStartDate=%{customdata[3]}<extra></extra>",
         "hovertext": [
          "2020-03-07",
          "2020-03-08",
          "2020-03-09",
          "2020-03-10",
          "2020-03-11",
          "2020-03-12",
          "2020-03-13",
          "2020-03-14",
          "2020-03-15",
          "2020-03-16",
          "2020-03-17",
          "2020-03-18",
          "2020-03-19",
          "2020-03-20",
          "2020-03-21",
          "2020-03-22",
          "2020-03-23",
          "2020-03-24",
          "2020-03-25",
          "2020-03-26",
          "2020-03-27",
          "2020-03-28",
          "2020-03-29",
          "2020-03-30",
          "2020-03-31",
          "2020-04-01",
          "2020-04-02",
          "2020-04-03",
          "2020-04-04",
          "2020-04-05",
          "2020-04-06",
          "2020-04-07",
          "2020-04-08"
         ],
         "legendgroup": "New York",
         "marker": {
          "color": "#F58518",
          "opacity": 0.9,
          "symbol": "diamond"
         },
         "mode": "markers",
         "name": "New York",
         "showlegend": true,
         "type": "scatter",
         "x": [
          89,
          106,
          142,
          173,
          217,
          326,
          421,
          610,
          732,
          950,
          1374,
          2382,
          4152,
          7102,
          10356,
          15168,
          20875,
          25665,
          33066,
          38987,
          44635,
          53363,
          59568,
          67174,
          75832,
          83889,
          92770,
          102870,
          114996,
          122911,
          130703,
          140081,
          149401
         ],
         "xaxis": "x",
         "y": [
          45,
          17,
          36,
          31,
          44,
          109,
          95,
          189,
          122,
          218,
          424,
          1008,
          1770,
          2950,
          3254,
          4812,
          5707,
          4790,
          7401,
          5921,
          5648,
          8728,
          6205,
          7606,
          8658,
          8057,
          8881,
          10100,
          12126,
          7915,
          7792,
          9378,
          9320
         ],
         "yaxis": "y"
        },
        {
         "customdata": [
          [
           "Virginia",
           10,
           "2020-03-16",
           "2020-03-07"
          ],
          [
           "Virginia",
           11,
           "2020-03-17",
           "2020-03-07"
          ],
          [
           "Virginia",
           12,
           "2020-03-18",
           "2020-03-07"
          ],
          [
           "Virginia",
           13,
           "2020-03-19",
           "2020-03-07"
          ],
          [
           "Virginia",
           14,
           "2020-03-20",
           "2020-03-07"
          ],
          [
           "Virginia",
           15,
           "2020-03-21",
           "2020-03-07"
          ],
          [
           "Virginia",
           16,
           "2020-03-22",
           "2020-03-07"
          ],
          [
           "Virginia",
           17,
           "2020-03-23",
           "2020-03-07"
          ],
          [
           "Virginia",
           18,
           "2020-03-24",
           "2020-03-07"
          ],
          [
           "Virginia",
           19,
           "2020-03-25",
           "2020-03-07"
          ],
          [
           "Virginia",
           20,
           "2020-03-26",
           "2020-03-07"
          ],
          [
           "Virginia",
           21,
           "2020-03-27",
           "2020-03-07"
          ],
          [
           "Virginia",
           22,
           "2020-03-28",
           "2020-03-07"
          ],
          [
           "Virginia",
           23,
           "2020-03-29",
           "2020-03-07"
          ],
          [
           "Virginia",
           24,
           "2020-03-30",
           "2020-03-07"
          ],
          [
           "Virginia",
           25,
           "2020-03-31",
           "2020-03-07"
          ],
          [
           "Virginia",
           26,
           "2020-04-01",
           "2020-03-07"
          ],
          [
           "Virginia",
           27,
           "2020-04-02",
           "2020-03-07"
          ],
          [
           "Virginia",
           28,
           "2020-04-03",
           "2020-03-07"
          ],
          [
           "Virginia",
           29,
           "2020-04-04",
           "2020-03-07"
          ],
          [
           "Virginia",
           30,
           "2020-04-05",
           "2020-03-07"
          ],
          [
           "Virginia",
           31,
           "2020-04-06",
           "2020-03-07"
          ],
          [
           "Virginia",
           32,
           "2020-04-07",
           "2020-03-07"
          ],
          [
           "Virginia",
           33,
           "2020-04-08",
           "2020-03-07"
          ]
         ],
         "hovertemplate": "<b>%{hovertext}</b><br><br>State=%{customdata[0]}<br>Confirmed=%{x}<br>NewConfirmed=%{y}<br>DaysElapsed=%{customdata[1]}<br>Date=%{customdata[2]}<br>EpidemicStartDate=%{customdata[3]}<extra></extra>",
         "hovertext": [
          "2020-03-16",
          "2020-03-17",
          "2020-03-18",
          "2020-03-19",
          "2020-03-20",
          "2020-03-21",
          "2020-03-22",
          "2020-03-23",
          "2020-03-24",
          "2020-03-25",
          "2020-03-26",
          "2020-03-27",
          "2020-03-28",
          "2020-03-29",
          "2020-03-30",
          "2020-03-31",
          "2020-04-01",
          "2020-04-02",
          "2020-04-03",
          "2020-04-04",
          "2020-04-05",
          "2020-04-06",
          "2020-04-07",
          "2020-04-08"
         ],
         "legendgroup": "Virginia",
         "marker": {
          "color": "#E45756",
          "opacity": 0.9,
          "symbol": "square"
         },
         "mode": "markers",
         "name": "Virginia",
         "showlegend": true,
         "type": "scatter",
         "x": [
          51,
          67,
          78,
          94,
          115,
          152,
          219,
          254,
          290,
          391,
          604,
          606,
          740,
          890,
          1021,
          1250,
          1511,
          1706,
          2012,
          2407,
          2637,
          2878,
          3333,
          3645
         ],
         "xaxis": "x",
         "y": [
          6,
          16,
          11,
          16,
          21,
          37,
          67,
          35,
          36,
          101,
          213,
          2,
          134,
          150,
          131,
          229,
          261,
          195,
          306,
          395,
          230,
          241,
          455,
          312
         ],
         "yaxis": "y"
        },
        {
         "customdata": [
          [
           "Washington",
           45,
           "2020-03-05",
           "2020-01-21"
          ],
          [
           "Washington",
           46,
           "2020-03-06",
           "2020-01-21"
          ],
          [
           "Washington",
           47,
           "2020-03-07",
           "2020-01-21"
          ],
          [
           "Washington",
           48,
           "2020-03-08",
           "2020-01-21"
          ],
          [
           "Washington",
           49,
           "2020-03-09",
           "2020-01-21"
          ],
          [
           "Washington",
           50,
           "2020-03-10",
           "2020-01-21"
          ],
          [
           "Washington",
           51,
           "2020-03-11",
           "2020-01-21"
          ],
          [
           "Washington",
           52,
           "2020-03-12",
           "2020-01-21"
          ],
          [
           "Washington",
           53,
           "2020-03-13",
           "2020-01-21"
          ],
          [
           "Washington",
           54,
           "2020-03-14",
           "2020-01-21"
          ],
          [
           "Washington",
           55,
           "2020-03-15",
           "2020-01-21"
          ],
          [
           "Washington",
           56,
           "2020-03-16",
           "2020-01-21"
          ],
          [
           "Washington",
           57,
           "2020-03-17",
           "2020-01-21"
          ],
          [
           "Washington",
           58,
           "2020-03-18",
           "2020-01-21"
          ],
          [
           "Washington",
           59,
           "2020-03-19",
           "2020-01-21"
          ],
          [
           "Washington",
           60,
           "2020-03-20",
           "2020-01-21"
          ],
          [
           "Washington",
           61,
           "2020-03-21",
           "2020-01-21"
          ],
          [
           "Washington",
           62,
           "2020-03-22",
           "2020-01-21"
          ],
          [
           "Washington",
           63,
           "2020-03-23",
           "2020-01-21"
          ],
          [
           "Washington",
           64,
           "2020-03-24",
           "2020-01-21"
          ],
          [
           "Washington",
           65,
           "2020-03-25",
           "2020-01-21"
          ],
          [
           "Washington",
           66,
           "2020-03-26",
           "2020-01-21"
          ],
          [
           "Washington",
           67,
           "2020-03-27",
           "2020-01-21"
          ],
          [
           "Washington",
           68,
           "2020-03-28",
           "2020-01-21"
          ],
          [
           "Washington",
           69,
           "2020-03-29",
           "2020-01-21"
          ],
          [
           "Washington",
           70,
           "2020-03-30",
           "2020-01-21"
          ],
          [
           "Washington",
           71,
           "2020-03-31",
           "2020-01-21"
          ],
          [
           "Washington",
           72,
           "2020-04-01",
           "2020-01-21"
          ],
          [
           "Washington",
           73,
           "2020-04-02",
           "2020-01-21"
          ],
          [
           "Washington",
           74,
           "2020-04-03",
           "2020-01-21"
          ],
          [
           "Washington",
           75,
           "2020-04-04",
           "2020-01-21"
          ],
          [
           "Washington",
           76,
           "2020-04-05",
           "2020-01-21"
          ],
          [
           "Washington",
           77,
           "2020-04-06",
           "2020-01-21"
          ],
          [
           "Washington",
           78,
           "2020-04-07",
           "2020-01-21"
          ],
          [
           "Washington",
           79,
           "2020-04-08",
           "2020-01-21"
          ]
         ],
         "hovertemplate": "<b>%{hovertext}</b><br><br>State=%{customdata[0]}<br>Confirmed=%{x}<br>NewConfirmed=%{y}<br>DaysElapsed=%{customdata[1]}<br>Date=%{customdata[2]}<br>EpidemicStartDate=%{customdata[3]}<extra></extra>",
         "hovertext": [
          "2020-03-05",
          "2020-03-06",
          "2020-03-07",
          "2020-03-08",
          "2020-03-09",
          "2020-03-10",
          "2020-03-11",
          "2020-03-12",
          "2020-03-13",
          "2020-03-14",
          "2020-03-15",
          "2020-03-16",
          "2020-03-17",
          "2020-03-18",
          "2020-03-19",
          "2020-03-20",
          "2020-03-21",
          "2020-03-22",
          "2020-03-23",
          "2020-03-24",
          "2020-03-25",
          "2020-03-26",
          "2020-03-27",
          "2020-03-28",
          "2020-03-29",
          "2020-03-30",
          "2020-03-31",
          "2020-04-01",
          "2020-04-02",
          "2020-04-03",
          "2020-04-04",
          "2020-04-05",
          "2020-04-06",
          "2020-04-07",
          "2020-04-08"
         ],
         "legendgroup": "Washington",
         "marker": {
          "color": "#72B7B2",
          "opacity": 0.9,
          "symbol": "x"
         },
         "mode": "markers",
         "name": "Washington",
         "showlegend": true,
         "type": "scatter",
         "x": [
          75,
          86,
          110,
          141,
          179,
          279,
          338,
          419,
          511,
          609,
          675,
          794,
          908,
          1026,
          1228,
          1404,
          1655,
          1844,
          2101,
          2469,
          2585,
          3208,
          3770,
          4311,
          4896,
          5179,
          5292,
          5588,
          6585,
          6966,
          7498,
          7984,
          8384,
          8682,
          9097
         ],
         "xaxis": "x",
         "y": [
          28,
          11,
          24,
          31,
          38,
          100,
          59,
          81,
          92,
          98,
          66,
          119,
          114,
          118,
          202,
          176,
          251,
          189,
          257,
          368,
          116,
          623,
          562,
          541,
          585,
          283,
          113,
          296,
          997,
          381,
          532,
          486,
          400,
          298,
          415
         ],
         "yaxis": "y"
        }
       ],
       "layout": {
        "coloraxis": {
         "showscale": false
        },
        "legend": {
         "title": {
          "text": "State"
         },
         "tracegroupgap": 0
        },
        "template": {
         "data": {
          "bar": [
           {
            "error_x": {
             "color": "rgb(51,51,51)"
            },
            "error_y": {
             "color": "rgb(51,51,51)"
            },
            "marker": {
             "line": {
              "color": "rgb(237,237,237)",
              "width": 0.5
             }
            },
            "type": "bar"
           }
          ],
          "barpolar": [
           {
            "marker": {
             "line": {
              "color": "rgb(237,237,237)",
              "width": 0.5
             }
            },
            "type": "barpolar"
           }
          ],
          "carpet": [
           {
            "aaxis": {
             "endlinecolor": "rgb(51,51,51)",
             "gridcolor": "white",
             "linecolor": "white",
             "minorgridcolor": "white",
             "startlinecolor": "rgb(51,51,51)"
            },
            "baxis": {
             "endlinecolor": "rgb(51,51,51)",
             "gridcolor": "white",
             "linecolor": "white",
             "minorgridcolor": "white",
             "startlinecolor": "rgb(51,51,51)"
            },
            "type": "carpet"
           }
          ],
          "choropleth": [
           {
            "colorbar": {
             "outlinewidth": 0,
             "tickcolor": "rgb(237,237,237)",
             "ticklen": 6,
             "ticks": "inside"
            },
            "type": "choropleth"
           }
          ],
          "contour": [
           {
            "colorbar": {
             "outlinewidth": 0,
             "tickcolor": "rgb(237,237,237)",
             "ticklen": 6,
             "ticks": "inside"
            },
            "colorscale": [
             [
              0,
              "rgb(20,44,66)"
             ],
             [
              1,
              "rgb(90,179,244)"
             ]
            ],
            "type": "contour"
           }
          ],
          "contourcarpet": [
           {
            "colorbar": {
             "outlinewidth": 0,
             "tickcolor": "rgb(237,237,237)",
             "ticklen": 6,
             "ticks": "inside"
            },
            "type": "contourcarpet"
           }
          ],
          "heatmap": [
           {
            "colorbar": {
             "outlinewidth": 0,
             "tickcolor": "rgb(237,237,237)",
             "ticklen": 6,
             "ticks": "inside"
            },
            "colorscale": [
             [
              0,
              "rgb(20,44,66)"
             ],
             [
              1,
              "rgb(90,179,244)"
             ]
            ],
            "type": "heatmap"
           }
          ],
          "heatmapgl": [
           {
            "colorbar": {
             "outlinewidth": 0,
             "tickcolor": "rgb(237,237,237)",
             "ticklen": 6,
             "ticks": "inside"
            },
            "colorscale": [
             [
              0,
              "rgb(20,44,66)"
             ],
             [
              1,
              "rgb(90,179,244)"
             ]
            ],
            "type": "heatmapgl"
           }
          ],
          "histogram": [
           {
            "marker": {
             "colorbar": {
              "outlinewidth": 0,
              "tickcolor": "rgb(237,237,237)",
              "ticklen": 6,
              "ticks": "inside"
             }
            },
            "type": "histogram"
           }
          ],
          "histogram2d": [
           {
            "colorbar": {
             "outlinewidth": 0,
             "tickcolor": "rgb(237,237,237)",
             "ticklen": 6,
             "ticks": "inside"
            },
            "colorscale": [
             [
              0,
              "rgb(20,44,66)"
             ],
             [
              1,
              "rgb(90,179,244)"
             ]
            ],
            "type": "histogram2d"
           }
          ],
          "histogram2dcontour": [
           {
            "colorbar": {
             "outlinewidth": 0,
             "tickcolor": "rgb(237,237,237)",
             "ticklen": 6,
             "ticks": "inside"
            },
            "colorscale": [
             [
              0,
              "rgb(20,44,66)"
             ],
             [
              1,
              "rgb(90,179,244)"
             ]
            ],
            "type": "histogram2dcontour"
           }
          ],
          "mesh3d": [
           {
            "colorbar": {
             "outlinewidth": 0,
             "tickcolor": "rgb(237,237,237)",
             "ticklen": 6,
             "ticks": "inside"
            },
            "type": "mesh3d"
           }
          ],
          "parcoords": [
           {
            "line": {
             "colorbar": {
              "outlinewidth": 0,
              "tickcolor": "rgb(237,237,237)",
              "ticklen": 6,
              "ticks": "inside"
             }
            },
            "type": "parcoords"
           }
          ],
          "pie": [
           {
            "automargin": true,
            "type": "pie"
           }
          ],
          "scatter": [
           {
            "marker": {
             "colorbar": {
              "outlinewidth": 0,
              "tickcolor": "rgb(237,237,237)",
              "ticklen": 6,
              "ticks": "inside"
             }
            },
            "type": "scatter"
           }
          ],
          "scatter3d": [
           {
            "line": {
             "colorbar": {
              "outlinewidth": 0,
              "tickcolor": "rgb(237,237,237)",
              "ticklen": 6,
              "ticks": "inside"
             }
            },
            "marker": {
             "colorbar": {
              "outlinewidth": 0,
              "tickcolor": "rgb(237,237,237)",
              "ticklen": 6,
              "ticks": "inside"
             }
            },
            "type": "scatter3d"
           }
          ],
          "scattercarpet": [
           {
            "marker": {
             "colorbar": {
              "outlinewidth": 0,
              "tickcolor": "rgb(237,237,237)",
              "ticklen": 6,
              "ticks": "inside"
             }
            },
            "type": "scattercarpet"
           }
          ],
          "scattergeo": [
           {
            "marker": {
             "colorbar": {
              "outlinewidth": 0,
              "tickcolor": "rgb(237,237,237)",
              "ticklen": 6,
              "ticks": "inside"
             }
            },
            "type": "scattergeo"
           }
          ],
          "scattergl": [
           {
            "marker": {
             "colorbar": {
              "outlinewidth": 0,
              "tickcolor": "rgb(237,237,237)",
              "ticklen": 6,
              "ticks": "inside"
             }
            },
            "type": "scattergl"
           }
          ],
          "scattermapbox": [
           {
            "marker": {
             "colorbar": {
              "outlinewidth": 0,
              "tickcolor": "rgb(237,237,237)",
              "ticklen": 6,
              "ticks": "inside"
             }
            },
            "type": "scattermapbox"
           }
          ],
          "scatterpolar": [
           {
            "marker": {
             "colorbar": {
              "outlinewidth": 0,
              "tickcolor": "rgb(237,237,237)",
              "ticklen": 6,
              "ticks": "inside"
             }
            },
            "type": "scatterpolar"
           }
          ],
          "scatterpolargl": [
           {
            "marker": {
             "colorbar": {
              "outlinewidth": 0,
              "tickcolor": "rgb(237,237,237)",
              "ticklen": 6,
              "ticks": "inside"
             }
            },
            "type": "scatterpolargl"
           }
          ],
          "scatterternary": [
           {
            "marker": {
             "colorbar": {
              "outlinewidth": 0,
              "tickcolor": "rgb(237,237,237)",
              "ticklen": 6,
              "ticks": "inside"
             }
            },
            "type": "scatterternary"
           }
          ],
          "surface": [
           {
            "colorbar": {
             "outlinewidth": 0,
             "tickcolor": "rgb(237,237,237)",
             "ticklen": 6,
             "ticks": "inside"
            },
            "colorscale": [
             [
              0,
              "rgb(20,44,66)"
             ],
             [
              1,
              "rgb(90,179,244)"
             ]
            ],
            "type": "surface"
           }
          ],
          "table": [
           {
            "cells": {
             "fill": {
              "color": "rgb(237,237,237)"
             },
             "line": {
              "color": "white"
             }
            },
            "header": {
             "fill": {
              "color": "rgb(217,217,217)"
             },
             "line": {
              "color": "white"
             }
            },
            "type": "table"
           }
          ]
         },
         "layout": {
          "annotationdefaults": {
           "arrowhead": 0,
           "arrowwidth": 1
          },
          "coloraxis": {
           "colorbar": {
            "outlinewidth": 0,
            "tickcolor": "rgb(237,237,237)",
            "ticklen": 6,
            "ticks": "inside"
           }
          },
          "colorscale": {
           "sequential": [
            [
             0,
             "rgb(20,44,66)"
            ],
            [
             1,
             "rgb(90,179,244)"
            ]
           ],
           "sequentialminus": [
            [
             0,
             "rgb(20,44,66)"
            ],
            [
             1,
             "rgb(90,179,244)"
            ]
           ]
          },
          "colorway": [
           "#F8766D",
           "#A3A500",
           "#00BF7D",
           "#00B0F6",
           "#E76BF3"
          ],
          "font": {
           "color": "rgb(51,51,51)"
          },
          "geo": {
           "bgcolor": "white",
           "lakecolor": "white",
           "landcolor": "rgb(237,237,237)",
           "showlakes": true,
           "showland": true,
           "subunitcolor": "white"
          },
          "hoverlabel": {
           "align": "left"
          },
          "hovermode": "closest",
          "paper_bgcolor": "white",
          "plot_bgcolor": "rgb(237,237,237)",
          "polar": {
           "angularaxis": {
            "gridcolor": "white",
            "linecolor": "white",
            "showgrid": true,
            "tickcolor": "rgb(51,51,51)",
            "ticks": "outside"
           },
           "bgcolor": "rgb(237,237,237)",
           "radialaxis": {
            "gridcolor": "white",
            "linecolor": "white",
            "showgrid": true,
            "tickcolor": "rgb(51,51,51)",
            "ticks": "outside"
           }
          },
          "scene": {
           "xaxis": {
            "backgroundcolor": "rgb(237,237,237)",
            "gridcolor": "white",
            "gridwidth": 2,
            "linecolor": "white",
            "showbackground": true,
            "showgrid": true,
            "tickcolor": "rgb(51,51,51)",
            "ticks": "outside",
            "zerolinecolor": "white"
           },
           "yaxis": {
            "backgroundcolor": "rgb(237,237,237)",
            "gridcolor": "white",
            "gridwidth": 2,
            "linecolor": "white",
            "showbackground": true,
            "showgrid": true,
            "tickcolor": "rgb(51,51,51)",
            "ticks": "outside",
            "zerolinecolor": "white"
           },
           "zaxis": {
            "backgroundcolor": "rgb(237,237,237)",
            "gridcolor": "white",
            "gridwidth": 2,
            "linecolor": "white",
            "showbackground": true,
            "showgrid": true,
            "tickcolor": "rgb(51,51,51)",
            "ticks": "outside",
            "zerolinecolor": "white"
           }
          },
          "shapedefaults": {
           "fillcolor": "black",
           "line": {
            "width": 0
           },
           "opacity": 0.3
          },
          "ternary": {
           "aaxis": {
            "gridcolor": "white",
            "linecolor": "white",
            "showgrid": true,
            "tickcolor": "rgb(51,51,51)",
            "ticks": "outside"
           },
           "baxis": {
            "gridcolor": "white",
            "linecolor": "white",
            "showgrid": true,
            "tickcolor": "rgb(51,51,51)",
            "ticks": "outside"
           },
           "bgcolor": "rgb(237,237,237)",
           "caxis": {
            "gridcolor": "white",
            "linecolor": "white",
            "showgrid": true,
            "tickcolor": "rgb(51,51,51)",
            "ticks": "outside"
           }
          },
          "xaxis": {
           "automargin": true,
           "gridcolor": "white",
           "linecolor": "white",
           "showgrid": true,
           "tickcolor": "rgb(51,51,51)",
           "ticks": "outside",
           "title": {
            "standoff": 15
           },
           "zerolinecolor": "white"
          },
          "yaxis": {
           "automargin": true,
           "gridcolor": "white",
           "linecolor": "white",
           "showgrid": true,
           "tickcolor": "rgb(51,51,51)",
           "ticks": "outside",
           "title": {
            "standoff": 15
           },
           "zerolinecolor": "white"
          }
         }
        },
        "title": {
         "text": "New Confirmed Cases vs Cumulative Cases Per Day (Logged, US States)"
        },
        "xaxis": {
         "anchor": "y",
         "domain": [
          0,
          1
         ],
         "title": {
          "text": "Confirmed"
         },
         "type": "log"
        },
        "yaxis": {
         "anchor": "x",
         "domain": [
          0,
          1
         ],
         "title": {
          "text": "NewConfirmed"
         },
         "type": "log"
        }
       }
      },
      "text/html": [
       "<div>\n",
       "        \n",
       "        \n",
       "            <div id=\"b0ab3c0a-503a-45bd-acce-f0d736da22d3\" class=\"plotly-graph-div\" style=\"height:525px; width:100%;\"></div>\n",
       "            <script type=\"text/javascript\">\n",
       "                require([\"plotly\"], function(Plotly) {\n",
       "                    window.PLOTLYENV=window.PLOTLYENV || {};\n",
       "                    \n",
       "                if (document.getElementById(\"b0ab3c0a-503a-45bd-acce-f0d736da22d3\")) {\n",
       "                    Plotly.newPlot(\n",
       "                        'b0ab3c0a-503a-45bd-acce-f0d736da22d3',\n",
       "                        [{\"customdata\": [[\"Florida\", 13, \"2020-03-13\", \"2020-03-01\"], [\"Florida\", 14, \"2020-03-14\", \"2020-03-01\"], [\"Florida\", 15, \"2020-03-15\", \"2020-03-01\"], [\"Florida\", 16, \"2020-03-16\", \"2020-03-01\"], [\"Florida\", 17, \"2020-03-17\", \"2020-03-01\"], [\"Florida\", 18, \"2020-03-18\", \"2020-03-01\"], [\"Florida\", 19, \"2020-03-19\", \"2020-03-01\"], [\"Florida\", 20, \"2020-03-20\", \"2020-03-01\"], [\"Florida\", 21, \"2020-03-21\", \"2020-03-01\"], [\"Florida\", 22, \"2020-03-22\", \"2020-03-01\"], [\"Florida\", 23, \"2020-03-23\", \"2020-03-01\"], [\"Florida\", 24, \"2020-03-24\", \"2020-03-01\"], [\"Florida\", 25, \"2020-03-25\", \"2020-03-01\"], [\"Florida\", 26, \"2020-03-26\", \"2020-03-01\"], [\"Florida\", 27, \"2020-03-27\", \"2020-03-01\"], [\"Florida\", 28, \"2020-03-28\", \"2020-03-01\"], [\"Florida\", 29, \"2020-03-29\", \"2020-03-01\"], [\"Florida\", 30, \"2020-03-30\", \"2020-03-01\"], [\"Florida\", 31, \"2020-03-31\", \"2020-03-01\"], [\"Florida\", 32, \"2020-04-01\", \"2020-03-01\"], [\"Florida\", 33, \"2020-04-02\", \"2020-03-01\"], [\"Florida\", 34, \"2020-04-03\", \"2020-03-01\"], [\"Florida\", 35, \"2020-04-04\", \"2020-03-01\"], [\"Florida\", 36, \"2020-04-05\", \"2020-03-01\"], [\"Florida\", 37, \"2020-04-06\", \"2020-03-01\"], [\"Florida\", 38, \"2020-04-07\", \"2020-03-01\"], [\"Florida\", 39, \"2020-04-08\", \"2020-03-01\"]], \"hovertemplate\": \"<b>%{hovertext}</b><br><br>State=%{customdata[0]}<br>Confirmed=%{x}<br>NewConfirmed=%{y}<br>DaysElapsed=%{customdata[1]}<br>Date=%{customdata[2]}<br>EpidemicStartDate=%{customdata[3]}<extra></extra>\", \"hovertext\": [\"2020-03-13\", \"2020-03-14\", \"2020-03-15\", \"2020-03-16\", \"2020-03-17\", \"2020-03-18\", \"2020-03-19\", \"2020-03-20\", \"2020-03-21\", \"2020-03-22\", \"2020-03-23\", \"2020-03-24\", \"2020-03-25\", \"2020-03-26\", \"2020-03-27\", \"2020-03-28\", \"2020-03-29\", \"2020-03-30\", \"2020-03-31\", \"2020-04-01\", \"2020-04-02\", \"2020-04-03\", \"2020-04-04\", \"2020-04-05\", \"2020-04-06\", \"2020-04-07\", \"2020-04-08\"], \"legendgroup\": \"Florida\", \"marker\": {\"color\": \"#4C78A8\", \"opacity\": 0.9, \"symbol\": \"circle\"}, \"mode\": \"markers\", \"name\": \"Florida\", \"showlegend\": true, \"type\": \"scatter\", \"x\": [70, 70, 109, 141, 210, 326, 434, 564, 764, 1000, 1222, 1467, 1965, 2477, 3198, 4038, 4942, 5694, 6741, 7765, 9000, 10260, 11537, 12342, 13621, 14739, 15690], \"xaxis\": \"x\", \"y\": [24.0, 0.0, 39.0, 32.0, 69.0, 116.0, 108.0, 130.0, 200.0, 236.0, 222.0, 245.0, 498.0, 512.0, 721.0, 840.0, 904.0, 752.0, 1047.0, 1024.0, 1235.0, 1260.0, 1277.0, 805.0, 1279.0, 1118.0, 951.0], \"yaxis\": \"y\"}, {\"customdata\": [[\"New York\", 7, \"2020-03-07\", \"2020-03-01\"], [\"New York\", 8, \"2020-03-08\", \"2020-03-01\"], [\"New York\", 9, \"2020-03-09\", \"2020-03-01\"], [\"New York\", 10, \"2020-03-10\", \"2020-03-01\"], [\"New York\", 11, \"2020-03-11\", \"2020-03-01\"], [\"New York\", 12, \"2020-03-12\", \"2020-03-01\"], [\"New York\", 13, \"2020-03-13\", \"2020-03-01\"], [\"New York\", 14, \"2020-03-14\", \"2020-03-01\"], [\"New York\", 15, \"2020-03-15\", \"2020-03-01\"], [\"New York\", 16, \"2020-03-16\", \"2020-03-01\"], [\"New York\", 17, \"2020-03-17\", \"2020-03-01\"], [\"New York\", 18, \"2020-03-18\", \"2020-03-01\"], [\"New York\", 19, \"2020-03-19\", \"2020-03-01\"], [\"New York\", 20, \"2020-03-20\", \"2020-03-01\"], [\"New York\", 21, \"2020-03-21\", \"2020-03-01\"], [\"New York\", 22, \"2020-03-22\", \"2020-03-01\"], [\"New York\", 23, \"2020-03-23\", \"2020-03-01\"], [\"New York\", 24, \"2020-03-24\", \"2020-03-01\"], [\"New York\", 25, \"2020-03-25\", \"2020-03-01\"], [\"New York\", 26, \"2020-03-26\", \"2020-03-01\"], [\"New York\", 27, \"2020-03-27\", \"2020-03-01\"], [\"New York\", 28, \"2020-03-28\", \"2020-03-01\"], [\"New York\", 29, \"2020-03-29\", \"2020-03-01\"], [\"New York\", 30, \"2020-03-30\", \"2020-03-01\"], [\"New York\", 31, \"2020-03-31\", \"2020-03-01\"], [\"New York\", 32, \"2020-04-01\", \"2020-03-01\"], [\"New York\", 33, \"2020-04-02\", \"2020-03-01\"], [\"New York\", 34, \"2020-04-03\", \"2020-03-01\"], [\"New York\", 35, \"2020-04-04\", \"2020-03-01\"], [\"New York\", 36, \"2020-04-05\", \"2020-03-01\"], [\"New York\", 37, \"2020-04-06\", \"2020-03-01\"], [\"New York\", 38, \"2020-04-07\", \"2020-03-01\"], [\"New York\", 39, \"2020-04-08\", \"2020-03-01\"]], \"hovertemplate\": \"<b>%{hovertext}</b><br><br>State=%{customdata[0]}<br>Confirmed=%{x}<br>NewConfirmed=%{y}<br>DaysElapsed=%{customdata[1]}<br>Date=%{customdata[2]}<br>EpidemicStartDate=%{customdata[3]}<extra></extra>\", \"hovertext\": [\"2020-03-07\", \"2020-03-08\", \"2020-03-09\", \"2020-03-10\", \"2020-03-11\", \"2020-03-12\", \"2020-03-13\", \"2020-03-14\", \"2020-03-15\", \"2020-03-16\", \"2020-03-17\", \"2020-03-18\", \"2020-03-19\", \"2020-03-20\", \"2020-03-21\", \"2020-03-22\", \"2020-03-23\", \"2020-03-24\", \"2020-03-25\", \"2020-03-26\", \"2020-03-27\", \"2020-03-28\", \"2020-03-29\", \"2020-03-30\", \"2020-03-31\", \"2020-04-01\", \"2020-04-02\", \"2020-04-03\", \"2020-04-04\", \"2020-04-05\", \"2020-04-06\", \"2020-04-07\", \"2020-04-08\"], \"legendgroup\": \"New York\", \"marker\": {\"color\": \"#F58518\", \"opacity\": 0.9, \"symbol\": \"diamond\"}, \"mode\": \"markers\", \"name\": \"New York\", \"showlegend\": true, \"type\": \"scatter\", \"x\": [89, 106, 142, 173, 217, 326, 421, 610, 732, 950, 1374, 2382, 4152, 7102, 10356, 15168, 20875, 25665, 33066, 38987, 44635, 53363, 59568, 67174, 75832, 83889, 92770, 102870, 114996, 122911, 130703, 140081, 149401], \"xaxis\": \"x\", \"y\": [45.0, 17.0, 36.0, 31.0, 44.0, 109.0, 95.0, 189.0, 122.0, 218.0, 424.0, 1008.0, 1770.0, 2950.0, 3254.0, 4812.0, 5707.0, 4790.0, 7401.0, 5921.0, 5648.0, 8728.0, 6205.0, 7606.0, 8658.0, 8057.0, 8881.0, 10100.0, 12126.0, 7915.0, 7792.0, 9378.0, 9320.0], \"yaxis\": \"y\"}, {\"customdata\": [[\"Virginia\", 10, \"2020-03-16\", \"2020-03-07\"], [\"Virginia\", 11, \"2020-03-17\", \"2020-03-07\"], [\"Virginia\", 12, \"2020-03-18\", \"2020-03-07\"], [\"Virginia\", 13, \"2020-03-19\", \"2020-03-07\"], [\"Virginia\", 14, \"2020-03-20\", \"2020-03-07\"], [\"Virginia\", 15, \"2020-03-21\", \"2020-03-07\"], [\"Virginia\", 16, \"2020-03-22\", \"2020-03-07\"], [\"Virginia\", 17, \"2020-03-23\", \"2020-03-07\"], [\"Virginia\", 18, \"2020-03-24\", \"2020-03-07\"], [\"Virginia\", 19, \"2020-03-25\", \"2020-03-07\"], [\"Virginia\", 20, \"2020-03-26\", \"2020-03-07\"], [\"Virginia\", 21, \"2020-03-27\", \"2020-03-07\"], [\"Virginia\", 22, \"2020-03-28\", \"2020-03-07\"], [\"Virginia\", 23, \"2020-03-29\", \"2020-03-07\"], [\"Virginia\", 24, \"2020-03-30\", \"2020-03-07\"], [\"Virginia\", 25, \"2020-03-31\", \"2020-03-07\"], [\"Virginia\", 26, \"2020-04-01\", \"2020-03-07\"], [\"Virginia\", 27, \"2020-04-02\", \"2020-03-07\"], [\"Virginia\", 28, \"2020-04-03\", \"2020-03-07\"], [\"Virginia\", 29, \"2020-04-04\", \"2020-03-07\"], [\"Virginia\", 30, \"2020-04-05\", \"2020-03-07\"], [\"Virginia\", 31, \"2020-04-06\", \"2020-03-07\"], [\"Virginia\", 32, \"2020-04-07\", \"2020-03-07\"], [\"Virginia\", 33, \"2020-04-08\", \"2020-03-07\"]], \"hovertemplate\": \"<b>%{hovertext}</b><br><br>State=%{customdata[0]}<br>Confirmed=%{x}<br>NewConfirmed=%{y}<br>DaysElapsed=%{customdata[1]}<br>Date=%{customdata[2]}<br>EpidemicStartDate=%{customdata[3]}<extra></extra>\", \"hovertext\": [\"2020-03-16\", \"2020-03-17\", \"2020-03-18\", \"2020-03-19\", \"2020-03-20\", \"2020-03-21\", \"2020-03-22\", \"2020-03-23\", \"2020-03-24\", \"2020-03-25\", \"2020-03-26\", \"2020-03-27\", \"2020-03-28\", \"2020-03-29\", \"2020-03-30\", \"2020-03-31\", \"2020-04-01\", \"2020-04-02\", \"2020-04-03\", \"2020-04-04\", \"2020-04-05\", \"2020-04-06\", \"2020-04-07\", \"2020-04-08\"], \"legendgroup\": \"Virginia\", \"marker\": {\"color\": \"#E45756\", \"opacity\": 0.9, \"symbol\": \"square\"}, \"mode\": \"markers\", \"name\": \"Virginia\", \"showlegend\": true, \"type\": \"scatter\", \"x\": [51, 67, 78, 94, 115, 152, 219, 254, 290, 391, 604, 606, 740, 890, 1021, 1250, 1511, 1706, 2012, 2407, 2637, 2878, 3333, 3645], \"xaxis\": \"x\", \"y\": [6.0, 16.0, 11.0, 16.0, 21.0, 37.0, 67.0, 35.0, 36.0, 101.0, 213.0, 2.0, 134.0, 150.0, 131.0, 229.0, 261.0, 195.0, 306.0, 395.0, 230.0, 241.0, 455.0, 312.0], \"yaxis\": \"y\"}, {\"customdata\": [[\"Washington\", 45, \"2020-03-05\", \"2020-01-21\"], [\"Washington\", 46, \"2020-03-06\", \"2020-01-21\"], [\"Washington\", 47, \"2020-03-07\", \"2020-01-21\"], [\"Washington\", 48, \"2020-03-08\", \"2020-01-21\"], [\"Washington\", 49, \"2020-03-09\", \"2020-01-21\"], [\"Washington\", 50, \"2020-03-10\", \"2020-01-21\"], [\"Washington\", 51, \"2020-03-11\", \"2020-01-21\"], [\"Washington\", 52, \"2020-03-12\", \"2020-01-21\"], [\"Washington\", 53, \"2020-03-13\", \"2020-01-21\"], [\"Washington\", 54, \"2020-03-14\", \"2020-01-21\"], [\"Washington\", 55, \"2020-03-15\", \"2020-01-21\"], [\"Washington\", 56, \"2020-03-16\", \"2020-01-21\"], [\"Washington\", 57, \"2020-03-17\", \"2020-01-21\"], [\"Washington\", 58, \"2020-03-18\", \"2020-01-21\"], [\"Washington\", 59, \"2020-03-19\", \"2020-01-21\"], [\"Washington\", 60, \"2020-03-20\", \"2020-01-21\"], [\"Washington\", 61, \"2020-03-21\", \"2020-01-21\"], [\"Washington\", 62, \"2020-03-22\", \"2020-01-21\"], [\"Washington\", 63, \"2020-03-23\", \"2020-01-21\"], [\"Washington\", 64, \"2020-03-24\", \"2020-01-21\"], [\"Washington\", 65, \"2020-03-25\", \"2020-01-21\"], [\"Washington\", 66, \"2020-03-26\", \"2020-01-21\"], [\"Washington\", 67, \"2020-03-27\", \"2020-01-21\"], [\"Washington\", 68, \"2020-03-28\", \"2020-01-21\"], [\"Washington\", 69, \"2020-03-29\", \"2020-01-21\"], [\"Washington\", 70, \"2020-03-30\", \"2020-01-21\"], [\"Washington\", 71, \"2020-03-31\", \"2020-01-21\"], [\"Washington\", 72, \"2020-04-01\", \"2020-01-21\"], [\"Washington\", 73, \"2020-04-02\", \"2020-01-21\"], [\"Washington\", 74, \"2020-04-03\", \"2020-01-21\"], [\"Washington\", 75, \"2020-04-04\", \"2020-01-21\"], [\"Washington\", 76, \"2020-04-05\", \"2020-01-21\"], [\"Washington\", 77, \"2020-04-06\", \"2020-01-21\"], [\"Washington\", 78, \"2020-04-07\", \"2020-01-21\"], [\"Washington\", 79, \"2020-04-08\", \"2020-01-21\"]], \"hovertemplate\": \"<b>%{hovertext}</b><br><br>State=%{customdata[0]}<br>Confirmed=%{x}<br>NewConfirmed=%{y}<br>DaysElapsed=%{customdata[1]}<br>Date=%{customdata[2]}<br>EpidemicStartDate=%{customdata[3]}<extra></extra>\", \"hovertext\": [\"2020-03-05\", \"2020-03-06\", \"2020-03-07\", \"2020-03-08\", \"2020-03-09\", \"2020-03-10\", \"2020-03-11\", \"2020-03-12\", \"2020-03-13\", \"2020-03-14\", \"2020-03-15\", \"2020-03-16\", \"2020-03-17\", \"2020-03-18\", \"2020-03-19\", \"2020-03-20\", \"2020-03-21\", \"2020-03-22\", \"2020-03-23\", \"2020-03-24\", \"2020-03-25\", \"2020-03-26\", \"2020-03-27\", \"2020-03-28\", \"2020-03-29\", \"2020-03-30\", \"2020-03-31\", \"2020-04-01\", \"2020-04-02\", \"2020-04-03\", \"2020-04-04\", \"2020-04-05\", \"2020-04-06\", \"2020-04-07\", \"2020-04-08\"], \"legendgroup\": \"Washington\", \"marker\": {\"color\": \"#72B7B2\", \"opacity\": 0.9, \"symbol\": \"x\"}, \"mode\": \"markers\", \"name\": \"Washington\", \"showlegend\": true, \"type\": \"scatter\", \"x\": [75, 86, 110, 141, 179, 279, 338, 419, 511, 609, 675, 794, 908, 1026, 1228, 1404, 1655, 1844, 2101, 2469, 2585, 3208, 3770, 4311, 4896, 5179, 5292, 5588, 6585, 6966, 7498, 7984, 8384, 8682, 9097], \"xaxis\": \"x\", \"y\": [28.0, 11.0, 24.0, 31.0, 38.0, 100.0, 59.0, 81.0, 92.0, 98.0, 66.0, 119.0, 114.0, 118.0, 202.0, 176.0, 251.0, 189.0, 257.0, 368.0, 116.0, 623.0, 562.0, 541.0, 585.0, 283.0, 113.0, 296.0, 997.0, 381.0, 532.0, 486.0, 400.0, 298.0, 415.0], \"yaxis\": \"y\"}],\n",
       "                        {\"coloraxis\": {\"showscale\": false}, \"legend\": {\"title\": {\"text\": \"State\"}, \"tracegroupgap\": 0}, \"template\": {\"data\": {\"bar\": [{\"error_x\": {\"color\": \"rgb(51,51,51)\"}, \"error_y\": {\"color\": \"rgb(51,51,51)\"}, \"marker\": {\"line\": {\"color\": \"rgb(237,237,237)\", \"width\": 0.5}}, \"type\": \"bar\"}], \"barpolar\": [{\"marker\": {\"line\": {\"color\": \"rgb(237,237,237)\", \"width\": 0.5}}, \"type\": \"barpolar\"}], \"carpet\": [{\"aaxis\": {\"endlinecolor\": \"rgb(51,51,51)\", \"gridcolor\": \"white\", \"linecolor\": \"white\", \"minorgridcolor\": \"white\", \"startlinecolor\": \"rgb(51,51,51)\"}, \"baxis\": {\"endlinecolor\": \"rgb(51,51,51)\", \"gridcolor\": \"white\", \"linecolor\": \"white\", \"minorgridcolor\": \"white\", \"startlinecolor\": \"rgb(51,51,51)\"}, \"type\": \"carpet\"}], \"choropleth\": [{\"colorbar\": {\"outlinewidth\": 0, \"tickcolor\": \"rgb(237,237,237)\", \"ticklen\": 6, \"ticks\": \"inside\"}, \"type\": \"choropleth\"}], \"contour\": [{\"colorbar\": {\"outlinewidth\": 0, \"tickcolor\": \"rgb(237,237,237)\", \"ticklen\": 6, \"ticks\": \"inside\"}, \"colorscale\": [[0, \"rgb(20,44,66)\"], [1, \"rgb(90,179,244)\"]], \"type\": \"contour\"}], \"contourcarpet\": [{\"colorbar\": {\"outlinewidth\": 0, \"tickcolor\": \"rgb(237,237,237)\", \"ticklen\": 6, \"ticks\": \"inside\"}, \"type\": \"contourcarpet\"}], \"heatmap\": [{\"colorbar\": {\"outlinewidth\": 0, \"tickcolor\": \"rgb(237,237,237)\", \"ticklen\": 6, \"ticks\": \"inside\"}, \"colorscale\": [[0, \"rgb(20,44,66)\"], [1, \"rgb(90,179,244)\"]], \"type\": \"heatmap\"}], \"heatmapgl\": [{\"colorbar\": {\"outlinewidth\": 0, \"tickcolor\": \"rgb(237,237,237)\", \"ticklen\": 6, \"ticks\": \"inside\"}, \"colorscale\": [[0, \"rgb(20,44,66)\"], [1, \"rgb(90,179,244)\"]], \"type\": \"heatmapgl\"}], \"histogram\": [{\"marker\": {\"colorbar\": {\"outlinewidth\": 0, \"tickcolor\": \"rgb(237,237,237)\", \"ticklen\": 6, \"ticks\": \"inside\"}}, \"type\": \"histogram\"}], \"histogram2d\": [{\"colorbar\": {\"outlinewidth\": 0, \"tickcolor\": \"rgb(237,237,237)\", \"ticklen\": 6, \"ticks\": \"inside\"}, \"colorscale\": [[0, \"rgb(20,44,66)\"], [1, \"rgb(90,179,244)\"]], \"type\": \"histogram2d\"}], \"histogram2dcontour\": [{\"colorbar\": {\"outlinewidth\": 0, \"tickcolor\": \"rgb(237,237,237)\", \"ticklen\": 6, \"ticks\": \"inside\"}, \"colorscale\": [[0, \"rgb(20,44,66)\"], [1, \"rgb(90,179,244)\"]], \"type\": \"histogram2dcontour\"}], \"mesh3d\": [{\"colorbar\": {\"outlinewidth\": 0, \"tickcolor\": \"rgb(237,237,237)\", \"ticklen\": 6, \"ticks\": \"inside\"}, \"type\": \"mesh3d\"}], \"parcoords\": [{\"line\": {\"colorbar\": {\"outlinewidth\": 0, \"tickcolor\": \"rgb(237,237,237)\", \"ticklen\": 6, \"ticks\": \"inside\"}}, \"type\": \"parcoords\"}], \"pie\": [{\"automargin\": true, \"type\": \"pie\"}], \"scatter\": [{\"marker\": {\"colorbar\": {\"outlinewidth\": 0, \"tickcolor\": \"rgb(237,237,237)\", \"ticklen\": 6, \"ticks\": \"inside\"}}, \"type\": \"scatter\"}], \"scatter3d\": [{\"line\": {\"colorbar\": {\"outlinewidth\": 0, \"tickcolor\": \"rgb(237,237,237)\", \"ticklen\": 6, \"ticks\": \"inside\"}}, \"marker\": {\"colorbar\": {\"outlinewidth\": 0, \"tickcolor\": \"rgb(237,237,237)\", \"ticklen\": 6, \"ticks\": \"inside\"}}, \"type\": \"scatter3d\"}], \"scattercarpet\": [{\"marker\": {\"colorbar\": {\"outlinewidth\": 0, \"tickcolor\": \"rgb(237,237,237)\", \"ticklen\": 6, \"ticks\": \"inside\"}}, \"type\": \"scattercarpet\"}], \"scattergeo\": [{\"marker\": {\"colorbar\": {\"outlinewidth\": 0, \"tickcolor\": \"rgb(237,237,237)\", \"ticklen\": 6, \"ticks\": \"inside\"}}, \"type\": \"scattergeo\"}], \"scattergl\": [{\"marker\": {\"colorbar\": {\"outlinewidth\": 0, \"tickcolor\": \"rgb(237,237,237)\", \"ticklen\": 6, \"ticks\": \"inside\"}}, \"type\": \"scattergl\"}], \"scattermapbox\": [{\"marker\": {\"colorbar\": {\"outlinewidth\": 0, \"tickcolor\": \"rgb(237,237,237)\", \"ticklen\": 6, \"ticks\": \"inside\"}}, \"type\": \"scattermapbox\"}], \"scatterpolar\": [{\"marker\": {\"colorbar\": {\"outlinewidth\": 0, \"tickcolor\": \"rgb(237,237,237)\", \"ticklen\": 6, \"ticks\": \"inside\"}}, \"type\": \"scatterpolar\"}], \"scatterpolargl\": [{\"marker\": {\"colorbar\": {\"outlinewidth\": 0, \"tickcolor\": \"rgb(237,237,237)\", \"ticklen\": 6, \"ticks\": \"inside\"}}, \"type\": \"scatterpolargl\"}], \"scatterternary\": [{\"marker\": {\"colorbar\": {\"outlinewidth\": 0, \"tickcolor\": \"rgb(237,237,237)\", \"ticklen\": 6, \"ticks\": \"inside\"}}, \"type\": \"scatterternary\"}], \"surface\": [{\"colorbar\": {\"outlinewidth\": 0, \"tickcolor\": \"rgb(237,237,237)\", \"ticklen\": 6, \"ticks\": \"inside\"}, \"colorscale\": [[0, \"rgb(20,44,66)\"], [1, \"rgb(90,179,244)\"]], \"type\": \"surface\"}], \"table\": [{\"cells\": {\"fill\": {\"color\": \"rgb(237,237,237)\"}, \"line\": {\"color\": \"white\"}}, \"header\": {\"fill\": {\"color\": \"rgb(217,217,217)\"}, \"line\": {\"color\": \"white\"}}, \"type\": \"table\"}]}, \"layout\": {\"annotationdefaults\": {\"arrowhead\": 0, \"arrowwidth\": 1}, \"coloraxis\": {\"colorbar\": {\"outlinewidth\": 0, \"tickcolor\": \"rgb(237,237,237)\", \"ticklen\": 6, \"ticks\": \"inside\"}}, \"colorscale\": {\"sequential\": [[0, \"rgb(20,44,66)\"], [1, \"rgb(90,179,244)\"]], \"sequentialminus\": [[0, \"rgb(20,44,66)\"], [1, \"rgb(90,179,244)\"]]}, \"colorway\": [\"#F8766D\", \"#A3A500\", \"#00BF7D\", \"#00B0F6\", \"#E76BF3\"], \"font\": {\"color\": \"rgb(51,51,51)\"}, \"geo\": {\"bgcolor\": \"white\", \"lakecolor\": \"white\", \"landcolor\": \"rgb(237,237,237)\", \"showlakes\": true, \"showland\": true, \"subunitcolor\": \"white\"}, \"hoverlabel\": {\"align\": \"left\"}, \"hovermode\": \"closest\", \"paper_bgcolor\": \"white\", \"plot_bgcolor\": \"rgb(237,237,237)\", \"polar\": {\"angularaxis\": {\"gridcolor\": \"white\", \"linecolor\": \"white\", \"showgrid\": true, \"tickcolor\": \"rgb(51,51,51)\", \"ticks\": \"outside\"}, \"bgcolor\": \"rgb(237,237,237)\", \"radialaxis\": {\"gridcolor\": \"white\", \"linecolor\": \"white\", \"showgrid\": true, \"tickcolor\": \"rgb(51,51,51)\", \"ticks\": \"outside\"}}, \"scene\": {\"xaxis\": {\"backgroundcolor\": \"rgb(237,237,237)\", \"gridcolor\": \"white\", \"gridwidth\": 2, \"linecolor\": \"white\", \"showbackground\": true, \"showgrid\": true, \"tickcolor\": \"rgb(51,51,51)\", \"ticks\": \"outside\", \"zerolinecolor\": \"white\"}, \"yaxis\": {\"backgroundcolor\": \"rgb(237,237,237)\", \"gridcolor\": \"white\", \"gridwidth\": 2, \"linecolor\": \"white\", \"showbackground\": true, \"showgrid\": true, \"tickcolor\": \"rgb(51,51,51)\", \"ticks\": \"outside\", \"zerolinecolor\": \"white\"}, \"zaxis\": {\"backgroundcolor\": \"rgb(237,237,237)\", \"gridcolor\": \"white\", \"gridwidth\": 2, \"linecolor\": \"white\", \"showbackground\": true, \"showgrid\": true, \"tickcolor\": \"rgb(51,51,51)\", \"ticks\": \"outside\", \"zerolinecolor\": \"white\"}}, \"shapedefaults\": {\"fillcolor\": \"black\", \"line\": {\"width\": 0}, \"opacity\": 0.3}, \"ternary\": {\"aaxis\": {\"gridcolor\": \"white\", \"linecolor\": \"white\", \"showgrid\": true, \"tickcolor\": \"rgb(51,51,51)\", \"ticks\": \"outside\"}, \"baxis\": {\"gridcolor\": \"white\", \"linecolor\": \"white\", \"showgrid\": true, \"tickcolor\": \"rgb(51,51,51)\", \"ticks\": \"outside\"}, \"bgcolor\": \"rgb(237,237,237)\", \"caxis\": {\"gridcolor\": \"white\", \"linecolor\": \"white\", \"showgrid\": true, \"tickcolor\": \"rgb(51,51,51)\", \"ticks\": \"outside\"}}, \"xaxis\": {\"automargin\": true, \"gridcolor\": \"white\", \"linecolor\": \"white\", \"showgrid\": true, \"tickcolor\": \"rgb(51,51,51)\", \"ticks\": \"outside\", \"title\": {\"standoff\": 15}, \"zerolinecolor\": \"white\"}, \"yaxis\": {\"automargin\": true, \"gridcolor\": \"white\", \"linecolor\": \"white\", \"showgrid\": true, \"tickcolor\": \"rgb(51,51,51)\", \"ticks\": \"outside\", \"title\": {\"standoff\": 15}, \"zerolinecolor\": \"white\"}}}, \"title\": {\"text\": \"New Confirmed Cases vs Cumulative Cases Per Day (Logged, US States)\"}, \"xaxis\": {\"anchor\": \"y\", \"domain\": [0.0, 1.0], \"title\": {\"text\": \"Confirmed\"}, \"type\": \"log\"}, \"yaxis\": {\"anchor\": \"x\", \"domain\": [0.0, 1.0], \"title\": {\"text\": \"NewConfirmed\"}, \"type\": \"log\"}},\n",
       "                        {\"responsive\": true}\n",
       "                    ).then(function(){\n",
       "                            \n",
       "var gd = document.getElementById('b0ab3c0a-503a-45bd-acce-f0d736da22d3');\n",
       "var x = new MutationObserver(function (mutations, observer) {{\n",
       "        var display = window.getComputedStyle(gd).display;\n",
       "        if (!display || display === 'none') {{\n",
       "            console.log([gd, 'removed!']);\n",
       "            Plotly.purge(gd);\n",
       "            observer.disconnect();\n",
       "        }}\n",
       "}});\n",
       "\n",
       "// Listen for the removal of the full notebook cells\n",
       "var notebookContainer = gd.closest('#notebook-container');\n",
       "if (notebookContainer) {{\n",
       "    x.observe(notebookContainer, {childList: true});\n",
       "}}\n",
       "\n",
       "// Listen for the clearing of the current output cell\n",
       "var outputEl = gd.closest('.output');\n",
       "if (outputEl) {{\n",
       "    x.observe(outputEl, {childList: true});\n",
       "}}\n",
       "\n",
       "                        })\n",
       "                };\n",
       "                });\n",
       "            </script>\n",
       "        </div>"
      ]
     },
     "metadata": {},
     "output_type": "display_data"
    }
   ],
   "source": [
    "# Conducting a similar analysis applied towards US states:\n",
    "statesToPlot = ['New York', 'Washington', 'Lousiana', 'Virginia', 'Florida']\n",
    "fig =   px.scatter(data_frame=df_state[df_state.State.isin(statesToPlot)].loc[df_state.Confirmed>50], \n",
    "                   x='Confirmed', y='NewConfirmed', color='State', symbol='State',\n",
    "                   log_x=True,log_y=True, labels={'y':'Daily New Cases', 'x':'Cumulative Confirmed Cases'},\n",
    "                   hover_name='Date', hover_data=['State','DaysElapsed','Date','EpidemicStartDate'],\n",
    "                   title='New Confirmed Cases vs Cumulative Cases Per Day (Logged, US States)', template='ggplot2', \n",
    "                   color_discrete_sequence= px.colors.qualitative.T10, opacity=0.9\n",
    "#                    color_continuous_scale='Teal_r', \n",
    "                  )\n",
    "# Add smoothed lines\n",
    "fig.update(layout_coloraxis_showscale=False)\n",
    "# fig.show(renderer='svg', width=1100, height=550)"
   ]
  },
  {
   "cell_type": "markdown",
   "metadata": {},
   "source": [
    "## Some time series plots"
   ]
  },
  {
   "cell_type": "markdown",
   "metadata": {},
   "source": [
    "### Confirmed cases in US States with governor lockdown measures \n",
    "Containment is a critical measure in reducing effective reproductive number of the virus. Most early-stage growth models can be viewed as a piecewise composition of a basic reproduction number ($R_0$) and a second effective reproduction number($R_e$). A team at the University of Toronto has a great article and corresponding dashboard explaining this concept: https://annals.org/aim/fullarticle/2760912/reporting-epidemic-growth-reproduction-numbers-2019-novel-coronavirus-2019-ncov. \n",
    "US states have undergone containment measures in different timelines. Assuming a delay comprised of a biological incubation, delay for testing & recording, we can expect to see tangible changes to ($R_e$) roughly two weeks post."
   ]
  },
  {
   "cell_type": "code",
   "execution_count": 29,
   "metadata": {
    "scrolled": false
   },
   "outputs": [
    {
     "name": "stdout",
     "output_type": "stream",
     "text": [
      "New Jersey entered containment on 2020-03-22\n",
      "New York entered containment on 2020-03-23\n",
      "Virginia entered containment on 2020-03-30\n",
      "Washington entered containment on 2020-03-23\n"
     ]
    },
    {
     "data": {
      "application/vnd.plotly.v1+json": {
       "config": {
        "plotlyServerURL": "https://plot.ly"
       },
       "data": [
        {
         "customdata": [
          [
           5,
           11,
           6
          ],
          [
           4,
           15,
           7
          ],
          [
           8,
           23,
           8
          ],
          [
           6,
           29,
           9
          ],
          [
           21,
           50,
           10
          ],
          [
           25,
           75,
           11
          ],
          [
           23,
           98,
           12
          ],
          [
           78,
           176,
           13
          ],
          [
           92,
           268,
           14
          ],
          [
           159,
           427,
           15
          ],
          [
           308,
           735,
           16
          ],
          [
           161,
           896,
           17
          ],
          [
           440,
           1336,
           18
          ],
          [
           578,
           1914,
           19
          ],
          [
           930,
           2844,
           20
          ],
          [
           831,
           3675,
           21
          ],
          [
           727,
           4402,
           22
          ],
          [
           2474,
           6876,
           23
          ],
          [
           1949,
           8825,
           24
          ],
          [
           2299,
           11124,
           25
          ],
          [
           2262,
           13386,
           26
          ],
          [
           3250,
           16636,
           27
          ],
          [
           2060,
           18696,
           28
          ],
          [
           3559,
           22255,
           29
          ],
          [
           3335,
           25590,
           30
          ],
          [
           4305,
           29895,
           31
          ],
          [
           4229,
           34124,
           32
          ],
          [
           3381,
           37505,
           33
          ],
          [
           3585,
           41090,
           34
          ],
          [
           3326,
           44416,
           35
          ],
          [
           3021,
           47437,
           36
          ]
         ],
         "hovertemplate": "<b>%{hovertext}</b><br><br>State=New Jersey<br>Date=%{x}<br>Confirmed=%{customdata[1]}<br>NewConfirmed=%{customdata[0]}<br>DaysElapsed=%{customdata[2]}<extra></extra>",
         "hovertext": [
          "2020-03-09",
          "2020-03-10",
          "2020-03-11",
          "2020-03-12",
          "2020-03-13",
          "2020-03-14",
          "2020-03-15",
          "2020-03-16",
          "2020-03-17",
          "2020-03-18",
          "2020-03-19",
          "2020-03-20",
          "2020-03-21",
          "2020-03-22",
          "2020-03-23",
          "2020-03-24",
          "2020-03-25",
          "2020-03-26",
          "2020-03-27",
          "2020-03-28",
          "2020-03-29",
          "2020-03-30",
          "2020-03-31",
          "2020-04-01",
          "2020-04-02",
          "2020-04-03",
          "2020-04-04",
          "2020-04-05",
          "2020-04-06",
          "2020-04-07",
          "2020-04-08"
         ],
         "legendgroup": "New Jersey",
         "marker": {
          "color": "#4C78A8",
          "symbol": "circle"
         },
         "mode": "markers",
         "name": "New Jersey",
         "showlegend": true,
         "type": "scatter",
         "x": [
          "2020-03-09",
          "2020-03-10",
          "2020-03-11",
          "2020-03-12",
          "2020-03-13",
          "2020-03-14",
          "2020-03-15",
          "2020-03-16",
          "2020-03-17",
          "2020-03-18",
          "2020-03-19",
          "2020-03-20",
          "2020-03-21",
          "2020-03-22",
          "2020-03-23",
          "2020-03-24",
          "2020-03-25",
          "2020-03-26",
          "2020-03-27",
          "2020-03-28",
          "2020-03-29",
          "2020-03-30",
          "2020-03-31",
          "2020-04-01",
          "2020-04-02",
          "2020-04-03",
          "2020-04-04",
          "2020-04-05",
          "2020-04-06",
          "2020-04-07",
          "2020-04-08"
         ],
         "xaxis": "x",
         "y": [
          11,
          15,
          23,
          29,
          50,
          75,
          98,
          176,
          268,
          427,
          735,
          896,
          1336,
          1914,
          2844,
          3675,
          4402,
          6876,
          8825,
          11124,
          13386,
          16636,
          18696,
          22255,
          25590,
          29895,
          34124,
          37505,
          41090,
          44416,
          47437
         ],
         "yaxis": "y"
        },
        {
         "customdata": [
          [
           9,
           11,
           4
          ],
          [
           11,
           22,
           5
          ],
          [
           22,
           44,
           6
          ],
          [
           45,
           89,
           7
          ],
          [
           17,
           106,
           8
          ],
          [
           36,
           142,
           9
          ],
          [
           31,
           173,
           10
          ],
          [
           44,
           217,
           11
          ],
          [
           109,
           326,
           12
          ],
          [
           95,
           421,
           13
          ],
          [
           189,
           610,
           14
          ],
          [
           122,
           732,
           15
          ],
          [
           218,
           950,
           16
          ],
          [
           424,
           1374,
           17
          ],
          [
           1008,
           2382,
           18
          ],
          [
           1770,
           4152,
           19
          ],
          [
           2950,
           7102,
           20
          ],
          [
           3254,
           10356,
           21
          ],
          [
           4812,
           15168,
           22
          ],
          [
           5707,
           20875,
           23
          ],
          [
           4790,
           25665,
           24
          ],
          [
           7401,
           33066,
           25
          ],
          [
           5921,
           38987,
           26
          ],
          [
           5648,
           44635,
           27
          ],
          [
           8728,
           53363,
           28
          ],
          [
           6205,
           59568,
           29
          ],
          [
           7606,
           67174,
           30
          ],
          [
           8658,
           75832,
           31
          ],
          [
           8057,
           83889,
           32
          ],
          [
           8881,
           92770,
           33
          ],
          [
           10100,
           102870,
           34
          ],
          [
           12126,
           114996,
           35
          ],
          [
           7915,
           122911,
           36
          ],
          [
           7792,
           130703,
           37
          ],
          [
           9378,
           140081,
           38
          ],
          [
           9320,
           149401,
           39
          ]
         ],
         "hovertemplate": "<b>%{hovertext}</b><br><br>State=New York<br>Date=%{x}<br>Confirmed=%{customdata[1]}<br>NewConfirmed=%{customdata[0]}<br>DaysElapsed=%{customdata[2]}<extra></extra>",
         "hovertext": [
          "2020-03-04",
          "2020-03-05",
          "2020-03-06",
          "2020-03-07",
          "2020-03-08",
          "2020-03-09",
          "2020-03-10",
          "2020-03-11",
          "2020-03-12",
          "2020-03-13",
          "2020-03-14",
          "2020-03-15",
          "2020-03-16",
          "2020-03-17",
          "2020-03-18",
          "2020-03-19",
          "2020-03-20",
          "2020-03-21",
          "2020-03-22",
          "2020-03-23",
          "2020-03-24",
          "2020-03-25",
          "2020-03-26",
          "2020-03-27",
          "2020-03-28",
          "2020-03-29",
          "2020-03-30",
          "2020-03-31",
          "2020-04-01",
          "2020-04-02",
          "2020-04-03",
          "2020-04-04",
          "2020-04-05",
          "2020-04-06",
          "2020-04-07",
          "2020-04-08"
         ],
         "legendgroup": "New York",
         "marker": {
          "color": "#F58518",
          "symbol": "circle"
         },
         "mode": "markers",
         "name": "New York",
         "showlegend": true,
         "type": "scatter",
         "x": [
          "2020-03-04",
          "2020-03-05",
          "2020-03-06",
          "2020-03-07",
          "2020-03-08",
          "2020-03-09",
          "2020-03-10",
          "2020-03-11",
          "2020-03-12",
          "2020-03-13",
          "2020-03-14",
          "2020-03-15",
          "2020-03-16",
          "2020-03-17",
          "2020-03-18",
          "2020-03-19",
          "2020-03-20",
          "2020-03-21",
          "2020-03-22",
          "2020-03-23",
          "2020-03-24",
          "2020-03-25",
          "2020-03-26",
          "2020-03-27",
          "2020-03-28",
          "2020-03-29",
          "2020-03-30",
          "2020-03-31",
          "2020-04-01",
          "2020-04-02",
          "2020-04-03",
          "2020-04-04",
          "2020-04-05",
          "2020-04-06",
          "2020-04-07",
          "2020-04-08"
         ],
         "xaxis": "x",
         "y": [
          11,
          22,
          44,
          89,
          106,
          142,
          173,
          217,
          326,
          421,
          610,
          732,
          950,
          1374,
          2382,
          4152,
          7102,
          10356,
          15168,
          20875,
          25665,
          33066,
          38987,
          44635,
          53363,
          59568,
          67174,
          75832,
          83889,
          92770,
          102870,
          114996,
          122911,
          130703,
          140081,
          149401
         ],
         "yaxis": "y"
        },
        {
         "customdata": [
          [
           7,
           17,
           6
          ],
          [
           13,
           30,
           7
          ],
          [
           12,
           42,
           8
          ],
          [
           3,
           45,
           9
          ],
          [
           6,
           51,
           10
          ],
          [
           16,
           67,
           11
          ],
          [
           11,
           78,
           12
          ],
          [
           16,
           94,
           13
          ],
          [
           21,
           115,
           14
          ],
          [
           37,
           152,
           15
          ],
          [
           67,
           219,
           16
          ],
          [
           35,
           254,
           17
          ],
          [
           36,
           290,
           18
          ],
          [
           101,
           391,
           19
          ],
          [
           213,
           604,
           20
          ],
          [
           2,
           606,
           21
          ],
          [
           134,
           740,
           22
          ],
          [
           150,
           890,
           23
          ],
          [
           131,
           1021,
           24
          ],
          [
           229,
           1250,
           25
          ],
          [
           261,
           1511,
           26
          ],
          [
           195,
           1706,
           27
          ],
          [
           306,
           2012,
           28
          ],
          [
           395,
           2407,
           29
          ],
          [
           230,
           2637,
           30
          ],
          [
           241,
           2878,
           31
          ],
          [
           455,
           3333,
           32
          ],
          [
           312,
           3645,
           33
          ]
         ],
         "hovertemplate": "<b>%{hovertext}</b><br><br>State=Virginia<br>Date=%{x}<br>Confirmed=%{customdata[1]}<br>NewConfirmed=%{customdata[0]}<br>DaysElapsed=%{customdata[2]}<extra></extra>",
         "hovertext": [
          "2020-03-12",
          "2020-03-13",
          "2020-03-14",
          "2020-03-15",
          "2020-03-16",
          "2020-03-17",
          "2020-03-18",
          "2020-03-19",
          "2020-03-20",
          "2020-03-21",
          "2020-03-22",
          "2020-03-23",
          "2020-03-24",
          "2020-03-25",
          "2020-03-26",
          "2020-03-27",
          "2020-03-28",
          "2020-03-29",
          "2020-03-30",
          "2020-03-31",
          "2020-04-01",
          "2020-04-02",
          "2020-04-03",
          "2020-04-04",
          "2020-04-05",
          "2020-04-06",
          "2020-04-07",
          "2020-04-08"
         ],
         "legendgroup": "Virginia",
         "marker": {
          "color": "#E45756",
          "symbol": "circle"
         },
         "mode": "markers",
         "name": "Virginia",
         "showlegend": true,
         "type": "scatter",
         "x": [
          "2020-03-12",
          "2020-03-13",
          "2020-03-14",
          "2020-03-15",
          "2020-03-16",
          "2020-03-17",
          "2020-03-18",
          "2020-03-19",
          "2020-03-20",
          "2020-03-21",
          "2020-03-22",
          "2020-03-23",
          "2020-03-24",
          "2020-03-25",
          "2020-03-26",
          "2020-03-27",
          "2020-03-28",
          "2020-03-29",
          "2020-03-30",
          "2020-03-31",
          "2020-04-01",
          "2020-04-02",
          "2020-04-03",
          "2020-04-04",
          "2020-04-05",
          "2020-04-06",
          "2020-04-07",
          "2020-04-08"
         ],
         "xaxis": "x",
         "y": [
          17,
          30,
          42,
          45,
          51,
          67,
          78,
          94,
          115,
          152,
          219,
          254,
          290,
          391,
          604,
          606,
          740,
          890,
          1021,
          1250,
          1511,
          1706,
          2012,
          2407,
          2637,
          2878,
          3333,
          3645
         ],
         "yaxis": "y"
        },
        {
         "customdata": [
          [
           7,
           17,
           41
          ],
          [
           6,
           23,
           42
          ],
          [
           9,
           32,
           43
          ],
          [
           15,
           47,
           44
          ],
          [
           28,
           75,
           45
          ],
          [
           11,
           86,
           46
          ],
          [
           24,
           110,
           47
          ],
          [
           31,
           141,
           48
          ],
          [
           38,
           179,
           49
          ],
          [
           100,
           279,
           50
          ],
          [
           59,
           338,
           51
          ],
          [
           81,
           419,
           52
          ],
          [
           92,
           511,
           53
          ],
          [
           98,
           609,
           54
          ],
          [
           66,
           675,
           55
          ],
          [
           119,
           794,
           56
          ],
          [
           114,
           908,
           57
          ],
          [
           118,
           1026,
           58
          ],
          [
           202,
           1228,
           59
          ],
          [
           176,
           1404,
           60
          ],
          [
           251,
           1655,
           61
          ],
          [
           189,
           1844,
           62
          ],
          [
           257,
           2101,
           63
          ],
          [
           368,
           2469,
           64
          ],
          [
           116,
           2585,
           65
          ],
          [
           623,
           3208,
           66
          ],
          [
           562,
           3770,
           67
          ],
          [
           541,
           4311,
           68
          ],
          [
           585,
           4896,
           69
          ],
          [
           283,
           5179,
           70
          ],
          [
           113,
           5292,
           71
          ],
          [
           296,
           5588,
           72
          ],
          [
           997,
           6585,
           73
          ],
          [
           381,
           6966,
           74
          ],
          [
           532,
           7498,
           75
          ],
          [
           486,
           7984,
           76
          ],
          [
           400,
           8384,
           77
          ],
          [
           298,
           8682,
           78
          ],
          [
           415,
           9097,
           79
          ]
         ],
         "hovertemplate": "<b>%{hovertext}</b><br><br>State=Washington<br>Date=%{x}<br>Confirmed=%{customdata[1]}<br>NewConfirmed=%{customdata[0]}<br>DaysElapsed=%{customdata[2]}<extra></extra>",
         "hovertext": [
          "2020-03-01",
          "2020-03-02",
          "2020-03-03",
          "2020-03-04",
          "2020-03-05",
          "2020-03-06",
          "2020-03-07",
          "2020-03-08",
          "2020-03-09",
          "2020-03-10",
          "2020-03-11",
          "2020-03-12",
          "2020-03-13",
          "2020-03-14",
          "2020-03-15",
          "2020-03-16",
          "2020-03-17",
          "2020-03-18",
          "2020-03-19",
          "2020-03-20",
          "2020-03-21",
          "2020-03-22",
          "2020-03-23",
          "2020-03-24",
          "2020-03-25",
          "2020-03-26",
          "2020-03-27",
          "2020-03-28",
          "2020-03-29",
          "2020-03-30",
          "2020-03-31",
          "2020-04-01",
          "2020-04-02",
          "2020-04-03",
          "2020-04-04",
          "2020-04-05",
          "2020-04-06",
          "2020-04-07",
          "2020-04-08"
         ],
         "legendgroup": "Washington",
         "marker": {
          "color": "#72B7B2",
          "symbol": "circle"
         },
         "mode": "markers",
         "name": "Washington",
         "showlegend": true,
         "type": "scatter",
         "x": [
          "2020-03-01",
          "2020-03-02",
          "2020-03-03",
          "2020-03-04",
          "2020-03-05",
          "2020-03-06",
          "2020-03-07",
          "2020-03-08",
          "2020-03-09",
          "2020-03-10",
          "2020-03-11",
          "2020-03-12",
          "2020-03-13",
          "2020-03-14",
          "2020-03-15",
          "2020-03-16",
          "2020-03-17",
          "2020-03-18",
          "2020-03-19",
          "2020-03-20",
          "2020-03-21",
          "2020-03-22",
          "2020-03-23",
          "2020-03-24",
          "2020-03-25",
          "2020-03-26",
          "2020-03-27",
          "2020-03-28",
          "2020-03-29",
          "2020-03-30",
          "2020-03-31",
          "2020-04-01",
          "2020-04-02",
          "2020-04-03",
          "2020-04-04",
          "2020-04-05",
          "2020-04-06",
          "2020-04-07",
          "2020-04-08"
         ],
         "xaxis": "x",
         "y": [
          17,
          23,
          32,
          47,
          75,
          86,
          110,
          141,
          179,
          279,
          338,
          419,
          511,
          609,
          675,
          794,
          908,
          1026,
          1228,
          1404,
          1655,
          1844,
          2101,
          2469,
          2585,
          3208,
          3770,
          4311,
          4896,
          5179,
          5292,
          5588,
          6585,
          6966,
          7498,
          7984,
          8384,
          8682,
          9097
         ],
         "yaxis": "y"
        }
       ],
       "layout": {
        "legend": {
         "title": {
          "text": "State"
         },
         "tracegroupgap": 0
        },
        "shapes": [
         {
          "line": {
           "color": "#4C78A8",
           "dash": "solid",
           "width": 3
          },
          "type": "line",
          "x0": "2020-03-22",
          "x1": "2020-03-22",
          "xref": "x",
          "y0": 1,
          "y1": 10000,
          "yref": "y"
         },
         {
          "line": {
           "color": "#F58518",
           "dash": "solid",
           "width": 3
          },
          "type": "line",
          "x0": "2020-03-23",
          "x1": "2020-03-23",
          "xref": "x",
          "y0": 1,
          "y1": 10000,
          "yref": "y"
         },
         {
          "line": {
           "color": "#E45756",
           "dash": "solid",
           "width": 3
          },
          "type": "line",
          "x0": "2020-03-30",
          "x1": "2020-03-30",
          "xref": "x",
          "y0": 1,
          "y1": 10000,
          "yref": "y"
         },
         {
          "line": {
           "color": "#72B7B2",
           "dash": "solid",
           "width": 3
          },
          "type": "line",
          "x0": "2020-03-23",
          "x1": "2020-03-23",
          "xref": "x",
          "y0": 1,
          "y1": 10000,
          "yref": "y"
         }
        ],
        "template": {
         "data": {
          "bar": [
           {
            "error_x": {
             "color": "rgb(51,51,51)"
            },
            "error_y": {
             "color": "rgb(51,51,51)"
            },
            "marker": {
             "line": {
              "color": "rgb(237,237,237)",
              "width": 0.5
             }
            },
            "type": "bar"
           }
          ],
          "barpolar": [
           {
            "marker": {
             "line": {
              "color": "rgb(237,237,237)",
              "width": 0.5
             }
            },
            "type": "barpolar"
           }
          ],
          "carpet": [
           {
            "aaxis": {
             "endlinecolor": "rgb(51,51,51)",
             "gridcolor": "white",
             "linecolor": "white",
             "minorgridcolor": "white",
             "startlinecolor": "rgb(51,51,51)"
            },
            "baxis": {
             "endlinecolor": "rgb(51,51,51)",
             "gridcolor": "white",
             "linecolor": "white",
             "minorgridcolor": "white",
             "startlinecolor": "rgb(51,51,51)"
            },
            "type": "carpet"
           }
          ],
          "choropleth": [
           {
            "colorbar": {
             "outlinewidth": 0,
             "tickcolor": "rgb(237,237,237)",
             "ticklen": 6,
             "ticks": "inside"
            },
            "type": "choropleth"
           }
          ],
          "contour": [
           {
            "colorbar": {
             "outlinewidth": 0,
             "tickcolor": "rgb(237,237,237)",
             "ticklen": 6,
             "ticks": "inside"
            },
            "colorscale": [
             [
              0,
              "rgb(20,44,66)"
             ],
             [
              1,
              "rgb(90,179,244)"
             ]
            ],
            "type": "contour"
           }
          ],
          "contourcarpet": [
           {
            "colorbar": {
             "outlinewidth": 0,
             "tickcolor": "rgb(237,237,237)",
             "ticklen": 6,
             "ticks": "inside"
            },
            "type": "contourcarpet"
           }
          ],
          "heatmap": [
           {
            "colorbar": {
             "outlinewidth": 0,
             "tickcolor": "rgb(237,237,237)",
             "ticklen": 6,
             "ticks": "inside"
            },
            "colorscale": [
             [
              0,
              "rgb(20,44,66)"
             ],
             [
              1,
              "rgb(90,179,244)"
             ]
            ],
            "type": "heatmap"
           }
          ],
          "heatmapgl": [
           {
            "colorbar": {
             "outlinewidth": 0,
             "tickcolor": "rgb(237,237,237)",
             "ticklen": 6,
             "ticks": "inside"
            },
            "colorscale": [
             [
              0,
              "rgb(20,44,66)"
             ],
             [
              1,
              "rgb(90,179,244)"
             ]
            ],
            "type": "heatmapgl"
           }
          ],
          "histogram": [
           {
            "marker": {
             "colorbar": {
              "outlinewidth": 0,
              "tickcolor": "rgb(237,237,237)",
              "ticklen": 6,
              "ticks": "inside"
             }
            },
            "type": "histogram"
           }
          ],
          "histogram2d": [
           {
            "colorbar": {
             "outlinewidth": 0,
             "tickcolor": "rgb(237,237,237)",
             "ticklen": 6,
             "ticks": "inside"
            },
            "colorscale": [
             [
              0,
              "rgb(20,44,66)"
             ],
             [
              1,
              "rgb(90,179,244)"
             ]
            ],
            "type": "histogram2d"
           }
          ],
          "histogram2dcontour": [
           {
            "colorbar": {
             "outlinewidth": 0,
             "tickcolor": "rgb(237,237,237)",
             "ticklen": 6,
             "ticks": "inside"
            },
            "colorscale": [
             [
              0,
              "rgb(20,44,66)"
             ],
             [
              1,
              "rgb(90,179,244)"
             ]
            ],
            "type": "histogram2dcontour"
           }
          ],
          "mesh3d": [
           {
            "colorbar": {
             "outlinewidth": 0,
             "tickcolor": "rgb(237,237,237)",
             "ticklen": 6,
             "ticks": "inside"
            },
            "type": "mesh3d"
           }
          ],
          "parcoords": [
           {
            "line": {
             "colorbar": {
              "outlinewidth": 0,
              "tickcolor": "rgb(237,237,237)",
              "ticklen": 6,
              "ticks": "inside"
             }
            },
            "type": "parcoords"
           }
          ],
          "pie": [
           {
            "automargin": true,
            "type": "pie"
           }
          ],
          "scatter": [
           {
            "marker": {
             "colorbar": {
              "outlinewidth": 0,
              "tickcolor": "rgb(237,237,237)",
              "ticklen": 6,
              "ticks": "inside"
             }
            },
            "type": "scatter"
           }
          ],
          "scatter3d": [
           {
            "line": {
             "colorbar": {
              "outlinewidth": 0,
              "tickcolor": "rgb(237,237,237)",
              "ticklen": 6,
              "ticks": "inside"
             }
            },
            "marker": {
             "colorbar": {
              "outlinewidth": 0,
              "tickcolor": "rgb(237,237,237)",
              "ticklen": 6,
              "ticks": "inside"
             }
            },
            "type": "scatter3d"
           }
          ],
          "scattercarpet": [
           {
            "marker": {
             "colorbar": {
              "outlinewidth": 0,
              "tickcolor": "rgb(237,237,237)",
              "ticklen": 6,
              "ticks": "inside"
             }
            },
            "type": "scattercarpet"
           }
          ],
          "scattergeo": [
           {
            "marker": {
             "colorbar": {
              "outlinewidth": 0,
              "tickcolor": "rgb(237,237,237)",
              "ticklen": 6,
              "ticks": "inside"
             }
            },
            "type": "scattergeo"
           }
          ],
          "scattergl": [
           {
            "marker": {
             "colorbar": {
              "outlinewidth": 0,
              "tickcolor": "rgb(237,237,237)",
              "ticklen": 6,
              "ticks": "inside"
             }
            },
            "type": "scattergl"
           }
          ],
          "scattermapbox": [
           {
            "marker": {
             "colorbar": {
              "outlinewidth": 0,
              "tickcolor": "rgb(237,237,237)",
              "ticklen": 6,
              "ticks": "inside"
             }
            },
            "type": "scattermapbox"
           }
          ],
          "scatterpolar": [
           {
            "marker": {
             "colorbar": {
              "outlinewidth": 0,
              "tickcolor": "rgb(237,237,237)",
              "ticklen": 6,
              "ticks": "inside"
             }
            },
            "type": "scatterpolar"
           }
          ],
          "scatterpolargl": [
           {
            "marker": {
             "colorbar": {
              "outlinewidth": 0,
              "tickcolor": "rgb(237,237,237)",
              "ticklen": 6,
              "ticks": "inside"
             }
            },
            "type": "scatterpolargl"
           }
          ],
          "scatterternary": [
           {
            "marker": {
             "colorbar": {
              "outlinewidth": 0,
              "tickcolor": "rgb(237,237,237)",
              "ticklen": 6,
              "ticks": "inside"
             }
            },
            "type": "scatterternary"
           }
          ],
          "surface": [
           {
            "colorbar": {
             "outlinewidth": 0,
             "tickcolor": "rgb(237,237,237)",
             "ticklen": 6,
             "ticks": "inside"
            },
            "colorscale": [
             [
              0,
              "rgb(20,44,66)"
             ],
             [
              1,
              "rgb(90,179,244)"
             ]
            ],
            "type": "surface"
           }
          ],
          "table": [
           {
            "cells": {
             "fill": {
              "color": "rgb(237,237,237)"
             },
             "line": {
              "color": "white"
             }
            },
            "header": {
             "fill": {
              "color": "rgb(217,217,217)"
             },
             "line": {
              "color": "white"
             }
            },
            "type": "table"
           }
          ]
         },
         "layout": {
          "annotationdefaults": {
           "arrowhead": 0,
           "arrowwidth": 1
          },
          "coloraxis": {
           "colorbar": {
            "outlinewidth": 0,
            "tickcolor": "rgb(237,237,237)",
            "ticklen": 6,
            "ticks": "inside"
           }
          },
          "colorscale": {
           "sequential": [
            [
             0,
             "rgb(20,44,66)"
            ],
            [
             1,
             "rgb(90,179,244)"
            ]
           ],
           "sequentialminus": [
            [
             0,
             "rgb(20,44,66)"
            ],
            [
             1,
             "rgb(90,179,244)"
            ]
           ]
          },
          "colorway": [
           "#F8766D",
           "#A3A500",
           "#00BF7D",
           "#00B0F6",
           "#E76BF3"
          ],
          "font": {
           "color": "rgb(51,51,51)"
          },
          "geo": {
           "bgcolor": "white",
           "lakecolor": "white",
           "landcolor": "rgb(237,237,237)",
           "showlakes": true,
           "showland": true,
           "subunitcolor": "white"
          },
          "hoverlabel": {
           "align": "left"
          },
          "hovermode": "closest",
          "paper_bgcolor": "white",
          "plot_bgcolor": "rgb(237,237,237)",
          "polar": {
           "angularaxis": {
            "gridcolor": "white",
            "linecolor": "white",
            "showgrid": true,
            "tickcolor": "rgb(51,51,51)",
            "ticks": "outside"
           },
           "bgcolor": "rgb(237,237,237)",
           "radialaxis": {
            "gridcolor": "white",
            "linecolor": "white",
            "showgrid": true,
            "tickcolor": "rgb(51,51,51)",
            "ticks": "outside"
           }
          },
          "scene": {
           "xaxis": {
            "backgroundcolor": "rgb(237,237,237)",
            "gridcolor": "white",
            "gridwidth": 2,
            "linecolor": "white",
            "showbackground": true,
            "showgrid": true,
            "tickcolor": "rgb(51,51,51)",
            "ticks": "outside",
            "zerolinecolor": "white"
           },
           "yaxis": {
            "backgroundcolor": "rgb(237,237,237)",
            "gridcolor": "white",
            "gridwidth": 2,
            "linecolor": "white",
            "showbackground": true,
            "showgrid": true,
            "tickcolor": "rgb(51,51,51)",
            "ticks": "outside",
            "zerolinecolor": "white"
           },
           "zaxis": {
            "backgroundcolor": "rgb(237,237,237)",
            "gridcolor": "white",
            "gridwidth": 2,
            "linecolor": "white",
            "showbackground": true,
            "showgrid": true,
            "tickcolor": "rgb(51,51,51)",
            "ticks": "outside",
            "zerolinecolor": "white"
           }
          },
          "shapedefaults": {
           "fillcolor": "black",
           "line": {
            "width": 0
           },
           "opacity": 0.3
          },
          "ternary": {
           "aaxis": {
            "gridcolor": "white",
            "linecolor": "white",
            "showgrid": true,
            "tickcolor": "rgb(51,51,51)",
            "ticks": "outside"
           },
           "baxis": {
            "gridcolor": "white",
            "linecolor": "white",
            "showgrid": true,
            "tickcolor": "rgb(51,51,51)",
            "ticks": "outside"
           },
           "bgcolor": "rgb(237,237,237)",
           "caxis": {
            "gridcolor": "white",
            "linecolor": "white",
            "showgrid": true,
            "tickcolor": "rgb(51,51,51)",
            "ticks": "outside"
           }
          },
          "xaxis": {
           "automargin": true,
           "gridcolor": "white",
           "linecolor": "white",
           "showgrid": true,
           "tickcolor": "rgb(51,51,51)",
           "ticks": "outside",
           "title": {
            "standoff": 15
           },
           "zerolinecolor": "white"
          },
          "yaxis": {
           "automargin": true,
           "gridcolor": "white",
           "linecolor": "white",
           "showgrid": true,
           "tickcolor": "rgb(51,51,51)",
           "ticks": "outside",
           "title": {
            "standoff": 15
           },
           "zerolinecolor": "white"
          }
         }
        },
        "title": {
         "text": "Confirmed Cases in Select States"
        },
        "xaxis": {
         "anchor": "y",
         "domain": [
          0,
          1
         ],
         "title": {
          "text": "Date"
         }
        },
        "yaxis": {
         "anchor": "x",
         "domain": [
          0,
          1
         ],
         "title": {
          "text": "Confirmed"
         },
         "type": "log"
        }
       }
      },
      "text/html": [
       "<div>\n",
       "        \n",
       "        \n",
       "            <div id=\"f5888436-73ab-47d3-ac3d-e50ba312b4e3\" class=\"plotly-graph-div\" style=\"height:525px; width:100%;\"></div>\n",
       "            <script type=\"text/javascript\">\n",
       "                require([\"plotly\"], function(Plotly) {\n",
       "                    window.PLOTLYENV=window.PLOTLYENV || {};\n",
       "                    \n",
       "                if (document.getElementById(\"f5888436-73ab-47d3-ac3d-e50ba312b4e3\")) {\n",
       "                    Plotly.newPlot(\n",
       "                        'f5888436-73ab-47d3-ac3d-e50ba312b4e3',\n",
       "                        [{\"customdata\": [[5.0, 11.0, 6.0], [4.0, 15.0, 7.0], [8.0, 23.0, 8.0], [6.0, 29.0, 9.0], [21.0, 50.0, 10.0], [25.0, 75.0, 11.0], [23.0, 98.0, 12.0], [78.0, 176.0, 13.0], [92.0, 268.0, 14.0], [159.0, 427.0, 15.0], [308.0, 735.0, 16.0], [161.0, 896.0, 17.0], [440.0, 1336.0, 18.0], [578.0, 1914.0, 19.0], [930.0, 2844.0, 20.0], [831.0, 3675.0, 21.0], [727.0, 4402.0, 22.0], [2474.0, 6876.0, 23.0], [1949.0, 8825.0, 24.0], [2299.0, 11124.0, 25.0], [2262.0, 13386.0, 26.0], [3250.0, 16636.0, 27.0], [2060.0, 18696.0, 28.0], [3559.0, 22255.0, 29.0], [3335.0, 25590.0, 30.0], [4305.0, 29895.0, 31.0], [4229.0, 34124.0, 32.0], [3381.0, 37505.0, 33.0], [3585.0, 41090.0, 34.0], [3326.0, 44416.0, 35.0], [3021.0, 47437.0, 36.0]], \"hovertemplate\": \"<b>%{hovertext}</b><br><br>State=New Jersey<br>Date=%{x}<br>Confirmed=%{customdata[1]}<br>NewConfirmed=%{customdata[0]}<br>DaysElapsed=%{customdata[2]}<extra></extra>\", \"hovertext\": [\"2020-03-09\", \"2020-03-10\", \"2020-03-11\", \"2020-03-12\", \"2020-03-13\", \"2020-03-14\", \"2020-03-15\", \"2020-03-16\", \"2020-03-17\", \"2020-03-18\", \"2020-03-19\", \"2020-03-20\", \"2020-03-21\", \"2020-03-22\", \"2020-03-23\", \"2020-03-24\", \"2020-03-25\", \"2020-03-26\", \"2020-03-27\", \"2020-03-28\", \"2020-03-29\", \"2020-03-30\", \"2020-03-31\", \"2020-04-01\", \"2020-04-02\", \"2020-04-03\", \"2020-04-04\", \"2020-04-05\", \"2020-04-06\", \"2020-04-07\", \"2020-04-08\"], \"legendgroup\": \"New Jersey\", \"marker\": {\"color\": \"#4C78A8\", \"symbol\": \"circle\"}, \"mode\": \"markers\", \"name\": \"New Jersey\", \"showlegend\": true, \"type\": \"scatter\", \"x\": [\"2020-03-09\", \"2020-03-10\", \"2020-03-11\", \"2020-03-12\", \"2020-03-13\", \"2020-03-14\", \"2020-03-15\", \"2020-03-16\", \"2020-03-17\", \"2020-03-18\", \"2020-03-19\", \"2020-03-20\", \"2020-03-21\", \"2020-03-22\", \"2020-03-23\", \"2020-03-24\", \"2020-03-25\", \"2020-03-26\", \"2020-03-27\", \"2020-03-28\", \"2020-03-29\", \"2020-03-30\", \"2020-03-31\", \"2020-04-01\", \"2020-04-02\", \"2020-04-03\", \"2020-04-04\", \"2020-04-05\", \"2020-04-06\", \"2020-04-07\", \"2020-04-08\"], \"xaxis\": \"x\", \"y\": [11, 15, 23, 29, 50, 75, 98, 176, 268, 427, 735, 896, 1336, 1914, 2844, 3675, 4402, 6876, 8825, 11124, 13386, 16636, 18696, 22255, 25590, 29895, 34124, 37505, 41090, 44416, 47437], \"yaxis\": \"y\"}, {\"customdata\": [[9.0, 11.0, 4.0], [11.0, 22.0, 5.0], [22.0, 44.0, 6.0], [45.0, 89.0, 7.0], [17.0, 106.0, 8.0], [36.0, 142.0, 9.0], [31.0, 173.0, 10.0], [44.0, 217.0, 11.0], [109.0, 326.0, 12.0], [95.0, 421.0, 13.0], [189.0, 610.0, 14.0], [122.0, 732.0, 15.0], [218.0, 950.0, 16.0], [424.0, 1374.0, 17.0], [1008.0, 2382.0, 18.0], [1770.0, 4152.0, 19.0], [2950.0, 7102.0, 20.0], [3254.0, 10356.0, 21.0], [4812.0, 15168.0, 22.0], [5707.0, 20875.0, 23.0], [4790.0, 25665.0, 24.0], [7401.0, 33066.0, 25.0], [5921.0, 38987.0, 26.0], [5648.0, 44635.0, 27.0], [8728.0, 53363.0, 28.0], [6205.0, 59568.0, 29.0], [7606.0, 67174.0, 30.0], [8658.0, 75832.0, 31.0], [8057.0, 83889.0, 32.0], [8881.0, 92770.0, 33.0], [10100.0, 102870.0, 34.0], [12126.0, 114996.0, 35.0], [7915.0, 122911.0, 36.0], [7792.0, 130703.0, 37.0], [9378.0, 140081.0, 38.0], [9320.0, 149401.0, 39.0]], \"hovertemplate\": \"<b>%{hovertext}</b><br><br>State=New York<br>Date=%{x}<br>Confirmed=%{customdata[1]}<br>NewConfirmed=%{customdata[0]}<br>DaysElapsed=%{customdata[2]}<extra></extra>\", \"hovertext\": [\"2020-03-04\", \"2020-03-05\", \"2020-03-06\", \"2020-03-07\", \"2020-03-08\", \"2020-03-09\", \"2020-03-10\", \"2020-03-11\", \"2020-03-12\", \"2020-03-13\", \"2020-03-14\", \"2020-03-15\", \"2020-03-16\", \"2020-03-17\", \"2020-03-18\", \"2020-03-19\", \"2020-03-20\", \"2020-03-21\", \"2020-03-22\", \"2020-03-23\", \"2020-03-24\", \"2020-03-25\", \"2020-03-26\", \"2020-03-27\", \"2020-03-28\", \"2020-03-29\", \"2020-03-30\", \"2020-03-31\", \"2020-04-01\", \"2020-04-02\", \"2020-04-03\", \"2020-04-04\", \"2020-04-05\", \"2020-04-06\", \"2020-04-07\", \"2020-04-08\"], \"legendgroup\": \"New York\", \"marker\": {\"color\": \"#F58518\", \"symbol\": \"circle\"}, \"mode\": \"markers\", \"name\": \"New York\", \"showlegend\": true, \"type\": \"scatter\", \"x\": [\"2020-03-04\", \"2020-03-05\", \"2020-03-06\", \"2020-03-07\", \"2020-03-08\", \"2020-03-09\", \"2020-03-10\", \"2020-03-11\", \"2020-03-12\", \"2020-03-13\", \"2020-03-14\", \"2020-03-15\", \"2020-03-16\", \"2020-03-17\", \"2020-03-18\", \"2020-03-19\", \"2020-03-20\", \"2020-03-21\", \"2020-03-22\", \"2020-03-23\", \"2020-03-24\", \"2020-03-25\", \"2020-03-26\", \"2020-03-27\", \"2020-03-28\", \"2020-03-29\", \"2020-03-30\", \"2020-03-31\", \"2020-04-01\", \"2020-04-02\", \"2020-04-03\", \"2020-04-04\", \"2020-04-05\", \"2020-04-06\", \"2020-04-07\", \"2020-04-08\"], \"xaxis\": \"x\", \"y\": [11, 22, 44, 89, 106, 142, 173, 217, 326, 421, 610, 732, 950, 1374, 2382, 4152, 7102, 10356, 15168, 20875, 25665, 33066, 38987, 44635, 53363, 59568, 67174, 75832, 83889, 92770, 102870, 114996, 122911, 130703, 140081, 149401], \"yaxis\": \"y\"}, {\"customdata\": [[7.0, 17.0, 6.0], [13.0, 30.0, 7.0], [12.0, 42.0, 8.0], [3.0, 45.0, 9.0], [6.0, 51.0, 10.0], [16.0, 67.0, 11.0], [11.0, 78.0, 12.0], [16.0, 94.0, 13.0], [21.0, 115.0, 14.0], [37.0, 152.0, 15.0], [67.0, 219.0, 16.0], [35.0, 254.0, 17.0], [36.0, 290.0, 18.0], [101.0, 391.0, 19.0], [213.0, 604.0, 20.0], [2.0, 606.0, 21.0], [134.0, 740.0, 22.0], [150.0, 890.0, 23.0], [131.0, 1021.0, 24.0], [229.0, 1250.0, 25.0], [261.0, 1511.0, 26.0], [195.0, 1706.0, 27.0], [306.0, 2012.0, 28.0], [395.0, 2407.0, 29.0], [230.0, 2637.0, 30.0], [241.0, 2878.0, 31.0], [455.0, 3333.0, 32.0], [312.0, 3645.0, 33.0]], \"hovertemplate\": \"<b>%{hovertext}</b><br><br>State=Virginia<br>Date=%{x}<br>Confirmed=%{customdata[1]}<br>NewConfirmed=%{customdata[0]}<br>DaysElapsed=%{customdata[2]}<extra></extra>\", \"hovertext\": [\"2020-03-12\", \"2020-03-13\", \"2020-03-14\", \"2020-03-15\", \"2020-03-16\", \"2020-03-17\", \"2020-03-18\", \"2020-03-19\", \"2020-03-20\", \"2020-03-21\", \"2020-03-22\", \"2020-03-23\", \"2020-03-24\", \"2020-03-25\", \"2020-03-26\", \"2020-03-27\", \"2020-03-28\", \"2020-03-29\", \"2020-03-30\", \"2020-03-31\", \"2020-04-01\", \"2020-04-02\", \"2020-04-03\", \"2020-04-04\", \"2020-04-05\", \"2020-04-06\", \"2020-04-07\", \"2020-04-08\"], \"legendgroup\": \"Virginia\", \"marker\": {\"color\": \"#E45756\", \"symbol\": \"circle\"}, \"mode\": \"markers\", \"name\": \"Virginia\", \"showlegend\": true, \"type\": \"scatter\", \"x\": [\"2020-03-12\", \"2020-03-13\", \"2020-03-14\", \"2020-03-15\", \"2020-03-16\", \"2020-03-17\", \"2020-03-18\", \"2020-03-19\", \"2020-03-20\", \"2020-03-21\", \"2020-03-22\", \"2020-03-23\", \"2020-03-24\", \"2020-03-25\", \"2020-03-26\", \"2020-03-27\", \"2020-03-28\", \"2020-03-29\", \"2020-03-30\", \"2020-03-31\", \"2020-04-01\", \"2020-04-02\", \"2020-04-03\", \"2020-04-04\", \"2020-04-05\", \"2020-04-06\", \"2020-04-07\", \"2020-04-08\"], \"xaxis\": \"x\", \"y\": [17, 30, 42, 45, 51, 67, 78, 94, 115, 152, 219, 254, 290, 391, 604, 606, 740, 890, 1021, 1250, 1511, 1706, 2012, 2407, 2637, 2878, 3333, 3645], \"yaxis\": \"y\"}, {\"customdata\": [[7.0, 17.0, 41.0], [6.0, 23.0, 42.0], [9.0, 32.0, 43.0], [15.0, 47.0, 44.0], [28.0, 75.0, 45.0], [11.0, 86.0, 46.0], [24.0, 110.0, 47.0], [31.0, 141.0, 48.0], [38.0, 179.0, 49.0], [100.0, 279.0, 50.0], [59.0, 338.0, 51.0], [81.0, 419.0, 52.0], [92.0, 511.0, 53.0], [98.0, 609.0, 54.0], [66.0, 675.0, 55.0], [119.0, 794.0, 56.0], [114.0, 908.0, 57.0], [118.0, 1026.0, 58.0], [202.0, 1228.0, 59.0], [176.0, 1404.0, 60.0], [251.0, 1655.0, 61.0], [189.0, 1844.0, 62.0], [257.0, 2101.0, 63.0], [368.0, 2469.0, 64.0], [116.0, 2585.0, 65.0], [623.0, 3208.0, 66.0], [562.0, 3770.0, 67.0], [541.0, 4311.0, 68.0], [585.0, 4896.0, 69.0], [283.0, 5179.0, 70.0], [113.0, 5292.0, 71.0], [296.0, 5588.0, 72.0], [997.0, 6585.0, 73.0], [381.0, 6966.0, 74.0], [532.0, 7498.0, 75.0], [486.0, 7984.0, 76.0], [400.0, 8384.0, 77.0], [298.0, 8682.0, 78.0], [415.0, 9097.0, 79.0]], \"hovertemplate\": \"<b>%{hovertext}</b><br><br>State=Washington<br>Date=%{x}<br>Confirmed=%{customdata[1]}<br>NewConfirmed=%{customdata[0]}<br>DaysElapsed=%{customdata[2]}<extra></extra>\", \"hovertext\": [\"2020-03-01\", \"2020-03-02\", \"2020-03-03\", \"2020-03-04\", \"2020-03-05\", \"2020-03-06\", \"2020-03-07\", \"2020-03-08\", \"2020-03-09\", \"2020-03-10\", \"2020-03-11\", \"2020-03-12\", \"2020-03-13\", \"2020-03-14\", \"2020-03-15\", \"2020-03-16\", \"2020-03-17\", \"2020-03-18\", \"2020-03-19\", \"2020-03-20\", \"2020-03-21\", \"2020-03-22\", \"2020-03-23\", \"2020-03-24\", \"2020-03-25\", \"2020-03-26\", \"2020-03-27\", \"2020-03-28\", \"2020-03-29\", \"2020-03-30\", \"2020-03-31\", \"2020-04-01\", \"2020-04-02\", \"2020-04-03\", \"2020-04-04\", \"2020-04-05\", \"2020-04-06\", \"2020-04-07\", \"2020-04-08\"], \"legendgroup\": \"Washington\", \"marker\": {\"color\": \"#72B7B2\", \"symbol\": \"circle\"}, \"mode\": \"markers\", \"name\": \"Washington\", \"showlegend\": true, \"type\": \"scatter\", \"x\": [\"2020-03-01\", \"2020-03-02\", \"2020-03-03\", \"2020-03-04\", \"2020-03-05\", \"2020-03-06\", \"2020-03-07\", \"2020-03-08\", \"2020-03-09\", \"2020-03-10\", \"2020-03-11\", \"2020-03-12\", \"2020-03-13\", \"2020-03-14\", \"2020-03-15\", \"2020-03-16\", \"2020-03-17\", \"2020-03-18\", \"2020-03-19\", \"2020-03-20\", \"2020-03-21\", \"2020-03-22\", \"2020-03-23\", \"2020-03-24\", \"2020-03-25\", \"2020-03-26\", \"2020-03-27\", \"2020-03-28\", \"2020-03-29\", \"2020-03-30\", \"2020-03-31\", \"2020-04-01\", \"2020-04-02\", \"2020-04-03\", \"2020-04-04\", \"2020-04-05\", \"2020-04-06\", \"2020-04-07\", \"2020-04-08\"], \"xaxis\": \"x\", \"y\": [17, 23, 32, 47, 75, 86, 110, 141, 179, 279, 338, 419, 511, 609, 675, 794, 908, 1026, 1228, 1404, 1655, 1844, 2101, 2469, 2585, 3208, 3770, 4311, 4896, 5179, 5292, 5588, 6585, 6966, 7498, 7984, 8384, 8682, 9097], \"yaxis\": \"y\"}],\n",
       "                        {\"legend\": {\"title\": {\"text\": \"State\"}, \"tracegroupgap\": 0}, \"shapes\": [{\"line\": {\"color\": \"#4C78A8\", \"dash\": \"solid\", \"width\": 3}, \"type\": \"line\", \"x0\": \"2020-03-22\", \"x1\": \"2020-03-22\", \"xref\": \"x\", \"y0\": 1, \"y1\": 10000, \"yref\": \"y\"}, {\"line\": {\"color\": \"#F58518\", \"dash\": \"solid\", \"width\": 3}, \"type\": \"line\", \"x0\": \"2020-03-23\", \"x1\": \"2020-03-23\", \"xref\": \"x\", \"y0\": 1, \"y1\": 10000, \"yref\": \"y\"}, {\"line\": {\"color\": \"#E45756\", \"dash\": \"solid\", \"width\": 3}, \"type\": \"line\", \"x0\": \"2020-03-30\", \"x1\": \"2020-03-30\", \"xref\": \"x\", \"y0\": 1, \"y1\": 10000, \"yref\": \"y\"}, {\"line\": {\"color\": \"#72B7B2\", \"dash\": \"solid\", \"width\": 3}, \"type\": \"line\", \"x0\": \"2020-03-23\", \"x1\": \"2020-03-23\", \"xref\": \"x\", \"y0\": 1, \"y1\": 10000, \"yref\": \"y\"}], \"template\": {\"data\": {\"bar\": [{\"error_x\": {\"color\": \"rgb(51,51,51)\"}, \"error_y\": {\"color\": \"rgb(51,51,51)\"}, \"marker\": {\"line\": {\"color\": \"rgb(237,237,237)\", \"width\": 0.5}}, \"type\": \"bar\"}], \"barpolar\": [{\"marker\": {\"line\": {\"color\": \"rgb(237,237,237)\", \"width\": 0.5}}, \"type\": \"barpolar\"}], \"carpet\": [{\"aaxis\": {\"endlinecolor\": \"rgb(51,51,51)\", \"gridcolor\": \"white\", \"linecolor\": \"white\", \"minorgridcolor\": \"white\", \"startlinecolor\": \"rgb(51,51,51)\"}, \"baxis\": {\"endlinecolor\": \"rgb(51,51,51)\", \"gridcolor\": \"white\", \"linecolor\": \"white\", \"minorgridcolor\": \"white\", \"startlinecolor\": \"rgb(51,51,51)\"}, \"type\": \"carpet\"}], \"choropleth\": [{\"colorbar\": {\"outlinewidth\": 0, \"tickcolor\": \"rgb(237,237,237)\", \"ticklen\": 6, \"ticks\": \"inside\"}, \"type\": \"choropleth\"}], \"contour\": [{\"colorbar\": {\"outlinewidth\": 0, \"tickcolor\": \"rgb(237,237,237)\", \"ticklen\": 6, \"ticks\": \"inside\"}, \"colorscale\": [[0, \"rgb(20,44,66)\"], [1, \"rgb(90,179,244)\"]], \"type\": \"contour\"}], \"contourcarpet\": [{\"colorbar\": {\"outlinewidth\": 0, \"tickcolor\": \"rgb(237,237,237)\", \"ticklen\": 6, \"ticks\": \"inside\"}, \"type\": \"contourcarpet\"}], \"heatmap\": [{\"colorbar\": {\"outlinewidth\": 0, \"tickcolor\": \"rgb(237,237,237)\", \"ticklen\": 6, \"ticks\": \"inside\"}, \"colorscale\": [[0, \"rgb(20,44,66)\"], [1, \"rgb(90,179,244)\"]], \"type\": \"heatmap\"}], \"heatmapgl\": [{\"colorbar\": {\"outlinewidth\": 0, \"tickcolor\": \"rgb(237,237,237)\", \"ticklen\": 6, \"ticks\": \"inside\"}, \"colorscale\": [[0, \"rgb(20,44,66)\"], [1, \"rgb(90,179,244)\"]], \"type\": \"heatmapgl\"}], \"histogram\": [{\"marker\": {\"colorbar\": {\"outlinewidth\": 0, \"tickcolor\": \"rgb(237,237,237)\", \"ticklen\": 6, \"ticks\": \"inside\"}}, \"type\": \"histogram\"}], \"histogram2d\": [{\"colorbar\": {\"outlinewidth\": 0, \"tickcolor\": \"rgb(237,237,237)\", \"ticklen\": 6, \"ticks\": \"inside\"}, \"colorscale\": [[0, \"rgb(20,44,66)\"], [1, \"rgb(90,179,244)\"]], \"type\": \"histogram2d\"}], \"histogram2dcontour\": [{\"colorbar\": {\"outlinewidth\": 0, \"tickcolor\": \"rgb(237,237,237)\", \"ticklen\": 6, \"ticks\": \"inside\"}, \"colorscale\": [[0, \"rgb(20,44,66)\"], [1, \"rgb(90,179,244)\"]], \"type\": \"histogram2dcontour\"}], \"mesh3d\": [{\"colorbar\": {\"outlinewidth\": 0, \"tickcolor\": \"rgb(237,237,237)\", \"ticklen\": 6, \"ticks\": \"inside\"}, \"type\": \"mesh3d\"}], \"parcoords\": [{\"line\": {\"colorbar\": {\"outlinewidth\": 0, \"tickcolor\": \"rgb(237,237,237)\", \"ticklen\": 6, \"ticks\": \"inside\"}}, \"type\": \"parcoords\"}], \"pie\": [{\"automargin\": true, \"type\": \"pie\"}], \"scatter\": [{\"marker\": {\"colorbar\": {\"outlinewidth\": 0, \"tickcolor\": \"rgb(237,237,237)\", \"ticklen\": 6, \"ticks\": \"inside\"}}, \"type\": \"scatter\"}], \"scatter3d\": [{\"line\": {\"colorbar\": {\"outlinewidth\": 0, \"tickcolor\": \"rgb(237,237,237)\", \"ticklen\": 6, \"ticks\": \"inside\"}}, \"marker\": {\"colorbar\": {\"outlinewidth\": 0, \"tickcolor\": \"rgb(237,237,237)\", \"ticklen\": 6, \"ticks\": \"inside\"}}, \"type\": \"scatter3d\"}], \"scattercarpet\": [{\"marker\": {\"colorbar\": {\"outlinewidth\": 0, \"tickcolor\": \"rgb(237,237,237)\", \"ticklen\": 6, \"ticks\": \"inside\"}}, \"type\": \"scattercarpet\"}], \"scattergeo\": [{\"marker\": {\"colorbar\": {\"outlinewidth\": 0, \"tickcolor\": \"rgb(237,237,237)\", \"ticklen\": 6, \"ticks\": \"inside\"}}, \"type\": \"scattergeo\"}], \"scattergl\": [{\"marker\": {\"colorbar\": {\"outlinewidth\": 0, \"tickcolor\": \"rgb(237,237,237)\", \"ticklen\": 6, \"ticks\": \"inside\"}}, \"type\": \"scattergl\"}], \"scattermapbox\": [{\"marker\": {\"colorbar\": {\"outlinewidth\": 0, \"tickcolor\": \"rgb(237,237,237)\", \"ticklen\": 6, \"ticks\": \"inside\"}}, \"type\": \"scattermapbox\"}], \"scatterpolar\": [{\"marker\": {\"colorbar\": {\"outlinewidth\": 0, \"tickcolor\": \"rgb(237,237,237)\", \"ticklen\": 6, \"ticks\": \"inside\"}}, \"type\": \"scatterpolar\"}], \"scatterpolargl\": [{\"marker\": {\"colorbar\": {\"outlinewidth\": 0, \"tickcolor\": \"rgb(237,237,237)\", \"ticklen\": 6, \"ticks\": \"inside\"}}, \"type\": \"scatterpolargl\"}], \"scatterternary\": [{\"marker\": {\"colorbar\": {\"outlinewidth\": 0, \"tickcolor\": \"rgb(237,237,237)\", \"ticklen\": 6, \"ticks\": \"inside\"}}, \"type\": \"scatterternary\"}], \"surface\": [{\"colorbar\": {\"outlinewidth\": 0, \"tickcolor\": \"rgb(237,237,237)\", \"ticklen\": 6, \"ticks\": \"inside\"}, \"colorscale\": [[0, \"rgb(20,44,66)\"], [1, \"rgb(90,179,244)\"]], \"type\": \"surface\"}], \"table\": [{\"cells\": {\"fill\": {\"color\": \"rgb(237,237,237)\"}, \"line\": {\"color\": \"white\"}}, \"header\": {\"fill\": {\"color\": \"rgb(217,217,217)\"}, \"line\": {\"color\": \"white\"}}, \"type\": \"table\"}]}, \"layout\": {\"annotationdefaults\": {\"arrowhead\": 0, \"arrowwidth\": 1}, \"coloraxis\": {\"colorbar\": {\"outlinewidth\": 0, \"tickcolor\": \"rgb(237,237,237)\", \"ticklen\": 6, \"ticks\": \"inside\"}}, \"colorscale\": {\"sequential\": [[0, \"rgb(20,44,66)\"], [1, \"rgb(90,179,244)\"]], \"sequentialminus\": [[0, \"rgb(20,44,66)\"], [1, \"rgb(90,179,244)\"]]}, \"colorway\": [\"#F8766D\", \"#A3A500\", \"#00BF7D\", \"#00B0F6\", \"#E76BF3\"], \"font\": {\"color\": \"rgb(51,51,51)\"}, \"geo\": {\"bgcolor\": \"white\", \"lakecolor\": \"white\", \"landcolor\": \"rgb(237,237,237)\", \"showlakes\": true, \"showland\": true, \"subunitcolor\": \"white\"}, \"hoverlabel\": {\"align\": \"left\"}, \"hovermode\": \"closest\", \"paper_bgcolor\": \"white\", \"plot_bgcolor\": \"rgb(237,237,237)\", \"polar\": {\"angularaxis\": {\"gridcolor\": \"white\", \"linecolor\": \"white\", \"showgrid\": true, \"tickcolor\": \"rgb(51,51,51)\", \"ticks\": \"outside\"}, \"bgcolor\": \"rgb(237,237,237)\", \"radialaxis\": {\"gridcolor\": \"white\", \"linecolor\": \"white\", \"showgrid\": true, \"tickcolor\": \"rgb(51,51,51)\", \"ticks\": \"outside\"}}, \"scene\": {\"xaxis\": {\"backgroundcolor\": \"rgb(237,237,237)\", \"gridcolor\": \"white\", \"gridwidth\": 2, \"linecolor\": \"white\", \"showbackground\": true, \"showgrid\": true, \"tickcolor\": \"rgb(51,51,51)\", \"ticks\": \"outside\", \"zerolinecolor\": \"white\"}, \"yaxis\": {\"backgroundcolor\": \"rgb(237,237,237)\", \"gridcolor\": \"white\", \"gridwidth\": 2, \"linecolor\": \"white\", \"showbackground\": true, \"showgrid\": true, \"tickcolor\": \"rgb(51,51,51)\", \"ticks\": \"outside\", \"zerolinecolor\": \"white\"}, \"zaxis\": {\"backgroundcolor\": \"rgb(237,237,237)\", \"gridcolor\": \"white\", \"gridwidth\": 2, \"linecolor\": \"white\", \"showbackground\": true, \"showgrid\": true, \"tickcolor\": \"rgb(51,51,51)\", \"ticks\": \"outside\", \"zerolinecolor\": \"white\"}}, \"shapedefaults\": {\"fillcolor\": \"black\", \"line\": {\"width\": 0}, \"opacity\": 0.3}, \"ternary\": {\"aaxis\": {\"gridcolor\": \"white\", \"linecolor\": \"white\", \"showgrid\": true, \"tickcolor\": \"rgb(51,51,51)\", \"ticks\": \"outside\"}, \"baxis\": {\"gridcolor\": \"white\", \"linecolor\": \"white\", \"showgrid\": true, \"tickcolor\": \"rgb(51,51,51)\", \"ticks\": \"outside\"}, \"bgcolor\": \"rgb(237,237,237)\", \"caxis\": {\"gridcolor\": \"white\", \"linecolor\": \"white\", \"showgrid\": true, \"tickcolor\": \"rgb(51,51,51)\", \"ticks\": \"outside\"}}, \"xaxis\": {\"automargin\": true, \"gridcolor\": \"white\", \"linecolor\": \"white\", \"showgrid\": true, \"tickcolor\": \"rgb(51,51,51)\", \"ticks\": \"outside\", \"title\": {\"standoff\": 15}, \"zerolinecolor\": \"white\"}, \"yaxis\": {\"automargin\": true, \"gridcolor\": \"white\", \"linecolor\": \"white\", \"showgrid\": true, \"tickcolor\": \"rgb(51,51,51)\", \"ticks\": \"outside\", \"title\": {\"standoff\": 15}, \"zerolinecolor\": \"white\"}}}, \"title\": {\"text\": \"Confirmed Cases in Select States\"}, \"xaxis\": {\"anchor\": \"y\", \"domain\": [0.0, 1.0], \"title\": {\"text\": \"Date\"}}, \"yaxis\": {\"anchor\": \"x\", \"domain\": [0.0, 1.0], \"title\": {\"text\": \"Confirmed\"}, \"type\": \"log\"}},\n",
       "                        {\"responsive\": true}\n",
       "                    ).then(function(){\n",
       "                            \n",
       "var gd = document.getElementById('f5888436-73ab-47d3-ac3d-e50ba312b4e3');\n",
       "var x = new MutationObserver(function (mutations, observer) {{\n",
       "        var display = window.getComputedStyle(gd).display;\n",
       "        if (!display || display === 'none') {{\n",
       "            console.log([gd, 'removed!']);\n",
       "            Plotly.purge(gd);\n",
       "            observer.disconnect();\n",
       "        }}\n",
       "}});\n",
       "\n",
       "// Listen for the removal of the full notebook cells\n",
       "var notebookContainer = gd.closest('#notebook-container');\n",
       "if (notebookContainer) {{\n",
       "    x.observe(notebookContainer, {childList: true});\n",
       "}}\n",
       "\n",
       "// Listen for the clearing of the current output cell\n",
       "var outputEl = gd.closest('.output');\n",
       "if (outputEl) {{\n",
       "    x.observe(outputEl, {childList: true});\n",
       "}}\n",
       "\n",
       "                        })\n",
       "                };\n",
       "                });\n",
       "            </script>\n",
       "        </div>"
      ]
     },
     "metadata": {},
     "output_type": "display_data"
    }
   ],
   "source": [
    "states = ['New York', 'New Jersey', 'Washington', 'Virginia']\n",
    "fig =px.scatter(data_frame=df_state[df_state.State.isin(states)].loc[df_state.Confirmed > 10], \n",
    "                x='Date', y='Confirmed', color='State',\n",
    "                log_x=False,log_y=True, labels={'y':'Daily New Cases', 'x':'Cumulative Confirmed Cases'},\n",
    "                hover_name='Date', hover_data=['NewConfirmed','Confirmed','DaysElapsed'],\n",
    "                title='Confirmed Cases in Select States', template='ggplot2', \n",
    "                color_discrete_sequence=px.colors.qualitative.T10,\n",
    "               )\n",
    "\n",
    "c = 0\n",
    "for s in sorted(states):\n",
    "    containment_date = containment[containment.State==s].Date.values[0]\n",
    "    fig.add_shape(dict(type=\"line\", \n",
    "                       x0=containment_date, y0=1, x1=containment_date, y1=10000, \n",
    "                       line=dict(color=px.colors.qualitative.T10[c],\n",
    "                                 width=3, dash='solid'\n",
    "                                )))\n",
    "    c += 1\n",
    "    print('{} entered containment on {}'.format(s, containment_date))\n",
    "    \n",
    "fig.update_shapes(dict(xref='x', yref='y'))\n",
    "\n",
    "# fig.show(renderer='svg', width=1100, height=550)"
   ]
  },
  {
   "cell_type": "markdown",
   "metadata": {},
   "source": [
    "## Testing, testing, testing "
   ]
  },
  {
   "cell_type": "markdown",
   "metadata": {},
   "source": [
    "### Tests vs. Cases\n",
    "As seen in the Wall Street Journal: https://www.wsj.com/articles/how-the-cdcs-restrictive-testing-guidelines-hid-the-coronavirus-epidemic-11584882001.\n"
   ]
  },
  {
   "cell_type": "code",
   "execution_count": 20,
   "metadata": {
    "scrolled": true
   },
   "outputs": [
    {
     "data": {
      "text/html": [
       "<div>\n",
       "<style scoped>\n",
       "    .dataframe tbody tr th:only-of-type {\n",
       "        vertical-align: middle;\n",
       "    }\n",
       "\n",
       "    .dataframe tbody tr th {\n",
       "        vertical-align: top;\n",
       "    }\n",
       "\n",
       "    .dataframe thead th {\n",
       "        text-align: right;\n",
       "    }\n",
       "</style>\n",
       "<table border=\"1\" class=\"dataframe\">\n",
       "  <thead>\n",
       "    <tr style=\"text-align: right;\">\n",
       "      <th></th>\n",
       "      <th>State</th>\n",
       "      <th>Date</th>\n",
       "      <th>Positive</th>\n",
       "      <th>Negative</th>\n",
       "      <th>Pending</th>\n",
       "      <th>HospitalizedCurrently</th>\n",
       "      <th>HospitalizedCumulative</th>\n",
       "      <th>InIcuCurrently</th>\n",
       "      <th>InIcuCumulative</th>\n",
       "      <th>OnVentilatorCurrently</th>\n",
       "      <th>OnVentilatorCumulative</th>\n",
       "      <th>Recovered</th>\n",
       "      <th>Death</th>\n",
       "      <th>Hospitalized</th>\n",
       "      <th>Total</th>\n",
       "      <th>TotalTestResults</th>\n",
       "      <th>PosNeg</th>\n",
       "      <th>DeathIncrease</th>\n",
       "      <th>HospitalizedIncrease</th>\n",
       "      <th>NegativeIncrease</th>\n",
       "      <th>PositiveIncrease</th>\n",
       "      <th>TotalTestResultsIncrease</th>\n",
       "    </tr>\n",
       "  </thead>\n",
       "  <tbody>\n",
       "    <tr>\n",
       "      <th>15</th>\n",
       "      <td>ID</td>\n",
       "      <td>2020-04-08</td>\n",
       "      <td>1210.0</td>\n",
       "      <td>10688.0</td>\n",
       "      <td>NaN</td>\n",
       "      <td>NaN</td>\n",
       "      <td>93.0</td>\n",
       "      <td>NaN</td>\n",
       "      <td>24.0</td>\n",
       "      <td>NaN</td>\n",
       "      <td>NaN</td>\n",
       "      <td>NaN</td>\n",
       "      <td>15.0</td>\n",
       "      <td>93.0</td>\n",
       "      <td>11898</td>\n",
       "      <td>11898</td>\n",
       "      <td>11898</td>\n",
       "      <td>2.0</td>\n",
       "      <td>10.0</td>\n",
       "      <td>612.0</td>\n",
       "      <td>40.0</td>\n",
       "      <td>652.0</td>\n",
       "    </tr>\n",
       "    <tr>\n",
       "      <th>22</th>\n",
       "      <td>MD</td>\n",
       "      <td>2020-04-08</td>\n",
       "      <td>5529.0</td>\n",
       "      <td>32933.0</td>\n",
       "      <td>12.0</td>\n",
       "      <td>NaN</td>\n",
       "      <td>1210.0</td>\n",
       "      <td>NaN</td>\n",
       "      <td>NaN</td>\n",
       "      <td>NaN</td>\n",
       "      <td>NaN</td>\n",
       "      <td>365.0</td>\n",
       "      <td>124.0</td>\n",
       "      <td>1210.0</td>\n",
       "      <td>38462</td>\n",
       "      <td>38462</td>\n",
       "      <td>38462</td>\n",
       "      <td>21.0</td>\n",
       "      <td>104.0</td>\n",
       "      <td>5677.0</td>\n",
       "      <td>1158.0</td>\n",
       "      <td>6835.0</td>\n",
       "    </tr>\n",
       "    <tr>\n",
       "      <th>51</th>\n",
       "      <td>VT</td>\n",
       "      <td>2020-04-08</td>\n",
       "      <td>605.0</td>\n",
       "      <td>7144.0</td>\n",
       "      <td>NaN</td>\n",
       "      <td>35.0</td>\n",
       "      <td>50.0</td>\n",
       "      <td>NaN</td>\n",
       "      <td>NaN</td>\n",
       "      <td>NaN</td>\n",
       "      <td>NaN</td>\n",
       "      <td>15.0</td>\n",
       "      <td>23.0</td>\n",
       "      <td>50.0</td>\n",
       "      <td>7749</td>\n",
       "      <td>7749</td>\n",
       "      <td>7749</td>\n",
       "      <td>0.0</td>\n",
       "      <td>5.0</td>\n",
       "      <td>590.0</td>\n",
       "      <td>30.0</td>\n",
       "      <td>620.0</td>\n",
       "    </tr>\n",
       "  </tbody>\n",
       "</table>\n",
       "</div>"
      ],
      "text/plain": [
       "   State        Date  Positive  Negative  Pending  HospitalizedCurrently  \\\n",
       "15    ID  2020-04-08    1210.0   10688.0      NaN                    NaN   \n",
       "22    MD  2020-04-08    5529.0   32933.0     12.0                    NaN   \n",
       "51    VT  2020-04-08     605.0    7144.0      NaN                   35.0   \n",
       "\n",
       "    HospitalizedCumulative  InIcuCurrently  InIcuCumulative  \\\n",
       "15                    93.0             NaN             24.0   \n",
       "22                  1210.0             NaN              NaN   \n",
       "51                    50.0             NaN              NaN   \n",
       "\n",
       "    OnVentilatorCurrently  OnVentilatorCumulative  Recovered  Death  \\\n",
       "15                    NaN                     NaN        NaN   15.0   \n",
       "22                    NaN                     NaN      365.0  124.0   \n",
       "51                    NaN                     NaN       15.0   23.0   \n",
       "\n",
       "    Hospitalized  Total  TotalTestResults  PosNeg  DeathIncrease  \\\n",
       "15          93.0  11898             11898   11898            2.0   \n",
       "22        1210.0  38462             38462   38462           21.0   \n",
       "51          50.0   7749              7749    7749            0.0   \n",
       "\n",
       "    HospitalizedIncrease  NegativeIncrease  PositiveIncrease  \\\n",
       "15                  10.0             612.0              40.0   \n",
       "22                 104.0            5677.0            1158.0   \n",
       "51                   5.0             590.0              30.0   \n",
       "\n",
       "    TotalTestResultsIncrease  \n",
       "15                     652.0  \n",
       "22                    6835.0  \n",
       "51                     620.0  "
      ]
     },
     "execution_count": 20,
     "metadata": {},
     "output_type": "execute_result"
    }
   ],
   "source": [
    "df_testing.sort_values(by='Date').groupby(['State']).agg('last').reset_index().sample(3)"
   ]
  },
  {
   "cell_type": "code",
   "execution_count": 21,
   "metadata": {},
   "outputs": [
    {
     "data": {
      "text/html": [
       "<div>\n",
       "<style scoped>\n",
       "    .dataframe tbody tr th:only-of-type {\n",
       "        vertical-align: middle;\n",
       "    }\n",
       "\n",
       "    .dataframe tbody tr th {\n",
       "        vertical-align: top;\n",
       "    }\n",
       "\n",
       "    .dataframe thead th {\n",
       "        text-align: right;\n",
       "    }\n",
       "</style>\n",
       "<table border=\"1\" class=\"dataframe\">\n",
       "  <thead>\n",
       "    <tr style=\"text-align: right;\">\n",
       "      <th></th>\n",
       "      <th>State</th>\n",
       "      <th>Date</th>\n",
       "      <th>Positive</th>\n",
       "      <th>Negative</th>\n",
       "      <th>Pending</th>\n",
       "      <th>HospitalizedCurrently</th>\n",
       "      <th>HospitalizedCumulative</th>\n",
       "      <th>InIcuCurrently</th>\n",
       "      <th>InIcuCumulative</th>\n",
       "      <th>OnVentilatorCurrently</th>\n",
       "      <th>OnVentilatorCumulative</th>\n",
       "      <th>Recovered</th>\n",
       "      <th>Death</th>\n",
       "      <th>Hospitalized</th>\n",
       "      <th>Total</th>\n",
       "      <th>TotalTestResults</th>\n",
       "      <th>PosNeg</th>\n",
       "      <th>DeathIncrease</th>\n",
       "      <th>HospitalizedIncrease</th>\n",
       "      <th>NegativeIncrease</th>\n",
       "      <th>PositiveIncrease</th>\n",
       "      <th>TotalTestResultsIncrease</th>\n",
       "    </tr>\n",
       "  </thead>\n",
       "  <tbody>\n",
       "    <tr>\n",
       "      <th>1274</th>\n",
       "      <td>NY</td>\n",
       "      <td>2020-04-06</td>\n",
       "      <td>130689.0</td>\n",
       "      <td>190122.0</td>\n",
       "      <td>NaN</td>\n",
       "      <td>16837.0</td>\n",
       "      <td>30203.0</td>\n",
       "      <td>4504.0</td>\n",
       "      <td>NaN</td>\n",
       "      <td>NaN</td>\n",
       "      <td>NaN</td>\n",
       "      <td>13366.0</td>\n",
       "      <td>4758.0</td>\n",
       "      <td>30203.0</td>\n",
       "      <td>320811</td>\n",
       "      <td>320811</td>\n",
       "      <td>320811</td>\n",
       "      <td>599.0</td>\n",
       "      <td>2111.0</td>\n",
       "      <td>9873.0</td>\n",
       "      <td>8658.0</td>\n",
       "      <td>18531.0</td>\n",
       "    </tr>\n",
       "    <tr>\n",
       "      <th>1275</th>\n",
       "      <td>NY</td>\n",
       "      <td>2020-04-07</td>\n",
       "      <td>138863.0</td>\n",
       "      <td>201195.0</td>\n",
       "      <td>NaN</td>\n",
       "      <td>17493.0</td>\n",
       "      <td>32083.0</td>\n",
       "      <td>4593.0</td>\n",
       "      <td>NaN</td>\n",
       "      <td>NaN</td>\n",
       "      <td>NaN</td>\n",
       "      <td>14590.0</td>\n",
       "      <td>5489.0</td>\n",
       "      <td>32083.0</td>\n",
       "      <td>340058</td>\n",
       "      <td>340058</td>\n",
       "      <td>340058</td>\n",
       "      <td>731.0</td>\n",
       "      <td>1880.0</td>\n",
       "      <td>11073.0</td>\n",
       "      <td>8174.0</td>\n",
       "      <td>19247.0</td>\n",
       "    </tr>\n",
       "    <tr>\n",
       "      <th>1276</th>\n",
       "      <td>NY</td>\n",
       "      <td>2020-04-08</td>\n",
       "      <td>149316.0</td>\n",
       "      <td>215837.0</td>\n",
       "      <td>NaN</td>\n",
       "      <td>18079.0</td>\n",
       "      <td>32669.0</td>\n",
       "      <td>4593.0</td>\n",
       "      <td>NaN</td>\n",
       "      <td>NaN</td>\n",
       "      <td>NaN</td>\n",
       "      <td>14590.0</td>\n",
       "      <td>6268.0</td>\n",
       "      <td>32669.0</td>\n",
       "      <td>365153</td>\n",
       "      <td>365153</td>\n",
       "      <td>365153</td>\n",
       "      <td>779.0</td>\n",
       "      <td>586.0</td>\n",
       "      <td>14642.0</td>\n",
       "      <td>10453.0</td>\n",
       "      <td>25095.0</td>\n",
       "    </tr>\n",
       "  </tbody>\n",
       "</table>\n",
       "</div>"
      ],
      "text/plain": [
       "     State        Date  Positive  Negative  Pending  HospitalizedCurrently  \\\n",
       "1274    NY  2020-04-06  130689.0  190122.0      NaN                16837.0   \n",
       "1275    NY  2020-04-07  138863.0  201195.0      NaN                17493.0   \n",
       "1276    NY  2020-04-08  149316.0  215837.0      NaN                18079.0   \n",
       "\n",
       "      HospitalizedCumulative  InIcuCurrently  InIcuCumulative  \\\n",
       "1274                 30203.0          4504.0              NaN   \n",
       "1275                 32083.0          4593.0              NaN   \n",
       "1276                 32669.0          4593.0              NaN   \n",
       "\n",
       "      OnVentilatorCurrently  OnVentilatorCumulative  Recovered   Death  \\\n",
       "1274                    NaN                     NaN    13366.0  4758.0   \n",
       "1275                    NaN                     NaN    14590.0  5489.0   \n",
       "1276                    NaN                     NaN    14590.0  6268.0   \n",
       "\n",
       "      Hospitalized   Total  TotalTestResults  PosNeg  DeathIncrease  \\\n",
       "1274       30203.0  320811            320811  320811          599.0   \n",
       "1275       32083.0  340058            340058  340058          731.0   \n",
       "1276       32669.0  365153            365153  365153          779.0   \n",
       "\n",
       "      HospitalizedIncrease  NegativeIncrease  PositiveIncrease  \\\n",
       "1274                2111.0            9873.0            8658.0   \n",
       "1275                1880.0           11073.0            8174.0   \n",
       "1276                 586.0           14642.0           10453.0   \n",
       "\n",
       "      TotalTestResultsIncrease  \n",
       "1274                   18531.0  \n",
       "1275                   19247.0  \n",
       "1276                   25095.0  "
      ]
     },
     "execution_count": 21,
     "metadata": {},
     "output_type": "execute_result"
    }
   ],
   "source": [
    "df_testing.loc[df_testing.State.isin(['NY'])].tail(3)"
   ]
  },
  {
   "cell_type": "code",
   "execution_count": 52,
   "metadata": {},
   "outputs": [
    {
     "data": {
      "application/vnd.plotly.v1+json": {
       "config": {
        "plotlyServerURL": "https://plot.ly"
       },
       "data": [
        {
         "customdata": [
          [
           1,
           1,
           null,
           "NJ"
          ],
          [
           1,
           1,
           null,
           "NJ"
          ],
          [
           4,
           5,
           null,
           "NJ"
          ],
          [
           6,
           37,
           31,
           "NJ"
          ],
          [
           11,
           60,
           35,
           "NJ"
          ],
          [
           15,
           79,
           44,
           "NJ"
          ],
          [
           24,
           101,
           57,
           "NJ"
          ],
          [
           30,
           124,
           74,
           "NJ"
          ],
          [
           50,
           227,
           97,
           "NJ"
          ],
          [
           50,
           227,
           97,
           "NJ"
          ],
          [
           98,
           252,
           120,
           "NJ"
          ],
          [
           178,
           318,
           120,
           "NJ"
          ],
          [
           267,
           485,
           163,
           "NJ"
          ],
          [
           427,
           638,
           190,
           "NJ"
          ],
          [
           742,
           1026,
           210,
           "NJ"
          ],
          [
           890,
           1240,
           264,
           "NJ"
          ],
          [
           1327,
           1661,
           294,
           "NJ"
          ],
          [
           1914,
           2290,
           327,
           "NJ"
          ],
          [
           2844,
           3297,
           359,
           "NJ"
          ],
          [
           3675,
           12045,
           8325,
           "NJ"
          ],
          [
           4402,
           14854,
           10452,
           "NJ"
          ],
          [
           6876,
           20537,
           13661,
           "NJ"
          ],
          [
           8825,
           25372,
           16547,
           "NJ"
          ],
          [
           11124,
           30510,
           19386,
           "NJ"
          ],
          [
           13386,
           35602,
           22216,
           "NJ"
          ],
          [
           16636,
           41860,
           25224,
           "NJ"
          ],
          [
           18696,
           45773,
           27077,
           "NJ"
          ],
          [
           22255,
           52642,
           30387,
           "NJ"
          ],
          [
           25590,
           59110,
           33520,
           "NJ"
          ],
          [
           29895,
           67503,
           37608,
           "NJ"
          ],
          [
           34124,
           75356,
           41232,
           "NJ"
          ],
          [
           37505,
           82166,
           44661,
           "NJ"
          ],
          [
           41090,
           89032,
           47942,
           "NJ"
          ],
          [
           44416,
           94974,
           50558,
           "NJ"
          ],
          [
           47437,
           100416,
           52979,
           "NJ"
          ]
         ],
         "hovertemplate": "<b>%{hovertext}</b><br><br>State=%{customdata[3]}<br>Total=%{customdata[1]}<br>Positive=%{customdata[0]}<br>Negative=%{customdata[2]}<extra></extra>",
         "hovertext": [
          "2020-03-05",
          "2020-03-06",
          "2020-03-07",
          "2020-03-08",
          "2020-03-09",
          "2020-03-10",
          "2020-03-11",
          "2020-03-12",
          "2020-03-13",
          "2020-03-14",
          "2020-03-15",
          "2020-03-16",
          "2020-03-17",
          "2020-03-18",
          "2020-03-19",
          "2020-03-20",
          "2020-03-21",
          "2020-03-22",
          "2020-03-23",
          "2020-03-24",
          "2020-03-25",
          "2020-03-26",
          "2020-03-27",
          "2020-03-28",
          "2020-03-29",
          "2020-03-30",
          "2020-03-31",
          "2020-04-01",
          "2020-04-02",
          "2020-04-03",
          "2020-04-04",
          "2020-04-05",
          "2020-04-06",
          "2020-04-07",
          "2020-04-08"
         ],
         "legendgroup": "NJ",
         "marker": {
          "color": "#4C78A8",
          "symbol": "circle"
         },
         "mode": "markers",
         "name": "NJ",
         "showlegend": true,
         "type": "scatter",
         "x": [
          1,
          1,
          5,
          37,
          60,
          79,
          101,
          124,
          227,
          227,
          252,
          318,
          485,
          638,
          1026,
          1240,
          1661,
          2290,
          3297,
          12045,
          14854,
          20537,
          25372,
          30510,
          35602,
          41860,
          45773,
          52642,
          59110,
          67503,
          75356,
          82166,
          89032,
          94974,
          100416
         ],
         "xaxis": "x",
         "y": [
          1,
          1,
          4,
          6,
          11,
          15,
          24,
          30,
          50,
          50,
          98,
          178,
          267,
          427,
          742,
          890,
          1327,
          1914,
          2844,
          3675,
          4402,
          6876,
          8825,
          11124,
          13386,
          16636,
          18696,
          22255,
          25590,
          29895,
          34124,
          37505,
          41090,
          44416,
          47437
         ],
         "yaxis": "y"
        },
        {
         "customdata": [
          [
           6,
           78,
           48,
           "NY"
          ],
          [
           22,
           122,
           76,
           "NY"
          ],
          [
           33,
           361,
           92,
           "NY"
          ],
          [
           76,
           404,
           92,
           "NY"
          ],
          [
           105,
           197,
           92,
           "NY"
          ],
          [
           142,
           234,
           92,
           "NY"
          ],
          [
           173,
           265,
           92,
           "NY"
          ],
          [
           216,
           308,
           92,
           "NY"
          ],
          [
           216,
           308,
           92,
           "NY"
          ],
          [
           421,
           3200,
           2779,
           "NY"
          ],
          [
           524,
           3303,
           2779,
           "NY"
          ],
          [
           729,
           5272,
           4543,
           "NY"
          ],
          [
           950,
           5493,
           4543,
           "NY"
          ],
          [
           1700,
           7206,
           5506,
           "NY"
          ],
          [
           2382,
           14597,
           12215,
           "NY"
          ],
          [
           4152,
           22284,
           18132,
           "NY"
          ],
          [
           7102,
           32427,
           25325,
           "NY"
          ],
          [
           10356,
           45437,
           35081,
           "NY"
          ],
          [
           15168,
           61401,
           46233,
           "NY"
          ],
          [
           20875,
           78289,
           57414,
           "NY"
          ],
          [
           25665,
           91270,
           65605,
           "NY"
          ],
          [
           30811,
           103479,
           72668,
           "NY"
          ],
          [
           37258,
           122104,
           84846,
           "NY"
          ],
          [
           44635,
           145753,
           101118,
           "NY"
          ],
          [
           52318,
           155934,
           103616,
           "NY"
          ],
          [
           59513,
           172360,
           112847,
           "NY"
          ],
          [
           66497,
           186468,
           119971,
           "NY"
          ],
          [
           75795,
           205186,
           129391,
           "NY"
          ],
          [
           83712,
           220880,
           137168,
           "NY"
          ],
          [
           92381,
           238965,
           146584,
           "NY"
          ],
          [
           102863,
           260520,
           157657,
           "NY"
          ],
          [
           113704,
           283621,
           169917,
           "NY"
          ],
          [
           122031,
           302280,
           180249,
           "NY"
          ],
          [
           130689,
           320811,
           190122,
           "NY"
          ],
          [
           138863,
           340058,
           201195,
           "NY"
          ],
          [
           149316,
           365153,
           215837,
           "NY"
          ]
         ],
         "hovertemplate": "<b>%{hovertext}</b><br><br>State=%{customdata[3]}<br>Total=%{customdata[1]}<br>Positive=%{customdata[0]}<br>Negative=%{customdata[2]}<extra></extra>",
         "hovertext": [
          "2020-03-04",
          "2020-03-05",
          "2020-03-06",
          "2020-03-07",
          "2020-03-08",
          "2020-03-09",
          "2020-03-10",
          "2020-03-11",
          "2020-03-12",
          "2020-03-13",
          "2020-03-14",
          "2020-03-15",
          "2020-03-16",
          "2020-03-17",
          "2020-03-18",
          "2020-03-19",
          "2020-03-20",
          "2020-03-21",
          "2020-03-22",
          "2020-03-23",
          "2020-03-24",
          "2020-03-25",
          "2020-03-26",
          "2020-03-27",
          "2020-03-28",
          "2020-03-29",
          "2020-03-30",
          "2020-03-31",
          "2020-04-01",
          "2020-04-02",
          "2020-04-03",
          "2020-04-04",
          "2020-04-05",
          "2020-04-06",
          "2020-04-07",
          "2020-04-08"
         ],
         "legendgroup": "NY",
         "marker": {
          "color": "#F58518",
          "symbol": "circle"
         },
         "mode": "markers",
         "name": "NY",
         "showlegend": true,
         "type": "scatter",
         "x": [
          78,
          122,
          361,
          404,
          197,
          234,
          265,
          308,
          308,
          3200,
          3303,
          5272,
          5493,
          7206,
          14597,
          22284,
          32427,
          45437,
          61401,
          78289,
          91270,
          103479,
          122104,
          145753,
          155934,
          172360,
          186468,
          205186,
          220880,
          238965,
          260520,
          283621,
          302280,
          320811,
          340058,
          365153
         ],
         "xaxis": "x",
         "y": [
          6,
          22,
          33,
          76,
          105,
          142,
          173,
          216,
          216,
          421,
          524,
          729,
          950,
          1700,
          2382,
          4152,
          7102,
          10356,
          15168,
          20875,
          25665,
          30811,
          37258,
          44635,
          52318,
          59513,
          66497,
          75795,
          83712,
          92381,
          102863,
          113704,
          122031,
          130689,
          138863,
          149316
         ],
         "yaxis": "y"
        },
        {
         "customdata": [
          [
           0,
           21,
           18,
           "VA"
          ],
          [
           0,
           31,
           21,
           "VA"
          ],
          [
           0,
           38,
           31,
           "VA"
          ],
          [
           2,
           44,
           36,
           "VA"
          ],
          [
           3,
           50,
           38,
           "VA"
          ],
          [
           8,
           61,
           53,
           "VA"
          ],
          [
           9,
           69,
           60,
           "VA"
          ],
          [
           17,
           134,
           117,
           "VA"
          ],
          [
           30,
           147,
           117,
           "VA"
          ],
          [
           30,
           147,
           117,
           "VA"
          ],
          [
           45,
           408,
           363,
           "VA"
          ],
          [
           51,
           489,
           438,
           "VA"
          ],
          [
           67,
           1028,
           961,
           "VA"
          ],
          [
           77,
           1278,
           1201,
           "VA"
          ],
          [
           94,
           1923,
           1829,
           "VA"
          ],
          [
           114,
           2325,
           2211,
           "VA"
          ],
          [
           152,
           2790,
           2638,
           "VA"
          ],
          [
           219,
           3337,
           3118,
           "VA"
          ],
          [
           254,
           3697,
           3443,
           "VA"
          ],
          [
           290,
           4470,
           4180,
           "VA"
          ],
          [
           391,
           5370,
           4979,
           "VA"
          ],
          [
           460,
           6189,
           5729,
           "VA"
          ],
          [
           604,
           7337,
           6733,
           "VA"
          ],
          [
           739,
           9166,
           8427,
           "VA"
          ],
          [
           890,
           10609,
           9719,
           "VA"
          ],
          [
           1020,
           12038,
           11018,
           "VA"
          ],
          [
           1250,
           13401,
           12151,
           "VA"
          ],
          [
           1484,
           15344,
           13860,
           "VA"
          ],
          [
           1706,
           17589,
           15883,
           "VA"
          ],
          [
           2012,
           19005,
           16993,
           "VA"
          ],
          [
           2407,
           21552,
           19145,
           "VA"
          ],
          [
           2637,
           23671,
           21034,
           "VA"
          ],
          [
           2878,
           24521,
           21643,
           "VA"
          ],
          [
           3333,
           28645,
           25312,
           "VA"
          ],
          [
           3645,
           30645,
           27000,
           "VA"
          ]
         ],
         "hovertemplate": "<b>%{hovertext}</b><br><br>State=%{customdata[3]}<br>Total=%{customdata[1]}<br>Positive=%{customdata[0]}<br>Negative=%{customdata[2]}<extra></extra>",
         "hovertext": [
          "2020-03-05",
          "2020-03-06",
          "2020-03-07",
          "2020-03-08",
          "2020-03-09",
          "2020-03-10",
          "2020-03-11",
          "2020-03-12",
          "2020-03-13",
          "2020-03-14",
          "2020-03-15",
          "2020-03-16",
          "2020-03-17",
          "2020-03-18",
          "2020-03-19",
          "2020-03-20",
          "2020-03-21",
          "2020-03-22",
          "2020-03-23",
          "2020-03-24",
          "2020-03-25",
          "2020-03-26",
          "2020-03-27",
          "2020-03-28",
          "2020-03-29",
          "2020-03-30",
          "2020-03-31",
          "2020-04-01",
          "2020-04-02",
          "2020-04-03",
          "2020-04-04",
          "2020-04-05",
          "2020-04-06",
          "2020-04-07",
          "2020-04-08"
         ],
         "legendgroup": "VA",
         "marker": {
          "color": "#E45756",
          "symbol": "circle"
         },
         "mode": "markers",
         "name": "VA",
         "showlegend": true,
         "type": "scatter",
         "x": [
          21,
          31,
          38,
          44,
          50,
          61,
          69,
          134,
          147,
          147,
          408,
          489,
          1028,
          1278,
          1923,
          2325,
          2790,
          3337,
          3697,
          4470,
          5370,
          6189,
          7337,
          9166,
          10609,
          12038,
          13401,
          15344,
          17589,
          19005,
          21552,
          23671,
          24521,
          28645,
          30645
         ],
         "xaxis": "x",
         "y": [
          0,
          0,
          0,
          2,
          3,
          8,
          9,
          17,
          30,
          30,
          45,
          51,
          67,
          77,
          94,
          114,
          152,
          219,
          254,
          290,
          391,
          460,
          604,
          739,
          890,
          1020,
          1250,
          1484,
          1706,
          2012,
          2407,
          2637,
          2878,
          3333,
          3645
         ],
         "yaxis": "y"
        },
        {
         "customdata": [
          [
           39,
           39,
           null,
           "WA"
          ],
          [
           70,
           70,
           null,
           "WA"
          ],
          [
           79,
           449,
           370,
           "WA"
          ],
          [
           102,
           538,
           370,
           "WA"
          ],
          [
           102,
           802,
           640,
           "WA"
          ],
          [
           136,
           1246,
           1110,
           "WA"
          ],
          [
           162,
           1272,
           1110,
           "WA"
          ],
          [
           267,
           2442,
           2175,
           "WA"
          ],
          [
           337,
           3374,
           3037,
           "WA"
          ],
          [
           457,
           4807,
           4350,
           "WA"
          ],
          [
           568,
           6569,
           6001,
           "WA"
          ],
          [
           642,
           7764,
           7122,
           "WA"
          ],
          [
           769,
           10220,
           9451,
           "WA"
          ],
          [
           904,
           12486,
           11582,
           "WA"
          ],
          [
           1012,
           14129,
           13117,
           "WA"
          ],
          [
           1187,
           17105,
           15918,
           "WA"
          ],
          [
           1376,
           20712,
           19336,
           "WA"
          ],
          [
           1524,
           23243,
           21719,
           "WA"
          ],
          [
           1793,
           27121,
           25328,
           "WA"
          ],
          [
           1996,
           30875,
           28879,
           "WA"
          ],
          [
           2221,
           33933,
           31712,
           "WA"
          ],
          [
           2469,
           34181,
           31712,
           "WA"
          ],
          [
           2580,
           34292,
           31712,
           "WA"
          ],
          [
           3207,
           46380,
           43173,
           "WA"
          ],
          [
           3723,
           52738,
           49015,
           "WA"
          ],
          [
           4310,
           59206,
           54896,
           "WA"
          ],
          [
           4896,
           65462,
           60566,
           "WA"
          ],
          [
           4896,
           65462,
           60566,
           "WA"
          ],
          [
           5634,
           66200,
           60566,
           "WA"
          ],
          [
           5984,
           74798,
           68814,
           "WA"
          ],
          [
           6585,
           79418,
           72833,
           "WA"
          ],
          [
           6966,
           82599,
           75633,
           "WA"
          ],
          [
           7591,
           87918,
           80327,
           "WA"
          ],
          [
           7984,
           91375,
           83391,
           "WA"
          ],
          [
           8384,
           91775,
           83391,
           "WA"
          ],
          [
           8682,
           92073,
           83391,
           "WA"
          ]
         ],
         "hovertemplate": "<b>%{hovertext}</b><br><br>State=%{customdata[3]}<br>Total=%{customdata[1]}<br>Positive=%{customdata[0]}<br>Negative=%{customdata[2]}<extra></extra>",
         "hovertext": [
          "2020-03-04",
          "2020-03-05",
          "2020-03-06",
          "2020-03-07",
          "2020-03-08",
          "2020-03-09",
          "2020-03-10",
          "2020-03-11",
          "2020-03-12",
          "2020-03-13",
          "2020-03-14",
          "2020-03-15",
          "2020-03-16",
          "2020-03-17",
          "2020-03-18",
          "2020-03-19",
          "2020-03-20",
          "2020-03-21",
          "2020-03-22",
          "2020-03-23",
          "2020-03-24",
          "2020-03-25",
          "2020-03-26",
          "2020-03-27",
          "2020-03-28",
          "2020-03-29",
          "2020-03-30",
          "2020-03-31",
          "2020-04-01",
          "2020-04-02",
          "2020-04-03",
          "2020-04-04",
          "2020-04-05",
          "2020-04-06",
          "2020-04-07",
          "2020-04-08"
         ],
         "legendgroup": "WA",
         "marker": {
          "color": "#72B7B2",
          "symbol": "circle"
         },
         "mode": "markers",
         "name": "WA",
         "showlegend": true,
         "type": "scatter",
         "x": [
          39,
          70,
          449,
          538,
          802,
          1246,
          1272,
          2442,
          3374,
          4807,
          6569,
          7764,
          10220,
          12486,
          14129,
          17105,
          20712,
          23243,
          27121,
          30875,
          33933,
          34181,
          34292,
          46380,
          52738,
          59206,
          65462,
          65462,
          66200,
          74798,
          79418,
          82599,
          87918,
          91375,
          91775,
          92073
         ],
         "xaxis": "x",
         "y": [
          39,
          70,
          79,
          102,
          102,
          136,
          162,
          267,
          337,
          457,
          568,
          642,
          769,
          904,
          1012,
          1187,
          1376,
          1524,
          1793,
          1996,
          2221,
          2469,
          2580,
          3207,
          3723,
          4310,
          4896,
          4896,
          5634,
          5984,
          6585,
          6966,
          7591,
          7984,
          8384,
          8682
         ],
         "yaxis": "y"
        }
       ],
       "layout": {
        "legend": {
         "title": {
          "text": "State"
         },
         "tracegroupgap": 0
        },
        "template": {
         "data": {
          "bar": [
           {
            "error_x": {
             "color": "rgb(51,51,51)"
            },
            "error_y": {
             "color": "rgb(51,51,51)"
            },
            "marker": {
             "line": {
              "color": "rgb(237,237,237)",
              "width": 0.5
             }
            },
            "type": "bar"
           }
          ],
          "barpolar": [
           {
            "marker": {
             "line": {
              "color": "rgb(237,237,237)",
              "width": 0.5
             }
            },
            "type": "barpolar"
           }
          ],
          "carpet": [
           {
            "aaxis": {
             "endlinecolor": "rgb(51,51,51)",
             "gridcolor": "white",
             "linecolor": "white",
             "minorgridcolor": "white",
             "startlinecolor": "rgb(51,51,51)"
            },
            "baxis": {
             "endlinecolor": "rgb(51,51,51)",
             "gridcolor": "white",
             "linecolor": "white",
             "minorgridcolor": "white",
             "startlinecolor": "rgb(51,51,51)"
            },
            "type": "carpet"
           }
          ],
          "choropleth": [
           {
            "colorbar": {
             "outlinewidth": 0,
             "tickcolor": "rgb(237,237,237)",
             "ticklen": 6,
             "ticks": "inside"
            },
            "type": "choropleth"
           }
          ],
          "contour": [
           {
            "colorbar": {
             "outlinewidth": 0,
             "tickcolor": "rgb(237,237,237)",
             "ticklen": 6,
             "ticks": "inside"
            },
            "colorscale": [
             [
              0,
              "rgb(20,44,66)"
             ],
             [
              1,
              "rgb(90,179,244)"
             ]
            ],
            "type": "contour"
           }
          ],
          "contourcarpet": [
           {
            "colorbar": {
             "outlinewidth": 0,
             "tickcolor": "rgb(237,237,237)",
             "ticklen": 6,
             "ticks": "inside"
            },
            "type": "contourcarpet"
           }
          ],
          "heatmap": [
           {
            "colorbar": {
             "outlinewidth": 0,
             "tickcolor": "rgb(237,237,237)",
             "ticklen": 6,
             "ticks": "inside"
            },
            "colorscale": [
             [
              0,
              "rgb(20,44,66)"
             ],
             [
              1,
              "rgb(90,179,244)"
             ]
            ],
            "type": "heatmap"
           }
          ],
          "heatmapgl": [
           {
            "colorbar": {
             "outlinewidth": 0,
             "tickcolor": "rgb(237,237,237)",
             "ticklen": 6,
             "ticks": "inside"
            },
            "colorscale": [
             [
              0,
              "rgb(20,44,66)"
             ],
             [
              1,
              "rgb(90,179,244)"
             ]
            ],
            "type": "heatmapgl"
           }
          ],
          "histogram": [
           {
            "marker": {
             "colorbar": {
              "outlinewidth": 0,
              "tickcolor": "rgb(237,237,237)",
              "ticklen": 6,
              "ticks": "inside"
             }
            },
            "type": "histogram"
           }
          ],
          "histogram2d": [
           {
            "colorbar": {
             "outlinewidth": 0,
             "tickcolor": "rgb(237,237,237)",
             "ticklen": 6,
             "ticks": "inside"
            },
            "colorscale": [
             [
              0,
              "rgb(20,44,66)"
             ],
             [
              1,
              "rgb(90,179,244)"
             ]
            ],
            "type": "histogram2d"
           }
          ],
          "histogram2dcontour": [
           {
            "colorbar": {
             "outlinewidth": 0,
             "tickcolor": "rgb(237,237,237)",
             "ticklen": 6,
             "ticks": "inside"
            },
            "colorscale": [
             [
              0,
              "rgb(20,44,66)"
             ],
             [
              1,
              "rgb(90,179,244)"
             ]
            ],
            "type": "histogram2dcontour"
           }
          ],
          "mesh3d": [
           {
            "colorbar": {
             "outlinewidth": 0,
             "tickcolor": "rgb(237,237,237)",
             "ticklen": 6,
             "ticks": "inside"
            },
            "type": "mesh3d"
           }
          ],
          "parcoords": [
           {
            "line": {
             "colorbar": {
              "outlinewidth": 0,
              "tickcolor": "rgb(237,237,237)",
              "ticklen": 6,
              "ticks": "inside"
             }
            },
            "type": "parcoords"
           }
          ],
          "pie": [
           {
            "automargin": true,
            "type": "pie"
           }
          ],
          "scatter": [
           {
            "marker": {
             "colorbar": {
              "outlinewidth": 0,
              "tickcolor": "rgb(237,237,237)",
              "ticklen": 6,
              "ticks": "inside"
             }
            },
            "type": "scatter"
           }
          ],
          "scatter3d": [
           {
            "line": {
             "colorbar": {
              "outlinewidth": 0,
              "tickcolor": "rgb(237,237,237)",
              "ticklen": 6,
              "ticks": "inside"
             }
            },
            "marker": {
             "colorbar": {
              "outlinewidth": 0,
              "tickcolor": "rgb(237,237,237)",
              "ticklen": 6,
              "ticks": "inside"
             }
            },
            "type": "scatter3d"
           }
          ],
          "scattercarpet": [
           {
            "marker": {
             "colorbar": {
              "outlinewidth": 0,
              "tickcolor": "rgb(237,237,237)",
              "ticklen": 6,
              "ticks": "inside"
             }
            },
            "type": "scattercarpet"
           }
          ],
          "scattergeo": [
           {
            "marker": {
             "colorbar": {
              "outlinewidth": 0,
              "tickcolor": "rgb(237,237,237)",
              "ticklen": 6,
              "ticks": "inside"
             }
            },
            "type": "scattergeo"
           }
          ],
          "scattergl": [
           {
            "marker": {
             "colorbar": {
              "outlinewidth": 0,
              "tickcolor": "rgb(237,237,237)",
              "ticklen": 6,
              "ticks": "inside"
             }
            },
            "type": "scattergl"
           }
          ],
          "scattermapbox": [
           {
            "marker": {
             "colorbar": {
              "outlinewidth": 0,
              "tickcolor": "rgb(237,237,237)",
              "ticklen": 6,
              "ticks": "inside"
             }
            },
            "type": "scattermapbox"
           }
          ],
          "scatterpolar": [
           {
            "marker": {
             "colorbar": {
              "outlinewidth": 0,
              "tickcolor": "rgb(237,237,237)",
              "ticklen": 6,
              "ticks": "inside"
             }
            },
            "type": "scatterpolar"
           }
          ],
          "scatterpolargl": [
           {
            "marker": {
             "colorbar": {
              "outlinewidth": 0,
              "tickcolor": "rgb(237,237,237)",
              "ticklen": 6,
              "ticks": "inside"
             }
            },
            "type": "scatterpolargl"
           }
          ],
          "scatterternary": [
           {
            "marker": {
             "colorbar": {
              "outlinewidth": 0,
              "tickcolor": "rgb(237,237,237)",
              "ticklen": 6,
              "ticks": "inside"
             }
            },
            "type": "scatterternary"
           }
          ],
          "surface": [
           {
            "colorbar": {
             "outlinewidth": 0,
             "tickcolor": "rgb(237,237,237)",
             "ticklen": 6,
             "ticks": "inside"
            },
            "colorscale": [
             [
              0,
              "rgb(20,44,66)"
             ],
             [
              1,
              "rgb(90,179,244)"
             ]
            ],
            "type": "surface"
           }
          ],
          "table": [
           {
            "cells": {
             "fill": {
              "color": "rgb(237,237,237)"
             },
             "line": {
              "color": "white"
             }
            },
            "header": {
             "fill": {
              "color": "rgb(217,217,217)"
             },
             "line": {
              "color": "white"
             }
            },
            "type": "table"
           }
          ]
         },
         "layout": {
          "annotationdefaults": {
           "arrowhead": 0,
           "arrowwidth": 1
          },
          "coloraxis": {
           "colorbar": {
            "outlinewidth": 0,
            "tickcolor": "rgb(237,237,237)",
            "ticklen": 6,
            "ticks": "inside"
           }
          },
          "colorscale": {
           "sequential": [
            [
             0,
             "rgb(20,44,66)"
            ],
            [
             1,
             "rgb(90,179,244)"
            ]
           ],
           "sequentialminus": [
            [
             0,
             "rgb(20,44,66)"
            ],
            [
             1,
             "rgb(90,179,244)"
            ]
           ]
          },
          "colorway": [
           "#F8766D",
           "#A3A500",
           "#00BF7D",
           "#00B0F6",
           "#E76BF3"
          ],
          "font": {
           "color": "rgb(51,51,51)"
          },
          "geo": {
           "bgcolor": "white",
           "lakecolor": "white",
           "landcolor": "rgb(237,237,237)",
           "showlakes": true,
           "showland": true,
           "subunitcolor": "white"
          },
          "hoverlabel": {
           "align": "left"
          },
          "hovermode": "closest",
          "paper_bgcolor": "white",
          "plot_bgcolor": "rgb(237,237,237)",
          "polar": {
           "angularaxis": {
            "gridcolor": "white",
            "linecolor": "white",
            "showgrid": true,
            "tickcolor": "rgb(51,51,51)",
            "ticks": "outside"
           },
           "bgcolor": "rgb(237,237,237)",
           "radialaxis": {
            "gridcolor": "white",
            "linecolor": "white",
            "showgrid": true,
            "tickcolor": "rgb(51,51,51)",
            "ticks": "outside"
           }
          },
          "scene": {
           "xaxis": {
            "backgroundcolor": "rgb(237,237,237)",
            "gridcolor": "white",
            "gridwidth": 2,
            "linecolor": "white",
            "showbackground": true,
            "showgrid": true,
            "tickcolor": "rgb(51,51,51)",
            "ticks": "outside",
            "zerolinecolor": "white"
           },
           "yaxis": {
            "backgroundcolor": "rgb(237,237,237)",
            "gridcolor": "white",
            "gridwidth": 2,
            "linecolor": "white",
            "showbackground": true,
            "showgrid": true,
            "tickcolor": "rgb(51,51,51)",
            "ticks": "outside",
            "zerolinecolor": "white"
           },
           "zaxis": {
            "backgroundcolor": "rgb(237,237,237)",
            "gridcolor": "white",
            "gridwidth": 2,
            "linecolor": "white",
            "showbackground": true,
            "showgrid": true,
            "tickcolor": "rgb(51,51,51)",
            "ticks": "outside",
            "zerolinecolor": "white"
           }
          },
          "shapedefaults": {
           "fillcolor": "black",
           "line": {
            "width": 0
           },
           "opacity": 0.3
          },
          "ternary": {
           "aaxis": {
            "gridcolor": "white",
            "linecolor": "white",
            "showgrid": true,
            "tickcolor": "rgb(51,51,51)",
            "ticks": "outside"
           },
           "baxis": {
            "gridcolor": "white",
            "linecolor": "white",
            "showgrid": true,
            "tickcolor": "rgb(51,51,51)",
            "ticks": "outside"
           },
           "bgcolor": "rgb(237,237,237)",
           "caxis": {
            "gridcolor": "white",
            "linecolor": "white",
            "showgrid": true,
            "tickcolor": "rgb(51,51,51)",
            "ticks": "outside"
           }
          },
          "xaxis": {
           "automargin": true,
           "gridcolor": "white",
           "linecolor": "white",
           "showgrid": true,
           "tickcolor": "rgb(51,51,51)",
           "ticks": "outside",
           "title": {
            "standoff": 15
           },
           "zerolinecolor": "white"
          },
          "yaxis": {
           "automargin": true,
           "gridcolor": "white",
           "linecolor": "white",
           "showgrid": true,
           "tickcolor": "rgb(51,51,51)",
           "ticks": "outside",
           "title": {
            "standoff": 15
           },
           "zerolinecolor": "white"
          }
         }
        },
        "title": {
         "text": "Cumulative Positive to Total RT-PCR Test Ratio"
        },
        "xaxis": {
         "anchor": "y",
         "domain": [
          0,
          1
         ],
         "title": {
          "text": "Total"
         },
         "type": "log"
        },
        "yaxis": {
         "anchor": "x",
         "domain": [
          0,
          1
         ],
         "title": {
          "text": "Positive"
         },
         "type": "log"
        }
       }
      },
      "text/html": [
       "<div>\n",
       "        \n",
       "        \n",
       "            <div id=\"259c0af8-a494-48da-83ad-42f1632f76ae\" class=\"plotly-graph-div\" style=\"height:525px; width:100%;\"></div>\n",
       "            <script type=\"text/javascript\">\n",
       "                require([\"plotly\"], function(Plotly) {\n",
       "                    window.PLOTLYENV=window.PLOTLYENV || {};\n",
       "                    \n",
       "                if (document.getElementById(\"259c0af8-a494-48da-83ad-42f1632f76ae\")) {\n",
       "                    Plotly.newPlot(\n",
       "                        '259c0af8-a494-48da-83ad-42f1632f76ae',\n",
       "                        [{\"customdata\": [[1.0, 1.0, null, \"NJ\"], [1.0, 1.0, null, \"NJ\"], [4.0, 5.0, null, \"NJ\"], [6.0, 37.0, 31.0, \"NJ\"], [11.0, 60.0, 35.0, \"NJ\"], [15.0, 79.0, 44.0, \"NJ\"], [24.0, 101.0, 57.0, \"NJ\"], [30.0, 124.0, 74.0, \"NJ\"], [50.0, 227.0, 97.0, \"NJ\"], [50.0, 227.0, 97.0, \"NJ\"], [98.0, 252.0, 120.0, \"NJ\"], [178.0, 318.0, 120.0, \"NJ\"], [267.0, 485.0, 163.0, \"NJ\"], [427.0, 638.0, 190.0, \"NJ\"], [742.0, 1026.0, 210.0, \"NJ\"], [890.0, 1240.0, 264.0, \"NJ\"], [1327.0, 1661.0, 294.0, \"NJ\"], [1914.0, 2290.0, 327.0, \"NJ\"], [2844.0, 3297.0, 359.0, \"NJ\"], [3675.0, 12045.0, 8325.0, \"NJ\"], [4402.0, 14854.0, 10452.0, \"NJ\"], [6876.0, 20537.0, 13661.0, \"NJ\"], [8825.0, 25372.0, 16547.0, \"NJ\"], [11124.0, 30510.0, 19386.0, \"NJ\"], [13386.0, 35602.0, 22216.0, \"NJ\"], [16636.0, 41860.0, 25224.0, \"NJ\"], [18696.0, 45773.0, 27077.0, \"NJ\"], [22255.0, 52642.0, 30387.0, \"NJ\"], [25590.0, 59110.0, 33520.0, \"NJ\"], [29895.0, 67503.0, 37608.0, \"NJ\"], [34124.0, 75356.0, 41232.0, \"NJ\"], [37505.0, 82166.0, 44661.0, \"NJ\"], [41090.0, 89032.0, 47942.0, \"NJ\"], [44416.0, 94974.0, 50558.0, \"NJ\"], [47437.0, 100416.0, 52979.0, \"NJ\"]], \"hovertemplate\": \"<b>%{hovertext}</b><br><br>State=%{customdata[3]}<br>Total=%{customdata[1]}<br>Positive=%{customdata[0]}<br>Negative=%{customdata[2]}<extra></extra>\", \"hovertext\": [\"2020-03-05\", \"2020-03-06\", \"2020-03-07\", \"2020-03-08\", \"2020-03-09\", \"2020-03-10\", \"2020-03-11\", \"2020-03-12\", \"2020-03-13\", \"2020-03-14\", \"2020-03-15\", \"2020-03-16\", \"2020-03-17\", \"2020-03-18\", \"2020-03-19\", \"2020-03-20\", \"2020-03-21\", \"2020-03-22\", \"2020-03-23\", \"2020-03-24\", \"2020-03-25\", \"2020-03-26\", \"2020-03-27\", \"2020-03-28\", \"2020-03-29\", \"2020-03-30\", \"2020-03-31\", \"2020-04-01\", \"2020-04-02\", \"2020-04-03\", \"2020-04-04\", \"2020-04-05\", \"2020-04-06\", \"2020-04-07\", \"2020-04-08\"], \"legendgroup\": \"NJ\", \"marker\": {\"color\": \"#4C78A8\", \"symbol\": \"circle\"}, \"mode\": \"markers\", \"name\": \"NJ\", \"showlegend\": true, \"type\": \"scatter\", \"x\": [1, 1, 5, 37, 60, 79, 101, 124, 227, 227, 252, 318, 485, 638, 1026, 1240, 1661, 2290, 3297, 12045, 14854, 20537, 25372, 30510, 35602, 41860, 45773, 52642, 59110, 67503, 75356, 82166, 89032, 94974, 100416], \"xaxis\": \"x\", \"y\": [1.0, 1.0, 4.0, 6.0, 11.0, 15.0, 24.0, 30.0, 50.0, 50.0, 98.0, 178.0, 267.0, 427.0, 742.0, 890.0, 1327.0, 1914.0, 2844.0, 3675.0, 4402.0, 6876.0, 8825.0, 11124.0, 13386.0, 16636.0, 18696.0, 22255.0, 25590.0, 29895.0, 34124.0, 37505.0, 41090.0, 44416.0, 47437.0], \"yaxis\": \"y\"}, {\"customdata\": [[6.0, 78.0, 48.0, \"NY\"], [22.0, 122.0, 76.0, \"NY\"], [33.0, 361.0, 92.0, \"NY\"], [76.0, 404.0, 92.0, \"NY\"], [105.0, 197.0, 92.0, \"NY\"], [142.0, 234.0, 92.0, \"NY\"], [173.0, 265.0, 92.0, \"NY\"], [216.0, 308.0, 92.0, \"NY\"], [216.0, 308.0, 92.0, \"NY\"], [421.0, 3200.0, 2779.0, \"NY\"], [524.0, 3303.0, 2779.0, \"NY\"], [729.0, 5272.0, 4543.0, \"NY\"], [950.0, 5493.0, 4543.0, \"NY\"], [1700.0, 7206.0, 5506.0, \"NY\"], [2382.0, 14597.0, 12215.0, \"NY\"], [4152.0, 22284.0, 18132.0, \"NY\"], [7102.0, 32427.0, 25325.0, \"NY\"], [10356.0, 45437.0, 35081.0, \"NY\"], [15168.0, 61401.0, 46233.0, \"NY\"], [20875.0, 78289.0, 57414.0, \"NY\"], [25665.0, 91270.0, 65605.0, \"NY\"], [30811.0, 103479.0, 72668.0, \"NY\"], [37258.0, 122104.0, 84846.0, \"NY\"], [44635.0, 145753.0, 101118.0, \"NY\"], [52318.0, 155934.0, 103616.0, \"NY\"], [59513.0, 172360.0, 112847.0, \"NY\"], [66497.0, 186468.0, 119971.0, \"NY\"], [75795.0, 205186.0, 129391.0, \"NY\"], [83712.0, 220880.0, 137168.0, \"NY\"], [92381.0, 238965.0, 146584.0, \"NY\"], [102863.0, 260520.0, 157657.0, \"NY\"], [113704.0, 283621.0, 169917.0, \"NY\"], [122031.0, 302280.0, 180249.0, \"NY\"], [130689.0, 320811.0, 190122.0, \"NY\"], [138863.0, 340058.0, 201195.0, \"NY\"], [149316.0, 365153.0, 215837.0, \"NY\"]], \"hovertemplate\": \"<b>%{hovertext}</b><br><br>State=%{customdata[3]}<br>Total=%{customdata[1]}<br>Positive=%{customdata[0]}<br>Negative=%{customdata[2]}<extra></extra>\", \"hovertext\": [\"2020-03-04\", \"2020-03-05\", \"2020-03-06\", \"2020-03-07\", \"2020-03-08\", \"2020-03-09\", \"2020-03-10\", \"2020-03-11\", \"2020-03-12\", \"2020-03-13\", \"2020-03-14\", \"2020-03-15\", \"2020-03-16\", \"2020-03-17\", \"2020-03-18\", \"2020-03-19\", \"2020-03-20\", \"2020-03-21\", \"2020-03-22\", \"2020-03-23\", \"2020-03-24\", \"2020-03-25\", \"2020-03-26\", \"2020-03-27\", \"2020-03-28\", \"2020-03-29\", \"2020-03-30\", \"2020-03-31\", \"2020-04-01\", \"2020-04-02\", \"2020-04-03\", \"2020-04-04\", \"2020-04-05\", \"2020-04-06\", \"2020-04-07\", \"2020-04-08\"], \"legendgroup\": \"NY\", \"marker\": {\"color\": \"#F58518\", \"symbol\": \"circle\"}, \"mode\": \"markers\", \"name\": \"NY\", \"showlegend\": true, \"type\": \"scatter\", \"x\": [78, 122, 361, 404, 197, 234, 265, 308, 308, 3200, 3303, 5272, 5493, 7206, 14597, 22284, 32427, 45437, 61401, 78289, 91270, 103479, 122104, 145753, 155934, 172360, 186468, 205186, 220880, 238965, 260520, 283621, 302280, 320811, 340058, 365153], \"xaxis\": \"x\", \"y\": [6.0, 22.0, 33.0, 76.0, 105.0, 142.0, 173.0, 216.0, 216.0, 421.0, 524.0, 729.0, 950.0, 1700.0, 2382.0, 4152.0, 7102.0, 10356.0, 15168.0, 20875.0, 25665.0, 30811.0, 37258.0, 44635.0, 52318.0, 59513.0, 66497.0, 75795.0, 83712.0, 92381.0, 102863.0, 113704.0, 122031.0, 130689.0, 138863.0, 149316.0], \"yaxis\": \"y\"}, {\"customdata\": [[0.0, 21.0, 18.0, \"VA\"], [0.0, 31.0, 21.0, \"VA\"], [0.0, 38.0, 31.0, \"VA\"], [2.0, 44.0, 36.0, \"VA\"], [3.0, 50.0, 38.0, \"VA\"], [8.0, 61.0, 53.0, \"VA\"], [9.0, 69.0, 60.0, \"VA\"], [17.0, 134.0, 117.0, \"VA\"], [30.0, 147.0, 117.0, \"VA\"], [30.0, 147.0, 117.0, \"VA\"], [45.0, 408.0, 363.0, \"VA\"], [51.0, 489.0, 438.0, \"VA\"], [67.0, 1028.0, 961.0, \"VA\"], [77.0, 1278.0, 1201.0, \"VA\"], [94.0, 1923.0, 1829.0, \"VA\"], [114.0, 2325.0, 2211.0, \"VA\"], [152.0, 2790.0, 2638.0, \"VA\"], [219.0, 3337.0, 3118.0, \"VA\"], [254.0, 3697.0, 3443.0, \"VA\"], [290.0, 4470.0, 4180.0, \"VA\"], [391.0, 5370.0, 4979.0, \"VA\"], [460.0, 6189.0, 5729.0, \"VA\"], [604.0, 7337.0, 6733.0, \"VA\"], [739.0, 9166.0, 8427.0, \"VA\"], [890.0, 10609.0, 9719.0, \"VA\"], [1020.0, 12038.0, 11018.0, \"VA\"], [1250.0, 13401.0, 12151.0, \"VA\"], [1484.0, 15344.0, 13860.0, \"VA\"], [1706.0, 17589.0, 15883.0, \"VA\"], [2012.0, 19005.0, 16993.0, \"VA\"], [2407.0, 21552.0, 19145.0, \"VA\"], [2637.0, 23671.0, 21034.0, \"VA\"], [2878.0, 24521.0, 21643.0, \"VA\"], [3333.0, 28645.0, 25312.0, \"VA\"], [3645.0, 30645.0, 27000.0, \"VA\"]], \"hovertemplate\": \"<b>%{hovertext}</b><br><br>State=%{customdata[3]}<br>Total=%{customdata[1]}<br>Positive=%{customdata[0]}<br>Negative=%{customdata[2]}<extra></extra>\", \"hovertext\": [\"2020-03-05\", \"2020-03-06\", \"2020-03-07\", \"2020-03-08\", \"2020-03-09\", \"2020-03-10\", \"2020-03-11\", \"2020-03-12\", \"2020-03-13\", \"2020-03-14\", \"2020-03-15\", \"2020-03-16\", \"2020-03-17\", \"2020-03-18\", \"2020-03-19\", \"2020-03-20\", \"2020-03-21\", \"2020-03-22\", \"2020-03-23\", \"2020-03-24\", \"2020-03-25\", \"2020-03-26\", \"2020-03-27\", \"2020-03-28\", \"2020-03-29\", \"2020-03-30\", \"2020-03-31\", \"2020-04-01\", \"2020-04-02\", \"2020-04-03\", \"2020-04-04\", \"2020-04-05\", \"2020-04-06\", \"2020-04-07\", \"2020-04-08\"], \"legendgroup\": \"VA\", \"marker\": {\"color\": \"#E45756\", \"symbol\": \"circle\"}, \"mode\": \"markers\", \"name\": \"VA\", \"showlegend\": true, \"type\": \"scatter\", \"x\": [21, 31, 38, 44, 50, 61, 69, 134, 147, 147, 408, 489, 1028, 1278, 1923, 2325, 2790, 3337, 3697, 4470, 5370, 6189, 7337, 9166, 10609, 12038, 13401, 15344, 17589, 19005, 21552, 23671, 24521, 28645, 30645], \"xaxis\": \"x\", \"y\": [0.0, 0.0, 0.0, 2.0, 3.0, 8.0, 9.0, 17.0, 30.0, 30.0, 45.0, 51.0, 67.0, 77.0, 94.0, 114.0, 152.0, 219.0, 254.0, 290.0, 391.0, 460.0, 604.0, 739.0, 890.0, 1020.0, 1250.0, 1484.0, 1706.0, 2012.0, 2407.0, 2637.0, 2878.0, 3333.0, 3645.0], \"yaxis\": \"y\"}, {\"customdata\": [[39.0, 39.0, null, \"WA\"], [70.0, 70.0, null, \"WA\"], [79.0, 449.0, 370.0, \"WA\"], [102.0, 538.0, 370.0, \"WA\"], [102.0, 802.0, 640.0, \"WA\"], [136.0, 1246.0, 1110.0, \"WA\"], [162.0, 1272.0, 1110.0, \"WA\"], [267.0, 2442.0, 2175.0, \"WA\"], [337.0, 3374.0, 3037.0, \"WA\"], [457.0, 4807.0, 4350.0, \"WA\"], [568.0, 6569.0, 6001.0, \"WA\"], [642.0, 7764.0, 7122.0, \"WA\"], [769.0, 10220.0, 9451.0, \"WA\"], [904.0, 12486.0, 11582.0, \"WA\"], [1012.0, 14129.0, 13117.0, \"WA\"], [1187.0, 17105.0, 15918.0, \"WA\"], [1376.0, 20712.0, 19336.0, \"WA\"], [1524.0, 23243.0, 21719.0, \"WA\"], [1793.0, 27121.0, 25328.0, \"WA\"], [1996.0, 30875.0, 28879.0, \"WA\"], [2221.0, 33933.0, 31712.0, \"WA\"], [2469.0, 34181.0, 31712.0, \"WA\"], [2580.0, 34292.0, 31712.0, \"WA\"], [3207.0, 46380.0, 43173.0, \"WA\"], [3723.0, 52738.0, 49015.0, \"WA\"], [4310.0, 59206.0, 54896.0, \"WA\"], [4896.0, 65462.0, 60566.0, \"WA\"], [4896.0, 65462.0, 60566.0, \"WA\"], [5634.0, 66200.0, 60566.0, \"WA\"], [5984.0, 74798.0, 68814.0, \"WA\"], [6585.0, 79418.0, 72833.0, \"WA\"], [6966.0, 82599.0, 75633.0, \"WA\"], [7591.0, 87918.0, 80327.0, \"WA\"], [7984.0, 91375.0, 83391.0, \"WA\"], [8384.0, 91775.0, 83391.0, \"WA\"], [8682.0, 92073.0, 83391.0, \"WA\"]], \"hovertemplate\": \"<b>%{hovertext}</b><br><br>State=%{customdata[3]}<br>Total=%{customdata[1]}<br>Positive=%{customdata[0]}<br>Negative=%{customdata[2]}<extra></extra>\", \"hovertext\": [\"2020-03-04\", \"2020-03-05\", \"2020-03-06\", \"2020-03-07\", \"2020-03-08\", \"2020-03-09\", \"2020-03-10\", \"2020-03-11\", \"2020-03-12\", \"2020-03-13\", \"2020-03-14\", \"2020-03-15\", \"2020-03-16\", \"2020-03-17\", \"2020-03-18\", \"2020-03-19\", \"2020-03-20\", \"2020-03-21\", \"2020-03-22\", \"2020-03-23\", \"2020-03-24\", \"2020-03-25\", \"2020-03-26\", \"2020-03-27\", \"2020-03-28\", \"2020-03-29\", \"2020-03-30\", \"2020-03-31\", \"2020-04-01\", \"2020-04-02\", \"2020-04-03\", \"2020-04-04\", \"2020-04-05\", \"2020-04-06\", \"2020-04-07\", \"2020-04-08\"], \"legendgroup\": \"WA\", \"marker\": {\"color\": \"#72B7B2\", \"symbol\": \"circle\"}, \"mode\": \"markers\", \"name\": \"WA\", \"showlegend\": true, \"type\": \"scatter\", \"x\": [39, 70, 449, 538, 802, 1246, 1272, 2442, 3374, 4807, 6569, 7764, 10220, 12486, 14129, 17105, 20712, 23243, 27121, 30875, 33933, 34181, 34292, 46380, 52738, 59206, 65462, 65462, 66200, 74798, 79418, 82599, 87918, 91375, 91775, 92073], \"xaxis\": \"x\", \"y\": [39.0, 70.0, 79.0, 102.0, 102.0, 136.0, 162.0, 267.0, 337.0, 457.0, 568.0, 642.0, 769.0, 904.0, 1012.0, 1187.0, 1376.0, 1524.0, 1793.0, 1996.0, 2221.0, 2469.0, 2580.0, 3207.0, 3723.0, 4310.0, 4896.0, 4896.0, 5634.0, 5984.0, 6585.0, 6966.0, 7591.0, 7984.0, 8384.0, 8682.0], \"yaxis\": \"y\"}],\n",
       "                        {\"legend\": {\"title\": {\"text\": \"State\"}, \"tracegroupgap\": 0}, \"template\": {\"data\": {\"bar\": [{\"error_x\": {\"color\": \"rgb(51,51,51)\"}, \"error_y\": {\"color\": \"rgb(51,51,51)\"}, \"marker\": {\"line\": {\"color\": \"rgb(237,237,237)\", \"width\": 0.5}}, \"type\": \"bar\"}], \"barpolar\": [{\"marker\": {\"line\": {\"color\": \"rgb(237,237,237)\", \"width\": 0.5}}, \"type\": \"barpolar\"}], \"carpet\": [{\"aaxis\": {\"endlinecolor\": \"rgb(51,51,51)\", \"gridcolor\": \"white\", \"linecolor\": \"white\", \"minorgridcolor\": \"white\", \"startlinecolor\": \"rgb(51,51,51)\"}, \"baxis\": {\"endlinecolor\": \"rgb(51,51,51)\", \"gridcolor\": \"white\", \"linecolor\": \"white\", \"minorgridcolor\": \"white\", \"startlinecolor\": \"rgb(51,51,51)\"}, \"type\": \"carpet\"}], \"choropleth\": [{\"colorbar\": {\"outlinewidth\": 0, \"tickcolor\": \"rgb(237,237,237)\", \"ticklen\": 6, \"ticks\": \"inside\"}, \"type\": \"choropleth\"}], \"contour\": [{\"colorbar\": {\"outlinewidth\": 0, \"tickcolor\": \"rgb(237,237,237)\", \"ticklen\": 6, \"ticks\": \"inside\"}, \"colorscale\": [[0, \"rgb(20,44,66)\"], [1, \"rgb(90,179,244)\"]], \"type\": \"contour\"}], \"contourcarpet\": [{\"colorbar\": {\"outlinewidth\": 0, \"tickcolor\": \"rgb(237,237,237)\", \"ticklen\": 6, \"ticks\": \"inside\"}, \"type\": \"contourcarpet\"}], \"heatmap\": [{\"colorbar\": {\"outlinewidth\": 0, \"tickcolor\": \"rgb(237,237,237)\", \"ticklen\": 6, \"ticks\": \"inside\"}, \"colorscale\": [[0, \"rgb(20,44,66)\"], [1, \"rgb(90,179,244)\"]], \"type\": \"heatmap\"}], \"heatmapgl\": [{\"colorbar\": {\"outlinewidth\": 0, \"tickcolor\": \"rgb(237,237,237)\", \"ticklen\": 6, \"ticks\": \"inside\"}, \"colorscale\": [[0, \"rgb(20,44,66)\"], [1, \"rgb(90,179,244)\"]], \"type\": \"heatmapgl\"}], \"histogram\": [{\"marker\": {\"colorbar\": {\"outlinewidth\": 0, \"tickcolor\": \"rgb(237,237,237)\", \"ticklen\": 6, \"ticks\": \"inside\"}}, \"type\": \"histogram\"}], \"histogram2d\": [{\"colorbar\": {\"outlinewidth\": 0, \"tickcolor\": \"rgb(237,237,237)\", \"ticklen\": 6, \"ticks\": \"inside\"}, \"colorscale\": [[0, \"rgb(20,44,66)\"], [1, \"rgb(90,179,244)\"]], \"type\": \"histogram2d\"}], \"histogram2dcontour\": [{\"colorbar\": {\"outlinewidth\": 0, \"tickcolor\": \"rgb(237,237,237)\", \"ticklen\": 6, \"ticks\": \"inside\"}, \"colorscale\": [[0, \"rgb(20,44,66)\"], [1, \"rgb(90,179,244)\"]], \"type\": \"histogram2dcontour\"}], \"mesh3d\": [{\"colorbar\": {\"outlinewidth\": 0, \"tickcolor\": \"rgb(237,237,237)\", \"ticklen\": 6, \"ticks\": \"inside\"}, \"type\": \"mesh3d\"}], \"parcoords\": [{\"line\": {\"colorbar\": {\"outlinewidth\": 0, \"tickcolor\": \"rgb(237,237,237)\", \"ticklen\": 6, \"ticks\": \"inside\"}}, \"type\": \"parcoords\"}], \"pie\": [{\"automargin\": true, \"type\": \"pie\"}], \"scatter\": [{\"marker\": {\"colorbar\": {\"outlinewidth\": 0, \"tickcolor\": \"rgb(237,237,237)\", \"ticklen\": 6, \"ticks\": \"inside\"}}, \"type\": \"scatter\"}], \"scatter3d\": [{\"line\": {\"colorbar\": {\"outlinewidth\": 0, \"tickcolor\": \"rgb(237,237,237)\", \"ticklen\": 6, \"ticks\": \"inside\"}}, \"marker\": {\"colorbar\": {\"outlinewidth\": 0, \"tickcolor\": \"rgb(237,237,237)\", \"ticklen\": 6, \"ticks\": \"inside\"}}, \"type\": \"scatter3d\"}], \"scattercarpet\": [{\"marker\": {\"colorbar\": {\"outlinewidth\": 0, \"tickcolor\": \"rgb(237,237,237)\", \"ticklen\": 6, \"ticks\": \"inside\"}}, \"type\": \"scattercarpet\"}], \"scattergeo\": [{\"marker\": {\"colorbar\": {\"outlinewidth\": 0, \"tickcolor\": \"rgb(237,237,237)\", \"ticklen\": 6, \"ticks\": \"inside\"}}, \"type\": \"scattergeo\"}], \"scattergl\": [{\"marker\": {\"colorbar\": {\"outlinewidth\": 0, \"tickcolor\": \"rgb(237,237,237)\", \"ticklen\": 6, \"ticks\": \"inside\"}}, \"type\": \"scattergl\"}], \"scattermapbox\": [{\"marker\": {\"colorbar\": {\"outlinewidth\": 0, \"tickcolor\": \"rgb(237,237,237)\", \"ticklen\": 6, \"ticks\": \"inside\"}}, \"type\": \"scattermapbox\"}], \"scatterpolar\": [{\"marker\": {\"colorbar\": {\"outlinewidth\": 0, \"tickcolor\": \"rgb(237,237,237)\", \"ticklen\": 6, \"ticks\": \"inside\"}}, \"type\": \"scatterpolar\"}], \"scatterpolargl\": [{\"marker\": {\"colorbar\": {\"outlinewidth\": 0, \"tickcolor\": \"rgb(237,237,237)\", \"ticklen\": 6, \"ticks\": \"inside\"}}, \"type\": \"scatterpolargl\"}], \"scatterternary\": [{\"marker\": {\"colorbar\": {\"outlinewidth\": 0, \"tickcolor\": \"rgb(237,237,237)\", \"ticklen\": 6, \"ticks\": \"inside\"}}, \"type\": \"scatterternary\"}], \"surface\": [{\"colorbar\": {\"outlinewidth\": 0, \"tickcolor\": \"rgb(237,237,237)\", \"ticklen\": 6, \"ticks\": \"inside\"}, \"colorscale\": [[0, \"rgb(20,44,66)\"], [1, \"rgb(90,179,244)\"]], \"type\": \"surface\"}], \"table\": [{\"cells\": {\"fill\": {\"color\": \"rgb(237,237,237)\"}, \"line\": {\"color\": \"white\"}}, \"header\": {\"fill\": {\"color\": \"rgb(217,217,217)\"}, \"line\": {\"color\": \"white\"}}, \"type\": \"table\"}]}, \"layout\": {\"annotationdefaults\": {\"arrowhead\": 0, \"arrowwidth\": 1}, \"coloraxis\": {\"colorbar\": {\"outlinewidth\": 0, \"tickcolor\": \"rgb(237,237,237)\", \"ticklen\": 6, \"ticks\": \"inside\"}}, \"colorscale\": {\"sequential\": [[0, \"rgb(20,44,66)\"], [1, \"rgb(90,179,244)\"]], \"sequentialminus\": [[0, \"rgb(20,44,66)\"], [1, \"rgb(90,179,244)\"]]}, \"colorway\": [\"#F8766D\", \"#A3A500\", \"#00BF7D\", \"#00B0F6\", \"#E76BF3\"], \"font\": {\"color\": \"rgb(51,51,51)\"}, \"geo\": {\"bgcolor\": \"white\", \"lakecolor\": \"white\", \"landcolor\": \"rgb(237,237,237)\", \"showlakes\": true, \"showland\": true, \"subunitcolor\": \"white\"}, \"hoverlabel\": {\"align\": \"left\"}, \"hovermode\": \"closest\", \"paper_bgcolor\": \"white\", \"plot_bgcolor\": \"rgb(237,237,237)\", \"polar\": {\"angularaxis\": {\"gridcolor\": \"white\", \"linecolor\": \"white\", \"showgrid\": true, \"tickcolor\": \"rgb(51,51,51)\", \"ticks\": \"outside\"}, \"bgcolor\": \"rgb(237,237,237)\", \"radialaxis\": {\"gridcolor\": \"white\", \"linecolor\": \"white\", \"showgrid\": true, \"tickcolor\": \"rgb(51,51,51)\", \"ticks\": \"outside\"}}, \"scene\": {\"xaxis\": {\"backgroundcolor\": \"rgb(237,237,237)\", \"gridcolor\": \"white\", \"gridwidth\": 2, \"linecolor\": \"white\", \"showbackground\": true, \"showgrid\": true, \"tickcolor\": \"rgb(51,51,51)\", \"ticks\": \"outside\", \"zerolinecolor\": \"white\"}, \"yaxis\": {\"backgroundcolor\": \"rgb(237,237,237)\", \"gridcolor\": \"white\", \"gridwidth\": 2, \"linecolor\": \"white\", \"showbackground\": true, \"showgrid\": true, \"tickcolor\": \"rgb(51,51,51)\", \"ticks\": \"outside\", \"zerolinecolor\": \"white\"}, \"zaxis\": {\"backgroundcolor\": \"rgb(237,237,237)\", \"gridcolor\": \"white\", \"gridwidth\": 2, \"linecolor\": \"white\", \"showbackground\": true, \"showgrid\": true, \"tickcolor\": \"rgb(51,51,51)\", \"ticks\": \"outside\", \"zerolinecolor\": \"white\"}}, \"shapedefaults\": {\"fillcolor\": \"black\", \"line\": {\"width\": 0}, \"opacity\": 0.3}, \"ternary\": {\"aaxis\": {\"gridcolor\": \"white\", \"linecolor\": \"white\", \"showgrid\": true, \"tickcolor\": \"rgb(51,51,51)\", \"ticks\": \"outside\"}, \"baxis\": {\"gridcolor\": \"white\", \"linecolor\": \"white\", \"showgrid\": true, \"tickcolor\": \"rgb(51,51,51)\", \"ticks\": \"outside\"}, \"bgcolor\": \"rgb(237,237,237)\", \"caxis\": {\"gridcolor\": \"white\", \"linecolor\": \"white\", \"showgrid\": true, \"tickcolor\": \"rgb(51,51,51)\", \"ticks\": \"outside\"}}, \"xaxis\": {\"automargin\": true, \"gridcolor\": \"white\", \"linecolor\": \"white\", \"showgrid\": true, \"tickcolor\": \"rgb(51,51,51)\", \"ticks\": \"outside\", \"title\": {\"standoff\": 15}, \"zerolinecolor\": \"white\"}, \"yaxis\": {\"automargin\": true, \"gridcolor\": \"white\", \"linecolor\": \"white\", \"showgrid\": true, \"tickcolor\": \"rgb(51,51,51)\", \"ticks\": \"outside\", \"title\": {\"standoff\": 15}, \"zerolinecolor\": \"white\"}}}, \"title\": {\"text\": \"Cumulative Positive to Total RT-PCR Test Ratio\"}, \"xaxis\": {\"anchor\": \"y\", \"domain\": [0.0, 1.0], \"title\": {\"text\": \"Total\"}, \"type\": \"log\"}, \"yaxis\": {\"anchor\": \"x\", \"domain\": [0.0, 1.0], \"title\": {\"text\": \"Positive\"}, \"type\": \"log\"}},\n",
       "                        {\"responsive\": true}\n",
       "                    ).then(function(){\n",
       "                            \n",
       "var gd = document.getElementById('259c0af8-a494-48da-83ad-42f1632f76ae');\n",
       "var x = new MutationObserver(function (mutations, observer) {{\n",
       "        var display = window.getComputedStyle(gd).display;\n",
       "        if (!display || display === 'none') {{\n",
       "            console.log([gd, 'removed!']);\n",
       "            Plotly.purge(gd);\n",
       "            observer.disconnect();\n",
       "        }}\n",
       "}});\n",
       "\n",
       "// Listen for the removal of the full notebook cells\n",
       "var notebookContainer = gd.closest('#notebook-container');\n",
       "if (notebookContainer) {{\n",
       "    x.observe(notebookContainer, {childList: true});\n",
       "}}\n",
       "\n",
       "// Listen for the clearing of the current output cell\n",
       "var outputEl = gd.closest('.output');\n",
       "if (outputEl) {{\n",
       "    x.observe(outputEl, {childList: true});\n",
       "}}\n",
       "\n",
       "                        })\n",
       "                };\n",
       "                });\n",
       "            </script>\n",
       "        </div>"
      ]
     },
     "metadata": {},
     "output_type": "display_data"
    }
   ],
   "source": [
    "states = ['NY', 'NJ', 'WA', 'VA']\n",
    "fig = px.scatter(data_frame=df_testing.loc[df_testing.State.isin(states)].loc[df_testing.Date > pd.to_datetime('2020-03-01')],\n",
    "                 x='Total', y='Positive', color='State',\n",
    "                 color_discrete_sequence=px.colors.qualitative.T10,\n",
    "                 log_x=True, log_y=True,                 \n",
    "                 title='Cumulative Positive to Total RT-PCR Test Ratio',\n",
    "                 hover_name='Date', hover_data=['Positive','Total', 'Negative', 'State'],\n",
    "                 template='ggplot2', \n",
    "                )\n",
    "fig.show()"
   ]
  },
  {
   "cell_type": "code",
   "execution_count": 57,
   "metadata": {
    "scrolled": false
   },
   "outputs": [
    {
     "data": {
      "application/vnd.plotly.v1+json": {
       "config": {
        "plotlyServerURL": "https://plot.ly"
       },
       "data": [
        {
         "customdata": [
          [
           1,
           1,
           null,
           "NJ"
          ],
          [
           1,
           1,
           null,
           "NJ"
          ],
          [
           4,
           5,
           null,
           "NJ"
          ],
          [
           6,
           37,
           31,
           "NJ"
          ],
          [
           11,
           60,
           35,
           "NJ"
          ],
          [
           15,
           79,
           44,
           "NJ"
          ],
          [
           24,
           101,
           57,
           "NJ"
          ],
          [
           30,
           124,
           74,
           "NJ"
          ],
          [
           50,
           227,
           97,
           "NJ"
          ],
          [
           50,
           227,
           97,
           "NJ"
          ],
          [
           98,
           252,
           120,
           "NJ"
          ],
          [
           178,
           318,
           120,
           "NJ"
          ],
          [
           267,
           485,
           163,
           "NJ"
          ],
          [
           427,
           638,
           190,
           "NJ"
          ],
          [
           742,
           1026,
           210,
           "NJ"
          ],
          [
           890,
           1240,
           264,
           "NJ"
          ],
          [
           1327,
           1661,
           294,
           "NJ"
          ],
          [
           1914,
           2290,
           327,
           "NJ"
          ],
          [
           2844,
           3297,
           359,
           "NJ"
          ],
          [
           3675,
           12045,
           8325,
           "NJ"
          ],
          [
           4402,
           14854,
           10452,
           "NJ"
          ],
          [
           6876,
           20537,
           13661,
           "NJ"
          ],
          [
           8825,
           25372,
           16547,
           "NJ"
          ],
          [
           11124,
           30510,
           19386,
           "NJ"
          ],
          [
           13386,
           35602,
           22216,
           "NJ"
          ],
          [
           16636,
           41860,
           25224,
           "NJ"
          ],
          [
           18696,
           45773,
           27077,
           "NJ"
          ],
          [
           22255,
           52642,
           30387,
           "NJ"
          ],
          [
           25590,
           59110,
           33520,
           "NJ"
          ],
          [
           29895,
           67503,
           37608,
           "NJ"
          ],
          [
           34124,
           75356,
           41232,
           "NJ"
          ],
          [
           37505,
           82166,
           44661,
           "NJ"
          ],
          [
           41090,
           89032,
           47942,
           "NJ"
          ],
          [
           44416,
           94974,
           50558,
           "NJ"
          ],
          [
           47437,
           100416,
           52979,
           "NJ"
          ]
         ],
         "hovertemplate": "<b>%{hovertext}</b><br><br>State=%{customdata[3]}<br>TotalTestResultsIncrease=%{x}<br>PositiveIncrease=%{y}<br>Positive=%{customdata[0]}<br>Total=%{customdata[1]}<br>Negative=%{customdata[2]}<extra></extra>",
         "hovertext": [
          "2020-03-05",
          "2020-03-06",
          "2020-03-07",
          "2020-03-08",
          "2020-03-09",
          "2020-03-10",
          "2020-03-11",
          "2020-03-12",
          "2020-03-13",
          "2020-03-14",
          "2020-03-15",
          "2020-03-16",
          "2020-03-17",
          "2020-03-18",
          "2020-03-19",
          "2020-03-20",
          "2020-03-21",
          "2020-03-22",
          "2020-03-23",
          "2020-03-24",
          "2020-03-25",
          "2020-03-26",
          "2020-03-27",
          "2020-03-28",
          "2020-03-29",
          "2020-03-30",
          "2020-03-31",
          "2020-04-01",
          "2020-04-02",
          "2020-04-03",
          "2020-04-04",
          "2020-04-05",
          "2020-04-06",
          "2020-04-07",
          "2020-04-08"
         ],
         "legendgroup": "NJ",
         "marker": {
          "color": "#4C78A8",
          "symbol": "circle"
         },
         "mode": "markers",
         "name": "NJ",
         "showlegend": true,
         "type": "scatter",
         "x": [
          null,
          0,
          3,
          33,
          9,
          13,
          22,
          23,
          43,
          0,
          71,
          80,
          132,
          187,
          335,
          202,
          467,
          620,
          962,
          8797,
          2854,
          5683,
          4835,
          5138,
          5092,
          6258,
          3913,
          6869,
          6468,
          8393,
          7853,
          6810,
          6866,
          5942,
          5442
         ],
         "xaxis": "x",
         "y": [
          null,
          0,
          3,
          2,
          5,
          4,
          9,
          6,
          20,
          0,
          48,
          80,
          89,
          160,
          315,
          148,
          437,
          587,
          930,
          831,
          727,
          2474,
          1949,
          2299,
          2262,
          3250,
          2060,
          3559,
          3335,
          4305,
          4229,
          3381,
          3585,
          3326,
          3021
         ],
         "yaxis": "y"
        },
        {
         "customdata": [
          [
           6,
           78,
           48,
           "NY"
          ],
          [
           22,
           122,
           76,
           "NY"
          ],
          [
           33,
           361,
           92,
           "NY"
          ],
          [
           76,
           404,
           92,
           "NY"
          ],
          [
           105,
           197,
           92,
           "NY"
          ],
          [
           142,
           234,
           92,
           "NY"
          ],
          [
           173,
           265,
           92,
           "NY"
          ],
          [
           216,
           308,
           92,
           "NY"
          ],
          [
           216,
           308,
           92,
           "NY"
          ],
          [
           421,
           3200,
           2779,
           "NY"
          ],
          [
           524,
           3303,
           2779,
           "NY"
          ],
          [
           729,
           5272,
           4543,
           "NY"
          ],
          [
           950,
           5493,
           4543,
           "NY"
          ],
          [
           1700,
           7206,
           5506,
           "NY"
          ],
          [
           2382,
           14597,
           12215,
           "NY"
          ],
          [
           4152,
           22284,
           18132,
           "NY"
          ],
          [
           7102,
           32427,
           25325,
           "NY"
          ],
          [
           10356,
           45437,
           35081,
           "NY"
          ],
          [
           15168,
           61401,
           46233,
           "NY"
          ],
          [
           20875,
           78289,
           57414,
           "NY"
          ],
          [
           25665,
           91270,
           65605,
           "NY"
          ],
          [
           30811,
           103479,
           72668,
           "NY"
          ],
          [
           37258,
           122104,
           84846,
           "NY"
          ],
          [
           44635,
           145753,
           101118,
           "NY"
          ],
          [
           52318,
           155934,
           103616,
           "NY"
          ],
          [
           59513,
           172360,
           112847,
           "NY"
          ],
          [
           66497,
           186468,
           119971,
           "NY"
          ],
          [
           75795,
           205186,
           129391,
           "NY"
          ],
          [
           83712,
           220880,
           137168,
           "NY"
          ],
          [
           92381,
           238965,
           146584,
           "NY"
          ],
          [
           102863,
           260520,
           157657,
           "NY"
          ],
          [
           113704,
           283621,
           169917,
           "NY"
          ],
          [
           122031,
           302280,
           180249,
           "NY"
          ],
          [
           130689,
           320811,
           190122,
           "NY"
          ],
          [
           138863,
           340058,
           201195,
           "NY"
          ],
          [
           149316,
           365153,
           215837,
           "NY"
          ]
         ],
         "hovertemplate": "<b>%{hovertext}</b><br><br>State=%{customdata[3]}<br>TotalTestResultsIncrease=%{x}<br>PositiveIncrease=%{y}<br>Positive=%{customdata[0]}<br>Total=%{customdata[1]}<br>Negative=%{customdata[2]}<extra></extra>",
         "hovertext": [
          "2020-03-04",
          "2020-03-05",
          "2020-03-06",
          "2020-03-07",
          "2020-03-08",
          "2020-03-09",
          "2020-03-10",
          "2020-03-11",
          "2020-03-12",
          "2020-03-13",
          "2020-03-14",
          "2020-03-15",
          "2020-03-16",
          "2020-03-17",
          "2020-03-18",
          "2020-03-19",
          "2020-03-20",
          "2020-03-21",
          "2020-03-22",
          "2020-03-23",
          "2020-03-24",
          "2020-03-25",
          "2020-03-26",
          "2020-03-27",
          "2020-03-28",
          "2020-03-29",
          "2020-03-30",
          "2020-03-31",
          "2020-04-01",
          "2020-04-02",
          "2020-04-03",
          "2020-04-04",
          "2020-04-05",
          "2020-04-06",
          "2020-04-07",
          "2020-04-08"
         ],
         "legendgroup": "NY",
         "marker": {
          "color": "#F58518",
          "symbol": "circle"
         },
         "mode": "markers",
         "name": "NY",
         "showlegend": true,
         "type": "scatter",
         "x": [
          null,
          44,
          27,
          43,
          29,
          37,
          31,
          43,
          0,
          2892,
          103,
          1969,
          221,
          1713,
          7391,
          7687,
          10143,
          13010,
          15964,
          16888,
          12981,
          12209,
          18625,
          23649,
          10181,
          16426,
          14108,
          18718,
          15694,
          18085,
          21555,
          23101,
          18659,
          18531,
          19247,
          25095
         ],
         "xaxis": "x",
         "y": [
          null,
          16,
          11,
          43,
          29,
          37,
          31,
          43,
          0,
          205,
          103,
          205,
          221,
          750,
          682,
          1770,
          2950,
          3254,
          4812,
          5707,
          4790,
          5146,
          6447,
          7377,
          7683,
          7195,
          6984,
          9298,
          7917,
          8669,
          10482,
          10841,
          8327,
          8658,
          8174,
          10453
         ],
         "yaxis": "y"
        },
        {
         "customdata": [
          [
           0,
           21,
           18,
           "VA"
          ],
          [
           0,
           31,
           21,
           "VA"
          ],
          [
           0,
           38,
           31,
           "VA"
          ],
          [
           2,
           44,
           36,
           "VA"
          ],
          [
           3,
           50,
           38,
           "VA"
          ],
          [
           8,
           61,
           53,
           "VA"
          ],
          [
           9,
           69,
           60,
           "VA"
          ],
          [
           17,
           134,
           117,
           "VA"
          ],
          [
           30,
           147,
           117,
           "VA"
          ],
          [
           30,
           147,
           117,
           "VA"
          ],
          [
           45,
           408,
           363,
           "VA"
          ],
          [
           51,
           489,
           438,
           "VA"
          ],
          [
           67,
           1028,
           961,
           "VA"
          ],
          [
           77,
           1278,
           1201,
           "VA"
          ],
          [
           94,
           1923,
           1829,
           "VA"
          ],
          [
           114,
           2325,
           2211,
           "VA"
          ],
          [
           152,
           2790,
           2638,
           "VA"
          ],
          [
           219,
           3337,
           3118,
           "VA"
          ],
          [
           254,
           3697,
           3443,
           "VA"
          ],
          [
           290,
           4470,
           4180,
           "VA"
          ],
          [
           391,
           5370,
           4979,
           "VA"
          ],
          [
           460,
           6189,
           5729,
           "VA"
          ],
          [
           604,
           7337,
           6733,
           "VA"
          ],
          [
           739,
           9166,
           8427,
           "VA"
          ],
          [
           890,
           10609,
           9719,
           "VA"
          ],
          [
           1020,
           12038,
           11018,
           "VA"
          ],
          [
           1250,
           13401,
           12151,
           "VA"
          ],
          [
           1484,
           15344,
           13860,
           "VA"
          ],
          [
           1706,
           17589,
           15883,
           "VA"
          ],
          [
           2012,
           19005,
           16993,
           "VA"
          ],
          [
           2407,
           21552,
           19145,
           "VA"
          ],
          [
           2637,
           23671,
           21034,
           "VA"
          ],
          [
           2878,
           24521,
           21643,
           "VA"
          ],
          [
           3333,
           28645,
           25312,
           "VA"
          ],
          [
           3645,
           30645,
           27000,
           "VA"
          ]
         ],
         "hovertemplate": "<b>%{hovertext}</b><br><br>State=%{customdata[3]}<br>TotalTestResultsIncrease=%{x}<br>PositiveIncrease=%{y}<br>Positive=%{customdata[0]}<br>Total=%{customdata[1]}<br>Negative=%{customdata[2]}<extra></extra>",
         "hovertext": [
          "2020-03-05",
          "2020-03-06",
          "2020-03-07",
          "2020-03-08",
          "2020-03-09",
          "2020-03-10",
          "2020-03-11",
          "2020-03-12",
          "2020-03-13",
          "2020-03-14",
          "2020-03-15",
          "2020-03-16",
          "2020-03-17",
          "2020-03-18",
          "2020-03-19",
          "2020-03-20",
          "2020-03-21",
          "2020-03-22",
          "2020-03-23",
          "2020-03-24",
          "2020-03-25",
          "2020-03-26",
          "2020-03-27",
          "2020-03-28",
          "2020-03-29",
          "2020-03-30",
          "2020-03-31",
          "2020-04-01",
          "2020-04-02",
          "2020-04-03",
          "2020-04-04",
          "2020-04-05",
          "2020-04-06",
          "2020-04-07",
          "2020-04-08"
         ],
         "legendgroup": "VA",
         "marker": {
          "color": "#E45756",
          "symbol": "circle"
         },
         "mode": "markers",
         "name": "VA",
         "showlegend": true,
         "type": "scatter",
         "x": [
          null,
          3,
          10,
          7,
          3,
          20,
          8,
          65,
          13,
          0,
          261,
          81,
          539,
          250,
          645,
          402,
          465,
          547,
          360,
          773,
          900,
          819,
          1148,
          1829,
          1443,
          1429,
          1363,
          1943,
          2245,
          1416,
          2547,
          2119,
          850,
          4124,
          2000
         ],
         "xaxis": "x",
         "y": [
          null,
          0,
          0,
          2,
          1,
          5,
          1,
          8,
          13,
          0,
          15,
          6,
          16,
          10,
          17,
          20,
          38,
          67,
          35,
          36,
          101,
          69,
          144,
          135,
          151,
          130,
          230,
          234,
          222,
          306,
          395,
          230,
          241,
          455,
          312
         ],
         "yaxis": "y"
        },
        {
         "customdata": [
          [
           39,
           39,
           null,
           "WA"
          ],
          [
           70,
           70,
           null,
           "WA"
          ],
          [
           79,
           449,
           370,
           "WA"
          ],
          [
           102,
           538,
           370,
           "WA"
          ],
          [
           102,
           802,
           640,
           "WA"
          ],
          [
           136,
           1246,
           1110,
           "WA"
          ],
          [
           162,
           1272,
           1110,
           "WA"
          ],
          [
           267,
           2442,
           2175,
           "WA"
          ],
          [
           337,
           3374,
           3037,
           "WA"
          ],
          [
           457,
           4807,
           4350,
           "WA"
          ],
          [
           568,
           6569,
           6001,
           "WA"
          ],
          [
           642,
           7764,
           7122,
           "WA"
          ],
          [
           769,
           10220,
           9451,
           "WA"
          ],
          [
           904,
           12486,
           11582,
           "WA"
          ],
          [
           1012,
           14129,
           13117,
           "WA"
          ],
          [
           1187,
           17105,
           15918,
           "WA"
          ],
          [
           1376,
           20712,
           19336,
           "WA"
          ],
          [
           1524,
           23243,
           21719,
           "WA"
          ],
          [
           1793,
           27121,
           25328,
           "WA"
          ],
          [
           1996,
           30875,
           28879,
           "WA"
          ],
          [
           2221,
           33933,
           31712,
           "WA"
          ],
          [
           2469,
           34181,
           31712,
           "WA"
          ],
          [
           2580,
           34292,
           31712,
           "WA"
          ],
          [
           3207,
           46380,
           43173,
           "WA"
          ],
          [
           3723,
           52738,
           49015,
           "WA"
          ],
          [
           4310,
           59206,
           54896,
           "WA"
          ],
          [
           4896,
           65462,
           60566,
           "WA"
          ],
          [
           4896,
           65462,
           60566,
           "WA"
          ],
          [
           5634,
           66200,
           60566,
           "WA"
          ],
          [
           5984,
           74798,
           68814,
           "WA"
          ],
          [
           6585,
           79418,
           72833,
           "WA"
          ],
          [
           6966,
           82599,
           75633,
           "WA"
          ],
          [
           7591,
           87918,
           80327,
           "WA"
          ],
          [
           7984,
           91375,
           83391,
           "WA"
          ],
          [
           8384,
           91775,
           83391,
           "WA"
          ],
          [
           8682,
           92073,
           83391,
           "WA"
          ]
         ],
         "hovertemplate": "<b>%{hovertext}</b><br><br>State=%{customdata[3]}<br>TotalTestResultsIncrease=%{x}<br>PositiveIncrease=%{y}<br>Positive=%{customdata[0]}<br>Total=%{customdata[1]}<br>Negative=%{customdata[2]}<extra></extra>",
         "hovertext": [
          "2020-03-04",
          "2020-03-05",
          "2020-03-06",
          "2020-03-07",
          "2020-03-08",
          "2020-03-09",
          "2020-03-10",
          "2020-03-11",
          "2020-03-12",
          "2020-03-13",
          "2020-03-14",
          "2020-03-15",
          "2020-03-16",
          "2020-03-17",
          "2020-03-18",
          "2020-03-19",
          "2020-03-20",
          "2020-03-21",
          "2020-03-22",
          "2020-03-23",
          "2020-03-24",
          "2020-03-25",
          "2020-03-26",
          "2020-03-27",
          "2020-03-28",
          "2020-03-29",
          "2020-03-30",
          "2020-03-31",
          "2020-04-01",
          "2020-04-02",
          "2020-04-03",
          "2020-04-04",
          "2020-04-05",
          "2020-04-06",
          "2020-04-07",
          "2020-04-08"
         ],
         "legendgroup": "WA",
         "marker": {
          "color": "#72B7B2",
          "symbol": "circle"
         },
         "mode": "markers",
         "name": "WA",
         "showlegend": true,
         "type": "scatter",
         "x": [
          null,
          31,
          379,
          23,
          270,
          504,
          26,
          1170,
          932,
          1433,
          1762,
          1195,
          2456,
          2266,
          1643,
          2976,
          3607,
          2531,
          3878,
          3754,
          3058,
          248,
          111,
          12088,
          6358,
          6468,
          6256,
          0,
          738,
          8598,
          4620,
          3181,
          5319,
          3457,
          400,
          298
         ],
         "xaxis": "x",
         "y": [
          null,
          31,
          9,
          23,
          0,
          34,
          26,
          105,
          70,
          120,
          111,
          74,
          127,
          135,
          108,
          175,
          189,
          148,
          269,
          203,
          225,
          248,
          111,
          627,
          516,
          587,
          586,
          0,
          738,
          350,
          601,
          381,
          625,
          393,
          400,
          298
         ],
         "yaxis": "y"
        }
       ],
       "layout": {
        "legend": {
         "title": {
          "text": "State"
         },
         "tracegroupgap": 0
        },
        "template": {
         "data": {
          "bar": [
           {
            "error_x": {
             "color": "rgb(51,51,51)"
            },
            "error_y": {
             "color": "rgb(51,51,51)"
            },
            "marker": {
             "line": {
              "color": "rgb(237,237,237)",
              "width": 0.5
             }
            },
            "type": "bar"
           }
          ],
          "barpolar": [
           {
            "marker": {
             "line": {
              "color": "rgb(237,237,237)",
              "width": 0.5
             }
            },
            "type": "barpolar"
           }
          ],
          "carpet": [
           {
            "aaxis": {
             "endlinecolor": "rgb(51,51,51)",
             "gridcolor": "white",
             "linecolor": "white",
             "minorgridcolor": "white",
             "startlinecolor": "rgb(51,51,51)"
            },
            "baxis": {
             "endlinecolor": "rgb(51,51,51)",
             "gridcolor": "white",
             "linecolor": "white",
             "minorgridcolor": "white",
             "startlinecolor": "rgb(51,51,51)"
            },
            "type": "carpet"
           }
          ],
          "choropleth": [
           {
            "colorbar": {
             "outlinewidth": 0,
             "tickcolor": "rgb(237,237,237)",
             "ticklen": 6,
             "ticks": "inside"
            },
            "type": "choropleth"
           }
          ],
          "contour": [
           {
            "colorbar": {
             "outlinewidth": 0,
             "tickcolor": "rgb(237,237,237)",
             "ticklen": 6,
             "ticks": "inside"
            },
            "colorscale": [
             [
              0,
              "rgb(20,44,66)"
             ],
             [
              1,
              "rgb(90,179,244)"
             ]
            ],
            "type": "contour"
           }
          ],
          "contourcarpet": [
           {
            "colorbar": {
             "outlinewidth": 0,
             "tickcolor": "rgb(237,237,237)",
             "ticklen": 6,
             "ticks": "inside"
            },
            "type": "contourcarpet"
           }
          ],
          "heatmap": [
           {
            "colorbar": {
             "outlinewidth": 0,
             "tickcolor": "rgb(237,237,237)",
             "ticklen": 6,
             "ticks": "inside"
            },
            "colorscale": [
             [
              0,
              "rgb(20,44,66)"
             ],
             [
              1,
              "rgb(90,179,244)"
             ]
            ],
            "type": "heatmap"
           }
          ],
          "heatmapgl": [
           {
            "colorbar": {
             "outlinewidth": 0,
             "tickcolor": "rgb(237,237,237)",
             "ticklen": 6,
             "ticks": "inside"
            },
            "colorscale": [
             [
              0,
              "rgb(20,44,66)"
             ],
             [
              1,
              "rgb(90,179,244)"
             ]
            ],
            "type": "heatmapgl"
           }
          ],
          "histogram": [
           {
            "marker": {
             "colorbar": {
              "outlinewidth": 0,
              "tickcolor": "rgb(237,237,237)",
              "ticklen": 6,
              "ticks": "inside"
             }
            },
            "type": "histogram"
           }
          ],
          "histogram2d": [
           {
            "colorbar": {
             "outlinewidth": 0,
             "tickcolor": "rgb(237,237,237)",
             "ticklen": 6,
             "ticks": "inside"
            },
            "colorscale": [
             [
              0,
              "rgb(20,44,66)"
             ],
             [
              1,
              "rgb(90,179,244)"
             ]
            ],
            "type": "histogram2d"
           }
          ],
          "histogram2dcontour": [
           {
            "colorbar": {
             "outlinewidth": 0,
             "tickcolor": "rgb(237,237,237)",
             "ticklen": 6,
             "ticks": "inside"
            },
            "colorscale": [
             [
              0,
              "rgb(20,44,66)"
             ],
             [
              1,
              "rgb(90,179,244)"
             ]
            ],
            "type": "histogram2dcontour"
           }
          ],
          "mesh3d": [
           {
            "colorbar": {
             "outlinewidth": 0,
             "tickcolor": "rgb(237,237,237)",
             "ticklen": 6,
             "ticks": "inside"
            },
            "type": "mesh3d"
           }
          ],
          "parcoords": [
           {
            "line": {
             "colorbar": {
              "outlinewidth": 0,
              "tickcolor": "rgb(237,237,237)",
              "ticklen": 6,
              "ticks": "inside"
             }
            },
            "type": "parcoords"
           }
          ],
          "pie": [
           {
            "automargin": true,
            "type": "pie"
           }
          ],
          "scatter": [
           {
            "marker": {
             "colorbar": {
              "outlinewidth": 0,
              "tickcolor": "rgb(237,237,237)",
              "ticklen": 6,
              "ticks": "inside"
             }
            },
            "type": "scatter"
           }
          ],
          "scatter3d": [
           {
            "line": {
             "colorbar": {
              "outlinewidth": 0,
              "tickcolor": "rgb(237,237,237)",
              "ticklen": 6,
              "ticks": "inside"
             }
            },
            "marker": {
             "colorbar": {
              "outlinewidth": 0,
              "tickcolor": "rgb(237,237,237)",
              "ticklen": 6,
              "ticks": "inside"
             }
            },
            "type": "scatter3d"
           }
          ],
          "scattercarpet": [
           {
            "marker": {
             "colorbar": {
              "outlinewidth": 0,
              "tickcolor": "rgb(237,237,237)",
              "ticklen": 6,
              "ticks": "inside"
             }
            },
            "type": "scattercarpet"
           }
          ],
          "scattergeo": [
           {
            "marker": {
             "colorbar": {
              "outlinewidth": 0,
              "tickcolor": "rgb(237,237,237)",
              "ticklen": 6,
              "ticks": "inside"
             }
            },
            "type": "scattergeo"
           }
          ],
          "scattergl": [
           {
            "marker": {
             "colorbar": {
              "outlinewidth": 0,
              "tickcolor": "rgb(237,237,237)",
              "ticklen": 6,
              "ticks": "inside"
             }
            },
            "type": "scattergl"
           }
          ],
          "scattermapbox": [
           {
            "marker": {
             "colorbar": {
              "outlinewidth": 0,
              "tickcolor": "rgb(237,237,237)",
              "ticklen": 6,
              "ticks": "inside"
             }
            },
            "type": "scattermapbox"
           }
          ],
          "scatterpolar": [
           {
            "marker": {
             "colorbar": {
              "outlinewidth": 0,
              "tickcolor": "rgb(237,237,237)",
              "ticklen": 6,
              "ticks": "inside"
             }
            },
            "type": "scatterpolar"
           }
          ],
          "scatterpolargl": [
           {
            "marker": {
             "colorbar": {
              "outlinewidth": 0,
              "tickcolor": "rgb(237,237,237)",
              "ticklen": 6,
              "ticks": "inside"
             }
            },
            "type": "scatterpolargl"
           }
          ],
          "scatterternary": [
           {
            "marker": {
             "colorbar": {
              "outlinewidth": 0,
              "tickcolor": "rgb(237,237,237)",
              "ticklen": 6,
              "ticks": "inside"
             }
            },
            "type": "scatterternary"
           }
          ],
          "surface": [
           {
            "colorbar": {
             "outlinewidth": 0,
             "tickcolor": "rgb(237,237,237)",
             "ticklen": 6,
             "ticks": "inside"
            },
            "colorscale": [
             [
              0,
              "rgb(20,44,66)"
             ],
             [
              1,
              "rgb(90,179,244)"
             ]
            ],
            "type": "surface"
           }
          ],
          "table": [
           {
            "cells": {
             "fill": {
              "color": "rgb(237,237,237)"
             },
             "line": {
              "color": "white"
             }
            },
            "header": {
             "fill": {
              "color": "rgb(217,217,217)"
             },
             "line": {
              "color": "white"
             }
            },
            "type": "table"
           }
          ]
         },
         "layout": {
          "annotationdefaults": {
           "arrowhead": 0,
           "arrowwidth": 1
          },
          "coloraxis": {
           "colorbar": {
            "outlinewidth": 0,
            "tickcolor": "rgb(237,237,237)",
            "ticklen": 6,
            "ticks": "inside"
           }
          },
          "colorscale": {
           "sequential": [
            [
             0,
             "rgb(20,44,66)"
            ],
            [
             1,
             "rgb(90,179,244)"
            ]
           ],
           "sequentialminus": [
            [
             0,
             "rgb(20,44,66)"
            ],
            [
             1,
             "rgb(90,179,244)"
            ]
           ]
          },
          "colorway": [
           "#F8766D",
           "#A3A500",
           "#00BF7D",
           "#00B0F6",
           "#E76BF3"
          ],
          "font": {
           "color": "rgb(51,51,51)"
          },
          "geo": {
           "bgcolor": "white",
           "lakecolor": "white",
           "landcolor": "rgb(237,237,237)",
           "showlakes": true,
           "showland": true,
           "subunitcolor": "white"
          },
          "hoverlabel": {
           "align": "left"
          },
          "hovermode": "closest",
          "paper_bgcolor": "white",
          "plot_bgcolor": "rgb(237,237,237)",
          "polar": {
           "angularaxis": {
            "gridcolor": "white",
            "linecolor": "white",
            "showgrid": true,
            "tickcolor": "rgb(51,51,51)",
            "ticks": "outside"
           },
           "bgcolor": "rgb(237,237,237)",
           "radialaxis": {
            "gridcolor": "white",
            "linecolor": "white",
            "showgrid": true,
            "tickcolor": "rgb(51,51,51)",
            "ticks": "outside"
           }
          },
          "scene": {
           "xaxis": {
            "backgroundcolor": "rgb(237,237,237)",
            "gridcolor": "white",
            "gridwidth": 2,
            "linecolor": "white",
            "showbackground": true,
            "showgrid": true,
            "tickcolor": "rgb(51,51,51)",
            "ticks": "outside",
            "zerolinecolor": "white"
           },
           "yaxis": {
            "backgroundcolor": "rgb(237,237,237)",
            "gridcolor": "white",
            "gridwidth": 2,
            "linecolor": "white",
            "showbackground": true,
            "showgrid": true,
            "tickcolor": "rgb(51,51,51)",
            "ticks": "outside",
            "zerolinecolor": "white"
           },
           "zaxis": {
            "backgroundcolor": "rgb(237,237,237)",
            "gridcolor": "white",
            "gridwidth": 2,
            "linecolor": "white",
            "showbackground": true,
            "showgrid": true,
            "tickcolor": "rgb(51,51,51)",
            "ticks": "outside",
            "zerolinecolor": "white"
           }
          },
          "shapedefaults": {
           "fillcolor": "black",
           "line": {
            "width": 0
           },
           "opacity": 0.3
          },
          "ternary": {
           "aaxis": {
            "gridcolor": "white",
            "linecolor": "white",
            "showgrid": true,
            "tickcolor": "rgb(51,51,51)",
            "ticks": "outside"
           },
           "baxis": {
            "gridcolor": "white",
            "linecolor": "white",
            "showgrid": true,
            "tickcolor": "rgb(51,51,51)",
            "ticks": "outside"
           },
           "bgcolor": "rgb(237,237,237)",
           "caxis": {
            "gridcolor": "white",
            "linecolor": "white",
            "showgrid": true,
            "tickcolor": "rgb(51,51,51)",
            "ticks": "outside"
           }
          },
          "xaxis": {
           "automargin": true,
           "gridcolor": "white",
           "linecolor": "white",
           "showgrid": true,
           "tickcolor": "rgb(51,51,51)",
           "ticks": "outside",
           "title": {
            "standoff": 15
           },
           "zerolinecolor": "white"
          },
          "yaxis": {
           "automargin": true,
           "gridcolor": "white",
           "linecolor": "white",
           "showgrid": true,
           "tickcolor": "rgb(51,51,51)",
           "ticks": "outside",
           "title": {
            "standoff": 15
           },
           "zerolinecolor": "white"
          }
         }
        },
        "title": {
         "text": "Daily Positive to Total RT-PCR Test Ratio"
        },
        "xaxis": {
         "anchor": "y",
         "domain": [
          0,
          1
         ],
         "title": {
          "text": "TotalTestResultsIncrease"
         },
         "type": "log"
        },
        "yaxis": {
         "anchor": "x",
         "domain": [
          0,
          1
         ],
         "title": {
          "text": "PositiveIncrease"
         },
         "type": "log"
        }
       }
      },
      "text/html": [
       "<div>\n",
       "        \n",
       "        \n",
       "            <div id=\"4634eacf-46ea-4792-8206-25fd79a3536d\" class=\"plotly-graph-div\" style=\"height:525px; width:100%;\"></div>\n",
       "            <script type=\"text/javascript\">\n",
       "                require([\"plotly\"], function(Plotly) {\n",
       "                    window.PLOTLYENV=window.PLOTLYENV || {};\n",
       "                    \n",
       "                if (document.getElementById(\"4634eacf-46ea-4792-8206-25fd79a3536d\")) {\n",
       "                    Plotly.newPlot(\n",
       "                        '4634eacf-46ea-4792-8206-25fd79a3536d',\n",
       "                        [{\"customdata\": [[1.0, 1.0, null, \"NJ\"], [1.0, 1.0, null, \"NJ\"], [4.0, 5.0, null, \"NJ\"], [6.0, 37.0, 31.0, \"NJ\"], [11.0, 60.0, 35.0, \"NJ\"], [15.0, 79.0, 44.0, \"NJ\"], [24.0, 101.0, 57.0, \"NJ\"], [30.0, 124.0, 74.0, \"NJ\"], [50.0, 227.0, 97.0, \"NJ\"], [50.0, 227.0, 97.0, \"NJ\"], [98.0, 252.0, 120.0, \"NJ\"], [178.0, 318.0, 120.0, \"NJ\"], [267.0, 485.0, 163.0, \"NJ\"], [427.0, 638.0, 190.0, \"NJ\"], [742.0, 1026.0, 210.0, \"NJ\"], [890.0, 1240.0, 264.0, \"NJ\"], [1327.0, 1661.0, 294.0, \"NJ\"], [1914.0, 2290.0, 327.0, \"NJ\"], [2844.0, 3297.0, 359.0, \"NJ\"], [3675.0, 12045.0, 8325.0, \"NJ\"], [4402.0, 14854.0, 10452.0, \"NJ\"], [6876.0, 20537.0, 13661.0, \"NJ\"], [8825.0, 25372.0, 16547.0, \"NJ\"], [11124.0, 30510.0, 19386.0, \"NJ\"], [13386.0, 35602.0, 22216.0, \"NJ\"], [16636.0, 41860.0, 25224.0, \"NJ\"], [18696.0, 45773.0, 27077.0, \"NJ\"], [22255.0, 52642.0, 30387.0, \"NJ\"], [25590.0, 59110.0, 33520.0, \"NJ\"], [29895.0, 67503.0, 37608.0, \"NJ\"], [34124.0, 75356.0, 41232.0, \"NJ\"], [37505.0, 82166.0, 44661.0, \"NJ\"], [41090.0, 89032.0, 47942.0, \"NJ\"], [44416.0, 94974.0, 50558.0, \"NJ\"], [47437.0, 100416.0, 52979.0, \"NJ\"]], \"hovertemplate\": \"<b>%{hovertext}</b><br><br>State=%{customdata[3]}<br>TotalTestResultsIncrease=%{x}<br>PositiveIncrease=%{y}<br>Positive=%{customdata[0]}<br>Total=%{customdata[1]}<br>Negative=%{customdata[2]}<extra></extra>\", \"hovertext\": [\"2020-03-05\", \"2020-03-06\", \"2020-03-07\", \"2020-03-08\", \"2020-03-09\", \"2020-03-10\", \"2020-03-11\", \"2020-03-12\", \"2020-03-13\", \"2020-03-14\", \"2020-03-15\", \"2020-03-16\", \"2020-03-17\", \"2020-03-18\", \"2020-03-19\", \"2020-03-20\", \"2020-03-21\", \"2020-03-22\", \"2020-03-23\", \"2020-03-24\", \"2020-03-25\", \"2020-03-26\", \"2020-03-27\", \"2020-03-28\", \"2020-03-29\", \"2020-03-30\", \"2020-03-31\", \"2020-04-01\", \"2020-04-02\", \"2020-04-03\", \"2020-04-04\", \"2020-04-05\", \"2020-04-06\", \"2020-04-07\", \"2020-04-08\"], \"legendgroup\": \"NJ\", \"marker\": {\"color\": \"#4C78A8\", \"symbol\": \"circle\"}, \"mode\": \"markers\", \"name\": \"NJ\", \"showlegend\": true, \"type\": \"scatter\", \"x\": [null, 0.0, 3.0, 33.0, 9.0, 13.0, 22.0, 23.0, 43.0, 0.0, 71.0, 80.0, 132.0, 187.0, 335.0, 202.0, 467.0, 620.0, 962.0, 8797.0, 2854.0, 5683.0, 4835.0, 5138.0, 5092.0, 6258.0, 3913.0, 6869.0, 6468.0, 8393.0, 7853.0, 6810.0, 6866.0, 5942.0, 5442.0], \"xaxis\": \"x\", \"y\": [null, 0.0, 3.0, 2.0, 5.0, 4.0, 9.0, 6.0, 20.0, 0.0, 48.0, 80.0, 89.0, 160.0, 315.0, 148.0, 437.0, 587.0, 930.0, 831.0, 727.0, 2474.0, 1949.0, 2299.0, 2262.0, 3250.0, 2060.0, 3559.0, 3335.0, 4305.0, 4229.0, 3381.0, 3585.0, 3326.0, 3021.0], \"yaxis\": \"y\"}, {\"customdata\": [[6.0, 78.0, 48.0, \"NY\"], [22.0, 122.0, 76.0, \"NY\"], [33.0, 361.0, 92.0, \"NY\"], [76.0, 404.0, 92.0, \"NY\"], [105.0, 197.0, 92.0, \"NY\"], [142.0, 234.0, 92.0, \"NY\"], [173.0, 265.0, 92.0, \"NY\"], [216.0, 308.0, 92.0, \"NY\"], [216.0, 308.0, 92.0, \"NY\"], [421.0, 3200.0, 2779.0, \"NY\"], [524.0, 3303.0, 2779.0, \"NY\"], [729.0, 5272.0, 4543.0, \"NY\"], [950.0, 5493.0, 4543.0, \"NY\"], [1700.0, 7206.0, 5506.0, \"NY\"], [2382.0, 14597.0, 12215.0, \"NY\"], [4152.0, 22284.0, 18132.0, \"NY\"], [7102.0, 32427.0, 25325.0, \"NY\"], [10356.0, 45437.0, 35081.0, \"NY\"], [15168.0, 61401.0, 46233.0, \"NY\"], [20875.0, 78289.0, 57414.0, \"NY\"], [25665.0, 91270.0, 65605.0, \"NY\"], [30811.0, 103479.0, 72668.0, \"NY\"], [37258.0, 122104.0, 84846.0, \"NY\"], [44635.0, 145753.0, 101118.0, \"NY\"], [52318.0, 155934.0, 103616.0, \"NY\"], [59513.0, 172360.0, 112847.0, \"NY\"], [66497.0, 186468.0, 119971.0, \"NY\"], [75795.0, 205186.0, 129391.0, \"NY\"], [83712.0, 220880.0, 137168.0, \"NY\"], [92381.0, 238965.0, 146584.0, \"NY\"], [102863.0, 260520.0, 157657.0, \"NY\"], [113704.0, 283621.0, 169917.0, \"NY\"], [122031.0, 302280.0, 180249.0, \"NY\"], [130689.0, 320811.0, 190122.0, \"NY\"], [138863.0, 340058.0, 201195.0, \"NY\"], [149316.0, 365153.0, 215837.0, \"NY\"]], \"hovertemplate\": \"<b>%{hovertext}</b><br><br>State=%{customdata[3]}<br>TotalTestResultsIncrease=%{x}<br>PositiveIncrease=%{y}<br>Positive=%{customdata[0]}<br>Total=%{customdata[1]}<br>Negative=%{customdata[2]}<extra></extra>\", \"hovertext\": [\"2020-03-04\", \"2020-03-05\", \"2020-03-06\", \"2020-03-07\", \"2020-03-08\", \"2020-03-09\", \"2020-03-10\", \"2020-03-11\", \"2020-03-12\", \"2020-03-13\", \"2020-03-14\", \"2020-03-15\", \"2020-03-16\", \"2020-03-17\", \"2020-03-18\", \"2020-03-19\", \"2020-03-20\", \"2020-03-21\", \"2020-03-22\", \"2020-03-23\", \"2020-03-24\", \"2020-03-25\", \"2020-03-26\", \"2020-03-27\", \"2020-03-28\", \"2020-03-29\", \"2020-03-30\", \"2020-03-31\", \"2020-04-01\", \"2020-04-02\", \"2020-04-03\", \"2020-04-04\", \"2020-04-05\", \"2020-04-06\", \"2020-04-07\", \"2020-04-08\"], \"legendgroup\": \"NY\", \"marker\": {\"color\": \"#F58518\", \"symbol\": \"circle\"}, \"mode\": \"markers\", \"name\": \"NY\", \"showlegend\": true, \"type\": \"scatter\", \"x\": [null, 44.0, 27.0, 43.0, 29.0, 37.0, 31.0, 43.0, 0.0, 2892.0, 103.0, 1969.0, 221.0, 1713.0, 7391.0, 7687.0, 10143.0, 13010.0, 15964.0, 16888.0, 12981.0, 12209.0, 18625.0, 23649.0, 10181.0, 16426.0, 14108.0, 18718.0, 15694.0, 18085.0, 21555.0, 23101.0, 18659.0, 18531.0, 19247.0, 25095.0], \"xaxis\": \"x\", \"y\": [null, 16.0, 11.0, 43.0, 29.0, 37.0, 31.0, 43.0, 0.0, 205.0, 103.0, 205.0, 221.0, 750.0, 682.0, 1770.0, 2950.0, 3254.0, 4812.0, 5707.0, 4790.0, 5146.0, 6447.0, 7377.0, 7683.0, 7195.0, 6984.0, 9298.0, 7917.0, 8669.0, 10482.0, 10841.0, 8327.0, 8658.0, 8174.0, 10453.0], \"yaxis\": \"y\"}, {\"customdata\": [[0.0, 21.0, 18.0, \"VA\"], [0.0, 31.0, 21.0, \"VA\"], [0.0, 38.0, 31.0, \"VA\"], [2.0, 44.0, 36.0, \"VA\"], [3.0, 50.0, 38.0, \"VA\"], [8.0, 61.0, 53.0, \"VA\"], [9.0, 69.0, 60.0, \"VA\"], [17.0, 134.0, 117.0, \"VA\"], [30.0, 147.0, 117.0, \"VA\"], [30.0, 147.0, 117.0, \"VA\"], [45.0, 408.0, 363.0, \"VA\"], [51.0, 489.0, 438.0, \"VA\"], [67.0, 1028.0, 961.0, \"VA\"], [77.0, 1278.0, 1201.0, \"VA\"], [94.0, 1923.0, 1829.0, \"VA\"], [114.0, 2325.0, 2211.0, \"VA\"], [152.0, 2790.0, 2638.0, \"VA\"], [219.0, 3337.0, 3118.0, \"VA\"], [254.0, 3697.0, 3443.0, \"VA\"], [290.0, 4470.0, 4180.0, \"VA\"], [391.0, 5370.0, 4979.0, \"VA\"], [460.0, 6189.0, 5729.0, \"VA\"], [604.0, 7337.0, 6733.0, \"VA\"], [739.0, 9166.0, 8427.0, \"VA\"], [890.0, 10609.0, 9719.0, \"VA\"], [1020.0, 12038.0, 11018.0, \"VA\"], [1250.0, 13401.0, 12151.0, \"VA\"], [1484.0, 15344.0, 13860.0, \"VA\"], [1706.0, 17589.0, 15883.0, \"VA\"], [2012.0, 19005.0, 16993.0, \"VA\"], [2407.0, 21552.0, 19145.0, \"VA\"], [2637.0, 23671.0, 21034.0, \"VA\"], [2878.0, 24521.0, 21643.0, \"VA\"], [3333.0, 28645.0, 25312.0, \"VA\"], [3645.0, 30645.0, 27000.0, \"VA\"]], \"hovertemplate\": \"<b>%{hovertext}</b><br><br>State=%{customdata[3]}<br>TotalTestResultsIncrease=%{x}<br>PositiveIncrease=%{y}<br>Positive=%{customdata[0]}<br>Total=%{customdata[1]}<br>Negative=%{customdata[2]}<extra></extra>\", \"hovertext\": [\"2020-03-05\", \"2020-03-06\", \"2020-03-07\", \"2020-03-08\", \"2020-03-09\", \"2020-03-10\", \"2020-03-11\", \"2020-03-12\", \"2020-03-13\", \"2020-03-14\", \"2020-03-15\", \"2020-03-16\", \"2020-03-17\", \"2020-03-18\", \"2020-03-19\", \"2020-03-20\", \"2020-03-21\", \"2020-03-22\", \"2020-03-23\", \"2020-03-24\", \"2020-03-25\", \"2020-03-26\", \"2020-03-27\", \"2020-03-28\", \"2020-03-29\", \"2020-03-30\", \"2020-03-31\", \"2020-04-01\", \"2020-04-02\", \"2020-04-03\", \"2020-04-04\", \"2020-04-05\", \"2020-04-06\", \"2020-04-07\", \"2020-04-08\"], \"legendgroup\": \"VA\", \"marker\": {\"color\": \"#E45756\", \"symbol\": \"circle\"}, \"mode\": \"markers\", \"name\": \"VA\", \"showlegend\": true, \"type\": \"scatter\", \"x\": [null, 3.0, 10.0, 7.0, 3.0, 20.0, 8.0, 65.0, 13.0, 0.0, 261.0, 81.0, 539.0, 250.0, 645.0, 402.0, 465.0, 547.0, 360.0, 773.0, 900.0, 819.0, 1148.0, 1829.0, 1443.0, 1429.0, 1363.0, 1943.0, 2245.0, 1416.0, 2547.0, 2119.0, 850.0, 4124.0, 2000.0], \"xaxis\": \"x\", \"y\": [null, 0.0, 0.0, 2.0, 1.0, 5.0, 1.0, 8.0, 13.0, 0.0, 15.0, 6.0, 16.0, 10.0, 17.0, 20.0, 38.0, 67.0, 35.0, 36.0, 101.0, 69.0, 144.0, 135.0, 151.0, 130.0, 230.0, 234.0, 222.0, 306.0, 395.0, 230.0, 241.0, 455.0, 312.0], \"yaxis\": \"y\"}, {\"customdata\": [[39.0, 39.0, null, \"WA\"], [70.0, 70.0, null, \"WA\"], [79.0, 449.0, 370.0, \"WA\"], [102.0, 538.0, 370.0, \"WA\"], [102.0, 802.0, 640.0, \"WA\"], [136.0, 1246.0, 1110.0, \"WA\"], [162.0, 1272.0, 1110.0, \"WA\"], [267.0, 2442.0, 2175.0, \"WA\"], [337.0, 3374.0, 3037.0, \"WA\"], [457.0, 4807.0, 4350.0, \"WA\"], [568.0, 6569.0, 6001.0, \"WA\"], [642.0, 7764.0, 7122.0, \"WA\"], [769.0, 10220.0, 9451.0, \"WA\"], [904.0, 12486.0, 11582.0, \"WA\"], [1012.0, 14129.0, 13117.0, \"WA\"], [1187.0, 17105.0, 15918.0, \"WA\"], [1376.0, 20712.0, 19336.0, \"WA\"], [1524.0, 23243.0, 21719.0, \"WA\"], [1793.0, 27121.0, 25328.0, \"WA\"], [1996.0, 30875.0, 28879.0, \"WA\"], [2221.0, 33933.0, 31712.0, \"WA\"], [2469.0, 34181.0, 31712.0, \"WA\"], [2580.0, 34292.0, 31712.0, \"WA\"], [3207.0, 46380.0, 43173.0, \"WA\"], [3723.0, 52738.0, 49015.0, \"WA\"], [4310.0, 59206.0, 54896.0, \"WA\"], [4896.0, 65462.0, 60566.0, \"WA\"], [4896.0, 65462.0, 60566.0, \"WA\"], [5634.0, 66200.0, 60566.0, \"WA\"], [5984.0, 74798.0, 68814.0, \"WA\"], [6585.0, 79418.0, 72833.0, \"WA\"], [6966.0, 82599.0, 75633.0, \"WA\"], [7591.0, 87918.0, 80327.0, \"WA\"], [7984.0, 91375.0, 83391.0, \"WA\"], [8384.0, 91775.0, 83391.0, \"WA\"], [8682.0, 92073.0, 83391.0, \"WA\"]], \"hovertemplate\": \"<b>%{hovertext}</b><br><br>State=%{customdata[3]}<br>TotalTestResultsIncrease=%{x}<br>PositiveIncrease=%{y}<br>Positive=%{customdata[0]}<br>Total=%{customdata[1]}<br>Negative=%{customdata[2]}<extra></extra>\", \"hovertext\": [\"2020-03-04\", \"2020-03-05\", \"2020-03-06\", \"2020-03-07\", \"2020-03-08\", \"2020-03-09\", \"2020-03-10\", \"2020-03-11\", \"2020-03-12\", \"2020-03-13\", \"2020-03-14\", \"2020-03-15\", \"2020-03-16\", \"2020-03-17\", \"2020-03-18\", \"2020-03-19\", \"2020-03-20\", \"2020-03-21\", \"2020-03-22\", \"2020-03-23\", \"2020-03-24\", \"2020-03-25\", \"2020-03-26\", \"2020-03-27\", \"2020-03-28\", \"2020-03-29\", \"2020-03-30\", \"2020-03-31\", \"2020-04-01\", \"2020-04-02\", \"2020-04-03\", \"2020-04-04\", \"2020-04-05\", \"2020-04-06\", \"2020-04-07\", \"2020-04-08\"], \"legendgroup\": \"WA\", \"marker\": {\"color\": \"#72B7B2\", \"symbol\": \"circle\"}, \"mode\": \"markers\", \"name\": \"WA\", \"showlegend\": true, \"type\": \"scatter\", \"x\": [null, 31.0, 379.0, 23.0, 270.0, 504.0, 26.0, 1170.0, 932.0, 1433.0, 1762.0, 1195.0, 2456.0, 2266.0, 1643.0, 2976.0, 3607.0, 2531.0, 3878.0, 3754.0, 3058.0, 248.0, 111.0, 12088.0, 6358.0, 6468.0, 6256.0, 0.0, 738.0, 8598.0, 4620.0, 3181.0, 5319.0, 3457.0, 400.0, 298.0], \"xaxis\": \"x\", \"y\": [null, 31.0, 9.0, 23.0, 0.0, 34.0, 26.0, 105.0, 70.0, 120.0, 111.0, 74.0, 127.0, 135.0, 108.0, 175.0, 189.0, 148.0, 269.0, 203.0, 225.0, 248.0, 111.0, 627.0, 516.0, 587.0, 586.0, 0.0, 738.0, 350.0, 601.0, 381.0, 625.0, 393.0, 400.0, 298.0], \"yaxis\": \"y\"}],\n",
       "                        {\"legend\": {\"title\": {\"text\": \"State\"}, \"tracegroupgap\": 0}, \"template\": {\"data\": {\"bar\": [{\"error_x\": {\"color\": \"rgb(51,51,51)\"}, \"error_y\": {\"color\": \"rgb(51,51,51)\"}, \"marker\": {\"line\": {\"color\": \"rgb(237,237,237)\", \"width\": 0.5}}, \"type\": \"bar\"}], \"barpolar\": [{\"marker\": {\"line\": {\"color\": \"rgb(237,237,237)\", \"width\": 0.5}}, \"type\": \"barpolar\"}], \"carpet\": [{\"aaxis\": {\"endlinecolor\": \"rgb(51,51,51)\", \"gridcolor\": \"white\", \"linecolor\": \"white\", \"minorgridcolor\": \"white\", \"startlinecolor\": \"rgb(51,51,51)\"}, \"baxis\": {\"endlinecolor\": \"rgb(51,51,51)\", \"gridcolor\": \"white\", \"linecolor\": \"white\", \"minorgridcolor\": \"white\", \"startlinecolor\": \"rgb(51,51,51)\"}, \"type\": \"carpet\"}], \"choropleth\": [{\"colorbar\": {\"outlinewidth\": 0, \"tickcolor\": \"rgb(237,237,237)\", \"ticklen\": 6, \"ticks\": \"inside\"}, \"type\": \"choropleth\"}], \"contour\": [{\"colorbar\": {\"outlinewidth\": 0, \"tickcolor\": \"rgb(237,237,237)\", \"ticklen\": 6, \"ticks\": \"inside\"}, \"colorscale\": [[0, \"rgb(20,44,66)\"], [1, \"rgb(90,179,244)\"]], \"type\": \"contour\"}], \"contourcarpet\": [{\"colorbar\": {\"outlinewidth\": 0, \"tickcolor\": \"rgb(237,237,237)\", \"ticklen\": 6, \"ticks\": \"inside\"}, \"type\": \"contourcarpet\"}], \"heatmap\": [{\"colorbar\": {\"outlinewidth\": 0, \"tickcolor\": \"rgb(237,237,237)\", \"ticklen\": 6, \"ticks\": \"inside\"}, \"colorscale\": [[0, \"rgb(20,44,66)\"], [1, \"rgb(90,179,244)\"]], \"type\": \"heatmap\"}], \"heatmapgl\": [{\"colorbar\": {\"outlinewidth\": 0, \"tickcolor\": \"rgb(237,237,237)\", \"ticklen\": 6, \"ticks\": \"inside\"}, \"colorscale\": [[0, \"rgb(20,44,66)\"], [1, \"rgb(90,179,244)\"]], \"type\": \"heatmapgl\"}], \"histogram\": [{\"marker\": {\"colorbar\": {\"outlinewidth\": 0, \"tickcolor\": \"rgb(237,237,237)\", \"ticklen\": 6, \"ticks\": \"inside\"}}, \"type\": \"histogram\"}], \"histogram2d\": [{\"colorbar\": {\"outlinewidth\": 0, \"tickcolor\": \"rgb(237,237,237)\", \"ticklen\": 6, \"ticks\": \"inside\"}, \"colorscale\": [[0, \"rgb(20,44,66)\"], [1, \"rgb(90,179,244)\"]], \"type\": \"histogram2d\"}], \"histogram2dcontour\": [{\"colorbar\": {\"outlinewidth\": 0, \"tickcolor\": \"rgb(237,237,237)\", \"ticklen\": 6, \"ticks\": \"inside\"}, \"colorscale\": [[0, \"rgb(20,44,66)\"], [1, \"rgb(90,179,244)\"]], \"type\": \"histogram2dcontour\"}], \"mesh3d\": [{\"colorbar\": {\"outlinewidth\": 0, \"tickcolor\": \"rgb(237,237,237)\", \"ticklen\": 6, \"ticks\": \"inside\"}, \"type\": \"mesh3d\"}], \"parcoords\": [{\"line\": {\"colorbar\": {\"outlinewidth\": 0, \"tickcolor\": \"rgb(237,237,237)\", \"ticklen\": 6, \"ticks\": \"inside\"}}, \"type\": \"parcoords\"}], \"pie\": [{\"automargin\": true, \"type\": \"pie\"}], \"scatter\": [{\"marker\": {\"colorbar\": {\"outlinewidth\": 0, \"tickcolor\": \"rgb(237,237,237)\", \"ticklen\": 6, \"ticks\": \"inside\"}}, \"type\": \"scatter\"}], \"scatter3d\": [{\"line\": {\"colorbar\": {\"outlinewidth\": 0, \"tickcolor\": \"rgb(237,237,237)\", \"ticklen\": 6, \"ticks\": \"inside\"}}, \"marker\": {\"colorbar\": {\"outlinewidth\": 0, \"tickcolor\": \"rgb(237,237,237)\", \"ticklen\": 6, \"ticks\": \"inside\"}}, \"type\": \"scatter3d\"}], \"scattercarpet\": [{\"marker\": {\"colorbar\": {\"outlinewidth\": 0, \"tickcolor\": \"rgb(237,237,237)\", \"ticklen\": 6, \"ticks\": \"inside\"}}, \"type\": \"scattercarpet\"}], \"scattergeo\": [{\"marker\": {\"colorbar\": {\"outlinewidth\": 0, \"tickcolor\": \"rgb(237,237,237)\", \"ticklen\": 6, \"ticks\": \"inside\"}}, \"type\": \"scattergeo\"}], \"scattergl\": [{\"marker\": {\"colorbar\": {\"outlinewidth\": 0, \"tickcolor\": \"rgb(237,237,237)\", \"ticklen\": 6, \"ticks\": \"inside\"}}, \"type\": \"scattergl\"}], \"scattermapbox\": [{\"marker\": {\"colorbar\": {\"outlinewidth\": 0, \"tickcolor\": \"rgb(237,237,237)\", \"ticklen\": 6, \"ticks\": \"inside\"}}, \"type\": \"scattermapbox\"}], \"scatterpolar\": [{\"marker\": {\"colorbar\": {\"outlinewidth\": 0, \"tickcolor\": \"rgb(237,237,237)\", \"ticklen\": 6, \"ticks\": \"inside\"}}, \"type\": \"scatterpolar\"}], \"scatterpolargl\": [{\"marker\": {\"colorbar\": {\"outlinewidth\": 0, \"tickcolor\": \"rgb(237,237,237)\", \"ticklen\": 6, \"ticks\": \"inside\"}}, \"type\": \"scatterpolargl\"}], \"scatterternary\": [{\"marker\": {\"colorbar\": {\"outlinewidth\": 0, \"tickcolor\": \"rgb(237,237,237)\", \"ticklen\": 6, \"ticks\": \"inside\"}}, \"type\": \"scatterternary\"}], \"surface\": [{\"colorbar\": {\"outlinewidth\": 0, \"tickcolor\": \"rgb(237,237,237)\", \"ticklen\": 6, \"ticks\": \"inside\"}, \"colorscale\": [[0, \"rgb(20,44,66)\"], [1, \"rgb(90,179,244)\"]], \"type\": \"surface\"}], \"table\": [{\"cells\": {\"fill\": {\"color\": \"rgb(237,237,237)\"}, \"line\": {\"color\": \"white\"}}, \"header\": {\"fill\": {\"color\": \"rgb(217,217,217)\"}, \"line\": {\"color\": \"white\"}}, \"type\": \"table\"}]}, \"layout\": {\"annotationdefaults\": {\"arrowhead\": 0, \"arrowwidth\": 1}, \"coloraxis\": {\"colorbar\": {\"outlinewidth\": 0, \"tickcolor\": \"rgb(237,237,237)\", \"ticklen\": 6, \"ticks\": \"inside\"}}, \"colorscale\": {\"sequential\": [[0, \"rgb(20,44,66)\"], [1, \"rgb(90,179,244)\"]], \"sequentialminus\": [[0, \"rgb(20,44,66)\"], [1, \"rgb(90,179,244)\"]]}, \"colorway\": [\"#F8766D\", \"#A3A500\", \"#00BF7D\", \"#00B0F6\", \"#E76BF3\"], \"font\": {\"color\": \"rgb(51,51,51)\"}, \"geo\": {\"bgcolor\": \"white\", \"lakecolor\": \"white\", \"landcolor\": \"rgb(237,237,237)\", \"showlakes\": true, \"showland\": true, \"subunitcolor\": \"white\"}, \"hoverlabel\": {\"align\": \"left\"}, \"hovermode\": \"closest\", \"paper_bgcolor\": \"white\", \"plot_bgcolor\": \"rgb(237,237,237)\", \"polar\": {\"angularaxis\": {\"gridcolor\": \"white\", \"linecolor\": \"white\", \"showgrid\": true, \"tickcolor\": \"rgb(51,51,51)\", \"ticks\": \"outside\"}, \"bgcolor\": \"rgb(237,237,237)\", \"radialaxis\": {\"gridcolor\": \"white\", \"linecolor\": \"white\", \"showgrid\": true, \"tickcolor\": \"rgb(51,51,51)\", \"ticks\": \"outside\"}}, \"scene\": {\"xaxis\": {\"backgroundcolor\": \"rgb(237,237,237)\", \"gridcolor\": \"white\", \"gridwidth\": 2, \"linecolor\": \"white\", \"showbackground\": true, \"showgrid\": true, \"tickcolor\": \"rgb(51,51,51)\", \"ticks\": \"outside\", \"zerolinecolor\": \"white\"}, \"yaxis\": {\"backgroundcolor\": \"rgb(237,237,237)\", \"gridcolor\": \"white\", \"gridwidth\": 2, \"linecolor\": \"white\", \"showbackground\": true, \"showgrid\": true, \"tickcolor\": \"rgb(51,51,51)\", \"ticks\": \"outside\", \"zerolinecolor\": \"white\"}, \"zaxis\": {\"backgroundcolor\": \"rgb(237,237,237)\", \"gridcolor\": \"white\", \"gridwidth\": 2, \"linecolor\": \"white\", \"showbackground\": true, \"showgrid\": true, \"tickcolor\": \"rgb(51,51,51)\", \"ticks\": \"outside\", \"zerolinecolor\": \"white\"}}, \"shapedefaults\": {\"fillcolor\": \"black\", \"line\": {\"width\": 0}, \"opacity\": 0.3}, \"ternary\": {\"aaxis\": {\"gridcolor\": \"white\", \"linecolor\": \"white\", \"showgrid\": true, \"tickcolor\": \"rgb(51,51,51)\", \"ticks\": \"outside\"}, \"baxis\": {\"gridcolor\": \"white\", \"linecolor\": \"white\", \"showgrid\": true, \"tickcolor\": \"rgb(51,51,51)\", \"ticks\": \"outside\"}, \"bgcolor\": \"rgb(237,237,237)\", \"caxis\": {\"gridcolor\": \"white\", \"linecolor\": \"white\", \"showgrid\": true, \"tickcolor\": \"rgb(51,51,51)\", \"ticks\": \"outside\"}}, \"xaxis\": {\"automargin\": true, \"gridcolor\": \"white\", \"linecolor\": \"white\", \"showgrid\": true, \"tickcolor\": \"rgb(51,51,51)\", \"ticks\": \"outside\", \"title\": {\"standoff\": 15}, \"zerolinecolor\": \"white\"}, \"yaxis\": {\"automargin\": true, \"gridcolor\": \"white\", \"linecolor\": \"white\", \"showgrid\": true, \"tickcolor\": \"rgb(51,51,51)\", \"ticks\": \"outside\", \"title\": {\"standoff\": 15}, \"zerolinecolor\": \"white\"}}}, \"title\": {\"text\": \"Daily Positive to Total RT-PCR Test Ratio\"}, \"xaxis\": {\"anchor\": \"y\", \"domain\": [0.0, 1.0], \"title\": {\"text\": \"TotalTestResultsIncrease\"}, \"type\": \"log\"}, \"yaxis\": {\"anchor\": \"x\", \"domain\": [0.0, 1.0], \"title\": {\"text\": \"PositiveIncrease\"}, \"type\": \"log\"}},\n",
       "                        {\"responsive\": true}\n",
       "                    ).then(function(){\n",
       "                            \n",
       "var gd = document.getElementById('4634eacf-46ea-4792-8206-25fd79a3536d');\n",
       "var x = new MutationObserver(function (mutations, observer) {{\n",
       "        var display = window.getComputedStyle(gd).display;\n",
       "        if (!display || display === 'none') {{\n",
       "            console.log([gd, 'removed!']);\n",
       "            Plotly.purge(gd);\n",
       "            observer.disconnect();\n",
       "        }}\n",
       "}});\n",
       "\n",
       "// Listen for the removal of the full notebook cells\n",
       "var notebookContainer = gd.closest('#notebook-container');\n",
       "if (notebookContainer) {{\n",
       "    x.observe(notebookContainer, {childList: true});\n",
       "}}\n",
       "\n",
       "// Listen for the clearing of the current output cell\n",
       "var outputEl = gd.closest('.output');\n",
       "if (outputEl) {{\n",
       "    x.observe(outputEl, {childList: true});\n",
       "}}\n",
       "\n",
       "                        })\n",
       "                };\n",
       "                });\n",
       "            </script>\n",
       "        </div>"
      ]
     },
     "metadata": {},
     "output_type": "display_data"
    }
   ],
   "source": [
    "states = ['NY', 'NJ', 'WA', 'VA']\n",
    "fig = px.scatter(data_frame=df_testing.loc[df_testing.State.isin(states)].loc[df_testing.Date > pd.to_datetime('2020-03-01')],\n",
    "                 x='TotalTestResultsIncrease', y='PositiveIncrease', color='State',\n",
    "                 color_discrete_sequence=px.colors.qualitative.T10,\n",
    "                 log_x=True, log_y=True,                 \n",
    "                 title='Daily Positive to Total RT-PCR Test Ratio',\n",
    "                 hover_name='Date', hover_data=['Positive','Total', 'Negative', 'State'],\n",
    "                 template='ggplot2', \n",
    "                )\n",
    "fig.show()"
   ]
  },
  {
   "cell_type": "code",
   "execution_count": 54,
   "metadata": {},
   "outputs": [],
   "source": [
    "# fig = px.scatter(data_frame=df_testing.sort_values(by='Date').groupby(['State']).agg('last').reset_index(),\n",
    "#                  x='Positive', y='Total', color='State', \n",
    "#                  log_x=False, log_y=False, template='ggplot2',\n",
    "#                 )\n",
    "# fig.show()\n",
    "\n",
    "# ## Animate this over time"
   ]
  },
  {
   "cell_type": "markdown",
   "metadata": {},
   "source": [
    "## Hospitalizations & Burden on Healthcare"
   ]
  },
  {
   "cell_type": "code",
   "execution_count": 55,
   "metadata": {},
   "outputs": [
    {
     "data": {
      "text/plain": [
       "'\\n# Adapted from https://www.kaggle.com/hrmello/us-health-care-system-dive-into-ny\\nicu_facilities = pd.read_csv(\"/kaggle/input/uncover/hifld/hifld/urgent-care-facilities.csv\")\\nus_census = pd.read_csv(\"../input/us-census-demographic-data/acs2017_county_data.csv\")\\nstate_abbr = pd.read_csv(\"https://raw.githubusercontent.com/jasonong/List-of-US-States/master/states.csv\")\\n\\n\\nicus_per_state = pd.DataFrame(icu_facilities.groupby([\"state\"])[\"id\"].nunique()).reset_index()\\n\\nus_census = us_census.merge(states_abbr, on = \"State\")\\nus_census = us_census.rename(columns = {\"State\": \"fullState\", \"Abbreviation\": \"state\"})\\n\\npopState = us_census.groupby(\"state\")[\"TotalPop\"].sum().reset_index()\\n\\nicupopdf = icus_per_state.merge(popState, on = \"state\")\\nicupopdf[\"ICUPopRatio\"] = icupopdf[\"id\"]/icupopdf[\"TotalPop\"] * 100000\\n'"
      ]
     },
     "execution_count": 55,
     "metadata": {},
     "output_type": "execute_result"
    }
   ],
   "source": [
    "\"\"\"\n",
    "# Adapted from https://www.kaggle.com/hrmello/us-health-care-system-dive-into-ny\n",
    "icu_facilities = pd.read_csv(\"/kaggle/input/uncover/hifld/hifld/urgent-care-facilities.csv\")\n",
    "us_census = pd.read_csv(\"../input/us-census-demographic-data/acs2017_county_data.csv\")\n",
    "state_abbr = pd.read_csv(\"https://raw.githubusercontent.com/jasonong/List-of-US-States/master/states.csv\")\n",
    "\n",
    "\n",
    "icus_per_state = pd.DataFrame(icu_facilities.groupby([\"state\"])[\"id\"].nunique()).reset_index()\n",
    "\n",
    "us_census = us_census.merge(states_abbr, on = \"State\")\n",
    "us_census = us_census.rename(columns = {\"State\": \"fullState\", \"Abbreviation\": \"state\"})\n",
    "\n",
    "popState = us_census.groupby(\"state\")[\"TotalPop\"].sum().reset_index()\n",
    "\n",
    "icupopdf = icus_per_state.merge(popState, on = \"state\")\n",
    "icupopdf[\"ICUPopRatio\"] = icupopdf[\"id\"]/icupopdf[\"TotalPop\"] * 100000\n",
    "\"\"\""
   ]
  },
  {
   "cell_type": "markdown",
   "metadata": {},
   "source": [
    "## Geographic distribution of cases"
   ]
  },
  {
   "cell_type": "code",
   "execution_count": 38,
   "metadata": {},
   "outputs": [],
   "source": [
    "# px.choropleth(data_frame=df_country[df_country.Country.isin(['US', 'Korea, South', 'Italy'])],\n",
    "#               lat='Lat', lon='Long',\n",
    "#              )"
   ]
  },
  {
   "cell_type": "code",
   "execution_count": null,
   "metadata": {},
   "outputs": [],
   "source": []
  }
 ],
 "metadata": {
  "kernelspec": {
   "display_name": "Python 3",
   "language": "python",
   "name": "python3"
  },
  "language_info": {
   "codemirror_mode": {
    "name": "ipython",
    "version": 3
   },
   "file_extension": ".py",
   "mimetype": "text/x-python",
   "name": "python",
   "nbconvert_exporter": "python",
   "pygments_lexer": "ipython3",
   "version": "3.7.7"
  }
 },
 "nbformat": 4,
 "nbformat_minor": 4
}

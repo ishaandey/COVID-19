{
 "cells": [
  {
   "cell_type": "markdown",
   "metadata": {},
   "source": [
    "## Imports and Cleaning"
   ]
  },
  {
   "cell_type": "code",
   "execution_count": 1,
   "metadata": {
    "scrolled": true
   },
   "outputs": [],
   "source": [
    "#!/usr/bin/env python3\n",
    "# -*- coding: utf-8 -*-\n",
    "!cd ~/Documents/Data_Projects/COVID/COVID-19"
   ]
  },
  {
   "cell_type": "code",
   "execution_count": 2,
   "metadata": {},
   "outputs": [],
   "source": [
    "import pandas as pd\n",
    "import numpy as np\n",
    "pd.set_option('display.max_columns', 150)\n",
    "pd.set_option('display.max_rows', 150)\n",
    "\n",
    "from datetime import timedelta\n",
    "import math\n",
    "\n",
    "import matplotlib.pyplot as plt\n",
    "import matplotlib as mpl\n",
    "import seaborn as sns\n",
    "mpl.rcParams['figure.dpi']= 600\n",
    "sns.set()\n",
    "\n",
    "import plotly\n",
    "import plotly.express as px\n",
    "import plotly.io as pio\n",
    "import plotly.graph_objects as go\n",
    "\n",
    "from data_clean import *\n",
    "from viz_helper import *\n",
    "%load_ext autoreload\n",
    "%autoreload 10"
   ]
  },
  {
   "cell_type": "markdown",
   "metadata": {},
   "source": [
    "### Live data\n",
    "For this project, data is read in live from Johns Hopkins CSSE, the New York Times, and the Covid Tracking Project (associated with The Atlantic). The update times for each source differ across the sources, but are typically fully updated by the next day. \n",
    "Their sources, on the other hand, are from a collection of government agencies for international cases, and often state health department websites for county and state level information. The COVID Tracking Project provides a grade for each state depending on the reliability of testing data: https://covidtracking.com/about-data.\n",
    "For quick dashboards, check out the Hopkins CSSE dash: https://coronavirus.jhu.edu/map.html.\n"
   ]
  },
  {
   "cell_type": "code",
   "execution_count": 3,
   "metadata": {},
   "outputs": [],
   "source": [
    "# Countries from Johns Hopkins, State & Local from NYT, and Testing from the Covid Tracking Project\n",
    "countries = pd.read_csv('https://raw.githubusercontent.com/CSSEGISandData/COVID-19/master/csse_covid_19_data/csse_covid_19_time_series/time_series_covid19_confirmed_global.csv')\n",
    "states = pd.read_csv('https://raw.githubusercontent.com/nytimes/covid-19-data/master/us-states.csv')\n",
    "local = pd.read_csv('https://raw.githubusercontent.com/nytimes/covid-19-data/master/us-counties.csv')"
   ]
  },
  {
   "cell_type": "code",
   "execution_count": 4,
   "metadata": {},
   "outputs": [
    {
     "name": "stderr",
     "output_type": "stream",
     "text": [
      "/anaconda3/envs/covid/lib/python3.7/site-packages/pandas/core/series.py:679: RuntimeWarning:\n",
      "\n",
      "divide by zero encountered in log\n",
      "\n",
      "/anaconda3/envs/covid/lib/python3.7/site-packages/pandas/core/series.py:679: RuntimeWarning:\n",
      "\n",
      "invalid value encountered in log\n",
      "\n"
     ]
    }
   ],
   "source": [
    "df_country = clean_data_hopkins(countries, country='all')\n",
    "df_state = clean_data_nyt(states, level='state')\n",
    "df_local = clean_data_nyt(local, level='local')"
   ]
  },
  {
   "cell_type": "code",
   "execution_count": 5,
   "metadata": {},
   "outputs": [],
   "source": [
    "testing = pd.read_json('https://covidtracking.com/api/v1/states/daily.json')\n",
    "df_testing = clean_data_trackingproject(testing)"
   ]
  },
  {
   "cell_type": "code",
   "execution_count": 6,
   "metadata": {},
   "outputs": [
    {
     "data": {
      "text/html": [
       "<div>\n",
       "<style scoped>\n",
       "    .dataframe tbody tr th:only-of-type {\n",
       "        vertical-align: middle;\n",
       "    }\n",
       "\n",
       "    .dataframe tbody tr th {\n",
       "        vertical-align: top;\n",
       "    }\n",
       "\n",
       "    .dataframe thead th {\n",
       "        text-align: right;\n",
       "    }\n",
       "</style>\n",
       "<table border=\"1\" class=\"dataframe\">\n",
       "  <thead>\n",
       "    <tr style=\"text-align: right;\">\n",
       "      <th></th>\n",
       "      <th>State</th>\n",
       "      <th>Date</th>\n",
       "    </tr>\n",
       "  </thead>\n",
       "  <tbody>\n",
       "    <tr>\n",
       "      <th>31</th>\n",
       "      <td>Oregon</td>\n",
       "      <td>2020-03-23</td>\n",
       "    </tr>\n",
       "    <tr>\n",
       "      <th>10</th>\n",
       "      <td>Hawaii</td>\n",
       "      <td>2020-03-25</td>\n",
       "    </tr>\n",
       "    <tr>\n",
       "      <th>16</th>\n",
       "      <td>Louisiana</td>\n",
       "      <td>2020-03-24</td>\n",
       "    </tr>\n",
       "    <tr>\n",
       "      <th>15</th>\n",
       "      <td>Kentucky</td>\n",
       "      <td>2020-03-27</td>\n",
       "    </tr>\n",
       "    <tr>\n",
       "      <th>34</th>\n",
       "      <td>Rhode Island</td>\n",
       "      <td>2020-03-28</td>\n",
       "    </tr>\n",
       "  </tbody>\n",
       "</table>\n",
       "</div>"
      ],
      "text/plain": [
       "           State        Date\n",
       "31        Oregon  2020-03-23\n",
       "10        Hawaii  2020-03-25\n",
       "16     Louisiana  2020-03-24\n",
       "15      Kentucky  2020-03-27\n",
       "34  Rhode Island  2020-03-28"
      ]
     },
     "execution_count": 6,
     "metadata": {},
     "output_type": "execute_result"
    }
   ],
   "source": [
    "# Quick list of dates when US states entered into some form of containment or lockdown\n",
    "containment = pd.read_csv('containment.txt')\n",
    "containment.columns = ['State', 'Date']\n",
    "containment = containment.sort_values(by='Date').groupby(by='State').agg('last').reset_index()\n",
    "containment.sample(5)"
   ]
  },
  {
   "cell_type": "code",
   "execution_count": 7,
   "metadata": {},
   "outputs": [],
   "source": [
    "# us_census = pd.read_csv(\"../input/us-census-demographic-data/acs2017_county_data.csv\")\n",
    "# state_abbr = pd.read_csv(\"https://raw.githubusercontent.com/jasonong/List-of-US-States/master/states.csv\")"
   ]
  },
  {
   "cell_type": "code",
   "execution_count": 8,
   "metadata": {},
   "outputs": [
    {
     "data": {
      "text/html": [
       "<div>\n",
       "<style scoped>\n",
       "    .dataframe tbody tr th:only-of-type {\n",
       "        vertical-align: middle;\n",
       "    }\n",
       "\n",
       "    .dataframe tbody tr th {\n",
       "        vertical-align: top;\n",
       "    }\n",
       "\n",
       "    .dataframe thead th {\n",
       "        text-align: right;\n",
       "    }\n",
       "</style>\n",
       "<table border=\"1\" class=\"dataframe\">\n",
       "  <thead>\n",
       "    <tr style=\"text-align: right;\">\n",
       "      <th></th>\n",
       "      <th>Country</th>\n",
       "      <th>Date</th>\n",
       "      <th>Confirmed</th>\n",
       "      <th>EpidemicStartDate</th>\n",
       "      <th>DaysElapsed</th>\n",
       "      <th>NewConfirmed</th>\n",
       "      <th>DaysElapsed_Log</th>\n",
       "      <th>Confirmed_Log</th>\n",
       "      <th>NewConfirmed_Log</th>\n",
       "    </tr>\n",
       "  </thead>\n",
       "  <tbody>\n",
       "    <tr>\n",
       "      <th>13603</th>\n",
       "      <td>US</td>\n",
       "      <td>2020-04-04</td>\n",
       "      <td>308850</td>\n",
       "      <td>2020-01-22</td>\n",
       "      <td>74</td>\n",
       "      <td>33264.0</td>\n",
       "      <td>4.304065</td>\n",
       "      <td>12.640611</td>\n",
       "      <td>10.412231</td>\n",
       "    </tr>\n",
       "    <tr>\n",
       "      <th>13787</th>\n",
       "      <td>US</td>\n",
       "      <td>2020-04-05</td>\n",
       "      <td>337072</td>\n",
       "      <td>2020-01-22</td>\n",
       "      <td>75</td>\n",
       "      <td>28222.0</td>\n",
       "      <td>4.317488</td>\n",
       "      <td>12.728052</td>\n",
       "      <td>10.247857</td>\n",
       "    </tr>\n",
       "    <tr>\n",
       "      <th>13971</th>\n",
       "      <td>US</td>\n",
       "      <td>2020-04-06</td>\n",
       "      <td>366667</td>\n",
       "      <td>2020-01-22</td>\n",
       "      <td>76</td>\n",
       "      <td>29595.0</td>\n",
       "      <td>4.330733</td>\n",
       "      <td>12.812209</td>\n",
       "      <td>10.295361</td>\n",
       "    </tr>\n",
       "    <tr>\n",
       "      <th>14155</th>\n",
       "      <td>US</td>\n",
       "      <td>2020-04-07</td>\n",
       "      <td>396223</td>\n",
       "      <td>2020-01-22</td>\n",
       "      <td>77</td>\n",
       "      <td>29556.0</td>\n",
       "      <td>4.343805</td>\n",
       "      <td>12.889732</td>\n",
       "      <td>10.294042</td>\n",
       "    </tr>\n",
       "    <tr>\n",
       "      <th>14339</th>\n",
       "      <td>US</td>\n",
       "      <td>2020-04-08</td>\n",
       "      <td>429052</td>\n",
       "      <td>2020-01-22</td>\n",
       "      <td>78</td>\n",
       "      <td>32829.0</td>\n",
       "      <td>4.356709</td>\n",
       "      <td>12.969333</td>\n",
       "      <td>10.399068</td>\n",
       "    </tr>\n",
       "  </tbody>\n",
       "</table>\n",
       "</div>"
      ],
      "text/plain": [
       "      Country        Date  Confirmed EpidemicStartDate  DaysElapsed  \\\n",
       "13603      US  2020-04-04     308850        2020-01-22           74   \n",
       "13787      US  2020-04-05     337072        2020-01-22           75   \n",
       "13971      US  2020-04-06     366667        2020-01-22           76   \n",
       "14155      US  2020-04-07     396223        2020-01-22           77   \n",
       "14339      US  2020-04-08     429052        2020-01-22           78   \n",
       "\n",
       "       NewConfirmed  DaysElapsed_Log  Confirmed_Log  NewConfirmed_Log  \n",
       "13603       33264.0         4.304065      12.640611         10.412231  \n",
       "13787       28222.0         4.317488      12.728052         10.247857  \n",
       "13971       29595.0         4.330733      12.812209         10.295361  \n",
       "14155       29556.0         4.343805      12.889732         10.294042  \n",
       "14339       32829.0         4.356709      12.969333         10.399068  "
      ]
     },
     "execution_count": 8,
     "metadata": {},
     "output_type": "execute_result"
    }
   ],
   "source": [
    "df_country[df_country.Country.isin(['US'])].tail()"
   ]
  },
  {
   "cell_type": "code",
   "execution_count": 9,
   "metadata": {},
   "outputs": [
    {
     "data": {
      "text/html": [
       "<div>\n",
       "<style scoped>\n",
       "    .dataframe tbody tr th:only-of-type {\n",
       "        vertical-align: middle;\n",
       "    }\n",
       "\n",
       "    .dataframe tbody tr th {\n",
       "        vertical-align: top;\n",
       "    }\n",
       "\n",
       "    .dataframe thead th {\n",
       "        text-align: right;\n",
       "    }\n",
       "</style>\n",
       "<table border=\"1\" class=\"dataframe\">\n",
       "  <thead>\n",
       "    <tr style=\"text-align: right;\">\n",
       "      <th></th>\n",
       "      <th>County</th>\n",
       "      <th>State</th>\n",
       "      <th>Date</th>\n",
       "      <th>Confirmed</th>\n",
       "      <th>EpidemicStartDate</th>\n",
       "      <th>DaysElapsed</th>\n",
       "      <th>NewConfirmed</th>\n",
       "      <th>DaysElapsed_Log</th>\n",
       "      <th>Confirmed_Log</th>\n",
       "      <th>NewConfirmed_Log</th>\n",
       "    </tr>\n",
       "  </thead>\n",
       "  <tbody>\n",
       "    <tr>\n",
       "      <th>521</th>\n",
       "      <td>Albemarle</td>\n",
       "      <td>Virginia</td>\n",
       "      <td>2020-04-04</td>\n",
       "      <td>27</td>\n",
       "      <td>2020-03-07</td>\n",
       "      <td>29</td>\n",
       "      <td>1.0</td>\n",
       "      <td>3.367296</td>\n",
       "      <td>3.295837</td>\n",
       "      <td>0.000000</td>\n",
       "    </tr>\n",
       "    <tr>\n",
       "      <th>522</th>\n",
       "      <td>Albemarle</td>\n",
       "      <td>Virginia</td>\n",
       "      <td>2020-04-05</td>\n",
       "      <td>32</td>\n",
       "      <td>2020-03-07</td>\n",
       "      <td>30</td>\n",
       "      <td>5.0</td>\n",
       "      <td>3.401197</td>\n",
       "      <td>3.465736</td>\n",
       "      <td>1.609438</td>\n",
       "    </tr>\n",
       "    <tr>\n",
       "      <th>523</th>\n",
       "      <td>Albemarle</td>\n",
       "      <td>Virginia</td>\n",
       "      <td>2020-04-06</td>\n",
       "      <td>34</td>\n",
       "      <td>2020-03-07</td>\n",
       "      <td>31</td>\n",
       "      <td>2.0</td>\n",
       "      <td>3.433987</td>\n",
       "      <td>3.526361</td>\n",
       "      <td>0.693147</td>\n",
       "    </tr>\n",
       "    <tr>\n",
       "      <th>524</th>\n",
       "      <td>Albemarle</td>\n",
       "      <td>Virginia</td>\n",
       "      <td>2020-04-07</td>\n",
       "      <td>38</td>\n",
       "      <td>2020-03-07</td>\n",
       "      <td>32</td>\n",
       "      <td>4.0</td>\n",
       "      <td>3.465736</td>\n",
       "      <td>3.637586</td>\n",
       "      <td>1.386294</td>\n",
       "    </tr>\n",
       "    <tr>\n",
       "      <th>525</th>\n",
       "      <td>Albemarle</td>\n",
       "      <td>Virginia</td>\n",
       "      <td>2020-04-08</td>\n",
       "      <td>41</td>\n",
       "      <td>2020-03-07</td>\n",
       "      <td>33</td>\n",
       "      <td>3.0</td>\n",
       "      <td>3.496508</td>\n",
       "      <td>3.713572</td>\n",
       "      <td>1.098612</td>\n",
       "    </tr>\n",
       "  </tbody>\n",
       "</table>\n",
       "</div>"
      ],
      "text/plain": [
       "        County     State        Date  Confirmed EpidemicStartDate  \\\n",
       "521  Albemarle  Virginia  2020-04-04         27        2020-03-07   \n",
       "522  Albemarle  Virginia  2020-04-05         32        2020-03-07   \n",
       "523  Albemarle  Virginia  2020-04-06         34        2020-03-07   \n",
       "524  Albemarle  Virginia  2020-04-07         38        2020-03-07   \n",
       "525  Albemarle  Virginia  2020-04-08         41        2020-03-07   \n",
       "\n",
       "     DaysElapsed  NewConfirmed  DaysElapsed_Log  Confirmed_Log  \\\n",
       "521           29           1.0         3.367296       3.295837   \n",
       "522           30           5.0         3.401197       3.465736   \n",
       "523           31           2.0         3.433987       3.526361   \n",
       "524           32           4.0         3.465736       3.637586   \n",
       "525           33           3.0         3.496508       3.713572   \n",
       "\n",
       "     NewConfirmed_Log  \n",
       "521          0.000000  \n",
       "522          1.609438  \n",
       "523          0.693147  \n",
       "524          1.386294  \n",
       "525          1.098612  "
      ]
     },
     "execution_count": 9,
     "metadata": {},
     "output_type": "execute_result"
    }
   ],
   "source": [
    "df_local[df_local.County=='Albemarle'].tail()"
   ]
  },
  {
   "cell_type": "code",
   "execution_count": 10,
   "metadata": {},
   "outputs": [
    {
     "data": {
      "text/html": [
       "<div>\n",
       "<style scoped>\n",
       "    .dataframe tbody tr th:only-of-type {\n",
       "        vertical-align: middle;\n",
       "    }\n",
       "\n",
       "    .dataframe tbody tr th {\n",
       "        vertical-align: top;\n",
       "    }\n",
       "\n",
       "    .dataframe thead th {\n",
       "        text-align: right;\n",
       "    }\n",
       "</style>\n",
       "<table border=\"1\" class=\"dataframe\">\n",
       "  <thead>\n",
       "    <tr style=\"text-align: right;\">\n",
       "      <th></th>\n",
       "      <th>Confirmed</th>\n",
       "    </tr>\n",
       "    <tr>\n",
       "      <th>Date</th>\n",
       "      <th></th>\n",
       "    </tr>\n",
       "  </thead>\n",
       "  <tbody>\n",
       "    <tr>\n",
       "      <th>2020-04-02</th>\n",
       "      <td>807.0</td>\n",
       "    </tr>\n",
       "    <tr>\n",
       "      <th>2020-04-03</th>\n",
       "      <td>915.0</td>\n",
       "    </tr>\n",
       "    <tr>\n",
       "      <th>2020-04-04</th>\n",
       "      <td>2686.0</td>\n",
       "    </tr>\n",
       "    <tr>\n",
       "      <th>2020-04-05</th>\n",
       "      <td>-298.0</td>\n",
       "    </tr>\n",
       "    <tr>\n",
       "      <th>2020-04-06</th>\n",
       "      <td>-429.0</td>\n",
       "    </tr>\n",
       "    <tr>\n",
       "      <th>2020-04-07</th>\n",
       "      <td>1531.0</td>\n",
       "    </tr>\n",
       "    <tr>\n",
       "      <th>2020-04-08</th>\n",
       "      <td>267.0</td>\n",
       "    </tr>\n",
       "  </tbody>\n",
       "</table>\n",
       "</div>"
      ],
      "text/plain": [
       "            Confirmed\n",
       "Date                 \n",
       "2020-04-02      807.0\n",
       "2020-04-03      915.0\n",
       "2020-04-04     2686.0\n",
       "2020-04-05     -298.0\n",
       "2020-04-06     -429.0\n",
       "2020-04-07     1531.0\n",
       "2020-04-08      267.0"
      ]
     },
     "execution_count": 10,
     "metadata": {},
     "output_type": "execute_result"
    }
   ],
   "source": [
    "# NYT aggregated state counts have recently been higher than the daily reports from Hopkins\n",
    "pd.DataFrame(df_state.groupby('Date').sum().Confirmed - df_country[df_country.Country=='US'].groupby('Date').sum().Confirmed).dropna().tail(7)"
   ]
  },
  {
   "cell_type": "markdown",
   "metadata": {},
   "source": [
    "## Are we flattening the curve?"
   ]
  },
  {
   "cell_type": "markdown",
   "metadata": {},
   "source": [
    "### New confirmed cases vs cumulatative cases\n",
    "\n",
    "For an exponential growth function, the slope of the curve, or daily increase in cases should remain proportional to the total number of cases in a given region. With that expectation, we would expect regions experiencing exponential growth to exhibit linearity when plotting log of new cases against log of current cases. Countries that have moved past this plateau, such as South Korea and China (as of 4/05), should taper off, as described in the following video by Henry Reich and Aashish B: https://www.youtube.com/watch?v=54XLXg4fYsc"
   ]
  },
  {
   "cell_type": "markdown",
   "metadata": {},
   "source": [
    "Why does this work?\n",
    "\n",
    "Lets assume that the the virus grows at a rate proportional to its current value, which intuitively makes sense as each person who has the disease can spread it onto that many more people $dy/dt=kY$. In otherwords, the rate of change of the spread is proportional to the current number of folks who have it. This corresponds to the exponential functional form $Y = Ae^{rt}$. \n",
    "\n",
    "$dy/dt = kY(1-Y/L)$\n",
    "\n",
    "Let's keep this aside for now. The daily increase in new cases is simply $Y_t - Y_{t-1}$, here we've labelled it as `NewConfirmed`. \n",
    "\n",
    "Another way to think about this is that the current day's case count will be the previous day's count plus some proportion of that count."
   ]
  },
  {
   "cell_type": "code",
   "execution_count": 16,
   "metadata": {},
   "outputs": [
    {
     "data": {
      "application/vnd.plotly.v1+json": {
       "config": {
        "plotlyServerURL": "https://plot.ly"
       },
       "data": [
        {
         "customdata": [
          [
           null,
           548,
           "2020-01-22",
           "2020-01-22"
          ],
          [
           95,
           643,
           "2020-01-23",
           "2020-01-22"
          ],
          [
           277,
           920,
           "2020-01-24",
           "2020-01-22"
          ],
          [
           486,
           1406,
           "2020-01-25",
           "2020-01-22"
          ],
          [
           669,
           2075,
           "2020-01-26",
           "2020-01-22"
          ],
          [
           802,
           2877,
           "2020-01-27",
           "2020-01-22"
          ],
          [
           2632,
           5509,
           "2020-01-28",
           "2020-01-22"
          ],
          [
           578,
           6087,
           "2020-01-29",
           "2020-01-22"
          ],
          [
           2054,
           8141,
           "2020-01-30",
           "2020-01-22"
          ],
          [
           1661,
           9802,
           "2020-01-31",
           "2020-01-22"
          ],
          [
           2089,
           11891,
           "2020-02-01",
           "2020-01-22"
          ],
          [
           4739,
           16630,
           "2020-02-02",
           "2020-01-22"
          ],
          [
           3086,
           19716,
           "2020-02-03",
           "2020-01-22"
          ],
          [
           3991,
           23707,
           "2020-02-04",
           "2020-01-22"
          ],
          [
           3733,
           27440,
           "2020-02-05",
           "2020-01-22"
          ],
          [
           3147,
           30587,
           "2020-02-06",
           "2020-01-22"
          ],
          [
           3523,
           34110,
           "2020-02-07",
           "2020-01-22"
          ],
          [
           2704,
           36814,
           "2020-02-08",
           "2020-01-22"
          ],
          [
           3015,
           39829,
           "2020-02-09",
           "2020-01-22"
          ],
          [
           2525,
           42354,
           "2020-02-10",
           "2020-01-22"
          ],
          [
           2032,
           44386,
           "2020-02-11",
           "2020-01-22"
          ],
          [
           373,
           44759,
           "2020-02-12",
           "2020-01-22"
          ],
          [
           15136,
           59895,
           "2020-02-13",
           "2020-01-22"
          ],
          [
           6463,
           66358,
           "2020-02-14",
           "2020-01-22"
          ],
          [
           2055,
           68413,
           "2020-02-15",
           "2020-01-22"
          ],
          [
           2100,
           70513,
           "2020-02-16",
           "2020-01-22"
          ],
          [
           1921,
           72434,
           "2020-02-17",
           "2020-01-22"
          ],
          [
           1777,
           74211,
           "2020-02-18",
           "2020-01-22"
          ],
          [
           408,
           74619,
           "2020-02-19",
           "2020-01-22"
          ],
          [
           458,
           75077,
           "2020-02-20",
           "2020-01-22"
          ],
          [
           473,
           75550,
           "2020-02-21",
           "2020-01-22"
          ],
          [
           1451,
           77001,
           "2020-02-22",
           "2020-01-22"
          ],
          [
           21,
           77022,
           "2020-02-23",
           "2020-01-22"
          ],
          [
           219,
           77241,
           "2020-02-24",
           "2020-01-22"
          ],
          [
           513,
           77754,
           "2020-02-25",
           "2020-01-22"
          ],
          [
           412,
           78166,
           "2020-02-26",
           "2020-01-22"
          ],
          [
           434,
           78600,
           "2020-02-27",
           "2020-01-22"
          ],
          [
           328,
           78928,
           "2020-02-28",
           "2020-01-22"
          ],
          [
           428,
           79356,
           "2020-02-29",
           "2020-01-22"
          ],
          [
           576,
           79932,
           "2020-03-01",
           "2020-01-22"
          ],
          [
           204,
           80136,
           "2020-03-02",
           "2020-01-22"
          ],
          [
           125,
           80261,
           "2020-03-03",
           "2020-01-22"
          ],
          [
           125,
           80386,
           "2020-03-04",
           "2020-01-22"
          ],
          [
           151,
           80537,
           "2020-03-05",
           "2020-01-22"
          ],
          [
           153,
           80690,
           "2020-03-06",
           "2020-01-22"
          ],
          [
           80,
           80770,
           "2020-03-07",
           "2020-01-22"
          ],
          [
           53,
           80823,
           "2020-03-08",
           "2020-01-22"
          ],
          [
           37,
           80860,
           "2020-03-09",
           "2020-01-22"
          ],
          [
           27,
           80887,
           "2020-03-10",
           "2020-01-22"
          ],
          [
           34,
           80921,
           "2020-03-11",
           "2020-01-22"
          ],
          [
           11,
           80932,
           "2020-03-12",
           "2020-01-22"
          ],
          [
           13,
           80945,
           "2020-03-13",
           "2020-01-22"
          ],
          [
           32,
           80977,
           "2020-03-14",
           "2020-01-22"
          ],
          [
           26,
           81003,
           "2020-03-15",
           "2020-01-22"
          ],
          [
           30,
           81033,
           "2020-03-16",
           "2020-01-22"
          ],
          [
           25,
           81058,
           "2020-03-17",
           "2020-01-22"
          ],
          [
           44,
           81102,
           "2020-03-18",
           "2020-01-22"
          ],
          [
           54,
           81156,
           "2020-03-19",
           "2020-01-22"
          ],
          [
           94,
           81250,
           "2020-03-20",
           "2020-01-22"
          ],
          [
           55,
           81305,
           "2020-03-21",
           "2020-01-22"
          ],
          [
           130,
           81435,
           "2020-03-22",
           "2020-01-22"
          ],
          [
           63,
           81498,
           "2020-03-23",
           "2020-01-22"
          ],
          [
           93,
           81591,
           "2020-03-24",
           "2020-01-22"
          ],
          [
           70,
           81661,
           "2020-03-25",
           "2020-01-22"
          ],
          [
           121,
           81782,
           "2020-03-26",
           "2020-01-22"
          ],
          [
           115,
           81897,
           "2020-03-27",
           "2020-01-22"
          ],
          [
           102,
           81999,
           "2020-03-28",
           "2020-01-22"
          ],
          [
           123,
           82122,
           "2020-03-29",
           "2020-01-22"
          ],
          [
           76,
           82198,
           "2020-03-30",
           "2020-01-22"
          ],
          [
           81,
           82279,
           "2020-03-31",
           "2020-01-22"
          ],
          [
           82,
           82361,
           "2020-04-01",
           "2020-01-22"
          ],
          [
           71,
           82432,
           "2020-04-02",
           "2020-01-22"
          ],
          [
           79,
           82511,
           "2020-04-03",
           "2020-01-22"
          ],
          [
           32,
           82543,
           "2020-04-04",
           "2020-01-22"
          ],
          [
           59,
           82602,
           "2020-04-05",
           "2020-01-22"
          ],
          [
           63,
           82665,
           "2020-04-06",
           "2020-01-22"
          ],
          [
           53,
           82718,
           "2020-04-07",
           "2020-01-22"
          ],
          [
           91,
           82809,
           "2020-04-08",
           "2020-01-22"
          ]
         ],
         "hovertemplate": "<b>%{hovertext}</b><br><br>Country=China<br>Confirmed=%{customdata[1]}<br>NewConfirmed=%{customdata[0]}<br>Date=%{customdata[2]}<br>EpidemicStartDate=%{customdata[3]}<extra></extra>",
         "hovertext": [
          "2020-01-22",
          "2020-01-23",
          "2020-01-24",
          "2020-01-25",
          "2020-01-26",
          "2020-01-27",
          "2020-01-28",
          "2020-01-29",
          "2020-01-30",
          "2020-01-31",
          "2020-02-01",
          "2020-02-02",
          "2020-02-03",
          "2020-02-04",
          "2020-02-05",
          "2020-02-06",
          "2020-02-07",
          "2020-02-08",
          "2020-02-09",
          "2020-02-10",
          "2020-02-11",
          "2020-02-12",
          "2020-02-13",
          "2020-02-14",
          "2020-02-15",
          "2020-02-16",
          "2020-02-17",
          "2020-02-18",
          "2020-02-19",
          "2020-02-20",
          "2020-02-21",
          "2020-02-22",
          "2020-02-23",
          "2020-02-24",
          "2020-02-25",
          "2020-02-26",
          "2020-02-27",
          "2020-02-28",
          "2020-02-29",
          "2020-03-01",
          "2020-03-02",
          "2020-03-03",
          "2020-03-04",
          "2020-03-05",
          "2020-03-06",
          "2020-03-07",
          "2020-03-08",
          "2020-03-09",
          "2020-03-10",
          "2020-03-11",
          "2020-03-12",
          "2020-03-13",
          "2020-03-14",
          "2020-03-15",
          "2020-03-16",
          "2020-03-17",
          "2020-03-18",
          "2020-03-19",
          "2020-03-20",
          "2020-03-21",
          "2020-03-22",
          "2020-03-23",
          "2020-03-24",
          "2020-03-25",
          "2020-03-26",
          "2020-03-27",
          "2020-03-28",
          "2020-03-29",
          "2020-03-30",
          "2020-03-31",
          "2020-04-01",
          "2020-04-02",
          "2020-04-03",
          "2020-04-04",
          "2020-04-05",
          "2020-04-06",
          "2020-04-07",
          "2020-04-08"
         ],
         "legendgroup": "China",
         "marker": {
          "color": "#4C78A8",
          "opacity": 0.9,
          "symbol": "circle"
         },
         "mode": "markers",
         "name": "China",
         "showlegend": true,
         "type": "scatter",
         "x": [
          548,
          643,
          920,
          1406,
          2075,
          2877,
          5509,
          6087,
          8141,
          9802,
          11891,
          16630,
          19716,
          23707,
          27440,
          30587,
          34110,
          36814,
          39829,
          42354,
          44386,
          44759,
          59895,
          66358,
          68413,
          70513,
          72434,
          74211,
          74619,
          75077,
          75550,
          77001,
          77022,
          77241,
          77754,
          78166,
          78600,
          78928,
          79356,
          79932,
          80136,
          80261,
          80386,
          80537,
          80690,
          80770,
          80823,
          80860,
          80887,
          80921,
          80932,
          80945,
          80977,
          81003,
          81033,
          81058,
          81102,
          81156,
          81250,
          81305,
          81435,
          81498,
          81591,
          81661,
          81782,
          81897,
          81999,
          82122,
          82198,
          82279,
          82361,
          82432,
          82511,
          82543,
          82602,
          82665,
          82718,
          82809
         ],
         "xaxis": "x",
         "y": [
          null,
          95,
          277,
          486,
          669,
          802,
          2632,
          578,
          2054,
          1661,
          2089,
          4739,
          3086,
          3991,
          3733,
          3147,
          3523,
          2704,
          3015,
          2525,
          2032,
          373,
          15136,
          6463,
          2055,
          2100,
          1921,
          1777,
          408,
          458,
          473,
          1451,
          21,
          219,
          513,
          412,
          434,
          328,
          428,
          576,
          204,
          125,
          125,
          151,
          153,
          80,
          53,
          37,
          27,
          34,
          11,
          13,
          32,
          26,
          30,
          25,
          44,
          54,
          94,
          55,
          130,
          63,
          93,
          70,
          121,
          115,
          102,
          123,
          76,
          81,
          82,
          71,
          79,
          32,
          59,
          63,
          53,
          91
         ],
         "yaxis": "y"
        },
        {
         "customdata": [
          [
           73,
           104,
           "2020-02-20",
           "2020-01-22"
          ],
          [
           100,
           204,
           "2020-02-21",
           "2020-01-22"
          ],
          [
           229,
           433,
           "2020-02-22",
           "2020-01-22"
          ],
          [
           169,
           602,
           "2020-02-23",
           "2020-01-22"
          ],
          [
           231,
           833,
           "2020-02-24",
           "2020-01-22"
          ],
          [
           144,
           977,
           "2020-02-25",
           "2020-01-22"
          ],
          [
           284,
           1261,
           "2020-02-26",
           "2020-01-22"
          ],
          [
           505,
           1766,
           "2020-02-27",
           "2020-01-22"
          ],
          [
           571,
           2337,
           "2020-02-28",
           "2020-01-22"
          ],
          [
           813,
           3150,
           "2020-02-29",
           "2020-01-22"
          ],
          [
           586,
           3736,
           "2020-03-01",
           "2020-01-22"
          ],
          [
           599,
           4335,
           "2020-03-02",
           "2020-01-22"
          ],
          [
           851,
           5186,
           "2020-03-03",
           "2020-01-22"
          ],
          [
           435,
           5621,
           "2020-03-04",
           "2020-01-22"
          ],
          [
           467,
           6088,
           "2020-03-05",
           "2020-01-22"
          ],
          [
           505,
           6593,
           "2020-03-06",
           "2020-01-22"
          ],
          [
           448,
           7041,
           "2020-03-07",
           "2020-01-22"
          ],
          [
           273,
           7314,
           "2020-03-08",
           "2020-01-22"
          ],
          [
           164,
           7478,
           "2020-03-09",
           "2020-01-22"
          ],
          [
           35,
           7513,
           "2020-03-10",
           "2020-01-22"
          ],
          [
           242,
           7755,
           "2020-03-11",
           "2020-01-22"
          ],
          [
           114,
           7869,
           "2020-03-12",
           "2020-01-22"
          ],
          [
           110,
           7979,
           "2020-03-13",
           "2020-01-22"
          ],
          [
           107,
           8086,
           "2020-03-14",
           "2020-01-22"
          ],
          [
           76,
           8162,
           "2020-03-15",
           "2020-01-22"
          ],
          [
           74,
           8236,
           "2020-03-16",
           "2020-01-22"
          ],
          [
           84,
           8320,
           "2020-03-17",
           "2020-01-22"
          ],
          [
           93,
           8413,
           "2020-03-18",
           "2020-01-22"
          ],
          [
           152,
           8565,
           "2020-03-19",
           "2020-01-22"
          ],
          [
           87,
           8652,
           "2020-03-20",
           "2020-01-22"
          ],
          [
           147,
           8799,
           "2020-03-21",
           "2020-01-22"
          ],
          [
           162,
           8961,
           "2020-03-22",
           "2020-01-22"
          ],
          [
           0,
           8961,
           "2020-03-23",
           "2020-01-22"
          ],
          [
           76,
           9037,
           "2020-03-24",
           "2020-01-22"
          ],
          [
           100,
           9137,
           "2020-03-25",
           "2020-01-22"
          ],
          [
           104,
           9241,
           "2020-03-26",
           "2020-01-22"
          ],
          [
           91,
           9332,
           "2020-03-27",
           "2020-01-22"
          ],
          [
           146,
           9478,
           "2020-03-28",
           "2020-01-22"
          ],
          [
           105,
           9583,
           "2020-03-29",
           "2020-01-22"
          ],
          [
           78,
           9661,
           "2020-03-30",
           "2020-01-22"
          ],
          [
           125,
           9786,
           "2020-03-31",
           "2020-01-22"
          ],
          [
           101,
           9887,
           "2020-04-01",
           "2020-01-22"
          ],
          [
           89,
           9976,
           "2020-04-02",
           "2020-01-22"
          ],
          [
           86,
           10062,
           "2020-04-03",
           "2020-01-22"
          ],
          [
           94,
           10156,
           "2020-04-04",
           "2020-01-22"
          ],
          [
           81,
           10237,
           "2020-04-05",
           "2020-01-22"
          ],
          [
           47,
           10284,
           "2020-04-06",
           "2020-01-22"
          ],
          [
           47,
           10331,
           "2020-04-07",
           "2020-01-22"
          ],
          [
           53,
           10384,
           "2020-04-08",
           "2020-01-22"
          ]
         ],
         "hovertemplate": "<b>%{hovertext}</b><br><br>Country=Korea, South<br>Confirmed=%{customdata[1]}<br>NewConfirmed=%{customdata[0]}<br>Date=%{customdata[2]}<br>EpidemicStartDate=%{customdata[3]}<extra></extra>",
         "hovertext": [
          "2020-02-20",
          "2020-02-21",
          "2020-02-22",
          "2020-02-23",
          "2020-02-24",
          "2020-02-25",
          "2020-02-26",
          "2020-02-27",
          "2020-02-28",
          "2020-02-29",
          "2020-03-01",
          "2020-03-02",
          "2020-03-03",
          "2020-03-04",
          "2020-03-05",
          "2020-03-06",
          "2020-03-07",
          "2020-03-08",
          "2020-03-09",
          "2020-03-10",
          "2020-03-11",
          "2020-03-12",
          "2020-03-13",
          "2020-03-14",
          "2020-03-15",
          "2020-03-16",
          "2020-03-17",
          "2020-03-18",
          "2020-03-19",
          "2020-03-20",
          "2020-03-21",
          "2020-03-22",
          "2020-03-23",
          "2020-03-24",
          "2020-03-25",
          "2020-03-26",
          "2020-03-27",
          "2020-03-28",
          "2020-03-29",
          "2020-03-30",
          "2020-03-31",
          "2020-04-01",
          "2020-04-02",
          "2020-04-03",
          "2020-04-04",
          "2020-04-05",
          "2020-04-06",
          "2020-04-07",
          "2020-04-08"
         ],
         "legendgroup": "Korea, South",
         "marker": {
          "color": "#F58518",
          "opacity": 0.9,
          "symbol": "diamond"
         },
         "mode": "markers",
         "name": "Korea, South",
         "showlegend": true,
         "type": "scatter",
         "x": [
          104,
          204,
          433,
          602,
          833,
          977,
          1261,
          1766,
          2337,
          3150,
          3736,
          4335,
          5186,
          5621,
          6088,
          6593,
          7041,
          7314,
          7478,
          7513,
          7755,
          7869,
          7979,
          8086,
          8162,
          8236,
          8320,
          8413,
          8565,
          8652,
          8799,
          8961,
          8961,
          9037,
          9137,
          9241,
          9332,
          9478,
          9583,
          9661,
          9786,
          9887,
          9976,
          10062,
          10156,
          10237,
          10284,
          10331,
          10384
         ],
         "xaxis": "x",
         "y": [
          73,
          100,
          229,
          169,
          231,
          144,
          284,
          505,
          571,
          813,
          586,
          599,
          851,
          435,
          467,
          505,
          448,
          273,
          164,
          35,
          242,
          114,
          110,
          107,
          76,
          74,
          84,
          93,
          152,
          87,
          147,
          162,
          0,
          76,
          100,
          104,
          91,
          146,
          105,
          78,
          125,
          101,
          89,
          86,
          94,
          81,
          47,
          47,
          53
         ],
         "yaxis": "y"
        },
        {
         "customdata": [
          [
           42,
           62,
           "2020-02-22",
           "2020-01-31"
          ],
          [
           93,
           155,
           "2020-02-23",
           "2020-01-31"
          ],
          [
           74,
           229,
           "2020-02-24",
           "2020-01-31"
          ],
          [
           93,
           322,
           "2020-02-25",
           "2020-01-31"
          ],
          [
           131,
           453,
           "2020-02-26",
           "2020-01-31"
          ],
          [
           202,
           655,
           "2020-02-27",
           "2020-01-31"
          ],
          [
           233,
           888,
           "2020-02-28",
           "2020-01-31"
          ],
          [
           240,
           1128,
           "2020-02-29",
           "2020-01-31"
          ],
          [
           566,
           1694,
           "2020-03-01",
           "2020-01-31"
          ],
          [
           342,
           2036,
           "2020-03-02",
           "2020-01-31"
          ],
          [
           466,
           2502,
           "2020-03-03",
           "2020-01-31"
          ],
          [
           587,
           3089,
           "2020-03-04",
           "2020-01-31"
          ],
          [
           769,
           3858,
           "2020-03-05",
           "2020-01-31"
          ],
          [
           778,
           4636,
           "2020-03-06",
           "2020-01-31"
          ],
          [
           1247,
           5883,
           "2020-03-07",
           "2020-01-31"
          ],
          [
           1492,
           7375,
           "2020-03-08",
           "2020-01-31"
          ],
          [
           1797,
           9172,
           "2020-03-09",
           "2020-01-31"
          ],
          [
           977,
           10149,
           "2020-03-10",
           "2020-01-31"
          ],
          [
           2313,
           12462,
           "2020-03-11",
           "2020-01-31"
          ],
          [
           0,
           12462,
           "2020-03-12",
           "2020-01-31"
          ],
          [
           5198,
           17660,
           "2020-03-13",
           "2020-01-31"
          ],
          [
           3497,
           21157,
           "2020-03-14",
           "2020-01-31"
          ],
          [
           3590,
           24747,
           "2020-03-15",
           "2020-01-31"
          ],
          [
           3233,
           27980,
           "2020-03-16",
           "2020-01-31"
          ],
          [
           3526,
           31506,
           "2020-03-17",
           "2020-01-31"
          ],
          [
           4207,
           35713,
           "2020-03-18",
           "2020-01-31"
          ],
          [
           5322,
           41035,
           "2020-03-19",
           "2020-01-31"
          ],
          [
           5986,
           47021,
           "2020-03-20",
           "2020-01-31"
          ],
          [
           6557,
           53578,
           "2020-03-21",
           "2020-01-31"
          ],
          [
           5560,
           59138,
           "2020-03-22",
           "2020-01-31"
          ],
          [
           4789,
           63927,
           "2020-03-23",
           "2020-01-31"
          ],
          [
           5249,
           69176,
           "2020-03-24",
           "2020-01-31"
          ],
          [
           5210,
           74386,
           "2020-03-25",
           "2020-01-31"
          ],
          [
           6203,
           80589,
           "2020-03-26",
           "2020-01-31"
          ],
          [
           5909,
           86498,
           "2020-03-27",
           "2020-01-31"
          ],
          [
           5974,
           92472,
           "2020-03-28",
           "2020-01-31"
          ],
          [
           5217,
           97689,
           "2020-03-29",
           "2020-01-31"
          ],
          [
           4050,
           101739,
           "2020-03-30",
           "2020-01-31"
          ],
          [
           4053,
           105792,
           "2020-03-31",
           "2020-01-31"
          ],
          [
           4782,
           110574,
           "2020-04-01",
           "2020-01-31"
          ],
          [
           4668,
           115242,
           "2020-04-02",
           "2020-01-31"
          ],
          [
           4585,
           119827,
           "2020-04-03",
           "2020-01-31"
          ],
          [
           4805,
           124632,
           "2020-04-04",
           "2020-01-31"
          ],
          [
           4316,
           128948,
           "2020-04-05",
           "2020-01-31"
          ],
          [
           3599,
           132547,
           "2020-04-06",
           "2020-01-31"
          ],
          [
           3039,
           135586,
           "2020-04-07",
           "2020-01-31"
          ],
          [
           3836,
           139422,
           "2020-04-08",
           "2020-01-31"
          ]
         ],
         "hovertemplate": "<b>%{hovertext}</b><br><br>Country=Italy<br>Confirmed=%{customdata[1]}<br>NewConfirmed=%{customdata[0]}<br>Date=%{customdata[2]}<br>EpidemicStartDate=%{customdata[3]}<extra></extra>",
         "hovertext": [
          "2020-02-22",
          "2020-02-23",
          "2020-02-24",
          "2020-02-25",
          "2020-02-26",
          "2020-02-27",
          "2020-02-28",
          "2020-02-29",
          "2020-03-01",
          "2020-03-02",
          "2020-03-03",
          "2020-03-04",
          "2020-03-05",
          "2020-03-06",
          "2020-03-07",
          "2020-03-08",
          "2020-03-09",
          "2020-03-10",
          "2020-03-11",
          "2020-03-12",
          "2020-03-13",
          "2020-03-14",
          "2020-03-15",
          "2020-03-16",
          "2020-03-17",
          "2020-03-18",
          "2020-03-19",
          "2020-03-20",
          "2020-03-21",
          "2020-03-22",
          "2020-03-23",
          "2020-03-24",
          "2020-03-25",
          "2020-03-26",
          "2020-03-27",
          "2020-03-28",
          "2020-03-29",
          "2020-03-30",
          "2020-03-31",
          "2020-04-01",
          "2020-04-02",
          "2020-04-03",
          "2020-04-04",
          "2020-04-05",
          "2020-04-06",
          "2020-04-07",
          "2020-04-08"
         ],
         "legendgroup": "Italy",
         "marker": {
          "color": "#E45756",
          "opacity": 0.9,
          "symbol": "square"
         },
         "mode": "markers",
         "name": "Italy",
         "showlegend": true,
         "type": "scatter",
         "x": [
          62,
          155,
          229,
          322,
          453,
          655,
          888,
          1128,
          1694,
          2036,
          2502,
          3089,
          3858,
          4636,
          5883,
          7375,
          9172,
          10149,
          12462,
          12462,
          17660,
          21157,
          24747,
          27980,
          31506,
          35713,
          41035,
          47021,
          53578,
          59138,
          63927,
          69176,
          74386,
          80589,
          86498,
          92472,
          97689,
          101739,
          105792,
          110574,
          115242,
          119827,
          124632,
          128948,
          132547,
          135586,
          139422
         ],
         "xaxis": "x",
         "y": [
          42,
          93,
          74,
          93,
          131,
          202,
          233,
          240,
          566,
          342,
          466,
          587,
          769,
          778,
          1247,
          1492,
          1797,
          977,
          2313,
          0,
          5198,
          3497,
          3590,
          3233,
          3526,
          4207,
          5322,
          5986,
          6557,
          5560,
          4789,
          5249,
          5210,
          6203,
          5909,
          5974,
          5217,
          4050,
          4053,
          4782,
          4668,
          4585,
          4805,
          4316,
          3599,
          3039,
          3836
         ],
         "yaxis": "y"
        },
        {
         "customdata": [
          [
           36,
           51,
           "2020-02-24",
           "2020-01-22"
          ],
          [
           0,
           51,
           "2020-02-25",
           "2020-01-22"
          ],
          [
           6,
           57,
           "2020-02-26",
           "2020-01-22"
          ],
          [
           1,
           58,
           "2020-02-27",
           "2020-01-22"
          ],
          [
           2,
           60,
           "2020-02-28",
           "2020-01-22"
          ],
          [
           8,
           68,
           "2020-02-29",
           "2020-01-22"
          ],
          [
           6,
           74,
           "2020-03-01",
           "2020-01-22"
          ],
          [
           24,
           98,
           "2020-03-02",
           "2020-01-22"
          ],
          [
           20,
           118,
           "2020-03-03",
           "2020-01-22"
          ],
          [
           31,
           149,
           "2020-03-04",
           "2020-01-22"
          ],
          [
           68,
           217,
           "2020-03-05",
           "2020-01-22"
          ],
          [
           45,
           262,
           "2020-03-06",
           "2020-01-22"
          ],
          [
           140,
           402,
           "2020-03-07",
           "2020-01-22"
          ],
          [
           116,
           518,
           "2020-03-08",
           "2020-01-22"
          ],
          [
           65,
           583,
           "2020-03-09",
           "2020-01-22"
          ],
          [
           376,
           959,
           "2020-03-10",
           "2020-01-22"
          ],
          [
           322,
           1281,
           "2020-03-11",
           "2020-01-22"
          ],
          [
           382,
           1663,
           "2020-03-12",
           "2020-01-22"
          ],
          [
           516,
           2179,
           "2020-03-13",
           "2020-01-22"
          ],
          [
           548,
           2727,
           "2020-03-14",
           "2020-01-22"
          ],
          [
           772,
           3499,
           "2020-03-15",
           "2020-01-22"
          ],
          [
           1133,
           4632,
           "2020-03-16",
           "2020-01-22"
          ],
          [
           1789,
           6421,
           "2020-03-17",
           "2020-01-22"
          ],
          [
           1362,
           7783,
           "2020-03-18",
           "2020-01-22"
          ],
          [
           5964,
           13747,
           "2020-03-19",
           "2020-01-22"
          ],
          [
           5526,
           19273,
           "2020-03-20",
           "2020-01-22"
          ],
          [
           6327,
           25600,
           "2020-03-21",
           "2020-01-22"
          ],
          [
           7676,
           33276,
           "2020-03-22",
           "2020-01-22"
          ],
          [
           10571,
           43847,
           "2020-03-23",
           "2020-01-22"
          ],
          [
           9893,
           53740,
           "2020-03-24",
           "2020-01-22"
          ],
          [
           12038,
           65778,
           "2020-03-25",
           "2020-01-22"
          ],
          [
           18058,
           83836,
           "2020-03-26",
           "2020-01-22"
          ],
          [
           17821,
           101657,
           "2020-03-27",
           "2020-01-22"
          ],
          [
           19821,
           121478,
           "2020-03-28",
           "2020-01-22"
          ],
          [
           19431,
           140909,
           "2020-03-29",
           "2020-01-22"
          ],
          [
           20928,
           161837,
           "2020-03-30",
           "2020-01-22"
          ],
          [
           26335,
           188172,
           "2020-03-31",
           "2020-01-22"
          ],
          [
           25200,
           213372,
           "2020-04-01",
           "2020-01-22"
          ],
          [
           30244,
           243616,
           "2020-04-02",
           "2020-01-22"
          ],
          [
           31970,
           275586,
           "2020-04-03",
           "2020-01-22"
          ],
          [
           33264,
           308850,
           "2020-04-04",
           "2020-01-22"
          ],
          [
           28222,
           337072,
           "2020-04-05",
           "2020-01-22"
          ],
          [
           29595,
           366667,
           "2020-04-06",
           "2020-01-22"
          ],
          [
           29556,
           396223,
           "2020-04-07",
           "2020-01-22"
          ],
          [
           32829,
           429052,
           "2020-04-08",
           "2020-01-22"
          ]
         ],
         "hovertemplate": "<b>%{hovertext}</b><br><br>Country=US<br>Confirmed=%{customdata[1]}<br>NewConfirmed=%{customdata[0]}<br>Date=%{customdata[2]}<br>EpidemicStartDate=%{customdata[3]}<extra></extra>",
         "hovertext": [
          "2020-02-24",
          "2020-02-25",
          "2020-02-26",
          "2020-02-27",
          "2020-02-28",
          "2020-02-29",
          "2020-03-01",
          "2020-03-02",
          "2020-03-03",
          "2020-03-04",
          "2020-03-05",
          "2020-03-06",
          "2020-03-07",
          "2020-03-08",
          "2020-03-09",
          "2020-03-10",
          "2020-03-11",
          "2020-03-12",
          "2020-03-13",
          "2020-03-14",
          "2020-03-15",
          "2020-03-16",
          "2020-03-17",
          "2020-03-18",
          "2020-03-19",
          "2020-03-20",
          "2020-03-21",
          "2020-03-22",
          "2020-03-23",
          "2020-03-24",
          "2020-03-25",
          "2020-03-26",
          "2020-03-27",
          "2020-03-28",
          "2020-03-29",
          "2020-03-30",
          "2020-03-31",
          "2020-04-01",
          "2020-04-02",
          "2020-04-03",
          "2020-04-04",
          "2020-04-05",
          "2020-04-06",
          "2020-04-07",
          "2020-04-08"
         ],
         "legendgroup": "US",
         "marker": {
          "color": "#72B7B2",
          "opacity": 0.9,
          "symbol": "x"
         },
         "mode": "markers",
         "name": "US",
         "showlegend": true,
         "type": "scatter",
         "x": [
          51,
          51,
          57,
          58,
          60,
          68,
          74,
          98,
          118,
          149,
          217,
          262,
          402,
          518,
          583,
          959,
          1281,
          1663,
          2179,
          2727,
          3499,
          4632,
          6421,
          7783,
          13747,
          19273,
          25600,
          33276,
          43847,
          53740,
          65778,
          83836,
          101657,
          121478,
          140909,
          161837,
          188172,
          213372,
          243616,
          275586,
          308850,
          337072,
          366667,
          396223,
          429052
         ],
         "xaxis": "x",
         "y": [
          36,
          0,
          6,
          1,
          2,
          8,
          6,
          24,
          20,
          31,
          68,
          45,
          140,
          116,
          65,
          376,
          322,
          382,
          516,
          548,
          772,
          1133,
          1789,
          1362,
          5964,
          5526,
          6327,
          7676,
          10571,
          9893,
          12038,
          18058,
          17821,
          19821,
          19431,
          20928,
          26335,
          25200,
          30244,
          31970,
          33264,
          28222,
          29595,
          29556,
          32829
         ],
         "yaxis": "y"
        }
       ],
       "layout": {
        "legend": {
         "title": {
          "text": "Country"
         },
         "tracegroupgap": 0
        },
        "template": {
         "data": {
          "bar": [
           {
            "error_x": {
             "color": "rgb(51,51,51)"
            },
            "error_y": {
             "color": "rgb(51,51,51)"
            },
            "marker": {
             "line": {
              "color": "rgb(237,237,237)",
              "width": 0.5
             }
            },
            "type": "bar"
           }
          ],
          "barpolar": [
           {
            "marker": {
             "line": {
              "color": "rgb(237,237,237)",
              "width": 0.5
             }
            },
            "type": "barpolar"
           }
          ],
          "carpet": [
           {
            "aaxis": {
             "endlinecolor": "rgb(51,51,51)",
             "gridcolor": "white",
             "linecolor": "white",
             "minorgridcolor": "white",
             "startlinecolor": "rgb(51,51,51)"
            },
            "baxis": {
             "endlinecolor": "rgb(51,51,51)",
             "gridcolor": "white",
             "linecolor": "white",
             "minorgridcolor": "white",
             "startlinecolor": "rgb(51,51,51)"
            },
            "type": "carpet"
           }
          ],
          "choropleth": [
           {
            "colorbar": {
             "outlinewidth": 0,
             "tickcolor": "rgb(237,237,237)",
             "ticklen": 6,
             "ticks": "inside"
            },
            "type": "choropleth"
           }
          ],
          "contour": [
           {
            "colorbar": {
             "outlinewidth": 0,
             "tickcolor": "rgb(237,237,237)",
             "ticklen": 6,
             "ticks": "inside"
            },
            "colorscale": [
             [
              0,
              "rgb(20,44,66)"
             ],
             [
              1,
              "rgb(90,179,244)"
             ]
            ],
            "type": "contour"
           }
          ],
          "contourcarpet": [
           {
            "colorbar": {
             "outlinewidth": 0,
             "tickcolor": "rgb(237,237,237)",
             "ticklen": 6,
             "ticks": "inside"
            },
            "type": "contourcarpet"
           }
          ],
          "heatmap": [
           {
            "colorbar": {
             "outlinewidth": 0,
             "tickcolor": "rgb(237,237,237)",
             "ticklen": 6,
             "ticks": "inside"
            },
            "colorscale": [
             [
              0,
              "rgb(20,44,66)"
             ],
             [
              1,
              "rgb(90,179,244)"
             ]
            ],
            "type": "heatmap"
           }
          ],
          "heatmapgl": [
           {
            "colorbar": {
             "outlinewidth": 0,
             "tickcolor": "rgb(237,237,237)",
             "ticklen": 6,
             "ticks": "inside"
            },
            "colorscale": [
             [
              0,
              "rgb(20,44,66)"
             ],
             [
              1,
              "rgb(90,179,244)"
             ]
            ],
            "type": "heatmapgl"
           }
          ],
          "histogram": [
           {
            "marker": {
             "colorbar": {
              "outlinewidth": 0,
              "tickcolor": "rgb(237,237,237)",
              "ticklen": 6,
              "ticks": "inside"
             }
            },
            "type": "histogram"
           }
          ],
          "histogram2d": [
           {
            "colorbar": {
             "outlinewidth": 0,
             "tickcolor": "rgb(237,237,237)",
             "ticklen": 6,
             "ticks": "inside"
            },
            "colorscale": [
             [
              0,
              "rgb(20,44,66)"
             ],
             [
              1,
              "rgb(90,179,244)"
             ]
            ],
            "type": "histogram2d"
           }
          ],
          "histogram2dcontour": [
           {
            "colorbar": {
             "outlinewidth": 0,
             "tickcolor": "rgb(237,237,237)",
             "ticklen": 6,
             "ticks": "inside"
            },
            "colorscale": [
             [
              0,
              "rgb(20,44,66)"
             ],
             [
              1,
              "rgb(90,179,244)"
             ]
            ],
            "type": "histogram2dcontour"
           }
          ],
          "mesh3d": [
           {
            "colorbar": {
             "outlinewidth": 0,
             "tickcolor": "rgb(237,237,237)",
             "ticklen": 6,
             "ticks": "inside"
            },
            "type": "mesh3d"
           }
          ],
          "parcoords": [
           {
            "line": {
             "colorbar": {
              "outlinewidth": 0,
              "tickcolor": "rgb(237,237,237)",
              "ticklen": 6,
              "ticks": "inside"
             }
            },
            "type": "parcoords"
           }
          ],
          "pie": [
           {
            "automargin": true,
            "type": "pie"
           }
          ],
          "scatter": [
           {
            "marker": {
             "colorbar": {
              "outlinewidth": 0,
              "tickcolor": "rgb(237,237,237)",
              "ticklen": 6,
              "ticks": "inside"
             }
            },
            "type": "scatter"
           }
          ],
          "scatter3d": [
           {
            "line": {
             "colorbar": {
              "outlinewidth": 0,
              "tickcolor": "rgb(237,237,237)",
              "ticklen": 6,
              "ticks": "inside"
             }
            },
            "marker": {
             "colorbar": {
              "outlinewidth": 0,
              "tickcolor": "rgb(237,237,237)",
              "ticklen": 6,
              "ticks": "inside"
             }
            },
            "type": "scatter3d"
           }
          ],
          "scattercarpet": [
           {
            "marker": {
             "colorbar": {
              "outlinewidth": 0,
              "tickcolor": "rgb(237,237,237)",
              "ticklen": 6,
              "ticks": "inside"
             }
            },
            "type": "scattercarpet"
           }
          ],
          "scattergeo": [
           {
            "marker": {
             "colorbar": {
              "outlinewidth": 0,
              "tickcolor": "rgb(237,237,237)",
              "ticklen": 6,
              "ticks": "inside"
             }
            },
            "type": "scattergeo"
           }
          ],
          "scattergl": [
           {
            "marker": {
             "colorbar": {
              "outlinewidth": 0,
              "tickcolor": "rgb(237,237,237)",
              "ticklen": 6,
              "ticks": "inside"
             }
            },
            "type": "scattergl"
           }
          ],
          "scattermapbox": [
           {
            "marker": {
             "colorbar": {
              "outlinewidth": 0,
              "tickcolor": "rgb(237,237,237)",
              "ticklen": 6,
              "ticks": "inside"
             }
            },
            "type": "scattermapbox"
           }
          ],
          "scatterpolar": [
           {
            "marker": {
             "colorbar": {
              "outlinewidth": 0,
              "tickcolor": "rgb(237,237,237)",
              "ticklen": 6,
              "ticks": "inside"
             }
            },
            "type": "scatterpolar"
           }
          ],
          "scatterpolargl": [
           {
            "marker": {
             "colorbar": {
              "outlinewidth": 0,
              "tickcolor": "rgb(237,237,237)",
              "ticklen": 6,
              "ticks": "inside"
             }
            },
            "type": "scatterpolargl"
           }
          ],
          "scatterternary": [
           {
            "marker": {
             "colorbar": {
              "outlinewidth": 0,
              "tickcolor": "rgb(237,237,237)",
              "ticklen": 6,
              "ticks": "inside"
             }
            },
            "type": "scatterternary"
           }
          ],
          "surface": [
           {
            "colorbar": {
             "outlinewidth": 0,
             "tickcolor": "rgb(237,237,237)",
             "ticklen": 6,
             "ticks": "inside"
            },
            "colorscale": [
             [
              0,
              "rgb(20,44,66)"
             ],
             [
              1,
              "rgb(90,179,244)"
             ]
            ],
            "type": "surface"
           }
          ],
          "table": [
           {
            "cells": {
             "fill": {
              "color": "rgb(237,237,237)"
             },
             "line": {
              "color": "white"
             }
            },
            "header": {
             "fill": {
              "color": "rgb(217,217,217)"
             },
             "line": {
              "color": "white"
             }
            },
            "type": "table"
           }
          ]
         },
         "layout": {
          "annotationdefaults": {
           "arrowhead": 0,
           "arrowwidth": 1
          },
          "coloraxis": {
           "colorbar": {
            "outlinewidth": 0,
            "tickcolor": "rgb(237,237,237)",
            "ticklen": 6,
            "ticks": "inside"
           }
          },
          "colorscale": {
           "sequential": [
            [
             0,
             "rgb(20,44,66)"
            ],
            [
             1,
             "rgb(90,179,244)"
            ]
           ],
           "sequentialminus": [
            [
             0,
             "rgb(20,44,66)"
            ],
            [
             1,
             "rgb(90,179,244)"
            ]
           ]
          },
          "colorway": [
           "#F8766D",
           "#A3A500",
           "#00BF7D",
           "#00B0F6",
           "#E76BF3"
          ],
          "font": {
           "color": "rgb(51,51,51)"
          },
          "geo": {
           "bgcolor": "white",
           "lakecolor": "white",
           "landcolor": "rgb(237,237,237)",
           "showlakes": true,
           "showland": true,
           "subunitcolor": "white"
          },
          "hoverlabel": {
           "align": "left"
          },
          "hovermode": "closest",
          "paper_bgcolor": "white",
          "plot_bgcolor": "rgb(237,237,237)",
          "polar": {
           "angularaxis": {
            "gridcolor": "white",
            "linecolor": "white",
            "showgrid": true,
            "tickcolor": "rgb(51,51,51)",
            "ticks": "outside"
           },
           "bgcolor": "rgb(237,237,237)",
           "radialaxis": {
            "gridcolor": "white",
            "linecolor": "white",
            "showgrid": true,
            "tickcolor": "rgb(51,51,51)",
            "ticks": "outside"
           }
          },
          "scene": {
           "xaxis": {
            "backgroundcolor": "rgb(237,237,237)",
            "gridcolor": "white",
            "gridwidth": 2,
            "linecolor": "white",
            "showbackground": true,
            "showgrid": true,
            "tickcolor": "rgb(51,51,51)",
            "ticks": "outside",
            "zerolinecolor": "white"
           },
           "yaxis": {
            "backgroundcolor": "rgb(237,237,237)",
            "gridcolor": "white",
            "gridwidth": 2,
            "linecolor": "white",
            "showbackground": true,
            "showgrid": true,
            "tickcolor": "rgb(51,51,51)",
            "ticks": "outside",
            "zerolinecolor": "white"
           },
           "zaxis": {
            "backgroundcolor": "rgb(237,237,237)",
            "gridcolor": "white",
            "gridwidth": 2,
            "linecolor": "white",
            "showbackground": true,
            "showgrid": true,
            "tickcolor": "rgb(51,51,51)",
            "ticks": "outside",
            "zerolinecolor": "white"
           }
          },
          "shapedefaults": {
           "fillcolor": "black",
           "line": {
            "width": 0
           },
           "opacity": 0.3
          },
          "ternary": {
           "aaxis": {
            "gridcolor": "white",
            "linecolor": "white",
            "showgrid": true,
            "tickcolor": "rgb(51,51,51)",
            "ticks": "outside"
           },
           "baxis": {
            "gridcolor": "white",
            "linecolor": "white",
            "showgrid": true,
            "tickcolor": "rgb(51,51,51)",
            "ticks": "outside"
           },
           "bgcolor": "rgb(237,237,237)",
           "caxis": {
            "gridcolor": "white",
            "linecolor": "white",
            "showgrid": true,
            "tickcolor": "rgb(51,51,51)",
            "ticks": "outside"
           }
          },
          "xaxis": {
           "automargin": true,
           "gridcolor": "white",
           "linecolor": "white",
           "showgrid": true,
           "tickcolor": "rgb(51,51,51)",
           "ticks": "outside",
           "title": {
            "standoff": 15
           },
           "zerolinecolor": "white"
          },
          "yaxis": {
           "automargin": true,
           "gridcolor": "white",
           "linecolor": "white",
           "showgrid": true,
           "tickcolor": "rgb(51,51,51)",
           "ticks": "outside",
           "title": {
            "standoff": 15
           },
           "zerolinecolor": "white"
          }
         }
        },
        "title": {
         "text": "New Confirmed Cases vs Cumulative Cases Per Day (Logged, International)"
        },
        "xaxis": {
         "anchor": "y",
         "domain": [
          0,
          1
         ],
         "title": {
          "text": "Confirmed"
         },
         "type": "log"
        },
        "yaxis": {
         "anchor": "x",
         "domain": [
          0,
          1
         ],
         "title": {
          "text": "NewConfirmed"
         },
         "type": "log"
        }
       }
      },
      "text/html": [
       "<div>\n",
       "        \n",
       "        \n",
       "            <div id=\"700f5095-b715-416c-9735-180c6492b894\" class=\"plotly-graph-div\" style=\"height:525px; width:100%;\"></div>\n",
       "            <script type=\"text/javascript\">\n",
       "                require([\"plotly\"], function(Plotly) {\n",
       "                    window.PLOTLYENV=window.PLOTLYENV || {};\n",
       "                    \n",
       "                if (document.getElementById(\"700f5095-b715-416c-9735-180c6492b894\")) {\n",
       "                    Plotly.newPlot(\n",
       "                        '700f5095-b715-416c-9735-180c6492b894',\n",
       "                        [{\"customdata\": [[null, 548.0, \"2020-01-22\", \"2020-01-22\"], [95.0, 643.0, \"2020-01-23\", \"2020-01-22\"], [277.0, 920.0, \"2020-01-24\", \"2020-01-22\"], [486.0, 1406.0, \"2020-01-25\", \"2020-01-22\"], [669.0, 2075.0, \"2020-01-26\", \"2020-01-22\"], [802.0, 2877.0, \"2020-01-27\", \"2020-01-22\"], [2632.0, 5509.0, \"2020-01-28\", \"2020-01-22\"], [578.0, 6087.0, \"2020-01-29\", \"2020-01-22\"], [2054.0, 8141.0, \"2020-01-30\", \"2020-01-22\"], [1661.0, 9802.0, \"2020-01-31\", \"2020-01-22\"], [2089.0, 11891.0, \"2020-02-01\", \"2020-01-22\"], [4739.0, 16630.0, \"2020-02-02\", \"2020-01-22\"], [3086.0, 19716.0, \"2020-02-03\", \"2020-01-22\"], [3991.0, 23707.0, \"2020-02-04\", \"2020-01-22\"], [3733.0, 27440.0, \"2020-02-05\", \"2020-01-22\"], [3147.0, 30587.0, \"2020-02-06\", \"2020-01-22\"], [3523.0, 34110.0, \"2020-02-07\", \"2020-01-22\"], [2704.0, 36814.0, \"2020-02-08\", \"2020-01-22\"], [3015.0, 39829.0, \"2020-02-09\", \"2020-01-22\"], [2525.0, 42354.0, \"2020-02-10\", \"2020-01-22\"], [2032.0, 44386.0, \"2020-02-11\", \"2020-01-22\"], [373.0, 44759.0, \"2020-02-12\", \"2020-01-22\"], [15136.0, 59895.0, \"2020-02-13\", \"2020-01-22\"], [6463.0, 66358.0, \"2020-02-14\", \"2020-01-22\"], [2055.0, 68413.0, \"2020-02-15\", \"2020-01-22\"], [2100.0, 70513.0, \"2020-02-16\", \"2020-01-22\"], [1921.0, 72434.0, \"2020-02-17\", \"2020-01-22\"], [1777.0, 74211.0, \"2020-02-18\", \"2020-01-22\"], [408.0, 74619.0, \"2020-02-19\", \"2020-01-22\"], [458.0, 75077.0, \"2020-02-20\", \"2020-01-22\"], [473.0, 75550.0, \"2020-02-21\", \"2020-01-22\"], [1451.0, 77001.0, \"2020-02-22\", \"2020-01-22\"], [21.0, 77022.0, \"2020-02-23\", \"2020-01-22\"], [219.0, 77241.0, \"2020-02-24\", \"2020-01-22\"], [513.0, 77754.0, \"2020-02-25\", \"2020-01-22\"], [412.0, 78166.0, \"2020-02-26\", \"2020-01-22\"], [434.0, 78600.0, \"2020-02-27\", \"2020-01-22\"], [328.0, 78928.0, \"2020-02-28\", \"2020-01-22\"], [428.0, 79356.0, \"2020-02-29\", \"2020-01-22\"], [576.0, 79932.0, \"2020-03-01\", \"2020-01-22\"], [204.0, 80136.0, \"2020-03-02\", \"2020-01-22\"], [125.0, 80261.0, \"2020-03-03\", \"2020-01-22\"], [125.0, 80386.0, \"2020-03-04\", \"2020-01-22\"], [151.0, 80537.0, \"2020-03-05\", \"2020-01-22\"], [153.0, 80690.0, \"2020-03-06\", \"2020-01-22\"], [80.0, 80770.0, \"2020-03-07\", \"2020-01-22\"], [53.0, 80823.0, \"2020-03-08\", \"2020-01-22\"], [37.0, 80860.0, \"2020-03-09\", \"2020-01-22\"], [27.0, 80887.0, \"2020-03-10\", \"2020-01-22\"], [34.0, 80921.0, \"2020-03-11\", \"2020-01-22\"], [11.0, 80932.0, \"2020-03-12\", \"2020-01-22\"], [13.0, 80945.0, \"2020-03-13\", \"2020-01-22\"], [32.0, 80977.0, \"2020-03-14\", \"2020-01-22\"], [26.0, 81003.0, \"2020-03-15\", \"2020-01-22\"], [30.0, 81033.0, \"2020-03-16\", \"2020-01-22\"], [25.0, 81058.0, \"2020-03-17\", \"2020-01-22\"], [44.0, 81102.0, \"2020-03-18\", \"2020-01-22\"], [54.0, 81156.0, \"2020-03-19\", \"2020-01-22\"], [94.0, 81250.0, \"2020-03-20\", \"2020-01-22\"], [55.0, 81305.0, \"2020-03-21\", \"2020-01-22\"], [130.0, 81435.0, \"2020-03-22\", \"2020-01-22\"], [63.0, 81498.0, \"2020-03-23\", \"2020-01-22\"], [93.0, 81591.0, \"2020-03-24\", \"2020-01-22\"], [70.0, 81661.0, \"2020-03-25\", \"2020-01-22\"], [121.0, 81782.0, \"2020-03-26\", \"2020-01-22\"], [115.0, 81897.0, \"2020-03-27\", \"2020-01-22\"], [102.0, 81999.0, \"2020-03-28\", \"2020-01-22\"], [123.0, 82122.0, \"2020-03-29\", \"2020-01-22\"], [76.0, 82198.0, \"2020-03-30\", \"2020-01-22\"], [81.0, 82279.0, \"2020-03-31\", \"2020-01-22\"], [82.0, 82361.0, \"2020-04-01\", \"2020-01-22\"], [71.0, 82432.0, \"2020-04-02\", \"2020-01-22\"], [79.0, 82511.0, \"2020-04-03\", \"2020-01-22\"], [32.0, 82543.0, \"2020-04-04\", \"2020-01-22\"], [59.0, 82602.0, \"2020-04-05\", \"2020-01-22\"], [63.0, 82665.0, \"2020-04-06\", \"2020-01-22\"], [53.0, 82718.0, \"2020-04-07\", \"2020-01-22\"], [91.0, 82809.0, \"2020-04-08\", \"2020-01-22\"]], \"hovertemplate\": \"<b>%{hovertext}</b><br><br>Country=China<br>Confirmed=%{customdata[1]}<br>NewConfirmed=%{customdata[0]}<br>Date=%{customdata[2]}<br>EpidemicStartDate=%{customdata[3]}<extra></extra>\", \"hovertext\": [\"2020-01-22\", \"2020-01-23\", \"2020-01-24\", \"2020-01-25\", \"2020-01-26\", \"2020-01-27\", \"2020-01-28\", \"2020-01-29\", \"2020-01-30\", \"2020-01-31\", \"2020-02-01\", \"2020-02-02\", \"2020-02-03\", \"2020-02-04\", \"2020-02-05\", \"2020-02-06\", \"2020-02-07\", \"2020-02-08\", \"2020-02-09\", \"2020-02-10\", \"2020-02-11\", \"2020-02-12\", \"2020-02-13\", \"2020-02-14\", \"2020-02-15\", \"2020-02-16\", \"2020-02-17\", \"2020-02-18\", \"2020-02-19\", \"2020-02-20\", \"2020-02-21\", \"2020-02-22\", \"2020-02-23\", \"2020-02-24\", \"2020-02-25\", \"2020-02-26\", \"2020-02-27\", \"2020-02-28\", \"2020-02-29\", \"2020-03-01\", \"2020-03-02\", \"2020-03-03\", \"2020-03-04\", \"2020-03-05\", \"2020-03-06\", \"2020-03-07\", \"2020-03-08\", \"2020-03-09\", \"2020-03-10\", \"2020-03-11\", \"2020-03-12\", \"2020-03-13\", \"2020-03-14\", \"2020-03-15\", \"2020-03-16\", \"2020-03-17\", \"2020-03-18\", \"2020-03-19\", \"2020-03-20\", \"2020-03-21\", \"2020-03-22\", \"2020-03-23\", \"2020-03-24\", \"2020-03-25\", \"2020-03-26\", \"2020-03-27\", \"2020-03-28\", \"2020-03-29\", \"2020-03-30\", \"2020-03-31\", \"2020-04-01\", \"2020-04-02\", \"2020-04-03\", \"2020-04-04\", \"2020-04-05\", \"2020-04-06\", \"2020-04-07\", \"2020-04-08\"], \"legendgroup\": \"China\", \"marker\": {\"color\": \"#4C78A8\", \"opacity\": 0.9, \"symbol\": \"circle\"}, \"mode\": \"markers\", \"name\": \"China\", \"showlegend\": true, \"type\": \"scatter\", \"x\": [548, 643, 920, 1406, 2075, 2877, 5509, 6087, 8141, 9802, 11891, 16630, 19716, 23707, 27440, 30587, 34110, 36814, 39829, 42354, 44386, 44759, 59895, 66358, 68413, 70513, 72434, 74211, 74619, 75077, 75550, 77001, 77022, 77241, 77754, 78166, 78600, 78928, 79356, 79932, 80136, 80261, 80386, 80537, 80690, 80770, 80823, 80860, 80887, 80921, 80932, 80945, 80977, 81003, 81033, 81058, 81102, 81156, 81250, 81305, 81435, 81498, 81591, 81661, 81782, 81897, 81999, 82122, 82198, 82279, 82361, 82432, 82511, 82543, 82602, 82665, 82718, 82809], \"xaxis\": \"x\", \"y\": [null, 95.0, 277.0, 486.0, 669.0, 802.0, 2632.0, 578.0, 2054.0, 1661.0, 2089.0, 4739.0, 3086.0, 3991.0, 3733.0, 3147.0, 3523.0, 2704.0, 3015.0, 2525.0, 2032.0, 373.0, 15136.0, 6463.0, 2055.0, 2100.0, 1921.0, 1777.0, 408.0, 458.0, 473.0, 1451.0, 21.0, 219.0, 513.0, 412.0, 434.0, 328.0, 428.0, 576.0, 204.0, 125.0, 125.0, 151.0, 153.0, 80.0, 53.0, 37.0, 27.0, 34.0, 11.0, 13.0, 32.0, 26.0, 30.0, 25.0, 44.0, 54.0, 94.0, 55.0, 130.0, 63.0, 93.0, 70.0, 121.0, 115.0, 102.0, 123.0, 76.0, 81.0, 82.0, 71.0, 79.0, 32.0, 59.0, 63.0, 53.0, 91.0], \"yaxis\": \"y\"}, {\"customdata\": [[73.0, 104.0, \"2020-02-20\", \"2020-01-22\"], [100.0, 204.0, \"2020-02-21\", \"2020-01-22\"], [229.0, 433.0, \"2020-02-22\", \"2020-01-22\"], [169.0, 602.0, \"2020-02-23\", \"2020-01-22\"], [231.0, 833.0, \"2020-02-24\", \"2020-01-22\"], [144.0, 977.0, \"2020-02-25\", \"2020-01-22\"], [284.0, 1261.0, \"2020-02-26\", \"2020-01-22\"], [505.0, 1766.0, \"2020-02-27\", \"2020-01-22\"], [571.0, 2337.0, \"2020-02-28\", \"2020-01-22\"], [813.0, 3150.0, \"2020-02-29\", \"2020-01-22\"], [586.0, 3736.0, \"2020-03-01\", \"2020-01-22\"], [599.0, 4335.0, \"2020-03-02\", \"2020-01-22\"], [851.0, 5186.0, \"2020-03-03\", \"2020-01-22\"], [435.0, 5621.0, \"2020-03-04\", \"2020-01-22\"], [467.0, 6088.0, \"2020-03-05\", \"2020-01-22\"], [505.0, 6593.0, \"2020-03-06\", \"2020-01-22\"], [448.0, 7041.0, \"2020-03-07\", \"2020-01-22\"], [273.0, 7314.0, \"2020-03-08\", \"2020-01-22\"], [164.0, 7478.0, \"2020-03-09\", \"2020-01-22\"], [35.0, 7513.0, \"2020-03-10\", \"2020-01-22\"], [242.0, 7755.0, \"2020-03-11\", \"2020-01-22\"], [114.0, 7869.0, \"2020-03-12\", \"2020-01-22\"], [110.0, 7979.0, \"2020-03-13\", \"2020-01-22\"], [107.0, 8086.0, \"2020-03-14\", \"2020-01-22\"], [76.0, 8162.0, \"2020-03-15\", \"2020-01-22\"], [74.0, 8236.0, \"2020-03-16\", \"2020-01-22\"], [84.0, 8320.0, \"2020-03-17\", \"2020-01-22\"], [93.0, 8413.0, \"2020-03-18\", \"2020-01-22\"], [152.0, 8565.0, \"2020-03-19\", \"2020-01-22\"], [87.0, 8652.0, \"2020-03-20\", \"2020-01-22\"], [147.0, 8799.0, \"2020-03-21\", \"2020-01-22\"], [162.0, 8961.0, \"2020-03-22\", \"2020-01-22\"], [0.0, 8961.0, \"2020-03-23\", \"2020-01-22\"], [76.0, 9037.0, \"2020-03-24\", \"2020-01-22\"], [100.0, 9137.0, \"2020-03-25\", \"2020-01-22\"], [104.0, 9241.0, \"2020-03-26\", \"2020-01-22\"], [91.0, 9332.0, \"2020-03-27\", \"2020-01-22\"], [146.0, 9478.0, \"2020-03-28\", \"2020-01-22\"], [105.0, 9583.0, \"2020-03-29\", \"2020-01-22\"], [78.0, 9661.0, \"2020-03-30\", \"2020-01-22\"], [125.0, 9786.0, \"2020-03-31\", \"2020-01-22\"], [101.0, 9887.0, \"2020-04-01\", \"2020-01-22\"], [89.0, 9976.0, \"2020-04-02\", \"2020-01-22\"], [86.0, 10062.0, \"2020-04-03\", \"2020-01-22\"], [94.0, 10156.0, \"2020-04-04\", \"2020-01-22\"], [81.0, 10237.0, \"2020-04-05\", \"2020-01-22\"], [47.0, 10284.0, \"2020-04-06\", \"2020-01-22\"], [47.0, 10331.0, \"2020-04-07\", \"2020-01-22\"], [53.0, 10384.0, \"2020-04-08\", \"2020-01-22\"]], \"hovertemplate\": \"<b>%{hovertext}</b><br><br>Country=Korea, South<br>Confirmed=%{customdata[1]}<br>NewConfirmed=%{customdata[0]}<br>Date=%{customdata[2]}<br>EpidemicStartDate=%{customdata[3]}<extra></extra>\", \"hovertext\": [\"2020-02-20\", \"2020-02-21\", \"2020-02-22\", \"2020-02-23\", \"2020-02-24\", \"2020-02-25\", \"2020-02-26\", \"2020-02-27\", \"2020-02-28\", \"2020-02-29\", \"2020-03-01\", \"2020-03-02\", \"2020-03-03\", \"2020-03-04\", \"2020-03-05\", \"2020-03-06\", \"2020-03-07\", \"2020-03-08\", \"2020-03-09\", \"2020-03-10\", \"2020-03-11\", \"2020-03-12\", \"2020-03-13\", \"2020-03-14\", \"2020-03-15\", \"2020-03-16\", \"2020-03-17\", \"2020-03-18\", \"2020-03-19\", \"2020-03-20\", \"2020-03-21\", \"2020-03-22\", \"2020-03-23\", \"2020-03-24\", \"2020-03-25\", \"2020-03-26\", \"2020-03-27\", \"2020-03-28\", \"2020-03-29\", \"2020-03-30\", \"2020-03-31\", \"2020-04-01\", \"2020-04-02\", \"2020-04-03\", \"2020-04-04\", \"2020-04-05\", \"2020-04-06\", \"2020-04-07\", \"2020-04-08\"], \"legendgroup\": \"Korea, South\", \"marker\": {\"color\": \"#F58518\", \"opacity\": 0.9, \"symbol\": \"diamond\"}, \"mode\": \"markers\", \"name\": \"Korea, South\", \"showlegend\": true, \"type\": \"scatter\", \"x\": [104, 204, 433, 602, 833, 977, 1261, 1766, 2337, 3150, 3736, 4335, 5186, 5621, 6088, 6593, 7041, 7314, 7478, 7513, 7755, 7869, 7979, 8086, 8162, 8236, 8320, 8413, 8565, 8652, 8799, 8961, 8961, 9037, 9137, 9241, 9332, 9478, 9583, 9661, 9786, 9887, 9976, 10062, 10156, 10237, 10284, 10331, 10384], \"xaxis\": \"x\", \"y\": [73.0, 100.0, 229.0, 169.0, 231.0, 144.0, 284.0, 505.0, 571.0, 813.0, 586.0, 599.0, 851.0, 435.0, 467.0, 505.0, 448.0, 273.0, 164.0, 35.0, 242.0, 114.0, 110.0, 107.0, 76.0, 74.0, 84.0, 93.0, 152.0, 87.0, 147.0, 162.0, 0.0, 76.0, 100.0, 104.0, 91.0, 146.0, 105.0, 78.0, 125.0, 101.0, 89.0, 86.0, 94.0, 81.0, 47.0, 47.0, 53.0], \"yaxis\": \"y\"}, {\"customdata\": [[42.0, 62.0, \"2020-02-22\", \"2020-01-31\"], [93.0, 155.0, \"2020-02-23\", \"2020-01-31\"], [74.0, 229.0, \"2020-02-24\", \"2020-01-31\"], [93.0, 322.0, \"2020-02-25\", \"2020-01-31\"], [131.0, 453.0, \"2020-02-26\", \"2020-01-31\"], [202.0, 655.0, \"2020-02-27\", \"2020-01-31\"], [233.0, 888.0, \"2020-02-28\", \"2020-01-31\"], [240.0, 1128.0, \"2020-02-29\", \"2020-01-31\"], [566.0, 1694.0, \"2020-03-01\", \"2020-01-31\"], [342.0, 2036.0, \"2020-03-02\", \"2020-01-31\"], [466.0, 2502.0, \"2020-03-03\", \"2020-01-31\"], [587.0, 3089.0, \"2020-03-04\", \"2020-01-31\"], [769.0, 3858.0, \"2020-03-05\", \"2020-01-31\"], [778.0, 4636.0, \"2020-03-06\", \"2020-01-31\"], [1247.0, 5883.0, \"2020-03-07\", \"2020-01-31\"], [1492.0, 7375.0, \"2020-03-08\", \"2020-01-31\"], [1797.0, 9172.0, \"2020-03-09\", \"2020-01-31\"], [977.0, 10149.0, \"2020-03-10\", \"2020-01-31\"], [2313.0, 12462.0, \"2020-03-11\", \"2020-01-31\"], [0.0, 12462.0, \"2020-03-12\", \"2020-01-31\"], [5198.0, 17660.0, \"2020-03-13\", \"2020-01-31\"], [3497.0, 21157.0, \"2020-03-14\", \"2020-01-31\"], [3590.0, 24747.0, \"2020-03-15\", \"2020-01-31\"], [3233.0, 27980.0, \"2020-03-16\", \"2020-01-31\"], [3526.0, 31506.0, \"2020-03-17\", \"2020-01-31\"], [4207.0, 35713.0, \"2020-03-18\", \"2020-01-31\"], [5322.0, 41035.0, \"2020-03-19\", \"2020-01-31\"], [5986.0, 47021.0, \"2020-03-20\", \"2020-01-31\"], [6557.0, 53578.0, \"2020-03-21\", \"2020-01-31\"], [5560.0, 59138.0, \"2020-03-22\", \"2020-01-31\"], [4789.0, 63927.0, \"2020-03-23\", \"2020-01-31\"], [5249.0, 69176.0, \"2020-03-24\", \"2020-01-31\"], [5210.0, 74386.0, \"2020-03-25\", \"2020-01-31\"], [6203.0, 80589.0, \"2020-03-26\", \"2020-01-31\"], [5909.0, 86498.0, \"2020-03-27\", \"2020-01-31\"], [5974.0, 92472.0, \"2020-03-28\", \"2020-01-31\"], [5217.0, 97689.0, \"2020-03-29\", \"2020-01-31\"], [4050.0, 101739.0, \"2020-03-30\", \"2020-01-31\"], [4053.0, 105792.0, \"2020-03-31\", \"2020-01-31\"], [4782.0, 110574.0, \"2020-04-01\", \"2020-01-31\"], [4668.0, 115242.0, \"2020-04-02\", \"2020-01-31\"], [4585.0, 119827.0, \"2020-04-03\", \"2020-01-31\"], [4805.0, 124632.0, \"2020-04-04\", \"2020-01-31\"], [4316.0, 128948.0, \"2020-04-05\", \"2020-01-31\"], [3599.0, 132547.0, \"2020-04-06\", \"2020-01-31\"], [3039.0, 135586.0, \"2020-04-07\", \"2020-01-31\"], [3836.0, 139422.0, \"2020-04-08\", \"2020-01-31\"]], \"hovertemplate\": \"<b>%{hovertext}</b><br><br>Country=Italy<br>Confirmed=%{customdata[1]}<br>NewConfirmed=%{customdata[0]}<br>Date=%{customdata[2]}<br>EpidemicStartDate=%{customdata[3]}<extra></extra>\", \"hovertext\": [\"2020-02-22\", \"2020-02-23\", \"2020-02-24\", \"2020-02-25\", \"2020-02-26\", \"2020-02-27\", \"2020-02-28\", \"2020-02-29\", \"2020-03-01\", \"2020-03-02\", \"2020-03-03\", \"2020-03-04\", \"2020-03-05\", \"2020-03-06\", \"2020-03-07\", \"2020-03-08\", \"2020-03-09\", \"2020-03-10\", \"2020-03-11\", \"2020-03-12\", \"2020-03-13\", \"2020-03-14\", \"2020-03-15\", \"2020-03-16\", \"2020-03-17\", \"2020-03-18\", \"2020-03-19\", \"2020-03-20\", \"2020-03-21\", \"2020-03-22\", \"2020-03-23\", \"2020-03-24\", \"2020-03-25\", \"2020-03-26\", \"2020-03-27\", \"2020-03-28\", \"2020-03-29\", \"2020-03-30\", \"2020-03-31\", \"2020-04-01\", \"2020-04-02\", \"2020-04-03\", \"2020-04-04\", \"2020-04-05\", \"2020-04-06\", \"2020-04-07\", \"2020-04-08\"], \"legendgroup\": \"Italy\", \"marker\": {\"color\": \"#E45756\", \"opacity\": 0.9, \"symbol\": \"square\"}, \"mode\": \"markers\", \"name\": \"Italy\", \"showlegend\": true, \"type\": \"scatter\", \"x\": [62, 155, 229, 322, 453, 655, 888, 1128, 1694, 2036, 2502, 3089, 3858, 4636, 5883, 7375, 9172, 10149, 12462, 12462, 17660, 21157, 24747, 27980, 31506, 35713, 41035, 47021, 53578, 59138, 63927, 69176, 74386, 80589, 86498, 92472, 97689, 101739, 105792, 110574, 115242, 119827, 124632, 128948, 132547, 135586, 139422], \"xaxis\": \"x\", \"y\": [42.0, 93.0, 74.0, 93.0, 131.0, 202.0, 233.0, 240.0, 566.0, 342.0, 466.0, 587.0, 769.0, 778.0, 1247.0, 1492.0, 1797.0, 977.0, 2313.0, 0.0, 5198.0, 3497.0, 3590.0, 3233.0, 3526.0, 4207.0, 5322.0, 5986.0, 6557.0, 5560.0, 4789.0, 5249.0, 5210.0, 6203.0, 5909.0, 5974.0, 5217.0, 4050.0, 4053.0, 4782.0, 4668.0, 4585.0, 4805.0, 4316.0, 3599.0, 3039.0, 3836.0], \"yaxis\": \"y\"}, {\"customdata\": [[36.0, 51.0, \"2020-02-24\", \"2020-01-22\"], [0.0, 51.0, \"2020-02-25\", \"2020-01-22\"], [6.0, 57.0, \"2020-02-26\", \"2020-01-22\"], [1.0, 58.0, \"2020-02-27\", \"2020-01-22\"], [2.0, 60.0, \"2020-02-28\", \"2020-01-22\"], [8.0, 68.0, \"2020-02-29\", \"2020-01-22\"], [6.0, 74.0, \"2020-03-01\", \"2020-01-22\"], [24.0, 98.0, \"2020-03-02\", \"2020-01-22\"], [20.0, 118.0, \"2020-03-03\", \"2020-01-22\"], [31.0, 149.0, \"2020-03-04\", \"2020-01-22\"], [68.0, 217.0, \"2020-03-05\", \"2020-01-22\"], [45.0, 262.0, \"2020-03-06\", \"2020-01-22\"], [140.0, 402.0, \"2020-03-07\", \"2020-01-22\"], [116.0, 518.0, \"2020-03-08\", \"2020-01-22\"], [65.0, 583.0, \"2020-03-09\", \"2020-01-22\"], [376.0, 959.0, \"2020-03-10\", \"2020-01-22\"], [322.0, 1281.0, \"2020-03-11\", \"2020-01-22\"], [382.0, 1663.0, \"2020-03-12\", \"2020-01-22\"], [516.0, 2179.0, \"2020-03-13\", \"2020-01-22\"], [548.0, 2727.0, \"2020-03-14\", \"2020-01-22\"], [772.0, 3499.0, \"2020-03-15\", \"2020-01-22\"], [1133.0, 4632.0, \"2020-03-16\", \"2020-01-22\"], [1789.0, 6421.0, \"2020-03-17\", \"2020-01-22\"], [1362.0, 7783.0, \"2020-03-18\", \"2020-01-22\"], [5964.0, 13747.0, \"2020-03-19\", \"2020-01-22\"], [5526.0, 19273.0, \"2020-03-20\", \"2020-01-22\"], [6327.0, 25600.0, \"2020-03-21\", \"2020-01-22\"], [7676.0, 33276.0, \"2020-03-22\", \"2020-01-22\"], [10571.0, 43847.0, \"2020-03-23\", \"2020-01-22\"], [9893.0, 53740.0, \"2020-03-24\", \"2020-01-22\"], [12038.0, 65778.0, \"2020-03-25\", \"2020-01-22\"], [18058.0, 83836.0, \"2020-03-26\", \"2020-01-22\"], [17821.0, 101657.0, \"2020-03-27\", \"2020-01-22\"], [19821.0, 121478.0, \"2020-03-28\", \"2020-01-22\"], [19431.0, 140909.0, \"2020-03-29\", \"2020-01-22\"], [20928.0, 161837.0, \"2020-03-30\", \"2020-01-22\"], [26335.0, 188172.0, \"2020-03-31\", \"2020-01-22\"], [25200.0, 213372.0, \"2020-04-01\", \"2020-01-22\"], [30244.0, 243616.0, \"2020-04-02\", \"2020-01-22\"], [31970.0, 275586.0, \"2020-04-03\", \"2020-01-22\"], [33264.0, 308850.0, \"2020-04-04\", \"2020-01-22\"], [28222.0, 337072.0, \"2020-04-05\", \"2020-01-22\"], [29595.0, 366667.0, \"2020-04-06\", \"2020-01-22\"], [29556.0, 396223.0, \"2020-04-07\", \"2020-01-22\"], [32829.0, 429052.0, \"2020-04-08\", \"2020-01-22\"]], \"hovertemplate\": \"<b>%{hovertext}</b><br><br>Country=US<br>Confirmed=%{customdata[1]}<br>NewConfirmed=%{customdata[0]}<br>Date=%{customdata[2]}<br>EpidemicStartDate=%{customdata[3]}<extra></extra>\", \"hovertext\": [\"2020-02-24\", \"2020-02-25\", \"2020-02-26\", \"2020-02-27\", \"2020-02-28\", \"2020-02-29\", \"2020-03-01\", \"2020-03-02\", \"2020-03-03\", \"2020-03-04\", \"2020-03-05\", \"2020-03-06\", \"2020-03-07\", \"2020-03-08\", \"2020-03-09\", \"2020-03-10\", \"2020-03-11\", \"2020-03-12\", \"2020-03-13\", \"2020-03-14\", \"2020-03-15\", \"2020-03-16\", \"2020-03-17\", \"2020-03-18\", \"2020-03-19\", \"2020-03-20\", \"2020-03-21\", \"2020-03-22\", \"2020-03-23\", \"2020-03-24\", \"2020-03-25\", \"2020-03-26\", \"2020-03-27\", \"2020-03-28\", \"2020-03-29\", \"2020-03-30\", \"2020-03-31\", \"2020-04-01\", \"2020-04-02\", \"2020-04-03\", \"2020-04-04\", \"2020-04-05\", \"2020-04-06\", \"2020-04-07\", \"2020-04-08\"], \"legendgroup\": \"US\", \"marker\": {\"color\": \"#72B7B2\", \"opacity\": 0.9, \"symbol\": \"x\"}, \"mode\": \"markers\", \"name\": \"US\", \"showlegend\": true, \"type\": \"scatter\", \"x\": [51, 51, 57, 58, 60, 68, 74, 98, 118, 149, 217, 262, 402, 518, 583, 959, 1281, 1663, 2179, 2727, 3499, 4632, 6421, 7783, 13747, 19273, 25600, 33276, 43847, 53740, 65778, 83836, 101657, 121478, 140909, 161837, 188172, 213372, 243616, 275586, 308850, 337072, 366667, 396223, 429052], \"xaxis\": \"x\", \"y\": [36.0, 0.0, 6.0, 1.0, 2.0, 8.0, 6.0, 24.0, 20.0, 31.0, 68.0, 45.0, 140.0, 116.0, 65.0, 376.0, 322.0, 382.0, 516.0, 548.0, 772.0, 1133.0, 1789.0, 1362.0, 5964.0, 5526.0, 6327.0, 7676.0, 10571.0, 9893.0, 12038.0, 18058.0, 17821.0, 19821.0, 19431.0, 20928.0, 26335.0, 25200.0, 30244.0, 31970.0, 33264.0, 28222.0, 29595.0, 29556.0, 32829.0], \"yaxis\": \"y\"}],\n",
       "                        {\"legend\": {\"title\": {\"text\": \"Country\"}, \"tracegroupgap\": 0}, \"template\": {\"data\": {\"bar\": [{\"error_x\": {\"color\": \"rgb(51,51,51)\"}, \"error_y\": {\"color\": \"rgb(51,51,51)\"}, \"marker\": {\"line\": {\"color\": \"rgb(237,237,237)\", \"width\": 0.5}}, \"type\": \"bar\"}], \"barpolar\": [{\"marker\": {\"line\": {\"color\": \"rgb(237,237,237)\", \"width\": 0.5}}, \"type\": \"barpolar\"}], \"carpet\": [{\"aaxis\": {\"endlinecolor\": \"rgb(51,51,51)\", \"gridcolor\": \"white\", \"linecolor\": \"white\", \"minorgridcolor\": \"white\", \"startlinecolor\": \"rgb(51,51,51)\"}, \"baxis\": {\"endlinecolor\": \"rgb(51,51,51)\", \"gridcolor\": \"white\", \"linecolor\": \"white\", \"minorgridcolor\": \"white\", \"startlinecolor\": \"rgb(51,51,51)\"}, \"type\": \"carpet\"}], \"choropleth\": [{\"colorbar\": {\"outlinewidth\": 0, \"tickcolor\": \"rgb(237,237,237)\", \"ticklen\": 6, \"ticks\": \"inside\"}, \"type\": \"choropleth\"}], \"contour\": [{\"colorbar\": {\"outlinewidth\": 0, \"tickcolor\": \"rgb(237,237,237)\", \"ticklen\": 6, \"ticks\": \"inside\"}, \"colorscale\": [[0, \"rgb(20,44,66)\"], [1, \"rgb(90,179,244)\"]], \"type\": \"contour\"}], \"contourcarpet\": [{\"colorbar\": {\"outlinewidth\": 0, \"tickcolor\": \"rgb(237,237,237)\", \"ticklen\": 6, \"ticks\": \"inside\"}, \"type\": \"contourcarpet\"}], \"heatmap\": [{\"colorbar\": {\"outlinewidth\": 0, \"tickcolor\": \"rgb(237,237,237)\", \"ticklen\": 6, \"ticks\": \"inside\"}, \"colorscale\": [[0, \"rgb(20,44,66)\"], [1, \"rgb(90,179,244)\"]], \"type\": \"heatmap\"}], \"heatmapgl\": [{\"colorbar\": {\"outlinewidth\": 0, \"tickcolor\": \"rgb(237,237,237)\", \"ticklen\": 6, \"ticks\": \"inside\"}, \"colorscale\": [[0, \"rgb(20,44,66)\"], [1, \"rgb(90,179,244)\"]], \"type\": \"heatmapgl\"}], \"histogram\": [{\"marker\": {\"colorbar\": {\"outlinewidth\": 0, \"tickcolor\": \"rgb(237,237,237)\", \"ticklen\": 6, \"ticks\": \"inside\"}}, \"type\": \"histogram\"}], \"histogram2d\": [{\"colorbar\": {\"outlinewidth\": 0, \"tickcolor\": \"rgb(237,237,237)\", \"ticklen\": 6, \"ticks\": \"inside\"}, \"colorscale\": [[0, \"rgb(20,44,66)\"], [1, \"rgb(90,179,244)\"]], \"type\": \"histogram2d\"}], \"histogram2dcontour\": [{\"colorbar\": {\"outlinewidth\": 0, \"tickcolor\": \"rgb(237,237,237)\", \"ticklen\": 6, \"ticks\": \"inside\"}, \"colorscale\": [[0, \"rgb(20,44,66)\"], [1, \"rgb(90,179,244)\"]], \"type\": \"histogram2dcontour\"}], \"mesh3d\": [{\"colorbar\": {\"outlinewidth\": 0, \"tickcolor\": \"rgb(237,237,237)\", \"ticklen\": 6, \"ticks\": \"inside\"}, \"type\": \"mesh3d\"}], \"parcoords\": [{\"line\": {\"colorbar\": {\"outlinewidth\": 0, \"tickcolor\": \"rgb(237,237,237)\", \"ticklen\": 6, \"ticks\": \"inside\"}}, \"type\": \"parcoords\"}], \"pie\": [{\"automargin\": true, \"type\": \"pie\"}], \"scatter\": [{\"marker\": {\"colorbar\": {\"outlinewidth\": 0, \"tickcolor\": \"rgb(237,237,237)\", \"ticklen\": 6, \"ticks\": \"inside\"}}, \"type\": \"scatter\"}], \"scatter3d\": [{\"line\": {\"colorbar\": {\"outlinewidth\": 0, \"tickcolor\": \"rgb(237,237,237)\", \"ticklen\": 6, \"ticks\": \"inside\"}}, \"marker\": {\"colorbar\": {\"outlinewidth\": 0, \"tickcolor\": \"rgb(237,237,237)\", \"ticklen\": 6, \"ticks\": \"inside\"}}, \"type\": \"scatter3d\"}], \"scattercarpet\": [{\"marker\": {\"colorbar\": {\"outlinewidth\": 0, \"tickcolor\": \"rgb(237,237,237)\", \"ticklen\": 6, \"ticks\": \"inside\"}}, \"type\": \"scattercarpet\"}], \"scattergeo\": [{\"marker\": {\"colorbar\": {\"outlinewidth\": 0, \"tickcolor\": \"rgb(237,237,237)\", \"ticklen\": 6, \"ticks\": \"inside\"}}, \"type\": \"scattergeo\"}], \"scattergl\": [{\"marker\": {\"colorbar\": {\"outlinewidth\": 0, \"tickcolor\": \"rgb(237,237,237)\", \"ticklen\": 6, \"ticks\": \"inside\"}}, \"type\": \"scattergl\"}], \"scattermapbox\": [{\"marker\": {\"colorbar\": {\"outlinewidth\": 0, \"tickcolor\": \"rgb(237,237,237)\", \"ticklen\": 6, \"ticks\": \"inside\"}}, \"type\": \"scattermapbox\"}], \"scatterpolar\": [{\"marker\": {\"colorbar\": {\"outlinewidth\": 0, \"tickcolor\": \"rgb(237,237,237)\", \"ticklen\": 6, \"ticks\": \"inside\"}}, \"type\": \"scatterpolar\"}], \"scatterpolargl\": [{\"marker\": {\"colorbar\": {\"outlinewidth\": 0, \"tickcolor\": \"rgb(237,237,237)\", \"ticklen\": 6, \"ticks\": \"inside\"}}, \"type\": \"scatterpolargl\"}], \"scatterternary\": [{\"marker\": {\"colorbar\": {\"outlinewidth\": 0, \"tickcolor\": \"rgb(237,237,237)\", \"ticklen\": 6, \"ticks\": \"inside\"}}, \"type\": \"scatterternary\"}], \"surface\": [{\"colorbar\": {\"outlinewidth\": 0, \"tickcolor\": \"rgb(237,237,237)\", \"ticklen\": 6, \"ticks\": \"inside\"}, \"colorscale\": [[0, \"rgb(20,44,66)\"], [1, \"rgb(90,179,244)\"]], \"type\": \"surface\"}], \"table\": [{\"cells\": {\"fill\": {\"color\": \"rgb(237,237,237)\"}, \"line\": {\"color\": \"white\"}}, \"header\": {\"fill\": {\"color\": \"rgb(217,217,217)\"}, \"line\": {\"color\": \"white\"}}, \"type\": \"table\"}]}, \"layout\": {\"annotationdefaults\": {\"arrowhead\": 0, \"arrowwidth\": 1}, \"coloraxis\": {\"colorbar\": {\"outlinewidth\": 0, \"tickcolor\": \"rgb(237,237,237)\", \"ticklen\": 6, \"ticks\": \"inside\"}}, \"colorscale\": {\"sequential\": [[0, \"rgb(20,44,66)\"], [1, \"rgb(90,179,244)\"]], \"sequentialminus\": [[0, \"rgb(20,44,66)\"], [1, \"rgb(90,179,244)\"]]}, \"colorway\": [\"#F8766D\", \"#A3A500\", \"#00BF7D\", \"#00B0F6\", \"#E76BF3\"], \"font\": {\"color\": \"rgb(51,51,51)\"}, \"geo\": {\"bgcolor\": \"white\", \"lakecolor\": \"white\", \"landcolor\": \"rgb(237,237,237)\", \"showlakes\": true, \"showland\": true, \"subunitcolor\": \"white\"}, \"hoverlabel\": {\"align\": \"left\"}, \"hovermode\": \"closest\", \"paper_bgcolor\": \"white\", \"plot_bgcolor\": \"rgb(237,237,237)\", \"polar\": {\"angularaxis\": {\"gridcolor\": \"white\", \"linecolor\": \"white\", \"showgrid\": true, \"tickcolor\": \"rgb(51,51,51)\", \"ticks\": \"outside\"}, \"bgcolor\": \"rgb(237,237,237)\", \"radialaxis\": {\"gridcolor\": \"white\", \"linecolor\": \"white\", \"showgrid\": true, \"tickcolor\": \"rgb(51,51,51)\", \"ticks\": \"outside\"}}, \"scene\": {\"xaxis\": {\"backgroundcolor\": \"rgb(237,237,237)\", \"gridcolor\": \"white\", \"gridwidth\": 2, \"linecolor\": \"white\", \"showbackground\": true, \"showgrid\": true, \"tickcolor\": \"rgb(51,51,51)\", \"ticks\": \"outside\", \"zerolinecolor\": \"white\"}, \"yaxis\": {\"backgroundcolor\": \"rgb(237,237,237)\", \"gridcolor\": \"white\", \"gridwidth\": 2, \"linecolor\": \"white\", \"showbackground\": true, \"showgrid\": true, \"tickcolor\": \"rgb(51,51,51)\", \"ticks\": \"outside\", \"zerolinecolor\": \"white\"}, \"zaxis\": {\"backgroundcolor\": \"rgb(237,237,237)\", \"gridcolor\": \"white\", \"gridwidth\": 2, \"linecolor\": \"white\", \"showbackground\": true, \"showgrid\": true, \"tickcolor\": \"rgb(51,51,51)\", \"ticks\": \"outside\", \"zerolinecolor\": \"white\"}}, \"shapedefaults\": {\"fillcolor\": \"black\", \"line\": {\"width\": 0}, \"opacity\": 0.3}, \"ternary\": {\"aaxis\": {\"gridcolor\": \"white\", \"linecolor\": \"white\", \"showgrid\": true, \"tickcolor\": \"rgb(51,51,51)\", \"ticks\": \"outside\"}, \"baxis\": {\"gridcolor\": \"white\", \"linecolor\": \"white\", \"showgrid\": true, \"tickcolor\": \"rgb(51,51,51)\", \"ticks\": \"outside\"}, \"bgcolor\": \"rgb(237,237,237)\", \"caxis\": {\"gridcolor\": \"white\", \"linecolor\": \"white\", \"showgrid\": true, \"tickcolor\": \"rgb(51,51,51)\", \"ticks\": \"outside\"}}, \"xaxis\": {\"automargin\": true, \"gridcolor\": \"white\", \"linecolor\": \"white\", \"showgrid\": true, \"tickcolor\": \"rgb(51,51,51)\", \"ticks\": \"outside\", \"title\": {\"standoff\": 15}, \"zerolinecolor\": \"white\"}, \"yaxis\": {\"automargin\": true, \"gridcolor\": \"white\", \"linecolor\": \"white\", \"showgrid\": true, \"tickcolor\": \"rgb(51,51,51)\", \"ticks\": \"outside\", \"title\": {\"standoff\": 15}, \"zerolinecolor\": \"white\"}}}, \"title\": {\"text\": \"New Confirmed Cases vs Cumulative Cases Per Day (Logged, International)\"}, \"xaxis\": {\"anchor\": \"y\", \"domain\": [0.0, 1.0], \"title\": {\"text\": \"Confirmed\"}, \"type\": \"log\"}, \"yaxis\": {\"anchor\": \"x\", \"domain\": [0.0, 1.0], \"title\": {\"text\": \"NewConfirmed\"}, \"type\": \"log\"}},\n",
       "                        {\"responsive\": true}\n",
       "                    ).then(function(){\n",
       "                            \n",
       "var gd = document.getElementById('700f5095-b715-416c-9735-180c6492b894');\n",
       "var x = new MutationObserver(function (mutations, observer) {{\n",
       "        var display = window.getComputedStyle(gd).display;\n",
       "        if (!display || display === 'none') {{\n",
       "            console.log([gd, 'removed!']);\n",
       "            Plotly.purge(gd);\n",
       "            observer.disconnect();\n",
       "        }}\n",
       "}});\n",
       "\n",
       "// Listen for the removal of the full notebook cells\n",
       "var notebookContainer = gd.closest('#notebook-container');\n",
       "if (notebookContainer) {{\n",
       "    x.observe(notebookContainer, {childList: true});\n",
       "}}\n",
       "\n",
       "// Listen for the clearing of the current output cell\n",
       "var outputEl = gd.closest('.output');\n",
       "if (outputEl) {{\n",
       "    x.observe(outputEl, {childList: true});\n",
       "}}\n",
       "\n",
       "                        })\n",
       "                };\n",
       "                });\n",
       "            </script>\n",
       "        </div>"
      ]
     },
     "metadata": {},
     "output_type": "display_data"
    }
   ],
   "source": [
    "# Appears that China and South Korea have defintely been able to \"flatten\" the curve, while Italy is nearing the end of the tunnel. \n",
    "countriesToPlot = ['US', 'Korea, South', 'Italy', 'China']\n",
    "fig =   px.scatter(data_frame=df_country[df_country.Country.isin(countriesToPlot)].loc[df_country.Confirmed > 50], \n",
    "                   x='Confirmed', y='NewConfirmed', color='Country', symbol='Country',\n",
    "                   log_x=True,log_y=True, \n",
    "                   hover_name='Date', hover_data=['NewConfirmed','Confirmed','Date','EpidemicStartDate'],\n",
    "                   title='New Confirmed Cases vs Cumulative Cases Per Day (Logged, International)', template='ggplot2', \n",
    "                   color_discrete_sequence= px.colors.qualitative.T10, opacity=0.9\n",
    "                  )\n",
    "fig.show()\n",
    "# fig.show(renderer='svg', width=1050, height=550)"
   ]
  },
  {
   "cell_type": "code",
   "execution_count": 12,
   "metadata": {},
   "outputs": [],
   "source": [
    "# To Do: Animated scatter against date"
   ]
  },
  {
   "cell_type": "code",
   "execution_count": 17,
   "metadata": {},
   "outputs": [
    {
     "data": {
      "application/vnd.plotly.v1+json": {
       "config": {
        "plotlyServerURL": "https://plot.ly"
       },
       "data": [
        {
         "customdata": [
          [
           "Florida",
           13,
           "2020-03-13",
           "2020-03-01"
          ],
          [
           "Florida",
           14,
           "2020-03-14",
           "2020-03-01"
          ],
          [
           "Florida",
           15,
           "2020-03-15",
           "2020-03-01"
          ],
          [
           "Florida",
           16,
           "2020-03-16",
           "2020-03-01"
          ],
          [
           "Florida",
           17,
           "2020-03-17",
           "2020-03-01"
          ],
          [
           "Florida",
           18,
           "2020-03-18",
           "2020-03-01"
          ],
          [
           "Florida",
           19,
           "2020-03-19",
           "2020-03-01"
          ],
          [
           "Florida",
           20,
           "2020-03-20",
           "2020-03-01"
          ],
          [
           "Florida",
           21,
           "2020-03-21",
           "2020-03-01"
          ],
          [
           "Florida",
           22,
           "2020-03-22",
           "2020-03-01"
          ],
          [
           "Florida",
           23,
           "2020-03-23",
           "2020-03-01"
          ],
          [
           "Florida",
           24,
           "2020-03-24",
           "2020-03-01"
          ],
          [
           "Florida",
           25,
           "2020-03-25",
           "2020-03-01"
          ],
          [
           "Florida",
           26,
           "2020-03-26",
           "2020-03-01"
          ],
          [
           "Florida",
           27,
           "2020-03-27",
           "2020-03-01"
          ],
          [
           "Florida",
           28,
           "2020-03-28",
           "2020-03-01"
          ],
          [
           "Florida",
           29,
           "2020-03-29",
           "2020-03-01"
          ],
          [
           "Florida",
           30,
           "2020-03-30",
           "2020-03-01"
          ],
          [
           "Florida",
           31,
           "2020-03-31",
           "2020-03-01"
          ],
          [
           "Florida",
           32,
           "2020-04-01",
           "2020-03-01"
          ],
          [
           "Florida",
           33,
           "2020-04-02",
           "2020-03-01"
          ],
          [
           "Florida",
           34,
           "2020-04-03",
           "2020-03-01"
          ],
          [
           "Florida",
           35,
           "2020-04-04",
           "2020-03-01"
          ],
          [
           "Florida",
           36,
           "2020-04-05",
           "2020-03-01"
          ],
          [
           "Florida",
           37,
           "2020-04-06",
           "2020-03-01"
          ],
          [
           "Florida",
           38,
           "2020-04-07",
           "2020-03-01"
          ],
          [
           "Florida",
           39,
           "2020-04-08",
           "2020-03-01"
          ]
         ],
         "hovertemplate": "<b>%{hovertext}</b><br><br>State=%{customdata[0]}<br>Confirmed=%{x}<br>NewConfirmed=%{y}<br>DaysElapsed=%{customdata[1]}<br>Date=%{customdata[2]}<br>EpidemicStartDate=%{customdata[3]}<extra></extra>",
         "hovertext": [
          "2020-03-13",
          "2020-03-14",
          "2020-03-15",
          "2020-03-16",
          "2020-03-17",
          "2020-03-18",
          "2020-03-19",
          "2020-03-20",
          "2020-03-21",
          "2020-03-22",
          "2020-03-23",
          "2020-03-24",
          "2020-03-25",
          "2020-03-26",
          "2020-03-27",
          "2020-03-28",
          "2020-03-29",
          "2020-03-30",
          "2020-03-31",
          "2020-04-01",
          "2020-04-02",
          "2020-04-03",
          "2020-04-04",
          "2020-04-05",
          "2020-04-06",
          "2020-04-07",
          "2020-04-08"
         ],
         "legendgroup": "Florida",
         "marker": {
          "color": "#4C78A8",
          "opacity": 0.9,
          "symbol": "circle"
         },
         "mode": "markers",
         "name": "Florida",
         "showlegend": true,
         "type": "scatter",
         "x": [
          70,
          70,
          109,
          141,
          210,
          326,
          434,
          564,
          764,
          1000,
          1222,
          1467,
          1965,
          2477,
          3198,
          4038,
          4942,
          5694,
          6741,
          7765,
          9000,
          10260,
          11537,
          12342,
          13621,
          14739,
          15690
         ],
         "xaxis": "x",
         "y": [
          24,
          0,
          39,
          32,
          69,
          116,
          108,
          130,
          200,
          236,
          222,
          245,
          498,
          512,
          721,
          840,
          904,
          752,
          1047,
          1024,
          1235,
          1260,
          1277,
          805,
          1279,
          1118,
          951
         ],
         "yaxis": "y"
        },
        {
         "customdata": [
          [
           "New York",
           7,
           "2020-03-07",
           "2020-03-01"
          ],
          [
           "New York",
           8,
           "2020-03-08",
           "2020-03-01"
          ],
          [
           "New York",
           9,
           "2020-03-09",
           "2020-03-01"
          ],
          [
           "New York",
           10,
           "2020-03-10",
           "2020-03-01"
          ],
          [
           "New York",
           11,
           "2020-03-11",
           "2020-03-01"
          ],
          [
           "New York",
           12,
           "2020-03-12",
           "2020-03-01"
          ],
          [
           "New York",
           13,
           "2020-03-13",
           "2020-03-01"
          ],
          [
           "New York",
           14,
           "2020-03-14",
           "2020-03-01"
          ],
          [
           "New York",
           15,
           "2020-03-15",
           "2020-03-01"
          ],
          [
           "New York",
           16,
           "2020-03-16",
           "2020-03-01"
          ],
          [
           "New York",
           17,
           "2020-03-17",
           "2020-03-01"
          ],
          [
           "New York",
           18,
           "2020-03-18",
           "2020-03-01"
          ],
          [
           "New York",
           19,
           "2020-03-19",
           "2020-03-01"
          ],
          [
           "New York",
           20,
           "2020-03-20",
           "2020-03-01"
          ],
          [
           "New York",
           21,
           "2020-03-21",
           "2020-03-01"
          ],
          [
           "New York",
           22,
           "2020-03-22",
           "2020-03-01"
          ],
          [
           "New York",
           23,
           "2020-03-23",
           "2020-03-01"
          ],
          [
           "New York",
           24,
           "2020-03-24",
           "2020-03-01"
          ],
          [
           "New York",
           25,
           "2020-03-25",
           "2020-03-01"
          ],
          [
           "New York",
           26,
           "2020-03-26",
           "2020-03-01"
          ],
          [
           "New York",
           27,
           "2020-03-27",
           "2020-03-01"
          ],
          [
           "New York",
           28,
           "2020-03-28",
           "2020-03-01"
          ],
          [
           "New York",
           29,
           "2020-03-29",
           "2020-03-01"
          ],
          [
           "New York",
           30,
           "2020-03-30",
           "2020-03-01"
          ],
          [
           "New York",
           31,
           "2020-03-31",
           "2020-03-01"
          ],
          [
           "New York",
           32,
           "2020-04-01",
           "2020-03-01"
          ],
          [
           "New York",
           33,
           "2020-04-02",
           "2020-03-01"
          ],
          [
           "New York",
           34,
           "2020-04-03",
           "2020-03-01"
          ],
          [
           "New York",
           35,
           "2020-04-04",
           "2020-03-01"
          ],
          [
           "New York",
           36,
           "2020-04-05",
           "2020-03-01"
          ],
          [
           "New York",
           37,
           "2020-04-06",
           "2020-03-01"
          ],
          [
           "New York",
           38,
           "2020-04-07",
           "2020-03-01"
          ],
          [
           "New York",
           39,
           "2020-04-08",
           "2020-03-01"
          ]
         ],
         "hovertemplate": "<b>%{hovertext}</b><br><br>State=%{customdata[0]}<br>Confirmed=%{x}<br>NewConfirmed=%{y}<br>DaysElapsed=%{customdata[1]}<br>Date=%{customdata[2]}<br>EpidemicStartDate=%{customdata[3]}<extra></extra>",
         "hovertext": [
          "2020-03-07",
          "2020-03-08",
          "2020-03-09",
          "2020-03-10",
          "2020-03-11",
          "2020-03-12",
          "2020-03-13",
          "2020-03-14",
          "2020-03-15",
          "2020-03-16",
          "2020-03-17",
          "2020-03-18",
          "2020-03-19",
          "2020-03-20",
          "2020-03-21",
          "2020-03-22",
          "2020-03-23",
          "2020-03-24",
          "2020-03-25",
          "2020-03-26",
          "2020-03-27",
          "2020-03-28",
          "2020-03-29",
          "2020-03-30",
          "2020-03-31",
          "2020-04-01",
          "2020-04-02",
          "2020-04-03",
          "2020-04-04",
          "2020-04-05",
          "2020-04-06",
          "2020-04-07",
          "2020-04-08"
         ],
         "legendgroup": "New York",
         "marker": {
          "color": "#F58518",
          "opacity": 0.9,
          "symbol": "diamond"
         },
         "mode": "markers",
         "name": "New York",
         "showlegend": true,
         "type": "scatter",
         "x": [
          89,
          106,
          142,
          173,
          217,
          326,
          421,
          610,
          732,
          950,
          1374,
          2382,
          4152,
          7102,
          10356,
          15168,
          20875,
          25665,
          33066,
          38987,
          44635,
          53363,
          59568,
          67174,
          75832,
          83889,
          92770,
          102870,
          114996,
          122911,
          130703,
          140081,
          149401
         ],
         "xaxis": "x",
         "y": [
          45,
          17,
          36,
          31,
          44,
          109,
          95,
          189,
          122,
          218,
          424,
          1008,
          1770,
          2950,
          3254,
          4812,
          5707,
          4790,
          7401,
          5921,
          5648,
          8728,
          6205,
          7606,
          8658,
          8057,
          8881,
          10100,
          12126,
          7915,
          7792,
          9378,
          9320
         ],
         "yaxis": "y"
        },
        {
         "customdata": [
          [
           "Virginia",
           10,
           "2020-03-16",
           "2020-03-07"
          ],
          [
           "Virginia",
           11,
           "2020-03-17",
           "2020-03-07"
          ],
          [
           "Virginia",
           12,
           "2020-03-18",
           "2020-03-07"
          ],
          [
           "Virginia",
           13,
           "2020-03-19",
           "2020-03-07"
          ],
          [
           "Virginia",
           14,
           "2020-03-20",
           "2020-03-07"
          ],
          [
           "Virginia",
           15,
           "2020-03-21",
           "2020-03-07"
          ],
          [
           "Virginia",
           16,
           "2020-03-22",
           "2020-03-07"
          ],
          [
           "Virginia",
           17,
           "2020-03-23",
           "2020-03-07"
          ],
          [
           "Virginia",
           18,
           "2020-03-24",
           "2020-03-07"
          ],
          [
           "Virginia",
           19,
           "2020-03-25",
           "2020-03-07"
          ],
          [
           "Virginia",
           20,
           "2020-03-26",
           "2020-03-07"
          ],
          [
           "Virginia",
           21,
           "2020-03-27",
           "2020-03-07"
          ],
          [
           "Virginia",
           22,
           "2020-03-28",
           "2020-03-07"
          ],
          [
           "Virginia",
           23,
           "2020-03-29",
           "2020-03-07"
          ],
          [
           "Virginia",
           24,
           "2020-03-30",
           "2020-03-07"
          ],
          [
           "Virginia",
           25,
           "2020-03-31",
           "2020-03-07"
          ],
          [
           "Virginia",
           26,
           "2020-04-01",
           "2020-03-07"
          ],
          [
           "Virginia",
           27,
           "2020-04-02",
           "2020-03-07"
          ],
          [
           "Virginia",
           28,
           "2020-04-03",
           "2020-03-07"
          ],
          [
           "Virginia",
           29,
           "2020-04-04",
           "2020-03-07"
          ],
          [
           "Virginia",
           30,
           "2020-04-05",
           "2020-03-07"
          ],
          [
           "Virginia",
           31,
           "2020-04-06",
           "2020-03-07"
          ],
          [
           "Virginia",
           32,
           "2020-04-07",
           "2020-03-07"
          ],
          [
           "Virginia",
           33,
           "2020-04-08",
           "2020-03-07"
          ]
         ],
         "hovertemplate": "<b>%{hovertext}</b><br><br>State=%{customdata[0]}<br>Confirmed=%{x}<br>NewConfirmed=%{y}<br>DaysElapsed=%{customdata[1]}<br>Date=%{customdata[2]}<br>EpidemicStartDate=%{customdata[3]}<extra></extra>",
         "hovertext": [
          "2020-03-16",
          "2020-03-17",
          "2020-03-18",
          "2020-03-19",
          "2020-03-20",
          "2020-03-21",
          "2020-03-22",
          "2020-03-23",
          "2020-03-24",
          "2020-03-25",
          "2020-03-26",
          "2020-03-27",
          "2020-03-28",
          "2020-03-29",
          "2020-03-30",
          "2020-03-31",
          "2020-04-01",
          "2020-04-02",
          "2020-04-03",
          "2020-04-04",
          "2020-04-05",
          "2020-04-06",
          "2020-04-07",
          "2020-04-08"
         ],
         "legendgroup": "Virginia",
         "marker": {
          "color": "#E45756",
          "opacity": 0.9,
          "symbol": "square"
         },
         "mode": "markers",
         "name": "Virginia",
         "showlegend": true,
         "type": "scatter",
         "x": [
          51,
          67,
          78,
          94,
          115,
          152,
          219,
          254,
          290,
          391,
          604,
          606,
          740,
          890,
          1021,
          1250,
          1511,
          1706,
          2012,
          2407,
          2637,
          2878,
          3333,
          3645
         ],
         "xaxis": "x",
         "y": [
          6,
          16,
          11,
          16,
          21,
          37,
          67,
          35,
          36,
          101,
          213,
          2,
          134,
          150,
          131,
          229,
          261,
          195,
          306,
          395,
          230,
          241,
          455,
          312
         ],
         "yaxis": "y"
        },
        {
         "customdata": [
          [
           "Washington",
           45,
           "2020-03-05",
           "2020-01-21"
          ],
          [
           "Washington",
           46,
           "2020-03-06",
           "2020-01-21"
          ],
          [
           "Washington",
           47,
           "2020-03-07",
           "2020-01-21"
          ],
          [
           "Washington",
           48,
           "2020-03-08",
           "2020-01-21"
          ],
          [
           "Washington",
           49,
           "2020-03-09",
           "2020-01-21"
          ],
          [
           "Washington",
           50,
           "2020-03-10",
           "2020-01-21"
          ],
          [
           "Washington",
           51,
           "2020-03-11",
           "2020-01-21"
          ],
          [
           "Washington",
           52,
           "2020-03-12",
           "2020-01-21"
          ],
          [
           "Washington",
           53,
           "2020-03-13",
           "2020-01-21"
          ],
          [
           "Washington",
           54,
           "2020-03-14",
           "2020-01-21"
          ],
          [
           "Washington",
           55,
           "2020-03-15",
           "2020-01-21"
          ],
          [
           "Washington",
           56,
           "2020-03-16",
           "2020-01-21"
          ],
          [
           "Washington",
           57,
           "2020-03-17",
           "2020-01-21"
          ],
          [
           "Washington",
           58,
           "2020-03-18",
           "2020-01-21"
          ],
          [
           "Washington",
           59,
           "2020-03-19",
           "2020-01-21"
          ],
          [
           "Washington",
           60,
           "2020-03-20",
           "2020-01-21"
          ],
          [
           "Washington",
           61,
           "2020-03-21",
           "2020-01-21"
          ],
          [
           "Washington",
           62,
           "2020-03-22",
           "2020-01-21"
          ],
          [
           "Washington",
           63,
           "2020-03-23",
           "2020-01-21"
          ],
          [
           "Washington",
           64,
           "2020-03-24",
           "2020-01-21"
          ],
          [
           "Washington",
           65,
           "2020-03-25",
           "2020-01-21"
          ],
          [
           "Washington",
           66,
           "2020-03-26",
           "2020-01-21"
          ],
          [
           "Washington",
           67,
           "2020-03-27",
           "2020-01-21"
          ],
          [
           "Washington",
           68,
           "2020-03-28",
           "2020-01-21"
          ],
          [
           "Washington",
           69,
           "2020-03-29",
           "2020-01-21"
          ],
          [
           "Washington",
           70,
           "2020-03-30",
           "2020-01-21"
          ],
          [
           "Washington",
           71,
           "2020-03-31",
           "2020-01-21"
          ],
          [
           "Washington",
           72,
           "2020-04-01",
           "2020-01-21"
          ],
          [
           "Washington",
           73,
           "2020-04-02",
           "2020-01-21"
          ],
          [
           "Washington",
           74,
           "2020-04-03",
           "2020-01-21"
          ],
          [
           "Washington",
           75,
           "2020-04-04",
           "2020-01-21"
          ],
          [
           "Washington",
           76,
           "2020-04-05",
           "2020-01-21"
          ],
          [
           "Washington",
           77,
           "2020-04-06",
           "2020-01-21"
          ],
          [
           "Washington",
           78,
           "2020-04-07",
           "2020-01-21"
          ],
          [
           "Washington",
           79,
           "2020-04-08",
           "2020-01-21"
          ]
         ],
         "hovertemplate": "<b>%{hovertext}</b><br><br>State=%{customdata[0]}<br>Confirmed=%{x}<br>NewConfirmed=%{y}<br>DaysElapsed=%{customdata[1]}<br>Date=%{customdata[2]}<br>EpidemicStartDate=%{customdata[3]}<extra></extra>",
         "hovertext": [
          "2020-03-05",
          "2020-03-06",
          "2020-03-07",
          "2020-03-08",
          "2020-03-09",
          "2020-03-10",
          "2020-03-11",
          "2020-03-12",
          "2020-03-13",
          "2020-03-14",
          "2020-03-15",
          "2020-03-16",
          "2020-03-17",
          "2020-03-18",
          "2020-03-19",
          "2020-03-20",
          "2020-03-21",
          "2020-03-22",
          "2020-03-23",
          "2020-03-24",
          "2020-03-25",
          "2020-03-26",
          "2020-03-27",
          "2020-03-28",
          "2020-03-29",
          "2020-03-30",
          "2020-03-31",
          "2020-04-01",
          "2020-04-02",
          "2020-04-03",
          "2020-04-04",
          "2020-04-05",
          "2020-04-06",
          "2020-04-07",
          "2020-04-08"
         ],
         "legendgroup": "Washington",
         "marker": {
          "color": "#72B7B2",
          "opacity": 0.9,
          "symbol": "x"
         },
         "mode": "markers",
         "name": "Washington",
         "showlegend": true,
         "type": "scatter",
         "x": [
          75,
          86,
          110,
          141,
          179,
          279,
          338,
          419,
          511,
          609,
          675,
          794,
          908,
          1026,
          1228,
          1404,
          1655,
          1844,
          2101,
          2469,
          2585,
          3208,
          3770,
          4311,
          4896,
          5179,
          5292,
          5588,
          6585,
          6966,
          7498,
          7984,
          8384,
          8682,
          9097
         ],
         "xaxis": "x",
         "y": [
          28,
          11,
          24,
          31,
          38,
          100,
          59,
          81,
          92,
          98,
          66,
          119,
          114,
          118,
          202,
          176,
          251,
          189,
          257,
          368,
          116,
          623,
          562,
          541,
          585,
          283,
          113,
          296,
          997,
          381,
          532,
          486,
          400,
          298,
          415
         ],
         "yaxis": "y"
        }
       ],
       "layout": {
        "coloraxis": {
         "showscale": false
        },
        "legend": {
         "title": {
          "text": "State"
         },
         "tracegroupgap": 0
        },
        "template": {
         "data": {
          "bar": [
           {
            "error_x": {
             "color": "rgb(51,51,51)"
            },
            "error_y": {
             "color": "rgb(51,51,51)"
            },
            "marker": {
             "line": {
              "color": "rgb(237,237,237)",
              "width": 0.5
             }
            },
            "type": "bar"
           }
          ],
          "barpolar": [
           {
            "marker": {
             "line": {
              "color": "rgb(237,237,237)",
              "width": 0.5
             }
            },
            "type": "barpolar"
           }
          ],
          "carpet": [
           {
            "aaxis": {
             "endlinecolor": "rgb(51,51,51)",
             "gridcolor": "white",
             "linecolor": "white",
             "minorgridcolor": "white",
             "startlinecolor": "rgb(51,51,51)"
            },
            "baxis": {
             "endlinecolor": "rgb(51,51,51)",
             "gridcolor": "white",
             "linecolor": "white",
             "minorgridcolor": "white",
             "startlinecolor": "rgb(51,51,51)"
            },
            "type": "carpet"
           }
          ],
          "choropleth": [
           {
            "colorbar": {
             "outlinewidth": 0,
             "tickcolor": "rgb(237,237,237)",
             "ticklen": 6,
             "ticks": "inside"
            },
            "type": "choropleth"
           }
          ],
          "contour": [
           {
            "colorbar": {
             "outlinewidth": 0,
             "tickcolor": "rgb(237,237,237)",
             "ticklen": 6,
             "ticks": "inside"
            },
            "colorscale": [
             [
              0,
              "rgb(20,44,66)"
             ],
             [
              1,
              "rgb(90,179,244)"
             ]
            ],
            "type": "contour"
           }
          ],
          "contourcarpet": [
           {
            "colorbar": {
             "outlinewidth": 0,
             "tickcolor": "rgb(237,237,237)",
             "ticklen": 6,
             "ticks": "inside"
            },
            "type": "contourcarpet"
           }
          ],
          "heatmap": [
           {
            "colorbar": {
             "outlinewidth": 0,
             "tickcolor": "rgb(237,237,237)",
             "ticklen": 6,
             "ticks": "inside"
            },
            "colorscale": [
             [
              0,
              "rgb(20,44,66)"
             ],
             [
              1,
              "rgb(90,179,244)"
             ]
            ],
            "type": "heatmap"
           }
          ],
          "heatmapgl": [
           {
            "colorbar": {
             "outlinewidth": 0,
             "tickcolor": "rgb(237,237,237)",
             "ticklen": 6,
             "ticks": "inside"
            },
            "colorscale": [
             [
              0,
              "rgb(20,44,66)"
             ],
             [
              1,
              "rgb(90,179,244)"
             ]
            ],
            "type": "heatmapgl"
           }
          ],
          "histogram": [
           {
            "marker": {
             "colorbar": {
              "outlinewidth": 0,
              "tickcolor": "rgb(237,237,237)",
              "ticklen": 6,
              "ticks": "inside"
             }
            },
            "type": "histogram"
           }
          ],
          "histogram2d": [
           {
            "colorbar": {
             "outlinewidth": 0,
             "tickcolor": "rgb(237,237,237)",
             "ticklen": 6,
             "ticks": "inside"
            },
            "colorscale": [
             [
              0,
              "rgb(20,44,66)"
             ],
             [
              1,
              "rgb(90,179,244)"
             ]
            ],
            "type": "histogram2d"
           }
          ],
          "histogram2dcontour": [
           {
            "colorbar": {
             "outlinewidth": 0,
             "tickcolor": "rgb(237,237,237)",
             "ticklen": 6,
             "ticks": "inside"
            },
            "colorscale": [
             [
              0,
              "rgb(20,44,66)"
             ],
             [
              1,
              "rgb(90,179,244)"
             ]
            ],
            "type": "histogram2dcontour"
           }
          ],
          "mesh3d": [
           {
            "colorbar": {
             "outlinewidth": 0,
             "tickcolor": "rgb(237,237,237)",
             "ticklen": 6,
             "ticks": "inside"
            },
            "type": "mesh3d"
           }
          ],
          "parcoords": [
           {
            "line": {
             "colorbar": {
              "outlinewidth": 0,
              "tickcolor": "rgb(237,237,237)",
              "ticklen": 6,
              "ticks": "inside"
             }
            },
            "type": "parcoords"
           }
          ],
          "pie": [
           {
            "automargin": true,
            "type": "pie"
           }
          ],
          "scatter": [
           {
            "marker": {
             "colorbar": {
              "outlinewidth": 0,
              "tickcolor": "rgb(237,237,237)",
              "ticklen": 6,
              "ticks": "inside"
             }
            },
            "type": "scatter"
           }
          ],
          "scatter3d": [
           {
            "line": {
             "colorbar": {
              "outlinewidth": 0,
              "tickcolor": "rgb(237,237,237)",
              "ticklen": 6,
              "ticks": "inside"
             }
            },
            "marker": {
             "colorbar": {
              "outlinewidth": 0,
              "tickcolor": "rgb(237,237,237)",
              "ticklen": 6,
              "ticks": "inside"
             }
            },
            "type": "scatter3d"
           }
          ],
          "scattercarpet": [
           {
            "marker": {
             "colorbar": {
              "outlinewidth": 0,
              "tickcolor": "rgb(237,237,237)",
              "ticklen": 6,
              "ticks": "inside"
             }
            },
            "type": "scattercarpet"
           }
          ],
          "scattergeo": [
           {
            "marker": {
             "colorbar": {
              "outlinewidth": 0,
              "tickcolor": "rgb(237,237,237)",
              "ticklen": 6,
              "ticks": "inside"
             }
            },
            "type": "scattergeo"
           }
          ],
          "scattergl": [
           {
            "marker": {
             "colorbar": {
              "outlinewidth": 0,
              "tickcolor": "rgb(237,237,237)",
              "ticklen": 6,
              "ticks": "inside"
             }
            },
            "type": "scattergl"
           }
          ],
          "scattermapbox": [
           {
            "marker": {
             "colorbar": {
              "outlinewidth": 0,
              "tickcolor": "rgb(237,237,237)",
              "ticklen": 6,
              "ticks": "inside"
             }
            },
            "type": "scattermapbox"
           }
          ],
          "scatterpolar": [
           {
            "marker": {
             "colorbar": {
              "outlinewidth": 0,
              "tickcolor": "rgb(237,237,237)",
              "ticklen": 6,
              "ticks": "inside"
             }
            },
            "type": "scatterpolar"
           }
          ],
          "scatterpolargl": [
           {
            "marker": {
             "colorbar": {
              "outlinewidth": 0,
              "tickcolor": "rgb(237,237,237)",
              "ticklen": 6,
              "ticks": "inside"
             }
            },
            "type": "scatterpolargl"
           }
          ],
          "scatterternary": [
           {
            "marker": {
             "colorbar": {
              "outlinewidth": 0,
              "tickcolor": "rgb(237,237,237)",
              "ticklen": 6,
              "ticks": "inside"
             }
            },
            "type": "scatterternary"
           }
          ],
          "surface": [
           {
            "colorbar": {
             "outlinewidth": 0,
             "tickcolor": "rgb(237,237,237)",
             "ticklen": 6,
             "ticks": "inside"
            },
            "colorscale": [
             [
              0,
              "rgb(20,44,66)"
             ],
             [
              1,
              "rgb(90,179,244)"
             ]
            ],
            "type": "surface"
           }
          ],
          "table": [
           {
            "cells": {
             "fill": {
              "color": "rgb(237,237,237)"
             },
             "line": {
              "color": "white"
             }
            },
            "header": {
             "fill": {
              "color": "rgb(217,217,217)"
             },
             "line": {
              "color": "white"
             }
            },
            "type": "table"
           }
          ]
         },
         "layout": {
          "annotationdefaults": {
           "arrowhead": 0,
           "arrowwidth": 1
          },
          "coloraxis": {
           "colorbar": {
            "outlinewidth": 0,
            "tickcolor": "rgb(237,237,237)",
            "ticklen": 6,
            "ticks": "inside"
           }
          },
          "colorscale": {
           "sequential": [
            [
             0,
             "rgb(20,44,66)"
            ],
            [
             1,
             "rgb(90,179,244)"
            ]
           ],
           "sequentialminus": [
            [
             0,
             "rgb(20,44,66)"
            ],
            [
             1,
             "rgb(90,179,244)"
            ]
           ]
          },
          "colorway": [
           "#F8766D",
           "#A3A500",
           "#00BF7D",
           "#00B0F6",
           "#E76BF3"
          ],
          "font": {
           "color": "rgb(51,51,51)"
          },
          "geo": {
           "bgcolor": "white",
           "lakecolor": "white",
           "landcolor": "rgb(237,237,237)",
           "showlakes": true,
           "showland": true,
           "subunitcolor": "white"
          },
          "hoverlabel": {
           "align": "left"
          },
          "hovermode": "closest",
          "paper_bgcolor": "white",
          "plot_bgcolor": "rgb(237,237,237)",
          "polar": {
           "angularaxis": {
            "gridcolor": "white",
            "linecolor": "white",
            "showgrid": true,
            "tickcolor": "rgb(51,51,51)",
            "ticks": "outside"
           },
           "bgcolor": "rgb(237,237,237)",
           "radialaxis": {
            "gridcolor": "white",
            "linecolor": "white",
            "showgrid": true,
            "tickcolor": "rgb(51,51,51)",
            "ticks": "outside"
           }
          },
          "scene": {
           "xaxis": {
            "backgroundcolor": "rgb(237,237,237)",
            "gridcolor": "white",
            "gridwidth": 2,
            "linecolor": "white",
            "showbackground": true,
            "showgrid": true,
            "tickcolor": "rgb(51,51,51)",
            "ticks": "outside",
            "zerolinecolor": "white"
           },
           "yaxis": {
            "backgroundcolor": "rgb(237,237,237)",
            "gridcolor": "white",
            "gridwidth": 2,
            "linecolor": "white",
            "showbackground": true,
            "showgrid": true,
            "tickcolor": "rgb(51,51,51)",
            "ticks": "outside",
            "zerolinecolor": "white"
           },
           "zaxis": {
            "backgroundcolor": "rgb(237,237,237)",
            "gridcolor": "white",
            "gridwidth": 2,
            "linecolor": "white",
            "showbackground": true,
            "showgrid": true,
            "tickcolor": "rgb(51,51,51)",
            "ticks": "outside",
            "zerolinecolor": "white"
           }
          },
          "shapedefaults": {
           "fillcolor": "black",
           "line": {
            "width": 0
           },
           "opacity": 0.3
          },
          "ternary": {
           "aaxis": {
            "gridcolor": "white",
            "linecolor": "white",
            "showgrid": true,
            "tickcolor": "rgb(51,51,51)",
            "ticks": "outside"
           },
           "baxis": {
            "gridcolor": "white",
            "linecolor": "white",
            "showgrid": true,
            "tickcolor": "rgb(51,51,51)",
            "ticks": "outside"
           },
           "bgcolor": "rgb(237,237,237)",
           "caxis": {
            "gridcolor": "white",
            "linecolor": "white",
            "showgrid": true,
            "tickcolor": "rgb(51,51,51)",
            "ticks": "outside"
           }
          },
          "xaxis": {
           "automargin": true,
           "gridcolor": "white",
           "linecolor": "white",
           "showgrid": true,
           "tickcolor": "rgb(51,51,51)",
           "ticks": "outside",
           "title": {
            "standoff": 15
           },
           "zerolinecolor": "white"
          },
          "yaxis": {
           "automargin": true,
           "gridcolor": "white",
           "linecolor": "white",
           "showgrid": true,
           "tickcolor": "rgb(51,51,51)",
           "ticks": "outside",
           "title": {
            "standoff": 15
           },
           "zerolinecolor": "white"
          }
         }
        },
        "title": {
         "text": "New Confirmed Cases vs Cumulative Cases Per Day (Logged, US States)"
        },
        "xaxis": {
         "anchor": "y",
         "domain": [
          0,
          1
         ],
         "title": {
          "text": "Confirmed"
         },
         "type": "log"
        },
        "yaxis": {
         "anchor": "x",
         "domain": [
          0,
          1
         ],
         "title": {
          "text": "NewConfirmed"
         },
         "type": "log"
        }
       }
      },
      "text/html": [
       "<div>\n",
       "        \n",
       "        \n",
       "            <div id=\"b0ab3c0a-503a-45bd-acce-f0d736da22d3\" class=\"plotly-graph-div\" style=\"height:525px; width:100%;\"></div>\n",
       "            <script type=\"text/javascript\">\n",
       "                require([\"plotly\"], function(Plotly) {\n",
       "                    window.PLOTLYENV=window.PLOTLYENV || {};\n",
       "                    \n",
       "                if (document.getElementById(\"b0ab3c0a-503a-45bd-acce-f0d736da22d3\")) {\n",
       "                    Plotly.newPlot(\n",
       "                        'b0ab3c0a-503a-45bd-acce-f0d736da22d3',\n",
       "                        [{\"customdata\": [[\"Florida\", 13, \"2020-03-13\", \"2020-03-01\"], [\"Florida\", 14, \"2020-03-14\", \"2020-03-01\"], [\"Florida\", 15, \"2020-03-15\", \"2020-03-01\"], [\"Florida\", 16, \"2020-03-16\", \"2020-03-01\"], [\"Florida\", 17, \"2020-03-17\", \"2020-03-01\"], [\"Florida\", 18, \"2020-03-18\", \"2020-03-01\"], [\"Florida\", 19, \"2020-03-19\", \"2020-03-01\"], [\"Florida\", 20, \"2020-03-20\", \"2020-03-01\"], [\"Florida\", 21, \"2020-03-21\", \"2020-03-01\"], [\"Florida\", 22, \"2020-03-22\", \"2020-03-01\"], [\"Florida\", 23, \"2020-03-23\", \"2020-03-01\"], [\"Florida\", 24, \"2020-03-24\", \"2020-03-01\"], [\"Florida\", 25, \"2020-03-25\", \"2020-03-01\"], [\"Florida\", 26, \"2020-03-26\", \"2020-03-01\"], [\"Florida\", 27, \"2020-03-27\", \"2020-03-01\"], [\"Florida\", 28, \"2020-03-28\", \"2020-03-01\"], [\"Florida\", 29, \"2020-03-29\", \"2020-03-01\"], [\"Florida\", 30, \"2020-03-30\", \"2020-03-01\"], [\"Florida\", 31, \"2020-03-31\", \"2020-03-01\"], [\"Florida\", 32, \"2020-04-01\", \"2020-03-01\"], [\"Florida\", 33, \"2020-04-02\", \"2020-03-01\"], [\"Florida\", 34, \"2020-04-03\", \"2020-03-01\"], [\"Florida\", 35, \"2020-04-04\", \"2020-03-01\"], [\"Florida\", 36, \"2020-04-05\", \"2020-03-01\"], [\"Florida\", 37, \"2020-04-06\", \"2020-03-01\"], [\"Florida\", 38, \"2020-04-07\", \"2020-03-01\"], [\"Florida\", 39, \"2020-04-08\", \"2020-03-01\"]], \"hovertemplate\": \"<b>%{hovertext}</b><br><br>State=%{customdata[0]}<br>Confirmed=%{x}<br>NewConfirmed=%{y}<br>DaysElapsed=%{customdata[1]}<br>Date=%{customdata[2]}<br>EpidemicStartDate=%{customdata[3]}<extra></extra>\", \"hovertext\": [\"2020-03-13\", \"2020-03-14\", \"2020-03-15\", \"2020-03-16\", \"2020-03-17\", \"2020-03-18\", \"2020-03-19\", \"2020-03-20\", \"2020-03-21\", \"2020-03-22\", \"2020-03-23\", \"2020-03-24\", \"2020-03-25\", \"2020-03-26\", \"2020-03-27\", \"2020-03-28\", \"2020-03-29\", \"2020-03-30\", \"2020-03-31\", \"2020-04-01\", \"2020-04-02\", \"2020-04-03\", \"2020-04-04\", \"2020-04-05\", \"2020-04-06\", \"2020-04-07\", \"2020-04-08\"], \"legendgroup\": \"Florida\", \"marker\": {\"color\": \"#4C78A8\", \"opacity\": 0.9, \"symbol\": \"circle\"}, \"mode\": \"markers\", \"name\": \"Florida\", \"showlegend\": true, \"type\": \"scatter\", \"x\": [70, 70, 109, 141, 210, 326, 434, 564, 764, 1000, 1222, 1467, 1965, 2477, 3198, 4038, 4942, 5694, 6741, 7765, 9000, 10260, 11537, 12342, 13621, 14739, 15690], \"xaxis\": \"x\", \"y\": [24.0, 0.0, 39.0, 32.0, 69.0, 116.0, 108.0, 130.0, 200.0, 236.0, 222.0, 245.0, 498.0, 512.0, 721.0, 840.0, 904.0, 752.0, 1047.0, 1024.0, 1235.0, 1260.0, 1277.0, 805.0, 1279.0, 1118.0, 951.0], \"yaxis\": \"y\"}, {\"customdata\": [[\"New York\", 7, \"2020-03-07\", \"2020-03-01\"], [\"New York\", 8, \"2020-03-08\", \"2020-03-01\"], [\"New York\", 9, \"2020-03-09\", \"2020-03-01\"], [\"New York\", 10, \"2020-03-10\", \"2020-03-01\"], [\"New York\", 11, \"2020-03-11\", \"2020-03-01\"], [\"New York\", 12, \"2020-03-12\", \"2020-03-01\"], [\"New York\", 13, \"2020-03-13\", \"2020-03-01\"], [\"New York\", 14, \"2020-03-14\", \"2020-03-01\"], [\"New York\", 15, \"2020-03-15\", \"2020-03-01\"], [\"New York\", 16, \"2020-03-16\", \"2020-03-01\"], [\"New York\", 17, \"2020-03-17\", \"2020-03-01\"], [\"New York\", 18, \"2020-03-18\", \"2020-03-01\"], [\"New York\", 19, \"2020-03-19\", \"2020-03-01\"], [\"New York\", 20, \"2020-03-20\", \"2020-03-01\"], [\"New York\", 21, \"2020-03-21\", \"2020-03-01\"], [\"New York\", 22, \"2020-03-22\", \"2020-03-01\"], [\"New York\", 23, \"2020-03-23\", \"2020-03-01\"], [\"New York\", 24, \"2020-03-24\", \"2020-03-01\"], [\"New York\", 25, \"2020-03-25\", \"2020-03-01\"], [\"New York\", 26, \"2020-03-26\", \"2020-03-01\"], [\"New York\", 27, \"2020-03-27\", \"2020-03-01\"], [\"New York\", 28, \"2020-03-28\", \"2020-03-01\"], [\"New York\", 29, \"2020-03-29\", \"2020-03-01\"], [\"New York\", 30, \"2020-03-30\", \"2020-03-01\"], [\"New York\", 31, \"2020-03-31\", \"2020-03-01\"], [\"New York\", 32, \"2020-04-01\", \"2020-03-01\"], [\"New York\", 33, \"2020-04-02\", \"2020-03-01\"], [\"New York\", 34, \"2020-04-03\", \"2020-03-01\"], [\"New York\", 35, \"2020-04-04\", \"2020-03-01\"], [\"New York\", 36, \"2020-04-05\", \"2020-03-01\"], [\"New York\", 37, \"2020-04-06\", \"2020-03-01\"], [\"New York\", 38, \"2020-04-07\", \"2020-03-01\"], [\"New York\", 39, \"2020-04-08\", \"2020-03-01\"]], \"hovertemplate\": \"<b>%{hovertext}</b><br><br>State=%{customdata[0]}<br>Confirmed=%{x}<br>NewConfirmed=%{y}<br>DaysElapsed=%{customdata[1]}<br>Date=%{customdata[2]}<br>EpidemicStartDate=%{customdata[3]}<extra></extra>\", \"hovertext\": [\"2020-03-07\", \"2020-03-08\", \"2020-03-09\", \"2020-03-10\", \"2020-03-11\", \"2020-03-12\", \"2020-03-13\", \"2020-03-14\", \"2020-03-15\", \"2020-03-16\", \"2020-03-17\", \"2020-03-18\", \"2020-03-19\", \"2020-03-20\", \"2020-03-21\", \"2020-03-22\", \"2020-03-23\", \"2020-03-24\", \"2020-03-25\", \"2020-03-26\", \"2020-03-27\", \"2020-03-28\", \"2020-03-29\", \"2020-03-30\", \"2020-03-31\", \"2020-04-01\", \"2020-04-02\", \"2020-04-03\", \"2020-04-04\", \"2020-04-05\", \"2020-04-06\", \"2020-04-07\", \"2020-04-08\"], \"legendgroup\": \"New York\", \"marker\": {\"color\": \"#F58518\", \"opacity\": 0.9, \"symbol\": \"diamond\"}, \"mode\": \"markers\", \"name\": \"New York\", \"showlegend\": true, \"type\": \"scatter\", \"x\": [89, 106, 142, 173, 217, 326, 421, 610, 732, 950, 1374, 2382, 4152, 7102, 10356, 15168, 20875, 25665, 33066, 38987, 44635, 53363, 59568, 67174, 75832, 83889, 92770, 102870, 114996, 122911, 130703, 140081, 149401], \"xaxis\": \"x\", \"y\": [45.0, 17.0, 36.0, 31.0, 44.0, 109.0, 95.0, 189.0, 122.0, 218.0, 424.0, 1008.0, 1770.0, 2950.0, 3254.0, 4812.0, 5707.0, 4790.0, 7401.0, 5921.0, 5648.0, 8728.0, 6205.0, 7606.0, 8658.0, 8057.0, 8881.0, 10100.0, 12126.0, 7915.0, 7792.0, 9378.0, 9320.0], \"yaxis\": \"y\"}, {\"customdata\": [[\"Virginia\", 10, \"2020-03-16\", \"2020-03-07\"], [\"Virginia\", 11, \"2020-03-17\", \"2020-03-07\"], [\"Virginia\", 12, \"2020-03-18\", \"2020-03-07\"], [\"Virginia\", 13, \"2020-03-19\", \"2020-03-07\"], [\"Virginia\", 14, \"2020-03-20\", \"2020-03-07\"], [\"Virginia\", 15, \"2020-03-21\", \"2020-03-07\"], [\"Virginia\", 16, \"2020-03-22\", \"2020-03-07\"], [\"Virginia\", 17, \"2020-03-23\", \"2020-03-07\"], [\"Virginia\", 18, \"2020-03-24\", \"2020-03-07\"], [\"Virginia\", 19, \"2020-03-25\", \"2020-03-07\"], [\"Virginia\", 20, \"2020-03-26\", \"2020-03-07\"], [\"Virginia\", 21, \"2020-03-27\", \"2020-03-07\"], [\"Virginia\", 22, \"2020-03-28\", \"2020-03-07\"], [\"Virginia\", 23, \"2020-03-29\", \"2020-03-07\"], [\"Virginia\", 24, \"2020-03-30\", \"2020-03-07\"], [\"Virginia\", 25, \"2020-03-31\", \"2020-03-07\"], [\"Virginia\", 26, \"2020-04-01\", \"2020-03-07\"], [\"Virginia\", 27, \"2020-04-02\", \"2020-03-07\"], [\"Virginia\", 28, \"2020-04-03\", \"2020-03-07\"], [\"Virginia\", 29, \"2020-04-04\", \"2020-03-07\"], [\"Virginia\", 30, \"2020-04-05\", \"2020-03-07\"], [\"Virginia\", 31, \"2020-04-06\", \"2020-03-07\"], [\"Virginia\", 32, \"2020-04-07\", \"2020-03-07\"], [\"Virginia\", 33, \"2020-04-08\", \"2020-03-07\"]], \"hovertemplate\": \"<b>%{hovertext}</b><br><br>State=%{customdata[0]}<br>Confirmed=%{x}<br>NewConfirmed=%{y}<br>DaysElapsed=%{customdata[1]}<br>Date=%{customdata[2]}<br>EpidemicStartDate=%{customdata[3]}<extra></extra>\", \"hovertext\": [\"2020-03-16\", \"2020-03-17\", \"2020-03-18\", \"2020-03-19\", \"2020-03-20\", \"2020-03-21\", \"2020-03-22\", \"2020-03-23\", \"2020-03-24\", \"2020-03-25\", \"2020-03-26\", \"2020-03-27\", \"2020-03-28\", \"2020-03-29\", \"2020-03-30\", \"2020-03-31\", \"2020-04-01\", \"2020-04-02\", \"2020-04-03\", \"2020-04-04\", \"2020-04-05\", \"2020-04-06\", \"2020-04-07\", \"2020-04-08\"], \"legendgroup\": \"Virginia\", \"marker\": {\"color\": \"#E45756\", \"opacity\": 0.9, \"symbol\": \"square\"}, \"mode\": \"markers\", \"name\": \"Virginia\", \"showlegend\": true, \"type\": \"scatter\", \"x\": [51, 67, 78, 94, 115, 152, 219, 254, 290, 391, 604, 606, 740, 890, 1021, 1250, 1511, 1706, 2012, 2407, 2637, 2878, 3333, 3645], \"xaxis\": \"x\", \"y\": [6.0, 16.0, 11.0, 16.0, 21.0, 37.0, 67.0, 35.0, 36.0, 101.0, 213.0, 2.0, 134.0, 150.0, 131.0, 229.0, 261.0, 195.0, 306.0, 395.0, 230.0, 241.0, 455.0, 312.0], \"yaxis\": \"y\"}, {\"customdata\": [[\"Washington\", 45, \"2020-03-05\", \"2020-01-21\"], [\"Washington\", 46, \"2020-03-06\", \"2020-01-21\"], [\"Washington\", 47, \"2020-03-07\", \"2020-01-21\"], [\"Washington\", 48, \"2020-03-08\", \"2020-01-21\"], [\"Washington\", 49, \"2020-03-09\", \"2020-01-21\"], [\"Washington\", 50, \"2020-03-10\", \"2020-01-21\"], [\"Washington\", 51, \"2020-03-11\", \"2020-01-21\"], [\"Washington\", 52, \"2020-03-12\", \"2020-01-21\"], [\"Washington\", 53, \"2020-03-13\", \"2020-01-21\"], [\"Washington\", 54, \"2020-03-14\", \"2020-01-21\"], [\"Washington\", 55, \"2020-03-15\", \"2020-01-21\"], [\"Washington\", 56, \"2020-03-16\", \"2020-01-21\"], [\"Washington\", 57, \"2020-03-17\", \"2020-01-21\"], [\"Washington\", 58, \"2020-03-18\", \"2020-01-21\"], [\"Washington\", 59, \"2020-03-19\", \"2020-01-21\"], [\"Washington\", 60, \"2020-03-20\", \"2020-01-21\"], [\"Washington\", 61, \"2020-03-21\", \"2020-01-21\"], [\"Washington\", 62, \"2020-03-22\", \"2020-01-21\"], [\"Washington\", 63, \"2020-03-23\", \"2020-01-21\"], [\"Washington\", 64, \"2020-03-24\", \"2020-01-21\"], [\"Washington\", 65, \"2020-03-25\", \"2020-01-21\"], [\"Washington\", 66, \"2020-03-26\", \"2020-01-21\"], [\"Washington\", 67, \"2020-03-27\", \"2020-01-21\"], [\"Washington\", 68, \"2020-03-28\", \"2020-01-21\"], [\"Washington\", 69, \"2020-03-29\", \"2020-01-21\"], [\"Washington\", 70, \"2020-03-30\", \"2020-01-21\"], [\"Washington\", 71, \"2020-03-31\", \"2020-01-21\"], [\"Washington\", 72, \"2020-04-01\", \"2020-01-21\"], [\"Washington\", 73, \"2020-04-02\", \"2020-01-21\"], [\"Washington\", 74, \"2020-04-03\", \"2020-01-21\"], [\"Washington\", 75, \"2020-04-04\", \"2020-01-21\"], [\"Washington\", 76, \"2020-04-05\", \"2020-01-21\"], [\"Washington\", 77, \"2020-04-06\", \"2020-01-21\"], [\"Washington\", 78, \"2020-04-07\", \"2020-01-21\"], [\"Washington\", 79, \"2020-04-08\", \"2020-01-21\"]], \"hovertemplate\": \"<b>%{hovertext}</b><br><br>State=%{customdata[0]}<br>Confirmed=%{x}<br>NewConfirmed=%{y}<br>DaysElapsed=%{customdata[1]}<br>Date=%{customdata[2]}<br>EpidemicStartDate=%{customdata[3]}<extra></extra>\", \"hovertext\": [\"2020-03-05\", \"2020-03-06\", \"2020-03-07\", \"2020-03-08\", \"2020-03-09\", \"2020-03-10\", \"2020-03-11\", \"2020-03-12\", \"2020-03-13\", \"2020-03-14\", \"2020-03-15\", \"2020-03-16\", \"2020-03-17\", \"2020-03-18\", \"2020-03-19\", \"2020-03-20\", \"2020-03-21\", \"2020-03-22\", \"2020-03-23\", \"2020-03-24\", \"2020-03-25\", \"2020-03-26\", \"2020-03-27\", \"2020-03-28\", \"2020-03-29\", \"2020-03-30\", \"2020-03-31\", \"2020-04-01\", \"2020-04-02\", \"2020-04-03\", \"2020-04-04\", \"2020-04-05\", \"2020-04-06\", \"2020-04-07\", \"2020-04-08\"], \"legendgroup\": \"Washington\", \"marker\": {\"color\": \"#72B7B2\", \"opacity\": 0.9, \"symbol\": \"x\"}, \"mode\": \"markers\", \"name\": \"Washington\", \"showlegend\": true, \"type\": \"scatter\", \"x\": [75, 86, 110, 141, 179, 279, 338, 419, 511, 609, 675, 794, 908, 1026, 1228, 1404, 1655, 1844, 2101, 2469, 2585, 3208, 3770, 4311, 4896, 5179, 5292, 5588, 6585, 6966, 7498, 7984, 8384, 8682, 9097], \"xaxis\": \"x\", \"y\": [28.0, 11.0, 24.0, 31.0, 38.0, 100.0, 59.0, 81.0, 92.0, 98.0, 66.0, 119.0, 114.0, 118.0, 202.0, 176.0, 251.0, 189.0, 257.0, 368.0, 116.0, 623.0, 562.0, 541.0, 585.0, 283.0, 113.0, 296.0, 997.0, 381.0, 532.0, 486.0, 400.0, 298.0, 415.0], \"yaxis\": \"y\"}],\n",
       "                        {\"coloraxis\": {\"showscale\": false}, \"legend\": {\"title\": {\"text\": \"State\"}, \"tracegroupgap\": 0}, \"template\": {\"data\": {\"bar\": [{\"error_x\": {\"color\": \"rgb(51,51,51)\"}, \"error_y\": {\"color\": \"rgb(51,51,51)\"}, \"marker\": {\"line\": {\"color\": \"rgb(237,237,237)\", \"width\": 0.5}}, \"type\": \"bar\"}], \"barpolar\": [{\"marker\": {\"line\": {\"color\": \"rgb(237,237,237)\", \"width\": 0.5}}, \"type\": \"barpolar\"}], \"carpet\": [{\"aaxis\": {\"endlinecolor\": \"rgb(51,51,51)\", \"gridcolor\": \"white\", \"linecolor\": \"white\", \"minorgridcolor\": \"white\", \"startlinecolor\": \"rgb(51,51,51)\"}, \"baxis\": {\"endlinecolor\": \"rgb(51,51,51)\", \"gridcolor\": \"white\", \"linecolor\": \"white\", \"minorgridcolor\": \"white\", \"startlinecolor\": \"rgb(51,51,51)\"}, \"type\": \"carpet\"}], \"choropleth\": [{\"colorbar\": {\"outlinewidth\": 0, \"tickcolor\": \"rgb(237,237,237)\", \"ticklen\": 6, \"ticks\": \"inside\"}, \"type\": \"choropleth\"}], \"contour\": [{\"colorbar\": {\"outlinewidth\": 0, \"tickcolor\": \"rgb(237,237,237)\", \"ticklen\": 6, \"ticks\": \"inside\"}, \"colorscale\": [[0, \"rgb(20,44,66)\"], [1, \"rgb(90,179,244)\"]], \"type\": \"contour\"}], \"contourcarpet\": [{\"colorbar\": {\"outlinewidth\": 0, \"tickcolor\": \"rgb(237,237,237)\", \"ticklen\": 6, \"ticks\": \"inside\"}, \"type\": \"contourcarpet\"}], \"heatmap\": [{\"colorbar\": {\"outlinewidth\": 0, \"tickcolor\": \"rgb(237,237,237)\", \"ticklen\": 6, \"ticks\": \"inside\"}, \"colorscale\": [[0, \"rgb(20,44,66)\"], [1, \"rgb(90,179,244)\"]], \"type\": \"heatmap\"}], \"heatmapgl\": [{\"colorbar\": {\"outlinewidth\": 0, \"tickcolor\": \"rgb(237,237,237)\", \"ticklen\": 6, \"ticks\": \"inside\"}, \"colorscale\": [[0, \"rgb(20,44,66)\"], [1, \"rgb(90,179,244)\"]], \"type\": \"heatmapgl\"}], \"histogram\": [{\"marker\": {\"colorbar\": {\"outlinewidth\": 0, \"tickcolor\": \"rgb(237,237,237)\", \"ticklen\": 6, \"ticks\": \"inside\"}}, \"type\": \"histogram\"}], \"histogram2d\": [{\"colorbar\": {\"outlinewidth\": 0, \"tickcolor\": \"rgb(237,237,237)\", \"ticklen\": 6, \"ticks\": \"inside\"}, \"colorscale\": [[0, \"rgb(20,44,66)\"], [1, \"rgb(90,179,244)\"]], \"type\": \"histogram2d\"}], \"histogram2dcontour\": [{\"colorbar\": {\"outlinewidth\": 0, \"tickcolor\": \"rgb(237,237,237)\", \"ticklen\": 6, \"ticks\": \"inside\"}, \"colorscale\": [[0, \"rgb(20,44,66)\"], [1, \"rgb(90,179,244)\"]], \"type\": \"histogram2dcontour\"}], \"mesh3d\": [{\"colorbar\": {\"outlinewidth\": 0, \"tickcolor\": \"rgb(237,237,237)\", \"ticklen\": 6, \"ticks\": \"inside\"}, \"type\": \"mesh3d\"}], \"parcoords\": [{\"line\": {\"colorbar\": {\"outlinewidth\": 0, \"tickcolor\": \"rgb(237,237,237)\", \"ticklen\": 6, \"ticks\": \"inside\"}}, \"type\": \"parcoords\"}], \"pie\": [{\"automargin\": true, \"type\": \"pie\"}], \"scatter\": [{\"marker\": {\"colorbar\": {\"outlinewidth\": 0, \"tickcolor\": \"rgb(237,237,237)\", \"ticklen\": 6, \"ticks\": \"inside\"}}, \"type\": \"scatter\"}], \"scatter3d\": [{\"line\": {\"colorbar\": {\"outlinewidth\": 0, \"tickcolor\": \"rgb(237,237,237)\", \"ticklen\": 6, \"ticks\": \"inside\"}}, \"marker\": {\"colorbar\": {\"outlinewidth\": 0, \"tickcolor\": \"rgb(237,237,237)\", \"ticklen\": 6, \"ticks\": \"inside\"}}, \"type\": \"scatter3d\"}], \"scattercarpet\": [{\"marker\": {\"colorbar\": {\"outlinewidth\": 0, \"tickcolor\": \"rgb(237,237,237)\", \"ticklen\": 6, \"ticks\": \"inside\"}}, \"type\": \"scattercarpet\"}], \"scattergeo\": [{\"marker\": {\"colorbar\": {\"outlinewidth\": 0, \"tickcolor\": \"rgb(237,237,237)\", \"ticklen\": 6, \"ticks\": \"inside\"}}, \"type\": \"scattergeo\"}], \"scattergl\": [{\"marker\": {\"colorbar\": {\"outlinewidth\": 0, \"tickcolor\": \"rgb(237,237,237)\", \"ticklen\": 6, \"ticks\": \"inside\"}}, \"type\": \"scattergl\"}], \"scattermapbox\": [{\"marker\": {\"colorbar\": {\"outlinewidth\": 0, \"tickcolor\": \"rgb(237,237,237)\", \"ticklen\": 6, \"ticks\": \"inside\"}}, \"type\": \"scattermapbox\"}], \"scatterpolar\": [{\"marker\": {\"colorbar\": {\"outlinewidth\": 0, \"tickcolor\": \"rgb(237,237,237)\", \"ticklen\": 6, \"ticks\": \"inside\"}}, \"type\": \"scatterpolar\"}], \"scatterpolargl\": [{\"marker\": {\"colorbar\": {\"outlinewidth\": 0, \"tickcolor\": \"rgb(237,237,237)\", \"ticklen\": 6, \"ticks\": \"inside\"}}, \"type\": \"scatterpolargl\"}], \"scatterternary\": [{\"marker\": {\"colorbar\": {\"outlinewidth\": 0, \"tickcolor\": \"rgb(237,237,237)\", \"ticklen\": 6, \"ticks\": \"inside\"}}, \"type\": \"scatterternary\"}], \"surface\": [{\"colorbar\": {\"outlinewidth\": 0, \"tickcolor\": \"rgb(237,237,237)\", \"ticklen\": 6, \"ticks\": \"inside\"}, \"colorscale\": [[0, \"rgb(20,44,66)\"], [1, \"rgb(90,179,244)\"]], \"type\": \"surface\"}], \"table\": [{\"cells\": {\"fill\": {\"color\": \"rgb(237,237,237)\"}, \"line\": {\"color\": \"white\"}}, \"header\": {\"fill\": {\"color\": \"rgb(217,217,217)\"}, \"line\": {\"color\": \"white\"}}, \"type\": \"table\"}]}, \"layout\": {\"annotationdefaults\": {\"arrowhead\": 0, \"arrowwidth\": 1}, \"coloraxis\": {\"colorbar\": {\"outlinewidth\": 0, \"tickcolor\": \"rgb(237,237,237)\", \"ticklen\": 6, \"ticks\": \"inside\"}}, \"colorscale\": {\"sequential\": [[0, \"rgb(20,44,66)\"], [1, \"rgb(90,179,244)\"]], \"sequentialminus\": [[0, \"rgb(20,44,66)\"], [1, \"rgb(90,179,244)\"]]}, \"colorway\": [\"#F8766D\", \"#A3A500\", \"#00BF7D\", \"#00B0F6\", \"#E76BF3\"], \"font\": {\"color\": \"rgb(51,51,51)\"}, \"geo\": {\"bgcolor\": \"white\", \"lakecolor\": \"white\", \"landcolor\": \"rgb(237,237,237)\", \"showlakes\": true, \"showland\": true, \"subunitcolor\": \"white\"}, \"hoverlabel\": {\"align\": \"left\"}, \"hovermode\": \"closest\", \"paper_bgcolor\": \"white\", \"plot_bgcolor\": \"rgb(237,237,237)\", \"polar\": {\"angularaxis\": {\"gridcolor\": \"white\", \"linecolor\": \"white\", \"showgrid\": true, \"tickcolor\": \"rgb(51,51,51)\", \"ticks\": \"outside\"}, \"bgcolor\": \"rgb(237,237,237)\", \"radialaxis\": {\"gridcolor\": \"white\", \"linecolor\": \"white\", \"showgrid\": true, \"tickcolor\": \"rgb(51,51,51)\", \"ticks\": \"outside\"}}, \"scene\": {\"xaxis\": {\"backgroundcolor\": \"rgb(237,237,237)\", \"gridcolor\": \"white\", \"gridwidth\": 2, \"linecolor\": \"white\", \"showbackground\": true, \"showgrid\": true, \"tickcolor\": \"rgb(51,51,51)\", \"ticks\": \"outside\", \"zerolinecolor\": \"white\"}, \"yaxis\": {\"backgroundcolor\": \"rgb(237,237,237)\", \"gridcolor\": \"white\", \"gridwidth\": 2, \"linecolor\": \"white\", \"showbackground\": true, \"showgrid\": true, \"tickcolor\": \"rgb(51,51,51)\", \"ticks\": \"outside\", \"zerolinecolor\": \"white\"}, \"zaxis\": {\"backgroundcolor\": \"rgb(237,237,237)\", \"gridcolor\": \"white\", \"gridwidth\": 2, \"linecolor\": \"white\", \"showbackground\": true, \"showgrid\": true, \"tickcolor\": \"rgb(51,51,51)\", \"ticks\": \"outside\", \"zerolinecolor\": \"white\"}}, \"shapedefaults\": {\"fillcolor\": \"black\", \"line\": {\"width\": 0}, \"opacity\": 0.3}, \"ternary\": {\"aaxis\": {\"gridcolor\": \"white\", \"linecolor\": \"white\", \"showgrid\": true, \"tickcolor\": \"rgb(51,51,51)\", \"ticks\": \"outside\"}, \"baxis\": {\"gridcolor\": \"white\", \"linecolor\": \"white\", \"showgrid\": true, \"tickcolor\": \"rgb(51,51,51)\", \"ticks\": \"outside\"}, \"bgcolor\": \"rgb(237,237,237)\", \"caxis\": {\"gridcolor\": \"white\", \"linecolor\": \"white\", \"showgrid\": true, \"tickcolor\": \"rgb(51,51,51)\", \"ticks\": \"outside\"}}, \"xaxis\": {\"automargin\": true, \"gridcolor\": \"white\", \"linecolor\": \"white\", \"showgrid\": true, \"tickcolor\": \"rgb(51,51,51)\", \"ticks\": \"outside\", \"title\": {\"standoff\": 15}, \"zerolinecolor\": \"white\"}, \"yaxis\": {\"automargin\": true, \"gridcolor\": \"white\", \"linecolor\": \"white\", \"showgrid\": true, \"tickcolor\": \"rgb(51,51,51)\", \"ticks\": \"outside\", \"title\": {\"standoff\": 15}, \"zerolinecolor\": \"white\"}}}, \"title\": {\"text\": \"New Confirmed Cases vs Cumulative Cases Per Day (Logged, US States)\"}, \"xaxis\": {\"anchor\": \"y\", \"domain\": [0.0, 1.0], \"title\": {\"text\": \"Confirmed\"}, \"type\": \"log\"}, \"yaxis\": {\"anchor\": \"x\", \"domain\": [0.0, 1.0], \"title\": {\"text\": \"NewConfirmed\"}, \"type\": \"log\"}},\n",
       "                        {\"responsive\": true}\n",
       "                    ).then(function(){\n",
       "                            \n",
       "var gd = document.getElementById('b0ab3c0a-503a-45bd-acce-f0d736da22d3');\n",
       "var x = new MutationObserver(function (mutations, observer) {{\n",
       "        var display = window.getComputedStyle(gd).display;\n",
       "        if (!display || display === 'none') {{\n",
       "            console.log([gd, 'removed!']);\n",
       "            Plotly.purge(gd);\n",
       "            observer.disconnect();\n",
       "        }}\n",
       "}});\n",
       "\n",
       "// Listen for the removal of the full notebook cells\n",
       "var notebookContainer = gd.closest('#notebook-container');\n",
       "if (notebookContainer) {{\n",
       "    x.observe(notebookContainer, {childList: true});\n",
       "}}\n",
       "\n",
       "// Listen for the clearing of the current output cell\n",
       "var outputEl = gd.closest('.output');\n",
       "if (outputEl) {{\n",
       "    x.observe(outputEl, {childList: true});\n",
       "}}\n",
       "\n",
       "                        })\n",
       "                };\n",
       "                });\n",
       "            </script>\n",
       "        </div>"
      ]
     },
     "metadata": {},
     "output_type": "display_data"
    }
   ],
   "source": [
    "# Conducting a similar analysis applied towards US states:\n",
    "statesToPlot = ['New York', 'Washington', 'Lousiana', 'Virginia', 'Florida']\n",
    "fig =   px.scatter(data_frame=df_state[df_state.State.isin(statesToPlot)].loc[df_state.Confirmed>50], \n",
    "                   x='Confirmed', y='NewConfirmed', color='State', symbol='State',\n",
    "                   log_x=True,log_y=True, labels={'y':'Daily New Cases', 'x':'Cumulative Confirmed Cases'},\n",
    "                   hover_name='Date', hover_data=['State','DaysElapsed','Date','EpidemicStartDate'],\n",
    "                   title='New Confirmed Cases vs Cumulative Cases Per Day (Logged, US States)', template='ggplot2', \n",
    "                   color_discrete_sequence= px.colors.qualitative.T10, opacity=0.9\n",
    "#                    color_continuous_scale='Teal_r', \n",
    "                  )\n",
    "# Add smoothed lines\n",
    "fig.update(layout_coloraxis_showscale=False)\n",
    "# fig.show(renderer='svg', width=1100, height=550)"
   ]
  },
  {
   "cell_type": "markdown",
   "metadata": {},
   "source": [
    "## Some time series plots"
   ]
  },
  {
   "cell_type": "markdown",
   "metadata": {},
   "source": [
    "### Confirmed cases in US States with governor lockdown measures \n",
    "Containment is a critical measure in reducing effective reproductive number of the virus. Most early-stage growth models can be viewed as a piecewise composition of a basic reproduction number ($R_0$) and a second effective reproduction number($R_e$). A team at the University of Toronto has a great article and corresponding dashboard explaining this concept: https://annals.org/aim/fullarticle/2760912/reporting-epidemic-growth-reproduction-numbers-2019-novel-coronavirus-2019-ncov. \n",
    "US states have undergone containment measures in different timelines. Assuming a delay comprised of a biological incubation, delay for testing & recording, we can expect to see tangible changes to ($R_e$) roughly two weeks post."
   ]
  },
  {
   "cell_type": "code",
   "execution_count": 29,
   "metadata": {
    "scrolled": false
   },
   "outputs": [
    {
     "name": "stdout",
     "output_type": "stream",
     "text": [
      "New Jersey entered containment on 2020-03-22\n",
      "New York entered containment on 2020-03-23\n",
      "Virginia entered containment on 2020-03-30\n",
      "Washington entered containment on 2020-03-23\n"
     ]
    },
    {
     "data": {
      "application/vnd.plotly.v1+json": {
       "config": {
        "plotlyServerURL": "https://plot.ly"
       },
       "data": [
        {
         "customdata": [
          [
           5,
           11,
           6
          ],
          [
           4,
           15,
           7
          ],
          [
           8,
           23,
           8
          ],
          [
           6,
           29,
           9
          ],
          [
           21,
           50,
           10
          ],
          [
           25,
           75,
           11
          ],
          [
           23,
           98,
           12
          ],
          [
           78,
           176,
           13
          ],
          [
           92,
           268,
           14
          ],
          [
           159,
           427,
           15
          ],
          [
           308,
           735,
           16
          ],
          [
           161,
           896,
           17
          ],
          [
           440,
           1336,
           18
          ],
          [
           578,
           1914,
           19
          ],
          [
           930,
           2844,
           20
          ],
          [
           831,
           3675,
           21
          ],
          [
           727,
           4402,
           22
          ],
          [
           2474,
           6876,
           23
          ],
          [
           1949,
           8825,
           24
          ],
          [
           2299,
           11124,
           25
          ],
          [
           2262,
           13386,
           26
          ],
          [
           3250,
           16636,
           27
          ],
          [
           2060,
           18696,
           28
          ],
          [
           3559,
           22255,
           29
          ],
          [
           3335,
           25590,
           30
          ],
          [
           4305,
           29895,
           31
          ],
          [
           4229,
           34124,
           32
          ],
          [
           3381,
           37505,
           33
          ],
          [
           3585,
           41090,
           34
          ],
          [
           3326,
           44416,
           35
          ],
          [
           3021,
           47437,
           36
          ]
         ],
         "hovertemplate": "<b>%{hovertext}</b><br><br>State=New Jersey<br>Date=%{x}<br>Confirmed=%{customdata[1]}<br>NewConfirmed=%{customdata[0]}<br>DaysElapsed=%{customdata[2]}<extra></extra>",
         "hovertext": [
          "2020-03-09",
          "2020-03-10",
          "2020-03-11",
          "2020-03-12",
          "2020-03-13",
          "2020-03-14",
          "2020-03-15",
          "2020-03-16",
          "2020-03-17",
          "2020-03-18",
          "2020-03-19",
          "2020-03-20",
          "2020-03-21",
          "2020-03-22",
          "2020-03-23",
          "2020-03-24",
          "2020-03-25",
          "2020-03-26",
          "2020-03-27",
          "2020-03-28",
          "2020-03-29",
          "2020-03-30",
          "2020-03-31",
          "2020-04-01",
          "2020-04-02",
          "2020-04-03",
          "2020-04-04",
          "2020-04-05",
          "2020-04-06",
          "2020-04-07",
          "2020-04-08"
         ],
         "legendgroup": "New Jersey",
         "marker": {
          "color": "#4C78A8",
          "symbol": "circle"
         },
         "mode": "markers",
         "name": "New Jersey",
         "showlegend": true,
         "type": "scatter",
         "x": [
          "2020-03-09",
          "2020-03-10",
          "2020-03-11",
          "2020-03-12",
          "2020-03-13",
          "2020-03-14",
          "2020-03-15",
          "2020-03-16",
          "2020-03-17",
          "2020-03-18",
          "2020-03-19",
          "2020-03-20",
          "2020-03-21",
          "2020-03-22",
          "2020-03-23",
          "2020-03-24",
          "2020-03-25",
          "2020-03-26",
          "2020-03-27",
          "2020-03-28",
          "2020-03-29",
          "2020-03-30",
          "2020-03-31",
          "2020-04-01",
          "2020-04-02",
          "2020-04-03",
          "2020-04-04",
          "2020-04-05",
          "2020-04-06",
          "2020-04-07",
          "2020-04-08"
         ],
         "xaxis": "x",
         "y": [
          11,
          15,
          23,
          29,
          50,
          75,
          98,
          176,
          268,
          427,
          735,
          896,
          1336,
          1914,
          2844,
          3675,
          4402,
          6876,
          8825,
          11124,
          13386,
          16636,
          18696,
          22255,
          25590,
          29895,
          34124,
          37505,
          41090,
          44416,
          47437
         ],
         "yaxis": "y"
        },
        {
         "customdata": [
          [
           9,
           11,
           4
          ],
          [
           11,
           22,
           5
          ],
          [
           22,
           44,
           6
          ],
          [
           45,
           89,
           7
          ],
          [
           17,
           106,
           8
          ],
          [
           36,
           142,
           9
          ],
          [
           31,
           173,
           10
          ],
          [
           44,
           217,
           11
          ],
          [
           109,
           326,
           12
          ],
          [
           95,
           421,
           13
          ],
          [
           189,
           610,
           14
          ],
          [
           122,
           732,
           15
          ],
          [
           218,
           950,
           16
          ],
          [
           424,
           1374,
           17
          ],
          [
           1008,
           2382,
           18
          ],
          [
           1770,
           4152,
           19
          ],
          [
           2950,
           7102,
           20
          ],
          [
           3254,
           10356,
           21
          ],
          [
           4812,
           15168,
           22
          ],
          [
           5707,
           20875,
           23
          ],
          [
           4790,
           25665,
           24
          ],
          [
           7401,
           33066,
           25
          ],
          [
           5921,
           38987,
           26
          ],
          [
           5648,
           44635,
           27
          ],
          [
           8728,
           53363,
           28
          ],
          [
           6205,
           59568,
           29
          ],
          [
           7606,
           67174,
           30
          ],
          [
           8658,
           75832,
           31
          ],
          [
           8057,
           83889,
           32
          ],
          [
           8881,
           92770,
           33
          ],
          [
           10100,
           102870,
           34
          ],
          [
           12126,
           114996,
           35
          ],
          [
           7915,
           122911,
           36
          ],
          [
           7792,
           130703,
           37
          ],
          [
           9378,
           140081,
           38
          ],
          [
           9320,
           149401,
           39
          ]
         ],
         "hovertemplate": "<b>%{hovertext}</b><br><br>State=New York<br>Date=%{x}<br>Confirmed=%{customdata[1]}<br>NewConfirmed=%{customdata[0]}<br>DaysElapsed=%{customdata[2]}<extra></extra>",
         "hovertext": [
          "2020-03-04",
          "2020-03-05",
          "2020-03-06",
          "2020-03-07",
          "2020-03-08",
          "2020-03-09",
          "2020-03-10",
          "2020-03-11",
          "2020-03-12",
          "2020-03-13",
          "2020-03-14",
          "2020-03-15",
          "2020-03-16",
          "2020-03-17",
          "2020-03-18",
          "2020-03-19",
          "2020-03-20",
          "2020-03-21",
          "2020-03-22",
          "2020-03-23",
          "2020-03-24",
          "2020-03-25",
          "2020-03-26",
          "2020-03-27",
          "2020-03-28",
          "2020-03-29",
          "2020-03-30",
          "2020-03-31",
          "2020-04-01",
          "2020-04-02",
          "2020-04-03",
          "2020-04-04",
          "2020-04-05",
          "2020-04-06",
          "2020-04-07",
          "2020-04-08"
         ],
         "legendgroup": "New York",
         "marker": {
          "color": "#F58518",
          "symbol": "circle"
         },
         "mode": "markers",
         "name": "New York",
         "showlegend": true,
         "type": "scatter",
         "x": [
          "2020-03-04",
          "2020-03-05",
          "2020-03-06",
          "2020-03-07",
          "2020-03-08",
          "2020-03-09",
          "2020-03-10",
          "2020-03-11",
          "2020-03-12",
          "2020-03-13",
          "2020-03-14",
          "2020-03-15",
          "2020-03-16",
          "2020-03-17",
          "2020-03-18",
          "2020-03-19",
          "2020-03-20",
          "2020-03-21",
          "2020-03-22",
          "2020-03-23",
          "2020-03-24",
          "2020-03-25",
          "2020-03-26",
          "2020-03-27",
          "2020-03-28",
          "2020-03-29",
          "2020-03-30",
          "2020-03-31",
          "2020-04-01",
          "2020-04-02",
          "2020-04-03",
          "2020-04-04",
          "2020-04-05",
          "2020-04-06",
          "2020-04-07",
          "2020-04-08"
         ],
         "xaxis": "x",
         "y": [
          11,
          22,
          44,
          89,
          106,
          142,
          173,
          217,
          326,
          421,
          610,
          732,
          950,
          1374,
          2382,
          4152,
          7102,
          10356,
          15168,
          20875,
          25665,
          33066,
          38987,
          44635,
          53363,
          59568,
          67174,
          75832,
          83889,
          92770,
          102870,
          114996,
          122911,
          130703,
          140081,
          149401
         ],
         "yaxis": "y"
        },
        {
         "customdata": [
          [
           7,
           17,
           6
          ],
          [
           13,
           30,
           7
          ],
          [
           12,
           42,
           8
          ],
          [
           3,
           45,
           9
          ],
          [
           6,
           51,
           10
          ],
          [
           16,
           67,
           11
          ],
          [
           11,
           78,
           12
          ],
          [
           16,
           94,
           13
          ],
          [
           21,
           115,
           14
          ],
          [
           37,
           152,
           15
          ],
          [
           67,
           219,
           16
          ],
          [
           35,
           254,
           17
          ],
          [
           36,
           290,
           18
          ],
          [
           101,
           391,
           19
          ],
          [
           213,
           604,
           20
          ],
          [
           2,
           606,
           21
          ],
          [
           134,
           740,
           22
          ],
          [
           150,
           890,
           23
          ],
          [
           131,
           1021,
           24
          ],
          [
           229,
           1250,
           25
          ],
          [
           261,
           1511,
           26
          ],
          [
           195,
           1706,
           27
          ],
          [
           306,
           2012,
           28
          ],
          [
           395,
           2407,
           29
          ],
          [
           230,
           2637,
           30
          ],
          [
           241,
           2878,
           31
          ],
          [
           455,
           3333,
           32
          ],
          [
           312,
           3645,
           33
          ]
         ],
         "hovertemplate": "<b>%{hovertext}</b><br><br>State=Virginia<br>Date=%{x}<br>Confirmed=%{customdata[1]}<br>NewConfirmed=%{customdata[0]}<br>DaysElapsed=%{customdata[2]}<extra></extra>",
         "hovertext": [
          "2020-03-12",
          "2020-03-13",
          "2020-03-14",
          "2020-03-15",
          "2020-03-16",
          "2020-03-17",
          "2020-03-18",
          "2020-03-19",
          "2020-03-20",
          "2020-03-21",
          "2020-03-22",
          "2020-03-23",
          "2020-03-24",
          "2020-03-25",
          "2020-03-26",
          "2020-03-27",
          "2020-03-28",
          "2020-03-29",
          "2020-03-30",
          "2020-03-31",
          "2020-04-01",
          "2020-04-02",
          "2020-04-03",
          "2020-04-04",
          "2020-04-05",
          "2020-04-06",
          "2020-04-07",
          "2020-04-08"
         ],
         "legendgroup": "Virginia",
         "marker": {
          "color": "#E45756",
          "symbol": "circle"
         },
         "mode": "markers",
         "name": "Virginia",
         "showlegend": true,
         "type": "scatter",
         "x": [
          "2020-03-12",
          "2020-03-13",
          "2020-03-14",
          "2020-03-15",
          "2020-03-16",
          "2020-03-17",
          "2020-03-18",
          "2020-03-19",
          "2020-03-20",
          "2020-03-21",
          "2020-03-22",
          "2020-03-23",
          "2020-03-24",
          "2020-03-25",
          "2020-03-26",
          "2020-03-27",
          "2020-03-28",
          "2020-03-29",
          "2020-03-30",
          "2020-03-31",
          "2020-04-01",
          "2020-04-02",
          "2020-04-03",
          "2020-04-04",
          "2020-04-05",
          "2020-04-06",
          "2020-04-07",
          "2020-04-08"
         ],
         "xaxis": "x",
         "y": [
          17,
          30,
          42,
          45,
          51,
          67,
          78,
          94,
          115,
          152,
          219,
          254,
          290,
          391,
          604,
          606,
          740,
          890,
          1021,
          1250,
          1511,
          1706,
          2012,
          2407,
          2637,
          2878,
          3333,
          3645
         ],
         "yaxis": "y"
        },
        {
         "customdata": [
          [
           7,
           17,
           41
          ],
          [
           6,
           23,
           42
          ],
          [
           9,
           32,
           43
          ],
          [
           15,
           47,
           44
          ],
          [
           28,
           75,
           45
          ],
          [
           11,
           86,
           46
          ],
          [
           24,
           110,
           47
          ],
          [
           31,
           141,
           48
          ],
          [
           38,
           179,
           49
          ],
          [
           100,
           279,
           50
          ],
          [
           59,
           338,
           51
          ],
          [
           81,
           419,
           52
          ],
          [
           92,
           511,
           53
          ],
          [
           98,
           609,
           54
          ],
          [
           66,
           675,
           55
          ],
          [
           119,
           794,
           56
          ],
          [
           114,
           908,
           57
          ],
          [
           118,
           1026,
           58
          ],
          [
           202,
           1228,
           59
          ],
          [
           176,
           1404,
           60
          ],
          [
           251,
           1655,
           61
          ],
          [
           189,
           1844,
           62
          ],
          [
           257,
           2101,
           63
          ],
          [
           368,
           2469,
           64
          ],
          [
           116,
           2585,
           65
          ],
          [
           623,
           3208,
           66
          ],
          [
           562,
           3770,
           67
          ],
          [
           541,
           4311,
           68
          ],
          [
           585,
           4896,
           69
          ],
          [
           283,
           5179,
           70
          ],
          [
           113,
           5292,
           71
          ],
          [
           296,
           5588,
           72
          ],
          [
           997,
           6585,
           73
          ],
          [
           381,
           6966,
           74
          ],
          [
           532,
           7498,
           75
          ],
          [
           486,
           7984,
           76
          ],
          [
           400,
           8384,
           77
          ],
          [
           298,
           8682,
           78
          ],
          [
           415,
           9097,
           79
          ]
         ],
         "hovertemplate": "<b>%{hovertext}</b><br><br>State=Washington<br>Date=%{x}<br>Confirmed=%{customdata[1]}<br>NewConfirmed=%{customdata[0]}<br>DaysElapsed=%{customdata[2]}<extra></extra>",
         "hovertext": [
          "2020-03-01",
          "2020-03-02",
          "2020-03-03",
          "2020-03-04",
          "2020-03-05",
          "2020-03-06",
          "2020-03-07",
          "2020-03-08",
          "2020-03-09",
          "2020-03-10",
          "2020-03-11",
          "2020-03-12",
          "2020-03-13",
          "2020-03-14",
          "2020-03-15",
          "2020-03-16",
          "2020-03-17",
          "2020-03-18",
          "2020-03-19",
          "2020-03-20",
          "2020-03-21",
          "2020-03-22",
          "2020-03-23",
          "2020-03-24",
          "2020-03-25",
          "2020-03-26",
          "2020-03-27",
          "2020-03-28",
          "2020-03-29",
          "2020-03-30",
          "2020-03-31",
          "2020-04-01",
          "2020-04-02",
          "2020-04-03",
          "2020-04-04",
          "2020-04-05",
          "2020-04-06",
          "2020-04-07",
          "2020-04-08"
         ],
         "legendgroup": "Washington",
         "marker": {
          "color": "#72B7B2",
          "symbol": "circle"
         },
         "mode": "markers",
         "name": "Washington",
         "showlegend": true,
         "type": "scatter",
         "x": [
          "2020-03-01",
          "2020-03-02",
          "2020-03-03",
          "2020-03-04",
          "2020-03-05",
          "2020-03-06",
          "2020-03-07",
          "2020-03-08",
          "2020-03-09",
          "2020-03-10",
          "2020-03-11",
          "2020-03-12",
          "2020-03-13",
          "2020-03-14",
          "2020-03-15",
          "2020-03-16",
          "2020-03-17",
          "2020-03-18",
          "2020-03-19",
          "2020-03-20",
          "2020-03-21",
          "2020-03-22",
          "2020-03-23",
          "2020-03-24",
          "2020-03-25",
          "2020-03-26",
          "2020-03-27",
          "2020-03-28",
          "2020-03-29",
          "2020-03-30",
          "2020-03-31",
          "2020-04-01",
          "2020-04-02",
          "2020-04-03",
          "2020-04-04",
          "2020-04-05",
          "2020-04-06",
          "2020-04-07",
          "2020-04-08"
         ],
         "xaxis": "x",
         "y": [
          17,
          23,
          32,
          47,
          75,
          86,
          110,
          141,
          179,
          279,
          338,
          419,
          511,
          609,
          675,
          794,
          908,
          1026,
          1228,
          1404,
          1655,
          1844,
          2101,
          2469,
          2585,
          3208,
          3770,
          4311,
          4896,
          5179,
          5292,
          5588,
          6585,
          6966,
          7498,
          7984,
          8384,
          8682,
          9097
         ],
         "yaxis": "y"
        }
       ],
       "layout": {
        "legend": {
         "title": {
          "text": "State"
         },
         "tracegroupgap": 0
        },
        "shapes": [
         {
          "line": {
           "color": "#4C78A8",
           "dash": "solid",
           "width": 3
          },
          "type": "line",
          "x0": "2020-03-22",
          "x1": "2020-03-22",
          "xref": "x",
          "y0": 1,
          "y1": 10000,
          "yref": "y"
         },
         {
          "line": {
           "color": "#F58518",
           "dash": "solid",
           "width": 3
          },
          "type": "line",
          "x0": "2020-03-23",
          "x1": "2020-03-23",
          "xref": "x",
          "y0": 1,
          "y1": 10000,
          "yref": "y"
         },
         {
          "line": {
           "color": "#E45756",
           "dash": "solid",
           "width": 3
          },
          "type": "line",
          "x0": "2020-03-30",
          "x1": "2020-03-30",
          "xref": "x",
          "y0": 1,
          "y1": 10000,
          "yref": "y"
         },
         {
          "line": {
           "color": "#72B7B2",
           "dash": "solid",
           "width": 3
          },
          "type": "line",
          "x0": "2020-03-23",
          "x1": "2020-03-23",
          "xref": "x",
          "y0": 1,
          "y1": 10000,
          "yref": "y"
         }
        ],
        "template": {
         "data": {
          "bar": [
           {
            "error_x": {
             "color": "rgb(51,51,51)"
            },
            "error_y": {
             "color": "rgb(51,51,51)"
            },
            "marker": {
             "line": {
              "color": "rgb(237,237,237)",
              "width": 0.5
             }
            },
            "type": "bar"
           }
          ],
          "barpolar": [
           {
            "marker": {
             "line": {
              "color": "rgb(237,237,237)",
              "width": 0.5
             }
            },
            "type": "barpolar"
           }
          ],
          "carpet": [
           {
            "aaxis": {
             "endlinecolor": "rgb(51,51,51)",
             "gridcolor": "white",
             "linecolor": "white",
             "minorgridcolor": "white",
             "startlinecolor": "rgb(51,51,51)"
            },
            "baxis": {
             "endlinecolor": "rgb(51,51,51)",
             "gridcolor": "white",
             "linecolor": "white",
             "minorgridcolor": "white",
             "startlinecolor": "rgb(51,51,51)"
            },
            "type": "carpet"
           }
          ],
          "choropleth": [
           {
            "colorbar": {
             "outlinewidth": 0,
             "tickcolor": "rgb(237,237,237)",
             "ticklen": 6,
             "ticks": "inside"
            },
            "type": "choropleth"
           }
          ],
          "contour": [
           {
            "colorbar": {
             "outlinewidth": 0,
             "tickcolor": "rgb(237,237,237)",
             "ticklen": 6,
             "ticks": "inside"
            },
            "colorscale": [
             [
              0,
              "rgb(20,44,66)"
             ],
             [
              1,
              "rgb(90,179,244)"
             ]
            ],
            "type": "contour"
           }
          ],
          "contourcarpet": [
           {
            "colorbar": {
             "outlinewidth": 0,
             "tickcolor": "rgb(237,237,237)",
             "ticklen": 6,
             "ticks": "inside"
            },
            "type": "contourcarpet"
           }
          ],
          "heatmap": [
           {
            "colorbar": {
             "outlinewidth": 0,
             "tickcolor": "rgb(237,237,237)",
             "ticklen": 6,
             "ticks": "inside"
            },
            "colorscale": [
             [
              0,
              "rgb(20,44,66)"
             ],
             [
              1,
              "rgb(90,179,244)"
             ]
            ],
            "type": "heatmap"
           }
          ],
          "heatmapgl": [
           {
            "colorbar": {
             "outlinewidth": 0,
             "tickcolor": "rgb(237,237,237)",
             "ticklen": 6,
             "ticks": "inside"
            },
            "colorscale": [
             [
              0,
              "rgb(20,44,66)"
             ],
             [
              1,
              "rgb(90,179,244)"
             ]
            ],
            "type": "heatmapgl"
           }
          ],
          "histogram": [
           {
            "marker": {
             "colorbar": {
              "outlinewidth": 0,
              "tickcolor": "rgb(237,237,237)",
              "ticklen": 6,
              "ticks": "inside"
             }
            },
            "type": "histogram"
           }
          ],
          "histogram2d": [
           {
            "colorbar": {
             "outlinewidth": 0,
             "tickcolor": "rgb(237,237,237)",
             "ticklen": 6,
             "ticks": "inside"
            },
            "colorscale": [
             [
              0,
              "rgb(20,44,66)"
             ],
             [
              1,
              "rgb(90,179,244)"
             ]
            ],
            "type": "histogram2d"
           }
          ],
          "histogram2dcontour": [
           {
            "colorbar": {
             "outlinewidth": 0,
             "tickcolor": "rgb(237,237,237)",
             "ticklen": 6,
             "ticks": "inside"
            },
            "colorscale": [
             [
              0,
              "rgb(20,44,66)"
             ],
             [
              1,
              "rgb(90,179,244)"
             ]
            ],
            "type": "histogram2dcontour"
           }
          ],
          "mesh3d": [
           {
            "colorbar": {
             "outlinewidth": 0,
             "tickcolor": "rgb(237,237,237)",
             "ticklen": 6,
             "ticks": "inside"
            },
            "type": "mesh3d"
           }
          ],
          "parcoords": [
           {
            "line": {
             "colorbar": {
              "outlinewidth": 0,
              "tickcolor": "rgb(237,237,237)",
              "ticklen": 6,
              "ticks": "inside"
             }
            },
            "type": "parcoords"
           }
          ],
          "pie": [
           {
            "automargin": true,
            "type": "pie"
           }
          ],
          "scatter": [
           {
            "marker": {
             "colorbar": {
              "outlinewidth": 0,
              "tickcolor": "rgb(237,237,237)",
              "ticklen": 6,
              "ticks": "inside"
             }
            },
            "type": "scatter"
           }
          ],
          "scatter3d": [
           {
            "line": {
             "colorbar": {
              "outlinewidth": 0,
              "tickcolor": "rgb(237,237,237)",
              "ticklen": 6,
              "ticks": "inside"
             }
            },
            "marker": {
             "colorbar": {
              "outlinewidth": 0,
              "tickcolor": "rgb(237,237,237)",
              "ticklen": 6,
              "ticks": "inside"
             }
            },
            "type": "scatter3d"
           }
          ],
          "scattercarpet": [
           {
            "marker": {
             "colorbar": {
              "outlinewidth": 0,
              "tickcolor": "rgb(237,237,237)",
              "ticklen": 6,
              "ticks": "inside"
             }
            },
            "type": "scattercarpet"
           }
          ],
          "scattergeo": [
           {
            "marker": {
             "colorbar": {
              "outlinewidth": 0,
              "tickcolor": "rgb(237,237,237)",
              "ticklen": 6,
              "ticks": "inside"
             }
            },
            "type": "scattergeo"
           }
          ],
          "scattergl": [
           {
            "marker": {
             "colorbar": {
              "outlinewidth": 0,
              "tickcolor": "rgb(237,237,237)",
              "ticklen": 6,
              "ticks": "inside"
             }
            },
            "type": "scattergl"
           }
          ],
          "scattermapbox": [
           {
            "marker": {
             "colorbar": {
              "outlinewidth": 0,
              "tickcolor": "rgb(237,237,237)",
              "ticklen": 6,
              "ticks": "inside"
             }
            },
            "type": "scattermapbox"
           }
          ],
          "scatterpolar": [
           {
            "marker": {
             "colorbar": {
              "outlinewidth": 0,
              "tickcolor": "rgb(237,237,237)",
              "ticklen": 6,
              "ticks": "inside"
             }
            },
            "type": "scatterpolar"
           }
          ],
          "scatterpolargl": [
           {
            "marker": {
             "colorbar": {
              "outlinewidth": 0,
              "tickcolor": "rgb(237,237,237)",
              "ticklen": 6,
              "ticks": "inside"
             }
            },
            "type": "scatterpolargl"
           }
          ],
          "scatterternary": [
           {
            "marker": {
             "colorbar": {
              "outlinewidth": 0,
              "tickcolor": "rgb(237,237,237)",
              "ticklen": 6,
              "ticks": "inside"
             }
            },
            "type": "scatterternary"
           }
          ],
          "surface": [
           {
            "colorbar": {
             "outlinewidth": 0,
             "tickcolor": "rgb(237,237,237)",
             "ticklen": 6,
             "ticks": "inside"
            },
            "colorscale": [
             [
              0,
              "rgb(20,44,66)"
             ],
             [
              1,
              "rgb(90,179,244)"
             ]
            ],
            "type": "surface"
           }
          ],
          "table": [
           {
            "cells": {
             "fill": {
              "color": "rgb(237,237,237)"
             },
             "line": {
              "color": "white"
             }
            },
            "header": {
             "fill": {
              "color": "rgb(217,217,217)"
             },
             "line": {
              "color": "white"
             }
            },
            "type": "table"
           }
          ]
         },
         "layout": {
          "annotationdefaults": {
           "arrowhead": 0,
           "arrowwidth": 1
          },
          "coloraxis": {
           "colorbar": {
            "outlinewidth": 0,
            "tickcolor": "rgb(237,237,237)",
            "ticklen": 6,
            "ticks": "inside"
           }
          },
          "colorscale": {
           "sequential": [
            [
             0,
             "rgb(20,44,66)"
            ],
            [
             1,
             "rgb(90,179,244)"
            ]
           ],
           "sequentialminus": [
            [
             0,
             "rgb(20,44,66)"
            ],
            [
             1,
             "rgb(90,179,244)"
            ]
           ]
          },
          "colorway": [
           "#F8766D",
           "#A3A500",
           "#00BF7D",
           "#00B0F6",
           "#E76BF3"
          ],
          "font": {
           "color": "rgb(51,51,51)"
          },
          "geo": {
           "bgcolor": "white",
           "lakecolor": "white",
           "landcolor": "rgb(237,237,237)",
           "showlakes": true,
           "showland": true,
           "subunitcolor": "white"
          },
          "hoverlabel": {
           "align": "left"
          },
          "hovermode": "closest",
          "paper_bgcolor": "white",
          "plot_bgcolor": "rgb(237,237,237)",
          "polar": {
           "angularaxis": {
            "gridcolor": "white",
            "linecolor": "white",
            "showgrid": true,
            "tickcolor": "rgb(51,51,51)",
            "ticks": "outside"
           },
           "bgcolor": "rgb(237,237,237)",
           "radialaxis": {
            "gridcolor": "white",
            "linecolor": "white",
            "showgrid": true,
            "tickcolor": "rgb(51,51,51)",
            "ticks": "outside"
           }
          },
          "scene": {
           "xaxis": {
            "backgroundcolor": "rgb(237,237,237)",
            "gridcolor": "white",
            "gridwidth": 2,
            "linecolor": "white",
            "showbackground": true,
            "showgrid": true,
            "tickcolor": "rgb(51,51,51)",
            "ticks": "outside",
            "zerolinecolor": "white"
           },
           "yaxis": {
            "backgroundcolor": "rgb(237,237,237)",
            "gridcolor": "white",
            "gridwidth": 2,
            "linecolor": "white",
            "showbackground": true,
            "showgrid": true,
            "tickcolor": "rgb(51,51,51)",
            "ticks": "outside",
            "zerolinecolor": "white"
           },
           "zaxis": {
            "backgroundcolor": "rgb(237,237,237)",
            "gridcolor": "white",
            "gridwidth": 2,
            "linecolor": "white",
            "showbackground": true,
            "showgrid": true,
            "tickcolor": "rgb(51,51,51)",
            "ticks": "outside",
            "zerolinecolor": "white"
           }
          },
          "shapedefaults": {
           "fillcolor": "black",
           "line": {
            "width": 0
           },
           "opacity": 0.3
          },
          "ternary": {
           "aaxis": {
            "gridcolor": "white",
            "linecolor": "white",
            "showgrid": true,
            "tickcolor": "rgb(51,51,51)",
            "ticks": "outside"
           },
           "baxis": {
            "gridcolor": "white",
            "linecolor": "white",
            "showgrid": true,
            "tickcolor": "rgb(51,51,51)",
            "ticks": "outside"
           },
           "bgcolor": "rgb(237,237,237)",
           "caxis": {
            "gridcolor": "white",
            "linecolor": "white",
            "showgrid": true,
            "tickcolor": "rgb(51,51,51)",
            "ticks": "outside"
           }
          },
          "xaxis": {
           "automargin": true,
           "gridcolor": "white",
           "linecolor": "white",
           "showgrid": true,
           "tickcolor": "rgb(51,51,51)",
           "ticks": "outside",
           "title": {
            "standoff": 15
           },
           "zerolinecolor": "white"
          },
          "yaxis": {
           "automargin": true,
           "gridcolor": "white",
           "linecolor": "white",
           "showgrid": true,
           "tickcolor": "rgb(51,51,51)",
           "ticks": "outside",
           "title": {
            "standoff": 15
           },
           "zerolinecolor": "white"
          }
         }
        },
        "title": {
         "text": "Confirmed Cases in Select States"
        },
        "xaxis": {
         "anchor": "y",
         "domain": [
          0,
          1
         ],
         "title": {
          "text": "Date"
         }
        },
        "yaxis": {
         "anchor": "x",
         "domain": [
          0,
          1
         ],
         "title": {
          "text": "Confirmed"
         },
         "type": "log"
        }
       }
      },
      "text/html": [
       "<div>\n",
       "        \n",
       "        \n",
       "            <div id=\"f5888436-73ab-47d3-ac3d-e50ba312b4e3\" class=\"plotly-graph-div\" style=\"height:525px; width:100%;\"></div>\n",
       "            <script type=\"text/javascript\">\n",
       "                require([\"plotly\"], function(Plotly) {\n",
       "                    window.PLOTLYENV=window.PLOTLYENV || {};\n",
       "                    \n",
       "                if (document.getElementById(\"f5888436-73ab-47d3-ac3d-e50ba312b4e3\")) {\n",
       "                    Plotly.newPlot(\n",
       "                        'f5888436-73ab-47d3-ac3d-e50ba312b4e3',\n",
       "                        [{\"customdata\": [[5.0, 11.0, 6.0], [4.0, 15.0, 7.0], [8.0, 23.0, 8.0], [6.0, 29.0, 9.0], [21.0, 50.0, 10.0], [25.0, 75.0, 11.0], [23.0, 98.0, 12.0], [78.0, 176.0, 13.0], [92.0, 268.0, 14.0], [159.0, 427.0, 15.0], [308.0, 735.0, 16.0], [161.0, 896.0, 17.0], [440.0, 1336.0, 18.0], [578.0, 1914.0, 19.0], [930.0, 2844.0, 20.0], [831.0, 3675.0, 21.0], [727.0, 4402.0, 22.0], [2474.0, 6876.0, 23.0], [1949.0, 8825.0, 24.0], [2299.0, 11124.0, 25.0], [2262.0, 13386.0, 26.0], [3250.0, 16636.0, 27.0], [2060.0, 18696.0, 28.0], [3559.0, 22255.0, 29.0], [3335.0, 25590.0, 30.0], [4305.0, 29895.0, 31.0], [4229.0, 34124.0, 32.0], [3381.0, 37505.0, 33.0], [3585.0, 41090.0, 34.0], [3326.0, 44416.0, 35.0], [3021.0, 47437.0, 36.0]], \"hovertemplate\": \"<b>%{hovertext}</b><br><br>State=New Jersey<br>Date=%{x}<br>Confirmed=%{customdata[1]}<br>NewConfirmed=%{customdata[0]}<br>DaysElapsed=%{customdata[2]}<extra></extra>\", \"hovertext\": [\"2020-03-09\", \"2020-03-10\", \"2020-03-11\", \"2020-03-12\", \"2020-03-13\", \"2020-03-14\", \"2020-03-15\", \"2020-03-16\", \"2020-03-17\", \"2020-03-18\", \"2020-03-19\", \"2020-03-20\", \"2020-03-21\", \"2020-03-22\", \"2020-03-23\", \"2020-03-24\", \"2020-03-25\", \"2020-03-26\", \"2020-03-27\", \"2020-03-28\", \"2020-03-29\", \"2020-03-30\", \"2020-03-31\", \"2020-04-01\", \"2020-04-02\", \"2020-04-03\", \"2020-04-04\", \"2020-04-05\", \"2020-04-06\", \"2020-04-07\", \"2020-04-08\"], \"legendgroup\": \"New Jersey\", \"marker\": {\"color\": \"#4C78A8\", \"symbol\": \"circle\"}, \"mode\": \"markers\", \"name\": \"New Jersey\", \"showlegend\": true, \"type\": \"scatter\", \"x\": [\"2020-03-09\", \"2020-03-10\", \"2020-03-11\", \"2020-03-12\", \"2020-03-13\", \"2020-03-14\", \"2020-03-15\", \"2020-03-16\", \"2020-03-17\", \"2020-03-18\", \"2020-03-19\", \"2020-03-20\", \"2020-03-21\", \"2020-03-22\", \"2020-03-23\", \"2020-03-24\", \"2020-03-25\", \"2020-03-26\", \"2020-03-27\", \"2020-03-28\", \"2020-03-29\", \"2020-03-30\", \"2020-03-31\", \"2020-04-01\", \"2020-04-02\", \"2020-04-03\", \"2020-04-04\", \"2020-04-05\", \"2020-04-06\", \"2020-04-07\", \"2020-04-08\"], \"xaxis\": \"x\", \"y\": [11, 15, 23, 29, 50, 75, 98, 176, 268, 427, 735, 896, 1336, 1914, 2844, 3675, 4402, 6876, 8825, 11124, 13386, 16636, 18696, 22255, 25590, 29895, 34124, 37505, 41090, 44416, 47437], \"yaxis\": \"y\"}, {\"customdata\": [[9.0, 11.0, 4.0], [11.0, 22.0, 5.0], [22.0, 44.0, 6.0], [45.0, 89.0, 7.0], [17.0, 106.0, 8.0], [36.0, 142.0, 9.0], [31.0, 173.0, 10.0], [44.0, 217.0, 11.0], [109.0, 326.0, 12.0], [95.0, 421.0, 13.0], [189.0, 610.0, 14.0], [122.0, 732.0, 15.0], [218.0, 950.0, 16.0], [424.0, 1374.0, 17.0], [1008.0, 2382.0, 18.0], [1770.0, 4152.0, 19.0], [2950.0, 7102.0, 20.0], [3254.0, 10356.0, 21.0], [4812.0, 15168.0, 22.0], [5707.0, 20875.0, 23.0], [4790.0, 25665.0, 24.0], [7401.0, 33066.0, 25.0], [5921.0, 38987.0, 26.0], [5648.0, 44635.0, 27.0], [8728.0, 53363.0, 28.0], [6205.0, 59568.0, 29.0], [7606.0, 67174.0, 30.0], [8658.0, 75832.0, 31.0], [8057.0, 83889.0, 32.0], [8881.0, 92770.0, 33.0], [10100.0, 102870.0, 34.0], [12126.0, 114996.0, 35.0], [7915.0, 122911.0, 36.0], [7792.0, 130703.0, 37.0], [9378.0, 140081.0, 38.0], [9320.0, 149401.0, 39.0]], \"hovertemplate\": \"<b>%{hovertext}</b><br><br>State=New York<br>Date=%{x}<br>Confirmed=%{customdata[1]}<br>NewConfirmed=%{customdata[0]}<br>DaysElapsed=%{customdata[2]}<extra></extra>\", \"hovertext\": [\"2020-03-04\", \"2020-03-05\", \"2020-03-06\", \"2020-03-07\", \"2020-03-08\", \"2020-03-09\", \"2020-03-10\", \"2020-03-11\", \"2020-03-12\", \"2020-03-13\", \"2020-03-14\", \"2020-03-15\", \"2020-03-16\", \"2020-03-17\", \"2020-03-18\", \"2020-03-19\", \"2020-03-20\", \"2020-03-21\", \"2020-03-22\", \"2020-03-23\", \"2020-03-24\", \"2020-03-25\", \"2020-03-26\", \"2020-03-27\", \"2020-03-28\", \"2020-03-29\", \"2020-03-30\", \"2020-03-31\", \"2020-04-01\", \"2020-04-02\", \"2020-04-03\", \"2020-04-04\", \"2020-04-05\", \"2020-04-06\", \"2020-04-07\", \"2020-04-08\"], \"legendgroup\": \"New York\", \"marker\": {\"color\": \"#F58518\", \"symbol\": \"circle\"}, \"mode\": \"markers\", \"name\": \"New York\", \"showlegend\": true, \"type\": \"scatter\", \"x\": [\"2020-03-04\", \"2020-03-05\", \"2020-03-06\", \"2020-03-07\", \"2020-03-08\", \"2020-03-09\", \"2020-03-10\", \"2020-03-11\", \"2020-03-12\", \"2020-03-13\", \"2020-03-14\", \"2020-03-15\", \"2020-03-16\", \"2020-03-17\", \"2020-03-18\", \"2020-03-19\", \"2020-03-20\", \"2020-03-21\", \"2020-03-22\", \"2020-03-23\", \"2020-03-24\", \"2020-03-25\", \"2020-03-26\", \"2020-03-27\", \"2020-03-28\", \"2020-03-29\", \"2020-03-30\", \"2020-03-31\", \"2020-04-01\", \"2020-04-02\", \"2020-04-03\", \"2020-04-04\", \"2020-04-05\", \"2020-04-06\", \"2020-04-07\", \"2020-04-08\"], \"xaxis\": \"x\", \"y\": [11, 22, 44, 89, 106, 142, 173, 217, 326, 421, 610, 732, 950, 1374, 2382, 4152, 7102, 10356, 15168, 20875, 25665, 33066, 38987, 44635, 53363, 59568, 67174, 75832, 83889, 92770, 102870, 114996, 122911, 130703, 140081, 149401], \"yaxis\": \"y\"}, {\"customdata\": [[7.0, 17.0, 6.0], [13.0, 30.0, 7.0], [12.0, 42.0, 8.0], [3.0, 45.0, 9.0], [6.0, 51.0, 10.0], [16.0, 67.0, 11.0], [11.0, 78.0, 12.0], [16.0, 94.0, 13.0], [21.0, 115.0, 14.0], [37.0, 152.0, 15.0], [67.0, 219.0, 16.0], [35.0, 254.0, 17.0], [36.0, 290.0, 18.0], [101.0, 391.0, 19.0], [213.0, 604.0, 20.0], [2.0, 606.0, 21.0], [134.0, 740.0, 22.0], [150.0, 890.0, 23.0], [131.0, 1021.0, 24.0], [229.0, 1250.0, 25.0], [261.0, 1511.0, 26.0], [195.0, 1706.0, 27.0], [306.0, 2012.0, 28.0], [395.0, 2407.0, 29.0], [230.0, 2637.0, 30.0], [241.0, 2878.0, 31.0], [455.0, 3333.0, 32.0], [312.0, 3645.0, 33.0]], \"hovertemplate\": \"<b>%{hovertext}</b><br><br>State=Virginia<br>Date=%{x}<br>Confirmed=%{customdata[1]}<br>NewConfirmed=%{customdata[0]}<br>DaysElapsed=%{customdata[2]}<extra></extra>\", \"hovertext\": [\"2020-03-12\", \"2020-03-13\", \"2020-03-14\", \"2020-03-15\", \"2020-03-16\", \"2020-03-17\", \"2020-03-18\", \"2020-03-19\", \"2020-03-20\", \"2020-03-21\", \"2020-03-22\", \"2020-03-23\", \"2020-03-24\", \"2020-03-25\", \"2020-03-26\", \"2020-03-27\", \"2020-03-28\", \"2020-03-29\", \"2020-03-30\", \"2020-03-31\", \"2020-04-01\", \"2020-04-02\", \"2020-04-03\", \"2020-04-04\", \"2020-04-05\", \"2020-04-06\", \"2020-04-07\", \"2020-04-08\"], \"legendgroup\": \"Virginia\", \"marker\": {\"color\": \"#E45756\", \"symbol\": \"circle\"}, \"mode\": \"markers\", \"name\": \"Virginia\", \"showlegend\": true, \"type\": \"scatter\", \"x\": [\"2020-03-12\", \"2020-03-13\", \"2020-03-14\", \"2020-03-15\", \"2020-03-16\", \"2020-03-17\", \"2020-03-18\", \"2020-03-19\", \"2020-03-20\", \"2020-03-21\", \"2020-03-22\", \"2020-03-23\", \"2020-03-24\", \"2020-03-25\", \"2020-03-26\", \"2020-03-27\", \"2020-03-28\", \"2020-03-29\", \"2020-03-30\", \"2020-03-31\", \"2020-04-01\", \"2020-04-02\", \"2020-04-03\", \"2020-04-04\", \"2020-04-05\", \"2020-04-06\", \"2020-04-07\", \"2020-04-08\"], \"xaxis\": \"x\", \"y\": [17, 30, 42, 45, 51, 67, 78, 94, 115, 152, 219, 254, 290, 391, 604, 606, 740, 890, 1021, 1250, 1511, 1706, 2012, 2407, 2637, 2878, 3333, 3645], \"yaxis\": \"y\"}, {\"customdata\": [[7.0, 17.0, 41.0], [6.0, 23.0, 42.0], [9.0, 32.0, 43.0], [15.0, 47.0, 44.0], [28.0, 75.0, 45.0], [11.0, 86.0, 46.0], [24.0, 110.0, 47.0], [31.0, 141.0, 48.0], [38.0, 179.0, 49.0], [100.0, 279.0, 50.0], [59.0, 338.0, 51.0], [81.0, 419.0, 52.0], [92.0, 511.0, 53.0], [98.0, 609.0, 54.0], [66.0, 675.0, 55.0], [119.0, 794.0, 56.0], [114.0, 908.0, 57.0], [118.0, 1026.0, 58.0], [202.0, 1228.0, 59.0], [176.0, 1404.0, 60.0], [251.0, 1655.0, 61.0], [189.0, 1844.0, 62.0], [257.0, 2101.0, 63.0], [368.0, 2469.0, 64.0], [116.0, 2585.0, 65.0], [623.0, 3208.0, 66.0], [562.0, 3770.0, 67.0], [541.0, 4311.0, 68.0], [585.0, 4896.0, 69.0], [283.0, 5179.0, 70.0], [113.0, 5292.0, 71.0], [296.0, 5588.0, 72.0], [997.0, 6585.0, 73.0], [381.0, 6966.0, 74.0], [532.0, 7498.0, 75.0], [486.0, 7984.0, 76.0], [400.0, 8384.0, 77.0], [298.0, 8682.0, 78.0], [415.0, 9097.0, 79.0]], \"hovertemplate\": \"<b>%{hovertext}</b><br><br>State=Washington<br>Date=%{x}<br>Confirmed=%{customdata[1]}<br>NewConfirmed=%{customdata[0]}<br>DaysElapsed=%{customdata[2]}<extra></extra>\", \"hovertext\": [\"2020-03-01\", \"2020-03-02\", \"2020-03-03\", \"2020-03-04\", \"2020-03-05\", \"2020-03-06\", \"2020-03-07\", \"2020-03-08\", \"2020-03-09\", \"2020-03-10\", \"2020-03-11\", \"2020-03-12\", \"2020-03-13\", \"2020-03-14\", \"2020-03-15\", \"2020-03-16\", \"2020-03-17\", \"2020-03-18\", \"2020-03-19\", \"2020-03-20\", \"2020-03-21\", \"2020-03-22\", \"2020-03-23\", \"2020-03-24\", \"2020-03-25\", \"2020-03-26\", \"2020-03-27\", \"2020-03-28\", \"2020-03-29\", \"2020-03-30\", \"2020-03-31\", \"2020-04-01\", \"2020-04-02\", \"2020-04-03\", \"2020-04-04\", \"2020-04-05\", \"2020-04-06\", \"2020-04-07\", \"2020-04-08\"], \"legendgroup\": \"Washington\", \"marker\": {\"color\": \"#72B7B2\", \"symbol\": \"circle\"}, \"mode\": \"markers\", \"name\": \"Washington\", \"showlegend\": true, \"type\": \"scatter\", \"x\": [\"2020-03-01\", \"2020-03-02\", \"2020-03-03\", \"2020-03-04\", \"2020-03-05\", \"2020-03-06\", \"2020-03-07\", \"2020-03-08\", \"2020-03-09\", \"2020-03-10\", \"2020-03-11\", \"2020-03-12\", \"2020-03-13\", \"2020-03-14\", \"2020-03-15\", \"2020-03-16\", \"2020-03-17\", \"2020-03-18\", \"2020-03-19\", \"2020-03-20\", \"2020-03-21\", \"2020-03-22\", \"2020-03-23\", \"2020-03-24\", \"2020-03-25\", \"2020-03-26\", \"2020-03-27\", \"2020-03-28\", \"2020-03-29\", \"2020-03-30\", \"2020-03-31\", \"2020-04-01\", \"2020-04-02\", \"2020-04-03\", \"2020-04-04\", \"2020-04-05\", \"2020-04-06\", \"2020-04-07\", \"2020-04-08\"], \"xaxis\": \"x\", \"y\": [17, 23, 32, 47, 75, 86, 110, 141, 179, 279, 338, 419, 511, 609, 675, 794, 908, 1026, 1228, 1404, 1655, 1844, 2101, 2469, 2585, 3208, 3770, 4311, 4896, 5179, 5292, 5588, 6585, 6966, 7498, 7984, 8384, 8682, 9097], \"yaxis\": \"y\"}],\n",
       "                        {\"legend\": {\"title\": {\"text\": \"State\"}, \"tracegroupgap\": 0}, \"shapes\": [{\"line\": {\"color\": \"#4C78A8\", \"dash\": \"solid\", \"width\": 3}, \"type\": \"line\", \"x0\": \"2020-03-22\", \"x1\": \"2020-03-22\", \"xref\": \"x\", \"y0\": 1, \"y1\": 10000, \"yref\": \"y\"}, {\"line\": {\"color\": \"#F58518\", \"dash\": \"solid\", \"width\": 3}, \"type\": \"line\", \"x0\": \"2020-03-23\", \"x1\": \"2020-03-23\", \"xref\": \"x\", \"y0\": 1, \"y1\": 10000, \"yref\": \"y\"}, {\"line\": {\"color\": \"#E45756\", \"dash\": \"solid\", \"width\": 3}, \"type\": \"line\", \"x0\": \"2020-03-30\", \"x1\": \"2020-03-30\", \"xref\": \"x\", \"y0\": 1, \"y1\": 10000, \"yref\": \"y\"}, {\"line\": {\"color\": \"#72B7B2\", \"dash\": \"solid\", \"width\": 3}, \"type\": \"line\", \"x0\": \"2020-03-23\", \"x1\": \"2020-03-23\", \"xref\": \"x\", \"y0\": 1, \"y1\": 10000, \"yref\": \"y\"}], \"template\": {\"data\": {\"bar\": [{\"error_x\": {\"color\": \"rgb(51,51,51)\"}, \"error_y\": {\"color\": \"rgb(51,51,51)\"}, \"marker\": {\"line\": {\"color\": \"rgb(237,237,237)\", \"width\": 0.5}}, \"type\": \"bar\"}], \"barpolar\": [{\"marker\": {\"line\": {\"color\": \"rgb(237,237,237)\", \"width\": 0.5}}, \"type\": \"barpolar\"}], \"carpet\": [{\"aaxis\": {\"endlinecolor\": \"rgb(51,51,51)\", \"gridcolor\": \"white\", \"linecolor\": \"white\", \"minorgridcolor\": \"white\", \"startlinecolor\": \"rgb(51,51,51)\"}, \"baxis\": {\"endlinecolor\": \"rgb(51,51,51)\", \"gridcolor\": \"white\", \"linecolor\": \"white\", \"minorgridcolor\": \"white\", \"startlinecolor\": \"rgb(51,51,51)\"}, \"type\": \"carpet\"}], \"choropleth\": [{\"colorbar\": {\"outlinewidth\": 0, \"tickcolor\": \"rgb(237,237,237)\", \"ticklen\": 6, \"ticks\": \"inside\"}, \"type\": \"choropleth\"}], \"contour\": [{\"colorbar\": {\"outlinewidth\": 0, \"tickcolor\": \"rgb(237,237,237)\", \"ticklen\": 6, \"ticks\": \"inside\"}, \"colorscale\": [[0, \"rgb(20,44,66)\"], [1, \"rgb(90,179,244)\"]], \"type\": \"contour\"}], \"contourcarpet\": [{\"colorbar\": {\"outlinewidth\": 0, \"tickcolor\": \"rgb(237,237,237)\", \"ticklen\": 6, \"ticks\": \"inside\"}, \"type\": \"contourcarpet\"}], \"heatmap\": [{\"colorbar\": {\"outlinewidth\": 0, \"tickcolor\": \"rgb(237,237,237)\", \"ticklen\": 6, \"ticks\": \"inside\"}, \"colorscale\": [[0, \"rgb(20,44,66)\"], [1, \"rgb(90,179,244)\"]], \"type\": \"heatmap\"}], \"heatmapgl\": [{\"colorbar\": {\"outlinewidth\": 0, \"tickcolor\": \"rgb(237,237,237)\", \"ticklen\": 6, \"ticks\": \"inside\"}, \"colorscale\": [[0, \"rgb(20,44,66)\"], [1, \"rgb(90,179,244)\"]], \"type\": \"heatmapgl\"}], \"histogram\": [{\"marker\": {\"colorbar\": {\"outlinewidth\": 0, \"tickcolor\": \"rgb(237,237,237)\", \"ticklen\": 6, \"ticks\": \"inside\"}}, \"type\": \"histogram\"}], \"histogram2d\": [{\"colorbar\": {\"outlinewidth\": 0, \"tickcolor\": \"rgb(237,237,237)\", \"ticklen\": 6, \"ticks\": \"inside\"}, \"colorscale\": [[0, \"rgb(20,44,66)\"], [1, \"rgb(90,179,244)\"]], \"type\": \"histogram2d\"}], \"histogram2dcontour\": [{\"colorbar\": {\"outlinewidth\": 0, \"tickcolor\": \"rgb(237,237,237)\", \"ticklen\": 6, \"ticks\": \"inside\"}, \"colorscale\": [[0, \"rgb(20,44,66)\"], [1, \"rgb(90,179,244)\"]], \"type\": \"histogram2dcontour\"}], \"mesh3d\": [{\"colorbar\": {\"outlinewidth\": 0, \"tickcolor\": \"rgb(237,237,237)\", \"ticklen\": 6, \"ticks\": \"inside\"}, \"type\": \"mesh3d\"}], \"parcoords\": [{\"line\": {\"colorbar\": {\"outlinewidth\": 0, \"tickcolor\": \"rgb(237,237,237)\", \"ticklen\": 6, \"ticks\": \"inside\"}}, \"type\": \"parcoords\"}], \"pie\": [{\"automargin\": true, \"type\": \"pie\"}], \"scatter\": [{\"marker\": {\"colorbar\": {\"outlinewidth\": 0, \"tickcolor\": \"rgb(237,237,237)\", \"ticklen\": 6, \"ticks\": \"inside\"}}, \"type\": \"scatter\"}], \"scatter3d\": [{\"line\": {\"colorbar\": {\"outlinewidth\": 0, \"tickcolor\": \"rgb(237,237,237)\", \"ticklen\": 6, \"ticks\": \"inside\"}}, \"marker\": {\"colorbar\": {\"outlinewidth\": 0, \"tickcolor\": \"rgb(237,237,237)\", \"ticklen\": 6, \"ticks\": \"inside\"}}, \"type\": \"scatter3d\"}], \"scattercarpet\": [{\"marker\": {\"colorbar\": {\"outlinewidth\": 0, \"tickcolor\": \"rgb(237,237,237)\", \"ticklen\": 6, \"ticks\": \"inside\"}}, \"type\": \"scattercarpet\"}], \"scattergeo\": [{\"marker\": {\"colorbar\": {\"outlinewidth\": 0, \"tickcolor\": \"rgb(237,237,237)\", \"ticklen\": 6, \"ticks\": \"inside\"}}, \"type\": \"scattergeo\"}], \"scattergl\": [{\"marker\": {\"colorbar\": {\"outlinewidth\": 0, \"tickcolor\": \"rgb(237,237,237)\", \"ticklen\": 6, \"ticks\": \"inside\"}}, \"type\": \"scattergl\"}], \"scattermapbox\": [{\"marker\": {\"colorbar\": {\"outlinewidth\": 0, \"tickcolor\": \"rgb(237,237,237)\", \"ticklen\": 6, \"ticks\": \"inside\"}}, \"type\": \"scattermapbox\"}], \"scatterpolar\": [{\"marker\": {\"colorbar\": {\"outlinewidth\": 0, \"tickcolor\": \"rgb(237,237,237)\", \"ticklen\": 6, \"ticks\": \"inside\"}}, \"type\": \"scatterpolar\"}], \"scatterpolargl\": [{\"marker\": {\"colorbar\": {\"outlinewidth\": 0, \"tickcolor\": \"rgb(237,237,237)\", \"ticklen\": 6, \"ticks\": \"inside\"}}, \"type\": \"scatterpolargl\"}], \"scatterternary\": [{\"marker\": {\"colorbar\": {\"outlinewidth\": 0, \"tickcolor\": \"rgb(237,237,237)\", \"ticklen\": 6, \"ticks\": \"inside\"}}, \"type\": \"scatterternary\"}], \"surface\": [{\"colorbar\": {\"outlinewidth\": 0, \"tickcolor\": \"rgb(237,237,237)\", \"ticklen\": 6, \"ticks\": \"inside\"}, \"colorscale\": [[0, \"rgb(20,44,66)\"], [1, \"rgb(90,179,244)\"]], \"type\": \"surface\"}], \"table\": [{\"cells\": {\"fill\": {\"color\": \"rgb(237,237,237)\"}, \"line\": {\"color\": \"white\"}}, \"header\": {\"fill\": {\"color\": \"rgb(217,217,217)\"}, \"line\": {\"color\": \"white\"}}, \"type\": \"table\"}]}, \"layout\": {\"annotationdefaults\": {\"arrowhead\": 0, \"arrowwidth\": 1}, \"coloraxis\": {\"colorbar\": {\"outlinewidth\": 0, \"tickcolor\": \"rgb(237,237,237)\", \"ticklen\": 6, \"ticks\": \"inside\"}}, \"colorscale\": {\"sequential\": [[0, \"rgb(20,44,66)\"], [1, \"rgb(90,179,244)\"]], \"sequentialminus\": [[0, \"rgb(20,44,66)\"], [1, \"rgb(90,179,244)\"]]}, \"colorway\": [\"#F8766D\", \"#A3A500\", \"#00BF7D\", \"#00B0F6\", \"#E76BF3\"], \"font\": {\"color\": \"rgb(51,51,51)\"}, \"geo\": {\"bgcolor\": \"white\", \"lakecolor\": \"white\", \"landcolor\": \"rgb(237,237,237)\", \"showlakes\": true, \"showland\": true, \"subunitcolor\": \"white\"}, \"hoverlabel\": {\"align\": \"left\"}, \"hovermode\": \"closest\", \"paper_bgcolor\": \"white\", \"plot_bgcolor\": \"rgb(237,237,237)\", \"polar\": {\"angularaxis\": {\"gridcolor\": \"white\", \"linecolor\": \"white\", \"showgrid\": true, \"tickcolor\": \"rgb(51,51,51)\", \"ticks\": \"outside\"}, \"bgcolor\": \"rgb(237,237,237)\", \"radialaxis\": {\"gridcolor\": \"white\", \"linecolor\": \"white\", \"showgrid\": true, \"tickcolor\": \"rgb(51,51,51)\", \"ticks\": \"outside\"}}, \"scene\": {\"xaxis\": {\"backgroundcolor\": \"rgb(237,237,237)\", \"gridcolor\": \"white\", \"gridwidth\": 2, \"linecolor\": \"white\", \"showbackground\": true, \"showgrid\": true, \"tickcolor\": \"rgb(51,51,51)\", \"ticks\": \"outside\", \"zerolinecolor\": \"white\"}, \"yaxis\": {\"backgroundcolor\": \"rgb(237,237,237)\", \"gridcolor\": \"white\", \"gridwidth\": 2, \"linecolor\": \"white\", \"showbackground\": true, \"showgrid\": true, \"tickcolor\": \"rgb(51,51,51)\", \"ticks\": \"outside\", \"zerolinecolor\": \"white\"}, \"zaxis\": {\"backgroundcolor\": \"rgb(237,237,237)\", \"gridcolor\": \"white\", \"gridwidth\": 2, \"linecolor\": \"white\", \"showbackground\": true, \"showgrid\": true, \"tickcolor\": \"rgb(51,51,51)\", \"ticks\": \"outside\", \"zerolinecolor\": \"white\"}}, \"shapedefaults\": {\"fillcolor\": \"black\", \"line\": {\"width\": 0}, \"opacity\": 0.3}, \"ternary\": {\"aaxis\": {\"gridcolor\": \"white\", \"linecolor\": \"white\", \"showgrid\": true, \"tickcolor\": \"rgb(51,51,51)\", \"ticks\": \"outside\"}, \"baxis\": {\"gridcolor\": \"white\", \"linecolor\": \"white\", \"showgrid\": true, \"tickcolor\": \"rgb(51,51,51)\", \"ticks\": \"outside\"}, \"bgcolor\": \"rgb(237,237,237)\", \"caxis\": {\"gridcolor\": \"white\", \"linecolor\": \"white\", \"showgrid\": true, \"tickcolor\": \"rgb(51,51,51)\", \"ticks\": \"outside\"}}, \"xaxis\": {\"automargin\": true, \"gridcolor\": \"white\", \"linecolor\": \"white\", \"showgrid\": true, \"tickcolor\": \"rgb(51,51,51)\", \"ticks\": \"outside\", \"title\": {\"standoff\": 15}, \"zerolinecolor\": \"white\"}, \"yaxis\": {\"automargin\": true, \"gridcolor\": \"white\", \"linecolor\": \"white\", \"showgrid\": true, \"tickcolor\": \"rgb(51,51,51)\", \"ticks\": \"outside\", \"title\": {\"standoff\": 15}, \"zerolinecolor\": \"white\"}}}, \"title\": {\"text\": \"Confirmed Cases in Select States\"}, \"xaxis\": {\"anchor\": \"y\", \"domain\": [0.0, 1.0], \"title\": {\"text\": \"Date\"}}, \"yaxis\": {\"anchor\": \"x\", \"domain\": [0.0, 1.0], \"title\": {\"text\": \"Confirmed\"}, \"type\": \"log\"}},\n",
       "                        {\"responsive\": true}\n",
       "                    ).then(function(){\n",
       "                            \n",
       "var gd = document.getElementById('f5888436-73ab-47d3-ac3d-e50ba312b4e3');\n",
       "var x = new MutationObserver(function (mutations, observer) {{\n",
       "        var display = window.getComputedStyle(gd).display;\n",
       "        if (!display || display === 'none') {{\n",
       "            console.log([gd, 'removed!']);\n",
       "            Plotly.purge(gd);\n",
       "            observer.disconnect();\n",
       "        }}\n",
       "}});\n",
       "\n",
       "// Listen for the removal of the full notebook cells\n",
       "var notebookContainer = gd.closest('#notebook-container');\n",
       "if (notebookContainer) {{\n",
       "    x.observe(notebookContainer, {childList: true});\n",
       "}}\n",
       "\n",
       "// Listen for the clearing of the current output cell\n",
       "var outputEl = gd.closest('.output');\n",
       "if (outputEl) {{\n",
       "    x.observe(outputEl, {childList: true});\n",
       "}}\n",
       "\n",
       "                        })\n",
       "                };\n",
       "                });\n",
       "            </script>\n",
       "        </div>"
      ]
     },
     "metadata": {},
     "output_type": "display_data"
    }
   ],
   "source": [
    "states = ['New York', 'New Jersey', 'Washington', 'Virginia']\n",
    "fig =px.scatter(data_frame=df_state[df_state.State.isin(states)].loc[df_state.Confirmed > 10], \n",
    "                x='Date', y='Confirmed', color='State',\n",
    "                log_x=False,log_y=True, labels={'y':'Daily New Cases', 'x':'Cumulative Confirmed Cases'},\n",
    "                hover_name='Date', hover_data=['NewConfirmed','Confirmed','DaysElapsed'],\n",
    "                title='Confirmed Cases in Select States', template='ggplot2', \n",
    "                color_discrete_sequence=px.colors.qualitative.T10,\n",
    "               )\n",
    "\n",
    "c = 0\n",
    "for s in sorted(states):\n",
    "    containment_date = containment[containment.State==s].Date.values[0]\n",
    "    fig.add_shape(dict(type=\"line\", \n",
    "                       x0=containment_date, y0=1, x1=containment_date, y1=10000, \n",
    "                       line=dict(color=px.colors.qualitative.T10[c],\n",
    "                                 width=3, dash='solid'\n",
    "                                )))\n",
    "    c += 1\n",
    "    print('{} entered containment on {}'.format(s, containment_date))\n",
    "    \n",
    "fig.update_shapes(dict(xref='x', yref='y'))\n",
    "\n",
    "# fig.show(renderer='svg', width=1100, height=550)"
   ]
  },
  {
   "cell_type": "markdown",
   "metadata": {},
   "source": [
    "## Testing, testing, testing "
   ]
  },
  {
   "cell_type": "markdown",
   "metadata": {},
   "source": [
    "### Tests vs. Cases\n",
    "As seen in the Wall Street Journal: https://www.wsj.com/articles/how-the-cdcs-restrictive-testing-guidelines-hid-the-coronavirus-epidemic-11584882001.\n"
   ]
  },
  {
   "cell_type": "code",
   "execution_count": 19,
   "metadata": {},
   "outputs": [
    {
     "data": {
      "text/html": [
       "<div>\n",
       "<style scoped>\n",
       "    .dataframe tbody tr th:only-of-type {\n",
       "        vertical-align: middle;\n",
       "    }\n",
       "\n",
       "    .dataframe tbody tr th {\n",
       "        vertical-align: top;\n",
       "    }\n",
       "\n",
       "    .dataframe thead th {\n",
       "        text-align: right;\n",
       "    }\n",
       "</style>\n",
       "<table border=\"1\" class=\"dataframe\">\n",
       "  <thead>\n",
       "    <tr style=\"text-align: right;\">\n",
       "      <th></th>\n",
       "      <th>Date</th>\n",
       "      <th>Positive</th>\n",
       "      <th>Negative</th>\n",
       "      <th>Pending</th>\n",
       "      <th>HospitalizedCurrently</th>\n",
       "      <th>HospitalizedCumulative</th>\n",
       "      <th>InIcuCurrently</th>\n",
       "      <th>InIcuCumulative</th>\n",
       "      <th>OnVentilatorCurrently</th>\n",
       "      <th>OnVentilatorCumulative</th>\n",
       "      <th>Recovered</th>\n",
       "      <th>Death</th>\n",
       "      <th>Hospitalized</th>\n",
       "      <th>Total</th>\n",
       "      <th>TotalTestResults</th>\n",
       "      <th>PosNeg</th>\n",
       "      <th>DeathIncrease</th>\n",
       "      <th>HospitalizedIncrease</th>\n",
       "      <th>NegativeIncrease</th>\n",
       "      <th>PositiveIncrease</th>\n",
       "      <th>TotalTestResultsIncrease</th>\n",
       "    </tr>\n",
       "    <tr>\n",
       "      <th>State</th>\n",
       "      <th></th>\n",
       "      <th></th>\n",
       "      <th></th>\n",
       "      <th></th>\n",
       "      <th></th>\n",
       "      <th></th>\n",
       "      <th></th>\n",
       "      <th></th>\n",
       "      <th></th>\n",
       "      <th></th>\n",
       "      <th></th>\n",
       "      <th></th>\n",
       "      <th></th>\n",
       "      <th></th>\n",
       "      <th></th>\n",
       "      <th></th>\n",
       "      <th></th>\n",
       "      <th></th>\n",
       "      <th></th>\n",
       "      <th></th>\n",
       "      <th></th>\n",
       "    </tr>\n",
       "  </thead>\n",
       "  <tbody>\n",
       "    <tr>\n",
       "      <th>AK</th>\n",
       "      <td>2020-04-08</td>\n",
       "      <td>226.0</td>\n",
       "      <td>6842.0</td>\n",
       "      <td>13.0</td>\n",
       "      <td>NaN</td>\n",
       "      <td>27.0</td>\n",
       "      <td>NaN</td>\n",
       "      <td>NaN</td>\n",
       "      <td>NaN</td>\n",
       "      <td>NaN</td>\n",
       "      <td>32.0</td>\n",
       "      <td>7.0</td>\n",
       "      <td>27.0</td>\n",
       "      <td>7068</td>\n",
       "      <td>7068</td>\n",
       "      <td>7068</td>\n",
       "      <td>1.0</td>\n",
       "      <td>4.0</td>\n",
       "      <td>142.0</td>\n",
       "      <td>13.0</td>\n",
       "      <td>155.0</td>\n",
       "    </tr>\n",
       "    <tr>\n",
       "      <th>AL</th>\n",
       "      <td>2020-04-08</td>\n",
       "      <td>2369.0</td>\n",
       "      <td>16753.0</td>\n",
       "      <td>40.0</td>\n",
       "      <td>NaN</td>\n",
       "      <td>314.0</td>\n",
       "      <td>NaN</td>\n",
       "      <td>NaN</td>\n",
       "      <td>NaN</td>\n",
       "      <td>NaN</td>\n",
       "      <td>NaN</td>\n",
       "      <td>66.0</td>\n",
       "      <td>314.0</td>\n",
       "      <td>19122</td>\n",
       "      <td>19122</td>\n",
       "      <td>19122</td>\n",
       "      <td>10.0</td>\n",
       "      <td>43.0</td>\n",
       "      <td>3956.0</td>\n",
       "      <td>250.0</td>\n",
       "      <td>4206.0</td>\n",
       "    </tr>\n",
       "    <tr>\n",
       "      <th>AR</th>\n",
       "      <td>2020-04-08</td>\n",
       "      <td>1000.0</td>\n",
       "      <td>13530.0</td>\n",
       "      <td>119.0</td>\n",
       "      <td>76.0</td>\n",
       "      <td>130.0</td>\n",
       "      <td>NaN</td>\n",
       "      <td>43.0</td>\n",
       "      <td>30.0</td>\n",
       "      <td>39.0</td>\n",
       "      <td>208.0</td>\n",
       "      <td>18.0</td>\n",
       "      <td>130.0</td>\n",
       "      <td>14530</td>\n",
       "      <td>14530</td>\n",
       "      <td>14530</td>\n",
       "      <td>2.0</td>\n",
       "      <td>-18.0</td>\n",
       "      <td>838.0</td>\n",
       "      <td>54.0</td>\n",
       "      <td>892.0</td>\n",
       "    </tr>\n",
       "    <tr>\n",
       "      <th>AS</th>\n",
       "      <td>2020-04-08</td>\n",
       "      <td>0.0</td>\n",
       "      <td>20.0</td>\n",
       "      <td>11.0</td>\n",
       "      <td>NaN</td>\n",
       "      <td>NaN</td>\n",
       "      <td>NaN</td>\n",
       "      <td>NaN</td>\n",
       "      <td>NaN</td>\n",
       "      <td>NaN</td>\n",
       "      <td>NaN</td>\n",
       "      <td>0.0</td>\n",
       "      <td>NaN</td>\n",
       "      <td>31</td>\n",
       "      <td>20</td>\n",
       "      <td>20</td>\n",
       "      <td>0.0</td>\n",
       "      <td>0.0</td>\n",
       "      <td>0.0</td>\n",
       "      <td>0.0</td>\n",
       "      <td>0.0</td>\n",
       "    </tr>\n",
       "    <tr>\n",
       "      <th>AZ</th>\n",
       "      <td>2020-04-08</td>\n",
       "      <td>2726.0</td>\n",
       "      <td>31838.0</td>\n",
       "      <td>21.0</td>\n",
       "      <td>NaN</td>\n",
       "      <td>NaN</td>\n",
       "      <td>NaN</td>\n",
       "      <td>NaN</td>\n",
       "      <td>NaN</td>\n",
       "      <td>NaN</td>\n",
       "      <td>NaN</td>\n",
       "      <td>80.0</td>\n",
       "      <td>NaN</td>\n",
       "      <td>34564</td>\n",
       "      <td>34564</td>\n",
       "      <td>34564</td>\n",
       "      <td>7.0</td>\n",
       "      <td>0.0</td>\n",
       "      <td>1038.0</td>\n",
       "      <td>151.0</td>\n",
       "      <td>1189.0</td>\n",
       "    </tr>\n",
       "    <tr>\n",
       "      <th>CA</th>\n",
       "      <td>2020-04-08</td>\n",
       "      <td>16957.0</td>\n",
       "      <td>127307.0</td>\n",
       "      <td>14600.0</td>\n",
       "      <td>2714.0</td>\n",
       "      <td>NaN</td>\n",
       "      <td>1154.0</td>\n",
       "      <td>NaN</td>\n",
       "      <td>NaN</td>\n",
       "      <td>NaN</td>\n",
       "      <td>NaN</td>\n",
       "      <td>442.0</td>\n",
       "      <td>NaN</td>\n",
       "      <td>158864</td>\n",
       "      <td>144264</td>\n",
       "      <td>144264</td>\n",
       "      <td>68.0</td>\n",
       "      <td>0.0</td>\n",
       "      <td>11943.0</td>\n",
       "      <td>1092.0</td>\n",
       "      <td>13035.0</td>\n",
       "    </tr>\n",
       "    <tr>\n",
       "      <th>CO</th>\n",
       "      <td>2020-04-08</td>\n",
       "      <td>5429.0</td>\n",
       "      <td>22665.0</td>\n",
       "      <td>1.0</td>\n",
       "      <td>NaN</td>\n",
       "      <td>1079.0</td>\n",
       "      <td>NaN</td>\n",
       "      <td>NaN</td>\n",
       "      <td>NaN</td>\n",
       "      <td>NaN</td>\n",
       "      <td>NaN</td>\n",
       "      <td>179.0</td>\n",
       "      <td>1079.0</td>\n",
       "      <td>28094</td>\n",
       "      <td>28094</td>\n",
       "      <td>28094</td>\n",
       "      <td>29.0</td>\n",
       "      <td>85.0</td>\n",
       "      <td>962.0</td>\n",
       "      <td>257.0</td>\n",
       "      <td>1219.0</td>\n",
       "    </tr>\n",
       "    <tr>\n",
       "      <th>CT</th>\n",
       "      <td>2020-04-08</td>\n",
       "      <td>7781.0</td>\n",
       "      <td>21255.0</td>\n",
       "      <td>8.0</td>\n",
       "      <td>1308.0</td>\n",
       "      <td>NaN</td>\n",
       "      <td>NaN</td>\n",
       "      <td>NaN</td>\n",
       "      <td>NaN</td>\n",
       "      <td>NaN</td>\n",
       "      <td>NaN</td>\n",
       "      <td>277.0</td>\n",
       "      <td>NaN</td>\n",
       "      <td>29036</td>\n",
       "      <td>29036</td>\n",
       "      <td>29036</td>\n",
       "      <td>0.0</td>\n",
       "      <td>0.0</td>\n",
       "      <td>0.0</td>\n",
       "      <td>0.0</td>\n",
       "      <td>0.0</td>\n",
       "    </tr>\n",
       "    <tr>\n",
       "      <th>DC</th>\n",
       "      <td>2020-04-08</td>\n",
       "      <td>1440.0</td>\n",
       "      <td>6843.0</td>\n",
       "      <td>2.0</td>\n",
       "      <td>NaN</td>\n",
       "      <td>NaN</td>\n",
       "      <td>NaN</td>\n",
       "      <td>NaN</td>\n",
       "      <td>NaN</td>\n",
       "      <td>NaN</td>\n",
       "      <td>361.0</td>\n",
       "      <td>27.0</td>\n",
       "      <td>NaN</td>\n",
       "      <td>8283</td>\n",
       "      <td>8283</td>\n",
       "      <td>8283</td>\n",
       "      <td>5.0</td>\n",
       "      <td>0.0</td>\n",
       "      <td>231.0</td>\n",
       "      <td>229.0</td>\n",
       "      <td>460.0</td>\n",
       "    </tr>\n",
       "    <tr>\n",
       "      <th>DE</th>\n",
       "      <td>2020-04-08</td>\n",
       "      <td>928.0</td>\n",
       "      <td>7628.0</td>\n",
       "      <td>32.0</td>\n",
       "      <td>147.0</td>\n",
       "      <td>NaN</td>\n",
       "      <td>NaN</td>\n",
       "      <td>NaN</td>\n",
       "      <td>NaN</td>\n",
       "      <td>NaN</td>\n",
       "      <td>144.0</td>\n",
       "      <td>16.0</td>\n",
       "      <td>NaN</td>\n",
       "      <td>8556</td>\n",
       "      <td>8556</td>\n",
       "      <td>8556</td>\n",
       "      <td>0.0</td>\n",
       "      <td>0.0</td>\n",
       "      <td>0.0</td>\n",
       "      <td>0.0</td>\n",
       "      <td>0.0</td>\n",
       "    </tr>\n",
       "    <tr>\n",
       "      <th>FL</th>\n",
       "      <td>2020-04-08</td>\n",
       "      <td>15455.0</td>\n",
       "      <td>127679.0</td>\n",
       "      <td>1324.0</td>\n",
       "      <td>NaN</td>\n",
       "      <td>2062.0</td>\n",
       "      <td>NaN</td>\n",
       "      <td>NaN</td>\n",
       "      <td>NaN</td>\n",
       "      <td>NaN</td>\n",
       "      <td>NaN</td>\n",
       "      <td>309.0</td>\n",
       "      <td>2062.0</td>\n",
       "      <td>144458</td>\n",
       "      <td>143134</td>\n",
       "      <td>143134</td>\n",
       "      <td>13.0</td>\n",
       "      <td>63.0</td>\n",
       "      <td>4264.0</td>\n",
       "      <td>708.0</td>\n",
       "      <td>4972.0</td>\n",
       "    </tr>\n",
       "    <tr>\n",
       "      <th>GA</th>\n",
       "      <td>2020-04-08</td>\n",
       "      <td>9901.0</td>\n",
       "      <td>28886.0</td>\n",
       "      <td>NaN</td>\n",
       "      <td>NaN</td>\n",
       "      <td>1993.0</td>\n",
       "      <td>NaN</td>\n",
       "      <td>NaN</td>\n",
       "      <td>NaN</td>\n",
       "      <td>NaN</td>\n",
       "      <td>NaN</td>\n",
       "      <td>362.0</td>\n",
       "      <td>1993.0</td>\n",
       "      <td>38787</td>\n",
       "      <td>38787</td>\n",
       "      <td>38787</td>\n",
       "      <td>33.0</td>\n",
       "      <td>219.0</td>\n",
       "      <td>3991.0</td>\n",
       "      <td>1083.0</td>\n",
       "      <td>5074.0</td>\n",
       "    </tr>\n",
       "    <tr>\n",
       "      <th>GU</th>\n",
       "      <td>2020-04-08</td>\n",
       "      <td>125.0</td>\n",
       "      <td>562.0</td>\n",
       "      <td>NaN</td>\n",
       "      <td>21.0</td>\n",
       "      <td>NaN</td>\n",
       "      <td>2.0</td>\n",
       "      <td>NaN</td>\n",
       "      <td>2.0</td>\n",
       "      <td>NaN</td>\n",
       "      <td>31.0</td>\n",
       "      <td>4.0</td>\n",
       "      <td>NaN</td>\n",
       "      <td>687</td>\n",
       "      <td>687</td>\n",
       "      <td>687</td>\n",
       "      <td>0.0</td>\n",
       "      <td>0.0</td>\n",
       "      <td>33.0</td>\n",
       "      <td>4.0</td>\n",
       "      <td>37.0</td>\n",
       "    </tr>\n",
       "    <tr>\n",
       "      <th>HI</th>\n",
       "      <td>2020-04-08</td>\n",
       "      <td>410.0</td>\n",
       "      <td>14739.0</td>\n",
       "      <td>NaN</td>\n",
       "      <td>NaN</td>\n",
       "      <td>42.0</td>\n",
       "      <td>NaN</td>\n",
       "      <td>6.0</td>\n",
       "      <td>NaN</td>\n",
       "      <td>NaN</td>\n",
       "      <td>113.0</td>\n",
       "      <td>5.0</td>\n",
       "      <td>42.0</td>\n",
       "      <td>15149</td>\n",
       "      <td>15149</td>\n",
       "      <td>15149</td>\n",
       "      <td>0.0</td>\n",
       "      <td>16.0</td>\n",
       "      <td>1584.0</td>\n",
       "      <td>23.0</td>\n",
       "      <td>1607.0</td>\n",
       "    </tr>\n",
       "    <tr>\n",
       "      <th>IA</th>\n",
       "      <td>2020-04-08</td>\n",
       "      <td>1145.0</td>\n",
       "      <td>12821.0</td>\n",
       "      <td>29.0</td>\n",
       "      <td>122.0</td>\n",
       "      <td>193.0</td>\n",
       "      <td>NaN</td>\n",
       "      <td>NaN</td>\n",
       "      <td>NaN</td>\n",
       "      <td>NaN</td>\n",
       "      <td>431.0</td>\n",
       "      <td>27.0</td>\n",
       "      <td>193.0</td>\n",
       "      <td>13966</td>\n",
       "      <td>13966</td>\n",
       "      <td>13966</td>\n",
       "      <td>1.0</td>\n",
       "      <td>0.0</td>\n",
       "      <td>1151.0</td>\n",
       "      <td>97.0</td>\n",
       "      <td>1248.0</td>\n",
       "    </tr>\n",
       "    <tr>\n",
       "      <th>ID</th>\n",
       "      <td>2020-04-08</td>\n",
       "      <td>1210.0</td>\n",
       "      <td>10688.0</td>\n",
       "      <td>NaN</td>\n",
       "      <td>NaN</td>\n",
       "      <td>93.0</td>\n",
       "      <td>NaN</td>\n",
       "      <td>24.0</td>\n",
       "      <td>NaN</td>\n",
       "      <td>NaN</td>\n",
       "      <td>NaN</td>\n",
       "      <td>15.0</td>\n",
       "      <td>93.0</td>\n",
       "      <td>11898</td>\n",
       "      <td>11898</td>\n",
       "      <td>11898</td>\n",
       "      <td>2.0</td>\n",
       "      <td>10.0</td>\n",
       "      <td>612.0</td>\n",
       "      <td>40.0</td>\n",
       "      <td>652.0</td>\n",
       "    </tr>\n",
       "    <tr>\n",
       "      <th>IL</th>\n",
       "      <td>2020-04-08</td>\n",
       "      <td>15078.0</td>\n",
       "      <td>59988.0</td>\n",
       "      <td>195.0</td>\n",
       "      <td>3680.0</td>\n",
       "      <td>NaN</td>\n",
       "      <td>1166.0</td>\n",
       "      <td>NaN</td>\n",
       "      <td>821.0</td>\n",
       "      <td>NaN</td>\n",
       "      <td>NaN</td>\n",
       "      <td>462.0</td>\n",
       "      <td>NaN</td>\n",
       "      <td>75066</td>\n",
       "      <td>75066</td>\n",
       "      <td>75066</td>\n",
       "      <td>82.0</td>\n",
       "      <td>0.0</td>\n",
       "      <td>4805.0</td>\n",
       "      <td>1529.0</td>\n",
       "      <td>6334.0</td>\n",
       "    </tr>\n",
       "    <tr>\n",
       "      <th>IN</th>\n",
       "      <td>2020-04-08</td>\n",
       "      <td>5943.0</td>\n",
       "      <td>24926.0</td>\n",
       "      <td>NaN</td>\n",
       "      <td>NaN</td>\n",
       "      <td>1.0</td>\n",
       "      <td>924.0</td>\n",
       "      <td>NaN</td>\n",
       "      <td>507.0</td>\n",
       "      <td>NaN</td>\n",
       "      <td>NaN</td>\n",
       "      <td>203.0</td>\n",
       "      <td>1.0</td>\n",
       "      <td>30869</td>\n",
       "      <td>30869</td>\n",
       "      <td>30869</td>\n",
       "      <td>30.0</td>\n",
       "      <td>0.0</td>\n",
       "      <td>1669.0</td>\n",
       "      <td>436.0</td>\n",
       "      <td>2105.0</td>\n",
       "    </tr>\n",
       "    <tr>\n",
       "      <th>KS</th>\n",
       "      <td>2020-04-08</td>\n",
       "      <td>900.0</td>\n",
       "      <td>8614.0</td>\n",
       "      <td>21.0</td>\n",
       "      <td>NaN</td>\n",
       "      <td>223.0</td>\n",
       "      <td>NaN</td>\n",
       "      <td>NaN</td>\n",
       "      <td>NaN</td>\n",
       "      <td>NaN</td>\n",
       "      <td>NaN</td>\n",
       "      <td>27.0</td>\n",
       "      <td>223.0</td>\n",
       "      <td>9514</td>\n",
       "      <td>9514</td>\n",
       "      <td>9514</td>\n",
       "      <td>0.0</td>\n",
       "      <td>0.0</td>\n",
       "      <td>0.0</td>\n",
       "      <td>0.0</td>\n",
       "      <td>0.0</td>\n",
       "    </tr>\n",
       "    <tr>\n",
       "      <th>KY</th>\n",
       "      <td>2020-04-08</td>\n",
       "      <td>1149.0</td>\n",
       "      <td>20455.0</td>\n",
       "      <td>3.0</td>\n",
       "      <td>NaN</td>\n",
       "      <td>NaN</td>\n",
       "      <td>NaN</td>\n",
       "      <td>NaN</td>\n",
       "      <td>NaN</td>\n",
       "      <td>NaN</td>\n",
       "      <td>NaN</td>\n",
       "      <td>65.0</td>\n",
       "      <td>NaN</td>\n",
       "      <td>21604</td>\n",
       "      <td>21604</td>\n",
       "      <td>21604</td>\n",
       "      <td>6.0</td>\n",
       "      <td>0.0</td>\n",
       "      <td>1508.0</td>\n",
       "      <td>141.0</td>\n",
       "      <td>1649.0</td>\n",
       "    </tr>\n",
       "    <tr>\n",
       "      <th>LA</th>\n",
       "      <td>2020-04-08</td>\n",
       "      <td>17030.0</td>\n",
       "      <td>64376.0</td>\n",
       "      <td>NaN</td>\n",
       "      <td>1983.0</td>\n",
       "      <td>NaN</td>\n",
       "      <td>NaN</td>\n",
       "      <td>NaN</td>\n",
       "      <td>490.0</td>\n",
       "      <td>NaN</td>\n",
       "      <td>NaN</td>\n",
       "      <td>652.0</td>\n",
       "      <td>NaN</td>\n",
       "      <td>81406</td>\n",
       "      <td>81406</td>\n",
       "      <td>81406</td>\n",
       "      <td>70.0</td>\n",
       "      <td>0.0</td>\n",
       "      <td>6005.0</td>\n",
       "      <td>746.0</td>\n",
       "      <td>6751.0</td>\n",
       "    </tr>\n",
       "    <tr>\n",
       "      <th>MA</th>\n",
       "      <td>2020-04-08</td>\n",
       "      <td>16790.0</td>\n",
       "      <td>70721.0</td>\n",
       "      <td>NaN</td>\n",
       "      <td>NaN</td>\n",
       "      <td>1583.0</td>\n",
       "      <td>NaN</td>\n",
       "      <td>NaN</td>\n",
       "      <td>NaN</td>\n",
       "      <td>NaN</td>\n",
       "      <td>NaN</td>\n",
       "      <td>433.0</td>\n",
       "      <td>1583.0</td>\n",
       "      <td>87511</td>\n",
       "      <td>87511</td>\n",
       "      <td>87511</td>\n",
       "      <td>77.0</td>\n",
       "      <td>148.0</td>\n",
       "      <td>4579.0</td>\n",
       "      <td>1588.0</td>\n",
       "      <td>6167.0</td>\n",
       "    </tr>\n",
       "    <tr>\n",
       "      <th>MD</th>\n",
       "      <td>2020-04-08</td>\n",
       "      <td>5529.0</td>\n",
       "      <td>32933.0</td>\n",
       "      <td>12.0</td>\n",
       "      <td>NaN</td>\n",
       "      <td>1210.0</td>\n",
       "      <td>NaN</td>\n",
       "      <td>NaN</td>\n",
       "      <td>NaN</td>\n",
       "      <td>NaN</td>\n",
       "      <td>365.0</td>\n",
       "      <td>124.0</td>\n",
       "      <td>1210.0</td>\n",
       "      <td>38462</td>\n",
       "      <td>38462</td>\n",
       "      <td>38462</td>\n",
       "      <td>21.0</td>\n",
       "      <td>104.0</td>\n",
       "      <td>5677.0</td>\n",
       "      <td>1158.0</td>\n",
       "      <td>6835.0</td>\n",
       "    </tr>\n",
       "    <tr>\n",
       "      <th>ME</th>\n",
       "      <td>2020-04-08</td>\n",
       "      <td>537.0</td>\n",
       "      <td>6088.0</td>\n",
       "      <td>17.0</td>\n",
       "      <td>NaN</td>\n",
       "      <td>101.0</td>\n",
       "      <td>NaN</td>\n",
       "      <td>NaN</td>\n",
       "      <td>NaN</td>\n",
       "      <td>NaN</td>\n",
       "      <td>187.0</td>\n",
       "      <td>14.0</td>\n",
       "      <td>101.0</td>\n",
       "      <td>6625</td>\n",
       "      <td>6625</td>\n",
       "      <td>6625</td>\n",
       "      <td>2.0</td>\n",
       "      <td>2.0</td>\n",
       "      <td>0.0</td>\n",
       "      <td>18.0</td>\n",
       "      <td>18.0</td>\n",
       "    </tr>\n",
       "    <tr>\n",
       "      <th>MI</th>\n",
       "      <td>2020-04-08</td>\n",
       "      <td>20346.0</td>\n",
       "      <td>31362.0</td>\n",
       "      <td>30.0</td>\n",
       "      <td>NaN</td>\n",
       "      <td>NaN</td>\n",
       "      <td>NaN</td>\n",
       "      <td>NaN</td>\n",
       "      <td>NaN</td>\n",
       "      <td>NaN</td>\n",
       "      <td>NaN</td>\n",
       "      <td>959.0</td>\n",
       "      <td>NaN</td>\n",
       "      <td>51708</td>\n",
       "      <td>51708</td>\n",
       "      <td>51708</td>\n",
       "      <td>114.0</td>\n",
       "      <td>0.0</td>\n",
       "      <td>0.0</td>\n",
       "      <td>1376.0</td>\n",
       "      <td>1376.0</td>\n",
       "    </tr>\n",
       "    <tr>\n",
       "      <th>MN</th>\n",
       "      <td>2020-04-08</td>\n",
       "      <td>1154.0</td>\n",
       "      <td>29599.0</td>\n",
       "      <td>NaN</td>\n",
       "      <td>135.0</td>\n",
       "      <td>271.0</td>\n",
       "      <td>64.0</td>\n",
       "      <td>105.0</td>\n",
       "      <td>NaN</td>\n",
       "      <td>NaN</td>\n",
       "      <td>632.0</td>\n",
       "      <td>39.0</td>\n",
       "      <td>271.0</td>\n",
       "      <td>30753</td>\n",
       "      <td>30753</td>\n",
       "      <td>30753</td>\n",
       "      <td>5.0</td>\n",
       "      <td>29.0</td>\n",
       "      <td>1408.0</td>\n",
       "      <td>85.0</td>\n",
       "      <td>1493.0</td>\n",
       "    </tr>\n",
       "    <tr>\n",
       "      <th>MO</th>\n",
       "      <td>2020-04-08</td>\n",
       "      <td>3327.0</td>\n",
       "      <td>30783.0</td>\n",
       "      <td>NaN</td>\n",
       "      <td>519.0</td>\n",
       "      <td>NaN</td>\n",
       "      <td>NaN</td>\n",
       "      <td>NaN</td>\n",
       "      <td>NaN</td>\n",
       "      <td>NaN</td>\n",
       "      <td>NaN</td>\n",
       "      <td>58.0</td>\n",
       "      <td>NaN</td>\n",
       "      <td>34110</td>\n",
       "      <td>34110</td>\n",
       "      <td>34110</td>\n",
       "      <td>5.0</td>\n",
       "      <td>0.0</td>\n",
       "      <td>1851.0</td>\n",
       "      <td>290.0</td>\n",
       "      <td>2141.0</td>\n",
       "    </tr>\n",
       "    <tr>\n",
       "      <th>MP</th>\n",
       "      <td>2020-04-08</td>\n",
       "      <td>11.0</td>\n",
       "      <td>27.0</td>\n",
       "      <td>9.0</td>\n",
       "      <td>NaN</td>\n",
       "      <td>NaN</td>\n",
       "      <td>NaN</td>\n",
       "      <td>NaN</td>\n",
       "      <td>NaN</td>\n",
       "      <td>NaN</td>\n",
       "      <td>NaN</td>\n",
       "      <td>2.0</td>\n",
       "      <td>NaN</td>\n",
       "      <td>47</td>\n",
       "      <td>38</td>\n",
       "      <td>38</td>\n",
       "      <td>0.0</td>\n",
       "      <td>0.0</td>\n",
       "      <td>12.0</td>\n",
       "      <td>3.0</td>\n",
       "      <td>15.0</td>\n",
       "    </tr>\n",
       "    <tr>\n",
       "      <th>MS</th>\n",
       "      <td>2020-04-08</td>\n",
       "      <td>2003.0</td>\n",
       "      <td>18632.0</td>\n",
       "      <td>NaN</td>\n",
       "      <td>NaN</td>\n",
       "      <td>410.0</td>\n",
       "      <td>NaN</td>\n",
       "      <td>NaN</td>\n",
       "      <td>NaN</td>\n",
       "      <td>NaN</td>\n",
       "      <td>NaN</td>\n",
       "      <td>67.0</td>\n",
       "      <td>410.0</td>\n",
       "      <td>20635</td>\n",
       "      <td>20635</td>\n",
       "      <td>20635</td>\n",
       "      <td>8.0</td>\n",
       "      <td>33.0</td>\n",
       "      <td>0.0</td>\n",
       "      <td>88.0</td>\n",
       "      <td>88.0</td>\n",
       "    </tr>\n",
       "    <tr>\n",
       "      <th>MT</th>\n",
       "      <td>2020-04-08</td>\n",
       "      <td>332.0</td>\n",
       "      <td>7066.0</td>\n",
       "      <td>57.0</td>\n",
       "      <td>NaN</td>\n",
       "      <td>31.0</td>\n",
       "      <td>NaN</td>\n",
       "      <td>NaN</td>\n",
       "      <td>NaN</td>\n",
       "      <td>NaN</td>\n",
       "      <td>135.0</td>\n",
       "      <td>6.0</td>\n",
       "      <td>31.0</td>\n",
       "      <td>7398</td>\n",
       "      <td>7398</td>\n",
       "      <td>7398</td>\n",
       "      <td>0.0</td>\n",
       "      <td>3.0</td>\n",
       "      <td>400.0</td>\n",
       "      <td>13.0</td>\n",
       "      <td>413.0</td>\n",
       "    </tr>\n",
       "    <tr>\n",
       "      <th>NC</th>\n",
       "      <td>2020-04-08</td>\n",
       "      <td>3426.0</td>\n",
       "      <td>39561.0</td>\n",
       "      <td>151.0</td>\n",
       "      <td>386.0</td>\n",
       "      <td>NaN</td>\n",
       "      <td>NaN</td>\n",
       "      <td>NaN</td>\n",
       "      <td>NaN</td>\n",
       "      <td>NaN</td>\n",
       "      <td>NaN</td>\n",
       "      <td>53.0</td>\n",
       "      <td>NaN</td>\n",
       "      <td>42987</td>\n",
       "      <td>42987</td>\n",
       "      <td>42987</td>\n",
       "      <td>7.0</td>\n",
       "      <td>0.0</td>\n",
       "      <td>1700.0</td>\n",
       "      <td>205.0</td>\n",
       "      <td>1905.0</td>\n",
       "    </tr>\n",
       "    <tr>\n",
       "      <th>ND</th>\n",
       "      <td>2020-04-08</td>\n",
       "      <td>251.0</td>\n",
       "      <td>8301.0</td>\n",
       "      <td>0.0</td>\n",
       "      <td>16.0</td>\n",
       "      <td>34.0</td>\n",
       "      <td>NaN</td>\n",
       "      <td>NaN</td>\n",
       "      <td>NaN</td>\n",
       "      <td>NaN</td>\n",
       "      <td>98.0</td>\n",
       "      <td>4.0</td>\n",
       "      <td>34.0</td>\n",
       "      <td>8552</td>\n",
       "      <td>8552</td>\n",
       "      <td>8552</td>\n",
       "      <td>0.0</td>\n",
       "      <td>1.0</td>\n",
       "      <td>835.0</td>\n",
       "      <td>14.0</td>\n",
       "      <td>849.0</td>\n",
       "    </tr>\n",
       "    <tr>\n",
       "      <th>NE</th>\n",
       "      <td>2020-04-08</td>\n",
       "      <td>519.0</td>\n",
       "      <td>7442.0</td>\n",
       "      <td>8.0</td>\n",
       "      <td>NaN</td>\n",
       "      <td>NaN</td>\n",
       "      <td>NaN</td>\n",
       "      <td>NaN</td>\n",
       "      <td>NaN</td>\n",
       "      <td>NaN</td>\n",
       "      <td>NaN</td>\n",
       "      <td>12.0</td>\n",
       "      <td>NaN</td>\n",
       "      <td>7961</td>\n",
       "      <td>7961</td>\n",
       "      <td>7961</td>\n",
       "      <td>2.0</td>\n",
       "      <td>0.0</td>\n",
       "      <td>631.0</td>\n",
       "      <td>72.0</td>\n",
       "      <td>703.0</td>\n",
       "    </tr>\n",
       "    <tr>\n",
       "      <th>NH</th>\n",
       "      <td>2020-04-08</td>\n",
       "      <td>788.0</td>\n",
       "      <td>8389.0</td>\n",
       "      <td>89.0</td>\n",
       "      <td>NaN</td>\n",
       "      <td>118.0</td>\n",
       "      <td>NaN</td>\n",
       "      <td>NaN</td>\n",
       "      <td>NaN</td>\n",
       "      <td>NaN</td>\n",
       "      <td>211.0</td>\n",
       "      <td>18.0</td>\n",
       "      <td>118.0</td>\n",
       "      <td>9266</td>\n",
       "      <td>9177</td>\n",
       "      <td>9177</td>\n",
       "      <td>9.0</td>\n",
       "      <td>15.0</td>\n",
       "      <td>370.0</td>\n",
       "      <td>73.0</td>\n",
       "      <td>443.0</td>\n",
       "    </tr>\n",
       "    <tr>\n",
       "      <th>NJ</th>\n",
       "      <td>2020-04-08</td>\n",
       "      <td>47437.0</td>\n",
       "      <td>52979.0</td>\n",
       "      <td>45.0</td>\n",
       "      <td>7026.0</td>\n",
       "      <td>NaN</td>\n",
       "      <td>1617.0</td>\n",
       "      <td>NaN</td>\n",
       "      <td>1576.0</td>\n",
       "      <td>NaN</td>\n",
       "      <td>NaN</td>\n",
       "      <td>1504.0</td>\n",
       "      <td>NaN</td>\n",
       "      <td>100416</td>\n",
       "      <td>100416</td>\n",
       "      <td>100416</td>\n",
       "      <td>272.0</td>\n",
       "      <td>0.0</td>\n",
       "      <td>2421.0</td>\n",
       "      <td>3021.0</td>\n",
       "      <td>5442.0</td>\n",
       "    </tr>\n",
       "    <tr>\n",
       "      <th>NM</th>\n",
       "      <td>2020-04-08</td>\n",
       "      <td>794.0</td>\n",
       "      <td>21451.0</td>\n",
       "      <td>0.0</td>\n",
       "      <td>51.0</td>\n",
       "      <td>NaN</td>\n",
       "      <td>NaN</td>\n",
       "      <td>NaN</td>\n",
       "      <td>18.0</td>\n",
       "      <td>NaN</td>\n",
       "      <td>171.0</td>\n",
       "      <td>13.0</td>\n",
       "      <td>NaN</td>\n",
       "      <td>22245</td>\n",
       "      <td>22245</td>\n",
       "      <td>22245</td>\n",
       "      <td>1.0</td>\n",
       "      <td>0.0</td>\n",
       "      <td>312.0</td>\n",
       "      <td>108.0</td>\n",
       "      <td>420.0</td>\n",
       "    </tr>\n",
       "    <tr>\n",
       "      <th>NV</th>\n",
       "      <td>2020-04-08</td>\n",
       "      <td>2318.0</td>\n",
       "      <td>18248.0</td>\n",
       "      <td>164.0</td>\n",
       "      <td>282.0</td>\n",
       "      <td>NaN</td>\n",
       "      <td>NaN</td>\n",
       "      <td>NaN</td>\n",
       "      <td>NaN</td>\n",
       "      <td>NaN</td>\n",
       "      <td>NaN</td>\n",
       "      <td>71.0</td>\n",
       "      <td>NaN</td>\n",
       "      <td>20566</td>\n",
       "      <td>20566</td>\n",
       "      <td>20566</td>\n",
       "      <td>13.0</td>\n",
       "      <td>0.0</td>\n",
       "      <td>1696.0</td>\n",
       "      <td>231.0</td>\n",
       "      <td>1927.0</td>\n",
       "    </tr>\n",
       "    <tr>\n",
       "      <th>NY</th>\n",
       "      <td>2020-04-08</td>\n",
       "      <td>149316.0</td>\n",
       "      <td>215837.0</td>\n",
       "      <td>236.0</td>\n",
       "      <td>18079.0</td>\n",
       "      <td>32669.0</td>\n",
       "      <td>4593.0</td>\n",
       "      <td>NaN</td>\n",
       "      <td>NaN</td>\n",
       "      <td>NaN</td>\n",
       "      <td>14590.0</td>\n",
       "      <td>6268.0</td>\n",
       "      <td>32669.0</td>\n",
       "      <td>365153</td>\n",
       "      <td>365153</td>\n",
       "      <td>365153</td>\n",
       "      <td>779.0</td>\n",
       "      <td>586.0</td>\n",
       "      <td>14642.0</td>\n",
       "      <td>10453.0</td>\n",
       "      <td>25095.0</td>\n",
       "    </tr>\n",
       "    <tr>\n",
       "      <th>OH</th>\n",
       "      <td>2020-04-08</td>\n",
       "      <td>5148.0</td>\n",
       "      <td>48193.0</td>\n",
       "      <td>361.0</td>\n",
       "      <td>NaN</td>\n",
       "      <td>1495.0</td>\n",
       "      <td>NaN</td>\n",
       "      <td>472.0</td>\n",
       "      <td>NaN</td>\n",
       "      <td>NaN</td>\n",
       "      <td>NaN</td>\n",
       "      <td>193.0</td>\n",
       "      <td>1495.0</td>\n",
       "      <td>53341</td>\n",
       "      <td>53341</td>\n",
       "      <td>53341</td>\n",
       "      <td>26.0</td>\n",
       "      <td>141.0</td>\n",
       "      <td>2137.0</td>\n",
       "      <td>366.0</td>\n",
       "      <td>2503.0</td>\n",
       "    </tr>\n",
       "    <tr>\n",
       "      <th>OK</th>\n",
       "      <td>2020-04-08</td>\n",
       "      <td>1524.0</td>\n",
       "      <td>11821.0</td>\n",
       "      <td>102.0</td>\n",
       "      <td>188.0</td>\n",
       "      <td>390.0</td>\n",
       "      <td>120.0</td>\n",
       "      <td>NaN</td>\n",
       "      <td>NaN</td>\n",
       "      <td>NaN</td>\n",
       "      <td>686.0</td>\n",
       "      <td>79.0</td>\n",
       "      <td>390.0</td>\n",
       "      <td>13345</td>\n",
       "      <td>13345</td>\n",
       "      <td>13345</td>\n",
       "      <td>12.0</td>\n",
       "      <td>14.0</td>\n",
       "      <td>0.0</td>\n",
       "      <td>52.0</td>\n",
       "      <td>52.0</td>\n",
       "    </tr>\n",
       "    <tr>\n",
       "      <th>OR</th>\n",
       "      <td>2020-04-08</td>\n",
       "      <td>1239.0</td>\n",
       "      <td>23325.0</td>\n",
       "      <td>433.0</td>\n",
       "      <td>156.0</td>\n",
       "      <td>324.0</td>\n",
       "      <td>61.0</td>\n",
       "      <td>NaN</td>\n",
       "      <td>58.0</td>\n",
       "      <td>69.0</td>\n",
       "      <td>NaN</td>\n",
       "      <td>33.0</td>\n",
       "      <td>324.0</td>\n",
       "      <td>24564</td>\n",
       "      <td>24564</td>\n",
       "      <td>24564</td>\n",
       "      <td>0.0</td>\n",
       "      <td>0.0</td>\n",
       "      <td>1499.0</td>\n",
       "      <td>58.0</td>\n",
       "      <td>1557.0</td>\n",
       "    </tr>\n",
       "    <tr>\n",
       "      <th>PA</th>\n",
       "      <td>2020-04-08</td>\n",
       "      <td>16239.0</td>\n",
       "      <td>82299.0</td>\n",
       "      <td>183.0</td>\n",
       "      <td>1898.0</td>\n",
       "      <td>1145.0</td>\n",
       "      <td>NaN</td>\n",
       "      <td>NaN</td>\n",
       "      <td>603.0</td>\n",
       "      <td>NaN</td>\n",
       "      <td>NaN</td>\n",
       "      <td>309.0</td>\n",
       "      <td>1145.0</td>\n",
       "      <td>98538</td>\n",
       "      <td>98538</td>\n",
       "      <td>98538</td>\n",
       "      <td>69.0</td>\n",
       "      <td>0.0</td>\n",
       "      <td>5580.0</td>\n",
       "      <td>1680.0</td>\n",
       "      <td>7260.0</td>\n",
       "    </tr>\n",
       "    <tr>\n",
       "      <th>PR</th>\n",
       "      <td>2020-04-08</td>\n",
       "      <td>620.0</td>\n",
       "      <td>4266.0</td>\n",
       "      <td>1160.0</td>\n",
       "      <td>NaN</td>\n",
       "      <td>NaN</td>\n",
       "      <td>NaN</td>\n",
       "      <td>NaN</td>\n",
       "      <td>NaN</td>\n",
       "      <td>NaN</td>\n",
       "      <td>NaN</td>\n",
       "      <td>24.0</td>\n",
       "      <td>NaN</td>\n",
       "      <td>6046</td>\n",
       "      <td>4886</td>\n",
       "      <td>4886</td>\n",
       "      <td>1.0</td>\n",
       "      <td>0.0</td>\n",
       "      <td>300.0</td>\n",
       "      <td>47.0</td>\n",
       "      <td>347.0</td>\n",
       "    </tr>\n",
       "    <tr>\n",
       "      <th>RI</th>\n",
       "      <td>2020-04-08</td>\n",
       "      <td>1450.0</td>\n",
       "      <td>10682.0</td>\n",
       "      <td>138.0</td>\n",
       "      <td>143.0</td>\n",
       "      <td>93.0</td>\n",
       "      <td>45.0</td>\n",
       "      <td>31.0</td>\n",
       "      <td>26.0</td>\n",
       "      <td>6.0</td>\n",
       "      <td>35.0</td>\n",
       "      <td>35.0</td>\n",
       "      <td>93.0</td>\n",
       "      <td>12132</td>\n",
       "      <td>12132</td>\n",
       "      <td>12132</td>\n",
       "      <td>5.0</td>\n",
       "      <td>0.0</td>\n",
       "      <td>3283.0</td>\n",
       "      <td>221.0</td>\n",
       "      <td>3504.0</td>\n",
       "    </tr>\n",
       "    <tr>\n",
       "      <th>SC</th>\n",
       "      <td>2020-04-08</td>\n",
       "      <td>2552.0</td>\n",
       "      <td>22082.0</td>\n",
       "      <td>0.0</td>\n",
       "      <td>NaN</td>\n",
       "      <td>241.0</td>\n",
       "      <td>NaN</td>\n",
       "      <td>NaN</td>\n",
       "      <td>NaN</td>\n",
       "      <td>NaN</td>\n",
       "      <td>NaN</td>\n",
       "      <td>63.0</td>\n",
       "      <td>241.0</td>\n",
       "      <td>24634</td>\n",
       "      <td>24634</td>\n",
       "      <td>24634</td>\n",
       "      <td>12.0</td>\n",
       "      <td>0.0</td>\n",
       "      <td>819.0</td>\n",
       "      <td>135.0</td>\n",
       "      <td>954.0</td>\n",
       "    </tr>\n",
       "    <tr>\n",
       "      <th>SD</th>\n",
       "      <td>2020-04-08</td>\n",
       "      <td>393.0</td>\n",
       "      <td>6355.0</td>\n",
       "      <td>0.0</td>\n",
       "      <td>NaN</td>\n",
       "      <td>26.0</td>\n",
       "      <td>NaN</td>\n",
       "      <td>NaN</td>\n",
       "      <td>NaN</td>\n",
       "      <td>NaN</td>\n",
       "      <td>146.0</td>\n",
       "      <td>6.0</td>\n",
       "      <td>26.0</td>\n",
       "      <td>6748</td>\n",
       "      <td>6748</td>\n",
       "      <td>6748</td>\n",
       "      <td>0.0</td>\n",
       "      <td>3.0</td>\n",
       "      <td>407.0</td>\n",
       "      <td>73.0</td>\n",
       "      <td>480.0</td>\n",
       "    </tr>\n",
       "    <tr>\n",
       "      <th>TN</th>\n",
       "      <td>2020-04-08</td>\n",
       "      <td>4362.0</td>\n",
       "      <td>52256.0</td>\n",
       "      <td>NaN</td>\n",
       "      <td>NaN</td>\n",
       "      <td>449.0</td>\n",
       "      <td>NaN</td>\n",
       "      <td>NaN</td>\n",
       "      <td>NaN</td>\n",
       "      <td>NaN</td>\n",
       "      <td>592.0</td>\n",
       "      <td>79.0</td>\n",
       "      <td>449.0</td>\n",
       "      <td>56618</td>\n",
       "      <td>56618</td>\n",
       "      <td>56618</td>\n",
       "      <td>7.0</td>\n",
       "      <td>41.0</td>\n",
       "      <td>3520.0</td>\n",
       "      <td>224.0</td>\n",
       "      <td>3744.0</td>\n",
       "    </tr>\n",
       "    <tr>\n",
       "      <th>TX</th>\n",
       "      <td>2020-04-08</td>\n",
       "      <td>9353.0</td>\n",
       "      <td>86905.0</td>\n",
       "      <td>NaN</td>\n",
       "      <td>1491.0</td>\n",
       "      <td>1153.0</td>\n",
       "      <td>NaN</td>\n",
       "      <td>NaN</td>\n",
       "      <td>NaN</td>\n",
       "      <td>NaN</td>\n",
       "      <td>38.0</td>\n",
       "      <td>177.0</td>\n",
       "      <td>1153.0</td>\n",
       "      <td>96258</td>\n",
       "      <td>96258</td>\n",
       "      <td>96258</td>\n",
       "      <td>23.0</td>\n",
       "      <td>0.0</td>\n",
       "      <td>6518.0</td>\n",
       "      <td>1091.0</td>\n",
       "      <td>7609.0</td>\n",
       "    </tr>\n",
       "    <tr>\n",
       "      <th>UT</th>\n",
       "      <td>2020-04-08</td>\n",
       "      <td>1846.0</td>\n",
       "      <td>34270.0</td>\n",
       "      <td>NaN</td>\n",
       "      <td>NaN</td>\n",
       "      <td>158.0</td>\n",
       "      <td>NaN</td>\n",
       "      <td>NaN</td>\n",
       "      <td>NaN</td>\n",
       "      <td>NaN</td>\n",
       "      <td>NaN</td>\n",
       "      <td>13.0</td>\n",
       "      <td>158.0</td>\n",
       "      <td>36116</td>\n",
       "      <td>36116</td>\n",
       "      <td>36116</td>\n",
       "      <td>0.0</td>\n",
       "      <td>10.0</td>\n",
       "      <td>1361.0</td>\n",
       "      <td>108.0</td>\n",
       "      <td>1469.0</td>\n",
       "    </tr>\n",
       "    <tr>\n",
       "      <th>VA</th>\n",
       "      <td>2020-04-08</td>\n",
       "      <td>3645.0</td>\n",
       "      <td>27000.0</td>\n",
       "      <td>9.0</td>\n",
       "      <td>246.0</td>\n",
       "      <td>615.0</td>\n",
       "      <td>NaN</td>\n",
       "      <td>145.0</td>\n",
       "      <td>NaN</td>\n",
       "      <td>108.0</td>\n",
       "      <td>NaN</td>\n",
       "      <td>75.0</td>\n",
       "      <td>615.0</td>\n",
       "      <td>30645</td>\n",
       "      <td>30645</td>\n",
       "      <td>30645</td>\n",
       "      <td>12.0</td>\n",
       "      <td>52.0</td>\n",
       "      <td>1688.0</td>\n",
       "      <td>312.0</td>\n",
       "      <td>2000.0</td>\n",
       "    </tr>\n",
       "    <tr>\n",
       "      <th>VI</th>\n",
       "      <td>2020-04-08</td>\n",
       "      <td>45.0</td>\n",
       "      <td>242.0</td>\n",
       "      <td>35.0</td>\n",
       "      <td>NaN</td>\n",
       "      <td>NaN</td>\n",
       "      <td>NaN</td>\n",
       "      <td>NaN</td>\n",
       "      <td>NaN</td>\n",
       "      <td>NaN</td>\n",
       "      <td>39.0</td>\n",
       "      <td>1.0</td>\n",
       "      <td>NaN</td>\n",
       "      <td>322</td>\n",
       "      <td>287</td>\n",
       "      <td>287</td>\n",
       "      <td>0.0</td>\n",
       "      <td>0.0</td>\n",
       "      <td>20.0</td>\n",
       "      <td>2.0</td>\n",
       "      <td>22.0</td>\n",
       "    </tr>\n",
       "    <tr>\n",
       "      <th>VT</th>\n",
       "      <td>2020-04-08</td>\n",
       "      <td>605.0</td>\n",
       "      <td>7144.0</td>\n",
       "      <td>NaN</td>\n",
       "      <td>35.0</td>\n",
       "      <td>50.0</td>\n",
       "      <td>NaN</td>\n",
       "      <td>NaN</td>\n",
       "      <td>NaN</td>\n",
       "      <td>NaN</td>\n",
       "      <td>15.0</td>\n",
       "      <td>23.0</td>\n",
       "      <td>50.0</td>\n",
       "      <td>7749</td>\n",
       "      <td>7749</td>\n",
       "      <td>7749</td>\n",
       "      <td>0.0</td>\n",
       "      <td>5.0</td>\n",
       "      <td>590.0</td>\n",
       "      <td>30.0</td>\n",
       "      <td>620.0</td>\n",
       "    </tr>\n",
       "    <tr>\n",
       "      <th>WA</th>\n",
       "      <td>2020-04-08</td>\n",
       "      <td>8682.0</td>\n",
       "      <td>83391.0</td>\n",
       "      <td>60.0</td>\n",
       "      <td>NaN</td>\n",
       "      <td>254.0</td>\n",
       "      <td>NaN</td>\n",
       "      <td>NaN</td>\n",
       "      <td>NaN</td>\n",
       "      <td>NaN</td>\n",
       "      <td>NaN</td>\n",
       "      <td>394.0</td>\n",
       "      <td>254.0</td>\n",
       "      <td>92073</td>\n",
       "      <td>92073</td>\n",
       "      <td>92073</td>\n",
       "      <td>22.0</td>\n",
       "      <td>0.0</td>\n",
       "      <td>0.0</td>\n",
       "      <td>298.0</td>\n",
       "      <td>298.0</td>\n",
       "    </tr>\n",
       "    <tr>\n",
       "      <th>WI</th>\n",
       "      <td>2020-04-08</td>\n",
       "      <td>2756.0</td>\n",
       "      <td>30115.0</td>\n",
       "      <td>12.0</td>\n",
       "      <td>NaN</td>\n",
       "      <td>790.0</td>\n",
       "      <td>NaN</td>\n",
       "      <td>218.0</td>\n",
       "      <td>NaN</td>\n",
       "      <td>NaN</td>\n",
       "      <td>NaN</td>\n",
       "      <td>99.0</td>\n",
       "      <td>790.0</td>\n",
       "      <td>32871</td>\n",
       "      <td>32871</td>\n",
       "      <td>32871</td>\n",
       "      <td>7.0</td>\n",
       "      <td>45.0</td>\n",
       "      <td>1603.0</td>\n",
       "      <td>178.0</td>\n",
       "      <td>1781.0</td>\n",
       "    </tr>\n",
       "    <tr>\n",
       "      <th>WV</th>\n",
       "      <td>2020-04-08</td>\n",
       "      <td>462.0</td>\n",
       "      <td>12083.0</td>\n",
       "      <td>0.0</td>\n",
       "      <td>NaN</td>\n",
       "      <td>1.0</td>\n",
       "      <td>NaN</td>\n",
       "      <td>NaN</td>\n",
       "      <td>NaN</td>\n",
       "      <td>NaN</td>\n",
       "      <td>NaN</td>\n",
       "      <td>4.0</td>\n",
       "      <td>1.0</td>\n",
       "      <td>12545</td>\n",
       "      <td>12545</td>\n",
       "      <td>12545</td>\n",
       "      <td>0.0</td>\n",
       "      <td>0.0</td>\n",
       "      <td>436.0</td>\n",
       "      <td>50.0</td>\n",
       "      <td>486.0</td>\n",
       "    </tr>\n",
       "    <tr>\n",
       "      <th>WY</th>\n",
       "      <td>2020-04-08</td>\n",
       "      <td>221.0</td>\n",
       "      <td>3843.0</td>\n",
       "      <td>0.0</td>\n",
       "      <td>NaN</td>\n",
       "      <td>33.0</td>\n",
       "      <td>NaN</td>\n",
       "      <td>NaN</td>\n",
       "      <td>NaN</td>\n",
       "      <td>NaN</td>\n",
       "      <td>62.0</td>\n",
       "      <td>0.0</td>\n",
       "      <td>33.0</td>\n",
       "      <td>4064</td>\n",
       "      <td>4064</td>\n",
       "      <td>4064</td>\n",
       "      <td>0.0</td>\n",
       "      <td>0.0</td>\n",
       "      <td>54.0</td>\n",
       "      <td>5.0</td>\n",
       "      <td>59.0</td>\n",
       "    </tr>\n",
       "  </tbody>\n",
       "</table>\n",
       "</div>"
      ],
      "text/plain": [
       "             Date  Positive  Negative  Pending  HospitalizedCurrently  \\\n",
       "State                                                                   \n",
       "AK     2020-04-08     226.0    6842.0     13.0                    NaN   \n",
       "AL     2020-04-08    2369.0   16753.0     40.0                    NaN   \n",
       "AR     2020-04-08    1000.0   13530.0    119.0                   76.0   \n",
       "AS     2020-04-08       0.0      20.0     11.0                    NaN   \n",
       "AZ     2020-04-08    2726.0   31838.0     21.0                    NaN   \n",
       "CA     2020-04-08   16957.0  127307.0  14600.0                 2714.0   \n",
       "CO     2020-04-08    5429.0   22665.0      1.0                    NaN   \n",
       "CT     2020-04-08    7781.0   21255.0      8.0                 1308.0   \n",
       "DC     2020-04-08    1440.0    6843.0      2.0                    NaN   \n",
       "DE     2020-04-08     928.0    7628.0     32.0                  147.0   \n",
       "FL     2020-04-08   15455.0  127679.0   1324.0                    NaN   \n",
       "GA     2020-04-08    9901.0   28886.0      NaN                    NaN   \n",
       "GU     2020-04-08     125.0     562.0      NaN                   21.0   \n",
       "HI     2020-04-08     410.0   14739.0      NaN                    NaN   \n",
       "IA     2020-04-08    1145.0   12821.0     29.0                  122.0   \n",
       "ID     2020-04-08    1210.0   10688.0      NaN                    NaN   \n",
       "IL     2020-04-08   15078.0   59988.0    195.0                 3680.0   \n",
       "IN     2020-04-08    5943.0   24926.0      NaN                    NaN   \n",
       "KS     2020-04-08     900.0    8614.0     21.0                    NaN   \n",
       "KY     2020-04-08    1149.0   20455.0      3.0                    NaN   \n",
       "LA     2020-04-08   17030.0   64376.0      NaN                 1983.0   \n",
       "MA     2020-04-08   16790.0   70721.0      NaN                    NaN   \n",
       "MD     2020-04-08    5529.0   32933.0     12.0                    NaN   \n",
       "ME     2020-04-08     537.0    6088.0     17.0                    NaN   \n",
       "MI     2020-04-08   20346.0   31362.0     30.0                    NaN   \n",
       "MN     2020-04-08    1154.0   29599.0      NaN                  135.0   \n",
       "MO     2020-04-08    3327.0   30783.0      NaN                  519.0   \n",
       "MP     2020-04-08      11.0      27.0      9.0                    NaN   \n",
       "MS     2020-04-08    2003.0   18632.0      NaN                    NaN   \n",
       "MT     2020-04-08     332.0    7066.0     57.0                    NaN   \n",
       "NC     2020-04-08    3426.0   39561.0    151.0                  386.0   \n",
       "ND     2020-04-08     251.0    8301.0      0.0                   16.0   \n",
       "NE     2020-04-08     519.0    7442.0      8.0                    NaN   \n",
       "NH     2020-04-08     788.0    8389.0     89.0                    NaN   \n",
       "NJ     2020-04-08   47437.0   52979.0     45.0                 7026.0   \n",
       "NM     2020-04-08     794.0   21451.0      0.0                   51.0   \n",
       "NV     2020-04-08    2318.0   18248.0    164.0                  282.0   \n",
       "NY     2020-04-08  149316.0  215837.0    236.0                18079.0   \n",
       "OH     2020-04-08    5148.0   48193.0    361.0                    NaN   \n",
       "OK     2020-04-08    1524.0   11821.0    102.0                  188.0   \n",
       "OR     2020-04-08    1239.0   23325.0    433.0                  156.0   \n",
       "PA     2020-04-08   16239.0   82299.0    183.0                 1898.0   \n",
       "PR     2020-04-08     620.0    4266.0   1160.0                    NaN   \n",
       "RI     2020-04-08    1450.0   10682.0    138.0                  143.0   \n",
       "SC     2020-04-08    2552.0   22082.0      0.0                    NaN   \n",
       "SD     2020-04-08     393.0    6355.0      0.0                    NaN   \n",
       "TN     2020-04-08    4362.0   52256.0      NaN                    NaN   \n",
       "TX     2020-04-08    9353.0   86905.0      NaN                 1491.0   \n",
       "UT     2020-04-08    1846.0   34270.0      NaN                    NaN   \n",
       "VA     2020-04-08    3645.0   27000.0      9.0                  246.0   \n",
       "VI     2020-04-08      45.0     242.0     35.0                    NaN   \n",
       "VT     2020-04-08     605.0    7144.0      NaN                   35.0   \n",
       "WA     2020-04-08    8682.0   83391.0     60.0                    NaN   \n",
       "WI     2020-04-08    2756.0   30115.0     12.0                    NaN   \n",
       "WV     2020-04-08     462.0   12083.0      0.0                    NaN   \n",
       "WY     2020-04-08     221.0    3843.0      0.0                    NaN   \n",
       "\n",
       "       HospitalizedCumulative  InIcuCurrently  InIcuCumulative  \\\n",
       "State                                                            \n",
       "AK                       27.0             NaN              NaN   \n",
       "AL                      314.0             NaN              NaN   \n",
       "AR                      130.0             NaN             43.0   \n",
       "AS                        NaN             NaN              NaN   \n",
       "AZ                        NaN             NaN              NaN   \n",
       "CA                        NaN          1154.0              NaN   \n",
       "CO                     1079.0             NaN              NaN   \n",
       "CT                        NaN             NaN              NaN   \n",
       "DC                        NaN             NaN              NaN   \n",
       "DE                        NaN             NaN              NaN   \n",
       "FL                     2062.0             NaN              NaN   \n",
       "GA                     1993.0             NaN              NaN   \n",
       "GU                        NaN             2.0              NaN   \n",
       "HI                       42.0             NaN              6.0   \n",
       "IA                      193.0             NaN              NaN   \n",
       "ID                       93.0             NaN             24.0   \n",
       "IL                        NaN          1166.0              NaN   \n",
       "IN                        1.0           924.0              NaN   \n",
       "KS                      223.0             NaN              NaN   \n",
       "KY                        NaN             NaN              NaN   \n",
       "LA                        NaN             NaN              NaN   \n",
       "MA                     1583.0             NaN              NaN   \n",
       "MD                     1210.0             NaN              NaN   \n",
       "ME                      101.0             NaN              NaN   \n",
       "MI                        NaN             NaN              NaN   \n",
       "MN                      271.0            64.0            105.0   \n",
       "MO                        NaN             NaN              NaN   \n",
       "MP                        NaN             NaN              NaN   \n",
       "MS                      410.0             NaN              NaN   \n",
       "MT                       31.0             NaN              NaN   \n",
       "NC                        NaN             NaN              NaN   \n",
       "ND                       34.0             NaN              NaN   \n",
       "NE                        NaN             NaN              NaN   \n",
       "NH                      118.0             NaN              NaN   \n",
       "NJ                        NaN          1617.0              NaN   \n",
       "NM                        NaN             NaN              NaN   \n",
       "NV                        NaN             NaN              NaN   \n",
       "NY                    32669.0          4593.0              NaN   \n",
       "OH                     1495.0             NaN            472.0   \n",
       "OK                      390.0           120.0              NaN   \n",
       "OR                      324.0            61.0              NaN   \n",
       "PA                     1145.0             NaN              NaN   \n",
       "PR                        NaN             NaN              NaN   \n",
       "RI                       93.0            45.0             31.0   \n",
       "SC                      241.0             NaN              NaN   \n",
       "SD                       26.0             NaN              NaN   \n",
       "TN                      449.0             NaN              NaN   \n",
       "TX                     1153.0             NaN              NaN   \n",
       "UT                      158.0             NaN              NaN   \n",
       "VA                      615.0             NaN            145.0   \n",
       "VI                        NaN             NaN              NaN   \n",
       "VT                       50.0             NaN              NaN   \n",
       "WA                      254.0             NaN              NaN   \n",
       "WI                      790.0             NaN            218.0   \n",
       "WV                        1.0             NaN              NaN   \n",
       "WY                       33.0             NaN              NaN   \n",
       "\n",
       "       OnVentilatorCurrently  OnVentilatorCumulative  Recovered   Death  \\\n",
       "State                                                                     \n",
       "AK                       NaN                     NaN       32.0     7.0   \n",
       "AL                       NaN                     NaN        NaN    66.0   \n",
       "AR                      30.0                    39.0      208.0    18.0   \n",
       "AS                       NaN                     NaN        NaN     0.0   \n",
       "AZ                       NaN                     NaN        NaN    80.0   \n",
       "CA                       NaN                     NaN        NaN   442.0   \n",
       "CO                       NaN                     NaN        NaN   179.0   \n",
       "CT                       NaN                     NaN        NaN   277.0   \n",
       "DC                       NaN                     NaN      361.0    27.0   \n",
       "DE                       NaN                     NaN      144.0    16.0   \n",
       "FL                       NaN                     NaN        NaN   309.0   \n",
       "GA                       NaN                     NaN        NaN   362.0   \n",
       "GU                       2.0                     NaN       31.0     4.0   \n",
       "HI                       NaN                     NaN      113.0     5.0   \n",
       "IA                       NaN                     NaN      431.0    27.0   \n",
       "ID                       NaN                     NaN        NaN    15.0   \n",
       "IL                     821.0                     NaN        NaN   462.0   \n",
       "IN                     507.0                     NaN        NaN   203.0   \n",
       "KS                       NaN                     NaN        NaN    27.0   \n",
       "KY                       NaN                     NaN        NaN    65.0   \n",
       "LA                     490.0                     NaN        NaN   652.0   \n",
       "MA                       NaN                     NaN        NaN   433.0   \n",
       "MD                       NaN                     NaN      365.0   124.0   \n",
       "ME                       NaN                     NaN      187.0    14.0   \n",
       "MI                       NaN                     NaN        NaN   959.0   \n",
       "MN                       NaN                     NaN      632.0    39.0   \n",
       "MO                       NaN                     NaN        NaN    58.0   \n",
       "MP                       NaN                     NaN        NaN     2.0   \n",
       "MS                       NaN                     NaN        NaN    67.0   \n",
       "MT                       NaN                     NaN      135.0     6.0   \n",
       "NC                       NaN                     NaN        NaN    53.0   \n",
       "ND                       NaN                     NaN       98.0     4.0   \n",
       "NE                       NaN                     NaN        NaN    12.0   \n",
       "NH                       NaN                     NaN      211.0    18.0   \n",
       "NJ                    1576.0                     NaN        NaN  1504.0   \n",
       "NM                      18.0                     NaN      171.0    13.0   \n",
       "NV                       NaN                     NaN        NaN    71.0   \n",
       "NY                       NaN                     NaN    14590.0  6268.0   \n",
       "OH                       NaN                     NaN        NaN   193.0   \n",
       "OK                       NaN                     NaN      686.0    79.0   \n",
       "OR                      58.0                    69.0        NaN    33.0   \n",
       "PA                     603.0                     NaN        NaN   309.0   \n",
       "PR                       NaN                     NaN        NaN    24.0   \n",
       "RI                      26.0                     6.0       35.0    35.0   \n",
       "SC                       NaN                     NaN        NaN    63.0   \n",
       "SD                       NaN                     NaN      146.0     6.0   \n",
       "TN                       NaN                     NaN      592.0    79.0   \n",
       "TX                       NaN                     NaN       38.0   177.0   \n",
       "UT                       NaN                     NaN        NaN    13.0   \n",
       "VA                       NaN                   108.0        NaN    75.0   \n",
       "VI                       NaN                     NaN       39.0     1.0   \n",
       "VT                       NaN                     NaN       15.0    23.0   \n",
       "WA                       NaN                     NaN        NaN   394.0   \n",
       "WI                       NaN                     NaN        NaN    99.0   \n",
       "WV                       NaN                     NaN        NaN     4.0   \n",
       "WY                       NaN                     NaN       62.0     0.0   \n",
       "\n",
       "       Hospitalized   Total  TotalTestResults  PosNeg  DeathIncrease  \\\n",
       "State                                                                  \n",
       "AK             27.0    7068              7068    7068            1.0   \n",
       "AL            314.0   19122             19122   19122           10.0   \n",
       "AR            130.0   14530             14530   14530            2.0   \n",
       "AS              NaN      31                20      20            0.0   \n",
       "AZ              NaN   34564             34564   34564            7.0   \n",
       "CA              NaN  158864            144264  144264           68.0   \n",
       "CO           1079.0   28094             28094   28094           29.0   \n",
       "CT              NaN   29036             29036   29036            0.0   \n",
       "DC              NaN    8283              8283    8283            5.0   \n",
       "DE              NaN    8556              8556    8556            0.0   \n",
       "FL           2062.0  144458            143134  143134           13.0   \n",
       "GA           1993.0   38787             38787   38787           33.0   \n",
       "GU              NaN     687               687     687            0.0   \n",
       "HI             42.0   15149             15149   15149            0.0   \n",
       "IA            193.0   13966             13966   13966            1.0   \n",
       "ID             93.0   11898             11898   11898            2.0   \n",
       "IL              NaN   75066             75066   75066           82.0   \n",
       "IN              1.0   30869             30869   30869           30.0   \n",
       "KS            223.0    9514              9514    9514            0.0   \n",
       "KY              NaN   21604             21604   21604            6.0   \n",
       "LA              NaN   81406             81406   81406           70.0   \n",
       "MA           1583.0   87511             87511   87511           77.0   \n",
       "MD           1210.0   38462             38462   38462           21.0   \n",
       "ME            101.0    6625              6625    6625            2.0   \n",
       "MI              NaN   51708             51708   51708          114.0   \n",
       "MN            271.0   30753             30753   30753            5.0   \n",
       "MO              NaN   34110             34110   34110            5.0   \n",
       "MP              NaN      47                38      38            0.0   \n",
       "MS            410.0   20635             20635   20635            8.0   \n",
       "MT             31.0    7398              7398    7398            0.0   \n",
       "NC              NaN   42987             42987   42987            7.0   \n",
       "ND             34.0    8552              8552    8552            0.0   \n",
       "NE              NaN    7961              7961    7961            2.0   \n",
       "NH            118.0    9266              9177    9177            9.0   \n",
       "NJ              NaN  100416            100416  100416          272.0   \n",
       "NM              NaN   22245             22245   22245            1.0   \n",
       "NV              NaN   20566             20566   20566           13.0   \n",
       "NY          32669.0  365153            365153  365153          779.0   \n",
       "OH           1495.0   53341             53341   53341           26.0   \n",
       "OK            390.0   13345             13345   13345           12.0   \n",
       "OR            324.0   24564             24564   24564            0.0   \n",
       "PA           1145.0   98538             98538   98538           69.0   \n",
       "PR              NaN    6046              4886    4886            1.0   \n",
       "RI             93.0   12132             12132   12132            5.0   \n",
       "SC            241.0   24634             24634   24634           12.0   \n",
       "SD             26.0    6748              6748    6748            0.0   \n",
       "TN            449.0   56618             56618   56618            7.0   \n",
       "TX           1153.0   96258             96258   96258           23.0   \n",
       "UT            158.0   36116             36116   36116            0.0   \n",
       "VA            615.0   30645             30645   30645           12.0   \n",
       "VI              NaN     322               287     287            0.0   \n",
       "VT             50.0    7749              7749    7749            0.0   \n",
       "WA            254.0   92073             92073   92073           22.0   \n",
       "WI            790.0   32871             32871   32871            7.0   \n",
       "WV              1.0   12545             12545   12545            0.0   \n",
       "WY             33.0    4064              4064    4064            0.0   \n",
       "\n",
       "       HospitalizedIncrease  NegativeIncrease  PositiveIncrease  \\\n",
       "State                                                             \n",
       "AK                      4.0             142.0              13.0   \n",
       "AL                     43.0            3956.0             250.0   \n",
       "AR                    -18.0             838.0              54.0   \n",
       "AS                      0.0               0.0               0.0   \n",
       "AZ                      0.0            1038.0             151.0   \n",
       "CA                      0.0           11943.0            1092.0   \n",
       "CO                     85.0             962.0             257.0   \n",
       "CT                      0.0               0.0               0.0   \n",
       "DC                      0.0             231.0             229.0   \n",
       "DE                      0.0               0.0               0.0   \n",
       "FL                     63.0            4264.0             708.0   \n",
       "GA                    219.0            3991.0            1083.0   \n",
       "GU                      0.0              33.0               4.0   \n",
       "HI                     16.0            1584.0              23.0   \n",
       "IA                      0.0            1151.0              97.0   \n",
       "ID                     10.0             612.0              40.0   \n",
       "IL                      0.0            4805.0            1529.0   \n",
       "IN                      0.0            1669.0             436.0   \n",
       "KS                      0.0               0.0               0.0   \n",
       "KY                      0.0            1508.0             141.0   \n",
       "LA                      0.0            6005.0             746.0   \n",
       "MA                    148.0            4579.0            1588.0   \n",
       "MD                    104.0            5677.0            1158.0   \n",
       "ME                      2.0               0.0              18.0   \n",
       "MI                      0.0               0.0            1376.0   \n",
       "MN                     29.0            1408.0              85.0   \n",
       "MO                      0.0            1851.0             290.0   \n",
       "MP                      0.0              12.0               3.0   \n",
       "MS                     33.0               0.0              88.0   \n",
       "MT                      3.0             400.0              13.0   \n",
       "NC                      0.0            1700.0             205.0   \n",
       "ND                      1.0             835.0              14.0   \n",
       "NE                      0.0             631.0              72.0   \n",
       "NH                     15.0             370.0              73.0   \n",
       "NJ                      0.0            2421.0            3021.0   \n",
       "NM                      0.0             312.0             108.0   \n",
       "NV                      0.0            1696.0             231.0   \n",
       "NY                    586.0           14642.0           10453.0   \n",
       "OH                    141.0            2137.0             366.0   \n",
       "OK                     14.0               0.0              52.0   \n",
       "OR                      0.0            1499.0              58.0   \n",
       "PA                      0.0            5580.0            1680.0   \n",
       "PR                      0.0             300.0              47.0   \n",
       "RI                      0.0            3283.0             221.0   \n",
       "SC                      0.0             819.0             135.0   \n",
       "SD                      3.0             407.0              73.0   \n",
       "TN                     41.0            3520.0             224.0   \n",
       "TX                      0.0            6518.0            1091.0   \n",
       "UT                     10.0            1361.0             108.0   \n",
       "VA                     52.0            1688.0             312.0   \n",
       "VI                      0.0              20.0               2.0   \n",
       "VT                      5.0             590.0              30.0   \n",
       "WA                      0.0               0.0             298.0   \n",
       "WI                     45.0            1603.0             178.0   \n",
       "WV                      0.0             436.0              50.0   \n",
       "WY                      0.0              54.0               5.0   \n",
       "\n",
       "       TotalTestResultsIncrease  \n",
       "State                            \n",
       "AK                        155.0  \n",
       "AL                       4206.0  \n",
       "AR                        892.0  \n",
       "AS                          0.0  \n",
       "AZ                       1189.0  \n",
       "CA                      13035.0  \n",
       "CO                       1219.0  \n",
       "CT                          0.0  \n",
       "DC                        460.0  \n",
       "DE                          0.0  \n",
       "FL                       4972.0  \n",
       "GA                       5074.0  \n",
       "GU                         37.0  \n",
       "HI                       1607.0  \n",
       "IA                       1248.0  \n",
       "ID                        652.0  \n",
       "IL                       6334.0  \n",
       "IN                       2105.0  \n",
       "KS                          0.0  \n",
       "KY                       1649.0  \n",
       "LA                       6751.0  \n",
       "MA                       6167.0  \n",
       "MD                       6835.0  \n",
       "ME                         18.0  \n",
       "MI                       1376.0  \n",
       "MN                       1493.0  \n",
       "MO                       2141.0  \n",
       "MP                         15.0  \n",
       "MS                         88.0  \n",
       "MT                        413.0  \n",
       "NC                       1905.0  \n",
       "ND                        849.0  \n",
       "NE                        703.0  \n",
       "NH                        443.0  \n",
       "NJ                       5442.0  \n",
       "NM                        420.0  \n",
       "NV                       1927.0  \n",
       "NY                      25095.0  \n",
       "OH                       2503.0  \n",
       "OK                         52.0  \n",
       "OR                       1557.0  \n",
       "PA                       7260.0  \n",
       "PR                        347.0  \n",
       "RI                       3504.0  \n",
       "SC                        954.0  \n",
       "SD                        480.0  \n",
       "TN                       3744.0  \n",
       "TX                       7609.0  \n",
       "UT                       1469.0  \n",
       "VA                       2000.0  \n",
       "VI                         22.0  \n",
       "VT                        620.0  \n",
       "WA                        298.0  \n",
       "WI                       1781.0  \n",
       "WV                        486.0  \n",
       "WY                         59.0  "
      ]
     },
     "execution_count": 19,
     "metadata": {},
     "output_type": "execute_result"
    }
   ],
   "source": [
    "df_testing.groupby(['State']).agg('last')"
   ]
  },
  {
   "cell_type": "code",
   "execution_count": 20,
   "metadata": {
    "scrolled": true
   },
   "outputs": [
    {
     "data": {
      "text/html": [
       "<div>\n",
       "<style scoped>\n",
       "    .dataframe tbody tr th:only-of-type {\n",
       "        vertical-align: middle;\n",
       "    }\n",
       "\n",
       "    .dataframe tbody tr th {\n",
       "        vertical-align: top;\n",
       "    }\n",
       "\n",
       "    .dataframe thead th {\n",
       "        text-align: right;\n",
       "    }\n",
       "</style>\n",
       "<table border=\"1\" class=\"dataframe\">\n",
       "  <thead>\n",
       "    <tr style=\"text-align: right;\">\n",
       "      <th></th>\n",
       "      <th>State</th>\n",
       "      <th>Date</th>\n",
       "      <th>Positive</th>\n",
       "      <th>Negative</th>\n",
       "      <th>Pending</th>\n",
       "      <th>HospitalizedCurrently</th>\n",
       "      <th>HospitalizedCumulative</th>\n",
       "      <th>InIcuCurrently</th>\n",
       "      <th>InIcuCumulative</th>\n",
       "      <th>OnVentilatorCurrently</th>\n",
       "      <th>OnVentilatorCumulative</th>\n",
       "      <th>Recovered</th>\n",
       "      <th>Death</th>\n",
       "      <th>Hospitalized</th>\n",
       "      <th>Total</th>\n",
       "      <th>TotalTestResults</th>\n",
       "      <th>PosNeg</th>\n",
       "      <th>DeathIncrease</th>\n",
       "      <th>HospitalizedIncrease</th>\n",
       "      <th>NegativeIncrease</th>\n",
       "      <th>PositiveIncrease</th>\n",
       "      <th>TotalTestResultsIncrease</th>\n",
       "    </tr>\n",
       "  </thead>\n",
       "  <tbody>\n",
       "    <tr>\n",
       "      <th>15</th>\n",
       "      <td>ID</td>\n",
       "      <td>2020-04-08</td>\n",
       "      <td>1210.0</td>\n",
       "      <td>10688.0</td>\n",
       "      <td>NaN</td>\n",
       "      <td>NaN</td>\n",
       "      <td>93.0</td>\n",
       "      <td>NaN</td>\n",
       "      <td>24.0</td>\n",
       "      <td>NaN</td>\n",
       "      <td>NaN</td>\n",
       "      <td>NaN</td>\n",
       "      <td>15.0</td>\n",
       "      <td>93.0</td>\n",
       "      <td>11898</td>\n",
       "      <td>11898</td>\n",
       "      <td>11898</td>\n",
       "      <td>2.0</td>\n",
       "      <td>10.0</td>\n",
       "      <td>612.0</td>\n",
       "      <td>40.0</td>\n",
       "      <td>652.0</td>\n",
       "    </tr>\n",
       "    <tr>\n",
       "      <th>22</th>\n",
       "      <td>MD</td>\n",
       "      <td>2020-04-08</td>\n",
       "      <td>5529.0</td>\n",
       "      <td>32933.0</td>\n",
       "      <td>12.0</td>\n",
       "      <td>NaN</td>\n",
       "      <td>1210.0</td>\n",
       "      <td>NaN</td>\n",
       "      <td>NaN</td>\n",
       "      <td>NaN</td>\n",
       "      <td>NaN</td>\n",
       "      <td>365.0</td>\n",
       "      <td>124.0</td>\n",
       "      <td>1210.0</td>\n",
       "      <td>38462</td>\n",
       "      <td>38462</td>\n",
       "      <td>38462</td>\n",
       "      <td>21.0</td>\n",
       "      <td>104.0</td>\n",
       "      <td>5677.0</td>\n",
       "      <td>1158.0</td>\n",
       "      <td>6835.0</td>\n",
       "    </tr>\n",
       "    <tr>\n",
       "      <th>51</th>\n",
       "      <td>VT</td>\n",
       "      <td>2020-04-08</td>\n",
       "      <td>605.0</td>\n",
       "      <td>7144.0</td>\n",
       "      <td>NaN</td>\n",
       "      <td>35.0</td>\n",
       "      <td>50.0</td>\n",
       "      <td>NaN</td>\n",
       "      <td>NaN</td>\n",
       "      <td>NaN</td>\n",
       "      <td>NaN</td>\n",
       "      <td>15.0</td>\n",
       "      <td>23.0</td>\n",
       "      <td>50.0</td>\n",
       "      <td>7749</td>\n",
       "      <td>7749</td>\n",
       "      <td>7749</td>\n",
       "      <td>0.0</td>\n",
       "      <td>5.0</td>\n",
       "      <td>590.0</td>\n",
       "      <td>30.0</td>\n",
       "      <td>620.0</td>\n",
       "    </tr>\n",
       "  </tbody>\n",
       "</table>\n",
       "</div>"
      ],
      "text/plain": [
       "   State        Date  Positive  Negative  Pending  HospitalizedCurrently  \\\n",
       "15    ID  2020-04-08    1210.0   10688.0      NaN                    NaN   \n",
       "22    MD  2020-04-08    5529.0   32933.0     12.0                    NaN   \n",
       "51    VT  2020-04-08     605.0    7144.0      NaN                   35.0   \n",
       "\n",
       "    HospitalizedCumulative  InIcuCurrently  InIcuCumulative  \\\n",
       "15                    93.0             NaN             24.0   \n",
       "22                  1210.0             NaN              NaN   \n",
       "51                    50.0             NaN              NaN   \n",
       "\n",
       "    OnVentilatorCurrently  OnVentilatorCumulative  Recovered  Death  \\\n",
       "15                    NaN                     NaN        NaN   15.0   \n",
       "22                    NaN                     NaN      365.0  124.0   \n",
       "51                    NaN                     NaN       15.0   23.0   \n",
       "\n",
       "    Hospitalized  Total  TotalTestResults  PosNeg  DeathIncrease  \\\n",
       "15          93.0  11898             11898   11898            2.0   \n",
       "22        1210.0  38462             38462   38462           21.0   \n",
       "51          50.0   7749              7749    7749            0.0   \n",
       "\n",
       "    HospitalizedIncrease  NegativeIncrease  PositiveIncrease  \\\n",
       "15                  10.0             612.0              40.0   \n",
       "22                 104.0            5677.0            1158.0   \n",
       "51                   5.0             590.0              30.0   \n",
       "\n",
       "    TotalTestResultsIncrease  \n",
       "15                     652.0  \n",
       "22                    6835.0  \n",
       "51                     620.0  "
      ]
     },
     "execution_count": 20,
     "metadata": {},
     "output_type": "execute_result"
    }
   ],
   "source": [
    "df_testing.sort_values(by='Date').groupby(['State']).agg('last').reset_index().sample(3)"
   ]
  },
  {
   "cell_type": "code",
   "execution_count": 21,
   "metadata": {},
   "outputs": [
    {
     "data": {
      "text/html": [
       "<div>\n",
       "<style scoped>\n",
       "    .dataframe tbody tr th:only-of-type {\n",
       "        vertical-align: middle;\n",
       "    }\n",
       "\n",
       "    .dataframe tbody tr th {\n",
       "        vertical-align: top;\n",
       "    }\n",
       "\n",
       "    .dataframe thead th {\n",
       "        text-align: right;\n",
       "    }\n",
       "</style>\n",
       "<table border=\"1\" class=\"dataframe\">\n",
       "  <thead>\n",
       "    <tr style=\"text-align: right;\">\n",
       "      <th></th>\n",
       "      <th>State</th>\n",
       "      <th>Date</th>\n",
       "      <th>Positive</th>\n",
       "      <th>Negative</th>\n",
       "      <th>Pending</th>\n",
       "      <th>HospitalizedCurrently</th>\n",
       "      <th>HospitalizedCumulative</th>\n",
       "      <th>InIcuCurrently</th>\n",
       "      <th>InIcuCumulative</th>\n",
       "      <th>OnVentilatorCurrently</th>\n",
       "      <th>OnVentilatorCumulative</th>\n",
       "      <th>Recovered</th>\n",
       "      <th>Death</th>\n",
       "      <th>Hospitalized</th>\n",
       "      <th>Total</th>\n",
       "      <th>TotalTestResults</th>\n",
       "      <th>PosNeg</th>\n",
       "      <th>DeathIncrease</th>\n",
       "      <th>HospitalizedIncrease</th>\n",
       "      <th>NegativeIncrease</th>\n",
       "      <th>PositiveIncrease</th>\n",
       "      <th>TotalTestResultsIncrease</th>\n",
       "    </tr>\n",
       "  </thead>\n",
       "  <tbody>\n",
       "    <tr>\n",
       "      <th>1274</th>\n",
       "      <td>NY</td>\n",
       "      <td>2020-04-06</td>\n",
       "      <td>130689.0</td>\n",
       "      <td>190122.0</td>\n",
       "      <td>NaN</td>\n",
       "      <td>16837.0</td>\n",
       "      <td>30203.0</td>\n",
       "      <td>4504.0</td>\n",
       "      <td>NaN</td>\n",
       "      <td>NaN</td>\n",
       "      <td>NaN</td>\n",
       "      <td>13366.0</td>\n",
       "      <td>4758.0</td>\n",
       "      <td>30203.0</td>\n",
       "      <td>320811</td>\n",
       "      <td>320811</td>\n",
       "      <td>320811</td>\n",
       "      <td>599.0</td>\n",
       "      <td>2111.0</td>\n",
       "      <td>9873.0</td>\n",
       "      <td>8658.0</td>\n",
       "      <td>18531.0</td>\n",
       "    </tr>\n",
       "    <tr>\n",
       "      <th>1275</th>\n",
       "      <td>NY</td>\n",
       "      <td>2020-04-07</td>\n",
       "      <td>138863.0</td>\n",
       "      <td>201195.0</td>\n",
       "      <td>NaN</td>\n",
       "      <td>17493.0</td>\n",
       "      <td>32083.0</td>\n",
       "      <td>4593.0</td>\n",
       "      <td>NaN</td>\n",
       "      <td>NaN</td>\n",
       "      <td>NaN</td>\n",
       "      <td>14590.0</td>\n",
       "      <td>5489.0</td>\n",
       "      <td>32083.0</td>\n",
       "      <td>340058</td>\n",
       "      <td>340058</td>\n",
       "      <td>340058</td>\n",
       "      <td>731.0</td>\n",
       "      <td>1880.0</td>\n",
       "      <td>11073.0</td>\n",
       "      <td>8174.0</td>\n",
       "      <td>19247.0</td>\n",
       "    </tr>\n",
       "    <tr>\n",
       "      <th>1276</th>\n",
       "      <td>NY</td>\n",
       "      <td>2020-04-08</td>\n",
       "      <td>149316.0</td>\n",
       "      <td>215837.0</td>\n",
       "      <td>NaN</td>\n",
       "      <td>18079.0</td>\n",
       "      <td>32669.0</td>\n",
       "      <td>4593.0</td>\n",
       "      <td>NaN</td>\n",
       "      <td>NaN</td>\n",
       "      <td>NaN</td>\n",
       "      <td>14590.0</td>\n",
       "      <td>6268.0</td>\n",
       "      <td>32669.0</td>\n",
       "      <td>365153</td>\n",
       "      <td>365153</td>\n",
       "      <td>365153</td>\n",
       "      <td>779.0</td>\n",
       "      <td>586.0</td>\n",
       "      <td>14642.0</td>\n",
       "      <td>10453.0</td>\n",
       "      <td>25095.0</td>\n",
       "    </tr>\n",
       "  </tbody>\n",
       "</table>\n",
       "</div>"
      ],
      "text/plain": [
       "     State        Date  Positive  Negative  Pending  HospitalizedCurrently  \\\n",
       "1274    NY  2020-04-06  130689.0  190122.0      NaN                16837.0   \n",
       "1275    NY  2020-04-07  138863.0  201195.0      NaN                17493.0   \n",
       "1276    NY  2020-04-08  149316.0  215837.0      NaN                18079.0   \n",
       "\n",
       "      HospitalizedCumulative  InIcuCurrently  InIcuCumulative  \\\n",
       "1274                 30203.0          4504.0              NaN   \n",
       "1275                 32083.0          4593.0              NaN   \n",
       "1276                 32669.0          4593.0              NaN   \n",
       "\n",
       "      OnVentilatorCurrently  OnVentilatorCumulative  Recovered   Death  \\\n",
       "1274                    NaN                     NaN    13366.0  4758.0   \n",
       "1275                    NaN                     NaN    14590.0  5489.0   \n",
       "1276                    NaN                     NaN    14590.0  6268.0   \n",
       "\n",
       "      Hospitalized   Total  TotalTestResults  PosNeg  DeathIncrease  \\\n",
       "1274       30203.0  320811            320811  320811          599.0   \n",
       "1275       32083.0  340058            340058  340058          731.0   \n",
       "1276       32669.0  365153            365153  365153          779.0   \n",
       "\n",
       "      HospitalizedIncrease  NegativeIncrease  PositiveIncrease  \\\n",
       "1274                2111.0            9873.0            8658.0   \n",
       "1275                1880.0           11073.0            8174.0   \n",
       "1276                 586.0           14642.0           10453.0   \n",
       "\n",
       "      TotalTestResultsIncrease  \n",
       "1274                   18531.0  \n",
       "1275                   19247.0  \n",
       "1276                   25095.0  "
      ]
     },
     "execution_count": 21,
     "metadata": {},
     "output_type": "execute_result"
    }
   ],
   "source": [
    "df_testing.loc[df_testing.State.isin(['NY'])].tail(3)"
   ]
  },
  {
   "cell_type": "code",
   "execution_count": 22,
   "metadata": {},
   "outputs": [
    {
     "data": {
      "application/vnd.plotly.v1+json": {
       "config": {
        "plotlyServerURL": "https://plot.ly"
       },
       "data": [
        {
         "hovertemplate": "Date=%{x}<br>PositiveIncrease=%{y}<extra></extra>",
         "legendgroup": "",
         "marker": {
          "color": "#636efa",
          "symbol": "circle"
         },
         "mode": "markers",
         "name": "",
         "showlegend": false,
         "type": "scatter",
         "x": [
          "2020-03-04",
          "2020-03-05",
          "2020-03-06",
          "2020-03-07",
          "2020-03-08",
          "2020-03-09",
          "2020-03-10",
          "2020-03-11",
          "2020-03-12",
          "2020-03-13",
          "2020-03-14",
          "2020-03-15",
          "2020-03-16",
          "2020-03-17",
          "2020-03-18",
          "2020-03-19",
          "2020-03-20",
          "2020-03-21",
          "2020-03-22",
          "2020-03-23",
          "2020-03-24",
          "2020-03-25",
          "2020-03-26",
          "2020-03-27",
          "2020-03-28",
          "2020-03-29",
          "2020-03-30",
          "2020-03-31",
          "2020-04-01",
          "2020-04-02",
          "2020-04-03",
          "2020-04-04",
          "2020-04-05",
          "2020-04-06",
          "2020-04-07",
          "2020-04-08"
         ],
         "xaxis": "x",
         "y": [
          null,
          16,
          11,
          43,
          29,
          37,
          31,
          43,
          0,
          205,
          103,
          205,
          221,
          750,
          682,
          1770,
          2950,
          3254,
          4812,
          5707,
          4790,
          5146,
          6447,
          7377,
          7683,
          7195,
          6984,
          9298,
          7917,
          8669,
          10482,
          10841,
          8327,
          8658,
          8174,
          10453
         ],
         "yaxis": "y"
        }
       ],
       "layout": {
        "legend": {
         "tracegroupgap": 0
        },
        "margin": {
         "t": 60
        },
        "template": {
         "data": {
          "bar": [
           {
            "error_x": {
             "color": "#2a3f5f"
            },
            "error_y": {
             "color": "#2a3f5f"
            },
            "marker": {
             "line": {
              "color": "#E5ECF6",
              "width": 0.5
             }
            },
            "type": "bar"
           }
          ],
          "barpolar": [
           {
            "marker": {
             "line": {
              "color": "#E5ECF6",
              "width": 0.5
             }
            },
            "type": "barpolar"
           }
          ],
          "carpet": [
           {
            "aaxis": {
             "endlinecolor": "#2a3f5f",
             "gridcolor": "white",
             "linecolor": "white",
             "minorgridcolor": "white",
             "startlinecolor": "#2a3f5f"
            },
            "baxis": {
             "endlinecolor": "#2a3f5f",
             "gridcolor": "white",
             "linecolor": "white",
             "minorgridcolor": "white",
             "startlinecolor": "#2a3f5f"
            },
            "type": "carpet"
           }
          ],
          "choropleth": [
           {
            "colorbar": {
             "outlinewidth": 0,
             "ticks": ""
            },
            "type": "choropleth"
           }
          ],
          "contour": [
           {
            "colorbar": {
             "outlinewidth": 0,
             "ticks": ""
            },
            "colorscale": [
             [
              0,
              "#0d0887"
             ],
             [
              0.1111111111111111,
              "#46039f"
             ],
             [
              0.2222222222222222,
              "#7201a8"
             ],
             [
              0.3333333333333333,
              "#9c179e"
             ],
             [
              0.4444444444444444,
              "#bd3786"
             ],
             [
              0.5555555555555556,
              "#d8576b"
             ],
             [
              0.6666666666666666,
              "#ed7953"
             ],
             [
              0.7777777777777778,
              "#fb9f3a"
             ],
             [
              0.8888888888888888,
              "#fdca26"
             ],
             [
              1,
              "#f0f921"
             ]
            ],
            "type": "contour"
           }
          ],
          "contourcarpet": [
           {
            "colorbar": {
             "outlinewidth": 0,
             "ticks": ""
            },
            "type": "contourcarpet"
           }
          ],
          "heatmap": [
           {
            "colorbar": {
             "outlinewidth": 0,
             "ticks": ""
            },
            "colorscale": [
             [
              0,
              "#0d0887"
             ],
             [
              0.1111111111111111,
              "#46039f"
             ],
             [
              0.2222222222222222,
              "#7201a8"
             ],
             [
              0.3333333333333333,
              "#9c179e"
             ],
             [
              0.4444444444444444,
              "#bd3786"
             ],
             [
              0.5555555555555556,
              "#d8576b"
             ],
             [
              0.6666666666666666,
              "#ed7953"
             ],
             [
              0.7777777777777778,
              "#fb9f3a"
             ],
             [
              0.8888888888888888,
              "#fdca26"
             ],
             [
              1,
              "#f0f921"
             ]
            ],
            "type": "heatmap"
           }
          ],
          "heatmapgl": [
           {
            "colorbar": {
             "outlinewidth": 0,
             "ticks": ""
            },
            "colorscale": [
             [
              0,
              "#0d0887"
             ],
             [
              0.1111111111111111,
              "#46039f"
             ],
             [
              0.2222222222222222,
              "#7201a8"
             ],
             [
              0.3333333333333333,
              "#9c179e"
             ],
             [
              0.4444444444444444,
              "#bd3786"
             ],
             [
              0.5555555555555556,
              "#d8576b"
             ],
             [
              0.6666666666666666,
              "#ed7953"
             ],
             [
              0.7777777777777778,
              "#fb9f3a"
             ],
             [
              0.8888888888888888,
              "#fdca26"
             ],
             [
              1,
              "#f0f921"
             ]
            ],
            "type": "heatmapgl"
           }
          ],
          "histogram": [
           {
            "marker": {
             "colorbar": {
              "outlinewidth": 0,
              "ticks": ""
             }
            },
            "type": "histogram"
           }
          ],
          "histogram2d": [
           {
            "colorbar": {
             "outlinewidth": 0,
             "ticks": ""
            },
            "colorscale": [
             [
              0,
              "#0d0887"
             ],
             [
              0.1111111111111111,
              "#46039f"
             ],
             [
              0.2222222222222222,
              "#7201a8"
             ],
             [
              0.3333333333333333,
              "#9c179e"
             ],
             [
              0.4444444444444444,
              "#bd3786"
             ],
             [
              0.5555555555555556,
              "#d8576b"
             ],
             [
              0.6666666666666666,
              "#ed7953"
             ],
             [
              0.7777777777777778,
              "#fb9f3a"
             ],
             [
              0.8888888888888888,
              "#fdca26"
             ],
             [
              1,
              "#f0f921"
             ]
            ],
            "type": "histogram2d"
           }
          ],
          "histogram2dcontour": [
           {
            "colorbar": {
             "outlinewidth": 0,
             "ticks": ""
            },
            "colorscale": [
             [
              0,
              "#0d0887"
             ],
             [
              0.1111111111111111,
              "#46039f"
             ],
             [
              0.2222222222222222,
              "#7201a8"
             ],
             [
              0.3333333333333333,
              "#9c179e"
             ],
             [
              0.4444444444444444,
              "#bd3786"
             ],
             [
              0.5555555555555556,
              "#d8576b"
             ],
             [
              0.6666666666666666,
              "#ed7953"
             ],
             [
              0.7777777777777778,
              "#fb9f3a"
             ],
             [
              0.8888888888888888,
              "#fdca26"
             ],
             [
              1,
              "#f0f921"
             ]
            ],
            "type": "histogram2dcontour"
           }
          ],
          "mesh3d": [
           {
            "colorbar": {
             "outlinewidth": 0,
             "ticks": ""
            },
            "type": "mesh3d"
           }
          ],
          "parcoords": [
           {
            "line": {
             "colorbar": {
              "outlinewidth": 0,
              "ticks": ""
             }
            },
            "type": "parcoords"
           }
          ],
          "pie": [
           {
            "automargin": true,
            "type": "pie"
           }
          ],
          "scatter": [
           {
            "marker": {
             "colorbar": {
              "outlinewidth": 0,
              "ticks": ""
             }
            },
            "type": "scatter"
           }
          ],
          "scatter3d": [
           {
            "line": {
             "colorbar": {
              "outlinewidth": 0,
              "ticks": ""
             }
            },
            "marker": {
             "colorbar": {
              "outlinewidth": 0,
              "ticks": ""
             }
            },
            "type": "scatter3d"
           }
          ],
          "scattercarpet": [
           {
            "marker": {
             "colorbar": {
              "outlinewidth": 0,
              "ticks": ""
             }
            },
            "type": "scattercarpet"
           }
          ],
          "scattergeo": [
           {
            "marker": {
             "colorbar": {
              "outlinewidth": 0,
              "ticks": ""
             }
            },
            "type": "scattergeo"
           }
          ],
          "scattergl": [
           {
            "marker": {
             "colorbar": {
              "outlinewidth": 0,
              "ticks": ""
             }
            },
            "type": "scattergl"
           }
          ],
          "scattermapbox": [
           {
            "marker": {
             "colorbar": {
              "outlinewidth": 0,
              "ticks": ""
             }
            },
            "type": "scattermapbox"
           }
          ],
          "scatterpolar": [
           {
            "marker": {
             "colorbar": {
              "outlinewidth": 0,
              "ticks": ""
             }
            },
            "type": "scatterpolar"
           }
          ],
          "scatterpolargl": [
           {
            "marker": {
             "colorbar": {
              "outlinewidth": 0,
              "ticks": ""
             }
            },
            "type": "scatterpolargl"
           }
          ],
          "scatterternary": [
           {
            "marker": {
             "colorbar": {
              "outlinewidth": 0,
              "ticks": ""
             }
            },
            "type": "scatterternary"
           }
          ],
          "surface": [
           {
            "colorbar": {
             "outlinewidth": 0,
             "ticks": ""
            },
            "colorscale": [
             [
              0,
              "#0d0887"
             ],
             [
              0.1111111111111111,
              "#46039f"
             ],
             [
              0.2222222222222222,
              "#7201a8"
             ],
             [
              0.3333333333333333,
              "#9c179e"
             ],
             [
              0.4444444444444444,
              "#bd3786"
             ],
             [
              0.5555555555555556,
              "#d8576b"
             ],
             [
              0.6666666666666666,
              "#ed7953"
             ],
             [
              0.7777777777777778,
              "#fb9f3a"
             ],
             [
              0.8888888888888888,
              "#fdca26"
             ],
             [
              1,
              "#f0f921"
             ]
            ],
            "type": "surface"
           }
          ],
          "table": [
           {
            "cells": {
             "fill": {
              "color": "#EBF0F8"
             },
             "line": {
              "color": "white"
             }
            },
            "header": {
             "fill": {
              "color": "#C8D4E3"
             },
             "line": {
              "color": "white"
             }
            },
            "type": "table"
           }
          ]
         },
         "layout": {
          "annotationdefaults": {
           "arrowcolor": "#2a3f5f",
           "arrowhead": 0,
           "arrowwidth": 1
          },
          "coloraxis": {
           "colorbar": {
            "outlinewidth": 0,
            "ticks": ""
           }
          },
          "colorscale": {
           "diverging": [
            [
             0,
             "#8e0152"
            ],
            [
             0.1,
             "#c51b7d"
            ],
            [
             0.2,
             "#de77ae"
            ],
            [
             0.3,
             "#f1b6da"
            ],
            [
             0.4,
             "#fde0ef"
            ],
            [
             0.5,
             "#f7f7f7"
            ],
            [
             0.6,
             "#e6f5d0"
            ],
            [
             0.7,
             "#b8e186"
            ],
            [
             0.8,
             "#7fbc41"
            ],
            [
             0.9,
             "#4d9221"
            ],
            [
             1,
             "#276419"
            ]
           ],
           "sequential": [
            [
             0,
             "#0d0887"
            ],
            [
             0.1111111111111111,
             "#46039f"
            ],
            [
             0.2222222222222222,
             "#7201a8"
            ],
            [
             0.3333333333333333,
             "#9c179e"
            ],
            [
             0.4444444444444444,
             "#bd3786"
            ],
            [
             0.5555555555555556,
             "#d8576b"
            ],
            [
             0.6666666666666666,
             "#ed7953"
            ],
            [
             0.7777777777777778,
             "#fb9f3a"
            ],
            [
             0.8888888888888888,
             "#fdca26"
            ],
            [
             1,
             "#f0f921"
            ]
           ],
           "sequentialminus": [
            [
             0,
             "#0d0887"
            ],
            [
             0.1111111111111111,
             "#46039f"
            ],
            [
             0.2222222222222222,
             "#7201a8"
            ],
            [
             0.3333333333333333,
             "#9c179e"
            ],
            [
             0.4444444444444444,
             "#bd3786"
            ],
            [
             0.5555555555555556,
             "#d8576b"
            ],
            [
             0.6666666666666666,
             "#ed7953"
            ],
            [
             0.7777777777777778,
             "#fb9f3a"
            ],
            [
             0.8888888888888888,
             "#fdca26"
            ],
            [
             1,
             "#f0f921"
            ]
           ]
          },
          "colorway": [
           "#636efa",
           "#EF553B",
           "#00cc96",
           "#ab63fa",
           "#FFA15A",
           "#19d3f3",
           "#FF6692",
           "#B6E880",
           "#FF97FF",
           "#FECB52"
          ],
          "font": {
           "color": "#2a3f5f"
          },
          "geo": {
           "bgcolor": "white",
           "lakecolor": "white",
           "landcolor": "#E5ECF6",
           "showlakes": true,
           "showland": true,
           "subunitcolor": "white"
          },
          "hoverlabel": {
           "align": "left"
          },
          "hovermode": "closest",
          "mapbox": {
           "style": "light"
          },
          "paper_bgcolor": "white",
          "plot_bgcolor": "#E5ECF6",
          "polar": {
           "angularaxis": {
            "gridcolor": "white",
            "linecolor": "white",
            "ticks": ""
           },
           "bgcolor": "#E5ECF6",
           "radialaxis": {
            "gridcolor": "white",
            "linecolor": "white",
            "ticks": ""
           }
          },
          "scene": {
           "xaxis": {
            "backgroundcolor": "#E5ECF6",
            "gridcolor": "white",
            "gridwidth": 2,
            "linecolor": "white",
            "showbackground": true,
            "ticks": "",
            "zerolinecolor": "white"
           },
           "yaxis": {
            "backgroundcolor": "#E5ECF6",
            "gridcolor": "white",
            "gridwidth": 2,
            "linecolor": "white",
            "showbackground": true,
            "ticks": "",
            "zerolinecolor": "white"
           },
           "zaxis": {
            "backgroundcolor": "#E5ECF6",
            "gridcolor": "white",
            "gridwidth": 2,
            "linecolor": "white",
            "showbackground": true,
            "ticks": "",
            "zerolinecolor": "white"
           }
          },
          "shapedefaults": {
           "line": {
            "color": "#2a3f5f"
           }
          },
          "ternary": {
           "aaxis": {
            "gridcolor": "white",
            "linecolor": "white",
            "ticks": ""
           },
           "baxis": {
            "gridcolor": "white",
            "linecolor": "white",
            "ticks": ""
           },
           "bgcolor": "#E5ECF6",
           "caxis": {
            "gridcolor": "white",
            "linecolor": "white",
            "ticks": ""
           }
          },
          "title": {
           "x": 0.05
          },
          "xaxis": {
           "automargin": true,
           "gridcolor": "white",
           "linecolor": "white",
           "ticks": "",
           "title": {
            "standoff": 15
           },
           "zerolinecolor": "white",
           "zerolinewidth": 2
          },
          "yaxis": {
           "automargin": true,
           "gridcolor": "white",
           "linecolor": "white",
           "ticks": "",
           "title": {
            "standoff": 15
           },
           "zerolinecolor": "white",
           "zerolinewidth": 2
          }
         }
        },
        "xaxis": {
         "anchor": "y",
         "domain": [
          0,
          1
         ],
         "title": {
          "text": "Date"
         }
        },
        "yaxis": {
         "anchor": "x",
         "domain": [
          0,
          1
         ],
         "title": {
          "text": "PositiveIncrease"
         },
         "type": "log"
        }
       }
      },
      "text/html": [
       "<div>\n",
       "        \n",
       "        \n",
       "            <div id=\"fb2429e1-1af1-4271-86ca-d011734d3e99\" class=\"plotly-graph-div\" style=\"height:525px; width:100%;\"></div>\n",
       "            <script type=\"text/javascript\">\n",
       "                require([\"plotly\"], function(Plotly) {\n",
       "                    window.PLOTLYENV=window.PLOTLYENV || {};\n",
       "                    \n",
       "                if (document.getElementById(\"fb2429e1-1af1-4271-86ca-d011734d3e99\")) {\n",
       "                    Plotly.newPlot(\n",
       "                        'fb2429e1-1af1-4271-86ca-d011734d3e99',\n",
       "                        [{\"hovertemplate\": \"Date=%{x}<br>PositiveIncrease=%{y}<extra></extra>\", \"legendgroup\": \"\", \"marker\": {\"color\": \"#636efa\", \"symbol\": \"circle\"}, \"mode\": \"markers\", \"name\": \"\", \"showlegend\": false, \"type\": \"scatter\", \"x\": [\"2020-03-04\", \"2020-03-05\", \"2020-03-06\", \"2020-03-07\", \"2020-03-08\", \"2020-03-09\", \"2020-03-10\", \"2020-03-11\", \"2020-03-12\", \"2020-03-13\", \"2020-03-14\", \"2020-03-15\", \"2020-03-16\", \"2020-03-17\", \"2020-03-18\", \"2020-03-19\", \"2020-03-20\", \"2020-03-21\", \"2020-03-22\", \"2020-03-23\", \"2020-03-24\", \"2020-03-25\", \"2020-03-26\", \"2020-03-27\", \"2020-03-28\", \"2020-03-29\", \"2020-03-30\", \"2020-03-31\", \"2020-04-01\", \"2020-04-02\", \"2020-04-03\", \"2020-04-04\", \"2020-04-05\", \"2020-04-06\", \"2020-04-07\", \"2020-04-08\"], \"xaxis\": \"x\", \"y\": [null, 16.0, 11.0, 43.0, 29.0, 37.0, 31.0, 43.0, 0.0, 205.0, 103.0, 205.0, 221.0, 750.0, 682.0, 1770.0, 2950.0, 3254.0, 4812.0, 5707.0, 4790.0, 5146.0, 6447.0, 7377.0, 7683.0, 7195.0, 6984.0, 9298.0, 7917.0, 8669.0, 10482.0, 10841.0, 8327.0, 8658.0, 8174.0, 10453.0], \"yaxis\": \"y\"}],\n",
       "                        {\"legend\": {\"tracegroupgap\": 0}, \"margin\": {\"t\": 60}, \"template\": {\"data\": {\"bar\": [{\"error_x\": {\"color\": \"#2a3f5f\"}, \"error_y\": {\"color\": \"#2a3f5f\"}, \"marker\": {\"line\": {\"color\": \"#E5ECF6\", \"width\": 0.5}}, \"type\": \"bar\"}], \"barpolar\": [{\"marker\": {\"line\": {\"color\": \"#E5ECF6\", \"width\": 0.5}}, \"type\": \"barpolar\"}], \"carpet\": [{\"aaxis\": {\"endlinecolor\": \"#2a3f5f\", \"gridcolor\": \"white\", \"linecolor\": \"white\", \"minorgridcolor\": \"white\", \"startlinecolor\": \"#2a3f5f\"}, \"baxis\": {\"endlinecolor\": \"#2a3f5f\", \"gridcolor\": \"white\", \"linecolor\": \"white\", \"minorgridcolor\": \"white\", \"startlinecolor\": \"#2a3f5f\"}, \"type\": \"carpet\"}], \"choropleth\": [{\"colorbar\": {\"outlinewidth\": 0, \"ticks\": \"\"}, \"type\": \"choropleth\"}], \"contour\": [{\"colorbar\": {\"outlinewidth\": 0, \"ticks\": \"\"}, \"colorscale\": [[0.0, \"#0d0887\"], [0.1111111111111111, \"#46039f\"], [0.2222222222222222, \"#7201a8\"], [0.3333333333333333, \"#9c179e\"], [0.4444444444444444, \"#bd3786\"], [0.5555555555555556, \"#d8576b\"], [0.6666666666666666, \"#ed7953\"], [0.7777777777777778, \"#fb9f3a\"], [0.8888888888888888, \"#fdca26\"], [1.0, \"#f0f921\"]], \"type\": \"contour\"}], \"contourcarpet\": [{\"colorbar\": {\"outlinewidth\": 0, \"ticks\": \"\"}, \"type\": \"contourcarpet\"}], \"heatmap\": [{\"colorbar\": {\"outlinewidth\": 0, \"ticks\": \"\"}, \"colorscale\": [[0.0, \"#0d0887\"], [0.1111111111111111, \"#46039f\"], [0.2222222222222222, \"#7201a8\"], [0.3333333333333333, \"#9c179e\"], [0.4444444444444444, \"#bd3786\"], [0.5555555555555556, \"#d8576b\"], [0.6666666666666666, \"#ed7953\"], [0.7777777777777778, \"#fb9f3a\"], [0.8888888888888888, \"#fdca26\"], [1.0, \"#f0f921\"]], \"type\": \"heatmap\"}], \"heatmapgl\": [{\"colorbar\": {\"outlinewidth\": 0, \"ticks\": \"\"}, \"colorscale\": [[0.0, \"#0d0887\"], [0.1111111111111111, \"#46039f\"], [0.2222222222222222, \"#7201a8\"], [0.3333333333333333, \"#9c179e\"], [0.4444444444444444, \"#bd3786\"], [0.5555555555555556, \"#d8576b\"], [0.6666666666666666, \"#ed7953\"], [0.7777777777777778, \"#fb9f3a\"], [0.8888888888888888, \"#fdca26\"], [1.0, \"#f0f921\"]], \"type\": \"heatmapgl\"}], \"histogram\": [{\"marker\": {\"colorbar\": {\"outlinewidth\": 0, \"ticks\": \"\"}}, \"type\": \"histogram\"}], \"histogram2d\": [{\"colorbar\": {\"outlinewidth\": 0, \"ticks\": \"\"}, \"colorscale\": [[0.0, \"#0d0887\"], [0.1111111111111111, \"#46039f\"], [0.2222222222222222, \"#7201a8\"], [0.3333333333333333, \"#9c179e\"], [0.4444444444444444, \"#bd3786\"], [0.5555555555555556, \"#d8576b\"], [0.6666666666666666, \"#ed7953\"], [0.7777777777777778, \"#fb9f3a\"], [0.8888888888888888, \"#fdca26\"], [1.0, \"#f0f921\"]], \"type\": \"histogram2d\"}], \"histogram2dcontour\": [{\"colorbar\": {\"outlinewidth\": 0, \"ticks\": \"\"}, \"colorscale\": [[0.0, \"#0d0887\"], [0.1111111111111111, \"#46039f\"], [0.2222222222222222, \"#7201a8\"], [0.3333333333333333, \"#9c179e\"], [0.4444444444444444, \"#bd3786\"], [0.5555555555555556, \"#d8576b\"], [0.6666666666666666, \"#ed7953\"], [0.7777777777777778, \"#fb9f3a\"], [0.8888888888888888, \"#fdca26\"], [1.0, \"#f0f921\"]], \"type\": \"histogram2dcontour\"}], \"mesh3d\": [{\"colorbar\": {\"outlinewidth\": 0, \"ticks\": \"\"}, \"type\": \"mesh3d\"}], \"parcoords\": [{\"line\": {\"colorbar\": {\"outlinewidth\": 0, \"ticks\": \"\"}}, \"type\": \"parcoords\"}], \"pie\": [{\"automargin\": true, \"type\": \"pie\"}], \"scatter\": [{\"marker\": {\"colorbar\": {\"outlinewidth\": 0, \"ticks\": \"\"}}, \"type\": \"scatter\"}], \"scatter3d\": [{\"line\": {\"colorbar\": {\"outlinewidth\": 0, \"ticks\": \"\"}}, \"marker\": {\"colorbar\": {\"outlinewidth\": 0, \"ticks\": \"\"}}, \"type\": \"scatter3d\"}], \"scattercarpet\": [{\"marker\": {\"colorbar\": {\"outlinewidth\": 0, \"ticks\": \"\"}}, \"type\": \"scattercarpet\"}], \"scattergeo\": [{\"marker\": {\"colorbar\": {\"outlinewidth\": 0, \"ticks\": \"\"}}, \"type\": \"scattergeo\"}], \"scattergl\": [{\"marker\": {\"colorbar\": {\"outlinewidth\": 0, \"ticks\": \"\"}}, \"type\": \"scattergl\"}], \"scattermapbox\": [{\"marker\": {\"colorbar\": {\"outlinewidth\": 0, \"ticks\": \"\"}}, \"type\": \"scattermapbox\"}], \"scatterpolar\": [{\"marker\": {\"colorbar\": {\"outlinewidth\": 0, \"ticks\": \"\"}}, \"type\": \"scatterpolar\"}], \"scatterpolargl\": [{\"marker\": {\"colorbar\": {\"outlinewidth\": 0, \"ticks\": \"\"}}, \"type\": \"scatterpolargl\"}], \"scatterternary\": [{\"marker\": {\"colorbar\": {\"outlinewidth\": 0, \"ticks\": \"\"}}, \"type\": \"scatterternary\"}], \"surface\": [{\"colorbar\": {\"outlinewidth\": 0, \"ticks\": \"\"}, \"colorscale\": [[0.0, \"#0d0887\"], [0.1111111111111111, \"#46039f\"], [0.2222222222222222, \"#7201a8\"], [0.3333333333333333, \"#9c179e\"], [0.4444444444444444, \"#bd3786\"], [0.5555555555555556, \"#d8576b\"], [0.6666666666666666, \"#ed7953\"], [0.7777777777777778, \"#fb9f3a\"], [0.8888888888888888, \"#fdca26\"], [1.0, \"#f0f921\"]], \"type\": \"surface\"}], \"table\": [{\"cells\": {\"fill\": {\"color\": \"#EBF0F8\"}, \"line\": {\"color\": \"white\"}}, \"header\": {\"fill\": {\"color\": \"#C8D4E3\"}, \"line\": {\"color\": \"white\"}}, \"type\": \"table\"}]}, \"layout\": {\"annotationdefaults\": {\"arrowcolor\": \"#2a3f5f\", \"arrowhead\": 0, \"arrowwidth\": 1}, \"coloraxis\": {\"colorbar\": {\"outlinewidth\": 0, \"ticks\": \"\"}}, \"colorscale\": {\"diverging\": [[0, \"#8e0152\"], [0.1, \"#c51b7d\"], [0.2, \"#de77ae\"], [0.3, \"#f1b6da\"], [0.4, \"#fde0ef\"], [0.5, \"#f7f7f7\"], [0.6, \"#e6f5d0\"], [0.7, \"#b8e186\"], [0.8, \"#7fbc41\"], [0.9, \"#4d9221\"], [1, \"#276419\"]], \"sequential\": [[0.0, \"#0d0887\"], [0.1111111111111111, \"#46039f\"], [0.2222222222222222, \"#7201a8\"], [0.3333333333333333, \"#9c179e\"], [0.4444444444444444, \"#bd3786\"], [0.5555555555555556, \"#d8576b\"], [0.6666666666666666, \"#ed7953\"], [0.7777777777777778, \"#fb9f3a\"], [0.8888888888888888, \"#fdca26\"], [1.0, \"#f0f921\"]], \"sequentialminus\": [[0.0, \"#0d0887\"], [0.1111111111111111, \"#46039f\"], [0.2222222222222222, \"#7201a8\"], [0.3333333333333333, \"#9c179e\"], [0.4444444444444444, \"#bd3786\"], [0.5555555555555556, \"#d8576b\"], [0.6666666666666666, \"#ed7953\"], [0.7777777777777778, \"#fb9f3a\"], [0.8888888888888888, \"#fdca26\"], [1.0, \"#f0f921\"]]}, \"colorway\": [\"#636efa\", \"#EF553B\", \"#00cc96\", \"#ab63fa\", \"#FFA15A\", \"#19d3f3\", \"#FF6692\", \"#B6E880\", \"#FF97FF\", \"#FECB52\"], \"font\": {\"color\": \"#2a3f5f\"}, \"geo\": {\"bgcolor\": \"white\", \"lakecolor\": \"white\", \"landcolor\": \"#E5ECF6\", \"showlakes\": true, \"showland\": true, \"subunitcolor\": \"white\"}, \"hoverlabel\": {\"align\": \"left\"}, \"hovermode\": \"closest\", \"mapbox\": {\"style\": \"light\"}, \"paper_bgcolor\": \"white\", \"plot_bgcolor\": \"#E5ECF6\", \"polar\": {\"angularaxis\": {\"gridcolor\": \"white\", \"linecolor\": \"white\", \"ticks\": \"\"}, \"bgcolor\": \"#E5ECF6\", \"radialaxis\": {\"gridcolor\": \"white\", \"linecolor\": \"white\", \"ticks\": \"\"}}, \"scene\": {\"xaxis\": {\"backgroundcolor\": \"#E5ECF6\", \"gridcolor\": \"white\", \"gridwidth\": 2, \"linecolor\": \"white\", \"showbackground\": true, \"ticks\": \"\", \"zerolinecolor\": \"white\"}, \"yaxis\": {\"backgroundcolor\": \"#E5ECF6\", \"gridcolor\": \"white\", \"gridwidth\": 2, \"linecolor\": \"white\", \"showbackground\": true, \"ticks\": \"\", \"zerolinecolor\": \"white\"}, \"zaxis\": {\"backgroundcolor\": \"#E5ECF6\", \"gridcolor\": \"white\", \"gridwidth\": 2, \"linecolor\": \"white\", \"showbackground\": true, \"ticks\": \"\", \"zerolinecolor\": \"white\"}}, \"shapedefaults\": {\"line\": {\"color\": \"#2a3f5f\"}}, \"ternary\": {\"aaxis\": {\"gridcolor\": \"white\", \"linecolor\": \"white\", \"ticks\": \"\"}, \"baxis\": {\"gridcolor\": \"white\", \"linecolor\": \"white\", \"ticks\": \"\"}, \"bgcolor\": \"#E5ECF6\", \"caxis\": {\"gridcolor\": \"white\", \"linecolor\": \"white\", \"ticks\": \"\"}}, \"title\": {\"x\": 0.05}, \"xaxis\": {\"automargin\": true, \"gridcolor\": \"white\", \"linecolor\": \"white\", \"ticks\": \"\", \"title\": {\"standoff\": 15}, \"zerolinecolor\": \"white\", \"zerolinewidth\": 2}, \"yaxis\": {\"automargin\": true, \"gridcolor\": \"white\", \"linecolor\": \"white\", \"ticks\": \"\", \"title\": {\"standoff\": 15}, \"zerolinecolor\": \"white\", \"zerolinewidth\": 2}}}, \"xaxis\": {\"anchor\": \"y\", \"domain\": [0.0, 1.0], \"title\": {\"text\": \"Date\"}}, \"yaxis\": {\"anchor\": \"x\", \"domain\": [0.0, 1.0], \"title\": {\"text\": \"PositiveIncrease\"}, \"type\": \"log\"}},\n",
       "                        {\"responsive\": true}\n",
       "                    ).then(function(){\n",
       "                            \n",
       "var gd = document.getElementById('fb2429e1-1af1-4271-86ca-d011734d3e99');\n",
       "var x = new MutationObserver(function (mutations, observer) {{\n",
       "        var display = window.getComputedStyle(gd).display;\n",
       "        if (!display || display === 'none') {{\n",
       "            console.log([gd, 'removed!']);\n",
       "            Plotly.purge(gd);\n",
       "            observer.disconnect();\n",
       "        }}\n",
       "}});\n",
       "\n",
       "// Listen for the removal of the full notebook cells\n",
       "var notebookContainer = gd.closest('#notebook-container');\n",
       "if (notebookContainer) {{\n",
       "    x.observe(notebookContainer, {childList: true});\n",
       "}}\n",
       "\n",
       "// Listen for the clearing of the current output cell\n",
       "var outputEl = gd.closest('.output');\n",
       "if (outputEl) {{\n",
       "    x.observe(outputEl, {childList: true});\n",
       "}}\n",
       "\n",
       "                        })\n",
       "                };\n",
       "                });\n",
       "            </script>\n",
       "        </div>"
      ]
     },
     "metadata": {},
     "output_type": "display_data"
    }
   ],
   "source": [
    "px.scatter(data_frame=df_testing.loc[df_testing.State.isin(['NY'])],\n",
    "           x='Date', y='PositiveIncrease', log_y=True\n",
    "          )\n"
   ]
  },
  {
   "cell_type": "code",
   "execution_count": 23,
   "metadata": {},
   "outputs": [
    {
     "data": {
      "application/vnd.plotly.v1+json": {
       "config": {
        "plotlyServerURL": "https://plot.ly"
       },
       "data": [
        {
         "customdata": [
          [
           6,
           78,
           48
          ],
          [
           22,
           122,
           76
          ],
          [
           33,
           361,
           92
          ],
          [
           76,
           404,
           92
          ],
          [
           105,
           197,
           92
          ],
          [
           142,
           234,
           92
          ],
          [
           173,
           265,
           92
          ],
          [
           216,
           308,
           92
          ],
          [
           216,
           308,
           92
          ],
          [
           421,
           3200,
           2779
          ],
          [
           524,
           3303,
           2779
          ],
          [
           729,
           5272,
           4543
          ],
          [
           950,
           5493,
           4543
          ],
          [
           1700,
           7206,
           5506
          ],
          [
           2382,
           14597,
           12215
          ],
          [
           4152,
           22284,
           18132
          ],
          [
           7102,
           32427,
           25325
          ],
          [
           10356,
           45437,
           35081
          ],
          [
           15168,
           61401,
           46233
          ],
          [
           20875,
           78289,
           57414
          ],
          [
           25665,
           91270,
           65605
          ],
          [
           30811,
           103479,
           72668
          ],
          [
           37258,
           122104,
           84846
          ],
          [
           44635,
           145753,
           101118
          ],
          [
           52318,
           155934,
           103616
          ],
          [
           59513,
           172360,
           112847
          ],
          [
           66497,
           186468,
           119971
          ],
          [
           75795,
           205186,
           129391
          ],
          [
           83712,
           220880,
           137168
          ],
          [
           92381,
           238965,
           146584
          ],
          [
           102863,
           260520,
           157657
          ],
          [
           113704,
           283621,
           169917
          ],
          [
           122031,
           302280,
           180249
          ],
          [
           130689,
           320811,
           190122
          ],
          [
           138863,
           340058,
           201195
          ],
          [
           149316,
           365153,
           215837
          ]
         ],
         "hovertemplate": "<b>%{hovertext}</b><br><br>Total=%{customdata[1]}<br>Positive=%{customdata[0]}<br>Negative=%{customdata[2]}<extra></extra>",
         "hovertext": [
          "2020-03-04",
          "2020-03-05",
          "2020-03-06",
          "2020-03-07",
          "2020-03-08",
          "2020-03-09",
          "2020-03-10",
          "2020-03-11",
          "2020-03-12",
          "2020-03-13",
          "2020-03-14",
          "2020-03-15",
          "2020-03-16",
          "2020-03-17",
          "2020-03-18",
          "2020-03-19",
          "2020-03-20",
          "2020-03-21",
          "2020-03-22",
          "2020-03-23",
          "2020-03-24",
          "2020-03-25",
          "2020-03-26",
          "2020-03-27",
          "2020-03-28",
          "2020-03-29",
          "2020-03-30",
          "2020-03-31",
          "2020-04-01",
          "2020-04-02",
          "2020-04-03",
          "2020-04-04",
          "2020-04-05",
          "2020-04-06",
          "2020-04-07",
          "2020-04-08"
         ],
         "legendgroup": "",
         "marker": {
          "color": "#F8766D",
          "symbol": "circle"
         },
         "mode": "markers",
         "name": "",
         "showlegend": false,
         "type": "scatter",
         "x": [
          78,
          122,
          361,
          404,
          197,
          234,
          265,
          308,
          308,
          3200,
          3303,
          5272,
          5493,
          7206,
          14597,
          22284,
          32427,
          45437,
          61401,
          78289,
          91270,
          103479,
          122104,
          145753,
          155934,
          172360,
          186468,
          205186,
          220880,
          238965,
          260520,
          283621,
          302280,
          320811,
          340058,
          365153
         ],
         "xaxis": "x",
         "y": [
          6,
          22,
          33,
          76,
          105,
          142,
          173,
          216,
          216,
          421,
          524,
          729,
          950,
          1700,
          2382,
          4152,
          7102,
          10356,
          15168,
          20875,
          25665,
          30811,
          37258,
          44635,
          52318,
          59513,
          66497,
          75795,
          83712,
          92381,
          102863,
          113704,
          122031,
          130689,
          138863,
          149316
         ],
         "yaxis": "y"
        }
       ],
       "layout": {
        "legend": {
         "tracegroupgap": 0
        },
        "margin": {
         "t": 60
        },
        "template": {
         "data": {
          "bar": [
           {
            "error_x": {
             "color": "rgb(51,51,51)"
            },
            "error_y": {
             "color": "rgb(51,51,51)"
            },
            "marker": {
             "line": {
              "color": "rgb(237,237,237)",
              "width": 0.5
             }
            },
            "type": "bar"
           }
          ],
          "barpolar": [
           {
            "marker": {
             "line": {
              "color": "rgb(237,237,237)",
              "width": 0.5
             }
            },
            "type": "barpolar"
           }
          ],
          "carpet": [
           {
            "aaxis": {
             "endlinecolor": "rgb(51,51,51)",
             "gridcolor": "white",
             "linecolor": "white",
             "minorgridcolor": "white",
             "startlinecolor": "rgb(51,51,51)"
            },
            "baxis": {
             "endlinecolor": "rgb(51,51,51)",
             "gridcolor": "white",
             "linecolor": "white",
             "minorgridcolor": "white",
             "startlinecolor": "rgb(51,51,51)"
            },
            "type": "carpet"
           }
          ],
          "choropleth": [
           {
            "colorbar": {
             "outlinewidth": 0,
             "tickcolor": "rgb(237,237,237)",
             "ticklen": 6,
             "ticks": "inside"
            },
            "type": "choropleth"
           }
          ],
          "contour": [
           {
            "colorbar": {
             "outlinewidth": 0,
             "tickcolor": "rgb(237,237,237)",
             "ticklen": 6,
             "ticks": "inside"
            },
            "colorscale": [
             [
              0,
              "rgb(20,44,66)"
             ],
             [
              1,
              "rgb(90,179,244)"
             ]
            ],
            "type": "contour"
           }
          ],
          "contourcarpet": [
           {
            "colorbar": {
             "outlinewidth": 0,
             "tickcolor": "rgb(237,237,237)",
             "ticklen": 6,
             "ticks": "inside"
            },
            "type": "contourcarpet"
           }
          ],
          "heatmap": [
           {
            "colorbar": {
             "outlinewidth": 0,
             "tickcolor": "rgb(237,237,237)",
             "ticklen": 6,
             "ticks": "inside"
            },
            "colorscale": [
             [
              0,
              "rgb(20,44,66)"
             ],
             [
              1,
              "rgb(90,179,244)"
             ]
            ],
            "type": "heatmap"
           }
          ],
          "heatmapgl": [
           {
            "colorbar": {
             "outlinewidth": 0,
             "tickcolor": "rgb(237,237,237)",
             "ticklen": 6,
             "ticks": "inside"
            },
            "colorscale": [
             [
              0,
              "rgb(20,44,66)"
             ],
             [
              1,
              "rgb(90,179,244)"
             ]
            ],
            "type": "heatmapgl"
           }
          ],
          "histogram": [
           {
            "marker": {
             "colorbar": {
              "outlinewidth": 0,
              "tickcolor": "rgb(237,237,237)",
              "ticklen": 6,
              "ticks": "inside"
             }
            },
            "type": "histogram"
           }
          ],
          "histogram2d": [
           {
            "colorbar": {
             "outlinewidth": 0,
             "tickcolor": "rgb(237,237,237)",
             "ticklen": 6,
             "ticks": "inside"
            },
            "colorscale": [
             [
              0,
              "rgb(20,44,66)"
             ],
             [
              1,
              "rgb(90,179,244)"
             ]
            ],
            "type": "histogram2d"
           }
          ],
          "histogram2dcontour": [
           {
            "colorbar": {
             "outlinewidth": 0,
             "tickcolor": "rgb(237,237,237)",
             "ticklen": 6,
             "ticks": "inside"
            },
            "colorscale": [
             [
              0,
              "rgb(20,44,66)"
             ],
             [
              1,
              "rgb(90,179,244)"
             ]
            ],
            "type": "histogram2dcontour"
           }
          ],
          "mesh3d": [
           {
            "colorbar": {
             "outlinewidth": 0,
             "tickcolor": "rgb(237,237,237)",
             "ticklen": 6,
             "ticks": "inside"
            },
            "type": "mesh3d"
           }
          ],
          "parcoords": [
           {
            "line": {
             "colorbar": {
              "outlinewidth": 0,
              "tickcolor": "rgb(237,237,237)",
              "ticklen": 6,
              "ticks": "inside"
             }
            },
            "type": "parcoords"
           }
          ],
          "pie": [
           {
            "automargin": true,
            "type": "pie"
           }
          ],
          "scatter": [
           {
            "marker": {
             "colorbar": {
              "outlinewidth": 0,
              "tickcolor": "rgb(237,237,237)",
              "ticklen": 6,
              "ticks": "inside"
             }
            },
            "type": "scatter"
           }
          ],
          "scatter3d": [
           {
            "line": {
             "colorbar": {
              "outlinewidth": 0,
              "tickcolor": "rgb(237,237,237)",
              "ticklen": 6,
              "ticks": "inside"
             }
            },
            "marker": {
             "colorbar": {
              "outlinewidth": 0,
              "tickcolor": "rgb(237,237,237)",
              "ticklen": 6,
              "ticks": "inside"
             }
            },
            "type": "scatter3d"
           }
          ],
          "scattercarpet": [
           {
            "marker": {
             "colorbar": {
              "outlinewidth": 0,
              "tickcolor": "rgb(237,237,237)",
              "ticklen": 6,
              "ticks": "inside"
             }
            },
            "type": "scattercarpet"
           }
          ],
          "scattergeo": [
           {
            "marker": {
             "colorbar": {
              "outlinewidth": 0,
              "tickcolor": "rgb(237,237,237)",
              "ticklen": 6,
              "ticks": "inside"
             }
            },
            "type": "scattergeo"
           }
          ],
          "scattergl": [
           {
            "marker": {
             "colorbar": {
              "outlinewidth": 0,
              "tickcolor": "rgb(237,237,237)",
              "ticklen": 6,
              "ticks": "inside"
             }
            },
            "type": "scattergl"
           }
          ],
          "scattermapbox": [
           {
            "marker": {
             "colorbar": {
              "outlinewidth": 0,
              "tickcolor": "rgb(237,237,237)",
              "ticklen": 6,
              "ticks": "inside"
             }
            },
            "type": "scattermapbox"
           }
          ],
          "scatterpolar": [
           {
            "marker": {
             "colorbar": {
              "outlinewidth": 0,
              "tickcolor": "rgb(237,237,237)",
              "ticklen": 6,
              "ticks": "inside"
             }
            },
            "type": "scatterpolar"
           }
          ],
          "scatterpolargl": [
           {
            "marker": {
             "colorbar": {
              "outlinewidth": 0,
              "tickcolor": "rgb(237,237,237)",
              "ticklen": 6,
              "ticks": "inside"
             }
            },
            "type": "scatterpolargl"
           }
          ],
          "scatterternary": [
           {
            "marker": {
             "colorbar": {
              "outlinewidth": 0,
              "tickcolor": "rgb(237,237,237)",
              "ticklen": 6,
              "ticks": "inside"
             }
            },
            "type": "scatterternary"
           }
          ],
          "surface": [
           {
            "colorbar": {
             "outlinewidth": 0,
             "tickcolor": "rgb(237,237,237)",
             "ticklen": 6,
             "ticks": "inside"
            },
            "colorscale": [
             [
              0,
              "rgb(20,44,66)"
             ],
             [
              1,
              "rgb(90,179,244)"
             ]
            ],
            "type": "surface"
           }
          ],
          "table": [
           {
            "cells": {
             "fill": {
              "color": "rgb(237,237,237)"
             },
             "line": {
              "color": "white"
             }
            },
            "header": {
             "fill": {
              "color": "rgb(217,217,217)"
             },
             "line": {
              "color": "white"
             }
            },
            "type": "table"
           }
          ]
         },
         "layout": {
          "annotationdefaults": {
           "arrowhead": 0,
           "arrowwidth": 1
          },
          "coloraxis": {
           "colorbar": {
            "outlinewidth": 0,
            "tickcolor": "rgb(237,237,237)",
            "ticklen": 6,
            "ticks": "inside"
           }
          },
          "colorscale": {
           "sequential": [
            [
             0,
             "rgb(20,44,66)"
            ],
            [
             1,
             "rgb(90,179,244)"
            ]
           ],
           "sequentialminus": [
            [
             0,
             "rgb(20,44,66)"
            ],
            [
             1,
             "rgb(90,179,244)"
            ]
           ]
          },
          "colorway": [
           "#F8766D",
           "#A3A500",
           "#00BF7D",
           "#00B0F6",
           "#E76BF3"
          ],
          "font": {
           "color": "rgb(51,51,51)"
          },
          "geo": {
           "bgcolor": "white",
           "lakecolor": "white",
           "landcolor": "rgb(237,237,237)",
           "showlakes": true,
           "showland": true,
           "subunitcolor": "white"
          },
          "hoverlabel": {
           "align": "left"
          },
          "hovermode": "closest",
          "paper_bgcolor": "white",
          "plot_bgcolor": "rgb(237,237,237)",
          "polar": {
           "angularaxis": {
            "gridcolor": "white",
            "linecolor": "white",
            "showgrid": true,
            "tickcolor": "rgb(51,51,51)",
            "ticks": "outside"
           },
           "bgcolor": "rgb(237,237,237)",
           "radialaxis": {
            "gridcolor": "white",
            "linecolor": "white",
            "showgrid": true,
            "tickcolor": "rgb(51,51,51)",
            "ticks": "outside"
           }
          },
          "scene": {
           "xaxis": {
            "backgroundcolor": "rgb(237,237,237)",
            "gridcolor": "white",
            "gridwidth": 2,
            "linecolor": "white",
            "showbackground": true,
            "showgrid": true,
            "tickcolor": "rgb(51,51,51)",
            "ticks": "outside",
            "zerolinecolor": "white"
           },
           "yaxis": {
            "backgroundcolor": "rgb(237,237,237)",
            "gridcolor": "white",
            "gridwidth": 2,
            "linecolor": "white",
            "showbackground": true,
            "showgrid": true,
            "tickcolor": "rgb(51,51,51)",
            "ticks": "outside",
            "zerolinecolor": "white"
           },
           "zaxis": {
            "backgroundcolor": "rgb(237,237,237)",
            "gridcolor": "white",
            "gridwidth": 2,
            "linecolor": "white",
            "showbackground": true,
            "showgrid": true,
            "tickcolor": "rgb(51,51,51)",
            "ticks": "outside",
            "zerolinecolor": "white"
           }
          },
          "shapedefaults": {
           "fillcolor": "black",
           "line": {
            "width": 0
           },
           "opacity": 0.3
          },
          "ternary": {
           "aaxis": {
            "gridcolor": "white",
            "linecolor": "white",
            "showgrid": true,
            "tickcolor": "rgb(51,51,51)",
            "ticks": "outside"
           },
           "baxis": {
            "gridcolor": "white",
            "linecolor": "white",
            "showgrid": true,
            "tickcolor": "rgb(51,51,51)",
            "ticks": "outside"
           },
           "bgcolor": "rgb(237,237,237)",
           "caxis": {
            "gridcolor": "white",
            "linecolor": "white",
            "showgrid": true,
            "tickcolor": "rgb(51,51,51)",
            "ticks": "outside"
           }
          },
          "xaxis": {
           "automargin": true,
           "gridcolor": "white",
           "linecolor": "white",
           "showgrid": true,
           "tickcolor": "rgb(51,51,51)",
           "ticks": "outside",
           "title": {
            "standoff": 15
           },
           "zerolinecolor": "white"
          },
          "yaxis": {
           "automargin": true,
           "gridcolor": "white",
           "linecolor": "white",
           "showgrid": true,
           "tickcolor": "rgb(51,51,51)",
           "ticks": "outside",
           "title": {
            "standoff": 15
           },
           "zerolinecolor": "white"
          }
         }
        },
        "xaxis": {
         "anchor": "y",
         "domain": [
          0,
          1
         ],
         "title": {
          "text": "Total"
         }
        },
        "yaxis": {
         "anchor": "x",
         "domain": [
          0,
          1
         ],
         "title": {
          "text": "Positive"
         }
        }
       }
      },
      "text/html": [
       "<div>\n",
       "        \n",
       "        \n",
       "            <div id=\"26b9e016-094e-41d9-a088-9bbd0ed2e190\" class=\"plotly-graph-div\" style=\"height:525px; width:100%;\"></div>\n",
       "            <script type=\"text/javascript\">\n",
       "                require([\"plotly\"], function(Plotly) {\n",
       "                    window.PLOTLYENV=window.PLOTLYENV || {};\n",
       "                    \n",
       "                if (document.getElementById(\"26b9e016-094e-41d9-a088-9bbd0ed2e190\")) {\n",
       "                    Plotly.newPlot(\n",
       "                        '26b9e016-094e-41d9-a088-9bbd0ed2e190',\n",
       "                        [{\"customdata\": [[6.0, 78.0, 48.0], [22.0, 122.0, 76.0], [33.0, 361.0, 92.0], [76.0, 404.0, 92.0], [105.0, 197.0, 92.0], [142.0, 234.0, 92.0], [173.0, 265.0, 92.0], [216.0, 308.0, 92.0], [216.0, 308.0, 92.0], [421.0, 3200.0, 2779.0], [524.0, 3303.0, 2779.0], [729.0, 5272.0, 4543.0], [950.0, 5493.0, 4543.0], [1700.0, 7206.0, 5506.0], [2382.0, 14597.0, 12215.0], [4152.0, 22284.0, 18132.0], [7102.0, 32427.0, 25325.0], [10356.0, 45437.0, 35081.0], [15168.0, 61401.0, 46233.0], [20875.0, 78289.0, 57414.0], [25665.0, 91270.0, 65605.0], [30811.0, 103479.0, 72668.0], [37258.0, 122104.0, 84846.0], [44635.0, 145753.0, 101118.0], [52318.0, 155934.0, 103616.0], [59513.0, 172360.0, 112847.0], [66497.0, 186468.0, 119971.0], [75795.0, 205186.0, 129391.0], [83712.0, 220880.0, 137168.0], [92381.0, 238965.0, 146584.0], [102863.0, 260520.0, 157657.0], [113704.0, 283621.0, 169917.0], [122031.0, 302280.0, 180249.0], [130689.0, 320811.0, 190122.0], [138863.0, 340058.0, 201195.0], [149316.0, 365153.0, 215837.0]], \"hovertemplate\": \"<b>%{hovertext}</b><br><br>Total=%{customdata[1]}<br>Positive=%{customdata[0]}<br>Negative=%{customdata[2]}<extra></extra>\", \"hovertext\": [\"2020-03-04\", \"2020-03-05\", \"2020-03-06\", \"2020-03-07\", \"2020-03-08\", \"2020-03-09\", \"2020-03-10\", \"2020-03-11\", \"2020-03-12\", \"2020-03-13\", \"2020-03-14\", \"2020-03-15\", \"2020-03-16\", \"2020-03-17\", \"2020-03-18\", \"2020-03-19\", \"2020-03-20\", \"2020-03-21\", \"2020-03-22\", \"2020-03-23\", \"2020-03-24\", \"2020-03-25\", \"2020-03-26\", \"2020-03-27\", \"2020-03-28\", \"2020-03-29\", \"2020-03-30\", \"2020-03-31\", \"2020-04-01\", \"2020-04-02\", \"2020-04-03\", \"2020-04-04\", \"2020-04-05\", \"2020-04-06\", \"2020-04-07\", \"2020-04-08\"], \"legendgroup\": \"\", \"marker\": {\"color\": \"#F8766D\", \"symbol\": \"circle\"}, \"mode\": \"markers\", \"name\": \"\", \"showlegend\": false, \"type\": \"scatter\", \"x\": [78, 122, 361, 404, 197, 234, 265, 308, 308, 3200, 3303, 5272, 5493, 7206, 14597, 22284, 32427, 45437, 61401, 78289, 91270, 103479, 122104, 145753, 155934, 172360, 186468, 205186, 220880, 238965, 260520, 283621, 302280, 320811, 340058, 365153], \"xaxis\": \"x\", \"y\": [6.0, 22.0, 33.0, 76.0, 105.0, 142.0, 173.0, 216.0, 216.0, 421.0, 524.0, 729.0, 950.0, 1700.0, 2382.0, 4152.0, 7102.0, 10356.0, 15168.0, 20875.0, 25665.0, 30811.0, 37258.0, 44635.0, 52318.0, 59513.0, 66497.0, 75795.0, 83712.0, 92381.0, 102863.0, 113704.0, 122031.0, 130689.0, 138863.0, 149316.0], \"yaxis\": \"y\"}],\n",
       "                        {\"legend\": {\"tracegroupgap\": 0}, \"margin\": {\"t\": 60}, \"template\": {\"data\": {\"bar\": [{\"error_x\": {\"color\": \"rgb(51,51,51)\"}, \"error_y\": {\"color\": \"rgb(51,51,51)\"}, \"marker\": {\"line\": {\"color\": \"rgb(237,237,237)\", \"width\": 0.5}}, \"type\": \"bar\"}], \"barpolar\": [{\"marker\": {\"line\": {\"color\": \"rgb(237,237,237)\", \"width\": 0.5}}, \"type\": \"barpolar\"}], \"carpet\": [{\"aaxis\": {\"endlinecolor\": \"rgb(51,51,51)\", \"gridcolor\": \"white\", \"linecolor\": \"white\", \"minorgridcolor\": \"white\", \"startlinecolor\": \"rgb(51,51,51)\"}, \"baxis\": {\"endlinecolor\": \"rgb(51,51,51)\", \"gridcolor\": \"white\", \"linecolor\": \"white\", \"minorgridcolor\": \"white\", \"startlinecolor\": \"rgb(51,51,51)\"}, \"type\": \"carpet\"}], \"choropleth\": [{\"colorbar\": {\"outlinewidth\": 0, \"tickcolor\": \"rgb(237,237,237)\", \"ticklen\": 6, \"ticks\": \"inside\"}, \"type\": \"choropleth\"}], \"contour\": [{\"colorbar\": {\"outlinewidth\": 0, \"tickcolor\": \"rgb(237,237,237)\", \"ticklen\": 6, \"ticks\": \"inside\"}, \"colorscale\": [[0, \"rgb(20,44,66)\"], [1, \"rgb(90,179,244)\"]], \"type\": \"contour\"}], \"contourcarpet\": [{\"colorbar\": {\"outlinewidth\": 0, \"tickcolor\": \"rgb(237,237,237)\", \"ticklen\": 6, \"ticks\": \"inside\"}, \"type\": \"contourcarpet\"}], \"heatmap\": [{\"colorbar\": {\"outlinewidth\": 0, \"tickcolor\": \"rgb(237,237,237)\", \"ticklen\": 6, \"ticks\": \"inside\"}, \"colorscale\": [[0, \"rgb(20,44,66)\"], [1, \"rgb(90,179,244)\"]], \"type\": \"heatmap\"}], \"heatmapgl\": [{\"colorbar\": {\"outlinewidth\": 0, \"tickcolor\": \"rgb(237,237,237)\", \"ticklen\": 6, \"ticks\": \"inside\"}, \"colorscale\": [[0, \"rgb(20,44,66)\"], [1, \"rgb(90,179,244)\"]], \"type\": \"heatmapgl\"}], \"histogram\": [{\"marker\": {\"colorbar\": {\"outlinewidth\": 0, \"tickcolor\": \"rgb(237,237,237)\", \"ticklen\": 6, \"ticks\": \"inside\"}}, \"type\": \"histogram\"}], \"histogram2d\": [{\"colorbar\": {\"outlinewidth\": 0, \"tickcolor\": \"rgb(237,237,237)\", \"ticklen\": 6, \"ticks\": \"inside\"}, \"colorscale\": [[0, \"rgb(20,44,66)\"], [1, \"rgb(90,179,244)\"]], \"type\": \"histogram2d\"}], \"histogram2dcontour\": [{\"colorbar\": {\"outlinewidth\": 0, \"tickcolor\": \"rgb(237,237,237)\", \"ticklen\": 6, \"ticks\": \"inside\"}, \"colorscale\": [[0, \"rgb(20,44,66)\"], [1, \"rgb(90,179,244)\"]], \"type\": \"histogram2dcontour\"}], \"mesh3d\": [{\"colorbar\": {\"outlinewidth\": 0, \"tickcolor\": \"rgb(237,237,237)\", \"ticklen\": 6, \"ticks\": \"inside\"}, \"type\": \"mesh3d\"}], \"parcoords\": [{\"line\": {\"colorbar\": {\"outlinewidth\": 0, \"tickcolor\": \"rgb(237,237,237)\", \"ticklen\": 6, \"ticks\": \"inside\"}}, \"type\": \"parcoords\"}], \"pie\": [{\"automargin\": true, \"type\": \"pie\"}], \"scatter\": [{\"marker\": {\"colorbar\": {\"outlinewidth\": 0, \"tickcolor\": \"rgb(237,237,237)\", \"ticklen\": 6, \"ticks\": \"inside\"}}, \"type\": \"scatter\"}], \"scatter3d\": [{\"line\": {\"colorbar\": {\"outlinewidth\": 0, \"tickcolor\": \"rgb(237,237,237)\", \"ticklen\": 6, \"ticks\": \"inside\"}}, \"marker\": {\"colorbar\": {\"outlinewidth\": 0, \"tickcolor\": \"rgb(237,237,237)\", \"ticklen\": 6, \"ticks\": \"inside\"}}, \"type\": \"scatter3d\"}], \"scattercarpet\": [{\"marker\": {\"colorbar\": {\"outlinewidth\": 0, \"tickcolor\": \"rgb(237,237,237)\", \"ticklen\": 6, \"ticks\": \"inside\"}}, \"type\": \"scattercarpet\"}], \"scattergeo\": [{\"marker\": {\"colorbar\": {\"outlinewidth\": 0, \"tickcolor\": \"rgb(237,237,237)\", \"ticklen\": 6, \"ticks\": \"inside\"}}, \"type\": \"scattergeo\"}], \"scattergl\": [{\"marker\": {\"colorbar\": {\"outlinewidth\": 0, \"tickcolor\": \"rgb(237,237,237)\", \"ticklen\": 6, \"ticks\": \"inside\"}}, \"type\": \"scattergl\"}], \"scattermapbox\": [{\"marker\": {\"colorbar\": {\"outlinewidth\": 0, \"tickcolor\": \"rgb(237,237,237)\", \"ticklen\": 6, \"ticks\": \"inside\"}}, \"type\": \"scattermapbox\"}], \"scatterpolar\": [{\"marker\": {\"colorbar\": {\"outlinewidth\": 0, \"tickcolor\": \"rgb(237,237,237)\", \"ticklen\": 6, \"ticks\": \"inside\"}}, \"type\": \"scatterpolar\"}], \"scatterpolargl\": [{\"marker\": {\"colorbar\": {\"outlinewidth\": 0, \"tickcolor\": \"rgb(237,237,237)\", \"ticklen\": 6, \"ticks\": \"inside\"}}, \"type\": \"scatterpolargl\"}], \"scatterternary\": [{\"marker\": {\"colorbar\": {\"outlinewidth\": 0, \"tickcolor\": \"rgb(237,237,237)\", \"ticklen\": 6, \"ticks\": \"inside\"}}, \"type\": \"scatterternary\"}], \"surface\": [{\"colorbar\": {\"outlinewidth\": 0, \"tickcolor\": \"rgb(237,237,237)\", \"ticklen\": 6, \"ticks\": \"inside\"}, \"colorscale\": [[0, \"rgb(20,44,66)\"], [1, \"rgb(90,179,244)\"]], \"type\": \"surface\"}], \"table\": [{\"cells\": {\"fill\": {\"color\": \"rgb(237,237,237)\"}, \"line\": {\"color\": \"white\"}}, \"header\": {\"fill\": {\"color\": \"rgb(217,217,217)\"}, \"line\": {\"color\": \"white\"}}, \"type\": \"table\"}]}, \"layout\": {\"annotationdefaults\": {\"arrowhead\": 0, \"arrowwidth\": 1}, \"coloraxis\": {\"colorbar\": {\"outlinewidth\": 0, \"tickcolor\": \"rgb(237,237,237)\", \"ticklen\": 6, \"ticks\": \"inside\"}}, \"colorscale\": {\"sequential\": [[0, \"rgb(20,44,66)\"], [1, \"rgb(90,179,244)\"]], \"sequentialminus\": [[0, \"rgb(20,44,66)\"], [1, \"rgb(90,179,244)\"]]}, \"colorway\": [\"#F8766D\", \"#A3A500\", \"#00BF7D\", \"#00B0F6\", \"#E76BF3\"], \"font\": {\"color\": \"rgb(51,51,51)\"}, \"geo\": {\"bgcolor\": \"white\", \"lakecolor\": \"white\", \"landcolor\": \"rgb(237,237,237)\", \"showlakes\": true, \"showland\": true, \"subunitcolor\": \"white\"}, \"hoverlabel\": {\"align\": \"left\"}, \"hovermode\": \"closest\", \"paper_bgcolor\": \"white\", \"plot_bgcolor\": \"rgb(237,237,237)\", \"polar\": {\"angularaxis\": {\"gridcolor\": \"white\", \"linecolor\": \"white\", \"showgrid\": true, \"tickcolor\": \"rgb(51,51,51)\", \"ticks\": \"outside\"}, \"bgcolor\": \"rgb(237,237,237)\", \"radialaxis\": {\"gridcolor\": \"white\", \"linecolor\": \"white\", \"showgrid\": true, \"tickcolor\": \"rgb(51,51,51)\", \"ticks\": \"outside\"}}, \"scene\": {\"xaxis\": {\"backgroundcolor\": \"rgb(237,237,237)\", \"gridcolor\": \"white\", \"gridwidth\": 2, \"linecolor\": \"white\", \"showbackground\": true, \"showgrid\": true, \"tickcolor\": \"rgb(51,51,51)\", \"ticks\": \"outside\", \"zerolinecolor\": \"white\"}, \"yaxis\": {\"backgroundcolor\": \"rgb(237,237,237)\", \"gridcolor\": \"white\", \"gridwidth\": 2, \"linecolor\": \"white\", \"showbackground\": true, \"showgrid\": true, \"tickcolor\": \"rgb(51,51,51)\", \"ticks\": \"outside\", \"zerolinecolor\": \"white\"}, \"zaxis\": {\"backgroundcolor\": \"rgb(237,237,237)\", \"gridcolor\": \"white\", \"gridwidth\": 2, \"linecolor\": \"white\", \"showbackground\": true, \"showgrid\": true, \"tickcolor\": \"rgb(51,51,51)\", \"ticks\": \"outside\", \"zerolinecolor\": \"white\"}}, \"shapedefaults\": {\"fillcolor\": \"black\", \"line\": {\"width\": 0}, \"opacity\": 0.3}, \"ternary\": {\"aaxis\": {\"gridcolor\": \"white\", \"linecolor\": \"white\", \"showgrid\": true, \"tickcolor\": \"rgb(51,51,51)\", \"ticks\": \"outside\"}, \"baxis\": {\"gridcolor\": \"white\", \"linecolor\": \"white\", \"showgrid\": true, \"tickcolor\": \"rgb(51,51,51)\", \"ticks\": \"outside\"}, \"bgcolor\": \"rgb(237,237,237)\", \"caxis\": {\"gridcolor\": \"white\", \"linecolor\": \"white\", \"showgrid\": true, \"tickcolor\": \"rgb(51,51,51)\", \"ticks\": \"outside\"}}, \"xaxis\": {\"automargin\": true, \"gridcolor\": \"white\", \"linecolor\": \"white\", \"showgrid\": true, \"tickcolor\": \"rgb(51,51,51)\", \"ticks\": \"outside\", \"title\": {\"standoff\": 15}, \"zerolinecolor\": \"white\"}, \"yaxis\": {\"automargin\": true, \"gridcolor\": \"white\", \"linecolor\": \"white\", \"showgrid\": true, \"tickcolor\": \"rgb(51,51,51)\", \"ticks\": \"outside\", \"title\": {\"standoff\": 15}, \"zerolinecolor\": \"white\"}}}, \"xaxis\": {\"anchor\": \"y\", \"domain\": [0.0, 1.0], \"title\": {\"text\": \"Total\"}}, \"yaxis\": {\"anchor\": \"x\", \"domain\": [0.0, 1.0], \"title\": {\"text\": \"Positive\"}}},\n",
       "                        {\"responsive\": true}\n",
       "                    ).then(function(){\n",
       "                            \n",
       "var gd = document.getElementById('26b9e016-094e-41d9-a088-9bbd0ed2e190');\n",
       "var x = new MutationObserver(function (mutations, observer) {{\n",
       "        var display = window.getComputedStyle(gd).display;\n",
       "        if (!display || display === 'none') {{\n",
       "            console.log([gd, 'removed!']);\n",
       "            Plotly.purge(gd);\n",
       "            observer.disconnect();\n",
       "        }}\n",
       "}});\n",
       "\n",
       "// Listen for the removal of the full notebook cells\n",
       "var notebookContainer = gd.closest('#notebook-container');\n",
       "if (notebookContainer) {{\n",
       "    x.observe(notebookContainer, {childList: true});\n",
       "}}\n",
       "\n",
       "// Listen for the clearing of the current output cell\n",
       "var outputEl = gd.closest('.output');\n",
       "if (outputEl) {{\n",
       "    x.observe(outputEl, {childList: true});\n",
       "}}\n",
       "\n",
       "                        })\n",
       "                };\n",
       "                });\n",
       "            </script>\n",
       "        </div>"
      ]
     },
     "metadata": {},
     "output_type": "display_data"
    }
   ],
   "source": [
    "fig = px.scatter(data_frame=df_testing.loc[df_testing.State.isin(['NY'])],\n",
    "                 x='Total', y='Positive',\n",
    "#                  color='DaysElapsed' # Don't have full range of data yet\n",
    "                 log_x=False, log_y=False, \n",
    "                 hover_name='Date', hover_data=['Positive','Total', 'Negative'],\n",
    "                 template='ggplot2', \n",
    "                )\n",
    "fig.show()"
   ]
  },
  {
   "cell_type": "code",
   "execution_count": 24,
   "metadata": {},
   "outputs": [
    {
     "data": {
      "application/vnd.plotly.v1+json": {
       "config": {
        "plotlyServerURL": "https://plot.ly"
       },
       "data": [
        {
         "hovertemplate": "State=AK<br>Positive=%{x}<br>Total=%{y}<extra></extra>",
         "legendgroup": "AK",
         "marker": {
          "color": "#F8766D",
          "symbol": "circle"
         },
         "mode": "markers",
         "name": "AK",
         "showlegend": true,
         "type": "scatter",
         "x": [
          226
         ],
         "xaxis": "x",
         "y": [
          7068
         ],
         "yaxis": "y"
        },
        {
         "hovertemplate": "State=AL<br>Positive=%{x}<br>Total=%{y}<extra></extra>",
         "legendgroup": "AL",
         "marker": {
          "color": "#A3A500",
          "symbol": "circle"
         },
         "mode": "markers",
         "name": "AL",
         "showlegend": true,
         "type": "scatter",
         "x": [
          2369
         ],
         "xaxis": "x",
         "y": [
          19122
         ],
         "yaxis": "y"
        },
        {
         "hovertemplate": "State=AR<br>Positive=%{x}<br>Total=%{y}<extra></extra>",
         "legendgroup": "AR",
         "marker": {
          "color": "#00BF7D",
          "symbol": "circle"
         },
         "mode": "markers",
         "name": "AR",
         "showlegend": true,
         "type": "scatter",
         "x": [
          1000
         ],
         "xaxis": "x",
         "y": [
          14530
         ],
         "yaxis": "y"
        },
        {
         "hovertemplate": "State=AS<br>Positive=%{x}<br>Total=%{y}<extra></extra>",
         "legendgroup": "AS",
         "marker": {
          "color": "#00B0F6",
          "symbol": "circle"
         },
         "mode": "markers",
         "name": "AS",
         "showlegend": true,
         "type": "scatter",
         "x": [
          0
         ],
         "xaxis": "x",
         "y": [
          31
         ],
         "yaxis": "y"
        },
        {
         "hovertemplate": "State=AZ<br>Positive=%{x}<br>Total=%{y}<extra></extra>",
         "legendgroup": "AZ",
         "marker": {
          "color": "#E76BF3",
          "symbol": "circle"
         },
         "mode": "markers",
         "name": "AZ",
         "showlegend": true,
         "type": "scatter",
         "x": [
          2726
         ],
         "xaxis": "x",
         "y": [
          34564
         ],
         "yaxis": "y"
        },
        {
         "hovertemplate": "State=CA<br>Positive=%{x}<br>Total=%{y}<extra></extra>",
         "legendgroup": "CA",
         "marker": {
          "color": "#F8766D",
          "symbol": "circle"
         },
         "mode": "markers",
         "name": "CA",
         "showlegend": true,
         "type": "scatter",
         "x": [
          16957
         ],
         "xaxis": "x",
         "y": [
          158864
         ],
         "yaxis": "y"
        },
        {
         "hovertemplate": "State=CO<br>Positive=%{x}<br>Total=%{y}<extra></extra>",
         "legendgroup": "CO",
         "marker": {
          "color": "#A3A500",
          "symbol": "circle"
         },
         "mode": "markers",
         "name": "CO",
         "showlegend": true,
         "type": "scatter",
         "x": [
          5429
         ],
         "xaxis": "x",
         "y": [
          28094
         ],
         "yaxis": "y"
        },
        {
         "hovertemplate": "State=CT<br>Positive=%{x}<br>Total=%{y}<extra></extra>",
         "legendgroup": "CT",
         "marker": {
          "color": "#00BF7D",
          "symbol": "circle"
         },
         "mode": "markers",
         "name": "CT",
         "showlegend": true,
         "type": "scatter",
         "x": [
          7781
         ],
         "xaxis": "x",
         "y": [
          29036
         ],
         "yaxis": "y"
        },
        {
         "hovertemplate": "State=DC<br>Positive=%{x}<br>Total=%{y}<extra></extra>",
         "legendgroup": "DC",
         "marker": {
          "color": "#00B0F6",
          "symbol": "circle"
         },
         "mode": "markers",
         "name": "DC",
         "showlegend": true,
         "type": "scatter",
         "x": [
          1440
         ],
         "xaxis": "x",
         "y": [
          8283
         ],
         "yaxis": "y"
        },
        {
         "hovertemplate": "State=DE<br>Positive=%{x}<br>Total=%{y}<extra></extra>",
         "legendgroup": "DE",
         "marker": {
          "color": "#E76BF3",
          "symbol": "circle"
         },
         "mode": "markers",
         "name": "DE",
         "showlegend": true,
         "type": "scatter",
         "x": [
          928
         ],
         "xaxis": "x",
         "y": [
          8556
         ],
         "yaxis": "y"
        },
        {
         "hovertemplate": "State=FL<br>Positive=%{x}<br>Total=%{y}<extra></extra>",
         "legendgroup": "FL",
         "marker": {
          "color": "#F8766D",
          "symbol": "circle"
         },
         "mode": "markers",
         "name": "FL",
         "showlegend": true,
         "type": "scatter",
         "x": [
          15455
         ],
         "xaxis": "x",
         "y": [
          144458
         ],
         "yaxis": "y"
        },
        {
         "hovertemplate": "State=GA<br>Positive=%{x}<br>Total=%{y}<extra></extra>",
         "legendgroup": "GA",
         "marker": {
          "color": "#A3A500",
          "symbol": "circle"
         },
         "mode": "markers",
         "name": "GA",
         "showlegend": true,
         "type": "scatter",
         "x": [
          9901
         ],
         "xaxis": "x",
         "y": [
          38787
         ],
         "yaxis": "y"
        },
        {
         "hovertemplate": "State=GU<br>Positive=%{x}<br>Total=%{y}<extra></extra>",
         "legendgroup": "GU",
         "marker": {
          "color": "#00BF7D",
          "symbol": "circle"
         },
         "mode": "markers",
         "name": "GU",
         "showlegend": true,
         "type": "scatter",
         "x": [
          125
         ],
         "xaxis": "x",
         "y": [
          687
         ],
         "yaxis": "y"
        },
        {
         "hovertemplate": "State=HI<br>Positive=%{x}<br>Total=%{y}<extra></extra>",
         "legendgroup": "HI",
         "marker": {
          "color": "#00B0F6",
          "symbol": "circle"
         },
         "mode": "markers",
         "name": "HI",
         "showlegend": true,
         "type": "scatter",
         "x": [
          410
         ],
         "xaxis": "x",
         "y": [
          15149
         ],
         "yaxis": "y"
        },
        {
         "hovertemplate": "State=IA<br>Positive=%{x}<br>Total=%{y}<extra></extra>",
         "legendgroup": "IA",
         "marker": {
          "color": "#E76BF3",
          "symbol": "circle"
         },
         "mode": "markers",
         "name": "IA",
         "showlegend": true,
         "type": "scatter",
         "x": [
          1145
         ],
         "xaxis": "x",
         "y": [
          13966
         ],
         "yaxis": "y"
        },
        {
         "hovertemplate": "State=ID<br>Positive=%{x}<br>Total=%{y}<extra></extra>",
         "legendgroup": "ID",
         "marker": {
          "color": "#F8766D",
          "symbol": "circle"
         },
         "mode": "markers",
         "name": "ID",
         "showlegend": true,
         "type": "scatter",
         "x": [
          1210
         ],
         "xaxis": "x",
         "y": [
          11898
         ],
         "yaxis": "y"
        },
        {
         "hovertemplate": "State=IL<br>Positive=%{x}<br>Total=%{y}<extra></extra>",
         "legendgroup": "IL",
         "marker": {
          "color": "#A3A500",
          "symbol": "circle"
         },
         "mode": "markers",
         "name": "IL",
         "showlegend": true,
         "type": "scatter",
         "x": [
          15078
         ],
         "xaxis": "x",
         "y": [
          75066
         ],
         "yaxis": "y"
        },
        {
         "hovertemplate": "State=IN<br>Positive=%{x}<br>Total=%{y}<extra></extra>",
         "legendgroup": "IN",
         "marker": {
          "color": "#00BF7D",
          "symbol": "circle"
         },
         "mode": "markers",
         "name": "IN",
         "showlegend": true,
         "type": "scatter",
         "x": [
          5943
         ],
         "xaxis": "x",
         "y": [
          30869
         ],
         "yaxis": "y"
        },
        {
         "hovertemplate": "State=KS<br>Positive=%{x}<br>Total=%{y}<extra></extra>",
         "legendgroup": "KS",
         "marker": {
          "color": "#00B0F6",
          "symbol": "circle"
         },
         "mode": "markers",
         "name": "KS",
         "showlegend": true,
         "type": "scatter",
         "x": [
          900
         ],
         "xaxis": "x",
         "y": [
          9514
         ],
         "yaxis": "y"
        },
        {
         "hovertemplate": "State=KY<br>Positive=%{x}<br>Total=%{y}<extra></extra>",
         "legendgroup": "KY",
         "marker": {
          "color": "#E76BF3",
          "symbol": "circle"
         },
         "mode": "markers",
         "name": "KY",
         "showlegend": true,
         "type": "scatter",
         "x": [
          1149
         ],
         "xaxis": "x",
         "y": [
          21604
         ],
         "yaxis": "y"
        },
        {
         "hovertemplate": "State=LA<br>Positive=%{x}<br>Total=%{y}<extra></extra>",
         "legendgroup": "LA",
         "marker": {
          "color": "#F8766D",
          "symbol": "circle"
         },
         "mode": "markers",
         "name": "LA",
         "showlegend": true,
         "type": "scatter",
         "x": [
          17030
         ],
         "xaxis": "x",
         "y": [
          81406
         ],
         "yaxis": "y"
        },
        {
         "hovertemplate": "State=MA<br>Positive=%{x}<br>Total=%{y}<extra></extra>",
         "legendgroup": "MA",
         "marker": {
          "color": "#A3A500",
          "symbol": "circle"
         },
         "mode": "markers",
         "name": "MA",
         "showlegend": true,
         "type": "scatter",
         "x": [
          16790
         ],
         "xaxis": "x",
         "y": [
          87511
         ],
         "yaxis": "y"
        },
        {
         "hovertemplate": "State=MD<br>Positive=%{x}<br>Total=%{y}<extra></extra>",
         "legendgroup": "MD",
         "marker": {
          "color": "#00BF7D",
          "symbol": "circle"
         },
         "mode": "markers",
         "name": "MD",
         "showlegend": true,
         "type": "scatter",
         "x": [
          5529
         ],
         "xaxis": "x",
         "y": [
          38462
         ],
         "yaxis": "y"
        },
        {
         "hovertemplate": "State=ME<br>Positive=%{x}<br>Total=%{y}<extra></extra>",
         "legendgroup": "ME",
         "marker": {
          "color": "#00B0F6",
          "symbol": "circle"
         },
         "mode": "markers",
         "name": "ME",
         "showlegend": true,
         "type": "scatter",
         "x": [
          537
         ],
         "xaxis": "x",
         "y": [
          6625
         ],
         "yaxis": "y"
        },
        {
         "hovertemplate": "State=MI<br>Positive=%{x}<br>Total=%{y}<extra></extra>",
         "legendgroup": "MI",
         "marker": {
          "color": "#E76BF3",
          "symbol": "circle"
         },
         "mode": "markers",
         "name": "MI",
         "showlegend": true,
         "type": "scatter",
         "x": [
          20346
         ],
         "xaxis": "x",
         "y": [
          51708
         ],
         "yaxis": "y"
        },
        {
         "hovertemplate": "State=MN<br>Positive=%{x}<br>Total=%{y}<extra></extra>",
         "legendgroup": "MN",
         "marker": {
          "color": "#F8766D",
          "symbol": "circle"
         },
         "mode": "markers",
         "name": "MN",
         "showlegend": true,
         "type": "scatter",
         "x": [
          1154
         ],
         "xaxis": "x",
         "y": [
          30753
         ],
         "yaxis": "y"
        },
        {
         "hovertemplate": "State=MO<br>Positive=%{x}<br>Total=%{y}<extra></extra>",
         "legendgroup": "MO",
         "marker": {
          "color": "#A3A500",
          "symbol": "circle"
         },
         "mode": "markers",
         "name": "MO",
         "showlegend": true,
         "type": "scatter",
         "x": [
          3327
         ],
         "xaxis": "x",
         "y": [
          34110
         ],
         "yaxis": "y"
        },
        {
         "hovertemplate": "State=MP<br>Positive=%{x}<br>Total=%{y}<extra></extra>",
         "legendgroup": "MP",
         "marker": {
          "color": "#00BF7D",
          "symbol": "circle"
         },
         "mode": "markers",
         "name": "MP",
         "showlegend": true,
         "type": "scatter",
         "x": [
          11
         ],
         "xaxis": "x",
         "y": [
          47
         ],
         "yaxis": "y"
        },
        {
         "hovertemplate": "State=MS<br>Positive=%{x}<br>Total=%{y}<extra></extra>",
         "legendgroup": "MS",
         "marker": {
          "color": "#00B0F6",
          "symbol": "circle"
         },
         "mode": "markers",
         "name": "MS",
         "showlegend": true,
         "type": "scatter",
         "x": [
          2003
         ],
         "xaxis": "x",
         "y": [
          20635
         ],
         "yaxis": "y"
        },
        {
         "hovertemplate": "State=MT<br>Positive=%{x}<br>Total=%{y}<extra></extra>",
         "legendgroup": "MT",
         "marker": {
          "color": "#E76BF3",
          "symbol": "circle"
         },
         "mode": "markers",
         "name": "MT",
         "showlegend": true,
         "type": "scatter",
         "x": [
          332
         ],
         "xaxis": "x",
         "y": [
          7398
         ],
         "yaxis": "y"
        },
        {
         "hovertemplate": "State=NC<br>Positive=%{x}<br>Total=%{y}<extra></extra>",
         "legendgroup": "NC",
         "marker": {
          "color": "#F8766D",
          "symbol": "circle"
         },
         "mode": "markers",
         "name": "NC",
         "showlegend": true,
         "type": "scatter",
         "x": [
          3426
         ],
         "xaxis": "x",
         "y": [
          42987
         ],
         "yaxis": "y"
        },
        {
         "hovertemplate": "State=ND<br>Positive=%{x}<br>Total=%{y}<extra></extra>",
         "legendgroup": "ND",
         "marker": {
          "color": "#A3A500",
          "symbol": "circle"
         },
         "mode": "markers",
         "name": "ND",
         "showlegend": true,
         "type": "scatter",
         "x": [
          251
         ],
         "xaxis": "x",
         "y": [
          8552
         ],
         "yaxis": "y"
        },
        {
         "hovertemplate": "State=NE<br>Positive=%{x}<br>Total=%{y}<extra></extra>",
         "legendgroup": "NE",
         "marker": {
          "color": "#00BF7D",
          "symbol": "circle"
         },
         "mode": "markers",
         "name": "NE",
         "showlegend": true,
         "type": "scatter",
         "x": [
          519
         ],
         "xaxis": "x",
         "y": [
          7961
         ],
         "yaxis": "y"
        },
        {
         "hovertemplate": "State=NH<br>Positive=%{x}<br>Total=%{y}<extra></extra>",
         "legendgroup": "NH",
         "marker": {
          "color": "#00B0F6",
          "symbol": "circle"
         },
         "mode": "markers",
         "name": "NH",
         "showlegend": true,
         "type": "scatter",
         "x": [
          788
         ],
         "xaxis": "x",
         "y": [
          9266
         ],
         "yaxis": "y"
        },
        {
         "hovertemplate": "State=NJ<br>Positive=%{x}<br>Total=%{y}<extra></extra>",
         "legendgroup": "NJ",
         "marker": {
          "color": "#E76BF3",
          "symbol": "circle"
         },
         "mode": "markers",
         "name": "NJ",
         "showlegend": true,
         "type": "scatter",
         "x": [
          47437
         ],
         "xaxis": "x",
         "y": [
          100416
         ],
         "yaxis": "y"
        },
        {
         "hovertemplate": "State=NM<br>Positive=%{x}<br>Total=%{y}<extra></extra>",
         "legendgroup": "NM",
         "marker": {
          "color": "#F8766D",
          "symbol": "circle"
         },
         "mode": "markers",
         "name": "NM",
         "showlegend": true,
         "type": "scatter",
         "x": [
          794
         ],
         "xaxis": "x",
         "y": [
          22245
         ],
         "yaxis": "y"
        },
        {
         "hovertemplate": "State=NV<br>Positive=%{x}<br>Total=%{y}<extra></extra>",
         "legendgroup": "NV",
         "marker": {
          "color": "#A3A500",
          "symbol": "circle"
         },
         "mode": "markers",
         "name": "NV",
         "showlegend": true,
         "type": "scatter",
         "x": [
          2318
         ],
         "xaxis": "x",
         "y": [
          20566
         ],
         "yaxis": "y"
        },
        {
         "hovertemplate": "State=NY<br>Positive=%{x}<br>Total=%{y}<extra></extra>",
         "legendgroup": "NY",
         "marker": {
          "color": "#00BF7D",
          "symbol": "circle"
         },
         "mode": "markers",
         "name": "NY",
         "showlegend": true,
         "type": "scatter",
         "x": [
          149316
         ],
         "xaxis": "x",
         "y": [
          365153
         ],
         "yaxis": "y"
        },
        {
         "hovertemplate": "State=OH<br>Positive=%{x}<br>Total=%{y}<extra></extra>",
         "legendgroup": "OH",
         "marker": {
          "color": "#00B0F6",
          "symbol": "circle"
         },
         "mode": "markers",
         "name": "OH",
         "showlegend": true,
         "type": "scatter",
         "x": [
          5148
         ],
         "xaxis": "x",
         "y": [
          53341
         ],
         "yaxis": "y"
        },
        {
         "hovertemplate": "State=OK<br>Positive=%{x}<br>Total=%{y}<extra></extra>",
         "legendgroup": "OK",
         "marker": {
          "color": "#E76BF3",
          "symbol": "circle"
         },
         "mode": "markers",
         "name": "OK",
         "showlegend": true,
         "type": "scatter",
         "x": [
          1524
         ],
         "xaxis": "x",
         "y": [
          13345
         ],
         "yaxis": "y"
        },
        {
         "hovertemplate": "State=OR<br>Positive=%{x}<br>Total=%{y}<extra></extra>",
         "legendgroup": "OR",
         "marker": {
          "color": "#F8766D",
          "symbol": "circle"
         },
         "mode": "markers",
         "name": "OR",
         "showlegend": true,
         "type": "scatter",
         "x": [
          1239
         ],
         "xaxis": "x",
         "y": [
          24564
         ],
         "yaxis": "y"
        },
        {
         "hovertemplate": "State=PA<br>Positive=%{x}<br>Total=%{y}<extra></extra>",
         "legendgroup": "PA",
         "marker": {
          "color": "#A3A500",
          "symbol": "circle"
         },
         "mode": "markers",
         "name": "PA",
         "showlegend": true,
         "type": "scatter",
         "x": [
          16239
         ],
         "xaxis": "x",
         "y": [
          98538
         ],
         "yaxis": "y"
        },
        {
         "hovertemplate": "State=PR<br>Positive=%{x}<br>Total=%{y}<extra></extra>",
         "legendgroup": "PR",
         "marker": {
          "color": "#00BF7D",
          "symbol": "circle"
         },
         "mode": "markers",
         "name": "PR",
         "showlegend": true,
         "type": "scatter",
         "x": [
          620
         ],
         "xaxis": "x",
         "y": [
          6046
         ],
         "yaxis": "y"
        },
        {
         "hovertemplate": "State=RI<br>Positive=%{x}<br>Total=%{y}<extra></extra>",
         "legendgroup": "RI",
         "marker": {
          "color": "#00B0F6",
          "symbol": "circle"
         },
         "mode": "markers",
         "name": "RI",
         "showlegend": true,
         "type": "scatter",
         "x": [
          1450
         ],
         "xaxis": "x",
         "y": [
          12132
         ],
         "yaxis": "y"
        },
        {
         "hovertemplate": "State=SC<br>Positive=%{x}<br>Total=%{y}<extra></extra>",
         "legendgroup": "SC",
         "marker": {
          "color": "#E76BF3",
          "symbol": "circle"
         },
         "mode": "markers",
         "name": "SC",
         "showlegend": true,
         "type": "scatter",
         "x": [
          2552
         ],
         "xaxis": "x",
         "y": [
          24634
         ],
         "yaxis": "y"
        },
        {
         "hovertemplate": "State=SD<br>Positive=%{x}<br>Total=%{y}<extra></extra>",
         "legendgroup": "SD",
         "marker": {
          "color": "#F8766D",
          "symbol": "circle"
         },
         "mode": "markers",
         "name": "SD",
         "showlegend": true,
         "type": "scatter",
         "x": [
          393
         ],
         "xaxis": "x",
         "y": [
          6748
         ],
         "yaxis": "y"
        },
        {
         "hovertemplate": "State=TN<br>Positive=%{x}<br>Total=%{y}<extra></extra>",
         "legendgroup": "TN",
         "marker": {
          "color": "#A3A500",
          "symbol": "circle"
         },
         "mode": "markers",
         "name": "TN",
         "showlegend": true,
         "type": "scatter",
         "x": [
          4362
         ],
         "xaxis": "x",
         "y": [
          56618
         ],
         "yaxis": "y"
        },
        {
         "hovertemplate": "State=TX<br>Positive=%{x}<br>Total=%{y}<extra></extra>",
         "legendgroup": "TX",
         "marker": {
          "color": "#00BF7D",
          "symbol": "circle"
         },
         "mode": "markers",
         "name": "TX",
         "showlegend": true,
         "type": "scatter",
         "x": [
          9353
         ],
         "xaxis": "x",
         "y": [
          96258
         ],
         "yaxis": "y"
        },
        {
         "hovertemplate": "State=UT<br>Positive=%{x}<br>Total=%{y}<extra></extra>",
         "legendgroup": "UT",
         "marker": {
          "color": "#00B0F6",
          "symbol": "circle"
         },
         "mode": "markers",
         "name": "UT",
         "showlegend": true,
         "type": "scatter",
         "x": [
          1846
         ],
         "xaxis": "x",
         "y": [
          36116
         ],
         "yaxis": "y"
        },
        {
         "hovertemplate": "State=VA<br>Positive=%{x}<br>Total=%{y}<extra></extra>",
         "legendgroup": "VA",
         "marker": {
          "color": "#E76BF3",
          "symbol": "circle"
         },
         "mode": "markers",
         "name": "VA",
         "showlegend": true,
         "type": "scatter",
         "x": [
          3645
         ],
         "xaxis": "x",
         "y": [
          30645
         ],
         "yaxis": "y"
        },
        {
         "hovertemplate": "State=VI<br>Positive=%{x}<br>Total=%{y}<extra></extra>",
         "legendgroup": "VI",
         "marker": {
          "color": "#F8766D",
          "symbol": "circle"
         },
         "mode": "markers",
         "name": "VI",
         "showlegend": true,
         "type": "scatter",
         "x": [
          45
         ],
         "xaxis": "x",
         "y": [
          322
         ],
         "yaxis": "y"
        },
        {
         "hovertemplate": "State=VT<br>Positive=%{x}<br>Total=%{y}<extra></extra>",
         "legendgroup": "VT",
         "marker": {
          "color": "#A3A500",
          "symbol": "circle"
         },
         "mode": "markers",
         "name": "VT",
         "showlegend": true,
         "type": "scatter",
         "x": [
          605
         ],
         "xaxis": "x",
         "y": [
          7749
         ],
         "yaxis": "y"
        },
        {
         "hovertemplate": "State=WA<br>Positive=%{x}<br>Total=%{y}<extra></extra>",
         "legendgroup": "WA",
         "marker": {
          "color": "#00BF7D",
          "symbol": "circle"
         },
         "mode": "markers",
         "name": "WA",
         "showlegend": true,
         "type": "scatter",
         "x": [
          8682
         ],
         "xaxis": "x",
         "y": [
          92073
         ],
         "yaxis": "y"
        },
        {
         "hovertemplate": "State=WI<br>Positive=%{x}<br>Total=%{y}<extra></extra>",
         "legendgroup": "WI",
         "marker": {
          "color": "#00B0F6",
          "symbol": "circle"
         },
         "mode": "markers",
         "name": "WI",
         "showlegend": true,
         "type": "scatter",
         "x": [
          2756
         ],
         "xaxis": "x",
         "y": [
          32871
         ],
         "yaxis": "y"
        },
        {
         "hovertemplate": "State=WV<br>Positive=%{x}<br>Total=%{y}<extra></extra>",
         "legendgroup": "WV",
         "marker": {
          "color": "#E76BF3",
          "symbol": "circle"
         },
         "mode": "markers",
         "name": "WV",
         "showlegend": true,
         "type": "scatter",
         "x": [
          462
         ],
         "xaxis": "x",
         "y": [
          12545
         ],
         "yaxis": "y"
        },
        {
         "hovertemplate": "State=WY<br>Positive=%{x}<br>Total=%{y}<extra></extra>",
         "legendgroup": "WY",
         "marker": {
          "color": "#F8766D",
          "symbol": "circle"
         },
         "mode": "markers",
         "name": "WY",
         "showlegend": true,
         "type": "scatter",
         "x": [
          221
         ],
         "xaxis": "x",
         "y": [
          4064
         ],
         "yaxis": "y"
        }
       ],
       "layout": {
        "legend": {
         "title": {
          "text": "State"
         },
         "tracegroupgap": 0
        },
        "margin": {
         "t": 60
        },
        "template": {
         "data": {
          "bar": [
           {
            "error_x": {
             "color": "rgb(51,51,51)"
            },
            "error_y": {
             "color": "rgb(51,51,51)"
            },
            "marker": {
             "line": {
              "color": "rgb(237,237,237)",
              "width": 0.5
             }
            },
            "type": "bar"
           }
          ],
          "barpolar": [
           {
            "marker": {
             "line": {
              "color": "rgb(237,237,237)",
              "width": 0.5
             }
            },
            "type": "barpolar"
           }
          ],
          "carpet": [
           {
            "aaxis": {
             "endlinecolor": "rgb(51,51,51)",
             "gridcolor": "white",
             "linecolor": "white",
             "minorgridcolor": "white",
             "startlinecolor": "rgb(51,51,51)"
            },
            "baxis": {
             "endlinecolor": "rgb(51,51,51)",
             "gridcolor": "white",
             "linecolor": "white",
             "minorgridcolor": "white",
             "startlinecolor": "rgb(51,51,51)"
            },
            "type": "carpet"
           }
          ],
          "choropleth": [
           {
            "colorbar": {
             "outlinewidth": 0,
             "tickcolor": "rgb(237,237,237)",
             "ticklen": 6,
             "ticks": "inside"
            },
            "type": "choropleth"
           }
          ],
          "contour": [
           {
            "colorbar": {
             "outlinewidth": 0,
             "tickcolor": "rgb(237,237,237)",
             "ticklen": 6,
             "ticks": "inside"
            },
            "colorscale": [
             [
              0,
              "rgb(20,44,66)"
             ],
             [
              1,
              "rgb(90,179,244)"
             ]
            ],
            "type": "contour"
           }
          ],
          "contourcarpet": [
           {
            "colorbar": {
             "outlinewidth": 0,
             "tickcolor": "rgb(237,237,237)",
             "ticklen": 6,
             "ticks": "inside"
            },
            "type": "contourcarpet"
           }
          ],
          "heatmap": [
           {
            "colorbar": {
             "outlinewidth": 0,
             "tickcolor": "rgb(237,237,237)",
             "ticklen": 6,
             "ticks": "inside"
            },
            "colorscale": [
             [
              0,
              "rgb(20,44,66)"
             ],
             [
              1,
              "rgb(90,179,244)"
             ]
            ],
            "type": "heatmap"
           }
          ],
          "heatmapgl": [
           {
            "colorbar": {
             "outlinewidth": 0,
             "tickcolor": "rgb(237,237,237)",
             "ticklen": 6,
             "ticks": "inside"
            },
            "colorscale": [
             [
              0,
              "rgb(20,44,66)"
             ],
             [
              1,
              "rgb(90,179,244)"
             ]
            ],
            "type": "heatmapgl"
           }
          ],
          "histogram": [
           {
            "marker": {
             "colorbar": {
              "outlinewidth": 0,
              "tickcolor": "rgb(237,237,237)",
              "ticklen": 6,
              "ticks": "inside"
             }
            },
            "type": "histogram"
           }
          ],
          "histogram2d": [
           {
            "colorbar": {
             "outlinewidth": 0,
             "tickcolor": "rgb(237,237,237)",
             "ticklen": 6,
             "ticks": "inside"
            },
            "colorscale": [
             [
              0,
              "rgb(20,44,66)"
             ],
             [
              1,
              "rgb(90,179,244)"
             ]
            ],
            "type": "histogram2d"
           }
          ],
          "histogram2dcontour": [
           {
            "colorbar": {
             "outlinewidth": 0,
             "tickcolor": "rgb(237,237,237)",
             "ticklen": 6,
             "ticks": "inside"
            },
            "colorscale": [
             [
              0,
              "rgb(20,44,66)"
             ],
             [
              1,
              "rgb(90,179,244)"
             ]
            ],
            "type": "histogram2dcontour"
           }
          ],
          "mesh3d": [
           {
            "colorbar": {
             "outlinewidth": 0,
             "tickcolor": "rgb(237,237,237)",
             "ticklen": 6,
             "ticks": "inside"
            },
            "type": "mesh3d"
           }
          ],
          "parcoords": [
           {
            "line": {
             "colorbar": {
              "outlinewidth": 0,
              "tickcolor": "rgb(237,237,237)",
              "ticklen": 6,
              "ticks": "inside"
             }
            },
            "type": "parcoords"
           }
          ],
          "pie": [
           {
            "automargin": true,
            "type": "pie"
           }
          ],
          "scatter": [
           {
            "marker": {
             "colorbar": {
              "outlinewidth": 0,
              "tickcolor": "rgb(237,237,237)",
              "ticklen": 6,
              "ticks": "inside"
             }
            },
            "type": "scatter"
           }
          ],
          "scatter3d": [
           {
            "line": {
             "colorbar": {
              "outlinewidth": 0,
              "tickcolor": "rgb(237,237,237)",
              "ticklen": 6,
              "ticks": "inside"
             }
            },
            "marker": {
             "colorbar": {
              "outlinewidth": 0,
              "tickcolor": "rgb(237,237,237)",
              "ticklen": 6,
              "ticks": "inside"
             }
            },
            "type": "scatter3d"
           }
          ],
          "scattercarpet": [
           {
            "marker": {
             "colorbar": {
              "outlinewidth": 0,
              "tickcolor": "rgb(237,237,237)",
              "ticklen": 6,
              "ticks": "inside"
             }
            },
            "type": "scattercarpet"
           }
          ],
          "scattergeo": [
           {
            "marker": {
             "colorbar": {
              "outlinewidth": 0,
              "tickcolor": "rgb(237,237,237)",
              "ticklen": 6,
              "ticks": "inside"
             }
            },
            "type": "scattergeo"
           }
          ],
          "scattergl": [
           {
            "marker": {
             "colorbar": {
              "outlinewidth": 0,
              "tickcolor": "rgb(237,237,237)",
              "ticklen": 6,
              "ticks": "inside"
             }
            },
            "type": "scattergl"
           }
          ],
          "scattermapbox": [
           {
            "marker": {
             "colorbar": {
              "outlinewidth": 0,
              "tickcolor": "rgb(237,237,237)",
              "ticklen": 6,
              "ticks": "inside"
             }
            },
            "type": "scattermapbox"
           }
          ],
          "scatterpolar": [
           {
            "marker": {
             "colorbar": {
              "outlinewidth": 0,
              "tickcolor": "rgb(237,237,237)",
              "ticklen": 6,
              "ticks": "inside"
             }
            },
            "type": "scatterpolar"
           }
          ],
          "scatterpolargl": [
           {
            "marker": {
             "colorbar": {
              "outlinewidth": 0,
              "tickcolor": "rgb(237,237,237)",
              "ticklen": 6,
              "ticks": "inside"
             }
            },
            "type": "scatterpolargl"
           }
          ],
          "scatterternary": [
           {
            "marker": {
             "colorbar": {
              "outlinewidth": 0,
              "tickcolor": "rgb(237,237,237)",
              "ticklen": 6,
              "ticks": "inside"
             }
            },
            "type": "scatterternary"
           }
          ],
          "surface": [
           {
            "colorbar": {
             "outlinewidth": 0,
             "tickcolor": "rgb(237,237,237)",
             "ticklen": 6,
             "ticks": "inside"
            },
            "colorscale": [
             [
              0,
              "rgb(20,44,66)"
             ],
             [
              1,
              "rgb(90,179,244)"
             ]
            ],
            "type": "surface"
           }
          ],
          "table": [
           {
            "cells": {
             "fill": {
              "color": "rgb(237,237,237)"
             },
             "line": {
              "color": "white"
             }
            },
            "header": {
             "fill": {
              "color": "rgb(217,217,217)"
             },
             "line": {
              "color": "white"
             }
            },
            "type": "table"
           }
          ]
         },
         "layout": {
          "annotationdefaults": {
           "arrowhead": 0,
           "arrowwidth": 1
          },
          "coloraxis": {
           "colorbar": {
            "outlinewidth": 0,
            "tickcolor": "rgb(237,237,237)",
            "ticklen": 6,
            "ticks": "inside"
           }
          },
          "colorscale": {
           "sequential": [
            [
             0,
             "rgb(20,44,66)"
            ],
            [
             1,
             "rgb(90,179,244)"
            ]
           ],
           "sequentialminus": [
            [
             0,
             "rgb(20,44,66)"
            ],
            [
             1,
             "rgb(90,179,244)"
            ]
           ]
          },
          "colorway": [
           "#F8766D",
           "#A3A500",
           "#00BF7D",
           "#00B0F6",
           "#E76BF3"
          ],
          "font": {
           "color": "rgb(51,51,51)"
          },
          "geo": {
           "bgcolor": "white",
           "lakecolor": "white",
           "landcolor": "rgb(237,237,237)",
           "showlakes": true,
           "showland": true,
           "subunitcolor": "white"
          },
          "hoverlabel": {
           "align": "left"
          },
          "hovermode": "closest",
          "paper_bgcolor": "white",
          "plot_bgcolor": "rgb(237,237,237)",
          "polar": {
           "angularaxis": {
            "gridcolor": "white",
            "linecolor": "white",
            "showgrid": true,
            "tickcolor": "rgb(51,51,51)",
            "ticks": "outside"
           },
           "bgcolor": "rgb(237,237,237)",
           "radialaxis": {
            "gridcolor": "white",
            "linecolor": "white",
            "showgrid": true,
            "tickcolor": "rgb(51,51,51)",
            "ticks": "outside"
           }
          },
          "scene": {
           "xaxis": {
            "backgroundcolor": "rgb(237,237,237)",
            "gridcolor": "white",
            "gridwidth": 2,
            "linecolor": "white",
            "showbackground": true,
            "showgrid": true,
            "tickcolor": "rgb(51,51,51)",
            "ticks": "outside",
            "zerolinecolor": "white"
           },
           "yaxis": {
            "backgroundcolor": "rgb(237,237,237)",
            "gridcolor": "white",
            "gridwidth": 2,
            "linecolor": "white",
            "showbackground": true,
            "showgrid": true,
            "tickcolor": "rgb(51,51,51)",
            "ticks": "outside",
            "zerolinecolor": "white"
           },
           "zaxis": {
            "backgroundcolor": "rgb(237,237,237)",
            "gridcolor": "white",
            "gridwidth": 2,
            "linecolor": "white",
            "showbackground": true,
            "showgrid": true,
            "tickcolor": "rgb(51,51,51)",
            "ticks": "outside",
            "zerolinecolor": "white"
           }
          },
          "shapedefaults": {
           "fillcolor": "black",
           "line": {
            "width": 0
           },
           "opacity": 0.3
          },
          "ternary": {
           "aaxis": {
            "gridcolor": "white",
            "linecolor": "white",
            "showgrid": true,
            "tickcolor": "rgb(51,51,51)",
            "ticks": "outside"
           },
           "baxis": {
            "gridcolor": "white",
            "linecolor": "white",
            "showgrid": true,
            "tickcolor": "rgb(51,51,51)",
            "ticks": "outside"
           },
           "bgcolor": "rgb(237,237,237)",
           "caxis": {
            "gridcolor": "white",
            "linecolor": "white",
            "showgrid": true,
            "tickcolor": "rgb(51,51,51)",
            "ticks": "outside"
           }
          },
          "xaxis": {
           "automargin": true,
           "gridcolor": "white",
           "linecolor": "white",
           "showgrid": true,
           "tickcolor": "rgb(51,51,51)",
           "ticks": "outside",
           "title": {
            "standoff": 15
           },
           "zerolinecolor": "white"
          },
          "yaxis": {
           "automargin": true,
           "gridcolor": "white",
           "linecolor": "white",
           "showgrid": true,
           "tickcolor": "rgb(51,51,51)",
           "ticks": "outside",
           "title": {
            "standoff": 15
           },
           "zerolinecolor": "white"
          }
         }
        },
        "xaxis": {
         "anchor": "y",
         "domain": [
          0,
          1
         ],
         "title": {
          "text": "Positive"
         }
        },
        "yaxis": {
         "anchor": "x",
         "domain": [
          0,
          1
         ],
         "title": {
          "text": "Total"
         }
        }
       }
      },
      "text/html": [
       "<div>\n",
       "        \n",
       "        \n",
       "            <div id=\"2182788a-f760-42a4-a6c0-386d73f64053\" class=\"plotly-graph-div\" style=\"height:525px; width:100%;\"></div>\n",
       "            <script type=\"text/javascript\">\n",
       "                require([\"plotly\"], function(Plotly) {\n",
       "                    window.PLOTLYENV=window.PLOTLYENV || {};\n",
       "                    \n",
       "                if (document.getElementById(\"2182788a-f760-42a4-a6c0-386d73f64053\")) {\n",
       "                    Plotly.newPlot(\n",
       "                        '2182788a-f760-42a4-a6c0-386d73f64053',\n",
       "                        [{\"hovertemplate\": \"State=AK<br>Positive=%{x}<br>Total=%{y}<extra></extra>\", \"legendgroup\": \"AK\", \"marker\": {\"color\": \"#F8766D\", \"symbol\": \"circle\"}, \"mode\": \"markers\", \"name\": \"AK\", \"showlegend\": true, \"type\": \"scatter\", \"x\": [226.0], \"xaxis\": \"x\", \"y\": [7068], \"yaxis\": \"y\"}, {\"hovertemplate\": \"State=AL<br>Positive=%{x}<br>Total=%{y}<extra></extra>\", \"legendgroup\": \"AL\", \"marker\": {\"color\": \"#A3A500\", \"symbol\": \"circle\"}, \"mode\": \"markers\", \"name\": \"AL\", \"showlegend\": true, \"type\": \"scatter\", \"x\": [2369.0], \"xaxis\": \"x\", \"y\": [19122], \"yaxis\": \"y\"}, {\"hovertemplate\": \"State=AR<br>Positive=%{x}<br>Total=%{y}<extra></extra>\", \"legendgroup\": \"AR\", \"marker\": {\"color\": \"#00BF7D\", \"symbol\": \"circle\"}, \"mode\": \"markers\", \"name\": \"AR\", \"showlegend\": true, \"type\": \"scatter\", \"x\": [1000.0], \"xaxis\": \"x\", \"y\": [14530], \"yaxis\": \"y\"}, {\"hovertemplate\": \"State=AS<br>Positive=%{x}<br>Total=%{y}<extra></extra>\", \"legendgroup\": \"AS\", \"marker\": {\"color\": \"#00B0F6\", \"symbol\": \"circle\"}, \"mode\": \"markers\", \"name\": \"AS\", \"showlegend\": true, \"type\": \"scatter\", \"x\": [0.0], \"xaxis\": \"x\", \"y\": [31], \"yaxis\": \"y\"}, {\"hovertemplate\": \"State=AZ<br>Positive=%{x}<br>Total=%{y}<extra></extra>\", \"legendgroup\": \"AZ\", \"marker\": {\"color\": \"#E76BF3\", \"symbol\": \"circle\"}, \"mode\": \"markers\", \"name\": \"AZ\", \"showlegend\": true, \"type\": \"scatter\", \"x\": [2726.0], \"xaxis\": \"x\", \"y\": [34564], \"yaxis\": \"y\"}, {\"hovertemplate\": \"State=CA<br>Positive=%{x}<br>Total=%{y}<extra></extra>\", \"legendgroup\": \"CA\", \"marker\": {\"color\": \"#F8766D\", \"symbol\": \"circle\"}, \"mode\": \"markers\", \"name\": \"CA\", \"showlegend\": true, \"type\": \"scatter\", \"x\": [16957.0], \"xaxis\": \"x\", \"y\": [158864], \"yaxis\": \"y\"}, {\"hovertemplate\": \"State=CO<br>Positive=%{x}<br>Total=%{y}<extra></extra>\", \"legendgroup\": \"CO\", \"marker\": {\"color\": \"#A3A500\", \"symbol\": \"circle\"}, \"mode\": \"markers\", \"name\": \"CO\", \"showlegend\": true, \"type\": \"scatter\", \"x\": [5429.0], \"xaxis\": \"x\", \"y\": [28094], \"yaxis\": \"y\"}, {\"hovertemplate\": \"State=CT<br>Positive=%{x}<br>Total=%{y}<extra></extra>\", \"legendgroup\": \"CT\", \"marker\": {\"color\": \"#00BF7D\", \"symbol\": \"circle\"}, \"mode\": \"markers\", \"name\": \"CT\", \"showlegend\": true, \"type\": \"scatter\", \"x\": [7781.0], \"xaxis\": \"x\", \"y\": [29036], \"yaxis\": \"y\"}, {\"hovertemplate\": \"State=DC<br>Positive=%{x}<br>Total=%{y}<extra></extra>\", \"legendgroup\": \"DC\", \"marker\": {\"color\": \"#00B0F6\", \"symbol\": \"circle\"}, \"mode\": \"markers\", \"name\": \"DC\", \"showlegend\": true, \"type\": \"scatter\", \"x\": [1440.0], \"xaxis\": \"x\", \"y\": [8283], \"yaxis\": \"y\"}, {\"hovertemplate\": \"State=DE<br>Positive=%{x}<br>Total=%{y}<extra></extra>\", \"legendgroup\": \"DE\", \"marker\": {\"color\": \"#E76BF3\", \"symbol\": \"circle\"}, \"mode\": \"markers\", \"name\": \"DE\", \"showlegend\": true, \"type\": \"scatter\", \"x\": [928.0], \"xaxis\": \"x\", \"y\": [8556], \"yaxis\": \"y\"}, {\"hovertemplate\": \"State=FL<br>Positive=%{x}<br>Total=%{y}<extra></extra>\", \"legendgroup\": \"FL\", \"marker\": {\"color\": \"#F8766D\", \"symbol\": \"circle\"}, \"mode\": \"markers\", \"name\": \"FL\", \"showlegend\": true, \"type\": \"scatter\", \"x\": [15455.0], \"xaxis\": \"x\", \"y\": [144458], \"yaxis\": \"y\"}, {\"hovertemplate\": \"State=GA<br>Positive=%{x}<br>Total=%{y}<extra></extra>\", \"legendgroup\": \"GA\", \"marker\": {\"color\": \"#A3A500\", \"symbol\": \"circle\"}, \"mode\": \"markers\", \"name\": \"GA\", \"showlegend\": true, \"type\": \"scatter\", \"x\": [9901.0], \"xaxis\": \"x\", \"y\": [38787], \"yaxis\": \"y\"}, {\"hovertemplate\": \"State=GU<br>Positive=%{x}<br>Total=%{y}<extra></extra>\", \"legendgroup\": \"GU\", \"marker\": {\"color\": \"#00BF7D\", \"symbol\": \"circle\"}, \"mode\": \"markers\", \"name\": \"GU\", \"showlegend\": true, \"type\": \"scatter\", \"x\": [125.0], \"xaxis\": \"x\", \"y\": [687], \"yaxis\": \"y\"}, {\"hovertemplate\": \"State=HI<br>Positive=%{x}<br>Total=%{y}<extra></extra>\", \"legendgroup\": \"HI\", \"marker\": {\"color\": \"#00B0F6\", \"symbol\": \"circle\"}, \"mode\": \"markers\", \"name\": \"HI\", \"showlegend\": true, \"type\": \"scatter\", \"x\": [410.0], \"xaxis\": \"x\", \"y\": [15149], \"yaxis\": \"y\"}, {\"hovertemplate\": \"State=IA<br>Positive=%{x}<br>Total=%{y}<extra></extra>\", \"legendgroup\": \"IA\", \"marker\": {\"color\": \"#E76BF3\", \"symbol\": \"circle\"}, \"mode\": \"markers\", \"name\": \"IA\", \"showlegend\": true, \"type\": \"scatter\", \"x\": [1145.0], \"xaxis\": \"x\", \"y\": [13966], \"yaxis\": \"y\"}, {\"hovertemplate\": \"State=ID<br>Positive=%{x}<br>Total=%{y}<extra></extra>\", \"legendgroup\": \"ID\", \"marker\": {\"color\": \"#F8766D\", \"symbol\": \"circle\"}, \"mode\": \"markers\", \"name\": \"ID\", \"showlegend\": true, \"type\": \"scatter\", \"x\": [1210.0], \"xaxis\": \"x\", \"y\": [11898], \"yaxis\": \"y\"}, {\"hovertemplate\": \"State=IL<br>Positive=%{x}<br>Total=%{y}<extra></extra>\", \"legendgroup\": \"IL\", \"marker\": {\"color\": \"#A3A500\", \"symbol\": \"circle\"}, \"mode\": \"markers\", \"name\": \"IL\", \"showlegend\": true, \"type\": \"scatter\", \"x\": [15078.0], \"xaxis\": \"x\", \"y\": [75066], \"yaxis\": \"y\"}, {\"hovertemplate\": \"State=IN<br>Positive=%{x}<br>Total=%{y}<extra></extra>\", \"legendgroup\": \"IN\", \"marker\": {\"color\": \"#00BF7D\", \"symbol\": \"circle\"}, \"mode\": \"markers\", \"name\": \"IN\", \"showlegend\": true, \"type\": \"scatter\", \"x\": [5943.0], \"xaxis\": \"x\", \"y\": [30869], \"yaxis\": \"y\"}, {\"hovertemplate\": \"State=KS<br>Positive=%{x}<br>Total=%{y}<extra></extra>\", \"legendgroup\": \"KS\", \"marker\": {\"color\": \"#00B0F6\", \"symbol\": \"circle\"}, \"mode\": \"markers\", \"name\": \"KS\", \"showlegend\": true, \"type\": \"scatter\", \"x\": [900.0], \"xaxis\": \"x\", \"y\": [9514], \"yaxis\": \"y\"}, {\"hovertemplate\": \"State=KY<br>Positive=%{x}<br>Total=%{y}<extra></extra>\", \"legendgroup\": \"KY\", \"marker\": {\"color\": \"#E76BF3\", \"symbol\": \"circle\"}, \"mode\": \"markers\", \"name\": \"KY\", \"showlegend\": true, \"type\": \"scatter\", \"x\": [1149.0], \"xaxis\": \"x\", \"y\": [21604], \"yaxis\": \"y\"}, {\"hovertemplate\": \"State=LA<br>Positive=%{x}<br>Total=%{y}<extra></extra>\", \"legendgroup\": \"LA\", \"marker\": {\"color\": \"#F8766D\", \"symbol\": \"circle\"}, \"mode\": \"markers\", \"name\": \"LA\", \"showlegend\": true, \"type\": \"scatter\", \"x\": [17030.0], \"xaxis\": \"x\", \"y\": [81406], \"yaxis\": \"y\"}, {\"hovertemplate\": \"State=MA<br>Positive=%{x}<br>Total=%{y}<extra></extra>\", \"legendgroup\": \"MA\", \"marker\": {\"color\": \"#A3A500\", \"symbol\": \"circle\"}, \"mode\": \"markers\", \"name\": \"MA\", \"showlegend\": true, \"type\": \"scatter\", \"x\": [16790.0], \"xaxis\": \"x\", \"y\": [87511], \"yaxis\": \"y\"}, {\"hovertemplate\": \"State=MD<br>Positive=%{x}<br>Total=%{y}<extra></extra>\", \"legendgroup\": \"MD\", \"marker\": {\"color\": \"#00BF7D\", \"symbol\": \"circle\"}, \"mode\": \"markers\", \"name\": \"MD\", \"showlegend\": true, \"type\": \"scatter\", \"x\": [5529.0], \"xaxis\": \"x\", \"y\": [38462], \"yaxis\": \"y\"}, {\"hovertemplate\": \"State=ME<br>Positive=%{x}<br>Total=%{y}<extra></extra>\", \"legendgroup\": \"ME\", \"marker\": {\"color\": \"#00B0F6\", \"symbol\": \"circle\"}, \"mode\": \"markers\", \"name\": \"ME\", \"showlegend\": true, \"type\": \"scatter\", \"x\": [537.0], \"xaxis\": \"x\", \"y\": [6625], \"yaxis\": \"y\"}, {\"hovertemplate\": \"State=MI<br>Positive=%{x}<br>Total=%{y}<extra></extra>\", \"legendgroup\": \"MI\", \"marker\": {\"color\": \"#E76BF3\", \"symbol\": \"circle\"}, \"mode\": \"markers\", \"name\": \"MI\", \"showlegend\": true, \"type\": \"scatter\", \"x\": [20346.0], \"xaxis\": \"x\", \"y\": [51708], \"yaxis\": \"y\"}, {\"hovertemplate\": \"State=MN<br>Positive=%{x}<br>Total=%{y}<extra></extra>\", \"legendgroup\": \"MN\", \"marker\": {\"color\": \"#F8766D\", \"symbol\": \"circle\"}, \"mode\": \"markers\", \"name\": \"MN\", \"showlegend\": true, \"type\": \"scatter\", \"x\": [1154.0], \"xaxis\": \"x\", \"y\": [30753], \"yaxis\": \"y\"}, {\"hovertemplate\": \"State=MO<br>Positive=%{x}<br>Total=%{y}<extra></extra>\", \"legendgroup\": \"MO\", \"marker\": {\"color\": \"#A3A500\", \"symbol\": \"circle\"}, \"mode\": \"markers\", \"name\": \"MO\", \"showlegend\": true, \"type\": \"scatter\", \"x\": [3327.0], \"xaxis\": \"x\", \"y\": [34110], \"yaxis\": \"y\"}, {\"hovertemplate\": \"State=MP<br>Positive=%{x}<br>Total=%{y}<extra></extra>\", \"legendgroup\": \"MP\", \"marker\": {\"color\": \"#00BF7D\", \"symbol\": \"circle\"}, \"mode\": \"markers\", \"name\": \"MP\", \"showlegend\": true, \"type\": \"scatter\", \"x\": [11.0], \"xaxis\": \"x\", \"y\": [47], \"yaxis\": \"y\"}, {\"hovertemplate\": \"State=MS<br>Positive=%{x}<br>Total=%{y}<extra></extra>\", \"legendgroup\": \"MS\", \"marker\": {\"color\": \"#00B0F6\", \"symbol\": \"circle\"}, \"mode\": \"markers\", \"name\": \"MS\", \"showlegend\": true, \"type\": \"scatter\", \"x\": [2003.0], \"xaxis\": \"x\", \"y\": [20635], \"yaxis\": \"y\"}, {\"hovertemplate\": \"State=MT<br>Positive=%{x}<br>Total=%{y}<extra></extra>\", \"legendgroup\": \"MT\", \"marker\": {\"color\": \"#E76BF3\", \"symbol\": \"circle\"}, \"mode\": \"markers\", \"name\": \"MT\", \"showlegend\": true, \"type\": \"scatter\", \"x\": [332.0], \"xaxis\": \"x\", \"y\": [7398], \"yaxis\": \"y\"}, {\"hovertemplate\": \"State=NC<br>Positive=%{x}<br>Total=%{y}<extra></extra>\", \"legendgroup\": \"NC\", \"marker\": {\"color\": \"#F8766D\", \"symbol\": \"circle\"}, \"mode\": \"markers\", \"name\": \"NC\", \"showlegend\": true, \"type\": \"scatter\", \"x\": [3426.0], \"xaxis\": \"x\", \"y\": [42987], \"yaxis\": \"y\"}, {\"hovertemplate\": \"State=ND<br>Positive=%{x}<br>Total=%{y}<extra></extra>\", \"legendgroup\": \"ND\", \"marker\": {\"color\": \"#A3A500\", \"symbol\": \"circle\"}, \"mode\": \"markers\", \"name\": \"ND\", \"showlegend\": true, \"type\": \"scatter\", \"x\": [251.0], \"xaxis\": \"x\", \"y\": [8552], \"yaxis\": \"y\"}, {\"hovertemplate\": \"State=NE<br>Positive=%{x}<br>Total=%{y}<extra></extra>\", \"legendgroup\": \"NE\", \"marker\": {\"color\": \"#00BF7D\", \"symbol\": \"circle\"}, \"mode\": \"markers\", \"name\": \"NE\", \"showlegend\": true, \"type\": \"scatter\", \"x\": [519.0], \"xaxis\": \"x\", \"y\": [7961], \"yaxis\": \"y\"}, {\"hovertemplate\": \"State=NH<br>Positive=%{x}<br>Total=%{y}<extra></extra>\", \"legendgroup\": \"NH\", \"marker\": {\"color\": \"#00B0F6\", \"symbol\": \"circle\"}, \"mode\": \"markers\", \"name\": \"NH\", \"showlegend\": true, \"type\": \"scatter\", \"x\": [788.0], \"xaxis\": \"x\", \"y\": [9266], \"yaxis\": \"y\"}, {\"hovertemplate\": \"State=NJ<br>Positive=%{x}<br>Total=%{y}<extra></extra>\", \"legendgroup\": \"NJ\", \"marker\": {\"color\": \"#E76BF3\", \"symbol\": \"circle\"}, \"mode\": \"markers\", \"name\": \"NJ\", \"showlegend\": true, \"type\": \"scatter\", \"x\": [47437.0], \"xaxis\": \"x\", \"y\": [100416], \"yaxis\": \"y\"}, {\"hovertemplate\": \"State=NM<br>Positive=%{x}<br>Total=%{y}<extra></extra>\", \"legendgroup\": \"NM\", \"marker\": {\"color\": \"#F8766D\", \"symbol\": \"circle\"}, \"mode\": \"markers\", \"name\": \"NM\", \"showlegend\": true, \"type\": \"scatter\", \"x\": [794.0], \"xaxis\": \"x\", \"y\": [22245], \"yaxis\": \"y\"}, {\"hovertemplate\": \"State=NV<br>Positive=%{x}<br>Total=%{y}<extra></extra>\", \"legendgroup\": \"NV\", \"marker\": {\"color\": \"#A3A500\", \"symbol\": \"circle\"}, \"mode\": \"markers\", \"name\": \"NV\", \"showlegend\": true, \"type\": \"scatter\", \"x\": [2318.0], \"xaxis\": \"x\", \"y\": [20566], \"yaxis\": \"y\"}, {\"hovertemplate\": \"State=NY<br>Positive=%{x}<br>Total=%{y}<extra></extra>\", \"legendgroup\": \"NY\", \"marker\": {\"color\": \"#00BF7D\", \"symbol\": \"circle\"}, \"mode\": \"markers\", \"name\": \"NY\", \"showlegend\": true, \"type\": \"scatter\", \"x\": [149316.0], \"xaxis\": \"x\", \"y\": [365153], \"yaxis\": \"y\"}, {\"hovertemplate\": \"State=OH<br>Positive=%{x}<br>Total=%{y}<extra></extra>\", \"legendgroup\": \"OH\", \"marker\": {\"color\": \"#00B0F6\", \"symbol\": \"circle\"}, \"mode\": \"markers\", \"name\": \"OH\", \"showlegend\": true, \"type\": \"scatter\", \"x\": [5148.0], \"xaxis\": \"x\", \"y\": [53341], \"yaxis\": \"y\"}, {\"hovertemplate\": \"State=OK<br>Positive=%{x}<br>Total=%{y}<extra></extra>\", \"legendgroup\": \"OK\", \"marker\": {\"color\": \"#E76BF3\", \"symbol\": \"circle\"}, \"mode\": \"markers\", \"name\": \"OK\", \"showlegend\": true, \"type\": \"scatter\", \"x\": [1524.0], \"xaxis\": \"x\", \"y\": [13345], \"yaxis\": \"y\"}, {\"hovertemplate\": \"State=OR<br>Positive=%{x}<br>Total=%{y}<extra></extra>\", \"legendgroup\": \"OR\", \"marker\": {\"color\": \"#F8766D\", \"symbol\": \"circle\"}, \"mode\": \"markers\", \"name\": \"OR\", \"showlegend\": true, \"type\": \"scatter\", \"x\": [1239.0], \"xaxis\": \"x\", \"y\": [24564], \"yaxis\": \"y\"}, {\"hovertemplate\": \"State=PA<br>Positive=%{x}<br>Total=%{y}<extra></extra>\", \"legendgroup\": \"PA\", \"marker\": {\"color\": \"#A3A500\", \"symbol\": \"circle\"}, \"mode\": \"markers\", \"name\": \"PA\", \"showlegend\": true, \"type\": \"scatter\", \"x\": [16239.0], \"xaxis\": \"x\", \"y\": [98538], \"yaxis\": \"y\"}, {\"hovertemplate\": \"State=PR<br>Positive=%{x}<br>Total=%{y}<extra></extra>\", \"legendgroup\": \"PR\", \"marker\": {\"color\": \"#00BF7D\", \"symbol\": \"circle\"}, \"mode\": \"markers\", \"name\": \"PR\", \"showlegend\": true, \"type\": \"scatter\", \"x\": [620.0], \"xaxis\": \"x\", \"y\": [6046], \"yaxis\": \"y\"}, {\"hovertemplate\": \"State=RI<br>Positive=%{x}<br>Total=%{y}<extra></extra>\", \"legendgroup\": \"RI\", \"marker\": {\"color\": \"#00B0F6\", \"symbol\": \"circle\"}, \"mode\": \"markers\", \"name\": \"RI\", \"showlegend\": true, \"type\": \"scatter\", \"x\": [1450.0], \"xaxis\": \"x\", \"y\": [12132], \"yaxis\": \"y\"}, {\"hovertemplate\": \"State=SC<br>Positive=%{x}<br>Total=%{y}<extra></extra>\", \"legendgroup\": \"SC\", \"marker\": {\"color\": \"#E76BF3\", \"symbol\": \"circle\"}, \"mode\": \"markers\", \"name\": \"SC\", \"showlegend\": true, \"type\": \"scatter\", \"x\": [2552.0], \"xaxis\": \"x\", \"y\": [24634], \"yaxis\": \"y\"}, {\"hovertemplate\": \"State=SD<br>Positive=%{x}<br>Total=%{y}<extra></extra>\", \"legendgroup\": \"SD\", \"marker\": {\"color\": \"#F8766D\", \"symbol\": \"circle\"}, \"mode\": \"markers\", \"name\": \"SD\", \"showlegend\": true, \"type\": \"scatter\", \"x\": [393.0], \"xaxis\": \"x\", \"y\": [6748], \"yaxis\": \"y\"}, {\"hovertemplate\": \"State=TN<br>Positive=%{x}<br>Total=%{y}<extra></extra>\", \"legendgroup\": \"TN\", \"marker\": {\"color\": \"#A3A500\", \"symbol\": \"circle\"}, \"mode\": \"markers\", \"name\": \"TN\", \"showlegend\": true, \"type\": \"scatter\", \"x\": [4362.0], \"xaxis\": \"x\", \"y\": [56618], \"yaxis\": \"y\"}, {\"hovertemplate\": \"State=TX<br>Positive=%{x}<br>Total=%{y}<extra></extra>\", \"legendgroup\": \"TX\", \"marker\": {\"color\": \"#00BF7D\", \"symbol\": \"circle\"}, \"mode\": \"markers\", \"name\": \"TX\", \"showlegend\": true, \"type\": \"scatter\", \"x\": [9353.0], \"xaxis\": \"x\", \"y\": [96258], \"yaxis\": \"y\"}, {\"hovertemplate\": \"State=UT<br>Positive=%{x}<br>Total=%{y}<extra></extra>\", \"legendgroup\": \"UT\", \"marker\": {\"color\": \"#00B0F6\", \"symbol\": \"circle\"}, \"mode\": \"markers\", \"name\": \"UT\", \"showlegend\": true, \"type\": \"scatter\", \"x\": [1846.0], \"xaxis\": \"x\", \"y\": [36116], \"yaxis\": \"y\"}, {\"hovertemplate\": \"State=VA<br>Positive=%{x}<br>Total=%{y}<extra></extra>\", \"legendgroup\": \"VA\", \"marker\": {\"color\": \"#E76BF3\", \"symbol\": \"circle\"}, \"mode\": \"markers\", \"name\": \"VA\", \"showlegend\": true, \"type\": \"scatter\", \"x\": [3645.0], \"xaxis\": \"x\", \"y\": [30645], \"yaxis\": \"y\"}, {\"hovertemplate\": \"State=VI<br>Positive=%{x}<br>Total=%{y}<extra></extra>\", \"legendgroup\": \"VI\", \"marker\": {\"color\": \"#F8766D\", \"symbol\": \"circle\"}, \"mode\": \"markers\", \"name\": \"VI\", \"showlegend\": true, \"type\": \"scatter\", \"x\": [45.0], \"xaxis\": \"x\", \"y\": [322], \"yaxis\": \"y\"}, {\"hovertemplate\": \"State=VT<br>Positive=%{x}<br>Total=%{y}<extra></extra>\", \"legendgroup\": \"VT\", \"marker\": {\"color\": \"#A3A500\", \"symbol\": \"circle\"}, \"mode\": \"markers\", \"name\": \"VT\", \"showlegend\": true, \"type\": \"scatter\", \"x\": [605.0], \"xaxis\": \"x\", \"y\": [7749], \"yaxis\": \"y\"}, {\"hovertemplate\": \"State=WA<br>Positive=%{x}<br>Total=%{y}<extra></extra>\", \"legendgroup\": \"WA\", \"marker\": {\"color\": \"#00BF7D\", \"symbol\": \"circle\"}, \"mode\": \"markers\", \"name\": \"WA\", \"showlegend\": true, \"type\": \"scatter\", \"x\": [8682.0], \"xaxis\": \"x\", \"y\": [92073], \"yaxis\": \"y\"}, {\"hovertemplate\": \"State=WI<br>Positive=%{x}<br>Total=%{y}<extra></extra>\", \"legendgroup\": \"WI\", \"marker\": {\"color\": \"#00B0F6\", \"symbol\": \"circle\"}, \"mode\": \"markers\", \"name\": \"WI\", \"showlegend\": true, \"type\": \"scatter\", \"x\": [2756.0], \"xaxis\": \"x\", \"y\": [32871], \"yaxis\": \"y\"}, {\"hovertemplate\": \"State=WV<br>Positive=%{x}<br>Total=%{y}<extra></extra>\", \"legendgroup\": \"WV\", \"marker\": {\"color\": \"#E76BF3\", \"symbol\": \"circle\"}, \"mode\": \"markers\", \"name\": \"WV\", \"showlegend\": true, \"type\": \"scatter\", \"x\": [462.0], \"xaxis\": \"x\", \"y\": [12545], \"yaxis\": \"y\"}, {\"hovertemplate\": \"State=WY<br>Positive=%{x}<br>Total=%{y}<extra></extra>\", \"legendgroup\": \"WY\", \"marker\": {\"color\": \"#F8766D\", \"symbol\": \"circle\"}, \"mode\": \"markers\", \"name\": \"WY\", \"showlegend\": true, \"type\": \"scatter\", \"x\": [221.0], \"xaxis\": \"x\", \"y\": [4064], \"yaxis\": \"y\"}],\n",
       "                        {\"legend\": {\"title\": {\"text\": \"State\"}, \"tracegroupgap\": 0}, \"margin\": {\"t\": 60}, \"template\": {\"data\": {\"bar\": [{\"error_x\": {\"color\": \"rgb(51,51,51)\"}, \"error_y\": {\"color\": \"rgb(51,51,51)\"}, \"marker\": {\"line\": {\"color\": \"rgb(237,237,237)\", \"width\": 0.5}}, \"type\": \"bar\"}], \"barpolar\": [{\"marker\": {\"line\": {\"color\": \"rgb(237,237,237)\", \"width\": 0.5}}, \"type\": \"barpolar\"}], \"carpet\": [{\"aaxis\": {\"endlinecolor\": \"rgb(51,51,51)\", \"gridcolor\": \"white\", \"linecolor\": \"white\", \"minorgridcolor\": \"white\", \"startlinecolor\": \"rgb(51,51,51)\"}, \"baxis\": {\"endlinecolor\": \"rgb(51,51,51)\", \"gridcolor\": \"white\", \"linecolor\": \"white\", \"minorgridcolor\": \"white\", \"startlinecolor\": \"rgb(51,51,51)\"}, \"type\": \"carpet\"}], \"choropleth\": [{\"colorbar\": {\"outlinewidth\": 0, \"tickcolor\": \"rgb(237,237,237)\", \"ticklen\": 6, \"ticks\": \"inside\"}, \"type\": \"choropleth\"}], \"contour\": [{\"colorbar\": {\"outlinewidth\": 0, \"tickcolor\": \"rgb(237,237,237)\", \"ticklen\": 6, \"ticks\": \"inside\"}, \"colorscale\": [[0, \"rgb(20,44,66)\"], [1, \"rgb(90,179,244)\"]], \"type\": \"contour\"}], \"contourcarpet\": [{\"colorbar\": {\"outlinewidth\": 0, \"tickcolor\": \"rgb(237,237,237)\", \"ticklen\": 6, \"ticks\": \"inside\"}, \"type\": \"contourcarpet\"}], \"heatmap\": [{\"colorbar\": {\"outlinewidth\": 0, \"tickcolor\": \"rgb(237,237,237)\", \"ticklen\": 6, \"ticks\": \"inside\"}, \"colorscale\": [[0, \"rgb(20,44,66)\"], [1, \"rgb(90,179,244)\"]], \"type\": \"heatmap\"}], \"heatmapgl\": [{\"colorbar\": {\"outlinewidth\": 0, \"tickcolor\": \"rgb(237,237,237)\", \"ticklen\": 6, \"ticks\": \"inside\"}, \"colorscale\": [[0, \"rgb(20,44,66)\"], [1, \"rgb(90,179,244)\"]], \"type\": \"heatmapgl\"}], \"histogram\": [{\"marker\": {\"colorbar\": {\"outlinewidth\": 0, \"tickcolor\": \"rgb(237,237,237)\", \"ticklen\": 6, \"ticks\": \"inside\"}}, \"type\": \"histogram\"}], \"histogram2d\": [{\"colorbar\": {\"outlinewidth\": 0, \"tickcolor\": \"rgb(237,237,237)\", \"ticklen\": 6, \"ticks\": \"inside\"}, \"colorscale\": [[0, \"rgb(20,44,66)\"], [1, \"rgb(90,179,244)\"]], \"type\": \"histogram2d\"}], \"histogram2dcontour\": [{\"colorbar\": {\"outlinewidth\": 0, \"tickcolor\": \"rgb(237,237,237)\", \"ticklen\": 6, \"ticks\": \"inside\"}, \"colorscale\": [[0, \"rgb(20,44,66)\"], [1, \"rgb(90,179,244)\"]], \"type\": \"histogram2dcontour\"}], \"mesh3d\": [{\"colorbar\": {\"outlinewidth\": 0, \"tickcolor\": \"rgb(237,237,237)\", \"ticklen\": 6, \"ticks\": \"inside\"}, \"type\": \"mesh3d\"}], \"parcoords\": [{\"line\": {\"colorbar\": {\"outlinewidth\": 0, \"tickcolor\": \"rgb(237,237,237)\", \"ticklen\": 6, \"ticks\": \"inside\"}}, \"type\": \"parcoords\"}], \"pie\": [{\"automargin\": true, \"type\": \"pie\"}], \"scatter\": [{\"marker\": {\"colorbar\": {\"outlinewidth\": 0, \"tickcolor\": \"rgb(237,237,237)\", \"ticklen\": 6, \"ticks\": \"inside\"}}, \"type\": \"scatter\"}], \"scatter3d\": [{\"line\": {\"colorbar\": {\"outlinewidth\": 0, \"tickcolor\": \"rgb(237,237,237)\", \"ticklen\": 6, \"ticks\": \"inside\"}}, \"marker\": {\"colorbar\": {\"outlinewidth\": 0, \"tickcolor\": \"rgb(237,237,237)\", \"ticklen\": 6, \"ticks\": \"inside\"}}, \"type\": \"scatter3d\"}], \"scattercarpet\": [{\"marker\": {\"colorbar\": {\"outlinewidth\": 0, \"tickcolor\": \"rgb(237,237,237)\", \"ticklen\": 6, \"ticks\": \"inside\"}}, \"type\": \"scattercarpet\"}], \"scattergeo\": [{\"marker\": {\"colorbar\": {\"outlinewidth\": 0, \"tickcolor\": \"rgb(237,237,237)\", \"ticklen\": 6, \"ticks\": \"inside\"}}, \"type\": \"scattergeo\"}], \"scattergl\": [{\"marker\": {\"colorbar\": {\"outlinewidth\": 0, \"tickcolor\": \"rgb(237,237,237)\", \"ticklen\": 6, \"ticks\": \"inside\"}}, \"type\": \"scattergl\"}], \"scattermapbox\": [{\"marker\": {\"colorbar\": {\"outlinewidth\": 0, \"tickcolor\": \"rgb(237,237,237)\", \"ticklen\": 6, \"ticks\": \"inside\"}}, \"type\": \"scattermapbox\"}], \"scatterpolar\": [{\"marker\": {\"colorbar\": {\"outlinewidth\": 0, \"tickcolor\": \"rgb(237,237,237)\", \"ticklen\": 6, \"ticks\": \"inside\"}}, \"type\": \"scatterpolar\"}], \"scatterpolargl\": [{\"marker\": {\"colorbar\": {\"outlinewidth\": 0, \"tickcolor\": \"rgb(237,237,237)\", \"ticklen\": 6, \"ticks\": \"inside\"}}, \"type\": \"scatterpolargl\"}], \"scatterternary\": [{\"marker\": {\"colorbar\": {\"outlinewidth\": 0, \"tickcolor\": \"rgb(237,237,237)\", \"ticklen\": 6, \"ticks\": \"inside\"}}, \"type\": \"scatterternary\"}], \"surface\": [{\"colorbar\": {\"outlinewidth\": 0, \"tickcolor\": \"rgb(237,237,237)\", \"ticklen\": 6, \"ticks\": \"inside\"}, \"colorscale\": [[0, \"rgb(20,44,66)\"], [1, \"rgb(90,179,244)\"]], \"type\": \"surface\"}], \"table\": [{\"cells\": {\"fill\": {\"color\": \"rgb(237,237,237)\"}, \"line\": {\"color\": \"white\"}}, \"header\": {\"fill\": {\"color\": \"rgb(217,217,217)\"}, \"line\": {\"color\": \"white\"}}, \"type\": \"table\"}]}, \"layout\": {\"annotationdefaults\": {\"arrowhead\": 0, \"arrowwidth\": 1}, \"coloraxis\": {\"colorbar\": {\"outlinewidth\": 0, \"tickcolor\": \"rgb(237,237,237)\", \"ticklen\": 6, \"ticks\": \"inside\"}}, \"colorscale\": {\"sequential\": [[0, \"rgb(20,44,66)\"], [1, \"rgb(90,179,244)\"]], \"sequentialminus\": [[0, \"rgb(20,44,66)\"], [1, \"rgb(90,179,244)\"]]}, \"colorway\": [\"#F8766D\", \"#A3A500\", \"#00BF7D\", \"#00B0F6\", \"#E76BF3\"], \"font\": {\"color\": \"rgb(51,51,51)\"}, \"geo\": {\"bgcolor\": \"white\", \"lakecolor\": \"white\", \"landcolor\": \"rgb(237,237,237)\", \"showlakes\": true, \"showland\": true, \"subunitcolor\": \"white\"}, \"hoverlabel\": {\"align\": \"left\"}, \"hovermode\": \"closest\", \"paper_bgcolor\": \"white\", \"plot_bgcolor\": \"rgb(237,237,237)\", \"polar\": {\"angularaxis\": {\"gridcolor\": \"white\", \"linecolor\": \"white\", \"showgrid\": true, \"tickcolor\": \"rgb(51,51,51)\", \"ticks\": \"outside\"}, \"bgcolor\": \"rgb(237,237,237)\", \"radialaxis\": {\"gridcolor\": \"white\", \"linecolor\": \"white\", \"showgrid\": true, \"tickcolor\": \"rgb(51,51,51)\", \"ticks\": \"outside\"}}, \"scene\": {\"xaxis\": {\"backgroundcolor\": \"rgb(237,237,237)\", \"gridcolor\": \"white\", \"gridwidth\": 2, \"linecolor\": \"white\", \"showbackground\": true, \"showgrid\": true, \"tickcolor\": \"rgb(51,51,51)\", \"ticks\": \"outside\", \"zerolinecolor\": \"white\"}, \"yaxis\": {\"backgroundcolor\": \"rgb(237,237,237)\", \"gridcolor\": \"white\", \"gridwidth\": 2, \"linecolor\": \"white\", \"showbackground\": true, \"showgrid\": true, \"tickcolor\": \"rgb(51,51,51)\", \"ticks\": \"outside\", \"zerolinecolor\": \"white\"}, \"zaxis\": {\"backgroundcolor\": \"rgb(237,237,237)\", \"gridcolor\": \"white\", \"gridwidth\": 2, \"linecolor\": \"white\", \"showbackground\": true, \"showgrid\": true, \"tickcolor\": \"rgb(51,51,51)\", \"ticks\": \"outside\", \"zerolinecolor\": \"white\"}}, \"shapedefaults\": {\"fillcolor\": \"black\", \"line\": {\"width\": 0}, \"opacity\": 0.3}, \"ternary\": {\"aaxis\": {\"gridcolor\": \"white\", \"linecolor\": \"white\", \"showgrid\": true, \"tickcolor\": \"rgb(51,51,51)\", \"ticks\": \"outside\"}, \"baxis\": {\"gridcolor\": \"white\", \"linecolor\": \"white\", \"showgrid\": true, \"tickcolor\": \"rgb(51,51,51)\", \"ticks\": \"outside\"}, \"bgcolor\": \"rgb(237,237,237)\", \"caxis\": {\"gridcolor\": \"white\", \"linecolor\": \"white\", \"showgrid\": true, \"tickcolor\": \"rgb(51,51,51)\", \"ticks\": \"outside\"}}, \"xaxis\": {\"automargin\": true, \"gridcolor\": \"white\", \"linecolor\": \"white\", \"showgrid\": true, \"tickcolor\": \"rgb(51,51,51)\", \"ticks\": \"outside\", \"title\": {\"standoff\": 15}, \"zerolinecolor\": \"white\"}, \"yaxis\": {\"automargin\": true, \"gridcolor\": \"white\", \"linecolor\": \"white\", \"showgrid\": true, \"tickcolor\": \"rgb(51,51,51)\", \"ticks\": \"outside\", \"title\": {\"standoff\": 15}, \"zerolinecolor\": \"white\"}}}, \"xaxis\": {\"anchor\": \"y\", \"domain\": [0.0, 1.0], \"title\": {\"text\": \"Positive\"}}, \"yaxis\": {\"anchor\": \"x\", \"domain\": [0.0, 1.0], \"title\": {\"text\": \"Total\"}}},\n",
       "                        {\"responsive\": true}\n",
       "                    ).then(function(){\n",
       "                            \n",
       "var gd = document.getElementById('2182788a-f760-42a4-a6c0-386d73f64053');\n",
       "var x = new MutationObserver(function (mutations, observer) {{\n",
       "        var display = window.getComputedStyle(gd).display;\n",
       "        if (!display || display === 'none') {{\n",
       "            console.log([gd, 'removed!']);\n",
       "            Plotly.purge(gd);\n",
       "            observer.disconnect();\n",
       "        }}\n",
       "}});\n",
       "\n",
       "// Listen for the removal of the full notebook cells\n",
       "var notebookContainer = gd.closest('#notebook-container');\n",
       "if (notebookContainer) {{\n",
       "    x.observe(notebookContainer, {childList: true});\n",
       "}}\n",
       "\n",
       "// Listen for the clearing of the current output cell\n",
       "var outputEl = gd.closest('.output');\n",
       "if (outputEl) {{\n",
       "    x.observe(outputEl, {childList: true});\n",
       "}}\n",
       "\n",
       "                        })\n",
       "                };\n",
       "                });\n",
       "            </script>\n",
       "        </div>"
      ]
     },
     "metadata": {},
     "output_type": "display_data"
    }
   ],
   "source": [
    "fig = px.scatter(data_frame=df_testing.sort_values(by='Date').groupby(['State']).agg('last').reset_index(),\n",
    "                 x='Positive', y='Total', color='State', \n",
    "                 log_x=False, log_y=False, template='ggplot2',\n",
    "                )\n",
    "fig.show()\n",
    "\n",
    "## Animate this"
   ]
  },
  {
   "cell_type": "markdown",
   "metadata": {},
   "source": [
    "## Hospitalizations & Burden on Healthcare"
   ]
  },
  {
   "cell_type": "code",
   "execution_count": null,
   "metadata": {},
   "outputs": [],
   "source": [
    "# Adapted from https://www.kaggle.com/hrmello/us-health-care-system-dive-into-ny\n",
    "icu_facilities = pd.read_csv(\"/kaggle/input/uncover/hifld/hifld/urgent-care-facilities.csv\")\n",
    "us_census = pd.read_csv(\"../input/us-census-demographic-data/acs2017_county_data.csv\")\n",
    "state_abbr = pd.read_csv(\"https://raw.githubusercontent.com/jasonong/List-of-US-States/master/states.csv\")\n",
    "\n",
    "\n",
    "icus_per_state = pd.DataFrame(icu_facilities.groupby([\"state\"])[\"id\"].nunique()).reset_index()\n",
    "\n",
    "us_census = us_census.merge(states_abbr, on = \"State\")\n",
    "us_census = us_census.rename(columns = {\"State\": \"fullState\", \"Abbreviation\": \"state\"})\n",
    "\n",
    "popState = us_census.groupby(\"state\")[\"TotalPop\"].sum().reset_index()\n",
    "\n",
    "icupopdf = icus_per_state.merge(popState, on = \"state\")\n",
    "icupopdf[\"ICUPopRatio\"] = icupopdf[\"id\"]/icupopdf[\"TotalPop\"] * 100000"
   ]
  },
  {
   "cell_type": "markdown",
   "metadata": {},
   "source": [
    "## Geographic distribution of cases"
   ]
  },
  {
   "cell_type": "code",
   "execution_count": 38,
   "metadata": {},
   "outputs": [],
   "source": [
    "# px.choropleth(data_frame=df_country[df_country.Country.isin(['US', 'Korea, South', 'Italy'])],\n",
    "#               lat='Lat', lon='Long',\n",
    "#              )"
   ]
  },
  {
   "cell_type": "code",
   "execution_count": null,
   "metadata": {},
   "outputs": [],
   "source": []
  }
 ],
 "metadata": {
  "kernelspec": {
   "display_name": "Python 3",
   "language": "python",
   "name": "python3"
  },
  "language_info": {
   "codemirror_mode": {
    "name": "ipython",
    "version": 3
   },
   "file_extension": ".py",
   "mimetype": "text/x-python",
   "name": "python",
   "nbconvert_exporter": "python",
   "pygments_lexer": "ipython3",
   "version": "3.7.7"
  }
 },
 "nbformat": 4,
 "nbformat_minor": 4
}

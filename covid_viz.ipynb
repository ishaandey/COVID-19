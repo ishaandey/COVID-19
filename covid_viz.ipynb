{
 "cells": [
  {
   "cell_type": "markdown",
   "metadata": {},
   "source": [
    "## Imports and Cleaning"
   ]
  },
  {
   "cell_type": "code",
   "execution_count": 1,
   "metadata": {
    "scrolled": true
   },
   "outputs": [],
   "source": [
    "#!/usr/bin/env python3\n",
    "# -*- coding: utf-8 -*-\n",
    "!cd ~/Documents/Data_Projects/COVID/COVID-19"
   ]
  },
  {
   "cell_type": "code",
   "execution_count": 2,
   "metadata": {},
   "outputs": [],
   "source": [
    "import pandas as pd\n",
    "import numpy as np\n",
    "pd.set_option('display.max_columns', 150)\n",
    "pd.set_option('display.max_rows', 150)\n",
    "\n",
    "from datetime import timedelta\n",
    "import math\n",
    "\n",
    "import matplotlib.pyplot as plt\n",
    "import matplotlib as mpl\n",
    "import seaborn as sns\n",
    "mpl.rcParams['figure.dpi']= 600\n",
    "sns.set()\n",
    "\n",
    "import plotly\n",
    "import plotly.express as px\n",
    "import plotly.io as pio\n",
    "import plotly.graph_objects as go\n",
    "\n",
    "from data_clean import *\n",
    "from viz_helper import *\n",
    "%load_ext autoreload\n",
    "%autoreload 10"
   ]
  },
  {
   "cell_type": "markdown",
   "metadata": {},
   "source": [
    "### Live data\n",
    "For this project, data is read in live from Johns Hopkins CSSE, the New York Times, and the Covid Tracking Project (associated with The Atlantic). The update times for each source differ across the sources, but are typically fully updated by the next day. \n",
    "Their sources, on the other hand, are from a collection of government agencies for international cases, and often state health department websites for county and state level information. The COVID Tracking Project provides a grade for each state depending on the reliability of testing data: https://covidtracking.com/about-data.\n",
    "For quick dashboards, check out the Hopkins CSSE dash: https://coronavirus.jhu.edu/map.html.\n"
   ]
  },
  {
   "cell_type": "code",
   "execution_count": null,
   "metadata": {},
   "outputs": [],
   "source": [
    "# Countries from Johns Hopkins, State & Local from NYT, and Testing from the Covid Tracking Project\n",
    "countries = pd.read_csv('https://raw.githubusercontent.com/CSSEGISandData/COVID-19/master/csse_covid_19_data/csse_covid_19_time_series/time_series_covid19_confirmed_global.csv')\n",
    "states = pd.read_csv('https://raw.githubusercontent.com/nytimes/covid-19-data/master/us-states.csv')\n",
    "local = pd.read_csv('https://raw.githubusercontent.com/nytimes/covid-19-data/master/us-counties.csv')\n",
    "\n",
    "testing = pd.read_json('https://covidtracking.com/api/v1/states/daily.json')"
   ]
  },
  {
   "cell_type": "code",
   "execution_count": 4,
   "metadata": {},
   "outputs": [
    {
     "name": "stderr",
     "output_type": "stream",
     "text": [
      "/anaconda3/lib/python3.7/site-packages/pandas/core/series.py:679: RuntimeWarning:\n",
      "\n",
      "divide by zero encountered in log\n",
      "\n",
      "/anaconda3/lib/python3.7/site-packages/pandas/core/series.py:679: RuntimeWarning:\n",
      "\n",
      "invalid value encountered in log\n",
      "\n"
     ]
    }
   ],
   "source": [
    "df_country = clean_data_hopkins(countries, country='all')\n",
    "df_state = clean_data_nyt(states, level='state')\n",
    "df_local = clean_data_nyt(local, level='local')\n",
    "\n",
    "df_testing = clean_data_trackingproject(testing)"
   ]
  },
  {
   "cell_type": "code",
   "execution_count": 5,
   "metadata": {},
   "outputs": [
    {
     "data": {
      "text/html": [
       "<div>\n",
       "<style scoped>\n",
       "    .dataframe tbody tr th:only-of-type {\n",
       "        vertical-align: middle;\n",
       "    }\n",
       "\n",
       "    .dataframe tbody tr th {\n",
       "        vertical-align: top;\n",
       "    }\n",
       "\n",
       "    .dataframe thead th {\n",
       "        text-align: right;\n",
       "    }\n",
       "</style>\n",
       "<table border=\"1\" class=\"dataframe\">\n",
       "  <thead>\n",
       "    <tr style=\"text-align: right;\">\n",
       "      <th></th>\n",
       "      <th>State</th>\n",
       "      <th>Date</th>\n",
       "    </tr>\n",
       "  </thead>\n",
       "  <tbody>\n",
       "    <tr>\n",
       "      <th>17</th>\n",
       "      <td>Maine</td>\n",
       "      <td>2020-03-26</td>\n",
       "    </tr>\n",
       "    <tr>\n",
       "      <th>10</th>\n",
       "      <td>Hawaii</td>\n",
       "      <td>2020-03-25</td>\n",
       "    </tr>\n",
       "    <tr>\n",
       "      <th>20</th>\n",
       "      <td>Michigan</td>\n",
       "      <td>2020-03-24</td>\n",
       "    </tr>\n",
       "    <tr>\n",
       "      <th>15</th>\n",
       "      <td>Kentucky</td>\n",
       "      <td>2020-03-27</td>\n",
       "    </tr>\n",
       "    <tr>\n",
       "      <th>40</th>\n",
       "      <td>West Virginia</td>\n",
       "      <td>2020-03-25</td>\n",
       "    </tr>\n",
       "  </tbody>\n",
       "</table>\n",
       "</div>"
      ],
      "text/plain": [
       "            State        Date\n",
       "17          Maine  2020-03-26\n",
       "10         Hawaii  2020-03-25\n",
       "20       Michigan  2020-03-24\n",
       "15       Kentucky  2020-03-27\n",
       "40  West Virginia  2020-03-25"
      ]
     },
     "execution_count": 5,
     "metadata": {},
     "output_type": "execute_result"
    }
   ],
   "source": [
    "# Quick list of dates when US states entered into some form of containment or lockdown\n",
    "containment = pd.read_csv('containment.txt')\n",
    "containment.columns = ['State', 'Date']\n",
    "containment = containment.sort_values(by='Date').groupby(by='State').agg('last').reset_index()\n",
    "containment.sample(5)"
   ]
  },
  {
   "cell_type": "code",
   "execution_count": 6,
   "metadata": {},
   "outputs": [
    {
     "data": {
      "text/html": [
       "<div>\n",
       "<style scoped>\n",
       "    .dataframe tbody tr th:only-of-type {\n",
       "        vertical-align: middle;\n",
       "    }\n",
       "\n",
       "    .dataframe tbody tr th {\n",
       "        vertical-align: top;\n",
       "    }\n",
       "\n",
       "    .dataframe thead th {\n",
       "        text-align: right;\n",
       "    }\n",
       "</style>\n",
       "<table border=\"1\" class=\"dataframe\">\n",
       "  <thead>\n",
       "    <tr style=\"text-align: right;\">\n",
       "      <th></th>\n",
       "      <th>Country</th>\n",
       "      <th>Date</th>\n",
       "      <th>Confirmed</th>\n",
       "      <th>EpidemicStartDate</th>\n",
       "      <th>DaysElapsed</th>\n",
       "      <th>NewConfirmed</th>\n",
       "      <th>DaysElapsed_Log</th>\n",
       "      <th>Confirmed_Log</th>\n",
       "      <th>NewConfirmed_Log</th>\n",
       "    </tr>\n",
       "  </thead>\n",
       "  <tbody>\n",
       "    <tr>\n",
       "      <th>12980</th>\n",
       "      <td>US</td>\n",
       "      <td>2020-04-01</td>\n",
       "      <td>213372</td>\n",
       "      <td>2020-01-22</td>\n",
       "      <td>71</td>\n",
       "      <td>25200.0</td>\n",
       "      <td>4.262680</td>\n",
       "      <td>12.270792</td>\n",
       "      <td>10.134599</td>\n",
       "    </tr>\n",
       "    <tr>\n",
       "      <th>13163</th>\n",
       "      <td>US</td>\n",
       "      <td>2020-04-02</td>\n",
       "      <td>243453</td>\n",
       "      <td>2020-01-22</td>\n",
       "      <td>72</td>\n",
       "      <td>30081.0</td>\n",
       "      <td>4.276666</td>\n",
       "      <td>12.402679</td>\n",
       "      <td>10.311649</td>\n",
       "    </tr>\n",
       "    <tr>\n",
       "      <th>13346</th>\n",
       "      <td>US</td>\n",
       "      <td>2020-04-03</td>\n",
       "      <td>275586</td>\n",
       "      <td>2020-01-22</td>\n",
       "      <td>73</td>\n",
       "      <td>32133.0</td>\n",
       "      <td>4.290459</td>\n",
       "      <td>12.526655</td>\n",
       "      <td>10.377639</td>\n",
       "    </tr>\n",
       "    <tr>\n",
       "      <th>13529</th>\n",
       "      <td>US</td>\n",
       "      <td>2020-04-04</td>\n",
       "      <td>308850</td>\n",
       "      <td>2020-01-22</td>\n",
       "      <td>74</td>\n",
       "      <td>33264.0</td>\n",
       "      <td>4.304065</td>\n",
       "      <td>12.640611</td>\n",
       "      <td>10.412231</td>\n",
       "    </tr>\n",
       "    <tr>\n",
       "      <th>13712</th>\n",
       "      <td>US</td>\n",
       "      <td>2020-04-05</td>\n",
       "      <td>337072</td>\n",
       "      <td>2020-01-22</td>\n",
       "      <td>75</td>\n",
       "      <td>28222.0</td>\n",
       "      <td>4.317488</td>\n",
       "      <td>12.728052</td>\n",
       "      <td>10.247857</td>\n",
       "    </tr>\n",
       "  </tbody>\n",
       "</table>\n",
       "</div>"
      ],
      "text/plain": [
       "      Country        Date  Confirmed EpidemicStartDate  DaysElapsed  \\\n",
       "12980      US  2020-04-01     213372        2020-01-22           71   \n",
       "13163      US  2020-04-02     243453        2020-01-22           72   \n",
       "13346      US  2020-04-03     275586        2020-01-22           73   \n",
       "13529      US  2020-04-04     308850        2020-01-22           74   \n",
       "13712      US  2020-04-05     337072        2020-01-22           75   \n",
       "\n",
       "       NewConfirmed  DaysElapsed_Log  Confirmed_Log  NewConfirmed_Log  \n",
       "12980       25200.0         4.262680      12.270792         10.134599  \n",
       "13163       30081.0         4.276666      12.402679         10.311649  \n",
       "13346       32133.0         4.290459      12.526655         10.377639  \n",
       "13529       33264.0         4.304065      12.640611         10.412231  \n",
       "13712       28222.0         4.317488      12.728052         10.247857  "
      ]
     },
     "execution_count": 6,
     "metadata": {},
     "output_type": "execute_result"
    }
   ],
   "source": [
    "df_country[df_country.Country.isin(['US'])].tail()"
   ]
  },
  {
   "cell_type": "code",
   "execution_count": 7,
   "metadata": {},
   "outputs": [
    {
     "data": {
      "text/html": [
       "<div>\n",
       "<style scoped>\n",
       "    .dataframe tbody tr th:only-of-type {\n",
       "        vertical-align: middle;\n",
       "    }\n",
       "\n",
       "    .dataframe tbody tr th {\n",
       "        vertical-align: top;\n",
       "    }\n",
       "\n",
       "    .dataframe thead th {\n",
       "        text-align: right;\n",
       "    }\n",
       "</style>\n",
       "<table border=\"1\" class=\"dataframe\">\n",
       "  <thead>\n",
       "    <tr style=\"text-align: right;\">\n",
       "      <th></th>\n",
       "      <th>County</th>\n",
       "      <th>State</th>\n",
       "      <th>Date</th>\n",
       "      <th>Confirmed</th>\n",
       "      <th>EpidemicStartDate</th>\n",
       "      <th>DaysElapsed</th>\n",
       "      <th>NewConfirmed</th>\n",
       "      <th>DaysElapsed_Log</th>\n",
       "      <th>Confirmed_Log</th>\n",
       "      <th>NewConfirmed_Log</th>\n",
       "    </tr>\n",
       "  </thead>\n",
       "  <tbody>\n",
       "    <tr>\n",
       "      <th>413</th>\n",
       "      <td>Albemarle</td>\n",
       "      <td>Virginia</td>\n",
       "      <td>2020-03-31</td>\n",
       "      <td>21</td>\n",
       "      <td>2020-03-07</td>\n",
       "      <td>25</td>\n",
       "      <td>2.0</td>\n",
       "      <td>3.218876</td>\n",
       "      <td>3.044522</td>\n",
       "      <td>0.693147</td>\n",
       "    </tr>\n",
       "    <tr>\n",
       "      <th>414</th>\n",
       "      <td>Albemarle</td>\n",
       "      <td>Virginia</td>\n",
       "      <td>2020-04-01</td>\n",
       "      <td>21</td>\n",
       "      <td>2020-03-07</td>\n",
       "      <td>26</td>\n",
       "      <td>0.0</td>\n",
       "      <td>3.258097</td>\n",
       "      <td>3.044522</td>\n",
       "      <td>-inf</td>\n",
       "    </tr>\n",
       "    <tr>\n",
       "      <th>415</th>\n",
       "      <td>Albemarle</td>\n",
       "      <td>Virginia</td>\n",
       "      <td>2020-04-02</td>\n",
       "      <td>23</td>\n",
       "      <td>2020-03-07</td>\n",
       "      <td>27</td>\n",
       "      <td>2.0</td>\n",
       "      <td>3.295837</td>\n",
       "      <td>3.135494</td>\n",
       "      <td>0.693147</td>\n",
       "    </tr>\n",
       "    <tr>\n",
       "      <th>416</th>\n",
       "      <td>Albemarle</td>\n",
       "      <td>Virginia</td>\n",
       "      <td>2020-04-03</td>\n",
       "      <td>26</td>\n",
       "      <td>2020-03-07</td>\n",
       "      <td>28</td>\n",
       "      <td>3.0</td>\n",
       "      <td>3.332205</td>\n",
       "      <td>3.258097</td>\n",
       "      <td>1.098612</td>\n",
       "    </tr>\n",
       "    <tr>\n",
       "      <th>417</th>\n",
       "      <td>Albemarle</td>\n",
       "      <td>Virginia</td>\n",
       "      <td>2020-04-04</td>\n",
       "      <td>27</td>\n",
       "      <td>2020-03-07</td>\n",
       "      <td>29</td>\n",
       "      <td>1.0</td>\n",
       "      <td>3.367296</td>\n",
       "      <td>3.295837</td>\n",
       "      <td>0.000000</td>\n",
       "    </tr>\n",
       "  </tbody>\n",
       "</table>\n",
       "</div>"
      ],
      "text/plain": [
       "        County     State        Date  Confirmed EpidemicStartDate  \\\n",
       "413  Albemarle  Virginia  2020-03-31         21        2020-03-07   \n",
       "414  Albemarle  Virginia  2020-04-01         21        2020-03-07   \n",
       "415  Albemarle  Virginia  2020-04-02         23        2020-03-07   \n",
       "416  Albemarle  Virginia  2020-04-03         26        2020-03-07   \n",
       "417  Albemarle  Virginia  2020-04-04         27        2020-03-07   \n",
       "\n",
       "     DaysElapsed  NewConfirmed  DaysElapsed_Log  Confirmed_Log  \\\n",
       "413           25           2.0         3.218876       3.044522   \n",
       "414           26           0.0         3.258097       3.044522   \n",
       "415           27           2.0         3.295837       3.135494   \n",
       "416           28           3.0         3.332205       3.258097   \n",
       "417           29           1.0         3.367296       3.295837   \n",
       "\n",
       "     NewConfirmed_Log  \n",
       "413          0.693147  \n",
       "414              -inf  \n",
       "415          0.693147  \n",
       "416          1.098612  \n",
       "417          0.000000  "
      ]
     },
     "execution_count": 7,
     "metadata": {},
     "output_type": "execute_result"
    }
   ],
   "source": [
    "df_local[df_local.County=='Albemarle'].tail()"
   ]
  },
  {
   "cell_type": "code",
   "execution_count": 8,
   "metadata": {},
   "outputs": [
    {
     "data": {
      "text/html": [
       "<div>\n",
       "<style scoped>\n",
       "    .dataframe tbody tr th:only-of-type {\n",
       "        vertical-align: middle;\n",
       "    }\n",
       "\n",
       "    .dataframe tbody tr th {\n",
       "        vertical-align: top;\n",
       "    }\n",
       "\n",
       "    .dataframe thead th {\n",
       "        text-align: right;\n",
       "    }\n",
       "</style>\n",
       "<table border=\"1\" class=\"dataframe\">\n",
       "  <thead>\n",
       "    <tr style=\"text-align: right;\">\n",
       "      <th></th>\n",
       "      <th>Confirmed</th>\n",
       "    </tr>\n",
       "    <tr>\n",
       "      <th>Date</th>\n",
       "      <th></th>\n",
       "    </tr>\n",
       "  </thead>\n",
       "  <tbody>\n",
       "    <tr>\n",
       "      <th>2020-03-29</th>\n",
       "      <td>1308.0</td>\n",
       "    </tr>\n",
       "    <tr>\n",
       "      <th>2020-03-30</th>\n",
       "      <td>1876.0</td>\n",
       "    </tr>\n",
       "    <tr>\n",
       "      <th>2020-03-31</th>\n",
       "      <td>-123.0</td>\n",
       "    </tr>\n",
       "    <tr>\n",
       "      <th>2020-04-01</th>\n",
       "      <td>1339.0</td>\n",
       "    </tr>\n",
       "    <tr>\n",
       "      <th>2020-04-02</th>\n",
       "      <td>775.0</td>\n",
       "    </tr>\n",
       "    <tr>\n",
       "      <th>2020-04-03</th>\n",
       "      <td>796.0</td>\n",
       "    </tr>\n",
       "    <tr>\n",
       "      <th>2020-04-04</th>\n",
       "      <td>2686.0</td>\n",
       "    </tr>\n",
       "  </tbody>\n",
       "</table>\n",
       "</div>"
      ],
      "text/plain": [
       "            Confirmed\n",
       "Date                 \n",
       "2020-03-29     1308.0\n",
       "2020-03-30     1876.0\n",
       "2020-03-31     -123.0\n",
       "2020-04-01     1339.0\n",
       "2020-04-02      775.0\n",
       "2020-04-03      796.0\n",
       "2020-04-04     2686.0"
      ]
     },
     "execution_count": 8,
     "metadata": {},
     "output_type": "execute_result"
    }
   ],
   "source": [
    "# NYT aggregated state counts have recently been higher than the daily reports from Hopkins\n",
    "pd.DataFrame(df_state.groupby('Date').sum().Confirmed - df_country[df_country.Country=='US'].groupby('Date').sum().Confirmed).dropna().tail(7)"
   ]
  },
  {
   "cell_type": "markdown",
   "metadata": {},
   "source": [
    "## Are we flattening the curve?"
   ]
  },
  {
   "cell_type": "markdown",
   "metadata": {},
   "source": [
    "### New confirmed cases vs cumulatative cases\n",
    "\n",
    "For an exponential growth function, the slope of the curve, or daily increase in cases should remain proportional to the total number of cases in a given region. With that expectation, we would expect regions experiencing exponential growth to exhibit linearity when plotting log of new cases against log of current cases. Countries that have moved past this plateau, such as South Korea and China (as of 4/05), should taper off, as described in the following video by Henry Reich and Aashish B: https://www.youtube.com/watch?v=54XLXg4fYsc"
   ]
  },
  {
   "cell_type": "code",
   "execution_count": 35,
   "metadata": {},
   "outputs": [
    {
     "data": {
      "image/svg+xml": [
       "<svg class=\"main-svg\" xmlns=\"http://www.w3.org/2000/svg\" xmlns:xlink=\"http://www.w3.org/1999/xlink\" width=\"1100\" height=\"550\" style=\"\" viewBox=\"0 0 1100 550\"><rect x=\"0\" y=\"0\" width=\"1100\" height=\"550\" style=\"fill: rgb(255, 255, 255); fill-opacity: 1;\"/><defs id=\"defs-9f2deb\"><g class=\"clips\"><clipPath id=\"clip9f2debxyplot\" class=\"plotclip\"><rect width=\"866\" height=\"370\"/></clipPath><clipPath class=\"axesclip\" id=\"clip9f2debx\"><rect x=\"80\" y=\"0\" width=\"866\" height=\"550\"/></clipPath><clipPath class=\"axesclip\" id=\"clip9f2deby\"><rect x=\"0\" y=\"100\" width=\"1100\" height=\"370\"/></clipPath><clipPath class=\"axesclip\" id=\"clip9f2debxy\"><rect x=\"80\" y=\"100\" width=\"866\" height=\"370\"/></clipPath></g><g class=\"gradients\"/></defs><g class=\"bglayer\"><rect class=\"bg\" x=\"80\" y=\"100\" width=\"866\" height=\"370\" style=\"fill: rgb(237, 237, 237); fill-opacity: 1; stroke-width: 0;\"/></g><g class=\"layer-below\"><g class=\"imagelayer\"/><g class=\"shapelayer\"/></g><g class=\"cartesianlayer\"><g class=\"subplot xy\"><g class=\"layer-subplot\"><g class=\"shapelayer\"/><g class=\"imagelayer\"/></g><g class=\"gridlayer\"><g class=\"x\"><path class=\"xgrid crisp\" transform=\"translate(125.31,0)\" d=\"M0,100v370\" style=\"stroke: rgb(255, 255, 255); stroke-opacity: 1; stroke-width: 1px;\"/><path class=\"xgrid crisp\" transform=\"translate(186.14,0)\" d=\"M0,100v370\" style=\"stroke: rgb(255, 255, 255); stroke-opacity: 1; stroke-width: 1px;\"/><path class=\"xgrid crisp\" transform=\"translate(246.96,0)\" d=\"M0,100v370\" style=\"stroke: rgb(255, 255, 255); stroke-opacity: 1; stroke-width: 1px;\"/><path class=\"xgrid crisp\" transform=\"translate(327.37,0)\" d=\"M0,100v370\" style=\"stroke: rgb(255, 255, 255); stroke-opacity: 1; stroke-width: 1px;\"/><path class=\"xgrid crisp\" transform=\"translate(388.2,0)\" d=\"M0,100v370\" style=\"stroke: rgb(255, 255, 255); stroke-opacity: 1; stroke-width: 1px;\"/><path class=\"xgrid crisp\" transform=\"translate(449.02,0)\" d=\"M0,100v370\" style=\"stroke: rgb(255, 255, 255); stroke-opacity: 1; stroke-width: 1px;\"/><path class=\"xgrid crisp\" transform=\"translate(529.4300000000001,0)\" d=\"M0,100v370\" style=\"stroke: rgb(255, 255, 255); stroke-opacity: 1; stroke-width: 1px;\"/><path class=\"xgrid crisp\" transform=\"translate(590.26,0)\" d=\"M0,100v370\" style=\"stroke: rgb(255, 255, 255); stroke-opacity: 1; stroke-width: 1px;\"/><path class=\"xgrid crisp\" transform=\"translate(651.08,0)\" d=\"M0,100v370\" style=\"stroke: rgb(255, 255, 255); stroke-opacity: 1; stroke-width: 1px;\"/><path class=\"xgrid crisp\" transform=\"translate(731.49,0)\" d=\"M0,100v370\" style=\"stroke: rgb(255, 255, 255); stroke-opacity: 1; stroke-width: 1px;\"/><path class=\"xgrid crisp\" transform=\"translate(792.32,0)\" d=\"M0,100v370\" style=\"stroke: rgb(255, 255, 255); stroke-opacity: 1; stroke-width: 1px;\"/><path class=\"xgrid crisp\" transform=\"translate(853.14,0)\" d=\"M0,100v370\" style=\"stroke: rgb(255, 255, 255); stroke-opacity: 1; stroke-width: 1px;\"/><path class=\"xgrid crisp\" transform=\"translate(933.55,0)\" d=\"M0,100v370\" style=\"stroke: rgb(255, 255, 255); stroke-opacity: 1; stroke-width: 1px;\"/></g><g class=\"y\"><path class=\"ygrid crisp\" transform=\"translate(0,447.75)\" d=\"M80,0h866\" style=\"stroke: rgb(255, 255, 255); stroke-opacity: 1; stroke-width: 1px;\"/><path class=\"ygrid crisp\" transform=\"translate(0,426.08)\" d=\"M80,0h866\" style=\"stroke: rgb(255, 255, 255); stroke-opacity: 1; stroke-width: 1px;\"/><path class=\"ygrid crisp\" transform=\"translate(0,397.44)\" d=\"M80,0h866\" style=\"stroke: rgb(255, 255, 255); stroke-opacity: 1; stroke-width: 1px;\"/><path class=\"ygrid crisp\" transform=\"translate(0,375.77)\" d=\"M80,0h866\" style=\"stroke: rgb(255, 255, 255); stroke-opacity: 1; stroke-width: 1px;\"/><path class=\"ygrid crisp\" transform=\"translate(0,354.1)\" d=\"M80,0h866\" style=\"stroke: rgb(255, 255, 255); stroke-opacity: 1; stroke-width: 1px;\"/><path class=\"ygrid crisp\" transform=\"translate(0,325.46000000000004)\" d=\"M80,0h866\" style=\"stroke: rgb(255, 255, 255); stroke-opacity: 1; stroke-width: 1px;\"/><path class=\"ygrid crisp\" transform=\"translate(0,303.78999999999996)\" d=\"M80,0h866\" style=\"stroke: rgb(255, 255, 255); stroke-opacity: 1; stroke-width: 1px;\"/><path class=\"ygrid crisp\" transform=\"translate(0,282.12)\" d=\"M80,0h866\" style=\"stroke: rgb(255, 255, 255); stroke-opacity: 1; stroke-width: 1px;\"/><path class=\"ygrid crisp\" transform=\"translate(0,253.47)\" d=\"M80,0h866\" style=\"stroke: rgb(255, 255, 255); stroke-opacity: 1; stroke-width: 1px;\"/><path class=\"ygrid crisp\" transform=\"translate(0,231.8)\" d=\"M80,0h866\" style=\"stroke: rgb(255, 255, 255); stroke-opacity: 1; stroke-width: 1px;\"/><path class=\"ygrid crisp\" transform=\"translate(0,210.14)\" d=\"M80,0h866\" style=\"stroke: rgb(255, 255, 255); stroke-opacity: 1; stroke-width: 1px;\"/><path class=\"ygrid crisp\" transform=\"translate(0,181.49)\" d=\"M80,0h866\" style=\"stroke: rgb(255, 255, 255); stroke-opacity: 1; stroke-width: 1px;\"/><path class=\"ygrid crisp\" transform=\"translate(0,159.82)\" d=\"M80,0h866\" style=\"stroke: rgb(255, 255, 255); stroke-opacity: 1; stroke-width: 1px;\"/><path class=\"ygrid crisp\" transform=\"translate(0,138.15)\" d=\"M80,0h866\" style=\"stroke: rgb(255, 255, 255); stroke-opacity: 1; stroke-width: 1px;\"/><path class=\"ygrid crisp\" transform=\"translate(0,109.51)\" d=\"M80,0h866\" style=\"stroke: rgb(255, 255, 255); stroke-opacity: 1; stroke-width: 1px;\"/></g></g><g class=\"zerolinelayer\"/><path class=\"xlines-below\"/><path class=\"ylines-below\"/><g class=\"overlines-below\"/><g class=\"xaxislayer-below\"/><g class=\"yaxislayer-below\"/><g class=\"overaxes-below\"/><g class=\"plot\" transform=\"translate(80, 100)\" clip-path=\"url('#clip9f2debxyplot')\"><g class=\"scatterlayer mlayer\"><g class=\"trace scatter traceb20099\" style=\"stroke-miterlimit: 2; opacity: 1;\"><g class=\"fills\"/><g class=\"errorbars\"/><g class=\"lines\"/><g class=\"points\"><path class=\"point plotly-customdata\" transform=\"translate(269.45,205.39)\" d=\"M3,0A3,3 0 1,1 0,-3A3,3 0 0,1 3,0Z\" style=\"opacity: 0.9; stroke-width: 0px; fill: rgb(76, 120, 168); fill-opacity: 1;\"/><path class=\"point plotly-customdata\" transform=\"translate(300.88,171.94)\" d=\"M3,0A3,3 0 1,1 0,-3A3,3 0 0,1 3,0Z\" style=\"opacity: 0.9; stroke-width: 0px; fill: rgb(76, 120, 168); fill-opacity: 1;\"/><path class=\"point plotly-customdata\" transform=\"translate(338.1,154.36)\" d=\"M3,0A3,3 0 1,1 0,-3A3,3 0 0,1 3,0Z\" style=\"opacity: 0.9; stroke-width: 0px; fill: rgb(76, 120, 168); fill-opacity: 1;\"/><path class=\"point plotly-customdata\" transform=\"translate(372.26,144.37)\" d=\"M3,0A3,3 0 1,1 0,-3A3,3 0 0,1 3,0Z\" style=\"opacity: 0.9; stroke-width: 0px; fill: rgb(76, 120, 168); fill-opacity: 1;\"/><path class=\"point plotly-customdata\" transform=\"translate(400.93,138.7)\" d=\"M3,0A3,3 0 1,1 0,-3A3,3 0 0,1 3,0Z\" style=\"opacity: 0.9; stroke-width: 0px; fill: rgb(76, 120, 168); fill-opacity: 1;\"/><path class=\"point plotly-customdata\" transform=\"translate(457.94,101.55)\" d=\"M3,0A3,3 0 1,1 0,-3A3,3 0 0,1 3,0Z\" style=\"opacity: 0.9; stroke-width: 0px; fill: rgb(76, 120, 168); fill-opacity: 1;\"/><path class=\"point plotly-customdata\" transform=\"translate(466.69,148.94)\" d=\"M3,0A3,3 0 1,1 0,-3A3,3 0 0,1 3,0Z\" style=\"opacity: 0.9; stroke-width: 0px; fill: rgb(76, 120, 168); fill-opacity: 1;\"/><path class=\"point plotly-customdata\" transform=\"translate(492.21,109.3)\" d=\"M3,0A3,3 0 1,1 0,-3A3,3 0 0,1 3,0Z\" style=\"opacity: 0.9; stroke-width: 0px; fill: rgb(76, 120, 168); fill-opacity: 1;\"/><path class=\"point plotly-customdata\" transform=\"translate(508.5,115.94)\" d=\"M3,0A3,3 0 1,1 0,-3A3,3 0 0,1 3,0Z\" style=\"opacity: 0.9; stroke-width: 0px; fill: rgb(76, 120, 168); fill-opacity: 1;\"/><path class=\"point plotly-customdata\" transform=\"translate(525.46,108.77)\" d=\"M3,0A3,3 0 1,1 0,-3A3,3 0 0,1 3,0Z\" style=\"opacity: 0.9; stroke-width: 0px; fill: rgb(76, 120, 168); fill-opacity: 1;\"/><path class=\"point plotly-customdata\" transform=\"translate(554.89,83.17)\" d=\"M3,0A3,3 0 1,1 0,-3A3,3 0 0,1 3,0Z\" style=\"opacity: 0.9; stroke-width: 0px; fill: rgb(76, 120, 168); fill-opacity: 1;\"/><path class=\"point plotly-customdata\" transform=\"translate(569.83,96.58)\" d=\"M3,0A3,3 0 1,1 0,-3A3,3 0 0,1 3,0Z\" style=\"opacity: 0.9; stroke-width: 0px; fill: rgb(76, 120, 168); fill-opacity: 1;\"/><path class=\"point plotly-customdata\" transform=\"translate(586.01,88.54)\" d=\"M3,0A3,3 0 1,1 0,-3A3,3 0 0,1 3,0Z\" style=\"opacity: 0.9; stroke-width: 0px; fill: rgb(76, 120, 168); fill-opacity: 1;\"/><path class=\"point plotly-customdata\" transform=\"translate(598.84,90.63)\" d=\"M3,0A3,3 0 1,1 0,-3A3,3 0 0,1 3,0Z\" style=\"opacity: 0.9; stroke-width: 0px; fill: rgb(76, 120, 168); fill-opacity: 1;\"/><path class=\"point plotly-customdata\" transform=\"translate(608.37,95.96)\" d=\"M3,0A3,3 0 1,1 0,-3A3,3 0 0,1 3,0Z\" style=\"opacity: 0.9; stroke-width: 0px; fill: rgb(76, 120, 168); fill-opacity: 1;\"/><path class=\"point plotly-customdata\" transform=\"translate(617.93,92.44)\" d=\"M3,0A3,3 0 1,1 0,-3A3,3 0 0,1 3,0Z\" style=\"opacity: 0.9; stroke-width: 0px; fill: rgb(76, 120, 168); fill-opacity: 1;\"/><path class=\"point plotly-customdata\" transform=\"translate(624.63,100.71)\" d=\"M3,0A3,3 0 1,1 0,-3A3,3 0 0,1 3,0Z\" style=\"opacity: 0.9; stroke-width: 0px; fill: rgb(76, 120, 168); fill-opacity: 1;\"/><path class=\"point plotly-customdata\" transform=\"translate(631.53,97.3)\" d=\"M3,0A3,3 0 1,1 0,-3A3,3 0 0,1 3,0Z\" style=\"opacity: 0.9; stroke-width: 0px; fill: rgb(76, 120, 168); fill-opacity: 1;\"/><path class=\"point plotly-customdata\" transform=\"translate(636.93,102.85)\" d=\"M3,0A3,3 0 1,1 0,-3A3,3 0 0,1 3,0Z\" style=\"opacity: 0.9; stroke-width: 0px; fill: rgb(76, 120, 168); fill-opacity: 1;\"/><path class=\"point plotly-customdata\" transform=\"translate(641.04,109.64)\" d=\"M3,0A3,3 0 1,1 0,-3A3,3 0 0,1 3,0Z\" style=\"opacity: 0.9; stroke-width: 0px; fill: rgb(76, 120, 168); fill-opacity: 1;\"/><path class=\"point plotly-customdata\" transform=\"translate(641.78,162.63)\" d=\"M3,0A3,3 0 1,1 0,-3A3,3 0 0,1 3,0Z\" style=\"opacity: 0.9; stroke-width: 0px; fill: rgb(76, 120, 168); fill-opacity: 1;\"/><path class=\"point plotly-customdata\" transform=\"translate(667.34,46.87)\" d=\"M3,0A3,3 0 1,1 0,-3A3,3 0 0,1 3,0Z\" style=\"opacity: 0.9; stroke-width: 0px; fill: rgb(76, 120, 168); fill-opacity: 1;\"/><path class=\"point plotly-customdata\" transform=\"translate(676.33,73.47)\" d=\"M3,0A3,3 0 1,1 0,-3A3,3 0 0,1 3,0Z\" style=\"opacity: 0.9; stroke-width: 0px; fill: rgb(76, 120, 168); fill-opacity: 1;\"/><path class=\"point plotly-customdata\" transform=\"translate(679.01,109.29)\" d=\"M3,0A3,3 0 1,1 0,-3A3,3 0 0,1 3,0Z\" style=\"opacity: 0.9; stroke-width: 0px; fill: rgb(76, 120, 168); fill-opacity: 1;\"/><path class=\"point plotly-customdata\" transform=\"translate(681.66,108.61)\" d=\"M3,0A3,3 0 1,1 0,-3A3,3 0 0,1 3,0Z\" style=\"opacity: 0.9; stroke-width: 0px; fill: rgb(76, 120, 168); fill-opacity: 1;\"/><path class=\"point plotly-customdata\" transform=\"translate(684.02,111.4)\" d=\"M3,0A3,3 0 1,1 0,-3A3,3 0 0,1 3,0Z\" style=\"opacity: 0.9; stroke-width: 0px; fill: rgb(76, 120, 168); fill-opacity: 1;\"/><path class=\"point plotly-customdata\" transform=\"translate(686.15,113.83)\" d=\"M3,0A3,3 0 1,1 0,-3A3,3 0 0,1 3,0Z\" style=\"opacity: 0.9; stroke-width: 0px; fill: rgb(76, 120, 168); fill-opacity: 1;\"/><path class=\"point plotly-customdata\" transform=\"translate(686.63,159.83)\" d=\"M3,0A3,3 0 1,1 0,-3A3,3 0 0,1 3,0Z\" style=\"opacity: 0.9; stroke-width: 0px; fill: rgb(76, 120, 168); fill-opacity: 1;\"/><path class=\"point plotly-customdata\" transform=\"translate(687.16,156.22)\" d=\"M3,0A3,3 0 1,1 0,-3A3,3 0 0,1 3,0Z\" style=\"opacity: 0.9; stroke-width: 0px; fill: rgb(76, 120, 168); fill-opacity: 1;\"/><path class=\"point plotly-customdata\" transform=\"translate(687.71,155.21)\" d=\"M3,0A3,3 0 1,1 0,-3A3,3 0 0,1 3,0Z\" style=\"opacity: 0.9; stroke-width: 0px; fill: rgb(76, 120, 168); fill-opacity: 1;\"/><path class=\"point plotly-customdata\" transform=\"translate(689.38,120.17)\" d=\"M3,0A3,3 0 1,1 0,-3A3,3 0 0,1 3,0Z\" style=\"opacity: 0.9; stroke-width: 0px; fill: rgb(76, 120, 168); fill-opacity: 1;\"/><path class=\"point plotly-customdata\" transform=\"translate(689.41,252.57)\" d=\"M3,0A3,3 0 1,1 0,-3A3,3 0 0,1 3,0Z\" style=\"opacity: 0.9; stroke-width: 0px; fill: rgb(76, 120, 168); fill-opacity: 1;\"/><path class=\"point plotly-customdata\" transform=\"translate(689.66,179.28)\" d=\"M3,0A3,3 0 1,1 0,-3A3,3 0 0,1 3,0Z\" style=\"opacity: 0.9; stroke-width: 0px; fill: rgb(76, 120, 168); fill-opacity: 1;\"/><path class=\"point plotly-customdata\" transform=\"translate(690.24,152.67)\" d=\"M3,0A3,3 0 1,1 0,-3A3,3 0 0,1 3,0Z\" style=\"opacity: 0.9; stroke-width: 0px; fill: rgb(76, 120, 168); fill-opacity: 1;\"/><path class=\"point plotly-customdata\" transform=\"translate(690.7,159.52)\" d=\"M3,0A3,3 0 1,1 0,-3A3,3 0 0,1 3,0Z\" style=\"opacity: 0.9; stroke-width: 0px; fill: rgb(76, 120, 168); fill-opacity: 1;\"/><path class=\"point plotly-customdata\" transform=\"translate(691.19,157.9)\" d=\"M3,0A3,3 0 1,1 0,-3A3,3 0 0,1 3,0Z\" style=\"opacity: 0.9; stroke-width: 0px; fill: rgb(76, 120, 168); fill-opacity: 1;\"/><path class=\"point plotly-customdata\" transform=\"translate(691.55,166.65)\" d=\"M3,0A3,3 0 1,1 0,-3A3,3 0 0,1 3,0Z\" style=\"opacity: 0.9; stroke-width: 0px; fill: rgb(76, 120, 168); fill-opacity: 1;\"/><path class=\"point plotly-customdata\" transform=\"translate(692.03,158.33)\" d=\"M3,0A3,3 0 1,1 0,-3A3,3 0 0,1 3,0Z\" style=\"opacity: 0.9; stroke-width: 0px; fill: rgb(76, 120, 168); fill-opacity: 1;\"/><path class=\"point plotly-customdata\" transform=\"translate(692.66,149.05)\" d=\"M3,0A3,3 0 1,1 0,-3A3,3 0 0,1 3,0Z\" style=\"opacity: 0.9; stroke-width: 0px; fill: rgb(76, 120, 168); fill-opacity: 1;\"/><path class=\"point plotly-customdata\" transform=\"translate(692.89,181.5)\" d=\"M3,0A3,3 0 1,1 0,-3A3,3 0 0,1 3,0Z\" style=\"opacity: 0.9; stroke-width: 0px; fill: rgb(76, 120, 168); fill-opacity: 1;\"/><path class=\"point plotly-customdata\" transform=\"translate(693.02,196.81)\" d=\"M3,0A3,3 0 1,1 0,-3A3,3 0 0,1 3,0Z\" style=\"opacity: 0.9; stroke-width: 0px; fill: rgb(76, 120, 168); fill-opacity: 1;\"/><path class=\"point plotly-customdata\" transform=\"translate(693.16,196.81)\" d=\"M3,0A3,3 0 1,1 0,-3A3,3 0 0,1 3,0Z\" style=\"opacity: 0.9; stroke-width: 0px; fill: rgb(76, 120, 168); fill-opacity: 1;\"/><path class=\"point plotly-customdata\" transform=\"translate(693.32,190.9)\" d=\"M3,0A3,3 0 1,1 0,-3A3,3 0 0,1 3,0Z\" style=\"opacity: 0.9; stroke-width: 0px; fill: rgb(76, 120, 168); fill-opacity: 1;\"/><path class=\"point plotly-customdata\" transform=\"translate(693.49,190.49)\" d=\"M3,0A3,3 0 1,1 0,-3A3,3 0 0,1 3,0Z\" style=\"opacity: 0.9; stroke-width: 0px; fill: rgb(76, 120, 168); fill-opacity: 1;\"/><path class=\"point plotly-customdata\" transform=\"translate(693.58,210.76)\" d=\"M3,0A3,3 0 1,1 0,-3A3,3 0 0,1 3,0Z\" style=\"opacity: 0.9; stroke-width: 0px; fill: rgb(76, 120, 168); fill-opacity: 1;\"/><path class=\"point plotly-customdata\" transform=\"translate(693.63,223.63)\" d=\"M3,0A3,3 0 1,1 0,-3A3,3 0 0,1 3,0Z\" style=\"opacity: 0.9; stroke-width: 0px; fill: rgb(76, 120, 168); fill-opacity: 1;\"/><path class=\"point plotly-customdata\" transform=\"translate(693.68,234.87)\" d=\"M3,0A3,3 0 1,1 0,-3A3,3 0 0,1 3,0Z\" style=\"opacity: 0.9; stroke-width: 0px; fill: rgb(76, 120, 168); fill-opacity: 1;\"/><path class=\"point plotly-customdata\" transform=\"translate(693.7,244.72)\" d=\"M3,0A3,3 0 1,1 0,-3A3,3 0 0,1 3,0Z\" style=\"opacity: 0.9; stroke-width: 0px; fill: rgb(76, 120, 168); fill-opacity: 1;\"/><path class=\"point plotly-customdata\" transform=\"translate(693.74,237.51)\" d=\"M3,0A3,3 0 1,1 0,-3A3,3 0 0,1 3,0Z\" style=\"opacity: 0.9; stroke-width: 0px; fill: rgb(76, 120, 168); fill-opacity: 1;\"/><path class=\"point plotly-customdata\" transform=\"translate(693.75,272.79)\" d=\"M3,0A3,3 0 1,1 0,-3A3,3 0 0,1 3,0Z\" style=\"opacity: 0.9; stroke-width: 0px; fill: rgb(76, 120, 168); fill-opacity: 1;\"/><path class=\"point plotly-customdata\" transform=\"translate(693.77,267.57)\" d=\"M3,0A3,3 0 1,1 0,-3A3,3 0 0,1 3,0Z\" style=\"opacity: 0.9; stroke-width: 0px; fill: rgb(76, 120, 168); fill-opacity: 1;\"/><path class=\"point plotly-customdata\" transform=\"translate(693.8,239.41)\" d=\"M3,0A3,3 0 1,1 0,-3A3,3 0 0,1 3,0Z\" style=\"opacity: 0.9; stroke-width: 0px; fill: rgb(76, 120, 168); fill-opacity: 1;\"/><path class=\"point plotly-customdata\" transform=\"translate(693.83,245.9)\" d=\"M3,0A3,3 0 1,1 0,-3A3,3 0 0,1 3,0Z\" style=\"opacity: 0.9; stroke-width: 0px; fill: rgb(76, 120, 168); fill-opacity: 1;\"/><path class=\"point plotly-customdata\" transform=\"translate(693.86,241.42)\" d=\"M3,0A3,3 0 1,1 0,-3A3,3 0 0,1 3,0Z\" style=\"opacity: 0.9; stroke-width: 0px; fill: rgb(76, 120, 168); fill-opacity: 1;\"/><path class=\"point plotly-customdata\" transform=\"translate(693.89,247.12)\" d=\"M3,0A3,3 0 1,1 0,-3A3,3 0 0,1 3,0Z\" style=\"opacity: 0.9; stroke-width: 0px; fill: rgb(76, 120, 168); fill-opacity: 1;\"/><path class=\"point plotly-customdata\" transform=\"translate(693.94,229.45)\" d=\"M3,0A3,3 0 1,1 0,-3A3,3 0 0,1 3,0Z\" style=\"opacity: 0.9; stroke-width: 0px; fill: rgb(76, 120, 168); fill-opacity: 1;\"/><path class=\"point plotly-customdata\" transform=\"translate(694,223.05)\" d=\"M3,0A3,3 0 1,1 0,-3A3,3 0 0,1 3,0Z\" style=\"opacity: 0.9; stroke-width: 0px; fill: rgb(76, 120, 168); fill-opacity: 1;\"/><path class=\"point plotly-customdata\" transform=\"translate(694.1,205.72)\" d=\"M3,0A3,3 0 1,1 0,-3A3,3 0 0,1 3,0Z\" style=\"opacity: 0.9; stroke-width: 0px; fill: rgb(76, 120, 168); fill-opacity: 1;\"/><path class=\"point plotly-customdata\" transform=\"translate(694.16,222.48)\" d=\"M3,0A3,3 0 1,1 0,-3A3,3 0 0,1 3,0Z\" style=\"opacity: 0.9; stroke-width: 0px; fill: rgb(76, 120, 168); fill-opacity: 1;\"/><path class=\"point plotly-customdata\" transform=\"translate(694.3,195.58)\" d=\"M3,0A3,3 0 1,1 0,-3A3,3 0 0,1 3,0Z\" style=\"opacity: 0.9; stroke-width: 0px; fill: rgb(76, 120, 168); fill-opacity: 1;\"/><path class=\"point plotly-customdata\" transform=\"translate(694.36,218.23)\" d=\"M3,0A3,3 0 1,1 0,-3A3,3 0 0,1 3,0Z\" style=\"opacity: 0.9; stroke-width: 0px; fill: rgb(76, 120, 168); fill-opacity: 1;\"/><path class=\"point plotly-customdata\" transform=\"translate(694.46,206.05)\" d=\"M3,0A3,3 0 1,1 0,-3A3,3 0 0,1 3,0Z\" style=\"opacity: 0.9; stroke-width: 0px; fill: rgb(76, 120, 168); fill-opacity: 1;\"/><path class=\"point plotly-customdata\" transform=\"translate(694.54,214.94)\" d=\"M3,0A3,3 0 1,1 0,-3A3,3 0 0,1 3,0Z\" style=\"opacity: 0.9; stroke-width: 0px; fill: rgb(76, 120, 168); fill-opacity: 1;\"/><path class=\"point plotly-customdata\" transform=\"translate(694.67,197.83)\" d=\"M3,0A3,3 0 1,1 0,-3A3,3 0 0,1 3,0Z\" style=\"opacity: 0.9; stroke-width: 0px; fill: rgb(76, 120, 168); fill-opacity: 1;\"/><path class=\"point plotly-customdata\" transform=\"translate(694.79,199.42)\" d=\"M3,0A3,3 0 1,1 0,-3A3,3 0 0,1 3,0Z\" style=\"opacity: 0.9; stroke-width: 0px; fill: rgb(76, 120, 168); fill-opacity: 1;\"/><path class=\"point plotly-customdata\" transform=\"translate(694.9,203.17)\" d=\"M3,0A3,3 0 1,1 0,-3A3,3 0 0,1 3,0Z\" style=\"opacity: 0.9; stroke-width: 0px; fill: rgb(76, 120, 168); fill-opacity: 1;\"/><path class=\"point plotly-customdata\" transform=\"translate(695.03,197.31)\" d=\"M3,0A3,3 0 1,1 0,-3A3,3 0 0,1 3,0Z\" style=\"opacity: 0.9; stroke-width: 0px; fill: rgb(76, 120, 168); fill-opacity: 1;\"/><path class=\"point plotly-customdata\" transform=\"translate(695.12,212.37)\" d=\"M3,0A3,3 0 1,1 0,-3A3,3 0 0,1 3,0Z\" style=\"opacity: 0.9; stroke-width: 0px; fill: rgb(76, 120, 168); fill-opacity: 1;\"/><path class=\"point plotly-customdata\" transform=\"translate(695.2,210.37)\" d=\"M3,0A3,3 0 1,1 0,-3A3,3 0 0,1 3,0Z\" style=\"opacity: 0.9; stroke-width: 0px; fill: rgb(76, 120, 168); fill-opacity: 1;\"/><path class=\"point plotly-customdata\" transform=\"translate(695.29,209.99)\" d=\"M3,0A3,3 0 1,1 0,-3A3,3 0 0,1 3,0Z\" style=\"opacity: 0.9; stroke-width: 0px; fill: rgb(76, 120, 168); fill-opacity: 1;\"/><path class=\"point plotly-customdata\" transform=\"translate(695.36,214.49)\" d=\"M3,0A3,3 0 1,1 0,-3A3,3 0 0,1 3,0Z\" style=\"opacity: 0.9; stroke-width: 0px; fill: rgb(76, 120, 168); fill-opacity: 1;\"/><path class=\"point plotly-customdata\" transform=\"translate(695.45,211.16)\" d=\"M3,0A3,3 0 1,1 0,-3A3,3 0 0,1 3,0Z\" style=\"opacity: 0.9; stroke-width: 0px; fill: rgb(76, 120, 168); fill-opacity: 1;\"/><path class=\"point plotly-customdata\" transform=\"translate(695.48,239.41)\" d=\"M3,0A3,3 0 1,1 0,-3A3,3 0 0,1 3,0Z\" style=\"opacity: 0.9; stroke-width: 0px; fill: rgb(76, 120, 168); fill-opacity: 1;\"/><path class=\"point plotly-customdata\" transform=\"translate(695.55,220.28)\" d=\"M3,0A3,3 0 1,1 0,-3A3,3 0 0,1 3,0Z\" style=\"opacity: 0.9; stroke-width: 0px; fill: rgb(76, 120, 168); fill-opacity: 1;\"/></g><g class=\"text\"/></g><g class=\"trace scatter tracea2b741\" style=\"stroke-miterlimit: 2; opacity: 1;\"><g class=\"fills\"/><g class=\"errorbars\"/><g class=\"lines\"/><g class=\"points\"><path class=\"point plotly-customdata\" transform=\"translate(109.58,213.62)\" d=\"M3.9,0L0,3.9L-3.9,0L0,-3.9Z\" style=\"opacity: 0.9; stroke-width: 0px; fill: rgb(245, 133, 24); fill-opacity: 1;\"/><path class=\"point plotly-customdata\" transform=\"translate(168.7,203.79)\" d=\"M3.9,0L0,3.9L-3.9,0L0,-3.9Z\" style=\"opacity: 0.9; stroke-width: 0px; fill: rgb(245, 133, 24); fill-opacity: 1;\"/><path class=\"point plotly-customdata\" transform=\"translate(234.75,177.88)\" d=\"M3.9,0L0,3.9L-3.9,0L0,-3.9Z\" style=\"opacity: 0.9; stroke-width: 0px; fill: rgb(245, 133, 24); fill-opacity: 1;\"/><path class=\"point plotly-customdata\" transform=\"translate(263.66,187.38)\" d=\"M3.9,0L0,3.9L-3.9,0L0,-3.9Z\" style=\"opacity: 0.9; stroke-width: 0px; fill: rgb(245, 133, 24); fill-opacity: 1;\"/><path class=\"point plotly-customdata\" transform=\"translate(292.16,177.61)\" d=\"M3.9,0L0,3.9L-3.9,0L0,-3.9Z\" style=\"opacity: 0.9; stroke-width: 0px; fill: rgb(245, 133, 24); fill-opacity: 1;\"/><path class=\"point plotly-customdata\" transform=\"translate(306.16,192.39)\" d=\"M3.9,0L0,3.9L-3.9,0L0,-3.9Z\" style=\"opacity: 0.9; stroke-width: 0px; fill: rgb(245, 133, 24); fill-opacity: 1;\"/><path class=\"point plotly-customdata\" transform=\"translate(328.55,171.16)\" d=\"M3.9,0L0,3.9L-3.9,0L0,-3.9Z\" style=\"opacity: 0.9; stroke-width: 0px; fill: rgb(245, 133, 24); fill-opacity: 1;\"/><path class=\"point plotly-customdata\" transform=\"translate(358.11,153.16)\" d=\"M3.9,0L0,3.9L-3.9,0L0,-3.9Z\" style=\"opacity: 0.9; stroke-width: 0px; fill: rgb(245, 133, 24); fill-opacity: 1;\"/><path class=\"point plotly-customdata\" transform=\"translate(382.69,149.32)\" d=\"M3.9,0L0,3.9L-3.9,0L0,-3.9Z\" style=\"opacity: 0.9; stroke-width: 0px; fill: rgb(245, 133, 24); fill-opacity: 1;\"/><path class=\"point plotly-customdata\" transform=\"translate(408.89,138.28)\" d=\"M3.9,0L0,3.9L-3.9,0L0,-3.9Z\" style=\"opacity: 0.9; stroke-width: 0px; fill: rgb(245, 133, 24); fill-opacity: 1;\"/><path class=\"point plotly-customdata\" transform=\"translate(423.86,148.51)\" d=\"M3.9,0L0,3.9L-3.9,0L0,-3.9Z\" style=\"opacity: 0.9; stroke-width: 0px; fill: rgb(245, 133, 24); fill-opacity: 1;\"/><path class=\"point plotly-customdata\" transform=\"translate(436.91,147.83)\" d=\"M3.9,0L0,3.9L-3.9,0L0,-3.9Z\" style=\"opacity: 0.9; stroke-width: 0px; fill: rgb(245, 133, 24); fill-opacity: 1;\"/><path class=\"point plotly-customdata\" transform=\"translate(452.64,136.85)\" d=\"M3.9,0L0,3.9L-3.9,0L0,-3.9Z\" style=\"opacity: 0.9; stroke-width: 0px; fill: rgb(245, 133, 24); fill-opacity: 1;\"/><path class=\"point plotly-customdata\" transform=\"translate(459.71,157.83)\" d=\"M3.9,0L0,3.9L-3.9,0L0,-3.9Z\" style=\"opacity: 0.9; stroke-width: 0px; fill: rgb(245, 133, 24); fill-opacity: 1;\"/><path class=\"point plotly-customdata\" transform=\"translate(466.71,155.61)\" d=\"M3.9,0L0,3.9L-3.9,0L0,-3.9Z\" style=\"opacity: 0.9; stroke-width: 0px; fill: rgb(245, 133, 24); fill-opacity: 1;\"/><path class=\"point plotly-customdata\" transform=\"translate(473.7,153.16)\" d=\"M3.9,0L0,3.9L-3.9,0L0,-3.9Z\" style=\"opacity: 0.9; stroke-width: 0px; fill: rgb(245, 133, 24); fill-opacity: 1;\"/><path class=\"point plotly-customdata\" transform=\"translate(479.47,156.91)\" d=\"M3.9,0L0,3.9L-3.9,0L0,-3.9Z\" style=\"opacity: 0.9; stroke-width: 0px; fill: rgb(245, 133, 24); fill-opacity: 1;\"/><path class=\"point plotly-customdata\" transform=\"translate(482.81,172.39)\" d=\"M3.9,0L0,3.9L-3.9,0L0,-3.9Z\" style=\"opacity: 0.9; stroke-width: 0px; fill: rgb(245, 133, 24); fill-opacity: 1;\"/><path class=\"point plotly-customdata\" transform=\"translate(484.76,188.32)\" d=\"M3.9,0L0,3.9L-3.9,0L0,-3.9Z\" style=\"opacity: 0.9; stroke-width: 0px; fill: rgb(245, 133, 24); fill-opacity: 1;\"/><path class=\"point plotly-customdata\" transform=\"translate(485.17,236.61)\" d=\"M3.9,0L0,3.9L-3.9,0L0,-3.9Z\" style=\"opacity: 0.9; stroke-width: 0px; fill: rgb(245, 133, 24); fill-opacity: 1;\"/><path class=\"point plotly-customdata\" transform=\"translate(487.95,176.16)\" d=\"M3.9,0L0,3.9L-3.9,0L0,-3.9Z\" style=\"opacity: 0.9; stroke-width: 0px; fill: rgb(245, 133, 24); fill-opacity: 1;\"/><path class=\"point plotly-customdata\" transform=\"translate(489.23,199.69)\" d=\"M3.9,0L0,3.9L-3.9,0L0,-3.9Z\" style=\"opacity: 0.9; stroke-width: 0px; fill: rgb(245, 133, 24); fill-opacity: 1;\"/><path class=\"point plotly-customdata\" transform=\"translate(490.45,200.81)\" d=\"M3.9,0L0,3.9L-3.9,0L0,-3.9Z\" style=\"opacity: 0.9; stroke-width: 0px; fill: rgb(245, 133, 24); fill-opacity: 1;\"/><path class=\"point plotly-customdata\" transform=\"translate(491.62,201.67)\" d=\"M3.9,0L0,3.9L-3.9,0L0,-3.9Z\" style=\"opacity: 0.9; stroke-width: 0px; fill: rgb(245, 133, 24); fill-opacity: 1;\"/><path class=\"point plotly-customdata\" transform=\"translate(492.44,212.37)\" d=\"M3.9,0L0,3.9L-3.9,0L0,-3.9Z\" style=\"opacity: 0.9; stroke-width: 0px; fill: rgb(245, 133, 24); fill-opacity: 1;\"/><path class=\"point plotly-customdata\" transform=\"translate(493.23,213.2)\" d=\"M3.9,0L0,3.9L-3.9,0L0,-3.9Z\" style=\"opacity: 0.9; stroke-width: 0px; fill: rgb(245, 133, 24); fill-opacity: 1;\"/><path class=\"point plotly-customdata\" transform=\"translate(494.12,209.24)\" d=\"M3.9,0L0,3.9L-3.9,0L0,-3.9Z\" style=\"opacity: 0.9; stroke-width: 0px; fill: rgb(245, 133, 24); fill-opacity: 1;\"/><path class=\"point plotly-customdata\" transform=\"translate(495.09,206.05)\" d=\"M3.9,0L0,3.9L-3.9,0L0,-3.9Z\" style=\"opacity: 0.9; stroke-width: 0px; fill: rgb(245, 133, 24); fill-opacity: 1;\"/><path class=\"point plotly-customdata\" transform=\"translate(496.67,190.7)\" d=\"M3.9,0L0,3.9L-3.9,0L0,-3.9Z\" style=\"opacity: 0.9; stroke-width: 0px; fill: rgb(245, 133, 24); fill-opacity: 1;\"/><path class=\"point plotly-customdata\" transform=\"translate(497.55,208.14)\" d=\"M3.9,0L0,3.9L-3.9,0L0,-3.9Z\" style=\"opacity: 0.9; stroke-width: 0px; fill: rgb(245, 133, 24); fill-opacity: 1;\"/><path class=\"point plotly-customdata\" transform=\"translate(499.03,191.74)\" d=\"M3.9,0L0,3.9L-3.9,0L0,-3.9Z\" style=\"opacity: 0.9; stroke-width: 0px; fill: rgb(245, 133, 24); fill-opacity: 1;\"/><path class=\"point plotly-customdata\" transform=\"translate(500.63,188.71)\" d=\"M3.9,0L0,3.9L-3.9,0L0,-3.9Z\" style=\"opacity: 0.9; stroke-width: 0px; fill: rgb(245, 133, 24); fill-opacity: 1;\"/><path class=\"point plotly-customdata\" transform=\"translate(501.37,212.37)\" d=\"M3.9,0L0,3.9L-3.9,0L0,-3.9Z\" style=\"opacity: 0.9; stroke-width: 0px; fill: rgb(245, 133, 24); fill-opacity: 1;\"/><path class=\"point plotly-customdata\" transform=\"translate(502.34,203.79)\" d=\"M3.9,0L0,3.9L-3.9,0L0,-3.9Z\" style=\"opacity: 0.9; stroke-width: 0px; fill: rgb(245, 133, 24); fill-opacity: 1;\"/><path class=\"point plotly-customdata\" transform=\"translate(503.33,202.56)\" d=\"M3.9,0L0,3.9L-3.9,0L0,-3.9Z\" style=\"opacity: 0.9; stroke-width: 0px; fill: rgb(245, 133, 24); fill-opacity: 1;\"/><path class=\"point plotly-customdata\" transform=\"translate(504.19,206.73)\" d=\"M3.9,0L0,3.9L-3.9,0L0,-3.9Z\" style=\"opacity: 0.9; stroke-width: 0px; fill: rgb(245, 133, 24); fill-opacity: 1;\"/><path class=\"point plotly-customdata\" transform=\"translate(505.55,191.96)\" d=\"M3.9,0L0,3.9L-3.9,0L0,-3.9Z\" style=\"opacity: 0.9; stroke-width: 0px; fill: rgb(245, 133, 24); fill-opacity: 1;\"/><path class=\"point plotly-customdata\" transform=\"translate(506.52,202.26)\" d=\"M3.9,0L0,3.9L-3.9,0L0,-3.9Z\" style=\"opacity: 0.9; stroke-width: 0px; fill: rgb(245, 133, 24); fill-opacity: 1;\"/><path class=\"point plotly-customdata\" transform=\"translate(507.23,211.55)\" d=\"M3.9,0L0,3.9L-3.9,0L0,-3.9Z\" style=\"opacity: 0.9; stroke-width: 0px; fill: rgb(245, 133, 24); fill-opacity: 1;\"/><path class=\"point plotly-customdata\" transform=\"translate(508.36,196.81)\" d=\"M3.9,0L0,3.9L-3.9,0L0,-3.9Z\" style=\"opacity: 0.9; stroke-width: 0px; fill: rgb(245, 133, 24); fill-opacity: 1;\"/><path class=\"point plotly-customdata\" transform=\"translate(509.26,203.48)\" d=\"M3.9,0L0,3.9L-3.9,0L0,-3.9Z\" style=\"opacity: 0.9; stroke-width: 0px; fill: rgb(245, 133, 24); fill-opacity: 1;\"/><path class=\"point plotly-customdata\" transform=\"translate(510.05,207.43)\" d=\"M3.9,0L0,3.9L-3.9,0L0,-3.9Z\" style=\"opacity: 0.9; stroke-width: 0px; fill: rgb(245, 133, 24); fill-opacity: 1;\"/><path class=\"point plotly-customdata\" transform=\"translate(510.8,208.5)\" d=\"M3.9,0L0,3.9L-3.9,0L0,-3.9Z\" style=\"opacity: 0.9; stroke-width: 0px; fill: rgb(245, 133, 24); fill-opacity: 1;\"/><path class=\"point plotly-customdata\" transform=\"translate(511.62,205.72)\" d=\"M3.9,0L0,3.9L-3.9,0L0,-3.9Z\" style=\"opacity: 0.9; stroke-width: 0px; fill: rgb(245, 133, 24); fill-opacity: 1;\"/><path class=\"point plotly-customdata\" transform=\"translate(512.31,210.37)\" d=\"M3.9,0L0,3.9L-3.9,0L0,-3.9Z\" style=\"opacity: 0.9; stroke-width: 0px; fill: rgb(245, 133, 24); fill-opacity: 1;\"/></g><g class=\"text\"/></g><g class=\"trace scatter trace55e6a6\" style=\"stroke-miterlimit: 2; opacity: 1;\"><g class=\"fills\"/><g class=\"errorbars\"/><g class=\"lines\"/><g class=\"points\"><path class=\"point plotly-customdata\" transform=\"translate(64.19,230.91)\" d=\"M3,3H-3V-3H3Z\" style=\"opacity: 0.9; stroke-width: 0px; fill: rgb(228, 87, 86); fill-opacity: 1;\"/><path class=\"point plotly-customdata\" transform=\"translate(144.6,206.05)\" d=\"M3,3H-3V-3H3Z\" style=\"opacity: 0.9; stroke-width: 0px; fill: rgb(228, 87, 86); fill-opacity: 1;\"/><path class=\"point plotly-customdata\" transform=\"translate(178.85,213.2)\" d=\"M3,3H-3V-3H3Z\" style=\"opacity: 0.9; stroke-width: 0px; fill: rgb(228, 87, 86); fill-opacity: 1;\"/><path class=\"point plotly-customdata\" transform=\"translate(208.76,206.05)\" d=\"M3,3H-3V-3H3Z\" style=\"opacity: 0.9; stroke-width: 0px; fill: rgb(228, 87, 86); fill-opacity: 1;\"/><path class=\"point plotly-customdata\" transform=\"translate(238.71,195.34)\" d=\"M3,3H-3V-3H3Z\" style=\"opacity: 0.9; stroke-width: 0px; fill: rgb(228, 87, 86); fill-opacity: 1;\"/><path class=\"point plotly-customdata\" transform=\"translate(271.07,181.81)\" d=\"M3,3H-3V-3H3Z\" style=\"opacity: 0.9; stroke-width: 0px; fill: rgb(228, 87, 86); fill-opacity: 1;\"/><path class=\"point plotly-customdata\" transform=\"translate(297.77,177.34)\" d=\"M3,3H-3V-3H3Z\" style=\"opacity: 0.9; stroke-width: 0px; fill: rgb(228, 87, 86); fill-opacity: 1;\"/><path class=\"point plotly-customdata\" transform=\"translate(318.77,176.42)\" d=\"M3,3H-3V-3H3Z\" style=\"opacity: 0.9; stroke-width: 0px; fill: rgb(228, 87, 86); fill-opacity: 1;\"/><path class=\"point plotly-customdata\" transform=\"translate(354.45,149.6)\" d=\"M3,3H-3V-3H3Z\" style=\"opacity: 0.9; stroke-width: 0px; fill: rgb(228, 87, 86); fill-opacity: 1;\"/><path class=\"point plotly-customdata\" transform=\"translate(370.59,165.35)\" d=\"M3,3H-3V-3H3Z\" style=\"opacity: 0.9; stroke-width: 0px; fill: rgb(228, 87, 86); fill-opacity: 1;\"/><path class=\"point plotly-customdata\" transform=\"translate(388.68,155.67)\" d=\"M3,3H-3V-3H3Z\" style=\"opacity: 0.9; stroke-width: 0px; fill: rgb(228, 87, 86); fill-opacity: 1;\"/><path class=\"point plotly-customdata\" transform=\"translate(407.17,148.46)\" d=\"M3,3H-3V-3H3Z\" style=\"opacity: 0.9; stroke-width: 0px; fill: rgb(228, 87, 86); fill-opacity: 1;\"/><path class=\"point plotly-customdata\" transform=\"translate(426.68,140.02)\" d=\"M3,3H-3V-3H3Z\" style=\"opacity: 0.9; stroke-width: 0px; fill: rgb(228, 87, 86); fill-opacity: 1;\"/><path class=\"point plotly-customdata\" transform=\"translate(442.8,139.65)\" d=\"M3,3H-3V-3H3Z\" style=\"opacity: 0.9; stroke-width: 0px; fill: rgb(228, 87, 86); fill-opacity: 1;\"/><path class=\"point plotly-customdata\" transform=\"translate(463.7,124.9)\" d=\"M3,3H-3V-3H3Z\" style=\"opacity: 0.9; stroke-width: 0px; fill: rgb(228, 87, 86); fill-opacity: 1;\"/><path class=\"point plotly-customdata\" transform=\"translate(483.54,119.3)\" d=\"M3,3H-3V-3H3Z\" style=\"opacity: 0.9; stroke-width: 0px; fill: rgb(228, 87, 86); fill-opacity: 1;\"/><path class=\"point plotly-customdata\" transform=\"translate(502.67,113.48)\" d=\"M3,3H-3V-3H3Z\" style=\"opacity: 0.9; stroke-width: 0px; fill: rgb(228, 87, 86); fill-opacity: 1;\"/><path class=\"point plotly-customdata\" transform=\"translate(511.56,132.53)\" d=\"M3,3H-3V-3H3Z\" style=\"opacity: 0.9; stroke-width: 0px; fill: rgb(228, 87, 86); fill-opacity: 1;\"/><path class=\"point plotly-customdata\" transform=\"translate(529.57,105.59)\" d=\"M3,3H-3V-3H3Z\" style=\"opacity: 0.9; stroke-width: 0px; fill: rgb(228, 87, 86); fill-opacity: 1;\"/><path class=\"point plotly-customdata\" transform=\"translate(560.17,80.28)\" d=\"M3,3H-3V-3H3Z\" style=\"opacity: 0.9; stroke-width: 0px; fill: rgb(228, 87, 86); fill-opacity: 1;\"/><path class=\"point plotly-customdata\" transform=\"translate(576.02,92.67)\" d=\"M3,3H-3V-3H3Z\" style=\"opacity: 0.9; stroke-width: 0px; fill: rgb(228, 87, 86); fill-opacity: 1;\"/><path class=\"point plotly-customdata\" transform=\"translate(589.77,91.85)\" d=\"M3,3H-3V-3H3Z\" style=\"opacity: 0.9; stroke-width: 0px; fill: rgb(228, 87, 86); fill-opacity: 1;\"/><path class=\"point plotly-customdata\" transform=\"translate(600.55,95.12)\" d=\"M3,3H-3V-3H3Z\" style=\"opacity: 0.9; stroke-width: 0px; fill: rgb(228, 87, 86); fill-opacity: 1;\"/><path class=\"point plotly-customdata\" transform=\"translate(610.96,92.41)\" d=\"M3,3H-3V-3H3Z\" style=\"opacity: 0.9; stroke-width: 0px; fill: rgb(228, 87, 86); fill-opacity: 1;\"/><path class=\"point plotly-customdata\" transform=\"translate(621.96,86.89)\" d=\"M3,3H-3V-3H3Z\" style=\"opacity: 0.9; stroke-width: 0px; fill: rgb(228, 87, 86); fill-opacity: 1;\"/><path class=\"point plotly-customdata\" transform=\"translate(634.15,79.54)\" d=\"M3,3H-3V-3H3Z\" style=\"opacity: 0.9; stroke-width: 0px; fill: rgb(228, 87, 86); fill-opacity: 1;\"/><path class=\"point plotly-customdata\" transform=\"translate(646.1,75.86)\" d=\"M3,3H-3V-3H3Z\" style=\"opacity: 0.9; stroke-width: 0px; fill: rgb(228, 87, 86); fill-opacity: 1;\"/><path class=\"point plotly-customdata\" transform=\"translate(657.56,73.02)\" d=\"M3,3H-3V-3H3Z\" style=\"opacity: 0.9; stroke-width: 0px; fill: rgb(228, 87, 86); fill-opacity: 1;\"/><path class=\"point plotly-customdata\" transform=\"translate(666.22,78.17)\" d=\"M3,3H-3V-3H3Z\" style=\"opacity: 0.9; stroke-width: 0px; fill: rgb(228, 87, 86); fill-opacity: 1;\"/><path class=\"point plotly-customdata\" transform=\"translate(673.05,82.84)\" d=\"M3,3H-3V-3H3Z\" style=\"opacity: 0.9; stroke-width: 0px; fill: rgb(228, 87, 86); fill-opacity: 1;\"/><path class=\"point plotly-customdata\" transform=\"translate(679.98,79.97)\" d=\"M3,3H-3V-3H3Z\" style=\"opacity: 0.9; stroke-width: 0px; fill: rgb(228, 87, 86); fill-opacity: 1;\"/><path class=\"point plotly-customdata\" transform=\"translate(686.35,80.21)\" d=\"M3,3H-3V-3H3Z\" style=\"opacity: 0.9; stroke-width: 0px; fill: rgb(228, 87, 86); fill-opacity: 1;\"/><path class=\"point plotly-customdata\" transform=\"translate(693.38,74.75)\" d=\"M3,3H-3V-3H3Z\" style=\"opacity: 0.9; stroke-width: 0px; fill: rgb(228, 87, 86); fill-opacity: 1;\"/><path class=\"point plotly-customdata\" transform=\"translate(699.59,76.27)\" d=\"M3,3H-3V-3H3Z\" style=\"opacity: 0.9; stroke-width: 0px; fill: rgb(228, 87, 86); fill-opacity: 1;\"/><path class=\"point plotly-customdata\" transform=\"translate(705.45,75.93)\" d=\"M3,3H-3V-3H3Z\" style=\"opacity: 0.9; stroke-width: 0px; fill: rgb(228, 87, 86); fill-opacity: 1;\"/><path class=\"point plotly-customdata\" transform=\"translate(710.27,80.16)\" d=\"M3,3H-3V-3H3Z\" style=\"opacity: 0.9; stroke-width: 0px; fill: rgb(228, 87, 86); fill-opacity: 1;\"/><path class=\"point plotly-customdata\" transform=\"translate(713.83,88.08)\" d=\"M3,3H-3V-3H3Z\" style=\"opacity: 0.9; stroke-width: 0px; fill: rgb(228, 87, 86); fill-opacity: 1;\"/><path class=\"point plotly-customdata\" transform=\"translate(717.26,88.06)\" d=\"M3,3H-3V-3H3Z\" style=\"opacity: 0.9; stroke-width: 0px; fill: rgb(228, 87, 86); fill-opacity: 1;\"/><path class=\"point plotly-customdata\" transform=\"translate(721.14,82.88)\" d=\"M3,3H-3V-3H3Z\" style=\"opacity: 0.9; stroke-width: 0px; fill: rgb(228, 87, 86); fill-opacity: 1;\"/><path class=\"point plotly-customdata\" transform=\"translate(724.77,83.64)\" d=\"M3,3H-3V-3H3Z\" style=\"opacity: 0.9; stroke-width: 0px; fill: rgb(228, 87, 86); fill-opacity: 1;\"/><path class=\"point plotly-customdata\" transform=\"translate(728.19,84.2)\" d=\"M3,3H-3V-3H3Z\" style=\"opacity: 0.9; stroke-width: 0px; fill: rgb(228, 87, 86); fill-opacity: 1;\"/><path class=\"point plotly-customdata\" transform=\"translate(731.64,82.73)\" d=\"M3,3H-3V-3H3Z\" style=\"opacity: 0.9; stroke-width: 0px; fill: rgb(228, 87, 86); fill-opacity: 1;\"/><path class=\"point plotly-customdata\" transform=\"translate(734.63,86.09)\" d=\"M3,3H-3V-3H3Z\" style=\"opacity: 0.9; stroke-width: 0px; fill: rgb(228, 87, 86); fill-opacity: 1;\"/></g><g class=\"text\"/></g><g class=\"trace scatter trace7b9ee9\" style=\"stroke-miterlimit: 2; opacity: 1;\"><g class=\"fills\"/><g class=\"errorbars\"/><g class=\"lines\"/><g class=\"points\"><path class=\"point plotly-customdata\" transform=\"translate(47.05,235.72)\" d=\"M0,1.7l1.7,1.7l1.7,-1.7l-1.7,-1.7l1.7,-1.7l-1.7,-1.7l-1.7,1.7l-1.7,-1.7l-1.7,1.7l1.7,1.7l-1.7,1.7l1.7,1.7Z\" style=\"opacity: 0.9; stroke-width: 0px; fill: rgb(114, 183, 178); fill-opacity: 1;\"/><path class=\"point plotly-customdata\" transform=\"translate(56.81,291.74)\" d=\"M0,1.7l1.7,1.7l1.7,-1.7l-1.7,-1.7l1.7,-1.7l-1.7,-1.7l-1.7,1.7l-1.7,-1.7l-1.7,1.7l1.7,1.7l-1.7,1.7l1.7,1.7Z\" style=\"opacity: 0.9; stroke-width: 0px; fill: rgb(114, 183, 178); fill-opacity: 1;\"/><path class=\"point plotly-customdata\" transform=\"translate(58.34,347.75)\" d=\"M0,1.7l1.7,1.7l1.7,-1.7l-1.7,-1.7l1.7,-1.7l-1.7,-1.7l-1.7,1.7l-1.7,-1.7l-1.7,1.7l1.7,1.7l-1.7,1.7l1.7,1.7Z\" style=\"opacity: 0.9; stroke-width: 0px; fill: rgb(114, 183, 178); fill-opacity: 1;\"/><path class=\"point plotly-customdata\" transform=\"translate(61.31,326.08)\" d=\"M0,1.7l1.7,1.7l1.7,-1.7l-1.7,-1.7l1.7,-1.7l-1.7,-1.7l-1.7,1.7l-1.7,-1.7l-1.7,1.7l1.7,1.7l-1.7,1.7l1.7,1.7Z\" style=\"opacity: 0.9; stroke-width: 0px; fill: rgb(114, 183, 178); fill-opacity: 1;\"/><path class=\"point plotly-customdata\" transform=\"translate(72.3,282.74)\" d=\"M0,1.7l1.7,1.7l1.7,-1.7l-1.7,-1.7l1.7,-1.7l-1.7,-1.7l-1.7,1.7l-1.7,-1.7l-1.7,1.7l1.7,1.7l-1.7,1.7l1.7,1.7Z\" style=\"opacity: 0.9; stroke-width: 0px; fill: rgb(114, 183, 178); fill-opacity: 1;\"/><path class=\"point plotly-customdata\" transform=\"translate(79.72,291.74)\" d=\"M0,1.7l1.7,1.7l1.7,-1.7l-1.7,-1.7l1.7,-1.7l-1.7,-1.7l-1.7,1.7l-1.7,-1.7l-1.7,1.7l1.7,1.7l-1.7,1.7l1.7,1.7Z\" style=\"opacity: 0.9; stroke-width: 0px; fill: rgb(114, 183, 178); fill-opacity: 1;\"/><path class=\"point plotly-customdata\" transform=\"translate(104.37,248.4)\" d=\"M0,1.7l1.7,1.7l1.7,-1.7l-1.7,-1.7l1.7,-1.7l-1.7,-1.7l-1.7,1.7l-1.7,-1.7l-1.7,1.7l1.7,1.7l-1.7,1.7l1.7,1.7Z\" style=\"opacity: 0.9; stroke-width: 0px; fill: rgb(114, 183, 178); fill-opacity: 1;\"/><path class=\"point plotly-customdata\" transform=\"translate(120.66,254.1)\" d=\"M0,1.7l1.7,1.7l1.7,-1.7l-1.7,-1.7l1.7,-1.7l-1.7,-1.7l-1.7,1.7l-1.7,-1.7l-1.7,1.7l1.7,1.7l-1.7,1.7l1.7,1.7Z\" style=\"opacity: 0.9; stroke-width: 0px; fill: rgb(114, 183, 178); fill-opacity: 1;\"/><path class=\"point plotly-customdata\" transform=\"translate(141.13,240.4)\" d=\"M0,1.7l1.7,1.7l1.7,-1.7l-1.7,-1.7l1.7,-1.7l-1.7,-1.7l-1.7,1.7l-1.7,-1.7l-1.7,1.7l1.7,1.7l-1.7,1.7l1.7,1.7Z\" style=\"opacity: 0.9; stroke-width: 0px; fill: rgb(114, 183, 178); fill-opacity: 1;\"/><path class=\"point plotly-customdata\" transform=\"translate(174.12,215.84)\" d=\"M0,1.7l1.7,1.7l1.7,-1.7l-1.7,-1.7l1.7,-1.7l-1.7,-1.7l-1.7,1.7l-1.7,-1.7l-1.7,1.7l1.7,1.7l-1.7,1.7l1.7,1.7Z\" style=\"opacity: 0.9; stroke-width: 0px; fill: rgb(114, 183, 178); fill-opacity: 1;\"/><path class=\"point plotly-customdata\" transform=\"translate(190.66,228.75)\" d=\"M0,1.7l1.7,1.7l1.7,-1.7l-1.7,-1.7l1.7,-1.7l-1.7,-1.7l-1.7,1.7l-1.7,-1.7l-1.7,1.7l1.7,1.7l-1.7,1.7l1.7,1.7Z\" style=\"opacity: 0.9; stroke-width: 0px; fill: rgb(114, 183, 178); fill-opacity: 1;\"/><path class=\"point plotly-customdata\" transform=\"translate(228.23,193.27)\" d=\"M0,1.7l1.7,1.7l1.7,-1.7l-1.7,-1.7l1.7,-1.7l-1.7,-1.7l-1.7,1.7l-1.7,-1.7l-1.7,1.7l1.7,1.7l-1.7,1.7l1.7,1.7Z\" style=\"opacity: 0.9; stroke-width: 0px; fill: rgb(114, 183, 178); fill-opacity: 1;\"/><path class=\"point plotly-customdata\" transform=\"translate(250.48,199.15)\" d=\"M0,1.7l1.7,1.7l1.7,-1.7l-1.7,-1.7l1.7,-1.7l-1.7,-1.7l-1.7,1.7l-1.7,-1.7l-1.7,1.7l1.7,1.7l-1.7,1.7l1.7,1.7Z\" style=\"opacity: 0.9; stroke-width: 0px; fill: rgb(114, 183, 178); fill-opacity: 1;\"/><path class=\"point plotly-customdata\" transform=\"translate(260.85,217.25)\" d=\"M0,1.7l1.7,1.7l1.7,-1.7l-1.7,-1.7l1.7,-1.7l-1.7,-1.7l-1.7,1.7l-1.7,-1.7l-1.7,1.7l1.7,1.7l-1.7,1.7l1.7,1.7Z\" style=\"opacity: 0.9; stroke-width: 0px; fill: rgb(114, 183, 178); fill-opacity: 1;\"/><path class=\"point plotly-customdata\" transform=\"translate(304.52,162.38)\" d=\"M0,1.7l1.7,1.7l1.7,-1.7l-1.7,-1.7l1.7,-1.7l-1.7,-1.7l-1.7,1.7l-1.7,-1.7l-1.7,1.7l1.7,1.7l-1.7,1.7l1.7,1.7Z\" style=\"opacity: 0.9; stroke-width: 0px; fill: rgb(114, 183, 178); fill-opacity: 1;\"/><path class=\"point plotly-customdata\" transform=\"translate(329.93,167.23)\" d=\"M0,1.7l1.7,1.7l1.7,-1.7l-1.7,-1.7l1.7,-1.7l-1.7,-1.7l-1.7,1.7l-1.7,-1.7l-1.7,1.7l1.7,1.7l-1.7,1.7l1.7,1.7Z\" style=\"opacity: 0.9; stroke-width: 0px; fill: rgb(114, 183, 178); fill-opacity: 1;\"/><path class=\"point plotly-customdata\" transform=\"translate(352.83,161.89)\" d=\"M0,1.7l1.7,1.7l1.7,-1.7l-1.7,-1.7l1.7,-1.7l-1.7,-1.7l-1.7,1.7l-1.7,-1.7l-1.7,1.7l1.7,1.7l-1.7,1.7l1.7,1.7Z\" style=\"opacity: 0.9; stroke-width: 0px; fill: rgb(114, 183, 178); fill-opacity: 1;\"/><path class=\"point plotly-customdata\" transform=\"translate(376.55,152.49)\" d=\"M0,1.7l1.7,1.7l1.7,-1.7l-1.7,-1.7l1.7,-1.7l-1.7,-1.7l-1.7,1.7l-1.7,-1.7l-1.7,1.7l1.7,1.7l-1.7,1.7l1.7,1.7Z\" style=\"opacity: 0.9; stroke-width: 0px; fill: rgb(114, 183, 178); fill-opacity: 1;\"/><path class=\"point plotly-customdata\" transform=\"translate(396.23,150.61)\" d=\"M0,1.7l1.7,1.7l1.7,-1.7l-1.7,-1.7l1.7,-1.7l-1.7,-1.7l-1.7,1.7l-1.7,-1.7l-1.7,1.7l1.7,1.7l-1.7,1.7l1.7,1.7Z\" style=\"opacity: 0.9; stroke-width: 0px; fill: rgb(114, 183, 178); fill-opacity: 1;\"/><path class=\"point plotly-customdata\" transform=\"translate(418.11,139.89)\" d=\"M0,1.7l1.7,1.7l1.7,-1.7l-1.7,-1.7l1.7,-1.7l-1.7,-1.7l-1.7,1.7l-1.7,-1.7l-1.7,1.7l1.7,1.7l-1.7,1.7l1.7,1.7Z\" style=\"opacity: 0.9; stroke-width: 0px; fill: rgb(114, 183, 178); fill-opacity: 1;\"/><path class=\"point plotly-customdata\" transform=\"translate(442.72,127.9)\" d=\"M0,1.7l1.7,1.7l1.7,-1.7l-1.7,-1.7l1.7,-1.7l-1.7,-1.7l-1.7,1.7l-1.7,-1.7l-1.7,1.7l1.7,1.7l-1.7,1.7l1.7,1.7Z\" style=\"opacity: 0.9; stroke-width: 0px; fill: rgb(114, 183, 178); fill-opacity: 1;\"/><path class=\"point plotly-customdata\" transform=\"translate(471.38,113.62)\" d=\"M0,1.7l1.7,1.7l1.7,-1.7l-1.7,-1.7l1.7,-1.7l-1.7,-1.7l-1.7,1.7l-1.7,-1.7l-1.7,1.7l1.7,1.7l-1.7,1.7l1.7,1.7Z\" style=\"opacity: 0.9; stroke-width: 0px; fill: rgb(114, 183, 178); fill-opacity: 1;\"/><path class=\"point plotly-customdata\" transform=\"translate(488.26,122.15)\" d=\"M0,1.7l1.7,1.7l1.7,-1.7l-1.7,-1.7l1.7,-1.7l-1.7,-1.7l-1.7,1.7l-1.7,-1.7l-1.7,1.7l1.7,1.7l-1.7,1.7l1.7,1.7Z\" style=\"opacity: 0.9; stroke-width: 0px; fill: rgb(114, 183, 178); fill-opacity: 1;\"/><path class=\"point plotly-customdata\" transform=\"translate(537.74,76.35)\" d=\"M0,1.7l1.7,1.7l1.7,-1.7l-1.7,-1.7l1.7,-1.7l-1.7,-1.7l-1.7,1.7l-1.7,-1.7l-1.7,1.7l1.7,1.7l-1.7,1.7l1.7,1.7Z\" style=\"opacity: 0.9; stroke-width: 0px; fill: rgb(114, 183, 178); fill-opacity: 1;\"/><path class=\"point plotly-customdata\" transform=\"translate(567.04,78.95)\" d=\"M0,1.7l1.7,1.7l1.7,-1.7l-1.7,-1.7l1.7,-1.7l-1.7,-1.7l-1.7,1.7l-1.7,-1.7l-1.7,1.7l1.7,1.7l-1.7,1.7l1.7,1.7Z\" style=\"opacity: 0.9; stroke-width: 0px; fill: rgb(114, 183, 178); fill-opacity: 1;\"/><path class=\"point plotly-customdata\" transform=\"translate(592.37,73.83)\" d=\"M0,1.7l1.7,1.7l1.7,-1.7l-1.7,-1.7l1.7,-1.7l-1.7,-1.7l-1.7,1.7l-1.7,-1.7l-1.7,1.7l1.7,1.7l-1.7,1.7l1.7,1.7Z\" style=\"opacity: 0.9; stroke-width: 0px; fill: rgb(114, 183, 178); fill-opacity: 1;\"/><path class=\"point plotly-customdata\" transform=\"translate(615.76,67.64)\" d=\"M0,1.7l1.7,1.7l1.7,-1.7l-1.7,-1.7l1.7,-1.7l-1.7,-1.7l-1.7,1.7l-1.7,-1.7l-1.7,1.7l1.7,1.7l-1.7,1.7l1.7,1.7Z\" style=\"opacity: 0.9; stroke-width: 0px; fill: rgb(114, 183, 178); fill-opacity: 1;\"/><path class=\"point plotly-customdata\" transform=\"translate(639.97,58.09)\" d=\"M0,1.7l1.7,1.7l1.7,-1.7l-1.7,-1.7l1.7,-1.7l-1.7,-1.7l-1.7,1.7l-1.7,-1.7l-1.7,1.7l1.7,1.7l-1.7,1.7l1.7,1.7Z\" style=\"opacity: 0.9; stroke-width: 0px; fill: rgb(114, 183, 178); fill-opacity: 1;\"/><path class=\"point plotly-customdata\" transform=\"translate(657.82,60.16)\" d=\"M0,1.7l1.7,1.7l1.7,-1.7l-1.7,-1.7l1.7,-1.7l-1.7,-1.7l-1.7,1.7l-1.7,-1.7l-1.7,1.7l1.7,1.7l-1.7,1.7l1.7,1.7Z\" style=\"opacity: 0.9; stroke-width: 0px; fill: rgb(114, 183, 178); fill-opacity: 1;\"/><path class=\"point plotly-customdata\" transform=\"translate(675.56,54.02)\" d=\"M0,1.7l1.7,1.7l1.7,-1.7l-1.7,-1.7l1.7,-1.7l-1.7,-1.7l-1.7,1.7l-1.7,-1.7l-1.7,1.7l1.7,1.7l-1.7,1.7l1.7,1.7Z\" style=\"opacity: 0.9; stroke-width: 0px; fill: rgb(114, 183, 178); fill-opacity: 1;\"/><path class=\"point plotly-customdata\" transform=\"translate(696.85,41.35)\" d=\"M0,1.7l1.7,1.7l1.7,-1.7l-1.7,-1.7l1.7,-1.7l-1.7,-1.7l-1.7,1.7l-1.7,-1.7l-1.7,1.7l1.7,1.7l-1.7,1.7l1.7,1.7Z\" style=\"opacity: 0.9; stroke-width: 0px; fill: rgb(114, 183, 178); fill-opacity: 1;\"/><path class=\"point plotly-customdata\" transform=\"translate(713.76,41.76)\" d=\"M0,1.7l1.7,1.7l1.7,-1.7l-1.7,-1.7l1.7,-1.7l-1.7,-1.7l-1.7,1.7l-1.7,-1.7l-1.7,1.7l1.7,1.7l-1.7,1.7l1.7,1.7Z\" style=\"opacity: 0.9; stroke-width: 0px; fill: rgb(114, 183, 178); fill-opacity: 1;\"/><path class=\"point plotly-customdata\" transform=\"translate(729.39,38.44)\" d=\"M0,1.7l1.7,1.7l1.7,-1.7l-1.7,-1.7l1.7,-1.7l-1.7,-1.7l-1.7,1.7l-1.7,-1.7l-1.7,1.7l1.7,1.7l-1.7,1.7l1.7,1.7Z\" style=\"opacity: 0.9; stroke-width: 0px; fill: rgb(114, 183, 178); fill-opacity: 1;\"/><path class=\"point plotly-customdata\" transform=\"translate(742.4,39.09)\" d=\"M0,1.7l1.7,1.7l1.7,-1.7l-1.7,-1.7l1.7,-1.7l-1.7,-1.7l-1.7,1.7l-1.7,-1.7l-1.7,1.7l1.7,1.7l-1.7,1.7l1.7,1.7Z\" style=\"opacity: 0.9; stroke-width: 0px; fill: rgb(114, 183, 178); fill-opacity: 1;\"/><path class=\"point plotly-customdata\" transform=\"translate(754.55,36.75)\" d=\"M0,1.7l1.7,1.7l1.7,-1.7l-1.7,-1.7l1.7,-1.7l-1.7,-1.7l-1.7,1.7l-1.7,-1.7l-1.7,1.7l1.7,1.7l-1.7,1.7l1.7,1.7Z\" style=\"opacity: 0.9; stroke-width: 0px; fill: rgb(114, 183, 178); fill-opacity: 1;\"/><path class=\"point plotly-customdata\" transform=\"translate(767.79,29.52)\" d=\"M0,1.7l1.7,1.7l1.7,-1.7l-1.7,-1.7l1.7,-1.7l-1.7,-1.7l-1.7,1.7l-1.7,-1.7l-1.7,1.7l1.7,1.7l-1.7,1.7l1.7,1.7Z\" style=\"opacity: 0.9; stroke-width: 0px; fill: rgb(114, 183, 178); fill-opacity: 1;\"/><path class=\"point plotly-customdata\" transform=\"translate(778.82,30.93)\" d=\"M0,1.7l1.7,1.7l1.7,-1.7l-1.7,-1.7l1.7,-1.7l-1.7,-1.7l-1.7,1.7l-1.7,-1.7l-1.7,1.7l1.7,1.7l-1.7,1.7l1.7,1.7Z\" style=\"opacity: 0.9; stroke-width: 0px; fill: rgb(114, 183, 178); fill-opacity: 1;\"/><path class=\"point plotly-customdata\" transform=\"translate(790.4,25.39)\" d=\"M0,1.7l1.7,1.7l1.7,-1.7l-1.7,-1.7l1.7,-1.7l-1.7,-1.7l-1.7,1.7l-1.7,-1.7l-1.7,1.7l1.7,1.7l-1.7,1.7l1.7,1.7Z\" style=\"opacity: 0.9; stroke-width: 0px; fill: rgb(114, 183, 178); fill-opacity: 1;\"/><path class=\"point plotly-customdata\" transform=\"translate(801.28,23.33)\" d=\"M0,1.7l1.7,1.7l1.7,-1.7l-1.7,-1.7l1.7,-1.7l-1.7,-1.7l-1.7,1.7l-1.7,-1.7l-1.7,1.7l1.7,1.7l-1.7,1.7l1.7,1.7Z\" style=\"opacity: 0.9; stroke-width: 0px; fill: rgb(114, 183, 178); fill-opacity: 1;\"/><path class=\"point plotly-customdata\" transform=\"translate(811.28,22.25)\" d=\"M0,1.7l1.7,1.7l1.7,-1.7l-1.7,-1.7l1.7,-1.7l-1.7,-1.7l-1.7,1.7l-1.7,-1.7l-1.7,1.7l1.7,1.7l-1.7,1.7l1.7,1.7Z\" style=\"opacity: 0.9; stroke-width: 0px; fill: rgb(114, 183, 178); fill-opacity: 1;\"/><path class=\"point plotly-customdata\" transform=\"translate(818.95,27.39)\" d=\"M0,1.7l1.7,1.7l1.7,-1.7l-1.7,-1.7l1.7,-1.7l-1.7,-1.7l-1.7,1.7l-1.7,-1.7l-1.7,1.7l1.7,1.7l-1.7,1.7l1.7,1.7Z\" style=\"opacity: 0.9; stroke-width: 0px; fill: rgb(114, 183, 178); fill-opacity: 1;\"/></g><g class=\"text\"/></g></g></g><g class=\"overplot\"/><path class=\"xlines-above crisp\" d=\"\" style=\"fill: none; stroke-width: 1px; stroke: rgb(0, 0, 0); stroke-opacity: 0;\"/><path class=\"ylines-above crisp\" d=\"\" style=\"fill: none; stroke-width: 1px; stroke: rgb(0, 0, 0); stroke-opacity: 0;\"/><g class=\"overlines-above\"/><g class=\"xaxislayer-above\"><path class=\"xtick ticks crisp\" d=\"M0,471v5\" transform=\"translate(125.31,0)\" style=\"stroke: rgb(51, 51, 51); stroke-opacity: 1; stroke-width: 1px;\"/><path class=\"xtick ticks crisp\" d=\"M0,471v5\" transform=\"translate(186.14,0)\" style=\"stroke: rgb(51, 51, 51); stroke-opacity: 1; stroke-width: 1px;\"/><path class=\"xtick ticks crisp\" d=\"M0,471v5\" transform=\"translate(246.96,0)\" style=\"stroke: rgb(51, 51, 51); stroke-opacity: 1; stroke-width: 1px;\"/><path class=\"xtick ticks crisp\" d=\"M0,471v5\" transform=\"translate(327.37,0)\" style=\"stroke: rgb(51, 51, 51); stroke-opacity: 1; stroke-width: 1px;\"/><path class=\"xtick ticks crisp\" d=\"M0,471v5\" transform=\"translate(388.2,0)\" style=\"stroke: rgb(51, 51, 51); stroke-opacity: 1; stroke-width: 1px;\"/><path class=\"xtick ticks crisp\" d=\"M0,471v5\" transform=\"translate(449.02,0)\" style=\"stroke: rgb(51, 51, 51); stroke-opacity: 1; stroke-width: 1px;\"/><path class=\"xtick ticks crisp\" d=\"M0,471v5\" transform=\"translate(529.4300000000001,0)\" style=\"stroke: rgb(51, 51, 51); stroke-opacity: 1; stroke-width: 1px;\"/><path class=\"xtick ticks crisp\" d=\"M0,471v5\" transform=\"translate(590.26,0)\" style=\"stroke: rgb(51, 51, 51); stroke-opacity: 1; stroke-width: 1px;\"/><path class=\"xtick ticks crisp\" d=\"M0,471v5\" transform=\"translate(651.08,0)\" style=\"stroke: rgb(51, 51, 51); stroke-opacity: 1; stroke-width: 1px;\"/><path class=\"xtick ticks crisp\" d=\"M0,471v5\" transform=\"translate(731.49,0)\" style=\"stroke: rgb(51, 51, 51); stroke-opacity: 1; stroke-width: 1px;\"/><path class=\"xtick ticks crisp\" d=\"M0,471v5\" transform=\"translate(792.32,0)\" style=\"stroke: rgb(51, 51, 51); stroke-opacity: 1; stroke-width: 1px;\"/><path class=\"xtick ticks crisp\" d=\"M0,471v5\" transform=\"translate(853.14,0)\" style=\"stroke: rgb(51, 51, 51); stroke-opacity: 1; stroke-width: 1px;\"/><path class=\"xtick ticks crisp\" d=\"M0,471v5\" transform=\"translate(933.55,0)\" style=\"stroke: rgb(51, 51, 51); stroke-opacity: 1; stroke-width: 1px;\"/><g class=\"xtick\"><text text-anchor=\"middle\" x=\"0\" y=\"487.4\" transform=\"translate(125.31,0)\" style=\"font-family: 'Open Sans', verdana, arial, sans-serif; font-size: 9px; fill: rgb(51, 51, 51); fill-opacity: 1; white-space: pre;\">5</text></g><g class=\"xtick\"><text text-anchor=\"middle\" x=\"0\" y=\"490.4\" transform=\"translate(186.14,0)\" style=\"font-family: 'Open Sans', verdana, arial, sans-serif; font-size: 12px; fill: rgb(51, 51, 51); fill-opacity: 1; white-space: pre;\">100</text></g><g class=\"xtick\"><text text-anchor=\"middle\" x=\"0\" y=\"487.4\" transform=\"translate(246.96,0)\" style=\"font-family: 'Open Sans', verdana, arial, sans-serif; font-size: 9px; fill: rgb(51, 51, 51); fill-opacity: 1; white-space: pre;\">2</text></g><g class=\"xtick\"><text text-anchor=\"middle\" x=\"0\" y=\"487.4\" transform=\"translate(327.37,0)\" style=\"font-family: 'Open Sans', verdana, arial, sans-serif; font-size: 9px; fill: rgb(51, 51, 51); fill-opacity: 1; white-space: pre;\">5</text></g><g class=\"xtick\"><text text-anchor=\"middle\" x=\"0\" y=\"490.4\" transform=\"translate(388.2,0)\" style=\"font-family: 'Open Sans', verdana, arial, sans-serif; font-size: 12px; fill: rgb(51, 51, 51); fill-opacity: 1; white-space: pre;\">1000</text></g><g class=\"xtick\"><text text-anchor=\"middle\" x=\"0\" y=\"487.4\" transform=\"translate(449.02,0)\" style=\"font-family: 'Open Sans', verdana, arial, sans-serif; font-size: 9px; fill: rgb(51, 51, 51); fill-opacity: 1; white-space: pre;\">2</text></g><g class=\"xtick\"><text text-anchor=\"middle\" x=\"0\" y=\"487.4\" transform=\"translate(529.4300000000001,0)\" style=\"font-family: 'Open Sans', verdana, arial, sans-serif; font-size: 9px; fill: rgb(51, 51, 51); fill-opacity: 1; white-space: pre;\">5</text></g><g class=\"xtick\"><text text-anchor=\"middle\" x=\"0\" y=\"490.4\" transform=\"translate(590.26,0)\" style=\"font-family: 'Open Sans', verdana, arial, sans-serif; font-size: 12px; fill: rgb(51, 51, 51); fill-opacity: 1; white-space: pre;\">10k</text></g><g class=\"xtick\"><text text-anchor=\"middle\" x=\"0\" y=\"487.4\" transform=\"translate(651.08,0)\" style=\"font-family: 'Open Sans', verdana, arial, sans-serif; font-size: 9px; fill: rgb(51, 51, 51); fill-opacity: 1; white-space: pre;\">2</text></g><g class=\"xtick\"><text text-anchor=\"middle\" x=\"0\" y=\"487.4\" transform=\"translate(731.49,0)\" style=\"font-family: 'Open Sans', verdana, arial, sans-serif; font-size: 9px; fill: rgb(51, 51, 51); fill-opacity: 1; white-space: pre;\">5</text></g><g class=\"xtick\"><text text-anchor=\"middle\" x=\"0\" y=\"490.4\" transform=\"translate(792.32,0)\" style=\"font-family: 'Open Sans', verdana, arial, sans-serif; font-size: 12px; fill: rgb(51, 51, 51); fill-opacity: 1; white-space: pre;\">100k</text></g><g class=\"xtick\"><text text-anchor=\"middle\" x=\"0\" y=\"487.4\" transform=\"translate(853.14,0)\" style=\"font-family: 'Open Sans', verdana, arial, sans-serif; font-size: 9px; fill: rgb(51, 51, 51); fill-opacity: 1; white-space: pre;\">2</text></g><g class=\"xtick\"><text text-anchor=\"middle\" x=\"0\" y=\"487.4\" transform=\"translate(933.55,0)\" style=\"font-family: 'Open Sans', verdana, arial, sans-serif; font-size: 9px; fill: rgb(51, 51, 51); fill-opacity: 1; white-space: pre;\">5</text></g></g><g class=\"yaxislayer-above\"><path class=\"ytick ticks crisp\" d=\"M79,0h-5\" transform=\"translate(0,469.42)\" style=\"stroke: rgb(51, 51, 51); stroke-opacity: 1; stroke-width: 1px;\"/><path class=\"ytick ticks crisp\" d=\"M79,0h-5\" transform=\"translate(0,447.75)\" style=\"stroke: rgb(51, 51, 51); stroke-opacity: 1; stroke-width: 1px;\"/><path class=\"ytick ticks crisp\" d=\"M79,0h-5\" transform=\"translate(0,426.08)\" style=\"stroke: rgb(51, 51, 51); stroke-opacity: 1; stroke-width: 1px;\"/><path class=\"ytick ticks crisp\" d=\"M79,0h-5\" transform=\"translate(0,397.44)\" style=\"stroke: rgb(51, 51, 51); stroke-opacity: 1; stroke-width: 1px;\"/><path class=\"ytick ticks crisp\" d=\"M79,0h-5\" transform=\"translate(0,375.77)\" style=\"stroke: rgb(51, 51, 51); stroke-opacity: 1; stroke-width: 1px;\"/><path class=\"ytick ticks crisp\" d=\"M79,0h-5\" transform=\"translate(0,354.1)\" style=\"stroke: rgb(51, 51, 51); stroke-opacity: 1; stroke-width: 1px;\"/><path class=\"ytick ticks crisp\" d=\"M79,0h-5\" transform=\"translate(0,325.46000000000004)\" style=\"stroke: rgb(51, 51, 51); stroke-opacity: 1; stroke-width: 1px;\"/><path class=\"ytick ticks crisp\" d=\"M79,0h-5\" transform=\"translate(0,303.78999999999996)\" style=\"stroke: rgb(51, 51, 51); stroke-opacity: 1; stroke-width: 1px;\"/><path class=\"ytick ticks crisp\" d=\"M79,0h-5\" transform=\"translate(0,282.12)\" style=\"stroke: rgb(51, 51, 51); stroke-opacity: 1; stroke-width: 1px;\"/><path class=\"ytick ticks crisp\" d=\"M79,0h-5\" transform=\"translate(0,253.47)\" style=\"stroke: rgb(51, 51, 51); stroke-opacity: 1; stroke-width: 1px;\"/><path class=\"ytick ticks crisp\" d=\"M79,0h-5\" transform=\"translate(0,231.8)\" style=\"stroke: rgb(51, 51, 51); stroke-opacity: 1; stroke-width: 1px;\"/><path class=\"ytick ticks crisp\" d=\"M79,0h-5\" transform=\"translate(0,210.14)\" style=\"stroke: rgb(51, 51, 51); stroke-opacity: 1; stroke-width: 1px;\"/><path class=\"ytick ticks crisp\" d=\"M79,0h-5\" transform=\"translate(0,181.49)\" style=\"stroke: rgb(51, 51, 51); stroke-opacity: 1; stroke-width: 1px;\"/><path class=\"ytick ticks crisp\" d=\"M79,0h-5\" transform=\"translate(0,159.82)\" style=\"stroke: rgb(51, 51, 51); stroke-opacity: 1; stroke-width: 1px;\"/><path class=\"ytick ticks crisp\" d=\"M79,0h-5\" transform=\"translate(0,138.15)\" style=\"stroke: rgb(51, 51, 51); stroke-opacity: 1; stroke-width: 1px;\"/><path class=\"ytick ticks crisp\" d=\"M79,0h-5\" transform=\"translate(0,109.51)\" style=\"stroke: rgb(51, 51, 51); stroke-opacity: 1; stroke-width: 1px;\"/><g class=\"ytick\"><text text-anchor=\"end\" x=\"71.6\" y=\"3.15\" transform=\"translate(0,469.42)\" style=\"font-family: 'Open Sans', verdana, arial, sans-serif; font-size: 9px; fill: rgb(51, 51, 51); fill-opacity: 1; white-space: pre;\">5</text></g><g class=\"ytick\"><text text-anchor=\"end\" x=\"71.6\" y=\"4.199999999999999\" transform=\"translate(0,447.75)\" style=\"font-family: 'Open Sans', verdana, arial, sans-serif; font-size: 12px; fill: rgb(51, 51, 51); fill-opacity: 1; white-space: pre;\">1</text></g><g class=\"ytick\"><text text-anchor=\"end\" x=\"71.6\" y=\"3.15\" transform=\"translate(0,426.08)\" style=\"font-family: 'Open Sans', verdana, arial, sans-serif; font-size: 9px; fill: rgb(51, 51, 51); fill-opacity: 1; white-space: pre;\">2</text></g><g class=\"ytick\"><text text-anchor=\"end\" x=\"71.6\" y=\"3.15\" transform=\"translate(0,397.44)\" style=\"font-family: 'Open Sans', verdana, arial, sans-serif; font-size: 9px; fill: rgb(51, 51, 51); fill-opacity: 1; white-space: pre;\">5</text></g><g class=\"ytick\"><text text-anchor=\"end\" x=\"71.6\" y=\"4.199999999999999\" transform=\"translate(0,375.77)\" style=\"font-family: 'Open Sans', verdana, arial, sans-serif; font-size: 12px; fill: rgb(51, 51, 51); fill-opacity: 1; white-space: pre;\">10</text></g><g class=\"ytick\"><text text-anchor=\"end\" x=\"71.6\" y=\"3.15\" transform=\"translate(0,354.1)\" style=\"font-family: 'Open Sans', verdana, arial, sans-serif; font-size: 9px; fill: rgb(51, 51, 51); fill-opacity: 1; white-space: pre;\">2</text></g><g class=\"ytick\"><text text-anchor=\"end\" x=\"71.6\" y=\"3.15\" transform=\"translate(0,325.46000000000004)\" style=\"font-family: 'Open Sans', verdana, arial, sans-serif; font-size: 9px; fill: rgb(51, 51, 51); fill-opacity: 1; white-space: pre;\">5</text></g><g class=\"ytick\"><text text-anchor=\"end\" x=\"71.6\" y=\"4.199999999999999\" transform=\"translate(0,303.78999999999996)\" style=\"font-family: 'Open Sans', verdana, arial, sans-serif; font-size: 12px; fill: rgb(51, 51, 51); fill-opacity: 1; white-space: pre;\">100</text></g><g class=\"ytick\"><text text-anchor=\"end\" x=\"71.6\" y=\"3.15\" transform=\"translate(0,282.12)\" style=\"font-family: 'Open Sans', verdana, arial, sans-serif; font-size: 9px; fill: rgb(51, 51, 51); fill-opacity: 1; white-space: pre;\">2</text></g><g class=\"ytick\"><text text-anchor=\"end\" x=\"71.6\" y=\"3.15\" transform=\"translate(0,253.47)\" style=\"font-family: 'Open Sans', verdana, arial, sans-serif; font-size: 9px; fill: rgb(51, 51, 51); fill-opacity: 1; white-space: pre;\">5</text></g><g class=\"ytick\"><text text-anchor=\"end\" x=\"71.6\" y=\"4.199999999999999\" transform=\"translate(0,231.8)\" style=\"font-family: 'Open Sans', verdana, arial, sans-serif; font-size: 12px; fill: rgb(51, 51, 51); fill-opacity: 1; white-space: pre;\">1000</text></g><g class=\"ytick\"><text text-anchor=\"end\" x=\"71.6\" y=\"3.15\" transform=\"translate(0,210.14)\" style=\"font-family: 'Open Sans', verdana, arial, sans-serif; font-size: 9px; fill: rgb(51, 51, 51); fill-opacity: 1; white-space: pre;\">2</text></g><g class=\"ytick\"><text text-anchor=\"end\" x=\"71.6\" y=\"3.15\" transform=\"translate(0,181.49)\" style=\"font-family: 'Open Sans', verdana, arial, sans-serif; font-size: 9px; fill: rgb(51, 51, 51); fill-opacity: 1; white-space: pre;\">5</text></g><g class=\"ytick\"><text text-anchor=\"end\" x=\"71.6\" y=\"4.199999999999999\" transform=\"translate(0,159.82)\" style=\"font-family: 'Open Sans', verdana, arial, sans-serif; font-size: 12px; fill: rgb(51, 51, 51); fill-opacity: 1; white-space: pre;\">10k</text></g><g class=\"ytick\"><text text-anchor=\"end\" x=\"71.6\" y=\"3.15\" transform=\"translate(0,138.15)\" style=\"font-family: 'Open Sans', verdana, arial, sans-serif; font-size: 9px; fill: rgb(51, 51, 51); fill-opacity: 1; white-space: pre;\">2</text></g><g class=\"ytick\"><text text-anchor=\"end\" x=\"71.6\" y=\"3.15\" transform=\"translate(0,109.51)\" style=\"font-family: 'Open Sans', verdana, arial, sans-serif; font-size: 9px; fill: rgb(51, 51, 51); fill-opacity: 1; white-space: pre;\">5</text></g></g><g class=\"overaxes-above\"/></g></g><g class=\"polarlayer\"/><g class=\"ternarylayer\"/><g class=\"geolayer\"/><g class=\"funnelarealayer\"/><g class=\"pielayer\"/><g class=\"treemaplayer\"/><g class=\"sunburstlayer\"/><g class=\"glimages\"/><defs id=\"topdefs-9f2deb\"><g class=\"clips\"/><clipPath id=\"legend9f2deb\"><rect width=\"125\" height=\"102\" x=\"0\" y=\"0\"/></clipPath></defs><g class=\"layer-above\"><g class=\"imagelayer\"/><g class=\"shapelayer\"/></g><g class=\"infolayer\"><g class=\"legend\" pointer-events=\"all\" transform=\"translate(963.32, 100)\"><rect class=\"bg\" shape-rendering=\"crispEdges\" width=\"125\" height=\"102\" x=\"0\" y=\"0\" style=\"stroke: rgb(68, 68, 68); stroke-opacity: 1; fill: rgb(255, 255, 255); fill-opacity: 1; stroke-width: 0px;\"/><g class=\"scrollbox\" transform=\"translate(0, 0)\" clip-path=\"url('#legend9f2deb')\"><text class=\"legendtitletext user-select-none\" text-anchor=\"start\" x=\"2\" y=\"15.600000000000001\" style=\"font-family: 'Open Sans', verdana, arial, sans-serif; font-size: 12px; fill: rgb(51, 51, 51); fill-opacity: 1; white-space: pre;\">Country</text><g class=\"groups\" transform=\"translate(0, 0)\"><g class=\"traces\" transform=\"translate(0, 30.1)\" style=\"opacity: 1;\"><text class=\"legendtext user-select-none\" text-anchor=\"start\" x=\"40\" y=\"4.680000000000001\" style=\"font-family: 'Open Sans', verdana, arial, sans-serif; font-size: 12px; fill: rgb(51, 51, 51); fill-opacity: 1; white-space: pre;\">China</text><g class=\"layers\" style=\"opacity: 1;\"><g class=\"legendfill\"/><g class=\"legendlines\"/><g class=\"legendsymbols\"><g class=\"legendpoints\"><path class=\"scatterpts\" transform=\"translate(20,0)\" d=\"M3,0A3,3 0 1,1 0,-3A3,3 0 0,1 3,0Z\" style=\"opacity: 0.9; stroke-width: 0px; fill: rgb(76, 120, 168); fill-opacity: 1;\"/></g></g></g><rect class=\"legendtoggle\" pointer-events=\"all\" x=\"0\" y=\"-9.5\" width=\"119.0625\" height=\"19\" style=\"cursor: pointer; fill: rgb(0, 0, 0); fill-opacity: 0;\"/></g></g><g class=\"groups\" transform=\"translate(0, 0)\"><g class=\"traces\" transform=\"translate(0, 49.1)\" style=\"opacity: 1;\"><text class=\"legendtext user-select-none\" text-anchor=\"start\" x=\"40\" y=\"4.680000000000001\" style=\"font-family: 'Open Sans', verdana, arial, sans-serif; font-size: 12px; fill: rgb(51, 51, 51); fill-opacity: 1; white-space: pre;\">Korea, South</text><g class=\"layers\" style=\"opacity: 1;\"><g class=\"legendfill\"/><g class=\"legendlines\"/><g class=\"legendsymbols\"><g class=\"legendpoints\"><path class=\"scatterpts\" transform=\"translate(20,0)\" d=\"M3.9,0L0,3.9L-3.9,0L0,-3.9Z\" style=\"opacity: 0.9; stroke-width: 0px; fill: rgb(245, 133, 24); fill-opacity: 1;\"/></g></g></g><rect class=\"legendtoggle\" pointer-events=\"all\" x=\"0\" y=\"-9.5\" width=\"119.0625\" height=\"19\" style=\"cursor: pointer; fill: rgb(0, 0, 0); fill-opacity: 0;\"/></g></g><g class=\"groups\" transform=\"translate(0, 0)\"><g class=\"traces\" transform=\"translate(0, 68.1)\" style=\"opacity: 1;\"><text class=\"legendtext user-select-none\" text-anchor=\"start\" x=\"40\" y=\"4.680000000000001\" style=\"font-family: 'Open Sans', verdana, arial, sans-serif; font-size: 12px; fill: rgb(51, 51, 51); fill-opacity: 1; white-space: pre;\">Italy</text><g class=\"layers\" style=\"opacity: 1;\"><g class=\"legendfill\"/><g class=\"legendlines\"/><g class=\"legendsymbols\"><g class=\"legendpoints\"><path class=\"scatterpts\" transform=\"translate(20,0)\" d=\"M3,3H-3V-3H3Z\" style=\"opacity: 0.9; stroke-width: 0px; fill: rgb(228, 87, 86); fill-opacity: 1;\"/></g></g></g><rect class=\"legendtoggle\" pointer-events=\"all\" x=\"0\" y=\"-9.5\" width=\"119.0625\" height=\"19\" style=\"cursor: pointer; fill: rgb(0, 0, 0); fill-opacity: 0;\"/></g></g><g class=\"groups\" transform=\"translate(0, 0)\"><g class=\"traces\" transform=\"translate(0, 87.1)\" style=\"opacity: 1;\"><text class=\"legendtext user-select-none\" text-anchor=\"start\" x=\"40\" y=\"4.680000000000001\" style=\"font-family: 'Open Sans', verdana, arial, sans-serif; font-size: 12px; fill: rgb(51, 51, 51); fill-opacity: 1; white-space: pre;\">US</text><g class=\"layers\" style=\"opacity: 1;\"><g class=\"legendfill\"/><g class=\"legendlines\"/><g class=\"legendsymbols\"><g class=\"legendpoints\"><path class=\"scatterpts\" transform=\"translate(20,0)\" d=\"M0,1.7l1.7,1.7l1.7,-1.7l-1.7,-1.7l1.7,-1.7l-1.7,-1.7l-1.7,1.7l-1.7,-1.7l-1.7,1.7l1.7,1.7l-1.7,1.7l1.7,1.7Z\" style=\"opacity: 0.9; stroke-width: 0px; fill: rgb(114, 183, 178); fill-opacity: 1;\"/></g></g></g><rect class=\"legendtoggle\" pointer-events=\"all\" x=\"0\" y=\"-9.5\" width=\"119.0625\" height=\"19\" style=\"cursor: pointer; fill: rgb(0, 0, 0); fill-opacity: 0;\"/></g></g></g><rect class=\"scrollbar\" rx=\"20\" ry=\"3\" width=\"0\" height=\"0\" x=\"0\" y=\"0\" style=\"fill: rgb(128, 139, 164); fill-opacity: 1;\"/></g><g class=\"g-gtitle\"><text class=\"gtitle\" x=\"550\" y=\"50\" text-anchor=\"middle\" dy=\"0em\" style=\"font-family: 'Open Sans', verdana, arial, sans-serif; font-size: 17px; fill: rgb(51, 51, 51); opacity: 1; font-weight: normal; white-space: pre;\">New Confirmed Cases vs Cumulative Cases Per Day (Logged, International)</text></g><g class=\"g-xtitle\"><text class=\"xtitle\" x=\"513\" y=\"517.70625\" text-anchor=\"middle\" style=\"font-family: 'Open Sans', verdana, arial, sans-serif; font-size: 14px; fill: rgb(51, 51, 51); opacity: 1; font-weight: normal; white-space: pre;\">Confirmed</text></g><g class=\"g-ytitle\"><text class=\"ytitle\" transform=\"rotate(-90,16.278125000000003,285)\" x=\"16.278125000000003\" y=\"285\" text-anchor=\"middle\" style=\"font-family: 'Open Sans', verdana, arial, sans-serif; font-size: 14px; fill: rgb(51, 51, 51); opacity: 1; font-weight: normal; white-space: pre;\">NewConfirmed</text></g></g></svg>"
      ]
     },
     "metadata": {},
     "output_type": "display_data"
    }
   ],
   "source": [
    "# Appears that China and South Korea have defintely been able to \"flatten\" the curve, while Italy is nearing the end of the tunnel. \n",
    "countriesToPlot = ['US', 'Korea, South', 'Italy', 'China']\n",
    "fig =   px.scatter(data_frame=df_country[df_country.Country.isin(countriesToPlot)].loc[df_country.Confirmed > 50], \n",
    "                   x='Confirmed', y='NewConfirmed', color='Country', symbol='Country',\n",
    "                   log_x=True,log_y=True, \n",
    "                   hover_name='Date', hover_data=['NewConfirmed','Confirmed','Date','EpidemicStartDate'],\n",
    "                   title='New Confirmed Cases vs Cumulative Cases Per Day (Logged, International)', template='ggplot2', \n",
    "                   color_discrete_sequence= px.colors.qualitative.T10, opacity=0.9\n",
    "                  )\n",
    "fig.show(renderer='svg', width=1100, height=550)"
   ]
  },
  {
   "cell_type": "code",
   "execution_count": 37,
   "metadata": {},
   "outputs": [],
   "source": [
    "# To Do: Animated scatter against date"
   ]
  },
  {
   "cell_type": "code",
   "execution_count": 33,
   "metadata": {},
   "outputs": [
    {
     "data": {
      "image/svg+xml": [
       "<svg class=\"main-svg\" xmlns=\"http://www.w3.org/2000/svg\" xmlns:xlink=\"http://www.w3.org/1999/xlink\" width=\"1100\" height=\"550\" style=\"\" viewBox=\"0 0 1100 550\"><rect x=\"0\" y=\"0\" width=\"1100\" height=\"550\" style=\"fill: rgb(255, 255, 255); fill-opacity: 1;\"/><defs id=\"defs-0383a8\"><g class=\"clips\"><clipPath id=\"clip0383a8xyplot\" class=\"plotclip\"><rect width=\"875\" height=\"370\"/></clipPath><clipPath class=\"axesclip\" id=\"clip0383a8x\"><rect x=\"80\" y=\"0\" width=\"875\" height=\"550\"/></clipPath><clipPath class=\"axesclip\" id=\"clip0383a8y\"><rect x=\"0\" y=\"100\" width=\"1100\" height=\"370\"/></clipPath><clipPath class=\"axesclip\" id=\"clip0383a8xy\"><rect x=\"80\" y=\"100\" width=\"875\" height=\"370\"/></clipPath></g><g class=\"gradients\"/></defs><g class=\"bglayer\"><rect class=\"bg\" x=\"80\" y=\"100\" width=\"875\" height=\"370\" style=\"fill: rgb(237, 237, 237); fill-opacity: 1; stroke-width: 0;\"/></g><g class=\"layer-below\"><g class=\"imagelayer\"/><g class=\"shapelayer\"/></g><g class=\"cartesianlayer\"><g class=\"subplot xy\"><g class=\"layer-subplot\"><g class=\"shapelayer\"/><g class=\"imagelayer\"/></g><g class=\"gridlayer\"><g class=\"x\"><path class=\"xgrid crisp\" transform=\"translate(125.5,0)\" d=\"M0,100v370\" style=\"stroke: rgb(255, 255, 255); stroke-opacity: 1; stroke-width: 1px;\"/><path class=\"xgrid crisp\" transform=\"translate(195.51999999999998,0)\" d=\"M0,100v370\" style=\"stroke: rgb(255, 255, 255); stroke-opacity: 1; stroke-width: 1px;\"/><path class=\"xgrid crisp\" transform=\"translate(265.55,0)\" d=\"M0,100v370\" style=\"stroke: rgb(255, 255, 255); stroke-opacity: 1; stroke-width: 1px;\"/><path class=\"xgrid crisp\" transform=\"translate(358.12,0)\" d=\"M0,100v370\" style=\"stroke: rgb(255, 255, 255); stroke-opacity: 1; stroke-width: 1px;\"/><path class=\"xgrid crisp\" transform=\"translate(428.14,0)\" d=\"M0,100v370\" style=\"stroke: rgb(255, 255, 255); stroke-opacity: 1; stroke-width: 1px;\"/><path class=\"xgrid crisp\" transform=\"translate(498.17,0)\" d=\"M0,100v370\" style=\"stroke: rgb(255, 255, 255); stroke-opacity: 1; stroke-width: 1px;\"/><path class=\"xgrid crisp\" transform=\"translate(590.74,0)\" d=\"M0,100v370\" style=\"stroke: rgb(255, 255, 255); stroke-opacity: 1; stroke-width: 1px;\"/><path class=\"xgrid crisp\" transform=\"translate(660.76,0)\" d=\"M0,100v370\" style=\"stroke: rgb(255, 255, 255); stroke-opacity: 1; stroke-width: 1px;\"/><path class=\"xgrid crisp\" transform=\"translate(730.79,0)\" d=\"M0,100v370\" style=\"stroke: rgb(255, 255, 255); stroke-opacity: 1; stroke-width: 1px;\"/><path class=\"xgrid crisp\" transform=\"translate(823.36,0)\" d=\"M0,100v370\" style=\"stroke: rgb(255, 255, 255); stroke-opacity: 1; stroke-width: 1px;\"/><path class=\"xgrid crisp\" transform=\"translate(893.38,0)\" d=\"M0,100v370\" style=\"stroke: rgb(255, 255, 255); stroke-opacity: 1; stroke-width: 1px;\"/></g><g class=\"y\"><path class=\"ygrid crisp\" transform=\"translate(0,447.75)\" d=\"M80,0h875\" style=\"stroke: rgb(255, 255, 255); stroke-opacity: 1; stroke-width: 1px;\"/><path class=\"ygrid crisp\" transform=\"translate(0,413.51)\" d=\"M80,0h875\" style=\"stroke: rgb(255, 255, 255); stroke-opacity: 1; stroke-width: 1px;\"/><path class=\"ygrid crisp\" transform=\"translate(0,387.6)\" d=\"M80,0h875\" style=\"stroke: rgb(255, 255, 255); stroke-opacity: 1; stroke-width: 1px;\"/><path class=\"ygrid crisp\" transform=\"translate(0,361.7)\" d=\"M80,0h875\" style=\"stroke: rgb(255, 255, 255); stroke-opacity: 1; stroke-width: 1px;\"/><path class=\"ygrid crisp\" transform=\"translate(0,327.46000000000004)\" d=\"M80,0h875\" style=\"stroke: rgb(255, 255, 255); stroke-opacity: 1; stroke-width: 1px;\"/><path class=\"ygrid crisp\" transform=\"translate(0,301.55)\" d=\"M80,0h875\" style=\"stroke: rgb(255, 255, 255); stroke-opacity: 1; stroke-width: 1px;\"/><path class=\"ygrid crisp\" transform=\"translate(0,275.65)\" d=\"M80,0h875\" style=\"stroke: rgb(255, 255, 255); stroke-opacity: 1; stroke-width: 1px;\"/><path class=\"ygrid crisp\" transform=\"translate(0,241.41)\" d=\"M80,0h875\" style=\"stroke: rgb(255, 255, 255); stroke-opacity: 1; stroke-width: 1px;\"/><path class=\"ygrid crisp\" transform=\"translate(0,215.5)\" d=\"M80,0h875\" style=\"stroke: rgb(255, 255, 255); stroke-opacity: 1; stroke-width: 1px;\"/><path class=\"ygrid crisp\" transform=\"translate(0,189.6)\" d=\"M80,0h875\" style=\"stroke: rgb(255, 255, 255); stroke-opacity: 1; stroke-width: 1px;\"/><path class=\"ygrid crisp\" transform=\"translate(0,155.36)\" d=\"M80,0h875\" style=\"stroke: rgb(255, 255, 255); stroke-opacity: 1; stroke-width: 1px;\"/><path class=\"ygrid crisp\" transform=\"translate(0,129.45)\" d=\"M80,0h875\" style=\"stroke: rgb(255, 255, 255); stroke-opacity: 1; stroke-width: 1px;\"/><path class=\"ygrid crisp\" transform=\"translate(0,103.55)\" d=\"M80,0h875\" style=\"stroke: rgb(255, 255, 255); stroke-opacity: 1; stroke-width: 1px;\"/></g></g><g class=\"zerolinelayer\"/><path class=\"xlines-below\"/><path class=\"ylines-below\"/><g class=\"overlines-below\"/><g class=\"xaxislayer-below\"/><g class=\"yaxislayer-below\"/><g class=\"overaxes-below\"/><g class=\"plot\" transform=\"translate(80, 100)\" clip-path=\"url('#clip0383a8xyplot')\"><g class=\"scatterlayer mlayer\"><g class=\"trace scatter trace8fa997\" style=\"stroke-miterlimit: 2; opacity: 1;\"><g class=\"fills\"/><g class=\"errorbars\"/><g class=\"lines\"/><g class=\"points\"><path class=\"point plotly-customdata\" transform=\"translate(79.49,254.89)\" d=\"M3,0A3,3 0 1,1 0,-3A3,3 0 0,1 3,0Z\" style=\"opacity: 0.9; stroke-width: 0px; fill: rgb(76, 120, 168); fill-opacity: 1;\"/><path class=\"point plotly-customdata\" transform=\"translate(124.23,236.74)\" d=\"M3,0A3,3 0 1,1 0,-3A3,3 0 0,1 3,0Z\" style=\"opacity: 0.9; stroke-width: 0px; fill: rgb(76, 120, 168); fill-opacity: 1;\"/><path class=\"point plotly-customdata\" transform=\"translate(150.24,244.14)\" d=\"M3,0A3,3 0 1,1 0,-3A3,3 0 0,1 3,0Z\" style=\"opacity: 0.9; stroke-width: 0px; fill: rgb(76, 120, 168); fill-opacity: 1;\"/><path class=\"point plotly-customdata\" transform=\"translate(190.48,215.42)\" d=\"M3,0A3,3 0 1,1 0,-3A3,3 0 0,1 3,0Z\" style=\"opacity: 0.9; stroke-width: 0px; fill: rgb(76, 120, 168); fill-opacity: 1;\"/><path class=\"point plotly-customdata\" transform=\"translate(234.91,196.01)\" d=\"M3,0A3,3 0 1,1 0,-3A3,3 0 0,1 3,0Z\" style=\"opacity: 0.9; stroke-width: 0px; fill: rgb(76, 120, 168); fill-opacity: 1;\"/><path class=\"point plotly-customdata\" transform=\"translate(263.82,198.68)\" d=\"M3,0A3,3 0 1,1 0,-3A3,3 0 0,1 3,0Z\" style=\"opacity: 0.9; stroke-width: 0px; fill: rgb(76, 120, 168); fill-opacity: 1;\"/><path class=\"point plotly-customdata\" transform=\"translate(290.29,191.75)\" d=\"M3,0A3,3 0 1,1 0,-3A3,3 0 0,1 3,0Z\" style=\"opacity: 0.9; stroke-width: 0px; fill: rgb(76, 120, 168); fill-opacity: 1;\"/><path class=\"point plotly-customdata\" transform=\"translate(320.95,175.65)\" d=\"M3,0A3,3 0 1,1 0,-3A3,3 0 0,1 3,0Z\" style=\"opacity: 0.9; stroke-width: 0px; fill: rgb(76, 120, 168); fill-opacity: 1;\"/><path class=\"point plotly-customdata\" transform=\"translate(348.14,169.46)\" d=\"M3,0A3,3 0 1,1 0,-3A3,3 0 0,1 3,0Z\" style=\"opacity: 0.9; stroke-width: 0px; fill: rgb(76, 120, 168); fill-opacity: 1;\"/><path class=\"point plotly-customdata\" transform=\"translate(368.4,171.75)\" d=\"M3,0A3,3 0 1,1 0,-3A3,3 0 0,1 3,0Z\" style=\"opacity: 0.9; stroke-width: 0px; fill: rgb(76, 120, 168); fill-opacity: 1;\"/><path class=\"point plotly-customdata\" transform=\"translate(386.86,168.07)\" d=\"M3,0A3,3 0 1,1 0,-3A3,3 0 0,1 3,0Z\" style=\"opacity: 0.9; stroke-width: 0px; fill: rgb(76, 120, 168); fill-opacity: 1;\"/><path class=\"point plotly-customdata\" transform=\"translate(416.39,141.56)\" d=\"M3,0A3,3 0 1,1 0,-3A3,3 0 0,1 3,0Z\" style=\"opacity: 0.9; stroke-width: 0px; fill: rgb(76, 120, 168); fill-opacity: 1;\"/><path class=\"point plotly-customdata\" transform=\"translate(439.78,140.52)\" d=\"M3,0A3,3 0 1,1 0,-3A3,3 0 0,1 3,0Z\" style=\"opacity: 0.9; stroke-width: 0px; fill: rgb(76, 120, 168); fill-opacity: 1;\"/><path class=\"point plotly-customdata\" transform=\"translate(465.59,127.73)\" d=\"M3,0A3,3 0 1,1 0,-3A3,3 0 0,1 3,0Z\" style=\"opacity: 0.9; stroke-width: 0px; fill: rgb(76, 120, 168); fill-opacity: 1;\"/><path class=\"point plotly-customdata\" transform=\"translate(489.15,122.02)\" d=\"M3,0A3,3 0 1,1 0,-3A3,3 0 0,1 3,0Z\" style=\"opacity: 0.9; stroke-width: 0px; fill: rgb(76, 120, 168); fill-opacity: 1;\"/><path class=\"point plotly-customdata\" transform=\"translate(509.56,119.28)\" d=\"M3,0A3,3 0 1,1 0,-3A3,3 0 0,1 3,0Z\" style=\"opacity: 0.9; stroke-width: 0px; fill: rgb(76, 120, 168); fill-opacity: 1;\"/><path class=\"point plotly-customdata\" transform=\"translate(523.87,126.16)\" d=\"M3,0A3,3 0 1,1 0,-3A3,3 0 0,1 3,0Z\" style=\"opacity: 0.9; stroke-width: 0px; fill: rgb(76, 120, 168); fill-opacity: 1;\"/><path class=\"point plotly-customdata\" transform=\"translate(540.92,113.79)\" d=\"M3,0A3,3 0 1,1 0,-3A3,3 0 0,1 3,0Z\" style=\"opacity: 0.9; stroke-width: 0px; fill: rgb(76, 120, 168); fill-opacity: 1;\"/><path class=\"point plotly-customdata\" transform=\"translate(555.21,114.62)\" d=\"M3,0A3,3 0 1,1 0,-3A3,3 0 0,1 3,0Z\" style=\"opacity: 0.9; stroke-width: 0px; fill: rgb(76, 120, 168); fill-opacity: 1;\"/><path class=\"point plotly-customdata\" transform=\"translate(570.12,107.62)\" d=\"M3,0A3,3 0 1,1 0,-3A3,3 0 0,1 3,0Z\" style=\"opacity: 0.9; stroke-width: 0px; fill: rgb(76, 120, 168); fill-opacity: 1;\"/><path class=\"point plotly-customdata\" transform=\"translate(583.36,106.87)\" d=\"M3,0A3,3 0 1,1 0,-3A3,3 0 0,1 3,0Z\" style=\"opacity: 0.9; stroke-width: 0px; fill: rgb(76, 120, 168); fill-opacity: 1;\"/><path class=\"point plotly-customdata\" transform=\"translate(595.21,106.37)\" d=\"M3,0A3,3 0 1,1 0,-3A3,3 0 0,1 3,0Z\" style=\"opacity: 0.9; stroke-width: 0px; fill: rgb(76, 120, 168); fill-opacity: 1;\"/></g><g class=\"text\"/></g><g class=\"trace scatter tracec9c246\" style=\"stroke-miterlimit: 2; opacity: 1;\"><g class=\"fills\"/><g class=\"errorbars\"/><g class=\"lines\"/><g class=\"points\"><path class=\"point plotly-customdata\" transform=\"translate(103.75,231.39)\" d=\"M3.9,0L0,3.9L-3.9,0L0,-3.9Z\" style=\"opacity: 0.9; stroke-width: 0px; fill: rgb(245, 133, 24); fill-opacity: 1;\"/><path class=\"point plotly-customdata\" transform=\"translate(121.41,267.77)\" d=\"M3.9,0L0,3.9L-3.9,0L0,-3.9Z\" style=\"opacity: 0.9; stroke-width: 0px; fill: rgb(245, 133, 24); fill-opacity: 1;\"/><path class=\"point plotly-customdata\" transform=\"translate(150.95,239.73)\" d=\"M3.9,0L0,3.9L-3.9,0L0,-3.9Z\" style=\"opacity: 0.9; stroke-width: 0px; fill: rgb(245, 133, 24); fill-opacity: 1;\"/><path class=\"point plotly-customdata\" transform=\"translate(170.9,245.32)\" d=\"M3.9,0L0,3.9L-3.9,0L0,-3.9Z\" style=\"opacity: 0.9; stroke-width: 0px; fill: rgb(245, 133, 24); fill-opacity: 1;\"/><path class=\"point plotly-customdata\" transform=\"translate(193.79,232.23)\" d=\"M3.9,0L0,3.9L-3.9,0L0,-3.9Z\" style=\"opacity: 0.9; stroke-width: 0px; fill: rgb(245, 133, 24); fill-opacity: 1;\"/><path class=\"point plotly-customdata\" transform=\"translate(234.91,198.33)\" d=\"M3.9,0L0,3.9L-3.9,0L0,-3.9Z\" style=\"opacity: 0.9; stroke-width: 0px; fill: rgb(245, 133, 24); fill-opacity: 1;\"/><path class=\"point plotly-customdata\" transform=\"translate(260.75,203.47)\" d=\"M3.9,0L0,3.9L-3.9,0L0,-3.9Z\" style=\"opacity: 0.9; stroke-width: 0px; fill: rgb(245, 133, 24); fill-opacity: 1;\"/><path class=\"point plotly-customdata\" transform=\"translate(298.21,177.76)\" d=\"M3.9,0L0,3.9L-3.9,0L0,-3.9Z\" style=\"opacity: 0.9; stroke-width: 0px; fill: rgb(245, 133, 24); fill-opacity: 1;\"/><path class=\"point plotly-customdata\" transform=\"translate(316.63,194.12)\" d=\"M3.9,0L0,3.9L-3.9,0L0,-3.9Z\" style=\"opacity: 0.9; stroke-width: 0px; fill: rgb(245, 133, 24); fill-opacity: 1;\"/><path class=\"point plotly-customdata\" transform=\"translate(342.96,172.43)\" d=\"M3.9,0L0,3.9L-3.9,0L0,-3.9Z\" style=\"opacity: 0.9; stroke-width: 0px; fill: rgb(245, 133, 24); fill-opacity: 1;\"/><path class=\"point plotly-customdata\" transform=\"translate(380.24,147.57)\" d=\"M3.9,0L0,3.9L-3.9,0L0,-3.9Z\" style=\"opacity: 0.9; stroke-width: 0px; fill: rgb(245, 133, 24); fill-opacity: 1;\"/><path class=\"point plotly-customdata\" transform=\"translate(435.83,115.21)\" d=\"M3.9,0L0,3.9L-3.9,0L0,-3.9Z\" style=\"opacity: 0.9; stroke-width: 0px; fill: rgb(245, 133, 24); fill-opacity: 1;\"/><path class=\"point plotly-customdata\" transform=\"translate(491.96,94.17)\" d=\"M3.9,0L0,3.9L-3.9,0L0,-3.9Z\" style=\"opacity: 0.9; stroke-width: 0px; fill: rgb(245, 133, 24); fill-opacity: 1;\"/><path class=\"point plotly-customdata\" transform=\"translate(546.19,75.08)\" d=\"M3.9,0L0,3.9L-3.9,0L0,-3.9Z\" style=\"opacity: 0.9; stroke-width: 0px; fill: rgb(245, 133, 24); fill-opacity: 1;\"/><path class=\"point plotly-customdata\" transform=\"translate(584.3,71.41)\" d=\"M3.9,0L0,3.9L-3.9,0L0,-3.9Z\" style=\"opacity: 0.9; stroke-width: 0px; fill: rgb(245, 133, 24); fill-opacity: 1;\"/><path class=\"point plotly-customdata\" transform=\"translate(622.85,56.79)\" d=\"M3.9,0L0,3.9L-3.9,0L0,-3.9Z\" style=\"opacity: 0.9; stroke-width: 0px; fill: rgb(245, 133, 24); fill-opacity: 1;\"/><path class=\"point plotly-customdata\" transform=\"translate(655.12,50.41)\" d=\"M3.9,0L0,3.9L-3.9,0L0,-3.9Z\" style=\"opacity: 0.9; stroke-width: 0px; fill: rgb(245, 133, 24); fill-opacity: 1;\"/><path class=\"point plotly-customdata\" transform=\"translate(675.99,56.96)\" d=\"M3.9,0L0,3.9L-3.9,0L0,-3.9Z\" style=\"opacity: 0.9; stroke-width: 0px; fill: rgb(245, 133, 24); fill-opacity: 1;\"/><path class=\"point plotly-customdata\" transform=\"translate(701.58,40.7)\" d=\"M3.9,0L0,3.9L-3.9,0L0,-3.9Z\" style=\"opacity: 0.9; stroke-width: 0px; fill: rgb(245, 133, 24); fill-opacity: 1;\"/><path class=\"point plotly-customdata\" transform=\"translate(718.22,49.04)\" d=\"M3.9,0L0,3.9L-3.9,0L0,-3.9Z\" style=\"opacity: 0.9; stroke-width: 0px; fill: rgb(245, 133, 24); fill-opacity: 1;\"/><path class=\"point plotly-customdata\" transform=\"translate(731.89,50.8)\" d=\"M3.9,0L0,3.9L-3.9,0L0,-3.9Z\" style=\"opacity: 0.9; stroke-width: 0px; fill: rgb(245, 133, 24); fill-opacity: 1;\"/><path class=\"point plotly-customdata\" transform=\"translate(749.93,34.54)\" d=\"M3.9,0L0,3.9L-3.9,0L0,-3.9Z\" style=\"opacity: 0.9; stroke-width: 0px; fill: rgb(245, 133, 24); fill-opacity: 1;\"/><path class=\"point plotly-customdata\" transform=\"translate(761.05,47.29)\" d=\"M3.9,0L0,3.9L-3.9,0L0,-3.9Z\" style=\"opacity: 0.9; stroke-width: 0px; fill: rgb(245, 133, 24); fill-opacity: 1;\"/><path class=\"point plotly-customdata\" transform=\"translate(773.19,39.68)\" d=\"M3.9,0L0,3.9L-3.9,0L0,-3.9Z\" style=\"opacity: 0.9; stroke-width: 0px; fill: rgb(245, 133, 24); fill-opacity: 1;\"/><path class=\"point plotly-customdata\" transform=\"translate(785.44,34.84)\" d=\"M3.9,0L0,3.9L-3.9,0L0,-3.9Z\" style=\"opacity: 0.9; stroke-width: 0px; fill: rgb(245, 133, 24); fill-opacity: 1;\"/><path class=\"point plotly-customdata\" transform=\"translate(795.64,37.53)\" d=\"M3.9,0L0,3.9L-3.9,0L0,-3.9Z\" style=\"opacity: 0.9; stroke-width: 0px; fill: rgb(245, 133, 24); fill-opacity: 1;\"/><path class=\"point plotly-customdata\" transform=\"translate(805.8,33.89)\" d=\"M3.9,0L0,3.9L-3.9,0L0,-3.9Z\" style=\"opacity: 0.9; stroke-width: 0px; fill: rgb(245, 133, 24); fill-opacity: 1;\"/><path class=\"point plotly-customdata\" transform=\"translate(816.24,29.08)\" d=\"M3.9,0L0,3.9L-3.9,0L0,-3.9Z\" style=\"opacity: 0.9; stroke-width: 0px; fill: rgb(245, 133, 24); fill-opacity: 1;\"/><path class=\"point plotly-customdata\" transform=\"translate(827.5,22.25)\" d=\"M3.9,0L0,3.9L-3.9,0L0,-3.9Z\" style=\"opacity: 0.9; stroke-width: 0px; fill: rgb(245, 133, 24); fill-opacity: 1;\"/></g><g class=\"text\"/></g><g class=\"trace scatter trace92f7d4\" style=\"stroke-miterlimit: 2; opacity: 1;\"><g class=\"fills\"/><g class=\"errorbars\"/><g class=\"lines\"/><g class=\"points\"><path class=\"point plotly-customdata\" transform=\"translate(47.5,306.69)\" d=\"M3,3H-3V-3H3Z\" style=\"opacity: 0.9; stroke-width: 0px; fill: rgb(228, 87, 86); fill-opacity: 1;\"/><path class=\"point plotly-customdata\" transform=\"translate(75.07,270.04)\" d=\"M3,3H-3V-3H3Z\" style=\"opacity: 0.9; stroke-width: 0px; fill: rgb(228, 87, 86); fill-opacity: 1;\"/><path class=\"point plotly-customdata\" transform=\"translate(90.42,284.04)\" d=\"M3,3H-3V-3H3Z\" style=\"opacity: 0.9; stroke-width: 0px; fill: rgb(228, 87, 86); fill-opacity: 1;\"/><path class=\"point plotly-customdata\" transform=\"translate(109.27,270.04)\" d=\"M3,3H-3V-3H3Z\" style=\"opacity: 0.9; stroke-width: 0px; fill: rgb(228, 87, 86); fill-opacity: 1;\"/><path class=\"point plotly-customdata\" transform=\"translate(129.64,259.88)\" d=\"M3,3H-3V-3H3Z\" style=\"opacity: 0.9; stroke-width: 0px; fill: rgb(228, 87, 86); fill-opacity: 1;\"/><path class=\"point plotly-customdata\" transform=\"translate(157.83,238.71)\" d=\"M3,3H-3V-3H3Z\" style=\"opacity: 0.9; stroke-width: 0px; fill: rgb(228, 87, 86); fill-opacity: 1;\"/><path class=\"point plotly-customdata\" transform=\"translate(194.72,216.52)\" d=\"M3,3H-3V-3H3Z\" style=\"opacity: 0.9; stroke-width: 0px; fill: rgb(228, 87, 86); fill-opacity: 1;\"/><path class=\"point plotly-customdata\" transform=\"translate(209.7,240.79)\" d=\"M3,3H-3V-3H3Z\" style=\"opacity: 0.9; stroke-width: 0px; fill: rgb(228, 87, 86); fill-opacity: 1;\"/><path class=\"point plotly-customdata\" transform=\"translate(223.09,239.73)\" d=\"M3,3H-3V-3H3Z\" style=\"opacity: 0.9; stroke-width: 0px; fill: rgb(228, 87, 86); fill-opacity: 1;\"/><path class=\"point plotly-customdata\" transform=\"translate(253.28,201.18)\" d=\"M3,3H-3V-3H3Z\" style=\"opacity: 0.9; stroke-width: 0px; fill: rgb(228, 87, 86); fill-opacity: 1;\"/><path class=\"point plotly-customdata\" transform=\"translate(297.21,173.3)\" d=\"M3,3H-3V-3H3Z\" style=\"opacity: 0.9; stroke-width: 0px; fill: rgb(228, 87, 86); fill-opacity: 1;\"/><path class=\"point plotly-customdata\" transform=\"translate(297.54,347.75)\" d=\"M3,3H-3V-3H3Z\" style=\"opacity: 0.9; stroke-width: 0px; fill: rgb(228, 87, 86); fill-opacity: 1;\"/><path class=\"point plotly-customdata\" transform=\"translate(317.73,190.62)\" d=\"M3,3H-3V-3H3Z\" style=\"opacity: 0.9; stroke-width: 0px; fill: rgb(228, 87, 86); fill-opacity: 1;\"/><path class=\"point plotly-customdata\" transform=\"translate(336.37,186.4)\" d=\"M3,3H-3V-3H3Z\" style=\"opacity: 0.9; stroke-width: 0px; fill: rgb(228, 87, 86); fill-opacity: 1;\"/><path class=\"point plotly-customdata\" transform=\"translate(350.24,191.46)\" d=\"M3,3H-3V-3H3Z\" style=\"opacity: 0.9; stroke-width: 0px; fill: rgb(228, 87, 86); fill-opacity: 1;\"/><path class=\"point plotly-customdata\" transform=\"translate(370.69,170.59)\" d=\"M3,3H-3V-3H3Z\" style=\"opacity: 0.9; stroke-width: 0px; fill: rgb(228, 87, 86); fill-opacity: 1;\"/><path class=\"point plotly-customdata\" transform=\"translate(389.85,165.7)\" d=\"M3,3H-3V-3H3Z\" style=\"opacity: 0.9; stroke-width: 0px; fill: rgb(228, 87, 86); fill-opacity: 1;\"/><path class=\"point plotly-customdata\" transform=\"translate(402.11,176.6)\" d=\"M3,3H-3V-3H3Z\" style=\"opacity: 0.9; stroke-width: 0px; fill: rgb(228, 87, 86); fill-opacity: 1;\"/><path class=\"point plotly-customdata\" transform=\"translate(418.77,159.76)\" d=\"M3,3H-3V-3H3Z\" style=\"opacity: 0.9; stroke-width: 0px; fill: rgb(228, 87, 86); fill-opacity: 1;\"/><path class=\"point plotly-customdata\" transform=\"translate(436.88,150.22)\" d=\"M3,3H-3V-3H3Z\" style=\"opacity: 0.9; stroke-width: 0px; fill: rgb(228, 87, 86); fill-opacity: 1;\"/></g><g class=\"text\"/></g><g class=\"trace scatter trace6a37cc\" style=\"stroke-miterlimit: 2; opacity: 1;\"><g class=\"fills\"/><g class=\"errorbars\"/><g class=\"lines\"/><g class=\"points\"><path class=\"point plotly-customdata\" transform=\"translate(86.46,249.13)\" d=\"M0,1.7l1.7,1.7l1.7,-1.7l-1.7,-1.7l1.7,-1.7l-1.7,-1.7l-1.7,1.7l-1.7,-1.7l-1.7,1.7l1.7,1.7l-1.7,1.7l1.7,1.7Z\" style=\"opacity: 0.9; stroke-width: 0px; fill: rgb(114, 183, 178); fill-opacity: 1;\"/><path class=\"point plotly-customdata\" transform=\"translate(100.29,284.04)\" d=\"M0,1.7l1.7,1.7l1.7,-1.7l-1.7,-1.7l1.7,-1.7l-1.7,-1.7l-1.7,1.7l-1.7,-1.7l-1.7,1.7l1.7,1.7l-1.7,1.7l1.7,1.7Z\" style=\"opacity: 0.9; stroke-width: 0px; fill: rgb(114, 183, 178); fill-opacity: 1;\"/><path class=\"point plotly-customdata\" transform=\"translate(125.15,254.89)\" d=\"M0,1.7l1.7,1.7l1.7,-1.7l-1.7,-1.7l1.7,-1.7l-1.7,-1.7l-1.7,1.7l-1.7,-1.7l-1.7,1.7l1.7,1.7l-1.7,1.7l1.7,1.7Z\" style=\"opacity: 0.9; stroke-width: 0px; fill: rgb(114, 183, 178); fill-opacity: 1;\"/><path class=\"point plotly-customdata\" transform=\"translate(150.24,245.32)\" d=\"M0,1.7l1.7,1.7l1.7,-1.7l-1.7,-1.7l1.7,-1.7l-1.7,-1.7l-1.7,1.7l-1.7,-1.7l-1.7,1.7l1.7,1.7l-1.7,1.7l1.7,1.7Z\" style=\"opacity: 0.9; stroke-width: 0px; fill: rgb(114, 183, 178); fill-opacity: 1;\"/><path class=\"point plotly-customdata\" transform=\"translate(174.34,237.71)\" d=\"M0,1.7l1.7,1.7l1.7,-1.7l-1.7,-1.7l1.7,-1.7l-1.7,-1.7l-1.7,1.7l-1.7,-1.7l-1.7,1.7l1.7,1.7l-1.7,1.7l1.7,1.7Z\" style=\"opacity: 0.9; stroke-width: 0px; fill: rgb(114, 183, 178); fill-opacity: 1;\"/><path class=\"point plotly-customdata\" transform=\"translate(219.18,201.55)\" d=\"M0,1.7l1.7,1.7l1.7,-1.7l-1.7,-1.7l1.7,-1.7l-1.7,-1.7l-1.7,1.7l-1.7,-1.7l-1.7,1.7l1.7,1.7l-1.7,1.7l1.7,1.7Z\" style=\"opacity: 0.9; stroke-width: 0px; fill: rgb(114, 183, 178); fill-opacity: 1;\"/><path class=\"point plotly-customdata\" transform=\"translate(238.56,221.27)\" d=\"M0,1.7l1.7,1.7l1.7,-1.7l-1.7,-1.7l1.7,-1.7l-1.7,-1.7l-1.7,1.7l-1.7,-1.7l-1.7,1.7l1.7,1.7l-1.7,1.7l1.7,1.7Z\" style=\"opacity: 0.9; stroke-width: 0px; fill: rgb(114, 183, 178); fill-opacity: 1;\"/><path class=\"point plotly-customdata\" transform=\"translate(260.26,209.43)\" d=\"M0,1.7l1.7,1.7l1.7,-1.7l-1.7,-1.7l1.7,-1.7l-1.7,-1.7l-1.7,1.7l-1.7,-1.7l-1.7,1.7l1.7,1.7l-1.7,1.7l1.7,1.7Z\" style=\"opacity: 0.9; stroke-width: 0px; fill: rgb(114, 183, 178); fill-opacity: 1;\"/><path class=\"point plotly-customdata\" transform=\"translate(280.32,204.67)\" d=\"M0,1.7l1.7,1.7l1.7,-1.7l-1.7,-1.7l1.7,-1.7l-1.7,-1.7l-1.7,1.7l-1.7,-1.7l-1.7,1.7l1.7,1.7l-1.7,1.7l1.7,1.7Z\" style=\"opacity: 0.9; stroke-width: 0px; fill: rgb(114, 183, 178); fill-opacity: 1;\"/><path class=\"point plotly-customdata\" transform=\"translate(298.04,202.31)\" d=\"M0,1.7l1.7,1.7l1.7,-1.7l-1.7,-1.7l1.7,-1.7l-1.7,-1.7l-1.7,1.7l-1.7,-1.7l-1.7,1.7l1.7,1.7l-1.7,1.7l1.7,1.7Z\" style=\"opacity: 0.9; stroke-width: 0px; fill: rgb(114, 183, 178); fill-opacity: 1;\"/><path class=\"point plotly-customdata\" transform=\"translate(308.44,217.08)\" d=\"M0,1.7l1.7,1.7l1.7,-1.7l-1.7,-1.7l1.7,-1.7l-1.7,-1.7l-1.7,1.7l-1.7,-1.7l-1.7,1.7l1.7,1.7l-1.7,1.7l1.7,1.7Z\" style=\"opacity: 0.9; stroke-width: 0px; fill: rgb(114, 183, 178); fill-opacity: 1;\"/><path class=\"point plotly-customdata\" transform=\"translate(324.84,195.05)\" d=\"M0,1.7l1.7,1.7l1.7,-1.7l-1.7,-1.7l1.7,-1.7l-1.7,-1.7l-1.7,1.7l-1.7,-1.7l-1.7,1.7l1.7,1.7l-1.7,1.7l1.7,1.7Z\" style=\"opacity: 0.9; stroke-width: 0px; fill: rgb(114, 183, 178); fill-opacity: 1;\"/><path class=\"point plotly-customdata\" transform=\"translate(338.39,196.66)\" d=\"M0,1.7l1.7,1.7l1.7,-1.7l-1.7,-1.7l1.7,-1.7l-1.7,-1.7l-1.7,1.7l-1.7,-1.7l-1.7,1.7l1.7,1.7l-1.7,1.7l1.7,1.7Z\" style=\"opacity: 0.9; stroke-width: 0px; fill: rgb(114, 183, 178); fill-opacity: 1;\"/><path class=\"point plotly-customdata\" transform=\"translate(350.74,195.37)\" d=\"M0,1.7l1.7,1.7l1.7,-1.7l-1.7,-1.7l1.7,-1.7l-1.7,-1.7l-1.7,1.7l-1.7,-1.7l-1.7,1.7l1.7,1.7l-1.7,1.7l1.7,1.7Z\" style=\"opacity: 0.9; stroke-width: 0px; fill: rgb(114, 183, 178); fill-opacity: 1;\"/><path class=\"point plotly-customdata\" transform=\"translate(368.89,175.28)\" d=\"M0,1.7l1.7,1.7l1.7,-1.7l-1.7,-1.7l1.7,-1.7l-1.7,-1.7l-1.7,1.7l-1.7,-1.7l-1.7,1.7l1.7,1.7l-1.7,1.7l1.7,1.7Z\" style=\"opacity: 0.9; stroke-width: 0px; fill: rgb(114, 183, 178); fill-opacity: 1;\"/><path class=\"point plotly-customdata\" transform=\"translate(382.43,180.43)\" d=\"M0,1.7l1.7,1.7l1.7,-1.7l-1.7,-1.7l1.7,-1.7l-1.7,-1.7l-1.7,1.7l-1.7,-1.7l-1.7,1.7l1.7,1.7l-1.7,1.7l1.7,1.7Z\" style=\"opacity: 0.9; stroke-width: 0px; fill: rgb(114, 183, 178); fill-opacity: 1;\"/><path class=\"point plotly-customdata\" transform=\"translate(399.04,167.16)\" d=\"M0,1.7l1.7,1.7l1.7,-1.7l-1.7,-1.7l1.7,-1.7l-1.7,-1.7l-1.7,1.7l-1.7,-1.7l-1.7,1.7l1.7,1.7l-1.7,1.7l1.7,1.7Z\" style=\"opacity: 0.9; stroke-width: 0px; fill: rgb(114, 183, 178); fill-opacity: 1;\"/><path class=\"point plotly-customdata\" transform=\"translate(409.97,177.76)\" d=\"M0,1.7l1.7,1.7l1.7,-1.7l-1.7,-1.7l1.7,-1.7l-1.7,-1.7l-1.7,1.7l-1.7,-1.7l-1.7,1.7l1.7,1.7l-1.7,1.7l1.7,1.7Z\" style=\"opacity: 0.9; stroke-width: 0px; fill: rgb(114, 183, 178); fill-opacity: 1;\"/><path class=\"point plotly-customdata\" transform=\"translate(423.15,166.28)\" d=\"M0,1.7l1.7,1.7l1.7,-1.7l-1.7,-1.7l1.7,-1.7l-1.7,-1.7l-1.7,1.7l-1.7,-1.7l-1.7,1.7l1.7,1.7l-1.7,1.7l1.7,1.7Z\" style=\"opacity: 0.9; stroke-width: 0px; fill: rgb(114, 183, 178); fill-opacity: 1;\"/><path class=\"point plotly-customdata\" transform=\"translate(439.45,152.86)\" d=\"M0,1.7l1.7,1.7l1.7,-1.7l-1.7,-1.7l1.7,-1.7l-1.7,-1.7l-1.7,1.7l-1.7,-1.7l-1.7,1.7l1.7,1.7l-1.7,1.7l1.7,1.7Z\" style=\"opacity: 0.9; stroke-width: 0px; fill: rgb(114, 183, 178); fill-opacity: 1;\"/><path class=\"point plotly-customdata\" transform=\"translate(444.09,196.01)\" d=\"M0,1.7l1.7,1.7l1.7,-1.7l-1.7,-1.7l1.7,-1.7l-1.7,-1.7l-1.7,1.7l-1.7,-1.7l-1.7,1.7l1.7,1.7l-1.7,1.7l1.7,1.7Z\" style=\"opacity: 0.9; stroke-width: 0px; fill: rgb(114, 183, 178); fill-opacity: 1;\"/><path class=\"point plotly-customdata\" transform=\"translate(465.9,133.19)\" d=\"M0,1.7l1.7,1.7l1.7,-1.7l-1.7,-1.7l1.7,-1.7l-1.7,-1.7l-1.7,1.7l-1.7,-1.7l-1.7,1.7l1.7,1.7l-1.7,1.7l1.7,1.7Z\" style=\"opacity: 0.9; stroke-width: 0px; fill: rgb(114, 183, 178); fill-opacity: 1;\"/><path class=\"point plotly-customdata\" transform=\"translate(482.21,137.04)\" d=\"M0,1.7l1.7,1.7l1.7,-1.7l-1.7,-1.7l1.7,-1.7l-1.7,-1.7l-1.7,1.7l-1.7,-1.7l-1.7,1.7l1.7,1.7l-1.7,1.7l1.7,1.7Z\" style=\"opacity: 0.9; stroke-width: 0px; fill: rgb(114, 183, 178); fill-opacity: 1;\"/><path class=\"point plotly-customdata\" transform=\"translate(495.76,138.46)\" d=\"M0,1.7l1.7,1.7l1.7,-1.7l-1.7,-1.7l1.7,-1.7l-1.7,-1.7l-1.7,1.7l-1.7,-1.7l-1.7,1.7l1.7,1.7l-1.7,1.7l1.7,1.7Z\" style=\"opacity: 0.9; stroke-width: 0px; fill: rgb(114, 183, 178); fill-opacity: 1;\"/><path class=\"point plotly-customdata\" transform=\"translate(508.62,135.54)\" d=\"M0,1.7l1.7,1.7l1.7,-1.7l-1.7,-1.7l1.7,-1.7l-1.7,-1.7l-1.7,1.7l-1.7,-1.7l-1.7,1.7l1.7,1.7l-1.7,1.7l1.7,1.7Z\" style=\"opacity: 0.9; stroke-width: 0px; fill: rgb(114, 183, 178); fill-opacity: 1;\"/><path class=\"point plotly-customdata\" transform=\"translate(514.29,162.68)\" d=\"M0,1.7l1.7,1.7l1.7,-1.7l-1.7,-1.7l1.7,-1.7l-1.7,-1.7l-1.7,1.7l-1.7,-1.7l-1.7,1.7l1.7,1.7l-1.7,1.7l1.7,1.7Z\" style=\"opacity: 0.9; stroke-width: 0px; fill: rgb(114, 183, 178); fill-opacity: 1;\"/><path class=\"point plotly-customdata\" transform=\"translate(516.47,196.99)\" d=\"M0,1.7l1.7,1.7l1.7,-1.7l-1.7,-1.7l1.7,-1.7l-1.7,-1.7l-1.7,1.7l-1.7,-1.7l-1.7,1.7l1.7,1.7l-1.7,1.7l1.7,1.7Z\" style=\"opacity: 0.9; stroke-width: 0px; fill: rgb(114, 183, 178); fill-opacity: 1;\"/><path class=\"point plotly-customdata\" transform=\"translate(521.97,161)\" d=\"M0,1.7l1.7,1.7l1.7,-1.7l-1.7,-1.7l1.7,-1.7l-1.7,-1.7l-1.7,1.7l-1.7,-1.7l-1.7,1.7l1.7,1.7l-1.7,1.7l1.7,1.7Z\" style=\"opacity: 0.9; stroke-width: 0px; fill: rgb(114, 183, 178); fill-opacity: 1;\"/><path class=\"point plotly-customdata\" transform=\"translate(538.56,115.62)\" d=\"M0,1.7l1.7,1.7l1.7,-1.7l-1.7,-1.7l1.7,-1.7l-1.7,-1.7l-1.7,1.7l-1.7,-1.7l-1.7,1.7l1.7,1.7l-1.7,1.7l1.7,1.7Z\" style=\"opacity: 0.9; stroke-width: 0px; fill: rgb(114, 183, 178); fill-opacity: 1;\"/><path class=\"point plotly-customdata\" transform=\"translate(544.24,151.57)\" d=\"M0,1.7l1.7,1.7l1.7,-1.7l-1.7,-1.7l1.7,-1.7l-1.7,-1.7l-1.7,1.7l-1.7,-1.7l-1.7,1.7l1.7,1.7l-1.7,1.7l1.7,1.7Z\" style=\"opacity: 0.9; stroke-width: 0px; fill: rgb(114, 183, 178); fill-opacity: 1;\"/><path class=\"point plotly-customdata\" transform=\"translate(551.67,139.09)\" d=\"M0,1.7l1.7,1.7l1.7,-1.7l-1.7,-1.7l1.7,-1.7l-1.7,-1.7l-1.7,1.7l-1.7,-1.7l-1.7,1.7l1.7,1.7l-1.7,1.7l1.7,1.7Z\" style=\"opacity: 0.9; stroke-width: 0px; fill: rgb(114, 183, 178); fill-opacity: 1;\"/></g><g class=\"text\"/></g></g></g><g class=\"overplot\"/><path class=\"xlines-above crisp\" d=\"\" style=\"fill: none; stroke-width: 1px; stroke: rgb(0, 0, 0); stroke-opacity: 0;\"/><path class=\"ylines-above crisp\" d=\"\" style=\"fill: none; stroke-width: 1px; stroke: rgb(0, 0, 0); stroke-opacity: 0;\"/><g class=\"overlines-above\"/><g class=\"xaxislayer-above\"><path class=\"xtick ticks crisp\" d=\"M0,471v5\" transform=\"translate(125.5,0)\" style=\"stroke: rgb(51, 51, 51); stroke-opacity: 1; stroke-width: 1px;\"/><path class=\"xtick ticks crisp\" d=\"M0,471v5\" transform=\"translate(195.51999999999998,0)\" style=\"stroke: rgb(51, 51, 51); stroke-opacity: 1; stroke-width: 1px;\"/><path class=\"xtick ticks crisp\" d=\"M0,471v5\" transform=\"translate(265.55,0)\" style=\"stroke: rgb(51, 51, 51); stroke-opacity: 1; stroke-width: 1px;\"/><path class=\"xtick ticks crisp\" d=\"M0,471v5\" transform=\"translate(358.12,0)\" style=\"stroke: rgb(51, 51, 51); stroke-opacity: 1; stroke-width: 1px;\"/><path class=\"xtick ticks crisp\" d=\"M0,471v5\" transform=\"translate(428.14,0)\" style=\"stroke: rgb(51, 51, 51); stroke-opacity: 1; stroke-width: 1px;\"/><path class=\"xtick ticks crisp\" d=\"M0,471v5\" transform=\"translate(498.17,0)\" style=\"stroke: rgb(51, 51, 51); stroke-opacity: 1; stroke-width: 1px;\"/><path class=\"xtick ticks crisp\" d=\"M0,471v5\" transform=\"translate(590.74,0)\" style=\"stroke: rgb(51, 51, 51); stroke-opacity: 1; stroke-width: 1px;\"/><path class=\"xtick ticks crisp\" d=\"M0,471v5\" transform=\"translate(660.76,0)\" style=\"stroke: rgb(51, 51, 51); stroke-opacity: 1; stroke-width: 1px;\"/><path class=\"xtick ticks crisp\" d=\"M0,471v5\" transform=\"translate(730.79,0)\" style=\"stroke: rgb(51, 51, 51); stroke-opacity: 1; stroke-width: 1px;\"/><path class=\"xtick ticks crisp\" d=\"M0,471v5\" transform=\"translate(823.36,0)\" style=\"stroke: rgb(51, 51, 51); stroke-opacity: 1; stroke-width: 1px;\"/><path class=\"xtick ticks crisp\" d=\"M0,471v5\" transform=\"translate(893.38,0)\" style=\"stroke: rgb(51, 51, 51); stroke-opacity: 1; stroke-width: 1px;\"/><g class=\"xtick\"><text text-anchor=\"middle\" x=\"0\" y=\"487.4\" transform=\"translate(125.5,0)\" style=\"font-family: 'Open Sans', verdana, arial, sans-serif; font-size: 9px; fill: rgb(51, 51, 51); fill-opacity: 1; white-space: pre;\">5</text></g><g class=\"xtick\"><text text-anchor=\"middle\" x=\"0\" y=\"490.4\" transform=\"translate(195.51999999999998,0)\" style=\"font-family: 'Open Sans', verdana, arial, sans-serif; font-size: 12px; fill: rgb(51, 51, 51); fill-opacity: 1; white-space: pre;\">100</text></g><g class=\"xtick\"><text text-anchor=\"middle\" x=\"0\" y=\"487.4\" transform=\"translate(265.55,0)\" style=\"font-family: 'Open Sans', verdana, arial, sans-serif; font-size: 9px; fill: rgb(51, 51, 51); fill-opacity: 1; white-space: pre;\">2</text></g><g class=\"xtick\"><text text-anchor=\"middle\" x=\"0\" y=\"487.4\" transform=\"translate(358.12,0)\" style=\"font-family: 'Open Sans', verdana, arial, sans-serif; font-size: 9px; fill: rgb(51, 51, 51); fill-opacity: 1; white-space: pre;\">5</text></g><g class=\"xtick\"><text text-anchor=\"middle\" x=\"0\" y=\"490.4\" transform=\"translate(428.14,0)\" style=\"font-family: 'Open Sans', verdana, arial, sans-serif; font-size: 12px; fill: rgb(51, 51, 51); fill-opacity: 1; white-space: pre;\">1000</text></g><g class=\"xtick\"><text text-anchor=\"middle\" x=\"0\" y=\"487.4\" transform=\"translate(498.17,0)\" style=\"font-family: 'Open Sans', verdana, arial, sans-serif; font-size: 9px; fill: rgb(51, 51, 51); fill-opacity: 1; white-space: pre;\">2</text></g><g class=\"xtick\"><text text-anchor=\"middle\" x=\"0\" y=\"487.4\" transform=\"translate(590.74,0)\" style=\"font-family: 'Open Sans', verdana, arial, sans-serif; font-size: 9px; fill: rgb(51, 51, 51); fill-opacity: 1; white-space: pre;\">5</text></g><g class=\"xtick\"><text text-anchor=\"middle\" x=\"0\" y=\"490.4\" transform=\"translate(660.76,0)\" style=\"font-family: 'Open Sans', verdana, arial, sans-serif; font-size: 12px; fill: rgb(51, 51, 51); fill-opacity: 1; white-space: pre;\">10k</text></g><g class=\"xtick\"><text text-anchor=\"middle\" x=\"0\" y=\"487.4\" transform=\"translate(730.79,0)\" style=\"font-family: 'Open Sans', verdana, arial, sans-serif; font-size: 9px; fill: rgb(51, 51, 51); fill-opacity: 1; white-space: pre;\">2</text></g><g class=\"xtick\"><text text-anchor=\"middle\" x=\"0\" y=\"487.4\" transform=\"translate(823.36,0)\" style=\"font-family: 'Open Sans', verdana, arial, sans-serif; font-size: 9px; fill: rgb(51, 51, 51); fill-opacity: 1; white-space: pre;\">5</text></g><g class=\"xtick\"><text text-anchor=\"middle\" x=\"0\" y=\"490.4\" transform=\"translate(893.38,0)\" style=\"font-family: 'Open Sans', verdana, arial, sans-serif; font-size: 12px; fill: rgb(51, 51, 51); fill-opacity: 1; white-space: pre;\">100k</text></g></g><g class=\"yaxislayer-above\"><path class=\"ytick ticks crisp\" d=\"M79,0h-5\" transform=\"translate(0,447.75)\" style=\"stroke: rgb(51, 51, 51); stroke-opacity: 1; stroke-width: 1px;\"/><path class=\"ytick ticks crisp\" d=\"M79,0h-5\" transform=\"translate(0,413.51)\" style=\"stroke: rgb(51, 51, 51); stroke-opacity: 1; stroke-width: 1px;\"/><path class=\"ytick ticks crisp\" d=\"M79,0h-5\" transform=\"translate(0,387.6)\" style=\"stroke: rgb(51, 51, 51); stroke-opacity: 1; stroke-width: 1px;\"/><path class=\"ytick ticks crisp\" d=\"M79,0h-5\" transform=\"translate(0,361.7)\" style=\"stroke: rgb(51, 51, 51); stroke-opacity: 1; stroke-width: 1px;\"/><path class=\"ytick ticks crisp\" d=\"M79,0h-5\" transform=\"translate(0,327.46000000000004)\" style=\"stroke: rgb(51, 51, 51); stroke-opacity: 1; stroke-width: 1px;\"/><path class=\"ytick ticks crisp\" d=\"M79,0h-5\" transform=\"translate(0,301.55)\" style=\"stroke: rgb(51, 51, 51); stroke-opacity: 1; stroke-width: 1px;\"/><path class=\"ytick ticks crisp\" d=\"M79,0h-5\" transform=\"translate(0,275.65)\" style=\"stroke: rgb(51, 51, 51); stroke-opacity: 1; stroke-width: 1px;\"/><path class=\"ytick ticks crisp\" d=\"M79,0h-5\" transform=\"translate(0,241.41)\" style=\"stroke: rgb(51, 51, 51); stroke-opacity: 1; stroke-width: 1px;\"/><path class=\"ytick ticks crisp\" d=\"M79,0h-5\" transform=\"translate(0,215.5)\" style=\"stroke: rgb(51, 51, 51); stroke-opacity: 1; stroke-width: 1px;\"/><path class=\"ytick ticks crisp\" d=\"M79,0h-5\" transform=\"translate(0,189.6)\" style=\"stroke: rgb(51, 51, 51); stroke-opacity: 1; stroke-width: 1px;\"/><path class=\"ytick ticks crisp\" d=\"M79,0h-5\" transform=\"translate(0,155.36)\" style=\"stroke: rgb(51, 51, 51); stroke-opacity: 1; stroke-width: 1px;\"/><path class=\"ytick ticks crisp\" d=\"M79,0h-5\" transform=\"translate(0,129.45)\" style=\"stroke: rgb(51, 51, 51); stroke-opacity: 1; stroke-width: 1px;\"/><path class=\"ytick ticks crisp\" d=\"M79,0h-5\" transform=\"translate(0,103.55)\" style=\"stroke: rgb(51, 51, 51); stroke-opacity: 1; stroke-width: 1px;\"/><g class=\"ytick\"><text text-anchor=\"end\" x=\"71.6\" y=\"3.15\" transform=\"translate(0,447.75)\" style=\"font-family: 'Open Sans', verdana, arial, sans-serif; font-size: 9px; fill: rgb(51, 51, 51); fill-opacity: 1; white-space: pre;\">2</text></g><g class=\"ytick\"><text text-anchor=\"end\" x=\"71.6\" y=\"3.15\" transform=\"translate(0,413.51)\" style=\"font-family: 'Open Sans', verdana, arial, sans-serif; font-size: 9px; fill: rgb(51, 51, 51); fill-opacity: 1; white-space: pre;\">5</text></g><g class=\"ytick\"><text text-anchor=\"end\" x=\"71.6\" y=\"4.199999999999999\" transform=\"translate(0,387.6)\" style=\"font-family: 'Open Sans', verdana, arial, sans-serif; font-size: 12px; fill: rgb(51, 51, 51); fill-opacity: 1; white-space: pre;\">10</text></g><g class=\"ytick\"><text text-anchor=\"end\" x=\"71.6\" y=\"3.15\" transform=\"translate(0,361.7)\" style=\"font-family: 'Open Sans', verdana, arial, sans-serif; font-size: 9px; fill: rgb(51, 51, 51); fill-opacity: 1; white-space: pre;\">2</text></g><g class=\"ytick\"><text text-anchor=\"end\" x=\"71.6\" y=\"3.15\" transform=\"translate(0,327.46000000000004)\" style=\"font-family: 'Open Sans', verdana, arial, sans-serif; font-size: 9px; fill: rgb(51, 51, 51); fill-opacity: 1; white-space: pre;\">5</text></g><g class=\"ytick\"><text text-anchor=\"end\" x=\"71.6\" y=\"4.199999999999999\" transform=\"translate(0,301.55)\" style=\"font-family: 'Open Sans', verdana, arial, sans-serif; font-size: 12px; fill: rgb(51, 51, 51); fill-opacity: 1; white-space: pre;\">100</text></g><g class=\"ytick\"><text text-anchor=\"end\" x=\"71.6\" y=\"3.15\" transform=\"translate(0,275.65)\" style=\"font-family: 'Open Sans', verdana, arial, sans-serif; font-size: 9px; fill: rgb(51, 51, 51); fill-opacity: 1; white-space: pre;\">2</text></g><g class=\"ytick\"><text text-anchor=\"end\" x=\"71.6\" y=\"3.15\" transform=\"translate(0,241.41)\" style=\"font-family: 'Open Sans', verdana, arial, sans-serif; font-size: 9px; fill: rgb(51, 51, 51); fill-opacity: 1; white-space: pre;\">5</text></g><g class=\"ytick\"><text text-anchor=\"end\" x=\"71.6\" y=\"4.199999999999999\" transform=\"translate(0,215.5)\" style=\"font-family: 'Open Sans', verdana, arial, sans-serif; font-size: 12px; fill: rgb(51, 51, 51); fill-opacity: 1; white-space: pre;\">1000</text></g><g class=\"ytick\"><text text-anchor=\"end\" x=\"71.6\" y=\"3.15\" transform=\"translate(0,189.6)\" style=\"font-family: 'Open Sans', verdana, arial, sans-serif; font-size: 9px; fill: rgb(51, 51, 51); fill-opacity: 1; white-space: pre;\">2</text></g><g class=\"ytick\"><text text-anchor=\"end\" x=\"71.6\" y=\"3.15\" transform=\"translate(0,155.36)\" style=\"font-family: 'Open Sans', verdana, arial, sans-serif; font-size: 9px; fill: rgb(51, 51, 51); fill-opacity: 1; white-space: pre;\">5</text></g><g class=\"ytick\"><text text-anchor=\"end\" x=\"71.6\" y=\"4.199999999999999\" transform=\"translate(0,129.45)\" style=\"font-family: 'Open Sans', verdana, arial, sans-serif; font-size: 12px; fill: rgb(51, 51, 51); fill-opacity: 1; white-space: pre;\">10k</text></g><g class=\"ytick\"><text text-anchor=\"end\" x=\"71.6\" y=\"3.15\" transform=\"translate(0,103.55)\" style=\"font-family: 'Open Sans', verdana, arial, sans-serif; font-size: 9px; fill: rgb(51, 51, 51); fill-opacity: 1; white-space: pre;\">2</text></g></g><g class=\"overaxes-above\"/></g></g><g class=\"polarlayer\"/><g class=\"ternarylayer\"/><g class=\"geolayer\"/><g class=\"funnelarealayer\"/><g class=\"pielayer\"/><g class=\"treemaplayer\"/><g class=\"sunburstlayer\"/><g class=\"glimages\"/><defs id=\"topdefs-0383a8\"><g class=\"clips\"/><clipPath id=\"legend0383a8\"><rect width=\"116\" height=\"102\" x=\"0\" y=\"0\"/></clipPath></defs><g class=\"layer-above\"><g class=\"imagelayer\"/><g class=\"shapelayer\"/></g><g class=\"infolayer\"><g class=\"legend\" pointer-events=\"all\" transform=\"translate(972.5, 100)\"><rect class=\"bg\" shape-rendering=\"crispEdges\" width=\"116\" height=\"102\" x=\"0\" y=\"0\" style=\"stroke: rgb(68, 68, 68); stroke-opacity: 1; fill: rgb(255, 255, 255); fill-opacity: 1; stroke-width: 0px;\"/><g class=\"scrollbox\" transform=\"translate(0, 0)\" clip-path=\"url('#legend0383a8')\"><text class=\"legendtitletext user-select-none\" text-anchor=\"start\" x=\"2\" y=\"15.600000000000001\" style=\"font-family: 'Open Sans', verdana, arial, sans-serif; font-size: 12px; fill: rgb(51, 51, 51); fill-opacity: 1; white-space: pre;\">State</text><g class=\"groups\" transform=\"translate(0, 0)\"><g class=\"traces\" transform=\"translate(0, 30.1)\" style=\"opacity: 1;\"><text class=\"legendtext user-select-none\" text-anchor=\"start\" x=\"40\" y=\"4.680000000000001\" style=\"font-family: 'Open Sans', verdana, arial, sans-serif; font-size: 12px; fill: rgb(51, 51, 51); fill-opacity: 1; white-space: pre;\">Florida</text><g class=\"layers\" style=\"opacity: 1;\"><g class=\"legendfill\"/><g class=\"legendlines\"/><g class=\"legendsymbols\"><g class=\"legendpoints\"><path class=\"scatterpts\" transform=\"translate(20,0)\" d=\"M3,0A3,3 0 1,1 0,-3A3,3 0 0,1 3,0Z\" style=\"opacity: 0.9; stroke-width: 0px; fill: rgb(76, 120, 168); fill-opacity: 1;\"/></g></g></g><rect class=\"legendtoggle\" pointer-events=\"all\" x=\"0\" y=\"-9.5\" width=\"110.890625\" height=\"19\" style=\"cursor: pointer; fill: rgb(0, 0, 0); fill-opacity: 0;\"/></g></g><g class=\"groups\" transform=\"translate(0, 0)\"><g class=\"traces\" transform=\"translate(0, 49.1)\" style=\"opacity: 1;\"><text class=\"legendtext user-select-none\" text-anchor=\"start\" x=\"40\" y=\"4.680000000000001\" style=\"font-family: 'Open Sans', verdana, arial, sans-serif; font-size: 12px; fill: rgb(51, 51, 51); fill-opacity: 1; white-space: pre;\">New York</text><g class=\"layers\" style=\"opacity: 1;\"><g class=\"legendfill\"/><g class=\"legendlines\"/><g class=\"legendsymbols\"><g class=\"legendpoints\"><path class=\"scatterpts\" transform=\"translate(20,0)\" d=\"M3.9,0L0,3.9L-3.9,0L0,-3.9Z\" style=\"opacity: 0.9; stroke-width: 0px; fill: rgb(245, 133, 24); fill-opacity: 1;\"/></g></g></g><rect class=\"legendtoggle\" pointer-events=\"all\" x=\"0\" y=\"-9.5\" width=\"110.890625\" height=\"19\" style=\"cursor: pointer; fill: rgb(0, 0, 0); fill-opacity: 0;\"/></g></g><g class=\"groups\" transform=\"translate(0, 0)\"><g class=\"traces\" transform=\"translate(0, 68.1)\" style=\"opacity: 1;\"><text class=\"legendtext user-select-none\" text-anchor=\"start\" x=\"40\" y=\"4.680000000000001\" style=\"font-family: 'Open Sans', verdana, arial, sans-serif; font-size: 12px; fill: rgb(51, 51, 51); fill-opacity: 1; white-space: pre;\">Virginia</text><g class=\"layers\" style=\"opacity: 1;\"><g class=\"legendfill\"/><g class=\"legendlines\"/><g class=\"legendsymbols\"><g class=\"legendpoints\"><path class=\"scatterpts\" transform=\"translate(20,0)\" d=\"M3,3H-3V-3H3Z\" style=\"opacity: 0.9; stroke-width: 0px; fill: rgb(228, 87, 86); fill-opacity: 1;\"/></g></g></g><rect class=\"legendtoggle\" pointer-events=\"all\" x=\"0\" y=\"-9.5\" width=\"110.890625\" height=\"19\" style=\"cursor: pointer; fill: rgb(0, 0, 0); fill-opacity: 0;\"/></g></g><g class=\"groups\" transform=\"translate(0, 0)\"><g class=\"traces\" transform=\"translate(0, 87.1)\" style=\"opacity: 1;\"><text class=\"legendtext user-select-none\" text-anchor=\"start\" x=\"40\" y=\"4.680000000000001\" style=\"font-family: 'Open Sans', verdana, arial, sans-serif; font-size: 12px; fill: rgb(51, 51, 51); fill-opacity: 1; white-space: pre;\">Washington</text><g class=\"layers\" style=\"opacity: 1;\"><g class=\"legendfill\"/><g class=\"legendlines\"/><g class=\"legendsymbols\"><g class=\"legendpoints\"><path class=\"scatterpts\" transform=\"translate(20,0)\" d=\"M0,1.7l1.7,1.7l1.7,-1.7l-1.7,-1.7l1.7,-1.7l-1.7,-1.7l-1.7,1.7l-1.7,-1.7l-1.7,1.7l1.7,1.7l-1.7,1.7l1.7,1.7Z\" style=\"opacity: 0.9; stroke-width: 0px; fill: rgb(114, 183, 178); fill-opacity: 1;\"/></g></g></g><rect class=\"legendtoggle\" pointer-events=\"all\" x=\"0\" y=\"-9.5\" width=\"110.890625\" height=\"19\" style=\"cursor: pointer; fill: rgb(0, 0, 0); fill-opacity: 0;\"/></g></g></g><rect class=\"scrollbar\" rx=\"20\" ry=\"3\" width=\"0\" height=\"0\" x=\"0\" y=\"0\" style=\"fill: rgb(128, 139, 164); fill-opacity: 1;\"/></g><g class=\"g-gtitle\"><text class=\"gtitle\" x=\"550\" y=\"50\" text-anchor=\"middle\" dy=\"0em\" style=\"font-family: 'Open Sans', verdana, arial, sans-serif; font-size: 17px; fill: rgb(51, 51, 51); opacity: 1; font-weight: normal; white-space: pre;\">New Confirmed Cases vs Cumulative Cases Per Day (Logged, US States)</text></g><g class=\"g-xtitle\"><text class=\"xtitle\" x=\"517.5\" y=\"517.70625\" text-anchor=\"middle\" style=\"font-family: 'Open Sans', verdana, arial, sans-serif; font-size: 14px; fill: rgb(51, 51, 51); opacity: 1; font-weight: normal; white-space: pre;\">Confirmed</text></g><g class=\"g-ytitle\"><text class=\"ytitle\" transform=\"rotate(-90,16.278125000000003,285)\" x=\"16.278125000000003\" y=\"285\" text-anchor=\"middle\" style=\"font-family: 'Open Sans', verdana, arial, sans-serif; font-size: 14px; fill: rgb(51, 51, 51); opacity: 1; font-weight: normal; white-space: pre;\">NewConfirmed</text></g></g></svg>"
      ]
     },
     "metadata": {},
     "output_type": "display_data"
    }
   ],
   "source": [
    "# Conducting a similar analysis applied towards US states:\n",
    "statesToPlot = ['New York', 'Washington', 'Lousiana', 'Virginia', 'Florida']\n",
    "fig =   px.scatter(data_frame=df_state[df_state.State.isin(statesToPlot)].loc[df_state.Confirmed>50], \n",
    "                   x='Confirmed', y='NewConfirmed', color='State', symbol='State',\n",
    "                   log_x=True,log_y=True, labels={'y':'Daily New Cases', 'x':'Cumulative Confirmed Cases'},\n",
    "                   hover_name='Date', hover_data=['State','DaysElapsed','Date','EpidemicStartDate'],\n",
    "                   title='New Confirmed Cases vs Cumulative Cases Per Day (Logged, US States)', template='ggplot2', \n",
    "                   color_discrete_sequence= px.colors.qualitative.T10, opacity=0.9\n",
    "#                    color_continuous_scale='Teal_r', \n",
    "                  )\n",
    "fig.update(layout_coloraxis_showscale=False)\n",
    "fig.show(renderer='svg', width=1100, height=550)"
   ]
  },
  {
   "cell_type": "markdown",
   "metadata": {},
   "source": [
    "## Some time series plots"
   ]
  },
  {
   "cell_type": "markdown",
   "metadata": {},
   "source": [
    "### Confirmed cases in US States with governor lockdown measures \n",
    "Containment is a critical measure in reducing effective reproductive number of the virus. Most early-stage growth models can be viewed as a piecewise composition of a basic reproduction number ($R_0$) and a second effective reproduction number($R_e$). A team at the University of Toronto has a great article and corresponding dashboard explaining this concept: https://annals.org/aim/fullarticle/2760912/reporting-epidemic-growth-reproduction-numbers-2019-novel-coronavirus-2019-ncov. \n",
    "US states have undergone containment measures in different timelines. Assuming a delay comprised of a biological incubation, delay for testing & recording, we can expect to see tangible changes to ($R_e$) roughly two weeks post."
   ]
  },
  {
   "cell_type": "code",
   "execution_count": 47,
   "metadata": {
    "scrolled": false
   },
   "outputs": [
    {
     "name": "stdout",
     "output_type": "stream",
     "text": [
      "New York entered containment on 2020-03-23\n",
      "New Jersey entered containment on 2020-03-22\n",
      "Washington entered containment on 2020-03-23\n",
      "Virginia entered containment on 2020-03-30\n"
     ]
    },
    {
     "data": {
      "image/svg+xml": [
       "<svg class=\"main-svg\" xmlns=\"http://www.w3.org/2000/svg\" xmlns:xlink=\"http://www.w3.org/1999/xlink\" width=\"1100\" height=\"550\" style=\"\" viewBox=\"0 0 1100 550\"><rect x=\"0\" y=\"0\" width=\"1100\" height=\"550\" style=\"fill: rgb(255, 255, 255); fill-opacity: 1;\"/><defs id=\"defs-8bfee0\"><g class=\"clips\"><clipPath id=\"clip8bfee0xyplot\" class=\"plotclip\"><rect width=\"875\" height=\"370\"/></clipPath><clipPath class=\"axesclip\" id=\"clip8bfee0x\"><rect x=\"80\" y=\"0\" width=\"875\" height=\"550\"/></clipPath><clipPath class=\"axesclip\" id=\"clip8bfee0y\"><rect x=\"0\" y=\"100\" width=\"1100\" height=\"370\"/></clipPath><clipPath class=\"axesclip\" id=\"clip8bfee0xy\"><rect x=\"80\" y=\"100\" width=\"875\" height=\"370\"/></clipPath></g><g class=\"gradients\"/></defs><g class=\"bglayer\"><rect class=\"bg\" x=\"80\" y=\"100\" width=\"875\" height=\"370\" style=\"fill: rgb(237, 237, 237); fill-opacity: 1; stroke-width: 0;\"/></g><g class=\"layer-below\"><g class=\"imagelayer\"/><g class=\"shapelayer\"/></g><g class=\"cartesianlayer\"><g class=\"subplot xy\"><g class=\"layer-subplot\"><g class=\"shapelayer\"/><g class=\"imagelayer\"/></g><g class=\"gridlayer\"><g class=\"x\"><path class=\"xgrid crisp\" transform=\"translate(127.5,0)\" d=\"M0,100v370\" style=\"stroke: rgb(255, 255, 255); stroke-opacity: 1; stroke-width: 1px;\"/><path class=\"xgrid crisp\" transform=\"translate(288.09000000000003,0)\" d=\"M0,100v370\" style=\"stroke: rgb(255, 255, 255); stroke-opacity: 1; stroke-width: 1px;\"/><path class=\"xgrid crisp\" transform=\"translate(448.68,0)\" d=\"M0,100v370\" style=\"stroke: rgb(255, 255, 255); stroke-opacity: 1; stroke-width: 1px;\"/><path class=\"xgrid crisp\" transform=\"translate(609.26,0)\" d=\"M0,100v370\" style=\"stroke: rgb(255, 255, 255); stroke-opacity: 1; stroke-width: 1px;\"/><path class=\"xgrid crisp\" transform=\"translate(769.85,0)\" d=\"M0,100v370\" style=\"stroke: rgb(255, 255, 255); stroke-opacity: 1; stroke-width: 1px;\"/><path class=\"xgrid crisp\" transform=\"translate(930.44,0)\" d=\"M0,100v370\" style=\"stroke: rgb(255, 255, 255); stroke-opacity: 1; stroke-width: 1px;\"/></g><g class=\"y\"><path class=\"ygrid crisp\" transform=\"translate(0,468.5)\" d=\"M80,0h875\" style=\"stroke: rgb(255, 255, 255); stroke-opacity: 1; stroke-width: 1px;\"/><path class=\"ygrid crisp\" transform=\"translate(0,447.9)\" d=\"M80,0h875\" style=\"stroke: rgb(255, 255, 255); stroke-opacity: 1; stroke-width: 1px;\"/><path class=\"ygrid crisp\" transform=\"translate(0,420.68)\" d=\"M80,0h875\" style=\"stroke: rgb(255, 255, 255); stroke-opacity: 1; stroke-width: 1px;\"/><path class=\"ygrid crisp\" transform=\"translate(0,400.08)\" d=\"M80,0h875\" style=\"stroke: rgb(255, 255, 255); stroke-opacity: 1; stroke-width: 1px;\"/><path class=\"ygrid crisp\" transform=\"translate(0,379.48)\" d=\"M80,0h875\" style=\"stroke: rgb(255, 255, 255); stroke-opacity: 1; stroke-width: 1px;\"/><path class=\"ygrid crisp\" transform=\"translate(0,352.26)\" d=\"M80,0h875\" style=\"stroke: rgb(255, 255, 255); stroke-opacity: 1; stroke-width: 1px;\"/><path class=\"ygrid crisp\" transform=\"translate(0,331.65999999999997)\" d=\"M80,0h875\" style=\"stroke: rgb(255, 255, 255); stroke-opacity: 1; stroke-width: 1px;\"/><path class=\"ygrid crisp\" transform=\"translate(0,311.06)\" d=\"M80,0h875\" style=\"stroke: rgb(255, 255, 255); stroke-opacity: 1; stroke-width: 1px;\"/><path class=\"ygrid crisp\" transform=\"translate(0,283.84000000000003)\" d=\"M80,0h875\" style=\"stroke: rgb(255, 255, 255); stroke-opacity: 1; stroke-width: 1px;\"/><path class=\"ygrid crisp\" transform=\"translate(0,263.24)\" d=\"M80,0h875\" style=\"stroke: rgb(255, 255, 255); stroke-opacity: 1; stroke-width: 1px;\"/><path class=\"ygrid crisp\" transform=\"translate(0,242.64)\" d=\"M80,0h875\" style=\"stroke: rgb(255, 255, 255); stroke-opacity: 1; stroke-width: 1px;\"/><path class=\"ygrid crisp\" transform=\"translate(0,215.42000000000002)\" d=\"M80,0h875\" style=\"stroke: rgb(255, 255, 255); stroke-opacity: 1; stroke-width: 1px;\"/><path class=\"ygrid crisp\" transform=\"translate(0,194.82)\" d=\"M80,0h875\" style=\"stroke: rgb(255, 255, 255); stroke-opacity: 1; stroke-width: 1px;\"/><path class=\"ygrid crisp\" transform=\"translate(0,174.23000000000002)\" d=\"M80,0h875\" style=\"stroke: rgb(255, 255, 255); stroke-opacity: 1; stroke-width: 1px;\"/><path class=\"ygrid crisp\" transform=\"translate(0,147)\" d=\"M80,0h875\" style=\"stroke: rgb(255, 255, 255); stroke-opacity: 1; stroke-width: 1px;\"/><path class=\"ygrid crisp\" transform=\"translate(0,126.4)\" d=\"M80,0h875\" style=\"stroke: rgb(255, 255, 255); stroke-opacity: 1; stroke-width: 1px;\"/><path class=\"ygrid crisp\" transform=\"translate(0,105.81)\" d=\"M80,0h875\" style=\"stroke: rgb(255, 255, 255); stroke-opacity: 1; stroke-width: 1px;\"/></g></g><g class=\"zerolinelayer\"/><path class=\"xlines-below\"/><path class=\"ylines-below\"/><g class=\"overlines-below\"/><g class=\"xaxislayer-below\"/><g class=\"yaxislayer-below\"/><g class=\"overaxes-below\"/><g class=\"plot\" transform=\"translate(80, 100)\" clip-path=\"url('#clip8bfee0xyplot')\"><g class=\"scatterlayer mlayer\"><g class=\"trace scatter trace934940\" style=\"stroke-miterlimit: 2; opacity: 1;\"><g class=\"fills\"/><g class=\"errorbars\"/><g class=\"lines\"/><g class=\"points\"><path class=\"point plotly-customdata\" transform=\"translate(231.03,297.25)\" d=\"M3,0A3,3 0 1,1 0,-3A3,3 0 0,1 3,0Z\" style=\"opacity: 1; stroke-width: 0px; fill: rgb(76, 120, 168); fill-opacity: 1;\"/><path class=\"point plotly-customdata\" transform=\"translate(253.97,288.03)\" d=\"M3,0A3,3 0 1,1 0,-3A3,3 0 0,1 3,0Z\" style=\"opacity: 1; stroke-width: 0px; fill: rgb(76, 120, 168); fill-opacity: 1;\"/><path class=\"point plotly-customdata\" transform=\"translate(276.91,275.33)\" d=\"M3,0A3,3 0 1,1 0,-3A3,3 0 0,1 3,0Z\" style=\"opacity: 1; stroke-width: 0px; fill: rgb(76, 120, 168); fill-opacity: 1;\"/><path class=\"point plotly-customdata\" transform=\"translate(299.85,268.44)\" d=\"M3,0A3,3 0 1,1 0,-3A3,3 0 0,1 3,0Z\" style=\"opacity: 1; stroke-width: 0px; fill: rgb(76, 120, 168); fill-opacity: 1;\"/><path class=\"point plotly-customdata\" transform=\"translate(322.79,252.26)\" d=\"M3,0A3,3 0 1,1 0,-3A3,3 0 0,1 3,0Z\" style=\"opacity: 1; stroke-width: 0px; fill: rgb(76, 120, 168); fill-opacity: 1;\"/><path class=\"point plotly-customdata\" transform=\"translate(345.74,240.21)\" d=\"M3,0A3,3 0 1,1 0,-3A3,3 0 0,1 3,0Z\" style=\"opacity: 1; stroke-width: 0px; fill: rgb(76, 120, 168); fill-opacity: 1;\"/><path class=\"point plotly-customdata\" transform=\"translate(368.68,232.26)\" d=\"M3,0A3,3 0 1,1 0,-3A3,3 0 0,1 3,0Z\" style=\"opacity: 1; stroke-width: 0px; fill: rgb(76, 120, 168); fill-opacity: 1;\"/><path class=\"point plotly-customdata\" transform=\"translate(391.62,214.86)\" d=\"M3,0A3,3 0 1,1 0,-3A3,3 0 0,1 3,0Z\" style=\"opacity: 1; stroke-width: 0px; fill: rgb(76, 120, 168); fill-opacity: 1;\"/><path class=\"point plotly-customdata\" transform=\"translate(414.56,202.37)\" d=\"M3,0A3,3 0 1,1 0,-3A3,3 0 0,1 3,0Z\" style=\"opacity: 1; stroke-width: 0px; fill: rgb(76, 120, 168); fill-opacity: 1;\"/><path class=\"point plotly-customdata\" transform=\"translate(437.5,188.53)\" d=\"M3,0A3,3 0 1,1 0,-3A3,3 0 0,1 3,0Z\" style=\"opacity: 1; stroke-width: 0px; fill: rgb(76, 120, 168); fill-opacity: 1;\"/><path class=\"point plotly-customdata\" transform=\"translate(460.44,172.39)\" d=\"M3,0A3,3 0 1,1 0,-3A3,3 0 0,1 3,0Z\" style=\"opacity: 1; stroke-width: 0px; fill: rgb(76, 120, 168); fill-opacity: 1;\"/><path class=\"point plotly-customdata\" transform=\"translate(483.38,166.5)\" d=\"M3,0A3,3 0 1,1 0,-3A3,3 0 0,1 3,0Z\" style=\"opacity: 1; stroke-width: 0px; fill: rgb(76, 120, 168); fill-opacity: 1;\"/><path class=\"point plotly-customdata\" transform=\"translate(506.32,154.63)\" d=\"M3,0A3,3 0 1,1 0,-3A3,3 0 0,1 3,0Z\" style=\"opacity: 1; stroke-width: 0px; fill: rgb(76, 120, 168); fill-opacity: 1;\"/><path class=\"point plotly-customdata\" transform=\"translate(529.26,143.95)\" d=\"M3,0A3,3 0 1,1 0,-3A3,3 0 0,1 3,0Z\" style=\"opacity: 1; stroke-width: 0px; fill: rgb(76, 120, 168); fill-opacity: 1;\"/><path class=\"point plotly-customdata\" transform=\"translate(552.21,132.18)\" d=\"M3,0A3,3 0 1,1 0,-3A3,3 0 0,1 3,0Z\" style=\"opacity: 1; stroke-width: 0px; fill: rgb(76, 120, 168); fill-opacity: 1;\"/><path class=\"point plotly-customdata\" transform=\"translate(575.15,124.57)\" d=\"M3,0A3,3 0 1,1 0,-3A3,3 0 0,1 3,0Z\" style=\"opacity: 1; stroke-width: 0px; fill: rgb(76, 120, 168); fill-opacity: 1;\"/><path class=\"point plotly-customdata\" transform=\"translate(598.09,119.2)\" d=\"M3,0A3,3 0 1,1 0,-3A3,3 0 0,1 3,0Z\" style=\"opacity: 1; stroke-width: 0px; fill: rgb(76, 120, 168); fill-opacity: 1;\"/><path class=\"point plotly-customdata\" transform=\"translate(621.03,105.95)\" d=\"M3,0A3,3 0 1,1 0,-3A3,3 0 0,1 3,0Z\" style=\"opacity: 1; stroke-width: 0px; fill: rgb(76, 120, 168); fill-opacity: 1;\"/><path class=\"point plotly-customdata\" transform=\"translate(643.97,98.54)\" d=\"M3,0A3,3 0 1,1 0,-3A3,3 0 0,1 3,0Z\" style=\"opacity: 1; stroke-width: 0px; fill: rgb(76, 120, 168); fill-opacity: 1;\"/><path class=\"point plotly-customdata\" transform=\"translate(666.91,91.66)\" d=\"M3,0A3,3 0 1,1 0,-3A3,3 0 0,1 3,0Z\" style=\"opacity: 1; stroke-width: 0px; fill: rgb(76, 120, 168); fill-opacity: 1;\"/><path class=\"point plotly-customdata\" transform=\"translate(689.85,86.16)\" d=\"M3,0A3,3 0 1,1 0,-3A3,3 0 0,1 3,0Z\" style=\"opacity: 1; stroke-width: 0px; fill: rgb(76, 120, 168); fill-opacity: 1;\"/><path class=\"point plotly-customdata\" transform=\"translate(712.79,79.7)\" d=\"M3,0A3,3 0 1,1 0,-3A3,3 0 0,1 3,0Z\" style=\"opacity: 1; stroke-width: 0px; fill: rgb(76, 120, 168); fill-opacity: 1;\"/><path class=\"point plotly-customdata\" transform=\"translate(735.74,76.23)\" d=\"M3,0A3,3 0 1,1 0,-3A3,3 0 0,1 3,0Z\" style=\"opacity: 1; stroke-width: 0px; fill: rgb(76, 120, 168); fill-opacity: 1;\"/><path class=\"point plotly-customdata\" transform=\"translate(758.68,71.05)\" d=\"M3,0A3,3 0 1,1 0,-3A3,3 0 0,1 3,0Z\" style=\"opacity: 1; stroke-width: 0px; fill: rgb(76, 120, 168); fill-opacity: 1;\"/><path class=\"point plotly-customdata\" transform=\"translate(781.62,66.9)\" d=\"M3,0A3,3 0 1,1 0,-3A3,3 0 0,1 3,0Z\" style=\"opacity: 1; stroke-width: 0px; fill: rgb(76, 120, 168); fill-opacity: 1;\"/><path class=\"point plotly-customdata\" transform=\"translate(804.56,62.28)\" d=\"M3,0A3,3 0 1,1 0,-3A3,3 0 0,1 3,0Z\" style=\"opacity: 1; stroke-width: 0px; fill: rgb(76, 120, 168); fill-opacity: 1;\"/><path class=\"point plotly-customdata\" transform=\"translate(827.5,58.35)\" d=\"M3,0A3,3 0 1,1 0,-3A3,3 0 0,1 3,0Z\" style=\"opacity: 1; stroke-width: 0px; fill: rgb(76, 120, 168); fill-opacity: 1;\"/></g><g class=\"text\"/></g><g class=\"trace scatter trace6cbfaf\" style=\"stroke-miterlimit: 2; opacity: 1;\"><g class=\"fills\"/><g class=\"errorbars\"/><g class=\"lines\"/><g class=\"points\"><path class=\"point plotly-customdata\" transform=\"translate(116.32,297.25)\" d=\"M3,0A3,3 0 1,1 0,-3A3,3 0 0,1 3,0Z\" style=\"opacity: 1; stroke-width: 0px; fill: rgb(245, 133, 24); fill-opacity: 1;\"/><path class=\"point plotly-customdata\" transform=\"translate(139.26,276.65)\" d=\"M3,0A3,3 0 1,1 0,-3A3,3 0 0,1 3,0Z\" style=\"opacity: 1; stroke-width: 0px; fill: rgb(245, 133, 24); fill-opacity: 1;\"/><path class=\"point plotly-customdata\" transform=\"translate(162.21,256.06)\" d=\"M3,0A3,3 0 1,1 0,-3A3,3 0 0,1 3,0Z\" style=\"opacity: 1; stroke-width: 0px; fill: rgb(245, 133, 24); fill-opacity: 1;\"/><path class=\"point plotly-customdata\" transform=\"translate(185.15,235.12)\" d=\"M3,0A3,3 0 1,1 0,-3A3,3 0 0,1 3,0Z\" style=\"opacity: 1; stroke-width: 0px; fill: rgb(245, 133, 24); fill-opacity: 1;\"/><path class=\"point plotly-customdata\" transform=\"translate(208.09,229.93)\" d=\"M3,0A3,3 0 1,1 0,-3A3,3 0 0,1 3,0Z\" style=\"opacity: 1; stroke-width: 0px; fill: rgb(245, 133, 24); fill-opacity: 1;\"/><path class=\"point plotly-customdata\" transform=\"translate(231.03,221.24)\" d=\"M3,0A3,3 0 1,1 0,-3A3,3 0 0,1 3,0Z\" style=\"opacity: 1; stroke-width: 0px; fill: rgb(245, 133, 24); fill-opacity: 1;\"/><path class=\"point plotly-customdata\" transform=\"translate(253.97,215.37)\" d=\"M3,0A3,3 0 1,1 0,-3A3,3 0 0,1 3,0Z\" style=\"opacity: 1; stroke-width: 0px; fill: rgb(245, 133, 24); fill-opacity: 1;\"/><path class=\"point plotly-customdata\" transform=\"translate(276.91,208.64)\" d=\"M3,0A3,3 0 1,1 0,-3A3,3 0 0,1 3,0Z\" style=\"opacity: 1; stroke-width: 0px; fill: rgb(245, 133, 24); fill-opacity: 1;\"/><path class=\"point plotly-customdata\" transform=\"translate(299.85,196.55)\" d=\"M3,0A3,3 0 1,1 0,-3A3,3 0 0,1 3,0Z\" style=\"opacity: 1; stroke-width: 0px; fill: rgb(245, 133, 24); fill-opacity: 1;\"/><path class=\"point plotly-customdata\" transform=\"translate(322.79,188.95)\" d=\"M3,0A3,3 0 1,1 0,-3A3,3 0 0,1 3,0Z\" style=\"opacity: 1; stroke-width: 0px; fill: rgb(245, 133, 24); fill-opacity: 1;\"/><path class=\"point plotly-customdata\" transform=\"translate(345.74,177.93)\" d=\"M3,0A3,3 0 1,1 0,-3A3,3 0 0,1 3,0Z\" style=\"opacity: 1; stroke-width: 0px; fill: rgb(245, 133, 24); fill-opacity: 1;\"/><path class=\"point plotly-customdata\" transform=\"translate(368.68,172.51)\" d=\"M3,0A3,3 0 1,1 0,-3A3,3 0 0,1 3,0Z\" style=\"opacity: 1; stroke-width: 0px; fill: rgb(245, 133, 24); fill-opacity: 1;\"/><path class=\"point plotly-customdata\" transform=\"translate(391.62,164.77)\" d=\"M3,0A3,3 0 1,1 0,-3A3,3 0 0,1 3,0Z\" style=\"opacity: 1; stroke-width: 0px; fill: rgb(245, 133, 24); fill-opacity: 1;\"/><path class=\"point plotly-customdata\" transform=\"translate(414.56,153.8)\" d=\"M3,0A3,3 0 1,1 0,-3A3,3 0 0,1 3,0Z\" style=\"opacity: 1; stroke-width: 0px; fill: rgb(245, 133, 24); fill-opacity: 1;\"/><path class=\"point plotly-customdata\" transform=\"translate(437.5,137.45)\" d=\"M3,0A3,3 0 1,1 0,-3A3,3 0 0,1 3,0Z\" style=\"opacity: 1; stroke-width: 0px; fill: rgb(245, 133, 24); fill-opacity: 1;\"/><path class=\"point plotly-customdata\" transform=\"translate(460.44,120.94)\" d=\"M3,0A3,3 0 1,1 0,-3A3,3 0 0,1 3,0Z\" style=\"opacity: 1; stroke-width: 0px; fill: rgb(245, 133, 24); fill-opacity: 1;\"/><path class=\"point plotly-customdata\" transform=\"translate(483.38,104.99)\" d=\"M3,0A3,3 0 1,1 0,-3A3,3 0 0,1 3,0Z\" style=\"opacity: 1; stroke-width: 0px; fill: rgb(245, 133, 24); fill-opacity: 1;\"/><path class=\"point plotly-customdata\" transform=\"translate(506.32,93.78)\" d=\"M3,0A3,3 0 1,1 0,-3A3,3 0 0,1 3,0Z\" style=\"opacity: 1; stroke-width: 0px; fill: rgb(245, 133, 24); fill-opacity: 1;\"/><path class=\"point plotly-customdata\" transform=\"translate(529.26,82.44)\" d=\"M3,0A3,3 0 1,1 0,-3A3,3 0 0,1 3,0Z\" style=\"opacity: 1; stroke-width: 0px; fill: rgb(245, 133, 24); fill-opacity: 1;\"/><path class=\"point plotly-customdata\" transform=\"translate(552.21,72.95)\" d=\"M3,0A3,3 0 1,1 0,-3A3,3 0 0,1 3,0Z\" style=\"opacity: 1; stroke-width: 0px; fill: rgb(245, 133, 24); fill-opacity: 1;\"/><path class=\"point plotly-customdata\" transform=\"translate(575.15,66.81)\" d=\"M3,0A3,3 0 1,1 0,-3A3,3 0 0,1 3,0Z\" style=\"opacity: 1; stroke-width: 0px; fill: rgb(245, 133, 24); fill-opacity: 1;\"/><path class=\"point plotly-customdata\" transform=\"translate(598.09,59.29)\" d=\"M3,0A3,3 0 1,1 0,-3A3,3 0 0,1 3,0Z\" style=\"opacity: 1; stroke-width: 0px; fill: rgb(245, 133, 24); fill-opacity: 1;\"/><path class=\"point plotly-customdata\" transform=\"translate(621.03,54.39)\" d=\"M3,0A3,3 0 1,1 0,-3A3,3 0 0,1 3,0Z\" style=\"opacity: 1; stroke-width: 0px; fill: rgb(245, 133, 24); fill-opacity: 1;\"/><path class=\"point plotly-customdata\" transform=\"translate(643.97,50.37)\" d=\"M3,0A3,3 0 1,1 0,-3A3,3 0 0,1 3,0Z\" style=\"opacity: 1; stroke-width: 0px; fill: rgb(245, 133, 24); fill-opacity: 1;\"/><path class=\"point plotly-customdata\" transform=\"translate(666.91,45.06)\" d=\"M3,0A3,3 0 1,1 0,-3A3,3 0 0,1 3,0Z\" style=\"opacity: 1; stroke-width: 0px; fill: rgb(245, 133, 24); fill-opacity: 1;\"/><path class=\"point plotly-customdata\" transform=\"translate(689.85,41.8)\" d=\"M3,0A3,3 0 1,1 0,-3A3,3 0 0,1 3,0Z\" style=\"opacity: 1; stroke-width: 0px; fill: rgb(245, 133, 24); fill-opacity: 1;\"/><path class=\"point plotly-customdata\" transform=\"translate(712.79,38.22)\" d=\"M3,0A3,3 0 1,1 0,-3A3,3 0 0,1 3,0Z\" style=\"opacity: 1; stroke-width: 0px; fill: rgb(245, 133, 24); fill-opacity: 1;\"/><path class=\"point plotly-customdata\" transform=\"translate(735.74,34.62)\" d=\"M3,0A3,3 0 1,1 0,-3A3,3 0 0,1 3,0Z\" style=\"opacity: 1; stroke-width: 0px; fill: rgb(245, 133, 24); fill-opacity: 1;\"/><path class=\"point plotly-customdata\" transform=\"translate(758.68,31.62)\" d=\"M3,0A3,3 0 1,1 0,-3A3,3 0 0,1 3,0Z\" style=\"opacity: 1; stroke-width: 0px; fill: rgb(245, 133, 24); fill-opacity: 1;\"/><path class=\"point plotly-customdata\" transform=\"translate(781.62,28.63)\" d=\"M3,0A3,3 0 1,1 0,-3A3,3 0 0,1 3,0Z\" style=\"opacity: 1; stroke-width: 0px; fill: rgb(245, 133, 24); fill-opacity: 1;\"/><path class=\"point plotly-customdata\" transform=\"translate(804.56,25.56)\" d=\"M3,0A3,3 0 1,1 0,-3A3,3 0 0,1 3,0Z\" style=\"opacity: 1; stroke-width: 0px; fill: rgb(245, 133, 24); fill-opacity: 1;\"/><path class=\"point plotly-customdata\" transform=\"translate(827.5,22.25)\" d=\"M3,0A3,3 0 1,1 0,-3A3,3 0 0,1 3,0Z\" style=\"opacity: 1; stroke-width: 0px; fill: rgb(245, 133, 24); fill-opacity: 1;\"/></g><g class=\"text\"/></g><g class=\"trace scatter trace51b519\" style=\"stroke-miterlimit: 2; opacity: 1;\"><g class=\"fills\"/><g class=\"errorbars\"/><g class=\"lines\"/><g class=\"points\"><path class=\"point plotly-customdata\" transform=\"translate(299.85,284.31)\" d=\"M3,0A3,3 0 1,1 0,-3A3,3 0 0,1 3,0Z\" style=\"opacity: 1; stroke-width: 0px; fill: rgb(228, 87, 86); fill-opacity: 1;\"/><path class=\"point plotly-customdata\" transform=\"translate(322.79,267.44)\" d=\"M3,0A3,3 0 1,1 0,-3A3,3 0 0,1 3,0Z\" style=\"opacity: 1; stroke-width: 0px; fill: rgb(228, 87, 86); fill-opacity: 1;\"/><path class=\"point plotly-customdata\" transform=\"translate(345.74,257.44)\" d=\"M3,0A3,3 0 1,1 0,-3A3,3 0 0,1 3,0Z\" style=\"opacity: 1; stroke-width: 0px; fill: rgb(228, 87, 86); fill-opacity: 1;\"/><path class=\"point plotly-customdata\" transform=\"translate(368.68,255.39)\" d=\"M3,0A3,3 0 1,1 0,-3A3,3 0 0,1 3,0Z\" style=\"opacity: 1; stroke-width: 0px; fill: rgb(228, 87, 86); fill-opacity: 1;\"/><path class=\"point plotly-customdata\" transform=\"translate(391.62,251.67)\" d=\"M3,0A3,3 0 1,1 0,-3A3,3 0 0,1 3,0Z\" style=\"opacity: 1; stroke-width: 0px; fill: rgb(228, 87, 86); fill-opacity: 1;\"/><path class=\"point plotly-customdata\" transform=\"translate(414.56,243.56)\" d=\"M3,0A3,3 0 1,1 0,-3A3,3 0 0,1 3,0Z\" style=\"opacity: 1; stroke-width: 0px; fill: rgb(228, 87, 86); fill-opacity: 1;\"/><path class=\"point plotly-customdata\" transform=\"translate(437.5,239.04)\" d=\"M3,0A3,3 0 1,1 0,-3A3,3 0 0,1 3,0Z\" style=\"opacity: 1; stroke-width: 0px; fill: rgb(228, 87, 86); fill-opacity: 1;\"/><path class=\"point plotly-customdata\" transform=\"translate(460.44,233.5)\" d=\"M3,0A3,3 0 1,1 0,-3A3,3 0 0,1 3,0Z\" style=\"opacity: 1; stroke-width: 0px; fill: rgb(228, 87, 86); fill-opacity: 1;\"/><path class=\"point plotly-customdata\" transform=\"translate(483.38,227.51)\" d=\"M3,0A3,3 0 1,1 0,-3A3,3 0 0,1 3,0Z\" style=\"opacity: 1; stroke-width: 0px; fill: rgb(228, 87, 86); fill-opacity: 1;\"/><path class=\"point plotly-customdata\" transform=\"translate(506.32,219.22)\" d=\"M3,0A3,3 0 1,1 0,-3A3,3 0 0,1 3,0Z\" style=\"opacity: 1; stroke-width: 0px; fill: rgb(228, 87, 86); fill-opacity: 1;\"/><path class=\"point plotly-customdata\" transform=\"translate(529.26,208.37)\" d=\"M3,0A3,3 0 1,1 0,-3A3,3 0 0,1 3,0Z\" style=\"opacity: 1; stroke-width: 0px; fill: rgb(228, 87, 86); fill-opacity: 1;\"/><path class=\"point plotly-customdata\" transform=\"translate(552.21,203.96)\" d=\"M3,0A3,3 0 1,1 0,-3A3,3 0 0,1 3,0Z\" style=\"opacity: 1; stroke-width: 0px; fill: rgb(228, 87, 86); fill-opacity: 1;\"/><path class=\"point plotly-customdata\" transform=\"translate(575.15,200.02)\" d=\"M3,0A3,3 0 1,1 0,-3A3,3 0 0,1 3,0Z\" style=\"opacity: 1; stroke-width: 0px; fill: rgb(228, 87, 86); fill-opacity: 1;\"/><path class=\"point plotly-customdata\" transform=\"translate(598.09,191.14)\" d=\"M3,0A3,3 0 1,1 0,-3A3,3 0 0,1 3,0Z\" style=\"opacity: 1; stroke-width: 0px; fill: rgb(228, 87, 86); fill-opacity: 1;\"/><path class=\"point plotly-customdata\" transform=\"translate(621.03,178.22)\" d=\"M3,0A3,3 0 1,1 0,-3A3,3 0 0,1 3,0Z\" style=\"opacity: 1; stroke-width: 0px; fill: rgb(228, 87, 86); fill-opacity: 1;\"/><path class=\"point plotly-customdata\" transform=\"translate(643.97,178.12)\" d=\"M3,0A3,3 0 1,1 0,-3A3,3 0 0,1 3,0Z\" style=\"opacity: 1; stroke-width: 0px; fill: rgb(228, 87, 86); fill-opacity: 1;\"/><path class=\"point plotly-customdata\" transform=\"translate(666.91,172.19)\" d=\"M3,0A3,3 0 1,1 0,-3A3,3 0 0,1 3,0Z\" style=\"opacity: 1; stroke-width: 0px; fill: rgb(228, 87, 86); fill-opacity: 1;\"/><path class=\"point plotly-customdata\" transform=\"translate(689.85,166.7)\" d=\"M3,0A3,3 0 1,1 0,-3A3,3 0 0,1 3,0Z\" style=\"opacity: 1; stroke-width: 0px; fill: rgb(228, 87, 86); fill-opacity: 1;\"/><path class=\"point plotly-customdata\" transform=\"translate(712.79,162.62)\" d=\"M3,0A3,3 0 1,1 0,-3A3,3 0 0,1 3,0Z\" style=\"opacity: 1; stroke-width: 0px; fill: rgb(228, 87, 86); fill-opacity: 1;\"/><path class=\"point plotly-customdata\" transform=\"translate(735.74,156.61)\" d=\"M3,0A3,3 0 1,1 0,-3A3,3 0 0,1 3,0Z\" style=\"opacity: 1; stroke-width: 0px; fill: rgb(228, 87, 86); fill-opacity: 1;\"/><path class=\"point plotly-customdata\" transform=\"translate(758.68,150.98)\" d=\"M3,0A3,3 0 1,1 0,-3A3,3 0 0,1 3,0Z\" style=\"opacity: 1; stroke-width: 0px; fill: rgb(228, 87, 86); fill-opacity: 1;\"/><path class=\"point plotly-customdata\" transform=\"translate(781.62,147.37)\" d=\"M3,0A3,3 0 1,1 0,-3A3,3 0 0,1 3,0Z\" style=\"opacity: 1; stroke-width: 0px; fill: rgb(228, 87, 86); fill-opacity: 1;\"/><path class=\"point plotly-customdata\" transform=\"translate(804.56,142.47)\" d=\"M3,0A3,3 0 1,1 0,-3A3,3 0 0,1 3,0Z\" style=\"opacity: 1; stroke-width: 0px; fill: rgb(228, 87, 86); fill-opacity: 1;\"/><path class=\"point plotly-customdata\" transform=\"translate(827.5,137.14)\" d=\"M3,0A3,3 0 1,1 0,-3A3,3 0 0,1 3,0Z\" style=\"opacity: 1; stroke-width: 0px; fill: rgb(228, 87, 86); fill-opacity: 1;\"/></g><g class=\"text\"/></g><g class=\"trace scatter trace97872e\" style=\"stroke-miterlimit: 2; opacity: 1;\"><g class=\"fills\"/><g class=\"errorbars\"/><g class=\"lines\"/><g class=\"points\"><path class=\"point plotly-customdata\" transform=\"translate(47.5,284.31)\" d=\"M3,0A3,3 0 1,1 0,-3A3,3 0 0,1 3,0Z\" style=\"opacity: 1; stroke-width: 0px; fill: rgb(114, 183, 178); fill-opacity: 1;\"/><path class=\"point plotly-customdata\" transform=\"translate(70.44,275.33)\" d=\"M3,0A3,3 0 1,1 0,-3A3,3 0 0,1 3,0Z\" style=\"opacity: 1; stroke-width: 0px; fill: rgb(114, 183, 178); fill-opacity: 1;\"/><path class=\"point plotly-customdata\" transform=\"translate(93.38,265.52)\" d=\"M3,0A3,3 0 1,1 0,-3A3,3 0 0,1 3,0Z\" style=\"opacity: 1; stroke-width: 0px; fill: rgb(114, 183, 178); fill-opacity: 1;\"/><path class=\"point plotly-customdata\" transform=\"translate(116.32,254.1)\" d=\"M3,0A3,3 0 1,1 0,-3A3,3 0 0,1 3,0Z\" style=\"opacity: 1; stroke-width: 0px; fill: rgb(114, 183, 178); fill-opacity: 1;\"/><path class=\"point plotly-customdata\" transform=\"translate(139.26,240.21)\" d=\"M3,0A3,3 0 1,1 0,-3A3,3 0 0,1 3,0Z\" style=\"opacity: 1; stroke-width: 0px; fill: rgb(114, 183, 178); fill-opacity: 1;\"/><path class=\"point plotly-customdata\" transform=\"translate(162.21,236.14)\" d=\"M3,0A3,3 0 1,1 0,-3A3,3 0 0,1 3,0Z\" style=\"opacity: 1; stroke-width: 0px; fill: rgb(114, 183, 178); fill-opacity: 1;\"/><path class=\"point plotly-customdata\" transform=\"translate(185.15,228.83)\" d=\"M3,0A3,3 0 1,1 0,-3A3,3 0 0,1 3,0Z\" style=\"opacity: 1; stroke-width: 0px; fill: rgb(114, 183, 178); fill-opacity: 1;\"/><path class=\"point plotly-customdata\" transform=\"translate(208.09,221.45)\" d=\"M3,0A3,3 0 1,1 0,-3A3,3 0 0,1 3,0Z\" style=\"opacity: 1; stroke-width: 0px; fill: rgb(114, 183, 178); fill-opacity: 1;\"/><path class=\"point plotly-customdata\" transform=\"translate(231.03,214.36)\" d=\"M3,0A3,3 0 1,1 0,-3A3,3 0 0,1 3,0Z\" style=\"opacity: 1; stroke-width: 0px; fill: rgb(114, 183, 178); fill-opacity: 1;\"/><path class=\"point plotly-customdata\" transform=\"translate(253.97,201.17)\" d=\"M3,0A3,3 0 1,1 0,-3A3,3 0 0,1 3,0Z\" style=\"opacity: 1; stroke-width: 0px; fill: rgb(114, 183, 178); fill-opacity: 1;\"/><path class=\"point plotly-customdata\" transform=\"translate(276.91,195.47)\" d=\"M3,0A3,3 0 1,1 0,-3A3,3 0 0,1 3,0Z\" style=\"opacity: 1; stroke-width: 0px; fill: rgb(114, 183, 178); fill-opacity: 1;\"/><path class=\"point plotly-customdata\" transform=\"translate(299.85,189.09)\" d=\"M3,0A3,3 0 1,1 0,-3A3,3 0 0,1 3,0Z\" style=\"opacity: 1; stroke-width: 0px; fill: rgb(114, 183, 178); fill-opacity: 1;\"/><path class=\"point plotly-customdata\" transform=\"translate(322.79,183.19)\" d=\"M3,0A3,3 0 1,1 0,-3A3,3 0 0,1 3,0Z\" style=\"opacity: 1; stroke-width: 0px; fill: rgb(114, 183, 178); fill-opacity: 1;\"/><path class=\"point plotly-customdata\" transform=\"translate(345.74,177.98)\" d=\"M3,0A3,3 0 1,1 0,-3A3,3 0 0,1 3,0Z\" style=\"opacity: 1; stroke-width: 0px; fill: rgb(114, 183, 178); fill-opacity: 1;\"/><path class=\"point plotly-customdata\" transform=\"translate(368.68,174.92)\" d=\"M3,0A3,3 0 1,1 0,-3A3,3 0 0,1 3,0Z\" style=\"opacity: 1; stroke-width: 0px; fill: rgb(114, 183, 178); fill-opacity: 1;\"/><path class=\"point plotly-customdata\" transform=\"translate(391.62,170.1)\" d=\"M3,0A3,3 0 1,1 0,-3A3,3 0 0,1 3,0Z\" style=\"opacity: 1; stroke-width: 0px; fill: rgb(114, 183, 178); fill-opacity: 1;\"/><path class=\"point plotly-customdata\" transform=\"translate(414.56,166.11)\" d=\"M3,0A3,3 0 1,1 0,-3A3,3 0 0,1 3,0Z\" style=\"opacity: 1; stroke-width: 0px; fill: rgb(114, 183, 178); fill-opacity: 1;\"/><path class=\"point plotly-customdata\" transform=\"translate(437.5,162.48)\" d=\"M3,0A3,3 0 1,1 0,-3A3,3 0 0,1 3,0Z\" style=\"opacity: 1; stroke-width: 0px; fill: rgb(114, 183, 178); fill-opacity: 1;\"/><path class=\"point plotly-customdata\" transform=\"translate(460.44,157.14)\" d=\"M3,0A3,3 0 1,1 0,-3A3,3 0 0,1 3,0Z\" style=\"opacity: 1; stroke-width: 0px; fill: rgb(114, 183, 178); fill-opacity: 1;\"/><path class=\"point plotly-customdata\" transform=\"translate(483.38,153.16)\" d=\"M3,0A3,3 0 1,1 0,-3A3,3 0 0,1 3,0Z\" style=\"opacity: 1; stroke-width: 0px; fill: rgb(114, 183, 178); fill-opacity: 1;\"/><path class=\"point plotly-customdata\" transform=\"translate(506.32,148.27)\" d=\"M3,0A3,3 0 1,1 0,-3A3,3 0 0,1 3,0Z\" style=\"opacity: 1; stroke-width: 0px; fill: rgb(114, 183, 178); fill-opacity: 1;\"/><path class=\"point plotly-customdata\" transform=\"translate(529.26,145.06)\" d=\"M3,0A3,3 0 1,1 0,-3A3,3 0 0,1 3,0Z\" style=\"opacity: 1; stroke-width: 0px; fill: rgb(114, 183, 178); fill-opacity: 1;\"/><path class=\"point plotly-customdata\" transform=\"translate(552.21,141.18)\" d=\"M3,0A3,3 0 1,1 0,-3A3,3 0 0,1 3,0Z\" style=\"opacity: 1; stroke-width: 0px; fill: rgb(114, 183, 178); fill-opacity: 1;\"/><path class=\"point plotly-customdata\" transform=\"translate(575.15,136.38)\" d=\"M3,0A3,3 0 1,1 0,-3A3,3 0 0,1 3,0Z\" style=\"opacity: 1; stroke-width: 0px; fill: rgb(114, 183, 178); fill-opacity: 1;\"/><path class=\"point plotly-customdata\" transform=\"translate(598.09,135.02)\" d=\"M3,0A3,3 0 1,1 0,-3A3,3 0 0,1 3,0Z\" style=\"opacity: 1; stroke-width: 0px; fill: rgb(114, 183, 178); fill-opacity: 1;\"/><path class=\"point plotly-customdata\" transform=\"translate(621.03,128.6)\" d=\"M3,0A3,3 0 1,1 0,-3A3,3 0 0,1 3,0Z\" style=\"opacity: 1; stroke-width: 0px; fill: rgb(114, 183, 178); fill-opacity: 1;\"/><path class=\"point plotly-customdata\" transform=\"translate(643.97,123.81)\" d=\"M3,0A3,3 0 1,1 0,-3A3,3 0 0,1 3,0Z\" style=\"opacity: 1; stroke-width: 0px; fill: rgb(114, 183, 178); fill-opacity: 1;\"/><path class=\"point plotly-customdata\" transform=\"translate(666.91,119.82)\" d=\"M3,0A3,3 0 1,1 0,-3A3,3 0 0,1 3,0Z\" style=\"opacity: 1; stroke-width: 0px; fill: rgb(114, 183, 178); fill-opacity: 1;\"/><path class=\"point plotly-customdata\" transform=\"translate(689.85,116.04)\" d=\"M3,0A3,3 0 1,1 0,-3A3,3 0 0,1 3,0Z\" style=\"opacity: 1; stroke-width: 0px; fill: rgb(114, 183, 178); fill-opacity: 1;\"/><path class=\"point plotly-customdata\" transform=\"translate(712.79,114.37)\" d=\"M3,0A3,3 0 1,1 0,-3A3,3 0 0,1 3,0Z\" style=\"opacity: 1; stroke-width: 0px; fill: rgb(114, 183, 178); fill-opacity: 1;\"/><path class=\"point plotly-customdata\" transform=\"translate(735.74,113.73)\" d=\"M3,0A3,3 0 1,1 0,-3A3,3 0 0,1 3,0Z\" style=\"opacity: 1; stroke-width: 0px; fill: rgb(114, 183, 178); fill-opacity: 1;\"/><path class=\"point plotly-customdata\" transform=\"translate(758.68,112.11)\" d=\"M3,0A3,3 0 1,1 0,-3A3,3 0 0,1 3,0Z\" style=\"opacity: 1; stroke-width: 0px; fill: rgb(114, 183, 178); fill-opacity: 1;\"/><path class=\"point plotly-customdata\" transform=\"translate(781.62,107.24)\" d=\"M3,0A3,3 0 1,1 0,-3A3,3 0 0,1 3,0Z\" style=\"opacity: 1; stroke-width: 0px; fill: rgb(114, 183, 178); fill-opacity: 1;\"/><path class=\"point plotly-customdata\" transform=\"translate(804.56,105.56)\" d=\"M3,0A3,3 0 1,1 0,-3A3,3 0 0,1 3,0Z\" style=\"opacity: 1; stroke-width: 0px; fill: rgb(114, 183, 178); fill-opacity: 1;\"/><path class=\"point plotly-customdata\" transform=\"translate(827.5,103.38)\" d=\"M3,0A3,3 0 1,1 0,-3A3,3 0 0,1 3,0Z\" style=\"opacity: 1; stroke-width: 0px; fill: rgb(114, 183, 178); fill-opacity: 1;\"/></g><g class=\"text\"/></g></g></g><g class=\"overplot\"/><path class=\"xlines-above crisp\" d=\"\" style=\"fill: none; stroke-width: 1px; stroke: rgb(0, 0, 0); stroke-opacity: 0;\"/><path class=\"ylines-above crisp\" d=\"\" style=\"fill: none; stroke-width: 1px; stroke: rgb(0, 0, 0); stroke-opacity: 0;\"/><g class=\"overlines-above\"/><g class=\"xaxislayer-above\"><path class=\"xtick ticks crisp\" d=\"M0,471v5\" transform=\"translate(127.5,0)\" style=\"stroke: rgb(51, 51, 51); stroke-opacity: 1; stroke-width: 1px;\"/><path class=\"xtick ticks crisp\" d=\"M0,471v5\" transform=\"translate(288.09000000000003,0)\" style=\"stroke: rgb(51, 51, 51); stroke-opacity: 1; stroke-width: 1px;\"/><path class=\"xtick ticks crisp\" d=\"M0,471v5\" transform=\"translate(448.68,0)\" style=\"stroke: rgb(51, 51, 51); stroke-opacity: 1; stroke-width: 1px;\"/><path class=\"xtick ticks crisp\" d=\"M0,471v5\" transform=\"translate(609.26,0)\" style=\"stroke: rgb(51, 51, 51); stroke-opacity: 1; stroke-width: 1px;\"/><path class=\"xtick ticks crisp\" d=\"M0,471v5\" transform=\"translate(769.85,0)\" style=\"stroke: rgb(51, 51, 51); stroke-opacity: 1; stroke-width: 1px;\"/><path class=\"xtick ticks crisp\" d=\"M0,471v5\" transform=\"translate(930.44,0)\" style=\"stroke: rgb(51, 51, 51); stroke-opacity: 1; stroke-width: 1px;\"/><g class=\"xtick\"><text text-anchor=\"middle\" x=\"0\" y=\"490.4\" transform=\"translate(127.5,0)\" style=\"font-family: 'Open Sans', verdana, arial, sans-serif; font-size: 12px; fill: rgb(51, 51, 51); fill-opacity: 1; white-space: pre;\"><tspan class=\"line\" dy=\"0em\" x=\"0\" y=\"490.4\">Mar 1</tspan><tspan class=\"line\" dy=\"1.3em\" x=\"0\" y=\"490.4\">2020</tspan></text></g><g class=\"xtick\"><text text-anchor=\"middle\" x=\"0\" y=\"490.4\" transform=\"translate(288.09000000000003,0)\" style=\"font-family: 'Open Sans', verdana, arial, sans-serif; font-size: 12px; fill: rgb(51, 51, 51); fill-opacity: 1; white-space: pre;\">Mar 8</text></g><g class=\"xtick\"><text text-anchor=\"middle\" x=\"0\" y=\"490.4\" transform=\"translate(448.68,0)\" style=\"font-family: 'Open Sans', verdana, arial, sans-serif; font-size: 12px; fill: rgb(51, 51, 51); fill-opacity: 1; white-space: pre;\">Mar 15</text></g><g class=\"xtick\"><text text-anchor=\"middle\" x=\"0\" y=\"490.4\" transform=\"translate(609.26,0)\" style=\"font-family: 'Open Sans', verdana, arial, sans-serif; font-size: 12px; fill: rgb(51, 51, 51); fill-opacity: 1; white-space: pre;\">Mar 22</text></g><g class=\"xtick\"><text text-anchor=\"middle\" x=\"0\" y=\"490.4\" transform=\"translate(769.85,0)\" style=\"font-family: 'Open Sans', verdana, arial, sans-serif; font-size: 12px; fill: rgb(51, 51, 51); fill-opacity: 1; white-space: pre;\">Mar 29</text></g><g class=\"xtick\"><text text-anchor=\"middle\" x=\"0\" y=\"490.4\" transform=\"translate(930.44,0)\" style=\"font-family: 'Open Sans', verdana, arial, sans-serif; font-size: 12px; fill: rgb(51, 51, 51); fill-opacity: 1; white-space: pre;\">Apr 5</text></g></g><g class=\"yaxislayer-above\"><path class=\"ytick ticks crisp\" d=\"M79,0h-5\" transform=\"translate(0,468.5)\" style=\"stroke: rgb(51, 51, 51); stroke-opacity: 1; stroke-width: 1px;\"/><path class=\"ytick ticks crisp\" d=\"M79,0h-5\" transform=\"translate(0,447.9)\" style=\"stroke: rgb(51, 51, 51); stroke-opacity: 1; stroke-width: 1px;\"/><path class=\"ytick ticks crisp\" d=\"M79,0h-5\" transform=\"translate(0,420.68)\" style=\"stroke: rgb(51, 51, 51); stroke-opacity: 1; stroke-width: 1px;\"/><path class=\"ytick ticks crisp\" d=\"M79,0h-5\" transform=\"translate(0,400.08)\" style=\"stroke: rgb(51, 51, 51); stroke-opacity: 1; stroke-width: 1px;\"/><path class=\"ytick ticks crisp\" d=\"M79,0h-5\" transform=\"translate(0,379.48)\" style=\"stroke: rgb(51, 51, 51); stroke-opacity: 1; stroke-width: 1px;\"/><path class=\"ytick ticks crisp\" d=\"M79,0h-5\" transform=\"translate(0,352.26)\" style=\"stroke: rgb(51, 51, 51); stroke-opacity: 1; stroke-width: 1px;\"/><path class=\"ytick ticks crisp\" d=\"M79,0h-5\" transform=\"translate(0,331.65999999999997)\" style=\"stroke: rgb(51, 51, 51); stroke-opacity: 1; stroke-width: 1px;\"/><path class=\"ytick ticks crisp\" d=\"M79,0h-5\" transform=\"translate(0,311.06)\" style=\"stroke: rgb(51, 51, 51); stroke-opacity: 1; stroke-width: 1px;\"/><path class=\"ytick ticks crisp\" d=\"M79,0h-5\" transform=\"translate(0,283.84000000000003)\" style=\"stroke: rgb(51, 51, 51); stroke-opacity: 1; stroke-width: 1px;\"/><path class=\"ytick ticks crisp\" d=\"M79,0h-5\" transform=\"translate(0,263.24)\" style=\"stroke: rgb(51, 51, 51); stroke-opacity: 1; stroke-width: 1px;\"/><path class=\"ytick ticks crisp\" d=\"M79,0h-5\" transform=\"translate(0,242.64)\" style=\"stroke: rgb(51, 51, 51); stroke-opacity: 1; stroke-width: 1px;\"/><path class=\"ytick ticks crisp\" d=\"M79,0h-5\" transform=\"translate(0,215.42000000000002)\" style=\"stroke: rgb(51, 51, 51); stroke-opacity: 1; stroke-width: 1px;\"/><path class=\"ytick ticks crisp\" d=\"M79,0h-5\" transform=\"translate(0,194.82)\" style=\"stroke: rgb(51, 51, 51); stroke-opacity: 1; stroke-width: 1px;\"/><path class=\"ytick ticks crisp\" d=\"M79,0h-5\" transform=\"translate(0,174.23000000000002)\" style=\"stroke: rgb(51, 51, 51); stroke-opacity: 1; stroke-width: 1px;\"/><path class=\"ytick ticks crisp\" d=\"M79,0h-5\" transform=\"translate(0,147)\" style=\"stroke: rgb(51, 51, 51); stroke-opacity: 1; stroke-width: 1px;\"/><path class=\"ytick ticks crisp\" d=\"M79,0h-5\" transform=\"translate(0,126.4)\" style=\"stroke: rgb(51, 51, 51); stroke-opacity: 1; stroke-width: 1px;\"/><path class=\"ytick ticks crisp\" d=\"M79,0h-5\" transform=\"translate(0,105.81)\" style=\"stroke: rgb(51, 51, 51); stroke-opacity: 1; stroke-width: 1px;\"/><g class=\"ytick\"><text text-anchor=\"end\" x=\"71.6\" y=\"4.199999999999999\" transform=\"translate(0,468.5)\" style=\"font-family: 'Open Sans', verdana, arial, sans-serif; font-size: 12px; fill: rgb(51, 51, 51); fill-opacity: 1; white-space: pre;\">1</text></g><g class=\"ytick\"><text text-anchor=\"end\" x=\"71.6\" y=\"3.15\" transform=\"translate(0,447.9)\" style=\"font-family: 'Open Sans', verdana, arial, sans-serif; font-size: 9px; fill: rgb(51, 51, 51); fill-opacity: 1; white-space: pre;\">2</text></g><g class=\"ytick\"><text text-anchor=\"end\" x=\"71.6\" y=\"3.15\" transform=\"translate(0,420.68)\" style=\"font-family: 'Open Sans', verdana, arial, sans-serif; font-size: 9px; fill: rgb(51, 51, 51); fill-opacity: 1; white-space: pre;\">5</text></g><g class=\"ytick\"><text text-anchor=\"end\" x=\"71.6\" y=\"4.199999999999999\" transform=\"translate(0,400.08)\" style=\"font-family: 'Open Sans', verdana, arial, sans-serif; font-size: 12px; fill: rgb(51, 51, 51); fill-opacity: 1; white-space: pre;\">10</text></g><g class=\"ytick\"><text text-anchor=\"end\" x=\"71.6\" y=\"3.15\" transform=\"translate(0,379.48)\" style=\"font-family: 'Open Sans', verdana, arial, sans-serif; font-size: 9px; fill: rgb(51, 51, 51); fill-opacity: 1; white-space: pre;\">2</text></g><g class=\"ytick\"><text text-anchor=\"end\" x=\"71.6\" y=\"3.15\" transform=\"translate(0,352.26)\" style=\"font-family: 'Open Sans', verdana, arial, sans-serif; font-size: 9px; fill: rgb(51, 51, 51); fill-opacity: 1; white-space: pre;\">5</text></g><g class=\"ytick\"><text text-anchor=\"end\" x=\"71.6\" y=\"4.199999999999999\" transform=\"translate(0,331.65999999999997)\" style=\"font-family: 'Open Sans', verdana, arial, sans-serif; font-size: 12px; fill: rgb(51, 51, 51); fill-opacity: 1; white-space: pre;\">100</text></g><g class=\"ytick\"><text text-anchor=\"end\" x=\"71.6\" y=\"3.15\" transform=\"translate(0,311.06)\" style=\"font-family: 'Open Sans', verdana, arial, sans-serif; font-size: 9px; fill: rgb(51, 51, 51); fill-opacity: 1; white-space: pre;\">2</text></g><g class=\"ytick\"><text text-anchor=\"end\" x=\"71.6\" y=\"3.15\" transform=\"translate(0,283.84000000000003)\" style=\"font-family: 'Open Sans', verdana, arial, sans-serif; font-size: 9px; fill: rgb(51, 51, 51); fill-opacity: 1; white-space: pre;\">5</text></g><g class=\"ytick\"><text text-anchor=\"end\" x=\"71.6\" y=\"4.199999999999999\" transform=\"translate(0,263.24)\" style=\"font-family: 'Open Sans', verdana, arial, sans-serif; font-size: 12px; fill: rgb(51, 51, 51); fill-opacity: 1; white-space: pre;\">1000</text></g><g class=\"ytick\"><text text-anchor=\"end\" x=\"71.6\" y=\"3.15\" transform=\"translate(0,242.64)\" style=\"font-family: 'Open Sans', verdana, arial, sans-serif; font-size: 9px; fill: rgb(51, 51, 51); fill-opacity: 1; white-space: pre;\">2</text></g><g class=\"ytick\"><text text-anchor=\"end\" x=\"71.6\" y=\"3.15\" transform=\"translate(0,215.42000000000002)\" style=\"font-family: 'Open Sans', verdana, arial, sans-serif; font-size: 9px; fill: rgb(51, 51, 51); fill-opacity: 1; white-space: pre;\">5</text></g><g class=\"ytick\"><text text-anchor=\"end\" x=\"71.6\" y=\"4.199999999999999\" transform=\"translate(0,194.82)\" style=\"font-family: 'Open Sans', verdana, arial, sans-serif; font-size: 12px; fill: rgb(51, 51, 51); fill-opacity: 1; white-space: pre;\">10k</text></g><g class=\"ytick\"><text text-anchor=\"end\" x=\"71.6\" y=\"3.15\" transform=\"translate(0,174.23000000000002)\" style=\"font-family: 'Open Sans', verdana, arial, sans-serif; font-size: 9px; fill: rgb(51, 51, 51); fill-opacity: 1; white-space: pre;\">2</text></g><g class=\"ytick\"><text text-anchor=\"end\" x=\"71.6\" y=\"3.15\" transform=\"translate(0,147)\" style=\"font-family: 'Open Sans', verdana, arial, sans-serif; font-size: 9px; fill: rgb(51, 51, 51); fill-opacity: 1; white-space: pre;\">5</text></g><g class=\"ytick\"><text text-anchor=\"end\" x=\"71.6\" y=\"4.199999999999999\" transform=\"translate(0,126.4)\" style=\"font-family: 'Open Sans', verdana, arial, sans-serif; font-size: 12px; fill: rgb(51, 51, 51); fill-opacity: 1; white-space: pre;\">100k</text></g><g class=\"ytick\"><text text-anchor=\"end\" x=\"71.6\" y=\"3.15\" transform=\"translate(0,105.81)\" style=\"font-family: 'Open Sans', verdana, arial, sans-serif; font-size: 9px; fill: rgb(51, 51, 51); fill-opacity: 1; white-space: pre;\">2</text></g></g><g class=\"overaxes-above\"/></g></g><g class=\"polarlayer\"/><g class=\"ternarylayer\"/><g class=\"geolayer\"/><g class=\"funnelarealayer\"/><g class=\"pielayer\"/><g class=\"treemaplayer\"/><g class=\"sunburstlayer\"/><g class=\"glimages\"/><defs id=\"topdefs-8bfee0\"><g class=\"clips\"/><clipPath id=\"legend8bfee0\"><rect width=\"116\" height=\"102\" x=\"0\" y=\"0\"/></clipPath></defs><g class=\"layer-above\"><g class=\"imagelayer\"/><g class=\"shapelayer\"><path data-index=\"0\" fill-rule=\"evenodd\" d=\"M632.21,468.5L632.21,126.4\" clip-path=\"url('#clip8bfee0xy')\" style=\"opacity: 0.3; stroke: rgb(76, 120, 168); stroke-opacity: 1; fill: rgb(0, 0, 0); fill-opacity: 1; stroke-width: 3px;\"/><path data-index=\"1\" fill-rule=\"evenodd\" d=\"M609.26,468.5L609.26,126.4\" clip-path=\"url('#clip8bfee0xy')\" style=\"opacity: 0.3; stroke: rgb(245, 133, 24); stroke-opacity: 1; fill: rgb(0, 0, 0); fill-opacity: 1; stroke-width: 3px;\"/><path data-index=\"2\" fill-rule=\"evenodd\" d=\"M632.21,468.5L632.21,126.4\" clip-path=\"url('#clip8bfee0xy')\" style=\"opacity: 0.3; stroke: rgb(228, 87, 86); stroke-opacity: 1; fill: rgb(0, 0, 0); fill-opacity: 1; stroke-width: 3px;\"/><path data-index=\"3\" fill-rule=\"evenodd\" d=\"M792.79,468.5L792.79,126.4\" clip-path=\"url('#clip8bfee0xy')\" style=\"opacity: 0.3; stroke: rgb(114, 183, 178); stroke-opacity: 1; fill: rgb(0, 0, 0); fill-opacity: 1; stroke-width: 3px;\"/></g></g><g class=\"infolayer\"><g class=\"legend\" pointer-events=\"all\" transform=\"translate(972.5, 100)\"><rect class=\"bg\" shape-rendering=\"crispEdges\" width=\"116\" height=\"102\" x=\"0\" y=\"0\" style=\"stroke: rgb(68, 68, 68); stroke-opacity: 1; fill: rgb(255, 255, 255); fill-opacity: 1; stroke-width: 0px;\"/><g class=\"scrollbox\" transform=\"translate(0, 0)\" clip-path=\"url('#legend8bfee0')\"><text class=\"legendtitletext user-select-none\" text-anchor=\"start\" x=\"2\" y=\"15.600000000000001\" style=\"font-family: 'Open Sans', verdana, arial, sans-serif; font-size: 12px; fill: rgb(51, 51, 51); fill-opacity: 1; white-space: pre;\">State</text><g class=\"groups\" transform=\"translate(0, 0)\"><g class=\"traces\" transform=\"translate(0, 30.1)\" style=\"opacity: 1;\"><text class=\"legendtext user-select-none\" text-anchor=\"start\" x=\"40\" y=\"4.680000000000001\" style=\"font-family: 'Open Sans', verdana, arial, sans-serif; font-size: 12px; fill: rgb(51, 51, 51); fill-opacity: 1; white-space: pre;\">New Jersey</text><g class=\"layers\" style=\"opacity: 1;\"><g class=\"legendfill\"/><g class=\"legendlines\"/><g class=\"legendsymbols\"><g class=\"legendpoints\"><path class=\"scatterpts\" transform=\"translate(20,0)\" d=\"M3,0A3,3 0 1,1 0,-3A3,3 0 0,1 3,0Z\" style=\"opacity: 1; stroke-width: 0px; fill: rgb(76, 120, 168); fill-opacity: 1;\"/></g></g></g><rect class=\"legendtoggle\" pointer-events=\"all\" x=\"0\" y=\"-9.5\" width=\"110.890625\" height=\"19\" style=\"cursor: pointer; fill: rgb(0, 0, 0); fill-opacity: 0;\"/></g></g><g class=\"groups\" transform=\"translate(0, 0)\"><g class=\"traces\" transform=\"translate(0, 49.1)\" style=\"opacity: 1;\"><text class=\"legendtext user-select-none\" text-anchor=\"start\" x=\"40\" y=\"4.680000000000001\" style=\"font-family: 'Open Sans', verdana, arial, sans-serif; font-size: 12px; fill: rgb(51, 51, 51); fill-opacity: 1; white-space: pre;\">New York</text><g class=\"layers\" style=\"opacity: 1;\"><g class=\"legendfill\"/><g class=\"legendlines\"/><g class=\"legendsymbols\"><g class=\"legendpoints\"><path class=\"scatterpts\" transform=\"translate(20,0)\" d=\"M3,0A3,3 0 1,1 0,-3A3,3 0 0,1 3,0Z\" style=\"opacity: 1; stroke-width: 0px; fill: rgb(245, 133, 24); fill-opacity: 1;\"/></g></g></g><rect class=\"legendtoggle\" pointer-events=\"all\" x=\"0\" y=\"-9.5\" width=\"110.890625\" height=\"19\" style=\"cursor: pointer; fill: rgb(0, 0, 0); fill-opacity: 0;\"/></g></g><g class=\"groups\" transform=\"translate(0, 0)\"><g class=\"traces\" transform=\"translate(0, 68.1)\" style=\"opacity: 1;\"><text class=\"legendtext user-select-none\" text-anchor=\"start\" x=\"40\" y=\"4.680000000000001\" style=\"font-family: 'Open Sans', verdana, arial, sans-serif; font-size: 12px; fill: rgb(51, 51, 51); fill-opacity: 1; white-space: pre;\">Virginia</text><g class=\"layers\" style=\"opacity: 1;\"><g class=\"legendfill\"/><g class=\"legendlines\"/><g class=\"legendsymbols\"><g class=\"legendpoints\"><path class=\"scatterpts\" transform=\"translate(20,0)\" d=\"M3,0A3,3 0 1,1 0,-3A3,3 0 0,1 3,0Z\" style=\"opacity: 1; stroke-width: 0px; fill: rgb(228, 87, 86); fill-opacity: 1;\"/></g></g></g><rect class=\"legendtoggle\" pointer-events=\"all\" x=\"0\" y=\"-9.5\" width=\"110.890625\" height=\"19\" style=\"cursor: pointer; fill: rgb(0, 0, 0); fill-opacity: 0;\"/></g></g><g class=\"groups\" transform=\"translate(0, 0)\"><g class=\"traces\" transform=\"translate(0, 87.1)\" style=\"opacity: 1;\"><text class=\"legendtext user-select-none\" text-anchor=\"start\" x=\"40\" y=\"4.680000000000001\" style=\"font-family: 'Open Sans', verdana, arial, sans-serif; font-size: 12px; fill: rgb(51, 51, 51); fill-opacity: 1; white-space: pre;\">Washington</text><g class=\"layers\" style=\"opacity: 1;\"><g class=\"legendfill\"/><g class=\"legendlines\"/><g class=\"legendsymbols\"><g class=\"legendpoints\"><path class=\"scatterpts\" transform=\"translate(20,0)\" d=\"M3,0A3,3 0 1,1 0,-3A3,3 0 0,1 3,0Z\" style=\"opacity: 1; stroke-width: 0px; fill: rgb(114, 183, 178); fill-opacity: 1;\"/></g></g></g><rect class=\"legendtoggle\" pointer-events=\"all\" x=\"0\" y=\"-9.5\" width=\"110.890625\" height=\"19\" style=\"cursor: pointer; fill: rgb(0, 0, 0); fill-opacity: 0;\"/></g></g></g><rect class=\"scrollbar\" rx=\"20\" ry=\"3\" width=\"0\" height=\"0\" x=\"0\" y=\"0\" style=\"fill: rgb(128, 139, 164); fill-opacity: 1;\"/></g><g class=\"g-gtitle\"><text class=\"gtitle\" x=\"550\" y=\"50\" text-anchor=\"middle\" dy=\"0em\" style=\"font-family: 'Open Sans', verdana, arial, sans-serif; font-size: 17px; fill: rgb(51, 51, 51); opacity: 1; font-weight: normal; white-space: pre;\">Confirmed Cases in Select States</text></g><g class=\"g-xtitle\"><text class=\"xtitle\" x=\"517.5\" y=\"533.3\" text-anchor=\"middle\" style=\"font-family: 'Open Sans', verdana, arial, sans-serif; font-size: 14px; fill: rgb(51, 51, 51); opacity: 1; font-weight: normal; white-space: pre;\">Date</text></g><g class=\"g-ytitle\"><text class=\"ytitle\" transform=\"rotate(-90,16.278125000000003,285)\" x=\"16.278125000000003\" y=\"285\" text-anchor=\"middle\" style=\"font-family: 'Open Sans', verdana, arial, sans-serif; font-size: 14px; fill: rgb(51, 51, 51); opacity: 1; font-weight: normal; white-space: pre;\">Confirmed</text></g></g></svg>"
      ]
     },
     "metadata": {},
     "output_type": "display_data"
    }
   ],
   "source": [
    "states = ['New York', 'New Jersey', 'Washington', 'Virginia']\n",
    "fig =px.scatter(data_frame=df_state[df_state.State.isin(states)].loc[df_state.Confirmed > 10], \n",
    "                x='Date', y='Confirmed', color='State',\n",
    "                log_x=False,log_y=True, labels={'y':'Daily New Cases', 'x':'Cumulative Confirmed Cases'},\n",
    "                hover_name='Date', hover_data=['NewConfirmed','Confirmed','DaysElapsed'],\n",
    "                title='Confirmed Cases in Select States', template='ggplot2', \n",
    "                color_discrete_sequence=px.colors.qualitative.T10,\n",
    "               )\n",
    "\n",
    "c = 0\n",
    "for s in states:\n",
    "    containment_date = containment[containment.State==s].Date.values[0]\n",
    "    fig.add_shape(dict(type=\"line\", \n",
    "                       x0=containment_date, y0=1, x1=containment_date, y1=100000, \n",
    "                       line=dict(color=px.colors.qualitative.T10[c],\n",
    "                                 width=3, dash='solid'\n",
    "                                )))\n",
    "    c += 1\n",
    "    print('{} entered containment on {}'.format(s, containment_date))\n",
    "    \n",
    "fig.update_shapes(dict(xref='x', yref='y'))\n",
    "\n",
    "fig.show(renderer='svg', width=1100, height=550)"
   ]
  },
  {
   "cell_type": "markdown",
   "metadata": {},
   "source": [
    "## Testing, testing, testing "
   ]
  },
  {
   "cell_type": "markdown",
   "metadata": {},
   "source": [
    "### Tests vs. Cases\n",
    "As seen in the Wall Street Journal: https://www.wsj.com/articles/how-the-cdcs-restrictive-testing-guidelines-hid-the-coronavirus-epidemic-11584882001.\n"
   ]
  },
  {
   "cell_type": "code",
   "execution_count": 58,
   "metadata": {},
   "outputs": [
    {
     "data": {
      "text/html": [
       "<div>\n",
       "<style scoped>\n",
       "    .dataframe tbody tr th:only-of-type {\n",
       "        vertical-align: middle;\n",
       "    }\n",
       "\n",
       "    .dataframe tbody tr th {\n",
       "        vertical-align: top;\n",
       "    }\n",
       "\n",
       "    .dataframe thead th {\n",
       "        text-align: right;\n",
       "    }\n",
       "</style>\n",
       "<table border=\"1\" class=\"dataframe\">\n",
       "  <thead>\n",
       "    <tr style=\"text-align: right;\">\n",
       "      <th></th>\n",
       "      <th>State</th>\n",
       "      <th>Date</th>\n",
       "      <th>Positive</th>\n",
       "      <th>Negative</th>\n",
       "      <th>Pending</th>\n",
       "      <th>HospitalizedCurrently</th>\n",
       "      <th>HospitalizedCumulative</th>\n",
       "      <th>InIcuCurrently</th>\n",
       "      <th>InIcuCumulative</th>\n",
       "      <th>OnVentilatorCurrently</th>\n",
       "      <th>OnVentilatorCumulative</th>\n",
       "      <th>Recovered</th>\n",
       "      <th>Death</th>\n",
       "      <th>Hospitalized</th>\n",
       "      <th>Total</th>\n",
       "      <th>TotalTestResults</th>\n",
       "      <th>PosNeg</th>\n",
       "      <th>DeathIncrease</th>\n",
       "      <th>HospitalizedIncrease</th>\n",
       "      <th>NegativeIncrease</th>\n",
       "      <th>PositiveIncrease</th>\n",
       "      <th>TotalTestResultsIncrease</th>\n",
       "    </tr>\n",
       "  </thead>\n",
       "  <tbody>\n",
       "    <tr>\n",
       "      <th>0</th>\n",
       "      <td>AK</td>\n",
       "      <td>2020-04-05</td>\n",
       "      <td>185.0</td>\n",
       "      <td>6099.0</td>\n",
       "      <td>13.0</td>\n",
       "      <td>NaN</td>\n",
       "      <td>20.0</td>\n",
       "      <td>NaN</td>\n",
       "      <td>NaN</td>\n",
       "      <td>NaN</td>\n",
       "      <td>NaN</td>\n",
       "      <td>NaN</td>\n",
       "      <td>6.0</td>\n",
       "      <td>20.0</td>\n",
       "      <td>6284</td>\n",
       "      <td>6284</td>\n",
       "      <td>6284</td>\n",
       "      <td>1.0</td>\n",
       "      <td>4.0</td>\n",
       "      <td>230.0</td>\n",
       "      <td>14.0</td>\n",
       "      <td>244.0</td>\n",
       "    </tr>\n",
       "    <tr>\n",
       "      <th>1</th>\n",
       "      <td>AL</td>\n",
       "      <td>2020-04-05</td>\n",
       "      <td>1796.0</td>\n",
       "      <td>11282.0</td>\n",
       "      <td>40.0</td>\n",
       "      <td>NaN</td>\n",
       "      <td>231.0</td>\n",
       "      <td>NaN</td>\n",
       "      <td>NaN</td>\n",
       "      <td>NaN</td>\n",
       "      <td>NaN</td>\n",
       "      <td>NaN</td>\n",
       "      <td>45.0</td>\n",
       "      <td>231.0</td>\n",
       "      <td>13078</td>\n",
       "      <td>13078</td>\n",
       "      <td>13078</td>\n",
       "      <td>2.0</td>\n",
       "      <td>19.0</td>\n",
       "      <td>2009.0</td>\n",
       "      <td>216.0</td>\n",
       "      <td>2225.0</td>\n",
       "    </tr>\n",
       "    <tr>\n",
       "      <th>2</th>\n",
       "      <td>AR</td>\n",
       "      <td>2020-04-05</td>\n",
       "      <td>830.0</td>\n",
       "      <td>10412.0</td>\n",
       "      <td>0.0</td>\n",
       "      <td>67.0</td>\n",
       "      <td>130.0</td>\n",
       "      <td>NaN</td>\n",
       "      <td>43.0</td>\n",
       "      <td>27.0</td>\n",
       "      <td>39.0</td>\n",
       "      <td>97.0</td>\n",
       "      <td>16.0</td>\n",
       "      <td>130.0</td>\n",
       "      <td>11242</td>\n",
       "      <td>11242</td>\n",
       "      <td>11242</td>\n",
       "      <td>2.0</td>\n",
       "      <td>130.0</td>\n",
       "      <td>785.0</td>\n",
       "      <td>87.0</td>\n",
       "      <td>872.0</td>\n",
       "    </tr>\n",
       "    <tr>\n",
       "      <th>3</th>\n",
       "      <td>AS</td>\n",
       "      <td>2020-04-05</td>\n",
       "      <td>0.0</td>\n",
       "      <td>20.0</td>\n",
       "      <td>6.0</td>\n",
       "      <td>NaN</td>\n",
       "      <td>NaN</td>\n",
       "      <td>NaN</td>\n",
       "      <td>NaN</td>\n",
       "      <td>NaN</td>\n",
       "      <td>NaN</td>\n",
       "      <td>NaN</td>\n",
       "      <td>0.0</td>\n",
       "      <td>NaN</td>\n",
       "      <td>26</td>\n",
       "      <td>20</td>\n",
       "      <td>20</td>\n",
       "      <td>0.0</td>\n",
       "      <td>0.0</td>\n",
       "      <td>0.0</td>\n",
       "      <td>0.0</td>\n",
       "      <td>0.0</td>\n",
       "    </tr>\n",
       "    <tr>\n",
       "      <th>4</th>\n",
       "      <td>AZ</td>\n",
       "      <td>2020-04-05</td>\n",
       "      <td>2269.0</td>\n",
       "      <td>25141.0</td>\n",
       "      <td>21.0</td>\n",
       "      <td>NaN</td>\n",
       "      <td>310.0</td>\n",
       "      <td>NaN</td>\n",
       "      <td>108.0</td>\n",
       "      <td>NaN</td>\n",
       "      <td>NaN</td>\n",
       "      <td>NaN</td>\n",
       "      <td>64.0</td>\n",
       "      <td>310.0</td>\n",
       "      <td>27410</td>\n",
       "      <td>27410</td>\n",
       "      <td>27410</td>\n",
       "      <td>12.0</td>\n",
       "      <td>13.0</td>\n",
       "      <td>0.0</td>\n",
       "      <td>250.0</td>\n",
       "      <td>250.0</td>\n",
       "    </tr>\n",
       "    <tr>\n",
       "      <th>5</th>\n",
       "      <td>CA</td>\n",
       "      <td>2020-04-05</td>\n",
       "      <td>13438.0</td>\n",
       "      <td>103095.0</td>\n",
       "      <td>15000.0</td>\n",
       "      <td>2398.0</td>\n",
       "      <td>1855.0</td>\n",
       "      <td>1040.0</td>\n",
       "      <td>774.0</td>\n",
       "      <td>NaN</td>\n",
       "      <td>NaN</td>\n",
       "      <td>NaN</td>\n",
       "      <td>319.0</td>\n",
       "      <td>1855.0</td>\n",
       "      <td>131533</td>\n",
       "      <td>116533</td>\n",
       "      <td>116533</td>\n",
       "      <td>43.0</td>\n",
       "      <td>0.0</td>\n",
       "      <td>1421.0</td>\n",
       "      <td>1412.0</td>\n",
       "      <td>2833.0</td>\n",
       "    </tr>\n",
       "    <tr>\n",
       "      <th>6</th>\n",
       "      <td>CO</td>\n",
       "      <td>2020-04-05</td>\n",
       "      <td>4565.0</td>\n",
       "      <td>19335.0</td>\n",
       "      <td>1.0</td>\n",
       "      <td>NaN</td>\n",
       "      <td>875.0</td>\n",
       "      <td>NaN</td>\n",
       "      <td>NaN</td>\n",
       "      <td>NaN</td>\n",
       "      <td>NaN</td>\n",
       "      <td>NaN</td>\n",
       "      <td>126.0</td>\n",
       "      <td>875.0</td>\n",
       "      <td>23900</td>\n",
       "      <td>23900</td>\n",
       "      <td>23900</td>\n",
       "      <td>15.0</td>\n",
       "      <td>52.0</td>\n",
       "      <td>1437.0</td>\n",
       "      <td>392.0</td>\n",
       "      <td>1829.0</td>\n",
       "    </tr>\n",
       "    <tr>\n",
       "      <th>7</th>\n",
       "      <td>CT</td>\n",
       "      <td>2020-04-05</td>\n",
       "      <td>5675.0</td>\n",
       "      <td>17595.0</td>\n",
       "      <td>8.0</td>\n",
       "      <td>1142.0</td>\n",
       "      <td>766.0</td>\n",
       "      <td>NaN</td>\n",
       "      <td>NaN</td>\n",
       "      <td>NaN</td>\n",
       "      <td>NaN</td>\n",
       "      <td>NaN</td>\n",
       "      <td>189.0</td>\n",
       "      <td>766.0</td>\n",
       "      <td>23270</td>\n",
       "      <td>23270</td>\n",
       "      <td>23270</td>\n",
       "      <td>24.0</td>\n",
       "      <td>0.0</td>\n",
       "      <td>842.0</td>\n",
       "      <td>399.0</td>\n",
       "      <td>1241.0</td>\n",
       "    </tr>\n",
       "    <tr>\n",
       "      <th>8</th>\n",
       "      <td>DC</td>\n",
       "      <td>2020-04-05</td>\n",
       "      <td>998.0</td>\n",
       "      <td>5836.0</td>\n",
       "      <td>2.0</td>\n",
       "      <td>NaN</td>\n",
       "      <td>NaN</td>\n",
       "      <td>NaN</td>\n",
       "      <td>NaN</td>\n",
       "      <td>193.0</td>\n",
       "      <td>193.0</td>\n",
       "      <td>258.0</td>\n",
       "      <td>22.0</td>\n",
       "      <td>NaN</td>\n",
       "      <td>6834</td>\n",
       "      <td>6834</td>\n",
       "      <td>6834</td>\n",
       "      <td>1.0</td>\n",
       "      <td>0.0</td>\n",
       "      <td>300.0</td>\n",
       "      <td>96.0</td>\n",
       "      <td>396.0</td>\n",
       "    </tr>\n",
       "    <tr>\n",
       "      <th>9</th>\n",
       "      <td>DE</td>\n",
       "      <td>2020-04-05</td>\n",
       "      <td>673.0</td>\n",
       "      <td>6321.0</td>\n",
       "      <td>32.0</td>\n",
       "      <td>101.0</td>\n",
       "      <td>57.0</td>\n",
       "      <td>NaN</td>\n",
       "      <td>NaN</td>\n",
       "      <td>NaN</td>\n",
       "      <td>NaN</td>\n",
       "      <td>71.0</td>\n",
       "      <td>14.0</td>\n",
       "      <td>57.0</td>\n",
       "      <td>6994</td>\n",
       "      <td>6994</td>\n",
       "      <td>6994</td>\n",
       "      <td>0.0</td>\n",
       "      <td>0.0</td>\n",
       "      <td>447.0</td>\n",
       "      <td>80.0</td>\n",
       "      <td>527.0</td>\n",
       "    </tr>\n",
       "    <tr>\n",
       "      <th>10</th>\n",
       "      <td>FL</td>\n",
       "      <td>2020-04-05</td>\n",
       "      <td>12151.0</td>\n",
       "      <td>101253.0</td>\n",
       "      <td>1129.0</td>\n",
       "      <td>1215.0</td>\n",
       "      <td>1572.0</td>\n",
       "      <td>NaN</td>\n",
       "      <td>NaN</td>\n",
       "      <td>NaN</td>\n",
       "      <td>NaN</td>\n",
       "      <td>NaN</td>\n",
       "      <td>218.0</td>\n",
       "      <td>1572.0</td>\n",
       "      <td>114533</td>\n",
       "      <td>113404</td>\n",
       "      <td>113404</td>\n",
       "      <td>27.0</td>\n",
       "      <td>110.0</td>\n",
       "      <td>10297.0</td>\n",
       "      <td>1040.0</td>\n",
       "      <td>11337.0</td>\n",
       "    </tr>\n",
       "    <tr>\n",
       "      <th>11</th>\n",
       "      <td>GA</td>\n",
       "      <td>2020-04-05</td>\n",
       "      <td>6647.0</td>\n",
       "      <td>21185.0</td>\n",
       "      <td>NaN</td>\n",
       "      <td>NaN</td>\n",
       "      <td>1283.0</td>\n",
       "      <td>NaN</td>\n",
       "      <td>NaN</td>\n",
       "      <td>NaN</td>\n",
       "      <td>NaN</td>\n",
       "      <td>NaN</td>\n",
       "      <td>211.0</td>\n",
       "      <td>1283.0</td>\n",
       "      <td>27832</td>\n",
       "      <td>27832</td>\n",
       "      <td>27832</td>\n",
       "      <td>10.0</td>\n",
       "      <td>44.0</td>\n",
       "      <td>1051.0</td>\n",
       "      <td>487.0</td>\n",
       "      <td>1538.0</td>\n",
       "    </tr>\n",
       "    <tr>\n",
       "      <th>12</th>\n",
       "      <td>GU</td>\n",
       "      <td>2020-04-05</td>\n",
       "      <td>112.0</td>\n",
       "      <td>493.0</td>\n",
       "      <td>NaN</td>\n",
       "      <td>NaN</td>\n",
       "      <td>31.0</td>\n",
       "      <td>NaN</td>\n",
       "      <td>2.0</td>\n",
       "      <td>NaN</td>\n",
       "      <td>NaN</td>\n",
       "      <td>23.0</td>\n",
       "      <td>4.0</td>\n",
       "      <td>31.0</td>\n",
       "      <td>605</td>\n",
       "      <td>605</td>\n",
       "      <td>605</td>\n",
       "      <td>0.0</td>\n",
       "      <td>0.0</td>\n",
       "      <td>21.0</td>\n",
       "      <td>19.0</td>\n",
       "      <td>40.0</td>\n",
       "    </tr>\n",
       "    <tr>\n",
       "      <th>13</th>\n",
       "      <td>HI</td>\n",
       "      <td>2020-04-05</td>\n",
       "      <td>351.0</td>\n",
       "      <td>12604.0</td>\n",
       "      <td>NaN</td>\n",
       "      <td>2.0</td>\n",
       "      <td>19.0</td>\n",
       "      <td>NaN</td>\n",
       "      <td>6.0</td>\n",
       "      <td>NaN</td>\n",
       "      <td>NaN</td>\n",
       "      <td>82.0</td>\n",
       "      <td>4.0</td>\n",
       "      <td>19.0</td>\n",
       "      <td>12955</td>\n",
       "      <td>12955</td>\n",
       "      <td>12955</td>\n",
       "      <td>1.0</td>\n",
       "      <td>1.0</td>\n",
       "      <td>645.0</td>\n",
       "      <td>32.0</td>\n",
       "      <td>677.0</td>\n",
       "    </tr>\n",
       "    <tr>\n",
       "      <th>14</th>\n",
       "      <td>IA</td>\n",
       "      <td>2020-04-05</td>\n",
       "      <td>868.0</td>\n",
       "      <td>9973.0</td>\n",
       "      <td>29.0</td>\n",
       "      <td>91.0</td>\n",
       "      <td>165.0</td>\n",
       "      <td>NaN</td>\n",
       "      <td>NaN</td>\n",
       "      <td>NaN</td>\n",
       "      <td>NaN</td>\n",
       "      <td>188.0</td>\n",
       "      <td>22.0</td>\n",
       "      <td>165.0</td>\n",
       "      <td>10841</td>\n",
       "      <td>10841</td>\n",
       "      <td>10841</td>\n",
       "      <td>8.0</td>\n",
       "      <td>12.0</td>\n",
       "      <td>519.0</td>\n",
       "      <td>82.0</td>\n",
       "      <td>601.0</td>\n",
       "    </tr>\n",
       "    <tr>\n",
       "      <th>15</th>\n",
       "      <td>ID</td>\n",
       "      <td>2020-04-05</td>\n",
       "      <td>1077.0</td>\n",
       "      <td>9184.0</td>\n",
       "      <td>NaN</td>\n",
       "      <td>NaN</td>\n",
       "      <td>66.0</td>\n",
       "      <td>NaN</td>\n",
       "      <td>11.0</td>\n",
       "      <td>NaN</td>\n",
       "      <td>NaN</td>\n",
       "      <td>NaN</td>\n",
       "      <td>10.0</td>\n",
       "      <td>66.0</td>\n",
       "      <td>10261</td>\n",
       "      <td>10261</td>\n",
       "      <td>10261</td>\n",
       "      <td>0.0</td>\n",
       "      <td>4.0</td>\n",
       "      <td>1327.0</td>\n",
       "      <td>64.0</td>\n",
       "      <td>1391.0</td>\n",
       "    </tr>\n",
       "    <tr>\n",
       "      <th>16</th>\n",
       "      <td>IL</td>\n",
       "      <td>2020-04-05</td>\n",
       "      <td>11256.0</td>\n",
       "      <td>47727.0</td>\n",
       "      <td>195.0</td>\n",
       "      <td>NaN</td>\n",
       "      <td>NaN</td>\n",
       "      <td>NaN</td>\n",
       "      <td>NaN</td>\n",
       "      <td>NaN</td>\n",
       "      <td>NaN</td>\n",
       "      <td>NaN</td>\n",
       "      <td>274.0</td>\n",
       "      <td>NaN</td>\n",
       "      <td>58983</td>\n",
       "      <td>58983</td>\n",
       "      <td>58983</td>\n",
       "      <td>31.0</td>\n",
       "      <td>0.0</td>\n",
       "      <td>4503.0</td>\n",
       "      <td>899.0</td>\n",
       "      <td>5402.0</td>\n",
       "    </tr>\n",
       "    <tr>\n",
       "      <th>17</th>\n",
       "      <td>IN</td>\n",
       "      <td>2020-04-05</td>\n",
       "      <td>4411.0</td>\n",
       "      <td>18241.0</td>\n",
       "      <td>NaN</td>\n",
       "      <td>NaN</td>\n",
       "      <td>1.0</td>\n",
       "      <td>NaN</td>\n",
       "      <td>NaN</td>\n",
       "      <td>NaN</td>\n",
       "      <td>NaN</td>\n",
       "      <td>NaN</td>\n",
       "      <td>127.0</td>\n",
       "      <td>1.0</td>\n",
       "      <td>22652</td>\n",
       "      <td>22652</td>\n",
       "      <td>22652</td>\n",
       "      <td>11.0</td>\n",
       "      <td>0.0</td>\n",
       "      <td>2394.0</td>\n",
       "      <td>458.0</td>\n",
       "      <td>2852.0</td>\n",
       "    </tr>\n",
       "    <tr>\n",
       "      <th>18</th>\n",
       "      <td>KS</td>\n",
       "      <td>2020-04-05</td>\n",
       "      <td>747.0</td>\n",
       "      <td>7476.0</td>\n",
       "      <td>21.0</td>\n",
       "      <td>NaN</td>\n",
       "      <td>183.0</td>\n",
       "      <td>NaN</td>\n",
       "      <td>NaN</td>\n",
       "      <td>NaN</td>\n",
       "      <td>NaN</td>\n",
       "      <td>NaN</td>\n",
       "      <td>22.0</td>\n",
       "      <td>183.0</td>\n",
       "      <td>8223</td>\n",
       "      <td>8223</td>\n",
       "      <td>8223</td>\n",
       "      <td>1.0</td>\n",
       "      <td>11.0</td>\n",
       "      <td>596.0</td>\n",
       "      <td>49.0</td>\n",
       "      <td>645.0</td>\n",
       "    </tr>\n",
       "    <tr>\n",
       "      <th>19</th>\n",
       "      <td>KY</td>\n",
       "      <td>2020-04-05</td>\n",
       "      <td>917.0</td>\n",
       "      <td>15746.0</td>\n",
       "      <td>3.0</td>\n",
       "      <td>NaN</td>\n",
       "      <td>NaN</td>\n",
       "      <td>NaN</td>\n",
       "      <td>NaN</td>\n",
       "      <td>NaN</td>\n",
       "      <td>NaN</td>\n",
       "      <td>NaN</td>\n",
       "      <td>40.0</td>\n",
       "      <td>NaN</td>\n",
       "      <td>16663</td>\n",
       "      <td>16663</td>\n",
       "      <td>16663</td>\n",
       "      <td>3.0</td>\n",
       "      <td>0.0</td>\n",
       "      <td>1005.0</td>\n",
       "      <td>86.0</td>\n",
       "      <td>1091.0</td>\n",
       "    </tr>\n",
       "    <tr>\n",
       "      <th>20</th>\n",
       "      <td>LA</td>\n",
       "      <td>2020-04-05</td>\n",
       "      <td>13010.0</td>\n",
       "      <td>47315.0</td>\n",
       "      <td>NaN</td>\n",
       "      <td>1803.0</td>\n",
       "      <td>1707.0</td>\n",
       "      <td>NaN</td>\n",
       "      <td>NaN</td>\n",
       "      <td>561.0</td>\n",
       "      <td>535.0</td>\n",
       "      <td>NaN</td>\n",
       "      <td>477.0</td>\n",
       "      <td>1707.0</td>\n",
       "      <td>60325</td>\n",
       "      <td>60325</td>\n",
       "      <td>60325</td>\n",
       "      <td>68.0</td>\n",
       "      <td>0.0</td>\n",
       "      <td>1313.0</td>\n",
       "      <td>514.0</td>\n",
       "      <td>1827.0</td>\n",
       "    </tr>\n",
       "    <tr>\n",
       "      <th>21</th>\n",
       "      <td>MA</td>\n",
       "      <td>2020-04-05</td>\n",
       "      <td>12500.0</td>\n",
       "      <td>59437.0</td>\n",
       "      <td>NaN</td>\n",
       "      <td>NaN</td>\n",
       "      <td>1145.0</td>\n",
       "      <td>NaN</td>\n",
       "      <td>NaN</td>\n",
       "      <td>NaN</td>\n",
       "      <td>NaN</td>\n",
       "      <td>NaN</td>\n",
       "      <td>231.0</td>\n",
       "      <td>1145.0</td>\n",
       "      <td>71937</td>\n",
       "      <td>71937</td>\n",
       "      <td>71937</td>\n",
       "      <td>15.0</td>\n",
       "      <td>77.0</td>\n",
       "      <td>2373.0</td>\n",
       "      <td>764.0</td>\n",
       "      <td>3137.0</td>\n",
       "    </tr>\n",
       "    <tr>\n",
       "      <th>22</th>\n",
       "      <td>MD</td>\n",
       "      <td>2020-04-05</td>\n",
       "      <td>3609.0</td>\n",
       "      <td>24728.0</td>\n",
       "      <td>12.0</td>\n",
       "      <td>NaN</td>\n",
       "      <td>936.0</td>\n",
       "      <td>NaN</td>\n",
       "      <td>NaN</td>\n",
       "      <td>NaN</td>\n",
       "      <td>NaN</td>\n",
       "      <td>159.0</td>\n",
       "      <td>67.0</td>\n",
       "      <td>936.0</td>\n",
       "      <td>28337</td>\n",
       "      <td>28337</td>\n",
       "      <td>28337</td>\n",
       "      <td>14.0</td>\n",
       "      <td>115.0</td>\n",
       "      <td>2243.0</td>\n",
       "      <td>484.0</td>\n",
       "      <td>2727.0</td>\n",
       "    </tr>\n",
       "    <tr>\n",
       "      <th>23</th>\n",
       "      <td>ME</td>\n",
       "      <td>2020-04-05</td>\n",
       "      <td>470.0</td>\n",
       "      <td>6088.0</td>\n",
       "      <td>17.0</td>\n",
       "      <td>NaN</td>\n",
       "      <td>86.0</td>\n",
       "      <td>NaN</td>\n",
       "      <td>NaN</td>\n",
       "      <td>NaN</td>\n",
       "      <td>NaN</td>\n",
       "      <td>156.0</td>\n",
       "      <td>10.0</td>\n",
       "      <td>86.0</td>\n",
       "      <td>6558</td>\n",
       "      <td>6558</td>\n",
       "      <td>6558</td>\n",
       "      <td>0.0</td>\n",
       "      <td>3.0</td>\n",
       "      <td>0.0</td>\n",
       "      <td>14.0</td>\n",
       "      <td>14.0</td>\n",
       "    </tr>\n",
       "    <tr>\n",
       "      <th>24</th>\n",
       "      <td>MI</td>\n",
       "      <td>2020-04-05</td>\n",
       "      <td>15718.0</td>\n",
       "      <td>30030.0</td>\n",
       "      <td>30.0</td>\n",
       "      <td>NaN</td>\n",
       "      <td>NaN</td>\n",
       "      <td>NaN</td>\n",
       "      <td>NaN</td>\n",
       "      <td>NaN</td>\n",
       "      <td>NaN</td>\n",
       "      <td>NaN</td>\n",
       "      <td>617.0</td>\n",
       "      <td>NaN</td>\n",
       "      <td>45748</td>\n",
       "      <td>45748</td>\n",
       "      <td>45748</td>\n",
       "      <td>77.0</td>\n",
       "      <td>0.0</td>\n",
       "      <td>18137.0</td>\n",
       "      <td>1493.0</td>\n",
       "      <td>19630.0</td>\n",
       "    </tr>\n",
       "    <tr>\n",
       "      <th>25</th>\n",
       "      <td>MN</td>\n",
       "      <td>2020-04-05</td>\n",
       "      <td>935.0</td>\n",
       "      <td>25842.0</td>\n",
       "      <td>NaN</td>\n",
       "      <td>106.0</td>\n",
       "      <td>202.0</td>\n",
       "      <td>48.0</td>\n",
       "      <td>77.0</td>\n",
       "      <td>NaN</td>\n",
       "      <td>NaN</td>\n",
       "      <td>451.0</td>\n",
       "      <td>29.0</td>\n",
       "      <td>202.0</td>\n",
       "      <td>26777</td>\n",
       "      <td>26777</td>\n",
       "      <td>26777</td>\n",
       "      <td>5.0</td>\n",
       "      <td>22.0</td>\n",
       "      <td>1284.0</td>\n",
       "      <td>70.0</td>\n",
       "      <td>1354.0</td>\n",
       "    </tr>\n",
       "    <tr>\n",
       "      <th>26</th>\n",
       "      <td>MO</td>\n",
       "      <td>2020-04-05</td>\n",
       "      <td>2367.0</td>\n",
       "      <td>24882.0</td>\n",
       "      <td>NaN</td>\n",
       "      <td>424.0</td>\n",
       "      <td>NaN</td>\n",
       "      <td>NaN</td>\n",
       "      <td>NaN</td>\n",
       "      <td>NaN</td>\n",
       "      <td>NaN</td>\n",
       "      <td>NaN</td>\n",
       "      <td>34.0</td>\n",
       "      <td>NaN</td>\n",
       "      <td>27249</td>\n",
       "      <td>27249</td>\n",
       "      <td>27249</td>\n",
       "      <td>10.0</td>\n",
       "      <td>0.0</td>\n",
       "      <td>2268.0</td>\n",
       "      <td>76.0</td>\n",
       "      <td>2344.0</td>\n",
       "    </tr>\n",
       "    <tr>\n",
       "      <th>27</th>\n",
       "      <td>MP</td>\n",
       "      <td>2020-04-05</td>\n",
       "      <td>8.0</td>\n",
       "      <td>13.0</td>\n",
       "      <td>10.0</td>\n",
       "      <td>NaN</td>\n",
       "      <td>NaN</td>\n",
       "      <td>NaN</td>\n",
       "      <td>NaN</td>\n",
       "      <td>NaN</td>\n",
       "      <td>NaN</td>\n",
       "      <td>NaN</td>\n",
       "      <td>1.0</td>\n",
       "      <td>NaN</td>\n",
       "      <td>31</td>\n",
       "      <td>21</td>\n",
       "      <td>21</td>\n",
       "      <td>0.0</td>\n",
       "      <td>0.0</td>\n",
       "      <td>0.0</td>\n",
       "      <td>0.0</td>\n",
       "      <td>0.0</td>\n",
       "    </tr>\n",
       "    <tr>\n",
       "      <th>28</th>\n",
       "      <td>MS</td>\n",
       "      <td>2020-04-05</td>\n",
       "      <td>1638.0</td>\n",
       "      <td>5580.0</td>\n",
       "      <td>NaN</td>\n",
       "      <td>NaN</td>\n",
       "      <td>475.0</td>\n",
       "      <td>NaN</td>\n",
       "      <td>NaN</td>\n",
       "      <td>NaN</td>\n",
       "      <td>NaN</td>\n",
       "      <td>NaN</td>\n",
       "      <td>43.0</td>\n",
       "      <td>475.0</td>\n",
       "      <td>7218</td>\n",
       "      <td>7218</td>\n",
       "      <td>7218</td>\n",
       "      <td>8.0</td>\n",
       "      <td>39.0</td>\n",
       "      <td>447.0</td>\n",
       "      <td>183.0</td>\n",
       "      <td>630.0</td>\n",
       "    </tr>\n",
       "    <tr>\n",
       "      <th>29</th>\n",
       "      <td>MT</td>\n",
       "      <td>2020-04-05</td>\n",
       "      <td>286.0</td>\n",
       "      <td>6317.0</td>\n",
       "      <td>0.0</td>\n",
       "      <td>NaN</td>\n",
       "      <td>24.0</td>\n",
       "      <td>NaN</td>\n",
       "      <td>NaN</td>\n",
       "      <td>NaN</td>\n",
       "      <td>NaN</td>\n",
       "      <td>NaN</td>\n",
       "      <td>6.0</td>\n",
       "      <td>24.0</td>\n",
       "      <td>6603</td>\n",
       "      <td>6603</td>\n",
       "      <td>6603</td>\n",
       "      <td>1.0</td>\n",
       "      <td>0.0</td>\n",
       "      <td>405.0</td>\n",
       "      <td>21.0</td>\n",
       "      <td>426.0</td>\n",
       "    </tr>\n",
       "    <tr>\n",
       "      <th>30</th>\n",
       "      <td>NC</td>\n",
       "      <td>2020-04-05</td>\n",
       "      <td>2585.0</td>\n",
       "      <td>37460.0</td>\n",
       "      <td>151.0</td>\n",
       "      <td>261.0</td>\n",
       "      <td>259.0</td>\n",
       "      <td>NaN</td>\n",
       "      <td>NaN</td>\n",
       "      <td>NaN</td>\n",
       "      <td>NaN</td>\n",
       "      <td>NaN</td>\n",
       "      <td>31.0</td>\n",
       "      <td>259.0</td>\n",
       "      <td>40045</td>\n",
       "      <td>40045</td>\n",
       "      <td>40045</td>\n",
       "      <td>7.0</td>\n",
       "      <td>0.0</td>\n",
       "      <td>1089.0</td>\n",
       "      <td>183.0</td>\n",
       "      <td>1272.0</td>\n",
       "    </tr>\n",
       "    <tr>\n",
       "      <th>31</th>\n",
       "      <td>ND</td>\n",
       "      <td>2020-04-05</td>\n",
       "      <td>207.0</td>\n",
       "      <td>6580.0</td>\n",
       "      <td>0.0</td>\n",
       "      <td>20.0</td>\n",
       "      <td>31.0</td>\n",
       "      <td>NaN</td>\n",
       "      <td>NaN</td>\n",
       "      <td>NaN</td>\n",
       "      <td>NaN</td>\n",
       "      <td>63.0</td>\n",
       "      <td>3.0</td>\n",
       "      <td>31.0</td>\n",
       "      <td>6787</td>\n",
       "      <td>6787</td>\n",
       "      <td>6787</td>\n",
       "      <td>0.0</td>\n",
       "      <td>1.0</td>\n",
       "      <td>559.0</td>\n",
       "      <td>21.0</td>\n",
       "      <td>580.0</td>\n",
       "    </tr>\n",
       "    <tr>\n",
       "      <th>32</th>\n",
       "      <td>NE</td>\n",
       "      <td>2020-04-05</td>\n",
       "      <td>363.0</td>\n",
       "      <td>5558.0</td>\n",
       "      <td>12.0</td>\n",
       "      <td>NaN</td>\n",
       "      <td>NaN</td>\n",
       "      <td>NaN</td>\n",
       "      <td>NaN</td>\n",
       "      <td>NaN</td>\n",
       "      <td>NaN</td>\n",
       "      <td>NaN</td>\n",
       "      <td>8.0</td>\n",
       "      <td>NaN</td>\n",
       "      <td>5933</td>\n",
       "      <td>5921</td>\n",
       "      <td>5921</td>\n",
       "      <td>2.0</td>\n",
       "      <td>0.0</td>\n",
       "      <td>500.0</td>\n",
       "      <td>42.0</td>\n",
       "      <td>542.0</td>\n",
       "    </tr>\n",
       "    <tr>\n",
       "      <th>33</th>\n",
       "      <td>NH</td>\n",
       "      <td>2020-04-05</td>\n",
       "      <td>621.0</td>\n",
       "      <td>7411.0</td>\n",
       "      <td>93.0</td>\n",
       "      <td>58.0</td>\n",
       "      <td>86.0</td>\n",
       "      <td>NaN</td>\n",
       "      <td>NaN</td>\n",
       "      <td>NaN</td>\n",
       "      <td>NaN</td>\n",
       "      <td>146.0</td>\n",
       "      <td>9.0</td>\n",
       "      <td>86.0</td>\n",
       "      <td>8125</td>\n",
       "      <td>8032</td>\n",
       "      <td>8032</td>\n",
       "      <td>2.0</td>\n",
       "      <td>6.0</td>\n",
       "      <td>446.0</td>\n",
       "      <td>81.0</td>\n",
       "      <td>527.0</td>\n",
       "    </tr>\n",
       "    <tr>\n",
       "      <th>34</th>\n",
       "      <td>NJ</td>\n",
       "      <td>2020-04-05</td>\n",
       "      <td>37505.0</td>\n",
       "      <td>44661.0</td>\n",
       "      <td>45.0</td>\n",
       "      <td>NaN</td>\n",
       "      <td>NaN</td>\n",
       "      <td>NaN</td>\n",
       "      <td>NaN</td>\n",
       "      <td>NaN</td>\n",
       "      <td>NaN</td>\n",
       "      <td>NaN</td>\n",
       "      <td>917.0</td>\n",
       "      <td>NaN</td>\n",
       "      <td>82166</td>\n",
       "      <td>82166</td>\n",
       "      <td>82166</td>\n",
       "      <td>71.0</td>\n",
       "      <td>0.0</td>\n",
       "      <td>3429.0</td>\n",
       "      <td>3381.0</td>\n",
       "      <td>6810.0</td>\n",
       "    </tr>\n",
       "    <tr>\n",
       "      <th>35</th>\n",
       "      <td>NM</td>\n",
       "      <td>2020-04-05</td>\n",
       "      <td>543.0</td>\n",
       "      <td>16285.0</td>\n",
       "      <td>0.0</td>\n",
       "      <td>37.0</td>\n",
       "      <td>31.0</td>\n",
       "      <td>NaN</td>\n",
       "      <td>NaN</td>\n",
       "      <td>18.0</td>\n",
       "      <td>NaN</td>\n",
       "      <td>54.0</td>\n",
       "      <td>11.0</td>\n",
       "      <td>31.0</td>\n",
       "      <td>16828</td>\n",
       "      <td>16828</td>\n",
       "      <td>16828</td>\n",
       "      <td>1.0</td>\n",
       "      <td>0.0</td>\n",
       "      <td>1148.0</td>\n",
       "      <td>48.0</td>\n",
       "      <td>1196.0</td>\n",
       "    </tr>\n",
       "    <tr>\n",
       "      <th>36</th>\n",
       "      <td>NV</td>\n",
       "      <td>2020-04-05</td>\n",
       "      <td>1836.0</td>\n",
       "      <td>14995.0</td>\n",
       "      <td>0.0</td>\n",
       "      <td>NaN</td>\n",
       "      <td>NaN</td>\n",
       "      <td>NaN</td>\n",
       "      <td>NaN</td>\n",
       "      <td>NaN</td>\n",
       "      <td>NaN</td>\n",
       "      <td>NaN</td>\n",
       "      <td>46.0</td>\n",
       "      <td>NaN</td>\n",
       "      <td>16831</td>\n",
       "      <td>16831</td>\n",
       "      <td>16831</td>\n",
       "      <td>0.0</td>\n",
       "      <td>0.0</td>\n",
       "      <td>574.0</td>\n",
       "      <td>94.0</td>\n",
       "      <td>668.0</td>\n",
       "    </tr>\n",
       "    <tr>\n",
       "      <th>37</th>\n",
       "      <td>NY</td>\n",
       "      <td>2020-04-05</td>\n",
       "      <td>122031.0</td>\n",
       "      <td>180249.0</td>\n",
       "      <td>236.0</td>\n",
       "      <td>16479.0</td>\n",
       "      <td>28092.0</td>\n",
       "      <td>4376.0</td>\n",
       "      <td>3022.0</td>\n",
       "      <td>NaN</td>\n",
       "      <td>NaN</td>\n",
       "      <td>12187.0</td>\n",
       "      <td>4159.0</td>\n",
       "      <td>28092.0</td>\n",
       "      <td>302280</td>\n",
       "      <td>302280</td>\n",
       "      <td>302280</td>\n",
       "      <td>594.0</td>\n",
       "      <td>1709.0</td>\n",
       "      <td>10332.0</td>\n",
       "      <td>8327.0</td>\n",
       "      <td>18659.0</td>\n",
       "    </tr>\n",
       "    <tr>\n",
       "      <th>38</th>\n",
       "      <td>OH</td>\n",
       "      <td>2020-04-05</td>\n",
       "      <td>4043.0</td>\n",
       "      <td>39713.0</td>\n",
       "      <td>361.0</td>\n",
       "      <td>679.0</td>\n",
       "      <td>1104.0</td>\n",
       "      <td>NaN</td>\n",
       "      <td>346.0</td>\n",
       "      <td>NaN</td>\n",
       "      <td>NaN</td>\n",
       "      <td>NaN</td>\n",
       "      <td>119.0</td>\n",
       "      <td>1104.0</td>\n",
       "      <td>43756</td>\n",
       "      <td>43756</td>\n",
       "      <td>43756</td>\n",
       "      <td>17.0</td>\n",
       "      <td>98.0</td>\n",
       "      <td>1581.0</td>\n",
       "      <td>304.0</td>\n",
       "      <td>1885.0</td>\n",
       "    </tr>\n",
       "    <tr>\n",
       "      <th>39</th>\n",
       "      <td>OK</td>\n",
       "      <td>2020-04-05</td>\n",
       "      <td>1252.0</td>\n",
       "      <td>1401.0</td>\n",
       "      <td>102.0</td>\n",
       "      <td>NaN</td>\n",
       "      <td>330.0</td>\n",
       "      <td>NaN</td>\n",
       "      <td>NaN</td>\n",
       "      <td>NaN</td>\n",
       "      <td>NaN</td>\n",
       "      <td>NaN</td>\n",
       "      <td>46.0</td>\n",
       "      <td>330.0</td>\n",
       "      <td>2653</td>\n",
       "      <td>2653</td>\n",
       "      <td>2653</td>\n",
       "      <td>4.0</td>\n",
       "      <td>14.0</td>\n",
       "      <td>39.0</td>\n",
       "      <td>93.0</td>\n",
       "      <td>132.0</td>\n",
       "    </tr>\n",
       "    <tr>\n",
       "      <th>40</th>\n",
       "      <td>OR</td>\n",
       "      <td>2020-04-05</td>\n",
       "      <td>999.0</td>\n",
       "      <td>17926.0</td>\n",
       "      <td>433.0</td>\n",
       "      <td>188.0</td>\n",
       "      <td>239.0</td>\n",
       "      <td>NaN</td>\n",
       "      <td>NaN</td>\n",
       "      <td>38.0</td>\n",
       "      <td>40.0</td>\n",
       "      <td>NaN</td>\n",
       "      <td>26.0</td>\n",
       "      <td>239.0</td>\n",
       "      <td>18925</td>\n",
       "      <td>18925</td>\n",
       "      <td>18925</td>\n",
       "      <td>4.0</td>\n",
       "      <td>35.0</td>\n",
       "      <td>1391.0</td>\n",
       "      <td>100.0</td>\n",
       "      <td>1491.0</td>\n",
       "    </tr>\n",
       "    <tr>\n",
       "      <th>41</th>\n",
       "      <td>PA</td>\n",
       "      <td>2020-04-05</td>\n",
       "      <td>11510.0</td>\n",
       "      <td>66261.0</td>\n",
       "      <td>183.0</td>\n",
       "      <td>NaN</td>\n",
       "      <td>1072.0</td>\n",
       "      <td>NaN</td>\n",
       "      <td>NaN</td>\n",
       "      <td>NaN</td>\n",
       "      <td>NaN</td>\n",
       "      <td>NaN</td>\n",
       "      <td>150.0</td>\n",
       "      <td>1072.0</td>\n",
       "      <td>77771</td>\n",
       "      <td>77771</td>\n",
       "      <td>77771</td>\n",
       "      <td>14.0</td>\n",
       "      <td>68.0</td>\n",
       "      <td>6248.0</td>\n",
       "      <td>1493.0</td>\n",
       "      <td>7741.0</td>\n",
       "    </tr>\n",
       "    <tr>\n",
       "      <th>42</th>\n",
       "      <td>PR</td>\n",
       "      <td>2020-04-05</td>\n",
       "      <td>475.0</td>\n",
       "      <td>3073.0</td>\n",
       "      <td>1039.0</td>\n",
       "      <td>NaN</td>\n",
       "      <td>NaN</td>\n",
       "      <td>NaN</td>\n",
       "      <td>NaN</td>\n",
       "      <td>NaN</td>\n",
       "      <td>NaN</td>\n",
       "      <td>NaN</td>\n",
       "      <td>20.0</td>\n",
       "      <td>NaN</td>\n",
       "      <td>4587</td>\n",
       "      <td>3548</td>\n",
       "      <td>3548</td>\n",
       "      <td>2.0</td>\n",
       "      <td>0.0</td>\n",
       "      <td>1008.0</td>\n",
       "      <td>23.0</td>\n",
       "      <td>1031.0</td>\n",
       "    </tr>\n",
       "    <tr>\n",
       "      <th>43</th>\n",
       "      <td>RI</td>\n",
       "      <td>2020-04-05</td>\n",
       "      <td>922.0</td>\n",
       "      <td>7181.0</td>\n",
       "      <td>138.0</td>\n",
       "      <td>103.0</td>\n",
       "      <td>93.0</td>\n",
       "      <td>33.0</td>\n",
       "      <td>31.0</td>\n",
       "      <td>6.0</td>\n",
       "      <td>6.0</td>\n",
       "      <td>35.0</td>\n",
       "      <td>25.0</td>\n",
       "      <td>93.0</td>\n",
       "      <td>8103</td>\n",
       "      <td>8103</td>\n",
       "      <td>8103</td>\n",
       "      <td>8.0</td>\n",
       "      <td>0.0</td>\n",
       "      <td>1597.0</td>\n",
       "      <td>116.0</td>\n",
       "      <td>1713.0</td>\n",
       "    </tr>\n",
       "    <tr>\n",
       "      <th>44</th>\n",
       "      <td>SC</td>\n",
       "      <td>2020-04-05</td>\n",
       "      <td>2049.0</td>\n",
       "      <td>16927.0</td>\n",
       "      <td>0.0</td>\n",
       "      <td>NaN</td>\n",
       "      <td>241.0</td>\n",
       "      <td>NaN</td>\n",
       "      <td>NaN</td>\n",
       "      <td>NaN</td>\n",
       "      <td>NaN</td>\n",
       "      <td>NaN</td>\n",
       "      <td>44.0</td>\n",
       "      <td>241.0</td>\n",
       "      <td>18976</td>\n",
       "      <td>18976</td>\n",
       "      <td>18976</td>\n",
       "      <td>4.0</td>\n",
       "      <td>0.0</td>\n",
       "      <td>530.0</td>\n",
       "      <td>132.0</td>\n",
       "      <td>662.0</td>\n",
       "    </tr>\n",
       "    <tr>\n",
       "      <th>45</th>\n",
       "      <td>SD</td>\n",
       "      <td>2020-04-05</td>\n",
       "      <td>240.0</td>\n",
       "      <td>5353.0</td>\n",
       "      <td>1.0</td>\n",
       "      <td>NaN</td>\n",
       "      <td>22.0</td>\n",
       "      <td>NaN</td>\n",
       "      <td>NaN</td>\n",
       "      <td>NaN</td>\n",
       "      <td>NaN</td>\n",
       "      <td>84.0</td>\n",
       "      <td>2.0</td>\n",
       "      <td>22.0</td>\n",
       "      <td>5593</td>\n",
       "      <td>5593</td>\n",
       "      <td>5593</td>\n",
       "      <td>0.0</td>\n",
       "      <td>3.0</td>\n",
       "      <td>341.0</td>\n",
       "      <td>28.0</td>\n",
       "      <td>369.0</td>\n",
       "    </tr>\n",
       "    <tr>\n",
       "      <th>46</th>\n",
       "      <td>TN</td>\n",
       "      <td>2020-04-05</td>\n",
       "      <td>3633.0</td>\n",
       "      <td>41667.0</td>\n",
       "      <td>NaN</td>\n",
       "      <td>NaN</td>\n",
       "      <td>328.0</td>\n",
       "      <td>NaN</td>\n",
       "      <td>NaN</td>\n",
       "      <td>NaN</td>\n",
       "      <td>NaN</td>\n",
       "      <td>295.0</td>\n",
       "      <td>44.0</td>\n",
       "      <td>328.0</td>\n",
       "      <td>45300</td>\n",
       "      <td>45300</td>\n",
       "      <td>45300</td>\n",
       "      <td>1.0</td>\n",
       "      <td>17.0</td>\n",
       "      <td>3597.0</td>\n",
       "      <td>312.0</td>\n",
       "      <td>3909.0</td>\n",
       "    </tr>\n",
       "    <tr>\n",
       "      <th>47</th>\n",
       "      <td>TX</td>\n",
       "      <td>2020-04-05</td>\n",
       "      <td>6812.0</td>\n",
       "      <td>64126.0</td>\n",
       "      <td>NaN</td>\n",
       "      <td>NaN</td>\n",
       "      <td>827.0</td>\n",
       "      <td>NaN</td>\n",
       "      <td>NaN</td>\n",
       "      <td>NaN</td>\n",
       "      <td>NaN</td>\n",
       "      <td>38.0</td>\n",
       "      <td>127.0</td>\n",
       "      <td>827.0</td>\n",
       "      <td>70938</td>\n",
       "      <td>70938</td>\n",
       "      <td>70938</td>\n",
       "      <td>22.0</td>\n",
       "      <td>631.0</td>\n",
       "      <td>6485.0</td>\n",
       "      <td>702.0</td>\n",
       "      <td>7187.0</td>\n",
       "    </tr>\n",
       "    <tr>\n",
       "      <th>48</th>\n",
       "      <td>UT</td>\n",
       "      <td>2020-04-05</td>\n",
       "      <td>1605.0</td>\n",
       "      <td>29287.0</td>\n",
       "      <td>NaN</td>\n",
       "      <td>NaN</td>\n",
       "      <td>124.0</td>\n",
       "      <td>NaN</td>\n",
       "      <td>NaN</td>\n",
       "      <td>NaN</td>\n",
       "      <td>NaN</td>\n",
       "      <td>NaN</td>\n",
       "      <td>8.0</td>\n",
       "      <td>124.0</td>\n",
       "      <td>30892</td>\n",
       "      <td>30892</td>\n",
       "      <td>30892</td>\n",
       "      <td>0.0</td>\n",
       "      <td>7.0</td>\n",
       "      <td>2672.0</td>\n",
       "      <td>177.0</td>\n",
       "      <td>2849.0</td>\n",
       "    </tr>\n",
       "    <tr>\n",
       "      <th>49</th>\n",
       "      <td>VA</td>\n",
       "      <td>2020-04-05</td>\n",
       "      <td>2637.0</td>\n",
       "      <td>21034.0</td>\n",
       "      <td>9.0</td>\n",
       "      <td>246.0</td>\n",
       "      <td>431.0</td>\n",
       "      <td>NaN</td>\n",
       "      <td>145.0</td>\n",
       "      <td>NaN</td>\n",
       "      <td>108.0</td>\n",
       "      <td>NaN</td>\n",
       "      <td>51.0</td>\n",
       "      <td>431.0</td>\n",
       "      <td>23671</td>\n",
       "      <td>23671</td>\n",
       "      <td>23671</td>\n",
       "      <td>-1.0</td>\n",
       "      <td>41.0</td>\n",
       "      <td>1889.0</td>\n",
       "      <td>230.0</td>\n",
       "      <td>2119.0</td>\n",
       "    </tr>\n",
       "    <tr>\n",
       "      <th>50</th>\n",
       "      <td>VI</td>\n",
       "      <td>2020-04-05</td>\n",
       "      <td>42.0</td>\n",
       "      <td>206.0</td>\n",
       "      <td>18.0</td>\n",
       "      <td>NaN</td>\n",
       "      <td>NaN</td>\n",
       "      <td>NaN</td>\n",
       "      <td>NaN</td>\n",
       "      <td>NaN</td>\n",
       "      <td>NaN</td>\n",
       "      <td>34.0</td>\n",
       "      <td>1.0</td>\n",
       "      <td>NaN</td>\n",
       "      <td>266</td>\n",
       "      <td>248</td>\n",
       "      <td>248</td>\n",
       "      <td>1.0</td>\n",
       "      <td>0.0</td>\n",
       "      <td>22.0</td>\n",
       "      <td>2.0</td>\n",
       "      <td>24.0</td>\n",
       "    </tr>\n",
       "    <tr>\n",
       "      <th>51</th>\n",
       "      <td>VT</td>\n",
       "      <td>2020-04-05</td>\n",
       "      <td>512.0</td>\n",
       "      <td>6070.0</td>\n",
       "      <td>NaN</td>\n",
       "      <td>29.0</td>\n",
       "      <td>45.0</td>\n",
       "      <td>NaN</td>\n",
       "      <td>NaN</td>\n",
       "      <td>NaN</td>\n",
       "      <td>NaN</td>\n",
       "      <td>15.0</td>\n",
       "      <td>22.0</td>\n",
       "      <td>45.0</td>\n",
       "      <td>6582</td>\n",
       "      <td>6582</td>\n",
       "      <td>6582</td>\n",
       "      <td>2.0</td>\n",
       "      <td>0.0</td>\n",
       "      <td>687.0</td>\n",
       "      <td>51.0</td>\n",
       "      <td>738.0</td>\n",
       "    </tr>\n",
       "    <tr>\n",
       "      <th>52</th>\n",
       "      <td>WA</td>\n",
       "      <td>2020-04-05</td>\n",
       "      <td>7591.0</td>\n",
       "      <td>80327.0</td>\n",
       "      <td>60.0</td>\n",
       "      <td>NaN</td>\n",
       "      <td>254.0</td>\n",
       "      <td>NaN</td>\n",
       "      <td>NaN</td>\n",
       "      <td>NaN</td>\n",
       "      <td>NaN</td>\n",
       "      <td>NaN</td>\n",
       "      <td>310.0</td>\n",
       "      <td>254.0</td>\n",
       "      <td>87918</td>\n",
       "      <td>87918</td>\n",
       "      <td>87918</td>\n",
       "      <td>26.0</td>\n",
       "      <td>0.0</td>\n",
       "      <td>4694.0</td>\n",
       "      <td>625.0</td>\n",
       "      <td>5319.0</td>\n",
       "    </tr>\n",
       "    <tr>\n",
       "      <th>53</th>\n",
       "      <td>WI</td>\n",
       "      <td>2020-04-05</td>\n",
       "      <td>2267.0</td>\n",
       "      <td>25169.0</td>\n",
       "      <td>12.0</td>\n",
       "      <td>NaN</td>\n",
       "      <td>624.0</td>\n",
       "      <td>NaN</td>\n",
       "      <td>175.0</td>\n",
       "      <td>NaN</td>\n",
       "      <td>NaN</td>\n",
       "      <td>NaN</td>\n",
       "      <td>68.0</td>\n",
       "      <td>624.0</td>\n",
       "      <td>27436</td>\n",
       "      <td>27436</td>\n",
       "      <td>27436</td>\n",
       "      <td>12.0</td>\n",
       "      <td>36.0</td>\n",
       "      <td>1310.0</td>\n",
       "      <td>155.0</td>\n",
       "      <td>1465.0</td>\n",
       "    </tr>\n",
       "    <tr>\n",
       "      <th>54</th>\n",
       "      <td>WV</td>\n",
       "      <td>2020-04-05</td>\n",
       "      <td>324.0</td>\n",
       "      <td>8514.0</td>\n",
       "      <td>0.0</td>\n",
       "      <td>NaN</td>\n",
       "      <td>1.0</td>\n",
       "      <td>NaN</td>\n",
       "      <td>NaN</td>\n",
       "      <td>NaN</td>\n",
       "      <td>NaN</td>\n",
       "      <td>NaN</td>\n",
       "      <td>3.0</td>\n",
       "      <td>1.0</td>\n",
       "      <td>8838</td>\n",
       "      <td>8838</td>\n",
       "      <td>8838</td>\n",
       "      <td>1.0</td>\n",
       "      <td>0.0</td>\n",
       "      <td>1110.0</td>\n",
       "      <td>42.0</td>\n",
       "      <td>1152.0</td>\n",
       "    </tr>\n",
       "    <tr>\n",
       "      <th>55</th>\n",
       "      <td>WY</td>\n",
       "      <td>2020-04-05</td>\n",
       "      <td>197.0</td>\n",
       "      <td>3040.0</td>\n",
       "      <td>0.0</td>\n",
       "      <td>NaN</td>\n",
       "      <td>23.0</td>\n",
       "      <td>NaN</td>\n",
       "      <td>NaN</td>\n",
       "      <td>NaN</td>\n",
       "      <td>NaN</td>\n",
       "      <td>50.0</td>\n",
       "      <td>0.0</td>\n",
       "      <td>23.0</td>\n",
       "      <td>3237</td>\n",
       "      <td>3237</td>\n",
       "      <td>3237</td>\n",
       "      <td>0.0</td>\n",
       "      <td>0.0</td>\n",
       "      <td>95.0</td>\n",
       "      <td>10.0</td>\n",
       "      <td>105.0</td>\n",
       "    </tr>\n",
       "  </tbody>\n",
       "</table>\n",
       "</div>"
      ],
      "text/plain": [
       "   State        Date  Positive  Negative  Pending  HospitalizedCurrently  \\\n",
       "0     AK  2020-04-05     185.0    6099.0     13.0                    NaN   \n",
       "1     AL  2020-04-05    1796.0   11282.0     40.0                    NaN   \n",
       "2     AR  2020-04-05     830.0   10412.0      0.0                   67.0   \n",
       "3     AS  2020-04-05       0.0      20.0      6.0                    NaN   \n",
       "4     AZ  2020-04-05    2269.0   25141.0     21.0                    NaN   \n",
       "5     CA  2020-04-05   13438.0  103095.0  15000.0                 2398.0   \n",
       "6     CO  2020-04-05    4565.0   19335.0      1.0                    NaN   \n",
       "7     CT  2020-04-05    5675.0   17595.0      8.0                 1142.0   \n",
       "8     DC  2020-04-05     998.0    5836.0      2.0                    NaN   \n",
       "9     DE  2020-04-05     673.0    6321.0     32.0                  101.0   \n",
       "10    FL  2020-04-05   12151.0  101253.0   1129.0                 1215.0   \n",
       "11    GA  2020-04-05    6647.0   21185.0      NaN                    NaN   \n",
       "12    GU  2020-04-05     112.0     493.0      NaN                    NaN   \n",
       "13    HI  2020-04-05     351.0   12604.0      NaN                    2.0   \n",
       "14    IA  2020-04-05     868.0    9973.0     29.0                   91.0   \n",
       "15    ID  2020-04-05    1077.0    9184.0      NaN                    NaN   \n",
       "16    IL  2020-04-05   11256.0   47727.0    195.0                    NaN   \n",
       "17    IN  2020-04-05    4411.0   18241.0      NaN                    NaN   \n",
       "18    KS  2020-04-05     747.0    7476.0     21.0                    NaN   \n",
       "19    KY  2020-04-05     917.0   15746.0      3.0                    NaN   \n",
       "20    LA  2020-04-05   13010.0   47315.0      NaN                 1803.0   \n",
       "21    MA  2020-04-05   12500.0   59437.0      NaN                    NaN   \n",
       "22    MD  2020-04-05    3609.0   24728.0     12.0                    NaN   \n",
       "23    ME  2020-04-05     470.0    6088.0     17.0                    NaN   \n",
       "24    MI  2020-04-05   15718.0   30030.0     30.0                    NaN   \n",
       "25    MN  2020-04-05     935.0   25842.0      NaN                  106.0   \n",
       "26    MO  2020-04-05    2367.0   24882.0      NaN                  424.0   \n",
       "27    MP  2020-04-05       8.0      13.0     10.0                    NaN   \n",
       "28    MS  2020-04-05    1638.0    5580.0      NaN                    NaN   \n",
       "29    MT  2020-04-05     286.0    6317.0      0.0                    NaN   \n",
       "30    NC  2020-04-05    2585.0   37460.0    151.0                  261.0   \n",
       "31    ND  2020-04-05     207.0    6580.0      0.0                   20.0   \n",
       "32    NE  2020-04-05     363.0    5558.0     12.0                    NaN   \n",
       "33    NH  2020-04-05     621.0    7411.0     93.0                   58.0   \n",
       "34    NJ  2020-04-05   37505.0   44661.0     45.0                    NaN   \n",
       "35    NM  2020-04-05     543.0   16285.0      0.0                   37.0   \n",
       "36    NV  2020-04-05    1836.0   14995.0      0.0                    NaN   \n",
       "37    NY  2020-04-05  122031.0  180249.0    236.0                16479.0   \n",
       "38    OH  2020-04-05    4043.0   39713.0    361.0                  679.0   \n",
       "39    OK  2020-04-05    1252.0    1401.0    102.0                    NaN   \n",
       "40    OR  2020-04-05     999.0   17926.0    433.0                  188.0   \n",
       "41    PA  2020-04-05   11510.0   66261.0    183.0                    NaN   \n",
       "42    PR  2020-04-05     475.0    3073.0   1039.0                    NaN   \n",
       "43    RI  2020-04-05     922.0    7181.0    138.0                  103.0   \n",
       "44    SC  2020-04-05    2049.0   16927.0      0.0                    NaN   \n",
       "45    SD  2020-04-05     240.0    5353.0      1.0                    NaN   \n",
       "46    TN  2020-04-05    3633.0   41667.0      NaN                    NaN   \n",
       "47    TX  2020-04-05    6812.0   64126.0      NaN                    NaN   \n",
       "48    UT  2020-04-05    1605.0   29287.0      NaN                    NaN   \n",
       "49    VA  2020-04-05    2637.0   21034.0      9.0                  246.0   \n",
       "50    VI  2020-04-05      42.0     206.0     18.0                    NaN   \n",
       "51    VT  2020-04-05     512.0    6070.0      NaN                   29.0   \n",
       "52    WA  2020-04-05    7591.0   80327.0     60.0                    NaN   \n",
       "53    WI  2020-04-05    2267.0   25169.0     12.0                    NaN   \n",
       "54    WV  2020-04-05     324.0    8514.0      0.0                    NaN   \n",
       "55    WY  2020-04-05     197.0    3040.0      0.0                    NaN   \n",
       "\n",
       "    HospitalizedCumulative  InIcuCurrently  InIcuCumulative  \\\n",
       "0                     20.0             NaN              NaN   \n",
       "1                    231.0             NaN              NaN   \n",
       "2                    130.0             NaN             43.0   \n",
       "3                      NaN             NaN              NaN   \n",
       "4                    310.0             NaN            108.0   \n",
       "5                   1855.0          1040.0            774.0   \n",
       "6                    875.0             NaN              NaN   \n",
       "7                    766.0             NaN              NaN   \n",
       "8                      NaN             NaN              NaN   \n",
       "9                     57.0             NaN              NaN   \n",
       "10                  1572.0             NaN              NaN   \n",
       "11                  1283.0             NaN              NaN   \n",
       "12                    31.0             NaN              2.0   \n",
       "13                    19.0             NaN              6.0   \n",
       "14                   165.0             NaN              NaN   \n",
       "15                    66.0             NaN             11.0   \n",
       "16                     NaN             NaN              NaN   \n",
       "17                     1.0             NaN              NaN   \n",
       "18                   183.0             NaN              NaN   \n",
       "19                     NaN             NaN              NaN   \n",
       "20                  1707.0             NaN              NaN   \n",
       "21                  1145.0             NaN              NaN   \n",
       "22                   936.0             NaN              NaN   \n",
       "23                    86.0             NaN              NaN   \n",
       "24                     NaN             NaN              NaN   \n",
       "25                   202.0            48.0             77.0   \n",
       "26                     NaN             NaN              NaN   \n",
       "27                     NaN             NaN              NaN   \n",
       "28                   475.0             NaN              NaN   \n",
       "29                    24.0             NaN              NaN   \n",
       "30                   259.0             NaN              NaN   \n",
       "31                    31.0             NaN              NaN   \n",
       "32                     NaN             NaN              NaN   \n",
       "33                    86.0             NaN              NaN   \n",
       "34                     NaN             NaN              NaN   \n",
       "35                    31.0             NaN              NaN   \n",
       "36                     NaN             NaN              NaN   \n",
       "37                 28092.0          4376.0           3022.0   \n",
       "38                  1104.0             NaN            346.0   \n",
       "39                   330.0             NaN              NaN   \n",
       "40                   239.0             NaN              NaN   \n",
       "41                  1072.0             NaN              NaN   \n",
       "42                     NaN             NaN              NaN   \n",
       "43                    93.0            33.0             31.0   \n",
       "44                   241.0             NaN              NaN   \n",
       "45                    22.0             NaN              NaN   \n",
       "46                   328.0             NaN              NaN   \n",
       "47                   827.0             NaN              NaN   \n",
       "48                   124.0             NaN              NaN   \n",
       "49                   431.0             NaN            145.0   \n",
       "50                     NaN             NaN              NaN   \n",
       "51                    45.0             NaN              NaN   \n",
       "52                   254.0             NaN              NaN   \n",
       "53                   624.0             NaN            175.0   \n",
       "54                     1.0             NaN              NaN   \n",
       "55                    23.0             NaN              NaN   \n",
       "\n",
       "    OnVentilatorCurrently  OnVentilatorCumulative  Recovered   Death  \\\n",
       "0                     NaN                     NaN        NaN     6.0   \n",
       "1                     NaN                     NaN        NaN    45.0   \n",
       "2                    27.0                    39.0       97.0    16.0   \n",
       "3                     NaN                     NaN        NaN     0.0   \n",
       "4                     NaN                     NaN        NaN    64.0   \n",
       "5                     NaN                     NaN        NaN   319.0   \n",
       "6                     NaN                     NaN        NaN   126.0   \n",
       "7                     NaN                     NaN        NaN   189.0   \n",
       "8                   193.0                   193.0      258.0    22.0   \n",
       "9                     NaN                     NaN       71.0    14.0   \n",
       "10                    NaN                     NaN        NaN   218.0   \n",
       "11                    NaN                     NaN        NaN   211.0   \n",
       "12                    NaN                     NaN       23.0     4.0   \n",
       "13                    NaN                     NaN       82.0     4.0   \n",
       "14                    NaN                     NaN      188.0    22.0   \n",
       "15                    NaN                     NaN        NaN    10.0   \n",
       "16                    NaN                     NaN        NaN   274.0   \n",
       "17                    NaN                     NaN        NaN   127.0   \n",
       "18                    NaN                     NaN        NaN    22.0   \n",
       "19                    NaN                     NaN        NaN    40.0   \n",
       "20                  561.0                   535.0        NaN   477.0   \n",
       "21                    NaN                     NaN        NaN   231.0   \n",
       "22                    NaN                     NaN      159.0    67.0   \n",
       "23                    NaN                     NaN      156.0    10.0   \n",
       "24                    NaN                     NaN        NaN   617.0   \n",
       "25                    NaN                     NaN      451.0    29.0   \n",
       "26                    NaN                     NaN        NaN    34.0   \n",
       "27                    NaN                     NaN        NaN     1.0   \n",
       "28                    NaN                     NaN        NaN    43.0   \n",
       "29                    NaN                     NaN        NaN     6.0   \n",
       "30                    NaN                     NaN        NaN    31.0   \n",
       "31                    NaN                     NaN       63.0     3.0   \n",
       "32                    NaN                     NaN        NaN     8.0   \n",
       "33                    NaN                     NaN      146.0     9.0   \n",
       "34                    NaN                     NaN        NaN   917.0   \n",
       "35                   18.0                     NaN       54.0    11.0   \n",
       "36                    NaN                     NaN        NaN    46.0   \n",
       "37                    NaN                     NaN    12187.0  4159.0   \n",
       "38                    NaN                     NaN        NaN   119.0   \n",
       "39                    NaN                     NaN        NaN    46.0   \n",
       "40                   38.0                    40.0        NaN    26.0   \n",
       "41                    NaN                     NaN        NaN   150.0   \n",
       "42                    NaN                     NaN        NaN    20.0   \n",
       "43                    6.0                     6.0       35.0    25.0   \n",
       "44                    NaN                     NaN        NaN    44.0   \n",
       "45                    NaN                     NaN       84.0     2.0   \n",
       "46                    NaN                     NaN      295.0    44.0   \n",
       "47                    NaN                     NaN       38.0   127.0   \n",
       "48                    NaN                     NaN        NaN     8.0   \n",
       "49                    NaN                   108.0        NaN    51.0   \n",
       "50                    NaN                     NaN       34.0     1.0   \n",
       "51                    NaN                     NaN       15.0    22.0   \n",
       "52                    NaN                     NaN        NaN   310.0   \n",
       "53                    NaN                     NaN        NaN    68.0   \n",
       "54                    NaN                     NaN        NaN     3.0   \n",
       "55                    NaN                     NaN       50.0     0.0   \n",
       "\n",
       "    Hospitalized   Total  TotalTestResults  PosNeg  DeathIncrease  \\\n",
       "0           20.0    6284              6284    6284            1.0   \n",
       "1          231.0   13078             13078   13078            2.0   \n",
       "2          130.0   11242             11242   11242            2.0   \n",
       "3            NaN      26                20      20            0.0   \n",
       "4          310.0   27410             27410   27410           12.0   \n",
       "5         1855.0  131533            116533  116533           43.0   \n",
       "6          875.0   23900             23900   23900           15.0   \n",
       "7          766.0   23270             23270   23270           24.0   \n",
       "8            NaN    6834              6834    6834            1.0   \n",
       "9           57.0    6994              6994    6994            0.0   \n",
       "10        1572.0  114533            113404  113404           27.0   \n",
       "11        1283.0   27832             27832   27832           10.0   \n",
       "12          31.0     605               605     605            0.0   \n",
       "13          19.0   12955             12955   12955            1.0   \n",
       "14         165.0   10841             10841   10841            8.0   \n",
       "15          66.0   10261             10261   10261            0.0   \n",
       "16           NaN   58983             58983   58983           31.0   \n",
       "17           1.0   22652             22652   22652           11.0   \n",
       "18         183.0    8223              8223    8223            1.0   \n",
       "19           NaN   16663             16663   16663            3.0   \n",
       "20        1707.0   60325             60325   60325           68.0   \n",
       "21        1145.0   71937             71937   71937           15.0   \n",
       "22         936.0   28337             28337   28337           14.0   \n",
       "23          86.0    6558              6558    6558            0.0   \n",
       "24           NaN   45748             45748   45748           77.0   \n",
       "25         202.0   26777             26777   26777            5.0   \n",
       "26           NaN   27249             27249   27249           10.0   \n",
       "27           NaN      31                21      21            0.0   \n",
       "28         475.0    7218              7218    7218            8.0   \n",
       "29          24.0    6603              6603    6603            1.0   \n",
       "30         259.0   40045             40045   40045            7.0   \n",
       "31          31.0    6787              6787    6787            0.0   \n",
       "32           NaN    5933              5921    5921            2.0   \n",
       "33          86.0    8125              8032    8032            2.0   \n",
       "34           NaN   82166             82166   82166           71.0   \n",
       "35          31.0   16828             16828   16828            1.0   \n",
       "36           NaN   16831             16831   16831            0.0   \n",
       "37       28092.0  302280            302280  302280          594.0   \n",
       "38        1104.0   43756             43756   43756           17.0   \n",
       "39         330.0    2653              2653    2653            4.0   \n",
       "40         239.0   18925             18925   18925            4.0   \n",
       "41        1072.0   77771             77771   77771           14.0   \n",
       "42           NaN    4587              3548    3548            2.0   \n",
       "43          93.0    8103              8103    8103            8.0   \n",
       "44         241.0   18976             18976   18976            4.0   \n",
       "45          22.0    5593              5593    5593            0.0   \n",
       "46         328.0   45300             45300   45300            1.0   \n",
       "47         827.0   70938             70938   70938           22.0   \n",
       "48         124.0   30892             30892   30892            0.0   \n",
       "49         431.0   23671             23671   23671           -1.0   \n",
       "50           NaN     266               248     248            1.0   \n",
       "51          45.0    6582              6582    6582            2.0   \n",
       "52         254.0   87918             87918   87918           26.0   \n",
       "53         624.0   27436             27436   27436           12.0   \n",
       "54           1.0    8838              8838    8838            1.0   \n",
       "55          23.0    3237              3237    3237            0.0   \n",
       "\n",
       "    HospitalizedIncrease  NegativeIncrease  PositiveIncrease  \\\n",
       "0                    4.0             230.0              14.0   \n",
       "1                   19.0            2009.0             216.0   \n",
       "2                  130.0             785.0              87.0   \n",
       "3                    0.0               0.0               0.0   \n",
       "4                   13.0               0.0             250.0   \n",
       "5                    0.0            1421.0            1412.0   \n",
       "6                   52.0            1437.0             392.0   \n",
       "7                    0.0             842.0             399.0   \n",
       "8                    0.0             300.0              96.0   \n",
       "9                    0.0             447.0              80.0   \n",
       "10                 110.0           10297.0            1040.0   \n",
       "11                  44.0            1051.0             487.0   \n",
       "12                   0.0              21.0              19.0   \n",
       "13                   1.0             645.0              32.0   \n",
       "14                  12.0             519.0              82.0   \n",
       "15                   4.0            1327.0              64.0   \n",
       "16                   0.0            4503.0             899.0   \n",
       "17                   0.0            2394.0             458.0   \n",
       "18                  11.0             596.0              49.0   \n",
       "19                   0.0            1005.0              86.0   \n",
       "20                   0.0            1313.0             514.0   \n",
       "21                  77.0            2373.0             764.0   \n",
       "22                 115.0            2243.0             484.0   \n",
       "23                   3.0               0.0              14.0   \n",
       "24                   0.0           18137.0            1493.0   \n",
       "25                  22.0            1284.0              70.0   \n",
       "26                   0.0            2268.0              76.0   \n",
       "27                   0.0               0.0               0.0   \n",
       "28                  39.0             447.0             183.0   \n",
       "29                   0.0             405.0              21.0   \n",
       "30                   0.0            1089.0             183.0   \n",
       "31                   1.0             559.0              21.0   \n",
       "32                   0.0             500.0              42.0   \n",
       "33                   6.0             446.0              81.0   \n",
       "34                   0.0            3429.0            3381.0   \n",
       "35                   0.0            1148.0              48.0   \n",
       "36                   0.0             574.0              94.0   \n",
       "37                1709.0           10332.0            8327.0   \n",
       "38                  98.0            1581.0             304.0   \n",
       "39                  14.0              39.0              93.0   \n",
       "40                  35.0            1391.0             100.0   \n",
       "41                  68.0            6248.0            1493.0   \n",
       "42                   0.0            1008.0              23.0   \n",
       "43                   0.0            1597.0             116.0   \n",
       "44                   0.0             530.0             132.0   \n",
       "45                   3.0             341.0              28.0   \n",
       "46                  17.0            3597.0             312.0   \n",
       "47                 631.0            6485.0             702.0   \n",
       "48                   7.0            2672.0             177.0   \n",
       "49                  41.0            1889.0             230.0   \n",
       "50                   0.0              22.0               2.0   \n",
       "51                   0.0             687.0              51.0   \n",
       "52                   0.0            4694.0             625.0   \n",
       "53                  36.0            1310.0             155.0   \n",
       "54                   0.0            1110.0              42.0   \n",
       "55                   0.0              95.0              10.0   \n",
       "\n",
       "    TotalTestResultsIncrease  \n",
       "0                      244.0  \n",
       "1                     2225.0  \n",
       "2                      872.0  \n",
       "3                        0.0  \n",
       "4                      250.0  \n",
       "5                     2833.0  \n",
       "6                     1829.0  \n",
       "7                     1241.0  \n",
       "8                      396.0  \n",
       "9                      527.0  \n",
       "10                   11337.0  \n",
       "11                    1538.0  \n",
       "12                      40.0  \n",
       "13                     677.0  \n",
       "14                     601.0  \n",
       "15                    1391.0  \n",
       "16                    5402.0  \n",
       "17                    2852.0  \n",
       "18                     645.0  \n",
       "19                    1091.0  \n",
       "20                    1827.0  \n",
       "21                    3137.0  \n",
       "22                    2727.0  \n",
       "23                      14.0  \n",
       "24                   19630.0  \n",
       "25                    1354.0  \n",
       "26                    2344.0  \n",
       "27                       0.0  \n",
       "28                     630.0  \n",
       "29                     426.0  \n",
       "30                    1272.0  \n",
       "31                     580.0  \n",
       "32                     542.0  \n",
       "33                     527.0  \n",
       "34                    6810.0  \n",
       "35                    1196.0  \n",
       "36                     668.0  \n",
       "37                   18659.0  \n",
       "38                    1885.0  \n",
       "39                     132.0  \n",
       "40                    1491.0  \n",
       "41                    7741.0  \n",
       "42                    1031.0  \n",
       "43                    1713.0  \n",
       "44                     662.0  \n",
       "45                     369.0  \n",
       "46                    3909.0  \n",
       "47                    7187.0  \n",
       "48                    2849.0  \n",
       "49                    2119.0  \n",
       "50                      24.0  \n",
       "51                     738.0  \n",
       "52                    5319.0  \n",
       "53                    1465.0  \n",
       "54                    1152.0  \n",
       "55                     105.0  "
      ]
     },
     "execution_count": 58,
     "metadata": {},
     "output_type": "execute_result"
    }
   ],
   "source": [
    "df_testing.sort_values(by='Date').groupby(['State']).agg('last').reset_index()"
   ]
  },
  {
   "cell_type": "code",
   "execution_count": 61,
   "metadata": {},
   "outputs": [
    {
     "data": {
      "application/vnd.plotly.v1+json": {
       "config": {
        "plotlyServerURL": "https://plot.ly"
       },
       "data": [
        {
         "hoverlabel": {
          "namelength": 0
         },
         "hovertemplate": "State=AK<br>Total=%{x}<br>Positive=%{y}",
         "legendgroup": "AK",
         "marker": {
          "color": "#636efa",
          "symbol": "circle"
         },
         "mode": "markers",
         "name": "AK",
         "showlegend": true,
         "type": "scatter",
         "x": [
          6284
         ],
         "xaxis": "x",
         "y": [
          185
         ],
         "yaxis": "y"
        },
        {
         "hoverlabel": {
          "namelength": 0
         },
         "hovertemplate": "State=AL<br>Total=%{x}<br>Positive=%{y}",
         "legendgroup": "AL",
         "marker": {
          "color": "#EF553B",
          "symbol": "circle"
         },
         "mode": "markers",
         "name": "AL",
         "showlegend": true,
         "type": "scatter",
         "x": [
          13078
         ],
         "xaxis": "x",
         "y": [
          1796
         ],
         "yaxis": "y"
        },
        {
         "hoverlabel": {
          "namelength": 0
         },
         "hovertemplate": "State=AR<br>Total=%{x}<br>Positive=%{y}",
         "legendgroup": "AR",
         "marker": {
          "color": "#00cc96",
          "symbol": "circle"
         },
         "mode": "markers",
         "name": "AR",
         "showlegend": true,
         "type": "scatter",
         "x": [
          11242
         ],
         "xaxis": "x",
         "y": [
          830
         ],
         "yaxis": "y"
        },
        {
         "hoverlabel": {
          "namelength": 0
         },
         "hovertemplate": "State=AS<br>Total=%{x}<br>Positive=%{y}",
         "legendgroup": "AS",
         "marker": {
          "color": "#ab63fa",
          "symbol": "circle"
         },
         "mode": "markers",
         "name": "AS",
         "showlegend": true,
         "type": "scatter",
         "x": [
          26
         ],
         "xaxis": "x",
         "y": [
          0
         ],
         "yaxis": "y"
        },
        {
         "hoverlabel": {
          "namelength": 0
         },
         "hovertemplate": "State=AZ<br>Total=%{x}<br>Positive=%{y}",
         "legendgroup": "AZ",
         "marker": {
          "color": "#FFA15A",
          "symbol": "circle"
         },
         "mode": "markers",
         "name": "AZ",
         "showlegend": true,
         "type": "scatter",
         "x": [
          27410
         ],
         "xaxis": "x",
         "y": [
          2269
         ],
         "yaxis": "y"
        },
        {
         "hoverlabel": {
          "namelength": 0
         },
         "hovertemplate": "State=CA<br>Total=%{x}<br>Positive=%{y}",
         "legendgroup": "CA",
         "marker": {
          "color": "#19d3f3",
          "symbol": "circle"
         },
         "mode": "markers",
         "name": "CA",
         "showlegend": true,
         "type": "scatter",
         "x": [
          131533
         ],
         "xaxis": "x",
         "y": [
          13438
         ],
         "yaxis": "y"
        },
        {
         "hoverlabel": {
          "namelength": 0
         },
         "hovertemplate": "State=CO<br>Total=%{x}<br>Positive=%{y}",
         "legendgroup": "CO",
         "marker": {
          "color": "#FF6692",
          "symbol": "circle"
         },
         "mode": "markers",
         "name": "CO",
         "showlegend": true,
         "type": "scatter",
         "x": [
          23900
         ],
         "xaxis": "x",
         "y": [
          4565
         ],
         "yaxis": "y"
        },
        {
         "hoverlabel": {
          "namelength": 0
         },
         "hovertemplate": "State=CT<br>Total=%{x}<br>Positive=%{y}",
         "legendgroup": "CT",
         "marker": {
          "color": "#B6E880",
          "symbol": "circle"
         },
         "mode": "markers",
         "name": "CT",
         "showlegend": true,
         "type": "scatter",
         "x": [
          23270
         ],
         "xaxis": "x",
         "y": [
          5675
         ],
         "yaxis": "y"
        },
        {
         "hoverlabel": {
          "namelength": 0
         },
         "hovertemplate": "State=DC<br>Total=%{x}<br>Positive=%{y}",
         "legendgroup": "DC",
         "marker": {
          "color": "#FF97FF",
          "symbol": "circle"
         },
         "mode": "markers",
         "name": "DC",
         "showlegend": true,
         "type": "scatter",
         "x": [
          6834
         ],
         "xaxis": "x",
         "y": [
          998
         ],
         "yaxis": "y"
        },
        {
         "hoverlabel": {
          "namelength": 0
         },
         "hovertemplate": "State=DE<br>Total=%{x}<br>Positive=%{y}",
         "legendgroup": "DE",
         "marker": {
          "color": "#FECB52",
          "symbol": "circle"
         },
         "mode": "markers",
         "name": "DE",
         "showlegend": true,
         "type": "scatter",
         "x": [
          6994
         ],
         "xaxis": "x",
         "y": [
          673
         ],
         "yaxis": "y"
        },
        {
         "hoverlabel": {
          "namelength": 0
         },
         "hovertemplate": "State=FL<br>Total=%{x}<br>Positive=%{y}",
         "legendgroup": "FL",
         "marker": {
          "color": "#636efa",
          "symbol": "circle"
         },
         "mode": "markers",
         "name": "FL",
         "showlegend": true,
         "type": "scatter",
         "x": [
          114533
         ],
         "xaxis": "x",
         "y": [
          12151
         ],
         "yaxis": "y"
        },
        {
         "hoverlabel": {
          "namelength": 0
         },
         "hovertemplate": "State=GA<br>Total=%{x}<br>Positive=%{y}",
         "legendgroup": "GA",
         "marker": {
          "color": "#EF553B",
          "symbol": "circle"
         },
         "mode": "markers",
         "name": "GA",
         "showlegend": true,
         "type": "scatter",
         "x": [
          27832
         ],
         "xaxis": "x",
         "y": [
          6647
         ],
         "yaxis": "y"
        },
        {
         "hoverlabel": {
          "namelength": 0
         },
         "hovertemplate": "State=GU<br>Total=%{x}<br>Positive=%{y}",
         "legendgroup": "GU",
         "marker": {
          "color": "#00cc96",
          "symbol": "circle"
         },
         "mode": "markers",
         "name": "GU",
         "showlegend": true,
         "type": "scatter",
         "x": [
          605
         ],
         "xaxis": "x",
         "y": [
          112
         ],
         "yaxis": "y"
        },
        {
         "hoverlabel": {
          "namelength": 0
         },
         "hovertemplate": "State=HI<br>Total=%{x}<br>Positive=%{y}",
         "legendgroup": "HI",
         "marker": {
          "color": "#ab63fa",
          "symbol": "circle"
         },
         "mode": "markers",
         "name": "HI",
         "showlegend": true,
         "type": "scatter",
         "x": [
          12955
         ],
         "xaxis": "x",
         "y": [
          351
         ],
         "yaxis": "y"
        },
        {
         "hoverlabel": {
          "namelength": 0
         },
         "hovertemplate": "State=IA<br>Total=%{x}<br>Positive=%{y}",
         "legendgroup": "IA",
         "marker": {
          "color": "#FFA15A",
          "symbol": "circle"
         },
         "mode": "markers",
         "name": "IA",
         "showlegend": true,
         "type": "scatter",
         "x": [
          10841
         ],
         "xaxis": "x",
         "y": [
          868
         ],
         "yaxis": "y"
        },
        {
         "hoverlabel": {
          "namelength": 0
         },
         "hovertemplate": "State=ID<br>Total=%{x}<br>Positive=%{y}",
         "legendgroup": "ID",
         "marker": {
          "color": "#19d3f3",
          "symbol": "circle"
         },
         "mode": "markers",
         "name": "ID",
         "showlegend": true,
         "type": "scatter",
         "x": [
          10261
         ],
         "xaxis": "x",
         "y": [
          1077
         ],
         "yaxis": "y"
        },
        {
         "hoverlabel": {
          "namelength": 0
         },
         "hovertemplate": "State=IL<br>Total=%{x}<br>Positive=%{y}",
         "legendgroup": "IL",
         "marker": {
          "color": "#FF6692",
          "symbol": "circle"
         },
         "mode": "markers",
         "name": "IL",
         "showlegend": true,
         "type": "scatter",
         "x": [
          58983
         ],
         "xaxis": "x",
         "y": [
          11256
         ],
         "yaxis": "y"
        },
        {
         "hoverlabel": {
          "namelength": 0
         },
         "hovertemplate": "State=IN<br>Total=%{x}<br>Positive=%{y}",
         "legendgroup": "IN",
         "marker": {
          "color": "#B6E880",
          "symbol": "circle"
         },
         "mode": "markers",
         "name": "IN",
         "showlegend": true,
         "type": "scatter",
         "x": [
          22652
         ],
         "xaxis": "x",
         "y": [
          4411
         ],
         "yaxis": "y"
        },
        {
         "hoverlabel": {
          "namelength": 0
         },
         "hovertemplate": "State=KS<br>Total=%{x}<br>Positive=%{y}",
         "legendgroup": "KS",
         "marker": {
          "color": "#FF97FF",
          "symbol": "circle"
         },
         "mode": "markers",
         "name": "KS",
         "showlegend": true,
         "type": "scatter",
         "x": [
          8223
         ],
         "xaxis": "x",
         "y": [
          747
         ],
         "yaxis": "y"
        },
        {
         "hoverlabel": {
          "namelength": 0
         },
         "hovertemplate": "State=KY<br>Total=%{x}<br>Positive=%{y}",
         "legendgroup": "KY",
         "marker": {
          "color": "#FECB52",
          "symbol": "circle"
         },
         "mode": "markers",
         "name": "KY",
         "showlegend": true,
         "type": "scatter",
         "x": [
          16663
         ],
         "xaxis": "x",
         "y": [
          917
         ],
         "yaxis": "y"
        },
        {
         "hoverlabel": {
          "namelength": 0
         },
         "hovertemplate": "State=LA<br>Total=%{x}<br>Positive=%{y}",
         "legendgroup": "LA",
         "marker": {
          "color": "#636efa",
          "symbol": "circle"
         },
         "mode": "markers",
         "name": "LA",
         "showlegend": true,
         "type": "scatter",
         "x": [
          60325
         ],
         "xaxis": "x",
         "y": [
          13010
         ],
         "yaxis": "y"
        },
        {
         "hoverlabel": {
          "namelength": 0
         },
         "hovertemplate": "State=MA<br>Total=%{x}<br>Positive=%{y}",
         "legendgroup": "MA",
         "marker": {
          "color": "#EF553B",
          "symbol": "circle"
         },
         "mode": "markers",
         "name": "MA",
         "showlegend": true,
         "type": "scatter",
         "x": [
          71937
         ],
         "xaxis": "x",
         "y": [
          12500
         ],
         "yaxis": "y"
        },
        {
         "hoverlabel": {
          "namelength": 0
         },
         "hovertemplate": "State=MD<br>Total=%{x}<br>Positive=%{y}",
         "legendgroup": "MD",
         "marker": {
          "color": "#00cc96",
          "symbol": "circle"
         },
         "mode": "markers",
         "name": "MD",
         "showlegend": true,
         "type": "scatter",
         "x": [
          28337
         ],
         "xaxis": "x",
         "y": [
          3609
         ],
         "yaxis": "y"
        },
        {
         "hoverlabel": {
          "namelength": 0
         },
         "hovertemplate": "State=ME<br>Total=%{x}<br>Positive=%{y}",
         "legendgroup": "ME",
         "marker": {
          "color": "#ab63fa",
          "symbol": "circle"
         },
         "mode": "markers",
         "name": "ME",
         "showlegend": true,
         "type": "scatter",
         "x": [
          6558
         ],
         "xaxis": "x",
         "y": [
          470
         ],
         "yaxis": "y"
        },
        {
         "hoverlabel": {
          "namelength": 0
         },
         "hovertemplate": "State=MI<br>Total=%{x}<br>Positive=%{y}",
         "legendgroup": "MI",
         "marker": {
          "color": "#FFA15A",
          "symbol": "circle"
         },
         "mode": "markers",
         "name": "MI",
         "showlegend": true,
         "type": "scatter",
         "x": [
          45748
         ],
         "xaxis": "x",
         "y": [
          15718
         ],
         "yaxis": "y"
        },
        {
         "hoverlabel": {
          "namelength": 0
         },
         "hovertemplate": "State=MN<br>Total=%{x}<br>Positive=%{y}",
         "legendgroup": "MN",
         "marker": {
          "color": "#19d3f3",
          "symbol": "circle"
         },
         "mode": "markers",
         "name": "MN",
         "showlegend": true,
         "type": "scatter",
         "x": [
          26777
         ],
         "xaxis": "x",
         "y": [
          935
         ],
         "yaxis": "y"
        },
        {
         "hoverlabel": {
          "namelength": 0
         },
         "hovertemplate": "State=MO<br>Total=%{x}<br>Positive=%{y}",
         "legendgroup": "MO",
         "marker": {
          "color": "#FF6692",
          "symbol": "circle"
         },
         "mode": "markers",
         "name": "MO",
         "showlegend": true,
         "type": "scatter",
         "x": [
          27249
         ],
         "xaxis": "x",
         "y": [
          2367
         ],
         "yaxis": "y"
        },
        {
         "hoverlabel": {
          "namelength": 0
         },
         "hovertemplate": "State=MP<br>Total=%{x}<br>Positive=%{y}",
         "legendgroup": "MP",
         "marker": {
          "color": "#B6E880",
          "symbol": "circle"
         },
         "mode": "markers",
         "name": "MP",
         "showlegend": true,
         "type": "scatter",
         "x": [
          31
         ],
         "xaxis": "x",
         "y": [
          8
         ],
         "yaxis": "y"
        },
        {
         "hoverlabel": {
          "namelength": 0
         },
         "hovertemplate": "State=MS<br>Total=%{x}<br>Positive=%{y}",
         "legendgroup": "MS",
         "marker": {
          "color": "#FF97FF",
          "symbol": "circle"
         },
         "mode": "markers",
         "name": "MS",
         "showlegend": true,
         "type": "scatter",
         "x": [
          7218
         ],
         "xaxis": "x",
         "y": [
          1638
         ],
         "yaxis": "y"
        },
        {
         "hoverlabel": {
          "namelength": 0
         },
         "hovertemplate": "State=MT<br>Total=%{x}<br>Positive=%{y}",
         "legendgroup": "MT",
         "marker": {
          "color": "#FECB52",
          "symbol": "circle"
         },
         "mode": "markers",
         "name": "MT",
         "showlegend": true,
         "type": "scatter",
         "x": [
          6603
         ],
         "xaxis": "x",
         "y": [
          286
         ],
         "yaxis": "y"
        },
        {
         "hoverlabel": {
          "namelength": 0
         },
         "hovertemplate": "State=NC<br>Total=%{x}<br>Positive=%{y}",
         "legendgroup": "NC",
         "marker": {
          "color": "#636efa",
          "symbol": "circle"
         },
         "mode": "markers",
         "name": "NC",
         "showlegend": true,
         "type": "scatter",
         "x": [
          40045
         ],
         "xaxis": "x",
         "y": [
          2585
         ],
         "yaxis": "y"
        },
        {
         "hoverlabel": {
          "namelength": 0
         },
         "hovertemplate": "State=ND<br>Total=%{x}<br>Positive=%{y}",
         "legendgroup": "ND",
         "marker": {
          "color": "#EF553B",
          "symbol": "circle"
         },
         "mode": "markers",
         "name": "ND",
         "showlegend": true,
         "type": "scatter",
         "x": [
          6787
         ],
         "xaxis": "x",
         "y": [
          207
         ],
         "yaxis": "y"
        },
        {
         "hoverlabel": {
          "namelength": 0
         },
         "hovertemplate": "State=NE<br>Total=%{x}<br>Positive=%{y}",
         "legendgroup": "NE",
         "marker": {
          "color": "#00cc96",
          "symbol": "circle"
         },
         "mode": "markers",
         "name": "NE",
         "showlegend": true,
         "type": "scatter",
         "x": [
          5933
         ],
         "xaxis": "x",
         "y": [
          363
         ],
         "yaxis": "y"
        },
        {
         "hoverlabel": {
          "namelength": 0
         },
         "hovertemplate": "State=NH<br>Total=%{x}<br>Positive=%{y}",
         "legendgroup": "NH",
         "marker": {
          "color": "#ab63fa",
          "symbol": "circle"
         },
         "mode": "markers",
         "name": "NH",
         "showlegend": true,
         "type": "scatter",
         "x": [
          8125
         ],
         "xaxis": "x",
         "y": [
          621
         ],
         "yaxis": "y"
        },
        {
         "hoverlabel": {
          "namelength": 0
         },
         "hovertemplate": "State=NJ<br>Total=%{x}<br>Positive=%{y}",
         "legendgroup": "NJ",
         "marker": {
          "color": "#FFA15A",
          "symbol": "circle"
         },
         "mode": "markers",
         "name": "NJ",
         "showlegend": true,
         "type": "scatter",
         "x": [
          82166
         ],
         "xaxis": "x",
         "y": [
          37505
         ],
         "yaxis": "y"
        },
        {
         "hoverlabel": {
          "namelength": 0
         },
         "hovertemplate": "State=NM<br>Total=%{x}<br>Positive=%{y}",
         "legendgroup": "NM",
         "marker": {
          "color": "#19d3f3",
          "symbol": "circle"
         },
         "mode": "markers",
         "name": "NM",
         "showlegend": true,
         "type": "scatter",
         "x": [
          16828
         ],
         "xaxis": "x",
         "y": [
          543
         ],
         "yaxis": "y"
        },
        {
         "hoverlabel": {
          "namelength": 0
         },
         "hovertemplate": "State=NV<br>Total=%{x}<br>Positive=%{y}",
         "legendgroup": "NV",
         "marker": {
          "color": "#FF6692",
          "symbol": "circle"
         },
         "mode": "markers",
         "name": "NV",
         "showlegend": true,
         "type": "scatter",
         "x": [
          16831
         ],
         "xaxis": "x",
         "y": [
          1836
         ],
         "yaxis": "y"
        },
        {
         "hoverlabel": {
          "namelength": 0
         },
         "hovertemplate": "State=NY<br>Total=%{x}<br>Positive=%{y}",
         "legendgroup": "NY",
         "marker": {
          "color": "#B6E880",
          "symbol": "circle"
         },
         "mode": "markers",
         "name": "NY",
         "showlegend": true,
         "type": "scatter",
         "x": [
          302280
         ],
         "xaxis": "x",
         "y": [
          122031
         ],
         "yaxis": "y"
        },
        {
         "hoverlabel": {
          "namelength": 0
         },
         "hovertemplate": "State=OH<br>Total=%{x}<br>Positive=%{y}",
         "legendgroup": "OH",
         "marker": {
          "color": "#FF97FF",
          "symbol": "circle"
         },
         "mode": "markers",
         "name": "OH",
         "showlegend": true,
         "type": "scatter",
         "x": [
          43756
         ],
         "xaxis": "x",
         "y": [
          4043
         ],
         "yaxis": "y"
        },
        {
         "hoverlabel": {
          "namelength": 0
         },
         "hovertemplate": "State=OK<br>Total=%{x}<br>Positive=%{y}",
         "legendgroup": "OK",
         "marker": {
          "color": "#FECB52",
          "symbol": "circle"
         },
         "mode": "markers",
         "name": "OK",
         "showlegend": true,
         "type": "scatter",
         "x": [
          2653
         ],
         "xaxis": "x",
         "y": [
          1252
         ],
         "yaxis": "y"
        },
        {
         "hoverlabel": {
          "namelength": 0
         },
         "hovertemplate": "State=OR<br>Total=%{x}<br>Positive=%{y}",
         "legendgroup": "OR",
         "marker": {
          "color": "#636efa",
          "symbol": "circle"
         },
         "mode": "markers",
         "name": "OR",
         "showlegend": true,
         "type": "scatter",
         "x": [
          18925
         ],
         "xaxis": "x",
         "y": [
          999
         ],
         "yaxis": "y"
        },
        {
         "hoverlabel": {
          "namelength": 0
         },
         "hovertemplate": "State=PA<br>Total=%{x}<br>Positive=%{y}",
         "legendgroup": "PA",
         "marker": {
          "color": "#EF553B",
          "symbol": "circle"
         },
         "mode": "markers",
         "name": "PA",
         "showlegend": true,
         "type": "scatter",
         "x": [
          77771
         ],
         "xaxis": "x",
         "y": [
          11510
         ],
         "yaxis": "y"
        },
        {
         "hoverlabel": {
          "namelength": 0
         },
         "hovertemplate": "State=PR<br>Total=%{x}<br>Positive=%{y}",
         "legendgroup": "PR",
         "marker": {
          "color": "#00cc96",
          "symbol": "circle"
         },
         "mode": "markers",
         "name": "PR",
         "showlegend": true,
         "type": "scatter",
         "x": [
          4587
         ],
         "xaxis": "x",
         "y": [
          475
         ],
         "yaxis": "y"
        },
        {
         "hoverlabel": {
          "namelength": 0
         },
         "hovertemplate": "State=RI<br>Total=%{x}<br>Positive=%{y}",
         "legendgroup": "RI",
         "marker": {
          "color": "#ab63fa",
          "symbol": "circle"
         },
         "mode": "markers",
         "name": "RI",
         "showlegend": true,
         "type": "scatter",
         "x": [
          8103
         ],
         "xaxis": "x",
         "y": [
          922
         ],
         "yaxis": "y"
        },
        {
         "hoverlabel": {
          "namelength": 0
         },
         "hovertemplate": "State=SC<br>Total=%{x}<br>Positive=%{y}",
         "legendgroup": "SC",
         "marker": {
          "color": "#FFA15A",
          "symbol": "circle"
         },
         "mode": "markers",
         "name": "SC",
         "showlegend": true,
         "type": "scatter",
         "x": [
          18976
         ],
         "xaxis": "x",
         "y": [
          2049
         ],
         "yaxis": "y"
        },
        {
         "hoverlabel": {
          "namelength": 0
         },
         "hovertemplate": "State=SD<br>Total=%{x}<br>Positive=%{y}",
         "legendgroup": "SD",
         "marker": {
          "color": "#19d3f3",
          "symbol": "circle"
         },
         "mode": "markers",
         "name": "SD",
         "showlegend": true,
         "type": "scatter",
         "x": [
          5593
         ],
         "xaxis": "x",
         "y": [
          240
         ],
         "yaxis": "y"
        },
        {
         "hoverlabel": {
          "namelength": 0
         },
         "hovertemplate": "State=TN<br>Total=%{x}<br>Positive=%{y}",
         "legendgroup": "TN",
         "marker": {
          "color": "#FF6692",
          "symbol": "circle"
         },
         "mode": "markers",
         "name": "TN",
         "showlegend": true,
         "type": "scatter",
         "x": [
          45300
         ],
         "xaxis": "x",
         "y": [
          3633
         ],
         "yaxis": "y"
        },
        {
         "hoverlabel": {
          "namelength": 0
         },
         "hovertemplate": "State=TX<br>Total=%{x}<br>Positive=%{y}",
         "legendgroup": "TX",
         "marker": {
          "color": "#B6E880",
          "symbol": "circle"
         },
         "mode": "markers",
         "name": "TX",
         "showlegend": true,
         "type": "scatter",
         "x": [
          70938
         ],
         "xaxis": "x",
         "y": [
          6812
         ],
         "yaxis": "y"
        },
        {
         "hoverlabel": {
          "namelength": 0
         },
         "hovertemplate": "State=UT<br>Total=%{x}<br>Positive=%{y}",
         "legendgroup": "UT",
         "marker": {
          "color": "#FF97FF",
          "symbol": "circle"
         },
         "mode": "markers",
         "name": "UT",
         "showlegend": true,
         "type": "scatter",
         "x": [
          30892
         ],
         "xaxis": "x",
         "y": [
          1605
         ],
         "yaxis": "y"
        },
        {
         "hoverlabel": {
          "namelength": 0
         },
         "hovertemplate": "State=VA<br>Total=%{x}<br>Positive=%{y}",
         "legendgroup": "VA",
         "marker": {
          "color": "#FECB52",
          "symbol": "circle"
         },
         "mode": "markers",
         "name": "VA",
         "showlegend": true,
         "type": "scatter",
         "x": [
          23671
         ],
         "xaxis": "x",
         "y": [
          2637
         ],
         "yaxis": "y"
        },
        {
         "hoverlabel": {
          "namelength": 0
         },
         "hovertemplate": "State=VI<br>Total=%{x}<br>Positive=%{y}",
         "legendgroup": "VI",
         "marker": {
          "color": "#636efa",
          "symbol": "circle"
         },
         "mode": "markers",
         "name": "VI",
         "showlegend": true,
         "type": "scatter",
         "x": [
          266
         ],
         "xaxis": "x",
         "y": [
          42
         ],
         "yaxis": "y"
        },
        {
         "hoverlabel": {
          "namelength": 0
         },
         "hovertemplate": "State=VT<br>Total=%{x}<br>Positive=%{y}",
         "legendgroup": "VT",
         "marker": {
          "color": "#EF553B",
          "symbol": "circle"
         },
         "mode": "markers",
         "name": "VT",
         "showlegend": true,
         "type": "scatter",
         "x": [
          6582
         ],
         "xaxis": "x",
         "y": [
          512
         ],
         "yaxis": "y"
        },
        {
         "hoverlabel": {
          "namelength": 0
         },
         "hovertemplate": "State=WA<br>Total=%{x}<br>Positive=%{y}",
         "legendgroup": "WA",
         "marker": {
          "color": "#00cc96",
          "symbol": "circle"
         },
         "mode": "markers",
         "name": "WA",
         "showlegend": true,
         "type": "scatter",
         "x": [
          87918
         ],
         "xaxis": "x",
         "y": [
          7591
         ],
         "yaxis": "y"
        },
        {
         "hoverlabel": {
          "namelength": 0
         },
         "hovertemplate": "State=WI<br>Total=%{x}<br>Positive=%{y}",
         "legendgroup": "WI",
         "marker": {
          "color": "#ab63fa",
          "symbol": "circle"
         },
         "mode": "markers",
         "name": "WI",
         "showlegend": true,
         "type": "scatter",
         "x": [
          27436
         ],
         "xaxis": "x",
         "y": [
          2267
         ],
         "yaxis": "y"
        },
        {
         "hoverlabel": {
          "namelength": 0
         },
         "hovertemplate": "State=WV<br>Total=%{x}<br>Positive=%{y}",
         "legendgroup": "WV",
         "marker": {
          "color": "#FFA15A",
          "symbol": "circle"
         },
         "mode": "markers",
         "name": "WV",
         "showlegend": true,
         "type": "scatter",
         "x": [
          8838
         ],
         "xaxis": "x",
         "y": [
          324
         ],
         "yaxis": "y"
        },
        {
         "hoverlabel": {
          "namelength": 0
         },
         "hovertemplate": "State=WY<br>Total=%{x}<br>Positive=%{y}",
         "legendgroup": "WY",
         "marker": {
          "color": "#19d3f3",
          "symbol": "circle"
         },
         "mode": "markers",
         "name": "WY",
         "showlegend": true,
         "type": "scatter",
         "x": [
          3237
         ],
         "xaxis": "x",
         "y": [
          197
         ],
         "yaxis": "y"
        }
       ],
       "layout": {
        "legend": {
         "title": {
          "text": "State"
         },
         "tracegroupgap": 0
        },
        "margin": {
         "t": 60
        },
        "template": {
         "data": {
          "bar": [
           {
            "error_x": {
             "color": "#2a3f5f"
            },
            "error_y": {
             "color": "#2a3f5f"
            },
            "marker": {
             "line": {
              "color": "#E5ECF6",
              "width": 0.5
             }
            },
            "type": "bar"
           }
          ],
          "barpolar": [
           {
            "marker": {
             "line": {
              "color": "#E5ECF6",
              "width": 0.5
             }
            },
            "type": "barpolar"
           }
          ],
          "carpet": [
           {
            "aaxis": {
             "endlinecolor": "#2a3f5f",
             "gridcolor": "white",
             "linecolor": "white",
             "minorgridcolor": "white",
             "startlinecolor": "#2a3f5f"
            },
            "baxis": {
             "endlinecolor": "#2a3f5f",
             "gridcolor": "white",
             "linecolor": "white",
             "minorgridcolor": "white",
             "startlinecolor": "#2a3f5f"
            },
            "type": "carpet"
           }
          ],
          "choropleth": [
           {
            "colorbar": {
             "outlinewidth": 0,
             "ticks": ""
            },
            "type": "choropleth"
           }
          ],
          "contour": [
           {
            "colorbar": {
             "outlinewidth": 0,
             "ticks": ""
            },
            "colorscale": [
             [
              0,
              "#0d0887"
             ],
             [
              0.1111111111111111,
              "#46039f"
             ],
             [
              0.2222222222222222,
              "#7201a8"
             ],
             [
              0.3333333333333333,
              "#9c179e"
             ],
             [
              0.4444444444444444,
              "#bd3786"
             ],
             [
              0.5555555555555556,
              "#d8576b"
             ],
             [
              0.6666666666666666,
              "#ed7953"
             ],
             [
              0.7777777777777778,
              "#fb9f3a"
             ],
             [
              0.8888888888888888,
              "#fdca26"
             ],
             [
              1,
              "#f0f921"
             ]
            ],
            "type": "contour"
           }
          ],
          "contourcarpet": [
           {
            "colorbar": {
             "outlinewidth": 0,
             "ticks": ""
            },
            "type": "contourcarpet"
           }
          ],
          "heatmap": [
           {
            "colorbar": {
             "outlinewidth": 0,
             "ticks": ""
            },
            "colorscale": [
             [
              0,
              "#0d0887"
             ],
             [
              0.1111111111111111,
              "#46039f"
             ],
             [
              0.2222222222222222,
              "#7201a8"
             ],
             [
              0.3333333333333333,
              "#9c179e"
             ],
             [
              0.4444444444444444,
              "#bd3786"
             ],
             [
              0.5555555555555556,
              "#d8576b"
             ],
             [
              0.6666666666666666,
              "#ed7953"
             ],
             [
              0.7777777777777778,
              "#fb9f3a"
             ],
             [
              0.8888888888888888,
              "#fdca26"
             ],
             [
              1,
              "#f0f921"
             ]
            ],
            "type": "heatmap"
           }
          ],
          "heatmapgl": [
           {
            "colorbar": {
             "outlinewidth": 0,
             "ticks": ""
            },
            "colorscale": [
             [
              0,
              "#0d0887"
             ],
             [
              0.1111111111111111,
              "#46039f"
             ],
             [
              0.2222222222222222,
              "#7201a8"
             ],
             [
              0.3333333333333333,
              "#9c179e"
             ],
             [
              0.4444444444444444,
              "#bd3786"
             ],
             [
              0.5555555555555556,
              "#d8576b"
             ],
             [
              0.6666666666666666,
              "#ed7953"
             ],
             [
              0.7777777777777778,
              "#fb9f3a"
             ],
             [
              0.8888888888888888,
              "#fdca26"
             ],
             [
              1,
              "#f0f921"
             ]
            ],
            "type": "heatmapgl"
           }
          ],
          "histogram": [
           {
            "marker": {
             "colorbar": {
              "outlinewidth": 0,
              "ticks": ""
             }
            },
            "type": "histogram"
           }
          ],
          "histogram2d": [
           {
            "colorbar": {
             "outlinewidth": 0,
             "ticks": ""
            },
            "colorscale": [
             [
              0,
              "#0d0887"
             ],
             [
              0.1111111111111111,
              "#46039f"
             ],
             [
              0.2222222222222222,
              "#7201a8"
             ],
             [
              0.3333333333333333,
              "#9c179e"
             ],
             [
              0.4444444444444444,
              "#bd3786"
             ],
             [
              0.5555555555555556,
              "#d8576b"
             ],
             [
              0.6666666666666666,
              "#ed7953"
             ],
             [
              0.7777777777777778,
              "#fb9f3a"
             ],
             [
              0.8888888888888888,
              "#fdca26"
             ],
             [
              1,
              "#f0f921"
             ]
            ],
            "type": "histogram2d"
           }
          ],
          "histogram2dcontour": [
           {
            "colorbar": {
             "outlinewidth": 0,
             "ticks": ""
            },
            "colorscale": [
             [
              0,
              "#0d0887"
             ],
             [
              0.1111111111111111,
              "#46039f"
             ],
             [
              0.2222222222222222,
              "#7201a8"
             ],
             [
              0.3333333333333333,
              "#9c179e"
             ],
             [
              0.4444444444444444,
              "#bd3786"
             ],
             [
              0.5555555555555556,
              "#d8576b"
             ],
             [
              0.6666666666666666,
              "#ed7953"
             ],
             [
              0.7777777777777778,
              "#fb9f3a"
             ],
             [
              0.8888888888888888,
              "#fdca26"
             ],
             [
              1,
              "#f0f921"
             ]
            ],
            "type": "histogram2dcontour"
           }
          ],
          "mesh3d": [
           {
            "colorbar": {
             "outlinewidth": 0,
             "ticks": ""
            },
            "type": "mesh3d"
           }
          ],
          "parcoords": [
           {
            "line": {
             "colorbar": {
              "outlinewidth": 0,
              "ticks": ""
             }
            },
            "type": "parcoords"
           }
          ],
          "pie": [
           {
            "automargin": true,
            "type": "pie"
           }
          ],
          "scatter": [
           {
            "marker": {
             "colorbar": {
              "outlinewidth": 0,
              "ticks": ""
             }
            },
            "type": "scatter"
           }
          ],
          "scatter3d": [
           {
            "line": {
             "colorbar": {
              "outlinewidth": 0,
              "ticks": ""
             }
            },
            "marker": {
             "colorbar": {
              "outlinewidth": 0,
              "ticks": ""
             }
            },
            "type": "scatter3d"
           }
          ],
          "scattercarpet": [
           {
            "marker": {
             "colorbar": {
              "outlinewidth": 0,
              "ticks": ""
             }
            },
            "type": "scattercarpet"
           }
          ],
          "scattergeo": [
           {
            "marker": {
             "colorbar": {
              "outlinewidth": 0,
              "ticks": ""
             }
            },
            "type": "scattergeo"
           }
          ],
          "scattergl": [
           {
            "marker": {
             "colorbar": {
              "outlinewidth": 0,
              "ticks": ""
             }
            },
            "type": "scattergl"
           }
          ],
          "scattermapbox": [
           {
            "marker": {
             "colorbar": {
              "outlinewidth": 0,
              "ticks": ""
             }
            },
            "type": "scattermapbox"
           }
          ],
          "scatterpolar": [
           {
            "marker": {
             "colorbar": {
              "outlinewidth": 0,
              "ticks": ""
             }
            },
            "type": "scatterpolar"
           }
          ],
          "scatterpolargl": [
           {
            "marker": {
             "colorbar": {
              "outlinewidth": 0,
              "ticks": ""
             }
            },
            "type": "scatterpolargl"
           }
          ],
          "scatterternary": [
           {
            "marker": {
             "colorbar": {
              "outlinewidth": 0,
              "ticks": ""
             }
            },
            "type": "scatterternary"
           }
          ],
          "surface": [
           {
            "colorbar": {
             "outlinewidth": 0,
             "ticks": ""
            },
            "colorscale": [
             [
              0,
              "#0d0887"
             ],
             [
              0.1111111111111111,
              "#46039f"
             ],
             [
              0.2222222222222222,
              "#7201a8"
             ],
             [
              0.3333333333333333,
              "#9c179e"
             ],
             [
              0.4444444444444444,
              "#bd3786"
             ],
             [
              0.5555555555555556,
              "#d8576b"
             ],
             [
              0.6666666666666666,
              "#ed7953"
             ],
             [
              0.7777777777777778,
              "#fb9f3a"
             ],
             [
              0.8888888888888888,
              "#fdca26"
             ],
             [
              1,
              "#f0f921"
             ]
            ],
            "type": "surface"
           }
          ],
          "table": [
           {
            "cells": {
             "fill": {
              "color": "#EBF0F8"
             },
             "line": {
              "color": "white"
             }
            },
            "header": {
             "fill": {
              "color": "#C8D4E3"
             },
             "line": {
              "color": "white"
             }
            },
            "type": "table"
           }
          ]
         },
         "layout": {
          "annotationdefaults": {
           "arrowcolor": "#2a3f5f",
           "arrowhead": 0,
           "arrowwidth": 1
          },
          "coloraxis": {
           "colorbar": {
            "outlinewidth": 0,
            "ticks": ""
           }
          },
          "colorscale": {
           "diverging": [
            [
             0,
             "#8e0152"
            ],
            [
             0.1,
             "#c51b7d"
            ],
            [
             0.2,
             "#de77ae"
            ],
            [
             0.3,
             "#f1b6da"
            ],
            [
             0.4,
             "#fde0ef"
            ],
            [
             0.5,
             "#f7f7f7"
            ],
            [
             0.6,
             "#e6f5d0"
            ],
            [
             0.7,
             "#b8e186"
            ],
            [
             0.8,
             "#7fbc41"
            ],
            [
             0.9,
             "#4d9221"
            ],
            [
             1,
             "#276419"
            ]
           ],
           "sequential": [
            [
             0,
             "#0d0887"
            ],
            [
             0.1111111111111111,
             "#46039f"
            ],
            [
             0.2222222222222222,
             "#7201a8"
            ],
            [
             0.3333333333333333,
             "#9c179e"
            ],
            [
             0.4444444444444444,
             "#bd3786"
            ],
            [
             0.5555555555555556,
             "#d8576b"
            ],
            [
             0.6666666666666666,
             "#ed7953"
            ],
            [
             0.7777777777777778,
             "#fb9f3a"
            ],
            [
             0.8888888888888888,
             "#fdca26"
            ],
            [
             1,
             "#f0f921"
            ]
           ],
           "sequentialminus": [
            [
             0,
             "#0d0887"
            ],
            [
             0.1111111111111111,
             "#46039f"
            ],
            [
             0.2222222222222222,
             "#7201a8"
            ],
            [
             0.3333333333333333,
             "#9c179e"
            ],
            [
             0.4444444444444444,
             "#bd3786"
            ],
            [
             0.5555555555555556,
             "#d8576b"
            ],
            [
             0.6666666666666666,
             "#ed7953"
            ],
            [
             0.7777777777777778,
             "#fb9f3a"
            ],
            [
             0.8888888888888888,
             "#fdca26"
            ],
            [
             1,
             "#f0f921"
            ]
           ]
          },
          "colorway": [
           "#636efa",
           "#EF553B",
           "#00cc96",
           "#ab63fa",
           "#FFA15A",
           "#19d3f3",
           "#FF6692",
           "#B6E880",
           "#FF97FF",
           "#FECB52"
          ],
          "font": {
           "color": "#2a3f5f"
          },
          "geo": {
           "bgcolor": "white",
           "lakecolor": "white",
           "landcolor": "#E5ECF6",
           "showlakes": true,
           "showland": true,
           "subunitcolor": "white"
          },
          "hoverlabel": {
           "align": "left"
          },
          "hovermode": "closest",
          "mapbox": {
           "style": "light"
          },
          "paper_bgcolor": "white",
          "plot_bgcolor": "#E5ECF6",
          "polar": {
           "angularaxis": {
            "gridcolor": "white",
            "linecolor": "white",
            "ticks": ""
           },
           "bgcolor": "#E5ECF6",
           "radialaxis": {
            "gridcolor": "white",
            "linecolor": "white",
            "ticks": ""
           }
          },
          "scene": {
           "xaxis": {
            "backgroundcolor": "#E5ECF6",
            "gridcolor": "white",
            "gridwidth": 2,
            "linecolor": "white",
            "showbackground": true,
            "ticks": "",
            "zerolinecolor": "white"
           },
           "yaxis": {
            "backgroundcolor": "#E5ECF6",
            "gridcolor": "white",
            "gridwidth": 2,
            "linecolor": "white",
            "showbackground": true,
            "ticks": "",
            "zerolinecolor": "white"
           },
           "zaxis": {
            "backgroundcolor": "#E5ECF6",
            "gridcolor": "white",
            "gridwidth": 2,
            "linecolor": "white",
            "showbackground": true,
            "ticks": "",
            "zerolinecolor": "white"
           }
          },
          "shapedefaults": {
           "line": {
            "color": "#2a3f5f"
           }
          },
          "ternary": {
           "aaxis": {
            "gridcolor": "white",
            "linecolor": "white",
            "ticks": ""
           },
           "baxis": {
            "gridcolor": "white",
            "linecolor": "white",
            "ticks": ""
           },
           "bgcolor": "#E5ECF6",
           "caxis": {
            "gridcolor": "white",
            "linecolor": "white",
            "ticks": ""
           }
          },
          "title": {
           "x": 0.05
          },
          "xaxis": {
           "automargin": true,
           "gridcolor": "white",
           "linecolor": "white",
           "ticks": "",
           "title": {
            "standoff": 15
           },
           "zerolinecolor": "white",
           "zerolinewidth": 2
          },
          "yaxis": {
           "automargin": true,
           "gridcolor": "white",
           "linecolor": "white",
           "ticks": "",
           "title": {
            "standoff": 15
           },
           "zerolinecolor": "white",
           "zerolinewidth": 2
          }
         }
        },
        "xaxis": {
         "anchor": "y",
         "domain": [
          0,
          1
         ],
         "title": {
          "text": "Total"
         },
         "type": "log"
        },
        "yaxis": {
         "anchor": "x",
         "domain": [
          0,
          1
         ],
         "title": {
          "text": "Positive"
         },
         "type": "log"
        }
       }
      },
      "text/html": [
       "<div>\n",
       "        \n",
       "        \n",
       "            <div id=\"9141bf00-9b12-454a-a115-2c3555902f78\" class=\"plotly-graph-div\" style=\"height:525px; width:100%;\"></div>\n",
       "            <script type=\"text/javascript\">\n",
       "                require([\"plotly\"], function(Plotly) {\n",
       "                    window.PLOTLYENV=window.PLOTLYENV || {};\n",
       "                    \n",
       "                if (document.getElementById(\"9141bf00-9b12-454a-a115-2c3555902f78\")) {\n",
       "                    Plotly.newPlot(\n",
       "                        '9141bf00-9b12-454a-a115-2c3555902f78',\n",
       "                        [{\"hoverlabel\": {\"namelength\": 0}, \"hovertemplate\": \"State=AK<br>Total=%{x}<br>Positive=%{y}\", \"legendgroup\": \"AK\", \"marker\": {\"color\": \"#636efa\", \"symbol\": \"circle\"}, \"mode\": \"markers\", \"name\": \"AK\", \"showlegend\": true, \"type\": \"scatter\", \"x\": [6284], \"xaxis\": \"x\", \"y\": [185.0], \"yaxis\": \"y\"}, {\"hoverlabel\": {\"namelength\": 0}, \"hovertemplate\": \"State=AL<br>Total=%{x}<br>Positive=%{y}\", \"legendgroup\": \"AL\", \"marker\": {\"color\": \"#EF553B\", \"symbol\": \"circle\"}, \"mode\": \"markers\", \"name\": \"AL\", \"showlegend\": true, \"type\": \"scatter\", \"x\": [13078], \"xaxis\": \"x\", \"y\": [1796.0], \"yaxis\": \"y\"}, {\"hoverlabel\": {\"namelength\": 0}, \"hovertemplate\": \"State=AR<br>Total=%{x}<br>Positive=%{y}\", \"legendgroup\": \"AR\", \"marker\": {\"color\": \"#00cc96\", \"symbol\": \"circle\"}, \"mode\": \"markers\", \"name\": \"AR\", \"showlegend\": true, \"type\": \"scatter\", \"x\": [11242], \"xaxis\": \"x\", \"y\": [830.0], \"yaxis\": \"y\"}, {\"hoverlabel\": {\"namelength\": 0}, \"hovertemplate\": \"State=AS<br>Total=%{x}<br>Positive=%{y}\", \"legendgroup\": \"AS\", \"marker\": {\"color\": \"#ab63fa\", \"symbol\": \"circle\"}, \"mode\": \"markers\", \"name\": \"AS\", \"showlegend\": true, \"type\": \"scatter\", \"x\": [26], \"xaxis\": \"x\", \"y\": [0.0], \"yaxis\": \"y\"}, {\"hoverlabel\": {\"namelength\": 0}, \"hovertemplate\": \"State=AZ<br>Total=%{x}<br>Positive=%{y}\", \"legendgroup\": \"AZ\", \"marker\": {\"color\": \"#FFA15A\", \"symbol\": \"circle\"}, \"mode\": \"markers\", \"name\": \"AZ\", \"showlegend\": true, \"type\": \"scatter\", \"x\": [27410], \"xaxis\": \"x\", \"y\": [2269.0], \"yaxis\": \"y\"}, {\"hoverlabel\": {\"namelength\": 0}, \"hovertemplate\": \"State=CA<br>Total=%{x}<br>Positive=%{y}\", \"legendgroup\": \"CA\", \"marker\": {\"color\": \"#19d3f3\", \"symbol\": \"circle\"}, \"mode\": \"markers\", \"name\": \"CA\", \"showlegend\": true, \"type\": \"scatter\", \"x\": [131533], \"xaxis\": \"x\", \"y\": [13438.0], \"yaxis\": \"y\"}, {\"hoverlabel\": {\"namelength\": 0}, \"hovertemplate\": \"State=CO<br>Total=%{x}<br>Positive=%{y}\", \"legendgroup\": \"CO\", \"marker\": {\"color\": \"#FF6692\", \"symbol\": \"circle\"}, \"mode\": \"markers\", \"name\": \"CO\", \"showlegend\": true, \"type\": \"scatter\", \"x\": [23900], \"xaxis\": \"x\", \"y\": [4565.0], \"yaxis\": \"y\"}, {\"hoverlabel\": {\"namelength\": 0}, \"hovertemplate\": \"State=CT<br>Total=%{x}<br>Positive=%{y}\", \"legendgroup\": \"CT\", \"marker\": {\"color\": \"#B6E880\", \"symbol\": \"circle\"}, \"mode\": \"markers\", \"name\": \"CT\", \"showlegend\": true, \"type\": \"scatter\", \"x\": [23270], \"xaxis\": \"x\", \"y\": [5675.0], \"yaxis\": \"y\"}, {\"hoverlabel\": {\"namelength\": 0}, \"hovertemplate\": \"State=DC<br>Total=%{x}<br>Positive=%{y}\", \"legendgroup\": \"DC\", \"marker\": {\"color\": \"#FF97FF\", \"symbol\": \"circle\"}, \"mode\": \"markers\", \"name\": \"DC\", \"showlegend\": true, \"type\": \"scatter\", \"x\": [6834], \"xaxis\": \"x\", \"y\": [998.0], \"yaxis\": \"y\"}, {\"hoverlabel\": {\"namelength\": 0}, \"hovertemplate\": \"State=DE<br>Total=%{x}<br>Positive=%{y}\", \"legendgroup\": \"DE\", \"marker\": {\"color\": \"#FECB52\", \"symbol\": \"circle\"}, \"mode\": \"markers\", \"name\": \"DE\", \"showlegend\": true, \"type\": \"scatter\", \"x\": [6994], \"xaxis\": \"x\", \"y\": [673.0], \"yaxis\": \"y\"}, {\"hoverlabel\": {\"namelength\": 0}, \"hovertemplate\": \"State=FL<br>Total=%{x}<br>Positive=%{y}\", \"legendgroup\": \"FL\", \"marker\": {\"color\": \"#636efa\", \"symbol\": \"circle\"}, \"mode\": \"markers\", \"name\": \"FL\", \"showlegend\": true, \"type\": \"scatter\", \"x\": [114533], \"xaxis\": \"x\", \"y\": [12151.0], \"yaxis\": \"y\"}, {\"hoverlabel\": {\"namelength\": 0}, \"hovertemplate\": \"State=GA<br>Total=%{x}<br>Positive=%{y}\", \"legendgroup\": \"GA\", \"marker\": {\"color\": \"#EF553B\", \"symbol\": \"circle\"}, \"mode\": \"markers\", \"name\": \"GA\", \"showlegend\": true, \"type\": \"scatter\", \"x\": [27832], \"xaxis\": \"x\", \"y\": [6647.0], \"yaxis\": \"y\"}, {\"hoverlabel\": {\"namelength\": 0}, \"hovertemplate\": \"State=GU<br>Total=%{x}<br>Positive=%{y}\", \"legendgroup\": \"GU\", \"marker\": {\"color\": \"#00cc96\", \"symbol\": \"circle\"}, \"mode\": \"markers\", \"name\": \"GU\", \"showlegend\": true, \"type\": \"scatter\", \"x\": [605], \"xaxis\": \"x\", \"y\": [112.0], \"yaxis\": \"y\"}, {\"hoverlabel\": {\"namelength\": 0}, \"hovertemplate\": \"State=HI<br>Total=%{x}<br>Positive=%{y}\", \"legendgroup\": \"HI\", \"marker\": {\"color\": \"#ab63fa\", \"symbol\": \"circle\"}, \"mode\": \"markers\", \"name\": \"HI\", \"showlegend\": true, \"type\": \"scatter\", \"x\": [12955], \"xaxis\": \"x\", \"y\": [351.0], \"yaxis\": \"y\"}, {\"hoverlabel\": {\"namelength\": 0}, \"hovertemplate\": \"State=IA<br>Total=%{x}<br>Positive=%{y}\", \"legendgroup\": \"IA\", \"marker\": {\"color\": \"#FFA15A\", \"symbol\": \"circle\"}, \"mode\": \"markers\", \"name\": \"IA\", \"showlegend\": true, \"type\": \"scatter\", \"x\": [10841], \"xaxis\": \"x\", \"y\": [868.0], \"yaxis\": \"y\"}, {\"hoverlabel\": {\"namelength\": 0}, \"hovertemplate\": \"State=ID<br>Total=%{x}<br>Positive=%{y}\", \"legendgroup\": \"ID\", \"marker\": {\"color\": \"#19d3f3\", \"symbol\": \"circle\"}, \"mode\": \"markers\", \"name\": \"ID\", \"showlegend\": true, \"type\": \"scatter\", \"x\": [10261], \"xaxis\": \"x\", \"y\": [1077.0], \"yaxis\": \"y\"}, {\"hoverlabel\": {\"namelength\": 0}, \"hovertemplate\": \"State=IL<br>Total=%{x}<br>Positive=%{y}\", \"legendgroup\": \"IL\", \"marker\": {\"color\": \"#FF6692\", \"symbol\": \"circle\"}, \"mode\": \"markers\", \"name\": \"IL\", \"showlegend\": true, \"type\": \"scatter\", \"x\": [58983], \"xaxis\": \"x\", \"y\": [11256.0], \"yaxis\": \"y\"}, {\"hoverlabel\": {\"namelength\": 0}, \"hovertemplate\": \"State=IN<br>Total=%{x}<br>Positive=%{y}\", \"legendgroup\": \"IN\", \"marker\": {\"color\": \"#B6E880\", \"symbol\": \"circle\"}, \"mode\": \"markers\", \"name\": \"IN\", \"showlegend\": true, \"type\": \"scatter\", \"x\": [22652], \"xaxis\": \"x\", \"y\": [4411.0], \"yaxis\": \"y\"}, {\"hoverlabel\": {\"namelength\": 0}, \"hovertemplate\": \"State=KS<br>Total=%{x}<br>Positive=%{y}\", \"legendgroup\": \"KS\", \"marker\": {\"color\": \"#FF97FF\", \"symbol\": \"circle\"}, \"mode\": \"markers\", \"name\": \"KS\", \"showlegend\": true, \"type\": \"scatter\", \"x\": [8223], \"xaxis\": \"x\", \"y\": [747.0], \"yaxis\": \"y\"}, {\"hoverlabel\": {\"namelength\": 0}, \"hovertemplate\": \"State=KY<br>Total=%{x}<br>Positive=%{y}\", \"legendgroup\": \"KY\", \"marker\": {\"color\": \"#FECB52\", \"symbol\": \"circle\"}, \"mode\": \"markers\", \"name\": \"KY\", \"showlegend\": true, \"type\": \"scatter\", \"x\": [16663], \"xaxis\": \"x\", \"y\": [917.0], \"yaxis\": \"y\"}, {\"hoverlabel\": {\"namelength\": 0}, \"hovertemplate\": \"State=LA<br>Total=%{x}<br>Positive=%{y}\", \"legendgroup\": \"LA\", \"marker\": {\"color\": \"#636efa\", \"symbol\": \"circle\"}, \"mode\": \"markers\", \"name\": \"LA\", \"showlegend\": true, \"type\": \"scatter\", \"x\": [60325], \"xaxis\": \"x\", \"y\": [13010.0], \"yaxis\": \"y\"}, {\"hoverlabel\": {\"namelength\": 0}, \"hovertemplate\": \"State=MA<br>Total=%{x}<br>Positive=%{y}\", \"legendgroup\": \"MA\", \"marker\": {\"color\": \"#EF553B\", \"symbol\": \"circle\"}, \"mode\": \"markers\", \"name\": \"MA\", \"showlegend\": true, \"type\": \"scatter\", \"x\": [71937], \"xaxis\": \"x\", \"y\": [12500.0], \"yaxis\": \"y\"}, {\"hoverlabel\": {\"namelength\": 0}, \"hovertemplate\": \"State=MD<br>Total=%{x}<br>Positive=%{y}\", \"legendgroup\": \"MD\", \"marker\": {\"color\": \"#00cc96\", \"symbol\": \"circle\"}, \"mode\": \"markers\", \"name\": \"MD\", \"showlegend\": true, \"type\": \"scatter\", \"x\": [28337], \"xaxis\": \"x\", \"y\": [3609.0], \"yaxis\": \"y\"}, {\"hoverlabel\": {\"namelength\": 0}, \"hovertemplate\": \"State=ME<br>Total=%{x}<br>Positive=%{y}\", \"legendgroup\": \"ME\", \"marker\": {\"color\": \"#ab63fa\", \"symbol\": \"circle\"}, \"mode\": \"markers\", \"name\": \"ME\", \"showlegend\": true, \"type\": \"scatter\", \"x\": [6558], \"xaxis\": \"x\", \"y\": [470.0], \"yaxis\": \"y\"}, {\"hoverlabel\": {\"namelength\": 0}, \"hovertemplate\": \"State=MI<br>Total=%{x}<br>Positive=%{y}\", \"legendgroup\": \"MI\", \"marker\": {\"color\": \"#FFA15A\", \"symbol\": \"circle\"}, \"mode\": \"markers\", \"name\": \"MI\", \"showlegend\": true, \"type\": \"scatter\", \"x\": [45748], \"xaxis\": \"x\", \"y\": [15718.0], \"yaxis\": \"y\"}, {\"hoverlabel\": {\"namelength\": 0}, \"hovertemplate\": \"State=MN<br>Total=%{x}<br>Positive=%{y}\", \"legendgroup\": \"MN\", \"marker\": {\"color\": \"#19d3f3\", \"symbol\": \"circle\"}, \"mode\": \"markers\", \"name\": \"MN\", \"showlegend\": true, \"type\": \"scatter\", \"x\": [26777], \"xaxis\": \"x\", \"y\": [935.0], \"yaxis\": \"y\"}, {\"hoverlabel\": {\"namelength\": 0}, \"hovertemplate\": \"State=MO<br>Total=%{x}<br>Positive=%{y}\", \"legendgroup\": \"MO\", \"marker\": {\"color\": \"#FF6692\", \"symbol\": \"circle\"}, \"mode\": \"markers\", \"name\": \"MO\", \"showlegend\": true, \"type\": \"scatter\", \"x\": [27249], \"xaxis\": \"x\", \"y\": [2367.0], \"yaxis\": \"y\"}, {\"hoverlabel\": {\"namelength\": 0}, \"hovertemplate\": \"State=MP<br>Total=%{x}<br>Positive=%{y}\", \"legendgroup\": \"MP\", \"marker\": {\"color\": \"#B6E880\", \"symbol\": \"circle\"}, \"mode\": \"markers\", \"name\": \"MP\", \"showlegend\": true, \"type\": \"scatter\", \"x\": [31], \"xaxis\": \"x\", \"y\": [8.0], \"yaxis\": \"y\"}, {\"hoverlabel\": {\"namelength\": 0}, \"hovertemplate\": \"State=MS<br>Total=%{x}<br>Positive=%{y}\", \"legendgroup\": \"MS\", \"marker\": {\"color\": \"#FF97FF\", \"symbol\": \"circle\"}, \"mode\": \"markers\", \"name\": \"MS\", \"showlegend\": true, \"type\": \"scatter\", \"x\": [7218], \"xaxis\": \"x\", \"y\": [1638.0], \"yaxis\": \"y\"}, {\"hoverlabel\": {\"namelength\": 0}, \"hovertemplate\": \"State=MT<br>Total=%{x}<br>Positive=%{y}\", \"legendgroup\": \"MT\", \"marker\": {\"color\": \"#FECB52\", \"symbol\": \"circle\"}, \"mode\": \"markers\", \"name\": \"MT\", \"showlegend\": true, \"type\": \"scatter\", \"x\": [6603], \"xaxis\": \"x\", \"y\": [286.0], \"yaxis\": \"y\"}, {\"hoverlabel\": {\"namelength\": 0}, \"hovertemplate\": \"State=NC<br>Total=%{x}<br>Positive=%{y}\", \"legendgroup\": \"NC\", \"marker\": {\"color\": \"#636efa\", \"symbol\": \"circle\"}, \"mode\": \"markers\", \"name\": \"NC\", \"showlegend\": true, \"type\": \"scatter\", \"x\": [40045], \"xaxis\": \"x\", \"y\": [2585.0], \"yaxis\": \"y\"}, {\"hoverlabel\": {\"namelength\": 0}, \"hovertemplate\": \"State=ND<br>Total=%{x}<br>Positive=%{y}\", \"legendgroup\": \"ND\", \"marker\": {\"color\": \"#EF553B\", \"symbol\": \"circle\"}, \"mode\": \"markers\", \"name\": \"ND\", \"showlegend\": true, \"type\": \"scatter\", \"x\": [6787], \"xaxis\": \"x\", \"y\": [207.0], \"yaxis\": \"y\"}, {\"hoverlabel\": {\"namelength\": 0}, \"hovertemplate\": \"State=NE<br>Total=%{x}<br>Positive=%{y}\", \"legendgroup\": \"NE\", \"marker\": {\"color\": \"#00cc96\", \"symbol\": \"circle\"}, \"mode\": \"markers\", \"name\": \"NE\", \"showlegend\": true, \"type\": \"scatter\", \"x\": [5933], \"xaxis\": \"x\", \"y\": [363.0], \"yaxis\": \"y\"}, {\"hoverlabel\": {\"namelength\": 0}, \"hovertemplate\": \"State=NH<br>Total=%{x}<br>Positive=%{y}\", \"legendgroup\": \"NH\", \"marker\": {\"color\": \"#ab63fa\", \"symbol\": \"circle\"}, \"mode\": \"markers\", \"name\": \"NH\", \"showlegend\": true, \"type\": \"scatter\", \"x\": [8125], \"xaxis\": \"x\", \"y\": [621.0], \"yaxis\": \"y\"}, {\"hoverlabel\": {\"namelength\": 0}, \"hovertemplate\": \"State=NJ<br>Total=%{x}<br>Positive=%{y}\", \"legendgroup\": \"NJ\", \"marker\": {\"color\": \"#FFA15A\", \"symbol\": \"circle\"}, \"mode\": \"markers\", \"name\": \"NJ\", \"showlegend\": true, \"type\": \"scatter\", \"x\": [82166], \"xaxis\": \"x\", \"y\": [37505.0], \"yaxis\": \"y\"}, {\"hoverlabel\": {\"namelength\": 0}, \"hovertemplate\": \"State=NM<br>Total=%{x}<br>Positive=%{y}\", \"legendgroup\": \"NM\", \"marker\": {\"color\": \"#19d3f3\", \"symbol\": \"circle\"}, \"mode\": \"markers\", \"name\": \"NM\", \"showlegend\": true, \"type\": \"scatter\", \"x\": [16828], \"xaxis\": \"x\", \"y\": [543.0], \"yaxis\": \"y\"}, {\"hoverlabel\": {\"namelength\": 0}, \"hovertemplate\": \"State=NV<br>Total=%{x}<br>Positive=%{y}\", \"legendgroup\": \"NV\", \"marker\": {\"color\": \"#FF6692\", \"symbol\": \"circle\"}, \"mode\": \"markers\", \"name\": \"NV\", \"showlegend\": true, \"type\": \"scatter\", \"x\": [16831], \"xaxis\": \"x\", \"y\": [1836.0], \"yaxis\": \"y\"}, {\"hoverlabel\": {\"namelength\": 0}, \"hovertemplate\": \"State=NY<br>Total=%{x}<br>Positive=%{y}\", \"legendgroup\": \"NY\", \"marker\": {\"color\": \"#B6E880\", \"symbol\": \"circle\"}, \"mode\": \"markers\", \"name\": \"NY\", \"showlegend\": true, \"type\": \"scatter\", \"x\": [302280], \"xaxis\": \"x\", \"y\": [122031.0], \"yaxis\": \"y\"}, {\"hoverlabel\": {\"namelength\": 0}, \"hovertemplate\": \"State=OH<br>Total=%{x}<br>Positive=%{y}\", \"legendgroup\": \"OH\", \"marker\": {\"color\": \"#FF97FF\", \"symbol\": \"circle\"}, \"mode\": \"markers\", \"name\": \"OH\", \"showlegend\": true, \"type\": \"scatter\", \"x\": [43756], \"xaxis\": \"x\", \"y\": [4043.0], \"yaxis\": \"y\"}, {\"hoverlabel\": {\"namelength\": 0}, \"hovertemplate\": \"State=OK<br>Total=%{x}<br>Positive=%{y}\", \"legendgroup\": \"OK\", \"marker\": {\"color\": \"#FECB52\", \"symbol\": \"circle\"}, \"mode\": \"markers\", \"name\": \"OK\", \"showlegend\": true, \"type\": \"scatter\", \"x\": [2653], \"xaxis\": \"x\", \"y\": [1252.0], \"yaxis\": \"y\"}, {\"hoverlabel\": {\"namelength\": 0}, \"hovertemplate\": \"State=OR<br>Total=%{x}<br>Positive=%{y}\", \"legendgroup\": \"OR\", \"marker\": {\"color\": \"#636efa\", \"symbol\": \"circle\"}, \"mode\": \"markers\", \"name\": \"OR\", \"showlegend\": true, \"type\": \"scatter\", \"x\": [18925], \"xaxis\": \"x\", \"y\": [999.0], \"yaxis\": \"y\"}, {\"hoverlabel\": {\"namelength\": 0}, \"hovertemplate\": \"State=PA<br>Total=%{x}<br>Positive=%{y}\", \"legendgroup\": \"PA\", \"marker\": {\"color\": \"#EF553B\", \"symbol\": \"circle\"}, \"mode\": \"markers\", \"name\": \"PA\", \"showlegend\": true, \"type\": \"scatter\", \"x\": [77771], \"xaxis\": \"x\", \"y\": [11510.0], \"yaxis\": \"y\"}, {\"hoverlabel\": {\"namelength\": 0}, \"hovertemplate\": \"State=PR<br>Total=%{x}<br>Positive=%{y}\", \"legendgroup\": \"PR\", \"marker\": {\"color\": \"#00cc96\", \"symbol\": \"circle\"}, \"mode\": \"markers\", \"name\": \"PR\", \"showlegend\": true, \"type\": \"scatter\", \"x\": [4587], \"xaxis\": \"x\", \"y\": [475.0], \"yaxis\": \"y\"}, {\"hoverlabel\": {\"namelength\": 0}, \"hovertemplate\": \"State=RI<br>Total=%{x}<br>Positive=%{y}\", \"legendgroup\": \"RI\", \"marker\": {\"color\": \"#ab63fa\", \"symbol\": \"circle\"}, \"mode\": \"markers\", \"name\": \"RI\", \"showlegend\": true, \"type\": \"scatter\", \"x\": [8103], \"xaxis\": \"x\", \"y\": [922.0], \"yaxis\": \"y\"}, {\"hoverlabel\": {\"namelength\": 0}, \"hovertemplate\": \"State=SC<br>Total=%{x}<br>Positive=%{y}\", \"legendgroup\": \"SC\", \"marker\": {\"color\": \"#FFA15A\", \"symbol\": \"circle\"}, \"mode\": \"markers\", \"name\": \"SC\", \"showlegend\": true, \"type\": \"scatter\", \"x\": [18976], \"xaxis\": \"x\", \"y\": [2049.0], \"yaxis\": \"y\"}, {\"hoverlabel\": {\"namelength\": 0}, \"hovertemplate\": \"State=SD<br>Total=%{x}<br>Positive=%{y}\", \"legendgroup\": \"SD\", \"marker\": {\"color\": \"#19d3f3\", \"symbol\": \"circle\"}, \"mode\": \"markers\", \"name\": \"SD\", \"showlegend\": true, \"type\": \"scatter\", \"x\": [5593], \"xaxis\": \"x\", \"y\": [240.0], \"yaxis\": \"y\"}, {\"hoverlabel\": {\"namelength\": 0}, \"hovertemplate\": \"State=TN<br>Total=%{x}<br>Positive=%{y}\", \"legendgroup\": \"TN\", \"marker\": {\"color\": \"#FF6692\", \"symbol\": \"circle\"}, \"mode\": \"markers\", \"name\": \"TN\", \"showlegend\": true, \"type\": \"scatter\", \"x\": [45300], \"xaxis\": \"x\", \"y\": [3633.0], \"yaxis\": \"y\"}, {\"hoverlabel\": {\"namelength\": 0}, \"hovertemplate\": \"State=TX<br>Total=%{x}<br>Positive=%{y}\", \"legendgroup\": \"TX\", \"marker\": {\"color\": \"#B6E880\", \"symbol\": \"circle\"}, \"mode\": \"markers\", \"name\": \"TX\", \"showlegend\": true, \"type\": \"scatter\", \"x\": [70938], \"xaxis\": \"x\", \"y\": [6812.0], \"yaxis\": \"y\"}, {\"hoverlabel\": {\"namelength\": 0}, \"hovertemplate\": \"State=UT<br>Total=%{x}<br>Positive=%{y}\", \"legendgroup\": \"UT\", \"marker\": {\"color\": \"#FF97FF\", \"symbol\": \"circle\"}, \"mode\": \"markers\", \"name\": \"UT\", \"showlegend\": true, \"type\": \"scatter\", \"x\": [30892], \"xaxis\": \"x\", \"y\": [1605.0], \"yaxis\": \"y\"}, {\"hoverlabel\": {\"namelength\": 0}, \"hovertemplate\": \"State=VA<br>Total=%{x}<br>Positive=%{y}\", \"legendgroup\": \"VA\", \"marker\": {\"color\": \"#FECB52\", \"symbol\": \"circle\"}, \"mode\": \"markers\", \"name\": \"VA\", \"showlegend\": true, \"type\": \"scatter\", \"x\": [23671], \"xaxis\": \"x\", \"y\": [2637.0], \"yaxis\": \"y\"}, {\"hoverlabel\": {\"namelength\": 0}, \"hovertemplate\": \"State=VI<br>Total=%{x}<br>Positive=%{y}\", \"legendgroup\": \"VI\", \"marker\": {\"color\": \"#636efa\", \"symbol\": \"circle\"}, \"mode\": \"markers\", \"name\": \"VI\", \"showlegend\": true, \"type\": \"scatter\", \"x\": [266], \"xaxis\": \"x\", \"y\": [42.0], \"yaxis\": \"y\"}, {\"hoverlabel\": {\"namelength\": 0}, \"hovertemplate\": \"State=VT<br>Total=%{x}<br>Positive=%{y}\", \"legendgroup\": \"VT\", \"marker\": {\"color\": \"#EF553B\", \"symbol\": \"circle\"}, \"mode\": \"markers\", \"name\": \"VT\", \"showlegend\": true, \"type\": \"scatter\", \"x\": [6582], \"xaxis\": \"x\", \"y\": [512.0], \"yaxis\": \"y\"}, {\"hoverlabel\": {\"namelength\": 0}, \"hovertemplate\": \"State=WA<br>Total=%{x}<br>Positive=%{y}\", \"legendgroup\": \"WA\", \"marker\": {\"color\": \"#00cc96\", \"symbol\": \"circle\"}, \"mode\": \"markers\", \"name\": \"WA\", \"showlegend\": true, \"type\": \"scatter\", \"x\": [87918], \"xaxis\": \"x\", \"y\": [7591.0], \"yaxis\": \"y\"}, {\"hoverlabel\": {\"namelength\": 0}, \"hovertemplate\": \"State=WI<br>Total=%{x}<br>Positive=%{y}\", \"legendgroup\": \"WI\", \"marker\": {\"color\": \"#ab63fa\", \"symbol\": \"circle\"}, \"mode\": \"markers\", \"name\": \"WI\", \"showlegend\": true, \"type\": \"scatter\", \"x\": [27436], \"xaxis\": \"x\", \"y\": [2267.0], \"yaxis\": \"y\"}, {\"hoverlabel\": {\"namelength\": 0}, \"hovertemplate\": \"State=WV<br>Total=%{x}<br>Positive=%{y}\", \"legendgroup\": \"WV\", \"marker\": {\"color\": \"#FFA15A\", \"symbol\": \"circle\"}, \"mode\": \"markers\", \"name\": \"WV\", \"showlegend\": true, \"type\": \"scatter\", \"x\": [8838], \"xaxis\": \"x\", \"y\": [324.0], \"yaxis\": \"y\"}, {\"hoverlabel\": {\"namelength\": 0}, \"hovertemplate\": \"State=WY<br>Total=%{x}<br>Positive=%{y}\", \"legendgroup\": \"WY\", \"marker\": {\"color\": \"#19d3f3\", \"symbol\": \"circle\"}, \"mode\": \"markers\", \"name\": \"WY\", \"showlegend\": true, \"type\": \"scatter\", \"x\": [3237], \"xaxis\": \"x\", \"y\": [197.0], \"yaxis\": \"y\"}],\n",
       "                        {\"legend\": {\"title\": {\"text\": \"State\"}, \"tracegroupgap\": 0}, \"margin\": {\"t\": 60}, \"template\": {\"data\": {\"bar\": [{\"error_x\": {\"color\": \"#2a3f5f\"}, \"error_y\": {\"color\": \"#2a3f5f\"}, \"marker\": {\"line\": {\"color\": \"#E5ECF6\", \"width\": 0.5}}, \"type\": \"bar\"}], \"barpolar\": [{\"marker\": {\"line\": {\"color\": \"#E5ECF6\", \"width\": 0.5}}, \"type\": \"barpolar\"}], \"carpet\": [{\"aaxis\": {\"endlinecolor\": \"#2a3f5f\", \"gridcolor\": \"white\", \"linecolor\": \"white\", \"minorgridcolor\": \"white\", \"startlinecolor\": \"#2a3f5f\"}, \"baxis\": {\"endlinecolor\": \"#2a3f5f\", \"gridcolor\": \"white\", \"linecolor\": \"white\", \"minorgridcolor\": \"white\", \"startlinecolor\": \"#2a3f5f\"}, \"type\": \"carpet\"}], \"choropleth\": [{\"colorbar\": {\"outlinewidth\": 0, \"ticks\": \"\"}, \"type\": \"choropleth\"}], \"contour\": [{\"colorbar\": {\"outlinewidth\": 0, \"ticks\": \"\"}, \"colorscale\": [[0.0, \"#0d0887\"], [0.1111111111111111, \"#46039f\"], [0.2222222222222222, \"#7201a8\"], [0.3333333333333333, \"#9c179e\"], [0.4444444444444444, \"#bd3786\"], [0.5555555555555556, \"#d8576b\"], [0.6666666666666666, \"#ed7953\"], [0.7777777777777778, \"#fb9f3a\"], [0.8888888888888888, \"#fdca26\"], [1.0, \"#f0f921\"]], \"type\": \"contour\"}], \"contourcarpet\": [{\"colorbar\": {\"outlinewidth\": 0, \"ticks\": \"\"}, \"type\": \"contourcarpet\"}], \"heatmap\": [{\"colorbar\": {\"outlinewidth\": 0, \"ticks\": \"\"}, \"colorscale\": [[0.0, \"#0d0887\"], [0.1111111111111111, \"#46039f\"], [0.2222222222222222, \"#7201a8\"], [0.3333333333333333, \"#9c179e\"], [0.4444444444444444, \"#bd3786\"], [0.5555555555555556, \"#d8576b\"], [0.6666666666666666, \"#ed7953\"], [0.7777777777777778, \"#fb9f3a\"], [0.8888888888888888, \"#fdca26\"], [1.0, \"#f0f921\"]], \"type\": \"heatmap\"}], \"heatmapgl\": [{\"colorbar\": {\"outlinewidth\": 0, \"ticks\": \"\"}, \"colorscale\": [[0.0, \"#0d0887\"], [0.1111111111111111, \"#46039f\"], [0.2222222222222222, \"#7201a8\"], [0.3333333333333333, \"#9c179e\"], [0.4444444444444444, \"#bd3786\"], [0.5555555555555556, \"#d8576b\"], [0.6666666666666666, \"#ed7953\"], [0.7777777777777778, \"#fb9f3a\"], [0.8888888888888888, \"#fdca26\"], [1.0, \"#f0f921\"]], \"type\": \"heatmapgl\"}], \"histogram\": [{\"marker\": {\"colorbar\": {\"outlinewidth\": 0, \"ticks\": \"\"}}, \"type\": \"histogram\"}], \"histogram2d\": [{\"colorbar\": {\"outlinewidth\": 0, \"ticks\": \"\"}, \"colorscale\": [[0.0, \"#0d0887\"], [0.1111111111111111, \"#46039f\"], [0.2222222222222222, \"#7201a8\"], [0.3333333333333333, \"#9c179e\"], [0.4444444444444444, \"#bd3786\"], [0.5555555555555556, \"#d8576b\"], [0.6666666666666666, \"#ed7953\"], [0.7777777777777778, \"#fb9f3a\"], [0.8888888888888888, \"#fdca26\"], [1.0, \"#f0f921\"]], \"type\": \"histogram2d\"}], \"histogram2dcontour\": [{\"colorbar\": {\"outlinewidth\": 0, \"ticks\": \"\"}, \"colorscale\": [[0.0, \"#0d0887\"], [0.1111111111111111, \"#46039f\"], [0.2222222222222222, \"#7201a8\"], [0.3333333333333333, \"#9c179e\"], [0.4444444444444444, \"#bd3786\"], [0.5555555555555556, \"#d8576b\"], [0.6666666666666666, \"#ed7953\"], [0.7777777777777778, \"#fb9f3a\"], [0.8888888888888888, \"#fdca26\"], [1.0, \"#f0f921\"]], \"type\": \"histogram2dcontour\"}], \"mesh3d\": [{\"colorbar\": {\"outlinewidth\": 0, \"ticks\": \"\"}, \"type\": \"mesh3d\"}], \"parcoords\": [{\"line\": {\"colorbar\": {\"outlinewidth\": 0, \"ticks\": \"\"}}, \"type\": \"parcoords\"}], \"pie\": [{\"automargin\": true, \"type\": \"pie\"}], \"scatter\": [{\"marker\": {\"colorbar\": {\"outlinewidth\": 0, \"ticks\": \"\"}}, \"type\": \"scatter\"}], \"scatter3d\": [{\"line\": {\"colorbar\": {\"outlinewidth\": 0, \"ticks\": \"\"}}, \"marker\": {\"colorbar\": {\"outlinewidth\": 0, \"ticks\": \"\"}}, \"type\": \"scatter3d\"}], \"scattercarpet\": [{\"marker\": {\"colorbar\": {\"outlinewidth\": 0, \"ticks\": \"\"}}, \"type\": \"scattercarpet\"}], \"scattergeo\": [{\"marker\": {\"colorbar\": {\"outlinewidth\": 0, \"ticks\": \"\"}}, \"type\": \"scattergeo\"}], \"scattergl\": [{\"marker\": {\"colorbar\": {\"outlinewidth\": 0, \"ticks\": \"\"}}, \"type\": \"scattergl\"}], \"scattermapbox\": [{\"marker\": {\"colorbar\": {\"outlinewidth\": 0, \"ticks\": \"\"}}, \"type\": \"scattermapbox\"}], \"scatterpolar\": [{\"marker\": {\"colorbar\": {\"outlinewidth\": 0, \"ticks\": \"\"}}, \"type\": \"scatterpolar\"}], \"scatterpolargl\": [{\"marker\": {\"colorbar\": {\"outlinewidth\": 0, \"ticks\": \"\"}}, \"type\": \"scatterpolargl\"}], \"scatterternary\": [{\"marker\": {\"colorbar\": {\"outlinewidth\": 0, \"ticks\": \"\"}}, \"type\": \"scatterternary\"}], \"surface\": [{\"colorbar\": {\"outlinewidth\": 0, \"ticks\": \"\"}, \"colorscale\": [[0.0, \"#0d0887\"], [0.1111111111111111, \"#46039f\"], [0.2222222222222222, \"#7201a8\"], [0.3333333333333333, \"#9c179e\"], [0.4444444444444444, \"#bd3786\"], [0.5555555555555556, \"#d8576b\"], [0.6666666666666666, \"#ed7953\"], [0.7777777777777778, \"#fb9f3a\"], [0.8888888888888888, \"#fdca26\"], [1.0, \"#f0f921\"]], \"type\": \"surface\"}], \"table\": [{\"cells\": {\"fill\": {\"color\": \"#EBF0F8\"}, \"line\": {\"color\": \"white\"}}, \"header\": {\"fill\": {\"color\": \"#C8D4E3\"}, \"line\": {\"color\": \"white\"}}, \"type\": \"table\"}]}, \"layout\": {\"annotationdefaults\": {\"arrowcolor\": \"#2a3f5f\", \"arrowhead\": 0, \"arrowwidth\": 1}, \"coloraxis\": {\"colorbar\": {\"outlinewidth\": 0, \"ticks\": \"\"}}, \"colorscale\": {\"diverging\": [[0, \"#8e0152\"], [0.1, \"#c51b7d\"], [0.2, \"#de77ae\"], [0.3, \"#f1b6da\"], [0.4, \"#fde0ef\"], [0.5, \"#f7f7f7\"], [0.6, \"#e6f5d0\"], [0.7, \"#b8e186\"], [0.8, \"#7fbc41\"], [0.9, \"#4d9221\"], [1, \"#276419\"]], \"sequential\": [[0.0, \"#0d0887\"], [0.1111111111111111, \"#46039f\"], [0.2222222222222222, \"#7201a8\"], [0.3333333333333333, \"#9c179e\"], [0.4444444444444444, \"#bd3786\"], [0.5555555555555556, \"#d8576b\"], [0.6666666666666666, \"#ed7953\"], [0.7777777777777778, \"#fb9f3a\"], [0.8888888888888888, \"#fdca26\"], [1.0, \"#f0f921\"]], \"sequentialminus\": [[0.0, \"#0d0887\"], [0.1111111111111111, \"#46039f\"], [0.2222222222222222, \"#7201a8\"], [0.3333333333333333, \"#9c179e\"], [0.4444444444444444, \"#bd3786\"], [0.5555555555555556, \"#d8576b\"], [0.6666666666666666, \"#ed7953\"], [0.7777777777777778, \"#fb9f3a\"], [0.8888888888888888, \"#fdca26\"], [1.0, \"#f0f921\"]]}, \"colorway\": [\"#636efa\", \"#EF553B\", \"#00cc96\", \"#ab63fa\", \"#FFA15A\", \"#19d3f3\", \"#FF6692\", \"#B6E880\", \"#FF97FF\", \"#FECB52\"], \"font\": {\"color\": \"#2a3f5f\"}, \"geo\": {\"bgcolor\": \"white\", \"lakecolor\": \"white\", \"landcolor\": \"#E5ECF6\", \"showlakes\": true, \"showland\": true, \"subunitcolor\": \"white\"}, \"hoverlabel\": {\"align\": \"left\"}, \"hovermode\": \"closest\", \"mapbox\": {\"style\": \"light\"}, \"paper_bgcolor\": \"white\", \"plot_bgcolor\": \"#E5ECF6\", \"polar\": {\"angularaxis\": {\"gridcolor\": \"white\", \"linecolor\": \"white\", \"ticks\": \"\"}, \"bgcolor\": \"#E5ECF6\", \"radialaxis\": {\"gridcolor\": \"white\", \"linecolor\": \"white\", \"ticks\": \"\"}}, \"scene\": {\"xaxis\": {\"backgroundcolor\": \"#E5ECF6\", \"gridcolor\": \"white\", \"gridwidth\": 2, \"linecolor\": \"white\", \"showbackground\": true, \"ticks\": \"\", \"zerolinecolor\": \"white\"}, \"yaxis\": {\"backgroundcolor\": \"#E5ECF6\", \"gridcolor\": \"white\", \"gridwidth\": 2, \"linecolor\": \"white\", \"showbackground\": true, \"ticks\": \"\", \"zerolinecolor\": \"white\"}, \"zaxis\": {\"backgroundcolor\": \"#E5ECF6\", \"gridcolor\": \"white\", \"gridwidth\": 2, \"linecolor\": \"white\", \"showbackground\": true, \"ticks\": \"\", \"zerolinecolor\": \"white\"}}, \"shapedefaults\": {\"line\": {\"color\": \"#2a3f5f\"}}, \"ternary\": {\"aaxis\": {\"gridcolor\": \"white\", \"linecolor\": \"white\", \"ticks\": \"\"}, \"baxis\": {\"gridcolor\": \"white\", \"linecolor\": \"white\", \"ticks\": \"\"}, \"bgcolor\": \"#E5ECF6\", \"caxis\": {\"gridcolor\": \"white\", \"linecolor\": \"white\", \"ticks\": \"\"}}, \"title\": {\"x\": 0.05}, \"xaxis\": {\"automargin\": true, \"gridcolor\": \"white\", \"linecolor\": \"white\", \"ticks\": \"\", \"title\": {\"standoff\": 15}, \"zerolinecolor\": \"white\", \"zerolinewidth\": 2}, \"yaxis\": {\"automargin\": true, \"gridcolor\": \"white\", \"linecolor\": \"white\", \"ticks\": \"\", \"title\": {\"standoff\": 15}, \"zerolinecolor\": \"white\", \"zerolinewidth\": 2}}}, \"xaxis\": {\"anchor\": \"y\", \"domain\": [0.0, 1.0], \"title\": {\"text\": \"Total\"}, \"type\": \"log\"}, \"yaxis\": {\"anchor\": \"x\", \"domain\": [0.0, 1.0], \"title\": {\"text\": \"Positive\"}, \"type\": \"log\"}},\n",
       "                        {\"responsive\": true}\n",
       "                    ).then(function(){\n",
       "                            \n",
       "var gd = document.getElementById('9141bf00-9b12-454a-a115-2c3555902f78');\n",
       "var x = new MutationObserver(function (mutations, observer) {{\n",
       "        var display = window.getComputedStyle(gd).display;\n",
       "        if (!display || display === 'none') {{\n",
       "            console.log([gd, 'removed!']);\n",
       "            Plotly.purge(gd);\n",
       "            observer.disconnect();\n",
       "        }}\n",
       "}});\n",
       "\n",
       "// Listen for the removal of the full notebook cells\n",
       "var notebookContainer = gd.closest('#notebook-container');\n",
       "if (notebookContainer) {{\n",
       "    x.observe(notebookContainer, {childList: true});\n",
       "}}\n",
       "\n",
       "// Listen for the clearing of the current output cell\n",
       "var outputEl = gd.closest('.output');\n",
       "if (outputEl) {{\n",
       "    x.observe(outputEl, {childList: true});\n",
       "}}\n",
       "\n",
       "                        })\n",
       "                };\n",
       "                });\n",
       "            </script>\n",
       "        </div>"
      ]
     },
     "metadata": {},
     "output_type": "display_data"
    }
   ],
   "source": [
    "fig = px.scatter(data_frame=df_testing.sort_values(by='Date').groupby(['State']).agg('last').reset_index(),\n",
    "                 x='Total', y='Positive', color='State',\n",
    "                 log_x=True, log_y=True,\n",
    "                )\n",
    "fig.show()"
   ]
  },
  {
   "cell_type": "markdown",
   "metadata": {},
   "source": [
    "## Geographic distribution of cases"
   ]
  },
  {
   "cell_type": "code",
   "execution_count": 38,
   "metadata": {},
   "outputs": [],
   "source": [
    "# px.choropleth(data_frame=df_country[df_country.Country.isin(['US', 'Korea, South', 'Italy'])],\n",
    "#               lat='Lat', lon='Long',\n",
    "#              )"
   ]
  },
  {
   "cell_type": "code",
   "execution_count": null,
   "metadata": {},
   "outputs": [],
   "source": []
  }
 ],
 "metadata": {
  "kernelspec": {
   "display_name": "Python 3",
   "language": "python",
   "name": "python3"
  },
  "language_info": {
   "codemirror_mode": {
    "name": "ipython",
    "version": 3
   },
   "file_extension": ".py",
   "mimetype": "text/x-python",
   "name": "python",
   "nbconvert_exporter": "python",
   "pygments_lexer": "ipython3",
   "version": "3.7.2"
  }
 },
 "nbformat": 4,
 "nbformat_minor": 4
}

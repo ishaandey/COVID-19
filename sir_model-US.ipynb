{
 "cells": [
  {
   "cell_type": "markdown",
   "metadata": {},
   "source": [
    "# Time-Dependent SIR Model"
   ]
  },
  {
   "cell_type": "markdown",
   "metadata": {},
   "source": [
    "Adapted from https://arxiv.org/abs/2003.00122\n",
    "\n",
    "Shoutout to Ping-En Lu and team for providing source code"
   ]
  },
  {
   "cell_type": "code",
   "execution_count": 1,
   "metadata": {},
   "outputs": [],
   "source": [
    "import pandas as pd\n",
    "import numpy as np\n",
    "pd.set_option('display.max_columns', 150)\n",
    "pd.set_option('display.max_rows', 300)\n",
    "\n",
    "from datetime import timedelta\n",
    "import math\n",
    "\n",
    "import matplotlib.pyplot as plt\n",
    "import matplotlib as mpl\n",
    "import seaborn as sns\n",
    "mpl.rcParams['figure.dpi']= 600\n",
    "sns.set()\n",
    "\n",
    "from sklearn.model_selection import GridSearchCV"
   ]
  },
  {
   "cell_type": "code",
   "execution_count": 2,
   "metadata": {},
   "outputs": [],
   "source": [
    "# Helper functions\n",
    "def clean_df(df_metric, country='US', metric='Confirmed', start_date = '2020-01-22'):\n",
    "    dropCols = ['Province/State', 'Country/Region','Lat','Long']\n",
    "    df = df_metric[df_metric['Country/Region'] == country].drop(dropCols,axis=1).T.reset_index()\n",
    "    df.columns = ['Date',metric]\n",
    "    df['Date'] = pd.to_datetime(df.Date).dt.date\n",
    "    \n",
    "    df['EpidemicStartDate'] = df.sort_values(by='Date').loc[df[metric]!=0].Date.iloc[0]\n",
    "    df['DaysElapsed'] = (df.Date - df.EpidemicStartDate).dt.days + 1\n",
    "\n",
    "    return df[['Date','DaysElapsed',metric]].loc[df.Date >= pd.to_datetime(start_date)]\n",
    "\n",
    "def data_split(data, orders, start):\n",
    "    x_train = np.empty((len(data) - start - orders, orders))\n",
    "    y_train = data[start + orders:]\n",
    "\n",
    "    for i in range(len(data) - start - orders):\n",
    "        x_train[i] = data[i + start:start + orders + i]\n",
    "        \n",
    "    return x_train, y_train"
   ]
  },
  {
   "cell_type": "code",
   "execution_count": 3,
   "metadata": {
    "scrolled": true
   },
   "outputs": [],
   "source": [
    "# Read in data from Johns Hopkins CSSE for US\n",
    "confirmed_df = pd.read_csv('https://raw.githubusercontent.com/CSSEGISandData/COVID-19/master/csse_covid_19_data/csse_covid_19_time_series/time_series_covid19_confirmed_global.csv')\n",
    "recovered_df = pd.read_csv('https://raw.githubusercontent.com/CSSEGISandData/COVID-19/master/csse_covid_19_data/csse_covid_19_time_series/time_series_covid19_recovered_global.csv')\n",
    "deaths_df    = pd.read_csv('https://raw.githubusercontent.com/CSSEGISandData/COVID-19/master/csse_covid_19_data/csse_covid_19_time_series/time_series_covid19_deaths_global.csv')\n",
    "\n",
    "start_date   = '2020-03-01'\n",
    "X_cml        = np.array(clean_df(confirmed_df, 'US', 'Confirmed', start_date).Confirmed, dtype=np.float64)\n",
    "recovered    = np.array(clean_df(recovered_df, 'US', 'Recovered', start_date).Recovered, dtype=np.float64)\n",
    "death        = np.array(clean_df(deaths_df,    'US', 'Deaths',    start_date).Deaths,    dtype=np.float64)\n",
    "\n",
    "population   = 329500000"
   ]
  },
  {
   "cell_type": "code",
   "execution_count": 4,
   "metadata": {},
   "outputs": [
    {
     "name": "stdout",
     "output_type": "stream",
     "text": [
      "The latest transmission rate (beta) of SIR model: 0.08286889902200113\n",
      "The latest recovering rate (gamma) of SIR model: 0.009298921693560357\n",
      "The latest basic reproduction number R0: 8.912\n"
     ]
    }
   ],
   "source": [
    "# Preprocessing\n",
    "X = X_cml - recovered - death\n",
    "R = recovered + death\n",
    "\n",
    "n = np.array([population] * len(X), dtype=np.float64)\n",
    "\n",
    "S = n - X - R\n",
    "\n",
    "gamma = np.diff(R) / X[:-1]\n",
    "beta = (np.diff(X) + np.diff(R))/X[:-1]\n",
    "R0 = beta / gamma\n",
    "\n",
    "print(\"The latest transmission rate (beta) of SIR model:\", beta[-1])\n",
    "print(\"The latest recovering rate (gamma) of SIR model:\", gamma[-1])\n",
    "print(\"The latest basic reproduction number R0:\", round(R0[-1],3))"
   ]
  },
  {
   "cell_type": "code",
   "execution_count": null,
   "metadata": {},
   "outputs": [],
   "source": []
  },
  {
   "cell_type": "code",
   "execution_count": 5,
   "metadata": {},
   "outputs": [],
   "source": [
    "from sklearn.neighbors import KNeighborsRegressor as KNN\n",
    "from sklearn.linear_model import Ridge\n",
    "\n",
    "# Orders of the two FIR filters\n",
    "orders_beta = 3\n",
    "orders_gamma = 3\n",
    "\n",
    "# Starting day for the data training\n",
    "start_beta = len(beta) - 21\n",
    "start_gamma = len(beta) - 28\n",
    "\n",
    "# Create a feature set consisting of previous three Y observations as X1, X2, and X3\n",
    "x_beta, y_beta = data_split(beta, orders_beta, start_beta)\n",
    "x_gamma, y_gamma = data_split(gamma, orders_gamma, start_gamma)\n",
    "\n",
    "# Train and test using KNN regression\n",
    "# clf_beta  = KNN(n_neighbors=4, weights='uniform').fit(x_beta, y_beta)\n",
    "# clf_gamma = KNN(n_neighbors=14, weights='uniform').fit(x_gamma, y_gamma)\n",
    "\n",
    "# Train and test using Ridge regression\n",
    "clf_beta  = Ridge(alpha=0.003255, copy_X=True, fit_intercept=False, max_iter=None, normalize=True, random_state=None, solver='auto', tol=1e-08).fit(x_beta, y_beta)\n",
    "clf_gamma = Ridge(alpha=0.001675, copy_X=True, fit_intercept=False, max_iter=None, normalize=True, random_state=None, solver='auto', tol=1e-08).fit(x_gamma, y_gamma)\n",
    "\n",
    "\n",
    "beta_hat = clf_beta.predict(x_beta)\n",
    "gamma_hat = clf_gamma.predict(x_gamma)"
   ]
  },
  {
   "cell_type": "code",
   "execution_count": null,
   "metadata": {},
   "outputs": [],
   "source": [
    "# Plot actual vs. predicted transmission and recovery rates\n",
    "\n",
    "plt.figure(1)\n",
    "plt.plot(beta, 'o-', markerfacecolor='none', label=r'$\\beta (t)$', color='b')\n",
    "plt.plot(np.arange(len(beta)-len(beta_hat), len(beta)), beta_hat, '--', label=r'$\\hat{\\beta}(t)$', color='purple')\n",
    "plt.legend()\n",
    "\n",
    "plt.plot(gamma, 'o-', markerfacecolor='none', label=r'$\\gamma (t)$', color='g')\n",
    "plt.plot(np.arange(len(gamma)-len(gamma_hat), len(gamma)), gamma_hat, '--', label=r'$\\hat{\\gamma}(t)$', color='purple')\n",
    "plt.legend()\n",
    "\n",
    "plt.show()"
   ]
  },
  {
   "cell_type": "markdown",
   "metadata": {},
   "source": [
    "## Time Dependent Discrete SIR Model"
   ]
  },
  {
   "cell_type": "code",
   "execution_count": null,
   "metadata": {},
   "outputs": [],
   "source": [
    "##### Parameters for the Time-dependent SIR model #####\n",
    "stop_X = 0 # stopping criteria\n",
    "stop_day = 120 # maximum iteration days (W in the paper)\n",
    "\n",
    "day_count = 0\n",
    "turning_point = 0\n",
    "\n",
    "S_predict = [S[-1]]\n",
    "X_predict = [X[-1]]\n",
    "R_predict = [R[-1]]\n",
    "\n",
    "predict_beta= beta[-orders_beta:].tolist()\n",
    "predict_gamma = gamma[-orders_gamma:].tolist()\n",
    "\n",
    "while (X_predict[-1] >= stop_X) and (day_count <= stop_day):\n",
    "    if predict_beta[-1] > predict_gamma[-1]:\n",
    "        turning_point += 1\n",
    "    \n",
    "    next_beta = clf_beta.predict(np.asarray([predict_beta[-orders_beta:]]))[0]\n",
    "    next_gamma = clf_gamma.predict(np.asarray([predict_gamma[-orders_gamma:]]))[0]\n",
    "\n",
    "    next_beta = max(next_beta,0)\n",
    "#     next_gamma = max(next_gamma,0)\n",
    "#     next_gamma = max(next_gamma, .01)\n",
    "    next_gamma = max(next_gamma, 1./30)\n",
    "\n",
    "    \n",
    "    predict_beta.append(next_beta)\n",
    "    predict_gamma.append(next_gamma)\n",
    "\n",
    "    next_S = ((-predict_beta[-1] * S_predict[-1] *\n",
    "               X_predict[-1]) / n[-1]) + S_predict[-1]\n",
    "    next_X = ((predict_beta[-1] * S_predict[-1] * X_predict[-1]) /\n",
    "              n[-1]) - (predict_gamma[-1] * X_predict[-1]) + X_predict[-1]\n",
    "    next_R = (predict_gamma[-1] * X_predict[-1]) + R_predict[-1]\n",
    "\n",
    "    S_predict.append(next_S)\n",
    "    X_predict.append(next_X)\n",
    "    R_predict.append(next_R)\n",
    "\n",
    "    day_count += 1"
   ]
  },
  {
   "cell_type": "code",
   "execution_count": null,
   "metadata": {},
   "outputs": [],
   "source": [
    "# Shows progression of predicted reproduction rate (Should be <1 to converge to DFE)\n",
    "r0_predict = pd.DataFrame({'beta':predict_beta, 'gamma':predict_gamma})\n",
    "r0_predict['r0'] = r0_pred.beta / r0_pred.gamma\n",
    "r0_predict.head()"
   ]
  },
  {
   "cell_type": "code",
   "execution_count": null,
   "metadata": {},
   "outputs": [],
   "source": [
    "# Plot projected transmission and recovery rates\n",
    "\n",
    "plt.figure(2)\n",
    "\n",
    "plt.plot(r0_predict.beta, '--', markerfacecolor='none', label=r'$\\beta (t)$', color='b')\n",
    "plt.plot(r0_predict.gamma, '--', markerfacecolor='none', label=r'$\\gamma (t)$', color='g')\n",
    "plt.plot(r0_predict.r0, '--', markerfacecolor='none', label=r'$R_0 (t)$', color='purple')\n",
    "\n",
    "plt.ylim(top=1, bottom=-.1)\n",
    "plt.legend()\n",
    "plt.show()"
   ]
  },
  {
   "cell_type": "code",
   "execution_count": null,
   "metadata": {},
   "outputs": [],
   "source": [
    "# Print Highlight Predictions from Model \n",
    "print('\\nConfirmed cases tomorrow:', np.rint(X_predict[1] + R_predict[1]))\n",
    "print('Infected persons tomorrow:', np.rint(X_predict[1]))\n",
    "print('Recovered + Dead persons tomorrow:', np.rint(R_predict[1]))\n",
    "\n",
    "print('\\nEnd day:', day_count)\n",
    "print('Confirmed cases on the end day:', np.rint(X_predict[-2] + R_predict[-2]))\n",
    "\n",
    "print('\\nTurning point:', turning_point)"
   ]
  },
  {
   "cell_type": "code",
   "execution_count": null,
   "metadata": {
    "scrolled": false
   },
   "outputs": [],
   "source": [
    "# Plot the time evolution of the time-dependent SIR model \n",
    "# plt.figure(3)\n",
    "\n",
    "# plt.plot(range(len(S) - 1, len(S) - 1 + len(S_predict)), S_predict, '--', label=r'$\\hat{S}(t)$', color='purple')\n",
    "plt.plot(range(len(X) - 1, len(X) - 1 + len(X_predict)), X_predict, '--', label=r'$\\hat{I}(t)$', color='b')\n",
    "plt.plot(range(len(R) - 1, len(R) - 1 + len(R_predict)), R_predict, '--', label=r'$\\hat{R}(t)$', color='g')\n",
    "\n",
    "# plt.plot(range(len(S)), S, '-',  label=r'$S(t)$', markerfacecolor = 'none', color='purple')\n",
    "plt.plot(range(len(X)), X, 'o-', label=r'$I(t)$', markerfacecolor = 'none', color='b')\n",
    "plt.plot(range(len(R)), R, 'o-', label=r'$R(t)$', markerfacecolor = 'none', color='g')\n",
    "\n",
    "\n",
    "plt.xlabel('Days After {}'.format(start_date))\n",
    "plt.ylabel('Cases')\n",
    "plt.title('Time evolution of the time-dependent SIR model')\n",
    "plt.legend()\n",
    "\n",
    "plt.show()"
   ]
  },
  {
   "cell_type": "code",
   "execution_count": null,
   "metadata": {},
   "outputs": [],
   "source": []
  },
  {
   "cell_type": "code",
   "execution_count": null,
   "metadata": {},
   "outputs": [],
   "source": []
  }
 ],
 "metadata": {
  "kernelspec": {
   "display_name": "Python 3",
   "language": "python",
   "name": "python3"
  },
  "language_info": {
   "codemirror_mode": {
    "name": "ipython",
    "version": 3
   },
   "file_extension": ".py",
   "mimetype": "text/x-python",
   "name": "python",
   "nbconvert_exporter": "python",
   "pygments_lexer": "ipython3",
   "version": "3.7.2"
  }
 },
 "nbformat": 4,
 "nbformat_minor": 4
}
